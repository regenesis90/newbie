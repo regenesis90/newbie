{
 "cells": [
  {
   "cell_type": "code",
   "execution_count": 1,
   "metadata": {
    "scrolled": true
   },
   "outputs": [
    {
     "name": "stdout",
     "output_type": "stream",
     "text": [
      "덧셈 : 35+2=37\n",
      "뺄셈 : 35-2=33\n",
      "곱셈 : 35*2=70\n",
      "나눗셈 : 35/2=17.5\n",
      "35를 2로 나눈 몫 : 35//2=17\n",
      "35를 2로 나눈 나머지 : 35%2=1\n",
      "35의 2제곱 : 35**2=1225\n"
     ]
    }
   ],
   "source": [
    "x=35\n",
    "y=2\n",
    "print(f'덧셈 : {x}+{y}={x+y}')\n",
    "print(f'뺄셈 : {x}-{y}={x-y}')\n",
    "print(f'곱셈 : {x}*{y}={x*y}')\n",
    "print(f'나눗셈 : {x}/{y}={x/y}')\n",
    "print(f'{x}를 {y}로 나눈 몫 : {x}//{y}={x//y}')\n",
    "print(f'{x}를 {y}로 나눈 나머지 : {x}%{y}={x%y}')\n",
    "print(f'{x}의 {y}제곱 : {x}**{y}={x**y}')"
   ]
  },
  {
   "cell_type": "code",
   "execution_count": 2,
   "metadata": {},
   "outputs": [
    {
     "name": "stdout",
     "output_type": "stream",
     "text": [
      "35=2 is False\n",
      "35!=2 is True\n",
      "35>2 is True\n",
      "35<2 is False\n",
      "35>=2 is True\n",
      "35<=2 is False\n",
      "35 is 2 is False\n",
      "35 is not 2 is True\n"
     ]
    }
   ],
   "source": [
    "print(f'{x}={y} is {x==y}')\n",
    "print(f'{x}!={y} is {x!=y}')\n",
    "print(f'{x}>{y} is {x>y}')\n",
    "print(f'{x}<{y} is {x<y}')\n",
    "print(f'{x}>={y} is {x>=y}')\n",
    "print(f'{x}<={y} is {x<=y}')\n",
    "print(f'{x} is {y} is {x is y}')\n",
    "print(f'{x} is not {y} is {x is not y}')"
   ]
  },
  {
   "cell_type": "code",
   "execution_count": 4,
   "metadata": {},
   "outputs": [
    {
     "name": "stdout",
     "output_type": "stream",
     "text": [
      "숫자를 입력해 주세요>100\n",
      "Big\n"
     ]
    }
   ],
   "source": [
    "x=int(input('숫자를 입력해 주세요>'))\n",
    "if x<10:\n",
    "    print('Small')\n",
    "elif x<100:\n",
    "    print('Middle')\n",
    "else:\n",
    "    print('Big')"
   ]
  },
  {
   "cell_type": "code",
   "execution_count": 5,
   "metadata": {},
   "outputs": [
    {
     "name": "stdout",
     "output_type": "stream",
     "text": [
      "숫자입력:1000\n",
      "x is bigger that 10 or same with 10, positive\n"
     ]
    }
   ],
   "source": [
    "x=int(input('숫자입력:'))\n",
    "if 0<x:\n",
    "    if x<10:\n",
    "        print('x is smaller than 10, positive')\n",
    "    else:\n",
    "        print('x is bigger that 10 or same with 10, positive')\n",
    "else: \n",
    "    print('negative')"
   ]
  },
  {
   "cell_type": "code",
   "execution_count": 8,
   "metadata": {},
   "outputs": [
    {
     "name": "stdout",
     "output_type": "stream",
     "text": [
      "a,b,c 중 하나 입력:d\n",
      "잘못 입력하셨습니다. 프로그램 종료.\n"
     ]
    }
   ],
   "source": [
    "choice=input('a,b,c 중 하나 입력:')\n",
    "if choice=='a':\n",
    "    print('땡!')\n",
    "elif choice=='b':\n",
    "    print('딩동댕!')\n",
    "elif choice=='c':\n",
    "    print('땡땡!')\n",
    "else:\n",
    "    print('잘못 입력하셨습니다. 프로그램 종료.')"
   ]
  },
  {
   "cell_type": "code",
   "execution_count": 11,
   "metadata": {},
   "outputs": [
    {
     "name": "stdout",
     "output_type": "stream",
     "text": [
      "Enter Fahrenheit Temperature:30\n",
      "-1.1111111111111112\n"
     ]
    }
   ],
   "source": [
    "inp=input('Enter Fahrenheit Temperature:')\n",
    "fahr=float(inp)\n",
    "cel=(fahr-32.0)*5.0/9.0\n",
    "print(cel)\n",
    "# 만약 inp에 잘못된 값(숫자가 아닌 문자 등)을 넣으면 멈춘다."
   ]
  },
  {
   "cell_type": "code",
   "execution_count": 13,
   "metadata": {},
   "outputs": [
    {
     "name": "stdout",
     "output_type": "stream",
     "text": [
      "Enter Fahrenheit Temperature:나무\n",
      "Please enter a number\n",
      "Enter Fahrenheit Temperature:ㅇㅇ\n"
     ]
    }
   ],
   "source": [
    "inp=input('Enter Fahrenheit Temperature:')\n",
    "try:\n",
    "    fahr=float(inp)\n",
    "    cel=(fahr-32.0)*5.0/9.0\n",
    "    print(cel)\n",
    "except:\n",
    "    print('Please enter a number')"
   ]
  },
  {
   "cell_type": "code",
   "execution_count": 17,
   "metadata": {},
   "outputs": [
    {
     "name": "stdout",
     "output_type": "stream",
     "text": [
      "5\n"
     ]
    }
   ],
   "source": [
    "#len()은 문자 타입에만 사용 가능. 'int' 타입은 len이 없다.\n",
    "string='카시오페아'\n",
    "print(len(string)) #문자열 string 길이 "
   ]
  },
  {
   "cell_type": "code",
   "execution_count": 20,
   "metadata": {},
   "outputs": [
    {
     "name": "stdout",
     "output_type": "stream",
     "text": [
      "signal power를 입력해주세요: 가\n",
      "signal power, noise power에는 숫자를 입력해 주셔야 합니다.\n"
     ]
    }
   ],
   "source": [
    "#수학 모듈 임포트\n",
    "import math\n",
    "try:\n",
    "    signal_power=int(input('signal power를 입력해주세요: '))\n",
    "    noise_power=int(input('noise power를 입력해주세요:'))\n",
    "    ratio=signal_power/noise_power\n",
    "    decibels=10*math.log10(ratio)\n",
    "    print(f'ratio={ratio}')\n",
    "    print(f'decibels={decibels}')\n",
    "except:\n",
    "    print('signal power, noise power에는 숫자를 입력해 주셔야 합니다.')"
   ]
  },
  {
   "cell_type": "code",
   "execution_count": 24,
   "metadata": {},
   "outputs": [
    {
     "name": "stdout",
     "output_type": "stream",
     "text": [
      "3.1622776601683795\n"
     ]
    }
   ],
   "source": [
    "math.pi # math 모듈이 가지고 있는 pi 근사값. 소수점 아래 15자리까지 표현\n",
    "x=10\n",
    "print(math.sqrt(x)) #x의 제곱근 출력"
   ]
  },
  {
   "cell_type": "code",
   "execution_count": 27,
   "metadata": {},
   "outputs": [
    {
     "name": "stdout",
     "output_type": "stream",
     "text": [
      "각도를 입력해 주세요(degree):200\n",
      "degrees=200.0 degree\n",
      "radians=3.490658503988659 rad\n",
      "sin(degrees)=-0.34202014332566866\n"
     ]
    }
   ],
   "source": [
    "degrees=float(input('각도를 입력해 주세요(degree):'))\n",
    "radians=degrees/360.0*2*math.pi\n",
    "print(f'degrees={degrees} degree')\n",
    "print(f'radians={radians} rad')\n",
    "print(f'sin(degrees)={math.sin(radians)}')"
   ]
  },
  {
   "cell_type": "code",
   "execution_count": 28,
   "metadata": {},
   "outputs": [
    {
     "name": "stdout",
     "output_type": "stream",
     "text": [
      "0.24204359505489248\n",
      "0.6037546953055719\n",
      "0.45194372315337805\n",
      "0.10473547824492158\n",
      "0.1831015135731493\n",
      "0.3688820489256749\n",
      "0.522965110106985\n",
      "0.41943868777966764\n",
      "0.18753479632118197\n",
      "0.7475730394481362\n"
     ]
    }
   ],
   "source": [
    "# random 무작위 숫자 추출 모듈\n",
    "import random\n",
    "# random.random() : 무작위 숫자(소숫점 포함) 생성\n",
    "# 0.0 이상 1.0 미만 무작위 수 10개 생성\n",
    "for i in range(10):\n",
    "    x=random.random()\n",
    "    print(x)"
   ]
  },
  {
   "cell_type": "code",
   "execution_count": null,
   "metadata": {},
   "outputs": [],
   "source": []
  },
  {
   "cell_type": "code",
   "execution_count": 33,
   "metadata": {},
   "outputs": [
    {
     "data": {
      "text/plain": [
       "10"
      ]
     },
     "execution_count": 33,
     "metadata": {},
     "output_type": "execute_result"
    }
   ],
   "source": [
    "# random.randit() : 무작위 정수 반환\n",
    "# random.randit(low, high) : low이상 high이하 무작위 정수 반환\n",
    "random.randint(5,10)"
   ]
  },
  {
   "cell_type": "code",
   "execution_count": 35,
   "metadata": {},
   "outputs": [
    {
     "data": {
      "text/plain": [
       "2"
      ]
     },
     "execution_count": 35,
     "metadata": {},
     "output_type": "execute_result"
    }
   ],
   "source": [
    "# random.choice() : 정해진 범주의 여러 수 중 임의로 하나를 선택\n",
    "t=[1,2,3]\n",
    "random.choice(t) "
   ]
  },
  {
   "cell_type": "markdown",
   "metadata": {},
   "source": [
    "# def : 함수 정의, 새로운 함수 만들기\n",
    "\n",
    "함수 정의(function definition) : 새 함수 이름, 함수 호출 시 실행할 명령문으로 구성됨\n",
    "`def 함수이름():`"
   ]
  },
  {
   "cell_type": "code",
   "execution_count": 36,
   "metadata": {},
   "outputs": [],
   "source": [
    "def print_lyrics(): # 빈 괄호 : 어떤 인수도 필요로 하지 않는다.\n",
    "    print(\"My name is Sara.\")\n",
    "    print(\"That mountain is Sara Mountain\")"
   ]
  },
  {
   "cell_type": "code",
   "execution_count": 37,
   "metadata": {},
   "outputs": [
    {
     "name": "stdout",
     "output_type": "stream",
     "text": [
      "My name is Sara.\n",
      "That mountain is Sara Mountain\n"
     ]
    }
   ],
   "source": [
    "print_lyrics()"
   ]
  },
  {
   "cell_type": "code",
   "execution_count": 38,
   "metadata": {},
   "outputs": [],
   "source": [
    "#교통계획평가 : 소비자 잉여 계산\n",
    "# q1 : 개선 전 통행량, q2 : 개선 후 통행량\n",
    "# c1 : 개선 전 비용, c2 : 개선 후 비용\n",
    "def consumers_surplus(q1,q2,c1,c2):\n",
    "    print(1/2*(q1+q2)*(c1-c2))"
   ]
  },
  {
   "cell_type": "code",
   "execution_count": 39,
   "metadata": {},
   "outputs": [
    {
     "name": "stdout",
     "output_type": "stream",
     "text": [
      "7500.0\n"
     ]
    }
   ],
   "source": [
    "# comsumers_surplus()로 소비자 잉여 계산하기\n",
    "consumers_surplus(100,200,80,30)"
   ]
  },
  {
   "cell_type": "code",
   "execution_count": 40,
   "metadata": {},
   "outputs": [
    {
     "name": "stdout",
     "output_type": "stream",
     "text": [
      "<function consumers_surplus at 0x0000020DB4F63430>\n"
     ]
    }
   ],
   "source": [
    "# function 타입의 함수 객체 consumers_surplus가 생성되었음.\n",
    "# 한번 정의한 함수는 다른 함수 내부에서도 이 함수를 호출할 수 있어\n",
    "# 복합적 호출, 복합적 사용도 가능하게 된다.\n",
    "print(consumers_surplus)"
   ]
  },
  {
   "cell_type": "markdown",
   "metadata": {},
   "source": [
    "# iteration : While"
   ]
  },
  {
   "cell_type": "code",
   "execution_count": 41,
   "metadata": {},
   "outputs": [
    {
     "name": "stdout",
     "output_type": "stream",
     "text": [
      "5\n",
      "4\n",
      "3\n",
      "2\n",
      "1\n",
      "Blasoff!\n"
     ]
    }
   ],
   "source": [
    "n=5\n",
    "while n>0: #~n>0일 때까지.\n",
    "    print(n)\n",
    "    n=n-1 #n=0이 되면 종료\n",
    "print('Blasoff!') #n=0으로 위 while문 종료 후 출력"
   ]
  },
  {
   "cell_type": "code",
   "execution_count": 42,
   "metadata": {},
   "outputs": [
    {
     "name": "stdout",
     "output_type": "stream",
     "text": [
      "이름을 입력해주세요1:Asteria\n",
      "이름을 입력해주세요2:Nostelgia\n",
      "이름을 입력해주세요3:Cranya\n",
      "Happy New Year! Asteria\n",
      "Happy New Year! Nostelgia\n",
      "Happy New Year! Cranya\n",
      "Done!\n"
     ]
    }
   ],
   "source": [
    "friends=[input('이름을 입력해주세요1:'), input('이름을 입력해주세요2:'), input('이름을 입력해주세요3:')]\n",
    "for friend in friends:\n",
    "    print(f'Happy New Year! {friend}')\n",
    "print('Done!')"
   ]
  },
  {
   "cell_type": "code",
   "execution_count": 43,
   "metadata": {},
   "outputs": [
    {
     "name": "stdout",
     "output_type": "stream",
     "text": [
      "Total:117\n"
     ]
    }
   ],
   "source": [
    "total=0\n",
    "for itervar in [3,4,2,12,84,12]:\n",
    "    total=total+itervar\n",
    "print(f'Total:{total}')"
   ]
  },
  {
   "cell_type": "code",
   "execution_count": 47,
   "metadata": {},
   "outputs": [
    {
     "name": "stdout",
     "output_type": "stream",
     "text": [
      "Before:None\n",
      "Loop:20,20\n",
      "Loop:301,301\n",
      "Loop:3024,3024\n",
      "Loop:14328903,14328903\n",
      "Loop:39393,14328903\n",
      "Loop:2342341,14328903\n",
      "Largest: 14328903\n"
     ]
    }
   ],
   "source": [
    "largest=None\n",
    "print(f'Before:{largest}')\n",
    "for itervar in [20,301,3024,14328903,39393,2342341]:\n",
    "      if largest is None or itervar>largest:\n",
    "          largest=itervar\n",
    "      print(f'Loop:{itervar},{largest}')\n",
    "print(f'Largest: {largest}')"
   ]
  },
  {
   "cell_type": "code",
   "execution_count": 48,
   "metadata": {},
   "outputs": [
    {
     "name": "stdout",
     "output_type": "stream",
     "text": [
      "Before:None\n",
      "Loop:3,3\n",
      "Loop:41,3\n",
      "Loop:12,3\n",
      "Loop:9,3\n",
      "Loop:74,3\n",
      "Loop:15,3\n",
      "Smallest:3\n"
     ]
    }
   ],
   "source": [
    "smallest=None\n",
    "print(f'Before:{smallest}')\n",
    "for itervar in [3,41,12,9,74,15]:\n",
    "    if smallest is None or itervar<smallest:\n",
    "        smallest=itervar\n",
    "    print(f'Loop:{itervar},{smallest}')\n",
    "print(f'Smallest:{smallest}')"
   ]
  },
  {
   "cell_type": "markdown",
   "metadata": {},
   "source": [
    "# 내장함수 min()을 간략히 구현한 버전\n",
    "def min(values):\n",
    "    smallest=None\n",
    "    for value in values:\n",
    "        if smallest is None or value<smallest:\n",
    "            smallest=value\n",
    "        return smallest"
   ]
  }
 ],
 "metadata": {
  "kernelspec": {
   "display_name": "Python 3",
   "language": "python",
   "name": "python3"
  },
  "language_info": {
   "codemirror_mode": {
    "name": "ipython",
    "version": 3
   },
   "file_extension": ".py",
   "mimetype": "text/x-python",
   "name": "python",
   "nbconvert_exporter": "python",
   "pygments_lexer": "ipython3",
   "version": "3.8.5"
  }
 },
 "nbformat": 4,
 "nbformat_minor": 4
}
