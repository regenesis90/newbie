{
 "cells": [
  {
   "cell_type": "markdown",
   "metadata": {},
   "source": [
    "# 포맷(format) 연산자 : %\n",
    "* 변수에 저장된 데이터로 문자열의 특정 부분을 대체함\n",
    "* %문자열 : 포맷 연산자로 사용\n",
    "* 숫자%숫자 : 나머지 연산자로 사용\n",
    "* %d : 정수로 포맷됨을 의미"
   ]
  },
  {
   "cell_type": "code",
   "execution_count": 1,
   "metadata": {
    "execution": {
     "iopub.execute_input": "2022-05-10T05:30:19.045108Z",
     "iopub.status.busy": "2022-05-10T05:30:19.045108Z",
     "iopub.status.idle": "2022-05-10T05:30:19.062257Z",
     "shell.execute_reply": "2022-05-10T05:30:19.062257Z",
     "shell.execute_reply.started": "2022-05-10T05:30:19.045108Z"
    },
    "tags": []
   },
   "outputs": [
    {
     "data": {
      "text/plain": [
       "'42'"
      ]
     },
     "execution_count": 1,
     "metadata": {},
     "output_type": "execute_result"
    }
   ],
   "source": [
    "camels = 42\n",
    "\n",
    "'%d'%camels #> %d: 정수, '%d':문자열"
   ]
  },
  {
   "cell_type": "code",
   "execution_count": 2,
   "metadata": {
    "execution": {
     "iopub.execute_input": "2022-05-10T05:30:24.837619Z",
     "iopub.status.busy": "2022-05-10T05:30:24.837619Z",
     "iopub.status.idle": "2022-05-10T05:30:24.848599Z",
     "shell.execute_reply": "2022-05-10T05:30:24.847592Z",
     "shell.execute_reply.started": "2022-05-10T05:30:24.837619Z"
    },
    "tags": []
   },
   "outputs": [
    {
     "data": {
      "text/plain": [
       "'I have spotted 42 camels'"
      ]
     },
     "execution_count": 2,
     "metadata": {},
     "output_type": "execute_result"
    }
   ],
   "source": [
    "camels = 42\n",
    "\n",
    "'I have spotted %d camels' %camels"
   ]
  },
  {
   "cell_type": "code",
   "execution_count": 3,
   "metadata": {
    "execution": {
     "iopub.execute_input": "2022-05-10T05:30:29.717066Z",
     "iopub.status.busy": "2022-05-10T05:30:29.717066Z",
     "iopub.status.idle": "2022-05-10T05:30:29.733007Z",
     "shell.execute_reply": "2022-05-10T05:30:29.732039Z",
     "shell.execute_reply.started": "2022-05-10T05:30:29.717066Z"
    },
    "tags": []
   },
   "outputs": [
    {
     "data": {
      "text/plain": [
       "'In 3 years I have spotted 0.1 camels.'"
      ]
     },
     "execution_count": 3,
     "metadata": {},
     "output_type": "execute_result"
    }
   ],
   "source": [
    "'In %d years I have spotted %g %s.' %(3, 0.1, 'camels') #> 여기서는 반드시 튜플이 사용"
   ]
  },
  {
   "cell_type": "markdown",
   "metadata": {},
   "source": [
    "* 포맷 연산자 문자열에는 반드시 '튜플'이 사용되어야 한다.\n",
    "* 각 포맷 코드(%d, %s, %g...)는 튜플의 원소와 순서대로 매칭\n",
    "*튜플 내의 원소 수는 반드시 문자열 내의 포맷 코드 개수 및 원소 타입과 동일해야 한다."
   ]
  },
  {
   "cell_type": "code",
   "execution_count": 4,
   "metadata": {
    "execution": {
     "iopub.execute_input": "2022-05-10T05:30:31.425571Z",
     "iopub.status.busy": "2022-05-10T05:30:31.425571Z",
     "iopub.status.idle": "2022-05-10T05:30:31.431558Z",
     "shell.execute_reply": "2022-05-10T05:30:31.430558Z",
     "shell.execute_reply.started": "2022-05-10T05:30:31.425571Z"
    },
    "tags": []
   },
   "outputs": [
    {
     "name": "stderr",
     "output_type": "stream",
     "text": [
      "UsageError: Line magic function `%d` not found.\n"
     ]
    }
   ],
   "source": [
    "%d %d %d' %(1,2)\n",
    "#> 오류 : 포맷 코드 개수!=튜플 원소개수"
   ]
  },
  {
   "cell_type": "code",
   "execution_count": 5,
   "metadata": {
    "execution": {
     "iopub.execute_input": "2022-05-10T05:30:35.510684Z",
     "iopub.status.busy": "2022-05-10T05:30:35.510684Z",
     "iopub.status.idle": "2022-05-10T05:30:35.642315Z",
     "shell.execute_reply": "2022-05-10T05:30:35.641383Z",
     "shell.execute_reply.started": "2022-05-10T05:30:35.510684Z"
    },
    "tags": []
   },
   "outputs": [
    {
     "ename": "TypeError",
     "evalue": "%d format: a number is required, not str",
     "output_type": "error",
     "traceback": [
      "\u001b[1;31m---------------------------------------------------------------------------\u001b[0m",
      "\u001b[1;31mTypeError\u001b[0m                                 Traceback (most recent call last)",
      "\u001b[1;32m<ipython-input-5-2e0b56b88e5d>\u001b[0m in \u001b[0;36m<module>\u001b[1;34m\u001b[0m\n\u001b[1;32m----> 1\u001b[1;33m \u001b[1;34m'%d'\u001b[0m \u001b[1;33m%\u001b[0m \u001b[1;34m'dollars'\u001b[0m\u001b[1;33m\u001b[0m\u001b[1;33m\u001b[0m\u001b[0m\n\u001b[0m\u001b[0;32m      2\u001b[0m \u001b[1;31m#> 오류 : 포맷 형태 불일치 : 정수, 문자열\u001b[0m\u001b[1;33m\u001b[0m\u001b[1;33m\u001b[0m\u001b[1;33m\u001b[0m\u001b[0m\n",
      "\u001b[1;31mTypeError\u001b[0m: %d format: a number is required, not str"
     ]
    }
   ],
   "source": [
    "'%d' % 'dollars'\n",
    "#> 오류 : 포맷 형태 불일치 : 정수, 문자열"
   ]
  },
  {
   "cell_type": "code",
   "execution_count": 6,
   "metadata": {
    "execution": {
     "iopub.execute_input": "2022-05-10T05:30:50.276898Z",
     "iopub.status.busy": "2022-05-10T05:30:50.276898Z",
     "iopub.status.idle": "2022-05-10T05:31:08.580976Z",
     "shell.execute_reply": "2022-05-10T05:31:08.580976Z",
     "shell.execute_reply.started": "2022-05-10T05:30:50.276898Z"
    },
    "tags": []
   },
   "outputs": [
    {
     "name": "stdin",
     "output_type": "stream",
     "text": [
      ">  456\n"
     ]
    },
    {
     "name": "stdout",
     "output_type": "stream",
     "text": [
      "456\n"
     ]
    },
    {
     "name": "stdin",
     "output_type": "stream",
     "text": [
      ">  ㅈㅈ\n"
     ]
    },
    {
     "name": "stdout",
     "output_type": "stream",
     "text": [
      "ㅈㅈ\n"
     ]
    },
    {
     "name": "stdin",
     "output_type": "stream",
     "text": [
      ">  > \n"
     ]
    },
    {
     "name": "stdout",
     "output_type": "stream",
     "text": [
      "> \n"
     ]
    },
    {
     "name": "stdin",
     "output_type": "stream",
     "text": [
      ">  done\n"
     ]
    },
    {
     "name": "stdout",
     "output_type": "stream",
     "text": [
      "Done!\n"
     ]
    }
   ],
   "source": [
    "while True:\n",
    "    \n",
    "    line = input('> ') #> 사용자가 그냥 엔터 누르면 오류 발생함\n",
    "    if line[0] == '#':\n",
    "        continue\n",
    "        \n",
    "    if line == 'done':\n",
    "        break\n",
    "        \n",
    "    print(line)\n",
    "    \n",
    "print('Done!')"
   ]
  },
  {
   "cell_type": "code",
   "execution_count": 7,
   "metadata": {
    "execution": {
     "iopub.execute_input": "2022-05-10T05:31:24.774290Z",
     "iopub.status.busy": "2022-05-10T05:31:24.773788Z",
     "iopub.status.idle": "2022-05-10T05:31:33.398267Z",
     "shell.execute_reply": "2022-05-10T05:31:33.398267Z",
     "shell.execute_reply.started": "2022-05-10T05:31:24.773788Z"
    },
    "tags": []
   },
   "outputs": [
    {
     "name": "stdin",
     "output_type": "stream",
     "text": [
      ">  lw\n"
     ]
    },
    {
     "name": "stdout",
     "output_type": "stream",
     "text": [
      "lw\n"
     ]
    },
    {
     "name": "stdin",
     "output_type": "stream",
     "text": [
      ">  done\n"
     ]
    },
    {
     "name": "stdout",
     "output_type": "stream",
     "text": [
      "Done!\n"
     ]
    }
   ],
   "source": [
    "while True:\n",
    "    \n",
    "    line = input('> ')\n",
    "    \n",
    "    if line.startswith('#'): #> .startswish()로, 빈 문자 입력시 False 반환함\n",
    "        continue #> 사용자가 그냥 엔터 누르면 다시 반복됨(continue)\n",
    "    \n",
    "    if line == 'done':\n",
    "        break\n",
    "    \n",
    "    print(line)\n",
    "\n",
    "print('Done!')"
   ]
  },
  {
   "cell_type": "code",
   "execution_count": 8,
   "metadata": {
    "execution": {
     "iopub.execute_input": "2022-05-10T05:31:58.646492Z",
     "iopub.status.busy": "2022-05-10T05:31:58.646492Z",
     "iopub.status.idle": "2022-05-10T05:32:01.250296Z",
     "shell.execute_reply": "2022-05-10T05:32:01.249247Z",
     "shell.execute_reply.started": "2022-05-10T05:31:58.646492Z"
    },
    "tags": []
   },
   "outputs": [
    {
     "name": "stdin",
     "output_type": "stream",
     "text": [
      ">  done\n"
     ]
    },
    {
     "name": "stdout",
     "output_type": "stream",
     "text": [
      "Done!\n"
     ]
    }
   ],
   "source": [
    "while True:\n",
    "    \n",
    "    line = input('> ') #> 사용자가 그냥 엔터 누르면 다시 반복됨(continue)\n",
    "    \n",
    "    if len(line) >> 0 and line[0] == '#':\n",
    "        continue\n",
    "    \n",
    "    if line == 'done':\n",
    "        break\n",
    "    \n",
    "    print(line)\n",
    "\n",
    "print('Done!')"
   ]
  }
 ],
 "metadata": {
  "kernelspec": {
   "display_name": "Python 3",
   "language": "python",
   "name": "python3"
  },
  "language_info": {
   "codemirror_mode": {
    "name": "ipython",
    "version": 3
   },
   "file_extension": ".py",
   "mimetype": "text/x-python",
   "name": "python",
   "nbconvert_exporter": "python",
   "pygments_lexer": "ipython3",
   "version": "3.8.8"
  }
 },
 "nbformat": 4,
 "nbformat_minor": 4
}
