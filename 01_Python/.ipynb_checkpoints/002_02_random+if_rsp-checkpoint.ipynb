{
 "cells": [
  {
   "cell_type": "markdown",
   "metadata": {},
   "source": [
    "# 모듈 호출, 함수 호출\n",
    "* random 모듈 호출 : import random\n",
    "* import ABC : ABC 모듈을 사용하겠다.\n",
    "* ABC.test() : ABC 모듈의 test 함수를 사용하겠다\n",
    "* random.함수이름K() : random 모듈에서 함수K를 사용하겠다\n",
    "\n",
    "## random 모듈 : 유용한 함수들\n",
    "\n",
    "#### random.random()\n",
    "0 이상 1 미만의 \"실수 난수\" 생성\n",
    "\n",
    "#### random.randrange(start, stop, step)\n",
    "start 이상 stop 미만 범위의 \"정수 난수\" 생성\n",
    "\n",
    "#### random.randint(low, high)\n",
    "low 이상 high 이하 범위의 \"정수 난수\" 생성\n",
    "\n",
    "#### random.choice(t)\n",
    "리스트형/튜플 형 t에서 무작위로 하나를 선택"
   ]
  },
  {
   "cell_type": "code",
   "execution_count": 16,
   "metadata": {
    "execution": {
     "iopub.execute_input": "2021-05-09T07:12:23.678640Z",
     "iopub.status.busy": "2021-05-09T07:12:23.678640Z",
     "iopub.status.idle": "2021-05-09T07:12:23.694599Z",
     "shell.execute_reply": "2021-05-09T07:12:23.692612Z",
     "shell.execute_reply.started": "2021-05-09T07:12:23.678640Z"
    },
    "tags": []
   },
   "outputs": [],
   "source": [
    "import random"
   ]
  },
  {
   "cell_type": "code",
   "execution_count": 13,
   "metadata": {
    "execution": {
     "iopub.execute_input": "2021-05-09T07:09:21.766947Z",
     "iopub.status.busy": "2021-05-09T07:09:21.766947Z",
     "iopub.status.idle": "2021-05-09T07:09:21.788892Z",
     "shell.execute_reply": "2021-05-09T07:09:21.787554Z",
     "shell.execute_reply.started": "2021-05-09T07:09:21.766947Z"
    },
    "tags": []
   },
   "outputs": [
    {
     "data": {
      "text/plain": [
       "0.5288022839202985"
      ]
     },
     "execution_count": 13,
     "metadata": {},
     "output_type": "execute_result"
    }
   ],
   "source": [
    "# random.random() : 0이상 1미만의 실수 난수 생성.\n",
    "# 실행할 때마다 출력되는 숫자가 달라진다.\n",
    "random.random()"
   ]
  },
  {
   "cell_type": "code",
   "execution_count": 18,
   "metadata": {
    "execution": {
     "iopub.execute_input": "2021-05-09T07:12:32.313111Z",
     "iopub.status.busy": "2021-05-09T07:12:32.312112Z",
     "iopub.status.idle": "2021-05-09T07:12:32.329073Z",
     "shell.execute_reply": "2021-05-09T07:12:32.327078Z",
     "shell.execute_reply.started": "2021-05-09T07:12:32.313111Z"
    },
    "tags": []
   },
   "outputs": [
    {
     "data": {
      "text/plain": [
       "0.042872794305857664"
      ]
     },
     "execution_count": 18,
     "metadata": {},
     "output_type": "execute_result"
    }
   ],
   "source": [
    "random.random()"
   ]
  },
  {
   "cell_type": "code",
   "execution_count": 11,
   "metadata": {},
   "outputs": [
    {
     "name": "stdout",
     "output_type": "stream",
     "text": [
      "==========가위/바위/보==========\n",
      "[1]가위\n",
      "[2]바위\n",
      "[3]보\n",
      "1,2,3 중 선택하세요: 2\n",
      "user=2\n",
      "computer=1\n",
      "승리\n"
     ]
    }
   ],
   "source": [
    "# 가위바위보 머신\n",
    "print('==========가위/바위/보==========')\n",
    "print('[1]가위')\n",
    "print('[2]바위')\n",
    "print('[3]보')\n",
    "user=int(input('1,2,3 중 선택하세요: ')) # 사용자가 가위,바위,보 중 하나를 출력\n",
    "computer=random.randrange(1,4) #컴퓨터는 정수 1,2,3 중 아무거나 하나를 출력\n",
    "if user in (1,2,3):\n",
    "    print(f'user={user}')\n",
    "    print(f'computer={computer}')\n",
    "    if user-computer==0:\n",
    "        print('무승부')\n",
    "    elif user-computer in(1,-2):\n",
    "        print('승리')\n",
    "    else:\n",
    "        print('패배')\n",
    "else:\n",
    "    print('숫자 1,2,3 중 하나를 입력해 주세요')"
   ]
  },
  {
   "cell_type": "code",
   "execution_count": 2,
   "metadata": {
    "execution": {
     "iopub.execute_input": "2021-05-09T06:42:36.038565Z",
     "iopub.status.busy": "2021-05-09T06:42:36.038565Z",
     "iopub.status.idle": "2021-05-09T06:42:36.047542Z",
     "shell.execute_reply": "2021-05-09T06:42:36.046578Z",
     "shell.execute_reply.started": "2021-05-09T06:42:36.038565Z"
    }
   },
   "outputs": [],
   "source": [
    "res=['Andrea', 'JP', 'NY', 'Claudia', 'Bians', 'Teddy']"
   ]
  },
  {
   "cell_type": "code",
   "execution_count": 11,
   "metadata": {
    "execution": {
     "iopub.execute_input": "2021-05-09T06:43:36.160542Z",
     "iopub.status.busy": "2021-05-09T06:43:36.160542Z",
     "iopub.status.idle": "2021-05-09T06:43:36.177496Z",
     "shell.execute_reply": "2021-05-09T06:43:36.176527Z",
     "shell.execute_reply.started": "2021-05-09T06:43:36.160542Z"
    },
    "tags": []
   },
   "outputs": [
    {
     "name": "stdout",
     "output_type": "stream",
     "text": [
      "['Claudia', 'NY', 'Bians', 'Andrea', 'JP', 'Teddy']\n"
     ]
    }
   ],
   "source": [
    "random.shuffle(res)\n",
    "print(res)"
   ]
  },
  {
   "cell_type": "code",
   "execution_count": 23,
   "metadata": {
    "execution": {
     "iopub.execute_input": "2021-05-09T07:14:52.079080Z",
     "iopub.status.busy": "2021-05-09T07:14:52.079080Z",
     "iopub.status.idle": "2021-05-09T07:14:52.096040Z",
     "shell.execute_reply": "2021-05-09T07:14:52.093048Z",
     "shell.execute_reply.started": "2021-05-09T07:14:52.079080Z"
    },
    "tags": []
   },
   "outputs": [
    {
     "data": {
      "text/plain": [
       "['BPF',\n",
       " 'LOG4',\n",
       " 'NV_MAGICCONST',\n",
       " 'RECIP_BPF',\n",
       " 'Random',\n",
       " 'SG_MAGICCONST',\n",
       " 'SystemRandom',\n",
       " 'TWOPI',\n",
       " '_Sequence',\n",
       " '_Set',\n",
       " '__all__',\n",
       " '__builtins__',\n",
       " '__cached__',\n",
       " '__doc__',\n",
       " '__file__',\n",
       " '__loader__',\n",
       " '__name__',\n",
       " '__package__',\n",
       " '__spec__',\n",
       " '_accumulate',\n",
       " '_acos',\n",
       " '_bisect',\n",
       " '_ceil',\n",
       " '_cos',\n",
       " '_e',\n",
       " '_exp',\n",
       " '_inst',\n",
       " '_log',\n",
       " '_os',\n",
       " '_pi',\n",
       " '_random',\n",
       " '_repeat',\n",
       " '_sha512',\n",
       " '_sin',\n",
       " '_sqrt',\n",
       " '_test',\n",
       " '_test_generator',\n",
       " '_urandom',\n",
       " '_warn',\n",
       " 'betavariate',\n",
       " 'choice',\n",
       " 'choices',\n",
       " 'expovariate',\n",
       " 'gammavariate',\n",
       " 'gauss',\n",
       " 'getrandbits',\n",
       " 'getstate',\n",
       " 'lognormvariate',\n",
       " 'normalvariate',\n",
       " 'paretovariate',\n",
       " 'randint',\n",
       " 'random',\n",
       " 'randrange',\n",
       " 'sample',\n",
       " 'seed',\n",
       " 'setstate',\n",
       " 'shuffle',\n",
       " 'triangular',\n",
       " 'uniform',\n",
       " 'vonmisesvariate',\n",
       " 'weibullvariate']"
      ]
     },
     "execution_count": 23,
     "metadata": {},
     "output_type": "execute_result"
    }
   ],
   "source": [
    "dir(random)"
   ]
  },
  {
   "cell_type": "code",
   "execution_count": 24,
   "metadata": {
    "execution": {
     "iopub.execute_input": "2021-05-09T07:16:17.489625Z",
     "iopub.status.busy": "2021-05-09T07:16:17.489625Z",
     "iopub.status.idle": "2021-05-09T07:16:17.496610Z",
     "shell.execute_reply": "2021-05-09T07:16:17.495609Z",
     "shell.execute_reply.started": "2021-05-09T07:16:17.489625Z"
    },
    "tags": []
   },
   "outputs": [],
   "source": [
    "sample_list=[]\n",
    "for _ in range(20):\n",
    "    x=random.random()\n",
    "    sample_list.append(x)"
   ]
  },
  {
   "cell_type": "code",
   "execution_count": 26,
   "metadata": {
    "execution": {
     "iopub.execute_input": "2021-05-09T07:16:32.276917Z",
     "iopub.status.busy": "2021-05-09T07:16:32.276917Z",
     "iopub.status.idle": "2021-05-09T07:16:32.296869Z",
     "shell.execute_reply": "2021-05-09T07:16:32.294881Z",
     "shell.execute_reply.started": "2021-05-09T07:16:32.276917Z"
    },
    "tags": []
   },
   "outputs": [
    {
     "name": "stdout",
     "output_type": "stream",
     "text": [
      "[0.4474761841252697, 0.8363613238431354, 0.000943696345724554, 0.10447108757510792, 0.22543050023812694, 0.8396385085733287, 0.05875270056032711, 0.8460604625608441, 0.7441504837572964, 0.23723285766336522, 0.8114948058158592, 0.010208360198736832, 0.19142671326909, 0.31358334967987944, 0.5927573376609707, 0.26504346020974345, 0.4005156891779119, 0.615793834744469, 0.6701199090260129, 0.11780903847531898]\n"
     ]
    },
    {
     "data": {
      "text/plain": [
       "20"
      ]
     },
     "execution_count": 26,
     "metadata": {},
     "output_type": "execute_result"
    }
   ],
   "source": [
    "print(sample_list)\n",
    "len(sample_list)"
   ]
  },
  {
   "cell_type": "code",
   "execution_count": 54,
   "metadata": {
    "execution": {
     "iopub.execute_input": "2021-05-09T07:24:37.538486Z",
     "iopub.status.busy": "2021-05-09T07:24:37.536499Z",
     "iopub.status.idle": "2021-05-09T07:24:37.555436Z",
     "shell.execute_reply": "2021-05-09T07:24:37.551446Z",
     "shell.execute_reply.started": "2021-05-09T07:24:37.538486Z"
    },
    "tags": []
   },
   "outputs": [
    {
     "data": {
      "text/plain": [
       "30"
      ]
     },
     "execution_count": 54,
     "metadata": {},
     "output_type": "execute_result"
    }
   ],
   "source": [
    "random.randrange(0, 100, 10)"
   ]
  },
  {
   "cell_type": "code",
   "execution_count": 55,
   "metadata": {
    "execution": {
     "iopub.execute_input": "2021-05-09T07:37:05.158053Z",
     "iopub.status.busy": "2021-05-09T07:37:05.158053Z",
     "iopub.status.idle": "2021-05-09T07:37:05.177004Z",
     "shell.execute_reply": "2021-05-09T07:37:05.176008Z",
     "shell.execute_reply.started": "2021-05-09T07:37:05.158053Z"
    }
   },
   "outputs": [],
   "source": [
    "resid=['Andrea', 'Bians', 'Cleveth', 'Ditrich', 'Ein', 'Flin', 'Geertz', 'Hainz', 'Ivans', 'Jeff']"
   ]
  },
  {
   "cell_type": "code",
   "execution_count": 61,
   "metadata": {
    "execution": {
     "iopub.execute_input": "2021-05-09T07:39:06.099726Z",
     "iopub.status.busy": "2021-05-09T07:39:06.099726Z",
     "iopub.status.idle": "2021-05-09T07:39:06.119673Z",
     "shell.execute_reply": "2021-05-09T07:39:06.118675Z",
     "shell.execute_reply.started": "2021-05-09T07:39:06.099726Z"
    },
    "tags": []
   },
   "outputs": [
    {
     "data": {
      "text/plain": [
       "'Ein'"
      ]
     },
     "execution_count": 61,
     "metadata": {},
     "output_type": "execute_result"
    }
   ],
   "source": [
    "random.choice(resid)"
   ]
  },
  {
   "cell_type": "code",
   "execution_count": 58,
   "metadata": {
    "execution": {
     "iopub.execute_input": "2021-05-09T07:37:59.919878Z",
     "iopub.status.busy": "2021-05-09T07:37:59.918880Z",
     "iopub.status.idle": "2021-05-09T07:37:59.936833Z",
     "shell.execute_reply": "2021-05-09T07:37:59.935839Z",
     "shell.execute_reply.started": "2021-05-09T07:37:59.919878Z"
    }
   },
   "outputs": [],
   "source": [
    "fruits=['Apple', 'Banana', 'Pineapple', 'Melon', 'Orange', 'Lemon', 'Strawberry']"
   ]
  },
  {
   "cell_type": "code",
   "execution_count": 62,
   "metadata": {
    "execution": {
     "iopub.execute_input": "2021-05-09T07:50:16.712111Z",
     "iopub.status.busy": "2021-05-09T07:50:16.712111Z",
     "iopub.status.idle": "2021-05-09T07:50:17.164544Z",
     "shell.execute_reply": "2021-05-09T07:50:17.163547Z",
     "shell.execute_reply.started": "2021-05-09T07:50:16.712111Z"
    }
   },
   "outputs": [],
   "source": [
    "d1={'name':'Andrea', 'height':165, 'Gender':'Female'}"
   ]
  },
  {
   "cell_type": "code",
   "execution_count": 63,
   "metadata": {
    "execution": {
     "iopub.execute_input": "2021-05-09T07:51:05.242144Z",
     "iopub.status.busy": "2021-05-09T07:51:05.241148Z",
     "iopub.status.idle": "2021-05-09T07:51:05.253115Z",
     "shell.execute_reply": "2021-05-09T07:51:05.252118Z",
     "shell.execute_reply.started": "2021-05-09T07:51:05.241148Z"
    }
   },
   "outputs": [],
   "source": [
    "heights_tp=(170, 165, 185, 190, 160, 152, 172, 173, 176)"
   ]
  },
  {
   "cell_type": "code",
   "execution_count": 64,
   "metadata": {
    "execution": {
     "iopub.execute_input": "2021-05-09T07:51:13.612077Z",
     "iopub.status.busy": "2021-05-09T07:51:13.612077Z",
     "iopub.status.idle": "2021-05-09T07:51:13.634021Z",
     "shell.execute_reply": "2021-05-09T07:51:13.631031Z",
     "shell.execute_reply.started": "2021-05-09T07:51:13.612077Z"
    },
    "tags": []
   },
   "outputs": [
    {
     "data": {
      "text/plain": [
       "173"
      ]
     },
     "execution_count": 64,
     "metadata": {},
     "output_type": "execute_result"
    }
   ],
   "source": [
    "random.choice(heights_tp)"
   ]
  },
  {
   "cell_type": "code",
   "execution_count": 59,
   "metadata": {
    "execution": {
     "iopub.execute_input": "2021-05-09T07:38:47.806916Z",
     "iopub.status.busy": "2021-05-09T07:38:47.805919Z",
     "iopub.status.idle": "2021-05-09T07:38:47.828366Z",
     "shell.execute_reply": "2021-05-09T07:38:47.824386Z",
     "shell.execute_reply.started": "2021-05-09T07:38:47.806916Z"
    },
    "tags": []
   },
   "outputs": [],
   "source": [
    "student_fruits=[]\n",
    "for _ in range(20):\n",
    "    x=random.choice(fruits)\n",
    "    student_fruits.append(x)"
   ]
  },
  {
   "cell_type": "code",
   "execution_count": 60,
   "metadata": {
    "execution": {
     "iopub.execute_input": "2021-05-09T07:38:52.917408Z",
     "iopub.status.busy": "2021-05-09T07:38:52.917408Z",
     "iopub.status.idle": "2021-05-09T07:38:52.928886Z",
     "shell.execute_reply": "2021-05-09T07:38:52.927891Z",
     "shell.execute_reply.started": "2021-05-09T07:38:52.917408Z"
    },
    "tags": []
   },
   "outputs": [
    {
     "name": "stdout",
     "output_type": "stream",
     "text": [
      "['Lemon', 'Melon', 'Strawberry', 'Lemon', 'Strawberry', 'Melon', 'Pineapple', 'Melon', 'Strawberry', 'Orange', 'Melon', 'Banana', 'Strawberry', 'Pineapple', 'Apple', 'Orange', 'Banana', 'Banana', 'Lemon', 'Lemon']\n"
     ]
    }
   ],
   "source": [
    "print(student_fruits)"
   ]
  }
 ],
 "metadata": {
  "kernelspec": {
   "display_name": "Python 3",
   "language": "python",
   "name": "python3"
  },
  "language_info": {
   "codemirror_mode": {
    "name": "ipython",
    "version": 3
   },
   "file_extension": ".py",
   "mimetype": "text/x-python",
   "name": "python",
   "nbconvert_exporter": "python",
   "pygments_lexer": "ipython3",
   "version": "3.8.5"
  }
 },
 "nbformat": 4,
 "nbformat_minor": 4
}
