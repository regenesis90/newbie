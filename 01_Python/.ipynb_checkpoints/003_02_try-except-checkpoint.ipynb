{
 "cells": [
  {
   "cell_type": "markdown",
   "metadata": {},
   "source": [
    "# 프로그램 실행 중 오류(error, exception) 발생 시 해결 방법 :\n",
    "\n",
    "* 오류가 발생한 위치와 원인을 파악 : 코드 수정\n",
    "* 오류가 발생해도 프로그램이 계속 실행될 수 있도록 처리 : try-except 구문"
   ]
  },
  {
   "cell_type": "markdown",
   "metadata": {},
   "source": [
    "# try - except\n",
    "\n",
    "```\n",
    "try:\n",
    "    실행할 블록(문장들)\n",
    "except [에러이름[as 별명]]:\n",
    "    에러 발생 시 실행할 블록(문장들)\n",
    "[else:\n",
    "    에러 없이 try 블록이 정상 실생 시 실행할 블록(문장들)]\n",
    "[finally:\n",
    "    try 블록 실행 중, 에러 발생/미발생 여부에 상관없이 항상 실행할 블록(문장들)]\n",
    "```"
   ]
  },
  {
   "cell_type": "markdown",
   "metadata": {},
   "source": [
    "### 문제 1. 양의 정수 n 입력 후, 1~n까지의 정수 합 구하기"
   ]
  },
  {
   "cell_type": "code",
   "execution_count": 6,
   "metadata": {},
   "outputs": [
    {
     "name": "stdout",
     "output_type": "stream",
     "text": [
      "1+2+3+...+n을 구하려고 합니다.\n"
     ]
    },
    {
     "name": "stdin",
     "output_type": "stream",
     "text": [
      "정수n을 입력해 주세요: -1\n"
     ]
    },
    {
     "name": "stdout",
     "output_type": "stream",
     "text": [
      "0\n"
     ]
    }
   ],
   "source": [
    "print('1+2+3+...+n을 구하려고 합니다.')\n",
    "try:\n",
    "    n=int(input('정수n을 입력해 주세요:'))\n",
    "    sum=0\n",
    "    for i in range(1,n+1):\n",
    "        sum+=i\n",
    "    print(sum)\n",
    "except:\n",
    "    print('sum을 계산할 수 없습니다. 양의 정수 n을 입력해 주세요.')"
   ]
  },
  {
   "cell_type": "markdown",
   "metadata": {},
   "source": [
    "### 예시1 : 여러 가지 Error 대처"
   ]
  },
  {
   "cell_type": "code",
   "execution_count": 7,
   "metadata": {},
   "outputs": [
    {
     "name": "stdout",
     "output_type": "stream",
     "text": [
      "0 : 1\n",
      "1 : 2\n",
      "2 : 3\n",
      "IndexError 발생\n"
     ]
    }
   ],
   "source": [
    "try:\n",
    "    numbers=[1,2,3]\n",
    "    for i in range(10):\n",
    "        print(i,':',numbers[i])\n",
    "    print('try 정상 종료')\n",
    "except ValueError: #> try 블록 실행 중, ValueError 발생 시\n",
    "    print('ValueError 발생')\n",
    "except IndexError: #> try 블록 실행 중, IndexError 발생 시\n",
    "    print('IndexError 발생')"
   ]
  },
  {
   "cell_type": "markdown",
   "metadata": {},
   "source": [
    "### 예시 2. 에러에 별명 부여하기"
   ]
  },
  {
   "cell_type": "code",
   "execution_count": 8,
   "metadata": {},
   "outputs": [
    {
     "name": "stdout",
     "output_type": "stream",
     "text": [
      "1\n",
      "2\n",
      "3\n",
      "Error: list index out of range\n",
      "finally 블록 : 오류 발생 여부 상관없이 출력\n"
     ]
    }
   ],
   "source": [
    "try:\n",
    "    numbers=[1,2,3]\n",
    "    for i in range(100):\n",
    "        print(numbers[i])\n",
    "    print('try 정상종료')\n",
    "except IndexError as ie: #> 별명 부여\n",
    "    print('Error:', ie)\n",
    "else:\n",
    "    print('오류가 발생하지 않았음')\n",
    "finally:\n",
    "    print('finally 블록 : 오류 발생 여부 상관없이 출력')"
   ]
  }
 ],
 "metadata": {
  "kernelspec": {
   "display_name": "Python 3",
   "language": "python",
   "name": "python3"
  },
  "language_info": {
   "codemirror_mode": {
    "name": "ipython",
    "version": 3
   },
   "file_extension": ".py",
   "mimetype": "text/x-python",
   "name": "python",
   "nbconvert_exporter": "python",
   "pygments_lexer": "ipython3",
   "version": "3.8.5"
  }
 },
 "nbformat": 4,
 "nbformat_minor": 4
}
