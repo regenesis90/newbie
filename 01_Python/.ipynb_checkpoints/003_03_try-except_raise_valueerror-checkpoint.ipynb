{
 "cells": [
  {
   "cell_type": "markdown",
   "metadata": {},
   "source": [
    "# raise ValueError : 사용자 정의 오류 발생시키는 방법"
   ]
  },
  {
   "cell_type": "code",
   "execution_count": 3,
   "metadata": {},
   "outputs": [
    {
     "name": "stdin",
     "output_type": "stream",
     "text": [
      "나이를 입력해주세요:  돌쇠\n"
     ]
    },
    {
     "name": "stdout",
     "output_type": "stream",
     "text": [
      "invalid literal for int() with base 10: '돌쇠'\n"
     ]
    }
   ],
   "source": [
    "try:\n",
    "    age=int(input('나이를 입력해주세요: '))\n",
    "    if age<0:\n",
    "        raise ValueError('나이는 0이상의 정수여야 합니다.') #> 사용자 정의 에러 표시\n",
    "except ValueError as e:\n",
    "    print(e)\n",
    "else:\n",
    "    print('나이:', age)"
   ]
  },
  {
   "cell_type": "markdown",
   "metadata": {},
   "source": [
    "* 에러 종류 : Python 공식 문서 참조 요망"
   ]
  },
  {
   "cell_type": "markdown",
   "metadata": {},
   "source": [
    "### 문제 1. 키보드로 정수 입력 후, 입력받은 정수의 제곱을 출력 후 종료.\n",
    "### 이 때, 키보드로 입력받은 문자열을 정수로 반환할 수 없다면(에러 발생 시) 정수 입력 때까지 반복하기"
   ]
  },
  {
   "cell_type": "code",
   "execution_count": 7,
   "metadata": {},
   "outputs": [
    {
     "name": "stdin",
     "output_type": "stream",
     "text": [
      "정수를 입력해 주세요: 돌\n"
     ]
    },
    {
     "name": "stdout",
     "output_type": "stream",
     "text": [
      "정수가 아닙니다. invalid literal for int() with base 10: '돌'\n"
     ]
    },
    {
     "name": "stdin",
     "output_type": "stream",
     "text": [
      "정수를 입력해 주세요: 100\n"
     ]
    },
    {
     "name": "stdout",
     "output_type": "stream",
     "text": [
      "10000\n"
     ]
    }
   ],
   "source": [
    "while True:\n",
    "    try:\n",
    "        n=int(input('정수를 입력해 주세요:'))\n",
    "    except ValueError as e:\n",
    "        print('정수가 아닙니다.', e)\n",
    "    else:\n",
    "        print(n**2)\n",
    "        break"
   ]
  },
  {
   "cell_type": "markdown",
   "metadata": {},
   "source": [
    "### 문제 2 : 리스트의 단어 개수를 세는 코드 작성하기\n",
    "* 리스트 names=['Andrea', 'Andrea', 'Yanis', Yanis', 'Yanis', 'NY', 'Cleveth', 'Sara']\n",
    "* 결과 names_counts={'Andrea':2, 'Yanis':3, ...}"
   ]
  },
  {
   "cell_type": "code",
   "execution_count": 9,
   "metadata": {},
   "outputs": [
    {
     "name": "stdout",
     "output_type": "stream",
     "text": [
      "{'Andrea': 3, 'Yanis': 2, 'Cleveth': 1, 'NY': 4}\n"
     ]
    }
   ],
   "source": [
    "names=['Andrea', 'Andrea', 'Andrea', 'Yanis', 'Yanis', 'Cleveth', 'NY', 'NY', 'NY', 'NY']\n",
    "names_counts={}\n",
    "for i in names:\n",
    "    try:\n",
    "        names_counts[i]+=1\n",
    "    except:\n",
    "        names_counts[i]=1\n",
    "print(names_counts)"
   ]
  },
  {
   "cell_type": "code",
   "execution_count": 10,
   "metadata": {},
   "outputs": [
    {
     "name": "stdout",
     "output_type": "stream",
     "text": [
      "{'Andrea': 3, 'Yanis': 2, 'Cleveth': 1, 'NY': 4}\n"
     ]
    }
   ],
   "source": [
    "# 두 번째 솔루션\n",
    "names=['Andrea', 'Andrea', 'Andrea', 'Yanis', 'Yanis', 'Cleveth', 'NY', 'NY', 'NY', 'NY']\n",
    "names_counts={}\n",
    "for i in names:\n",
    "    if i in names_counts:\n",
    "        names_counts[i]+=1\n",
    "    else:\n",
    "        names_counts[i]=1\n",
    "print(names_counts)"
   ]
  }
 ],
 "metadata": {
  "kernelspec": {
   "display_name": "Python 3",
   "language": "python",
   "name": "python3"
  },
  "language_info": {
   "codemirror_mode": {
    "name": "ipython",
    "version": 3
   },
   "file_extension": ".py",
   "mimetype": "text/x-python",
   "name": "python",
   "nbconvert_exporter": "python",
   "pygments_lexer": "ipython3",
   "version": "3.8.5"
  }
 },
 "nbformat": 4,
 "nbformat_minor": 4
}
