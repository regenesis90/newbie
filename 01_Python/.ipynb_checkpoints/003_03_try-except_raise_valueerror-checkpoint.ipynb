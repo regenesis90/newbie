{
 "cells": [
  {
   "cell_type": "markdown",
   "metadata": {},
   "source": [
    "# raise ValueError : 사용자 정의 오류 발생시키는 방법"
   ]
  },
  {
   "cell_type": "code",
   "execution_count": 1,
   "metadata": {
    "execution": {
     "iopub.execute_input": "2022-05-17T04:42:33.689502Z",
     "iopub.status.busy": "2022-05-17T04:42:33.688506Z",
     "iopub.status.idle": "2022-05-17T04:42:35.985395Z",
     "shell.execute_reply": "2022-05-17T04:42:35.984396Z",
     "shell.execute_reply.started": "2022-05-17T04:42:33.688506Z"
    },
    "tags": []
   },
   "outputs": [
    {
     "name": "stdin",
     "output_type": "stream",
     "text": [
      "나이를 입력해주세요:  43\n"
     ]
    },
    {
     "name": "stdout",
     "output_type": "stream",
     "text": [
      "나이: 43\n"
     ]
    }
   ],
   "source": [
    "try:\n",
    "    age = int(input('나이를 입력해주세요: '))\n",
    "    if age < 0:\n",
    "        raise ValueError('나이는 0이상의 정수여야 합니다.') #> 사용자 정의 에러 표시\n",
    "\n",
    "except ValueError as e:\n",
    "    print(e)\n",
    "    \n",
    "else:\n",
    "    print('나이:', age)"
   ]
  },
  {
   "cell_type": "markdown",
   "metadata": {},
   "source": [
    "* 에러 종류 : Python 공식 문서 참조 요망"
   ]
  },
  {
   "cell_type": "markdown",
   "metadata": {},
   "source": [
    "### 문제 1. 키보드로 정수 입력 후, 입력받은 정수의 제곱을 출력 후 종료.\n",
    "### 이 때, 키보드로 입력받은 문자열을 정수로 반환할 수 없다면(에러 발생 시) 정수 입력 때까지 반복하기"
   ]
  },
  {
   "cell_type": "code",
   "execution_count": 2,
   "metadata": {
    "execution": {
     "iopub.execute_input": "2022-05-17T04:42:51.805805Z",
     "iopub.status.busy": "2022-05-17T04:42:51.805805Z",
     "iopub.status.idle": "2022-05-17T04:42:54.579996Z",
     "shell.execute_reply": "2022-05-17T04:42:54.579492Z",
     "shell.execute_reply.started": "2022-05-17T04:42:51.805805Z"
    },
    "tags": []
   },
   "outputs": [
    {
     "name": "stdin",
     "output_type": "stream",
     "text": [
      "정수를 입력해 주세요: 22\n"
     ]
    },
    {
     "name": "stdout",
     "output_type": "stream",
     "text": [
      "484\n"
     ]
    }
   ],
   "source": [
    "while True:\n",
    "    \n",
    "    try:\n",
    "        n = int(input('정수를 입력해 주세요:'))\n",
    "    \n",
    "    except ValueError as e:\n",
    "        print('정수가 아닙니다.', e)\n",
    "    \n",
    "    else:\n",
    "        print(n ** 2)\n",
    "        break"
   ]
  },
  {
   "cell_type": "markdown",
   "metadata": {},
   "source": [
    "### 문제 2 : 리스트의 단어 개수를 세는 코드 작성하기\n",
    "* 리스트 names=['Andrea', 'Andrea', 'Yanis', Yanis', 'Yanis', 'NY', 'Cleveth', 'Sara']\n",
    "* 결과 names_counts={'Andrea':2, 'Yanis':3, ...}"
   ]
  },
  {
   "cell_type": "code",
   "execution_count": 3,
   "metadata": {
    "execution": {
     "iopub.execute_input": "2022-05-17T04:43:12.589538Z",
     "iopub.status.busy": "2022-05-17T04:43:12.588030Z",
     "iopub.status.idle": "2022-05-17T04:43:12.597170Z",
     "shell.execute_reply": "2022-05-17T04:43:12.596169Z",
     "shell.execute_reply.started": "2022-05-17T04:43:12.589538Z"
    },
    "tags": []
   },
   "outputs": [
    {
     "name": "stdout",
     "output_type": "stream",
     "text": [
      "{'Andrea': 3, 'Yanis': 2, 'Cleveth': 1, 'NY': 4}\n"
     ]
    }
   ],
   "source": [
    "names = ['Andrea', 'Andrea', 'Andrea', 'Yanis', 'Yanis', 'Cleveth', 'NY', 'NY', 'NY', 'NY']\n",
    "names_counts = {}\n",
    "\n",
    "for i in names:\n",
    "    \n",
    "    try:\n",
    "        names_counts[i] += 1\n",
    "    \n",
    "    except:\n",
    "        names_counts[i] = 1\n",
    "\n",
    "print(names_counts)"
   ]
  },
  {
   "cell_type": "code",
   "execution_count": 4,
   "metadata": {
    "execution": {
     "iopub.execute_input": "2022-05-17T04:43:27.468413Z",
     "iopub.status.busy": "2022-05-17T04:43:27.468413Z",
     "iopub.status.idle": "2022-05-17T04:43:27.487899Z",
     "shell.execute_reply": "2022-05-17T04:43:27.486900Z",
     "shell.execute_reply.started": "2022-05-17T04:43:27.468413Z"
    },
    "tags": []
   },
   "outputs": [
    {
     "name": "stdout",
     "output_type": "stream",
     "text": [
      "{'Andrea': 3, 'Yanis': 2, 'Cleveth': 1, 'NY': 4}\n"
     ]
    }
   ],
   "source": [
    "# 두 번째 솔루션\n",
    "names = ['Andrea', 'Andrea', 'Andrea', 'Yanis', 'Yanis', 'Cleveth', 'NY', 'NY', 'NY', 'NY']\n",
    "names_counts = {}\n",
    "\n",
    "for i in names:\n",
    "    if i in names_counts:\n",
    "        names_counts[i] += 1\n",
    "    else:\n",
    "        names_counts[i] = 1\n",
    "        \n",
    "print(names_counts)"
   ]
  }
 ],
 "metadata": {
  "kernelspec": {
   "display_name": "Python 3",
   "language": "python",
   "name": "python3"
  },
  "language_info": {
   "codemirror_mode": {
    "name": "ipython",
    "version": 3
   },
   "file_extension": ".py",
   "mimetype": "text/x-python",
   "name": "python",
   "nbconvert_exporter": "python",
   "pygments_lexer": "ipython3",
   "version": "3.8.8"
  }
 },
 "nbformat": 4,
 "nbformat_minor": 4
}
