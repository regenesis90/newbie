{
 "cells": [
  {
   "cell_type": "code",
   "execution_count": 1,
   "metadata": {
    "execution": {
     "iopub.execute_input": "2022-05-17T04:43:35.997713Z",
     "iopub.status.busy": "2022-05-17T04:43:35.996690Z",
     "iopub.status.idle": "2022-05-17T04:43:36.017916Z",
     "shell.execute_reply": "2022-05-17T04:43:36.013930Z",
     "shell.execute_reply.started": "2022-05-17T04:43:35.997713Z"
    },
    "tags": []
   },
   "outputs": [
    {
     "name": "stdout",
     "output_type": "stream",
     "text": [
      "0.5654440866944064\n",
      "0.10121054749091929\n",
      "0.07252339013401221\n",
      "0.8585437743146211\n",
      "0.6895649445657338\n",
      "0.14153196407014723\n",
      "0.026062929649310784\n",
      "0.8371484739666308\n",
      "0.43320247695707836\n",
      "0.6047176692770436\n"
     ]
    }
   ],
   "source": [
    "# random 무작위 숫자 추출 모듈\n",
    "import random\n",
    "# random.random() : 무작위 숫자(소숫점 포함) 생성\n",
    "# 0.0 이상 1.0 미만 무작위 수 10개 생성\n",
    "for i in range(10):\n",
    "    x = random.random()\n",
    "    print(x)"
   ]
  },
  {
   "cell_type": "code",
   "execution_count": 33,
   "metadata": {},
   "outputs": [
    {
     "data": {
      "text/plain": [
       "10"
      ]
     },
     "execution_count": 33,
     "metadata": {},
     "output_type": "execute_result"
    }
   ],
   "source": [
    "# random.randit() : 무작위 정수 반환\n",
    "# random.randit(low, high) : low이상 high이하 무작위 정수 반환\n",
    "random.randint(5, 10)"
   ]
  },
  {
   "cell_type": "code",
   "execution_count": 2,
   "metadata": {
    "execution": {
     "iopub.execute_input": "2022-05-17T04:43:40.599367Z",
     "iopub.status.busy": "2022-05-17T04:43:40.599367Z",
     "iopub.status.idle": "2022-05-17T04:43:40.621645Z",
     "shell.execute_reply": "2022-05-17T04:43:40.620645Z",
     "shell.execute_reply.started": "2022-05-17T04:43:40.599367Z"
    },
    "tags": []
   },
   "outputs": [
    {
     "data": {
      "text/plain": [
       "3"
      ]
     },
     "execution_count": 2,
     "metadata": {},
     "output_type": "execute_result"
    }
   ],
   "source": [
    "# random.choice() : 정해진 범주의 여러 수 중 임의로 하나를 선택\n",
    "t = [1,2,3]\n",
    "random.choice(t) "
   ]
  }
 ],
 "metadata": {
  "kernelspec": {
   "display_name": "Python 3",
   "language": "python",
   "name": "python3"
  },
  "language_info": {
   "codemirror_mode": {
    "name": "ipython",
    "version": 3
   },
   "file_extension": ".py",
   "mimetype": "text/x-python",
   "name": "python",
   "nbconvert_exporter": "python",
   "pygments_lexer": "ipython3",
   "version": "3.8.8"
  }
 },
 "nbformat": 4,
 "nbformat_minor": 4
}
