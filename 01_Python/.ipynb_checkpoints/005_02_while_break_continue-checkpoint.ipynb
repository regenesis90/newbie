{
 "cells": [
  {
   "cell_type": "markdown",
   "metadata": {},
   "source": [
    "# while loop, break, continue"
   ]
  },
  {
   "cell_type": "markdown",
   "metadata": {},
   "source": [
    "### 1. break : break이 포함된 가장 가까운 반복문(break) 종료"
   ]
  },
  {
   "cell_type": "code",
   "execution_count": 1,
   "metadata": {
    "execution": {
     "iopub.execute_input": "2022-05-17T04:46:06.685944Z",
     "iopub.status.busy": "2022-05-17T04:46:06.685944Z",
     "iopub.status.idle": "2022-05-17T04:46:06.703231Z",
     "shell.execute_reply": "2022-05-17T04:46:06.701720Z",
     "shell.execute_reply.started": "2022-05-17T04:46:06.685944Z"
    },
    "tags": []
   },
   "outputs": [
    {
     "name": "stdout",
     "output_type": "stream",
     "text": [
      "1 2 3 4 5 "
     ]
    }
   ],
   "source": [
    "n = 1\n",
    "\n",
    "while n < 10:\n",
    "    print(n, end = ' ')\n",
    "    \n",
    "    if n == 5:\n",
    "        break\n",
    "    n += 1"
   ]
  },
  {
   "cell_type": "markdown",
   "metadata": {},
   "source": [
    "### 2. continue : 다음 iteration 수행"
   ]
  },
  {
   "cell_type": "code",
   "execution_count": 2,
   "metadata": {
    "execution": {
     "iopub.execute_input": "2022-05-17T04:46:33.695448Z",
     "iopub.status.busy": "2022-05-17T04:46:33.695448Z",
     "iopub.status.idle": "2022-05-17T04:46:33.700865Z",
     "shell.execute_reply": "2022-05-17T04:46:33.700865Z",
     "shell.execute_reply.started": "2022-05-17T04:46:33.695448Z"
    },
    "tags": []
   },
   "outputs": [
    {
     "name": "stdout",
     "output_type": "stream",
     "text": [
      "1 2 3 4 5 6 7 8 9 10 "
     ]
    }
   ],
   "source": [
    "n = 1\n",
    "\n",
    "while n <= 10:\n",
    "    print(n, end = ' ')\n",
    "    \n",
    "    if n == 5:\n",
    "        n += 1\n",
    "        continue\n",
    "    \n",
    "    n += 1"
   ]
  },
  {
   "cell_type": "markdown",
   "metadata": {},
   "source": [
    "### 문제 1. 주사위 2개를 던져 나오는 눈의 조합(36가지) 저장 리스트 dice 생성\n",
    "while loop 사용"
   ]
  },
  {
   "cell_type": "code",
   "execution_count": 4,
   "metadata": {
    "execution": {
     "iopub.execute_input": "2022-05-17T04:47:00.384806Z",
     "iopub.status.busy": "2022-05-17T04:47:00.384806Z",
     "iopub.status.idle": "2022-05-17T04:47:00.392451Z",
     "shell.execute_reply": "2022-05-17T04:47:00.391449Z",
     "shell.execute_reply.started": "2022-05-17T04:47:00.384806Z"
    },
    "tags": []
   },
   "outputs": [
    {
     "name": "stdout",
     "output_type": "stream",
     "text": [
      "[(1, 1), (1, 2), (1, 3), (1, 4), (1, 5), (1, 6), (2, 1), (2, 2), (2, 3), (2, 4), (2, 5), (2, 6), (3, 1), (3, 2), (3, 3), (3, 4), (3, 5), (3, 6), (4, 1), (4, 2), (4, 3), (4, 4), (4, 5), (4, 6), (5, 1), (5, 2), (5, 3), (5, 4), (5, 5), (5, 6), (6, 1), (6, 2), (6, 3), (6, 4), (6, 5), (6, 6)]\n"
     ]
    }
   ],
   "source": [
    "dice = []\n",
    "i = 1\n",
    "\n",
    "while i <= 6:\n",
    "    j = 1\n",
    "    \n",
    "    while j <= 6:\n",
    "        dice.append((i,j))\n",
    "        j += 1\n",
    "        \n",
    "    i += 1\n",
    "    \n",
    "print(dice)"
   ]
  },
  {
   "cell_type": "markdown",
   "metadata": {},
   "source": [
    "### 문제 2. 주사위를 두 번 던져, 눈의 합이 10 이상인 결과만을 추출"
   ]
  },
  {
   "cell_type": "code",
   "execution_count": 5,
   "metadata": {
    "execution": {
     "iopub.execute_input": "2022-05-17T04:47:27.557561Z",
     "iopub.status.busy": "2022-05-17T04:47:27.557561Z",
     "iopub.status.idle": "2022-05-17T04:47:27.569070Z",
     "shell.execute_reply": "2022-05-17T04:47:27.568079Z",
     "shell.execute_reply.started": "2022-05-17T04:47:27.557561Z"
    },
    "tags": []
   },
   "outputs": [
    {
     "name": "stdout",
     "output_type": "stream",
     "text": [
      "[(4, 6), (5, 5), (5, 6), (6, 4), (6, 5), (6, 6)]\n"
     ]
    }
   ],
   "source": [
    "dice = []\n",
    "i = 1\n",
    "\n",
    "while i <= 6:\n",
    "    j = 1\n",
    "    while j <= 6:\n",
    "        if i + j >= 10:\n",
    "            dice.append((i,j))\n",
    "            j += 1\n",
    "            \n",
    "        else:\n",
    "            j += 1\n",
    "    i += 1\n",
    "    \n",
    "print(dice)"
   ]
  },
  {
   "cell_type": "markdown",
   "metadata": {},
   "source": [
    "### 문제 3. 1+2+3+4+...+99+100"
   ]
  },
  {
   "cell_type": "code",
   "execution_count": 6,
   "metadata": {
    "execution": {
     "iopub.execute_input": "2022-05-17T04:47:39.231611Z",
     "iopub.status.busy": "2022-05-17T04:47:39.231611Z",
     "iopub.status.idle": "2022-05-17T04:47:39.237628Z",
     "shell.execute_reply": "2022-05-17T04:47:39.237628Z",
     "shell.execute_reply.started": "2022-05-17T04:47:39.231611Z"
    },
    "tags": []
   },
   "outputs": [
    {
     "name": "stdout",
     "output_type": "stream",
     "text": [
      "5050\n"
     ]
    }
   ],
   "source": [
    "x = 1\n",
    "sum = 0\n",
    "\n",
    "while x <= 100:\n",
    "    sum += x\n",
    "    x += 1\n",
    "    \n",
    "print(sum)"
   ]
  },
  {
   "cell_type": "markdown",
   "metadata": {},
   "source": [
    "### 문제 4. 1+4+9+16+...+100"
   ]
  },
  {
   "cell_type": "code",
   "execution_count": 7,
   "metadata": {
    "execution": {
     "iopub.execute_input": "2022-05-17T04:47:56.668013Z",
     "iopub.status.busy": "2022-05-17T04:47:56.668013Z",
     "iopub.status.idle": "2022-05-17T04:47:56.684407Z",
     "shell.execute_reply": "2022-05-17T04:47:56.683411Z",
     "shell.execute_reply.started": "2022-05-17T04:47:56.668013Z"
    },
    "tags": []
   },
   "outputs": [
    {
     "name": "stdout",
     "output_type": "stream",
     "text": [
      "385\n"
     ]
    }
   ],
   "source": [
    "x = 1\n",
    "sum = 0\n",
    "\n",
    "while x <= 10:\n",
    "    sum += (x ** 2)\n",
    "    x += 1\n",
    "    \n",
    "print(sum)"
   ]
  },
  {
   "cell_type": "markdown",
   "metadata": {},
   "source": [
    "### 문제 5. 1+4+9+...+n**2 <=200인 최대 정수 n 구하기"
   ]
  },
  {
   "cell_type": "code",
   "execution_count": 9,
   "metadata": {
    "execution": {
     "iopub.execute_input": "2022-05-17T04:48:24.438123Z",
     "iopub.status.busy": "2022-05-17T04:48:24.438123Z",
     "iopub.status.idle": "2022-05-17T04:48:24.453445Z",
     "shell.execute_reply": "2022-05-17T04:48:24.452447Z",
     "shell.execute_reply.started": "2022-05-17T04:48:24.438123Z"
    },
    "tags": []
   },
   "outputs": [
    {
     "name": "stdout",
     "output_type": "stream",
     "text": [
      "x = 8, sum = 123\n"
     ]
    }
   ],
   "source": [
    "x = 1\n",
    "sum = 0\n",
    "\n",
    "while sum <= 200:\n",
    "    sum += x ** 2\n",
    "    x += 1\n",
    "    \n",
    "print(f'x = {x - 1}, sum = {sum - (x ** 2)}')"
   ]
  },
  {
   "cell_type": "markdown",
   "metadata": {},
   "source": [
    "# 무한루프(infinite loop), break"
   ]
  },
  {
   "cell_type": "markdown",
   "metadata": {},
   "source": [
    "while loop에 break 또는 조건을 넣지 않으면, 무한루프에 빠질 수 있다.\n",
    "while문은 무한루프를 만들기 쉽다."
   ]
  },
  {
   "cell_type": "code",
   "execution_count": 10,
   "metadata": {
    "execution": {
     "iopub.execute_input": "2022-05-17T04:48:42.053345Z",
     "iopub.status.busy": "2022-05-17T04:48:42.052348Z",
     "iopub.status.idle": "2022-05-17T04:48:42.070015Z",
     "shell.execute_reply": "2022-05-17T04:48:42.070015Z",
     "shell.execute_reply.started": "2022-05-17T04:48:42.053345Z"
    },
    "tags": []
   },
   "outputs": [
    {
     "name": "stdout",
     "output_type": "stream",
     "text": [
      "hello\n"
     ]
    }
   ],
   "source": [
    "while True:\n",
    "    \n",
    "    print('hello')\n",
    "    break"
   ]
  }
 ],
 "metadata": {
  "kernelspec": {
   "display_name": "Python 3",
   "language": "python",
   "name": "python3"
  },
  "language_info": {
   "codemirror_mode": {
    "name": "ipython",
    "version": 3
   },
   "file_extension": ".py",
   "mimetype": "text/x-python",
   "name": "python",
   "nbconvert_exporter": "python",
   "pygments_lexer": "ipython3",
   "version": "3.8.8"
  }
 },
 "nbformat": 4,
 "nbformat_minor": 4
}
