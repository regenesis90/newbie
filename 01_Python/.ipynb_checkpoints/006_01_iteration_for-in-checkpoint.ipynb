{
 "cells": [
  {
   "cell_type": "code",
   "execution_count": 42,
   "metadata": {},
   "outputs": [
    {
     "name": "stdout",
     "output_type": "stream",
     "text": [
      "이름을 입력해주세요1:Asteria\n",
      "이름을 입력해주세요2:Nostelgia\n",
      "이름을 입력해주세요3:Cranya\n",
      "Happy New Year! Asteria\n",
      "Happy New Year! Nostelgia\n",
      "Happy New Year! Cranya\n",
      "Done!\n"
     ]
    }
   ],
   "source": [
    "friends=[input('이름을 입력해주세요1:'), input('이름을 입력해주세요2:'), input('이름을 입력해주세요3:')]\n",
    "for friend in friends:\n",
    "    print(f'Happy New Year! {friend}')\n",
    "print('Done!')"
   ]
  },
  {
   "cell_type": "code",
   "execution_count": 43,
   "metadata": {},
   "outputs": [
    {
     "name": "stdout",
     "output_type": "stream",
     "text": [
      "Total:117\n"
     ]
    }
   ],
   "source": [
    "total=0\n",
    "for itervar in [3,4,2,12,84,12]:\n",
    "    total=total+itervar\n",
    "print(f'Total:{total}')"
   ]
  },
  {
   "cell_type": "code",
   "execution_count": 47,
   "metadata": {},
   "outputs": [
    {
     "name": "stdout",
     "output_type": "stream",
     "text": [
      "Before:None\n",
      "Loop:20,20\n",
      "Loop:301,301\n",
      "Loop:3024,3024\n",
      "Loop:14328903,14328903\n",
      "Loop:39393,14328903\n",
      "Loop:2342341,14328903\n",
      "Largest: 14328903\n"
     ]
    }
   ],
   "source": [
    "largest=None\n",
    "print(f'Before:{largest}')\n",
    "for itervar in [20,301,3024,14328903,39393,2342341]:\n",
    "      if largest is None or itervar>largest:\n",
    "          largest=itervar\n",
    "      print(f'Loop:{itervar},{largest}')\n",
    "print(f'Largest: {largest}')"
   ]
  },
  {
   "cell_type": "code",
   "execution_count": 48,
   "metadata": {},
   "outputs": [
    {
     "name": "stdout",
     "output_type": "stream",
     "text": [
      "Before:None\n",
      "Loop:3,3\n",
      "Loop:41,3\n",
      "Loop:12,3\n",
      "Loop:9,3\n",
      "Loop:74,3\n",
      "Loop:15,3\n",
      "Smallest:3\n"
     ]
    }
   ],
   "source": [
    "smallest=None\n",
    "print(f'Before:{smallest}')\n",
    "for itervar in [3,41,12,9,74,15]:\n",
    "    if smallest is None or itervar<smallest:\n",
    "        smallest=itervar\n",
    "    print(f'Loop:{itervar},{smallest}')\n",
    "print(f'Smallest:{smallest}')"
   ]
  },
  {
   "cell_type": "markdown",
   "metadata": {},
   "source": [
    "# 내장함수 min()을 간략히 구현한 버전\n",
    "def min(values):\n",
    "    smallest=None\n",
    "    for value in values:\n",
    "        if smallest is None or value<smallest:\n",
    "            smallest=value\n",
    "        return smallest"
   ]
  },
  {
   "cell_type": "markdown",
   "metadata": {},
   "source": [
    "# 반복문(iteration) For\n",
    "\n",
    "## for 변수 in 반복실행블록\n",
    "\n",
    "* 반복 가능한 데이터 타입(iterable-type) : range, list, tuple, dict, set, str, ..."
   ]
  },
  {
   "cell_type": "code",
   "execution_count": 1,
   "metadata": {},
   "outputs": [
    {
     "name": "stdout",
     "output_type": "stream",
     "text": [
      "H\n",
      "e\n",
      "l\n",
      "l\n",
      "o\n"
     ]
    }
   ],
   "source": [
    "string='Hello'\n",
    "for x in string:\n",
    "    print(x)"
   ]
  },
  {
   "cell_type": "code",
   "execution_count": 2,
   "metadata": {},
   "outputs": [
    {
     "name": "stdout",
     "output_type": "stream",
     "text": [
      "문자를 입력해 주세요:>가쓰오부시는 맛있어\n",
      "가\n",
      "쓰\n",
      "오\n",
      "부\n",
      "시\n",
      "는\n",
      " \n",
      "맛\n",
      "있\n",
      "어\n"
     ]
    }
   ],
   "source": [
    "string=input('문자를 입력해 주세요:>')\n",
    "for x in string:\n",
    "    print(x)"
   ]
  },
  {
   "cell_type": "markdown",
   "metadata": {},
   "source": [
    "#### range(a,b) : a이상 b미만(a,b] 에서 1씩 증가하는 정수들의 범위.\n",
    "#### range(b) : 0으로부터 b미만까지 1씩 증가하는 정수들의 범위\n",
    "#### range(a,b,c) : a이상 b미만까지 c씩 증가하는 정수들의 범위\n",
    "for x in range(1,6) : (1,2,3,4,5) 가 될 것이다."
   ]
  },
  {
   "cell_type": "code",
   "execution_count": 3,
   "metadata": {},
   "outputs": [
    {
     "name": "stdout",
     "output_type": "stream",
     "text": [
      "1\n",
      "4\n",
      "7\n"
     ]
    }
   ],
   "source": [
    "for x in range(1,10,3):\n",
    "    print(x)"
   ]
  },
  {
   "cell_type": "code",
   "execution_count": 4,
   "metadata": {},
   "outputs": [
    {
     "name": "stdout",
     "output_type": "stream",
     "text": [
      "0\n",
      "1\n",
      "2\n",
      "3\n",
      "4\n"
     ]
    }
   ],
   "source": [
    "for x in range(5):\n",
    "    print(x)"
   ]
  },
  {
   "cell_type": "code",
   "execution_count": 7,
   "metadata": {},
   "outputs": [
    {
     "name": "stdout",
     "output_type": "stream",
     "text": [
      "0\n",
      "2\n",
      "4\n",
      "6\n",
      "8\n"
     ]
    }
   ],
   "source": [
    "# 0 이상 10 미만의 짝수들만 출력하기\n",
    "for x in range(0,10):\n",
    "    if x%2==0:\n",
    "        print(x)"
   ]
  },
  {
   "cell_type": "code",
   "execution_count": 8,
   "metadata": {},
   "outputs": [
    {
     "name": "stdout",
     "output_type": "stream",
     "text": [
      "0\n",
      "2\n",
      "4\n",
      "6\n",
      "8\n"
     ]
    }
   ],
   "source": [
    "for x in range(0,5):\n",
    "    print(2*x)"
   ]
  },
  {
   "cell_type": "markdown",
   "metadata": {},
   "source": [
    "## print()의 인수 :\n",
    "\n",
    "#### end='\\n' : 줄바꿈(enter)이 기본값\n",
    "#### sep=' ': 공백(space) 1개가 기본값.\n",
    "* '\\n' : new line. 줄바꿈. 키보드의 Enter.\n",
    "* '\\t' : tabl. 탭. 키보드의 탭. 거리가 일정함\n",
    "* ' ' : space. 공백."
   ]
  },
  {
   "cell_type": "markdown",
   "metadata": {},
   "source": [
    "## 문제1 : 동요 부르기. 아래와 같이 출력되도록 코드 작성\n",
    "1 little 2 little 3 little indian\n",
    "4 little 5 little 6 little indian\n",
    "7 little 8 little 9 little indian\n",
    "10 little indian boys!"
   ]
  },
  {
   "cell_type": "code",
   "execution_count": 12,
   "metadata": {},
   "outputs": [
    {
     "name": "stdout",
     "output_type": "stream",
     "text": [
      "1 little 2 little 3 little \n",
      "4 little 5 little 6 little \n",
      "7 little 8 little 9 little \n",
      "10 little indian boys!\n"
     ]
    }
   ],
   "source": [
    "for x in range(1,11):\n",
    "    print(f'{x} little', end=' ')\n",
    "    if x%3==0:\n",
    "        print()\n",
    "print('indian boys!')"
   ]
  },
  {
   "cell_type": "markdown",
   "metadata": {},
   "source": [
    "## 문제2. 369 게임 출력 코드 작성\n",
    "1 2 * 4 5 * 7 8 * 10\n",
    "11 12 * 14 15 * 17 18 * 20\n",
    "....\n",
    "81 82 * 84 85 * 87 88 * *\n",
    "* * * * * * * * * 100"
   ]
  },
  {
   "cell_type": "code",
   "execution_count": 16,
   "metadata": {},
   "outputs": [
    {
     "name": "stdout",
     "output_type": "stream",
     "text": [
      "1\t2\t*\t4\t5\t*\t7\t8\t*\t10\t\n",
      "11\t12\t*\t14\t15\t*\t17\t18\t*\t20\t\n",
      "21\t22\t*\t24\t25\t*\t27\t28\t*\t*\t\n",
      "*\t*\t*\t*\t*\t*\t*\t*\t*\t40\t\n",
      "41\t42\t*\t44\t45\t*\t47\t48\t*\t50\t\n",
      "51\t52\t*\t54\t55\t*\t57\t58\t*\t*\t\n",
      "*\t*\t*\t*\t*\t*\t*\t*\t*\t70\t\n",
      "71\t72\t*\t74\t75\t*\t77\t78\t*\t80\t\n",
      "81\t82\t*\t84\t85\t*\t87\t88\t*\t*\t\n",
      "*\t*\t*\t*\t*\t*\t*\t*\t*\t100\t\n"
     ]
    }
   ],
   "source": [
    "for x in range(1,101):\n",
    "    if x%10 in (3,6,9) or x//10 in (3,6,9):\n",
    "        print('*', end='\\t')\n",
    "    else:\n",
    "        print(x,  end='\\t')\n",
    "    if x%10==0:\n",
    "        print()"
   ]
  },
  {
   "cell_type": "markdown",
   "metadata": {},
   "source": [
    "## 문제3 : 삼각형 그리기"
   ]
  },
  {
   "cell_type": "code",
   "execution_count": 18,
   "metadata": {},
   "outputs": [
    {
     "name": "stdout",
     "output_type": "stream",
     "text": [
      "*\n",
      "**\n",
      "***\n",
      "****\n",
      "*****\n",
      "****\n",
      "***\n",
      "**\n",
      "*\n"
     ]
    }
   ],
   "source": [
    "for x in range(1,10):\n",
    "    if x<=5:\n",
    "        print('*'*x)\n",
    "    else:\n",
    "        print('*'*(10-x))"
   ]
  },
  {
   "cell_type": "markdown",
   "metadata": {},
   "source": [
    "## 문제4 : 구구단 1~9단 출력\n",
    "2x1=2\n",
    "2x2=4\n",
    "...\n",
    "9x9=81"
   ]
  },
  {
   "cell_type": "code",
   "execution_count": 26,
   "metadata": {},
   "outputs": [
    {
     "name": "stdout",
     "output_type": "stream",
     "text": [
      "2x1=2\t3x1=3\t4x1=4\t5x1=5\t6x1=6\t7x1=7\t8x1=8\t9x1=9\t\n",
      "2x2=4\t3x2=6\t4x2=8\t5x2=10\t6x2=12\t7x2=14\t8x2=16\t9x2=18\t\n",
      "2x3=6\t3x3=9\t4x3=12\t5x3=15\t6x3=18\t7x3=21\t8x3=24\t9x3=27\t\n",
      "2x4=8\t3x4=12\t4x4=16\t5x4=20\t6x4=24\t7x4=28\t8x4=32\t9x4=36\t\n",
      "2x5=10\t3x5=15\t4x5=20\t5x5=25\t6x5=30\t7x5=35\t8x5=40\t9x5=45\t\n",
      "2x6=12\t3x6=18\t4x6=24\t5x6=30\t6x6=36\t7x6=42\t8x6=48\t9x6=54\t\n",
      "2x7=14\t3x7=21\t4x7=28\t5x7=35\t6x7=42\t7x7=49\t8x7=56\t9x7=63\t\n",
      "2x8=16\t3x8=24\t4x8=32\t5x8=40\t6x8=48\t7x8=56\t8x8=64\t9x8=72\t\n",
      "2x9=18\t3x9=27\t4x9=36\t5x9=45\t6x9=54\t7x9=63\t8x9=72\t9x9=81\t\n"
     ]
    }
   ],
   "source": [
    "for x in range(1,10):\n",
    "    for dan in range(2,10):\n",
    "        print(f'{dan}x{x}={dan*x}', end='\\t')\n",
    "    print()"
   ]
  },
  {
   "cell_type": "markdown",
   "metadata": {},
   "source": [
    "## 문제5 : 구구단 1~9단 출력 변형\n",
    "2x1=2 2x2=4\n",
    "3x1=3 3x2=6 3x3=9\n",
    "\n",
    "...\n",
    "9x1=9 9x2=18 .... 9x9=81"
   ]
  },
  {
   "cell_type": "code",
   "execution_count": 29,
   "metadata": {},
   "outputs": [
    {
     "name": "stdout",
     "output_type": "stream",
     "text": [
      "2x1=2\t2x2=4\t\n",
      "3x1=3\t3x2=6\t3x3=9\t\n",
      "4x1=4\t4x2=8\t4x3=12\t4x4=16\t\n",
      "5x1=5\t5x2=10\t5x3=15\t5x4=20\t5x5=25\t\n",
      "6x1=6\t6x2=12\t6x3=18\t6x4=24\t6x5=30\t6x6=36\t\n",
      "7x1=7\t7x2=14\t7x3=21\t7x4=28\t7x5=35\t7x6=42\t7x7=49\t\n",
      "8x1=8\t8x2=16\t8x3=24\t8x4=32\t8x5=40\t8x6=48\t8x7=56\t8x8=64\t\n",
      "9x1=9\t9x2=18\t9x3=27\t9x4=36\t9x5=45\t9x6=54\t9x7=63\t9x8=72\t9x9=81\t\n"
     ]
    }
   ],
   "source": [
    "for dan in range(2,10):\n",
    "    for x in range(1,dan+1):\n",
    "        print(f'{dan}x{x}={dan*x}', end='\\t')\n",
    "    print()"
   ]
  },
  {
   "cell_type": "markdown",
   "metadata": {},
   "source": [
    "# Break, Continue\n",
    "\n",
    "* break : iteration 종료. break이 포함된 가장 가까운 반복문을 빠져나온다.\n",
    "* continue : (반복문 블록 내부 실행문 수행을 멈추고) 다음 iteration을 수행한다."
   ]
  },
  {
   "cell_type": "code",
   "execution_count": 31,
   "metadata": {},
   "outputs": [
    {
     "name": "stdout",
     "output_type": "stream",
     "text": [
      "2x1=2\t2x2=4\t\n",
      "3x1=3\t3x2=6\t3x3=9\t\n",
      "4x1=4\t4x2=8\t4x3=12\t4x4=16\t\n",
      "5x1=5\t5x2=10\t5x3=15\t5x4=20\t5x5=25\t\n",
      "6x1=6\t6x2=12\t6x3=18\t6x4=24\t6x5=30\t6x6=36\t\n",
      "7x1=7\t7x2=14\t7x3=21\t7x4=28\t7x5=35\t7x6=42\t7x7=49\t\n",
      "8x1=8\t8x2=16\t8x3=24\t8x4=32\t8x5=40\t8x6=48\t8x7=56\t8x8=64\t\n",
      "9x1=9\t9x2=18\t9x3=27\t9x4=36\t9x5=45\t9x6=54\t9x7=63\t9x8=72\t9x9=81\t\n"
     ]
    }
   ],
   "source": [
    "for dan in range(2,10):\n",
    "    for x in range(1,10):\n",
    "        print(f'{dan}x{x}={dan*x}', end='\\t')\n",
    "        if dan==x:\n",
    "            break\n",
    "    print()"
   ]
  }
 ],
 "metadata": {
  "kernelspec": {
   "display_name": "Python 3",
   "language": "python",
   "name": "python3"
  },
  "language_info": {
   "codemirror_mode": {
    "name": "ipython",
    "version": 3
   },
   "file_extension": ".py",
   "mimetype": "text/x-python",
   "name": "python",
   "nbconvert_exporter": "python",
   "pygments_lexer": "ipython3",
   "version": "3.8.5"
  }
 },
 "nbformat": 4,
 "nbformat_minor": 4
}
