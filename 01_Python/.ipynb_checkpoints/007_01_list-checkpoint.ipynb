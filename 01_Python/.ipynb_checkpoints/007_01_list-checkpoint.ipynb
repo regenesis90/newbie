{
 "cells": [
  {
   "cell_type": "markdown",
   "metadata": {},
   "source": [
    "# list(리스트)\n",
    "\n",
    "* 리스트 : 여러개의 '값들'을 하나의 변수에 저장\n",
    "* 원소(element) : 리스트의 각 값들\n",
    "* 인덱스(index) : 리스트에 값이 저장된 위치.\n",
    "** 리스트 첫 번째 원소 : 인덱스가 0\n",
    "** 리스트 마지막 원소 : 인덱스 (원소의 개수-1) 또는 (-1)\n",
    "\n",
    "#### 리스트 vs 튜플(tuple)\n",
    "* list는 원소의 변경(추가/삭제) 가능\n",
    "* tuple은 원소 변경(추가/삭제) 불가능\n",
    "\n",
    "#### 리스트 생성 방법 : 대괄호[] 안에 원소를 나열함. 숫자도, 문자도 가능."
   ]
  },
  {
   "cell_type": "code",
   "execution_count": 3,
   "metadata": {
    "execution": {
     "iopub.execute_input": "2022-05-17T05:34:03.131564Z",
     "iopub.status.busy": "2022-05-17T05:34:03.131060Z",
     "iopub.status.idle": "2022-05-17T05:34:03.139635Z",
     "shell.execute_reply": "2022-05-17T05:34:03.138628Z",
     "shell.execute_reply.started": "2022-05-17T05:34:03.131564Z"
    },
    "tags": []
   },
   "outputs": [
    {
     "name": "stdout",
     "output_type": "stream",
     "text": [
      "[1, 2, 3, 4, 5]\n",
      "<class 'list'>\n"
     ]
    }
   ],
   "source": [
    "# 리스트의 생성과 그 데이터 타입 조회하기\n",
    "numbers = [1, 2, 3, 4, 5]\n",
    "\n",
    "print(numbers) #> [1,2,3,4,5]\n",
    "print(type(numbers)) #> class 'list'"
   ]
  },
  {
   "cell_type": "markdown",
   "metadata": {},
   "source": [
    "## 리스트에서 원소(값) 선택하기 : list[index]"
   ]
  },
  {
   "cell_type": "code",
   "execution_count": 2,
   "metadata": {
    "execution": {
     "iopub.execute_input": "2022-05-17T05:33:58.959854Z",
     "iopub.status.busy": "2022-05-17T05:33:58.959854Z",
     "iopub.status.idle": "2022-05-17T05:33:58.968951Z",
     "shell.execute_reply": "2022-05-17T05:33:58.967400Z",
     "shell.execute_reply.started": "2022-05-17T05:33:58.959854Z"
    },
    "tags": []
   },
   "outputs": [
    {
     "name": "stdout",
     "output_type": "stream",
     "text": [
      "numbers = [1, 2, 3, 4, 5]\n",
      "1\n",
      "5\n",
      "5\n"
     ]
    }
   ],
   "source": [
    "numbers = [1, 2, 3, 4, 5]\n",
    "\n",
    "print(f'numbers = {numbers}')\n",
    "print(numbers[0])\n",
    "print(numbers[4])\n",
    "print(numbers[-1])"
   ]
  },
  {
   "cell_type": "markdown",
   "metadata": {},
   "source": [
    "# slicing(슬라이싱) : 리스트/튜플/딕셔너리를 자르기\n",
    "* `list[start:end]` :start 이상 end 미만 범위의 리스트 원소들을 선택하여 잘라내버림\n",
    "* `list[:end]` : 리스트 첫번째 원소부터 end 미만까지 선택하여 잘라내기\n",
    "* `list[start:]` : start 째 원소부터 끝 원소까지 잘라내기\n",
    "* `list[:]` : 모든 원소 출력.\n",
    "* `list[-n:]` : 리스트 끝에서부터 n개 원소 선택"
   ]
  },
  {
   "cell_type": "code",
   "execution_count": 4,
   "metadata": {
    "execution": {
     "iopub.execute_input": "2022-05-17T05:34:51.332892Z",
     "iopub.status.busy": "2022-05-17T05:34:51.332892Z",
     "iopub.status.idle": "2022-05-17T05:34:51.341715Z",
     "shell.execute_reply": "2022-05-17T05:34:51.340717Z",
     "shell.execute_reply.started": "2022-05-17T05:34:51.332892Z"
    },
    "tags": []
   },
   "outputs": [
    {
     "name": "stdout",
     "output_type": "stream",
     "text": [
      "listx[3] = 40\n",
      "listx[3:] = [40, 50]\n",
      "listx[:3] = [10, 20, 30]\n"
     ]
    }
   ],
   "source": [
    "listx = [10, 20, 30, 40, 50]\n",
    "\n",
    "print(f'listx[3] = {listx[3]}') # listx 리스트의 3번째 원소 출력. 값. \n",
    "print(f'listx[3:] = {listx[3:]}') # 리스트 : listx 리스트 인덱스3~끝 원소 \n",
    "print(f'listx[:3] = {listx[:3]}') # 리스트 : listx 리스트 첫째~인덱스3까지 원소"
   ]
  },
  {
   "cell_type": "markdown",
   "metadata": {},
   "source": [
    "# list의 메서드(함수) :각종 기능\n",
    "\n",
    "* `list_name.append(x)` : x를 list_name의 \"가장 마지막 위치\" 원소로 추가\n",
    "    * 항상 '마지막 위치'에 추가하므로, 인덱스 입력할 필요가 없음\n",
    "    * 원본 list 자체가 변경됨\n",
    "* `list_name.insert(i, x)` : i번째 인덱스 위치에 원소  x를 추가\n",
    "    * 원본 list 자체가 변경됨\n",
    "* `len(x)` : 리스트의 경우, 리스트x의 원소 개수를 반환(return)\n",
    "* `list_name.pop(i)` : list_name 리스트의 인덱스i 위치 원소 삭제\n",
    "* `list_name.pop()` : list_name 리스트의 마지막 원소 삭제\n",
    "* `list_name.remove(값t)` : 원소들 중 첫 번째 나오는 값x인 원소 삭제\n",
    "* `list_name.extend(iterable)` :\n",
    "    * iterable 자리에는 값이 1개만 오면 안됨. 꼭 리스트 같은 형식이어야 함. 여러개의 값을 한번에 저장하는 변수가 와야 됨\n",
    "    * iterable 타입 여러개의 원소를 '하나씩' list_name 리스트에 추가함."
   ]
  },
  {
   "cell_type": "code",
   "execution_count": 5,
   "metadata": {
    "execution": {
     "iopub.execute_input": "2022-05-17T05:36:12.067368Z",
     "iopub.status.busy": "2022-05-17T05:36:12.066853Z",
     "iopub.status.idle": "2022-05-17T05:36:12.080615Z",
     "shell.execute_reply": "2022-05-17T05:36:12.080082Z",
     "shell.execute_reply.started": "2022-05-17T05:36:12.067368Z"
    },
    "tags": []
   },
   "outputs": [
    {
     "name": "stdout",
     "output_type": "stream",
     "text": [
      "이전 호빗 목록 : ['Bilbo', 'Frodo']\n",
      "1차 변경: append된 호빗 목록 : ['Bilbo', 'Frodo', 'Mery']\n",
      "2차 변경: insert된 호빗 목록 : ['Bilbo', 'Samwise', 'Frodo', 'Mery']\n",
      "3차 변경: pop()으로 첫 인덱스 원소가 지워진 호빗 목록 : ['Bilbo', 'Samwise', 'Frodo']\n",
      "4차 변경: 인덱스1의 원소가 pop으로 지워진 호빗 목록 : ['Bilbo', 'Frodo']\n",
      "5차 변경: remove()로 원소 중 첫번째 Bilbo가 지워진 호빗 목록 : ['Frodo']\n",
      "6차 변경: extend로 여러 이름을 추가한 호빗 목록 : ['Frodo', 'Bilbo', 'Mery', 'Feregrin', 'Elanor']\n"
     ]
    }
   ],
   "source": [
    "# append VS insert\n",
    "hobit = ['Bilbo', 'Frodo']\n",
    "print(f'이전 호빗 목록 : {hobit}')\n",
    "\n",
    "hobit.append('Mery') #hobit 리스트 마지막에 'Mery' 추가\n",
    "print(f'1차 변경: append된 호빗 목록 : {hobit}')\n",
    "\n",
    "hobit.insert(1,'Samwise') #hobit 리스트 1번 인덱스에 'Samwise' 추가\n",
    "print(f'2차 변경: insert된 호빗 목록 : {hobit}')\n",
    "\n",
    "hobit.pop() #hobit 리스트 마지막 원소 삭제\n",
    "print(f'3차 변경: pop()으로 첫 인덱스 원소가 지워진 호빗 목록 : {hobit}')\n",
    "\n",
    "hobit.pop(1) #hobit 리스트 인덱스1인 원소 삭제\n",
    "print(f'4차 변경: 인덱스1의 원소가 pop으로 지워진 호빗 목록 : {hobit}')\n",
    "\n",
    "hobit.remove('Bilbo') #리스트에서 \"첫 번째\"로 등장하는 'Bilbo' 삭제\n",
    "print(f'5차 변경: remove()로 원소 중 첫번째 Bilbo가 지워진 호빗 목록 : {hobit}')\n",
    "\n",
    "hobit.extend(['Bilbo','Mery','Feregrin','Elanor'])\n",
    "print(f'6차 변경: extend로 여러 이름을 추가한 호빗 목록 : {hobit}')"
   ]
  },
  {
   "cell_type": "markdown",
   "metadata": {},
   "source": [
    "### list('문자열') : \n",
    "* 문자열의 문자를 하나씩 꺼내어, 1글자씩 분리되어 원소로 갖는 리스트로 만들어준다.\n",
    "* 공백(' ')도 원소가 된다."
   ]
  },
  {
   "cell_type": "code",
   "execution_count": 12,
   "metadata": {},
   "outputs": [
    {
     "name": "stdout",
     "output_type": "stream",
     "text": [
      "['B', 'i', 'l', 'b', 'o', ' ', 'B', 'a', 'g', 'g', 'i', 'n', 's', ' ', 'i', 's', ' ', 'H', 'o', 'b', 'i', 't']\n"
     ]
    }
   ],
   "source": [
    "x = list('Bilbo Baggins is Hobit')\n",
    "print(x)"
   ]
  }
 ],
 "metadata": {
  "kernelspec": {
   "display_name": "Python 3",
   "language": "python",
   "name": "python3"
  },
  "language_info": {
   "codemirror_mode": {
    "name": "ipython",
    "version": 3
   },
   "file_extension": ".py",
   "mimetype": "text/x-python",
   "name": "python",
   "nbconvert_exporter": "python",
   "pygments_lexer": "ipython3",
   "version": "3.8.8"
  }
 },
 "nbformat": 4,
 "nbformat_minor": 4
}
