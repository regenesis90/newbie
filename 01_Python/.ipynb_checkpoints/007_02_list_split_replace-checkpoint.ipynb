{
 "cells": [
  {
   "cell_type": "markdown",
   "metadata": {},
   "source": [
    "# .split(), .replace()\n",
    "\n",
    "* `문자열A.split('x')` : x로 문자열A를 쪼개어 만든 원소를 갖는 리스트를 생성\n",
    "* `문자열A.replace('x','y'))` : 문자열A에서 x가 y로 대체"
   ]
  },
  {
   "cell_type": "code",
   "execution_count": 1,
   "metadata": {
    "execution": {
     "iopub.execute_input": "2022-05-17T05:37:09.705473Z",
     "iopub.status.busy": "2022-05-17T05:37:09.704940Z",
     "iopub.status.idle": "2022-05-17T05:37:09.716106Z",
     "shell.execute_reply": "2022-05-17T05:37:09.714595Z",
     "shell.execute_reply.started": "2022-05-17T05:37:09.705473Z"
    },
    "tags": []
   },
   "outputs": [
    {
     "name": "stdout",
     "output_type": "stream",
     "text": [
      "['Ms.Andrea', 'Lloyd']\n",
      "Ms.Andrea-Lloyd\n"
     ]
    }
   ],
   "source": [
    "name = 'Ms.Andrea Lloyd'\n",
    "\n",
    "print(name.split(' '))\n",
    "print(name.replace(' ', '-'))"
   ]
  }
 ],
 "metadata": {
  "kernelspec": {
   "display_name": "Python 3",
   "language": "python",
   "name": "python3"
  },
  "language_info": {
   "codemirror_mode": {
    "name": "ipython",
    "version": 3
   },
   "file_extension": ".py",
   "mimetype": "text/x-python",
   "name": "python",
   "nbconvert_exporter": "python",
   "pygments_lexer": "ipython3",
   "version": "3.8.8"
  }
 },
 "nbformat": 4,
 "nbformat_minor": 4
}
