{
 "cells": [
  {
   "cell_type": "markdown",
   "metadata": {},
   "source": [
    "# enmuerate(list) : list의 인덱스(i)와, 해당 인덱스의 값(x)을 반환\n",
    "\n",
    "* enumerate는 2개의 값을 리턴해 준다. 그것은 인덱스 i와 값 x이다."
   ]
  },
  {
   "cell_type": "code",
   "execution_count": 15,
   "metadata": {},
   "outputs": [
    {
     "name": "stdout",
     "output_type": "stream",
     "text": [
      "0 : 100\n",
      "1 : 20\n",
      "2 : 30\n",
      "3 : 40\n",
      "4 : 499\n"
     ]
    }
   ],
   "source": [
    "tera=[100,20,30,40,499]\n",
    "for i,x in enumerate(tera):\n",
    "    print(i,':',x)"
   ]
  }
 ],
 "metadata": {
  "kernelspec": {
   "display_name": "Python 3",
   "language": "python",
   "name": "python3"
  },
  "language_info": {
   "codemirror_mode": {
    "name": "ipython",
    "version": 3
   },
   "file_extension": ".py",
   "mimetype": "text/x-python",
   "name": "python",
   "nbconvert_exporter": "python",
   "pygments_lexer": "ipython3",
   "version": "3.8.5"
  }
 },
 "nbformat": 4,
 "nbformat_minor": 4
}
