{
 "cells": [
  {
   "cell_type": "markdown",
   "metadata": {},
   "source": [
    "# List Comprehension : 예제를 통한 이해\n",
    "\n",
    "* List Comprehension이 더 좋을 수도 있고, 그냥 간략화하지 않고 풀어쓰는 것이 더 좋을 수도 있다.\n",
    "* 어느 쪽이든 보고 이해해야 하고, 어느 쪽이든 작성할 수 있어야 한다."
   ]
  },
  {
   "cell_type": "markdown",
   "metadata": {},
   "source": [
    "#### list_name=[]  ------- 빈 리스트를 추가한다."
   ]
  },
  {
   "cell_type": "markdown",
   "metadata": {},
   "source": [
    "### 문제1.\n",
    "* 1이상 10이하 정수들을 리스트에 추가\n",
    "* 일반형, List Comprehension형 두 가지를 작성하기"
   ]
  },
  {
   "cell_type": "code",
   "execution_count": 1,
   "metadata": {
    "execution": {
     "iopub.execute_input": "2022-05-17T04:48:54.582510Z",
     "iopub.status.busy": "2022-05-17T04:48:54.581512Z",
     "iopub.status.idle": "2022-05-17T04:48:54.598130Z",
     "shell.execute_reply": "2022-05-17T04:48:54.597162Z",
     "shell.execute_reply.started": "2022-05-17T04:48:54.582510Z"
    },
    "tags": []
   },
   "outputs": [
    {
     "name": "stdout",
     "output_type": "stream",
     "text": [
      "[1, 2, 3, 4, 5, 6, 7, 8, 9, 10]\n"
     ]
    }
   ],
   "source": [
    "# 일반형 for loop\n",
    "numbers = [] #empty list\n",
    "\n",
    "for x in range(1, 11):\n",
    "    numbers.append(x)\n",
    "\n",
    "print(numbers)"
   ]
  },
  {
   "cell_type": "code",
   "execution_count": 2,
   "metadata": {
    "execution": {
     "iopub.execute_input": "2022-05-17T04:49:01.373012Z",
     "iopub.status.busy": "2022-05-17T04:49:01.372015Z",
     "iopub.status.idle": "2022-05-17T04:49:01.377970Z",
     "shell.execute_reply": "2022-05-17T04:49:01.377008Z",
     "shell.execute_reply.started": "2022-05-17T04:49:01.373012Z"
    },
    "tags": []
   },
   "outputs": [
    {
     "name": "stdout",
     "output_type": "stream",
     "text": [
      "[1, 2, 3, 4, 5, 6, 7, 8, 9, 10]\n"
     ]
    }
   ],
   "source": [
    "# List Comprehension 형\n",
    "numbers = [x for x in range(1, 11)]\n",
    "\n",
    "print(numbers)"
   ]
  },
  {
   "cell_type": "markdown",
   "metadata": {},
   "source": [
    "### 문제2.\n",
    "* 1 이상 10 이하 정수들 중 '짝수'들만 리스트에 추가"
   ]
  },
  {
   "cell_type": "code",
   "execution_count": 3,
   "metadata": {
    "execution": {
     "iopub.execute_input": "2022-05-17T04:49:11.205423Z",
     "iopub.status.busy": "2022-05-17T04:49:11.205423Z",
     "iopub.status.idle": "2022-05-17T04:49:11.222279Z",
     "shell.execute_reply": "2022-05-17T04:49:11.221280Z",
     "shell.execute_reply.started": "2022-05-17T04:49:11.205423Z"
    },
    "tags": []
   },
   "outputs": [
    {
     "name": "stdout",
     "output_type": "stream",
     "text": [
      "[2, 4, 6, 8, 10]\n"
     ]
    }
   ],
   "source": [
    "# 일반형\n",
    "numbers = []\n",
    "\n",
    "for x in range(1, 6):\n",
    "    numbers.append(2 * x)\n",
    "\n",
    "print(numbers)"
   ]
  },
  {
   "cell_type": "code",
   "execution_count": 4,
   "metadata": {
    "execution": {
     "iopub.execute_input": "2022-05-17T04:56:12.816566Z",
     "iopub.status.busy": "2022-05-17T04:56:12.815539Z",
     "iopub.status.idle": "2022-05-17T04:56:12.827034Z",
     "shell.execute_reply": "2022-05-17T04:56:12.825998Z",
     "shell.execute_reply.started": "2022-05-17T04:56:12.816566Z"
    },
    "tags": []
   },
   "outputs": [
    {
     "name": "stdout",
     "output_type": "stream",
     "text": [
      "[2, 4, 6, 8, 10]\n"
     ]
    }
   ],
   "source": [
    "# List Comprehension 형\n",
    "numbers = [2 * x for x in range(1, 6)]\n",
    "\n",
    "print(numbers)"
   ]
  },
  {
   "cell_type": "markdown",
   "metadata": {},
   "source": [
    "### 문제3. \n",
    "* 1~10 숫자들의 제곱을 리스트에 추가"
   ]
  },
  {
   "cell_type": "code",
   "execution_count": 5,
   "metadata": {
    "execution": {
     "iopub.execute_input": "2022-05-17T04:56:22.361633Z",
     "iopub.status.busy": "2022-05-17T04:56:22.361633Z",
     "iopub.status.idle": "2022-05-17T04:56:22.377224Z",
     "shell.execute_reply": "2022-05-17T04:56:22.375226Z",
     "shell.execute_reply.started": "2022-05-17T04:56:22.361633Z"
    },
    "tags": []
   },
   "outputs": [
    {
     "name": "stdout",
     "output_type": "stream",
     "text": [
      "[1, 4, 9, 16, 25, 36, 49, 64, 81, 100]\n"
     ]
    }
   ],
   "source": [
    "# 일반형\n",
    "numbers = []\n",
    "\n",
    "for x in range(1, 11):\n",
    "    numbers.append(x ** 2)\n",
    "    \n",
    "print(numbers)"
   ]
  },
  {
   "cell_type": "code",
   "execution_count": 6,
   "metadata": {
    "execution": {
     "iopub.execute_input": "2022-05-17T04:56:30.499941Z",
     "iopub.status.busy": "2022-05-17T04:56:30.498581Z",
     "iopub.status.idle": "2022-05-17T04:56:30.503932Z",
     "shell.execute_reply": "2022-05-17T04:56:30.503932Z",
     "shell.execute_reply.started": "2022-05-17T04:56:30.499941Z"
    },
    "tags": []
   },
   "outputs": [
    {
     "name": "stdout",
     "output_type": "stream",
     "text": [
      "[1, 4, 9, 16, 25, 36, 49, 64, 81, 100]\n"
     ]
    }
   ],
   "source": [
    "# List Comprehension 유형\n",
    "numbers = [x ** 2 for x in range(1, 11)]\n",
    "\n",
    "print(numbers)"
   ]
  },
  {
   "cell_type": "markdown",
   "metadata": {},
   "source": [
    "### 문제4. \n",
    "* 0이상 100이하 범위에서 정수 난수 10개를 리스트에 저장"
   ]
  },
  {
   "cell_type": "code",
   "execution_count": 8,
   "metadata": {
    "execution": {
     "iopub.execute_input": "2022-05-17T04:56:55.620971Z",
     "iopub.status.busy": "2022-05-17T04:56:55.620971Z",
     "iopub.status.idle": "2022-05-17T04:56:55.627776Z",
     "shell.execute_reply": "2022-05-17T04:56:55.625960Z",
     "shell.execute_reply.started": "2022-05-17T04:56:55.620971Z"
    },
    "tags": []
   },
   "outputs": [],
   "source": [
    "# random 모듈 추가, random.seed 맞추기\n",
    "import random\n",
    "random.seed(100)"
   ]
  },
  {
   "cell_type": "code",
   "execution_count": 11,
   "metadata": {},
   "outputs": [
    {
     "name": "stdout",
     "output_type": "stream",
     "text": [
      "[18, 58, 58, 98, 22, 90, 50, 93, 44, 55]\n"
     ]
    }
   ],
   "source": [
    "# 일반형\n",
    "rnumbers = []\n",
    "\n",
    "for x in range(1, 11):\n",
    "    rnumbers.append(random.randrange(0, 101))\n",
    "    \n",
    "print(rnumbers)"
   ]
  },
  {
   "cell_type": "code",
   "execution_count": 9,
   "metadata": {
    "execution": {
     "iopub.execute_input": "2022-05-17T04:56:57.938720Z",
     "iopub.status.busy": "2022-05-17T04:56:57.937694Z",
     "iopub.status.idle": "2022-05-17T04:56:57.953152Z",
     "shell.execute_reply": "2022-05-17T04:56:57.953152Z",
     "shell.execute_reply.started": "2022-05-17T04:56:57.938720Z"
    },
    "tags": []
   },
   "outputs": [
    {
     "name": "stdout",
     "output_type": "stream",
     "text": [
      "[18, 58, 58, 98, 22, 90, 50, 93, 44, 55]\n"
     ]
    }
   ],
   "source": [
    "# List Comprehension 형\n",
    "rnumbers = [random.randrange(0, 101) for _ in range(1, 11)]\n",
    "\n",
    "print(rnumbers)"
   ]
  },
  {
   "cell_type": "markdown",
   "metadata": {},
   "source": [
    "### 문제5.\n",
    "* 1~10까지 정수 중 \"짝수\"만 리스트에 저장"
   ]
  },
  {
   "cell_type": "code",
   "execution_count": 10,
   "metadata": {
    "execution": {
     "iopub.execute_input": "2022-05-17T04:57:07.606034Z",
     "iopub.status.busy": "2022-05-17T04:57:07.606034Z",
     "iopub.status.idle": "2022-05-17T04:57:07.625692Z",
     "shell.execute_reply": "2022-05-17T04:57:07.623694Z",
     "shell.execute_reply.started": "2022-05-17T04:57:07.606034Z"
    },
    "tags": []
   },
   "outputs": [
    {
     "name": "stdout",
     "output_type": "stream",
     "text": [
      "[2, 4, 6, 8, 10]\n"
     ]
    }
   ],
   "source": [
    "# 일반형\n",
    "evens = []\n",
    "\n",
    "for x in range(1, 11):\n",
    "    if x%2 == 0:\n",
    "        evens.append(x)\n",
    "        \n",
    "print(evens)"
   ]
  },
  {
   "cell_type": "code",
   "execution_count": 11,
   "metadata": {
    "execution": {
     "iopub.execute_input": "2022-05-17T04:57:17.549960Z",
     "iopub.status.busy": "2022-05-17T04:57:17.549960Z",
     "iopub.status.idle": "2022-05-17T04:57:17.564670Z",
     "shell.execute_reply": "2022-05-17T04:57:17.563661Z",
     "shell.execute_reply.started": "2022-05-17T04:57:17.549960Z"
    },
    "tags": []
   },
   "outputs": [
    {
     "name": "stdout",
     "output_type": "stream",
     "text": [
      "[2, 4, 6, 8, 10]\n"
     ]
    }
   ],
   "source": [
    "# list comprehension 형\n",
    "evens = [x for x in range(1, 11) if x % 2 == 0]\n",
    "\n",
    "print(evens)"
   ]
  },
  {
   "cell_type": "markdown",
   "metadata": {},
   "source": [
    "### 문제6. \n",
    "* 1~100 사이의 정수 난수 중 \"짝수\"만 10개 리스트에 저장하기"
   ]
  },
  {
   "cell_type": "code",
   "execution_count": 12,
   "metadata": {
    "execution": {
     "iopub.execute_input": "2022-05-17T04:57:33.117462Z",
     "iopub.status.busy": "2022-05-17T04:57:33.117462Z",
     "iopub.status.idle": "2022-05-17T04:57:33.131934Z",
     "shell.execute_reply": "2022-05-17T04:57:33.131934Z",
     "shell.execute_reply.started": "2022-05-17T04:57:33.117462Z"
    },
    "tags": []
   },
   "outputs": [
    {
     "name": "stdout",
     "output_type": "stream",
     "text": [
      "[66, 16, 70, 16, 12, 96, 60, 34, 8, 86]\n"
     ]
    }
   ],
   "source": [
    "# 일반형\n",
    "evens = []\n",
    "\n",
    "for x in range(1, 11):\n",
    "    evens.append(random.randrange(1, 51) * 2)\n",
    "\n",
    "print(evens)"
   ]
  },
  {
   "cell_type": "code",
   "execution_count": 13,
   "metadata": {
    "execution": {
     "iopub.execute_input": "2022-05-17T04:57:43.436430Z",
     "iopub.status.busy": "2022-05-17T04:57:43.436430Z",
     "iopub.status.idle": "2022-05-17T04:57:43.452538Z",
     "shell.execute_reply": "2022-05-17T04:57:43.452538Z",
     "shell.execute_reply.started": "2022-05-17T04:57:43.436430Z"
    },
    "tags": []
   },
   "outputs": [
    {
     "name": "stdout",
     "output_type": "stream",
     "text": [
      "[84, 28, 44, 30, 40, 100, 28, 24, 20, 26]\n"
     ]
    }
   ],
   "source": [
    "#list comprehension 형\n",
    "evens = [2 * random.randrange(1, 51) for _ in range(10)]\n",
    "\n",
    "print(evens)"
   ]
  },
  {
   "cell_type": "markdown",
   "metadata": {},
   "source": [
    "### 문제7.\n",
    "* 1~100 사이 정수 난수 10개를 저장한 리스트 rands 를 만들고, 그 중 짝수만 추출한 리스트도 만들기"
   ]
  },
  {
   "cell_type": "code",
   "execution_count": 14,
   "metadata": {
    "execution": {
     "iopub.execute_input": "2022-05-17T04:58:08.662503Z",
     "iopub.status.busy": "2022-05-17T04:58:08.662503Z",
     "iopub.status.idle": "2022-05-17T04:58:08.673148Z",
     "shell.execute_reply": "2022-05-17T04:58:08.672182Z",
     "shell.execute_reply.started": "2022-05-17T04:58:08.662503Z"
    },
    "tags": []
   },
   "outputs": [
    {
     "name": "stdout",
     "output_type": "stream",
     "text": [
      "rands = [45, 48, 81, 53, 27, 52, 60, 72, 36, 49]\n",
      "randseven = [48, 52, 60, 72, 36]\n"
     ]
    }
   ],
   "source": [
    "# 일반형\n",
    "rands = []\n",
    "\n",
    "for x in range(10):\n",
    "    rands.append(random.randrange(1, 101))\n",
    "\n",
    "print(f'rands = {rands}')\n",
    "\n",
    "randseven = []\n",
    "\n",
    "for k in rands:\n",
    "    if k % 2 == 0:\n",
    "        randseven.append(k)\n",
    "        \n",
    "print(f'randseven = {randseven}')"
   ]
  },
  {
   "cell_type": "code",
   "execution_count": 15,
   "metadata": {
    "execution": {
     "iopub.execute_input": "2022-05-17T04:58:28.991603Z",
     "iopub.status.busy": "2022-05-17T04:58:28.990573Z",
     "iopub.status.idle": "2022-05-17T04:58:29.010950Z",
     "shell.execute_reply": "2022-05-17T04:58:29.009950Z",
     "shell.execute_reply.started": "2022-05-17T04:58:28.991603Z"
    },
    "tags": []
   },
   "outputs": [
    {
     "name": "stdout",
     "output_type": "stream",
     "text": [
      "rands = [21, 84, 82, 16, 24, 1, 78, 51, 19, 73]\n",
      "randseven = [84, 82, 16, 24, 78]\n"
     ]
    }
   ],
   "source": [
    "# list comprehension 형\n",
    "rands = [random.randrange(1, 100) for _ in range(10)]\n",
    "print(f'rands = {rands}')\n",
    "\n",
    "randseven = [x for x in rands if x % 2 == 0]\n",
    "print(f'randseven = {randseven}')"
   ]
  },
  {
   "cell_type": "markdown",
   "metadata": {},
   "source": [
    "### 문제8\n",
    "* 1이상 100이하 10개 난수를 저장한 리스트 rands를 값을 만들고, 짝수면 True / 홀수면 False 저장하는 새 리스트 생성"
   ]
  },
  {
   "cell_type": "code",
   "execution_count": 16,
   "metadata": {
    "execution": {
     "iopub.execute_input": "2022-05-17T04:58:58.816096Z",
     "iopub.status.busy": "2022-05-17T04:58:58.816096Z",
     "iopub.status.idle": "2022-05-17T04:58:58.833512Z",
     "shell.execute_reply": "2022-05-17T04:58:58.832530Z",
     "shell.execute_reply.started": "2022-05-17T04:58:58.816096Z"
    },
    "tags": []
   },
   "outputs": [
    {
     "name": "stdout",
     "output_type": "stream",
     "text": [
      "rands = [21, 25, 22, 4, 86, 31, 58, 82, 50]\n",
      "boolrands = [False, False, True, True, True, False, True, True, True]\n"
     ]
    }
   ],
   "source": [
    "# 일반형\n",
    "rands = []\n",
    "\n",
    "for x in range(1, 10):\n",
    "    rands.append(random.randrange(1, 101))\n",
    "\n",
    "print(f'rands = {rands}')\n",
    "\n",
    "boolrands = []\n",
    "\n",
    "for y in rands:\n",
    "    if y % 2 == 0:\n",
    "        boolrands.append(True)\n",
    "        \n",
    "    else:\n",
    "        boolrands.append(False)\n",
    "\n",
    "print(f'boolrands = {boolrands}')"
   ]
  },
  {
   "cell_type": "code",
   "execution_count": 17,
   "metadata": {
    "execution": {
     "iopub.execute_input": "2022-05-17T04:59:23.005616Z",
     "iopub.status.busy": "2022-05-17T04:59:23.005616Z",
     "iopub.status.idle": "2022-05-17T04:59:23.012262Z",
     "shell.execute_reply": "2022-05-17T04:59:23.011238Z",
     "shell.execute_reply.started": "2022-05-17T04:59:23.005616Z"
    },
    "tags": []
   },
   "outputs": [
    {
     "name": "stdout",
     "output_type": "stream",
     "text": [
      "rands = [17, 80, 71, 97, 7, 78, 32, 92, 80]\n",
      "randseven = [False, True, False, False, False, True, True, True, True]\n"
     ]
    }
   ],
   "source": [
    "# list comprehension 형\n",
    "rands = [random.randrange(1, 101) for _ in range(1, 10)]\n",
    "print(f'rands = {rands}')\n",
    "\n",
    "randseven = [True if x % 2 == 0 else False for x in rands]\n",
    "print(f'randseven = {randseven}')"
   ]
  },
  {
   "cell_type": "markdown",
   "metadata": {},
   "source": [
    "### 문제9\n",
    "* 0,1,2를 무작위로 10개 저장하는 리스트 gender 생성하고,\n",
    "* gender값의 원소가 0이면 male, 1이면 female, 2이면 unknown 저장하는 리스트 gender2 생성"
   ]
  },
  {
   "cell_type": "code",
   "execution_count": 19,
   "metadata": {
    "execution": {
     "iopub.execute_input": "2022-05-17T05:01:34.978308Z",
     "iopub.status.busy": "2022-05-17T05:01:34.978308Z",
     "iopub.status.idle": "2022-05-17T05:01:34.990883Z",
     "shell.execute_reply": "2022-05-17T05:01:34.989882Z",
     "shell.execute_reply.started": "2022-05-17T05:01:34.978308Z"
    },
    "tags": []
   },
   "outputs": [
    {
     "name": "stdout",
     "output_type": "stream",
     "text": [
      "gender = [1, 1, 1, 0, 0, 1, 2, 1, 1, 0]\n",
      "gender2 = ['female', 'female', 'female', 'male', 'male', 'female', 'unknown', 'female', 'female', 'male']\n"
     ]
    }
   ],
   "source": [
    "# 일반형\n",
    "gender = []\n",
    "\n",
    "for x in range(10):\n",
    "    gender.append(random.randrange(0, 3))\n",
    "\n",
    "print(f'gender = {gender}')\n",
    "\n",
    "gender2 = []\n",
    "\n",
    "for y in gender:\n",
    "    if y == 0:\n",
    "        gender2.append('male')\n",
    "    elif y == 1:\n",
    "        gender2.append('female')\n",
    "    else:\n",
    "        gender2.append('unknown')\n",
    "\n",
    "print(f'gender2 = {gender2}')"
   ]
  },
  {
   "cell_type": "code",
   "execution_count": 20,
   "metadata": {
    "execution": {
     "iopub.execute_input": "2022-05-17T05:02:00.880682Z",
     "iopub.status.busy": "2022-05-17T05:02:00.880682Z",
     "iopub.status.idle": "2022-05-17T05:02:00.894330Z",
     "shell.execute_reply": "2022-05-17T05:02:00.892336Z",
     "shell.execute_reply.started": "2022-05-17T05:02:00.880682Z"
    },
    "tags": []
   },
   "outputs": [
    {
     "name": "stdout",
     "output_type": "stream",
     "text": [
      "gender = [2, 2, 1, 2, 1, 2, 1, 0, 0, 2]\n",
      "gender2 = ['unknown', 'unknown', 'female', 'unknown', 'female', 'unknown', 'female', 'male', 'male', 'unknown']\n"
     ]
    }
   ],
   "source": [
    "# list comprehension 형\n",
    "gender = [random.randrange(0, 3) for _ in range(10)]\n",
    "print(f'gender = {gender}')\n",
    "\n",
    "gender2 = ['male' if x == 0 else\n",
    "         'female' if x == 1 else\n",
    "         'unknown' for x in gender]\n",
    "\n",
    "print(f'gender2 = {gender2}')"
   ]
  },
  {
   "cell_type": "markdown",
   "metadata": {},
   "source": [
    "### 문제10. \n",
    "* 0이상 100이하 정수 난수 10개 갖는 리스트 scores 생성하고, scores 원소 중 평균보다 큰 숫자로 이루어진 리스트 scores_above_mean 생성"
   ]
  },
  {
   "cell_type": "code",
   "execution_count": 21,
   "metadata": {
    "execution": {
     "iopub.execute_input": "2022-05-17T05:02:37.343921Z",
     "iopub.status.busy": "2022-05-17T05:02:37.343921Z",
     "iopub.status.idle": "2022-05-17T05:02:37.360207Z",
     "shell.execute_reply": "2022-05-17T05:02:37.359054Z",
     "shell.execute_reply.started": "2022-05-17T05:02:37.343921Z"
    },
    "tags": []
   },
   "outputs": [
    {
     "name": "stdout",
     "output_type": "stream",
     "text": [
      "scores = [74, 41, 21, 6, 96, 35, 90, 89, 15, 91]\n",
      "mean_scores = 55.8\n",
      "scores_above_mean = [74, 96, 90, 89, 91]\n"
     ]
    }
   ],
   "source": [
    "# 일반형\n",
    "scores = []\n",
    "\n",
    "for x in range(10):\n",
    "    scores.append(random.randrange(0, 101))\n",
    "\n",
    "print(f'scores = {scores}')\n",
    "\n",
    "mean_scores = sum(scores)/len(scores)\n",
    "print(f'mean_scores = {mean_scores}')\n",
    "\n",
    "scores_above_mean = []\n",
    "\n",
    "for y in scores:\n",
    "    if y > mean_scores:\n",
    "        scores_above_mean.append(y)\n",
    "\n",
    "print(f'scores_above_mean = {scores_above_mean}')"
   ]
  },
  {
   "cell_type": "code",
   "execution_count": 23,
   "metadata": {
    "execution": {
     "iopub.execute_input": "2022-05-17T05:03:04.387268Z",
     "iopub.status.busy": "2022-05-17T05:03:04.386272Z",
     "iopub.status.idle": "2022-05-17T05:03:04.405265Z",
     "shell.execute_reply": "2022-05-17T05:03:04.404268Z",
     "shell.execute_reply.started": "2022-05-17T05:03:04.387268Z"
    },
    "tags": []
   },
   "outputs": [
    {
     "name": "stdout",
     "output_type": "stream",
     "text": [
      "scores = [73, 46, 43, 59, 2, 89, 15, 61, 25, 68]\n",
      "mean_scores = 48.1\n",
      "scores_above_mean = [73, 59, 89, 61, 68]\n"
     ]
    }
   ],
   "source": [
    "# list comprehension 형\n",
    "scores = [random.randrange(1, 101) for _ in range(10)]\n",
    "print(f'scores = {scores}')\n",
    "\n",
    "mean_scores = sum(scores)/len(scores)\n",
    "print(f'mean_scores = {mean_scores}')\n",
    "\n",
    "scores_above_mean = [y for y in scores if y > mean_scores]\n",
    "print(f'scores_above_mean = {scores_above_mean}')"
   ]
  },
  {
   "cell_type": "markdown",
   "metadata": {},
   "source": [
    "### 문제11. \n",
    "* 임의의 단어 5개를 포함하는 리스트 words 생성 후, 문자열 길이를 저장하는 words_len 리스트 생성"
   ]
  },
  {
   "cell_type": "code",
   "execution_count": 24,
   "metadata": {
    "execution": {
     "iopub.execute_input": "2022-05-17T05:03:18.718253Z",
     "iopub.status.busy": "2022-05-17T05:03:18.718253Z",
     "iopub.status.idle": "2022-05-17T05:03:54.433408Z",
     "shell.execute_reply": "2022-05-17T05:03:54.433408Z",
     "shell.execute_reply.started": "2022-05-17T05:03:18.718253Z"
    },
    "tags": []
   },
   "outputs": [
    {
     "name": "stdin",
     "output_type": "stream",
     "text": [
      "단어1: Life\n",
      "단어2: Mary\n",
      "단어3: Take\n",
      "단어4: Ceema\n",
      "단어5: Tela\n"
     ]
    },
    {
     "name": "stdout",
     "output_type": "stream",
     "text": [
      "words = ['Life', 'Mary', 'Take', 'Ceema', 'Tela']\n",
      "words_len = [4, 4, 4, 5, 4]\n"
     ]
    }
   ],
   "source": [
    "# 일반형\n",
    "words = [input('단어1:'), input('단어2:'), input('단어3:'), input('단어4:'), input('단어5:')]\n",
    "print(f'words = {words}')\n",
    "words_len = []\n",
    "\n",
    "for x in words:\n",
    "    words_len.append(len(x))\n",
    "\n",
    "print(f'words_len = {words_len}')"
   ]
  },
  {
   "cell_type": "code",
   "execution_count": 25,
   "metadata": {
    "execution": {
     "iopub.execute_input": "2022-05-17T05:04:08.111382Z",
     "iopub.status.busy": "2022-05-17T05:04:08.111382Z",
     "iopub.status.idle": "2022-05-17T05:04:24.087954Z",
     "shell.execute_reply": "2022-05-17T05:04:24.087954Z",
     "shell.execute_reply.started": "2022-05-17T05:04:08.111382Z"
    },
    "tags": []
   },
   "outputs": [
    {
     "name": "stdin",
     "output_type": "stream",
     "text": [
      "단어1: Ceema\n",
      "단어2: Cleveth\n",
      "단어3: Orco\n",
      "단어4: Deli\n",
      "단어5: Seem to be\n"
     ]
    },
    {
     "name": "stdout",
     "output_type": "stream",
     "text": [
      "words = ['Ceema', 'Cleveth', 'Orco', 'Deli', 'Seem to be']\n",
      "words_len = [5, 7, 4, 4, 10]\n"
     ]
    }
   ],
   "source": [
    "# list comprehension 형\n",
    "words = [input('단어1:'), input('단어2:'), input('단어3:'), input('단어4:'), input('단어5:')]\n",
    "print(f'words = {words}')\n",
    "\n",
    "words_len = [len(x) for x in words]\n",
    "print(f'words_len = {words_len}')"
   ]
  }
 ],
 "metadata": {
  "kernelspec": {
   "display_name": "Python 3",
   "language": "python",
   "name": "python3"
  },
  "language_info": {
   "codemirror_mode": {
    "name": "ipython",
    "version": 3
   },
   "file_extension": ".py",
   "mimetype": "text/x-python",
   "name": "python",
   "nbconvert_exporter": "python",
   "pygments_lexer": "ipython3",
   "version": "3.8.8"
  }
 },
 "nbformat": 4,
 "nbformat_minor": 4
}
