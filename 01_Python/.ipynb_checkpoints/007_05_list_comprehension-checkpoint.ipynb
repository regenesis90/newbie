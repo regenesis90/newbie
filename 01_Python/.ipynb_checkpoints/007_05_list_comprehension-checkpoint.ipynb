{
 "cells": [
  {
   "cell_type": "markdown",
   "metadata": {},
   "source": [
    "# List Comprehension : 예제를 통한 이해\n",
    "\n",
    "* List Comprehension이 더 좋을 수도 있고, 그냥 간략화하지 않고 풀어쓰는 것이 더 좋을 수도 있다.\n",
    "* 어느 쪽이든 보고 이해해야 하고, 어느 쪽이든 작성할 수 있어야 한다."
   ]
  },
  {
   "cell_type": "markdown",
   "metadata": {},
   "source": [
    "#### list_name=[]  ------- 빈 리스트를 추가한다."
   ]
  },
  {
   "cell_type": "markdown",
   "metadata": {},
   "source": [
    "### 문제1 : 1이상 10이하 정수들을 리스트에 추가\n",
    "- 일반형, List Comprehension형 두 가지를 작성하기"
   ]
  },
  {
   "cell_type": "code",
   "execution_count": 1,
   "metadata": {},
   "outputs": [
    {
     "name": "stdout",
     "output_type": "stream",
     "text": [
      "[1, 2, 3, 4, 5, 6, 7, 8, 9, 10]\n"
     ]
    }
   ],
   "source": [
    "# 일반형 for loop\n",
    "numbers=[] #empty list\n",
    "for x in range(1,11):\n",
    "    numbers.append(x)\n",
    "print(numbers)"
   ]
  },
  {
   "cell_type": "code",
   "execution_count": 2,
   "metadata": {},
   "outputs": [
    {
     "name": "stdout",
     "output_type": "stream",
     "text": [
      "[1, 2, 3, 4, 5, 6, 7, 8, 9, 10]\n"
     ]
    }
   ],
   "source": [
    "# List Comprehension 형\n",
    "numbers=[x for x in range(1,11)]\n",
    "print(numbers)"
   ]
  },
  {
   "cell_type": "markdown",
   "metadata": {},
   "source": [
    "### 문제2 : 1 이상 10 이하 정수들 중 '짝수'들만 리스트에 추가"
   ]
  },
  {
   "cell_type": "code",
   "execution_count": 5,
   "metadata": {},
   "outputs": [
    {
     "name": "stdout",
     "output_type": "stream",
     "text": [
      "[2, 4, 6, 8, 10]\n"
     ]
    }
   ],
   "source": [
    "# 일반형\n",
    "numbers=[]\n",
    "for x in range(1,6):\n",
    "    numbers.append(2*x)\n",
    "print(numbers)"
   ]
  },
  {
   "cell_type": "code",
   "execution_count": 7,
   "metadata": {},
   "outputs": [
    {
     "name": "stdout",
     "output_type": "stream",
     "text": [
      "[2, 4, 6, 8, 10]\n"
     ]
    }
   ],
   "source": [
    "# List Comprehension 형\n",
    "numbers=[2*x for x in range(1,6)]\n",
    "print(numbers)"
   ]
  },
  {
   "cell_type": "markdown",
   "metadata": {},
   "source": [
    "### 문제3. 1~10 숫자들의 제곱을 리스트에 추가"
   ]
  },
  {
   "cell_type": "code",
   "execution_count": 8,
   "metadata": {},
   "outputs": [
    {
     "name": "stdout",
     "output_type": "stream",
     "text": [
      "[1, 4, 9, 16, 25, 36, 49, 64, 81, 100]\n"
     ]
    }
   ],
   "source": [
    "# 일반형\n",
    "numbers=[]\n",
    "for x in range(1,11):\n",
    "    numbers.append(x**2)\n",
    "print(numbers)"
   ]
  },
  {
   "cell_type": "code",
   "execution_count": 9,
   "metadata": {},
   "outputs": [
    {
     "name": "stdout",
     "output_type": "stream",
     "text": [
      "[1, 4, 9, 16, 25, 36, 49, 64, 81, 100]\n"
     ]
    }
   ],
   "source": [
    "# List Comprehension 유형\n",
    "numbers=[x**2 for x in range(1,11)]\n",
    "print(numbers)"
   ]
  },
  {
   "cell_type": "markdown",
   "metadata": {},
   "source": [
    "### 문제4. 0이상 100이하 범위에서 정수 난수 10개를 리스트에 저장"
   ]
  },
  {
   "cell_type": "code",
   "execution_count": 10,
   "metadata": {},
   "outputs": [],
   "source": [
    "# random 모듈 추가, random.seed 맞추기\n",
    "import random\n",
    "random.seed(100)"
   ]
  },
  {
   "cell_type": "code",
   "execution_count": 11,
   "metadata": {},
   "outputs": [
    {
     "name": "stdout",
     "output_type": "stream",
     "text": [
      "[18, 58, 58, 98, 22, 90, 50, 93, 44, 55]\n"
     ]
    }
   ],
   "source": [
    "# 일반형\n",
    "rnumbers=[]\n",
    "for x in range(1,11):\n",
    "    rnumbers.append(random.randrange(0,101))\n",
    "print(rnumbers)"
   ]
  },
  {
   "cell_type": "code",
   "execution_count": 12,
   "metadata": {},
   "outputs": [
    {
     "name": "stdout",
     "output_type": "stream",
     "text": [
      "[64, 14, 68, 15, 10, 94, 58, 33, 6, 84]\n"
     ]
    }
   ],
   "source": [
    "# List Comprehension 형\n",
    "rnumbers=[random.randrange(0,101) for _ in range(1,11)]\n",
    "print(rnumbers)"
   ]
  },
  {
   "cell_type": "markdown",
   "metadata": {},
   "source": [
    "### 문제5. 1~10까지 정수 중 \"짝수\"만 리스트에 저장"
   ]
  },
  {
   "cell_type": "code",
   "execution_count": 13,
   "metadata": {},
   "outputs": [
    {
     "name": "stdout",
     "output_type": "stream",
     "text": [
      "[2, 4, 6, 8, 10]\n"
     ]
    }
   ],
   "source": [
    "# 일반형\n",
    "evens=[]\n",
    "for x in range(1,11):\n",
    "    if x%2==0:\n",
    "        evens.append(x)\n",
    "print(evens)"
   ]
  },
  {
   "cell_type": "code",
   "execution_count": 15,
   "metadata": {},
   "outputs": [
    {
     "name": "stdout",
     "output_type": "stream",
     "text": [
      "[2, 4, 6, 8, 10]\n"
     ]
    }
   ],
   "source": [
    "# list comprehension 형\n",
    "evens=[x for x in range(1,11) if x%2==0]\n",
    "print(evens)"
   ]
  },
  {
   "cell_type": "markdown",
   "metadata": {},
   "source": [
    "### 문제6. 1~100 사이의 정수 난수 중 \"짝수\"만 10개 리스트에 저장하기"
   ]
  },
  {
   "cell_type": "code",
   "execution_count": 18,
   "metadata": {},
   "outputs": [
    {
     "name": "stdout",
     "output_type": "stream",
     "text": [
      "[22, 84, 82, 16, 24, 2, 78, 52, 20, 100]\n"
     ]
    }
   ],
   "source": [
    "# 일반형\n",
    "evens=[]\n",
    "for x in range(1,11):\n",
    "    evens.append(random.randrange(1,51)*2)\n",
    "print(evens)"
   ]
  },
  {
   "cell_type": "code",
   "execution_count": 19,
   "metadata": {},
   "outputs": [
    {
     "name": "stdout",
     "output_type": "stream",
     "text": [
      "[74, 22, 26, 22, 4, 86, 32, 58, 82, 50]\n"
     ]
    }
   ],
   "source": [
    "#list comprehension 형\n",
    "evens=[2*random.randrange(1,51) for _ in range(10)]\n",
    "print(evens)"
   ]
  },
  {
   "cell_type": "markdown",
   "metadata": {},
   "source": [
    "### 문제7. 1~100 사이 정수 난수 10개를 저장한 리스트 rands 를 만들고, 그 중 짝수만 추출한 리스트도 만들기"
   ]
  },
  {
   "cell_type": "code",
   "execution_count": 20,
   "metadata": {},
   "outputs": [
    {
     "name": "stdout",
     "output_type": "stream",
     "text": [
      "rands=[17, 80, 71, 97, 7, 78, 32, 92, 80, 100]\n",
      "randseven=[80, 78, 32, 92, 80, 100]\n"
     ]
    }
   ],
   "source": [
    "# 일반형\n",
    "rands=[]\n",
    "for x in range(10):\n",
    "    rands.append(random.randrange(1,101))\n",
    "print(f'rands={rands}')\n",
    "randseven=[]\n",
    "for k in rands:\n",
    "    if k%2==0:\n",
    "        randseven.append(k)\n",
    "print(f'randseven={randseven}')"
   ]
  },
  {
   "cell_type": "code",
   "execution_count": 21,
   "metadata": {},
   "outputs": [
    {
     "name": "stdout",
     "output_type": "stream",
     "text": [
      "rands=[65, 92, 38, 89, 76, 44, 68, 88, 44, 70]\n",
      "randseven=[92, 38, 76, 44, 68, 88, 44, 70]\n"
     ]
    }
   ],
   "source": [
    "# list comprehension 형\n",
    "rands=[random.randrange(1,100) for _ in range(10)]\n",
    "print(f'rands={rands}')\n",
    "randseven=[x for x in rands if x%2==0]\n",
    "print(f'randseven={randseven}')"
   ]
  },
  {
   "cell_type": "markdown",
   "metadata": {},
   "source": [
    "### 문제8. 1이상 100이하 10개 난수를 저장한 리스트 rands를 값을 만들고, \n",
    "### 짝수면 True / 홀수면 False 저장하는 새 리스트 생성"
   ]
  },
  {
   "cell_type": "code",
   "execution_count": 23,
   "metadata": {},
   "outputs": [
    {
     "name": "stdout",
     "output_type": "stream",
     "text": [
      "rands=[33, 31, 91, 92, 56, 99, 66, 64, 75]\n",
      "boolrands=[False, False, False, True, True, False, True, True, False]\n"
     ]
    }
   ],
   "source": [
    "# 일반형\n",
    "rands=[]\n",
    "for x in range(1,10):\n",
    "    rands.append(random.randrange(1,101))\n",
    "print(f'rands={rands}')\n",
    "boolrands=[]\n",
    "for y in rands:\n",
    "    if y%2==0:\n",
    "        boolrands.append(True)\n",
    "    else:\n",
    "        boolrands.append(False)\n",
    "print(f'boolrands={boolrands}')"
   ]
  },
  {
   "cell_type": "code",
   "execution_count": 24,
   "metadata": {},
   "outputs": [
    {
     "name": "stdout",
     "output_type": "stream",
     "text": [
      "rands=[33, 19, 8, 87, 75, 42, 22, 7, 97]\n",
      "randseven=[False, False, True, False, False, True, True, False, False]\n"
     ]
    }
   ],
   "source": [
    "# list comprehension 형\n",
    "rands=[random.randrange(1,101) for _ in range(1,10)]\n",
    "print(f'rands={rands}')\n",
    "randseven=[True if x%2==0 else False for x in rands]\n",
    "print(f'randseven={randseven}')"
   ]
  },
  {
   "cell_type": "markdown",
   "metadata": {},
   "source": [
    "### 문제9. 0,1,2를 무작위로 10개 저장하는 리스트 gender 생성하고,\n",
    "### gender값의 원소가 0이면 male, 1이면 female, 2이면 unknown 저장하는 리스트 gender2 생성"
   ]
  },
  {
   "cell_type": "code",
   "execution_count": 28,
   "metadata": {},
   "outputs": [
    {
     "name": "stdout",
     "output_type": "stream",
     "text": [
      "gender=[1, 2, 0, 1, 2, 2, 0, 2, 2, 2]\n",
      "gender2=['female', 'unknown', 'male', 'female', 'unknown', 'unknown', 'male', 'unknown', 'unknown', 'unknown']\n"
     ]
    }
   ],
   "source": [
    "# 일반형\n",
    "gender=[]\n",
    "for x in range(10):\n",
    "    gender.append(random.randrange(0,3))\n",
    "print(f'gender={gender}')\n",
    "gender2=[]\n",
    "for y in gender:\n",
    "    if y==0:\n",
    "        gender2.append('male')\n",
    "    elif y==1:\n",
    "        gender2.append('female')\n",
    "    else:\n",
    "        gender2.append('unknown')\n",
    "print(f'gender2={gender2}')"
   ]
  },
  {
   "cell_type": "code",
   "execution_count": 35,
   "metadata": {},
   "outputs": [
    {
     "name": "stdout",
     "output_type": "stream",
     "text": [
      "gender=[0, 2, 2, 1, 0, 2, 1, 1, 1, 1]\n",
      "gender2=['male', 'unknown', 'unknown', 'female', 'male', 'unknown', 'female', 'female', 'female', 'female']\n"
     ]
    }
   ],
   "source": [
    "# list comprehension 형\n",
    "gender=[random.randrange(0,3) for _ in range(10)]\n",
    "print(f'gender={gender}')\n",
    "gender2=['male' if x==0 else\n",
    "         'female' if x==1 else\n",
    "         'unknown' for x in gender]\n",
    "print(f'gender2={gender2}')"
   ]
  },
  {
   "cell_type": "markdown",
   "metadata": {},
   "source": [
    "### 문제10. 0이상 100이하 정수 난수 10개 갖는 리스트 scores 생성하고,\n",
    "### scores 원소 중 평균보다 큰 숫자로 이루어진 리스트 scores_above_mean 생성"
   ]
  },
  {
   "cell_type": "code",
   "execution_count": 36,
   "metadata": {},
   "outputs": [
    {
     "name": "stdout",
     "output_type": "stream",
     "text": [
      "scores=[89, 58, 67, 24, 77, 74, 32, 53, 18, 26]\n",
      "mean_scores=51.8\n",
      "scores_above_mean=[89, 58, 67, 77, 74, 53]\n"
     ]
    }
   ],
   "source": [
    "# 일반형\n",
    "scores=[]\n",
    "for x in range(10):\n",
    "    scores.append(random.randrange(0,101))\n",
    "print(f'scores={scores}')\n",
    "mean_scores=sum(scores)/len(scores)\n",
    "print(f'mean_scores={mean_scores}')\n",
    "scores_above_mean=[]\n",
    "for y in scores:\n",
    "    if y>mean_scores:\n",
    "        scores_above_mean.append(y)\n",
    "print(f'scores_above_mean={scores_above_mean}')"
   ]
  },
  {
   "cell_type": "code",
   "execution_count": 37,
   "metadata": {},
   "outputs": [
    {
     "name": "stdout",
     "output_type": "stream",
     "text": [
      "scores=[53, 10, 77, 35, 52, 34, 91, 13, 25, 30]\n",
      "mean_scores=42.0\n",
      "scores_above_mean=[53, 77, 52, 91]\n"
     ]
    }
   ],
   "source": [
    "# list comprehension 형\n",
    "scores=[random.randrange(1,101) for _ in range(10)]\n",
    "print(f'scores={scores}')\n",
    "mean_scores=sum(scores)/len(scores)\n",
    "print(f'mean_scores={mean_scores}')\n",
    "scores_above_mean=[y for y in scores if y>mean_scores]\n",
    "print(f'scores_above_mean={scores_above_mean}')"
   ]
  },
  {
   "cell_type": "markdown",
   "metadata": {},
   "source": [
    "### 문제11. 임의의 단어 5개를 포함하는 리스트 words 생성 후, 문자열 길이를 저장하는 words_len 리스트 생성"
   ]
  },
  {
   "cell_type": "code",
   "execution_count": 38,
   "metadata": {},
   "outputs": [
    {
     "name": "stdout",
     "output_type": "stream",
     "text": [
      "단어1:Andrea Lloyd\n",
      "단어2:Yanis Gray\n",
      "단어3:Nanyoung Lee\n",
      "단어4:Lansiomy G Lu\n",
      "단어5:Saraswati\n",
      "words=['Andrea Lloyd', 'Yanis Gray', 'Nanyoung Lee', 'Lansiomy G Lu', 'Saraswati']\n",
      "words_len=[12, 10, 12, 13, 9]\n"
     ]
    }
   ],
   "source": [
    "# 일반형\n",
    "words=[input('단어1:'), input('단어2:'), input('단어3:'), input('단어4:'), input('단어5:')]\n",
    "print(f'words={words}')\n",
    "words_len=[]\n",
    "for x in words:\n",
    "    words_len.append(len(x))\n",
    "print(f'words_len={words_len}')"
   ]
  },
  {
   "cell_type": "code",
   "execution_count": 39,
   "metadata": {},
   "outputs": [
    {
     "name": "stdout",
     "output_type": "stream",
     "text": [
      "단어1:Andrea\n",
      "단어2:Yanis\n",
      "단어3:Nanyoung\n",
      "단어4:Lansiomy\n",
      "단어5:Gnyfrode\n",
      "words=['Andrea', 'Yanis', 'Nanyoung', 'Lansiomy', 'Gnyfrode']\n",
      "words_len=[6, 5, 8, 8, 8]\n"
     ]
    }
   ],
   "source": [
    "# list comprehension 형\n",
    "words=[input('단어1:'), input('단어2:'), input('단어3:'), input('단어4:'), input('단어5:')]\n",
    "print(f'words={words}')\n",
    "words_len=[len(x) for x in words]\n",
    "print(f'words_len={words_len}')"
   ]
  }
 ],
 "metadata": {
  "kernelspec": {
   "display_name": "Python 3",
   "language": "python",
   "name": "python3"
  },
  "language_info": {
   "codemirror_mode": {
    "name": "ipython",
    "version": 3
   },
   "file_extension": ".py",
   "mimetype": "text/x-python",
   "name": "python",
   "nbconvert_exporter": "python",
   "pygments_lexer": "ipython3",
   "version": "3.8.5"
  }
 },
 "nbformat": 4,
 "nbformat_minor": 4
}
