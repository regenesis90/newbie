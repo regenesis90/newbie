{
 "cells": [
  {
   "cell_type": "markdown",
   "metadata": {},
   "source": [
    "# tuple : 튜플. 데이터 타입이기도 하고, 함수 이름이기도 하다\n",
    "\n",
    "* 원소들을 변경할 수 없는 리스트\n",
    "* 리스트와 비슷한 속성 : 인덱스를 사용해서 해당하는 원소를 찾을 수 있음\n",
    "* 하지만 일단 값이 저장된 상태로 만들어지면, 더이상 원소 추가/삭제/값 변경이 불가능\n",
    "* 따라서 append(), insert(), pop(), remove(), extend() 불가\n",
    "* 리스트는 대괄호 [], 튜플은 소괄호(), 딕셔너리는 중괄호{} 사용"
   ]
  },
  {
   "cell_type": "code",
   "execution_count": 3,
   "metadata": {},
   "outputs": [
    {
     "name": "stdout",
     "output_type": "stream",
     "text": [
      "(1, 2, 3, 4, 5)\n",
      "[1, 2, 3, 4, 5]\n",
      "type of numbers1:<class 'tuple'>\n",
      "type of numbers2:<class 'list'>\n",
      "numbers1의 첫번째 원소:1\n"
     ]
    }
   ],
   "source": [
    "# 튜플 만들기 : 소괄호 사용\n",
    "# 리스트 만들기 : 대괄호 사용\n",
    "numbers1=(1,2,3,4,5) #튜플 : 변경 불가\n",
    "numbers2=[1,2,3,4,5] #리스트 : 변경 가능\n",
    "print(numbers1)\n",
    "print(numbers2)\n",
    "print(f'type of numbers1:{type(numbers1)}')\n",
    "print(f'type of numbers2:{type(numbers2)}')\n",
    "print(f'numbers1의 첫번째 원소:{numbers1[0]}')"
   ]
  },
  {
   "cell_type": "markdown",
   "metadata": {},
   "source": [
    "#### 인덱스 연산자 : []. 인덱스 연산자는 항상 대괄호만 사용. 소괄호는 사용하지 않음(이건 R도 마찬가지)"
   ]
  },
  {
   "cell_type": "markdown",
   "metadata": {},
   "source": [
    "## 튜플 슬라이싱(slicing) : 리스트와 마찬가지로 슬라이싱 가능\n",
    "\n",
    "* 튜플을 슬라이싱하면 튜플이 된다.\n",
    "* 리스트를 슬라이싱하면 리스트가 된다.\n",
    "* 마치 치즈를 자르면 더 작은 치즈가 되듯이.\n",
    "* 슬라이싱 원리는 리스트와 동일하다."
   ]
  },
  {
   "cell_type": "code",
   "execution_count": 4,
   "metadata": {},
   "outputs": [
    {
     "name": "stdout",
     "output_type": "stream",
     "text": [
      "(10, 20, 30, 40, 50)\n",
      "(10, 20, 30, 40, 50)\n",
      "(30, 40, 50)\n",
      "(10, 20)\n",
      "30\n"
     ]
    }
   ],
   "source": [
    "numbers1=(10,20,30,40,50)\n",
    "print(numbers1) #튜플\n",
    "print(numbers1[:]) #튜플\n",
    "print(numbers1[2:]) #튜플\n",
    "print(numbers1[:2]) #튜플\n",
    "print(numbers1[2]) #값"
   ]
  },
  {
   "cell_type": "markdown",
   "metadata": {},
   "source": [
    "### 문제1. 튜플에 for loop 사용한 투입은 불가능하다.\n",
    "\n",
    "튜플은 변경이 불가능하므로, .append 같은 명령어가 통하지 않는다."
   ]
  }
 ],
 "metadata": {
  "kernelspec": {
   "display_name": "Python 3",
   "language": "python",
   "name": "python3"
  },
  "language_info": {
   "codemirror_mode": {
    "name": "ipython",
    "version": 3
   },
   "file_extension": ".py",
   "mimetype": "text/x-python",
   "name": "python",
   "nbconvert_exporter": "python",
   "pygments_lexer": "ipython3",
   "version": "3.8.5"
  }
 },
 "nbformat": 4,
 "nbformat_minor": 4
}
