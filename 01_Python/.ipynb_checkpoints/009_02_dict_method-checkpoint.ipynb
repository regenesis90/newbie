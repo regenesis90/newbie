{
 "cells": [
  {
   "cell_type": "markdown",
   "metadata": {},
   "source": [
    "# dict의 메서드 : 각종 기능들"
   ]
  },
  {
   "cell_type": "markdown",
   "metadata": {},
   "source": [
    "* **dict.keys()** : dict의 key들로 이루어진 목록\n",
    "* **dict.values()** : dict 의 value들로 이루어진 목록\n",
    "* **dict.items()** : dict의 (key, value) 순서쌍 튜플 목록\n",
    "* **dict.get()**"
   ]
  },
  {
   "cell_type": "code",
   "execution_count": 5,
   "metadata": {},
   "outputs": [],
   "source": [
    "Yoshi_Island={1:'Yoshi', 2:'Baby Mario', 3:'Kamek', 4:'Bowser', 5:'Baby Luigi', 6:'Stork'}"
   ]
  },
  {
   "cell_type": "markdown",
   "metadata": {},
   "source": [
    "## 1. dict.keys() : dict의 key들로 이루어진 목록 출력"
   ]
  },
  {
   "cell_type": "code",
   "execution_count": 6,
   "metadata": {},
   "outputs": [
    {
     "name": "stdout",
     "output_type": "stream",
     "text": [
      "dict_keys([1, 2, 3, 4, 5, 6])\n"
     ]
    }
   ],
   "source": [
    "keys=Yoshi_Island.keys()\n",
    "print(keys)"
   ]
  },
  {
   "cell_type": "markdown",
   "metadata": {},
   "source": [
    "## 2. dict.values() : dict의 value들로만 이루어진 목록 출력"
   ]
  },
  {
   "cell_type": "code",
   "execution_count": 8,
   "metadata": {},
   "outputs": [
    {
     "name": "stdout",
     "output_type": "stream",
     "text": [
      "dict_values(['Yoshi', 'Baby Mario', 'Kamek', 'Bowser', 'Baby Luigi', 'Stork'])\n"
     ]
    }
   ],
   "source": [
    "values=Yoshi_Island.values()\n",
    "print(values)"
   ]
  },
  {
   "cell_type": "markdown",
   "metadata": {},
   "source": [
    "## 3. dict.items() : dict의 (key, value) 순서쌍 튜플 목록 조회"
   ]
  },
  {
   "cell_type": "code",
   "execution_count": 10,
   "metadata": {},
   "outputs": [
    {
     "name": "stdout",
     "output_type": "stream",
     "text": [
      "dict_items([(1, 'Yoshi'), (2, 'Baby Mario'), (3, 'Kamek'), (4, 'Bowser'), (5, 'Baby Luigi'), (6, 'Stork')])\n"
     ]
    }
   ],
   "source": [
    "items=Yoshi_Island.items()\n",
    "print(items)"
   ]
  },
  {
   "cell_type": "markdown",
   "metadata": {},
   "source": [
    "## 4. dict.get(key1) : key1 값에 대응하는 value 출력\n",
    "\n",
    "* **dict.get(key1)** : 없는 key를 입력하면, None 반환 (오류 없음)\n",
    "* **dict[key1]** : 없는 key 입력 시, 에러 발생"
   ]
  },
  {
   "cell_type": "code",
   "execution_count": 13,
   "metadata": {},
   "outputs": [
    {
     "name": "stdout",
     "output_type": "stream",
     "text": [
      "Yoshi\n"
     ]
    }
   ],
   "source": [
    "one=Yoshi_Island.get(1)\n",
    "print(one)"
   ]
  },
  {
   "cell_type": "code",
   "execution_count": 16,
   "metadata": {},
   "outputs": [
    {
     "name": "stdout",
     "output_type": "stream",
     "text": [
      "None\n"
     ]
    }
   ],
   "source": [
    "seven=Yoshi_Island.get(7)\n",
    "print(seven)"
   ]
  },
  {
   "cell_type": "code",
   "execution_count": 17,
   "metadata": {},
   "outputs": [],
   "source": [
    "# 오류 발생 : eight=Yoshi_Island[8]\n",
    "# print(eight)"
   ]
  }
 ],
 "metadata": {
  "kernelspec": {
   "display_name": "Python 3",
   "language": "python",
   "name": "python3"
  },
  "language_info": {
   "codemirror_mode": {
    "name": "ipython",
    "version": 3
   },
   "file_extension": ".py",
   "mimetype": "text/x-python",
   "name": "python",
   "nbconvert_exporter": "python",
   "pygments_lexer": "ipython3",
   "version": "3.8.5"
  }
 },
 "nbformat": 4,
 "nbformat_minor": 4
}
