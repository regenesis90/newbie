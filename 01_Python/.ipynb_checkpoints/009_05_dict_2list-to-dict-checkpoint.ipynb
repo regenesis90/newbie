{
 "cells": [
  {
   "cell_type": "markdown",
   "metadata": {},
   "source": [
    "# from 2 List to Dictionary"
   ]
  },
  {
   "cell_type": "markdown",
   "metadata": {},
   "source": [
    "## 1. 두 개의 리스트를 각각 key, value로 하는 새로운 dict 생성"
   ]
  },
  {
   "cell_type": "code",
   "execution_count": 3,
   "metadata": {},
   "outputs": [],
   "source": [
    "resid_no = [101,102,103,104]\n",
    "resid_name = ['Andrea', 'Yanis', 'Cleveth', 'NY']"
   ]
  },
  {
   "cell_type": "markdown",
   "metadata": {},
   "source": [
    "### 1) 첫 번째 방법 : 2중 for loop"
   ]
  },
  {
   "cell_type": "code",
   "execution_count": 5,
   "metadata": {},
   "outputs": [
    {
     "name": "stdout",
     "output_type": "stream",
     "text": [
      "{101: 'NY', 102: 'NY', 103: 'NY', 104: 'NY'}\n"
     ]
    }
   ],
   "source": [
    "# (1) empty dict 생성\n",
    "resid = {}\n",
    "# (2) resid_no, resid_name의 각 원소를 resid의 key, value로 넣기를 반복\n",
    "# ---- resid[resid_no]=resid_name\n",
    "for k in resid_no:\n",
    "    for v in resid_name:\n",
    "        resid[k] = v\n",
    "\n",
    "print(resid)"
   ]
  },
  {
   "cell_type": "markdown",
   "metadata": {},
   "source": [
    "### 2) 두 번째 방법 : for loop와 인덱스 사용"
   ]
  },
  {
   "cell_type": "code",
   "execution_count": 10,
   "metadata": {},
   "outputs": [
    {
     "name": "stdout",
     "output_type": "stream",
     "text": [
      "{101: 'Andrea', 102: 'Yanis', 103: 'Cleveth', 104: 'NY'}\n"
     ]
    }
   ],
   "source": [
    "# (1) empty dict 생성\n",
    "resid = {}\n",
    "\n",
    "# (2) resid[resid_no]=resid_name\n",
    "for i in range(4):\n",
    "    resid[resid_no[i]] = resid_name[i]\n",
    "\n",
    "print(resid)"
   ]
  },
  {
   "cell_type": "markdown",
   "metadata": {},
   "source": [
    "### 3) 세 번째 방법 : zip, for loop 사용"
   ]
  },
  {
   "cell_type": "code",
   "execution_count": 11,
   "metadata": {},
   "outputs": [
    {
     "name": "stdout",
     "output_type": "stream",
     "text": [
      "{101: 'Andrea', 102: 'Yanis', 103: 'Cleveth', 104: 'NY'}\n"
     ]
    }
   ],
   "source": [
    "# (1) empty dict 생성\n",
    "resid = {}\n",
    "\n",
    "# (2) zip, for loop 사용\n",
    "for k,v in zip(resid_no, resid_name):\n",
    "    resid[k] = v\n",
    "\n",
    "print(resid)"
   ]
  }
 ],
 "metadata": {
  "kernelspec": {
   "display_name": "Python 3",
   "language": "python",
   "name": "python3"
  },
  "language_info": {
   "codemirror_mode": {
    "name": "ipython",
    "version": 3
   },
   "file_extension": ".py",
   "mimetype": "text/x-python",
   "name": "python",
   "nbconvert_exporter": "python",
   "pygments_lexer": "ipython3",
   "version": "3.8.8"
  }
 },
 "nbformat": 4,
 "nbformat_minor": 4
}
