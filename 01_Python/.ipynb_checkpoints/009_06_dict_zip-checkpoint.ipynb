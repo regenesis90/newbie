{
 "cells": [
  {
   "cell_type": "markdown",
   "metadata": {},
   "source": [
    "# dict에 사용하는 zip 함수"
   ]
  },
  {
   "cell_type": "markdown",
   "metadata": {},
   "source": [
    "* **zip()** : 튜플 타입의 결과 반환"
   ]
  },
  {
   "cell_type": "code",
   "execution_count": 10,
   "metadata": {
    "execution": {
     "iopub.execute_input": "2021-05-11T12:16:04.279226Z",
     "iopub.status.busy": "2021-05-11T12:16:04.278196Z",
     "iopub.status.idle": "2021-05-11T12:16:04.302018Z",
     "shell.execute_reply": "2021-05-11T12:16:04.298032Z",
     "shell.execute_reply.started": "2021-05-11T12:16:04.279226Z"
    },
    "tags": []
   },
   "outputs": [],
   "source": [
    "from random import shuffle"
   ]
  },
  {
   "cell_type": "code",
   "execution_count": 11,
   "metadata": {
    "execution": {
     "iopub.execute_input": "2021-05-11T12:16:05.343005Z",
     "iopub.status.busy": "2021-05-11T12:16:05.343005Z",
     "iopub.status.idle": "2021-05-11T12:16:05.355760Z",
     "shell.execute_reply": "2021-05-11T12:16:05.354762Z",
     "shell.execute_reply.started": "2021-05-11T12:16:05.343005Z"
    },
    "tags": []
   },
   "outputs": [],
   "source": [
    "resid_name=['Andrea', 'Yanis', 'Cleveth', 'NY', 'Hainz', 'Ivans', 'Din']"
   ]
  },
  {
   "cell_type": "code",
   "execution_count": 12,
   "metadata": {
    "execution": {
     "iopub.execute_input": "2021-05-11T12:16:05.977059Z",
     "iopub.status.busy": "2021-05-11T12:16:05.977059Z",
     "iopub.status.idle": "2021-05-11T12:16:05.991105Z",
     "shell.execute_reply": "2021-05-11T12:16:05.990105Z",
     "shell.execute_reply.started": "2021-05-11T12:16:05.977059Z"
    },
    "tags": []
   },
   "outputs": [],
   "source": [
    "resid_height=[163, 178, 169, 176, 179, 170, 180]"
   ]
  },
  {
   "cell_type": "code",
   "execution_count": 13,
   "metadata": {
    "execution": {
     "iopub.execute_input": "2021-05-11T12:16:06.543554Z",
     "iopub.status.busy": "2021-05-11T12:16:06.543554Z",
     "iopub.status.idle": "2021-05-11T12:16:06.556770Z",
     "shell.execute_reply": "2021-05-11T12:16:06.554806Z",
     "shell.execute_reply.started": "2021-05-11T12:16:06.543554Z"
    },
    "tags": []
   },
   "outputs": [],
   "source": [
    "resid_gender=['Female', 'Male', 'Female', 'Male', 'Male', 'Male', 'Male']"
   ]
  },
  {
   "cell_type": "code",
   "execution_count": 14,
   "metadata": {
    "execution": {
     "iopub.execute_input": "2021-05-11T12:16:07.089253Z",
     "iopub.status.busy": "2021-05-11T12:16:07.089253Z",
     "iopub.status.idle": "2021-05-11T12:16:07.107239Z",
     "shell.execute_reply": "2021-05-11T12:16:07.105122Z",
     "shell.execute_reply.started": "2021-05-11T12:16:07.089253Z"
    },
    "tags": []
   },
   "outputs": [
    {
     "name": "stdout",
     "output_type": "stream",
     "text": [
      "Andrea 163\n",
      "Yanis 178\n",
      "Cleveth 169\n",
      "NY 176\n",
      "Hainz 179\n",
      "Ivans 170\n",
      "Din 180\n"
     ]
    }
   ],
   "source": [
    "for k,v in zip(resid_name, resid_height):\n",
    "    print(k,v)"
   ]
  },
  {
   "cell_type": "code",
   "execution_count": 16,
   "metadata": {
    "execution": {
     "iopub.execute_input": "2021-05-11T12:17:36.597822Z",
     "iopub.status.busy": "2021-05-11T12:17:36.597822Z",
     "iopub.status.idle": "2021-05-11T12:17:36.611261Z",
     "shell.execute_reply": "2021-05-11T12:17:36.609266Z",
     "shell.execute_reply.started": "2021-05-11T12:17:36.597822Z"
    },
    "tags": []
   },
   "outputs": [],
   "source": [
    "c=list(zip(resid_name, resid_height)) # zip을 사용해 두 리스트를 묶어 리스트화\n",
    "shuffle(c)\n",
    "resid_name, resid_height=zip(*c)"
   ]
  },
  {
   "cell_type": "code",
   "execution_count": 17,
   "metadata": {
    "execution": {
     "iopub.execute_input": "2021-05-11T12:17:42.030514Z",
     "iopub.status.busy": "2021-05-11T12:17:42.030288Z",
     "iopub.status.idle": "2021-05-11T12:17:42.049792Z",
     "shell.execute_reply": "2021-05-11T12:17:42.047785Z",
     "shell.execute_reply.started": "2021-05-11T12:17:42.030514Z"
    },
    "tags": []
   },
   "outputs": [
    {
     "name": "stdout",
     "output_type": "stream",
     "text": [
      "Hainz 179\n",
      "NY 176\n",
      "Din 180\n",
      "Cleveth 169\n",
      "Andrea 163\n",
      "Ivans 170\n",
      "Yanis 178\n"
     ]
    }
   ],
   "source": [
    "for k,v in zip(resid_name, resid_height):\n",
    "    print(k,v)"
   ]
  },
  {
   "cell_type": "code",
   "execution_count": null,
   "metadata": {
    "tags": []
   },
   "outputs": [],
   "source": [
    "for a,b,c in zip(resid_name, resid_height, resid_gender):\n",
    "    print(a,b,c)"
   ]
  },
  {
   "cell_type": "code",
   "execution_count": null,
   "metadata": {
    "tags": []
   },
   "outputs": [],
   "source": [
    "resid={}\n",
    "for a,b in zip(resid_name, resid_height):\n",
    "    resid[a]=b\n",
    "print(resid)"
   ]
  },
  {
   "cell_type": "code",
   "execution_count": null,
   "metadata": {
    "tags": []
   },
   "outputs": [],
   "source": [
    "resid={}\n",
    "for a,b,c in zip(resid_name, resid_height, resid_gender):\n",
    "    resid[a]=b,c\n",
    "print(resid)"
   ]
  },
  {
   "cell_type": "code",
   "execution_count": null,
   "metadata": {
    "tags": []
   },
   "outputs": [],
   "source": [
    "d"
   ]
  },
  {
   "cell_type": "code",
   "execution_count": null,
   "metadata": {},
   "outputs": [],
   "source": []
  }
 ],
 "metadata": {
  "kernelspec": {
   "display_name": "Python 3",
   "language": "python",
   "name": "python3"
  },
  "language_info": {
   "codemirror_mode": {
    "name": "ipython",
    "version": 3
   },
   "file_extension": ".py",
   "mimetype": "text/x-python",
   "name": "python",
   "nbconvert_exporter": "python",
   "pygments_lexer": "ipython3",
   "version": "3.8.5"
  }
 },
 "nbformat": 4,
 "nbformat_minor": 4
}
