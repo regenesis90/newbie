{
 "cells": [
  {
   "cell_type": "markdown",
   "metadata": {},
   "source": [
    "# dict comprehension"
   ]
  },
  {
   "cell_type": "code",
   "execution_count": 1,
   "metadata": {},
   "outputs": [],
   "source": [
    "resid_no=[101,102,103,104]\n",
    "resid_name=['Andrea','Yanis','Cleveth','NY']"
   ]
  },
  {
   "cell_type": "code",
   "execution_count": 2,
   "metadata": {},
   "outputs": [
    {
     "name": "stdout",
     "output_type": "stream",
     "text": [
      "{101: 'Andrea', 102: 'Yanis', 103: 'Cleveth', 104: 'NY'}\n"
     ]
    }
   ],
   "source": [
    "resid={k:v for k,v in zip(resid_no,resid_name)}\n",
    "print(resid)"
   ]
  },
  {
   "cell_type": "markdown",
   "metadata": {},
   "source": [
    "### 1)예제 : 색상을 key, 이름 글자수를 value로 하는 dict 'color_dict' 생성하기"
   ]
  },
  {
   "cell_type": "code",
   "execution_count": 4,
   "metadata": {},
   "outputs": [],
   "source": [
    "color=['red','pink','orange','yellow','green','blue','purple']"
   ]
  },
  {
   "cell_type": "code",
   "execution_count": 6,
   "metadata": {},
   "outputs": [
    {
     "name": "stdout",
     "output_type": "stream",
     "text": [
      "{'red': 3, 'pink': 4, 'orange': 6, 'yellow': 6, 'green': 5, 'blue': 4, 'purple': 6}\n"
     ]
    }
   ],
   "source": [
    "# (1) empty dict 생성\n",
    "color_dict={}\n",
    "# (2) 빈 리스트에 for loop로 color의 key, value 추가\n",
    "for c in color:\n",
    "    color_dict[c]=len(c)\n",
    "print(color_dict)"
   ]
  },
  {
   "cell_type": "markdown",
   "metadata": {},
   "source": [
    "### 2) 예제 : dict comprehension"
   ]
  },
  {
   "cell_type": "code",
   "execution_count": 7,
   "metadata": {},
   "outputs": [
    {
     "name": "stdout",
     "output_type": "stream",
     "text": [
      "{'red': 3, 'pink': 4, 'orange': 6, 'yellow': 6, 'green': 5, 'blue': 4, 'purple': 6}\n"
     ]
    }
   ],
   "source": [
    "colour_dict={}\n",
    "color_dict={c:len(c) for c in color}\n",
    "print(color_dict)"
   ]
  },
  {
   "cell_type": "markdown",
   "metadata": {},
   "source": [
    "### 3) 예제 : 리스트 단어를 key, 등장 빈도수를 value로 하는 dict 객체 생성"
   ]
  },
  {
   "cell_type": "code",
   "execution_count": 8,
   "metadata": {},
   "outputs": [],
   "source": [
    "company=['Bilbo', 'Bilbo', 'Thorin', 'Thorin', 'Thorin', 'Gandalf', 'Gandalf', 'Fili', 'Kili']"
   ]
  },
  {
   "cell_type": "code",
   "execution_count": 9,
   "metadata": {},
   "outputs": [
    {
     "name": "stdout",
     "output_type": "stream",
     "text": [
      "{'Bilbo': 2, 'Thorin': 3, 'Gandalf': 2, 'Fili': 1, 'Kili': 1}\n"
     ]
    }
   ],
   "source": [
    "# 빈 객체, company_count 생성\n",
    "company_count={}\n",
    "# 단어가 company_count의 key로 존재하면 : count+=1\n",
    "# 단어가 company_count의 key로 존재하지 않으면 : count=1\n",
    "for c in company:\n",
    "    if c in company_count:\n",
    "        company_count[c]+=1\n",
    "    else:\n",
    "        company_count[c]=1\n",
    "print(company_count)"
   ]
  }
 ],
 "metadata": {
  "kernelspec": {
   "display_name": "Python 3",
   "language": "python",
   "name": "python3"
  },
  "language_info": {
   "codemirror_mode": {
    "name": "ipython",
    "version": 3
   },
   "file_extension": ".py",
   "mimetype": "text/x-python",
   "name": "python",
   "nbconvert_exporter": "python",
   "pygments_lexer": "ipython3",
   "version": "3.8.5"
  }
 },
 "nbformat": 4,
 "nbformat_minor": 4
}
