{
 "cells": [
  {
   "cell_type": "markdown",
   "metadata": {},
   "source": [
    "# def : 함수 정의, 새로운 함수 만들기\n",
    "\n",
    "함수 정의(function definition) : 새 함수 이름, 함수 호출 시 실행할 명령문으로 구성됨\n",
    "`def 함수이름():`"
   ]
  },
  {
   "cell_type": "code",
   "execution_count": 36,
   "metadata": {},
   "outputs": [],
   "source": [
    "def print_lyrics(): # 빈 괄호 : 어떤 인수도 필요로 하지 않는다.\n",
    "    print(\"My name is Sara.\")\n",
    "    print(\"That mountain is Sara Mountain\")"
   ]
  },
  {
   "cell_type": "code",
   "execution_count": 37,
   "metadata": {},
   "outputs": [
    {
     "name": "stdout",
     "output_type": "stream",
     "text": [
      "My name is Sara.\n",
      "That mountain is Sara Mountain\n"
     ]
    }
   ],
   "source": [
    "print_lyrics()"
   ]
  },
  {
   "cell_type": "code",
   "execution_count": 38,
   "metadata": {},
   "outputs": [],
   "source": [
    "#교통계획평가 : 소비자 잉여 계산\n",
    "# q1 : 개선 전 통행량, q2 : 개선 후 통행량\n",
    "# c1 : 개선 전 비용, c2 : 개선 후 비용\n",
    "def consumers_surplus(q1,q2,c1,c2):\n",
    "    print(1/2*(q1+q2)*(c1-c2))"
   ]
  },
  {
   "cell_type": "code",
   "execution_count": 39,
   "metadata": {},
   "outputs": [
    {
     "name": "stdout",
     "output_type": "stream",
     "text": [
      "7500.0\n"
     ]
    }
   ],
   "source": [
    "# comsumers_surplus()로 소비자 잉여 계산하기\n",
    "consumers_surplus(100,200,80,30)"
   ]
  },
  {
   "cell_type": "code",
   "execution_count": 40,
   "metadata": {},
   "outputs": [
    {
     "name": "stdout",
     "output_type": "stream",
     "text": [
      "<function consumers_surplus at 0x0000020DB4F63430>\n"
     ]
    }
   ],
   "source": [
    "# function 타입의 함수 객체 consumers_surplus가 생성되었음.\n",
    "# 한번 정의한 함수는 다른 함수 내부에서도 이 함수를 호출할 수 있어\n",
    "# 복합적 호출, 복합적 사용도 가능하게 된다.\n",
    "print(consumers_surplus)"
   ]
  }
 ],
 "metadata": {
  "kernelspec": {
   "display_name": "Python 3",
   "language": "python",
   "name": "python3"
  },
  "language_info": {
   "codemirror_mode": {
    "name": "ipython",
    "version": 3
   },
   "file_extension": ".py",
   "mimetype": "text/x-python",
   "name": "python",
   "nbconvert_exporter": "python",
   "pygments_lexer": "ipython3",
   "version": "3.8.5"
  }
 },
 "nbformat": 4,
 "nbformat_minor": 4
}
