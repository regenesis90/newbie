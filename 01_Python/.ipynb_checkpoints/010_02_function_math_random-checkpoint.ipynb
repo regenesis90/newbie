{
 "cells": [
  {
   "cell_type": "markdown",
   "metadata": {},
   "source": [
    "# function def 예시"
   ]
  },
  {
   "cell_type": "code",
   "execution_count": 1,
   "metadata": {},
   "outputs": [],
   "source": [
    "import math #> 수학 함수 정의 모듈\n",
    "import random #> 난수 생성 함수 정의 모듈"
   ]
  },
  {
   "cell_type": "markdown",
   "metadata": {},
   "source": [
    "### 문제 1. 함수 정의 : 정수 난수 n개로 이루어진 리스트를 리턴하는 함수"
   ]
  },
  {
   "cell_type": "code",
   "execution_count": 2,
   "metadata": {},
   "outputs": [],
   "source": [
    "# for - in 구문 사용\n",
    "def make_list(n:int) -> list:\n",
    "    \"\"\"양의 정수 n을 전달 받아서, 정수 난수 n개로 이루어진 리스트를 리턴\"\"\"\n",
    "    result=[] #> 빈 리스트 생성\n",
    "    for _ in range(1,n+1):\n",
    "        result.append(random.randrange(10000)) #> 난수를 리스트에 추가\n",
    "    return result"
   ]
  },
  {
   "cell_type": "code",
   "execution_count": 3,
   "metadata": {},
   "outputs": [
    {
     "name": "stdout",
     "output_type": "stream",
     "text": [
      "[4250, 5408, 5006, 2873, 1578, 8449, 9183, 8219, 355, 1092]\n"
     ]
    }
   ],
   "source": [
    "result=make_list(10)\n",
    "print(result)"
   ]
  },
  {
   "cell_type": "code",
   "execution_count": 4,
   "metadata": {},
   "outputs": [],
   "source": [
    "# for - in 구문, list comprehension 사용\n",
    "def make_list(n:int) -> list:\n",
    "    \"\"\"양의 정수 n을 전달 받아서, 정수 난수 n개로 이루어진 리스트를 리턴\"\"\"\n",
    "    result=[random.randrange(10000) for _ in range(1,n+1)]\n",
    "    return result"
   ]
  },
  {
   "cell_type": "code",
   "execution_count": 5,
   "metadata": {},
   "outputs": [
    {
     "name": "stdout",
     "output_type": "stream",
     "text": [
      "[5598, 6429, 6725]\n"
     ]
    }
   ],
   "source": [
    "result=make_list(3)\n",
    "print(result)"
   ]
  },
  {
   "cell_type": "markdown",
   "metadata": {},
   "source": [
    "### 문제 2. 함수 정의 : 원하는 범위(start 이상 end 미만) 숫자 n개 난수 리스트 생성"
   ]
  },
  {
   "cell_type": "code",
   "execution_count": 7,
   "metadata": {},
   "outputs": [],
   "source": [
    "# for - loop\n",
    "def make_list_range(n:int, start:int, end:int) -> list:\n",
    "    \"\"\"[start,end) 범위의 정수 난수 n개로 이루어진 리스트 리턴\"\"\"\n",
    "    result=[]\n",
    "    for _ in range(1,n+1):\n",
    "        result.append(random.randrange(start, end))\n",
    "    return result"
   ]
  },
  {
   "cell_type": "code",
   "execution_count": 8,
   "metadata": {},
   "outputs": [
    {
     "name": "stdout",
     "output_type": "stream",
     "text": [
      "[25, 20, 22, 21, 23, 25, 20, 25, 27, 22]\n"
     ]
    }
   ],
   "source": [
    "result=make_list_range(10,20,30)\n",
    "print(result)"
   ]
  },
  {
   "cell_type": "code",
   "execution_count": 10,
   "metadata": {},
   "outputs": [],
   "source": [
    "# list comprehension\n",
    "def make_list_range(n:int, start:int, end:int) -> list:\n",
    "    \"\"\"[start,end) 범위의 정수 난수 n개로 이루어진 리스트 리턴\"\"\"\n",
    "    result=[random.randrange(start,end) for _ in range(1,n+1)]\n",
    "    return result"
   ]
  },
  {
   "cell_type": "code",
   "execution_count": 11,
   "metadata": {},
   "outputs": [
    {
     "name": "stdout",
     "output_type": "stream",
     "text": [
      "[47, 41, 46, 49, 49, 44, 49, 43, 40, 40]\n"
     ]
    }
   ],
   "source": [
    "result=make_list_range(10,40,50)\n",
    "print(result)"
   ]
  },
  {
   "cell_type": "markdown",
   "metadata": {},
   "source": [
    "### 문제 3. 함수 정의 : 숫자 리스트를 전달받아 리스트의 모든 원소 합을 리턴"
   ]
  },
  {
   "cell_type": "code",
   "execution_count": 12,
   "metadata": {},
   "outputs": [],
   "source": [
    "# for - loop\n",
    "def cal_sum(numbers:list) -> float:\n",
    "    \"\"\"숫자들을 저장한 리스트 numbers 전달받아 리스트의 모든 원소 합을 리턴\"\"\"\n",
    "    sum=0\n",
    "    for x in numbers:\n",
    "        sum+=x\n",
    "    return sum"
   ]
  },
  {
   "cell_type": "code",
   "execution_count": 13,
   "metadata": {},
   "outputs": [
    {
     "name": "stdout",
     "output_type": "stream",
     "text": [
      "36\n"
     ]
    }
   ],
   "source": [
    "result=cal_sum([1,2,3,4,5,6,7,8])\n",
    "print(result)"
   ]
  },
  {
   "cell_type": "markdown",
   "metadata": {},
   "source": [
    "### 문제 4. 숫자 리스트를 전달받아 리스트 모든 원소의 분산을 리턴"
   ]
  },
  {
   "cell_type": "code",
   "execution_count": 14,
   "metadata": {},
   "outputs": [],
   "source": [
    "def cal_variance(numbers:list) -> float:\n",
    "    \"\"\"숫자들을 저장한 리스트 numbers를 전달받아서,\n",
    "    리스트 모든 원소들의 분산을 리턴함\n",
    "    variance=sum_i[(x_i-mean(x))**2]/n\"\"\"\n",
    "    sum=cal_sum(numbers)\n",
    "    mean=sum/len(numbers)\n",
    "    sum_of_squares=0\n",
    "    for x in numbers:\n",
    "        sum_of_squares+=(x-mean)**2\n",
    "    variance=sum_of_squares/len(numbers)\n",
    "    return variance"
   ]
  },
  {
   "cell_type": "code",
   "execution_count": 15,
   "metadata": {},
   "outputs": [
    {
     "name": "stdout",
     "output_type": "stream",
     "text": [
      "7.359375\n"
     ]
    }
   ],
   "source": [
    "result=cal_variance([1,2,3,4,5,7,8,9])\n",
    "print(result)"
   ]
  },
  {
   "cell_type": "markdown",
   "metadata": {},
   "source": [
    "### 문제 5. 함수 정의 : 표준편차 구하기"
   ]
  },
  {
   "cell_type": "code",
   "execution_count": 16,
   "metadata": {},
   "outputs": [],
   "source": [
    "def cal_stddev(numbers:list) -> float:\n",
    "    \"\"\"숫자들을 저장한 리스트 numbers를 전달받아서,\n",
    "    리스트 원소들의 표준편차를 리턴\n",
    "    standard_deviation=sqrt(variance)\"\"\"\n",
    "    stddev=math.sqrt(cal_variance(numbers))\n",
    "    return stddev"
   ]
  },
  {
   "cell_type": "code",
   "execution_count": 17,
   "metadata": {},
   "outputs": [
    {
     "name": "stdout",
     "output_type": "stream",
     "text": [
      "25.982725815747788\n"
     ]
    }
   ],
   "source": [
    "result=cal_stddev([1,2,3,4,7,7,78])\n",
    "print(result)"
   ]
  },
  {
   "cell_type": "markdown",
   "metadata": {},
   "source": [
    "### 문제 6. 함수 정의 : 최대값, 최소값 찾기"
   ]
  },
  {
   "cell_type": "code",
   "execution_count": 18,
   "metadata": {},
   "outputs": [],
   "source": [
    "def find_min_and_max(numbers:list) -> (float, float):\n",
    "    \"\"\"숫자들을 저장한 리스트 numbers의 (최소값, 최대값) 리턴\"\"\"\n",
    "    min,max=numbers[0],numbers[0]\n",
    "    for x in numbers:\n",
    "        if min>x:\n",
    "            min=x\n",
    "        else:\n",
    "            min\n",
    "        if max<x:\n",
    "            max=x\n",
    "        return min, max"
   ]
  },
  {
   "cell_type": "code",
   "execution_count": 19,
   "metadata": {},
   "outputs": [
    {
     "name": "stdout",
     "output_type": "stream",
     "text": [
      "1\n",
      "1\n"
     ]
    }
   ],
   "source": [
    "_min, _max=find_min_and_max([1,2,3,4,5,6,7,8])\n",
    "print(_min)\n",
    "print(_max)"
   ]
  },
  {
   "cell_type": "code",
   "execution_count": null,
   "metadata": {},
   "outputs": [],
   "source": []
  }
 ],
 "metadata": {
  "kernelspec": {
   "display_name": "Python 3",
   "language": "python",
   "name": "python3"
  },
  "language_info": {
   "codemirror_mode": {
    "name": "ipython",
    "version": 3
   },
   "file_extension": ".py",
   "mimetype": "text/x-python",
   "name": "python",
   "nbconvert_exporter": "python",
   "pygments_lexer": "ipython3",
   "version": "3.8.5"
  }
 },
 "nbformat": 4,
 "nbformat_minor": 4
}
