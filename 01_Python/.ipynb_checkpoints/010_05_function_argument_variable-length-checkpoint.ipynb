{
 "cells": [
  {
   "cell_type": "markdown",
   "metadata": {},
   "source": [
    "# 가변길이 인수(variable-length parameter / arbitrary-length parameter)\n",
    "\n",
    "* **argument가 1개, 2개, ..., n개여도 된다.**\n",
    "* 함수 호출 시 전달하는 argument 개수에 제한이 없어, 개수가 변할 수 있다.\n",
    "* 함수 내부(본문)에서 가변길이 인수는 tuple로 간주한다."
   ]
  },
  {
   "cell_type": "markdown",
   "metadata": {},
   "source": [
    "## 가변길이 인수 만드는 방법 : 함수 정의(선언) 시, parameter 이름 앞에 '*'를 붙인다."
   ]
  },
  {
   "cell_type": "code",
   "execution_count": 1,
   "metadata": {},
   "outputs": [
    {
     "name": "stdout",
     "output_type": "stream",
     "text": [
      "hello\n",
      "hello 안녕\n",
      "hello 안녕 Bon Jour\n",
      "\n"
     ]
    }
   ],
   "source": [
    "# print()는 가변길이 인수를 갖는다.\n",
    "print('hello')\n",
    "print('hello', '안녕')\n",
    "print('hello', '안녕', 'Bon Jour')\n",
    "print()"
   ]
  },
  {
   "cell_type": "markdown",
   "metadata": {},
   "source": [
    "### 문제 1. 임의의 개수의 숫자들을 전달받아, 그 합을 계산하여 리턴하는 함수 add_all 생성"
   ]
  },
  {
   "cell_type": "code",
   "execution_count": 2,
   "metadata": {},
   "outputs": [],
   "source": [
    "def add_all(* values): #> 별표(*) : 이 자리에 argument가 몇 개 와도 상관없다는 의미\n",
    "    \"\"\"임의의 개수의 숫자를 전달받아,\n",
    "    그 숫자들의 합을 계산하여 리턴하는 함수\"\"\"\n",
    "    total = 0\n",
    "    for x in values:\n",
    "        total += x\n",
    "        \n",
    "    return total"
   ]
  },
  {
   "cell_type": "code",
   "execution_count": 3,
   "metadata": {},
   "outputs": [
    {
     "data": {
      "text/plain": [
       "2800"
      ]
     },
     "execution_count": 3,
     "metadata": {},
     "output_type": "execute_result"
    }
   ],
   "source": [
    "# add_all() 함수 테스트\n",
    "add_all(100, 200, 300, 400, 500, 600, 700)"
   ]
  },
  {
   "cell_type": "code",
   "execution_count": 4,
   "metadata": {},
   "outputs": [
    {
     "data": {
      "text/plain": [
       "0"
      ]
     },
     "execution_count": 4,
     "metadata": {},
     "output_type": "execute_result"
    }
   ],
   "source": [
    "# add_all() 함수 테스트\n",
    "add_all() #> 아무 인수도 전달하지 않으면 0을 반환한다."
   ]
  },
  {
   "cell_type": "markdown",
   "metadata": {},
   "source": [
    "## 일반 인수와 가변길이 인수가 함께 사용되는 함수 정의 :\n",
    "\n",
    "``` def 함수(a, *b):```\n",
    "* 이 경우, 가변길이 인수인 'b'에는 값을 여러 개 넣을 수 있다.\n",
    "* **값이 여러개인 b는 튜플 형식으로 표출된다.**"
   ]
  },
  {
   "cell_type": "markdown",
   "metadata": {},
   "source": [
    "### 문제 2. 임의의 숫자를 저장하는 인수 a, 임의의 여러 문자를 저장하는 가변길이 인수 b를 전달받아 출력하는 함수 생성 "
   ]
  },
  {
   "cell_type": "code",
   "execution_count": 9,
   "metadata": {},
   "outputs": [],
   "source": [
    "def fn_test(a:int, * b:str):\n",
    "    print('a = ', a)\n",
    "    print('b = ', b) #> b에 전달받은 value들을 tuple 형식으로 출력한다."
   ]
  },
  {
   "cell_type": "code",
   "execution_count": 6,
   "metadata": {},
   "outputs": [
    {
     "ename": "TypeError",
     "evalue": "fn_test() missing 1 required positional argument: 'a'",
     "output_type": "error",
     "traceback": [
      "\u001b[1;31m---------------------------------------------------------------------------\u001b[0m",
      "\u001b[1;31mTypeError\u001b[0m                                 Traceback (most recent call last)",
      "\u001b[1;32m<ipython-input-6-41b6ddb79589>\u001b[0m in \u001b[0;36m<module>\u001b[1;34m\u001b[0m\n\u001b[0;32m      1\u001b[0m \u001b[1;31m# TypeError : positional argument가 missing 인 경우\u001b[0m\u001b[1;33m\u001b[0m\u001b[1;33m\u001b[0m\u001b[1;33m\u001b[0m\u001b[0m\n\u001b[1;32m----> 2\u001b[1;33m \u001b[0mfn_test\u001b[0m\u001b[1;33m(\u001b[0m\u001b[1;33m)\u001b[0m\u001b[1;33m\u001b[0m\u001b[1;33m\u001b[0m\u001b[0m\n\u001b[0m",
      "\u001b[1;31mTypeError\u001b[0m: fn_test() missing 1 required positional argument: 'a'"
     ]
    }
   ],
   "source": [
    "# TypeError : positional argument가 missing 인 경우\n",
    "fn_test()"
   ]
  },
  {
   "cell_type": "code",
   "execution_count": 10,
   "metadata": {},
   "outputs": [
    {
     "name": "stdout",
     "output_type": "stream",
     "text": [
      "a= 1\n",
      "b= ()\n"
     ]
    }
   ],
   "source": [
    "# a=1, b는 입력하지 않은 경우\n",
    "fn_test(1)"
   ]
  },
  {
   "cell_type": "code",
   "execution_count": 11,
   "metadata": {},
   "outputs": [
    {
     "name": "stdout",
     "output_type": "stream",
     "text": [
      "a= 2\n",
      "b= ('Thorin', 'Bilbo', 'Gandalf')\n"
     ]
    }
   ],
   "source": [
    "# a=2, b는 여러가지 문자열을 입력한 경우\n",
    "fn_test(2, 'Thorin', 'Bilbo', 'Gandalf')"
   ]
  },
  {
   "cell_type": "markdown",
   "metadata": {},
   "source": [
    "## 가변길이 인수가 일반 인수보다 앞에 위치하는 경우\n",
    "```def fn(*a, b)```\n",
    "\n",
    "* variable-length argument(가변길이 인수) 뒤에 선언된 파라미터 b는 keyword-argument로만 호출할 수 있는 keyword-only-argument가 된다."
   ]
  },
  {
   "cell_type": "code",
   "execution_count": 12,
   "metadata": {},
   "outputs": [],
   "source": [
    "def fn_test2(* a, b):\n",
    "    print('a = ', a)\n",
    "    print('b = ', b)"
   ]
  },
  {
   "cell_type": "code",
   "execution_count": 13,
   "metadata": {},
   "outputs": [
    {
     "name": "stdout",
     "output_type": "stream",
     "text": [
      "a= (1, 2, 3)\n",
      "b= Thorin\n"
     ]
    }
   ],
   "source": [
    "fn_test2(1, 2, 3, b = 'Thorin') #> ㅁ는 (1,2,3), b는 Thorin"
   ]
  },
  {
   "cell_type": "markdown",
   "metadata": {},
   "source": [
    "## 불가능한 경우 : 두 개의 인수가 모두 가변길이 인수인 경우\n",
    "``` def fn(*a, *b)```\n",
    "\n",
    "이런 함수는 불가능하다. 가변길이 인수 a와 b를 구별할 방법이 없기 때문이다."
   ]
  },
  {
   "cell_type": "markdown",
   "metadata": {},
   "source": [
    "### 문제 3. 임의의 여러 값들과 연산자를 받아서 연산자에 따른 결과를 출력하는 함수 생성\n",
    "\n",
    "* **values** : 임의의 개수의 문자들\n",
    "* **op** : 문자열 '+' 또는 '*'\n",
    "* op가 '+'이면 values 합 리턴. 기본값 0 리턴\n",
    "* op가 '*'이면 values 곱 리턴. 기본값 1 리턴\n",
    "* op가 '+', '*'가 아니면 ValueError 발생"
   ]
  },
  {
   "cell_type": "code",
   "execution_count": 22,
   "metadata": {},
   "outputs": [],
   "source": [
    "def calculate(* values, op):\n",
    "    \"\"\"\n",
    "    values: 임의의 개수의 문자들\n",
    "    op: 문자열 '+' 또는 '*'\n",
    "    op가 '+'이면 values 합 리턴. 기본값은 0 리턴\n",
    "    op가 '*'이면 values 곱 리턴. 기본값은 1 리턴\n",
    "    op가 '+'나 '*'가 아닌 경우, ValueError 발생\n",
    "    \"\"\"\n",
    "    if op == '+':\n",
    "        result = 0\n",
    "        \n",
    "        for x in values:\n",
    "            result += x\n",
    "            \n",
    "    elif op == '*':\n",
    "        result = 1\n",
    "        for x in values:\n",
    "            result *= x\n",
    "            \n",
    "    else:\n",
    "        raise ValueError(\"op는 '+' 또는 '*'만 가능합니다.\")\n",
    "    \n",
    "    return result"
   ]
  },
  {
   "cell_type": "code",
   "execution_count": 26,
   "metadata": {},
   "outputs": [
    {
     "data": {
      "text/plain": [
       "141"
      ]
     },
     "execution_count": 26,
     "metadata": {},
     "output_type": "execute_result"
    }
   ],
   "source": [
    "calculate(1, 20, 30, 40, 50, op = '+')"
   ]
  },
  {
   "cell_type": "code",
   "execution_count": 27,
   "metadata": {},
   "outputs": [
    {
     "data": {
      "text/plain": [
       "0"
      ]
     },
     "execution_count": 27,
     "metadata": {},
     "output_type": "execute_result"
    }
   ],
   "source": [
    "calculate(op = '+')"
   ]
  },
  {
   "cell_type": "code",
   "execution_count": 28,
   "metadata": {},
   "outputs": [
    {
     "ename": "ValueError",
     "evalue": "op는 '+' 또는 '*'만 가능합니다.",
     "output_type": "error",
     "traceback": [
      "\u001b[1;31m---------------------------------------------------------------------------\u001b[0m",
      "\u001b[1;31mValueError\u001b[0m                                Traceback (most recent call last)",
      "\u001b[1;32m<ipython-input-28-166b6ea45b0c>\u001b[0m in \u001b[0;36m<module>\u001b[1;34m\u001b[0m\n\u001b[0;32m      1\u001b[0m \u001b[1;31m# ValueError 발생 구문\u001b[0m\u001b[1;33m\u001b[0m\u001b[1;33m\u001b[0m\u001b[1;33m\u001b[0m\u001b[0m\n\u001b[1;32m----> 2\u001b[1;33m \u001b[0mcalculate\u001b[0m\u001b[1;33m(\u001b[0m\u001b[1;36m1\u001b[0m\u001b[1;33m,\u001b[0m\u001b[1;36m2\u001b[0m\u001b[1;33m,\u001b[0m\u001b[1;36m3\u001b[0m\u001b[1;33m,\u001b[0m \u001b[0mop\u001b[0m\u001b[1;33m=\u001b[0m\u001b[1;34m'%'\u001b[0m\u001b[1;33m)\u001b[0m\u001b[1;33m\u001b[0m\u001b[1;33m\u001b[0m\u001b[0m\n\u001b[0m",
      "\u001b[1;32m<ipython-input-22-3d3897b25455>\u001b[0m in \u001b[0;36mcalculate\u001b[1;34m(op, *values)\u001b[0m\n\u001b[0;32m     16\u001b[0m             \u001b[0mresult\u001b[0m\u001b[1;33m*=\u001b[0m\u001b[0mx\u001b[0m\u001b[1;33m\u001b[0m\u001b[1;33m\u001b[0m\u001b[0m\n\u001b[0;32m     17\u001b[0m     \u001b[1;32melse\u001b[0m\u001b[1;33m:\u001b[0m\u001b[1;33m\u001b[0m\u001b[1;33m\u001b[0m\u001b[0m\n\u001b[1;32m---> 18\u001b[1;33m         \u001b[1;32mraise\u001b[0m \u001b[0mValueError\u001b[0m\u001b[1;33m(\u001b[0m\u001b[1;34m\"op는 '+' 또는 '*'만 가능합니다.\"\u001b[0m\u001b[1;33m)\u001b[0m\u001b[1;33m\u001b[0m\u001b[1;33m\u001b[0m\u001b[0m\n\u001b[0m\u001b[0;32m     19\u001b[0m     \u001b[1;32mreturn\u001b[0m \u001b[0mresult\u001b[0m\u001b[1;33m\u001b[0m\u001b[1;33m\u001b[0m\u001b[0m\n",
      "\u001b[1;31mValueError\u001b[0m: op는 '+' 또는 '*'만 가능합니다."
     ]
    }
   ],
   "source": [
    "# ValueError 발생 구문\n",
    "calculate(1, 2, 3, op = '%')"
   ]
  }
 ],
 "metadata": {
  "kernelspec": {
   "display_name": "Python 3",
   "language": "python",
   "name": "python3"
  },
  "language_info": {
   "codemirror_mode": {
    "name": "ipython",
    "version": 3
   },
   "file_extension": ".py",
   "mimetype": "text/x-python",
   "name": "python",
   "nbconvert_exporter": "python",
   "pygments_lexer": "ipython3",
   "version": "3.8.8"
  }
 },
 "nbformat": 4,
 "nbformat_minor": 4
}
