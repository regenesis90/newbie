{
 "cells": [
  {
   "cell_type": "markdown",
   "metadata": {},
   "source": [
    "# 1급 객체(first-class object)로서의 함수(function)\n",
    "\n",
    "* 함수는 변수에 저장할 수 있음.\n",
    "* 함수의 argument로 함수를 전달 가능\n",
    "* 함수가 함수를 반환 가능\n",
    "* 함수 내부에서 다른 함수를 정의 가능"
   ]
  },
  {
   "cell_type": "code",
   "execution_count": 1,
   "metadata": {},
   "outputs": [],
   "source": [
    "# 함수 정의(선언)\n",
    "def twice(x):\n",
    "    return 2*x"
   ]
  },
  {
   "cell_type": "code",
   "execution_count": 2,
   "metadata": {},
   "outputs": [
    {
     "name": "stdout",
     "output_type": "stream",
     "text": [
      "8\n"
     ]
    }
   ],
   "source": [
    "# 함수 호출\n",
    "result=twice(4) #> 함수 호출, 함수가 반환한 값을 변수 result에 저장\n",
    "print(result)"
   ]
  },
  {
   "cell_type": "code",
   "execution_count": 3,
   "metadata": {},
   "outputs": [],
   "source": [
    "x=1 #> 변수 x에 값 1 할당\n",
    "y=x #> 변수 y에 변수 X의 값 할당"
   ]
  },
  {
   "cell_type": "code",
   "execution_count": 4,
   "metadata": {},
   "outputs": [
    {
     "name": "stdout",
     "output_type": "stream",
     "text": [
      "<function twice at 0x000001DA26AE03A0>\n"
     ]
    }
   ],
   "source": [
    "double=twice #변수 double에 함수 twice 저장\n",
    "print(double)"
   ]
  },
  {
   "cell_type": "code",
   "execution_count": 5,
   "metadata": {},
   "outputs": [
    {
     "name": "stdout",
     "output_type": "stream",
     "text": [
      "8\n"
     ]
    }
   ],
   "source": [
    "result=double(4) #> twice 함수 호출을 double로도 할 수 있다.\n",
    "print(result)"
   ]
  },
  {
   "cell_type": "markdown",
   "metadata": {},
   "source": [
    "## 함수 내부에서 다른 함수를 정의(선언)할 수 있다.\n",
    "\n",
    "* **내부 함수(inner function)**, **지역 함수(local function)**"
   ]
  },
  {
   "cell_type": "code",
   "execution_count": 6,
   "metadata": {},
   "outputs": [],
   "source": [
    "def make_incrementor(n):\n",
    "    def add_n(x):\n",
    "        return x+n\n",
    "    return add_n"
   ]
  },
  {
   "cell_type": "code",
   "execution_count": 7,
   "metadata": {},
   "outputs": [
    {
     "name": "stdout",
     "output_type": "stream",
     "text": [
      "<function make_incrementor.<locals>.add_n at 0x000001DA26AE0280>\n"
     ]
    }
   ],
   "source": [
    "inc_by=make_incrementor(2)\n",
    "print(inc_by)"
   ]
  },
  {
   "cell_type": "code",
   "execution_count": 9,
   "metadata": {},
   "outputs": [
    {
     "name": "stdout",
     "output_type": "stream",
     "text": [
      "12\n"
     ]
    }
   ],
   "source": [
    "result=inc_by(10)\n",
    "print(result)"
   ]
  }
 ],
 "metadata": {
  "kernelspec": {
   "display_name": "Python 3",
   "language": "python",
   "name": "python3"
  },
  "language_info": {
   "codemirror_mode": {
    "name": "ipython",
    "version": 3
   },
   "file_extension": ".py",
   "mimetype": "text/x-python",
   "name": "python",
   "nbconvert_exporter": "python",
   "pygments_lexer": "ipython3",
   "version": "3.8.5"
  }
 },
 "nbformat": 4,
 "nbformat_minor": 4
}
