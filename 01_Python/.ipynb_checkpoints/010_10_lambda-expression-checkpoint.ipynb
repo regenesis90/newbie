{
 "cells": [
  {
   "cell_type": "markdown",
   "metadata": {},
   "source": [
    "# 람다 표현식(Lambda Expression)\n",
    "\n",
    "* **이름이 없는 함수(anonymous function)**\n",
    "* 함수 이름 없이, 함수 parameter 선언과 반환값(return value), 또는 반환식(return expression)으로 함수를 표현하는 방법\n",
    "\n",
    "* expression : ```lambda param1, param2, ...```"
   ]
  },
  {
   "cell_type": "code",
   "execution_count": 1,
   "metadata": {},
   "outputs": [],
   "source": [
    "plus=lambda x,y : x+y"
   ]
  },
  {
   "cell_type": "code",
   "execution_count": 2,
   "metadata": {},
   "outputs": [
    {
     "name": "stdout",
     "output_type": "stream",
     "text": [
      "<function <lambda> at 0x000002E54EA3F3A0>\n"
     ]
    }
   ],
   "source": [
    "print(plus)"
   ]
  },
  {
   "cell_type": "code",
   "execution_count": 3,
   "metadata": {},
   "outputs": [
    {
     "name": "stdout",
     "output_type": "stream",
     "text": [
      "23\n"
     ]
    }
   ],
   "source": [
    "result=plus(11,12)\n",
    "print(result)"
   ]
  },
  {
   "cell_type": "code",
   "execution_count": 4,
   "metadata": {},
   "outputs": [
    {
     "name": "stdout",
     "output_type": "stream",
     "text": [
      "-9\n"
     ]
    }
   ],
   "source": [
    "# f(x,y)=x-y\n",
    "minus=lambda x,y:x-y\n",
    "result=minus(10,19)\n",
    "print(result)"
   ]
  },
  {
   "cell_type": "code",
   "execution_count": 5,
   "metadata": {},
   "outputs": [
    {
     "name": "stdout",
     "output_type": "stream",
     "text": [
      "True\n"
     ]
    }
   ],
   "source": [
    "# f(x)=True if x is even number, False if x is odd number\n",
    "is_even=lambda x: True if x%2==0 else False\n",
    "result=is_even(10)\n",
    "print(result)"
   ]
  },
  {
   "cell_type": "markdown",
   "metadata": {},
   "source": [
    "### 문제 1. calculator 함수에 lambda expression 전달하기"
   ]
  },
  {
   "cell_type": "code",
   "execution_count": 6,
   "metadata": {},
   "outputs": [],
   "source": [
    "def calculator(x, y, operator):\n",
    "    return operator(x,y)"
   ]
  },
  {
   "cell_type": "code",
   "execution_count": 7,
   "metadata": {},
   "outputs": [
    {
     "name": "stdout",
     "output_type": "stream",
     "text": [
      "3\n"
     ]
    }
   ],
   "source": [
    "# calculator 함수의 argument에 lambda expression 전달\n",
    "result=calculator(1,2, lambda x,y: x+y) #> operator=lambda x,y:x+y\n",
    "print(result)"
   ]
  },
  {
   "cell_type": "code",
   "execution_count": 8,
   "metadata": {},
   "outputs": [
    {
     "name": "stdout",
     "output_type": "stream",
     "text": [
      "20\n"
     ]
    }
   ],
   "source": [
    "# calculator 함수와 lambda expression으로 * 연산 수행\n",
    "result=calculator(2,10, lambda x,y:x*y)\n",
    "print(result)"
   ]
  },
  {
   "cell_type": "code",
   "execution_count": 9,
   "metadata": {},
   "outputs": [
    {
     "name": "stdout",
     "output_type": "stream",
     "text": [
      "50.0\n"
     ]
    }
   ],
   "source": [
    "# calculator 함수와 lambda expression으로 / 연산 수행\n",
    "result=calculator(100,2, lambda x,y:x/y)\n",
    "print(result)"
   ]
  },
  {
   "cell_type": "code",
   "execution_count": 11,
   "metadata": {},
   "outputs": [
    {
     "name": "stdout",
     "output_type": "stream",
     "text": [
      "True\n"
     ]
    }
   ],
   "source": [
    "# calculator 함수와 lambda expression으로 x가 y보다 큰지(True/False) 확인\n",
    "result=calculator(100, 99, lambda x,y:True if x>y else false)\n",
    "#> lambda x,y:x>y\n",
    "print(result)"
   ]
  },
  {
   "cell_type": "markdown",
   "metadata": {},
   "source": [
    "### 문제 2. numbers 원소들 중, 짝수들로만 이루어진 리스트 evens 생성하는 함수 만들기"
   ]
  },
  {
   "cell_type": "code",
   "execution_count": 17,
   "metadata": {},
   "outputs": [],
   "source": [
    "def evens_list(numbers:list) -> list:\n",
    "    evens_list=[]\n",
    "    for x in numbers:\n",
    "        if x%2==0:\n",
    "            evens_list.append(x)\n",
    "    return evens_list"
   ]
  },
  {
   "cell_type": "code",
   "execution_count": 18,
   "metadata": {},
   "outputs": [
    {
     "data": {
      "text/plain": [
       "[2, 28, 293458, 390]"
      ]
     },
     "execution_count": 18,
     "metadata": {},
     "output_type": "execute_result"
    }
   ],
   "source": [
    "numbers=[1,2,49,59,28,293458,390]\n",
    "evens_list(numbers)"
   ]
  },
  {
   "cell_type": "markdown",
   "metadata": {},
   "source": [
    "### 문제 3. numbers 원소들 중, 양수들로만 이루어진 리스트 positives 생성"
   ]
  },
  {
   "cell_type": "code",
   "execution_count": 19,
   "metadata": {},
   "outputs": [],
   "source": [
    "def positive_list(numbers:list) -> list:\n",
    "    positive_list=[]\n",
    "    for x in numbers:\n",
    "        if x>0 :\n",
    "            positive_list.append(x)\n",
    "    return positive_list"
   ]
  },
  {
   "cell_type": "code",
   "execution_count": 20,
   "metadata": {},
   "outputs": [
    {
     "data": {
      "text/plain": [
       "[1, 10, 395]"
      ]
     },
     "execution_count": 20,
     "metadata": {},
     "output_type": "execute_result"
    }
   ],
   "source": [
    "numbers=[1,-10,-20,10,395,-40]\n",
    "positive_list(numbers)"
   ]
  },
  {
   "cell_type": "markdown",
   "metadata": {},
   "source": [
    "### 문제 4. myfilter 함수 만들기"
   ]
  },
  {
   "cell_type": "code",
   "execution_count": 21,
   "metadata": {},
   "outputs": [],
   "source": [
    "def my_filter(array, condition):\n",
    "    \"\"\"\n",
    "    array : 리스트\n",
    "    condition : 리스트 array의 원소 중 하나를 argument로 전달받을 시 True/False 리턴하는 함수\n",
    "    return : 리스트 array의 원소 중, 함수 condition 결과가 True인 원소들로만 이루어진 리스트\n",
    "    \"\"\"\n",
    "    result=[]\n",
    "    for x in array:\n",
    "        if condition(x)==True:\n",
    "            result.append(x)\n",
    "    return result\n",
    "    #> 또는, result=[x for x in array if condition(x)]"
   ]
  },
  {
   "cell_type": "code",
   "execution_count": 23,
   "metadata": {},
   "outputs": [],
   "source": [
    "import random"
   ]
  },
  {
   "cell_type": "code",
   "execution_count": 27,
   "metadata": {},
   "outputs": [
    {
     "name": "stdout",
     "output_type": "stream",
     "text": [
      "[10, -9, 82, -74, -38, 9, -40, -90, 66, -21]\n",
      "[10, 82, 9, 66]\n"
     ]
    }
   ],
   "source": [
    "# numbers 원소들 중, 양수들로만 이루어진 리스트\n",
    "numbers=[random.randrange(-100,100) for _ in range(10)]\n",
    "print(numbers)\n",
    "result=my_filter(numbers, lambda x:x>0)\n",
    "print(result)"
   ]
  },
  {
   "cell_type": "code",
   "execution_count": 28,
   "metadata": {},
   "outputs": [
    {
     "name": "stdout",
     "output_type": "stream",
     "text": [
      "[-80, -78, 86, -83, -72, -11, 98, 39, -71, 24]\n",
      "[-80, -78, -83, -72, -11, -71]\n"
     ]
    }
   ],
   "source": [
    "# numbers 원소들 중, 음수로만 이루어진 리스트\n",
    "numbers=[random.randrange(-100,101) for _ in range(10)]\n",
    "print(numbers)\n",
    "result=my_filter(numbers, lambda x:x<0)\n",
    "print(result)"
   ]
  },
  {
   "cell_type": "code",
   "execution_count": 30,
   "metadata": {},
   "outputs": [
    {
     "name": "stdout",
     "output_type": "stream",
     "text": [
      "[18, 98, 83, 93, 44, 90, 51, 93, 42, 35]\n",
      "[18, 98, 44, 90, 42]\n"
     ]
    }
   ],
   "source": [
    "# numbers 원소들 중, 짝수로만 이루어진 리스트\n",
    "numbers=[random.randrange(100) for _ in range(10)]\n",
    "print(numbers)\n",
    "result=my_filter(numbers, lambda x:x%2==0)\n",
    "print(result)"
   ]
  },
  {
   "cell_type": "code",
   "execution_count": 31,
   "metadata": {},
   "outputs": [
    {
     "name": "stdout",
     "output_type": "stream",
     "text": [
      "['Andrea', 'Yanis', 'Cleveth', 'Istelgray', 'Iscarotte', 'Hadun']\n",
      "['Istelgray', 'Iscarotte']\n"
     ]
    }
   ],
   "source": [
    "# my_filter 함수를 사용하여, names 리스트에서 문자열 길이가 8 이상인 단어 리스트 생성\n",
    "names=['Andrea', 'Yanis', 'Cleveth', 'Istelgray', 'Iscarotte', 'Hadun']\n",
    "print(names)\n",
    "longer_than_8=my_filter(names, lambda x:len(x)>=8)\n",
    "print(longer_than_8)"
   ]
  },
  {
   "cell_type": "markdown",
   "metadata": {},
   "source": [
    "### 문제 5. dict 생성"
   ]
  },
  {
   "cell_type": "code",
   "execution_count": 32,
   "metadata": {},
   "outputs": [
    {
     "name": "stdout",
     "output_type": "stream",
     "text": [
      "{'Andrea': 6, 'Yanis': 5, 'Cleveth': 7, 'Istelgray': 9, 'Iscarotte': 9, 'Hadun': 5}\n"
     ]
    }
   ],
   "source": [
    "# 리스트 names의 원소를 key로, 원소 글자수를 value로 하는 dict 생성하기\n",
    "names_dict={}\n",
    "for x in names:\n",
    "    names_dict[x]=len(x)\n",
    "print(names_dict)"
   ]
  },
  {
   "cell_type": "code",
   "execution_count": 33,
   "metadata": {},
   "outputs": [
    {
     "name": "stdout",
     "output_type": "stream",
     "text": [
      "{'Andrea': 6, 'Yanis': 5, 'Cleveth': 7, 'Istelgray': 9, 'Iscarotte': 9, 'Hadun': 5}\n"
     ]
    }
   ],
   "source": [
    "# list comprehension\n",
    "names_dict={}\n",
    "names_dict={k:len(k) for k in names}\n",
    "print(names_dict)"
   ]
  },
  {
   "cell_type": "markdown",
   "metadata": {},
   "source": [
    "### 문제 6. dict와 lambda expression : my_mapper 함수 만들기"
   ]
  },
  {
   "cell_type": "code",
   "execution_count": 34,
   "metadata": {},
   "outputs": [],
   "source": [
    "def my_mapper(values, fn):\n",
    "    \"\"\"\n",
    "    values : 리스트\n",
    "    fn : argument 개수가 1개, 리턴 값이 있는 함수(void 아님, 가변길이 인수 없음)\n",
    "    return : values 원소를 key, 그 원소를 fn의 argument로 전달 시의 리턴 값이 value인 dict\n",
    "    \"\"\"\n",
    "    result={}\n",
    "    for x in values:\n",
    "        result[x]=fn(x) #> result={x:fn(x) for x in values}\n",
    "    return result"
   ]
  },
  {
   "cell_type": "code",
   "execution_count": 36,
   "metadata": {},
   "outputs": [
    {
     "name": "stdout",
     "output_type": "stream",
     "text": [
      "{'Andrea': 6, 'Yanis': 5, 'Cleveth': 7, 'Istelgray': 9, 'Iscarotte': 9, 'Hadun': 5}\n"
     ]
    }
   ],
   "source": [
    "# my_mapper, lambda expression : names 원소가 key, 원소 글자수가 value인 dict 생성\n",
    "names_dict=my_mapper(names, lambda x:len(x))\n",
    "print(names_dict)"
   ]
  },
  {
   "cell_type": "code",
   "execution_count": 37,
   "metadata": {},
   "outputs": [
    {
     "name": "stdout",
     "output_type": "stream",
     "text": [
      "{'Andrea': 'andrea', 'Yanis': 'yanis', 'Cleveth': 'cleveth', 'Istelgray': 'istelgray', 'Iscarotte': 'iscarotte', 'Hadun': 'hadun'}\n"
     ]
    }
   ],
   "source": [
    "# my_mapper, lambda expression : names 원소가 key, 원소를 소문자로 변환한 문자열이 value인 dict\n",
    "names_dict_lower=my_mapper(names, lambda x:x.lower())\n",
    "print(names_dict_lower)"
   ]
  },
  {
   "cell_type": "code",
   "execution_count": 38,
   "metadata": {},
   "outputs": [
    {
     "name": "stdout",
     "output_type": "stream",
     "text": [
      "[33, 12, 99, 87, 68, 63, 63, 27, 96, 1]\n",
      "{33: False, 12: True, 99: False, 87: False, 68: True, 63: False, 27: False, 96: True, 1: False}\n"
     ]
    }
   ],
   "source": [
    "# my_mapper, lambda expression. 원소가 짝수이면 True, 홀수이면 False를  value로 하는 dict 생성\n",
    "numbers=[random.randrange(100) for _ in range(10)]\n",
    "print(numbers)\n",
    "is_even=my_mapper(numbers, lambda x:True if x%2==0 else False)\n",
    "print(is_even)"
   ]
  },
  {
   "cell_type": "code",
   "execution_count": 39,
   "metadata": {},
   "outputs": [
    {
     "name": "stdout",
     "output_type": "stream",
     "text": [
      "[70, 39, 93, 79, 70, 92, 87, 97, 76, 11]\n",
      "{70: 'even', 39: 'odd', 93: 'odd', 79: 'odd', 92: 'even', 87: 'odd', 97: 'odd', 76: 'even', 11: 'odd'}\n"
     ]
    }
   ],
   "source": [
    "# my_mapper, lambda expression. numbers 원소가 key, 짝수이면 'even', 홀수이면 'odd' value dict\n",
    "numbers=[random.randrange(100) for _ in range(10)]\n",
    "print(numbers)\n",
    "even_odd=my_mapper(numbers, lambda x:'even' if x%2==0 else 'odd')\n",
    "print(even_odd)"
   ]
  }
 ],
 "metadata": {
  "kernelspec": {
   "display_name": "Python 3",
   "language": "python",
   "name": "python3"
  },
  "language_info": {
   "codemirror_mode": {
    "name": "ipython",
    "version": 3
   },
   "file_extension": ".py",
   "mimetype": "text/x-python",
   "name": "python",
   "nbconvert_exporter": "python",
   "pygments_lexer": "ipython3",
   "version": "3.8.5"
  }
 },
 "nbformat": 4,
 "nbformat_minor": 4
}
