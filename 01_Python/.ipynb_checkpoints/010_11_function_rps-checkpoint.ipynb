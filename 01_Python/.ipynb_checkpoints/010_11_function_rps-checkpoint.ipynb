{
 "cells": [
  {
   "cell_type": "markdown",
   "metadata": {},
   "source": [
    "# 2선승제 가위/바위/보 게임 함수 제작\n",
    "\n",
    "```\n",
    "def user_choice()\n",
    "\n",
    "def computer_choice()\n",
    "\n",
    "def show_user_computer_choice()\n",
    "\n",
    "def game_result()\n",
    "\n",
    "def end_condition()\n",
    "\n",
    "```"
   ]
  },
  {
   "cell_type": "code",
   "execution_count": 1,
   "metadata": {
    "execution": {
     "iopub.execute_input": "2022-05-21T04:11:03.890121Z",
     "iopub.status.busy": "2022-05-21T04:11:03.890121Z",
     "iopub.status.idle": "2022-05-21T04:11:03.899098Z",
     "shell.execute_reply": "2022-05-21T04:11:03.899098Z",
     "shell.execute_reply.started": "2022-05-21T04:11:03.890121Z"
    }
   },
   "outputs": [],
   "source": [
    "rps = {1:'가위', 2:'바위', 3:'보'}"
   ]
  },
  {
   "cell_type": "code",
   "execution_count": 2,
   "metadata": {
    "execution": {
     "iopub.execute_input": "2022-05-21T04:11:03.900094Z",
     "iopub.status.busy": "2022-05-21T04:11:03.900094Z",
     "iopub.status.idle": "2022-05-21T04:11:03.914113Z",
     "shell.execute_reply": "2022-05-21T04:11:03.914113Z",
     "shell.execute_reply.started": "2022-05-21T04:11:03.900094Z"
    }
   },
   "outputs": [],
   "source": [
    "# 사용자 입력\n",
    "def user_choice():\n",
    "    \"\"\"사용자 입력으로 가위/바위/보 중 하나를 리턴(1,2,3)\n",
    "    \"\"\"\n",
    "\n",
    "    print('[1] 가위\\n[2] 바위\\n[3]보')\n",
    "    \n",
    "    try:\n",
    "        user = int(input('1,2,3 중 하나를 선택하여 입력하세요: '))\n",
    "        \n",
    "        if user not in (1, 2, 3):\n",
    "            raise ValueError('1,2,3 중 하나를 선택하여 입력하세요.')\n",
    "    \n",
    "    except:\n",
    "        print('1,2,3 중 하나를 선택하여 입력하세요.')\n",
    "    \n",
    "    return user"
   ]
  },
  {
   "cell_type": "code",
   "execution_count": 3,
   "metadata": {
    "execution": {
     "iopub.execute_input": "2022-05-21T04:11:03.915084Z",
     "iopub.status.busy": "2022-05-21T04:11:03.915084Z",
     "iopub.status.idle": "2022-05-21T04:11:03.929784Z",
     "shell.execute_reply": "2022-05-21T04:11:03.929784Z",
     "shell.execute_reply.started": "2022-05-21T04:11:03.915084Z"
    }
   },
   "outputs": [],
   "source": [
    "import random"
   ]
  },
  {
   "cell_type": "code",
   "execution_count": 4,
   "metadata": {
    "execution": {
     "iopub.execute_input": "2022-05-21T04:11:03.931780Z",
     "iopub.status.busy": "2022-05-21T04:11:03.931780Z",
     "iopub.status.idle": "2022-05-21T04:11:03.947737Z",
     "shell.execute_reply": "2022-05-21T04:11:03.945748Z",
     "shell.execute_reply.started": "2022-05-21T04:11:03.931780Z"
    }
   },
   "outputs": [],
   "source": [
    "def computer_choice():\n",
    "    \"\"\" 가위/바위/보(1,2,3) 중 하나를 랜덤하게 출력\"\"\"\n",
    "    \n",
    "    return random.randrange(1, 4)"
   ]
  },
  {
   "cell_type": "code",
   "execution_count": 5,
   "metadata": {
    "execution": {
     "iopub.execute_input": "2022-05-21T04:11:03.948735Z",
     "iopub.status.busy": "2022-05-21T04:11:03.948735Z",
     "iopub.status.idle": "2022-05-21T04:11:03.963697Z",
     "shell.execute_reply": "2022-05-21T04:11:03.961699Z",
     "shell.execute_reply.started": "2022-05-21T04:11:03.948735Z"
    }
   },
   "outputs": [],
   "source": [
    "def show_user_computer_choice(user:int, computer:int) -> None:\n",
    "    \"\"\"user_choice, computer_choice를 한 화면에 문자열로 출력함\"\"\"\n",
    "    print(f'User({rps[user]})) vs Computer({rps[computer]}')"
   ]
  },
  {
   "cell_type": "code",
   "execution_count": 6,
   "metadata": {
    "execution": {
     "iopub.execute_input": "2022-05-21T04:11:03.964691Z",
     "iopub.status.busy": "2022-05-21T04:11:03.964691Z",
     "iopub.status.idle": "2022-05-21T04:11:03.979657Z",
     "shell.execute_reply": "2022-05-21T04:11:03.977658Z",
     "shell.execute_reply.started": "2022-05-21T04:11:03.964691Z"
    }
   },
   "outputs": [],
   "source": [
    "def game_result(user:int, computer:int) -> str:\n",
    "    \"\"\" user, computer의 가위바위보 결과를 문자열로 리턴함(승자 : user/computer/tie)\"\"\"\n",
    "    game = user - computer\n",
    "    \n",
    "    if game == 0:\n",
    "        result = 'tie'\n",
    "    \n",
    "    elif game in (-2, 1):\n",
    "        result = 'user'\n",
    "    \n",
    "    elif game in (-1, 2):\n",
    "        result = 'computer'\n",
    "    \n",
    "    return result"
   ]
  },
  {
   "cell_type": "code",
   "execution_count": 7,
   "metadata": {
    "execution": {
     "iopub.execute_input": "2022-05-21T04:11:03.980648Z",
     "iopub.status.busy": "2022-05-21T04:11:03.980648Z",
     "iopub.status.idle": "2022-05-21T04:11:03.994612Z",
     "shell.execute_reply": "2022-05-21T04:11:03.993618Z",
     "shell.execute_reply.started": "2022-05-21T04:11:03.980648Z"
    }
   },
   "outputs": [],
   "source": [
    "def end_condition():\n",
    "    \"\"\"user 또는 computer가 이긴 횟수가 required_wins 이면 True, 그렇지 않으면 False 리턴\"\"\"\n",
    "    if user_win == required_wins or computer_win == required_wins:\n",
    "        return True\n",
    "    \n",
    "    else:\n",
    "        return False"
   ]
  },
  {
   "cell_type": "code",
   "execution_count": 8,
   "metadata": {
    "execution": {
     "iopub.execute_input": "2022-05-21T04:11:03.996606Z",
     "iopub.status.busy": "2022-05-21T04:11:03.995608Z",
     "iopub.status.idle": "2022-05-21T04:11:07.450398Z",
     "shell.execute_reply": "2022-05-21T04:11:07.449406Z",
     "shell.execute_reply.started": "2022-05-21T04:11:03.996606Z"
    },
    "tags": []
   },
   "outputs": [
    {
     "name": "stdout",
     "output_type": "stream",
     "text": [
      "--- Game # 1 ---\n",
      "[1] 가위\n",
      "[2] 바위\n",
      "[3]보\n"
     ]
    },
    {
     "name": "stdin",
     "output_type": "stream",
     "text": [
      "1,2,3 중 하나를 선택하여 입력하세요:  1\n"
     ]
    },
    {
     "name": "stdout",
     "output_type": "stream",
     "text": [
      "User(가위)) vs Computer(바위\n",
      "승리자: computer\n",
      "--- Game # 2 ---\n",
      "[1] 가위\n",
      "[2] 바위\n",
      "[3]보\n"
     ]
    },
    {
     "name": "stdin",
     "output_type": "stream",
     "text": [
      "1,2,3 중 하나를 선택하여 입력하세요:  3\n"
     ]
    },
    {
     "name": "stdout",
     "output_type": "stream",
     "text": [
      "User(보)) vs Computer(가위\n",
      "승리자: computer\n",
      "user:computer = 0:2 으로 computer의 승리\n"
     ]
    }
   ],
   "source": [
    "# 2선승제 가위바위보 게임 시작\n",
    "user_win = 0\n",
    "computer_win = 0 #> 처음에는 승리횟수가 0,0\n",
    "no_of_games = 0 #> 게임 진행 횟수\n",
    "required_wins = 2 #> 2선승제 게임\n",
    "\n",
    "while True:\n",
    "    no_of_games += 1\n",
    "    print(f'--- Game # {no_of_games} ---')\n",
    "    \n",
    "    user = user_choice()\n",
    "    computer = computer_choice()\n",
    "    \n",
    "    show_user_computer_choice(user, computer)\n",
    "    who_win = game_result(user, computer) #> 게임 결과\n",
    "    \n",
    "    print(f'승리자: {who_win}')\n",
    "    \n",
    "    if who_win == 'user': #> user 승리 시\n",
    "        user_win += 1\n",
    "    elif who_win == 'computer':\n",
    "        computer_win += 1\n",
    "    \n",
    "    if end_condition(): #> 누군가의 승리 횟수가 2가 되면 게임 종료 \n",
    "        break #> 무한 반복문 종료\n",
    "        \n",
    "print(f'user:computer = {user_win}:{computer_win} 으로 {who_win}의 승리')"
   ]
  }
 ],
 "metadata": {
  "kernelspec": {
   "display_name": "Python 3",
   "language": "python",
   "name": "python3"
  },
  "language_info": {
   "codemirror_mode": {
    "name": "ipython",
    "version": 3
   },
   "file_extension": ".py",
   "mimetype": "text/x-python",
   "name": "python",
   "nbconvert_exporter": "python",
   "pygments_lexer": "ipython3",
   "version": "3.8.8"
  }
 },
 "nbformat": 4,
 "nbformat_minor": 4
}
