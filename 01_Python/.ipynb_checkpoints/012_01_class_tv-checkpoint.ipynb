{
 "cells": [
  {
   "cell_type": "markdown",
   "metadata": {},
   "source": [
    "# class"
   ]
  },
  {
   "cell_type": "markdown",
   "metadata": {},
   "source": [
    "## class example : BasicTV \n",
    "\n",
    "* TV : 소프트웨어를 구현하려는 대상. Object\n",
    "* TV 설계 : Class\n",
    "    * TV 기능(function) : (1) 전원 on/off (2) 채널 변경 (3) 음량 변경 --> method\n",
    "    * TV 속성(attribute) : (1) 현재 전원 상태 (2) 현재 채널 (3) 현재 음량 --> 변수 저장. Attribute\n",
    "* TV 설계도를 가지고 생산된 TV : instance"
   ]
  },
  {
   "cell_type": "markdown",
   "metadata": {},
   "source": [
    "## class 선언 시 사용되는 메서드, 선언하는 메서드 : __init__() 외\n",
    "\n",
    "* 속성(attributes) - instance variable\n",
    "\n",
    "* **__init__()** 메서드 : 생성자 함수 호출 시 자동으로 호출되는 메서드\n",
    "    * attribute 선언 방법 : self.var_name\n",
    "    * 인스턴스(self)ㅢ 속성(attribute)들을 초기화(initialization) - 값을 설정함"
   ]
  },
  {
   "cell_type": "markdown",
   "metadata": {},
   "source": [
    "## Class 선언 방법\n",
    "```\n",
    "class 클래스이름:\n",
    "    def __init__(self, 속성1=기본값, 속성2=기본값, 속성3=기본값, ...):\n",
    "        self.속성1=속성1\n",
    "        self.속성2=속성2\n",
    "        self.속성3=속성3\n",
    "    \n",
    "    def 메서드1(self):\n",
    "        ~~정의~~\n",
    "    \n",
    "    def 메서드2(self):\n",
    "        ~~정의~~\n",
    "```"
   ]
  },
  {
   "cell_type": "markdown",
   "metadata": {},
   "source": [
    "### BasicTV 클래스 기능 수정\n",
    "\n",
    "1. 전원이 켜져 있는 상태(self.power==True)에서만 channel_up/down, volume_up/down 기능 수행\n",
    "2. channel과 volume은 최소값(0), 최대값(5) 있음\n",
    "    * channel 최대값(5)에서 channel_up() 실행 시 : channel 값이 0으로 변경\n",
    "    * channel 최소값(0)에서 channel_down() 실행 시 : channel 값이 5로 변경\n",
    "    * volume 최대값(5)에서 volume_up() 실행 시 volume 값은 그대로 5\n",
    "    * volume 최소값(0)에서 volume_down() 실행 시 volume 값은 그대로 0"
   ]
  },
  {
   "cell_type": "markdown",
   "metadata": {},
   "source": [
    "### 문제 1. class BasicTV 선언하기"
   ]
  },
  {
   "cell_type": "code",
   "execution_count": 23,
   "metadata": {},
   "outputs": [],
   "source": [
    "class BasicTV:\n",
    "    def __init__(self, power = False, channel = 0, volume = 0):\n",
    "        self.power = power\n",
    "        self.channel = channel\n",
    "        self.volume = volume\n",
    "    \n",
    "    def power_on_off(self): #> 전원 on/off 기능\n",
    "        if self.power == True:\n",
    "            self.power = False\n",
    "            print('TV OFF')\n",
    "        else:\n",
    "            self.power = True\n",
    "            print('TV ON')\n",
    "    \n",
    "    def channel_up(self): #> 채널 +1 \n",
    "        if self.power:\n",
    "            if self.channel == 5:\n",
    "                self.channel = 0\n",
    "            else:\n",
    "                self.channel += 1\n",
    "            print('channel = ', self.channel)\n",
    "\n",
    "    def channel_down(self): #> 채널 -1\n",
    "        if self.power:\n",
    "            if self.channel == 0:\n",
    "                self.channel = 5\n",
    "            else:\n",
    "                self.channel -= 1\n",
    "            print('channel = ', self.channel)\n",
    "    \n",
    "    def volume_up(self): #> 볼륨 +1\n",
    "        if self.power:\n",
    "            if self.volume == 5:\n",
    "                self.volume = 5\n",
    "            else:\n",
    "                self.volume += 1\n",
    "            print('volume = ', self.volume)\n",
    "    \n",
    "    def volume_down(self): #> 볼륨 -1\n",
    "        if self.power:\n",
    "            if self.volume == 0:\n",
    "                self.volume = 0\n",
    "            else:\n",
    "                self.volume -= 1\n",
    "            print('volume = ', self.volume)"
   ]
  },
  {
   "cell_type": "markdown",
   "metadata": {},
   "source": [
    "### 생성자 함수: ClassName()\n",
    "\n",
    "* 예 : BasicTV 클래스의 인스턴스를 생성하는 방법\n",
    "```instance_name=BasicTV()```\n",
    "\n",
    "생성자 함수 호출 -> instanciate -> TV객체 생성 -> 인스턴스"
   ]
  },
  {
   "cell_type": "markdown",
   "metadata": {},
   "source": [
    "### BasicTV 클래스의 인스턴스 만들기"
   ]
  },
  {
   "cell_type": "code",
   "execution_count": 24,
   "metadata": {},
   "outputs": [
    {
     "name": "stdout",
     "output_type": "stream",
     "text": [
      "<__main__.BasicTV object at 0x000002578967A7F0>\n",
      "power: False\n",
      "channel: 0\n",
      "volume: 0\n"
     ]
    }
   ],
   "source": [
    "tv1 = BasicTV() #> 생성자 함수 \n",
    "print(tv1)\n",
    "print('power :', tv1.power)\n",
    "print('channel :', tv1.channel)\n",
    "print('volume :', tv1.volume)"
   ]
  },
  {
   "cell_type": "code",
   "execution_count": 25,
   "metadata": {},
   "outputs": [
    {
     "name": "stdout",
     "output_type": "stream",
     "text": [
      "<__main__.BasicTV object at 0x00000257896A7310>\n",
      "power: True\n",
      "channel: 0\n",
      "volume: 0\n"
     ]
    }
   ],
   "source": [
    "tv2 = BasicTV(power = True)\n",
    "print(tv2)\n",
    "print('power :', tv2.power)\n",
    "print('channel :', tv2.channel)\n",
    "print('volume :', tv2.volume)"
   ]
  },
  {
   "cell_type": "markdown",
   "metadata": {},
   "source": [
    "## BasicTV 클래스의 메서드 사용하기"
   ]
  },
  {
   "cell_type": "code",
   "execution_count": 26,
   "metadata": {},
   "outputs": [
    {
     "name": "stdout",
     "output_type": "stream",
     "text": [
      "TV ON\n"
     ]
    }
   ],
   "source": [
    "tv1.power_on_off()"
   ]
  },
  {
   "cell_type": "code",
   "execution_count": 37,
   "metadata": {},
   "outputs": [
    {
     "name": "stdout",
     "output_type": "stream",
     "text": [
      "channel= 5\n"
     ]
    }
   ],
   "source": [
    "tv1.channel_up()"
   ]
  },
  {
   "cell_type": "code",
   "execution_count": 44,
   "metadata": {},
   "outputs": [
    {
     "name": "stdout",
     "output_type": "stream",
     "text": [
      "channel= 4\n"
     ]
    }
   ],
   "source": [
    "tv1.channel_down()"
   ]
  },
  {
   "cell_type": "code",
   "execution_count": 50,
   "metadata": {},
   "outputs": [
    {
     "name": "stdout",
     "output_type": "stream",
     "text": [
      "volume= 5\n"
     ]
    }
   ],
   "source": [
    "tv1.volume_up()"
   ]
  },
  {
   "cell_type": "code",
   "execution_count": 56,
   "metadata": {},
   "outputs": [
    {
     "name": "stdout",
     "output_type": "stream",
     "text": [
      "volume= 0\n"
     ]
    }
   ],
   "source": [
    "tv1.volume_down()"
   ]
  }
 ],
 "metadata": {
  "kernelspec": {
   "display_name": "Python 3",
   "language": "python",
   "name": "python3"
  },
  "language_info": {
   "codemirror_mode": {
    "name": "ipython",
    "version": 3
   },
   "file_extension": ".py",
   "mimetype": "text/x-python",
   "name": "python",
   "nbconvert_exporter": "python",
   "pygments_lexer": "ipython3",
   "version": "3.8.8"
  }
 },
 "nbformat": 4,
 "nbformat_minor": 4
}
