{
 "cells": [
  {
   "cell_type": "markdown",
   "metadata": {},
   "source": [
    "# class point, rectangle 생성하기"
   ]
  },
  {
   "cell_type": "code",
   "execution_count": 1,
   "metadata": {},
   "outputs": [],
   "source": [
    "import math # sqrt() 사용 목적"
   ]
  },
  {
   "cell_type": "markdown",
   "metadata": {},
   "source": [
    "## Point 클래스 생성"
   ]
  },
  {
   "cell_type": "code",
   "execution_count": 2,
   "metadata": {},
   "outputs": [],
   "source": [
    "class Point:\n",
    "    \"\"\"2차원 평면상의 점의 좌표를 표현하는 클래스\"\"\"\n",
    "    \n",
    "    def __init__(self, x = 0, y = 0): #> 인스턴스 변수 초기화\n",
    "        self.x = x\n",
    "        self.y = y\n",
    "    \n",
    "    def move(self, dx, dy):\n",
    "        \"\"\"메서드 : 점의 좌표를 원래 위치에서 x축 방향 dx, y축 방향 dy만큼 이동\"\"\"\n",
    "        self.x += dx\n",
    "        self.y += dy\n",
    "    \n",
    "    def get_distance_from(self, point):\n",
    "        \"\"\"메서드 : 다른 Point 객체 point의 점 (x,y)까지의 거리를 반환.\"\"\"\n",
    "        distance = math.sqrt((self.x - point.x) ** 2 + (self.y - point.y) ** 2)\n",
    "        \n",
    "        return distance"
   ]
  },
  {
   "cell_type": "markdown",
   "metadata": {},
   "source": [
    "## Point 클래스 테스트"
   ]
  },
  {
   "cell_type": "code",
   "execution_count": 4,
   "metadata": {},
   "outputs": [
    {
     "name": "stdout",
     "output_type": "stream",
     "text": [
      "<__main__.Point object at 0x00000139C3AFA040>\n",
      "0 0\n"
     ]
    }
   ],
   "source": [
    "# Point 클래스 인스턴스 pt1 생성\n",
    "pt1 = Point() #> 원점\n",
    "print(pt1)\n",
    "print(pt1.x, pt1.y)"
   ]
  },
  {
   "cell_type": "code",
   "execution_count": 5,
   "metadata": {},
   "outputs": [
    {
     "name": "stdout",
     "output_type": "stream",
     "text": [
      "<__main__.Point object at 0x00000139C3AFAA60>\n",
      "2 3\n"
     ]
    }
   ],
   "source": [
    "# Point 클래스 인스턴스 pt2 생성\n",
    "pt2 = Point(2,3)\n",
    "print(pt2)\n",
    "print(pt2.x, pt2.y)"
   ]
  },
  {
   "cell_type": "code",
   "execution_count": 6,
   "metadata": {},
   "outputs": [
    {
     "name": "stdout",
     "output_type": "stream",
     "text": [
      "pt1 이동 전:(0, 0)\n",
      "pt1 이동 후:(4, 5)\n"
     ]
    }
   ],
   "source": [
    "print(f'pt1 이동 전 : ({pt1.x}, {pt1.y})')\n",
    "pt1.move(4, 5)\n",
    "print(f'pt1 이동 후 : ({pt1.x}, {pt1.y})')"
   ]
  },
  {
   "cell_type": "code",
   "execution_count": 7,
   "metadata": {},
   "outputs": [
    {
     "name": "stdout",
     "output_type": "stream",
     "text": [
      "pt2 이동 전:(2, 3)\n",
      "pt2 이동 후:(12, -4)\n"
     ]
    }
   ],
   "source": [
    "print(f'pt2 이동 전 : ({pt2.x}, {pt2.y})')\n",
    "pt2.move(10, -7)\n",
    "print(f'pt2 이동 후 : ({pt2.x}, {pt2.y})')"
   ]
  },
  {
   "cell_type": "code",
   "execution_count": 8,
   "metadata": {},
   "outputs": [
    {
     "name": "stdout",
     "output_type": "stream",
     "text": [
      "12.041594578792296\n"
     ]
    }
   ],
   "source": [
    "d = pt1.get_distance_from(pt2)\n",
    "print(d)"
   ]
  },
  {
   "cell_type": "markdown",
   "metadata": {},
   "source": [
    "## Rectangle 클래스 생성하기"
   ]
  },
  {
   "cell_type": "code",
   "execution_count": 26,
   "metadata": {},
   "outputs": [],
   "source": [
    "class Rectangle:\n",
    "    \"\"\"클래스: 2차원 평면 상에서 직사각형 표현\"\"\"\n",
    "    \n",
    "    def __init__(self, x = 0, y = 0, width = 0, height = 0): #> 인스턴스 변수(attribute) 초기화\n",
    "        self.x = x\n",
    "        self.y = y\n",
    "        self.width = width\n",
    "        self.height = height\n",
    "    \n",
    "    def move(self, dx, dy): #> 메서드: 이동\n",
    "        \"\"\"메서드: 직사각형을 x축 방향 dx, y축 방향 dy 만큼 이동\"\"\"\n",
    "        self.x += dx\n",
    "        self.y += dy\n",
    "    \n",
    "    def area(self): #> 메서드 : 면적\n",
    "        \"\"\"메서드: 직사각형의 면적 계산\"\"\"\n",
    "        return self.width * self.height\n",
    "    \n",
    "    def perimeter(self): #> 메서드 : 둘레\n",
    "        \"\"\"메서드: 직사각형의 둘레 길이 계산\"\"\"\n",
    "        return (self.width + self.height) * 2\n",
    "    \n",
    "    def resize(self, dw, dh): #> 메서드 : 사이즈 조정\n",
    "        \"\"\"메서드: 직사각형 가로 길이를 dw, 세로 길이를 dh만큼 늘려 줌\"\"\"\n",
    "        self.width += dw\n",
    "        self.height += dh\n",
    "    \n",
    "    def center(self): #> 메서드 : 중심점\n",
    "        \"\"\"메서드: 직사각형 중심 좌표를 찾아 반환\"\"\"\n",
    "        center_x = self.x + self.width / 2\n",
    "        center_y = self.y + self.height / 2\n",
    "        center = Point(center_x, center_y) #> Point 클래스 인스턴스 생성\n",
    "        \n",
    "        return center #> Point 클래스 인스턴스 리턴"
   ]
  },
  {
   "cell_type": "markdown",
   "metadata": {},
   "source": [
    "## Rectangle 클래스 테스트"
   ]
  },
  {
   "cell_type": "code",
   "execution_count": 27,
   "metadata": {},
   "outputs": [
    {
     "name": "stdout",
     "output_type": "stream",
     "text": [
      "<__main__.Rectangle object at 0x00000139C3B33580>\n",
      "3 3\n"
     ]
    }
   ],
   "source": [
    "# 꼭지점 좌표 (0,0), 가로/세로 길이가 3인 직사각형 생성\n",
    "rec1 = Rectangle(width = 3, height = 3)\n",
    "print(rec1)\n",
    "print(rec1.width, rec1.height)"
   ]
  },
  {
   "cell_type": "code",
   "execution_count": 28,
   "metadata": {},
   "outputs": [
    {
     "name": "stdout",
     "output_type": "stream",
     "text": [
      "x=0, y=0, width=3, height=3\n"
     ]
    }
   ],
   "source": [
    "# rec1 인스턴스 정보 출력\n",
    "print(f'x = {rec1.x}, y = {rec1.y}, width = {rec1.width}, height = {rec1.height}')"
   ]
  },
  {
   "cell_type": "code",
   "execution_count": 29,
   "metadata": {},
   "outputs": [
    {
     "name": "stdout",
     "output_type": "stream",
     "text": [
      "x=2, y=3, width=3, height=3\n"
     ]
    }
   ],
   "source": [
    "# 사각형 이동\n",
    "rec1.move(2, 3)\n",
    "print(f'x = {rec1.x}, y = {rec1.y}, width = {rec1.width}, height = {rec1.height}')"
   ]
  },
  {
   "cell_type": "code",
   "execution_count": 30,
   "metadata": {},
   "outputs": [
    {
     "data": {
      "text/plain": [
       "9"
      ]
     },
     "execution_count": 30,
     "metadata": {},
     "output_type": "execute_result"
    }
   ],
   "source": [
    "# 사각형 면적 산출\n",
    "rec1.area()"
   ]
  },
  {
   "cell_type": "code",
   "execution_count": 31,
   "metadata": {},
   "outputs": [
    {
     "data": {
      "text/plain": [
       "12"
      ]
     },
     "execution_count": 31,
     "metadata": {},
     "output_type": "execute_result"
    }
   ],
   "source": [
    "# 사각형 둘레 산출\n",
    "rec1.perimeter()"
   ]
  },
  {
   "cell_type": "code",
   "execution_count": 32,
   "metadata": {},
   "outputs": [
    {
     "name": "stdout",
     "output_type": "stream",
     "text": [
      "<__main__.Point object at 0x00000139C3AFAFA0>\n",
      "3.5 4.5\n"
     ]
    }
   ],
   "source": [
    "# 사각형 중심\n",
    "center = rec1.center()\n",
    "print(center)\n",
    "print(center.x, center.y)"
   ]
  },
  {
   "cell_type": "code",
   "execution_count": 33,
   "metadata": {},
   "outputs": [
    {
     "name": "stdout",
     "output_type": "stream",
     "text": [
      "x=2, y=3, width=3, height=3\n",
      "x=2, y=3, width=6, height=7\n"
     ]
    }
   ],
   "source": [
    "# 리사이즈\n",
    "print(f'x = {rec1.x}, y = {rec1.y}, width = {rec1.width}, height = {rec1.height}')\n",
    "rec1.resize(3,4)\n",
    "print(f'x = {rec1.x}, y = {rec1.y}, width = {rec1.width}, height = {rec1.height}')"
   ]
  }
 ],
 "metadata": {
  "kernelspec": {
   "display_name": "Python 3",
   "language": "python",
   "name": "python3"
  },
  "language_info": {
   "codemirror_mode": {
    "name": "ipython",
    "version": 3
   },
   "file_extension": ".py",
   "mimetype": "text/x-python",
   "name": "python",
   "nbconvert_exporter": "python",
   "pygments_lexer": "ipython3",
   "version": "3.8.8"
  }
 },
 "nbformat": 4,
 "nbformat_minor": 4
}
