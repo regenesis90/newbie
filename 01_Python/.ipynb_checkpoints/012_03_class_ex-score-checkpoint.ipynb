{
 "cells": [
  {
   "cell_type": "markdown",
   "metadata": {},
   "source": [
    "## class 생성 예제 : Score 클래스 생성"
   ]
  },
  {
   "cell_type": "markdown",
   "metadata": {},
   "source": [
    "* 속성(attribute): korean, english, math\n",
    "* 기능(functionality):\n",
    "    * calculate_sum(): 세 과목의 총점 반환\n",
    "    * calculate_mean() : 세 과목의 평균 반환"
   ]
  },
  {
   "cell_type": "code",
   "execution_count": 5,
   "metadata": {},
   "outputs": [],
   "source": [
    "class Score:\n",
    "    \n",
    "    def __init__(self, korean=0, english=0, math=0):\n",
    "        self.korean=korean\n",
    "        self.english=english\n",
    "        self.math=math\n",
    "    \n",
    "    def calculate_sum(self):\n",
    "        \"\"\"메서드: 3과목 총점 반환\"\"\"\n",
    "        return self.korean+self.english+self.math\n",
    "    \n",
    "    def calculate_mean(self):\n",
    "        \"\"\"메서드: 3과목 평균 반환\"\"\"\n",
    "        return self.calculate_sum()/3"
   ]
  },
  {
   "cell_type": "code",
   "execution_count": 6,
   "metadata": {},
   "outputs": [
    {
     "name": "stdout",
     "output_type": "stream",
     "text": [
      "<__main__.Score object at 0x000002A7061EA790>\n",
      "100 90 39\n"
     ]
    }
   ],
   "source": [
    "score1=Score(100,90,39)\n",
    "print(score1)\n",
    "print(score1.korean, score1.english, score1.math)"
   ]
  },
  {
   "cell_type": "code",
   "execution_count": 7,
   "metadata": {},
   "outputs": [
    {
     "data": {
      "text/plain": [
       "229"
      ]
     },
     "execution_count": 7,
     "metadata": {},
     "output_type": "execute_result"
    }
   ],
   "source": [
    "score1.calculate_sum()"
   ]
  },
  {
   "cell_type": "code",
   "execution_count": 8,
   "metadata": {},
   "outputs": [
    {
     "data": {
      "text/plain": [
       "76.33333333333333"
      ]
     },
     "execution_count": 8,
     "metadata": {},
     "output_type": "execute_result"
    }
   ],
   "source": [
    "score1.calculate_mean()"
   ]
  },
  {
   "cell_type": "markdown",
   "metadata": {},
   "source": [
    "## class 생성 예제 : Student 클래스\n",
    "* 속성 : 학생 이름, 시험 성적(Score 객체)\n",
    "* 기능 : \n",
    "    * info() : 학생 이름, 3과목 점수, 총점, 평균 출력"
   ]
  },
  {
   "cell_type": "code",
   "execution_count": 10,
   "metadata": {},
   "outputs": [],
   "source": [
    "class Student:\n",
    "    \n",
    "    def __init__(self, name, score):\n",
    "        self.name=name\n",
    "        self.score=score\n",
    "    \n",
    "    def info(self):\n",
    "        print('이름:', self.name)\n",
    "        print('국어:', self.score.korean)\n",
    "        print('영어:', self.score.english)\n",
    "        print('수학:', self.score.math)\n",
    "        print('총점:', self.score.calculate_sum())\n",
    "        print('평균:', self.score.calculate_mean())"
   ]
  },
  {
   "cell_type": "markdown",
   "metadata": {},
   "source": [
    "## Student 클래스 테스트"
   ]
  },
  {
   "cell_type": "code",
   "execution_count": 12,
   "metadata": {},
   "outputs": [
    {
     "name": "stdout",
     "output_type": "stream",
     "text": [
      "이름: Andrea Lloyd\n",
      "국어: 100\n",
      "영어: 29\n",
      "수학: 40\n",
      "총점: 169\n",
      "평균: 56.333333333333336\n"
     ]
    }
   ],
   "source": [
    "stu1=Student(name='Andrea Lloyd', score=Score(100,29,40))\n",
    "stu1.info()"
   ]
  }
 ],
 "metadata": {
  "kernelspec": {
   "display_name": "Python 3",
   "language": "python",
   "name": "python3"
  },
  "language_info": {
   "codemirror_mode": {
    "name": "ipython",
    "version": 3
   },
   "file_extension": ".py",
   "mimetype": "text/x-python",
   "name": "python",
   "nbconvert_exporter": "python",
   "pygments_lexer": "ipython3",
   "version": "3.8.5"
  }
 },
 "nbformat": 4,
 "nbformat_minor": 4
}
