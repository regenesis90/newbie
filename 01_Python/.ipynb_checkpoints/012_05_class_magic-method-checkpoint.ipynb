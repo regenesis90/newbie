{
 "cells": [
  {
   "cell_type": "markdown",
   "metadata": {},
   "source": [
    "# class - magic method"
   ]
  },
  {
   "cell_type": "markdown",
   "metadata": {},
   "source": [
    "## class MyNumber 생성 예제"
   ]
  },
  {
   "cell_type": "code",
   "execution_count": 9,
   "metadata": {},
   "outputs": [],
   "source": [
    "class MyNumber:\n",
    "    \n",
    "    def __init__(self, number=0.0):\n",
    "        self.number=number\n",
    "        \n",
    "    def __repr__(self): #> MyNumber 인스턴스 출력 시, 속성 \n",
    "        return f'MyNumber({self.number})'\n",
    "    \n",
    "    def __eq__(self, other): #> 메서드: x==y\n",
    "        \"\"\"메서드: x 속성 number와 y 속성 number가 같은지 비교\"\"\"\n",
    "        if not isinstance(other, MyNumber):\n",
    "            return False\n",
    "        return self.number==other.number\n",
    "    \n",
    "    def __gt__(self, other): #> 메서드 : x>y\n",
    "        \"\"\"메서드: x의 속성 number가 y속성 number보다 큰지 비교\"\"\"\n",
    "        if not isinstance(other, MyNumber):\n",
    "            return False\n",
    "        return self.number>other.number\n",
    "    \n",
    "    def __ge__(self, other): #> 메서드 : x>=y\n",
    "        \"\"\"메서드: x의 속성 number가 y속성 number보다 크거나 같은지 비교\"\"\"\n",
    "        if not isinstance(other, MyNumber):\n",
    "            return False\n",
    "        return self.number>=other.number\n",
    "    \n",
    "    def __add__(self, other): #> 메서드: x+y\n",
    "        \"\"\"메서드: x의 속성 number와 y의 속성 number 덧셈 결과 반환\"\"\"\n",
    "        if not isinstance(other, MyNumber):\n",
    "            raise TypeError('MyNumber 타입이 아니면 더할 수 없습니다.')\n",
    "        return MyNumber(self.number+other.number)"
   ]
  },
  {
   "cell_type": "markdown",
   "metadata": {},
   "source": [
    "## MyNumber 클래스 테스트"
   ]
  },
  {
   "cell_type": "code",
   "execution_count": 10,
   "metadata": {},
   "outputs": [
    {
     "name": "stdout",
     "output_type": "stream",
     "text": [
      "MyNumber(0.0)\n",
      "MyNumber(2)\n"
     ]
    }
   ],
   "source": [
    "n1=MyNumber()\n",
    "print(n1)\n",
    "\n",
    "n2=MyNumber(2)\n",
    "print(n2)"
   ]
  },
  {
   "cell_type": "code",
   "execution_count": 4,
   "metadata": {},
   "outputs": [
    {
     "name": "stdout",
     "output_type": "stream",
     "text": [
      "False\n"
     ]
    }
   ],
   "source": [
    "print(n1==n2)"
   ]
  },
  {
   "cell_type": "code",
   "execution_count": 5,
   "metadata": {},
   "outputs": [
    {
     "name": "stdout",
     "output_type": "stream",
     "text": [
      "True\n"
     ]
    }
   ],
   "source": [
    "print(n1!=n2)"
   ]
  },
  {
   "cell_type": "code",
   "execution_count": 6,
   "metadata": {},
   "outputs": [
    {
     "name": "stdout",
     "output_type": "stream",
     "text": [
      "False\n"
     ]
    }
   ],
   "source": [
    "print(n1>n2)"
   ]
  },
  {
   "cell_type": "code",
   "execution_count": 7,
   "metadata": {},
   "outputs": [
    {
     "name": "stdout",
     "output_type": "stream",
     "text": [
      "True\n"
     ]
    }
   ],
   "source": [
    "print(n1<=n2)"
   ]
  },
  {
   "cell_type": "code",
   "execution_count": 11,
   "metadata": {},
   "outputs": [
    {
     "name": "stdout",
     "output_type": "stream",
     "text": [
      "MyNumber(2.0)\n"
     ]
    }
   ],
   "source": [
    "print(n1+n2)"
   ]
  },
  {
   "cell_type": "code",
   "execution_count": 12,
   "metadata": {},
   "outputs": [
    {
     "name": "stdout",
     "output_type": "stream",
     "text": [
      "MyNumber(6)\n"
     ]
    }
   ],
   "source": [
    "x=MyNumber(1)\n",
    "y=MyNumber(2)\n",
    "z=MyNumber(3)\n",
    "print(x+y+z)"
   ]
  }
 ],
 "metadata": {
  "kernelspec": {
   "display_name": "Python 3",
   "language": "python",
   "name": "python3"
  },
  "language_info": {
   "codemirror_mode": {
    "name": "ipython",
    "version": 3
   },
   "file_extension": ".py",
   "mimetype": "text/x-python",
   "name": "python",
   "nbconvert_exporter": "python",
   "pygments_lexer": "ipython3",
   "version": "3.8.5"
  }
 },
 "nbformat": 4,
 "nbformat_minor": 4
}
