{
 "cells": [
  {
   "cell_type": "markdown",
   "metadata": {},
   "source": [
    "# 상속(Inheritance)\n",
    "\n",
    "* **상속**: 상위 클래스의 속성(attribute) 또는 기능(method) 코드들을 하위 클래스에서 재사용하는 것\n",
    "* **super class(상위 클래스)**, parent class(부모 클래스), base class(기본 클래스)\n",
    "* sub class(하위 클래스), child class(자식 클래스), derived class(유도 클래스)\n",
    "* IS-A 관계가 성립하는 객체들은 상속을 사용해서 구현한다.\n",
    "\n",
    "    * 학생은 사람이다.(Student **is a** person.)\n",
    "        * 사람 - 상위 클래스\n",
    "        * 학생 - 하위 클래스\n",
    "    * 사람은 학생이다(X)"
   ]
  },
  {
   "cell_type": "markdown",
   "metadata": {},
   "source": [
    "## 상위(일반) 클래스 Person 정의하기"
   ]
  },
  {
   "cell_type": "code",
   "execution_count": 1,
   "metadata": {},
   "outputs": [],
   "source": [
    "class Person:\n",
    "    def __init__(self, name):\n",
    "        self.name = name\n",
    "    \n",
    "    def say_hello(self):\n",
    "        print(f'안녕하세요, 저는 {self.name}입니다.')"
   ]
  },
  {
   "cell_type": "code",
   "execution_count": 2,
   "metadata": {},
   "outputs": [
    {
     "name": "stdout",
     "output_type": "stream",
     "text": [
      "안녕하세요, 저는 Andrea Lloyd입니다.\n"
     ]
    }
   ],
   "source": [
    "person1 = Person('Andrea Lloyd')\n",
    "person1.say_hello()"
   ]
  },
  {
   "cell_type": "markdown",
   "metadata": {},
   "source": [
    "## Person 클래스를 상속받는 Student 클래스 정의"
   ]
  },
  {
   "cell_type": "code",
   "execution_count": 3,
   "metadata": {},
   "outputs": [],
   "source": [
    "class Student(Person): #> class Student inherits class Person\n",
    "    def say_hello2(self):\n",
    "        print('저는 학생입니다')"
   ]
  },
  {
   "cell_type": "code",
   "execution_count": 4,
   "metadata": {},
   "outputs": [
    {
     "name": "stdout",
     "output_type": "stream",
     "text": [
      "안녕하세요, 저는 Yanis Gray입니다.\n",
      "저는 학생입니다\n"
     ]
    }
   ],
   "source": [
    "student1 = Student('Yanis Gray')\n",
    "student1.say_hello()\n",
    "student1.say_hello2()"
   ]
  },
  {
   "cell_type": "markdown",
   "metadata": {},
   "source": [
    "## Person 클래스를 상속받는 BusinessPerson 클래스 정의"
   ]
  },
  {
   "cell_type": "code",
   "execution_count": 5,
   "metadata": {},
   "outputs": [],
   "source": [
    "class BusinessPerson(Person):\n",
    "    def __init__(self, name, company): #> name 초기화: Person 클래스의 __init__()메서드 명시적 호출\n",
    "        super().__init__(name)\n",
    "        self.company = company\n",
    "        \n",
    "    def say_hello(self):\n",
    "        super().say_hello() #> Person 클래스 say_hello() 메서드 override, 명시적 호출\n",
    "        print(f'저는 {self.company}의 회사원입니다.')"
   ]
  },
  {
   "cell_type": "code",
   "execution_count": 6,
   "metadata": {},
   "outputs": [
    {
     "name": "stdout",
     "output_type": "stream",
     "text": [
      "안녕하세요, 저는 Turilic입니다.\n",
      "저는 Olfs Company의 회사원입니다.\n"
     ]
    }
   ],
   "source": [
    "bp1 = BusinessPerson('Turilic', 'Olfs Company')\n",
    "bp1.say_hello()"
   ]
  }
 ],
 "metadata": {
  "kernelspec": {
   "display_name": "Python 3",
   "language": "python",
   "name": "python3"
  },
  "language_info": {
   "codemirror_mode": {
    "name": "ipython",
    "version": 3
   },
   "file_extension": ".py",
   "mimetype": "text/x-python",
   "name": "python",
   "nbconvert_exporter": "python",
   "pygments_lexer": "ipython3",
   "version": "3.8.8"
  }
 },
 "nbformat": 4,
 "nbformat_minor": 4
}
