{
 "cells": [
  {
   "cell_type": "markdown",
   "metadata": {},
   "source": [
    "# str 클래스 메서드 : 원본 문자열을 변경하지 않고, 새로운 문자열을 생성하여 반환\n",
    "* str 객체 : 변경 불가능한 객체(immutable object)"
   ]
  },
  {
   "cell_type": "markdown",
   "metadata": {},
   "source": [
    "## .upper() : 대문자 전환, .lower() : 소문자 전환\n",
    "## .title() : 각 단어 앞글자는 대문자, 나머지는 소문자로 전환"
   ]
  },
  {
   "cell_type": "code",
   "execution_count": 23,
   "metadata": {},
   "outputs": [
    {
     "name": "stdin",
     "output_type": "stream",
     "text": [
      "문자열을 입력해 주세요: ANDrea lLoYd\n"
     ]
    },
    {
     "name": "stdout",
     "output_type": "stream",
     "text": [
      "대문자 전환: ANDREA LLOYD\n",
      "소문자 전환: andrea lloyd\n",
      "타이틀 전환: Andrea Lloyd\n"
     ]
    }
   ],
   "source": [
    "word=input('문자열을 입력해 주세요:')\n",
    "print(f'대문자 전환: {word.upper()}')\n",
    "print(f'소문자 전환: {word.lower()}')\n",
    "print(f'타이틀 전환: {word.title()}')"
   ]
  },
  {
   "cell_type": "markdown",
   "metadata": {},
   "source": [
    "## str.capitalize(): 문자열 첫글자만 대문자 전환, 나머지는 모두 소문자로 변환한 문자열 리턴"
   ]
  },
  {
   "cell_type": "code",
   "execution_count": 1,
   "metadata": {},
   "outputs": [
    {
     "name": "stdout",
     "output_type": "stream",
     "text": [
      "Hello python!\n"
     ]
    }
   ],
   "source": [
    "s='heLLo pyThon!'\n",
    "print(s.capitalize())"
   ]
  },
  {
   "cell_type": "markdown",
   "metadata": {},
   "source": [
    "## str.count(sub) : 문자열str 내에서 sub 문자열이 몇 번 나오는지 리턴"
   ]
  },
  {
   "cell_type": "code",
   "execution_count": 2,
   "metadata": {},
   "outputs": [
    {
     "name": "stdout",
     "output_type": "stream",
     "text": [
      "heLLo pyThon!\n",
      "2\n",
      "1\n"
     ]
    }
   ],
   "source": [
    "s='heLLo pyThon!'\n",
    "print(s)\n",
    "print(s.count('L'))\n",
    "print(s.count('py'))"
   ]
  }
 ],
 "metadata": {
  "kernelspec": {
   "display_name": "Python 3",
   "language": "python",
   "name": "python3"
  },
  "language_info": {
   "codemirror_mode": {
    "name": "ipython",
    "version": 3
   },
   "file_extension": ".py",
   "mimetype": "text/x-python",
   "name": "python",
   "nbconvert_exporter": "python",
   "pygments_lexer": "ipython3",
   "version": "3.8.5"
  }
 },
 "nbformat": 4,
 "nbformat_minor": 4
}
