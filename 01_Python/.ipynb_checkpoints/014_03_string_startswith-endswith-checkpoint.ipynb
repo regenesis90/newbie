{
 "cells": [
  {
   "cell_type": "markdown",
   "metadata": {},
   "source": [
    "# str.startswith(prefix) : 문자열이 prefix로 시작 시 True / 아니면 False 리턴"
   ]
  },
  {
   "cell_type": "markdown",
   "metadata": {},
   "source": [
    "## .startswith() : Bool 값 반환. 결과는 True 또는 False이다.\n",
    "* 문자열A.startswith('문자열B')\n",
    "* 문자열A가 문자열B로 시작하면 'True', 아니면 'False' 반환\n",
    "* 대소문자를 구분하므로, .lower()나 .upper() 메소드로 일괄 대소문자 변환을 해주는 것이 중요하다."
   ]
  },
  {
   "cell_type": "code",
   "execution_count": 33,
   "metadata": {},
   "outputs": [
    {
     "name": "stdin",
     "output_type": "stream",
     "text": [
      "문자열을 입력해 주세요: ANDREA LLOYD\n",
      "시작 문자열을 입력해 주세요: a\n"
     ]
    },
    {
     "data": {
      "text/plain": [
       "True"
      ]
     },
     "execution_count": 33,
     "metadata": {},
     "output_type": "execute_result"
    }
   ],
   "source": [
    "line = (input('문자열을 입력해 주세요:')).title()\n",
    "a = (input('시작 문자열을 입력해 주세요:')).title()\n",
    "\n",
    "line.startswith(a)"
   ]
  },
  {
   "cell_type": "markdown",
   "metadata": {},
   "source": [
    "# str.endswith(suffix) : 문자열이 suffix로 끝나면 True / 아니면 False 리턴"
   ]
  },
  {
   "cell_type": "code",
   "execution_count": 1,
   "metadata": {},
   "outputs": [
    {
     "name": "stdout",
     "output_type": "stream",
     "text": [
      "True\n"
     ]
    }
   ],
   "source": [
    "phone = '010-1234-5688'\n",
    "print(phone.endswith('8'))"
   ]
  }
 ],
 "metadata": {
  "kernelspec": {
   "display_name": "Python 3",
   "language": "python",
   "name": "python3"
  },
  "language_info": {
   "codemirror_mode": {
    "name": "ipython",
    "version": 3
   },
   "file_extension": ".py",
   "mimetype": "text/x-python",
   "name": "python",
   "nbconvert_exporter": "python",
   "pygments_lexer": "ipython3",
   "version": "3.8.8"
  }
 },
 "nbformat": 4,
 "nbformat_minor": 4
}
