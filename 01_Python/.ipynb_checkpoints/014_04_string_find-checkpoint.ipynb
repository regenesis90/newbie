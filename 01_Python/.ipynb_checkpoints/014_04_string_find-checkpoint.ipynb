{
 "cells": [
  {
   "cell_type": "markdown",
   "metadata": {},
   "source": [
    "## .find() : 문자 찾기, 하위 문자열 인덱스\n",
    "* word.find('x') : 문자열 word에서 가장 처음 나타나는 x의 인덱스 찾기\n",
    "* word.fond('x', n) : 문자열 word의 n번 인덱스로부터 처음출현하는 x의 인덱스 찾기"
   ]
  },
  {
   "cell_type": "code",
   "execution_count": 25,
   "metadata": {},
   "outputs": [
    {
     "name": "stdin",
     "output_type": "stream",
     "text": [
      "문자열을 입력해주세요: andrea lloyd\n",
      "먼저 입력한 문자열에서 찾을 문자를 입력해주세요: a\n"
     ]
    },
    {
     "name": "stdout",
     "output_type": "stream",
     "text": [
      "문자열 위치: 0\n"
     ]
    }
   ],
   "source": [
    "word = input('문자열을 입력해주세요:')\n",
    "a = input('먼저 입력한 문자열에서 찾을 문자를 입력해주세요:')\n",
    "\n",
    "print(f'문자열 위치: {word.find(a)}')"
   ]
  },
  {
   "cell_type": "markdown",
   "metadata": {},
   "source": [
    "# 문자열 파싱 : .find(), 문자열 슬라이스 사용\n",
    "* 문자열 내에서 특정 표시 찾기\n",
    "* 문자열 내에서 특정 표시 이후 첫번째 공백 찾기\n",
    "* 문자열 추출 : 슬라이싱 사용하기"
   ]
  },
  {
   "cell_type": "markdown",
   "metadata": {},
   "source": [
    "## str.find(sub) : 문자열에서 sub 문자열이 처음 나오는 인덱스 리턴\n",
    "* 문자열에서 sub가 없으면 -1 리턴"
   ]
  },
  {
   "cell_type": "code",
   "execution_count": 36,
   "metadata": {},
   "outputs": [
    {
     "name": "stdout",
     "output_type": "stream",
     "text": [
      "uct.ac.za.\n"
     ]
    }
   ],
   "source": [
    "# uct.ac.za. 만 추출하기\n",
    "data = 'From stephen.marquard@uct.ac.za. Sat Jan 5 09:13:18 2008'\n",
    "atpos = data.find('@') #> @의 인덱스\n",
    "spac = data.find(' ', atpos) #> @인덱스 이후 첫번째 나오는 공백의 인덱스\n",
    "\n",
    "print(data[atpos + 1:spac])"
   ]
  },
  {
   "cell_type": "code",
   "execution_count": 2,
   "metadata": {},
   "outputs": [
    {
     "name": "stdout",
     "output_type": "stream",
     "text": [
      "7\n",
      "abc.def\n"
     ]
    }
   ],
   "source": [
    "email = 'abc.def@gmail.com'\n",
    "idx = email.find('@')\n",
    "\n",
    "print(idx)\n",
    "print(email[:idx])"
   ]
  }
 ],
 "metadata": {
  "kernelspec": {
   "display_name": "Python 3",
   "language": "python",
   "name": "python3"
  },
  "language_info": {
   "codemirror_mode": {
    "name": "ipython",
    "version": 3
   },
   "file_extension": ".py",
   "mimetype": "text/x-python",
   "name": "python",
   "nbconvert_exporter": "python",
   "pygments_lexer": "ipython3",
   "version": "3.8.8"
  }
 },
 "nbformat": 4,
 "nbformat_minor": 4
}
