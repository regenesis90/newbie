{
 "cells": [
  {
   "cell_type": "markdown",
   "metadata": {},
   "source": [
    "## str.split(sep=None): str -> list\n",
    "\n",
    "문자열을 공백 문자열(space, tab, enter)로 쪼개어 리스트를 생성하여 리턴함"
   ]
  },
  {
   "cell_type": "code",
   "execution_count": 2,
   "metadata": {},
   "outputs": [],
   "source": [
    "sentence='The Holocaust in Slovakia was the systematic dispossession, deporitation, and murder of Jews in the Slovak State, a client state of Nazi Germany'"
   ]
  },
  {
   "cell_type": "code",
   "execution_count": 3,
   "metadata": {},
   "outputs": [
    {
     "data": {
      "text/plain": [
       "['The',\n",
       " 'Holocaust',\n",
       " 'in',\n",
       " 'Slovakia',\n",
       " 'was',\n",
       " 'the',\n",
       " 'systematic',\n",
       " 'dispossession,',\n",
       " 'deporitation,',\n",
       " 'and',\n",
       " 'murder',\n",
       " 'of',\n",
       " 'Jews',\n",
       " 'in',\n",
       " 'the',\n",
       " 'Slovak',\n",
       " 'State,',\n",
       " 'a',\n",
       " 'client',\n",
       " 'state',\n",
       " 'of',\n",
       " 'Nazi',\n",
       " 'Germany']"
      ]
     },
     "execution_count": 3,
     "metadata": {},
     "output_type": "execute_result"
    }
   ],
   "source": [
    "sentence.split()"
   ]
  },
  {
   "cell_type": "code",
   "execution_count": 4,
   "metadata": {},
   "outputs": [
    {
     "data": {
      "text/plain": [
       "['2021', '01', '27']"
      ]
     },
     "execution_count": 4,
     "metadata": {},
     "output_type": "execute_result"
    }
   ],
   "source": [
    "date='2021-01-27'\n",
    "date.split('-')"
   ]
  },
  {
   "cell_type": "code",
   "execution_count": 5,
   "metadata": {},
   "outputs": [
    {
     "data": {
      "text/plain": [
       "['16', '02', '30']"
      ]
     },
     "execution_count": 5,
     "metadata": {},
     "output_type": "execute_result"
    }
   ],
   "source": [
    "time='16:02:30'\n",
    "time.split(':')"
   ]
  }
 ],
 "metadata": {
  "kernelspec": {
   "display_name": "Python 3",
   "language": "python",
   "name": "python3"
  },
  "language_info": {
   "codemirror_mode": {
    "name": "ipython",
    "version": 3
   },
   "file_extension": ".py",
   "mimetype": "text/x-python",
   "name": "python",
   "nbconvert_exporter": "python",
   "pygments_lexer": "ipython3",
   "version": "3.8.5"
  }
 },
 "nbformat": 4,
 "nbformat_minor": 4
}
