{
 "cells": [
  {
   "cell_type": "markdown",
   "metadata": {},
   "source": [
    "## .strip() : 문자의 화이트 스페이스(공백, 탭, 줄 바꿈 문자) 제거\n",
    "* 문자열 좌우의 필요없는 공백을 제거하는 것일 뿐, 문자열 내부의 공백은 제거하지 않는다."
   ]
  },
  {
   "cell_type": "code",
   "execution_count": 27,
   "metadata": {},
   "outputs": [
    {
     "name": "stdin",
     "output_type": "stream",
     "text": [
      "공백을 포함한 문자열을 입력해 보세요: Andrea Lloyd is Yanis's sister.\n"
     ]
    },
    {
     "data": {
      "text/plain": [
       "\"Andrea Lloyd is Yanis's sister.\""
      ]
     },
     "execution_count": 27,
     "metadata": {},
     "output_type": "execute_result"
    }
   ],
   "source": [
    "line=input('공백을 포함한 문자열을 입력해 보세요:')\n",
    "line.strip()"
   ]
  },
  {
   "cell_type": "markdown",
   "metadata": {},
   "source": [
    "## str.lstrip() : 문자열 왼쪽(시작부분)의 모든 공백 문자(space, tab, enter) 제거"
   ]
  },
  {
   "cell_type": "markdown",
   "metadata": {},
   "source": [
    "## str.rstrip() : 문자열 오른쪽(끝부분) 모든 공백 문자(space, tab, enter) 제거"
   ]
  },
  {
   "cell_type": "markdown",
   "metadata": {},
   "source": [
    "## "
   ]
  }
 ],
 "metadata": {
  "kernelspec": {
   "display_name": "Python 3",
   "language": "python",
   "name": "python3"
  },
  "language_info": {
   "codemirror_mode": {
    "name": "ipython",
    "version": 3
   },
   "file_extension": ".py",
   "mimetype": "text/x-python",
   "name": "python",
   "nbconvert_exporter": "python",
   "pygments_lexer": "ipython3",
   "version": "3.8.5"
  }
 },
 "nbformat": 4,
 "nbformat_minor": 4
}
