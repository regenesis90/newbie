{
 "cells": [
  {
   "cell_type": "markdown",
   "metadata": {},
   "source": [
    "# 텍스트 파일 쓰기(write) / 읽기(read)\n",
    "\n",
    "1. 파일 열기(open)\n",
    "2. 파일 내용 쓰기(write)/읽기(read)\n",
    "3. 파일 닫기(close)"
   ]
  },
  {
   "cell_type": "markdown",
   "metadata": {},
   "source": [
    "## 1. OPEN을 사용한 파일 쓰기(write) 과정 :\n",
    "\n",
    "파일에 어떤 내용 쓰기, 새로 만들기, 새로 덮어쓰기 : open('파일명', 'w')\n",
    "\n",
    "**1) open 으로 파일 열기** : f=open(file, mode='w', ...)\n",
    "    * file : 디렉토리(폴더) 경로를 포함한 파일 이름(str)\n",
    "    * mode : r(read, 읽기), w(write, 쓰기), a(append, 추가), t(text, 텍스트), b(binary, 이진)\n",
    "    \n",
    "**2) 파일에 내용 쓰기** : f.write('내용')\n",
    "    * f.write('Hello\\n')\n",
    "    * f.write('안녕하세요\\n')\n",
    "\n",
    "**3) 파일 닫기** : f.close()"
   ]
  },
  {
   "cell_type": "markdown",
   "metadata": {},
   "source": [
    "### 1) open 주의사항 : \n",
    "\n",
    "* 파일에 어떤 내용을 쓰려면, open함수의 두 번쨰 매개변수로 **'w'**를 전달해야 한다.\n",
    "* **주의! 이미 존재하는 파일명이면 : 파일 내용을 모두 지우고 새로 쓴다.**\n",
    "* 없는 파일이라면 : **새로 생성**"
   ]
  },
  {
   "cell_type": "markdown",
   "metadata": {},
   "source": [
    "### 문제 1. 'andrea.text' 파일을 읽기 모드로 열고, 파일 내용을 쓰기"
   ]
  },
  {
   "cell_type": "code",
   "execution_count": 6,
   "metadata": {},
   "outputs": [
    {
     "name": "stdout",
     "output_type": "stream",
     "text": [
      "<_io.TextIOWrapper name='andrea.txt' mode='w' encoding='cp949'>\n"
     ]
    }
   ],
   "source": [
    "# 1) 파일 열기\n",
    "f = open(file = 'andrea.txt', mode = 'w') #> andrea.txt 파일이 없으면, 새로 생성된다.\n",
    "print(f)\n",
    "\n",
    "# 2) 파일에 내용 쓰기\n",
    "f.write('Andrea Lloyd is 23 years old.\\n')\n",
    "f.write('She has older brother, Yanis Gray.')\n",
    "f.write('They have gray eyes, and gray hair.')\n",
    "\n",
    "# 3) 파일 닫기\n",
    "f.close()"
   ]
  },
  {
   "cell_type": "markdown",
   "metadata": {},
   "source": [
    "### 2) 파일 핸들(file handle) : open('경로,파일명')\n",
    "파일의 실제 데이터가 아니지만, 핸들을 통해 데이터를 읽을 수 있다."
   ]
  },
  {
   "cell_type": "code",
   "execution_count": 8,
   "metadata": {},
   "outputs": [
    {
     "name": "stdout",
     "output_type": "stream",
     "text": [
      "<_io.TextIOWrapper name='andrea.txt' mode='r' encoding='cp949'>\n"
     ]
    }
   ],
   "source": [
    "f = open('andrea.txt') #> f에 반환된 값이 file handle\n",
    "print(f)"
   ]
  },
  {
   "cell_type": "markdown",
   "metadata": {},
   "source": [
    "### 3) 파일 전체 열기 : file_handle.read()\n",
    "* 만약 읽으려는 파일 크기가 아주 작다는 걸 확실히 알고 있다면.\n",
    "* 파일 핸들의 read() 함수로 전체 파일 내용을 문자열 변수에 담을 수 있다."
   ]
  },
  {
   "cell_type": "code",
   "execution_count": 13,
   "metadata": {},
   "outputs": [
    {
     "name": "stdout",
     "output_type": "stream",
     "text": [
      "99\n",
      "Andrea Lloyd is 23 y\n"
     ]
    }
   ],
   "source": [
    "f = open('andrea.txt')\n",
    "inp = f.read() \n",
    "\n",
    "print(len(inp)) #> andrea.txt의 전체 문자길이(글자수)\n",
    "print(inp[:20]) #> andrea.txt의 첫 글자부터 20번째 글자까지만 출력"
   ]
  },
  {
   "cell_type": "markdown",
   "metadata": {},
   "source": [
    "### 4) 파일에 쓰기 : file_handle.write() : 데이터를 파일에 쓰고, 사용 데이터 수 반환\n",
    "* 문자열을 읽고 쓰기 위한 기본 쓰기모드는 텍스트다.\n",
    "* **file_handle** : 파일 핸들 객체 f\n",
    "\n",
    "* 파일에 쓸 때는, **행 마지막에 줄 바꿈 문자(\\n)를 명시적으로 반드시 넣어야 한다.**\n",
    "* print문은 자동으로 줄바꿈 문자를 추가하지만, write메서드는 그러지 않기 때문이다."
   ]
  },
  {
   "cell_type": "code",
   "execution_count": 14,
   "metadata": {},
   "outputs": [
    {
     "data": {
      "text/plain": [
       "17"
      ]
     },
     "execution_count": 14,
     "metadata": {},
     "output_type": "execute_result"
    }
   ],
   "source": [
    "f = open('andrea.txt', mode='w') #> mode='w'\n",
    "line1 = \"Andrea hated NY.\\n\" #> 행 마지막에 줄바꿈 문자를 명시적으로 반드시 넣어야.\n",
    "\n",
    "f.write(line1) #> f, 즉 andrea.txt 의 마지막 줄에 line1 추가. 총 17byte 사용됨"
   ]
  },
  {
   "cell_type": "markdown",
   "metadata": {},
   "source": [
    "### 4) 쓰기 작업을 마치고 파일 닫기 : file_handle.close()\n",
    "* 쓰기 작업을 마치면, 파일을 닫아서 데이터 마지막 비트가 디스크에 물리적으로 써지도록 해야 한다.\n",
    "* 그래야 전원을 끄더라도 데이터 유실을 막을 수 있다.\n",
    "* 파일에 쓸 때는 \"명시적으로 닫아서\" 잘못될 여지를 남기지 말도록 한다."
   ]
  },
  {
   "cell_type": "code",
   "execution_count": 15,
   "metadata": {},
   "outputs": [],
   "source": [
    "f.close() #> 쓰기 작업을 완료한 andrea.txt 닫기"
   ]
  }
 ],
 "metadata": {
  "kernelspec": {
   "display_name": "Python 3",
   "language": "python",
   "name": "python3"
  },
  "language_info": {
   "codemirror_mode": {
    "name": "ipython",
    "version": 3
   },
   "file_extension": ".py",
   "mimetype": "text/x-python",
   "name": "python",
   "nbconvert_exporter": "python",
   "pygments_lexer": "ipython3",
   "version": "3.8.8"
  }
 },
 "nbformat": 4,
 "nbformat_minor": 4
}
