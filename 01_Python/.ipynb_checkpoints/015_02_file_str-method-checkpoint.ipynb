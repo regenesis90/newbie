{
 "cells": [
  {
   "cell_type": "markdown",
   "metadata": {},
   "source": [
    "## 텍스트 파일 : 연속된 텍스트 행(line), 문자열이 연속된 문자로 이루어진 것과 마찬가지\n",
    "* mbox.txt : 어떤 오픈소스 프로젝트 개발팀에서 주고받은 메일활동을 기록한 파일"
   ]
  },
  {
   "cell_type": "markdown",
   "metadata": {},
   "source": [
    "## 줄바꿈(newline) 문자 : \\n\n",
    "* 2개의 문자처럼 보이지만, 실제로는 하나의 문자이다.\n",
    "* 따라서 길이도 1이다."
   ]
  },
  {
   "cell_type": "code",
   "execution_count": null,
   "metadata": {},
   "outputs": [],
   "source": [
    "stuff = 'Hello\\nWorld!'\n",
    "print(stuff)\n",
    "print(len(stuff))"
   ]
  }
 ],
 "metadata": {
  "kernelspec": {
   "display_name": "Python 3",
   "language": "python",
   "name": "python3"
  },
  "language_info": {
   "codemirror_mode": {
    "name": "ipython",
    "version": 3
   },
   "file_extension": ".py",
   "mimetype": "text/x-python",
   "name": "python",
   "nbconvert_exporter": "python",
   "pygments_lexer": "ipython3",
   "version": "3.8.8"
  }
 },
 "nbformat": 4,
 "nbformat_minor": 4
}
