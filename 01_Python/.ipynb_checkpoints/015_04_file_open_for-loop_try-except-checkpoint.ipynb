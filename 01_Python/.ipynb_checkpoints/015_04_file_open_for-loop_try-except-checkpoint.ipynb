{
 "cells": [
  {
   "cell_type": "markdown",
   "metadata": {},
   "source": [
    "# file - open - for loop - try/except"
   ]
  },
  {
   "cell_type": "markdown",
   "metadata": {},
   "source": [
    "## 파일명 입력에 실패했을 때의 복구 코드 추가"
   ]
  },
  {
   "cell_type": "code",
   "execution_count": 2,
   "metadata": {},
   "outputs": [
    {
     "name": "stdin",
     "output_type": "stream",
     "text": [
      "파일명 입력:  h.txt\n",
      "검색할 시작 문자 입력:  d\n"
     ]
    },
    {
     "name": "stdout",
     "output_type": "stream",
     "text": [
      "File cannot be opened: h.txt\n",
      "There were 0 subjct lines in h.txt\n"
     ]
    }
   ],
   "source": [
    "fname = input('파일명 입력: ')\n",
    "start_str = input('검색할 시작 문자 입력: ')\n",
    "\n",
    "try: #> 파일 이름이 존재할 경우\n",
    "    f = open(fname)\n",
    "\n",
    "except: #> 잘못된 파일 이름을 입력할 경우\n",
    "    print('File cannot be opened:', fname)\n",
    "    exit()\n",
    "    \n",
    "count = 0\n",
    "\n",
    "for line in f:\n",
    "    if line.startswith(start_str):\n",
    "        count = count + 1\n",
    "\n",
    "print(f'There were {count} subjct lines in {fname}')"
   ]
  }
 ],
 "metadata": {
  "kernelspec": {
   "display_name": "Python 3",
   "language": "python",
   "name": "python3"
  },
  "language_info": {
   "codemirror_mode": {
    "name": "ipython",
    "version": 3
   },
   "file_extension": ".py",
   "mimetype": "text/x-python",
   "name": "python",
   "nbconvert_exporter": "python",
   "pygments_lexer": "ipython3",
   "version": "3.8.8"
  }
 },
 "nbformat": 4,
 "nbformat_minor": 4
}
