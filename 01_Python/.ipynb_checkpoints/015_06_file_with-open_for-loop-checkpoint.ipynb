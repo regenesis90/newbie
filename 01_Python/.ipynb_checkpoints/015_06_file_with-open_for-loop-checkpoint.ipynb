{
 "cells": [
  {
   "cell_type": "markdown",
   "metadata": {},
   "source": [
    "# file - with open as - for loop"
   ]
  },
  {
   "cell_type": "markdown",
   "metadata": {},
   "source": [
    "## 1. yanis.txt 파일의 전체 내용 출력"
   ]
  },
  {
   "cell_type": "code",
   "execution_count": 1,
   "metadata": {},
   "outputs": [
    {
     "name": "stdout",
     "output_type": "stream",
     "text": [
      "Yanis Gray has yonger sister.\n",
      "Scary man\n",
      "Scarface\n",
      "Gray hair"
     ]
    }
   ],
   "source": [
    "with open(file = 'yanis.txt', mode = 'rt', encoding = 'UTF-8') as f:\n",
    "    for line in f: # 파일 1~끝 줄까지 f.readline() 자동 호출, 파일의 끝에서 반복 중단\n",
    "        print(line, end = '')"
   ]
  }
 ],
 "metadata": {
  "kernelspec": {
   "display_name": "Python 3",
   "language": "python",
   "name": "python3"
  },
  "language_info": {
   "codemirror_mode": {
    "name": "ipython",
    "version": 3
   },
   "file_extension": ".py",
   "mimetype": "text/x-python",
   "name": "python",
   "nbconvert_exporter": "python",
   "pygments_lexer": "ipython3",
   "version": "3.8.8"
  }
 },
 "nbformat": 4,
 "nbformat_minor": 4
}
