{
 "cells": [
  {
   "cell_type": "markdown",
   "metadata": {},
   "source": [
    "# 파일 경로(file path)\n",
    "\n",
    "## 상대 경로(relative path)\n",
    "* 현재의 작업 디렉토리(current working directory)\n",
    "* sample_data/anscombe.json\n",
    "* temp\\hello.txt \n",
    "\n",
    "## 절대 경로(absolute path)\n",
    "* /content/hello.txt\n",
    "* /content/sample_data/california_housing_test.csv\n",
    "..."
   ]
  },
  {
   "cell_type": "markdown",
   "metadata": {},
   "source": [
    "# OS에 맞춤형 파일 경로 생성하기\n",
    "\n",
    "* Windows OS와 다른 OS(Linux, Unix, MAC OSX, ...)에서 파일 구분자(file separator)가 서로 다르다.\n",
    "* 따라서, 모든OS에서 통용 가능하도록 코드를 짜야 하며, 파일 경로도 마찬가지이다."
   ]
  },
  {
   "cell_type": "code",
   "execution_count": 2,
   "metadata": {},
   "outputs": [],
   "source": [
    "# os 모듈 : 코드가 실행중인 컴퓨터의 OS 정보를 읽어 자동으로 OS에 적합한 경로를 생성함\n",
    "import os"
   ]
  },
  {
   "cell_type": "code",
   "execution_count": 5,
   "metadata": {},
   "outputs": [
    {
     "name": "stdin",
     "output_type": "stream",
     "text": [
      "파일 경로 입력:  \n",
      "파일명 입력:  email.txt\n"
     ]
    },
    {
     "name": "stdout",
     "output_type": "stream",
     "text": [
      "email.txt\n"
     ]
    }
   ],
   "source": [
    "# OS에 맞는  경로 텍스트 생성\n",
    "dir_path=input('파일 경로 입력: ')\n",
    "file_name=input('파일명 입력: ')\n",
    "file_path=os.path.join(dir_path, file_name)\n",
    "print(file_path)"
   ]
  },
  {
   "cell_type": "code",
   "execution_count": 6,
   "metadata": {},
   "outputs": [],
   "source": [
    "# with open() as f : 파일을 만들고, 데이터를 입력하기\n",
    "with open(file=file_path, mode='w') as f:\n",
    "    f.write('frodo_baggins@gmail.com\\n')\n",
    "    f.write('bilbo_baggins@gmail.com\\n')\n",
    "    f.write('samwise_g@yahoo.co.kr\\n')"
   ]
  },
  {
   "cell_type": "code",
   "execution_count": 7,
   "metadata": {},
   "outputs": [
    {
     "name": "stdout",
     "output_type": "stream",
     "text": [
      "email.txt\n",
      "['frodo_baggins', 'bilbo_baggins', 'samwise_g']\n"
     ]
    }
   ],
   "source": [
    "# 빈 리스트에 파일로부터 Email ID만 저장하기 : for loop\n",
    "print(file_path)\n",
    "with open(file=file_path, mode='r') as f:\n",
    "    mail_id=[]\n",
    "    for line in f:\n",
    "        line=line.strip() #> 좌우 공백 제거\n",
    "        data=line.split(sep='@') #> 각 줄을 '@'로 구분한 리스트 [data[0], data[1]]생성\n",
    "        mail_id.append(data[0]) #> '@' 구분자 오른쪽인 data[0]만 추가\n",
    "    print(mail_id)"
   ]
  },
  {
   "cell_type": "code",
   "execution_count": 8,
   "metadata": {},
   "outputs": [
    {
     "name": "stdout",
     "output_type": "stream",
     "text": [
      "email.txt\n",
      "['frodo_baggins', 'bilbo_baggins', 'samwise_g']\n"
     ]
    }
   ],
   "source": [
    "# 빈 리스트에 Email ID만 저장하기 : for loop list comprehension\n",
    "print(file_path)\n",
    "with open(file=file_path, mode='r') as f:\n",
    "    mail_id=[line.strip().split(sep='@')[0] for line in f]\n",
    "print(mail_id)"
   ]
  }
 ],
 "metadata": {
  "kernelspec": {
   "display_name": "Python 3",
   "language": "python",
   "name": "python3"
  },
  "language_info": {
   "codemirror_mode": {
    "name": "ipython",
    "version": 3
   },
   "file_extension": ".py",
   "mimetype": "text/x-python",
   "name": "python",
   "nbconvert_exporter": "python",
   "pygments_lexer": "ipython3",
   "version": "3.8.5"
  }
 },
 "nbformat": 4,
 "nbformat_minor": 4
}
