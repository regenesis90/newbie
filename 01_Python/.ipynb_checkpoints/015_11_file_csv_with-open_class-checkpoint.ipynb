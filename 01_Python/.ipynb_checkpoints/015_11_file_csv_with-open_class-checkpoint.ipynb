{
 "cells": [
  {
   "cell_type": "markdown",
   "metadata": {},
   "source": [
    "# file - csv - with open as - class\n",
    "\n",
    "csv_exam.csv 파일로부터 Score 클래스 선언하기"
   ]
  },
  {
   "cell_type": "markdown",
   "metadata": {},
   "source": [
    "### 1. Score 클래스 선언\n",
    "* 속성 : id, cls(class), math, english, science\n",
    "* 메서드 : `__init__, __repr__`"
   ]
  },
  {
   "cell_type": "code",
   "execution_count": 1,
   "metadata": {},
   "outputs": [],
   "source": [
    "class Score:\n",
    "    def __init__(self, id, cls, math, english, science):\n",
    "        self.id=id\n",
    "        self.cls=cls\n",
    "        self.math=math\n",
    "        self.english=english\n",
    "        self.science=science\n",
    "    \n",
    "    def __repr__(self):\n",
    "        return f'Score(id={self.id}, class={self.cls}, math={self.math}, english={self.english}, science={self.science})'"
   ]
  },
  {
   "cell_type": "code",
   "execution_count": 2,
   "metadata": {},
   "outputs": [
    {
     "name": "stdout",
     "output_type": "stream",
     "text": [
      "Score(id=1, class=1, math=50, english=60, science=55)\n"
     ]
    }
   ],
   "source": [
    "# Score 클래스 작동 테스트\n",
    "s=Score(1,1,50,60,55)\n",
    "print(s)"
   ]
  },
  {
   "cell_type": "markdown",
   "metadata": {},
   "source": [
    "## 2. csv_exam.csv 파일을 읽으면서 Score 타입 객체를 저장하는 리스트 exam 생성"
   ]
  },
  {
   "cell_type": "code",
   "execution_count": 4,
   "metadata": {},
   "outputs": [],
   "source": [
    "import os"
   ]
  },
  {
   "cell_type": "code",
   "execution_count": 5,
   "metadata": {},
   "outputs": [
    {
     "name": "stdout",
     "output_type": "stream",
     "text": [
      "E:/git_github_regenesis90/csv_exam.csv\n"
     ]
    }
   ],
   "source": [
    "dir_path='E:/git_github_regenesis90/'\n",
    "file_name='csv_exam.csv'\n",
    "file_path=os.path.join(dir_path, file_name)\n",
    "print(file_path)"
   ]
  },
  {
   "cell_type": "code",
   "execution_count": 6,
   "metadata": {},
   "outputs": [
    {
     "name": "stdout",
     "output_type": "stream",
     "text": [
      "[Score(id=1, class=1, math=50, english=98, science=50), Score(id=2, class=1, math=60, english=97, science=60), Score(id=3, class=1, math=45, english=86, science=78), Score(id=4, class=1, math=30, english=98, science=58), Score(id=5, class=2, math=25, english=80, science=65), Score(id=6, class=2, math=50, english=89, science=98), Score(id=7, class=2, math=80, english=90, science=45), Score(id=8, class=2, math=90, english=78, science=25), Score(id=9, class=3, math=20, english=98, science=15), Score(id=10, class=3, math=50, english=98, science=45), Score(id=11, class=3, math=65, english=65, science=65), Score(id=12, class=3, math=45, english=85, science=32), Score(id=13, class=4, math=46, english=98, science=65), Score(id=14, class=4, math=48, english=87, science=12), Score(id=15, class=4, math=75, english=56, science=78), Score(id=16, class=4, math=58, english=98, science=65), Score(id=17, class=5, math=65, english=68, science=98), Score(id=18, class=5, math=80, english=78, science=90), Score(id=19, class=5, math=89, english=68, science=87), Score(id=20, class=5, math=78, english=83, science=58)]\n"
     ]
    }
   ],
   "source": [
    "exam=[]\n",
    "\n",
    "with open(file=file_path, mode='r') as f:\n",
    "    f.readline() #> csv 파일의 첫 행(헤더, 컬럼이름) 제거\n",
    "    for line in f:\n",
    "        data=line.strip().split(sep=',') #> 쉼표로 잘라서 리스트 생성\n",
    "        score=Score(int(data[0]), int(data[1]), int(data[2]), int(data[3]), int(data[4]))\n",
    "        exam.append(score)\n",
    "print(exam)"
   ]
  },
  {
   "cell_type": "markdown",
   "metadata": {},
   "source": [
    "## 3. exam 리스트에서 math 점수만 추출하여 리스트 생성"
   ]
  },
  {
   "cell_type": "code",
   "execution_count": 7,
   "metadata": {},
   "outputs": [
    {
     "name": "stdout",
     "output_type": "stream",
     "text": [
      "[50, 60, 45, 30, 25, 50, 80, 90, 20, 50, 65, 45, 46, 48, 75, 58, 65, 80, 89, 78]\n"
     ]
    }
   ],
   "source": [
    "# for loop\n",
    "math=[]\n",
    "for s in exam:\n",
    "    math.append(s.math)\n",
    "print(math)"
   ]
  },
  {
   "cell_type": "code",
   "execution_count": 8,
   "metadata": {},
   "outputs": [
    {
     "name": "stdout",
     "output_type": "stream",
     "text": [
      "[50, 60, 45, 30, 25, 50, 80, 90, 20, 50, 65, 45, 46, 48, 75, 58, 65, 80, 89, 78]\n"
     ]
    }
   ],
   "source": [
    "# for loop list comprehension\n",
    "math=[]\n",
    "math=[s.math for s in exam]\n",
    "print(math)"
   ]
  },
  {
   "cell_type": "markdown",
   "metadata": {},
   "source": [
    "## 4. 1반의 math 점수만 뽑아 보기"
   ]
  },
  {
   "cell_type": "code",
   "execution_count": 11,
   "metadata": {},
   "outputs": [
    {
     "name": "stdout",
     "output_type": "stream",
     "text": [
      "[50, 60, 45, 30]\n"
     ]
    }
   ],
   "source": [
    "# for loop\n",
    "math_class1=[]\n",
    "for s in exam:\n",
    "    if s.cls==1:\n",
    "        math_class1.append(s.math)\n",
    "print(math_class1)"
   ]
  },
  {
   "cell_type": "code",
   "execution_count": 12,
   "metadata": {},
   "outputs": [
    {
     "name": "stdout",
     "output_type": "stream",
     "text": [
      "[50, 60, 45, 30]\n"
     ]
    }
   ],
   "source": [
    "# for loop list comprehension\n",
    "math_class1=[]\n",
    "math_class1=[s.math for s in exam if s.cls==1]\n",
    "print(math_class1)"
   ]
  },
  {
   "cell_type": "markdown",
   "metadata": {},
   "source": [
    "# sorted, list.sort()\n",
    "\n",
    "* **sorted(list, key, reverse)** : key 기준 리스트 정렬(reverse=False - 오름차순)한 새로운 리스트 리턴. **원본 리스트를 변경하지 않음**\n",
    "* **list.sort(key, reverse)** : key 기준 리스트 정렬. 원본 리스트가 변경됨. None 리턴"
   ]
  },
  {
   "cell_type": "markdown",
   "metadata": {},
   "source": [
    "## 5. exam 리스트를 수학점수 내림차순 정렬"
   ]
  },
  {
   "cell_type": "code",
   "execution_count": 13,
   "metadata": {},
   "outputs": [
    {
     "data": {
      "text/plain": [
       "[Score(id=8, class=2, math=90, english=78, science=25),\n",
       " Score(id=19, class=5, math=89, english=68, science=87),\n",
       " Score(id=7, class=2, math=80, english=90, science=45),\n",
       " Score(id=18, class=5, math=80, english=78, science=90),\n",
       " Score(id=20, class=5, math=78, english=83, science=58),\n",
       " Score(id=15, class=4, math=75, english=56, science=78),\n",
       " Score(id=11, class=3, math=65, english=65, science=65),\n",
       " Score(id=17, class=5, math=65, english=68, science=98),\n",
       " Score(id=2, class=1, math=60, english=97, science=60),\n",
       " Score(id=16, class=4, math=58, english=98, science=65),\n",
       " Score(id=1, class=1, math=50, english=98, science=50),\n",
       " Score(id=6, class=2, math=50, english=89, science=98),\n",
       " Score(id=10, class=3, math=50, english=98, science=45),\n",
       " Score(id=14, class=4, math=48, english=87, science=12),\n",
       " Score(id=13, class=4, math=46, english=98, science=65),\n",
       " Score(id=3, class=1, math=45, english=86, science=78),\n",
       " Score(id=12, class=3, math=45, english=85, science=32),\n",
       " Score(id=4, class=1, math=30, english=98, science=58),\n",
       " Score(id=5, class=2, math=25, english=80, science=65),\n",
       " Score(id=9, class=3, math=20, english=98, science=15)]"
      ]
     },
     "execution_count": 13,
     "metadata": {},
     "output_type": "execute_result"
    }
   ],
   "source": [
    "sorted(exam, key=lambda x:x.math, reverse=True)"
   ]
  },
  {
   "cell_type": "markdown",
   "metadata": {},
   "source": [
    "## 6. exam 리스트를 cls -> math 오름차순 정렬"
   ]
  },
  {
   "cell_type": "code",
   "execution_count": 15,
   "metadata": {},
   "outputs": [
    {
     "data": {
      "text/plain": [
       "[Score(id=4, class=1, math=30, english=98, science=58),\n",
       " Score(id=3, class=1, math=45, english=86, science=78),\n",
       " Score(id=1, class=1, math=50, english=98, science=50),\n",
       " Score(id=2, class=1, math=60, english=97, science=60),\n",
       " Score(id=5, class=2, math=25, english=80, science=65),\n",
       " Score(id=6, class=2, math=50, english=89, science=98),\n",
       " Score(id=7, class=2, math=80, english=90, science=45),\n",
       " Score(id=8, class=2, math=90, english=78, science=25),\n",
       " Score(id=9, class=3, math=20, english=98, science=15),\n",
       " Score(id=12, class=3, math=45, english=85, science=32),\n",
       " Score(id=10, class=3, math=50, english=98, science=45),\n",
       " Score(id=11, class=3, math=65, english=65, science=65),\n",
       " Score(id=13, class=4, math=46, english=98, science=65),\n",
       " Score(id=14, class=4, math=48, english=87, science=12),\n",
       " Score(id=16, class=4, math=58, english=98, science=65),\n",
       " Score(id=15, class=4, math=75, english=56, science=78),\n",
       " Score(id=17, class=5, math=65, english=68, science=98),\n",
       " Score(id=20, class=5, math=78, english=83, science=58),\n",
       " Score(id=18, class=5, math=80, english=78, science=90),\n",
       " Score(id=19, class=5, math=89, english=68, science=87)]"
      ]
     },
     "execution_count": 15,
     "metadata": {},
     "output_type": "execute_result"
    }
   ],
   "source": [
    "sorted(exam, key=lambda x:(x.cls, x.math))"
   ]
  },
  {
   "cell_type": "code",
   "execution_count": null,
   "metadata": {},
   "outputs": [],
   "source": []
  }
 ],
 "metadata": {
  "kernelspec": {
   "display_name": "Python 3",
   "language": "python",
   "name": "python3"
  },
  "language_info": {
   "codemirror_mode": {
    "name": "ipython",
    "version": 3
   },
   "file_extension": ".py",
   "mimetype": "text/x-python",
   "name": "python",
   "nbconvert_exporter": "python",
   "pygments_lexer": "ipython3",
   "version": "3.8.5"
  }
 },
 "nbformat": 4,
 "nbformat_minor": 4
}
