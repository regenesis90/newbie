{
 "cells": [
  {
   "cell_type": "markdown",
   "metadata": {},
   "source": [
    "# file - with open as - tsv"
   ]
  },
  {
   "cell_type": "markdown",
   "metadata": {},
   "source": [
    "## 1. tsv 파일 쓰기 : with open as - f.write()"
   ]
  },
  {
   "cell_type": "code",
   "execution_count": 1,
   "metadata": {},
   "outputs": [
    {
     "name": "stdout",
     "output_type": "stream",
     "text": [
      "2021-01-28\tAPL\t1500\n",
      "2021-01-28\tBBB\t2000\n",
      "2021-01-29\tCCC\t1700\n",
      "2021-01-29\tAPL\t2000\n",
      "2021-01-29\tBBB\t1900\n",
      "2021-01-29\tCCC\t1600\n",
      "\n"
     ]
    }
   ],
   "source": [
    "texts='''2021-01-28\\tAPL\\t1500\n",
    "2021-01-28\\tBBB\\t2000\n",
    "2021-01-29\\tCCC\\t1700\n",
    "2021-01-29\\tAPL\\t2000\n",
    "2021-01-29\\tBBB\\t1900\n",
    "2021-01-29\\tCCC\\t1600\n",
    "'''\n",
    "print(texts)"
   ]
  },
  {
   "cell_type": "code",
   "execution_count": 2,
   "metadata": {},
   "outputs": [],
   "source": [
    "with open(file='prices.tsv', mode='w') as f:\n",
    "    f.write(texts)"
   ]
  },
  {
   "cell_type": "markdown",
   "metadata": {},
   "source": [
    "## 2. .tsv 파일 내용읽기 :\n",
    "\n",
    "1. .tsv 파일을 읽기 모드로 open\n",
    "2. 파일을 한 줄씩 읽음(for loop)\n",
    "3. 각 줄을 탭('\\t')으로 구분한 결과를 리스트에 저장\n",
    "4. 2차원 리스트 출력"
   ]
  },
  {
   "cell_type": "code",
   "execution_count": 3,
   "metadata": {},
   "outputs": [
    {
     "data": {
      "text/plain": [
       "[['2021-01-28', 'APL', '1500'],\n",
       " ['2021-01-28', 'BBB', '2000'],\n",
       " ['2021-01-29', 'CCC', '1700'],\n",
       " ['2021-01-29', 'APL', '2000'],\n",
       " ['2021-01-29', 'BBB', '1900'],\n",
       " ['2021-01-29', 'CCC', '1600']]"
      ]
     },
     "execution_count": 3,
     "metadata": {},
     "output_type": "execute_result"
    }
   ],
   "source": [
    "# for loop\n",
    "with open(file='prices.tsv', mode='r') as f:\n",
    "    prices=[]\n",
    "    for line in f:\n",
    "        data=line.strip().split(sep='\\t')\n",
    "        prices.append(data)\n",
    "prices"
   ]
  },
  {
   "cell_type": "code",
   "execution_count": 4,
   "metadata": {},
   "outputs": [
    {
     "data": {
      "text/plain": [
       "[['2021-01-28', 'APL', '1500'],\n",
       " ['2021-01-28', 'BBB', '2000'],\n",
       " ['2021-01-29', 'CCC', '1700'],\n",
       " ['2021-01-29', 'APL', '2000'],\n",
       " ['2021-01-29', 'BBB', '1900'],\n",
       " ['2021-01-29', 'CCC', '1600']]"
      ]
     },
     "execution_count": 4,
     "metadata": {},
     "output_type": "execute_result"
    }
   ],
   "source": [
    "# for loop list comprehension\n",
    "with open(file='prices.tsv', mode='r') as f:\n",
    "    prices=[line.strip().split(sep='\\t') for line in f]\n",
    "prices"
   ]
  },
  {
   "cell_type": "markdown",
   "metadata": {},
   "source": [
    "## 3. prices 리스트의 가격(prices[i][2])을 int 타입으로 변환"
   ]
  },
  {
   "cell_type": "code",
   "execution_count": 5,
   "metadata": {},
   "outputs": [
    {
     "data": {
      "text/plain": [
       "[['2021-01-28', 'APL', 1500],\n",
       " ['2021-01-28', 'BBB', 2000],\n",
       " ['2021-01-29', 'CCC', 1700],\n",
       " ['2021-01-29', 'APL', 2000],\n",
       " ['2021-01-29', 'BBB', 1900],\n",
       " ['2021-01-29', 'CCC', 1600]]"
      ]
     },
     "execution_count": 5,
     "metadata": {},
     "output_type": "execute_result"
    }
   ],
   "source": [
    "for i,x in enumerate(prices):\n",
    "    prices[i][2]=int(x[2])\n",
    "prices"
   ]
  },
  {
   "cell_type": "markdown",
   "metadata": {},
   "source": [
    "## 4. Stock 클래스 선언\n",
    "* 속성 : 거래날짜(date), 종목코드(code), 가격(price)\n",
    "* 메서드 : `__init__`, `__repr__`"
   ]
  },
  {
   "cell_type": "code",
   "execution_count": 6,
   "metadata": {},
   "outputs": [],
   "source": [
    "class Stock:\n",
    "    def __init__(self, date:str, code:str, price:int):\n",
    "        self.date=date\n",
    "        self.code=code\n",
    "        self.price=price\n",
    "    \n",
    "    def __repr__(self):\n",
    "        return f'Stock(date={self.date}, code={self.code}, price={self.price})'"
   ]
  },
  {
   "cell_type": "code",
   "execution_count": 7,
   "metadata": {},
   "outputs": [
    {
     "name": "stdout",
     "output_type": "stream",
     "text": [
      "Stock(date=2021-01-29, code=ABC, price=1234)\n"
     ]
    }
   ],
   "source": [
    "# Stock 클래스 작동 테스트\n",
    "s1=Stock('2021-01-29', 'ABC', 1234)\n",
    "print(s1)"
   ]
  },
  {
   "cell_type": "markdown",
   "metadata": {},
   "source": [
    "## 5. .tsv 파일을 읽어 Stock 클래스 인스턴스 생성, Stock 객체를 리스트에 저장"
   ]
  },
  {
   "cell_type": "code",
   "execution_count": 8,
   "metadata": {},
   "outputs": [
    {
     "data": {
      "text/plain": [
       "[Stock(date=2021-01-28, code=APL, price=1500),\n",
       " Stock(date=2021-01-28, code=BBB, price=2000),\n",
       " Stock(date=2021-01-29, code=CCC, price=1700),\n",
       " Stock(date=2021-01-29, code=APL, price=2000),\n",
       " Stock(date=2021-01-29, code=BBB, price=1900),\n",
       " Stock(date=2021-01-29, code=CCC, price=1600)]"
      ]
     },
     "execution_count": 8,
     "metadata": {},
     "output_type": "execute_result"
    }
   ],
   "source": [
    "with open(file='prices.tsv', mode='r') as f:\n",
    "    prices2=[]\n",
    "    for line in f:\n",
    "        data=line.strip().split(sep='\\t')\n",
    "        stock=Stock(data[0], data[1], int(data[2]))\n",
    "        prices2.append(stock)\n",
    "prices2"
   ]
  },
  {
   "cell_type": "markdown",
   "metadata": {},
   "source": [
    "## 6. prices2를 정렬하기 : sortde와 lambda 표현식 사용"
   ]
  },
  {
   "cell_type": "code",
   "execution_count": 9,
   "metadata": {},
   "outputs": [
    {
     "data": {
      "text/plain": [
       "[Stock(date=2021-01-28, code=BBB, price=2000),\n",
       " Stock(date=2021-01-29, code=APL, price=2000),\n",
       " Stock(date=2021-01-29, code=BBB, price=1900),\n",
       " Stock(date=2021-01-29, code=CCC, price=1700),\n",
       " Stock(date=2021-01-29, code=CCC, price=1600),\n",
       " Stock(date=2021-01-28, code=APL, price=1500)]"
      ]
     },
     "execution_count": 9,
     "metadata": {},
     "output_type": "execute_result"
    }
   ],
   "source": [
    "# price 내림차순 정렬\n",
    "sorted(prices2, key=lambda x:x.price, reverse=True)"
   ]
  },
  {
   "cell_type": "code",
   "execution_count": 11,
   "metadata": {},
   "outputs": [
    {
     "data": {
      "text/plain": [
       "[Stock(date=2021-01-29, code=APL, price=2000),\n",
       " Stock(date=2021-01-29, code=BBB, price=1900),\n",
       " Stock(date=2021-01-29, code=CCC, price=1700),\n",
       " Stock(date=2021-01-29, code=CCC, price=1600),\n",
       " Stock(date=2021-01-28, code=BBB, price=2000),\n",
       " Stock(date=2021-01-28, code=APL, price=1500)]"
      ]
     },
     "execution_count": 11,
     "metadata": {},
     "output_type": "execute_result"
    }
   ],
   "source": [
    "# prices2를 date-> price 내림차순 정렬\n",
    "sorted(prices2, key=lambda x:(x.date, x.price), reverse=True)"
   ]
  },
  {
   "cell_type": "code",
   "execution_count": null,
   "metadata": {},
   "outputs": [],
   "source": []
  }
 ],
 "metadata": {
  "kernelspec": {
   "display_name": "Python 3",
   "language": "python",
   "name": "python3"
  },
  "language_info": {
   "codemirror_mode": {
    "name": "ipython",
    "version": 3
   },
   "file_extension": ".py",
   "mimetype": "text/x-python",
   "name": "python",
   "nbconvert_exporter": "python",
   "pygments_lexer": "ipython3",
   "version": "3.8.5"
  }
 },
 "nbformat": 4,
 "nbformat_minor": 4
}
