{
 "cells": [
  {
   "cell_type": "markdown",
   "metadata": {},
   "source": [
    "# file - csv - csv module : csv.reader(file_handle)"
   ]
  },
  {
   "cell_type": "markdown",
   "metadata": {},
   "source": [
    "## csv.reader() : csv 파일을 읽어 리스트로 변환 시 사용"
   ]
  },
  {
   "cell_type": "markdown",
   "metadata": {},
   "source": [
    "### 1. 파일 경로 생성"
   ]
  },
  {
   "cell_type": "code",
   "execution_count": 2,
   "metadata": {},
   "outputs": [],
   "source": [
    "import os"
   ]
  },
  {
   "cell_type": "code",
   "execution_count": 3,
   "metadata": {},
   "outputs": [
    {
     "name": "stdout",
     "output_type": "stream",
     "text": [
      "E:/git_github_regenesis90/pop_seoul.csv\n"
     ]
    }
   ],
   "source": [
    "dir_path='E:/git_github_regenesis90/'\n",
    "file_name='pop_seoul.csv'\n",
    "file_path=os.path.join(dir_path, file_name)\n",
    "print(file_path)"
   ]
  },
  {
   "cell_type": "markdown",
   "metadata": {},
   "source": [
    "### 2. csv 파일 불러와 출력하기"
   ]
  },
  {
   "cell_type": "code",
   "execution_count": 5,
   "metadata": {},
   "outputs": [
    {
     "name": "stdout",
     "output_type": "stream",
     "text": [
      "Gu,Korean,Foreigner,Senior\n",
      "Total,\"9,740,398\",\"285,529\",\"1,468,146\"\n",
      "Jongrogu,\"151,767\",\"11,093\",\"27,394\"\n",
      "Jongru,\"126,409\",\"10,254\",\"23,025\"\n",
      "Yongsangu,\"228,830\",\"16,159\",\"38,531\"\n",
      "Seongdonggu,\"303,158\",\"8,132\",\"43,662\"\n"
     ]
    }
   ],
   "source": [
    "# 첫 5개 행만 출력하기\n",
    "with open(file_path, mode='r') as f:\n",
    "    for i,line in enumerate(f):\n",
    "        print(line, end='')\n",
    "        if i==5:\n",
    "            break"
   ]
  },
  {
   "cell_type": "markdown",
   "metadata": {},
   "source": [
    "### 3. csv 모듈의 csv.reader() 함수 활용하기\n",
    "\n",
    "* csv.reader()로 만든 객체 : 파일을 한줄씩 읽으면서 그 줄을 구분자로 split된 리스트 생성"
   ]
  },
  {
   "cell_type": "code",
   "execution_count": 6,
   "metadata": {},
   "outputs": [],
   "source": [
    "import csv"
   ]
  },
  {
   "cell_type": "code",
   "execution_count": 7,
   "metadata": {},
   "outputs": [
    {
     "data": {
      "text/plain": [
       "[['Gu', 'Korean', 'Foreigner', 'Senior'],\n",
       " ['Total', '9,740,398', '285,529', '1,468,146'],\n",
       " ['Jongrogu', '151,767', '11,093', '27,394'],\n",
       " ['Jongru', '126,409', '10,254', '23,025'],\n",
       " ['Yongsangu', '228,830', '16,159', '38,531'],\n",
       " ['Seongdonggu', '303,158', '8,132', '43,662'],\n",
       " ['Kwangjingu', '352,692', '15,645', '47,347'],\n",
       " ['Dongdaemoongu', '346,551', '17,228', '58,764'],\n",
       " ['Jungranggu', '398,812', '4,964', '64,449'],\n",
       " ['Seongbukgu', '441,590', '12,524', '70,204'],\n",
       " ['Gangbukgu', '314,090', '3,785', '59,808'],\n",
       " ['Dobonggu', '335,280', '2,314', '58,070'],\n",
       " ['Nowonggu', '535,282', '4,547', '79,968'],\n",
       " ['Eunpyonggu', '481,663', '4,496', '79,957'],\n",
       " ['Seodaemungu', '310,069', '14,020', '51,708'],\n",
       " ['Mapogu', '373,629', '11,976', '51,961'],\n",
       " ['Yangcheongu', '459,849', '4,082', '60,487'],\n",
       " ['Gangseogu', '593,708', '6,532', '82,937'],\n",
       " ['Gurogu', '406,748', '33,102', '64,952'],\n",
       " ['Guemcheongu', '233,371', '19,497', '37,191'],\n",
       " ['Youngdeungpogu', '368,402', '34,076', '57,350'],\n",
       " ['Dongjakgu', '397,618', '12,869', '61,607'],\n",
       " ['Kwanakgu', '502,117', '17,836', '74,518'],\n",
       " ['Seoucheogu', '431,027', '4,231', '56,455'],\n",
       " ['Gangnamgu', '544,028', '5,015', '70,029'],\n",
       " ['Songpagu', '677,489', '6,849', '86,062'],\n",
       " ['Gangdonggu', '426,219', '4,303', '61,710']]"
      ]
     },
     "execution_count": 7,
     "metadata": {},
     "output_type": "execute_result"
    }
   ],
   "source": [
    "# for loop\n",
    "with open(file_path, mode='r') as f:\n",
    "    pop_seoul=[] #> csv 파일 데이터를 저장할 리스트\n",
    "    reader=csv.reader(f)\n",
    "    for row in reader:\n",
    "        pop_seoul.append(row)\n",
    "pop_seoul"
   ]
  },
  {
   "cell_type": "code",
   "execution_count": 8,
   "metadata": {},
   "outputs": [
    {
     "data": {
      "text/plain": [
       "[['Gu', 'Korean', 'Foreigner', 'Senior'],\n",
       " ['Total', '9,740,398', '285,529', '1,468,146'],\n",
       " ['Jongrogu', '151,767', '11,093', '27,394'],\n",
       " ['Jongru', '126,409', '10,254', '23,025'],\n",
       " ['Yongsangu', '228,830', '16,159', '38,531'],\n",
       " ['Seongdonggu', '303,158', '8,132', '43,662'],\n",
       " ['Kwangjingu', '352,692', '15,645', '47,347'],\n",
       " ['Dongdaemoongu', '346,551', '17,228', '58,764'],\n",
       " ['Jungranggu', '398,812', '4,964', '64,449'],\n",
       " ['Seongbukgu', '441,590', '12,524', '70,204'],\n",
       " ['Gangbukgu', '314,090', '3,785', '59,808'],\n",
       " ['Dobonggu', '335,280', '2,314', '58,070'],\n",
       " ['Nowonggu', '535,282', '4,547', '79,968'],\n",
       " ['Eunpyonggu', '481,663', '4,496', '79,957'],\n",
       " ['Seodaemungu', '310,069', '14,020', '51,708'],\n",
       " ['Mapogu', '373,629', '11,976', '51,961'],\n",
       " ['Yangcheongu', '459,849', '4,082', '60,487'],\n",
       " ['Gangseogu', '593,708', '6,532', '82,937'],\n",
       " ['Gurogu', '406,748', '33,102', '64,952'],\n",
       " ['Guemcheongu', '233,371', '19,497', '37,191'],\n",
       " ['Youngdeungpogu', '368,402', '34,076', '57,350'],\n",
       " ['Dongjakgu', '397,618', '12,869', '61,607'],\n",
       " ['Kwanakgu', '502,117', '17,836', '74,518'],\n",
       " ['Seoucheogu', '431,027', '4,231', '56,455'],\n",
       " ['Gangnamgu', '544,028', '5,015', '70,029'],\n",
       " ['Songpagu', '677,489', '6,849', '86,062'],\n",
       " ['Gangdonggu', '426,219', '4,303', '61,710']]"
      ]
     },
     "execution_count": 8,
     "metadata": {},
     "output_type": "execute_result"
    }
   ],
   "source": [
    "# for loop list comprehension\n",
    "with open(file_path, mode='r') as f:\n",
    "    reader=csv.reader(f)\n",
    "    pop_seoul=[row for row in reader ]\n",
    "pop_seoul"
   ]
  },
  {
   "cell_type": "markdown",
   "metadata": {},
   "source": [
    "### 4. pop_seoul 리스트의 숫자 데이터들을 int 타입으로 변환"
   ]
  },
  {
   "cell_type": "code",
   "execution_count": 9,
   "metadata": {},
   "outputs": [
    {
     "data": {
      "text/plain": [
       "[['Gu', 'Korean', 'Foreigner', 'Senior'],\n",
       " ['Total', 9740398, 285529, 1468146],\n",
       " ['Jongrogu', 151767, 11093, 27394],\n",
       " ['Jongru', 126409, 10254, 23025],\n",
       " ['Yongsangu', 228830, 16159, 38531],\n",
       " ['Seongdonggu', 303158, 8132, 43662],\n",
       " ['Kwangjingu', 352692, 15645, 47347],\n",
       " ['Dongdaemoongu', 346551, 17228, 58764],\n",
       " ['Jungranggu', 398812, 4964, 64449],\n",
       " ['Seongbukgu', 441590, 12524, 70204],\n",
       " ['Gangbukgu', 314090, 3785, 59808],\n",
       " ['Dobonggu', 335280, 2314, 58070],\n",
       " ['Nowonggu', 535282, 4547, 79968],\n",
       " ['Eunpyonggu', 481663, 4496, 79957],\n",
       " ['Seodaemungu', 310069, 14020, 51708],\n",
       " ['Mapogu', 373629, 11976, 51961],\n",
       " ['Yangcheongu', 459849, 4082, 60487],\n",
       " ['Gangseogu', 593708, 6532, 82937],\n",
       " ['Gurogu', 406748, 33102, 64952],\n",
       " ['Guemcheongu', 233371, 19497, 37191],\n",
       " ['Youngdeungpogu', 368402, 34076, 57350],\n",
       " ['Dongjakgu', 397618, 12869, 61607],\n",
       " ['Kwanakgu', 502117, 17836, 74518],\n",
       " ['Seoucheogu', 431027, 4231, 56455],\n",
       " ['Gangnamgu', 544028, 5015, 70029],\n",
       " ['Songpagu', 677489, 6849, 86062],\n",
       " ['Gangdonggu', 426219, 4303, 61710]]"
      ]
     },
     "execution_count": 9,
     "metadata": {},
     "output_type": "execute_result"
    }
   ],
   "source": [
    "for i,row in enumerate(pop_seoul):\n",
    "    if i>0: #> 헤더 제외\n",
    "        for j in range(1,4): #> index 1,2,3. 숫자 데이터 컬럼 지목\n",
    "            pop_seoul[i][j]=int(row[j].replace(',','')) #> 쉼표도 없애 버린다.\n",
    "pop_seoul"
   ]
  },
  {
   "cell_type": "markdown",
   "metadata": {},
   "source": [
    "### 5. try - except 사용 : int 타입 변환 도중 에러 발생 가능성 염두"
   ]
  },
  {
   "cell_type": "code",
   "execution_count": 10,
   "metadata": {},
   "outputs": [
    {
     "name": "stdout",
     "output_type": "stream",
     "text": [
      "[['Gu', 'Korean', 'Foreigner', 'Senior'], ['Total', '9,740,398', '285,529', '1,468,146'], ['Jongrogu', '151,767', '11,093', '27,394'], ['Jongru', '126,409', '10,254', '23,025'], ['Yongsangu', '228,830', '16,159', '38,531'], ['Seongdonggu', '303,158', '8,132', '43,662'], ['Kwangjingu', '352,692', '15,645', '47,347'], ['Dongdaemoongu', '346,551', '17,228', '58,764'], ['Jungranggu', '398,812', '4,964', '64,449'], ['Seongbukgu', '441,590', '12,524', '70,204'], ['Gangbukgu', '314,090', '3,785', '59,808'], ['Dobonggu', '335,280', '2,314', '58,070'], ['Nowonggu', '535,282', '4,547', '79,968'], ['Eunpyonggu', '481,663', '4,496', '79,957'], ['Seodaemungu', '310,069', '14,020', '51,708'], ['Mapogu', '373,629', '11,976', '51,961'], ['Yangcheongu', '459,849', '4,082', '60,487'], ['Gangseogu', '593,708', '6,532', '82,937'], ['Gurogu', '406,748', '33,102', '64,952'], ['Guemcheongu', '233,371', '19,497', '37,191'], ['Youngdeungpogu', '368,402', '34,076', '57,350'], ['Dongjakgu', '397,618', '12,869', '61,607'], ['Kwanakgu', '502,117', '17,836', '74,518'], ['Seoucheogu', '431,027', '4,231', '56,455'], ['Gangnamgu', '544,028', '5,015', '70,029'], ['Songpagu', '677,489', '6,849', '86,062'], ['Gangdonggu', '426,219', '4,303', '61,710']]\n"
     ]
    }
   ],
   "source": [
    "pop_seoul=[]\n",
    "with open(file_path, mode='r') as f:\n",
    "    reader=csv.reader(f)\n",
    "    pop_seoul=[row for row in reader]\n",
    "print(pop_seoul)"
   ]
  },
  {
   "cell_type": "code",
   "execution_count": 11,
   "metadata": {},
   "outputs": [
    {
     "data": {
      "text/plain": [
       "[['Gu', 'Korean', 'Foreigner', 'Senior'],\n",
       " ['Total', 9740398, 285529, 1468146],\n",
       " ['Jongrogu', 151767, 11093, 27394],\n",
       " ['Jongru', 126409, 10254, 23025],\n",
       " ['Yongsangu', 228830, 16159, 38531],\n",
       " ['Seongdonggu', 303158, 8132, 43662],\n",
       " ['Kwangjingu', 352692, 15645, 47347],\n",
       " ['Dongdaemoongu', 346551, 17228, 58764],\n",
       " ['Jungranggu', 398812, 4964, 64449],\n",
       " ['Seongbukgu', 441590, 12524, 70204],\n",
       " ['Gangbukgu', 314090, 3785, 59808],\n",
       " ['Dobonggu', 335280, 2314, 58070],\n",
       " ['Nowonggu', 535282, 4547, 79968],\n",
       " ['Eunpyonggu', 481663, 4496, 79957],\n",
       " ['Seodaemungu', 310069, 14020, 51708],\n",
       " ['Mapogu', 373629, 11976, 51961],\n",
       " ['Yangcheongu', 459849, 4082, 60487],\n",
       " ['Gangseogu', 593708, 6532, 82937],\n",
       " ['Gurogu', 406748, 33102, 64952],\n",
       " ['Guemcheongu', 233371, 19497, 37191],\n",
       " ['Youngdeungpogu', 368402, 34076, 57350],\n",
       " ['Dongjakgu', 397618, 12869, 61607],\n",
       " ['Kwanakgu', 502117, 17836, 74518],\n",
       " ['Seoucheogu', 431027, 4231, 56455],\n",
       " ['Gangnamgu', 544028, 5015, 70029],\n",
       " ['Songpagu', 677489, 6849, 86062],\n",
       " ['Gangdonggu', 426219, 4303, 61710]]"
      ]
     },
     "execution_count": 11,
     "metadata": {},
     "output_type": "execute_result"
    }
   ],
   "source": [
    "for i,row in enumerate(pop_seoul):\n",
    "    for j,val in enumerate(row):\n",
    "        try: #> int 타입 변환 시도, 에러 없을 시 해당 인덱스 위치에 저장\n",
    "            pop_seoul[i][j]=int(val.replace(',',''))\n",
    "        except: #> int 타입 변환 도중 에러 발생 시 아무것도 하지 않음\n",
    "            pass\n",
    "pop_seoul"
   ]
  },
  {
   "cell_type": "markdown",
   "metadata": {},
   "source": [
    "## 파생변수 추가하기"
   ]
  },
  {
   "cell_type": "markdown",
   "metadata": {},
   "source": [
    "### 1. pop_seoul 리스트에 파생변수 추가하기\n",
    "* pop_seoul 리스트 첫째 행의 마지막에 'foreign_ratio' 원소 추가\n",
    "* pop_seoul 리스트 둘째~끝 행까지는 외국인 비율(%) 추가\n",
    "* **`foreign_ratio=Foreigner/(Korean+Foreigner)*100`**"
   ]
  },
  {
   "cell_type": "code",
   "execution_count": 13,
   "metadata": {},
   "outputs": [
    {
     "data": {
      "text/plain": [
       "[['Gu', 'Korean', 'Foreigner', 'Senior', 'foreign_ratio', 'foreign_ratio'],\n",
       " ['Total', 9740398, 285529, 1468146, 2.847906233508383],\n",
       " ['Jongrogu', 151767, 11093, 27394, 6.81137173032052],\n",
       " ['Jongru', 126409, 10254, 23025, 7.503128132705999],\n",
       " ['Yongsangu', 228830, 16159, 38531, 6.595806342325574],\n",
       " ['Seongdonggu', 303158, 8132, 43662, 2.612355038709885],\n",
       " ['Kwangjingu', 352692, 15645, 47347, 4.247469029720066],\n",
       " ['Dongdaemoongu', 346551, 17228, 58764, 4.735842365832003],\n",
       " ['Jungranggu', 398812, 4964, 64449, 1.2293945157711206],\n",
       " ['Seongbukgu', 441590, 12524, 70204, 2.7578977965885216],\n",
       " ['Gangbukgu', 314090, 3785, 59808, 1.1907196224931182],\n",
       " ['Dobonggu', 335280, 2314, 58070, 0.6854387222521727],\n",
       " ['Nowonggu', 535282, 4547, 79968, 0.8423037665631153],\n",
       " ['Eunpyonggu', 481663, 4496, 79957, 0.9248003225282263],\n",
       " ['Seodaemungu', 310069, 14020, 51708, 4.325972186652431],\n",
       " ['Mapogu', 373629, 11976, 51961, 3.1057688567316295],\n",
       " ['Yangcheongu', 459849, 4082, 60487, 0.8798722223778968],\n",
       " ['Gangseogu', 593708, 6532, 82937, 1.08823137411702],\n",
       " ['Gurogu', 406748, 33102, 64952, 7.5257474138911],\n",
       " ['Guemcheongu', 233371, 19497, 37191, 7.71034690035908],\n",
       " ['Youngdeungpogu', 368402, 34076, 57350, 8.46654972445699],\n",
       " ['Dongjakgu', 397618, 12869, 61607, 3.1350566522204115],\n",
       " ['Kwanakgu', 502117, 17836, 74518, 3.430310047254271],\n",
       " ['Seoucheogu', 431027, 4231, 56455, 0.9720671417871699],\n",
       " ['Gangnamgu', 544028, 5015, 70029, 0.9134075108871255],\n",
       " ['Songpagu', 677489, 6849, 86062, 1.0008212316136178],\n",
       " ['Gangdonggu', 426219, 4303, 61710, 0.999484346909101]]"
      ]
     },
     "execution_count": 13,
     "metadata": {},
     "output_type": "execute_result"
    }
   ],
   "source": [
    "for i,row in enumerate(pop_seoul):\n",
    "    if i==0: #> 헤더 지정\n",
    "        row.append('foreign_ratio')\n",
    "    else:\n",
    "        foreign_ratio=row[2]/(row[1]+row[2])*100\n",
    "        row.append(foreign_ratio)\n",
    "pop_seoul"
   ]
  },
  {
   "cell_type": "markdown",
   "metadata": {},
   "source": [
    "### 2. pop_seoul 리스트에서 외국인 비율이 3% 이상인 모든 레코드 검색, pop_foreign_over3 리스트 생성"
   ]
  },
  {
   "cell_type": "code",
   "execution_count": 14,
   "metadata": {},
   "outputs": [
    {
     "data": {
      "text/plain": [
       "[['Gu', 'Korean', 'Foreigner', 'Senior', 'foreign_ratio', 'foreign_ratio'],\n",
       " ['Jongrogu', 151767, 11093, 27394, 6.81137173032052],\n",
       " ['Jongru', 126409, 10254, 23025, 7.503128132705999],\n",
       " ['Yongsangu', 228830, 16159, 38531, 6.595806342325574],\n",
       " ['Kwangjingu', 352692, 15645, 47347, 4.247469029720066],\n",
       " ['Dongdaemoongu', 346551, 17228, 58764, 4.735842365832003],\n",
       " ['Seodaemungu', 310069, 14020, 51708, 4.325972186652431],\n",
       " ['Mapogu', 373629, 11976, 51961, 3.1057688567316295],\n",
       " ['Gurogu', 406748, 33102, 64952, 7.5257474138911],\n",
       " ['Guemcheongu', 233371, 19497, 37191, 7.71034690035908],\n",
       " ['Youngdeungpogu', 368402, 34076, 57350, 8.46654972445699],\n",
       " ['Dongjakgu', 397618, 12869, 61607, 3.1350566522204115],\n",
       " ['Kwanakgu', 502117, 17836, 74518, 3.430310047254271]]"
      ]
     },
     "execution_count": 14,
     "metadata": {},
     "output_type": "execute_result"
    }
   ],
   "source": [
    "pop_foreign_over3=[]\n",
    "for i,row in enumerate(pop_seoul):\n",
    "    if i==0:\n",
    "        pop_foreign_over3.append(row)\n",
    "    else:\n",
    "        if row[4]>=3.0:\n",
    "            pop_foreign_over3.append(row)\n",
    "pop_foreign_over3"
   ]
  },
  {
   "cell_type": "markdown",
   "metadata": {},
   "source": [
    "### 3. pop_seoul 리스트에 Senior 인구비율 파생변수 추가하기\n",
    "* pop_seoul 리스트 첫째 행의 마지막에 'Senior' 원소 추가\n",
    "* pop_seoul 리스트 둘째~끝 행까지는 노인 비율(%) 추가\n",
    "* **`senior_ratio=Senior/(Korean+Foreigner)*100`**\n",
    "* Senior 인구비율이 15% 이상인 레코드로만 이루어진 리스트 생성 후 출력 "
   ]
  },
  {
   "cell_type": "code",
   "execution_count": 16,
   "metadata": {},
   "outputs": [
    {
     "data": {
      "text/plain": [
       "[['Gu',\n",
       "  'Korean',\n",
       "  'Foreigner',\n",
       "  'Senior',\n",
       "  'foreign_ratio',\n",
       "  'foreign_ratio',\n",
       "  'senior_ratio',\n",
       "  'senior_ratio'],\n",
       " ['Total', 9740398, 285529, 1468146, 2.847906233508383, 14.643493813589506],\n",
       " ['Jongrogu', 151767, 11093, 27394, 6.81137173032052, 16.820582095050966],\n",
       " ['Jongru', 126409, 10254, 23025, 7.503128132705999, 16.84801299547061],\n",
       " ['Yongsangu', 228830, 16159, 38531, 6.595806342325574, 15.72764491466964],\n",
       " ['Seongdonggu', 303158, 8132, 43662, 2.612355038709885, 14.026149249895594],\n",
       " ['Kwangjingu', 352692, 15645, 47347, 4.247469029720066, 12.854261179300478],\n",
       " ['Dongdaemoongu', 346551, 17228, 58764, 4.735842365832003, 16.15376368619409],\n",
       " ['Jungranggu', 398812, 4964, 64449, 1.2293945157711206, 15.961572753209701],\n",
       " ['Seongbukgu', 441590, 12524, 70204, 2.7578977965885216, 15.459554208855044],\n",
       " ['Gangbukgu', 314090, 3785, 59808, 1.1907196224931182, 18.81494298073142],\n",
       " ['Dobonggu', 335280, 2314, 58070, 0.6854387222521727, 17.20113509126347],\n",
       " ['Nowonggu', 535282, 4547, 79968, 0.8423037665631153, 14.81357985584324],\n",
       " ['Eunpyonggu', 481663, 4496, 79957, 0.9248003225282263, 16.44667691022896],\n",
       " ['Seodaemungu', 310069, 14020, 51708, 4.325972186652431, 15.954876592540938],\n",
       " ['Mapogu', 373629, 11976, 51961, 3.1057688567316295, 13.475188340400152],\n",
       " ['Yangcheongu', 459849, 4082, 60487, 0.8798722223778968, 13.03793020944925],\n",
       " ['Gangseogu', 593708, 6532, 82937, 1.08823137411702, 13.817306410769026],\n",
       " ['Gurogu', 406748, 33102, 64952, 7.5257474138911, 14.766852336023645],\n",
       " ['Guemcheongu', 233371, 19497, 37191, 7.71034690035908, 14.707673568818514],\n",
       " ['Youngdeungpogu',\n",
       "  368402,\n",
       "  34076,\n",
       "  57350,\n",
       "  8.46654972445699,\n",
       "  14.249226044653373],\n",
       " ['Dongjakgu', 397618, 12869, 61607, 3.1350566522204115, 15.008270663869988],\n",
       " ['Kwanakgu', 502117, 17836, 74518, 3.430310047254271, 14.331679978767312],\n",
       " ['Seoucheogu', 431027, 4231, 56455, 0.9720671417871699, 12.970468090190185],\n",
       " ['Gangnamgu', 544028, 5015, 70029, 0.9134075108871255, 12.75473869988325],\n",
       " ['Songpagu', 677489, 6849, 86062, 1.0008212316136178, 12.575949311597483],\n",
       " ['Gangdonggu', 426219, 4303, 61710, 0.999484346909101, 14.333762269988526]]"
      ]
     },
     "execution_count": 16,
     "metadata": {},
     "output_type": "execute_result"
    }
   ],
   "source": [
    "for i,row in enumerate(pop_seoul):\n",
    "    if i==0:\n",
    "        row.append('senior_ratio')\n",
    "    else:\n",
    "        senior_ratio=row[3]/(row[1]+row[2])*100\n",
    "        row.append(senior_ratio)\n",
    "pop_seoul"
   ]
  },
  {
   "cell_type": "code",
   "execution_count": 17,
   "metadata": {},
   "outputs": [
    {
     "data": {
      "text/plain": [
       "[['Gu',\n",
       "  'Korean',\n",
       "  'Foreigner',\n",
       "  'Senior',\n",
       "  'foreign_ratio',\n",
       "  'foreign_ratio',\n",
       "  'senior_ratio',\n",
       "  'senior_ratio'],\n",
       " ['Jongrogu', 151767, 11093, 27394, 6.81137173032052, 16.820582095050966],\n",
       " ['Jongru', 126409, 10254, 23025, 7.503128132705999, 16.84801299547061],\n",
       " ['Yongsangu', 228830, 16159, 38531, 6.595806342325574, 15.72764491466964],\n",
       " ['Dongdaemoongu', 346551, 17228, 58764, 4.735842365832003, 16.15376368619409],\n",
       " ['Jungranggu', 398812, 4964, 64449, 1.2293945157711206, 15.961572753209701],\n",
       " ['Seongbukgu', 441590, 12524, 70204, 2.7578977965885216, 15.459554208855044],\n",
       " ['Gangbukgu', 314090, 3785, 59808, 1.1907196224931182, 18.81494298073142],\n",
       " ['Dobonggu', 335280, 2314, 58070, 0.6854387222521727, 17.20113509126347],\n",
       " ['Eunpyonggu', 481663, 4496, 79957, 0.9248003225282263, 16.44667691022896],\n",
       " ['Seodaemungu', 310069, 14020, 51708, 4.325972186652431, 15.954876592540938],\n",
       " ['Dongjakgu', 397618, 12869, 61607, 3.1350566522204115, 15.008270663869988]]"
      ]
     },
     "execution_count": 17,
     "metadata": {},
     "output_type": "execute_result"
    }
   ],
   "source": [
    "senior_over15=[]\n",
    "for i,row in enumerate(pop_seoul):\n",
    "    if i==0:\n",
    "        senior_over15.append(row)\n",
    "    else:\n",
    "        if row[5]>=15.0:\n",
    "            senior_over15.append(row)\n",
    "senior_over15"
   ]
  },
  {
   "cell_type": "markdown",
   "metadata": {},
   "source": [
    "### 4. pop_seoul 리스트를 foreign_ratio 내림차순 정렬하여 출력"
   ]
  },
  {
   "cell_type": "code",
   "execution_count": 18,
   "metadata": {},
   "outputs": [
    {
     "data": {
      "text/plain": [
       "[['Gu',\n",
       "  'Korean',\n",
       "  'Foreigner',\n",
       "  'Senior',\n",
       "  'foreign_ratio',\n",
       "  'foreign_ratio',\n",
       "  'senior_ratio',\n",
       "  'senior_ratio'],\n",
       " ['Youngdeungpogu',\n",
       "  368402,\n",
       "  34076,\n",
       "  57350,\n",
       "  8.46654972445699,\n",
       "  14.249226044653373],\n",
       " ['Guemcheongu', 233371, 19497, 37191, 7.71034690035908, 14.707673568818514],\n",
       " ['Gurogu', 406748, 33102, 64952, 7.5257474138911, 14.766852336023645],\n",
       " ['Jongru', 126409, 10254, 23025, 7.503128132705999, 16.84801299547061],\n",
       " ['Jongrogu', 151767, 11093, 27394, 6.81137173032052, 16.820582095050966],\n",
       " ['Yongsangu', 228830, 16159, 38531, 6.595806342325574, 15.72764491466964],\n",
       " ['Dongdaemoongu', 346551, 17228, 58764, 4.735842365832003, 16.15376368619409],\n",
       " ['Seodaemungu', 310069, 14020, 51708, 4.325972186652431, 15.954876592540938],\n",
       " ['Kwangjingu', 352692, 15645, 47347, 4.247469029720066, 12.854261179300478],\n",
       " ['Kwanakgu', 502117, 17836, 74518, 3.430310047254271, 14.331679978767312],\n",
       " ['Dongjakgu', 397618, 12869, 61607, 3.1350566522204115, 15.008270663869988],\n",
       " ['Mapogu', 373629, 11976, 51961, 3.1057688567316295, 13.475188340400152],\n",
       " ['Total', 9740398, 285529, 1468146, 2.847906233508383, 14.643493813589506],\n",
       " ['Seongbukgu', 441590, 12524, 70204, 2.7578977965885216, 15.459554208855044],\n",
       " ['Seongdonggu', 303158, 8132, 43662, 2.612355038709885, 14.026149249895594],\n",
       " ['Jungranggu', 398812, 4964, 64449, 1.2293945157711206, 15.961572753209701],\n",
       " ['Gangbukgu', 314090, 3785, 59808, 1.1907196224931182, 18.81494298073142],\n",
       " ['Gangseogu', 593708, 6532, 82937, 1.08823137411702, 13.817306410769026],\n",
       " ['Songpagu', 677489, 6849, 86062, 1.0008212316136178, 12.575949311597483],\n",
       " ['Gangdonggu', 426219, 4303, 61710, 0.999484346909101, 14.333762269988526],\n",
       " ['Seoucheogu', 431027, 4231, 56455, 0.9720671417871699, 12.970468090190185],\n",
       " ['Eunpyonggu', 481663, 4496, 79957, 0.9248003225282263, 16.44667691022896],\n",
       " ['Gangnamgu', 544028, 5015, 70029, 0.9134075108871255, 12.75473869988325],\n",
       " ['Yangcheongu', 459849, 4082, 60487, 0.8798722223778968, 13.03793020944925],\n",
       " ['Nowonggu', 535282, 4547, 79968, 0.8423037665631153, 14.81357985584324],\n",
       " ['Dobonggu', 335280, 2314, 58070, 0.6854387222521727, 17.20113509126347]]"
      ]
     },
     "execution_count": 18,
     "metadata": {},
     "output_type": "execute_result"
    }
   ],
   "source": [
    "foreign_sort=[]\n",
    "foreign_sort.append(pop_seoul[0]) #> 제목(헤더) 추가\n",
    "data=sorted(pop_seoul[1:], key=lambda x:x[4], reverse=True) #> 제목제외 데이터를 정렬\n",
    "foreign_sort.extend(data) #> 정렬된 리스트 원소들을 하나씩 추가\n",
    "foreign_sort"
   ]
  },
  {
   "cell_type": "markdown",
   "metadata": {},
   "source": [
    "### 5. pop_seoul 리스트를 senior_ration 내림차순 정렬로 출력"
   ]
  },
  {
   "cell_type": "code",
   "execution_count": 19,
   "metadata": {},
   "outputs": [
    {
     "data": {
      "text/plain": [
       "[['Gu',\n",
       "  'Korean',\n",
       "  'Foreigner',\n",
       "  'Senior',\n",
       "  'foreign_ratio',\n",
       "  'foreign_ratio',\n",
       "  'senior_ratio',\n",
       "  'senior_ratio'],\n",
       " ['Gangbukgu', 314090, 3785, 59808, 1.1907196224931182, 18.81494298073142],\n",
       " ['Dobonggu', 335280, 2314, 58070, 0.6854387222521727, 17.20113509126347],\n",
       " ['Jongru', 126409, 10254, 23025, 7.503128132705999, 16.84801299547061],\n",
       " ['Jongrogu', 151767, 11093, 27394, 6.81137173032052, 16.820582095050966],\n",
       " ['Eunpyonggu', 481663, 4496, 79957, 0.9248003225282263, 16.44667691022896],\n",
       " ['Dongdaemoongu', 346551, 17228, 58764, 4.735842365832003, 16.15376368619409],\n",
       " ['Jungranggu', 398812, 4964, 64449, 1.2293945157711206, 15.961572753209701],\n",
       " ['Seodaemungu', 310069, 14020, 51708, 4.325972186652431, 15.954876592540938],\n",
       " ['Yongsangu', 228830, 16159, 38531, 6.595806342325574, 15.72764491466964],\n",
       " ['Seongbukgu', 441590, 12524, 70204, 2.7578977965885216, 15.459554208855044],\n",
       " ['Dongjakgu', 397618, 12869, 61607, 3.1350566522204115, 15.008270663869988],\n",
       " ['Nowonggu', 535282, 4547, 79968, 0.8423037665631153, 14.81357985584324],\n",
       " ['Gurogu', 406748, 33102, 64952, 7.5257474138911, 14.766852336023645],\n",
       " ['Guemcheongu', 233371, 19497, 37191, 7.71034690035908, 14.707673568818514],\n",
       " ['Total', 9740398, 285529, 1468146, 2.847906233508383, 14.643493813589506],\n",
       " ['Gangdonggu', 426219, 4303, 61710, 0.999484346909101, 14.333762269988526],\n",
       " ['Kwanakgu', 502117, 17836, 74518, 3.430310047254271, 14.331679978767312],\n",
       " ['Youngdeungpogu',\n",
       "  368402,\n",
       "  34076,\n",
       "  57350,\n",
       "  8.46654972445699,\n",
       "  14.249226044653373],\n",
       " ['Seongdonggu', 303158, 8132, 43662, 2.612355038709885, 14.026149249895594],\n",
       " ['Gangseogu', 593708, 6532, 82937, 1.08823137411702, 13.817306410769026],\n",
       " ['Mapogu', 373629, 11976, 51961, 3.1057688567316295, 13.475188340400152],\n",
       " ['Yangcheongu', 459849, 4082, 60487, 0.8798722223778968, 13.03793020944925],\n",
       " ['Seoucheogu', 431027, 4231, 56455, 0.9720671417871699, 12.970468090190185],\n",
       " ['Kwangjingu', 352692, 15645, 47347, 4.247469029720066, 12.854261179300478],\n",
       " ['Gangnamgu', 544028, 5015, 70029, 0.9134075108871255, 12.75473869988325],\n",
       " ['Songpagu', 677489, 6849, 86062, 1.0008212316136178, 12.575949311597483]]"
      ]
     },
     "execution_count": 19,
     "metadata": {},
     "output_type": "execute_result"
    }
   ],
   "source": [
    "senior_sort=[]\n",
    "senior_sort.append(pop_seoul[0]) #> 제목(헤더) 추가\n",
    "data=sorted(pop_seoul[1:], key=lambda x:x[5], reverse=True) #> 제목제외 데이터를 정렬\n",
    "senior_sort.extend(data) #> 정렬된 리스트 원소들을 하나씩 추가\n",
    "senior_sort"
   ]
  },
  {
   "cell_type": "code",
   "execution_count": null,
   "metadata": {},
   "outputs": [],
   "source": []
  }
 ],
 "metadata": {
  "kernelspec": {
   "display_name": "Python 3",
   "language": "python",
   "name": "python3"
  },
  "language_info": {
   "codemirror_mode": {
    "name": "ipython",
    "version": 3
   },
   "file_extension": ".py",
   "mimetype": "text/x-python",
   "name": "python",
   "nbconvert_exporter": "python",
   "pygments_lexer": "ipython3",
   "version": "3.8.5"
  }
 },
 "nbformat": 4,
 "nbformat_minor": 4
}
