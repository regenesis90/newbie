{
 "cells": [
  {
   "cell_type": "markdown",
   "metadata": {},
   "source": [
    "# BeautifulSoup - with open as"
   ]
  },
  {
   "cell_type": "markdown",
   "metadata": {},
   "source": [
    "## .find, .find_all, tag, attr 찾기의 표현 방식\n",
    "\n",
    "* BeautifulSoup.find(name='태그이름', attrs={'속성이름':'속성값'})\n",
    "\n",
    "* **BeautifulSoup.태그이름 = BeautifulSoup.find(name='태그이름')**\n",
    "\n",
    "* Beautifulsoup.find_all(name='태그이름', attrs={'속성이름':'속성값})\n",
    "\n",
    "* **BeautifulSoup([name=]'태그이름') = BeautifulSoup.find_all(name='태그이름')**\n",
    "\n",
    "* **BeautifulSoup(attrs={}) = BeautifulSoup.find_all(attrs={})**\n",
    "\n",
    "* BeautifulSoup.find(**kwargs), BeautifulSoup.find_all(**kwagrs)\n",
    "    * BeautifulSoup.find(class_='클래스이름', id='아이디값')\n",
    "    * BeautifulSoup.find_all(class_='클래스이름', id='아이디값')\n"
   ]
  },
  {
   "cell_type": "code",
   "execution_count": 1,
   "metadata": {},
   "outputs": [],
   "source": [
    "from bs4 import BeautifulSoup"
   ]
  },
  {
   "cell_type": "markdown",
   "metadata": {},
   "source": [
    "### 문제 1. web01.html에서 a 태그 요소 중 href 속성값이 'https://www.naver.com/' 인 요소 텍스트 찾기"
   ]
  },
  {
   "cell_type": "code",
   "execution_count": 3,
   "metadata": {},
   "outputs": [],
   "source": [
    "import os"
   ]
  },
  {
   "cell_type": "code",
   "execution_count": 4,
   "metadata": {},
   "outputs": [
    {
     "name": "stdout",
     "output_type": "stream",
     "text": [
      "E:/git_github_regenesis90/web01.html\n"
     ]
    }
   ],
   "source": [
    "dir_path='E:/git_github_regenesis90/'\n",
    "file_name='web01.html'\n",
    "file_path=os.path.join(dir_path, file_name)\n",
    "print(file_path)"
   ]
  },
  {
   "cell_type": "code",
   "execution_count": 10,
   "metadata": {},
   "outputs": [
    {
     "name": "stdout",
     "output_type": "stream",
     "text": [
      "네이버\n"
     ]
    }
   ],
   "source": [
    "with open(file_path, mode='r', encoding='UTF-8') as f:\n",
    "    soup=BeautifulSoup(markup=f, features='html5lib')\n",
    "    link=soup.find(name='a', attrs={'href':'https://www.naver.com/'})\n",
    "    print(link.text)"
   ]
  },
  {
   "cell_type": "markdown",
   "metadata": {},
   "source": [
    "## Tag 이름으로 HTML element 찾기 : web03.html 파일 사용"
   ]
  },
  {
   "cell_type": "code",
   "execution_count": 11,
   "metadata": {},
   "outputs": [
    {
     "name": "stdout",
     "output_type": "stream",
     "text": [
      "E:/git_github_regenesis90/web03.html\n"
     ]
    }
   ],
   "source": [
    "dir_path='E:/git_github_regenesis90/'\n",
    "file_name='web03.html'\n",
    "file_path=os.path.join(dir_path, file_name)\n",
    "print(file_path)"
   ]
  },
  {
   "cell_type": "markdown",
   "metadata": {},
   "source": [
    "### 문제 2. HTML 문서의 모든 div 태그 element찾기"
   ]
  },
  {
   "cell_type": "code",
   "execution_count": 14,
   "metadata": {},
   "outputs": [
    {
     "name": "stdout",
     "output_type": "stream",
     "text": [
      "divs=[<div class=\"c1\">여기는 c1 클래스입니다.</div>, <div class=\"c1\">여기도 c1 클래스입니다.</div>, <div class=\"c2\">여기는 c2 클래스입니다.</div>, <div class=\"c2\" id=\"id1\">여기는 c2 클래스, 아이디는 id1입니다.</div>]\n",
      "\n",
      "<div class=\"c1\">여기는 c1 클래스입니다.</div>\n",
      "<div class=\"c1\">여기도 c1 클래스입니다.</div>\n",
      "<div class=\"c2\">여기는 c2 클래스입니다.</div>\n",
      "<div class=\"c2\" id=\"id1\">여기는 c2 클래스, 아이디는 id1입니다.</div>\n"
     ]
    }
   ],
   "source": [
    "with open(file_path, mode='r', encoding='UTF-8') as f:\n",
    "    soup=BeautifulSoup(markup=f, features='html5lib')\n",
    "    divs=soup(name='div')\n",
    "    print(f'divs={divs}\\n')\n",
    "    for el in divs:\n",
    "        print(el)"
   ]
  },
  {
   "cell_type": "markdown",
   "metadata": {},
   "source": [
    "### 문제3. web03.html 문서의 모든 div 태그 텍스트 찾기"
   ]
  },
  {
   "cell_type": "code",
   "execution_count": 15,
   "metadata": {},
   "outputs": [
    {
     "name": "stdout",
     "output_type": "stream",
     "text": [
      "여기는 c1 클래스입니다.\n",
      "여기도 c1 클래스입니다.\n",
      "여기는 c2 클래스입니다.\n",
      "여기는 c2 클래스, 아이디는 id1입니다.\n"
     ]
    }
   ],
   "source": [
    "with open(file_path, mode='r', encoding='UTF-8') as f:\n",
    "    soup=BeautifulSoup(markup=f, features='html5lib')\n",
    "    divs=soup(name='div')\n",
    "    for el in divs:\n",
    "        print(el.text)"
   ]
  },
  {
   "cell_type": "markdown",
   "metadata": {},
   "source": [
    "### 문제 4. web03.html 문서에서, class 속성 값이 c1인 모든 HTML element 찾기"
   ]
  },
  {
   "cell_type": "code",
   "execution_count": 19,
   "metadata": {},
   "outputs": [
    {
     "name": "stdout",
     "output_type": "stream",
     "text": [
      "<div class=\"c1\">여기는 c1 클래스입니다.</div>\n",
      "<div class=\"c1\">여기도 c1 클래스입니다.</div>\n",
      "여기는 c1 클래스입니다.\n",
      "여기도 c1 클래스입니다.\n"
     ]
    }
   ],
   "source": [
    "with open(file_path, mode='r', encoding='UTF-8') as f:\n",
    "    soup=BeautifulSoup(markup=f, features='html5lib')\n",
    "    cls_c1=soup.find_all(attrs={'class':'c1'})\n",
    "    #> cls_cl=soup(attrs={'class':'c1'})\n",
    "    for el in cls_c1:\n",
    "        print(el)\n",
    "    for el in cls_c1:\n",
    "        print(el.text)"
   ]
  },
  {
   "cell_type": "markdown",
   "metadata": {},
   "source": [
    "### 문제 5. web03.html 문서에서, id 속성값이 'id1'인 모든 HTML element 찾기"
   ]
  },
  {
   "cell_type": "code",
   "execution_count": 23,
   "metadata": {},
   "outputs": [
    {
     "name": "stdout",
     "output_type": "stream",
     "text": [
      "<div class=\"c2\" id=\"id1\">여기는 c2 클래스, 아이디는 id1입니다.</div>\n"
     ]
    }
   ],
   "source": [
    "with open(file_path, mode='r', encoding='UTF-8') as f:\n",
    "    soup=BeautifulSoup(markup=f, features='html5lib')\n",
    "    id1=soup.find_all(attrs={'id':'id1'})\n",
    "    for el in id1:\n",
    "        print(el)"
   ]
  },
  {
   "cell_type": "markdown",
   "metadata": {},
   "source": [
    "### 문제 6. class 속성 값이 menu_item인 element의 text 출력"
   ]
  },
  {
   "cell_type": "code",
   "execution_count": 27,
   "metadata": {},
   "outputs": [
    {
     "name": "stdout",
     "output_type": "stream",
     "text": [
      "다음\n",
      "네이버\n",
      "구글\n"
     ]
    }
   ],
   "source": [
    "with open(file_path, mode='r', encoding='UTF-8') as f:\n",
    "    soup=BeautifulSoup(markup=f, features='html5lib')\n",
    "    mi=soup.find_all(attrs={'class':'menu_item'})\n",
    "    for el in mi:\n",
    "        print(el.text.strip())"
   ]
  },
  {
   "cell_type": "code",
   "execution_count": 28,
   "metadata": {},
   "outputs": [
    {
     "name": "stdout",
     "output_type": "stream",
     "text": [
      "다음\n",
      "네이버\n",
      "구글\n"
     ]
    }
   ],
   "source": [
    "# find_all 메서드의 variable-length keyword argument 사용 시 :\n",
    "for menu_item in soup.find_all(class_='menu_item'):\n",
    "    print(menu_item.text.strip())"
   ]
  },
  {
   "cell_type": "code",
   "execution_count": 31,
   "metadata": {},
   "outputs": [
    {
     "name": "stdout",
     "output_type": "stream",
     "text": [
      "다음\n",
      "네이버\n",
      "구글\n"
     ]
    }
   ],
   "source": [
    "for menu_item in soup(class_='menu_item'):\n",
    "    print(menu_item.text.strip())"
   ]
  },
  {
   "cell_type": "markdown",
   "metadata": {},
   "source": [
    "### 문제 7. id 속성값이 'id1'인 element 들의 text 출력하기"
   ]
  },
  {
   "cell_type": "code",
   "execution_count": 32,
   "metadata": {},
   "outputs": [
    {
     "name": "stdout",
     "output_type": "stream",
     "text": [
      "여기는 c2 클래스, 아이디는 id1입니다.\n"
     ]
    }
   ],
   "source": [
    "for item in soup(attrs={'id':'id1'}):\n",
    "    print(item.text)"
   ]
  },
  {
   "cell_type": "code",
   "execution_count": 33,
   "metadata": {},
   "outputs": [
    {
     "name": "stdout",
     "output_type": "stream",
     "text": [
      "여기는 c2 클래스, 아이디는 id1입니다.\n"
     ]
    }
   ],
   "source": [
    "for item in soup(id='id1'):\n",
    "    print(item.text)"
   ]
  },
  {
   "cell_type": "code",
   "execution_count": 34,
   "metadata": {},
   "outputs": [],
   "source": [
    "f.close()"
   ]
  }
 ],
 "metadata": {
  "kernelspec": {
   "display_name": "Python 3",
   "language": "python",
   "name": "python3"
  },
  "language_info": {
   "codemirror_mode": {
    "name": "ipython",
    "version": 3
   },
   "file_extension": ".py",
   "mimetype": "text/x-python",
   "name": "python",
   "nbconvert_exporter": "python",
   "pygments_lexer": "ipython3",
   "version": "3.8.5"
  }
 },
 "nbformat": 4,
 "nbformat_minor": 4
}
