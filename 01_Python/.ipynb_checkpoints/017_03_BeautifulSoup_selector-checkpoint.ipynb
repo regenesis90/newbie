{
 "cells": [
  {
   "cell_type": "markdown",
   "metadata": {},
   "source": [
    "# CSS Selector\n",
    "* tag_name\n",
    "* .class_name\n",
    "* #id_name\n",
    "* selector:pseudo_selector\n",
    "* selector1, selector2, ...\n",
    "* ancestor descendent\n",
    "* parent > child"
   ]
  },
  {
   "cell_type": "code",
   "execution_count": 3,
   "metadata": {},
   "outputs": [],
   "source": [
    "from bs4 import BeautifulSoup"
   ]
  },
  {
   "cell_type": "code",
   "execution_count": 4,
   "metadata": {},
   "outputs": [],
   "source": [
    "html=open(file='E:/git_github_regenesis90/web03.html', mode='r', encoding='UTF=8')"
   ]
  },
  {
   "cell_type": "code",
   "execution_count": 5,
   "metadata": {},
   "outputs": [],
   "source": [
    "soup=BeautifulSoup(markup=html, features='html5lib')"
   ]
  },
  {
   "cell_type": "markdown",
   "metadata": {},
   "source": [
    "# HTML Tag Selector\n",
    "* tag_name"
   ]
  },
  {
   "cell_type": "markdown",
   "metadata": {},
   "source": [
    "### 문제 1. HTML 태그가 div 인 element 모두 찾기"
   ]
  },
  {
   "cell_type": "code",
   "execution_count": 6,
   "metadata": {},
   "outputs": [
    {
     "data": {
      "text/plain": [
       "[<div class=\"c1\">여기는 c1 클래스입니다.</div>,\n",
       " <div class=\"c1\">여기도 c1 클래스입니다.</div>,\n",
       " <div class=\"c2\">여기는 c2 클래스입니다.</div>,\n",
       " <div class=\"c2\" id=\"id1\">여기는 c2 클래스, 아이디는 id1입니다.</div>]"
      ]
     },
     "execution_count": 6,
     "metadata": {},
     "output_type": "execute_result"
    }
   ],
   "source": [
    "soup.select('div')"
   ]
  },
  {
   "cell_type": "markdown",
   "metadata": {},
   "source": [
    "### 문제 2. HTML 태그가 a인 element 모두 찾기"
   ]
  },
  {
   "cell_type": "code",
   "execution_count": 7,
   "metadata": {},
   "outputs": [
    {
     "data": {
      "text/plain": [
       "[<a href=\"https://www.daum.net/\">다음</a>,\n",
       " <a href=\"https://www.naver.com/\">네이버</a>,\n",
       " <a href=\"https://www.google.com/\">구글</a>]"
      ]
     },
     "execution_count": 7,
     "metadata": {},
     "output_type": "execute_result"
    }
   ],
   "source": [
    "soup.select('a')"
   ]
  },
  {
   "cell_type": "markdown",
   "metadata": {},
   "source": [
    "### 문제 3. HTML 태그가 h1인 모든 element찾기"
   ]
  },
  {
   "cell_type": "code",
   "execution_count": 8,
   "metadata": {},
   "outputs": [
    {
     "data": {
      "text/plain": [
       "[<h1>CSS(Cascade Style Sheet)</h1>]"
      ]
     },
     "execution_count": 8,
     "metadata": {},
     "output_type": "execute_result"
    }
   ],
   "source": [
    "soup.select('h1')"
   ]
  },
  {
   "cell_type": "markdown",
   "metadata": {},
   "source": [
    "# Class Selector\n",
    "* .class"
   ]
  },
  {
   "cell_type": "markdown",
   "metadata": {},
   "source": [
    "### 문제 1. class='menu_item'인 element 모두 찾기"
   ]
  },
  {
   "cell_type": "code",
   "execution_count": 9,
   "metadata": {},
   "outputs": [
    {
     "data": {
      "text/plain": [
       "[<li class=\"menu_item\">  <!-- list item -->\n",
       "             <a href=\"https://www.daum.net/\">다음</a>\n",
       "         </li>,\n",
       " <li class=\"menu_item\">  <!-- list item -->\n",
       "             <a href=\"https://www.naver.com/\">네이버</a>\n",
       "         </li>,\n",
       " <li class=\"menu_item\">  <!-- list item -->\n",
       "             <a href=\"https://www.google.com/\">구글</a>\n",
       "         </li>]"
      ]
     },
     "execution_count": 9,
     "metadata": {},
     "output_type": "execute_result"
    }
   ],
   "source": [
    "soup.select('.menu_item')"
   ]
  },
  {
   "cell_type": "markdown",
   "metadata": {},
   "source": [
    "### 문제 2. class='c1'인 모든 element 찾기"
   ]
  },
  {
   "cell_type": "code",
   "execution_count": 10,
   "metadata": {},
   "outputs": [
    {
     "data": {
      "text/plain": [
       "[<div class=\"c1\">여기는 c1 클래스입니다.</div>, <div class=\"c1\">여기도 c1 클래스입니다.</div>]"
      ]
     },
     "execution_count": 10,
     "metadata": {},
     "output_type": "execute_result"
    }
   ],
   "source": [
    "soup.select('.c1')"
   ]
  },
  {
   "cell_type": "markdown",
   "metadata": {},
   "source": [
    "### 문제 3. class='c2'인 모든 element 찾기"
   ]
  },
  {
   "cell_type": "code",
   "execution_count": 11,
   "metadata": {},
   "outputs": [
    {
     "data": {
      "text/plain": [
       "[<div class=\"c2\">여기는 c2 클래스입니다.</div>,\n",
       " <div class=\"c2\" id=\"id1\">여기는 c2 클래스, 아이디는 id1입니다.</div>]"
      ]
     },
     "execution_count": 11,
     "metadata": {},
     "output_type": "execute_result"
    }
   ],
   "source": [
    "soup.select('.c2')"
   ]
  },
  {
   "cell_type": "markdown",
   "metadata": {},
   "source": [
    "# ID Selector\n",
    "* #id_name"
   ]
  },
  {
   "cell_type": "markdown",
   "metadata": {},
   "source": [
    "### 문제 1. id='id1'인 모든 element 찾기"
   ]
  },
  {
   "cell_type": "code",
   "execution_count": 12,
   "metadata": {},
   "outputs": [
    {
     "data": {
      "text/plain": [
       "[<div class=\"c2\" id=\"id1\">여기는 c2 클래스, 아이디는 id1입니다.</div>]"
      ]
     },
     "execution_count": 12,
     "metadata": {},
     "output_type": "execute_result"
    }
   ],
   "source": [
    "soup.select('#id1')"
   ]
  },
  {
   "cell_type": "markdown",
   "metadata": {},
   "source": [
    "# 여러 Selector 요소를 함께 선택하기\n",
    "* tag_name1, tag_name2, .class_name, #id_name, ... : 나열(또는, or 의미)"
   ]
  },
  {
   "cell_type": "markdown",
   "metadata": {},
   "source": [
    "### 문제 1. class='c1' 또는 class='c2'인 모든 element 선택"
   ]
  },
  {
   "cell_type": "code",
   "execution_count": 14,
   "metadata": {},
   "outputs": [
    {
     "data": {
      "text/plain": [
       "[<div class=\"c1\">여기는 c1 클래스입니다.</div>,\n",
       " <div class=\"c1\">여기도 c1 클래스입니다.</div>,\n",
       " <div class=\"c2\">여기는 c2 클래스입니다.</div>,\n",
       " <div class=\"c2\" id=\"id1\">여기는 c2 클래스, 아이디는 id1입니다.</div>]"
      ]
     },
     "execution_count": 14,
     "metadata": {},
     "output_type": "execute_result"
    }
   ],
   "source": [
    "soup.select('.c1, .c2')"
   ]
  },
  {
   "cell_type": "markdown",
   "metadata": {},
   "source": [
    "### 문제 2. class='c1' 또는 id='id1'인 element모두 선택"
   ]
  },
  {
   "cell_type": "code",
   "execution_count": 15,
   "metadata": {},
   "outputs": [
    {
     "data": {
      "text/plain": [
       "[<div class=\"c1\">여기는 c1 클래스입니다.</div>,\n",
       " <div class=\"c1\">여기도 c1 클래스입니다.</div>,\n",
       " <div class=\"c2\" id=\"id1\">여기는 c2 클래스, 아이디는 id1입니다.</div>]"
      ]
     },
     "execution_count": 15,
     "metadata": {},
     "output_type": "execute_result"
    }
   ],
   "source": [
    "soup.select('.c1, #id1')"
   ]
  },
  {
   "cell_type": "markdown",
   "metadata": {},
   "source": [
    "# Traversing"
   ]
  },
  {
   "cell_type": "markdown",
   "metadata": {},
   "source": [
    "## 조상(ancestor) element 아래의 자손(descendent) element 선택 : \"공백\"\n",
    "조상 자손"
   ]
  },
  {
   "cell_type": "markdown",
   "metadata": {},
   "source": [
    "### 문제 1. class='menu'인 element의 자손들 중 a 태그 element 선택하기"
   ]
  },
  {
   "cell_type": "code",
   "execution_count": null,
   "metadata": {},
   "outputs": [],
   "source": []
  }
 ],
 "metadata": {
  "kernelspec": {
   "display_name": "Python 3",
   "language": "python",
   "name": "python3"
  },
  "language_info": {
   "codemirror_mode": {
    "name": "ipython",
    "version": 3
   },
   "file_extension": ".py",
   "mimetype": "text/x-python",
   "name": "python",
   "nbconvert_exporter": "python",
   "pygments_lexer": "ipython3",
   "version": "3.8.5"
  }
 },
 "nbformat": 4,
 "nbformat_minor": 4
}
