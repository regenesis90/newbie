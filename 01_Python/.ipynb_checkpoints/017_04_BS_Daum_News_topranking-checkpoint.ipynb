{
 "cells": [
  {
   "cell_type": "markdown",
   "metadata": {},
   "source": [
    "# DAUM 많이본 랭킹 뉴스"
   ]
  },
  {
   "cell_type": "code",
   "execution_count": 2,
   "metadata": {},
   "outputs": [],
   "source": [
    "import requests #> 웹 서버에 request(요청) 전송, response(응답) 받음. 파이썬 기본 모듈\n",
    "from bs4 import BeautifulSoup"
   ]
  },
  {
   "cell_type": "code",
   "execution_count": 3,
   "metadata": {},
   "outputs": [],
   "source": [
    "# request 보낼 웹 사이트 주소\n",
    "url='https://news.daum.net/ranking/popular'"
   ]
  },
  {
   "cell_type": "code",
   "execution_count": 4,
   "metadata": {},
   "outputs": [
    {
     "name": "stdout",
     "output_type": "stream",
     "text": [
      "<Response [200]>\n"
     ]
    }
   ],
   "source": [
    "# 웹 서버에 get 방식 request 보냄\n",
    "response=requests.get(url) #> get() 함수의 반환값이 웹 서버가 보내준 response(응답)\n",
    "print(response)"
   ]
  },
  {
   "cell_type": "code",
   "execution_count": 5,
   "metadata": {},
   "outputs": [
    {
     "name": "stdout",
     "output_type": "stream",
     "text": [
      "<!DOCTYPE html>\n",
      "\n",
      "\n",
      "\n",
      "<html lang=\"ko\" class=\"os_unknown none unknown version_0 \">\n",
      "<head>\n",
      "<meta charset=\"utf-8\">\n",
      "<meta name=\"referrer\" content=\"always\" />\n",
      "\n",
      "<meta property=\"og:author\" content=\"Daum 뉴스\" />\n",
      "\n"
     ]
    }
   ],
   "source": [
    "html=response.text.strip() #> response 객체의 text 속성 값. HTML코드\n",
    "print(html[:200])"
   ]
  },
  {
   "cell_type": "code",
   "execution_count": 7,
   "metadata": {},
   "outputs": [],
   "source": [
    "# HTML 분석을 위한 BeautifulSoup 객체 생성\n",
    "soup=BeautifulSoup(markup=html, features='html5lib')"
   ]
  },
  {
   "cell_type": "code",
   "execution_count": 8,
   "metadata": {},
   "outputs": [],
   "source": [
    "# d웹 브라우저 개발자 도구를 사용하여, 원하는 element의 CSS selector 찾기\n",
    "selector='ul.list_news2 > li a.link_txt'"
   ]
  },
  {
   "cell_type": "code",
   "execution_count": 10,
   "metadata": {},
   "outputs": [
    {
     "data": {
      "text/plain": [
       "50"
      ]
     },
     "execution_count": 10,
     "metadata": {},
     "output_type": "execute_result"
    }
   ],
   "source": [
    "len(soup.select(selector)) #> 링크 개수"
   ]
  },
  {
   "cell_type": "code",
   "execution_count": 11,
   "metadata": {},
   "outputs": [
    {
     "name": "stdout",
     "output_type": "stream",
     "text": [
      "이모집 맡겨진 열살 여아 온몸 멍든채 욕조서 숨져..\"몇대 때려\"(종합)\n",
      "https://v.daum.net/v/20210208154024291\n",
      "군 복무 중 여성 중대장 상습모욕한 20대 전역 후 집행유예\n",
      "https://v.daum.net/v/20210208150257456\n",
      "[단독]빈병 환불해준 척..2000만원 꿀꺽한 편의점 알바\n",
      "https://v.daum.net/v/20210208150613625\n",
      "최대집 의협회장 \"국회의원 선거 출마할 것..회장직 연임 안 해\"\n",
      "https://v.daum.net/v/20210208160117465\n",
      "[포착] '백발의 장관' 강경화, 3년 반만에 아름다운 퇴장\n",
      "https://v.daum.net/v/20210208143349842\n",
      "중국 마을까지 내려온 호랑이..개 덮치고 사람과 마주치고\n",
      "https://v.daum.net/v/20210208135459136\n",
      "'카드 내역 때문에'..수차례 불법 성매매한 현직 경찰관 '들통'\n",
      "https://v.daum.net/v/20210208150645640\n",
      "현대차그룹주 시총 13조 증발..2.8조 사들였던 개미 손실 우려(종합2보)\n",
      "https://v.daum.net/v/20210208155125895\n",
      "레깅스 몰카 '유죄' 판결에 고심 깊어진 사진가들\n",
      "https://v.daum.net/v/20210208124646265\n",
      "\"아이 방치하고 고기 구운 교사들\"..학대 피해 부모의 호소(종합)\n",
      "https://v.daum.net/v/20210208141434966\n",
      "\"머리 조아린다고? 조선왕조 시대냐\"..정세균 작심 답변\n",
      "https://v.daum.net/v/20210208161829295\n",
      "\"아동 학대 아니에요\" 사자갈기 머리 5세 딸 둔 엄마의 호소\n",
      "https://v.daum.net/v/20210208142116305\n",
      "\"집값 들썩일까 무서워 50년 된 여의도 아파트 방치\"\n",
      "https://v.daum.net/v/20210208153439010\n",
      "두 아들 키우며 대학졸업 꿈 이룬 33살 베트남댁 또순이\n",
      "https://v.daum.net/v/20210208154309427\n",
      "정은경 \"러시아 백신 도입 검토..불확실성에 추가 확보 계획\"\n",
      "https://v.daum.net/v/20210208161415076\n",
      "\"PC방에서 유통기한 임박한 라면 먹어요\"..개점시위 나선 자영업자들 만나보니\n",
      "https://v.daum.net/v/20210208155034828\n",
      "한밤중 골목서 '쾅쾅' 교통사고..음주인 줄 알았더니 마약\n",
      "https://v.daum.net/v/20210208162505587\n",
      "백운규 \"월성1호기 조기폐쇄는 국민안전 국정과제..적법 절차로\"(종합)\n",
      "https://v.daum.net/v/20210208145930199\n",
      "인천공항 인근서 날린 연 때문에..착륙하던 화물기 '화들짝'\n",
      "https://v.daum.net/v/20210208152007336\n",
      "윤석열 찾은 김진욱 \"공수처, 검찰과 여러 채널로 소통할 것\"\n",
      "https://v.daum.net/v/20210208161204960\n",
      "단순 사고일까? NHK·CNN 中 우한 코로나19 방송 중 송출 중단\n",
      "https://v.daum.net/v/20210208143001623\n",
      "강릉서 마을이장 '갑질' 논란..성추행에 돈 갈취 의혹\n",
      "https://v.daum.net/v/20210208151201868\n",
      "이낙연, 재난지원금 지급 시기 \"3월 안 넘겼으면\"(종합)\n",
      "https://v.daum.net/v/20210208161153946\n",
      "\"긴머리 예쁘다는 교사, 머리채 끌기 위해서였다\" 아동학대 피해 눈물\n",
      "https://v.daum.net/v/20210208130230619\n",
      "\"아가야, 설엔 우리가 간다\"..가정마다 연휴모이기 '고심'\n",
      "https://v.daum.net/v/20210208143934148\n",
      "박영선 \"돈 준다고 결혼?\" vs 나경원 \"달나라 시장인가\"\n",
      "https://v.daum.net/v/20210208140042359\n",
      "주호영, 인사 온 박범계에 \"당적 가진 사람, 장관에 안 맞아\"\n",
      "https://v.daum.net/v/20210208135748217\n",
      "시민단체 \"조국 딸 인턴 취소해야\"..병원앞 풍자 현판식\n",
      "https://v.daum.net/v/20210208151834269\n",
      "\"서울 지지율도..이재명 25.2% 윤석열 13.4% 이낙연 10.7%\"\n",
      "https://v.daum.net/v/20210208150532573\n",
      "국방부, 포항 수성사격장 아파치헬기 사격훈련 잠정 중단\n",
      "https://v.daum.net/v/20210208164434331\n",
      "[영상] 쓰나미같이 댐을 삼킨 급류 \"우린 강의 분노를 봤다\"\n",
      "https://v.daum.net/v/20210208162618646\n",
      "'치매 방치 논란' 윤정희 측근 \"백건우 당황..귀국해 입장 밝힐 것\"\n",
      "https://v.daum.net/v/20210208134227767\n",
      "조국 때와는 너무 다른 검찰의 연고대 수사\n",
      "https://v.daum.net/v/20210208131200892\n",
      "여자화장실 따라가 '묻지마' 벽돌 폭행..살인미수 인정\n",
      "https://v.daum.net/v/20210208150447550\n",
      "조민 신변 둘러싼 보도·의혹 제기 \"과하다\" 목소리 나오는 이유\n",
      "https://v.daum.net/v/20210208163302946\n",
      "\"괜히 신고했네\"..대면예배 방역 위반 신고에 손놓은 해운대구\n",
      "https://v.daum.net/v/20210208141903181\n",
      "'살려달라' 혈서까지 쓴 150명 집회..경찰 \"감염병 위반\" 제지도(종합)\n",
      "https://v.daum.net/v/20210208163518012\n",
      "[단독] \"내가 파출소장인데\"..현직경찰관 대낮 만취 소동\n",
      "https://v.daum.net/v/20210208141205863\n",
      "野 김명수 총공세 속 난데없는 '安 책임론'..국민의당 '발끈'\n",
      "https://v.daum.net/v/20210208161130931\n",
      "[한국일보 여론조사] \"느낌 나빠지고 있다\" 민주당 43% vs 국민의힘 19%\n",
      "https://v.daum.net/v/20210208092002790\n",
      "'삼성전자냐 TSMC냐'..AMD, 발주 주판알 어디로?\n",
      "https://v.daum.net/v/20210208153827183\n",
      "[인터뷰] '한국형 원전' 개발자 이병령 \"北에 원전 상납? 턱도 없는 말\"\n",
      "https://v.daum.net/v/20210208140206445\n",
      "아내가 외출만 하면 10대 친딸 성폭행한 50대 아버지..징역 12년\n",
      "https://v.daum.net/v/20210208081952786\n",
      "'아토피 정복' 길 열리나..건국대 연구진, 신약물질 개발\n",
      "https://v.daum.net/v/20210208153120869\n",
      "남편 때문에 이란서 수감됐는데..남편은 아내 교수와 '바람'\n",
      "https://v.daum.net/v/20210208113224632\n",
      "군산 '가격급등 아파트' 거래자 94%가 외지인..\"투기 세력 엄단\"\n",
      "https://v.daum.net/v/20210208160052426\n",
      "'서울시장' 맞대결 땐 안철수만 박영선에 앞섰다\n",
      "https://v.daum.net/v/20210208114044994\n",
      "[단독]檢, 김학의 출금 결재 끝까지 거부한 출입국 단장 불렀다\n",
      "https://v.daum.net/v/20210208160419610\n",
      "조수진, 벌금형에 심하게 앓았다.. 동료에게 전하는 입장문 [TF포착]\n",
      "https://v.daum.net/v/20210208160753777\n",
      "두산인프라코어, 지난해 영업이익 6천586억원..전년대비 21.6%↓\n",
      "https://v.daum.net/v/20210208164813452\n"
     ]
    }
   ],
   "source": [
    "for link in soup.select(selector):\n",
    "    print(link.text.strip())\n",
    "    print(link['href'])"
   ]
  },
  {
   "cell_type": "code",
   "execution_count": null,
   "metadata": {},
   "outputs": [],
   "source": []
  }
 ],
 "metadata": {
  "kernelspec": {
   "display_name": "Python 3",
   "language": "python",
   "name": "python3"
  },
  "language_info": {
   "codemirror_mode": {
    "name": "ipython",
    "version": 3
   },
   "file_extension": ".py",
   "mimetype": "text/x-python",
   "name": "python",
   "nbconvert_exporter": "python",
   "pygments_lexer": "ipython3",
   "version": "3.8.5"
  }
 },
 "nbformat": 4,
 "nbformat_minor": 4
}
