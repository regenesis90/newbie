{
 "cells": [
  {
   "cell_type": "markdown",
   "metadata": {},
   "source": [
    "# DAUM뉴스 랭킹 댓글 많은 뉴스 1~20위 뉴스 순위, 댓글수, 제목 출력"
   ]
  },
  {
   "cell_type": "code",
   "execution_count": 1,
   "metadata": {},
   "outputs": [],
   "source": [
    "import requests\n",
    "from bs4 import BeautifulSoup"
   ]
  },
  {
   "cell_type": "code",
   "execution_count": 2,
   "metadata": {},
   "outputs": [
    {
     "name": "stdout",
     "output_type": "stream",
     "text": [
      "<Response [200]>\n"
     ]
    }
   ],
   "source": [
    "url='https://news.daum.net/ranking/bestreply'\n",
    "response=requests.get(url)\n",
    "print(response)"
   ]
  },
  {
   "cell_type": "code",
   "execution_count": 3,
   "metadata": {},
   "outputs": [
    {
     "name": "stdout",
     "output_type": "stream",
     "text": [
      "<!DOCTYPE html>\n",
      "\n",
      "\n",
      "\n",
      "<html lang=\"ko\" class=\"os_unknown none unknown version_0 \">\n",
      "<head>\n",
      "<meta charset=\"utf-8\">\n",
      "<meta name=\"referrer\" content=\"\n"
     ]
    }
   ],
   "source": [
    "html=response.text.strip()\n",
    "print(html[:140])"
   ]
  },
  {
   "cell_type": "code",
   "execution_count": 4,
   "metadata": {},
   "outputs": [],
   "source": [
    "soup=BeautifulSoup(markup=html, features='html5lib')"
   ]
  },
  {
   "cell_type": "code",
   "execution_count": 6,
   "metadata": {},
   "outputs": [
    {
     "name": "stdout",
     "output_type": "stream",
     "text": [
      "<a class=\"link_txt\" href=\"https://news.v.daum.net/v/20210208092002790\">[한국일보 여론조사] \"느낌 나빠지고 있다\" 민주당 43% vs 국민의힘 19%</a>\n"
     ]
    }
   ],
   "source": [
    "selector_title='ul.list_news2 > li:nth-of-type(2) > div.cont_thumb > strong > a.link_txt'\n",
    "print(soup.select_one(selector_title))"
   ]
  },
  {
   "cell_type": "code",
   "execution_count": 7,
   "metadata": {},
   "outputs": [
    {
     "name": "stdout",
     "output_type": "stream",
     "text": [
      "<span class=\"ico_news2\">3,022</span>\n"
     ]
    }
   ],
   "source": [
    "selector_reply='ul.list_news2 > li:nth-of-type(3) > div.rank_num > span.info_rank > span.ico_news2'\n",
    "print(soup.select_one(selector_reply))"
   ]
  },
  {
   "cell_type": "code",
   "execution_count": 10,
   "metadata": {},
   "outputs": [
    {
     "name": "stdout",
     "output_type": "stream",
     "text": [
      "[1], 3,022, 아내가 외출만 하면 10대 친딸 성폭행한 50대 아버지..징역 12년\n",
      "[2], 3,022, [한국일보 여론조사] \"느낌 나빠지고 있다\" 민주당 43% vs 국민의힘 19%\n",
      "[3], 3,022, 조국 때와는 너무 다른 검찰의 연고대 수사\n",
      "[4], 3,022, [포착] '백발의 장관' 강경화, 3년 반만에 아름다운 퇴장\n",
      "[5], 3,022, 최대집 의협회장 \"국회의원 선거 출마할 것..회장직 연임 안 해\"\n",
      "[6], 3,022, 레깅스 몰카 '유죄' 판결에 고심 깊어진 사진가들\n",
      "[7], 3,022, 군 복무 중 여성 중대장 상습모욕한 20대 전역 후 집행유예\n",
      "[8], 3,022, 박영선 \"돈 준다고 결혼?\" vs 나경원 \"달나라 시장인가\"\n",
      "[9], 3,022, 백운규 \"월성1호기 조기폐쇄는 국민안전 국정과제..적법 절차로\"(종합)\n",
      "[10], 3,022, 시민단체 \"조국 딸 인턴 취소해야\"..병원앞 풍자 현판식\n",
      "[11], 3,022, 이모집 맡겨진 열살 여아 온몸 멍든채 욕조서 숨져..\"몇대 때려\"(종합)\n",
      "[12], 3,022, 주호영, 인사 온 박범계에 \"당적 가진 사람, 장관에 안 맞아\"\n",
      "[13], 3,022, \"아이 방치하고 고기 구운 교사들\"..학대 피해 부모의 호소(종합)\n",
      "[14], 3,022, 금태섭 \"공영방송에 김어준 안돼..TBS 재정지원 없앨 것\"\n",
      "[15], 3,022, 중국 마을까지 내려온 호랑이..개 덮치고 사람과 마주치고\n",
      "[16], 3,022, \"긴머리 예쁘다는 교사, 머리채 끌기 위해서였다\" 아동학대 피해 눈물\n",
      "[17], 3,022, [영상]\"머리 조아린다고? 조선왕조 시대냐\"..정세균 작심 답변\n",
      "[18], 3,022, [단독] \"내가 파출소장인데\"..현직경찰관 대낮 만취 소동\n",
      "[19], 3,022, [단독]빈병 환불해준 척..2000만원 꿀꺽한 편의점 알바\n",
      "[20], 3,022, 여자화장실 따라가 '묻지마' 벽돌 폭행..살인미수 인정\n"
     ]
    }
   ],
   "source": [
    "for i in range(1,21):\n",
    "    selector_title=f'ul.list_news2 > li:nth-of-type({i}) > div.cont_thumb > strong > a.link_txt'\n",
    "    selector_rank=f'ul.list_news2 > li:nth-of-type({i}) > div.rank_num > span.info_rank > span.ico_news2'\n",
    "    title=soup.select_one(selector_title).text.strip()\n",
    "    reply=soup.select_one(selector_reply).text.strip()\n",
    "    print(f'[{i}], {reply}, {title}')"
   ]
  },
  {
   "cell_type": "code",
   "execution_count": null,
   "metadata": {},
   "outputs": [],
   "source": []
  }
 ],
 "metadata": {
  "kernelspec": {
   "display_name": "Python 3",
   "language": "python",
   "name": "python3"
  },
  "language_info": {
   "codemirror_mode": {
    "name": "ipython",
    "version": 3
   },
   "file_extension": ".py",
   "mimetype": "text/x-python",
   "name": "python",
   "nbconvert_exporter": "python",
   "pygments_lexer": "ipython3",
   "version": "3.8.5"
  }
 },
 "nbformat": 4,
 "nbformat_minor": 4
}
