{
 "cells": [
  {
   "cell_type": "markdown",
   "metadata": {},
   "source": [
    "# DAUM 뉴스 랭킹: 연령별 뉴스 중 연령별/성별 5위까지 뉴스 제목, 링크 출력"
   ]
  },
  {
   "cell_type": "code",
   "execution_count": 1,
   "metadata": {},
   "outputs": [],
   "source": [
    "import requests\n",
    "from bs4 import BeautifulSoup"
   ]
  },
  {
   "cell_type": "code",
   "execution_count": 2,
   "metadata": {},
   "outputs": [
    {
     "name": "stdout",
     "output_type": "stream",
     "text": [
      "<Response [200]>\n"
     ]
    }
   ],
   "source": [
    "url='https://news.daum.net/ranking/age'\n",
    "response=requests.get(url)\n",
    "print(response)"
   ]
  },
  {
   "cell_type": "code",
   "execution_count": 3,
   "metadata": {},
   "outputs": [],
   "source": [
    "html=response.text.strip()\n",
    "soup=BeautifulSoup(markup=html, features='html5lib')"
   ]
  },
  {
   "cell_type": "code",
   "execution_count": 5,
   "metadata": {},
   "outputs": [
    {
     "name": "stdout",
     "output_type": "stream",
     "text": [
      "--- 20대 여성 ---\n",
      "https://v.daum.net/v/20210208150613625 [단독]빈병 환불해준 척..2000만원 꿀꺽한 편의점 알바\n",
      "https://v.daum.net/v/20210208150257456 군 복무 중 여성 중대장 상습모욕한 20대 전역 후 집행유예\n",
      "https://v.daum.net/v/20210208142116305 \"아동 학대 아니에요\" 사자갈기 머리 5세 딸 둔 엄마의 호소\n",
      "https://v.daum.net/v/20210208162505587 한밤중 골목서 '쾅쾅' 교통사고..음주인 줄 알았더니 마약\n",
      "https://v.daum.net/v/20210208141434966 \"아이 방치하고 고기 구운 교사들\"..학대 피해 부모의 호소(종합)\n",
      "--- 20대 남성 ---\n",
      "https://v.daum.net/v/20210208150257456 군 복무 중 여성 중대장 상습모욕한 20대 전역 후 집행유예\n",
      "https://v.daum.net/v/20210208150613625 [단독]빈병 환불해준 척..2000만원 꿀꺽한 편의점 알바\n",
      "https://v.daum.net/v/20210208150645640 '카드 내역 때문에'..수차례 불법 성매매한 현직 경찰관 '들통'\n",
      "https://v.daum.net/v/20210208143349842 [포착] '백발의 장관' 강경화, 3년 반만에 아름다운 퇴장\n",
      "https://v.daum.net/v/20210208160117465 최대집 의협회장 \"국회의원 선거 출마할 것..회장직 연임 안 해\"\n",
      "--- 30대 여성 ---\n",
      "https://v.daum.net/v/20210208142116305 \"아동 학대 아니에요\" 사자갈기 머리 5세 딸 둔 엄마의 호소\n",
      "https://v.daum.net/v/20210208150257456 군 복무 중 여성 중대장 상습모욕한 20대 전역 후 집행유예\n",
      "https://v.daum.net/v/20210208155125895 현대차그룹주 시총 13조 증발..2.8조 사들였던 개미 손실 우려(종합2보)\n",
      "https://v.daum.net/v/20210208162505587 한밤중 골목서 '쾅쾅' 교통사고..음주인 줄 알았더니 마약\n",
      "https://v.daum.net/v/20210208135459136 중국 마을까지 내려온 호랑이..개 덮치고 사람과 마주치고\n",
      "--- 30대 남성 ---\n",
      "https://v.daum.net/v/20210208150645640 '카드 내역 때문에'..수차례 불법 성매매한 현직 경찰관 '들통'\n",
      "https://v.daum.net/v/20210208124646265 레깅스 몰카 '유죄' 판결에 고심 깊어진 사진가들\n",
      "https://v.daum.net/v/20210208155125895 현대차그룹주 시총 13조 증발..2.8조 사들였던 개미 손실 우려(종합2보)\n",
      "https://v.daum.net/v/20210208160117465 최대집 의협회장 \"국회의원 선거 출마할 것..회장직 연임 안 해\"\n",
      "https://v.daum.net/v/20210208143349842 [포착] '백발의 장관' 강경화, 3년 반만에 아름다운 퇴장\n",
      "--- 40대 여성 ---\n",
      "https://v.daum.net/v/20210208141434966 \"아이 방치하고 고기 구운 교사들\"..학대 피해 부모의 호소(종합)\n",
      "https://v.daum.net/v/20210208150613625 [단독]빈병 환불해준 척..2000만원 꿀꺽한 편의점 알바\n",
      "https://v.daum.net/v/20210208143934148 \"아가야, 설엔 우리가 간다\"..가정마다 연휴모이기 '고심'\n",
      "https://v.daum.net/v/20210208142116305 \"아동 학대 아니에요\" 사자갈기 머리 5세 딸 둔 엄마의 호소\n",
      "https://v.daum.net/v/20210208154309427 두 아들 키우며 대학졸업 꿈 이룬 33살 베트남댁 또순이\n",
      "--- 40대 남성 ---\n",
      "https://v.daum.net/v/20210208154024291 이모집 맡겨진 열살 여아 온몸 멍든채 욕조서 숨져..\"몇대 때려\"(종합)\n",
      "https://v.daum.net/v/20210208150257456 군 복무 중 여성 중대장 상습모욕한 20대 전역 후 집행유예\n",
      "https://v.daum.net/v/20210208160117465 최대집 의협회장 \"국회의원 선거 출마할 것..회장직 연임 안 해\"\n",
      "https://v.daum.net/v/20210208161829295 [영상]\"머리 조아린다고? 조선왕조 시대냐\"..정세균 작심 답변\n",
      "https://v.daum.net/v/20210208150613625 [단독]빈병 환불해준 척..2000만원 꿀꺽한 편의점 알바\n",
      "--- 50대 여성 ---\n",
      "https://v.daum.net/v/20210208162505587 한밤중 골목서 '쾅쾅' 교통사고..음주인 줄 알았더니 마약\n",
      "https://v.daum.net/v/20210208150613625 [단독]빈병 환불해준 척..2000만원 꿀꺽한 편의점 알바\n",
      "https://v.daum.net/v/20210208150257456 군 복무 중 여성 중대장 상습모욕한 20대 전역 후 집행유예\n",
      "https://v.daum.net/v/20210208143349842 [포착] '백발의 장관' 강경화, 3년 반만에 아름다운 퇴장\n",
      "https://v.daum.net/v/20210208153439010 \"집값 들썩일까 무서워 50년 된 여의도 아파트 방치\"\n",
      "--- 50대 남성 ---\n",
      "https://v.daum.net/v/20210208160117465 최대집 의협회장 \"국회의원 선거 출마할 것..회장직 연임 안 해\"\n",
      "https://v.daum.net/v/20210208161829295 [영상]\"머리 조아린다고? 조선왕조 시대냐\"..정세균 작심 답변\n",
      "https://v.daum.net/v/20210208150257456 군 복무 중 여성 중대장 상습모욕한 20대 전역 후 집행유예\n",
      "https://v.daum.net/v/20210208154024291 이모집 맡겨진 열살 여아 온몸 멍든채 욕조서 숨져..\"몇대 때려\"(종합)\n",
      "https://v.daum.net/v/20210208143349842 [포착] '백발의 장관' 강경화, 3년 반만에 아름다운 퇴장\n"
     ]
    }
   ],
   "source": [
    "ages=range(20,60,10) #> 20,30,40,50대\n",
    "genders=('female','male') #> 성별\n",
    "\n",
    "for age in ages:\n",
    "    for gender in genders:\n",
    "        category_selector=f'div.item_age.item_{age}s > div.rank_{gender} > strong.txt_news'\n",
    "        category=soup.select_one(category_selector).text.strip()\n",
    "        print('---', category, '---')\n",
    "        selector=f'div.item_{age}s > div.rank_{gender} > ol a.link_txt'\n",
    "        news_top5=soup.select(selector)\n",
    "        for link in news_top5:\n",
    "            print(link['href'], link.text)"
   ]
  },
  {
   "cell_type": "code",
   "execution_count": null,
   "metadata": {},
   "outputs": [],
   "source": []
  }
 ],
 "metadata": {
  "kernelspec": {
   "display_name": "Python 3",
   "language": "python",
   "name": "python3"
  },
  "language_info": {
   "codemirror_mode": {
    "name": "ipython",
    "version": 3
   },
   "file_extension": ".py",
   "mimetype": "text/x-python",
   "name": "python",
   "nbconvert_exporter": "python",
   "pygments_lexer": "ipython3",
   "version": "3.8.5"
  }
 },
 "nbformat": 4,
 "nbformat_minor": 4
}
