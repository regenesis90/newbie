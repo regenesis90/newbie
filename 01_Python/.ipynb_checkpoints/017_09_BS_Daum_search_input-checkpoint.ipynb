{
 "cells": [
  {
   "cell_type": "markdown",
   "metadata": {},
   "source": [
    "# 키워드/페이지 입력 : DAUM 뉴스 검색 결과 크롤링"
   ]
  },
  {
   "cell_type": "code",
   "execution_count": 1,
   "metadata": {},
   "outputs": [],
   "source": [
    "import requests\n",
    "from bs4 import BeautifulSoup"
   ]
  },
  {
   "cell_type": "code",
   "execution_count": 2,
   "metadata": {},
   "outputs": [],
   "source": [
    "def daum_news_search(keyword:str, pages:int):\n",
    "    for page in range(1, pages + 1):\n",
    "        \n",
    "        print(f'--- page {page} ---')\n",
    "        \n",
    "        url = f'https://search.daum.net/search?w=news&DA=PGD&enc=utf8&cluster=y&cluster_page=1'\n",
    "        params = {'q': keyword, 'p': page} #> querystring parameter\n",
    "        response = requests.get(url, params)\n",
    "        html = response.text.strip()\n",
    "        soup = BeautifulSoup(markup = html, features = 'html5lib')\n",
    "        selector = '#clusterResultUL > li > div > div > div > a.f_link_b'\n",
    "        search_results = soup.select(selector)\n",
    "        \n",
    "        for link in search_results:\n",
    "            print(link['href'], link.text)"
   ]
  },
  {
   "cell_type": "code",
   "execution_count": 3,
   "metadata": {},
   "outputs": [
    {
     "name": "stdin",
     "output_type": "stream",
     "text": [
      "검색어 입력:  박근혜\n",
      "검색할 페이지 수 입력:  2\n"
     ]
    },
    {
     "name": "stdout",
     "output_type": "stream",
     "text": [
      "--- page 1 ---\n",
      "http://v.media.daum.net/v/20210208141702098?f=o '확진자 접촉' 박근혜, 9일 서울구치소 복귀\n",
      "http://v.media.daum.net/v/20210208122721801?f=o 박근혜 전 대통령, 내일 오후 서울구치소 복귀\n",
      "http://v.media.daum.net/v/20210208141820159?f=o '코로나 음성' 박근혜, 내일 구치소 복귀..입원 20일만\n",
      "http://v.media.daum.net/v/20210208115504598?f=o 박근혜 '격리조치' 20일만 내일 서울구치소 복귀\n",
      "http://v.media.daum.net/v/20210208114423164?f=o 박근혜, 내일 입원 20일 만에 서울구치소 돌아갈듯\n",
      "http://v.media.daum.net/v/20210208113758862?f=o 박근혜 전 대통령, 9일 서울구치소 복귀.. 입원 20일만\n",
      "http://v.media.daum.net/v/20210208150145380?f=o 김남국 \"오세훈 어쩌냐, 박근혜 '변기의전' 소환했으니..억지 트...\n",
      "http://v.media.daum.net/v/20210208115807710?f=o 서울성모병원 입원 중 박근혜, 내일 서울구치소 복귀\n",
      "http://v.media.daum.net/v/20210208111048427?f=o '확진자 접촉' 박근혜, 내일 서울구치소 복귀.. 최종 '음성'\n",
      "http://v.media.daum.net/v/20210201180459632?f=o \"박근혜 하야\" 외친 자영업자, 코로나 폐업에 \"박근혜 탓\"\n",
      "--- page 2 ---\n",
      "http://v.media.daum.net/v/20210208111200485?f=o '코로나 밀접 접촉' 박근혜, 내일 외부 병원서 서울구치소 복귀\n",
      "http://v.media.daum.net/v/20210208122703783?f=o 박근혜, 입원 20일 만에 내일 서울구치소 복귀..이명박은 '미정'\n",
      "http://v.media.daum.net/v/20210202155706256?f=o 조원진 대표 \"박근혜 대통령 70세 생신 축하\"\n",
      "https://cp.news.search.daum.net/p/102662512 박근혜, 코로나19 최종 음성판정…9일 서울구치소 복귀\n",
      "http://v.media.daum.net/v/20210131194258796?f=o 발전소 USB 논란..박근혜 정부 때 작성?\n",
      "http://v.media.daum.net/v/20210131101730150?f=o '박근혜 하야' 현수막 내건 가게도 폐업..코로나도 박근혜 탓?\n",
      "http://v.media.daum.net/v/20210202081809333?f=o 박근혜-아베의 '위안부 합의'는 부활하는가?\n",
      "http://v.media.daum.net/v/20210202142106386?f=o [포착] 병원 앞에 등장한 박근혜 3단 생일케이크\n",
      "http://v.media.daum.net/v/20210204172609112?f=o 정세균 \"이명박·박근혜 사면? 국민동의 필요\"\n",
      "http://v.media.daum.net/v/20210202081101180?f=o \"북한 원전 박근혜 정부 자료\" 추론했다는 윤준병에 \"모함\"\n"
     ]
    }
   ],
   "source": [
    "keyword = input('검색어 입력: ')\n",
    "pages = int(input('검색할 페이지 수 입력: '))\n",
    "\n",
    "daum_news_search(keyword, pages)"
   ]
  },
  {
   "cell_type": "code",
   "execution_count": null,
   "metadata": {},
   "outputs": [],
   "source": []
  }
 ],
 "metadata": {
  "kernelspec": {
   "display_name": "Python 3",
   "language": "python",
   "name": "python3"
  },
  "language_info": {
   "codemirror_mode": {
    "name": "ipython",
    "version": 3
   },
   "file_extension": ".py",
   "mimetype": "text/x-python",
   "name": "python",
   "nbconvert_exporter": "python",
   "pygments_lexer": "ipython3",
   "version": "3.8.8"
  }
 },
 "nbformat": 4,
 "nbformat_minor": 4
}
