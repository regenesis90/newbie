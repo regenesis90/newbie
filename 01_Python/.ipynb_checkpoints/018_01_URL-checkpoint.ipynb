{
 "cells": [
  {
   "cell_type": "markdown",
   "metadata": {},
   "source": [
    "# URL 형식"
   ]
  },
  {
   "cell_type": "markdown",
   "metadata": {},
   "source": [
    "* **프로토콜://도메인이름(or IP주소)[:포트번호]/경로[?쿼리스트링]**\n",
    "* 프로토콜(protocol) : http, https, ///\n",
    "* 도메인(domain) : www.naver.com, www.daum.net, ...\n",
    "* 포트(port)번호 : 포트 번호가 80인 경우 생략 가능\n",
    "* 쿼리 스트링(query string):\n",
    "    * 클라이언트(웹 브라우저)가 서버로 정보를 보낼 때 사용\n",
    "    * parameter=value 형식 전달\n",
    "    * 파라미터가 여러개일 경우, & 로 파라미터를 구분함"
   ]
  },
  {
   "cell_type": "markdown",
   "metadata": {},
   "source": [
    "## URL 요청 방식(Request Method)"
   ]
  },
  {
   "cell_type": "markdown",
   "metadata": {},
   "source": [
    "**1. GET 방식:**\n",
    "* 클라이언트가 서버로 보내는 정보들을 URL의 query string에 포함시켜 보내는 방식\n",
    "* ex. 검색, 링크 클릭, ...\n",
    "\n",
    "**2. POST 방식:**\n",
    "* 클라이언트가 서버로 보내는 정보들을 HTTP 패킷으로 감싸, URL에 정보가 노출되지 않게 보내는 방식\n",
    "* ex. 로그인, 이메일, ..."
   ]
  },
  {
   "cell_type": "code",
   "execution_count": null,
   "metadata": {},
   "outputs": [],
   "source": []
  }
 ],
 "metadata": {
  "kernelspec": {
   "display_name": "Python 3",
   "language": "python",
   "name": "python3"
  },
  "language_info": {
   "codemirror_mode": {
    "name": "ipython",
    "version": 3
   },
   "file_extension": ".py",
   "mimetype": "text/x-python",
   "name": "python",
   "nbconvert_exporter": "python",
   "pygments_lexer": "ipython3",
   "version": "3.8.5"
  }
 },
 "nbformat": 4,
 "nbformat_minor": 4
}
