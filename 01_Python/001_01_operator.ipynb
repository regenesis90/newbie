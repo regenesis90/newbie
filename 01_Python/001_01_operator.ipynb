{
 "cells": [
  {
   "cell_type": "markdown",
   "metadata": {},
   "source": [
    "# 출력, 입력창 만들기\n",
    "* `print(x)` : x를 출력함\n",
    "* `input(x)` : 수 또는 문자를 입력할 수 있는 입력창을 만들어 줌\n",
    "* `int(x)` : x를 대입하면 정수로 만들어 줌"
   ]
  },
  {
   "cell_type": "code",
   "execution_count": 4,
   "metadata": {
    "execution": {
     "iopub.execute_input": "2022-05-10T05:08:44.959898Z",
     "iopub.status.busy": "2022-05-10T05:08:44.959898Z",
     "iopub.status.idle": "2022-05-10T05:08:49.911965Z",
     "shell.execute_reply": "2022-05-10T05:08:49.911965Z",
     "shell.execute_reply.started": "2022-05-10T05:08:44.959898Z"
    },
    "scrolled": true,
    "tags": []
   },
   "outputs": [
    {
     "name": "stdin",
     "output_type": "stream",
     "text": [
      "정수를 입력하세요:  12\n",
      "정수를 입력하세요:  32\n"
     ]
    }
   ],
   "source": [
    "x = int(input('정수를 입력하세요 : '))\n",
    "y = int(input('정수를 입력하세요 : '))"
   ]
  },
  {
   "cell_type": "markdown",
   "metadata": {},
   "source": [
    "# 변수 할당"
   ]
  },
  {
   "cell_type": "code",
   "execution_count": 14,
   "metadata": {
    "execution": {
     "iopub.execute_input": "2022-05-10T05:13:15.947861Z",
     "iopub.status.busy": "2022-05-10T05:13:15.947861Z",
     "iopub.status.idle": "2022-05-10T05:13:15.955403Z",
     "shell.execute_reply": "2022-05-10T05:13:15.954899Z",
     "shell.execute_reply.started": "2022-05-10T05:13:15.947861Z"
    },
    "tags": []
   },
   "outputs": [
    {
     "data": {
      "text/plain": [
       "100"
      ]
     },
     "execution_count": 14,
     "metadata": {},
     "output_type": "execute_result"
    }
   ],
   "source": [
    "x = 100\n",
    "x"
   ]
  },
  {
   "cell_type": "code",
   "execution_count": 15,
   "metadata": {
    "execution": {
     "iopub.execute_input": "2022-05-10T05:13:19.367085Z",
     "iopub.status.busy": "2022-05-10T05:13:19.367085Z",
     "iopub.status.idle": "2022-05-10T05:13:19.383030Z",
     "shell.execute_reply": "2022-05-10T05:13:19.382027Z",
     "shell.execute_reply.started": "2022-05-10T05:13:19.367085Z"
    },
    "tags": []
   },
   "outputs": [
    {
     "name": "stdout",
     "output_type": "stream",
     "text": [
      "100\n"
     ]
    }
   ],
   "source": [
    "print(x)"
   ]
  },
  {
   "cell_type": "markdown",
   "metadata": {},
   "source": [
    "# 사칙연산\n",
    "* 덧셈 : +\n",
    "* 뺄셈 : -\n",
    "* 곱셈 : *\n",
    "* 나눗셈 : /\n",
    "* 몫 : //\n",
    "* 제곱 : **"
   ]
  },
  {
   "cell_type": "code",
   "execution_count": 7,
   "metadata": {
    "execution": {
     "iopub.execute_input": "2022-05-10T05:09:38.427562Z",
     "iopub.status.busy": "2022-05-10T05:09:38.427562Z",
     "iopub.status.idle": "2022-05-10T05:09:38.441843Z",
     "shell.execute_reply": "2022-05-10T05:09:38.440804Z",
     "shell.execute_reply.started": "2022-05-10T05:09:38.427562Z"
    },
    "tags": []
   },
   "outputs": [
    {
     "name": "stdout",
     "output_type": "stream",
     "text": [
      "덧셈 : 12 + 32 = 44\n",
      "뺄셈 : 12 - 32 = -20\n",
      "곱셈 : 12 * 32 = 384\n",
      "나눗셈 : 12 / 32 = 0.375\n",
      "12를 32로 나눈 몫 : 12 // 32 = 0\n",
      "12를 32로 나눈 나머지 : 12 % 32 = 12\n",
      "12의 32제곱 : 12 ** 32 = 34182189187166852111368841966125056\n"
     ]
    }
   ],
   "source": [
    "print(f'덧셈 : {x} + {y} = {x + y}')\n",
    "print(f'뺄셈 : {x} - {y} = {x - y}')\n",
    "print(f'곱셈 : {x} * {y} = {x * y}')\n",
    "print(f'나눗셈 : {x} / {y} = {x / y}')\n",
    "print(f'{x}를 {y}로 나눈 몫 : {x} // {y} = {x // y}')\n",
    "print(f'{x}를 {y}로 나눈 나머지 : {x} % {y} = {x % y}')\n",
    "print(f'{x}의 {y}제곱 : {x} ** {y} = {x ** y}')"
   ]
  },
  {
   "cell_type": "code",
   "execution_count": 6,
   "metadata": {
    "execution": {
     "iopub.execute_input": "2022-05-10T05:08:57.164608Z",
     "iopub.status.busy": "2022-05-10T05:08:57.164608Z",
     "iopub.status.idle": "2022-05-10T05:08:57.172472Z",
     "shell.execute_reply": "2022-05-10T05:08:57.171956Z",
     "shell.execute_reply.started": "2022-05-10T05:08:57.164608Z"
    },
    "tags": []
   },
   "outputs": [
    {
     "name": "stdout",
     "output_type": "stream",
     "text": [
      "12 = 32 is False\n",
      "12 != 32 is True\n",
      "12 > 32 is False\n",
      "12 < 32 is True\n",
      "12 >= 32 is False\n",
      "12 <= 32 is True\n",
      "12 is 32 is False\n",
      "12 is not 32 is True\n"
     ]
    }
   ],
   "source": [
    "print(f'{x} = {y} is {x == y}')\n",
    "print(f'{x} != {y} is {x != y}')\n",
    "print(f'{x} > {y} is {x > y}')\n",
    "print(f'{x} < {y} is {x < y}')\n",
    "print(f'{x} >= {y} is {x >= y}')\n",
    "print(f'{x} <= {y} is {x <= y}')\n",
    "print(f'{x} is {y} is {x is y}')\n",
    "print(f'{x} is not {y} is {x is not y}')"
   ]
  },
  {
   "cell_type": "code",
   "execution_count": 9,
   "metadata": {
    "execution": {
     "iopub.execute_input": "2022-05-10T05:11:10.972290Z",
     "iopub.status.busy": "2022-05-10T05:11:10.971271Z",
     "iopub.status.idle": "2022-05-10T05:11:12.663048Z",
     "shell.execute_reply": "2022-05-10T05:11:12.663048Z",
     "shell.execute_reply.started": "2022-05-10T05:11:10.972290Z"
    },
    "tags": []
   },
   "outputs": [
    {
     "name": "stdin",
     "output_type": "stream",
     "text": [
      "숫자를 입력해 주세요> 56\n"
     ]
    },
    {
     "name": "stdout",
     "output_type": "stream",
     "text": [
      "Middle\n"
     ]
    }
   ],
   "source": [
    "x = int(input('숫자를 입력해 주세요 > ')) \n",
    "\n",
    "if x < 10: # x가 10 미만이면 'Small' 출력\n",
    "    print('Small')\n",
    "\n",
    "elif x < 100: # x가 10 이상이고 100 미만이면 'Middle' 출력\n",
    "    print('Middle')\n",
    "\n",
    "else: # x가 100 이상이면 'Big' 출력\n",
    "    print('Big')"
   ]
  },
  {
   "cell_type": "code",
   "execution_count": 10,
   "metadata": {
    "execution": {
     "iopub.execute_input": "2022-05-10T05:11:43.457228Z",
     "iopub.status.busy": "2022-05-10T05:11:43.457228Z",
     "iopub.status.idle": "2022-05-10T05:11:45.326999Z",
     "shell.execute_reply": "2022-05-10T05:11:45.326999Z",
     "shell.execute_reply.started": "2022-05-10T05:11:43.457228Z"
    },
    "tags": []
   },
   "outputs": [
    {
     "name": "stdin",
     "output_type": "stream",
     "text": [
      "숫자입력 :  123\n"
     ]
    },
    {
     "name": "stdout",
     "output_type": "stream",
     "text": [
      "x is bigger that 10 or same with 10, positive\n"
     ]
    }
   ],
   "source": [
    "x = int(input('숫자입력 : '))\n",
    "\n",
    "if 0 < x:\n",
    "    \n",
    "    if x < 10:\n",
    "        print('x is smaller than 10, positive')\n",
    "        \n",
    "    else:\n",
    "        print('x is bigger that 10 or same with 10, positive')\n",
    "        \n",
    "else: \n",
    "    print('negative')"
   ]
  },
  {
   "cell_type": "code",
   "execution_count": 11,
   "metadata": {
    "execution": {
     "iopub.execute_input": "2022-05-10T05:12:15.101348Z",
     "iopub.status.busy": "2022-05-10T05:12:15.101348Z",
     "iopub.status.idle": "2022-05-10T05:12:16.643671Z",
     "shell.execute_reply": "2022-05-10T05:12:16.643168Z",
     "shell.execute_reply.started": "2022-05-10T05:12:15.101348Z"
    },
    "tags": []
   },
   "outputs": [
    {
     "name": "stdin",
     "output_type": "stream",
     "text": [
      "a,b,c 중 하나 입력 :  ㅁ\n"
     ]
    },
    {
     "name": "stdout",
     "output_type": "stream",
     "text": [
      "잘못 입력하셨습니다. 프로그램 종료.\n"
     ]
    }
   ],
   "source": [
    "choice = input('a,b,c 중 하나 입력 : ')\n",
    "\n",
    "if choice == 'a':\n",
    "    print('땡!')\n",
    "\n",
    "elif choice == 'b':\n",
    "    print('딩동댕!')\n",
    "\n",
    "elif choice == 'c':\n",
    "    print('땡땡!')\n",
    "\n",
    "else:\n",
    "    print('잘못 입력하셨습니다. 프로그램 종료.')"
   ]
  },
  {
   "cell_type": "code",
   "execution_count": 13,
   "metadata": {
    "execution": {
     "iopub.execute_input": "2022-05-10T05:12:42.354602Z",
     "iopub.status.busy": "2022-05-10T05:12:42.354602Z",
     "iopub.status.idle": "2022-05-10T05:12:44.016399Z",
     "shell.execute_reply": "2022-05-10T05:12:44.015895Z",
     "shell.execute_reply.started": "2022-05-10T05:12:42.354602Z"
    },
    "tags": []
   },
   "outputs": [
    {
     "name": "stdin",
     "output_type": "stream",
     "text": [
      "Enter Fahrenheit Temperature: 85\n"
     ]
    },
    {
     "name": "stdout",
     "output_type": "stream",
     "text": [
      "29.444444444444443\n"
     ]
    }
   ],
   "source": [
    "# 화씨 - 섭씨 온도 변환 식\n",
    "inp = input('Enter Fahrenheit Temperature:')\n",
    "\n",
    "fahr = float(inp)\n",
    "cel = (fahr - 32.0) * 5.0/9.0\n",
    "\n",
    "print(cel)\n",
    "# 만약 inp에 잘못된 값(숫자가 아닌 문자 등)을 넣으면 멈춘다."
   ]
  },
  {
   "cell_type": "code",
   "execution_count": 16,
   "metadata": {
    "execution": {
     "iopub.execute_input": "2022-05-10T05:14:48.645801Z",
     "iopub.status.busy": "2022-05-10T05:14:48.645801Z",
     "iopub.status.idle": "2022-05-10T05:14:50.396101Z",
     "shell.execute_reply": "2022-05-10T05:14:50.396101Z",
     "shell.execute_reply.started": "2022-05-10T05:14:48.645801Z"
    },
    "tags": []
   },
   "outputs": [
    {
     "name": "stdin",
     "output_type": "stream",
     "text": [
      "Enter Fahrenheit Temperature: 35\n"
     ]
    },
    {
     "name": "stdout",
     "output_type": "stream",
     "text": [
      "1.6666666666666667\n"
     ]
    }
   ],
   "source": [
    "inp = input('Enter Fahrenheit Temperature:')\n",
    "\n",
    "try:\n",
    "    fahr = float(inp)\n",
    "    cel = (fahr - 32.0) * 5.0 / 9.0\n",
    "    print(cel)\n",
    "    \n",
    "except:\n",
    "    print('Please enter a number') # 숫자를 입력하지 않을 경우, 숫자를 입력해달라는 안내를 출력함"
   ]
  },
  {
   "cell_type": "code",
   "execution_count": 17,
   "metadata": {
    "execution": {
     "iopub.execute_input": "2022-05-10T05:15:16.864897Z",
     "iopub.status.busy": "2022-05-10T05:15:16.864897Z",
     "iopub.status.idle": "2022-05-10T05:15:16.879419Z",
     "shell.execute_reply": "2022-05-10T05:15:16.879419Z",
     "shell.execute_reply.started": "2022-05-10T05:15:16.864897Z"
    },
    "tags": []
   },
   "outputs": [
    {
     "name": "stdout",
     "output_type": "stream",
     "text": [
      "5\n"
     ]
    }
   ],
   "source": [
    "#len()은 문자 타입에만 사용 가능. 'int' 타입은 len이 없다.\n",
    "string = '카시오페아'\n",
    "print(len(string)) #문자열 string 길이 "
   ]
  },
  {
   "cell_type": "markdown",
   "metadata": {},
   "source": [
    "# 패키지 임포트"
   ]
  },
  {
   "cell_type": "code",
   "execution_count": 18,
   "metadata": {
    "execution": {
     "iopub.execute_input": "2022-05-10T05:15:39.089989Z",
     "iopub.status.busy": "2022-05-10T05:15:39.089989Z",
     "iopub.status.idle": "2022-05-10T05:15:39.105471Z",
     "shell.execute_reply": "2022-05-10T05:15:39.104968Z",
     "shell.execute_reply.started": "2022-05-10T05:15:39.089989Z"
    },
    "tags": []
   },
   "outputs": [],
   "source": [
    "import math #수학 모듈(패키지) 임포트"
   ]
  },
  {
   "cell_type": "code",
   "execution_count": 19,
   "metadata": {
    "execution": {
     "iopub.execute_input": "2022-05-10T05:16:03.878516Z",
     "iopub.status.busy": "2022-05-10T05:16:03.878516Z",
     "iopub.status.idle": "2022-05-10T05:16:06.820616Z",
     "shell.execute_reply": "2022-05-10T05:16:06.820616Z",
     "shell.execute_reply.started": "2022-05-10T05:16:03.878516Z"
    },
    "tags": []
   },
   "outputs": [
    {
     "name": "stdin",
     "output_type": "stream",
     "text": [
      "signal power를 입력해주세요:  56\n",
      "noise power를 입력해주세요: 12\n"
     ]
    },
    {
     "name": "stdout",
     "output_type": "stream",
     "text": [
      "ratio = 4.666666666666667\n",
      "decibels = 6.690067809585756\n"
     ]
    }
   ],
   "source": [
    "try:\n",
    "    signal_power = int(input('signal power를 입력해주세요: '))\n",
    "    noise_power = int(input('noise power를 입력해주세요:'))\n",
    "    \n",
    "    ratio = signal_power / noise_power\n",
    "    decibels = 10 * math.log10(ratio)\n",
    "    \n",
    "    print(f'ratio = {ratio}')\n",
    "    print(f'decibels = {decibels}')\n",
    "    \n",
    "except:\n",
    "    print('signal power, noise power에는 숫자를 입력해 주셔야 합니다.')"
   ]
  },
  {
   "cell_type": "code",
   "execution_count": 20,
   "metadata": {
    "execution": {
     "iopub.execute_input": "2022-05-10T05:16:16.534969Z",
     "iopub.status.busy": "2022-05-10T05:16:16.534969Z",
     "iopub.status.idle": "2022-05-10T05:16:16.554186Z",
     "shell.execute_reply": "2022-05-10T05:16:16.553154Z",
     "shell.execute_reply.started": "2022-05-10T05:16:16.534969Z"
    },
    "tags": []
   },
   "outputs": [
    {
     "name": "stdout",
     "output_type": "stream",
     "text": [
      "3.1622776601683795\n"
     ]
    }
   ],
   "source": [
    "math.pi # math 모듈이 가지고 있는 pi 근사값. 소수점 아래 15자리까지 표현\n",
    "x = 10\n",
    "\n",
    "print(math.sqrt(x)) #x의 제곱근 출력"
   ]
  },
  {
   "cell_type": "code",
   "execution_count": 22,
   "metadata": {
    "execution": {
     "iopub.execute_input": "2022-05-10T05:17:17.665925Z",
     "iopub.status.busy": "2022-05-10T05:17:17.664927Z",
     "iopub.status.idle": "2022-05-10T05:17:19.311884Z",
     "shell.execute_reply": "2022-05-10T05:17:19.311884Z",
     "shell.execute_reply.started": "2022-05-10T05:17:17.665925Z"
    },
    "tags": []
   },
   "outputs": [
    {
     "name": "stdin",
     "output_type": "stream",
     "text": [
      "각도를 입력해 주세요(degree): 45\n"
     ]
    },
    {
     "name": "stdout",
     "output_type": "stream",
     "text": [
      "degrees = 45.0 degree\n",
      "radians = 0.7853981633974483 rad\n",
      "sin(45.0) = 0.7071067811865476\n"
     ]
    }
   ],
   "source": [
    "# sin(x)를 구해주는 함수 : x가 육십분법일 시\n",
    "degrees = float(input('각도를 입력해 주세요(degree):'))\n",
    "radians = degrees / 360.0 * 2 * math.pi\n",
    "\n",
    "print(f'degrees = {degrees} degree')\n",
    "print(f'radians = {radians} rad')\n",
    "print(f'sin({degrees}) = {math.sin(radians)}')"
   ]
  },
  {
   "cell_type": "markdown",
   "metadata": {},
   "source": [
    "# random 모듈로 무작위 숫자 추출하기\n",
    "* `random.random()` : 0.0 이상 1.0 미만의 무작위 숫자(소숫점 포함)을 생성\n",
    "* `random.randint(low, high)` : low 이상 high 이하 무작위 정수 반환\n",
    "* `random.choice()` : 정해진 범주(리스트) 내의 여러 수 중 임의로 하나를 선택"
   ]
  },
  {
   "cell_type": "code",
   "execution_count": 23,
   "metadata": {
    "execution": {
     "iopub.execute_input": "2022-05-10T05:18:43.241228Z",
     "iopub.status.busy": "2022-05-10T05:18:43.241228Z",
     "iopub.status.idle": "2022-05-10T05:18:43.257186Z",
     "shell.execute_reply": "2022-05-10T05:18:43.257186Z",
     "shell.execute_reply.started": "2022-05-10T05:18:43.241228Z"
    },
    "tags": []
   },
   "outputs": [],
   "source": [
    "import random # random 무작위 숫자 추출 모듈"
   ]
  },
  {
   "cell_type": "code",
   "execution_count": 26,
   "metadata": {
    "execution": {
     "iopub.execute_input": "2022-05-10T05:19:14.169465Z",
     "iopub.status.busy": "2022-05-10T05:19:14.169465Z",
     "iopub.status.idle": "2022-05-10T05:19:14.180263Z",
     "shell.execute_reply": "2022-05-10T05:19:14.179257Z",
     "shell.execute_reply.started": "2022-05-10T05:19:14.169465Z"
    },
    "tags": []
   },
   "outputs": [
    {
     "name": "stdout",
     "output_type": "stream",
     "text": [
      "0.4946323252912713\n",
      "0.3647517207949259\n",
      "0.022457367932241068\n",
      "0.9757945299444896\n",
      "0.6291145662982887\n",
      "0.29948266828850945\n",
      "0.8993306925834836\n",
      "0.7301329824481093\n",
      "0.031839050017796744\n",
      "0.6613731827835317\n"
     ]
    }
   ],
   "source": [
    "# 본 셀을 실행할 때마다 다른 수가 나옵니다.\n",
    "\n",
    "for i in range(10):\n",
    "    x = random.random()\n",
    "    print(x)"
   ]
  },
  {
   "cell_type": "code",
   "execution_count": 31,
   "metadata": {
    "execution": {
     "iopub.execute_input": "2022-05-10T05:20:48.374264Z",
     "iopub.status.busy": "2022-05-10T05:20:48.374264Z",
     "iopub.status.idle": "2022-05-10T05:20:48.392003Z",
     "shell.execute_reply": "2022-05-10T05:20:48.391006Z",
     "shell.execute_reply.started": "2022-05-10T05:20:48.374264Z"
    },
    "tags": []
   },
   "outputs": [
    {
     "data": {
      "text/plain": [
       "809"
      ]
     },
     "execution_count": 31,
     "metadata": {},
     "output_type": "execute_result"
    }
   ],
   "source": [
    "random.randint(5,1000)"
   ]
  },
  {
   "cell_type": "code",
   "execution_count": 37,
   "metadata": {
    "execution": {
     "iopub.execute_input": "2022-05-10T05:21:33.455960Z",
     "iopub.status.busy": "2022-05-10T05:21:33.455960Z",
     "iopub.status.idle": "2022-05-10T05:21:33.462942Z",
     "shell.execute_reply": "2022-05-10T05:21:33.462942Z",
     "shell.execute_reply.started": "2022-05-10T05:21:33.455960Z"
    },
    "tags": []
   },
   "outputs": [
    {
     "data": {
      "text/plain": [
       "1"
      ]
     },
     "execution_count": 37,
     "metadata": {},
     "output_type": "execute_result"
    }
   ],
   "source": [
    "t = [1, 2, 3, 4, 5, 6, 7, 8, 9, 10]\n",
    "\n",
    "random.choice(t)"
   ]
  },
  {
   "cell_type": "markdown",
   "metadata": {},
   "source": [
    "# def : 함수 정의, 새로운 함수 만들기\n",
    "\n",
    "* 함수 정의(function definition) : 새 함수 이름, 함수 호출 시 실행할 명령문으로 구성됨\n",
    "* `def 함수이름():`"
   ]
  },
  {
   "cell_type": "code",
   "execution_count": 38,
   "metadata": {
    "execution": {
     "iopub.execute_input": "2022-05-10T05:21:51.090514Z",
     "iopub.status.busy": "2022-05-10T05:21:51.090514Z",
     "iopub.status.idle": "2022-05-10T05:21:51.093516Z",
     "shell.execute_reply": "2022-05-10T05:21:51.093516Z",
     "shell.execute_reply.started": "2022-05-10T05:21:51.090514Z"
    },
    "tags": []
   },
   "outputs": [],
   "source": [
    "def print_lyrics(): # 빈 괄호 : 어떤 인수도 필요로 하지 않는다.\n",
    "    \n",
    "    print(\"My name is Sara.\")\n",
    "    print(\"That mountain is Sara Mountain\")"
   ]
  },
  {
   "cell_type": "code",
   "execution_count": 39,
   "metadata": {
    "execution": {
     "iopub.execute_input": "2022-05-10T05:21:52.807178Z",
     "iopub.status.busy": "2022-05-10T05:21:52.807178Z",
     "iopub.status.idle": "2022-05-10T05:21:52.811166Z",
     "shell.execute_reply": "2022-05-10T05:21:52.810169Z",
     "shell.execute_reply.started": "2022-05-10T05:21:52.807178Z"
    },
    "tags": []
   },
   "outputs": [
    {
     "name": "stdout",
     "output_type": "stream",
     "text": [
      "My name is Sara.\n",
      "That mountain is Sara Mountain\n"
     ]
    }
   ],
   "source": [
    "print_lyrics()"
   ]
  },
  {
   "cell_type": "code",
   "execution_count": 40,
   "metadata": {
    "execution": {
     "iopub.execute_input": "2022-05-10T05:22:59.995620Z",
     "iopub.status.busy": "2022-05-10T05:22:59.995620Z",
     "iopub.status.idle": "2022-05-10T05:23:00.013843Z",
     "shell.execute_reply": "2022-05-10T05:23:00.012844Z",
     "shell.execute_reply.started": "2022-05-10T05:22:59.995620Z"
    },
    "tags": []
   },
   "outputs": [],
   "source": [
    "#교통계획평가 : 소비자 잉여 계산\n",
    "# q1 : 개선 전 통행량, q2 : 개선 후 통행량\n",
    "# c1 : 개선 전 비용, c2 : 개선 후 비용\n",
    "def consumers_surplus(q1, q2, c1, c2):\n",
    "    \"\"\"\n",
    "    교통계획평가 중 소비자 잉여를 계산해주는 함수\n",
    "    q1 : 개선 전 통행량\n",
    "    q2 : 개선 후 통행량\n",
    "    c1 : 개선 전 비용\n",
    "    c2 : 개선 후 비용\n",
    "    \"\"\"\n",
    "    surplus = 1/2 * (q1 + q2) * (c1 - c2)\n",
    "    \n",
    "    print(surplus)"
   ]
  },
  {
   "cell_type": "code",
   "execution_count": 41,
   "metadata": {
    "execution": {
     "iopub.execute_input": "2022-05-10T05:23:07.861709Z",
     "iopub.status.busy": "2022-05-10T05:23:07.861709Z",
     "iopub.status.idle": "2022-05-10T05:23:07.865712Z",
     "shell.execute_reply": "2022-05-10T05:23:07.865712Z",
     "shell.execute_reply.started": "2022-05-10T05:23:07.861709Z"
    },
    "tags": []
   },
   "outputs": [
    {
     "name": "stdout",
     "output_type": "stream",
     "text": [
      "7500.0\n"
     ]
    }
   ],
   "source": [
    "# comsumers_surplus() 함수로 소비자 잉여 계산하기\n",
    "consumers_surplus(100, 200, 80, 30)"
   ]
  },
  {
   "cell_type": "code",
   "execution_count": 42,
   "metadata": {
    "execution": {
     "iopub.execute_input": "2022-05-10T05:23:16.136171Z",
     "iopub.status.busy": "2022-05-10T05:23:16.136171Z",
     "iopub.status.idle": "2022-05-10T05:23:16.144237Z",
     "shell.execute_reply": "2022-05-10T05:23:16.143217Z",
     "shell.execute_reply.started": "2022-05-10T05:23:16.136171Z"
    },
    "tags": []
   },
   "outputs": [
    {
     "name": "stdout",
     "output_type": "stream",
     "text": [
      "<function consumers_surplus at 0x00000206A4CEBDC0>\n"
     ]
    }
   ],
   "source": [
    "# function 타입의 함수 객체 consumers_surplus가 생성되었음.\n",
    "# 한번 정의한 함수는 다른 함수 내부에서도 이 함수를 호출할 수 있어\n",
    "# 복합적 호출, 복합적 사용도 가능\n",
    "print(consumers_surplus)"
   ]
  },
  {
   "cell_type": "markdown",
   "metadata": {},
   "source": [
    "# iteration : while\n",
    "* while 반복문은 '참'인 상태가 지속되는 동안 반복됨\n",
    "* '거짓'이 되는 순간 while loop를 탈출함"
   ]
  },
  {
   "cell_type": "code",
   "execution_count": 43,
   "metadata": {
    "execution": {
     "iopub.execute_input": "2022-05-10T05:23:34.741964Z",
     "iopub.status.busy": "2022-05-10T05:23:34.741964Z",
     "iopub.status.idle": "2022-05-10T05:23:34.756444Z",
     "shell.execute_reply": "2022-05-10T05:23:34.755423Z",
     "shell.execute_reply.started": "2022-05-10T05:23:34.741964Z"
    },
    "tags": []
   },
   "outputs": [
    {
     "name": "stdout",
     "output_type": "stream",
     "text": [
      "5\n",
      "4\n",
      "3\n",
      "2\n",
      "1\n",
      "Blasoff!\n"
     ]
    }
   ],
   "source": [
    "n = 5\n",
    "\n",
    "while n > 0: # ~n>0일 때까지.\n",
    "    print(n)\n",
    "    n = n-1 # n=0이 되면 종료\n",
    "    \n",
    "print('Blasoff!') #n=0으로 위 while문 종료 후 출력"
   ]
  },
  {
   "cell_type": "markdown",
   "metadata": {},
   "source": [
    "# iteration : for\n",
    "* for 문은 주어진 범주(리스트) 내에서 순차적으로 반복"
   ]
  },
  {
   "cell_type": "code",
   "execution_count": 44,
   "metadata": {
    "execution": {
     "iopub.execute_input": "2022-05-10T05:25:55.614447Z",
     "iopub.status.busy": "2022-05-10T05:25:55.613450Z",
     "iopub.status.idle": "2022-05-10T05:26:02.590857Z",
     "shell.execute_reply": "2022-05-10T05:26:02.590857Z",
     "shell.execute_reply.started": "2022-05-10T05:25:55.613450Z"
    },
    "tags": []
   },
   "outputs": [
    {
     "name": "stdin",
     "output_type": "stream",
     "text": [
      "이름을 입력해주세요1 :  Maria\n",
      "이름을 입력해주세요2 :  Sara\n",
      "이름을 입력해주세요3 :  Eva\n"
     ]
    },
    {
     "name": "stdout",
     "output_type": "stream",
     "text": [
      "Happy New Year! Maria\n",
      "Happy New Year! Sara\n",
      "Happy New Year! Eva\n",
      "Done!\n"
     ]
    }
   ],
   "source": [
    "friends = [input('이름을 입력해주세요1 : '), input('이름을 입력해주세요2 : '), input('이름을 입력해주세요3 : ')]\n",
    "\n",
    "for friend in friends:\n",
    "    print(f'Happy New Year! {friend}')\n",
    "\n",
    "print('Done!')"
   ]
  },
  {
   "cell_type": "code",
   "execution_count": 45,
   "metadata": {
    "execution": {
     "iopub.execute_input": "2022-05-10T05:27:31.722377Z",
     "iopub.status.busy": "2022-05-10T05:27:31.722377Z",
     "iopub.status.idle": "2022-05-10T05:27:31.737411Z",
     "shell.execute_reply": "2022-05-10T05:27:31.737411Z",
     "shell.execute_reply.started": "2022-05-10T05:27:31.722377Z"
    },
    "tags": []
   },
   "outputs": [
    {
     "name": "stdout",
     "output_type": "stream",
     "text": [
      "Total:117\n"
     ]
    }
   ],
   "source": [
    "total = 0\n",
    "\n",
    "for itervar in [3, 4, 2, 12, 84, 12]:\n",
    "    total = total + itervar\n",
    "\n",
    "print(f'Total:{total}')"
   ]
  },
  {
   "cell_type": "code",
   "execution_count": 48,
   "metadata": {
    "execution": {
     "iopub.execute_input": "2022-05-10T05:28:24.663377Z",
     "iopub.status.busy": "2022-05-10T05:28:24.663377Z",
     "iopub.status.idle": "2022-05-10T05:28:24.670598Z",
     "shell.execute_reply": "2022-05-10T05:28:24.670095Z",
     "shell.execute_reply.started": "2022-05-10T05:28:24.663377Z"
    },
    "tags": []
   },
   "outputs": [
    {
     "name": "stdout",
     "output_type": "stream",
     "text": [
      "Before : None\n",
      "Loop:20,20\n",
      "Loop:301,301\n",
      "Loop:3024,3024\n",
      "Loop:14328903,14328903\n",
      "Largest: 14328903\n"
     ]
    }
   ],
   "source": [
    "largest = None\n",
    "\n",
    "print(f'Before : {largest}')\n",
    "\n",
    "for itervar in [20, 301, 3024, 14328903, 39393, 2342341]:\n",
    "    \n",
    "      if largest is None or itervar>largest:\n",
    "            largest = itervar\n",
    "            print(f'Loop:{itervar},{largest}')\n",
    "\n",
    "print(f'Largest: {largest}')"
   ]
  },
  {
   "cell_type": "code",
   "execution_count": 52,
   "metadata": {
    "execution": {
     "iopub.execute_input": "2022-05-10T05:29:13.095145Z",
     "iopub.status.busy": "2022-05-10T05:29:13.095145Z",
     "iopub.status.idle": "2022-05-10T05:29:13.100609Z",
     "shell.execute_reply": "2022-05-10T05:29:13.100609Z",
     "shell.execute_reply.started": "2022-05-10T05:29:13.095145Z"
    },
    "tags": []
   },
   "outputs": [
    {
     "name": "stdout",
     "output_type": "stream",
     "text": [
      "Before : None\n",
      "Loop : 3, 3\n",
      "Loop : 41, 3\n",
      "Loop : 12, 3\n",
      "Loop : 9, 3\n",
      "Loop : 74, 3\n",
      "Loop : 15, 3\n",
      "Smallest : 3\n"
     ]
    }
   ],
   "source": [
    "smallest = None\n",
    "\n",
    "print(f'Before : {smallest}')\n",
    "\n",
    "for itervar in [3, 41, 12, 9, 74, 15]:\n",
    "    \n",
    "    if smallest is None or itervar < smallest:\n",
    "        smallest = itervar\n",
    "    \n",
    "    print(f'Loop : {itervar}, {smallest}')\n",
    "\n",
    "print(f'Smallest : {smallest}')"
   ]
  }
 ],
 "metadata": {
  "kernelspec": {
   "display_name": "Python 3",
   "language": "python",
   "name": "python3"
  },
  "language_info": {
   "codemirror_mode": {
    "name": "ipython",
    "version": 3
   },
   "file_extension": ".py",
   "mimetype": "text/x-python",
   "name": "python",
   "nbconvert_exporter": "python",
   "pygments_lexer": "ipython3",
   "version": "3.8.8"
  }
 },
 "nbformat": 4,
 "nbformat_minor": 4
}
