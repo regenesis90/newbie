{
 "cells": [
  {
   "cell_type": "code",
   "execution_count": 4,
   "metadata": {},
   "outputs": [
    {
     "name": "stdout",
     "output_type": "stream",
     "text": [
      "숫자를 입력해 주세요>100\n",
      "Big\n"
     ]
    }
   ],
   "source": [
    "x=int(input('숫자를 입력해 주세요>'))\n",
    "if x<10:\n",
    "    print('Small')\n",
    "elif x<100:\n",
    "    print('middle')\n",
    "else:\n",
    "    print('Big')"
   ]
  },
  {
   "cell_type": "code",
   "execution_count": 5,
   "metadata": {},
   "outputs": [
    {
     "name": "stdout",
     "output_type": "stream",
     "text": [
      "숫자입력:1000\n",
      "x is bigger that 10 or same with 10, positive\n"
     ]
    }
   ],
   "source": [
    "x=int(input('숫자입력:'))\n",
    "if 0<x:\n",
    "    if x<10:\n",
    "        print('x is smaller than 10, positive')\n",
    "    else:\n",
    "        print('x is bigger that 10 or same with 10, positive')\n",
    "else: \n",
    "    print('negative')"
   ]
  },
  {
   "cell_type": "code",
   "execution_count": 8,
   "metadata": {},
   "outputs": [
    {
     "name": "stdout",
     "output_type": "stream",
     "text": [
      "a,b,c 중 하나 입력:d\n",
      "잘못 입력하셨습니다. 프로그램 종료.\n"
     ]
    }
   ],
   "source": [
    "choice=input('a,b,c 중 하나 입력:')\n",
    "if choice=='a':\n",
    "    print('땡!')\n",
    "elif choice=='b':\n",
    "    print('딩동댕!')\n",
    "elif choice=='c':\n",
    "    print('땡땡!')\n",
    "else:\n",
    "    print('잘못 입력하셨습니다. 프로그램 종료.')"
   ]
  },
  {
   "cell_type": "code",
   "execution_count": 11,
   "metadata": {},
   "outputs": [
    {
     "name": "stdout",
     "output_type": "stream",
     "text": [
      "Enter Fahrenheit Temperature:30\n",
      "-1.1111111111111112\n"
     ]
    }
   ],
   "source": [
    "inp=input('Enter Fahrenheit Temperature:')\n",
    "fahr=float(inp)\n",
    "cel=(fahr-32.0)*5.0/9.0\n",
    "print(cel)\n",
    "# 만약 inp에 잘못된 값(숫자가 아닌 문자 등)을 넣으면 멈춘다."
   ]
  }
 ],
 "metadata": {
  "kernelspec": {
   "display_name": "Python 3",
   "language": "python",
   "name": "python3"
  },
  "language_info": {
   "codemirror_mode": {
    "name": "ipython",
    "version": 3
   },
   "file_extension": ".py",
   "mimetype": "text/x-python",
   "name": "python",
   "nbconvert_exporter": "python",
   "pygments_lexer": "ipython3",
   "version": "3.8.5"
  }
 },
 "nbformat": 4,
 "nbformat_minor": 4
}
