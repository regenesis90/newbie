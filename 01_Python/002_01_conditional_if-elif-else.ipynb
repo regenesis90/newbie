{
 "cells": [
  {
   "cell_type": "markdown",
   "metadata": {},
   "source": [
    "# if-elif-else 조건문\n",
    "\n",
    "```\n",
    "if 명제:\n",
    "    문장\n",
    "elif 명제:\n",
    "    문장\n",
    "else:\n",
    "    문장\n",
    "```"
   ]
  },
  {
   "cell_type": "code",
   "execution_count": 1,
   "metadata": {
    "execution": {
     "iopub.execute_input": "2022-05-17T04:17:24.015680Z",
     "iopub.status.busy": "2022-05-17T04:17:24.015680Z",
     "iopub.status.idle": "2022-05-17T04:17:26.210567Z",
     "shell.execute_reply": "2022-05-17T04:17:26.209627Z",
     "shell.execute_reply.started": "2022-05-17T04:17:24.015680Z"
    },
    "tags": []
   },
   "outputs": [
    {
     "name": "stdin",
     "output_type": "stream",
     "text": [
      "숫자를 입력해 주세요> 456\n"
     ]
    },
    {
     "name": "stdout",
     "output_type": "stream",
     "text": [
      "Big\n"
     ]
    }
   ],
   "source": [
    "x = int(input('숫자를 입력해 주세요>'))\n",
    "\n",
    "if x < 10:\n",
    "    print('Small')\n",
    "\n",
    "elif x < 100:\n",
    "    print('middle')\n",
    "\n",
    "else:\n",
    "    print('Big')"
   ]
  },
  {
   "cell_type": "code",
   "execution_count": 2,
   "metadata": {
    "execution": {
     "iopub.execute_input": "2022-05-17T04:17:38.750579Z",
     "iopub.status.busy": "2022-05-17T04:17:38.750579Z",
     "iopub.status.idle": "2022-05-17T04:17:40.628364Z",
     "shell.execute_reply": "2022-05-17T04:17:40.627364Z",
     "shell.execute_reply.started": "2022-05-17T04:17:38.750579Z"
    },
    "tags": []
   },
   "outputs": [
    {
     "name": "stdin",
     "output_type": "stream",
     "text": [
      "숫자입력: 4563\n"
     ]
    },
    {
     "name": "stdout",
     "output_type": "stream",
     "text": [
      "x is bigger that 10 or same with 10, positive\n"
     ]
    }
   ],
   "source": [
    "x = int(input('숫자입력:'))\n",
    "if 0 < x:\n",
    "    if x < 10:\n",
    "        print('x is smaller than 10, positive')\n",
    "    \n",
    "    else:\n",
    "        print('x is bigger that 10 or same with 10, positive')\n",
    "\n",
    "else: \n",
    "    print('negative')"
   ]
  },
  {
   "cell_type": "code",
   "execution_count": 3,
   "metadata": {
    "execution": {
     "iopub.execute_input": "2022-05-17T04:18:04.193585Z",
     "iopub.status.busy": "2022-05-17T04:18:04.192130Z",
     "iopub.status.idle": "2022-05-17T04:18:07.000174Z",
     "shell.execute_reply": "2022-05-17T04:18:07.000174Z",
     "shell.execute_reply.started": "2022-05-17T04:18:04.193585Z"
    },
    "tags": []
   },
   "outputs": [
    {
     "name": "stdin",
     "output_type": "stream",
     "text": [
      "a,b,c 중 하나 입력: a\n"
     ]
    },
    {
     "name": "stdout",
     "output_type": "stream",
     "text": [
      "땡!\n"
     ]
    }
   ],
   "source": [
    "choice = input('a,b,c 중 하나 입력:')\n",
    "\n",
    "if choice == 'a':\n",
    "    print('땡!')\n",
    "\n",
    "elif choice == 'b':\n",
    "    print('딩동댕!')\n",
    "\n",
    "elif choice == 'c':\n",
    "    print('땡땡!')\n",
    "\n",
    "else:\n",
    "    print('잘못 입력하셨습니다. 프로그램 종료.')"
   ]
  },
  {
   "cell_type": "code",
   "execution_count": 4,
   "metadata": {
    "execution": {
     "iopub.execute_input": "2022-05-17T04:18:21.519277Z",
     "iopub.status.busy": "2022-05-17T04:18:21.518278Z",
     "iopub.status.idle": "2022-05-17T04:18:23.755567Z",
     "shell.execute_reply": "2022-05-17T04:18:23.754567Z",
     "shell.execute_reply.started": "2022-05-17T04:18:21.519277Z"
    },
    "tags": []
   },
   "outputs": [
    {
     "name": "stdin",
     "output_type": "stream",
     "text": [
      "Enter Fahrenheit Temperature: 45\n"
     ]
    },
    {
     "name": "stdout",
     "output_type": "stream",
     "text": [
      "7.222222222222222\n"
     ]
    }
   ],
   "source": [
    "inp = input('Enter Fahrenheit Temperature:')\n",
    "\n",
    "fahr = float(inp)\n",
    "cel = (fahr - 32.0) * 5.0 / 9.0\n",
    "\n",
    "print(cel)\n",
    "# 만약 inp에 잘못된 값(숫자가 아닌 문자 등)을 넣으면 멈춘다."
   ]
  }
 ],
 "metadata": {
  "kernelspec": {
   "display_name": "Python 3",
   "language": "python",
   "name": "python3"
  },
  "language_info": {
   "codemirror_mode": {
    "name": "ipython",
    "version": 3
   },
   "file_extension": ".py",
   "mimetype": "text/x-python",
   "name": "python",
   "nbconvert_exporter": "python",
   "pygments_lexer": "ipython3",
   "version": "3.8.8"
  }
 },
 "nbformat": 4,
 "nbformat_minor": 4
}
