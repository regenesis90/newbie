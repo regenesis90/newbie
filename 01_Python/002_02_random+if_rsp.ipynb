{
 "cells": [
  {
   "cell_type": "markdown",
   "metadata": {},
   "source": [
    "# 모듈 호출, 함수 호출\n",
    "* random 모듈 호출 : import random\n",
    "* import ABC : ABC 모듈을 사용하겠다.\n",
    "* ABC.test() : ABC 모듈의 test 함수를 사용하겠다\n",
    "* random.함수이름K() : random 모듈에서 함수K를 사용하겠다\n",
    "\n",
    "# random 모듈 : 유용한 함수들\n",
    "\n",
    "* `random.random()` : 0 이상 1 미만의 \"실수 난수\" 생성\n",
    "* `random.randrange(start, stop, step)` : start 이상 stop 미만 범위의 \"정수 난수\" 생성\n",
    "* `random.randint(low, high)` : low 이상 high 이하 범위의 \"정수 난수\" 생성\n",
    "* `random.choice(t)` : 리스트형/튜플 형 t에서 무작위로 하나를 선택"
   ]
  },
  {
   "cell_type": "markdown",
   "metadata": {},
   "source": [
    "# import random\n",
    "* 랜덤 모듈 불러오기"
   ]
  },
  {
   "cell_type": "code",
   "execution_count": 2,
   "metadata": {
    "execution": {
     "iopub.execute_input": "2022-05-17T04:19:27.465465Z",
     "iopub.status.busy": "2022-05-17T04:19:27.465465Z",
     "iopub.status.idle": "2022-05-17T04:19:27.485907Z",
     "shell.execute_reply": "2022-05-17T04:19:27.483919Z",
     "shell.execute_reply.started": "2022-05-17T04:19:27.465465Z"
    },
    "tags": []
   },
   "outputs": [],
   "source": [
    "import random"
   ]
  },
  {
   "cell_type": "markdown",
   "metadata": {},
   "source": [
    "# random 모듈의 메서드"
   ]
  },
  {
   "cell_type": "markdown",
   "metadata": {},
   "source": [
    "## random.random()"
   ]
  },
  {
   "cell_type": "code",
   "execution_count": 13,
   "metadata": {
    "execution": {
     "iopub.execute_input": "2021-05-09T07:09:21.766947Z",
     "iopub.status.busy": "2021-05-09T07:09:21.766947Z",
     "iopub.status.idle": "2021-05-09T07:09:21.788892Z",
     "shell.execute_reply": "2021-05-09T07:09:21.787554Z",
     "shell.execute_reply.started": "2021-05-09T07:09:21.766947Z"
    },
    "tags": []
   },
   "outputs": [
    {
     "data": {
      "text/plain": [
       "0.5288022839202985"
      ]
     },
     "execution_count": 13,
     "metadata": {},
     "output_type": "execute_result"
    }
   ],
   "source": [
    "# random.random() : 0이상 1미만의 실수 난수 생성.\n",
    "# 실행할 때마다 출력되는 숫자가 달라진다.\n",
    "random.random()"
   ]
  },
  {
   "cell_type": "code",
   "execution_count": 18,
   "metadata": {
    "execution": {
     "iopub.execute_input": "2021-05-09T07:12:32.313111Z",
     "iopub.status.busy": "2021-05-09T07:12:32.312112Z",
     "iopub.status.idle": "2021-05-09T07:12:32.329073Z",
     "shell.execute_reply": "2021-05-09T07:12:32.327078Z",
     "shell.execute_reply.started": "2021-05-09T07:12:32.313111Z"
    },
    "tags": []
   },
   "outputs": [
    {
     "data": {
      "text/plain": [
       "0.042872794305857664"
      ]
     },
     "execution_count": 18,
     "metadata": {},
     "output_type": "execute_result"
    }
   ],
   "source": [
    "random.random()"
   ]
  },
  {
   "cell_type": "markdown",
   "metadata": {},
   "source": [
    "### 가위바위보"
   ]
  },
  {
   "cell_type": "code",
   "execution_count": 3,
   "metadata": {
    "execution": {
     "iopub.execute_input": "2022-05-17T04:19:29.499419Z",
     "iopub.status.busy": "2022-05-17T04:19:29.499419Z",
     "iopub.status.idle": "2022-05-17T04:19:30.807366Z",
     "shell.execute_reply": "2022-05-17T04:19:30.807366Z",
     "shell.execute_reply.started": "2022-05-17T04:19:29.499419Z"
    },
    "tags": []
   },
   "outputs": [
    {
     "name": "stdout",
     "output_type": "stream",
     "text": [
      "==========가위/바위/보==========\n",
      "[1]가위\n",
      "[2]바위\n",
      "[3]보\n"
     ]
    },
    {
     "name": "stdin",
     "output_type": "stream",
     "text": [
      "1,2,3 중 선택하세요:  3\n"
     ]
    },
    {
     "name": "stdout",
     "output_type": "stream",
     "text": [
      "user = 3\n",
      "computer = 3\n",
      "무승부\n"
     ]
    }
   ],
   "source": [
    "# 가위바위보 머신\n",
    "print('==========가위/바위/보==========')\n",
    "print('[1]가위')\n",
    "print('[2]바위')\n",
    "print('[3]보')\n",
    "\n",
    "user = int(input('1,2,3 중 선택하세요: ')) # 사용자가 가위,바위,보 중 하나를 출력\n",
    "computer = random.randrange(1,4) #컴퓨터는 정수 1,2,3 중 아무거나 하나를 출력\n",
    "\n",
    "if user in (1,2,3):\n",
    "    print(f'user = {user}')\n",
    "    print(f'computer = {computer}')\n",
    "    \n",
    "    if user - computer == 0:\n",
    "        print('무승부')\n",
    "        \n",
    "    elif user - computer in(1, -2):\n",
    "        print('승리')\n",
    "        \n",
    "    else:\n",
    "        print('패배')\n",
    "\n",
    "else:\n",
    "    print('숫자 1,2,3 중 하나를 입력해 주세요')"
   ]
  },
  {
   "cell_type": "markdown",
   "metadata": {},
   "source": [
    "### 무작위 난수 N개를 포함한 리스트 생성"
   ]
  },
  {
   "cell_type": "code",
   "execution_count": 4,
   "metadata": {
    "execution": {
     "iopub.execute_input": "2022-05-17T04:22:41.251104Z",
     "iopub.status.busy": "2022-05-17T04:22:41.251104Z",
     "iopub.status.idle": "2022-05-17T04:22:41.261208Z",
     "shell.execute_reply": "2022-05-17T04:22:41.258638Z",
     "shell.execute_reply.started": "2022-05-17T04:22:41.251104Z"
    },
    "tags": []
   },
   "outputs": [],
   "source": [
    "sample_list = []\n",
    "\n",
    "for _ in range(20):\n",
    "    \n",
    "    x = random.random()\n",
    "    sample_list.append(x)"
   ]
  },
  {
   "cell_type": "code",
   "execution_count": 5,
   "metadata": {
    "execution": {
     "iopub.execute_input": "2022-05-17T04:22:42.236307Z",
     "iopub.status.busy": "2022-05-17T04:22:42.236307Z",
     "iopub.status.idle": "2022-05-17T04:22:42.255125Z",
     "shell.execute_reply": "2022-05-17T04:22:42.254157Z",
     "shell.execute_reply.started": "2022-05-17T04:22:42.236307Z"
    },
    "tags": []
   },
   "outputs": [
    {
     "name": "stdout",
     "output_type": "stream",
     "text": [
      "[0.36324552776329455, 0.11758321443560815, 0.8765679329652633, 0.8118400670144666, 0.7918428646032195, 0.8164312475754872, 0.11226721208163015, 0.7510550935821363, 0.08360359881029755, 0.6017078167742991, 0.8067497365478628, 0.8743103187114813, 0.14856842814263693, 0.7936106036963082, 0.5805335412300465, 0.1049090179211507, 0.03575363548692878, 0.8464209087971148, 0.10410882851205006, 0.9233550046233654]\n"
     ]
    },
    {
     "data": {
      "text/plain": [
       "20"
      ]
     },
     "execution_count": 5,
     "metadata": {},
     "output_type": "execute_result"
    }
   ],
   "source": [
    "print(sample_list)\n",
    "len(sample_list)"
   ]
  },
  {
   "cell_type": "markdown",
   "metadata": {},
   "source": [
    "## random.shuffle()\n",
    "* 리스트에 있는 원소들을 랜덤 셔플해 준다"
   ]
  },
  {
   "cell_type": "code",
   "execution_count": 2,
   "metadata": {
    "execution": {
     "iopub.execute_input": "2021-05-09T06:42:36.038565Z",
     "iopub.status.busy": "2021-05-09T06:42:36.038565Z",
     "iopub.status.idle": "2021-05-09T06:42:36.047542Z",
     "shell.execute_reply": "2021-05-09T06:42:36.046578Z",
     "shell.execute_reply.started": "2021-05-09T06:42:36.038565Z"
    }
   },
   "outputs": [],
   "source": [
    "res = ['Andrea', 'JP', 'NY', 'Claudia', 'Bians', 'Teddy']"
   ]
  },
  {
   "cell_type": "code",
   "execution_count": 11,
   "metadata": {
    "execution": {
     "iopub.execute_input": "2021-05-09T06:43:36.160542Z",
     "iopub.status.busy": "2021-05-09T06:43:36.160542Z",
     "iopub.status.idle": "2021-05-09T06:43:36.177496Z",
     "shell.execute_reply": "2021-05-09T06:43:36.176527Z",
     "shell.execute_reply.started": "2021-05-09T06:43:36.160542Z"
    },
    "tags": []
   },
   "outputs": [
    {
     "name": "stdout",
     "output_type": "stream",
     "text": [
      "['Claudia', 'NY', 'Bians', 'Andrea', 'JP', 'Teddy']\n"
     ]
    }
   ],
   "source": [
    "random.shuffle(res)\n",
    "\n",
    "print(res)"
   ]
  },
  {
   "cell_type": "markdown",
   "metadata": {},
   "source": [
    "## random.randrange()"
   ]
  },
  {
   "cell_type": "code",
   "execution_count": 8,
   "metadata": {
    "execution": {
     "iopub.execute_input": "2022-05-17T04:23:51.140915Z",
     "iopub.status.busy": "2022-05-17T04:23:51.140915Z",
     "iopub.status.idle": "2022-05-17T04:23:51.148199Z",
     "shell.execute_reply": "2022-05-17T04:23:51.147205Z",
     "shell.execute_reply.started": "2022-05-17T04:23:51.140915Z"
    },
    "tags": []
   },
   "outputs": [
    {
     "data": {
      "text/plain": [
       "50"
      ]
     },
     "execution_count": 8,
     "metadata": {},
     "output_type": "execute_result"
    }
   ],
   "source": [
    "random.randrange(0, 100, 10)"
   ]
  },
  {
   "cell_type": "code",
   "execution_count": 10,
   "metadata": {
    "execution": {
     "iopub.execute_input": "2022-05-17T04:24:31.141540Z",
     "iopub.status.busy": "2022-05-17T04:24:31.141540Z",
     "iopub.status.idle": "2022-05-17T04:24:31.156503Z",
     "shell.execute_reply": "2022-05-17T04:24:31.155508Z",
     "shell.execute_reply.started": "2022-05-17T04:24:31.141540Z"
    },
    "tags": []
   },
   "outputs": [],
   "source": [
    "resid = ['Andrea', 'Bians', 'Cleveth', 'Ditrich', 'Ein', 'Flin', 'Geertz', 'Hainz', 'Ivans', 'Jeff']"
   ]
  },
  {
   "cell_type": "markdown",
   "metadata": {},
   "source": [
    "## random.choice()\n",
    "* 주어진 리스트 중 한 원소를 랜덤추출"
   ]
  },
  {
   "cell_type": "code",
   "execution_count": 12,
   "metadata": {
    "execution": {
     "iopub.execute_input": "2022-05-17T04:24:42.356181Z",
     "iopub.status.busy": "2022-05-17T04:24:42.356181Z",
     "iopub.status.idle": "2022-05-17T04:24:42.375180Z",
     "shell.execute_reply": "2022-05-17T04:24:42.375180Z",
     "shell.execute_reply.started": "2022-05-17T04:24:42.356181Z"
    },
    "tags": []
   },
   "outputs": [
    {
     "data": {
      "text/plain": [
       "'Andrea'"
      ]
     },
     "execution_count": 12,
     "metadata": {},
     "output_type": "execute_result"
    }
   ],
   "source": [
    "random.choice(resid)"
   ]
  },
  {
   "cell_type": "code",
   "execution_count": 14,
   "metadata": {
    "execution": {
     "iopub.execute_input": "2022-05-17T04:24:44.276194Z",
     "iopub.status.busy": "2022-05-17T04:24:44.276194Z",
     "iopub.status.idle": "2022-05-17T04:24:44.290706Z",
     "shell.execute_reply": "2022-05-17T04:24:44.289708Z",
     "shell.execute_reply.started": "2022-05-17T04:24:44.276194Z"
    },
    "tags": []
   },
   "outputs": [],
   "source": [
    "d1 = {'name':'Andrea', 'height':165, 'Gender':'Female'}"
   ]
  },
  {
   "cell_type": "code",
   "execution_count": 15,
   "metadata": {
    "execution": {
     "iopub.execute_input": "2022-05-17T04:24:44.732500Z",
     "iopub.status.busy": "2022-05-17T04:24:44.730803Z",
     "iopub.status.idle": "2022-05-17T04:24:44.743326Z",
     "shell.execute_reply": "2022-05-17T04:24:44.742082Z",
     "shell.execute_reply.started": "2022-05-17T04:24:44.732500Z"
    },
    "tags": []
   },
   "outputs": [],
   "source": [
    "heights_tp = (170, 165, 185, 190, 160, 152, 172, 173, 176)"
   ]
  },
  {
   "cell_type": "code",
   "execution_count": 17,
   "metadata": {
    "execution": {
     "iopub.execute_input": "2022-05-17T04:24:46.324265Z",
     "iopub.status.busy": "2022-05-17T04:24:46.324265Z",
     "iopub.status.idle": "2022-05-17T04:24:46.330838Z",
     "shell.execute_reply": "2022-05-17T04:24:46.330838Z",
     "shell.execute_reply.started": "2022-05-17T04:24:46.324265Z"
    },
    "tags": []
   },
   "outputs": [
    {
     "data": {
      "text/plain": [
       "160"
      ]
     },
     "execution_count": 17,
     "metadata": {},
     "output_type": "execute_result"
    }
   ],
   "source": [
    "random.choice(heights_tp)"
   ]
  },
  {
   "cell_type": "code",
   "execution_count": 13,
   "metadata": {
    "execution": {
     "iopub.execute_input": "2022-05-17T04:24:43.797162Z",
     "iopub.status.busy": "2022-05-17T04:24:43.796152Z",
     "iopub.status.idle": "2022-05-17T04:24:43.809126Z",
     "shell.execute_reply": "2022-05-17T04:24:43.808129Z",
     "shell.execute_reply.started": "2022-05-17T04:24:43.797162Z"
    },
    "tags": []
   },
   "outputs": [],
   "source": [
    "fruits = ['Apple', 'Banana', 'Pineapple', 'Melon', 'Orange', 'Lemon', 'Strawberry']"
   ]
  },
  {
   "cell_type": "code",
   "execution_count": 18,
   "metadata": {
    "execution": {
     "iopub.execute_input": "2022-05-17T04:24:59.744327Z",
     "iopub.status.busy": "2022-05-17T04:24:59.744327Z",
     "iopub.status.idle": "2022-05-17T04:24:59.753198Z",
     "shell.execute_reply": "2022-05-17T04:24:59.751881Z",
     "shell.execute_reply.started": "2022-05-17T04:24:59.744327Z"
    },
    "tags": []
   },
   "outputs": [],
   "source": [
    "student_fruits = []\n",
    "\n",
    "for _ in range(20):\n",
    "    x = random.choice(fruits)\n",
    "    student_fruits.append(x)"
   ]
  },
  {
   "cell_type": "code",
   "execution_count": 19,
   "metadata": {
    "execution": {
     "iopub.execute_input": "2022-05-17T04:25:00.758379Z",
     "iopub.status.busy": "2022-05-17T04:25:00.757365Z",
     "iopub.status.idle": "2022-05-17T04:25:00.763943Z",
     "shell.execute_reply": "2022-05-17T04:25:00.762945Z",
     "shell.execute_reply.started": "2022-05-17T04:25:00.757365Z"
    },
    "tags": []
   },
   "outputs": [
    {
     "name": "stdout",
     "output_type": "stream",
     "text": [
      "['Pineapple', 'Lemon', 'Apple', 'Strawberry', 'Lemon', 'Strawberry', 'Pineapple', 'Apple', 'Apple', 'Lemon', 'Banana', 'Lemon', 'Strawberry', 'Strawberry', 'Banana', 'Pineapple', 'Melon', 'Orange', 'Apple', 'Pineapple']\n"
     ]
    }
   ],
   "source": [
    "print(student_fruits)"
   ]
  }
 ],
 "metadata": {
  "kernelspec": {
   "display_name": "Python 3",
   "language": "python",
   "name": "python3"
  },
  "language_info": {
   "codemirror_mode": {
    "name": "ipython",
    "version": 3
   },
   "file_extension": ".py",
   "mimetype": "text/x-python",
   "name": "python",
   "nbconvert_exporter": "python",
   "pygments_lexer": "ipython3",
   "version": "3.8.8"
  }
 },
 "nbformat": 4,
 "nbformat_minor": 4
}
