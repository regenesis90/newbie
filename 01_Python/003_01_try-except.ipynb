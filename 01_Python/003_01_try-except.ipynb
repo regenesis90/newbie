{
 "cells": [
  {
   "cell_type": "code",
   "execution_count": 1,
   "metadata": {
    "execution": {
     "iopub.execute_input": "2022-05-17T04:40:09.219955Z",
     "iopub.status.busy": "2022-05-17T04:40:09.219955Z",
     "iopub.status.idle": "2022-05-17T04:40:10.973876Z",
     "shell.execute_reply": "2022-05-17T04:40:10.973876Z",
     "shell.execute_reply.started": "2022-05-17T04:40:09.219955Z"
    },
    "tags": []
   },
   "outputs": [
    {
     "name": "stdin",
     "output_type": "stream",
     "text": [
      "Enter Fahrenheit Temperature: 35\n"
     ]
    },
    {
     "name": "stdout",
     "output_type": "stream",
     "text": [
      "1.6666666666666667\n"
     ]
    }
   ],
   "source": [
    "inp = input('Enter Fahrenheit Temperature:')\n",
    "\n",
    "try: # input이 숫자로, 다음의 연산이 가능할 경우\n",
    "    fahr = float(inp)\n",
    "    cel = (fahr - 32.0) * 5.0/9.0\n",
    "    print(cel)\n",
    "\n",
    "except: # input이 숫자가 아니어서 try:의 연산이 불가능한 경우\n",
    "    print('Please enter a number')"
   ]
  },
  {
   "cell_type": "code",
   "execution_count": 2,
   "metadata": {
    "execution": {
     "iopub.execute_input": "2022-05-17T04:40:36.094920Z",
     "iopub.status.busy": "2022-05-17T04:40:36.093927Z",
     "iopub.status.idle": "2022-05-17T04:40:39.236099Z",
     "shell.execute_reply": "2022-05-17T04:40:39.235068Z",
     "shell.execute_reply.started": "2022-05-17T04:40:36.094920Z"
    },
    "tags": []
   },
   "outputs": [
    {
     "name": "stdin",
     "output_type": "stream",
     "text": [
      "signal power를 입력해주세요:  23\n",
      "noise power를 입력해주세요: 4\n"
     ]
    },
    {
     "name": "stdout",
     "output_type": "stream",
     "text": [
      "ratio = 5.75\n",
      "decibels = 7.596678446896305\n"
     ]
    }
   ],
   "source": [
    "import math #수학 모듈 임포트\n",
    "\n",
    "try:\n",
    "    signal_power = int(input('signal power를 입력해주세요: '))\n",
    "    noise_power = int(input('noise power를 입력해주세요:'))\n",
    "    ratio = signal_power / noise_power\n",
    "    decibels = 10 * math.log10(ratio)\n",
    "    \n",
    "    print(f'ratio = {ratio}')\n",
    "    print(f'decibels = {decibels}')\n",
    "\n",
    "except:\n",
    "    print('signal power, noise power에는 숫자를 입력해 주셔야 합니다.')"
   ]
  },
  {
   "cell_type": "code",
   "execution_count": 3,
   "metadata": {
    "execution": {
     "iopub.execute_input": "2022-05-17T04:40:45.407085Z",
     "iopub.status.busy": "2022-05-17T04:40:45.406056Z",
     "iopub.status.idle": "2022-05-17T04:40:45.411871Z",
     "shell.execute_reply": "2022-05-17T04:40:45.411871Z",
     "shell.execute_reply.started": "2022-05-17T04:40:45.406056Z"
    },
    "tags": []
   },
   "outputs": [
    {
     "name": "stdout",
     "output_type": "stream",
     "text": [
      "3.1622776601683795\n"
     ]
    }
   ],
   "source": [
    "math.pi # math 모듈이 가지고 있는 pi 근사값. 소수점 아래 15자리까지 표현\n",
    "x = 10\n",
    "\n",
    "print(math.sqrt(x)) #x의 제곱근 출력"
   ]
  },
  {
   "cell_type": "code",
   "execution_count": 4,
   "metadata": {
    "execution": {
     "iopub.execute_input": "2022-05-17T04:41:05.914063Z",
     "iopub.status.busy": "2022-05-17T04:41:05.914063Z",
     "iopub.status.idle": "2022-05-17T04:41:07.936259Z",
     "shell.execute_reply": "2022-05-17T04:41:07.935262Z",
     "shell.execute_reply.started": "2022-05-17T04:41:05.914063Z"
    },
    "tags": []
   },
   "outputs": [
    {
     "name": "stdin",
     "output_type": "stream",
     "text": [
      "각도를 입력해 주세요(degree): 55\n"
     ]
    },
    {
     "name": "stdout",
     "output_type": "stream",
     "text": [
      "degrees = 55.0 degree\n",
      "radians = 0.9599310885968813 rad\n",
      "sin(degrees) = 0.8191520442889918\n"
     ]
    }
   ],
   "source": [
    "degrees = float(input('각도를 입력해 주세요(degree):'))\n",
    "radians = degrees/360.0 * 2 * math.pi\n",
    "\n",
    "print(f'degrees = {degrees} degree')\n",
    "print(f'radians = {radians} rad')\n",
    "print(f'sin(degrees) = {math.sin(radians)}')"
   ]
  }
 ],
 "metadata": {
  "kernelspec": {
   "display_name": "Python 3",
   "language": "python",
   "name": "python3"
  },
  "language_info": {
   "codemirror_mode": {
    "name": "ipython",
    "version": 3
   },
   "file_extension": ".py",
   "mimetype": "text/x-python",
   "name": "python",
   "nbconvert_exporter": "python",
   "pygments_lexer": "ipython3",
   "version": "3.8.8"
  }
 },
 "nbformat": 4,
 "nbformat_minor": 4
}
