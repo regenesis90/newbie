{
 "cells": [
  {
   "cell_type": "code",
   "execution_count": 13,
   "metadata": {},
   "outputs": [
    {
     "name": "stdout",
     "output_type": "stream",
     "text": [
      "Enter Fahrenheit Temperature:나무\n",
      "Please enter a number\n",
      "Enter Fahrenheit Temperature:ㅇㅇ\n"
     ]
    }
   ],
   "source": [
    "inp=input('Enter Fahrenheit Temperature:')\n",
    "try:\n",
    "    fahr=float(inp)\n",
    "    cel=(fahr-32.0)*5.0/9.0\n",
    "    print(cel)\n",
    "except:\n",
    "    print('Please enter a number')"
   ]
  },
  {
   "cell_type": "code",
   "execution_count": 20,
   "metadata": {},
   "outputs": [
    {
     "name": "stdout",
     "output_type": "stream",
     "text": [
      "signal power를 입력해주세요: 가\n",
      "signal power, noise power에는 숫자를 입력해 주셔야 합니다.\n"
     ]
    }
   ],
   "source": [
    "#수학 모듈 임포트\n",
    "import math\n",
    "try:\n",
    "    signal_power=int(input('signal power를 입력해주세요: '))\n",
    "    noise_power=int(input('noise power를 입력해주세요:'))\n",
    "    ratio=signal_power/noise_power\n",
    "    decibels=10*math.log10(ratio)\n",
    "    print(f'ratio={ratio}')\n",
    "    print(f'decibels={decibels}')\n",
    "except:\n",
    "    print('signal power, noise power에는 숫자를 입력해 주셔야 합니다.')"
   ]
  },
  {
   "cell_type": "code",
   "execution_count": 24,
   "metadata": {},
   "outputs": [
    {
     "name": "stdout",
     "output_type": "stream",
     "text": [
      "3.1622776601683795\n"
     ]
    }
   ],
   "source": [
    "math.pi # math 모듈이 가지고 있는 pi 근사값. 소수점 아래 15자리까지 표현\n",
    "x=10\n",
    "print(math.sqrt(x)) #x의 제곱근 출력"
   ]
  },
  {
   "cell_type": "code",
   "execution_count": 27,
   "metadata": {},
   "outputs": [
    {
     "name": "stdout",
     "output_type": "stream",
     "text": [
      "각도를 입력해 주세요(degree):200\n",
      "degrees=200.0 degree\n",
      "radians=3.490658503988659 rad\n",
      "sin(degrees)=-0.34202014332566866\n"
     ]
    }
   ],
   "source": [
    "degrees=float(input('각도를 입력해 주세요(degree):'))\n",
    "radians=degrees/360.0*2*math.pi\n",
    "print(f'degrees={degrees} degree')\n",
    "print(f'radians={radians} rad')\n",
    "print(f'sin(degrees)={math.sin(radians)}')"
   ]
  }
 ],
 "metadata": {
  "kernelspec": {
   "display_name": "Python 3",
   "language": "python",
   "name": "python3"
  },
  "language_info": {
   "codemirror_mode": {
    "name": "ipython",
    "version": 3
   },
   "file_extension": ".py",
   "mimetype": "text/x-python",
   "name": "python",
   "nbconvert_exporter": "python",
   "pygments_lexer": "ipython3",
   "version": "3.8.5"
  }
 },
 "nbformat": 4,
 "nbformat_minor": 4
}
