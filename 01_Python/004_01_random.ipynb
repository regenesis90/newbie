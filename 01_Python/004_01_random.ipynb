{
 "cells": [
  {
   "cell_type": "code",
   "execution_count": 28,
   "metadata": {},
   "outputs": [
    {
     "name": "stdout",
     "output_type": "stream",
     "text": [
      "0.24204359505489248\n",
      "0.6037546953055719\n",
      "0.45194372315337805\n",
      "0.10473547824492158\n",
      "0.1831015135731493\n",
      "0.3688820489256749\n",
      "0.522965110106985\n",
      "0.41943868777966764\n",
      "0.18753479632118197\n",
      "0.7475730394481362\n"
     ]
    }
   ],
   "source": [
    "# random 무작위 숫자 추출 모듈\n",
    "import random\n",
    "# random.random() : 무작위 숫자(소숫점 포함) 생성\n",
    "# 0.0 이상 1.0 미만 무작위 수 10개 생성\n",
    "for i in range(10):\n",
    "    x=random.random()\n",
    "    print(x)"
   ]
  },
  {
   "cell_type": "code",
   "execution_count": 33,
   "metadata": {},
   "outputs": [
    {
     "data": {
      "text/plain": [
       "10"
      ]
     },
     "execution_count": 33,
     "metadata": {},
     "output_type": "execute_result"
    }
   ],
   "source": [
    "# random.randit() : 무작위 정수 반환\n",
    "# random.randit(low, high) : low이상 high이하 무작위 정수 반환\n",
    "random.randint(5,10)"
   ]
  },
  {
   "cell_type": "code",
   "execution_count": 35,
   "metadata": {},
   "outputs": [
    {
     "data": {
      "text/plain": [
       "2"
      ]
     },
     "execution_count": 35,
     "metadata": {},
     "output_type": "execute_result"
    }
   ],
   "source": [
    "# random.choice() : 정해진 범주의 여러 수 중 임의로 하나를 선택\n",
    "t=[1,2,3]\n",
    "random.choice(t) "
   ]
  }
 ],
 "metadata": {
  "kernelspec": {
   "display_name": "Python 3",
   "language": "python",
   "name": "python3"
  },
  "language_info": {
   "codemirror_mode": {
    "name": "ipython",
    "version": 3
   },
   "file_extension": ".py",
   "mimetype": "text/x-python",
   "name": "python",
   "nbconvert_exporter": "python",
   "pygments_lexer": "ipython3",
   "version": "3.8.5"
  }
 },
 "nbformat": 4,
 "nbformat_minor": 4
}
