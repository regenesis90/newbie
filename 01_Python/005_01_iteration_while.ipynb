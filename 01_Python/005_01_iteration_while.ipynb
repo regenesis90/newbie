{
 "cells": [
  {
   "cell_type": "markdown",
   "metadata": {},
   "source": [
    "# iteration : While"
   ]
  },
  {
   "cell_type": "markdown",
   "metadata": {},
   "source": [
    "while 조건식 : 조건식이 참일 경우에 실행할 블록(문장들)"
   ]
  },
  {
   "cell_type": "markdown",
   "metadata": {},
   "source": [
    "### 문제1. 카운트다운 \n"
   ]
  },
  {
   "cell_type": "code",
   "execution_count": 1,
   "metadata": {
    "execution": {
     "iopub.execute_input": "2022-05-17T04:43:57.493742Z",
     "iopub.status.busy": "2022-05-17T04:43:57.493742Z",
     "iopub.status.idle": "2022-05-17T04:43:57.514431Z",
     "shell.execute_reply": "2022-05-17T04:43:57.512436Z",
     "shell.execute_reply.started": "2022-05-17T04:43:57.493742Z"
    },
    "tags": []
   },
   "outputs": [
    {
     "name": "stdout",
     "output_type": "stream",
     "text": [
      "5\n",
      "4\n",
      "3\n",
      "2\n",
      "1\n",
      "Blasoff!\n"
     ]
    }
   ],
   "source": [
    "n = 5\n",
    "\n",
    "while n > 0: #~n>0일 때까지.\n",
    "    print(n)\n",
    "    n = n-1 #n=0이 되면 종료\n",
    "    \n",
    "print('Blasoff!') #n=0으로 위 while문 종료 후 출력"
   ]
  },
  {
   "cell_type": "markdown",
   "metadata": {},
   "source": [
    "### 문제2. while loop 작성하여, 다음과 같이 출력하는 결과물 작성\n",
    "```\n",
    "*\n",
    "**\n",
    "***\n",
    "****\n",
    "*****\n",
    "```"
   ]
  },
  {
   "cell_type": "code",
   "execution_count": 2,
   "metadata": {
    "execution": {
     "iopub.execute_input": "2022-05-17T04:44:09.518007Z",
     "iopub.status.busy": "2022-05-17T04:44:09.518007Z",
     "iopub.status.idle": "2022-05-17T04:44:09.535910Z",
     "shell.execute_reply": "2022-05-17T04:44:09.534914Z",
     "shell.execute_reply.started": "2022-05-17T04:44:09.518007Z"
    },
    "tags": []
   },
   "outputs": [
    {
     "name": "stdout",
     "output_type": "stream",
     "text": [
      "*\n",
      "**\n",
      "***\n",
      "****\n",
      "*****\n"
     ]
    }
   ],
   "source": [
    "n = 1\n",
    "\n",
    "while n <= 5:\n",
    "    print(n * '*')\n",
    "    n += 1"
   ]
  },
  {
   "cell_type": "markdown",
   "metadata": {},
   "source": [
    "### 문제 3. while loop 사용, 구구단 2단 출력\n",
    "```\n",
    "2x1=2\n",
    "2x2=4\n",
    "...\n",
    "2x9=18\n",
    "```"
   ]
  },
  {
   "cell_type": "code",
   "execution_count": 3,
   "metadata": {
    "execution": {
     "iopub.execute_input": "2022-05-17T04:44:20.197890Z",
     "iopub.status.busy": "2022-05-17T04:44:20.197890Z",
     "iopub.status.idle": "2022-05-17T04:44:20.216827Z",
     "shell.execute_reply": "2022-05-17T04:44:20.215867Z",
     "shell.execute_reply.started": "2022-05-17T04:44:20.197890Z"
    },
    "tags": []
   },
   "outputs": [
    {
     "name": "stdout",
     "output_type": "stream",
     "text": [
      "2 x 1 = 2\n",
      "2 x 2 = 4\n",
      "2 x 3 = 6\n",
      "2 x 4 = 8\n",
      "2 x 5 = 10\n",
      "2 x 6 = 12\n",
      "2 x 7 = 14\n",
      "2 x 8 = 16\n",
      "2 x 9 = 18\n"
     ]
    }
   ],
   "source": [
    "n = 1\n",
    "while n <= 9:\n",
    "    print(f'2 x {n} = {2 * n}')\n",
    "    n += 1"
   ]
  },
  {
   "cell_type": "markdown",
   "metadata": {},
   "source": [
    "### 문제 4. while loop 사용, 1이상 10이하 홀수 출력\n",
    "``` 1 3 5 7 9```"
   ]
  },
  {
   "cell_type": "code",
   "execution_count": 4,
   "metadata": {
    "execution": {
     "iopub.execute_input": "2022-05-17T04:44:38.933729Z",
     "iopub.status.busy": "2022-05-17T04:44:38.933729Z",
     "iopub.status.idle": "2022-05-17T04:44:38.948274Z",
     "shell.execute_reply": "2022-05-17T04:44:38.946224Z",
     "shell.execute_reply.started": "2022-05-17T04:44:38.933729Z"
    },
    "tags": []
   },
   "outputs": [
    {
     "name": "stdout",
     "output_type": "stream",
     "text": [
      "1 3 5 7 9 "
     ]
    }
   ],
   "source": [
    "n = 1\n",
    "\n",
    "while n <= 10:\n",
    "    if n % 2 == 1:\n",
    "        print(n, end = ' ')\n",
    "        n += 1\n",
    "        \n",
    "    else:\n",
    "        n+=1"
   ]
  },
  {
   "cell_type": "code",
   "execution_count": 7,
   "metadata": {
    "execution": {
     "iopub.execute_input": "2022-05-17T04:45:06.813056Z",
     "iopub.status.busy": "2022-05-17T04:45:06.813056Z",
     "iopub.status.idle": "2022-05-17T04:45:06.833058Z",
     "shell.execute_reply": "2022-05-17T04:45:06.832065Z",
     "shell.execute_reply.started": "2022-05-17T04:45:06.813056Z"
    },
    "tags": []
   },
   "outputs": [
    {
     "name": "stdout",
     "output_type": "stream",
     "text": [
      "2 4 6 8 10 "
     ]
    }
   ],
   "source": [
    "n = 0\n",
    "\n",
    "while n < 5:\n",
    "    print(2 * (n+1), end = ' ')\n",
    "    n += 1"
   ]
  },
  {
   "cell_type": "markdown",
   "metadata": {},
   "source": [
    "### 문제 5. while loop 사용, 구구단 2~9단 출력하기\n",
    "```\n",
    "--- 2단 ---\n",
    "2 x 1 = 2\n",
    "2 x 2 = 4\n",
    "...\n",
    "2 x 9 = 18\n",
    "--- 3단 ---\n",
    "...\n",
    "9 x 8 = 72\n",
    "9 x 9 = 81\n",
    "```"
   ]
  },
  {
   "cell_type": "code",
   "execution_count": 8,
   "metadata": {
    "execution": {
     "iopub.execute_input": "2022-05-17T04:45:34.829508Z",
     "iopub.status.busy": "2022-05-17T04:45:34.829508Z",
     "iopub.status.idle": "2022-05-17T04:45:34.852969Z",
     "shell.execute_reply": "2022-05-17T04:45:34.851971Z",
     "shell.execute_reply.started": "2022-05-17T04:45:34.829508Z"
    },
    "tags": []
   },
   "outputs": [
    {
     "name": "stdout",
     "output_type": "stream",
     "text": [
      "-- 2단 --\n",
      "2 x 1 = 2\n",
      "2 x 2 = 4\n",
      "2 x 3 = 6\n",
      "2 x 4 = 8\n",
      "2 x 5 = 10\n",
      "2 x 6 = 12\n",
      "2 x 7 = 14\n",
      "2 x 8 = 16\n",
      "2 x 9 = 18\n",
      "\n",
      "-- 3단 --\n",
      "3 x 1 = 3\n",
      "3 x 2 = 6\n",
      "3 x 3 = 9\n",
      "3 x 4 = 12\n",
      "3 x 5 = 15\n",
      "3 x 6 = 18\n",
      "3 x 7 = 21\n",
      "3 x 8 = 24\n",
      "3 x 9 = 27\n",
      "\n",
      "-- 4단 --\n",
      "4 x 1 = 4\n",
      "4 x 2 = 8\n",
      "4 x 3 = 12\n",
      "4 x 4 = 16\n",
      "4 x 5 = 20\n",
      "4 x 6 = 24\n",
      "4 x 7 = 28\n",
      "4 x 8 = 32\n",
      "4 x 9 = 36\n",
      "\n",
      "-- 5단 --\n",
      "5 x 1 = 5\n",
      "5 x 2 = 10\n",
      "5 x 3 = 15\n",
      "5 x 4 = 20\n",
      "5 x 5 = 25\n",
      "5 x 6 = 30\n",
      "5 x 7 = 35\n",
      "5 x 8 = 40\n",
      "5 x 9 = 45\n",
      "\n",
      "-- 6단 --\n",
      "6 x 1 = 6\n",
      "6 x 2 = 12\n",
      "6 x 3 = 18\n",
      "6 x 4 = 24\n",
      "6 x 5 = 30\n",
      "6 x 6 = 36\n",
      "6 x 7 = 42\n",
      "6 x 8 = 48\n",
      "6 x 9 = 54\n",
      "\n",
      "-- 7단 --\n",
      "7 x 1 = 7\n",
      "7 x 2 = 14\n",
      "7 x 3 = 21\n",
      "7 x 4 = 28\n",
      "7 x 5 = 35\n",
      "7 x 6 = 42\n",
      "7 x 7 = 49\n",
      "7 x 8 = 56\n",
      "7 x 9 = 63\n",
      "\n",
      "-- 8단 --\n",
      "8 x 1 = 8\n",
      "8 x 2 = 16\n",
      "8 x 3 = 24\n",
      "8 x 4 = 32\n",
      "8 x 5 = 40\n",
      "8 x 6 = 48\n",
      "8 x 7 = 56\n",
      "8 x 8 = 64\n",
      "8 x 9 = 72\n",
      "\n",
      "-- 9단 --\n",
      "9 x 1 = 9\n",
      "9 x 2 = 18\n",
      "9 x 3 = 27\n",
      "9 x 4 = 36\n",
      "9 x 5 = 45\n",
      "9 x 6 = 54\n",
      "9 x 7 = 63\n",
      "9 x 8 = 72\n",
      "9 x 9 = 81\n",
      "\n"
     ]
    }
   ],
   "source": [
    "dan = 2\n",
    "\n",
    "while dan <= 9:\n",
    "    print(f'-- {dan}단 --')\n",
    "    i = 1\n",
    "    \n",
    "    while i <= 9:\n",
    "        print(f'{dan} x {i} = {dan * i}')\n",
    "        i += 1\n",
    "    print()\n",
    "    \n",
    "    dan += 1"
   ]
  }
 ],
 "metadata": {
  "kernelspec": {
   "display_name": "Python 3",
   "language": "python",
   "name": "python3"
  },
  "language_info": {
   "codemirror_mode": {
    "name": "ipython",
    "version": 3
   },
   "file_extension": ".py",
   "mimetype": "text/x-python",
   "name": "python",
   "nbconvert_exporter": "python",
   "pygments_lexer": "ipython3",
   "version": "3.8.8"
  }
 },
 "nbformat": 4,
 "nbformat_minor": 4
}
