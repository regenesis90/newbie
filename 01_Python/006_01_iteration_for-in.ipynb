{
 "cells": [
  {
   "cell_type": "code",
   "execution_count": 1,
   "metadata": {
    "execution": {
     "iopub.execute_input": "2022-05-17T05:20:31.168704Z",
     "iopub.status.busy": "2022-05-17T05:20:31.168202Z",
     "iopub.status.idle": "2022-05-17T05:20:38.575012Z",
     "shell.execute_reply": "2022-05-17T05:20:38.574042Z",
     "shell.execute_reply.started": "2022-05-17T05:20:31.168704Z"
    },
    "tags": []
   },
   "outputs": [
    {
     "name": "stdin",
     "output_type": "stream",
     "text": [
      "이름을 입력해주세요1: Miri\n",
      "이름을 입력해주세요2: Sara\n",
      "이름을 입력해주세요3: Hara\n"
     ]
    },
    {
     "name": "stdout",
     "output_type": "stream",
     "text": [
      "Happy New Year! Miri\n",
      "Happy New Year! Sara\n",
      "Happy New Year! Hara\n",
      "Done!\n"
     ]
    }
   ],
   "source": [
    "friends = [input('이름을 입력해주세요1:'), input('이름을 입력해주세요2:'), input('이름을 입력해주세요3:')]\n",
    "\n",
    "for friend in friends:\n",
    "    print(f'Happy New Year! {friend}')\n",
    "\n",
    "print('Done!')"
   ]
  },
  {
   "cell_type": "code",
   "execution_count": 2,
   "metadata": {
    "execution": {
     "iopub.execute_input": "2022-05-17T05:20:53.498015Z",
     "iopub.status.busy": "2022-05-17T05:20:53.498015Z",
     "iopub.status.idle": "2022-05-17T05:20:53.512976Z",
     "shell.execute_reply": "2022-05-17T05:20:53.511977Z",
     "shell.execute_reply.started": "2022-05-17T05:20:53.498015Z"
    },
    "tags": []
   },
   "outputs": [
    {
     "name": "stdout",
     "output_type": "stream",
     "text": [
      "Total:117\n"
     ]
    }
   ],
   "source": [
    "total = 0\n",
    "\n",
    "for itervar in [3, 4, 2, 12, 84, 12]:\n",
    "    total = total + itervar\n",
    "    \n",
    "print(f'Total:{total}')"
   ]
  },
  {
   "cell_type": "code",
   "execution_count": 3,
   "metadata": {
    "execution": {
     "iopub.execute_input": "2022-05-17T05:21:24.363191Z",
     "iopub.status.busy": "2022-05-17T05:21:24.362193Z",
     "iopub.status.idle": "2022-05-17T05:21:24.375158Z",
     "shell.execute_reply": "2022-05-17T05:21:24.374191Z",
     "shell.execute_reply.started": "2022-05-17T05:21:24.363191Z"
    },
    "tags": []
   },
   "outputs": [
    {
     "name": "stdout",
     "output_type": "stream",
     "text": [
      "Before:None\n",
      "Loop:20, 20\n",
      "Loop:301, 301\n",
      "Loop:3024, 3024\n",
      "Loop:14328903, 14328903\n",
      "Largest: 14328903\n"
     ]
    }
   ],
   "source": [
    "largest = None\n",
    "\n",
    "print(f'Before:{largest}')\n",
    "\n",
    "for itervar in [20, 301, 3024, 14328903, 39393,2342341]:\n",
    "      if largest is None or itervar > largest:\n",
    "            largest = itervar\n",
    "            print(f'Loop:{itervar}, {largest}')\n",
    "\n",
    "print(f'Largest: {largest}')"
   ]
  },
  {
   "cell_type": "code",
   "execution_count": 5,
   "metadata": {
    "execution": {
     "iopub.execute_input": "2022-05-17T05:21:54.295135Z",
     "iopub.status.busy": "2022-05-17T05:21:54.294633Z",
     "iopub.status.idle": "2022-05-17T05:21:54.314780Z",
     "shell.execute_reply": "2022-05-17T05:21:54.313772Z",
     "shell.execute_reply.started": "2022-05-17T05:21:54.295135Z"
    },
    "tags": []
   },
   "outputs": [
    {
     "name": "stdout",
     "output_type": "stream",
     "text": [
      "Before:None\n",
      "Loop:3, 3\n",
      "Loop:41, 3\n",
      "Loop:12, 3\n",
      "Loop:9, 3\n",
      "Loop:74, 3\n",
      "Loop:15, 3\n",
      "Smallest:3\n"
     ]
    }
   ],
   "source": [
    "smallest = None\n",
    "\n",
    "print(f'Before:{smallest}')\n",
    "\n",
    "for itervar in [3, 41, 12, 9, 74, 15]:\n",
    "    if smallest is None or itervar < smallest:\n",
    "        smallest = itervar\n",
    "\n",
    "    print(f'Loop:{itervar}, {smallest}')\n",
    "\n",
    "print(f'Smallest:{smallest}')"
   ]
  },
  {
   "cell_type": "markdown",
   "metadata": {},
   "source": [
    "# 반복문(iteration) For\n",
    "\n",
    "## for 변수 in 반복실행블록\n",
    "\n",
    "* 반복 가능한 데이터 타입(iterable-type) : range, list, tuple, dict, set, str, ..."
   ]
  },
  {
   "cell_type": "code",
   "execution_count": 6,
   "metadata": {
    "execution": {
     "iopub.execute_input": "2022-05-17T05:22:03.003226Z",
     "iopub.status.busy": "2022-05-17T05:22:03.003226Z",
     "iopub.status.idle": "2022-05-17T05:22:03.011227Z",
     "shell.execute_reply": "2022-05-17T05:22:03.010206Z",
     "shell.execute_reply.started": "2022-05-17T05:22:03.003226Z"
    },
    "tags": []
   },
   "outputs": [
    {
     "name": "stdout",
     "output_type": "stream",
     "text": [
      "H\n",
      "e\n",
      "l\n",
      "l\n",
      "o\n"
     ]
    }
   ],
   "source": [
    "string = 'Hello'\n",
    "\n",
    "for x in string:\n",
    "    print(x)"
   ]
  },
  {
   "cell_type": "code",
   "execution_count": 7,
   "metadata": {
    "execution": {
     "iopub.execute_input": "2022-05-17T05:22:09.762130Z",
     "iopub.status.busy": "2022-05-17T05:22:09.761626Z",
     "iopub.status.idle": "2022-05-17T05:22:14.276326Z",
     "shell.execute_reply": "2022-05-17T05:22:14.275354Z",
     "shell.execute_reply.started": "2022-05-17T05:22:09.762130Z"
    },
    "tags": []
   },
   "outputs": [
    {
     "name": "stdin",
     "output_type": "stream",
     "text": [
      "문자를 입력해 주세요:> 마시쪙\n"
     ]
    },
    {
     "name": "stdout",
     "output_type": "stream",
     "text": [
      "마\n",
      "시\n",
      "쪙\n"
     ]
    }
   ],
   "source": [
    "string = input('문자를 입력해 주세요:>')\n",
    "\n",
    "for x in string:\n",
    "    print(x)"
   ]
  },
  {
   "cell_type": "markdown",
   "metadata": {},
   "source": [
    "* `range(a,b)` : a이상 b미만(a,b] 에서 1씩 증가하는 정수들의 범위.\n",
    "* `range(b)` : 0으로부터 b미만까지 1씩 증가하는 정수들의 범위\n",
    "* `range(a,b,c)` : a이상 b미만까지 c씩 증가하는 정수들의 범위\n",
    "* `for x in range(1,6)` : (1,2,3,4,5) 가 될 것이다."
   ]
  },
  {
   "cell_type": "code",
   "execution_count": 8,
   "metadata": {
    "execution": {
     "iopub.execute_input": "2022-05-17T05:22:44.219630Z",
     "iopub.status.busy": "2022-05-17T05:22:44.219630Z",
     "iopub.status.idle": "2022-05-17T05:22:44.232623Z",
     "shell.execute_reply": "2022-05-17T05:22:44.232623Z",
     "shell.execute_reply.started": "2022-05-17T05:22:44.219630Z"
    },
    "tags": []
   },
   "outputs": [
    {
     "name": "stdout",
     "output_type": "stream",
     "text": [
      "1\n",
      "4\n",
      "7\n"
     ]
    }
   ],
   "source": [
    "for x in range(1, 10, 3):\n",
    "    print(x)"
   ]
  },
  {
   "cell_type": "code",
   "execution_count": 9,
   "metadata": {
    "execution": {
     "iopub.execute_input": "2022-05-17T05:22:45.160147Z",
     "iopub.status.busy": "2022-05-17T05:22:45.159155Z",
     "iopub.status.idle": "2022-05-17T05:22:45.177649Z",
     "shell.execute_reply": "2022-05-17T05:22:45.176641Z",
     "shell.execute_reply.started": "2022-05-17T05:22:45.160147Z"
    },
    "tags": []
   },
   "outputs": [
    {
     "name": "stdout",
     "output_type": "stream",
     "text": [
      "0\n",
      "1\n",
      "2\n",
      "3\n",
      "4\n"
     ]
    }
   ],
   "source": [
    "for x in range(5):\n",
    "    print(x)"
   ]
  },
  {
   "cell_type": "code",
   "execution_count": 10,
   "metadata": {
    "execution": {
     "iopub.execute_input": "2022-05-17T05:22:52.107631Z",
     "iopub.status.busy": "2022-05-17T05:22:52.107631Z",
     "iopub.status.idle": "2022-05-17T05:22:52.112641Z",
     "shell.execute_reply": "2022-05-17T05:22:52.112641Z",
     "shell.execute_reply.started": "2022-05-17T05:22:52.107631Z"
    },
    "tags": []
   },
   "outputs": [
    {
     "name": "stdout",
     "output_type": "stream",
     "text": [
      "0\n",
      "2\n",
      "4\n",
      "6\n",
      "8\n"
     ]
    }
   ],
   "source": [
    "# 0 이상 10 미만의 짝수들만 출력하기\n",
    "for x in range(0, 10):\n",
    "    if x % 2 == 0:\n",
    "        print(x)"
   ]
  },
  {
   "cell_type": "code",
   "execution_count": 11,
   "metadata": {
    "execution": {
     "iopub.execute_input": "2022-05-17T05:22:55.912021Z",
     "iopub.status.busy": "2022-05-17T05:22:55.912021Z",
     "iopub.status.idle": "2022-05-17T05:22:55.928001Z",
     "shell.execute_reply": "2022-05-17T05:22:55.926014Z",
     "shell.execute_reply.started": "2022-05-17T05:22:55.912021Z"
    },
    "tags": []
   },
   "outputs": [
    {
     "name": "stdout",
     "output_type": "stream",
     "text": [
      "0\n",
      "2\n",
      "4\n",
      "6\n",
      "8\n"
     ]
    }
   ],
   "source": [
    "for x in range(0, 5):\n",
    "    print(2 * x)"
   ]
  },
  {
   "cell_type": "markdown",
   "metadata": {},
   "source": [
    "## print()의 인수 :\n",
    "\n",
    "* `end='\\n'` : 줄바꿈(enter)이 기본값\n",
    "* `sep='` ': 공백(space) 1개가 기본값.\n",
    "* `\\n` : new line. 줄바꿈. 키보드의 Enter.\n",
    "* `\\t` : tabl. 탭. 키보드의 탭. 거리가 일정함\n",
    "* ` ` : space. 공백."
   ]
  },
  {
   "cell_type": "markdown",
   "metadata": {},
   "source": [
    "## 문제1 : 동요 부르기\n",
    "```\n",
    "1 little 2 little 3 little indian\n",
    "4 little 5 little 6 little indian\n",
    "7 little 8 little 9 little indian\n",
    "10 little indian boys!\n",
    "```"
   ]
  },
  {
   "cell_type": "code",
   "execution_count": 12,
   "metadata": {
    "execution": {
     "iopub.execute_input": "2022-05-17T05:23:48.668660Z",
     "iopub.status.busy": "2022-05-17T05:23:48.667664Z",
     "iopub.status.idle": "2022-05-17T05:23:48.685614Z",
     "shell.execute_reply": "2022-05-17T05:23:48.685614Z",
     "shell.execute_reply.started": "2022-05-17T05:23:48.668660Z"
    },
    "tags": []
   },
   "outputs": [
    {
     "name": "stdout",
     "output_type": "stream",
     "text": [
      "1 little 2 little 3 little \n",
      "4 little 5 little 6 little \n",
      "7 little 8 little 9 little \n",
      "10 little indian boys!\n"
     ]
    }
   ],
   "source": [
    "for x in range(1, 11):\n",
    "    print(f'{x} little', end = ' ')\n",
    "    \n",
    "    if x % 3 == 0:\n",
    "        print()\n",
    "        \n",
    "print('indian boys!')"
   ]
  },
  {
   "cell_type": "markdown",
   "metadata": {},
   "source": [
    "## 문제2. 369 게임\n",
    "```\n",
    "1 2 * 4 5 * 7 8 * 10\n",
    "11 12 * 14 15 * 17 18 * 20\n",
    "....\n",
    "81 82 * 84 85 * 87 88 * *\n",
    "* * * * * * * * * 100\n",
    "```"
   ]
  },
  {
   "cell_type": "code",
   "execution_count": 13,
   "metadata": {
    "execution": {
     "iopub.execute_input": "2022-05-17T05:24:27.259153Z",
     "iopub.status.busy": "2022-05-17T05:24:27.259153Z",
     "iopub.status.idle": "2022-05-17T05:24:27.283087Z",
     "shell.execute_reply": "2022-05-17T05:24:27.282120Z",
     "shell.execute_reply.started": "2022-05-17T05:24:27.259153Z"
    },
    "tags": []
   },
   "outputs": [
    {
     "name": "stdout",
     "output_type": "stream",
     "text": [
      "1\t2\t*\t4\t5\t*\t7\t8\t*\t10\t\n",
      "11\t12\t*\t14\t15\t*\t17\t18\t*\t20\t\n",
      "21\t22\t*\t24\t25\t*\t27\t28\t*\t*\t\n",
      "*\t*\t*\t*\t*\t*\t*\t*\t*\t40\t\n",
      "41\t42\t*\t44\t45\t*\t47\t48\t*\t50\t\n",
      "51\t52\t*\t54\t55\t*\t57\t58\t*\t*\t\n",
      "*\t*\t*\t*\t*\t*\t*\t*\t*\t70\t\n",
      "71\t72\t*\t74\t75\t*\t77\t78\t*\t80\t\n",
      "81\t82\t*\t84\t85\t*\t87\t88\t*\t*\t\n",
      "*\t*\t*\t*\t*\t*\t*\t*\t*\t100\t\n"
     ]
    }
   ],
   "source": [
    "for x in range(1, 101):\n",
    "    \n",
    "    if x % 10 in (3, 6, 9) or x // 10 in (3, 6, 9):\n",
    "        print('*', end = '\\t')\n",
    "        \n",
    "    else:\n",
    "        print(x,  end = '\\t')\n",
    "        \n",
    "    if x % 10 == 0:\n",
    "        print()"
   ]
  },
  {
   "cell_type": "markdown",
   "metadata": {},
   "source": [
    "## 문제3 : 삼각형 그리기"
   ]
  },
  {
   "cell_type": "code",
   "execution_count": 14,
   "metadata": {
    "execution": {
     "iopub.execute_input": "2022-05-17T05:24:40.371524Z",
     "iopub.status.busy": "2022-05-17T05:24:40.371524Z",
     "iopub.status.idle": "2022-05-17T05:24:40.391452Z",
     "shell.execute_reply": "2022-05-17T05:24:40.389462Z",
     "shell.execute_reply.started": "2022-05-17T05:24:40.371524Z"
    },
    "tags": []
   },
   "outputs": [
    {
     "name": "stdout",
     "output_type": "stream",
     "text": [
      "*\n",
      "**\n",
      "***\n",
      "****\n",
      "*****\n",
      "****\n",
      "***\n",
      "**\n",
      "*\n"
     ]
    }
   ],
   "source": [
    "for x in range(1, 10):\n",
    "    if x <= 5:\n",
    "        print('*' * x)\n",
    "        \n",
    "    else:\n",
    "        print('*' * (10 - x))"
   ]
  },
  {
   "cell_type": "markdown",
   "metadata": {},
   "source": [
    "## 문제4 : 구구단 1~9단 출력\n",
    "2x1=2\n",
    "2x2=4\n",
    "...\n",
    "9x9=81"
   ]
  },
  {
   "cell_type": "code",
   "execution_count": 15,
   "metadata": {
    "execution": {
     "iopub.execute_input": "2022-05-17T05:24:57.745234Z",
     "iopub.status.busy": "2022-05-17T05:24:57.745234Z",
     "iopub.status.idle": "2022-05-17T05:24:57.765184Z",
     "shell.execute_reply": "2022-05-17T05:24:57.765184Z",
     "shell.execute_reply.started": "2022-05-17T05:24:57.745234Z"
    },
    "tags": []
   },
   "outputs": [
    {
     "name": "stdout",
     "output_type": "stream",
     "text": [
      "2 x 1 = 2\t3 x 1 = 3\t4 x 1 = 4\t5 x 1 = 5\t6 x 1 = 6\t7 x 1 = 7\t8 x 1 = 8\t9 x 1 = 9\t\n",
      "2 x 2 = 4\t3 x 2 = 6\t4 x 2 = 8\t5 x 2 = 10\t6 x 2 = 12\t7 x 2 = 14\t8 x 2 = 16\t9 x 2 = 18\t\n",
      "2 x 3 = 6\t3 x 3 = 9\t4 x 3 = 12\t5 x 3 = 15\t6 x 3 = 18\t7 x 3 = 21\t8 x 3 = 24\t9 x 3 = 27\t\n",
      "2 x 4 = 8\t3 x 4 = 12\t4 x 4 = 16\t5 x 4 = 20\t6 x 4 = 24\t7 x 4 = 28\t8 x 4 = 32\t9 x 4 = 36\t\n",
      "2 x 5 = 10\t3 x 5 = 15\t4 x 5 = 20\t5 x 5 = 25\t6 x 5 = 30\t7 x 5 = 35\t8 x 5 = 40\t9 x 5 = 45\t\n",
      "2 x 6 = 12\t3 x 6 = 18\t4 x 6 = 24\t5 x 6 = 30\t6 x 6 = 36\t7 x 6 = 42\t8 x 6 = 48\t9 x 6 = 54\t\n",
      "2 x 7 = 14\t3 x 7 = 21\t4 x 7 = 28\t5 x 7 = 35\t6 x 7 = 42\t7 x 7 = 49\t8 x 7 = 56\t9 x 7 = 63\t\n",
      "2 x 8 = 16\t3 x 8 = 24\t4 x 8 = 32\t5 x 8 = 40\t6 x 8 = 48\t7 x 8 = 56\t8 x 8 = 64\t9 x 8 = 72\t\n",
      "2 x 9 = 18\t3 x 9 = 27\t4 x 9 = 36\t5 x 9 = 45\t6 x 9 = 54\t7 x 9 = 63\t8 x 9 = 72\t9 x 9 = 81\t\n"
     ]
    }
   ],
   "source": [
    "for x in range(1, 10):\n",
    "    for dan in range(2, 10):\n",
    "        print(f'{dan} x {x} = {dan * x}', end = '\\t')\n",
    "        \n",
    "    print()"
   ]
  },
  {
   "cell_type": "markdown",
   "metadata": {},
   "source": [
    "## 문제5 : 구구단 1~9단 출력 변형\n",
    "```\n",
    "2x1=2 2x2=4\n",
    "3x1=3 3x2=6 3x3=9\n",
    "\n",
    "...\n",
    "9x1=9 9x2=18 .... 9x9=81\n",
    "```"
   ]
  },
  {
   "cell_type": "code",
   "execution_count": 16,
   "metadata": {
    "execution": {
     "iopub.execute_input": "2022-05-17T05:25:22.420262Z",
     "iopub.status.busy": "2022-05-17T05:25:22.420262Z",
     "iopub.status.idle": "2022-05-17T05:25:22.442204Z",
     "shell.execute_reply": "2022-05-17T05:25:22.441210Z",
     "shell.execute_reply.started": "2022-05-17T05:25:22.420262Z"
    },
    "tags": []
   },
   "outputs": [
    {
     "name": "stdout",
     "output_type": "stream",
     "text": [
      "2 x 1 = 2\t2 x 2 = 4\t\n",
      "3 x 1 = 3\t3 x 2 = 6\t3 x 3 = 9\t\n",
      "4 x 1 = 4\t4 x 2 = 8\t4 x 3 = 12\t4 x 4 = 16\t\n",
      "5 x 1 = 5\t5 x 2 = 10\t5 x 3 = 15\t5 x 4 = 20\t5 x 5 = 25\t\n",
      "6 x 1 = 6\t6 x 2 = 12\t6 x 3 = 18\t6 x 4 = 24\t6 x 5 = 30\t6 x 6 = 36\t\n",
      "7 x 1 = 7\t7 x 2 = 14\t7 x 3 = 21\t7 x 4 = 28\t7 x 5 = 35\t7 x 6 = 42\t7 x 7 = 49\t\n",
      "8 x 1 = 8\t8 x 2 = 16\t8 x 3 = 24\t8 x 4 = 32\t8 x 5 = 40\t8 x 6 = 48\t8 x 7 = 56\t8 x 8 = 64\t\n",
      "9 x 1 = 9\t9 x 2 = 18\t9 x 3 = 27\t9 x 4 = 36\t9 x 5 = 45\t9 x 6 = 54\t9 x 7 = 63\t9 x 8 = 72\t9 x 9 = 81\t\n"
     ]
    }
   ],
   "source": [
    "for dan in range(2, 10):\n",
    "    for x in range(1, dan+1):\n",
    "        print(f'{dan} x {x} = {dan * x}', end = '\\t')\n",
    "        \n",
    "    print()"
   ]
  },
  {
   "cell_type": "markdown",
   "metadata": {},
   "source": [
    "# Break, Continue\n",
    "\n",
    "* break : iteration 종료. break이 포함된 가장 가까운 반복문을 빠져나온다.\n",
    "* continue : (반복문 블록 내부 실행문 수행을 멈추고) 다음 iteration을 수행한다."
   ]
  },
  {
   "cell_type": "code",
   "execution_count": 17,
   "metadata": {
    "execution": {
     "iopub.execute_input": "2022-05-17T05:25:40.385790Z",
     "iopub.status.busy": "2022-05-17T05:25:40.385790Z",
     "iopub.status.idle": "2022-05-17T05:25:40.403747Z",
     "shell.execute_reply": "2022-05-17T05:25:40.402744Z",
     "shell.execute_reply.started": "2022-05-17T05:25:40.385790Z"
    },
    "tags": []
   },
   "outputs": [
    {
     "name": "stdout",
     "output_type": "stream",
     "text": [
      "2 x 1 = 2\t2 x 2 = 4\t\n",
      "3 x 1 = 3\t3 x 2 = 6\t3 x 3 = 9\t\n",
      "4 x 1 = 4\t4 x 2 = 8\t4 x 3 = 12\t4 x 4 = 16\t\n",
      "5 x 1 = 5\t5 x 2 = 10\t5 x 3 = 15\t5 x 4 = 20\t5 x 5 = 25\t\n",
      "6 x 1 = 6\t6 x 2 = 12\t6 x 3 = 18\t6 x 4 = 24\t6 x 5 = 30\t6 x 6 = 36\t\n",
      "7 x 1 = 7\t7 x 2 = 14\t7 x 3 = 21\t7 x 4 = 28\t7 x 5 = 35\t7 x 6 = 42\t7 x 7 = 49\t\n",
      "8 x 1 = 8\t8 x 2 = 16\t8 x 3 = 24\t8 x 4 = 32\t8 x 5 = 40\t8 x 6 = 48\t8 x 7 = 56\t8 x 8 = 64\t\n",
      "9 x 1 = 9\t9 x 2 = 18\t9 x 3 = 27\t9 x 4 = 36\t9 x 5 = 45\t9 x 6 = 54\t9 x 7 = 63\t9 x 8 = 72\t9 x 9 = 81\t\n"
     ]
    }
   ],
   "source": [
    "for dan in range(2, 10):\n",
    "    for x in range(1, 10):\n",
    "        print(f'{dan} x {x} = {dan * x}', end = '\\t')\n",
    "        \n",
    "        if dan == x:\n",
    "            break\n",
    "    print()"
   ]
  }
 ],
 "metadata": {
  "kernelspec": {
   "display_name": "Python 3",
   "language": "python",
   "name": "python3"
  },
  "language_info": {
   "codemirror_mode": {
    "name": "ipython",
    "version": 3
   },
   "file_extension": ".py",
   "mimetype": "text/x-python",
   "name": "python",
   "nbconvert_exporter": "python",
   "pygments_lexer": "ipython3",
   "version": "3.8.8"
  }
 },
 "nbformat": 4,
 "nbformat_minor": 4
}
