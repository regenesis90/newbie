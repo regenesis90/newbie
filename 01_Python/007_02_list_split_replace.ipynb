{
 "cells": [
  {
   "cell_type": "markdown",
   "metadata": {},
   "source": [
    "# .split(), .replace()\n",
    "\n",
    "#### 문자열A.split('x') : x로 문자열A를 쪼개어 만든 원소를 갖는 리스트를 생성\n",
    "#### 문자열A.replace('x','y')) : 문자열A에서 x가 y로 대체"
   ]
  },
  {
   "cell_type": "code",
   "execution_count": 13,
   "metadata": {},
   "outputs": [
    {
     "name": "stdout",
     "output_type": "stream",
     "text": [
      "['Ms.Andrea', 'Lloyd']\n",
      "Ms.Andrea-Lloyd\n"
     ]
    }
   ],
   "source": [
    "name='Ms.Andrea Lloyd'\n",
    "print(name.split(' '))\n",
    "print(name.replace(' ','-'))"
   ]
  }
 ],
 "metadata": {
  "kernelspec": {
   "display_name": "Python 3",
   "language": "python",
   "name": "python3"
  },
  "language_info": {
   "codemirror_mode": {
    "name": "ipython",
    "version": 3
   },
   "file_extension": ".py",
   "mimetype": "text/x-python",
   "name": "python",
   "nbconvert_exporter": "python",
   "pygments_lexer": "ipython3",
   "version": "3.8.5"
  }
 },
 "nbformat": 4,
 "nbformat_minor": 4
}
