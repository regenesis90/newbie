{
 "cells": [
  {
   "cell_type": "markdown",
   "metadata": {},
   "source": [
    "# n차원 리스트\n",
    "\n",
    "* 2차원 리스트 : 1차원 리스트를 원소로 갖는 리스트. 인덱스 2개 필요\n",
    "* 3차원 리스트 : 2차원 리스트를 원소로 갖는 리스트. 인덱스 3개 필요\n",
    "...\n",
    "* n차원 리스트 : (n-1)차원 리스트를 원소로 갖는 리스트. 인덱스 n개 필요"
   ]
  },
  {
   "cell_type": "markdown",
   "metadata": {},
   "source": [
    "### 2차원 리스트 : 1차원 리스트들을 원소로 갖는 리스트\n",
    "\n",
    "* matrix[i] : matrix의 i번째 인덱스의 원소. 리스트 형태이다.\n",
    "* matrix[i][j] : matrix의 i번째 인덱스의 j번째 인덱스. (i,j)=(행,열)로 간주해도 된다."
   ]
  },
  {
   "cell_type": "code",
   "execution_count": 1,
   "metadata": {
    "execution": {
     "iopub.execute_input": "2022-05-17T05:26:08.103023Z",
     "iopub.status.busy": "2022-05-17T05:26:08.103023Z",
     "iopub.status.idle": "2022-05-17T05:26:08.115382Z",
     "shell.execute_reply": "2022-05-17T05:26:08.114414Z",
     "shell.execute_reply.started": "2022-05-17T05:26:08.103023Z"
    },
    "tags": []
   },
   "outputs": [
    {
     "name": "stdout",
     "output_type": "stream",
     "text": [
      "[[1, 2, 3], [4, 5, 6], [7, 8, 9]]\n",
      "3\n",
      "matrix[0] = [1, 2, 3]\n",
      "matrix[0][0] = 1\n"
     ]
    }
   ],
   "source": [
    "# 2차원 리스트 matrix 만들기. \n",
    "matrix = [\n",
    "    [1, 2, 3],\n",
    "    [4, 5, 6],\n",
    "    [7, 8, 9]\n",
    "]\n",
    "\n",
    "print(matrix)\n",
    "print(len(matrix)) #> 원소의 개수 : 3\n",
    "\n",
    "print(f'matrix[0] = {matrix[0]}') #> [1,2,3]. matrix의 인덱스0인 원소. 리스트\n",
    "print(f'matrix[0][0] = {matrix[0][0]}') #> 1. matrix의 인덱스0인 리스트의 인덱스0째 원소. 값."
   ]
  },
  {
   "cell_type": "markdown",
   "metadata": {},
   "source": [
    "### 2차원 리스트와 for loop : 2차원 리스트를 행렬 형태로 출력하기"
   ]
  },
  {
   "cell_type": "code",
   "execution_count": 2,
   "metadata": {
    "execution": {
     "iopub.execute_input": "2022-05-17T05:26:21.338610Z",
     "iopub.status.busy": "2022-05-17T05:26:21.338610Z",
     "iopub.status.idle": "2022-05-17T05:26:21.345623Z",
     "shell.execute_reply": "2022-05-17T05:26:21.344619Z",
     "shell.execute_reply.started": "2022-05-17T05:26:21.338610Z"
    },
    "tags": []
   },
   "outputs": [
    {
     "name": "stdout",
     "output_type": "stream",
     "text": [
      "[1, 2, 3]\n",
      "[4, 5, 6]\n",
      "[7, 8, 9]\n"
     ]
    }
   ],
   "source": [
    "# 2차원 리스트 matrix의 각 원소(1차원 리스트)가 출력됨\n",
    "matrix = [\n",
    "    [1, 2, 3],\n",
    "    [4, 5, 6],\n",
    "    [7, 8, 9]\n",
    "]\n",
    "\n",
    "for row in matrix:\n",
    "    print(row) "
   ]
  },
  {
   "cell_type": "code",
   "execution_count": 3,
   "metadata": {
    "execution": {
     "iopub.execute_input": "2022-05-17T05:32:32.225182Z",
     "iopub.status.busy": "2022-05-17T05:32:32.224184Z",
     "iopub.status.idle": "2022-05-17T05:32:32.246131Z",
     "shell.execute_reply": "2022-05-17T05:32:32.244137Z",
     "shell.execute_reply.started": "2022-05-17T05:32:32.225182Z"
    },
    "tags": []
   },
   "outputs": [
    {
     "name": "stdout",
     "output_type": "stream",
     "text": [
      "1\t2\t3\t\n",
      "4\t5\t6\t\n",
      "7\t8\t9\t\n"
     ]
    }
   ],
   "source": [
    "# 2차원 리스트 matrix의 각 원소(1차원 리스트)가 출력됨\n",
    "matrix = [\n",
    "    [1, 2, 3],\n",
    "    [4, 5, 6],\n",
    "    [7, 8, 9]\n",
    "]\n",
    "\n",
    "for i in matrix:\n",
    "    for j in i:\n",
    "        print(j, end = '\\t') #각 i(row)의 j(원소)를 출력함\n",
    "\n",
    "    print() #각 i(row)가 끝날 때마다 줄바꿈(enter)"
   ]
  },
  {
   "cell_type": "code",
   "execution_count": 4,
   "metadata": {
    "execution": {
     "iopub.execute_input": "2022-05-17T05:32:46.411168Z",
     "iopub.status.busy": "2022-05-17T05:32:46.411168Z",
     "iopub.status.idle": "2022-05-17T05:32:46.423695Z",
     "shell.execute_reply": "2022-05-17T05:32:46.421736Z",
     "shell.execute_reply.started": "2022-05-17T05:32:46.411168Z"
    },
    "tags": []
   },
   "outputs": [
    {
     "name": "stdout",
     "output_type": "stream",
     "text": [
      "1\t2\t\n",
      "3\t4\t5\t6\t\n",
      "7\t8\t9\t\n"
     ]
    }
   ],
   "source": [
    "# matrix2는 2차원 리스트이다.\n",
    "# 2차원인 2개의 인덱스를 가지기 때문이다.\n",
    "matrix2 = [\n",
    "    [1, 2],\n",
    "    [3, 4, 5, 6],\n",
    "    [7, 8, 9]\n",
    "]\n",
    "\n",
    "for i in matrix2:\n",
    "    for j in i:\n",
    "        print(j, end = '\\t')\n",
    "\n",
    "    print()"
   ]
  },
  {
   "cell_type": "code",
   "execution_count": 5,
   "metadata": {
    "execution": {
     "iopub.execute_input": "2022-05-17T05:32:55.912603Z",
     "iopub.status.busy": "2022-05-17T05:32:55.912080Z",
     "iopub.status.idle": "2022-05-17T05:32:55.917644Z",
     "shell.execute_reply": "2022-05-17T05:32:55.916638Z",
     "shell.execute_reply.started": "2022-05-17T05:32:55.912080Z"
    },
    "tags": []
   },
   "outputs": [],
   "source": [
    "# cf1은 2차원 리스트가 아니다.\n",
    "# 왜? 어떤 원소들은 인덱스 2개를 갖지 못하기 때문이다.\n",
    "cf1 = [1, 2, 3, [1, 2, 3]]"
   ]
  },
  {
   "cell_type": "code",
   "execution_count": 7,
   "metadata": {
    "execution": {
     "iopub.execute_input": "2022-05-17T05:33:06.334488Z",
     "iopub.status.busy": "2022-05-17T05:33:06.334488Z",
     "iopub.status.idle": "2022-05-17T05:33:06.344462Z",
     "shell.execute_reply": "2022-05-17T05:33:06.343464Z",
     "shell.execute_reply.started": "2022-05-17T05:33:06.334488Z"
    },
    "tags": []
   },
   "outputs": [
    {
     "name": "stdout",
     "output_type": "stream",
     "text": [
      "[1, 2]\n",
      "[3, 4, 5, 6]\n",
      "[7, 8, 9]\n"
     ]
    }
   ],
   "source": [
    "matrix2 = [\n",
    "    [1, 2],\n",
    "    [3, 4, 5, 6],\n",
    "    [7, 8, 9]\n",
    "]\n",
    "\n",
    "for i in range(len(matrix2)):\n",
    "    print(matrix2[i])"
   ]
  },
  {
   "cell_type": "code",
   "execution_count": 8,
   "metadata": {
    "execution": {
     "iopub.execute_input": "2022-05-17T05:33:19.162089Z",
     "iopub.status.busy": "2022-05-17T05:33:19.161093Z",
     "iopub.status.idle": "2022-05-17T05:33:19.175054Z",
     "shell.execute_reply": "2022-05-17T05:33:19.173089Z",
     "shell.execute_reply.started": "2022-05-17T05:33:19.162089Z"
    },
    "tags": []
   },
   "outputs": [
    {
     "name": "stdout",
     "output_type": "stream",
     "text": [
      "1\t2\t\n",
      "3\t4\t5\t6\t\n",
      "7\t8\t9\t\n"
     ]
    }
   ],
   "source": [
    "matrix2 = [\n",
    "    [1, 2],\n",
    "    [3, 4, 5, 6],\n",
    "    [7, 8, 9]\n",
    "]\n",
    "\n",
    "for i in range(len(matrix2)): #> range(len(matrix2)) : len(matrix2) 의 길이. \n",
    "    for j in range(len(matrix2[i])):\n",
    "        print(matrix2[i][j], end = '\\t')\n",
    "\n",
    "    print()"
   ]
  },
  {
   "cell_type": "code",
   "execution_count": 9,
   "metadata": {
    "execution": {
     "iopub.execute_input": "2022-05-17T05:33:33.057069Z",
     "iopub.status.busy": "2022-05-17T05:33:33.057069Z",
     "iopub.status.idle": "2022-05-17T05:33:33.068040Z",
     "shell.execute_reply": "2022-05-17T05:33:33.067069Z",
     "shell.execute_reply.started": "2022-05-17T05:33:33.057069Z"
    },
    "tags": []
   },
   "outputs": [
    {
     "name": "stdout",
     "output_type": "stream",
     "text": [
      "1\t2\t\n",
      "3\t4\t5\t6\t\n",
      "7\t8\t9\t\n"
     ]
    }
   ],
   "source": [
    "matrix2 = [\n",
    "    [1, 2],\n",
    "    [3, 4, 5, 6],\n",
    "    [7, 8, 9]\n",
    "]\n",
    "\n",
    "for i,j in enumerate(matrix2):\n",
    "    for j,x in enumerate(j):\n",
    "        print(matrix2[i][j], end = '\\t')\n",
    "\n",
    "    print()"
   ]
  },
  {
   "cell_type": "code",
   "execution_count": 10,
   "metadata": {
    "execution": {
     "iopub.execute_input": "2022-05-17T05:33:38.897725Z",
     "iopub.status.busy": "2022-05-17T05:33:38.897725Z",
     "iopub.status.idle": "2022-05-17T05:33:38.914935Z",
     "shell.execute_reply": "2022-05-17T05:33:38.913362Z",
     "shell.execute_reply.started": "2022-05-17T05:33:38.897725Z"
    },
    "tags": []
   },
   "outputs": [
    {
     "name": "stdout",
     "output_type": "stream",
     "text": [
      "matrix2[0][0] = 1\n",
      "matrix2[0][1] = 2\n",
      "matrix2[1][0] = 3\n",
      "matrix2[1][1] = 4\n",
      "matrix2[1][2] = 5\n",
      "matrix2[1][3] = 6\n",
      "matrix2[2][0] = 7\n",
      "matrix2[2][1] = 8\n",
      "matrix2[2][2] = 9\n"
     ]
    }
   ],
   "source": [
    "for i,j in enumerate(matrix2):\n",
    "    for j,x in enumerate(j):\n",
    "        print(f'matrix2[{i}][{j}] = {x}')"
   ]
  }
 ],
 "metadata": {
  "kernelspec": {
   "display_name": "Python 3",
   "language": "python",
   "name": "python3"
  },
  "language_info": {
   "codemirror_mode": {
    "name": "ipython",
    "version": 3
   },
   "file_extension": ".py",
   "mimetype": "text/x-python",
   "name": "python",
   "nbconvert_exporter": "python",
   "pygments_lexer": "ipython3",
   "version": "3.8.8"
  }
 },
 "nbformat": 4,
 "nbformat_minor": 4
}
