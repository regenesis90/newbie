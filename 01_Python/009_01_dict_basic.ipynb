{
 "cells": [
  {
   "cell_type": "markdown",
   "metadata": {},
   "source": [
    "# dict : list 처럼 for loop 구문과 자주 사용된다."
   ]
  },
  {
   "cell_type": "markdown",
   "metadata": {},
   "source": [
    "## 1. dict={key1:value1, key2:value2, key3:value3, ...}"
   ]
  },
  {
   "cell_type": "markdown",
   "metadata": {},
   "source": [
    "* 사전(dictionary)\n",
    "* **원소들을 key:value 쌍으로 (mapping 시켜서) 저장하는 데이터 타입**\n",
    "* 단! key는 중복되지 않는 값이어야 함\n",
    "* key의 역할은 list나 tuple 에서 인덱스(index)와 같이, **\"유일한 한 개의 값\"**을 접근하기 위한 용도로 사용\n",
    "\n",
    "* list=[x,y,x]\n",
    "* tuple=(x,y,x)\n",
    "* dict={k1:x, k2:y, k3:z}\n",
    "\n",
    "튜플, 리스트, 딕트의 표현 방식은 다르다. 그러므로 괄호표현과 속성 이해에 주의를 기울여야 한다."
   ]
  },
  {
   "cell_type": "markdown",
   "metadata": {},
   "source": [
    "## 2. dict 사용 예"
   ]
  },
  {
   "cell_type": "markdown",
   "metadata": {},
   "source": [
    "### 1) dict는 출석부와 같은 경우에 사용될 수 있다."
   ]
  },
  {
   "cell_type": "code",
   "execution_count": 11,
   "metadata": {},
   "outputs": [
    {
     "name": "stdout",
     "output_type": "stream",
     "text": [
      "{1: 'Andrea', 2: 'Yanis', 3: 'Cleveth', 4: 'lansiomy', 5: 'saraswati'}\n",
      "<class 'dict'>\n"
     ]
    }
   ],
   "source": [
    "students={1:'Andrea', 2:'Yanis', 3:'Cleveth', 4:'lansiomy', 5:'saraswati'}\n",
    "print(students)\n",
    "print(type(students))"
   ]
  },
  {
   "cell_type": "markdown",
   "metadata": {},
   "source": [
    "### 2) dict 의 key를 사용하여 원소의 값(value)를 찾을 수 있다 : dict_name[key]\n",
    "\n",
    "* 번호를 알면 학생의 이름을 알 수 있는 것\n",
    "* 항목명을 알면 정보를 알 수 있는 것"
   ]
  },
  {
   "cell_type": "code",
   "execution_count": 8,
   "metadata": {},
   "outputs": [
    {
     "name": "stdout",
     "output_type": "stream",
     "text": [
      "Andrea\n"
     ]
    }
   ],
   "source": [
    "print(students[1]) #students 딕트 1번 key의 값을 본 것"
   ]
  },
  {
   "cell_type": "code",
   "execution_count": 9,
   "metadata": {},
   "outputs": [
    {
     "name": "stdout",
     "output_type": "stream",
     "text": [
      "{'name': 'Andrea', 'age': 27, 'height': 163, 'gender': 'female', 'hair_color': 'gray'}\n",
      "Andrea\n"
     ]
    }
   ],
   "source": [
    "andrea={'name':'Andrea', 'age':27, 'height':163, 'gender':'female', 'hair_color':'gray'}\n",
    "print(andrea)\n",
    "print(andrea['name'])"
   ]
  },
  {
   "cell_type": "code",
   "execution_count": 10,
   "metadata": {},
   "outputs": [
    {
     "name": "stdout",
     "output_type": "stream",
     "text": [
      "Thorin_and_company={'Leader': 'Thorin II Oakenshield', 'Bugler': 'Bilbo Baggins', 'Wizard': 'Gandalf'}\n",
      "Leader : Thorin II Oakenshield\n"
     ]
    }
   ],
   "source": [
    "Thorin_and_company={'Leader':'Thorin II Oakenshield', 'Bugler':'Bilbo Baggins', 'Wizard':'Gandalf'}\n",
    "print(f'Thorin_and_company={Thorin_and_company}')\n",
    "print(f'Leader : {Thorin_and_company[\"Leader\"]}')"
   ]
  },
  {
   "cell_type": "code",
   "execution_count": 13,
   "metadata": {},
   "outputs": [
    {
     "name": "stdout",
     "output_type": "stream",
     "text": [
      "{1: 'Yoshi', 2: 'Baby Mario', 3: 'Kamek', 4: 'Bowser', 5: 'Baby Luigi', 6: 'Stork'}\n",
      "Yoshi\n",
      "Baby Mario\n"
     ]
    }
   ],
   "source": [
    "Yoshi_Island={1:'Yoshi', 2:'Baby Mario', 3:'Kamek', 4:'Bowser', 5:'Baby Luigi', 6:'Stork'}\n",
    "print(Yoshi_Island)\n",
    "print(Yoshi_Island[1])\n",
    "print(Yoshi_Island[2])"
   ]
  }
 ],
 "metadata": {
  "kernelspec": {
   "display_name": "Python 3",
   "language": "python",
   "name": "python3"
  },
  "language_info": {
   "codemirror_mode": {
    "name": "ipython",
    "version": 3
   },
   "file_extension": ".py",
   "mimetype": "text/x-python",
   "name": "python",
   "nbconvert_exporter": "python",
   "pygments_lexer": "ipython3",
   "version": "3.8.5"
  },
  "toc-autonumbering": false,
  "toc-showcode": false,
  "toc-showmarkdowntxt": true
 },
 "nbformat": 4,
 "nbformat_minor": 4
}
