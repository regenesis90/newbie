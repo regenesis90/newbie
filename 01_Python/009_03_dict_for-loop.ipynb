{
 "cells": [
  {
   "cell_type": "markdown",
   "metadata": {},
   "source": [
    "# dict와 for loop"
   ]
  },
  {
   "cell_type": "markdown",
   "metadata": {},
   "source": [
    "## 1. dict 와 in 연산자"
   ]
  },
  {
   "cell_type": "code",
   "execution_count": 1,
   "metadata": {},
   "outputs": [],
   "source": [
    "resid={101:'Andrea', 102:'Yanis', 103:'Cleveth', 104:'NY'}"
   ]
  },
  {
   "cell_type": "markdown",
   "metadata": {},
   "source": [
    "### 1) print(key1 in dict1) : dict1에서 key1이라는 key가 있으면 TRUE, 없으면 FALSE 반환"
   ]
  },
  {
   "cell_type": "code",
   "execution_count": 3,
   "metadata": {},
   "outputs": [
    {
     "name": "stdout",
     "output_type": "stream",
     "text": [
      "True\n"
     ]
    }
   ],
   "source": [
    "print(101 in resid)"
   ]
  },
  {
   "cell_type": "code",
   "execution_count": 5,
   "metadata": {},
   "outputs": [
    {
     "name": "stdout",
     "output_type": "stream",
     "text": [
      "False\n"
     ]
    }
   ],
   "source": [
    "print(105 in resid)"
   ]
  },
  {
   "cell_type": "markdown",
   "metadata": {},
   "source": [
    "## 2. dict 에서 for-in 구문 수행"
   ]
  },
  {
   "cell_type": "markdown",
   "metadata": {},
   "source": [
    "### 1) dict의 key에 대한 for loop iteration"
   ]
  },
  {
   "cell_type": "code",
   "execution_count": 10,
   "metadata": {},
   "outputs": [
    {
     "name": "stdout",
     "output_type": "stream",
     "text": [
      "101\n",
      "102\n",
      "103\n",
      "104\n"
     ]
    }
   ],
   "source": [
    "for k in resid:\n",
    "    print(k)"
   ]
  },
  {
   "cell_type": "code",
   "execution_count": 16,
   "metadata": {},
   "outputs": [
    {
     "name": "stdout",
     "output_type": "stream",
     "text": [
      "101\n",
      "102\n",
      "103\n",
      "104\n"
     ]
    }
   ],
   "source": [
    "for k in resid.keys():\n",
    "    print(k)"
   ]
  },
  {
   "cell_type": "markdown",
   "metadata": {},
   "source": [
    "### 2) dict의 value에 대한 for loop iteration"
   ]
  },
  {
   "cell_type": "code",
   "execution_count": 9,
   "metadata": {},
   "outputs": [
    {
     "name": "stdout",
     "output_type": "stream",
     "text": [
      "Andrea\n",
      "Yanis\n",
      "Cleveth\n",
      "NY\n"
     ]
    }
   ],
   "source": [
    "for v in resid.values():\n",
    "    print(v)"
   ]
  },
  {
   "cell_type": "markdown",
   "metadata": {},
   "source": [
    "### 3) dict의 key, value를 모두 출력하는 for loop iteration\n",
    "* for loop에서 변수 2개를 선언 : dict를 key와 value 분해 가능"
   ]
  },
  {
   "cell_type": "code",
   "execution_count": 11,
   "metadata": {},
   "outputs": [
    {
     "name": "stdout",
     "output_type": "stream",
     "text": [
      "101 Andrea\n",
      "102 Yanis\n",
      "103 Cleveth\n",
      "104 NY\n"
     ]
    }
   ],
   "source": [
    "for k,v in resid.items():\n",
    "    print(k,v)"
   ]
  },
  {
   "cell_type": "code",
   "execution_count": 12,
   "metadata": {},
   "outputs": [
    {
     "name": "stdout",
     "output_type": "stream",
     "text": [
      "101 Andrea\n",
      "102 Yanis\n",
      "103 Cleveth\n",
      "104 NY\n"
     ]
    }
   ],
   "source": [
    "items=resid.items()\n",
    "for k,v in items:\n",
    "    print(k,v)"
   ]
  },
  {
   "cell_type": "code",
   "execution_count": 15,
   "metadata": {},
   "outputs": [
    {
     "name": "stdout",
     "output_type": "stream",
     "text": [
      "{'Python': 6, 'R': 1, 'SQL': 3}\n",
      "dict_keys(['Python', 'R', 'SQL'])\n",
      "dict_values([6, 1, 3])\n",
      "dict_items([('Python', 6), ('R', 1), ('SQL', 3)])\n",
      "6\n",
      "False\n"
     ]
    }
   ],
   "source": [
    "languages={'Python':6, 'R':1, 'SQL':3}\n",
    "print(languages)\n",
    "print(languages.keys())\n",
    "print(languages.values())\n",
    "print(languages.items())\n",
    "print(languages.get('Python'))\n",
    "print(101 in languages)"
   ]
  },
  {
   "cell_type": "code",
   "execution_count": 17,
   "metadata": {},
   "outputs": [
    {
     "name": "stdout",
     "output_type": "stream",
     "text": [
      "Python 6\n",
      "R 1\n",
      "SQL 3\n"
     ]
    }
   ],
   "source": [
    "for i,j in languages.items():\n",
    "    print(i,j)"
   ]
  }
 ],
 "metadata": {
  "kernelspec": {
   "display_name": "Python 3",
   "language": "python",
   "name": "python3"
  },
  "language_info": {
   "codemirror_mode": {
    "name": "ipython",
    "version": 3
   },
   "file_extension": ".py",
   "mimetype": "text/x-python",
   "name": "python",
   "nbconvert_exporter": "python",
   "pygments_lexer": "ipython3",
   "version": "3.8.5"
  }
 },
 "nbformat": 4,
 "nbformat_minor": 4
}
