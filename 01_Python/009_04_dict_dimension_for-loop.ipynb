{
 "cells": [
  {
   "cell_type": "markdown",
   "metadata": {},
   "source": [
    "# dict, dict 내의 list, for-in loop iteration"
   ]
  },
  {
   "cell_type": "code",
   "execution_count": 1,
   "metadata": {},
   "outputs": [],
   "source": [
    "Yoshi_Island={'Yoshi':['Green','Pink','Sky','Yellow','Violet','Brown','Red','Navyblue'],\n",
    "             'Villain': ['Kamek', 'Bowser'],\n",
    "             'Stage': 60,\n",
    "             'Baby':['Mario','Luigi']}"
   ]
  },
  {
   "cell_type": "code",
   "execution_count": 2,
   "metadata": {},
   "outputs": [
    {
     "name": "stdout",
     "output_type": "stream",
     "text": [
      "{'Yoshi': ['Green', 'Pink', 'Sky', 'Yellow', 'Violet', 'Brown', 'Red', 'Navyblue'], 'Villain': ['Kamek', 'Bowser'], 'Stage': 60, 'Baby': ['Mario', 'Luigi']}\n"
     ]
    }
   ],
   "source": [
    "# dict 출력\n",
    "print(Yoshi_Island)"
   ]
  },
  {
   "cell_type": "code",
   "execution_count": 3,
   "metadata": {},
   "outputs": [
    {
     "name": "stdout",
     "output_type": "stream",
     "text": [
      "['Green', 'Pink', 'Sky', 'Yellow', 'Violet', 'Brown', 'Red', 'Navyblue']\n"
     ]
    }
   ],
   "source": [
    "# dict의 1차원 리스트인 원소 출력 : 리스트\n",
    "print(Yoshi_Island['Yoshi'])"
   ]
  },
  {
   "cell_type": "code",
   "execution_count": 4,
   "metadata": {},
   "outputs": [
    {
     "name": "stdout",
     "output_type": "stream",
     "text": [
      "Green\n"
     ]
    }
   ],
   "source": [
    "# dict의 1차원 리스트의 특정 원소(값) 출력 : 값\n",
    "print(Yoshi_Island['Yoshi'][0])"
   ]
  },
  {
   "cell_type": "code",
   "execution_count": 5,
   "metadata": {},
   "outputs": [
    {
     "name": "stdout",
     "output_type": "stream",
     "text": [
      "Yoshi\n",
      "Villain\n",
      "Stage\n",
      "Baby\n"
     ]
    }
   ],
   "source": [
    "# key에 대한 iteration : key 만 출력\n",
    "for k in Yoshi_Island:\n",
    "    print(k)"
   ]
  },
  {
   "cell_type": "code",
   "execution_count": 7,
   "metadata": {},
   "outputs": [
    {
     "name": "stdout",
     "output_type": "stream",
     "text": [
      "['Green', 'Pink', 'Sky', 'Yellow', 'Violet', 'Brown', 'Red', 'Navyblue']\n",
      "['Kamek', 'Bowser']\n",
      "60\n",
      "['Mario', 'Luigi']\n"
     ]
    }
   ],
   "source": [
    "# value에 대한 iteration : value 들만 출력\n",
    "for v in Yoshi_Island.values():\n",
    "    print(v)"
   ]
  },
  {
   "cell_type": "code",
   "execution_count": 8,
   "metadata": {},
   "outputs": [
    {
     "name": "stdout",
     "output_type": "stream",
     "text": [
      "Yoshi ['Green', 'Pink', 'Sky', 'Yellow', 'Violet', 'Brown', 'Red', 'Navyblue']\n",
      "Villain ['Kamek', 'Bowser']\n",
      "Stage 60\n",
      "Baby ['Mario', 'Luigi']\n"
     ]
    }
   ],
   "source": [
    "# key, value에 대한 iteration : key와 value 모두 출력\n",
    "for k,v in Yoshi_Island.items():\n",
    "    print(k,v)"
   ]
  },
  {
   "cell_type": "code",
   "execution_count": 9,
   "metadata": {},
   "outputs": [
    {
     "name": "stdout",
     "output_type": "stream",
     "text": [
      "Sky\n",
      "Bowser\n"
     ]
    }
   ],
   "source": [
    "# Yoshi_Island의 Yoshi 리스트 3번째 값, Villain 키의 2째 값 출력\n",
    "print(Yoshi_Island['Yoshi'][2])\n",
    "print(Yoshi_Island['Villain'][1])"
   ]
  }
 ],
 "metadata": {
  "kernelspec": {
   "display_name": "Python 3",
   "language": "python",
   "name": "python3"
  },
  "language_info": {
   "codemirror_mode": {
    "name": "ipython",
    "version": 3
   },
   "file_extension": ".py",
   "mimetype": "text/x-python",
   "name": "python",
   "nbconvert_exporter": "python",
   "pygments_lexer": "ipython3",
   "version": "3.8.5"
  }
 },
 "nbformat": 4,
 "nbformat_minor": 4
}
