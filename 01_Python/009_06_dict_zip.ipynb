{
 "cells": [
  {
   "cell_type": "markdown",
   "metadata": {},
   "source": [
    "# dict에 사용하는 zip 함수"
   ]
  },
  {
   "cell_type": "markdown",
   "metadata": {},
   "source": [
    "* **zip()** : 튜플 타입의 결과 반환"
   ]
  },
  {
   "cell_type": "code",
   "execution_count": 12,
   "metadata": {
    "execution": {
     "iopub.execute_input": "2021-05-11T13:44:12.948754Z",
     "iopub.status.busy": "2021-05-11T13:44:12.948754Z",
     "iopub.status.idle": "2021-05-11T13:44:12.964717Z",
     "shell.execute_reply": "2021-05-11T13:44:12.960741Z",
     "shell.execute_reply.started": "2021-05-11T13:44:12.948754Z"
    },
    "tags": []
   },
   "outputs": [],
   "source": [
    "from random import shuffle"
   ]
  },
  {
   "cell_type": "code",
   "execution_count": 13,
   "metadata": {
    "execution": {
     "iopub.execute_input": "2021-05-11T13:44:13.869613Z",
     "iopub.status.busy": "2021-05-11T13:44:13.868580Z",
     "iopub.status.idle": "2021-05-11T13:44:13.873570Z",
     "shell.execute_reply": "2021-05-11T13:44:13.872008Z",
     "shell.execute_reply.started": "2021-05-11T13:44:13.869613Z"
    },
    "tags": []
   },
   "outputs": [],
   "source": [
    "resid_name=['Andrea', 'Yanis', 'Cleveth', 'NY', 'Hainz', 'Ivans', 'Din']"
   ]
  },
  {
   "cell_type": "code",
   "execution_count": 14,
   "metadata": {
    "execution": {
     "iopub.execute_input": "2021-05-11T13:44:15.322251Z",
     "iopub.status.busy": "2021-05-11T13:44:15.322251Z",
     "iopub.status.idle": "2021-05-11T13:44:15.335217Z",
     "shell.execute_reply": "2021-05-11T13:44:15.334220Z",
     "shell.execute_reply.started": "2021-05-11T13:44:15.322251Z"
    },
    "tags": []
   },
   "outputs": [],
   "source": [
    "shuffle(resid_name)"
   ]
  },
  {
   "cell_type": "code",
   "execution_count": 15,
   "metadata": {
    "execution": {
     "iopub.execute_input": "2021-05-11T13:44:16.249021Z",
     "iopub.status.busy": "2021-05-11T13:44:16.249021Z",
     "iopub.status.idle": "2021-05-11T13:44:16.266936Z",
     "shell.execute_reply": "2021-05-11T13:44:16.265973Z",
     "shell.execute_reply.started": "2021-05-11T13:44:16.249021Z"
    },
    "tags": []
   },
   "outputs": [
    {
     "data": {
      "text/plain": [
       "['Yanis', 'NY', 'Andrea', 'Din', 'Hainz', 'Cleveth', 'Ivans']"
      ]
     },
     "execution_count": 15,
     "metadata": {},
     "output_type": "execute_result"
    }
   ],
   "source": [
    "resid_name"
   ]
  },
  {
   "cell_type": "code",
   "execution_count": 18,
   "metadata": {
    "execution": {
     "iopub.execute_input": "2021-05-11T13:52:09.699268Z",
     "iopub.status.busy": "2021-05-11T13:52:09.699268Z",
     "iopub.status.idle": "2021-05-11T13:52:09.705252Z",
     "shell.execute_reply": "2021-05-11T13:52:09.705252Z",
     "shell.execute_reply.started": "2021-05-11T13:52:09.699268Z"
    },
    "tags": []
   },
   "outputs": [],
   "source": [
    "resid_name=['Andrea', 'Yanis', 'Cleveth', 'NY', 'Hainz', 'Ivans', 'Din']\n",
    "resid_height=[163, 178, 169, 176, 179, 170, 180]"
   ]
  },
  {
   "cell_type": "code",
   "execution_count": 19,
   "metadata": {
    "execution": {
     "iopub.execute_input": "2021-05-11T13:52:11.368597Z",
     "iopub.status.busy": "2021-05-11T13:52:11.367600Z",
     "iopub.status.idle": "2021-05-11T13:52:11.377084Z",
     "shell.execute_reply": "2021-05-11T13:52:11.376085Z",
     "shell.execute_reply.started": "2021-05-11T13:52:11.368597Z"
    },
    "tags": []
   },
   "outputs": [
    {
     "name": "stdout",
     "output_type": "stream",
     "text": [
      "Andrea 163\n",
      "Yanis 178\n",
      "Cleveth 169\n",
      "NY 176\n",
      "Hainz 179\n",
      "Ivans 170\n",
      "Din 180\n"
     ]
    }
   ],
   "source": [
    "for k,v in zip(resid_name, resid_height):\n",
    "    print(k,v)"
   ]
  },
  {
   "cell_type": "code",
   "execution_count": 20,
   "metadata": {
    "execution": {
     "iopub.execute_input": "2021-05-11T13:52:12.763883Z",
     "iopub.status.busy": "2021-05-11T13:52:12.763883Z",
     "iopub.status.idle": "2021-05-11T13:52:12.774432Z",
     "shell.execute_reply": "2021-05-11T13:52:12.773435Z",
     "shell.execute_reply.started": "2021-05-11T13:52:12.763883Z"
    },
    "tags": []
   },
   "outputs": [],
   "source": [
    "c=list(zip(resid_name, resid_height)) # zip을 사용해 두 리스트를 묶어 리스트화\n",
    "shuffle(c)\n",
    "resid_name, resid_height=zip(*c)"
   ]
  },
  {
   "cell_type": "code",
   "execution_count": 21,
   "metadata": {
    "execution": {
     "iopub.execute_input": "2021-05-11T13:52:14.713500Z",
     "iopub.status.busy": "2021-05-11T13:52:14.712504Z",
     "iopub.status.idle": "2021-05-11T13:52:14.724979Z",
     "shell.execute_reply": "2021-05-11T13:52:14.723985Z",
     "shell.execute_reply.started": "2021-05-11T13:52:14.713500Z"
    },
    "tags": []
   },
   "outputs": [
    {
     "name": "stdout",
     "output_type": "stream",
     "text": [
      "Yanis 178\n",
      "Hainz 179\n",
      "NY 176\n",
      "Andrea 163\n",
      "Ivans 170\n",
      "Cleveth 169\n",
      "Din 180\n"
     ]
    }
   ],
   "source": [
    "for k,v in zip(resid_name, resid_height):\n",
    "    print(k,v)"
   ]
  },
  {
   "cell_type": "code",
   "execution_count": null,
   "metadata": {},
   "outputs": [],
   "source": []
  },
  {
   "cell_type": "code",
   "execution_count": null,
   "metadata": {
    "tags": []
   },
   "outputs": [],
   "source": [
    "resid_gender=['Female', 'Male', 'Female', 'Male', 'Male', 'Male', 'Male']"
   ]
  },
  {
   "cell_type": "code",
   "execution_count": null,
   "metadata": {
    "tags": []
   },
   "outputs": [],
   "source": [
    "for a,b,c in zip(resid_name, resid_height, resid_gender):\n",
    "    print(a,b,c)"
   ]
  },
  {
   "cell_type": "code",
   "execution_count": null,
   "metadata": {
    "tags": []
   },
   "outputs": [],
   "source": [
    "resid={}\n",
    "for a,b in zip(resid_name, resid_height):\n",
    "    resid[a]=b\n",
    "print(resid)"
   ]
  },
  {
   "cell_type": "code",
   "execution_count": null,
   "metadata": {
    "tags": []
   },
   "outputs": [],
   "source": [
    "resid={}\n",
    "for a,b,c in zip(resid_name, resid_height, resid_gender):\n",
    "    resid[a]=b,c\n",
    "print(resid)"
   ]
  },
  {
   "cell_type": "code",
   "execution_count": null,
   "metadata": {
    "tags": []
   },
   "outputs": [],
   "source": [
    "d"
   ]
  },
  {
   "cell_type": "code",
   "execution_count": null,
   "metadata": {},
   "outputs": [],
   "source": []
  }
 ],
 "metadata": {
  "kernelspec": {
   "display_name": "Python 3",
   "language": "python",
   "name": "python3"
  },
  "language_info": {
   "codemirror_mode": {
    "name": "ipython",
    "version": 3
   },
   "file_extension": ".py",
   "mimetype": "text/x-python",
   "name": "python",
   "nbconvert_exporter": "python",
   "pygments_lexer": "ipython3",
   "version": "3.8.5"
  }
 },
 "nbformat": 4,
 "nbformat_minor": 4
}
