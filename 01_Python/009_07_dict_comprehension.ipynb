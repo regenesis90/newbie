{
 "cells": [
  {
   "cell_type": "markdown",
   "metadata": {},
   "source": [
    "# dict comprehension"
   ]
  },
  {
   "cell_type": "code",
   "execution_count": 1,
   "metadata": {
    "execution": {
     "iopub.execute_input": "2022-05-17T05:48:38.513630Z",
     "iopub.status.busy": "2022-05-17T05:48:38.513630Z",
     "iopub.status.idle": "2022-05-17T05:48:38.521792Z",
     "shell.execute_reply": "2022-05-17T05:48:38.520828Z",
     "shell.execute_reply.started": "2022-05-17T05:48:38.513630Z"
    },
    "tags": []
   },
   "outputs": [],
   "source": [
    "resid_no = [101, 102, 103, 104]\n",
    "resid_name = ['Andrea', 'Yanis', 'Cleveth', 'NY']"
   ]
  },
  {
   "cell_type": "code",
   "execution_count": 3,
   "metadata": {
    "execution": {
     "iopub.execute_input": "2022-05-17T05:48:46.690008Z",
     "iopub.status.busy": "2022-05-17T05:48:46.690008Z",
     "iopub.status.idle": "2022-05-17T05:48:46.705999Z",
     "shell.execute_reply": "2022-05-17T05:48:46.705001Z",
     "shell.execute_reply.started": "2022-05-17T05:48:46.690008Z"
    },
    "tags": []
   },
   "outputs": [
    {
     "name": "stdout",
     "output_type": "stream",
     "text": [
      "{101: 'Andrea', 102: 'Yanis', 103: 'Cleveth', 104: 'NY'}\n"
     ]
    }
   ],
   "source": [
    "resid = {k:v for k,v in zip(resid_no, resid_name)}\n",
    "print(resid)"
   ]
  },
  {
   "cell_type": "markdown",
   "metadata": {},
   "source": [
    "### 1)예제 : 색상을 key, 이름 글자수를 value로 하는 dict 'color_dict' 생성하기"
   ]
  },
  {
   "cell_type": "code",
   "execution_count": 5,
   "metadata": {
    "execution": {
     "iopub.execute_input": "2022-05-17T05:49:02.285502Z",
     "iopub.status.busy": "2022-05-17T05:49:02.285502Z",
     "iopub.status.idle": "2022-05-17T05:49:02.297470Z",
     "shell.execute_reply": "2022-05-17T05:49:02.296501Z",
     "shell.execute_reply.started": "2022-05-17T05:49:02.285502Z"
    },
    "tags": []
   },
   "outputs": [],
   "source": [
    "color = ['red','pink','orange','yellow','green','blue','purple']"
   ]
  },
  {
   "cell_type": "code",
   "execution_count": 6,
   "metadata": {
    "execution": {
     "iopub.execute_input": "2022-05-17T05:49:02.839395Z",
     "iopub.status.busy": "2022-05-17T05:49:02.839395Z",
     "iopub.status.idle": "2022-05-17T05:49:02.859346Z",
     "shell.execute_reply": "2022-05-17T05:49:02.858345Z",
     "shell.execute_reply.started": "2022-05-17T05:49:02.839395Z"
    },
    "tags": []
   },
   "outputs": [
    {
     "name": "stdout",
     "output_type": "stream",
     "text": [
      "{'red': 3, 'pink': 4, 'orange': 6, 'yellow': 6, 'green': 5, 'blue': 4, 'purple': 6}\n"
     ]
    }
   ],
   "source": [
    "# (1) empty dict 생성\n",
    "color_dict = {}\n",
    "# (2) 빈 리스트에 for loop로 color의 key, value 추가\n",
    "for c in color:\n",
    "    color_dict[c] = len(c)\n",
    "    \n",
    "print(color_dict)"
   ]
  },
  {
   "cell_type": "markdown",
   "metadata": {},
   "source": [
    "### 2) 예제 : dict comprehension"
   ]
  },
  {
   "cell_type": "code",
   "execution_count": 7,
   "metadata": {
    "execution": {
     "iopub.execute_input": "2022-05-17T05:49:12.386249Z",
     "iopub.status.busy": "2022-05-17T05:49:12.386249Z",
     "iopub.status.idle": "2022-05-17T05:49:12.407234Z",
     "shell.execute_reply": "2022-05-17T05:49:12.405248Z",
     "shell.execute_reply.started": "2022-05-17T05:49:12.386249Z"
    },
    "tags": []
   },
   "outputs": [
    {
     "name": "stdout",
     "output_type": "stream",
     "text": [
      "{'red': 3, 'pink': 4, 'orange': 6, 'yellow': 6, 'green': 5, 'blue': 4, 'purple': 6}\n"
     ]
    }
   ],
   "source": [
    "colour_dict = {}\n",
    "color_dict = {c:len(c) for c in color}\n",
    "\n",
    "print(color_dict)"
   ]
  },
  {
   "cell_type": "markdown",
   "metadata": {},
   "source": [
    "### 3) 예제 : 리스트 단어를 key, 등장 빈도수를 value로 하는 dict 객체 생성"
   ]
  },
  {
   "cell_type": "code",
   "execution_count": 9,
   "metadata": {
    "execution": {
     "iopub.execute_input": "2022-05-17T05:54:00.924499Z",
     "iopub.status.busy": "2022-05-17T05:54:00.924499Z",
     "iopub.status.idle": "2022-05-17T05:54:00.933477Z",
     "shell.execute_reply": "2022-05-17T05:54:00.931483Z",
     "shell.execute_reply.started": "2022-05-17T05:54:00.924499Z"
    },
    "tags": []
   },
   "outputs": [],
   "source": [
    "company = ['Bilbo', 'Bilbo', 'Thorin', 'Thorin', 'Thorin', 'Gandalf', 'Gandalf', 'Fili', 'Kili']"
   ]
  },
  {
   "cell_type": "code",
   "execution_count": 10,
   "metadata": {
    "execution": {
     "iopub.execute_input": "2022-05-17T05:54:01.342597Z",
     "iopub.status.busy": "2022-05-17T05:54:01.342597Z",
     "iopub.status.idle": "2022-05-17T05:54:01.351189Z",
     "shell.execute_reply": "2022-05-17T05:54:01.349671Z",
     "shell.execute_reply.started": "2022-05-17T05:54:01.342597Z"
    },
    "tags": []
   },
   "outputs": [
    {
     "name": "stdout",
     "output_type": "stream",
     "text": [
      "{'Bilbo': 2, 'Thorin': 3, 'Gandalf': 2, 'Fili': 1, 'Kili': 1}\n"
     ]
    }
   ],
   "source": [
    "# 빈 객체, company_count 생성\n",
    "company_count = {}\n",
    "# 단어가 company_count의 key로 존재하면 : count+=1\n",
    "# 단어가 company_count의 key로 존재하지 않으면 : count=1\n",
    "for c in company:\n",
    "    if c in company_count:\n",
    "        company_count[c] += 1\n",
    "        \n",
    "    else:\n",
    "        company_count[c] = 1\n",
    "\n",
    "print(company_count)"
   ]
  }
 ],
 "metadata": {
  "kernelspec": {
   "display_name": "Python 3",
   "language": "python",
   "name": "python3"
  },
  "language_info": {
   "codemirror_mode": {
    "name": "ipython",
    "version": 3
   },
   "file_extension": ".py",
   "mimetype": "text/x-python",
   "name": "python",
   "nbconvert_exporter": "python",
   "pygments_lexer": "ipython3",
   "version": "3.8.8"
  }
 },
 "nbformat": 4,
 "nbformat_minor": 4
}
