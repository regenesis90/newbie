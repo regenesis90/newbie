{
 "cells": [
  {
   "cell_type": "code",
   "execution_count": 2,
   "metadata": {
    "execution": {
     "iopub.execute_input": "2022-05-17T05:38:18.001044Z",
     "iopub.status.busy": "2022-05-17T05:38:18.001044Z",
     "iopub.status.idle": "2022-05-17T05:38:18.015007Z",
     "shell.execute_reply": "2022-05-17T05:38:18.014039Z",
     "shell.execute_reply.started": "2022-05-17T05:38:18.001044Z"
    },
    "tags": []
   },
   "outputs": [],
   "source": [
    "# collections 모듈, 함수 defaultdict import\n",
    "from collections import defaultdict"
   ]
  },
  {
   "cell_type": "code",
   "execution_count": 3,
   "metadata": {
    "execution": {
     "iopub.execute_input": "2022-05-17T05:38:18.591723Z",
     "iopub.status.busy": "2022-05-17T05:38:18.591723Z",
     "iopub.status.idle": "2022-05-17T05:38:18.606666Z",
     "shell.execute_reply": "2022-05-17T05:38:18.605661Z",
     "shell.execute_reply.started": "2022-05-17T05:38:18.591723Z"
    },
    "tags": []
   },
   "outputs": [
    {
     "name": "stdout",
     "output_type": "stream",
     "text": [
      "defaultdict(<class 'int'>, {})\n"
     ]
    }
   ],
   "source": [
    "word_counts = defaultdict(int)\n",
    "print(word_counts) #> defaultdict : TYpe int, 아직 원소가 하나도 없음."
   ]
  }
 ],
 "metadata": {
  "kernelspec": {
   "display_name": "Python 3",
   "language": "python",
   "name": "python3"
  },
  "language_info": {
   "codemirror_mode": {
    "name": "ipython",
    "version": 3
   },
   "file_extension": ".py",
   "mimetype": "text/x-python",
   "name": "python",
   "nbconvert_exporter": "python",
   "pygments_lexer": "ipython3",
   "version": "3.8.8"
  }
 },
 "nbformat": 4,
 "nbformat_minor": 4
}
