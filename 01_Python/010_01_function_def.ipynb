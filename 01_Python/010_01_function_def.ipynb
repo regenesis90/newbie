{
 "cells": [
  {
   "cell_type": "markdown",
   "metadata": {},
   "source": [
    "# function\n",
    "\n",
    "* **함수(function)** : 기능을 수행해서 그 결과를 반환(return) 하는 코드블록\n",
    "* **인수(argument)** : 함수를 호출(call, invoke)할 때 함수에게 전달하는 값들\n",
    "* **매개변수(parameter)** : argument를 저장하기 위해 함수를 정의할 때 선언하는 지역 변수"
   ]
  },
  {
   "cell_type": "code",
   "execution_count": 1,
   "metadata": {},
   "outputs": [
    {
     "name": "stdout",
     "output_type": "stream",
     "text": [
      "15\n"
     ]
    }
   ],
   "source": [
    "# 예 : sum 함수\n",
    "result=sum([1,2,3,4,5]) #> argument : [1,2,3,4,5]. parameter에 저장되는 값\n",
    "print(result) #> 반환값(return value) : 15"
   ]
  },
  {
   "cell_type": "markdown",
   "metadata": {},
   "source": [
    "# 모듈과 함수\n",
    "\n",
    "* **모듈(module)** : 함수가 정의된 파일.(ex. math)\n",
    "* **모듈에서의 함수(function)** : 예 - sqrt()"
   ]
  },
  {
   "cell_type": "code",
   "execution_count": 2,
   "metadata": {},
   "outputs": [
    {
     "name": "stdout",
     "output_type": "stream",
     "text": [
      "1.4142135623730951\n"
     ]
    }
   ],
   "source": [
    "# math 모듈 import, math 모듈의 sqrt() 함수 호출\n",
    "import math\n",
    "result=math.sqrt(2)\n",
    "print(result)"
   ]
  },
  {
   "cell_type": "code",
   "execution_count": 3,
   "metadata": {},
   "outputs": [
    {
     "name": "stdout",
     "output_type": "stream",
     "text": [
      "hello\n",
      "None\n"
     ]
    }
   ],
   "source": [
    "# print 함수 : argument를 콘솔에 출력만 할 뿐, 값을 반환하지 않음\n",
    "result=print('hello')\n",
    "print(result) #> 값을 반환하지 않는 함수의 반환값(return value) : None"
   ]
  },
  {
   "cell_type": "markdown",
   "metadata": {},
   "source": [
    "# 함수 정의 방법\n",
    "```\n",
    "def func_name(param1, param2, ...):\n",
    "    \"\"\"\n",
    "    문서화 주석(documentation string, docstring): 함수에 대한 설명\n",
    "    \"\"\"\n",
    "    함수 기능 작성\n",
    "    return 값\n",
    "```"
   ]
  },
  {
   "cell_type": "markdown",
   "metadata": {},
   "source": [
    "### 문제 1. 함수 정의 : 숫자 x,y 를 전달받아서 x-y 를 결과로 리턴하는 함수"
   ]
  },
  {
   "cell_type": "code",
   "execution_count": 4,
   "metadata": {},
   "outputs": [],
   "source": [
    "def subtract(x:int,y:int):\n",
    "    \"\"\"숫자 x,y를 전달받아서, x-y 를 리턴\"\"\"\n",
    "    return x-y"
   ]
  },
  {
   "cell_type": "code",
   "execution_count": 5,
   "metadata": {},
   "outputs": [
    {
     "name": "stdout",
     "output_type": "stream",
     "text": [
      "-10\n"
     ]
    }
   ],
   "source": [
    "result=subtract(10,20)\n",
    "print(result)"
   ]
  },
  {
   "cell_type": "markdown",
   "metadata": {},
   "source": [
    "## 2개 이상의 값을 리턴하는 함수 : tuple(튜플) 리턴"
   ]
  },
  {
   "cell_type": "markdown",
   "metadata": {},
   "source": [
    "### 문제 2. 함수 정의 : 숫자 x,y를 전달받아 x+y, x-y 리턴하는 함수"
   ]
  },
  {
   "cell_type": "code",
   "execution_count": 11,
   "metadata": {},
   "outputs": [],
   "source": [
    "def plus_and_minus(x:int,y:int):\n",
    "    \"\"\"2개의 숫자 x,y를 전달받아 x+y, x-y 결과 리턴하는 함수\"\"\"\n",
    "    return x+y, x-y"
   ]
  },
  {
   "cell_type": "code",
   "execution_count": 12,
   "metadata": {},
   "outputs": [
    {
     "name": "stdout",
     "output_type": "stream",
     "text": [
      "(30, -10)\n"
     ]
    }
   ],
   "source": [
    "result=plus_and_minus(10,20)\n",
    "print(result)"
   ]
  },
  {
   "cell_type": "markdown",
   "metadata": {},
   "source": [
    "튜플 타입의 원소는 인덱스를 사용하여 개개의 원소를 접근할 수 있다."
   ]
  },
  {
   "cell_type": "code",
   "execution_count": 13,
   "metadata": {},
   "outputs": [
    {
     "name": "stdout",
     "output_type": "stream",
     "text": [
      "(60, -20)\n",
      "60\n",
      "-20\n"
     ]
    }
   ],
   "source": [
    "result=plus_and_minus(20,40)\n",
    "print(result)\n",
    "print(result[0])\n",
    "print(result[1])"
   ]
  },
  {
   "cell_type": "markdown",
   "metadata": {},
   "source": [
    "# void 함수 : None을 리턴하는 함수(값을 리턴하지 않는 함수)"
   ]
  },
  {
   "cell_type": "markdown",
   "metadata": {},
   "source": [
    "### 문제 3. 함수 정의 : void 함수 정의해 보기"
   ]
  },
  {
   "cell_type": "code",
   "execution_count": 19,
   "metadata": {},
   "outputs": [],
   "source": [
    "def repeat_msg(msg:str, repeat:int):\n",
    "    \"\"\"문자열 msg, 양의 정수 repeat 전달받아서,\n",
    "    msg를 repeat만큼 반복한 문자열을 콘솔에 출력.\n",
    "    리턴하는 값은 없음\"\"\"\n",
    "    print(msg*repeat) #> return None. 반환값이 없다면, return None은 생략 가능"
   ]
  },
  {
   "cell_type": "code",
   "execution_count": 15,
   "metadata": {},
   "outputs": [
    {
     "name": "stdout",
     "output_type": "stream",
     "text": [
      "hellohellohello\n"
     ]
    }
   ],
   "source": [
    "repeat_msg('hello',3)"
   ]
  },
  {
   "cell_type": "markdown",
   "metadata": {},
   "source": [
    "# 함수 힌트 작성 : Python 3.5~\n",
    "\n",
    "* Python 3.5 버전 이상부터는 함수 정의 시 parameter 타입, 리턴 값 타입 힌트 작성 가능\n",
    "\n",
    "**(주의)**\n",
    "* 함수 정의에서 힌트로 주어진 타입대로 argument를 전달할 필요는 없음.\n",
    "* **함수가 실행될 때 파라미터 타입을 체크하지 않음.**"
   ]
  },
  {
   "cell_type": "markdown",
   "metadata": {},
   "source": [
    "### 문제 4. 숫자 x,y를 전달받아 x/y 리턴하는 함수"
   ]
  },
  {
   "cell_type": "code",
   "execution_count": 21,
   "metadata": {},
   "outputs": [],
   "source": [
    "def divide(x:int, y:int) -> float:\n",
    "    \"\"\"2개의 정수 x,y를 전달받아 x/y를 리턴하는 함수\"\"\"\n",
    "    return x/y"
   ]
  },
  {
   "cell_type": "code",
   "execution_count": 22,
   "metadata": {},
   "outputs": [
    {
     "name": "stdout",
     "output_type": "stream",
     "text": [
      "3.3333333333333335\n"
     ]
    }
   ],
   "source": [
    "result=divide(10,3)\n",
    "print(result)"
   ]
  }
 ],
 "metadata": {
  "kernelspec": {
   "display_name": "Python 3",
   "language": "python",
   "name": "python3"
  },
  "language_info": {
   "codemirror_mode": {
    "name": "ipython",
    "version": 3
   },
   "file_extension": ".py",
   "mimetype": "text/x-python",
   "name": "python",
   "nbconvert_exporter": "python",
   "pygments_lexer": "ipython3",
   "version": "3.8.5"
  }
 },
 "nbformat": 4,
 "nbformat_minor": 4
}
