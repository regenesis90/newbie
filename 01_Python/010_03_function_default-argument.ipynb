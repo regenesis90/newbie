{
 "cells": [
  {
   "cell_type": "markdown",
   "metadata": {},
   "source": [
    "# default argument\n",
    "\n",
    "함수를 정의(선언)할 때, parameter의 기본값을 설정하는 것. parameter에 설정된 기본값.\n",
    "* 함수 호출 시, default argument를 가진 parameter에 값을 전달하지 않으면 default argument가 사용됨\n",
    "* default argument를 가진 parameter에 값 전달하면, default argument는 무시되고 전달된 값이 사용됨"
   ]
  },
  {
   "cell_type": "markdown",
   "metadata": {},
   "source": [
    "### 문제 1. 메세지 반복"
   ]
  },
  {
   "cell_type": "code",
   "execution_count": 2,
   "metadata": {},
   "outputs": [],
   "source": [
    "def repeat_message(msg:str, count:int = 1) -> str :\n",
    "    print(msg * count) #> return 값이 없어 None을 반환하는 Void 함수"
   ]
  },
  {
   "cell_type": "code",
   "execution_count": 3,
   "metadata": {},
   "outputs": [
    {
     "name": "stdout",
     "output_type": "stream",
     "text": [
      "안녕하세요!\n"
     ]
    }
   ],
   "source": [
    "repeat_message('안녕하세요!')"
   ]
  },
  {
   "cell_type": "code",
   "execution_count": 5,
   "metadata": {},
   "outputs": [
    {
     "name": "stdout",
     "output_type": "stream",
     "text": [
      "안녕!안녕!안녕!안녕!안녕!안녕!안녕!안녕!안녕!안녕!\n"
     ]
    }
   ],
   "source": [
    "repeat_message('안녕!', 10)"
   ]
  },
  {
   "cell_type": "markdown",
   "metadata": {},
   "source": [
    "## 주의사항:\n",
    "\n",
    "* 함수 정의 시, default argumet를 갖는 parameter들은 **반드시** default값이 없는 parameter들 뒤에서 선언해야 한다."
   ]
  },
  {
   "cell_type": "code",
   "execution_count": 6,
   "metadata": {},
   "outputs": [],
   "source": [
    "# 문제가 없는 함수\n",
    "def test(x, y = 1):\n",
    "    return x / y "
   ]
  },
  {
   "cell_type": "code",
   "execution_count": 7,
   "metadata": {},
   "outputs": [
    {
     "ename": "SyntaxError",
     "evalue": "non-default argument follows default argument (<ipython-input-7-2cf3b85cc95d>, line 2)",
     "output_type": "error",
     "traceback": [
      "\u001b[1;36m  File \u001b[1;32m\"<ipython-input-7-2cf3b85cc95d>\"\u001b[1;36m, line \u001b[1;32m2\u001b[0m\n\u001b[1;33m    def test2(x=1, y):\u001b[0m\n\u001b[1;37m              ^\u001b[0m\n\u001b[1;31mSyntaxError\u001b[0m\u001b[1;31m:\u001b[0m non-default argument follows default argument\n"
     ]
    }
   ],
   "source": [
    "# SyntaxError 발생 : 문법 오류\n",
    "def test2(x = 1, y):\n",
    "    return x / y"
   ]
  }
 ],
 "metadata": {
  "kernelspec": {
   "display_name": "Python 3",
   "language": "python",
   "name": "python3"
  },
  "language_info": {
   "codemirror_mode": {
    "name": "ipython",
    "version": 3
   },
   "file_extension": ".py",
   "mimetype": "text/x-python",
   "name": "python",
   "nbconvert_exporter": "python",
   "pygments_lexer": "ipython3",
   "version": "3.8.8"
  }
 },
 "nbformat": 4,
 "nbformat_minor": 4
}
