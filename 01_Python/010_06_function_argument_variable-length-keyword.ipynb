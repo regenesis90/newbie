{
 "cells": [
  {
   "cell_type": "markdown",
   "metadata": {},
   "source": [
    "# 가변길이(variable-length) keyword argument : **kwargs\n",
    "\n",
    "```param=value```\n",
    "\n",
    "* variable-length argument(가변길이 인수) : 함수를 호출 시, argument를 여러 개 전달 기능\n",
    "* **keyword argument** : 함수 호출 시, **parameter 이름을 명시해서** argument 전달\n",
    "* **parameter 이름은 마음대로 작성 가능**\n",
    "* 함수 호출 시, param1=value1, param2=value2, ...와 같은 여러 개의 키워드 방식 호출 사용\n",
    "\n",
    "* 함수 내부(body)에서, variable-length keyword argument는 **dict타입으로 간주**\n",
    "    * 함수 호출 시 만든 parameter 이름 : dict의 key\n",
    "    * 함수 호출 시 parameter에 설정한 값 : dict의 value"
   ]
  },
  {
   "cell_type": "code",
   "execution_count": 1,
   "metadata": {},
   "outputs": [],
   "source": [
    "def fn_test5(**kwargs):\n",
    "    print(kwargs)"
   ]
  },
  {
   "cell_type": "code",
   "execution_count": 2,
   "metadata": {},
   "outputs": [
    {
     "name": "stdout",
     "output_type": "stream",
     "text": [
      "{}\n"
     ]
    }
   ],
   "source": [
    "fn_test5() #> empty dict 출력"
   ]
  },
  {
   "cell_type": "code",
   "execution_count": 4,
   "metadata": {},
   "outputs": [
    {
     "ename": "TypeError",
     "evalue": "fn_test5() takes 0 positional arguments but 1 was given",
     "output_type": "error",
     "traceback": [
      "\u001b[1;31m---------------------------------------------------------------------------\u001b[0m",
      "\u001b[1;31mTypeError\u001b[0m                                 Traceback (most recent call last)",
      "\u001b[1;32m<ipython-input-4-db1bf9bee1b3>\u001b[0m in \u001b[0;36m<module>\u001b[1;34m\u001b[0m\n\u001b[0;32m      1\u001b[0m \u001b[1;31m# TypeError 발생 구문 : parameter를 명시하지 않음\u001b[0m\u001b[1;33m\u001b[0m\u001b[1;33m\u001b[0m\u001b[1;33m\u001b[0m\u001b[0m\n\u001b[1;32m----> 2\u001b[1;33m \u001b[0mfn_test5\u001b[0m\u001b[1;33m(\u001b[0m\u001b[1;36m1\u001b[0m\u001b[1;33m)\u001b[0m\u001b[1;33m\u001b[0m\u001b[1;33m\u001b[0m\u001b[0m\n\u001b[0m",
      "\u001b[1;31mTypeError\u001b[0m: fn_test5() takes 0 positional arguments but 1 was given"
     ]
    }
   ],
   "source": [
    "# TypeError 발생 구문 : parameter를 명시하지 않음\n",
    "fn_test5(1)"
   ]
  },
  {
   "cell_type": "code",
   "execution_count": 5,
   "metadata": {},
   "outputs": [
    {
     "name": "stdout",
     "output_type": "stream",
     "text": [
      "{'x': 1}\n"
     ]
    }
   ],
   "source": [
    "# 정상 작동 구문\n",
    "fn_test5(x=1)"
   ]
  },
  {
   "cell_type": "code",
   "execution_count": 6,
   "metadata": {},
   "outputs": [
    {
     "name": "stdout",
     "output_type": "stream",
     "text": [
      "{'x': 1, 'y': 2}\n"
     ]
    }
   ],
   "source": [
    "# 정상 작동 구문\n",
    "fn_test5(x=1, y=2)"
   ]
  },
  {
   "cell_type": "markdown",
   "metadata": {},
   "source": [
    "### 문제 1. make_person 함수 생성, 가변길이 키워드 인수 **kwargs 사용"
   ]
  },
  {
   "cell_type": "code",
   "execution_count": 10,
   "metadata": {},
   "outputs": [],
   "source": [
    "def make_person(name, age, **kwargs):\n",
    "    person={'name':name, 'age':age}\n",
    "    for key,value in kwargs.items():\n",
    "        person[key]=value\n",
    "    return person"
   ]
  },
  {
   "cell_type": "code",
   "execution_count": 11,
   "metadata": {},
   "outputs": [
    {
     "data": {
      "text/plain": [
       "{'name': 'Andrea Lloyd', 'age': 23}"
      ]
     },
     "execution_count": 11,
     "metadata": {},
     "output_type": "execute_result"
    }
   ],
   "source": [
    "make_person('Andrea Lloyd', 23)"
   ]
  },
  {
   "cell_type": "code",
   "execution_count": 13,
   "metadata": {},
   "outputs": [
    {
     "data": {
      "text/plain": [
       "{'name': 'Yanis Gray', 'age': 33, 'hair': 'gray', 'eye': 'gray'}"
      ]
     },
     "execution_count": 13,
     "metadata": {},
     "output_type": "execute_result"
    }
   ],
   "source": [
    "make_person('Yanis Gray', 33, hair='gray', eye='gray')"
   ]
  },
  {
   "cell_type": "code",
   "execution_count": 14,
   "metadata": {},
   "outputs": [
    {
     "data": {
      "text/plain": [
       "{'name': 'Eloin Cleveth',\n",
       " 'age': 78,\n",
       " 'job': 'priest',\n",
       " 'phone': ['010-1234-5667', '011-2222-3333'],\n",
       " 'email': ['eloin@nav.com', 'cvt@gg.com']}"
      ]
     },
     "execution_count": 14,
     "metadata": {},
     "output_type": "execute_result"
    }
   ],
   "source": [
    "make_person('Eloin Cleveth', 78, job='priest',\n",
    "           phone=['010-1234-5667', '011-2222-3333'],\n",
    "           email=['eloin@nav.com', 'cvt@gg.com'])"
   ]
  },
  {
   "cell_type": "markdown",
   "metadata": {},
   "source": [
    "## 주의사항 : 가변길이 인수(*), 가변길이 키워드 인수(**kwargs)는 함수에서 1개씩만 선언 가능"
   ]
  },
  {
   "cell_type": "code",
   "execution_count": 15,
   "metadata": {},
   "outputs": [],
   "source": [
    "# 예제\n",
    "def fn_test6(*args, **kwargs):\n",
    "    print('args:', args)\n",
    "    print('kwargs:', kwargs)"
   ]
  },
  {
   "cell_type": "code",
   "execution_count": 16,
   "metadata": {},
   "outputs": [
    {
     "name": "stdout",
     "output_type": "stream",
     "text": [
      "args: (1, 2)\n",
      "kwargs: {'andrea': 100, 'yanis': 200}\n"
     ]
    }
   ],
   "source": [
    "fn_test6(1,2, andrea=100, yanis=200)"
   ]
  },
  {
   "cell_type": "code",
   "execution_count": 17,
   "metadata": {},
   "outputs": [
    {
     "name": "stdout",
     "output_type": "stream",
     "text": [
      "args: (1, 2, 3, 4)\n",
      "kwargs: {}\n"
     ]
    }
   ],
   "source": [
    "fn_test6(1,2,3,4)"
   ]
  },
  {
   "cell_type": "code",
   "execution_count": 18,
   "metadata": {},
   "outputs": [
    {
     "name": "stdout",
     "output_type": "stream",
     "text": [
      "args: ()\n",
      "kwargs: {'andrea': 100, 'yanis': 200}\n"
     ]
    }
   ],
   "source": [
    "fn_test6(andrea=100, yanis=200)"
   ]
  }
 ],
 "metadata": {
  "kernelspec": {
   "display_name": "Python 3",
   "language": "python",
   "name": "python3"
  },
  "language_info": {
   "codemirror_mode": {
    "name": "ipython",
    "version": 3
   },
   "file_extension": ".py",
   "mimetype": "text/x-python",
   "name": "python",
   "nbconvert_exporter": "python",
   "pygments_lexer": "ipython3",
   "version": "3.8.5"
  }
 },
 "nbformat": 4,
 "nbformat_minor": 4
}
