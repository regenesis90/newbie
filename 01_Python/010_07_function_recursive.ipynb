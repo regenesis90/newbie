{
 "cells": [
  {
   "cell_type": "markdown",
   "metadata": {},
   "source": [
    "# 재귀 함수(recursive function) : 함수 내부에서 자기자신을 다시 호출하는 함수"
   ]
  },
  {
   "cell_type": "markdown",
   "metadata": {},
   "source": [
    "### 문제 1. 1부터 주어진 숫자n까지 n factorial(n!)을 구하는 함수 factorial() 생성"
   ]
  },
  {
   "cell_type": "code",
   "execution_count": 8,
   "metadata": {},
   "outputs": [],
   "source": [
    "# 일반적인 함수 정의 방법\n",
    "def factorial(n:int):\n",
    "    \"\"\"\n",
    "    0! = 1\n",
    "    1! = 1\n",
    "    2! = 1 x 2\n",
    "    3! = 1 x 2 x 3\n",
    "    ...\n",
    "    n! = 1 x 2 x 3 x 4 x ... x n, n>=1 \"\"\"\n",
    "    result=None\n",
    "    if n==0:\n",
    "        result=1\n",
    "    elif n>=1:\n",
    "        result=1\n",
    "        for x in range(1, n+1):\n",
    "            result*=x\n",
    "    else:\n",
    "        raise ValueError('n은 0이상의 정수여야 합니다.')\n",
    "    return result"
   ]
  },
  {
   "cell_type": "code",
   "execution_count": 9,
   "metadata": {},
   "outputs": [
    {
     "data": {
      "text/plain": [
       "1"
      ]
     },
     "execution_count": 9,
     "metadata": {},
     "output_type": "execute_result"
    }
   ],
   "source": [
    "factorial(0)"
   ]
  },
  {
   "cell_type": "code",
   "execution_count": 10,
   "metadata": {},
   "outputs": [
    {
     "data": {
      "text/plain": [
       "3628800"
      ]
     },
     "execution_count": 10,
     "metadata": {},
     "output_type": "execute_result"
    }
   ],
   "source": [
    "factorial(10)"
   ]
  },
  {
   "cell_type": "code",
   "execution_count": 11,
   "metadata": {},
   "outputs": [],
   "source": [
    "# 재귀함수(recursive)를 사용하는 경우\n",
    "def factorial_recursive(n):\n",
    "    result=None\n",
    "    if n==0:\n",
    "        result=1\n",
    "    elif n>=1:\n",
    "        result=factorial_recursive(n-1)*n\n",
    "    return result"
   ]
  },
  {
   "cell_type": "code",
   "execution_count": 12,
   "metadata": {},
   "outputs": [
    {
     "data": {
      "text/plain": [
       "1"
      ]
     },
     "execution_count": 12,
     "metadata": {},
     "output_type": "execute_result"
    }
   ],
   "source": [
    "factorial_recursive(0)"
   ]
  },
  {
   "cell_type": "code",
   "execution_count": 13,
   "metadata": {},
   "outputs": [
    {
     "data": {
      "text/plain": [
       "3628800"
      ]
     },
     "execution_count": 13,
     "metadata": {},
     "output_type": "execute_result"
    }
   ],
   "source": [
    "factorial_recursive(10)"
   ]
  },
  {
   "cell_type": "code",
   "execution_count": 14,
   "metadata": {},
   "outputs": [
    {
     "name": "stdout",
     "output_type": "stream",
     "text": [
      "0! = 1\n",
      "1! = 1\n",
      "2! = 2\n",
      "3! = 6\n",
      "4! = 24\n",
      "5! = 120\n"
     ]
    }
   ],
   "source": [
    "for n in range(0,6):\n",
    "    print(f'{n}! = {factorial_recursive(n)}')"
   ]
  },
  {
   "cell_type": "markdown",
   "metadata": {},
   "source": [
    "### 문제 2. 1부터 주어진 숫자 n까지 합을 구하는 함수 sum_to"
   ]
  },
  {
   "cell_type": "code",
   "execution_count": 20,
   "metadata": {},
   "outputs": [],
   "source": [
    "# 일반적인 함수 정의\n",
    "def sum_to(n:int):\n",
    "    \"\"\"\n",
    "    sum_to(0)=0\n",
    "    sum_to(1)=1\n",
    "    sum_to(n)=1+2+3+...+(n-1)+n\n",
    "    n<0이면 None 리턴\"\"\"\n",
    "    if n>=0:\n",
    "        sum=0\n",
    "        for x in range(0,n+1):\n",
    "            sum+=x\n",
    "    else:\n",
    "        sum=None\n",
    "    return sum"
   ]
  },
  {
   "cell_type": "code",
   "execution_count": 21,
   "metadata": {},
   "outputs": [
    {
     "data": {
      "text/plain": [
       "0"
      ]
     },
     "execution_count": 21,
     "metadata": {},
     "output_type": "execute_result"
    }
   ],
   "source": [
    "sum_to(0)"
   ]
  },
  {
   "cell_type": "code",
   "execution_count": 22,
   "metadata": {},
   "outputs": [
    {
     "data": {
      "text/plain": [
       "5050"
      ]
     },
     "execution_count": 22,
     "metadata": {},
     "output_type": "execute_result"
    }
   ],
   "source": [
    "sum_to(100)"
   ]
  },
  {
   "cell_type": "code",
   "execution_count": 29,
   "metadata": {},
   "outputs": [],
   "source": [
    "# 재귀함수 사용 시\n",
    "def sum_to_recursive(n:int):\n",
    "    \"\"\"\n",
    "    sum_to(0)=0\n",
    "    sum_to(1)=1\n",
    "    sum_to(n)=1+2+3+...+(n-1)+n\n",
    "    n<0이면 None 리턴\"\"\"\n",
    "    result=0\n",
    "    if n==0:\n",
    "        result=0\n",
    "    elif n>=1:\n",
    "        result=sum_to_recursive(n-1)+n\n",
    "    else:\n",
    "        result=None\n",
    "    return result"
   ]
  },
  {
   "cell_type": "code",
   "execution_count": 30,
   "metadata": {},
   "outputs": [
    {
     "data": {
      "text/plain": [
       "0"
      ]
     },
     "execution_count": 30,
     "metadata": {},
     "output_type": "execute_result"
    }
   ],
   "source": [
    "sum_to_recursive(0)"
   ]
  },
  {
   "cell_type": "code",
   "execution_count": 31,
   "metadata": {},
   "outputs": [
    {
     "data": {
      "text/plain": [
       "55"
      ]
     },
     "execution_count": 31,
     "metadata": {},
     "output_type": "execute_result"
    }
   ],
   "source": [
    "sum_to_recursive(10)"
   ]
  },
  {
   "cell_type": "code",
   "execution_count": 32,
   "metadata": {},
   "outputs": [
    {
     "name": "stdout",
     "output_type": "stream",
     "text": [
      "sum_to_recursive(-1)=None\n",
      "sum_to_recursive(0)=0\n",
      "sum_to_recursive(1)=1\n",
      "sum_to_recursive(2)=3\n",
      "sum_to_recursive(3)=6\n",
      "sum_to_recursive(4)=10\n",
      "sum_to_recursive(5)=15\n"
     ]
    }
   ],
   "source": [
    "for n in range(-1,6):\n",
    "    print(f'sum_to_recursive({n})={sum_to_recursive(n)}')"
   ]
  }
 ],
 "metadata": {
  "kernelspec": {
   "display_name": "Python 3",
   "language": "python",
   "name": "python3"
  },
  "language_info": {
   "codemirror_mode": {
    "name": "ipython",
    "version": 3
   },
   "file_extension": ".py",
   "mimetype": "text/x-python",
   "name": "python",
   "nbconvert_exporter": "python",
   "pygments_lexer": "ipython3",
   "version": "3.8.5"
  }
 },
 "nbformat": 4,
 "nbformat_minor": 4
}
