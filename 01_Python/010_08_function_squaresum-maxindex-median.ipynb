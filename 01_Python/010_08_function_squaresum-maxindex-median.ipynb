{
 "cells": [
  {
   "cell_type": "markdown",
   "metadata": {},
   "source": [
    "### 문제 1. Square sum\n",
    "```1**2 + 2**2 + 3**2 + ... + n**2``` 값을 리턴하는 함수. n>=0"
   ]
  },
  {
   "cell_type": "code",
   "execution_count": 1,
   "metadata": {},
   "outputs": [],
   "source": [
    "# 일반 함수\n",
    "def square_sum(n:int):\n",
    "    if n>=0 :\n",
    "        result=0\n",
    "        for x in range(0,n+1):\n",
    "            result+=x**2\n",
    "        return result\n",
    "    else:\n",
    "        raise ValueError('n은 0 이상의 정수여야 합니다.')"
   ]
  },
  {
   "cell_type": "code",
   "execution_count": 2,
   "metadata": {},
   "outputs": [
    {
     "data": {
      "text/plain": [
       "0"
      ]
     },
     "execution_count": 2,
     "metadata": {},
     "output_type": "execute_result"
    }
   ],
   "source": [
    "square_sum(0)"
   ]
  },
  {
   "cell_type": "code",
   "execution_count": 3,
   "metadata": {},
   "outputs": [
    {
     "data": {
      "text/plain": [
       "5"
      ]
     },
     "execution_count": 3,
     "metadata": {},
     "output_type": "execute_result"
    }
   ],
   "source": [
    "square_sum(2) #> 1+4+9+16"
   ]
  },
  {
   "cell_type": "code",
   "execution_count": null,
   "metadata": {},
   "outputs": [],
   "source": []
  },
  {
   "cell_type": "code",
   "execution_count": 4,
   "metadata": {},
   "outputs": [],
   "source": [
    "# list comprehension + sum()\n",
    "def square_sum2(n:int):\n",
    "    if n>=0:\n",
    "        return sum([x**2 for x in range(0,n+1)])\n",
    "    else:\n",
    "        raise ValueError('n은 0 이상의 정수여야 합니다.')"
   ]
  },
  {
   "cell_type": "code",
   "execution_count": 5,
   "metadata": {},
   "outputs": [
    {
     "data": {
      "text/plain": [
       "5"
      ]
     },
     "execution_count": 5,
     "metadata": {},
     "output_type": "execute_result"
    }
   ],
   "source": [
    "square_sum2(2)"
   ]
  },
  {
   "cell_type": "code",
   "execution_count": 6,
   "metadata": {},
   "outputs": [],
   "source": [
    "# while loop 사용\n",
    "def square_sum3(n:int):\n",
    "    x=0\n",
    "    sum=0\n",
    "    while x<=n:\n",
    "        sum+=x**2\n",
    "        x+=1\n",
    "    return sum"
   ]
  },
  {
   "cell_type": "code",
   "execution_count": 7,
   "metadata": {},
   "outputs": [
    {
     "data": {
      "text/plain": [
       "5"
      ]
     },
     "execution_count": 7,
     "metadata": {},
     "output_type": "execute_result"
    }
   ],
   "source": [
    "square_sum3(2)"
   ]
  },
  {
   "cell_type": "code",
   "execution_count": 8,
   "metadata": {},
   "outputs": [],
   "source": [
    "# recursive function 사용\n",
    "def square_sum4(n:int):\n",
    "    if n==0:\n",
    "        result=0\n",
    "    elif n>0:\n",
    "        result=square_sum4(n-1)+n**2\n",
    "    return result"
   ]
  },
  {
   "cell_type": "markdown",
   "metadata": {},
   "source": [
    "## 문제 2. 숫자들의 리스트가 주어졌을 때, 그 리스트에서 최대값의 위치(index) 리턴"
   ]
  },
  {
   "cell_type": "code",
   "execution_count": 9,
   "metadata": {},
   "outputs": [],
   "source": [
    "# 함수 max(), 메서드 .index() 사용\n",
    "def max_index(numbers:list) -> int:\n",
    "    max_value=max(numbers)\n",
    "    max_index=numbers.index(max_value)\n",
    "    return max_index"
   ]
  },
  {
   "cell_type": "code",
   "execution_count": 10,
   "metadata": {},
   "outputs": [
    {
     "data": {
      "text/plain": [
       "6"
      ]
     },
     "execution_count": 10,
     "metadata": {},
     "output_type": "execute_result"
    }
   ],
   "source": [
    "num=[1,200,300,400,3,0,2000]\n",
    "max_index(num)"
   ]
  },
  {
   "cell_type": "code",
   "execution_count": 11,
   "metadata": {},
   "outputs": [],
   "source": [
    "# enumerate 사용\n",
    "def max_index2(numbers:list) -> int:\n",
    "    max_index, max_val=0, numbers[0]\n",
    "    for i,v in enumerate(numbers):\n",
    "        if v>max_val:\n",
    "            max_index, max_val=i,v\n",
    "    return max_index"
   ]
  },
  {
   "cell_type": "code",
   "execution_count": 12,
   "metadata": {},
   "outputs": [],
   "source": [
    "# while, if 사용\n",
    "def max_index3(numbers:list) -> int:\n",
    "    max_idx, max_val=0, numbers[0]\n",
    "    i=0\n",
    "    while i<len(numbers):\n",
    "        if numbers[i]>max_val:\n",
    "            max_idx,max_val=i,numbers[i]\n",
    "    return max_idx"
   ]
  },
  {
   "cell_type": "markdown",
   "metadata": {},
   "source": [
    "### 문제 3. 주어진 숫자 리스트의 중앙값(median) 리턴하는 함수"
   ]
  },
  {
   "cell_type": "markdown",
   "metadata": {},
   "source": [
    "* **sorted(list, reverse) 함수** : list를 오름차순/내림차순 정렬한 새 리스트 리턴\n",
    "* [1,2,3,4,5]의 median=3\n",
    "* [1,2,3,4,5,6]의 median=(3+4)/2=3.5"
   ]
  },
  {
   "cell_type": "code",
   "execution_count": 13,
   "metadata": {},
   "outputs": [],
   "source": [
    "def find_median(numbers:list) -> float:\n",
    "    numbers=sorted(numbers)\n",
    "    length=len(numbers)\n",
    "    mid=length//2\n",
    "    if length%2==1: #> 리스트 원소 개수가 홀수이면\n",
    "        median=numbers[mid]\n",
    "    else: #> 리스트 원소 개수가 짝수이면\n",
    "        left=mid-1\n",
    "        median=(numbers[left]+numbers[mid])/2\n",
    "    return median"
   ]
  },
  {
   "cell_type": "code",
   "execution_count": 14,
   "metadata": {},
   "outputs": [],
   "source": [
    "import random"
   ]
  },
  {
   "cell_type": "code",
   "execution_count": 15,
   "metadata": {},
   "outputs": [
    {
     "name": "stdout",
     "output_type": "stream",
     "text": [
      "[6, 2, 4, 6, 4, 0, 2, 3, 4]\n",
      "[0, 2, 2, 3, 4, 4, 4, 6, 6]\n",
      "4\n"
     ]
    }
   ],
   "source": [
    "numbers=[random.randrange(10) for _ in range(1,10)]\n",
    "print(numbers)\n",
    "print(sorted(numbers))\n",
    "median=find_median(numbers)\n",
    "print(median)"
   ]
  }
 ],
 "metadata": {
  "kernelspec": {
   "display_name": "Python 3",
   "language": "python",
   "name": "python3"
  },
  "language_info": {
   "codemirror_mode": {
    "name": "ipython",
    "version": 3
   },
   "file_extension": ".py",
   "mimetype": "text/x-python",
   "name": "python",
   "nbconvert_exporter": "python",
   "pygments_lexer": "ipython3",
   "version": "3.8.5"
  }
 },
 "nbformat": 4,
 "nbformat_minor": 4
}
