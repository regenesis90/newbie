{
 "cells": [
  {
   "cell_type": "markdown",
   "metadata": {},
   "source": [
    "# class - magic method"
   ]
  },
  {
   "cell_type": "code",
   "execution_count": 1,
   "metadata": {},
   "outputs": [],
   "source": [
    "import math"
   ]
  },
  {
   "cell_type": "markdown",
   "metadata": {},
   "source": [
    "## Class 생성 예제 : 점과 점 사이의 연산, 점과 숫자 사이의 연산을 정의하는 Point 클래스 생성"
   ]
  },
  {
   "cell_type": "code",
   "execution_count": 3,
   "metadata": {},
   "outputs": [],
   "source": [
    "class Point:\n",
    "    \n",
    "    def __init__(self, x=0, y=0):\n",
    "        self.x=x\n",
    "        self.y=y\n",
    "    \n",
    "    def __repr__(self): #> 메서드: 인스턴스가 print() 함수의 argument일 때 자동 호출\n",
    "        # 문자열을 리턴하는 메서드로 작성해야 함\n",
    "        return f'Point(x={self.x}, y={self.y})'\n",
    "    \n",
    "    def __add__(self, other): #> 메서드: Point끼리의 덧셈\n",
    "        \"\"\"메서드 : + 연산자 사용 시, +연산자 왼쪽에 Point 타입 객체가 있을 시 자동 호출\n",
    "        (x1, y1) + (x2, y2) = (x1+x2, y1+y2)\"\"\"\n",
    "        x=self.x+other.x\n",
    "        y=self.y+other.y\n",
    "        return Point(x,y)\n",
    "    \n",
    "    def __mul__(self, number): #> 메서드 : Point와 숫자의 곱셈\n",
    "        \"\"\"메서드 : * 연산자의 왼쪽 피연산자가 Point 타입일 시 자동 호출\n",
    "        point=Point(x1,y1)\n",
    "        point*number -> point.__mul__(number) -> 리턴 값 : * 연산 결과값 \"\"\"\n",
    "        x=self.x*number\n",
    "        y=self.y*number\n",
    "        return Point(x,y)\n",
    "    \n",
    "    def __rmul__(self, number): #> 메서드: 숫자와 Point의 곱셈\n",
    "        \"\"\"메서드 : * 연산자의 오른쪽 피연산자가 Point 타입일 시 자동 호출\n",
    "        point=Point(x1,y1)\n",
    "        number*point -> point.__rmul__(number) -> 리턴 값 : * 연산 결과값\"\"\"\n",
    "        x=self.x*number\n",
    "        y=self.y*number\n",
    "        return Point(x,y)\n",
    "    \n",
    "    def __eq__(self, other): #> 메서드 : 같은가/다른가\n",
    "        \"\"\"메서드 : == 연산자 사용 시 자동 호출\n",
    "        point==other\n",
    "        point.__eq__(other)\"\"\"\n",
    "        if not isinstance(other, Point): #> 오른쪽 피연산자 other가 Point 클래스 아닐 시\n",
    "            return False\n",
    "        return (self.x==other.x) and (self.y==other.y)\n",
    "    \n",
    "    def __gt__(self, other): #> 메서드 : 원점에서의 거리가 크고 작음 비교\n",
    "        \"\"\"메서드 : greater than(>) 연산자 사용 시 자동 호출.\n",
    "        point > other\n",
    "        point.__gt__(other)\"\"\"\n",
    "        if not isinstance(other, Point):\n",
    "            return False\n",
    "        d1=math.sqrt(self.x**2+self.y**2) #> 원점에서 self까지 거리\n",
    "        d2=math.sqrt(other.x**2+other.y**2) #> 원점에서 other까지 거리\n",
    "        return d1>d2"
   ]
  },
  {
   "cell_type": "markdown",
   "metadata": {},
   "source": [
    "## class Point test"
   ]
  },
  {
   "cell_type": "code",
   "execution_count": 4,
   "metadata": {},
   "outputs": [
    {
     "name": "stdout",
     "output_type": "stream",
     "text": [
      "Point(x=-1, y=1)\n",
      "x=-1, y=1\n"
     ]
    }
   ],
   "source": [
    "# Point 클래스 인스턴스 pt1 생성\n",
    "pt1=Point(-1,1)\n",
    "print(pt1)\n",
    "print(f'x={pt1.x}, y={pt1.y}')"
   ]
  },
  {
   "cell_type": "code",
   "execution_count": 5,
   "metadata": {},
   "outputs": [
    {
     "name": "stdout",
     "output_type": "stream",
     "text": [
      "type: <class '__main__.Point'>\n",
      "id: 2128855084288\n"
     ]
    }
   ],
   "source": [
    "print('type:', type(pt1))\n",
    "print('id:', id(pt1))"
   ]
  },
  {
   "cell_type": "code",
   "execution_count": 6,
   "metadata": {},
   "outputs": [],
   "source": [
    "pt2=Point(3,10)"
   ]
  },
  {
   "cell_type": "code",
   "execution_count": 7,
   "metadata": {},
   "outputs": [
    {
     "name": "stdout",
     "output_type": "stream",
     "text": [
      "Point(x=2, y=11)\n"
     ]
    }
   ],
   "source": [
    "result=pt1+pt2\n",
    "print(result)"
   ]
  },
  {
   "cell_type": "code",
   "execution_count": 8,
   "metadata": {},
   "outputs": [
    {
     "name": "stdout",
     "output_type": "stream",
     "text": [
      "Point(x=-2, y=2)\n"
     ]
    }
   ],
   "source": [
    "result=pt1*2\n",
    "print(result)"
   ]
  },
  {
   "cell_type": "code",
   "execution_count": 9,
   "metadata": {},
   "outputs": [
    {
     "name": "stdout",
     "output_type": "stream",
     "text": [
      "Point(x=6, y=20)\n"
     ]
    }
   ],
   "source": [
    "result=2*pt2\n",
    "print(result)"
   ]
  },
  {
   "cell_type": "code",
   "execution_count": 10,
   "metadata": {},
   "outputs": [
    {
     "name": "stdout",
     "output_type": "stream",
     "text": [
      "False\n"
     ]
    }
   ],
   "source": [
    "print(pt1 is pt2)"
   ]
  },
  {
   "cell_type": "code",
   "execution_count": 11,
   "metadata": {},
   "outputs": [
    {
     "name": "stdout",
     "output_type": "stream",
     "text": [
      "False\n"
     ]
    }
   ],
   "source": [
    "print(pt1==pt2)"
   ]
  },
  {
   "cell_type": "code",
   "execution_count": 12,
   "metadata": {},
   "outputs": [
    {
     "name": "stdout",
     "output_type": "stream",
     "text": [
      "False\n"
     ]
    }
   ],
   "source": [
    "print(pt1>pt2)"
   ]
  },
  {
   "cell_type": "code",
   "execution_count": 13,
   "metadata": {},
   "outputs": [
    {
     "name": "stdout",
     "output_type": "stream",
     "text": [
      "True\n"
     ]
    }
   ],
   "source": [
    "print(pt1<pt2)"
   ]
  }
 ],
 "metadata": {
  "kernelspec": {
   "display_name": "Python 3",
   "language": "python",
   "name": "python3"
  },
  "language_info": {
   "codemirror_mode": {
    "name": "ipython",
    "version": 3
   },
   "file_extension": ".py",
   "mimetype": "text/x-python",
   "name": "python",
   "nbconvert_exporter": "python",
   "pygments_lexer": "ipython3",
   "version": "3.8.5"
  }
 },
 "nbformat": 4,
 "nbformat_minor": 4
}
