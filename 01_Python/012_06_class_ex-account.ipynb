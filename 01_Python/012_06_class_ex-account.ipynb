{
 "cells": [
  {
   "cell_type": "markdown",
   "metadata": {},
   "source": [
    "# class 생성 예시 : Account 클래스, 은행계좌의 예\n",
    "\n",
    "* 속성(attritubes):\n",
    "    * 계좌번호(account_no): str\n",
    "    * 잔액(balance): number\n",
    "* 기능:\n",
    "    * 입금(deposit)\n",
    "    * 출금(withdraw)\n",
    "    * 조회(info)\n",
    "    * 이체(transfer)\n",
    "* magic method:\n",
    "    * `__repr__()`: Account(no.=123-456) 형태 출력\n",
    "    * `__eq__()` : 계좌번호 일치 시 True, 불일치 시 False 출력"
   ]
  },
  {
   "cell_type": "markdown",
   "metadata": {},
   "source": [
    "## class Account 생성"
   ]
  },
  {
   "cell_type": "code",
   "execution_count": 13,
   "metadata": {},
   "outputs": [],
   "source": [
    "class Account:\n",
    "    \n",
    "    def __init__(self, account_no, balance=0):\n",
    "        self.account_no=account_no\n",
    "        self.balance=balance\n",
    "    \n",
    "    def __repr__(self):\n",
    "        return f'Account(no.={self.account_no})'\n",
    "    \n",
    "    def __eq__(self, other):\n",
    "        if not isinstance(other, Account):\n",
    "            return False\n",
    "        return self.account_no==other.account_no\n",
    "    \n",
    "    def info(self):\n",
    "        print('Account No. :', self.account_no)\n",
    "        print('Balance :', self.balance)\n",
    "        \n",
    "    def deposit(self, amount):\n",
    "        self.balance+=amount\n",
    "    \n",
    "    def withdraw(self, amount):\n",
    "        self.balance-=amount\n",
    "    \n",
    "    def transfer(self, amount, to):\n",
    "        self.withdraw(amount)\n",
    "        to.deposit(amount)"
   ]
  },
  {
   "cell_type": "markdown",
   "metadata": {},
   "source": [
    "## Account class test"
   ]
  },
  {
   "cell_type": "code",
   "execution_count": 14,
   "metadata": {},
   "outputs": [
    {
     "name": "stdout",
     "output_type": "stream",
     "text": [
      "Account(no.=123-456)\n"
     ]
    }
   ],
   "source": [
    "account1=Account(account_no='123-456') #> Account 클래스 인스턴스 생성\n",
    "print(account1)"
   ]
  },
  {
   "cell_type": "code",
   "execution_count": 19,
   "metadata": {},
   "outputs": [
    {
     "name": "stdout",
     "output_type": "stream",
     "text": [
      "Account(no.=234-567)\n"
     ]
    }
   ],
   "source": [
    "account2=Account(account_no='234-567', balance=1000000)\n",
    "print(account2)"
   ]
  },
  {
   "cell_type": "code",
   "execution_count": 18,
   "metadata": {},
   "outputs": [
    {
     "name": "stdout",
     "output_type": "stream",
     "text": [
      "False\n"
     ]
    }
   ],
   "source": [
    "print(account1==account2)"
   ]
  },
  {
   "cell_type": "code",
   "execution_count": 17,
   "metadata": {},
   "outputs": [
    {
     "name": "stdout",
     "output_type": "stream",
     "text": [
      "Account No. : 123-456\n",
      "Balance : 10000\n"
     ]
    }
   ],
   "source": [
    "account1.deposit(10000)\n",
    "account1.info()"
   ]
  },
  {
   "cell_type": "code",
   "execution_count": 20,
   "metadata": {},
   "outputs": [
    {
     "name": "stdout",
     "output_type": "stream",
     "text": [
      "Account No. : 123-456\n",
      "Balance : 9000\n"
     ]
    }
   ],
   "source": [
    "account1.withdraw(1000)\n",
    "account1.info()"
   ]
  },
  {
   "cell_type": "code",
   "execution_count": 21,
   "metadata": {},
   "outputs": [
    {
     "name": "stdout",
     "output_type": "stream",
     "text": [
      "Account No. : 123-456\n",
      "Balance : 4000\n",
      "\n",
      "Account No. : 234-567\n",
      "Balance : 1005000\n"
     ]
    }
   ],
   "source": [
    "account1.transfer(5000, account2)\n",
    "account1.info()\n",
    "print()\n",
    "account2.info()"
   ]
  }
 ],
 "metadata": {
  "kernelspec": {
   "display_name": "Python 3",
   "language": "python",
   "name": "python3"
  },
  "language_info": {
   "codemirror_mode": {
    "name": "ipython",
    "version": 3
   },
   "file_extension": ".py",
   "mimetype": "text/x-python",
   "name": "python",
   "nbconvert_exporter": "python",
   "pygments_lexer": "ipython3",
   "version": "3.8.5"
  }
 },
 "nbformat": 4,
 "nbformat_minor": 4
}
