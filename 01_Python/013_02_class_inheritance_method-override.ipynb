{
 "cells": [
  {
   "cell_type": "markdown",
   "metadata": {},
   "source": [
    "# class - inheritance - Method Override"
   ]
  },
  {
   "cell_type": "markdown",
   "metadata": {},
   "source": [
    "## Method Override\n",
    "\n",
    "* 상위 클래스의 메서드를 하위 클래스에서 같은 이름으로 재정의하는 것(덮어쓰기)\n",
    "* 하위 클래스에서 overriding된 상위 클래스 메서드를 호출하려면 : `super().super_method()`"
   ]
  },
  {
   "cell_type": "markdown",
   "metadata": {},
   "source": [
    "## 상속과 isinstance 함수 : isinstance 함수로 상속 관계 파악하기"
   ]
  },
  {
   "cell_type": "code",
   "execution_count": 1,
   "metadata": {},
   "outputs": [],
   "source": [
    "class Car:\n",
    "    pass\n",
    "\n",
    "class HybridCar(Car): #> HybridCar 클래스는 Car 클래스를 상속한다.\n",
    "    pass"
   ]
  },
  {
   "cell_type": "code",
   "execution_count": 3,
   "metadata": {},
   "outputs": [
    {
     "name": "stdout",
     "output_type": "stream",
     "text": [
      "True\n",
      "True\n"
     ]
    }
   ],
   "source": [
    "car1 = HybridCar()\n",
    "print(isinstance(car1, HybridCar)) #> True: car1은 하이브리드 자동차\n",
    "print(isinstance(car1, Car)) #> True: car1은 자동차"
   ]
  },
  {
   "cell_type": "code",
   "execution_count": 4,
   "metadata": {},
   "outputs": [
    {
     "name": "stdout",
     "output_type": "stream",
     "text": [
      "False\n",
      "True\n"
     ]
    }
   ],
   "source": [
    "car2 = Car()\n",
    "print(isinstance(car2, HybridCar)) #> False: car1은 하이브리드 자동차 아닐 수 있다.\n",
    "print(isinstance(car2, Car)) #> True: car1은 자동차"
   ]
  },
  {
   "cell_type": "markdown",
   "metadata": {},
   "source": [
    "## 상속과 isinstance() : Animal의 예"
   ]
  },
  {
   "cell_type": "code",
   "execution_count": 5,
   "metadata": {},
   "outputs": [],
   "source": [
    "class Animal:\n",
    "    def move(self):\n",
    "        pass #> sub class에서 각각 구현하기\n",
    "\n",
    "class Dog(Animal): #> Dog inherits Animal\n",
    "    def move(self): #> method override\n",
    "        print('강아지는 뛰어간다.') \n",
    "\n",
    "class Bird(Animal): #> Bird inherits Animal\n",
    "    def move(self): #> method override\n",
    "        print('새가 날아간다.')\n",
    "\n",
    "class Tree:\n",
    "    pass"
   ]
  },
  {
   "cell_type": "code",
   "execution_count": 6,
   "metadata": {},
   "outputs": [],
   "source": [
    "array = [Dog(), Bird(), Tree()]"
   ]
  },
  {
   "cell_type": "code",
   "execution_count": 7,
   "metadata": {},
   "outputs": [
    {
     "name": "stdout",
     "output_type": "stream",
     "text": [
      "강아지는 뛰어간다.\n",
      "새가 날아간다.\n"
     ]
    }
   ],
   "source": [
    "for x in array:\n",
    "    if isinstance(x, Animal): #> array 리스트의 원소가 Aniaml 클래스 인스턴스라면\n",
    "        x.move() # move 메서드 작동"
   ]
  }
 ],
 "metadata": {
  "kernelspec": {
   "display_name": "Python 3",
   "language": "python",
   "name": "python3"
  },
  "language_info": {
   "codemirror_mode": {
    "name": "ipython",
    "version": 3
   },
   "file_extension": ".py",
   "mimetype": "text/x-python",
   "name": "python",
   "nbconvert_exporter": "python",
   "pygments_lexer": "ipython3",
   "version": "3.8.8"
  }
 },
 "nbformat": 4,
 "nbformat_minor": 4
}
