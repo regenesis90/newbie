{
 "cells": [
  {
   "cell_type": "markdown",
   "metadata": {},
   "source": [
    "# class - inheritance - ex - shape"
   ]
  },
  {
   "cell_type": "code",
   "execution_count": 1,
   "metadata": {},
   "outputs": [],
   "source": [
    "import math #math.pi, math.sqrt() 사용 목적"
   ]
  },
  {
   "cell_type": "code",
   "execution_count": 2,
   "metadata": {},
   "outputs": [
    {
     "name": "stdout",
     "output_type": "stream",
     "text": [
      "3.141592653589793\n"
     ]
    }
   ],
   "source": [
    "print(math.pi)"
   ]
  },
  {
   "cell_type": "markdown",
   "metadata": {},
   "source": [
    "## 1. Point 클래스 선언"
   ]
  },
  {
   "cell_type": "code",
   "execution_count": 9,
   "metadata": {},
   "outputs": [],
   "source": [
    "class Point:\n",
    "    \"\"\"클래스: 2차원 평면상의 점의 좌표 표현\"\"\"\n",
    "    def __init__(self, x=0, y=0):\n",
    "        self.x=x\n",
    "        self.y=y\n",
    "    \n",
    "    def __repr__(self): #> magic method\n",
    "        \"\"\"매직 메서드: Point(x, y) 형태로 출력\"\"\"\n",
    "        return f'Point({self.x}, {self.y})'\n",
    "    \n",
    "    def move(self, dx, dy): #> 메서드: 이동\n",
    "        \"\"\"메서드: 점 좌표를 (dx, dy) 만큼 이동\"\"\"\n",
    "        self.x+=dx\n",
    "        self.y+=dy"
   ]
  },
  {
   "cell_type": "code",
   "execution_count": 10,
   "metadata": {},
   "outputs": [
    {
     "name": "stdout",
     "output_type": "stream",
     "text": [
      "Point(2, 3)\n"
     ]
    }
   ],
   "source": [
    "# Point 클래스 작동 확인\n",
    "pt1=Point(2,3)\n",
    "print(pt1)"
   ]
  },
  {
   "cell_type": "code",
   "execution_count": 11,
   "metadata": {},
   "outputs": [
    {
     "name": "stdout",
     "output_type": "stream",
     "text": [
      "Point(6, 8)\n"
     ]
    }
   ],
   "source": [
    "pt1.move(4,5)\n",
    "print(pt1)"
   ]
  },
  {
   "cell_type": "markdown",
   "metadata": {},
   "source": [
    "## 2. Shape 클래스 선언 : Point 클래스 상속"
   ]
  },
  {
   "cell_type": "code",
   "execution_count": 18,
   "metadata": {},
   "outputs": [],
   "source": [
    "class Shape:\n",
    "    \"\"\"2차원 평면상의 도형을 표현하는 클래스\"\"\"\n",
    "    def __init__(self, x, y):\n",
    "        self.point=Point(x,y)\n",
    "    \n",
    "    def __repr__(self):\n",
    "        return f'Shape[point={self.point}]'\n",
    "    \n",
    "    def move(self, dx, dy):\n",
    "        \"\"\"메서드: 도형을 x축 방향 dx, y축 방향 dy만큼 이동\"\"\"\n",
    "        self.point.move(dx,dy)\n",
    "    \n",
    "    def area(self):\n",
    "        raise NotImplementedError('넓이를 반환할 수 있는 메서드가 구현되어야 합니다.')\n",
    "    \n",
    "    def perimeter(self):\n",
    "        raise NotImplementedError('둘레 길이를 반환할 수 있는 메서드가 구현되어야 합니다.')"
   ]
  },
  {
   "cell_type": "code",
   "execution_count": 19,
   "metadata": {},
   "outputs": [
    {
     "name": "stdout",
     "output_type": "stream",
     "text": [
      "Shape[point=Point(0, 2)]\n"
     ]
    }
   ],
   "source": [
    "# Shape 클래스 작동 테스트\n",
    "sh=Shape(0,2)\n",
    "print(sh)"
   ]
  },
  {
   "cell_type": "code",
   "execution_count": 20,
   "metadata": {},
   "outputs": [
    {
     "name": "stdout",
     "output_type": "stream",
     "text": [
      "Shape[point=Point(3, 14)]\n"
     ]
    }
   ],
   "source": [
    "sh.move(3,12)\n",
    "print(sh)"
   ]
  },
  {
   "cell_type": "code",
   "execution_count": 21,
   "metadata": {},
   "outputs": [
    {
     "ename": "NotImplementedError",
     "evalue": "넓이를 반환할 수 있는 메서드가 구현되어야 합니다.",
     "output_type": "error",
     "traceback": [
      "\u001b[1;31m---------------------------------------------------------------------------\u001b[0m",
      "\u001b[1;31mNotImplementedError\u001b[0m                       Traceback (most recent call last)",
      "\u001b[1;32m<ipython-input-21-d4e5e634e355>\u001b[0m in \u001b[0;36m<module>\u001b[1;34m\u001b[0m\n\u001b[0;32m      1\u001b[0m \u001b[1;31m#> 오류 발생 구문: 상속 클래스에서 override 해야 하는 것\u001b[0m\u001b[1;33m\u001b[0m\u001b[1;33m\u001b[0m\u001b[1;33m\u001b[0m\u001b[0m\n\u001b[1;32m----> 2\u001b[1;33m \u001b[0msh\u001b[0m\u001b[1;33m.\u001b[0m\u001b[0marea\u001b[0m\u001b[1;33m(\u001b[0m\u001b[1;33m)\u001b[0m\u001b[1;33m\u001b[0m\u001b[1;33m\u001b[0m\u001b[0m\n\u001b[0m",
      "\u001b[1;32m<ipython-input-18-06a6e15131fe>\u001b[0m in \u001b[0;36marea\u001b[1;34m(self)\u001b[0m\n\u001b[0;32m     12\u001b[0m \u001b[1;33m\u001b[0m\u001b[0m\n\u001b[0;32m     13\u001b[0m     \u001b[1;32mdef\u001b[0m \u001b[0marea\u001b[0m\u001b[1;33m(\u001b[0m\u001b[0mself\u001b[0m\u001b[1;33m)\u001b[0m\u001b[1;33m:\u001b[0m\u001b[1;33m\u001b[0m\u001b[1;33m\u001b[0m\u001b[0m\n\u001b[1;32m---> 14\u001b[1;33m         \u001b[1;32mraise\u001b[0m \u001b[0mNotImplementedError\u001b[0m\u001b[1;33m(\u001b[0m\u001b[1;34m'넓이를 반환할 수 있는 메서드가 구현되어야 합니다.'\u001b[0m\u001b[1;33m)\u001b[0m\u001b[1;33m\u001b[0m\u001b[1;33m\u001b[0m\u001b[0m\n\u001b[0m\u001b[0;32m     15\u001b[0m \u001b[1;33m\u001b[0m\u001b[0m\n\u001b[0;32m     16\u001b[0m     \u001b[1;32mdef\u001b[0m \u001b[0mperimeter\u001b[0m\u001b[1;33m(\u001b[0m\u001b[0mself\u001b[0m\u001b[1;33m)\u001b[0m\u001b[1;33m:\u001b[0m\u001b[1;33m\u001b[0m\u001b[1;33m\u001b[0m\u001b[0m\n",
      "\u001b[1;31mNotImplementedError\u001b[0m: 넓이를 반환할 수 있는 메서드가 구현되어야 합니다."
     ]
    }
   ],
   "source": [
    "#> 오류 발생 구문: 상속 클래스에서 override 해야 하는 것\n",
    "sh.area()"
   ]
  },
  {
   "cell_type": "markdown",
   "metadata": {},
   "source": [
    "## 3. Circle 클래스 선언 : Shape 클래스 상속"
   ]
  },
  {
   "cell_type": "code",
   "execution_count": 22,
   "metadata": {},
   "outputs": [],
   "source": [
    "class Circle(Shape): #> Shape 클래스 상속\n",
    "    \"\"\"클래스: 중심 좌표가 (x,y), 반지름=radius인 원 표현\"\"\"\n",
    "    def __init__(self, x, y, radius):\n",
    "        super().__init__(x,y) #> override\n",
    "        self.radius=radius\n",
    "    \n",
    "    def __repr__(self): #> magic method\n",
    "        \"\"\"매직 메서드: Circle(center=Point(0,0), radius=1)\"\"\"\n",
    "        return f'Circle(center={self.point}, radius={self.radius})'\n",
    "    \n",
    "    def area(self): #> method override\n",
    "        return math.pi*self.radius**2\n",
    "    \n",
    "    def perimeter(self): #> method override\n",
    "        return 2*math.pi*self.radius"
   ]
  },
  {
   "cell_type": "code",
   "execution_count": 23,
   "metadata": {},
   "outputs": [
    {
     "name": "stdout",
     "output_type": "stream",
     "text": [
      "Circle(center=Point(3, 4), radius=5)\n"
     ]
    }
   ],
   "source": [
    "# class Circle 테스트\n",
    "c1=Circle(3,4,5)\n",
    "print(c1)"
   ]
  },
  {
   "cell_type": "code",
   "execution_count": 24,
   "metadata": {},
   "outputs": [
    {
     "name": "stdout",
     "output_type": "stream",
     "text": [
      "Circle(center=Point(8, 7), radius=5)\n"
     ]
    }
   ],
   "source": [
    "c1.move(5,3)\n",
    "print(c1)"
   ]
  },
  {
   "cell_type": "code",
   "execution_count": 25,
   "metadata": {},
   "outputs": [
    {
     "name": "stdout",
     "output_type": "stream",
     "text": [
      "넓이: 78.53981633974483\n",
      "둘레: 31.41592653589793\n"
     ]
    }
   ],
   "source": [
    "print('넓이:', c1.area())\n",
    "print('둘레:', c1.perimeter())"
   ]
  },
  {
   "cell_type": "markdown",
   "metadata": {},
   "source": [
    "## 4. Rectangle 클래스 선언 : Shape 클래스 상속"
   ]
  },
  {
   "cell_type": "code",
   "execution_count": 26,
   "metadata": {},
   "outputs": [],
   "source": [
    "class Rectangle(Shape): #> Shape 클래스 상속\n",
    "    \"\"\"클래스: 꼭지점 좌표가 (x,y)이고 가로길이 width, 세로길이 height인 직사각형\"\"\"\n",
    "    def __init__(self, x, y, width, height):\n",
    "        super().__init__(x,y) #> override\n",
    "        self.width=width\n",
    "        self.height=height\n",
    "    \n",
    "    def __repr__(self):\n",
    "        \"\"\"매직 메서드: Rectangle(corner=Point(0,0), width=3, height=4)\"\"\"\n",
    "        return f'Rectangle(corner={self.point}, width={self.width}, height={self.height})'\n",
    "    \n",
    "    def area(self):\n",
    "        \"\"\"메서드: 직사각형 면적 계산\"\"\"\n",
    "        return self.width*self.height #> override\n",
    "    \n",
    "    def perimeter(self):\n",
    "        \"\"\"메서드: 직사각형 둘레 계산\"\"\"\n",
    "        return (self.width+self.height)*2"
   ]
  },
  {
   "cell_type": "code",
   "execution_count": 27,
   "metadata": {},
   "outputs": [
    {
     "name": "stdout",
     "output_type": "stream",
     "text": [
      "Rectangle(corner=Point(3, 4), width=6, height=10)\n"
     ]
    }
   ],
   "source": [
    "# Rectangle 클래스 작동 테스트\n",
    "rect1=Rectangle(3,4,6,10)\n",
    "print(rect1)"
   ]
  },
  {
   "cell_type": "code",
   "execution_count": 29,
   "metadata": {},
   "outputs": [
    {
     "name": "stdout",
     "output_type": "stream",
     "text": [
      "Rectangle(corner=Point(-1, -6), width=6, height=10)\n"
     ]
    }
   ],
   "source": [
    "rect1.move(-4,-10)\n",
    "print(rect1)"
   ]
  },
  {
   "cell_type": "code",
   "execution_count": 30,
   "metadata": {},
   "outputs": [
    {
     "name": "stdout",
     "output_type": "stream",
     "text": [
      "넓이: 60\n",
      "둘레: 32\n"
     ]
    }
   ],
   "source": [
    "print('넓이:', rect1.area())\n",
    "print('둘레:', rect1.perimeter())"
   ]
  },
  {
   "cell_type": "markdown",
   "metadata": {},
   "source": [
    "## 5. Square 클래스 선언 : Rectangle 클래스 상속, 정사각형"
   ]
  },
  {
   "cell_type": "code",
   "execution_count": 31,
   "metadata": {},
   "outputs": [],
   "source": [
    "class Square(Rectangle):\n",
    "    \"\"\"클래스: 꼭지점 좌표가 (x,y)이고 한 변의 길이가 length인 정사각형\"\"\"\n",
    "    def __init__(self, x, y, length):\n",
    "        super().__init__(x, y, length, length)\n",
    "    \n",
    "    def __repr__(self):\n",
    "        return f'Square(corner={self.point}, length={self.width})'"
   ]
  },
  {
   "cell_type": "code",
   "execution_count": 32,
   "metadata": {},
   "outputs": [
    {
     "name": "stdout",
     "output_type": "stream",
     "text": [
      "Square(corner=Point(2, 3), length=10)\n"
     ]
    }
   ],
   "source": [
    "# Square 클래스 작동 테스트\n",
    "sq1=Square(2,3,10)\n",
    "print(sq1)"
   ]
  },
  {
   "cell_type": "code",
   "execution_count": 33,
   "metadata": {},
   "outputs": [
    {
     "name": "stdout",
     "output_type": "stream",
     "text": [
      "Square(corner=Point(-1, 7), length=10)\n"
     ]
    }
   ],
   "source": [
    "sq1.move(-3,4)\n",
    "print(sq1)"
   ]
  },
  {
   "cell_type": "code",
   "execution_count": 34,
   "metadata": {},
   "outputs": [
    {
     "name": "stdout",
     "output_type": "stream",
     "text": [
      "넓이: 100\n",
      "둘레: 40\n"
     ]
    }
   ],
   "source": [
    "print('넓이:', sq1.area())\n",
    "print('둘레:', sq1.perimeter())"
   ]
  },
  {
   "cell_type": "code",
   "execution_count": null,
   "metadata": {},
   "outputs": [],
   "source": []
  }
 ],
 "metadata": {
  "kernelspec": {
   "display_name": "Python 3",
   "language": "python",
   "name": "python3"
  },
  "language_info": {
   "codemirror_mode": {
    "name": "ipython",
    "version": 3
   },
   "file_extension": ".py",
   "mimetype": "text/x-python",
   "name": "python",
   "nbconvert_exporter": "python",
   "pygments_lexer": "ipython3",
   "version": "3.8.5"
  }
 },
 "nbformat": 4,
 "nbformat_minor": 4
}
