{
 "cells": [
  {
   "cell_type": "markdown",
   "metadata": {},
   "source": [
    "# 문자열 : string"
   ]
  },
  {
   "cell_type": "markdown",
   "metadata": {},
   "source": [
    "* 문자열(string) : 여러 문자가 순서대로 나열되어 있는 것. 대괄호 연산자로 문자열 내의 개별 문자에 접근 가능"
   ]
  },
  {
   "cell_type": "code",
   "execution_count": 3,
   "metadata": {},
   "outputs": [
    {
     "name": "stdout",
     "output_type": "stream",
     "text": [
      "a\n",
      "6\n"
     ]
    }
   ],
   "source": [
    "fruit = 'banana'\n",
    "letter = fruit[1]\n",
    "\n",
    "print(letter)\n",
    "print(len(fruit))"
   ]
  },
  {
   "cell_type": "code",
   "execution_count": 4,
   "metadata": {},
   "outputs": [
    {
     "name": "stdout",
     "output_type": "stream",
     "text": [
      "b\n",
      "a\n",
      "n\n",
      "a\n",
      "n\n",
      "a\n"
     ]
    }
   ],
   "source": [
    "index = 0\n",
    "\n",
    "while index < len(fruit):\n",
    "    letter = fruit[index]\n",
    "    print(letter)\n",
    "    index = index + 1"
   ]
  },
  {
   "cell_type": "code",
   "execution_count": 6,
   "metadata": {},
   "outputs": [
    {
     "name": "stdout",
     "output_type": "stream",
     "text": [
      "b\n",
      "a\n",
      "n\n",
      "a\n",
      "n\n",
      "a\n"
     ]
    }
   ],
   "source": [
    "for char in fruit:\n",
    "    print(char)"
   ]
  },
  {
   "cell_type": "markdown",
   "metadata": {},
   "source": [
    "# 문자열 슬라이스(slice)\n",
    "\n",
    "* 슬라이스(slice) : 문자열의 특정 부분\n",
    "* 문자열 내의 슬라이스를 지정하는 일은, 인덱스로 문자를 지정하는 것과 유사하다."
   ]
  },
  {
   "cell_type": "code",
   "execution_count": 8,
   "metadata": {},
   "outputs": [
    {
     "name": "stdout",
     "output_type": "stream",
     "text": [
      "Monty\n",
      "Python\n"
     ]
    }
   ],
   "source": [
    "s = 'Monty Python'\n",
    "print(s[0:5])\n",
    "print(s[6:])"
   ]
  },
  {
   "cell_type": "code",
   "execution_count": 9,
   "metadata": {},
   "outputs": [
    {
     "name": "stdout",
     "output_type": "stream",
     "text": [
      "\n"
     ]
    }
   ],
   "source": [
    "fruit = 'banana'\n",
    "print(fruit[3:3])"
   ]
  },
  {
   "cell_type": "markdown",
   "metadata": {},
   "source": [
    "## 문자열 불변(immutable) : 이미 생성한 문자열은 변경할 수 없다\n",
    "* 이미 생성한 문자열은 변경할 수 없으므로, 원본을 변경한 새 문자열을 만드는 것이 가장 나을 수 있다."
   ]
  },
  {
   "cell_type": "code",
   "execution_count": 11,
   "metadata": {},
   "outputs": [
    {
     "name": "stdout",
     "output_type": "stream",
     "text": [
      "Jello, World!\n",
      "Hello, World!\n"
     ]
    }
   ],
   "source": [
    "greeting = 'Hello, World!'\n",
    "new_greeting = 'J' + greeting[1:]\n",
    "\n",
    "print(new_greeting)\n",
    "print(greeting)"
   ]
  },
  {
   "cell_type": "markdown",
   "metadata": {},
   "source": [
    "### 문자열 내에 'a'가 몇 개 들어가는지 구하는 수식 구하기"
   ]
  },
  {
   "cell_type": "code",
   "execution_count": 12,
   "metadata": {},
   "outputs": [
    {
     "name": "stdin",
     "output_type": "stream",
     "text": [
      "문자열을 입력해주세요: andrea lloyd\n"
     ]
    },
    {
     "name": "stdout",
     "output_type": "stream",
     "text": [
      "2\n"
     ]
    }
   ],
   "source": [
    "word = input('문자열을 입력해주세요:')\n",
    "count = 0\n",
    "\n",
    "for x in word:\n",
    "    if x == 'a':\n",
    "        count = count + 1\n",
    "        \n",
    "print(count)"
   ]
  },
  {
   "cell_type": "markdown",
   "metadata": {},
   "source": [
    "# in 연산자 : bool 연산자.\n",
    "## 2개의 문자열을 인수로 받아, 첫 번째 문자열이 두 번째 문자열에 포함되면 True 반환"
   ]
  },
  {
   "cell_type": "code",
   "execution_count": 14,
   "metadata": {},
   "outputs": [
    {
     "data": {
      "text/plain": [
       "True"
      ]
     },
     "execution_count": 14,
     "metadata": {},
     "output_type": "execute_result"
    }
   ],
   "source": [
    "'a' in 'banana' #>true"
   ]
  },
  {
   "cell_type": "markdown",
   "metadata": {},
   "source": [
    "## 문자열의 비교 : if. 문자열이 동일한지 비교한다.\n",
    "## 알파벳 순서에 따라 크고 작음을 비교할 수도 있다."
   ]
  },
  {
   "cell_type": "code",
   "execution_count": 16,
   "metadata": {},
   "outputs": [
    {
     "name": "stdin",
     "output_type": "stream",
     "text": [
      "문자를 입력해 주세요: banana\n"
     ]
    },
    {
     "name": "stdout",
     "output_type": "stream",
     "text": [
      "Yes. It is banana.\n"
     ]
    }
   ],
   "source": [
    "word = input('문자를 입력해 주세요:')\n",
    "\n",
    "if word == 'banana':\n",
    "    print('Yes. It is banana.')\n",
    "\n",
    "    else :\n",
    "    print('No. It is not banana.')"
   ]
  },
  {
   "cell_type": "code",
   "execution_count": 1,
   "metadata": {
    "execution": {
     "iopub.execute_input": "2022-05-24T00:10:40.404280Z",
     "iopub.status.busy": "2022-05-24T00:10:40.404280Z",
     "iopub.status.idle": "2022-05-24T00:10:42.531258Z",
     "shell.execute_reply": "2022-05-24T00:10:42.530262Z",
     "shell.execute_reply.started": "2022-05-24T00:10:40.404280Z"
    },
    "tags": []
   },
   "outputs": [
    {
     "name": "stdin",
     "output_type": "stream",
     "text": [
      "문자를 입력해 주세요: 456\n"
     ]
    },
    {
     "name": "stdout",
     "output_type": "stream",
     "text": [
      "456 banana\n"
     ]
    }
   ],
   "source": [
    "word = input('문자를 입력해 주세요:')\n",
    "\n",
    "if word > 'banana':\n",
    "    print('banana', word)\n",
    "\n",
    "    else:\n",
    "    print(word, 'banana')"
   ]
  },
  {
   "cell_type": "code",
   "execution_count": null,
   "metadata": {},
   "outputs": [],
   "source": []
  }
 ],
 "metadata": {
  "kernelspec": {
   "display_name": "Python 3",
   "language": "python",
   "name": "python3"
  },
  "language_info": {
   "codemirror_mode": {
    "name": "ipython",
    "version": 3
   },
   "file_extension": ".py",
   "mimetype": "text/x-python",
   "name": "python",
   "nbconvert_exporter": "python",
   "pygments_lexer": "ipython3",
   "version": "3.8.8"
  }
 },
 "nbformat": 4,
 "nbformat_minor": 4
}
