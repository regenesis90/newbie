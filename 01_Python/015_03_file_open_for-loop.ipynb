{
 "cells": [
  {
   "cell_type": "markdown",
   "metadata": {},
   "source": [
    "# file - open - for loop를 사용한 구문들"
   ]
  },
  {
   "cell_type": "markdown",
   "metadata": {},
   "source": [
    "## 1. 파일 내용 전부 출력(파일 내용 길이에 유의)\n",
    "\n",
    "```f=open(file='파일이름', mode='r')\n",
    "for line in f:\n",
    "    print(line)```"
   ]
  },
  {
   "cell_type": "code",
   "execution_count": 3,
   "metadata": {},
   "outputs": [
    {
     "name": "stdout",
     "output_type": "stream",
     "text": [
      "Andrea is 23 years old.\n",
      "She has older brother named Yanis Gray.\n",
      "They have gray eyes, gray hair.\n",
      "Andrea hated NY.\n"
     ]
    }
   ],
   "source": [
    "f = open('andrea.txt')\n",
    "\n",
    "for line in f:\n",
    "    print(line, end = '')"
   ]
  },
  {
   "cell_type": "markdown",
   "metadata": {},
   "source": [
    "## 2. 파일의 텍스트 행 개수 출력"
   ]
  },
  {
   "cell_type": "code",
   "execution_count": 4,
   "metadata": {},
   "outputs": [
    {
     "name": "stdout",
     "output_type": "stream",
     "text": [
      "Line Count : 4\n"
     ]
    }
   ],
   "source": [
    "f = open('andrea.txt')\n",
    "line_count = 0\n",
    "\n",
    "for line in f:\n",
    "    line_count += 1\n",
    "    \n",
    "print(f'Line Count : {line_count}')"
   ]
  },
  {
   "cell_type": "markdown",
   "metadata": {},
   "source": [
    "## 3. 사용자로부터 파일 이름 받기 : input() 사용\n",
    "* 파이썬 코드를 수정하지 않더라도 매번 새로운 파일을 처리 가능함"
   ]
  },
  {
   "cell_type": "code",
   "execution_count": 5,
   "metadata": {},
   "outputs": [
    {
     "name": "stdin",
     "output_type": "stream",
     "text": [
      "파일 이름 입력:  andrea.txt\n",
      "탐색할 시작 문자 입력:  Andrea\n"
     ]
    },
    {
     "name": "stdout",
     "output_type": "stream",
     "text": [
      "There were 2 subject lines in andrea.txt\n"
     ]
    }
   ],
   "source": [
    "# 입력된 파일에서, 'Subject:'로 시작하는 줄의 수만 찾기\n",
    "fname = input('파일 이름 입력: ') #> 파일 경로, 파일 이름, 확장자 입력\n",
    "start_str = input('탐색할 시작 문자 입력: ')\n",
    "f = open(fname) #> 파일 핸들\n",
    "count = 0\n",
    "\n",
    "for line in f:\n",
    "    if line.startswith(start_str):\n",
    "        count = count + 1\n",
    "\n",
    "print(f'There were {count} subject lines in {fname}')"
   ]
  },
  {
   "cell_type": "markdown",
   "metadata": {},
   "source": [
    "# 주의사항 : .read()\n",
    "\n",
    "* read() 함수를 호출할 때마다 리소스 소비 : 호츨 결과는 변수로 저장해 둔다.\n",
    "* 파일 크기가 작아서 메인 메모리에 큰 부담을 주지 않는 게 확실한 경우만 써야 한다.\n",
    "* 파일이 크다면, for나 while 루프로 파일을 조각(chunk)으로 읽어야 한다."
   ]
  }
 ],
 "metadata": {
  "kernelspec": {
   "display_name": "Python 3",
   "language": "python",
   "name": "python3"
  },
  "language_info": {
   "codemirror_mode": {
    "name": "ipython",
    "version": 3
   },
   "file_extension": ".py",
   "mimetype": "text/x-python",
   "name": "python",
   "nbconvert_exporter": "python",
   "pygments_lexer": "ipython3",
   "version": "3.8.8"
  }
 },
 "nbformat": 4,
 "nbformat_minor": 4
}
