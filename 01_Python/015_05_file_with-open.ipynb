{
 "cells": [
  {
   "cell_type": "markdown",
   "metadata": {},
   "source": [
    "# with open as file_handle : 파일 쓰기 후 자동으로 파일이 닫힘\n",
    "\n",
    "1. 파일 열기 : with open as\n",
    "2. **파일 쓰기 완료 후 자동으로 파일이 닫히므로,** f.close() 명시적 호출 불필요"
   ]
  },
  {
   "cell_type": "code",
   "execution_count": 1,
   "metadata": {},
   "outputs": [],
   "source": [
    "with open(file = 'yanis.txt', mode = 'wt', encoding = 'UTF-8') as f:\n",
    "    f.write('Yanis Gray has yonger sister.\\n')\n",
    "    f.write('Scary man\\n')\n",
    "    f.write('Scarface\\n')\n",
    "    f.write('Gray hair')"
   ]
  },
  {
   "cell_type": "code",
   "execution_count": 2,
   "metadata": {},
   "outputs": [
    {
     "name": "stdout",
     "output_type": "stream",
     "text": [
      "Yanis Gray has yonger sister.\n",
      " Scary man\n",
      " Scarface\n",
      " "
     ]
    }
   ],
   "source": [
    "with open(file = 'yanis.txt', mode = 'rt', encoding = 'UTF-8') as f:\n",
    "    line = f.readline()\n",
    "    print(line, end = ' ')\n",
    "    line = f.readline()\n",
    "    print(line, end = ' ')\n",
    "    line = f.readline()\n",
    "    print(line, end = ' ')"
   ]
  }
 ],
 "metadata": {
  "kernelspec": {
   "display_name": "Python 3",
   "language": "python",
   "name": "python3"
  },
  "language_info": {
   "codemirror_mode": {
    "name": "ipython",
    "version": 3
   },
   "file_extension": ".py",
   "mimetype": "text/x-python",
   "name": "python",
   "nbconvert_exporter": "python",
   "pygments_lexer": "ipython3",
   "version": "3.8.8"
  }
 },
 "nbformat": 4,
 "nbformat_minor": 4
}
