{
 "cells": [
  {
   "cell_type": "markdown",
   "metadata": {},
   "source": [
    "# file - with open as - while loop"
   ]
  },
  {
   "cell_type": "code",
   "execution_count": 2,
   "metadata": {},
   "outputs": [
    {
     "name": "stdout",
     "output_type": "stream",
     "text": [
      "Andrea is 23 years old.\n",
      "She has older brother named Yanis Gray.\n",
      "They have gray eyes, gray hair.\n",
      "Andrea hated NY.\n"
     ]
    }
   ],
   "source": [
    "with open(file='andrea.txt', mode='r', encoding='UTF-8') as f:\n",
    "    while True: #무한루프 시작\n",
    "        line=f.readline() #파일의 한 줄 읽기\n",
    "        if line:\n",
    "            print(line, end='') #읽은 내용이 있으면 출력 후 루프 반복\n",
    "        else:\n",
    "            break #읽은 내용이 없으면, 무한루프 종료"
   ]
  }
 ],
 "metadata": {
  "kernelspec": {
   "display_name": "Python 3",
   "language": "python",
   "name": "python3"
  },
  "language_info": {
   "codemirror_mode": {
    "name": "ipython",
    "version": 3
   },
   "file_extension": ".py",
   "mimetype": "text/x-python",
   "name": "python",
   "nbconvert_exporter": "python",
   "pygments_lexer": "ipython3",
   "version": "3.8.5"
  }
 },
 "nbformat": 4,
 "nbformat_minor": 4
}
