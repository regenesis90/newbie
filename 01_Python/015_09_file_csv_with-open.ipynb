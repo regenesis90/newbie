{
 "cells": [
  {
   "cell_type": "markdown",
   "metadata": {},
   "source": [
    "# .CSV 파일 불러오기"
   ]
  },
  {
   "cell_type": "code",
   "execution_count": 2,
   "metadata": {},
   "outputs": [],
   "source": [
    "import os"
   ]
  },
  {
   "cell_type": "markdown",
   "metadata": {},
   "source": [
    "## 문제 1. Durins_folk.csv\n",
    "\n",
    "1. Durins_folk.csv 파일을 가져오기\n",
    "2. 두 번째 행부터 끝까지 1줄씩 읽고, 각 줄의 내용을 ','로 분리한 리스트를 Durins 리스트에 append\n",
    "3. 2차원 리스트 member에서 이름(mname)으로만 이루어진 1차원 리스트 member 생성"
   ]
  },
  {
   "cell_type": "code",
   "execution_count": 17,
   "metadata": {},
   "outputs": [
    {
     "name": "stdout",
     "output_type": "stream",
     "text": [
      "E:/git_github_regenesis90/durins_folk.csv\n"
     ]
    }
   ],
   "source": [
    "# 1. .csv 파일의 경로 표현\n",
    "#dir_path=input('.csv 파일 경로 입력: ')\n",
    "#file_name=input('.csv 파일 이름 입력: ')\n",
    "dir_path = 'E:/git_github_regenesis90/'\n",
    "file_name = 'durins_folk.csv'\n",
    "file_path = os.path.join(dir_path, file_name)\n",
    "print(file_path)"
   ]
  },
  {
   "cell_type": "code",
   "execution_count": 24,
   "metadata": {},
   "outputs": [
    {
     "name": "stdout",
     "output_type": "stream",
     "text": [
      "[['1', 'Durin VI', '1', '0', '0', '1\\n'], ['3', 'Nain I', '1', '1', '2', '1\\n'], ['5', 'Thrain I', '1', '3', '4', '1\\n'], ['7', 'Gloin', '1', '5', '6', '1\\n'], ['9', 'Oin', '1', '7', '8', '1\\n'], ['11', 'Nain II', '1', '9', '10', '1\\n'], ['13', 'Dain I', '1', '11', '12', '1\\n'], ['15', 'Borin', '1', '11', '12', '1\\n'], ['17', 'Thror', '1', '13', '14', '1\\n'], ['19', 'Fror', '1', '13', '14', '1\\n'], ['20', 'Gror', '1', '13', '14', '1\\n'], ['22', 'Thrain II', '1', '17', '18', '1\\n'], ['24', 'Thorin II Oakenshield', '1', '22', '23', '1\\n'], ['25', 'Frerin', '1', '22', '23', '1\\n'], ['26', 'Dis', '2', '22', '23', '1\\n'], ['28', 'Fili', '1', '27', '26', '1\\n'], ['29', 'Kili', '1', '27', '26', '1\\n'], ['30', 'Nain', '1', '20', '21', '1\\n'], ['32', 'Dain II Ironfoot', '1', '30', '31', '1\\n'], ['34', 'Thorin III Stonehelm', '1', '32', '33', '1\\n'], ['35', 'Farin', '1', '15', '16', '1\\n'], ['37', 'Fundin', '1', '35', '36', '1\\n'], ['39', 'Groin', '1', '35', '36', '1\\n'], ['41', 'Balin', '1', '37', '38', '1\\n'], ['42', 'Dwalin', '1', '37', '38', '1\\n'], ['43', 'Oin', '1', '39', '40', '1\\n'], ['44', 'Gloin', '1', '39', '40', '1\\n'], ['46', 'Gimli', '1', '44', '45', '1\\n']]\n"
     ]
    }
   ],
   "source": [
    "# with open() as f : .csv 파일 전체를 open하는 경우\n",
    "with open(file = file_path, mode = 'r', encoding = 'UTF=8') as f:\n",
    "    Durins = []\n",
    "    \n",
    "    f.readline()\n",
    "    for i,line in enumerate(f):\n",
    "        Durins.append(line.split(','))\n",
    "    \n",
    "    print(Durins)"
   ]
  },
  {
   "cell_type": "code",
   "execution_count": 25,
   "metadata": {},
   "outputs": [
    {
     "name": "stdout",
     "output_type": "stream",
     "text": [
      "['Durin VI', 'Nain I', 'Thrain I', 'Gloin', 'Oin', 'Nain II', 'Dain I', 'Borin', 'Thror', 'Fror', 'Gror', 'Thrain II', 'Thorin II Oakenshield', 'Frerin', 'Dis', 'Fili', 'Kili', 'Nain', 'Dain II Ironfoot', 'Thorin III Stonehelm', 'Farin', 'Fundin', 'Groin', 'Balin', 'Dwalin', 'Oin', 'Gloin', 'Gimli']\n"
     ]
    }
   ],
   "source": [
    "members = []\n",
    "for member in Durins:\n",
    "    members.append(member[1])\n",
    "print(members)"
   ]
  }
 ],
 "metadata": {
  "kernelspec": {
   "display_name": "Python 3",
   "language": "python",
   "name": "python3"
  },
  "language_info": {
   "codemirror_mode": {
    "name": "ipython",
    "version": 3
   },
   "file_extension": ".py",
   "mimetype": "text/x-python",
   "name": "python",
   "nbconvert_exporter": "python",
   "pygments_lexer": "ipython3",
   "version": "3.8.8"
  }
 },
 "nbformat": 4,
 "nbformat_minor": 4
}
