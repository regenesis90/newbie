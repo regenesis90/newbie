{
 "cells": [
  {
   "cell_type": "markdown",
   "metadata": {},
   "source": [
    "# file - csv - csv module : csv.reader(file_handle)"
   ]
  },
  {
   "cell_type": "markdown",
   "metadata": {},
   "source": [
    "## csv.writer() : 리스트로부터 CSV 파일을 쓸 때 사용"
   ]
  },
  {
   "cell_type": "code",
   "execution_count": 1,
   "metadata": {},
   "outputs": [],
   "source": [
    "import csv"
   ]
  },
  {
   "cell_type": "code",
   "execution_count": 2,
   "metadata": {},
   "outputs": [
    {
     "data": {
      "text/plain": [
       "[['resno', 'name', 'age', 'sex'],\n",
       " ['101', 'Andrea', 23, 'Female'],\n",
       " ['102', 'Yanis', 36, 'Male'],\n",
       " ['201', 'NY', 23, 'Male'],\n",
       " ['303', 'Cleveth', 89, 'Male']]"
      ]
     },
     "execution_count": 2,
     "metadata": {},
     "output_type": "execute_result"
    }
   ],
   "source": [
    "resid = [['resno', 'name', 'age', 'sex'], ['101', 'Andrea', 23, 'Female'], ['102', 'Yanis', 36, 'Male'], ['201', 'NY', 23, 'Male'], ['303', 'Cleveth', 89, 'Male']]\n",
    "resid"
   ]
  },
  {
   "cell_type": "code",
   "execution_count": 3,
   "metadata": {},
   "outputs": [],
   "source": [
    "# 새로운 csv 파일에 resid 리스트 저장하기\n",
    "with open(file = 'resid.csv', mode = 'w') as f:\n",
    "    writer = csv.writer(f) #> csv.writer() 함수 argument로 파일 객체 전달, csv writer 객체 생성\n",
    "    writer.writerows(resid) #> csv writer 객체의 writerows() 메서드 사용\n",
    "# 실행 후 resid.csv 가 만들어졌다."
   ]
  }
 ],
 "metadata": {
  "kernelspec": {
   "display_name": "Python 3",
   "language": "python",
   "name": "python3"
  },
  "language_info": {
   "codemirror_mode": {
    "name": "ipython",
    "version": 3
   },
   "file_extension": ".py",
   "mimetype": "text/x-python",
   "name": "python",
   "nbconvert_exporter": "python",
   "pygments_lexer": "ipython3",
   "version": "3.8.8"
  }
 },
 "nbformat": 4,
 "nbformat_minor": 4
}
