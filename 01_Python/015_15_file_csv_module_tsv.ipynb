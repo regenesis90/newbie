{
 "cells": [
  {
   "cell_type": "markdown",
   "metadata": {},
   "source": [
    "# csv 모듈을 사용한 tsv(tab-separated values) 파일 읽기/쓰기"
   ]
  },
  {
   "cell_type": "markdown",
   "metadata": {},
   "source": [
    "## tsv 파일 저장 : f.write() 사용"
   ]
  },
  {
   "cell_type": "code",
   "execution_count": 1,
   "metadata": {},
   "outputs": [],
   "source": [
    "texts='''2021-01-28\\tAPL\\t1500\n",
    "2021-01-28\\tBBB\\t2000\n",
    "2021-01-29\\tCCC\\t1700\n",
    "2021-01-29\\tAPL\\t2000\n",
    "2021-01-29\\tBBB\\t1900\n",
    "2021-01-29\\tCCC\\t1600\n",
    "'''\n",
    "with open(file='prices.tsv', mode='w') as f:\n",
    "    f.write(texts)"
   ]
  },
  {
   "cell_type": "markdown",
   "metadata": {},
   "source": [
    "## csv.reader() 사용 : prices.tsv 파일 읽기, 2차원 리스트 생성"
   ]
  },
  {
   "cell_type": "code",
   "execution_count": 2,
   "metadata": {},
   "outputs": [],
   "source": [
    "import csv"
   ]
  },
  {
   "cell_type": "code",
   "execution_count": 4,
   "metadata": {},
   "outputs": [
    {
     "data": {
      "text/plain": [
       "[['2021-01-28', 'APL', '1500'],\n",
       " ['2021-01-28', 'BBB', '2000'],\n",
       " ['2021-01-29', 'CCC', '1700'],\n",
       " ['2021-01-29', 'APL', '2000'],\n",
       " ['2021-01-29', 'BBB', '1900'],\n",
       " ['2021-01-29', 'CCC', '1600']]"
      ]
     },
     "execution_count": 4,
     "metadata": {},
     "output_type": "execute_result"
    }
   ],
   "source": [
    "with open('prices.tsv', mode='r') as f:\n",
    "    reader=csv.reader(f, delimiter='\\t')\n",
    "    prices=[row for row in reader]\n",
    "prices"
   ]
  },
  {
   "cell_type": "code",
   "execution_count": 9,
   "metadata": {},
   "outputs": [
    {
     "data": {
      "text/plain": [
       "[['2021-01-28', 'APL', 1500],\n",
       " ['2021-01-28', 'BBB', 2000],\n",
       " ['2021-01-29', 'CCC', 1700],\n",
       " ['2021-01-29', 'APL', 2000],\n",
       " ['2021-01-29', 'BBB', 1900],\n",
       " ['2021-01-29', 'CCC', 1600]]"
      ]
     },
     "execution_count": 9,
     "metadata": {},
     "output_type": "execute_result"
    }
   ],
   "source": [
    "# 숫자 데이터를 int 타입으로 변환\n",
    "for i,row in enumerate(prices):\n",
    "    prices[i][2]=int(row[2])\n",
    "prices"
   ]
  },
  {
   "cell_type": "markdown",
   "metadata": {},
   "source": [
    "## csv.writer() 사용 : 2차원 리스트를 csv 파일로 저장"
   ]
  },
  {
   "cell_type": "code",
   "execution_count": 10,
   "metadata": {},
   "outputs": [],
   "source": [
    "# prices.csv 파일에 prices 리스트를 저장하기\n",
    "with open('prices.csv', mode='w') as f:\n",
    "    writer=csv.writer(f)\n",
    "    writer.writerows(prices)"
   ]
  },
  {
   "cell_type": "code",
   "execution_count": 11,
   "metadata": {},
   "outputs": [],
   "source": [
    "# prices.txt 파일에 prices 리스트를 저장하기\n",
    "with open('prices.txt', mode='w') as f:\n",
    "    writer=csv.writer(f, delimiter=':')\n",
    "    writer.writerows(prices)"
   ]
  }
 ],
 "metadata": {
  "kernelspec": {
   "display_name": "Python 3",
   "language": "python",
   "name": "python3"
  },
  "language_info": {
   "codemirror_mode": {
    "name": "ipython",
    "version": 3
   },
   "file_extension": ".py",
   "mimetype": "text/x-python",
   "name": "python",
   "nbconvert_exporter": "python",
   "pygments_lexer": "ipython3",
   "version": "3.8.8"
  }
 },
 "nbformat": 4,
 "nbformat_minor": 4
}
