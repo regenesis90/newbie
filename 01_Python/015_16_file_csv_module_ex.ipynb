{
 "cells": [
  {
   "cell_type": "markdown",
   "metadata": {},
   "source": [
    "# file - with open as - csv - module 연습\n",
    "* apt_201910.csv 파일 사용"
   ]
  },
  {
   "cell_type": "markdown",
   "metadata": {},
   "source": [
    "### 1. 파일 경로 생성"
   ]
  },
  {
   "cell_type": "code",
   "execution_count": 3,
   "metadata": {},
   "outputs": [],
   "source": [
    "import os"
   ]
  },
  {
   "cell_type": "code",
   "execution_count": 4,
   "metadata": {},
   "outputs": [
    {
     "name": "stdout",
     "output_type": "stream",
     "text": [
      "E:/git_github_regenesis90/apt_201910.csv\n"
     ]
    }
   ],
   "source": [
    "dir_path='E:/git_github_regenesis90/'\n",
    "file_name='apt_201910.csv'\n",
    "file_path=os.path.join(dir_path, file_name)\n",
    "print(file_path)"
   ]
  },
  {
   "cell_type": "markdown",
   "metadata": {},
   "source": [
    "### 2. 파일 열기, 리스트로 만들기 : csv.reader()"
   ]
  },
  {
   "cell_type": "code",
   "execution_count": 5,
   "metadata": {},
   "outputs": [],
   "source": [
    "import csv"
   ]
  },
  {
   "cell_type": "code",
   "execution_count": 8,
   "metadata": {},
   "outputs": [
    {
     "data": {
      "text/plain": [
       "[['시군구',\n",
       "  '번지',\n",
       "  '본번',\n",
       "  '부번',\n",
       "  '단지명',\n",
       "  '면적',\n",
       "  '계약년월',\n",
       "  '계약일',\n",
       "  '가격',\n",
       "  '층',\n",
       "  '건축년도',\n",
       "  '도로명'],\n",
       " ['강원도 강릉시 견소동',\n",
       "  '202',\n",
       "  '202',\n",
       "  '0',\n",
       "  '송정한신',\n",
       "  '59.8',\n",
       "  '201910',\n",
       "  '4',\n",
       "  '10,900',\n",
       "  '5',\n",
       "  '1997',\n",
       "  '경강로2539번길 8']]"
      ]
     },
     "execution_count": 8,
     "metadata": {},
     "output_type": "execute_result"
    }
   ],
   "source": [
    "with open(file_path, mode='r', encoding='cp949') as f:\n",
    "    reader=csv.reader(f)\n",
    "    apt_data=[row for row in reader]\n",
    "apt_data[:2] #> 상위 5개 행만 조회"
   ]
  },
  {
   "cell_type": "markdown",
   "metadata": {},
   "source": [
    "### 3. 숫자 데이터는 정수로 변환하기"
   ]
  },
  {
   "cell_type": "code",
   "execution_count": 10,
   "metadata": {},
   "outputs": [
    {
     "data": {
      "text/plain": [
       "[['시군구',\n",
       "  '번지',\n",
       "  '본번',\n",
       "  '부번',\n",
       "  '단지명',\n",
       "  '면적',\n",
       "  '계약년월',\n",
       "  '계약일',\n",
       "  '가격',\n",
       "  '층',\n",
       "  '건축년도',\n",
       "  '도로명'],\n",
       " ['강원도 강릉시 견소동',\n",
       "  202,\n",
       "  202,\n",
       "  0,\n",
       "  '송정한신',\n",
       "  59.8,\n",
       "  201910,\n",
       "  4,\n",
       "  10900,\n",
       "  5,\n",
       "  1997,\n",
       "  '경강로2539번길 8']]"
      ]
     },
     "execution_count": 10,
     "metadata": {},
     "output_type": "execute_result"
    }
   ],
   "source": [
    "for i, row in enumerate(apt_data):\n",
    "    for j,val in enumerate(row):\n",
    "        try:\n",
    "            apt_data[i][j]=int(val.replace(',','')) #> 값을 정수로 변환해 보고, 에러 없을 시 저장\n",
    "        except:\n",
    "            try:\n",
    "                apt_data[i][j]=float(val.replace(',','')) #> 에러 없을 시 값을 실수로 변환\n",
    "            except:\n",
    "                pass #> 실수 변환도 불가능할 경우, 아무것도 하지 않음\n",
    "apt_data[:2]"
   ]
  },
  {
   "cell_type": "markdown",
   "metadata": {},
   "source": [
    "### 4. 가격(idx:8)이 최대값인 레코드 출력\n",
    "* 가격 최대값 찾기\n",
    "* 전체 데이터 중 가격이 최대값과 일치하는 레코드 출력하기"
   ]
  },
  {
   "cell_type": "markdown",
   "metadata": {},
   "source": [
    "#### 1) 가격 최대값 찾기 : apt_data에서 '가격'만 1차원 리스트로 생성(컬럼 이름 제외) 후 최대값 출력"
   ]
  },
  {
   "cell_type": "code",
   "execution_count": 13,
   "metadata": {},
   "outputs": [
    {
     "data": {
      "text/plain": [
       "[10900, 18500, 25000, 20600, 20500]"
      ]
     },
     "execution_count": 13,
     "metadata": {},
     "output_type": "execute_result"
    }
   ],
   "source": [
    "apt_price=[]\n",
    "for i, row in enumerate(apt_data):\n",
    "    if i>=1:\n",
    "        apt_price.append(row[8])\n",
    "apt_price[:5]"
   ]
  },
  {
   "cell_type": "code",
   "execution_count": 15,
   "metadata": {},
   "outputs": [
    {
     "name": "stdout",
     "output_type": "stream",
     "text": [
      "485000\n"
     ]
    }
   ],
   "source": [
    "max_price=max(apt_price)\n",
    "print(max_price)"
   ]
  },
  {
   "cell_type": "markdown",
   "metadata": {},
   "source": [
    "#### 2) 가격이 최대값(max_price)인 레코드 찾기"
   ]
  },
  {
   "cell_type": "code",
   "execution_count": 16,
   "metadata": {},
   "outputs": [
    {
     "data": {
      "text/plain": [
       "[['시군구',\n",
       "  '번지',\n",
       "  '본번',\n",
       "  '부번',\n",
       "  '단지명',\n",
       "  '면적',\n",
       "  '계약년월',\n",
       "  '계약일',\n",
       "  '가격',\n",
       "  '층',\n",
       "  '건축년도',\n",
       "  '도로명'],\n",
       " ['서울특별시 용산구 한남동',\n",
       "  810,\n",
       "  810,\n",
       "  0,\n",
       "  '한남더힐',\n",
       "  233.062,\n",
       "  201910,\n",
       "  24,\n",
       "  485000,\n",
       "  4,\n",
       "  2011,\n",
       "  '독서당로 111']]"
      ]
     },
     "execution_count": 16,
     "metadata": {},
     "output_type": "execute_result"
    }
   ],
   "source": [
    "apt_max_price=[apt_data[0]]\n",
    "for row in apt_data[1:]:\n",
    "    if row[8]==max_price:\n",
    "        apt_max_price.append(row)\n",
    "apt_max_price"
   ]
  },
  {
   "cell_type": "markdown",
   "metadata": {},
   "source": [
    "### 5. 가격이 최소값인 레코드 찾기\n",
    "* 최소 가격 찾기\n",
    "* 가격이 최소값인 레코드 찾기"
   ]
  },
  {
   "cell_type": "markdown",
   "metadata": {},
   "source": [
    "#### 1) 최소 가격 min_price 찾기 : 가격으로 이루어진 리스트를 먼저 찾기"
   ]
  },
  {
   "cell_type": "code",
   "execution_count": 17,
   "metadata": {},
   "outputs": [
    {
     "data": {
      "text/plain": [
       "[10900, 18500, 25000, 20600, 20500]"
      ]
     },
     "execution_count": 17,
     "metadata": {},
     "output_type": "execute_result"
    }
   ],
   "source": [
    "prices=[]\n",
    "for row in apt_data[1:]:\n",
    "    prices.append(row[8])\n",
    "prices[:5]"
   ]
  },
  {
   "cell_type": "code",
   "execution_count": 18,
   "metadata": {},
   "outputs": [
    {
     "name": "stdout",
     "output_type": "stream",
     "text": [
      "600\n"
     ]
    }
   ],
   "source": [
    "min_price=min(prices)\n",
    "print(min_price)"
   ]
  },
  {
   "cell_type": "markdown",
   "metadata": {},
   "source": [
    "#### 2) 최소 가격인 레코드 찾기"
   ]
  },
  {
   "cell_type": "code",
   "execution_count": 19,
   "metadata": {},
   "outputs": [
    {
     "data": {
      "text/plain": [
       "[['시군구',\n",
       "  '번지',\n",
       "  '본번',\n",
       "  '부번',\n",
       "  '단지명',\n",
       "  '면적',\n",
       "  '계약년월',\n",
       "  '계약일',\n",
       "  '가격',\n",
       "  '층',\n",
       "  '건축년도',\n",
       "  '도로명'],\n",
       " ['경상북도 구미시 원평동',\n",
       "  '937-68',\n",
       "  937,\n",
       "  68,\n",
       "  '원평주공',\n",
       "  40.32,\n",
       "  201910,\n",
       "  7,\n",
       "  600,\n",
       "  4,\n",
       "  1984,\n",
       "  '칠성로2길 16']]"
      ]
     },
     "execution_count": 19,
     "metadata": {},
     "output_type": "execute_result"
    }
   ],
   "source": [
    "apt_min_price=[apt_data[0]]\n",
    "for row in apt_data[1:]:\n",
    "    if row[8]==min_price:\n",
    "        apt_min_price.append(row)\n",
    "apt_min_price"
   ]
  },
  {
   "cell_type": "markdown",
   "metadata": {},
   "source": [
    "### 6. apt_data에서 '시군구', '단지명', '면적', '가격', '층', 건축년도 6개 컬럼만 선택한 2차원 리스트 생성\n",
    "* idx : 0,4,5,8,9,10"
   ]
  },
  {
   "cell_type": "code",
   "execution_count": 21,
   "metadata": {},
   "outputs": [],
   "source": [
    "header=apt_data[0]"
   ]
  },
  {
   "cell_type": "code",
   "execution_count": 22,
   "metadata": {},
   "outputs": [
    {
     "data": {
      "text/plain": [
       "[['시군구', '단지명', '면적', '가격', '층', '건축년도'],\n",
       " ['강원도 강릉시 견소동', '송정한신', 59.8, 10900, 5, 1997],\n",
       " ['강원도 강릉시 견소동', '송정한신', 116.175, 18500, 10, 1997],\n",
       " ['강원도 강릉시 견소동', '송정해변신도브래뉴아파트', 84.99, 25000, 6, 2005],\n",
       " ['강원도 강릉시 견소동', '송정해변신도브래뉴아파트', 84.99, 20600, 3, 2005]]"
      ]
     },
     "execution_count": 22,
     "metadata": {},
     "output_type": "execute_result"
    }
   ],
   "source": [
    "apt_data_short1=[]\n",
    "for row in apt_data:\n",
    "    selected=[row[header.index('시군구')],\n",
    "             row[header.index('단지명')],\n",
    "             row[header.index('면적')],\n",
    "             row[header.index('가격')],\n",
    "             row[header.index('층')],\n",
    "             row[header.index('건축년도')]]\n",
    "    apt_data_short1.append(selected)\n",
    "apt_data_short1[:5]"
   ]
  },
  {
   "cell_type": "markdown",
   "metadata": {},
   "source": [
    "### 7. apt_data_short1에서, 시군구가 '강원도'이고 가격이 '30000'이상인 레코드 찾기"
   ]
  },
  {
   "cell_type": "code",
   "execution_count": 23,
   "metadata": {},
   "outputs": [
    {
     "data": {
      "text/plain": [
       "[['시군구', '단지명', '면적', '가격', '층', '건축년도'],\n",
       " ['강원도 강릉시 교동', '강릉교동롯데캐슬1단지', 135.1727, 34300, 9, 2009],\n",
       " ['강원도 강릉시 교동', '강릉교동롯데캐슬2단지', 118.0686, 32500, 2, 2009],\n",
       " ['강원도 강릉시 교동', '교동이-편한세상', 123.7566, 32500, 3, 2006],\n",
       " ['강원도 강릉시 송정동', '강릉송정 한신더휴', 84.961, 30000, 20, 2019],\n",
       " ['강원도 강릉시 홍제동', '우미린아파트', 84.9843, 34200, 18, 2016],\n",
       " ['강원도 강릉시 홍제동', '우미린아파트', 84.9871, 34000, 20, 2016],\n",
       " ['강원도 강릉시 홍제동', '우미린아파트', 84.9871, 34900, 8, 2016],\n",
       " ['강원도 강릉시 홍제동', '우미린아파트', 84.9819, 35400, 12, 2016],\n",
       " ['강원도 강릉시 홍제동', '우미린아파트', 78.4089, 30000, 15, 2016],\n",
       " ['강원도 강릉시 홍제동', '우미린아파트', 84.9843, 33900, 19, 2016],\n",
       " ['강원도 강릉시 홍제동', '우미린아파트', 84.9871, 32800, 4, 2016],\n",
       " ['강원도 강릉시 홍제동', '우미린아파트', 78.4089, 31000, 10, 2016],\n",
       " ['강원도 강릉시 홍제동', '우미린아파트', 84.9819, 34500, 12, 2016],\n",
       " ['강원도 속초시 동명동', 'e편한세상 영랑호', 84.9439, 36800, 25, 2017],\n",
       " ['강원도 속초시 동명동', 'e편한세상 영랑호', 84.9147, 34500, 24, 2017],\n",
       " ['강원도 속초시 동명동', 'e편한세상 영랑호', 84.9439, 30000, 12, 2017],\n",
       " ['강원도 속초시 동명동', 'e편한세상 영랑호', 84.9147, 36500, 18, 2017],\n",
       " ['강원도 속초시 청호동', '속초청호아이파크', 84.82, 39000, 14, 2018],\n",
       " ['강원도 속초시 청호동', '속초청호아이파크', 84.94, 45800, 19, 2018],\n",
       " ['강원도 속초시 청호동', '속초청호아이파크', 75.97, 30800, 4, 2018],\n",
       " ['강원도 원주시 단계동', '원주봉화산푸르지오', 84.8617, 32500, 26, 2017],\n",
       " ['강원도 원주시 무실동', '무실e-편한세상', 124.1326, 37000, 7, 2009],\n",
       " ['강원도 원주시 무실동', '무실e-편한세상', 153.7215, 44600, 14, 2009],\n",
       " ['강원도 원주시 반곡동', '원주반곡아이파크', 158.4784, 40700, 11, 2008],\n",
       " ['강원도 원주시 반곡동', '힐데스하임 5단지', 84.9593, 30000, 10, 2015],\n",
       " ['강원도 원주시 반곡동', '힐데스하임 5단지', 84.9593, 31000, 18, 2015],\n",
       " ['강원도 원주시 반곡동', '힐데스하임 5단지', 84.9593, 30950, 9, 2015],\n",
       " ['강원도 원주시 판부면 서곡리', '원주더샾아파트', 157.316, 34000, 5, 2006],\n",
       " ['강원도 춘천시 석사동', '현진에버빌2차', 91.36, 30000, 14, 2005],\n",
       " ['강원도 춘천시 석사동', '현진에버빌2차', 126.25, 35500, 13, 2005],\n",
       " ['강원도 춘천시 석사동', '현진에버빌2차', 126.25, 31200, 6, 2005],\n",
       " ['강원도 춘천시 석사동', '현진에버빌2차', 108.17, 30300, 4, 2005],\n",
       " ['강원도 춘천시 소양로2가', 'e편한세상 춘천', 104.796, 32100, 12, 2014],\n",
       " ['강원도 춘천시 온의동', '온의 롯데캐슬 스카이클래스', 99.629, 44000, 35, 2015],\n",
       " ['강원도 춘천시 온의동', '온의 롯데캐슬 스카이클래스', 99.629, 42900, 14, 2015],\n",
       " ['강원도 춘천시 우두동', '롯데인벤스', 173.7, 36500, 9, 2006],\n",
       " ['강원도 춘천시 퇴계동', '유승한내들', 116.6708, 32500, 15, 2006],\n",
       " ['강원도 춘천시 퇴계동', '휴먼시아남춘천1단지', 121.95, 34000, 11, 2011],\n",
       " ['강원도 춘천시 퇴계동', '휴먼시아남춘천1단지', 101.87, 31500, 11, 2011],\n",
       " ['강원도 춘천시 후평동', '춘천더샵', 145.5773, 30900, 25, 2008],\n",
       " ['강원도 춘천시 후평동', '춘천일성트루엘더퍼스트', 84.995, 30400, 9, 2018],\n",
       " ['강원도 평창군 대관령면 수하리', '동계올림픽 선수촌 아파트', 84.923, 36000, 8, 2018]]"
      ]
     },
     "execution_count": 23,
     "metadata": {},
     "output_type": "execute_result"
    }
   ],
   "source": [
    "apt_data_gangwon_over30000=[apt_data_short1[0]]\n",
    "for row in apt_data_short1[1:]:\n",
    "    if row[0].strip().startswith('강원도') and row[3]>=30000:\n",
    "        apt_data_gangwon_over30000.append(row)\n",
    "apt_data_gangwon_over30000"
   ]
  },
  {
   "cell_type": "markdown",
   "metadata": {},
   "source": [
    "### 8. 시군구=서울, 가격이 30000이상 50000미만인 레코드 찾기 : apt_data_short1 사용"
   ]
  },
  {
   "cell_type": "code",
   "execution_count": 25,
   "metadata": {},
   "outputs": [
    {
     "data": {
      "text/plain": [
       "[['시군구', '단지명', '면적', '가격', '층', '건축년도'],\n",
       " ['서울특별시 강남구 대치동', '아름빌(889-74)', 30.46, 30000, 5, 2003],\n",
       " ['서울특별시 강남구 도곡동', '현대비젼21', 33.1, 31800, 14, 1999],\n",
       " ['서울특별시 강남구 역삼동', '한화진넥스빌', 43.58, 38000, 26, 2001],\n",
       " ['서울특별시 강동구 길동', 'SM해그린12차', 84.56, 47000, 2, 2006]]"
      ]
     },
     "execution_count": 25,
     "metadata": {},
     "output_type": "execute_result"
    }
   ],
   "source": [
    "apt_data_seoul_3to5=[apt_data_short1[0]]\n",
    "for row in apt_data_short1[1:]:\n",
    "    if row[0].strip().startswith('서울') and row[3]>=30000 and row[3]<50000:\n",
    "        apt_data_seoul_3to5.append(row)\n",
    "apt_data_seoul_3to5[:5]"
   ]
  },
  {
   "cell_type": "markdown",
   "metadata": {},
   "source": [
    "### 9. apt_data_seoul_3to5 리스트를 csv 파일로 저장하기"
   ]
  },
  {
   "cell_type": "code",
   "execution_count": 26,
   "metadata": {},
   "outputs": [],
   "source": [
    "import csv"
   ]
  },
  {
   "cell_type": "code",
   "execution_count": 27,
   "metadata": {},
   "outputs": [],
   "source": [
    "with open('apt_data_seoul_3to5.csv', mode='w') as f:\n",
    "    writer=csv.writer(f)\n",
    "    writer.writerows(apt_data_seoul_3to5)"
   ]
  }
 ],
 "metadata": {
  "kernelspec": {
   "display_name": "Python 3",
   "language": "python",
   "name": "python3"
  },
  "language_info": {
   "codemirror_mode": {
    "name": "ipython",
    "version": 3
   },
   "file_extension": ".py",
   "mimetype": "text/x-python",
   "name": "python",
   "nbconvert_exporter": "python",
   "pygments_lexer": "ipython3",
   "version": "3.8.5"
  }
 },
 "nbformat": 4,
 "nbformat_minor": 4
}
