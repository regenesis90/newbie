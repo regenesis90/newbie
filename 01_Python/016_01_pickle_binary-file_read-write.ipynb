{
 "cells": [
  {
   "cell_type": "markdown",
   "metadata": {},
   "source": [
    "# Binary file Read / Write : pickle\n",
    "\n",
    "* Python에서 객체(object)를 이진 데이터(binary data) 형태로 파일 읽기/쓰기 할 시 사용되는 타입\n",
    "* **Python의 dict 타입을 파일로 저장 가능**\n",
    "* 파일의 내용을 Python의 dict 타입으로 변환 가능\n",
    "\n",
    "* **`pickle.dump(object, file)`** : object를 file에 write\n",
    "* **`pickle.load(file)`** : file에서 이진 데이터를 읽어 객체(object) 리턴\n",
    "* JavaScript의 JSON(JavaScript Object Notation, 자바스크립트 객체 표현법)과 유사한 방식"
   ]
  },
  {
   "cell_type": "code",
   "execution_count": 2,
   "metadata": {},
   "outputs": [],
   "source": [
    "import pickle"
   ]
  },
  {
   "cell_type": "code",
   "execution_count": 3,
   "metadata": {},
   "outputs": [
    {
     "name": "stdout",
     "output_type": "stream",
     "text": [
      "{'name': 'Andrea Lloyd', 'age': 23, 'hair-color': 'gray', 'eye-color': 'gray', 'gender': 'female', 'email': ['andrea@gmail.com', 'al@naver.com'], 'phone': ['010-2333-2929', '02-399-9999']}\n"
     ]
    }
   ],
   "source": [
    "# dict 객체 생성\n",
    "person={\n",
    "    'name':'Andrea Lloyd',\n",
    "    'age':23,\n",
    "    'hair-color':'gray',\n",
    "    'eye-color':'gray',\n",
    "    'gender':'female',\n",
    "    'email':['andrea@gmail.com', 'al@naver.com'],\n",
    "    'phone':['010-2333-2929', '02-399-9999']\n",
    "}\n",
    "print(person)"
   ]
  },
  {
   "cell_type": "markdown",
   "metadata": {},
   "source": [
    "### 1. dict 인스턴스를 pickle 파일로 저장하기 : pickle.dump()"
   ]
  },
  {
   "cell_type": "code",
   "execution_count": 4,
   "metadata": {},
   "outputs": [],
   "source": [
    "# person instance를 pickle 파일에 저장(쓰기)\n",
    "with open(file='person.pickle', mode='wb') as f: #> wb=write binary\n",
    "    pickle.dump(person, f)"
   ]
  },
  {
   "cell_type": "markdown",
   "metadata": {},
   "source": [
    "### 2. .pickle 파일 내용을 dict 타입으로 변환하여 읽기"
   ]
  },
  {
   "cell_type": "code",
   "execution_count": 3,
   "metadata": {},
   "outputs": [
    {
     "name": "stdout",
     "output_type": "stream",
     "text": [
      "{'name': 'Andrea Lloyd', 'age': 23, 'hair-color': 'gray', 'eye-color': 'gray', 'gender': 'female', 'email': ['andrea@gmail.com', 'al@naver.com'], 'phone': ['010-2333-2929', '02-399-9999']}\n"
     ]
    }
   ],
   "source": [
    "with open(file='person.pickle', mode='rb') as f: #> rb=read binary\n",
    "    result=pickle.load(f)\n",
    "print(result)"
   ]
  }
 ],
 "metadata": {
  "kernelspec": {
   "display_name": "Python 3",
   "language": "python",
   "name": "python3"
  },
  "language_info": {
   "codemirror_mode": {
    "name": "ipython",
    "version": 3
   },
   "file_extension": ".py",
   "mimetype": "text/x-python",
   "name": "python",
   "nbconvert_exporter": "python",
   "pygments_lexer": "ipython3",
   "version": "3.8.5"
  }
 },
 "nbformat": 4,
 "nbformat_minor": 4
}
