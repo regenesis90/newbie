{
 "cells": [
  {
   "cell_type": "markdown",
   "metadata": {},
   "source": [
    "# BeautifulSoup"
   ]
  },
  {
   "cell_type": "code",
   "execution_count": 6,
   "metadata": {},
   "outputs": [],
   "source": [
    "# bs4 모듈에서 Beautifulsoup 클래스를 메모리에 임포트\n",
    "from bs4 import BeautifulSoup"
   ]
  },
  {
   "cell_type": "markdown",
   "metadata": {},
   "source": [
    "## 1. HTML 문서 열기"
   ]
  },
  {
   "cell_type": "code",
   "execution_count": 7,
   "metadata": {},
   "outputs": [],
   "source": [
    "import os"
   ]
  },
  {
   "cell_type": "code",
   "execution_count": 8,
   "metadata": {},
   "outputs": [
    {
     "name": "stdout",
     "output_type": "stream",
     "text": [
      "E:/git_github_regenesis90/web01.html\n"
     ]
    }
   ],
   "source": [
    "dir_path = 'E:/git_github_regenesis90/'\n",
    "file_name = 'web01.html'\n",
    "file_path = os.path.join(dir_path, file_name)\n",
    "print(file_path)"
   ]
  },
  {
   "cell_type": "code",
   "execution_count": 10,
   "metadata": {},
   "outputs": [
    {
     "name": "stdout",
     "output_type": "stream",
     "text": [
      "<_io.TextIOWrapper name='E:/git_github_regenesis90/web01.html' mode='r' encoding='UTF-8'>\n"
     ]
    }
   ],
   "source": [
    "f = open(file_path, mode = 'r', encoding = 'UTF-8')\n",
    "print(f)"
   ]
  },
  {
   "cell_type": "markdown",
   "metadata": {},
   "source": [
    "## 2. BeautifulSoup 클래스 인스턴스 생성 : 생성자 함수 호출하기\n",
    "* **markup** : open된 HTML 객체의 file_handle\n",
    "* **features**: HTML 문서를 분석(parse)할 수 있는 라이브러리 이름. html.parser, html5lib 등."
   ]
  },
  {
   "cell_type": "code",
   "execution_count": 11,
   "metadata": {},
   "outputs": [],
   "source": [
    "soup = BeautifulSoup(markup = f, features = 'html.parser')"
   ]
  },
  {
   "cell_type": "code",
   "execution_count": 12,
   "metadata": {},
   "outputs": [
    {
     "data": {
      "text/plain": [
       "bs4.BeautifulSoup"
      ]
     },
     "execution_count": 12,
     "metadata": {},
     "output_type": "execute_result"
    }
   ],
   "source": [
    "type(soup) #> bs4 모듈의 BeautifulSoup 클래스"
   ]
  },
  {
   "cell_type": "markdown",
   "metadata": {},
   "source": [
    "## 3. 분석(parsing)한 HTML 문서 내용을 문자열로 리턴\n",
    "\n",
    "* **`BeautifulSoup.__repr__`** 메서드가 분석한 HTML 문서 내용을 문자열로 반환"
   ]
  },
  {
   "cell_type": "code",
   "execution_count": 13,
   "metadata": {},
   "outputs": [
    {
     "data": {
      "text/plain": [
       "<!DOCTYPE html>\n",
       "\n",
       "<!-- HTML 문서의 주석\n",
       "HTML 문서의 구조:\n",
       "    <tag attribute_name=\"attribute_value\">content</tag>\n",
       "Content가 없는 태그인 경우:\n",
       "    <tag attr_name=\"attr_val\" /> 또는\n",
       "    <tag attr_name=\"attr_val\">\n",
       "-->\n",
       "<html lang=\"en\">\n",
       "<head>\n",
       "<meta charset=\"utf-8\"/>\n",
       "<title>Web 1</title>\n",
       "</head>\n",
       "<body>\n",
       "<!-- h1 ~ h6: heading -->\n",
       "<h1>처음 만드는 HTML 파일</h1>\n",
       "<h2>HTML: HyperText Markup Language</h2>\n",
       "<!-- a(anchor): HTML 파일에서 링크 생성 -->\n",
       "<a href=\"https://www.daum.net/\">다음 카카오</a>\n",
       "<br/> <!-- br(line break): 줄바꿈 -->\n",
       "<a href=\"https://www.naver.com/\">네이버</a>\n",
       "<br/>\n",
       "<a href=\"https://www.google.com/\">\n",
       "<img src=\"googlelogo.png\" style=\"width: 100px;\"/>\n",
       "</a>\n",
       "<div>여기는 division입니다.<br/>\n",
       "    div는 여백(margin)이 없습니다.\n",
       "    </div>\n",
       "<p>여기는 <strong>paragraph</strong>입니다.<br/>\n",
       "    p는 <em>여백(margin)</em>이 있습니다.\n",
       "    </p>\n",
       "<!-- HTML 요소(태그)\n",
       "        1) block-level 요소(태그): 브라우저의 가로 길이 전체를 차지하는 태그\n",
       "            줄바꿈이 자동으로 생김.\n",
       "            <h1>, <h6>, <div>, <p>, <table>, <ul>, <li>, ...\n",
       "        2) inline 요소(태그): 컨텐츠의 가로 길이 크기만 차지하는 태그\n",
       "            줄바꿈이 자동으로 생기지 않음. 줄을 바꾸려면 <br>을 사용해야 함.\n",
       "            <a>, <img>, <span>, ...\n",
       "    -->\n",
       "</body>\n",
       "</html>"
      ]
     },
     "execution_count": 13,
     "metadata": {},
     "output_type": "execute_result"
    }
   ],
   "source": [
    "soup"
   ]
  },
  {
   "cell_type": "markdown",
   "metadata": {},
   "source": [
    "## 4. BS.find(), BS.find_all() : BeautifulSoup 객체의 원하는 태그 추출\n",
    "\n",
    "* **`BS.find('HTML태그이름')`** : HTML 문서에서 argument로 전달한 태그 중 첫번째 하나를 찾아 리턴\n",
    "* **`BS.find_all('HTML태그이름)`** : HTML 문서에서 argument로 전달한 태그 전부를 찾아 **리스트로 리턴**"
   ]
  },
  {
   "cell_type": "code",
   "execution_count": 14,
   "metadata": {},
   "outputs": [
    {
     "data": {
      "text/plain": [
       "<h1>처음 만드는 HTML 파일</h1>"
      ]
     },
     "execution_count": 14,
     "metadata": {},
     "output_type": "execute_result"
    }
   ],
   "source": [
    "element = soup.find(name = 'h1')\n",
    "element"
   ]
  },
  {
   "cell_type": "code",
   "execution_count": 16,
   "metadata": {},
   "outputs": [
    {
     "data": {
      "text/plain": [
       "<h2>HTML: HyperText Markup Language</h2>"
      ]
     },
     "execution_count": 16,
     "metadata": {},
     "output_type": "execute_result"
    }
   ],
   "source": [
    "element = soup.find(name = 'h2')\n",
    "element"
   ]
  },
  {
   "cell_type": "code",
   "execution_count": 17,
   "metadata": {},
   "outputs": [
    {
     "data": {
      "text/plain": [
       "<a href=\"https://www.daum.net/\">다음 카카오</a>"
      ]
     },
     "execution_count": 17,
     "metadata": {},
     "output_type": "execute_result"
    }
   ],
   "source": [
    "element = soup.find(name = 'a')\n",
    "element"
   ]
  },
  {
   "cell_type": "code",
   "execution_count": 18,
   "metadata": {},
   "outputs": [
    {
     "data": {
      "text/plain": [
       "[<a href=\"https://www.daum.net/\">다음 카카오</a>,\n",
       " <a href=\"https://www.naver.com/\">네이버</a>,\n",
       " <a href=\"https://www.google.com/\">\n",
       " <img src=\"googlelogo.png\" style=\"width: 100px;\"/>\n",
       " </a>]"
      ]
     },
     "execution_count": 18,
     "metadata": {},
     "output_type": "execute_result"
    }
   ],
   "source": [
    "elements = soup.find_all(name = 'a')\n",
    "elements"
   ]
  },
  {
   "cell_type": "markdown",
   "metadata": {},
   "source": [
    "## 5. .text, .get(key=) : HTML 태그 요소의 텍스트(text) 또는 속성(attribute)값 찾기\n",
    "\n",
    "* **`BS.find('HTML태그이름').text`** : HTML 태그 텍스트(start tag - end tag 사이 문자열)\n",
    "* **`BS.find('HTML태그이름').get(key='href')`** : HTML 태그의 'href' 속성 값.(링크 등)"
   ]
  },
  {
   "cell_type": "markdown",
   "metadata": {},
   "source": [
    "### 1) soup 객체의 모든 a element의 href 속성 출력하기"
   ]
  },
  {
   "cell_type": "code",
   "execution_count": 20,
   "metadata": {},
   "outputs": [
    {
     "data": {
      "text/plain": [
       "[<a href=\"https://www.daum.net/\">다음 카카오</a>,\n",
       " <a href=\"https://www.naver.com/\">네이버</a>,\n",
       " <a href=\"https://www.google.com/\">\n",
       " <img src=\"googlelogo.png\" style=\"width: 100px;\"/>\n",
       " </a>]"
      ]
     },
     "execution_count": 20,
     "metadata": {},
     "output_type": "execute_result"
    }
   ],
   "source": [
    "elements = soup.find_all('a')\n",
    "elements"
   ]
  },
  {
   "cell_type": "code",
   "execution_count": 22,
   "metadata": {},
   "outputs": [
    {
     "name": "stdout",
     "output_type": "stream",
     "text": [
      "https://www.daum.net/\n",
      "https://www.naver.com/\n",
      "https://www.google.com/\n"
     ]
    }
   ],
   "source": [
    "for tag in elements:\n",
    "    print(tag.get(key = 'href'))"
   ]
  },
  {
   "cell_type": "markdown",
   "metadata": {},
   "source": [
    "### 2) a 태그 요소의 href 속성을 출력하는 다양한 표현들\n",
    "**`BS.find('tag_name')=BS.tag_name`**"
   ]
  },
  {
   "cell_type": "code",
   "execution_count": 23,
   "metadata": {},
   "outputs": [
    {
     "name": "stdout",
     "output_type": "stream",
     "text": [
      "처음 만드는 HTML 파일\n",
      "처음 만드는 HTML 파일\n"
     ]
    }
   ],
   "source": [
    "print(soup.find('h1').text)\n",
    "print(soup.h1.text)"
   ]
  },
  {
   "cell_type": "markdown",
   "metadata": {},
   "source": [
    "**`tag.get('attr_name')=tag['attr_name']`**"
   ]
  },
  {
   "cell_type": "code",
   "execution_count": 24,
   "metadata": {},
   "outputs": [
    {
     "name": "stdout",
     "output_type": "stream",
     "text": [
      "https://www.daum.net/\n",
      "https://www.daum.net/\n",
      "https://www.daum.net/\n"
     ]
    }
   ],
   "source": [
    "link1 = soup.find('a')\n",
    "print(link1.get(key = 'href'))\n",
    "print(link1.get('href'))\n",
    "print(link1['href'])"
   ]
  },
  {
   "cell_type": "code",
   "execution_count": 25,
   "metadata": {},
   "outputs": [
    {
     "name": "stdout",
     "output_type": "stream",
     "text": [
      "https://www.daum.net/\n",
      "https://www.daum.net/\n",
      "https://www.daum.net/\n",
      "https://www.daum.net/\n"
     ]
    }
   ],
   "source": [
    "print(soup.find('a').get('href'))\n",
    "print(soup.find('a')['href'])\n",
    "print(soup.a.get('href'))\n",
    "print(soup.a['href'])"
   ]
  },
  {
   "cell_type": "markdown",
   "metadata": {},
   "source": [
    "## 6. open 했던 HTML 파일을 닫기 : f.close()"
   ]
  },
  {
   "cell_type": "code",
   "execution_count": 26,
   "metadata": {},
   "outputs": [],
   "source": [
    "f.close()"
   ]
  }
 ],
 "metadata": {
  "kernelspec": {
   "display_name": "Python 3",
   "language": "python",
   "name": "python3"
  },
  "language_info": {
   "codemirror_mode": {
    "name": "ipython",
    "version": 3
   },
   "file_extension": ".py",
   "mimetype": "text/x-python",
   "name": "python",
   "nbconvert_exporter": "python",
   "pygments_lexer": "ipython3",
   "version": "3.8.8"
  }
 },
 "nbformat": 4,
 "nbformat_minor": 4
}
