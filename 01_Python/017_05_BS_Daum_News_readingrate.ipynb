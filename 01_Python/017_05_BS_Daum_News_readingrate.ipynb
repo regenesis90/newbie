{
 "cells": [
  {
   "cell_type": "markdown",
   "metadata": {},
   "source": [
    "# DAUM 뉴스 랭킹 열독률 높은 뉴스 1~20위 제목, 링크 출력"
   ]
  },
  {
   "cell_type": "code",
   "execution_count": 1,
   "metadata": {},
   "outputs": [],
   "source": [
    "import requests\n",
    "from bs4 import BeautifulSoup"
   ]
  },
  {
   "cell_type": "code",
   "execution_count": 3,
   "metadata": {},
   "outputs": [
    {
     "name": "stdout",
     "output_type": "stream",
     "text": [
      "<Response [200]>\n"
     ]
    }
   ],
   "source": [
    "url='https://news.daum.net/ranking/kkomkkom'\n",
    "response=requests.get(url)\n",
    "print(response)"
   ]
  },
  {
   "cell_type": "code",
   "execution_count": 4,
   "metadata": {},
   "outputs": [],
   "source": [
    "html=response.text.strip()\n",
    "soup=BeautifulSoup(markup=html, features='html5lib')"
   ]
  },
  {
   "cell_type": "code",
   "execution_count": 11,
   "metadata": {},
   "outputs": [
    {
     "name": "stdout",
     "output_type": "stream",
     "text": [
      "[1] '찍어내기 인사' 반발 구례군 사무관, 군수 상대 항소심 승소 \n",
      "[2] \"머리 조아린다고? 조선왕조 시대냐\"..정세균 작심 답변 \n",
      "[3] 강릉서 마을이장 '갑질' 논란..성추행에 돈 갈취 의혹 \n",
      "[4] 데이트 폭력 신고에 변장까지 하고 보복·살인미수 60대 '징역 10년' \n",
      "[5] '자영업자의 발' 다마스·라보, 30년만에 단종 \n",
      "[6] 성폭력 당해도 '쉬쉬'..말하지 못하는 노인, 편견에 또 운다 \n",
      "[7] '삼성전자냐 TSMC냐'..AMD, 발주 주판알 어디로? \n",
      "[8] [단독]빈병 환불해준 척..2000만원 꿀꺽한 편의점 알바 \n",
      "[9] 美 민주, 지원금 진통..샌더스 \"5만달러 벌면 부자?\" \n",
      "[10] [현장연결] 박범계 \"검찰 인사, 윤석열 패싱 아니다\" \n",
      "[11] [개미일기] \"퇴직금으로 투자를?\" 매번 헷갈리는 퇴직연금 제도 \n",
      "[12] 韓 포함 4개국 '쿼드 정상회담' 성사될까..\"中 눈치\" 인도가 변수 \n",
      "[13] 러시아 백신, 누가 비웃었나..AZ논란 속 92% 효능·장점 재평가 \n",
      "[14] 인천∼제주 여객선 9월 운항 재개..세월호 참사 이후 7년만 \n",
      "[15] \"곧 나온다\"..대선판 뒤흔들 여권 586 후보, 누구일까 \n",
      "[16] '태국 파타야 살인사건' 조폭 행동대원, 1심 징역 17년 \n",
      "[17] 연기금, 역대 최장 30일 연속 매도..왜 \n",
      "[18] 中매체 \"美, 쿼드 협력 강화해도 아시아 나토 구성 안될 것\" 반발 \n",
      "[19] \"마피아가 위협해도\"..제주서 난민 청구 소송 잇따라 기각 \n",
      "[20] \"신축 건물 불법 아니다\" 무혐의 결론..부산 서구청, 민원인에 패 \n"
     ]
    }
   ],
   "source": [
    "for i in range(1,21):\n",
    "    selector=f'ul.list_news2 > li:nth-of-type({i}) > div.cont_thumb > strong > a.link_txt'\n",
    "    link=soup.select_one(selector)\n",
    "    print(f'[{i}] {link.text} ')"
   ]
  },
  {
   "cell_type": "code",
   "execution_count": null,
   "metadata": {},
   "outputs": [],
   "source": []
  }
 ],
 "metadata": {
  "kernelspec": {
   "display_name": "Python 3",
   "language": "python",
   "name": "python3"
  },
  "language_info": {
   "codemirror_mode": {
    "name": "ipython",
    "version": 3
   },
   "file_extension": ".py",
   "mimetype": "text/x-python",
   "name": "python",
   "nbconvert_exporter": "python",
   "pygments_lexer": "ipython3",
   "version": "3.8.5"
  }
 },
 "nbformat": 4,
 "nbformat_minor": 4
}
