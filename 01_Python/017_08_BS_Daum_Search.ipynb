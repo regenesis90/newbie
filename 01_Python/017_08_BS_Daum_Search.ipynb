{
 "cells": [
  {
   "cell_type": "markdown",
   "metadata": {},
   "source": [
    "# DAUM 뉴스의 '머신러닝' 검색 결과를 크롤링하기"
   ]
  },
  {
   "cell_type": "code",
   "execution_count": 1,
   "metadata": {},
   "outputs": [],
   "source": [
    "import requests\n",
    "from bs4 import BeautifulSoup"
   ]
  },
  {
   "cell_type": "code",
   "execution_count": 2,
   "metadata": {},
   "outputs": [
    {
     "name": "stdout",
     "output_type": "stream",
     "text": [
      "<Response [200]>\n"
     ]
    }
   ],
   "source": [
    "url='https://search.daum.net/search?w=news&DA=PGD&enc=utf8&cluster=y&cluster_page=1&q=%EB%A8%B8%EC%8B%A0%EB%9F%AC%EB%8B%9D&p=2'\n",
    "response=requests.get(url)\n",
    "print(response)"
   ]
  },
  {
   "cell_type": "code",
   "execution_count": 3,
   "metadata": {},
   "outputs": [
    {
     "data": {
      "text/plain": [
       "[<a class=\"f_link_b\" href=\"http://v.media.daum.net/v/20210113230556734?f=o\" onclick='smartLog(this, \"dc=NNS&amp;d=26InMUv97LEfRgxBWz&amp;pg=2&amp;r=1&amp;p=4&amp;rc=10&amp;e1=16JQzgnVEpdmOW7h61&amp;e3=0&amp;ext=dsid=26InMUv97LEfRgxBWz\", event, {\"cpid\": {\"value\": \"16JQzgnVEpdmOW7h61\"}});' target=\"_blank\">큐앤에이소프, '<b>머신러닝</b> 기반 다차원 데이터 분석' 관련 특허</a>,\n",
       " <a class=\"f_link_b\" href=\"https://cp.news.search.daum.net/p/102548639\" onclick='smartLog(this, \"dc=NNS&amp;d=268TWcP_07b_XoNb5A&amp;pg=2&amp;r=2&amp;p=4&amp;rc=10&amp;e1=169V2EIO7NxDh5lvDU&amp;e3=0&amp;ext=dsid=268TWcP_07b_XoNb5A\", event, {\"cpid\": {\"value\": \"169V2EIO7NxDh5lvDU\"}});' target=\"_blank\">슈나이더 일렉트릭, 인공지능 기반 <b>머신 러닝</b> 통한 데이터센터의 ...</a>,\n",
       " <a class=\"f_link_b\" href=\"http://v.media.daum.net/v/20210107164602542?f=o\" onclick='smartLog(this, \"dc=NNS&amp;d=268Yo-9fFg4TWPToT_&amp;pg=2&amp;r=3&amp;p=4&amp;rc=10&amp;e1=16g1M6O9sOa_X0ZgmV&amp;e3=0&amp;ext=dsid=268Yo-9fFg4TWPToT_\", event, {\"cpid\": {\"value\": \"16g1M6O9sOa_X0ZgmV\"}});' target=\"_blank\">시그니아, 세계 최초 <b>머신러닝</b> 기반 보청기 조절 앱 '시그니아 어...</a>,\n",
       " <a class=\"f_link_b\" href=\"https://cp.news.search.daum.net/p/101975026\" onclick='smartLog(this, \"dc=NNS&amp;d=26xd4BghE67AWTIMLe&amp;pg=2&amp;r=4&amp;p=4&amp;rc=10&amp;e1=16oM5rNQgj-I38IYh7&amp;e3=0&amp;ext=dsid=26xd4BghE67AWTIMLe\", event, {\"cpid\": {\"value\": \"16oM5rNQgj-I38IYh7\"}});' target=\"_blank\">미 기업인 74% “AI·<b>머신러닝</b> 최우선 순위에 둔다”</a>,\n",
       " <a class=\"f_link_b\" href=\"http://v.media.daum.net/v/20201222143915304?f=o\" onclick='smartLog(this, \"dc=NNS&amp;d=26mZe8bF7VBm4vLi7a&amp;pg=2&amp;r=5&amp;p=4&amp;rc=10&amp;e1=16sIQ8rx97vi9RHx8w&amp;e3=0&amp;ext=dsid=26mZe8bF7VBm4vLi7a\", event, {\"cpid\": {\"value\": \"16sIQ8rx97vi9RHx8w\"}});' target=\"_blank\">구글과 함께 하는 AI '<b>머신러닝</b> 야학' 2기 시작</a>,\n",
       " <a class=\"f_link_b\" href=\"http://v.media.daum.net/v/20201230140729772?f=o\" onclick='smartLog(this, \"dc=NNS&amp;d=26PZ8pNYU4Z6jqvMwd&amp;pg=2&amp;r=6&amp;p=4&amp;rc=10&amp;e1=16ch37p8Eze2f0phkS&amp;e3=0&amp;ext=dsid=26PZ8pNYU4Z6jqvMwd\", event, {\"cpid\": {\"value\": \"16ch37p8Eze2f0phkS\"}});' target=\"_blank\">데브옵스·<b>머신러닝</b>..IT분야 연봉 높이는 기술역량 10가지</a>,\n",
       " <a class=\"f_link_b\" href=\"http://v.media.daum.net/v/20210208154943794?f=o\" onclick='smartLog(this, \"dc=NNS&amp;d=26kJP1_AnPUM2SKGgg&amp;pg=2&amp;r=7&amp;p=4&amp;rc=10&amp;e1=16EJqgUM0mYHaQpZZ-&amp;e3=0&amp;ext=dsid=26kJP1_AnPUM2SKGgg\", event, {\"cpid\": {\"value\": \"16EJqgUM0mYHaQpZZ-\"}});' target=\"_blank\">AI 전문기업 쿨사인, 올해 B2B 시장 제품 순차 출시</a>,\n",
       " <a class=\"f_link_b\" href=\"https://cp.news.search.daum.net/p/100965828\" onclick='smartLog(this, \"dc=NNS&amp;d=26t7m-NsM9gi1H_1y9&amp;pg=2&amp;r=8&amp;p=4&amp;rc=10&amp;e1=16Di4dkj6V1Ygv8tk7&amp;e3=0&amp;ext=dsid=26t7m-NsM9gi1H_1y9\", event, {\"cpid\": {\"value\": \"16Di4dkj6V1Ygv8tk7\"}});' target=\"_blank\">누구나 쉽게 배우는 <b>머신러닝</b>... 구글, '<b>머신러닝</b> 야학' 연다</a>,\n",
       " <a class=\"f_link_b\" href=\"https://cp.news.search.daum.net/p/101885600\" onclick='smartLog(this, \"dc=NNS&amp;d=26tvVoa4C4PMCeW18c&amp;pg=2&amp;r=9&amp;p=4&amp;rc=10&amp;e1=16TjTsa7b_jTCZhwup&amp;e3=0&amp;ext=dsid=26tvVoa4C4PMCeW18c\", event, {\"cpid\": {\"value\": \"16TjTsa7b_jTCZhwup\"}});' target=\"_blank\">스와미 시바수브라마니안 AWS <b>머신러닝</b> 부사장</a>,\n",
       " <a class=\"f_link_b\" href=\"http://v.media.daum.net/v/20210207180820895?f=o\" onclick='smartLog(this, \"dc=NNS&amp;d=26TRxv94T1yPwPmk3Q&amp;pg=2&amp;r=10&amp;p=4&amp;rc=10&amp;e1=16xPi3xTTvS9eQchSd&amp;e3=0&amp;ext=dsid=26TRxv94T1yPwPmk3Q\", event, {\"cpid\": {\"value\": \"16xPi3xTTvS9eQchSd\"}});' target=\"_blank\">코로나 속 '의료 AI' 활약.. \"올해, AI 황금시대 진입\"</a>]"
      ]
     },
     "execution_count": 3,
     "metadata": {},
     "output_type": "execute_result"
    }
   ],
   "source": [
    "html=response.text.strip()\n",
    "soup=BeautifulSoup(markup=html, features='html5lib')\n",
    "selector='#clusterResultUL > li > div > div > div > a.f_link_b'\n",
    "soup.select(selector)"
   ]
  },
  {
   "cell_type": "code",
   "execution_count": 4,
   "metadata": {},
   "outputs": [
    {
     "name": "stdout",
     "output_type": "stream",
     "text": [
      "--- page 1 ---\n",
      "http://v.media.daum.net/v/20210208101308506?f=o 성안당, '엑셀로 배우는 머신러닝 초(超)입문' 발간\n",
      "https://cp.news.search.daum.net/p/102568925 실전 금융 머신러닝 완벽 분석\n",
      "http://v.media.daum.net/v/20210131171803074?f=o 지멘스 CEO \"머신러닝이 향후 5년 제조업 키워드\"\n",
      "https://cp.news.search.daum.net/p/102600626 성균관대학교, ‘머신러닝과 사회과학적 상상력’ 제1회 소셜이노...\n",
      "http://v.media.daum.net/v/20210125140011940?f=o 바이텍씨스템, 데이터로봇과 데이터 사이언스 및 머신러닝 플랫폼...\n",
      "http://v.media.daum.net/v/20210126143704209?f=o 머신러닝 기반 광고자동화플랫폼 '몰로코 클라우드' 출시.. \"올해...\n",
      "http://v.media.daum.net/v/20210114144154666?f=o 오라클, 블록체인 적용한 'DB 21c' 공개..\"머신러닝도 자동으로\"\n",
      "http://v.media.daum.net/v/20210113172556755?f=o 노영균 한양대 교수, 머신러닝 활용 '간 질병' 분류기술 개발\n",
      "https://cp.news.search.daum.net/p/101999005 [5Q 인터뷰] '혼자 공부하는 머신러닝+딥러닝' 박해선 저자\n",
      "http://v.media.daum.net/v/20210101093825912?f=o 구글코리아, '머신 러닝 야학' 2기 모집\n",
      "--- page 2 ---\n",
      "http://v.media.daum.net/v/20210113230556734?f=o 큐앤에이소프, '머신러닝 기반 다차원 데이터 분석' 관련 특허\n",
      "https://cp.news.search.daum.net/p/102548639 슈나이더 일렉트릭, 인공지능 기반 머신 러닝 통한 데이터센터의 ...\n",
      "http://v.media.daum.net/v/20210107164602542?f=o 시그니아, 세계 최초 머신러닝 기반 보청기 조절 앱 '시그니아 어...\n",
      "https://cp.news.search.daum.net/p/101975026 미 기업인 74% “AI·머신러닝 최우선 순위에 둔다”\n",
      "http://v.media.daum.net/v/20201222143915304?f=o 구글과 함께 하는 AI '머신러닝 야학' 2기 시작\n",
      "http://v.media.daum.net/v/20201230140729772?f=o 데브옵스·머신러닝..IT분야 연봉 높이는 기술역량 10가지\n",
      "http://v.media.daum.net/v/20210208154943794?f=o AI 전문기업 쿨사인, 올해 B2B 시장 제품 순차 출시\n",
      "https://cp.news.search.daum.net/p/100965828 누구나 쉽게 배우는 머신러닝... 구글, '머신러닝 야학' 연다\n",
      "https://cp.news.search.daum.net/p/101885600 스와미 시바수브라마니안 AWS 머신러닝 부사장\n",
      "http://v.media.daum.net/v/20210207180820895?f=o 코로나 속 '의료 AI' 활약.. \"올해, AI 황금시대 진입\"\n",
      "--- page 3 ---\n",
      "http://v.media.daum.net/v/20201221180415414?f=o [2020 하반기 인기상품]마케팅우수-위세아이텍-머신러닝 자동화플...\n",
      "http://v.media.daum.net/v/20201218164202716?f=o 아마존 CTO \"기계간 소통 50%로 커져..머신러닝 중요성 부각\"\n",
      "http://v.media.daum.net/v/20210105132003673?f=o [올쇼TV] 소닉월 캡쳐클라이언트, 강력한 머신러닝 기반 차세대 ...\n",
      "https://cp.news.search.daum.net/p/101964228 [CES 2021 All Digital] 콕스스페이스(CoX Space), 제스처 머신러...\n",
      "http://v.media.daum.net/v/20210103125504546?f=o 현대모비스, 머신러닝·블록체인 기반 AS부품 관리 시스템 구축\n",
      "http://v.media.daum.net/v/20210208154741683?f=o 스포티파이 \"가짜 스트리밍‧순위 조작, 최첨단 기술로 막는다\"\n",
      "http://v.media.daum.net/v/20210208174153599?f=o 韓 상륙한 스포티파이, \"차트 조작 막겠다.. 음원 협의 지속\"\n",
      "http://v.media.daum.net/v/20201230134602978?f=o 차량 내 탑승자 인식 정확도 높인 머신러닝 기반 레이더 기술 개발\n",
      "http://v.media.daum.net/v/20201216000105021?f=o 위세아이텍 창립 30주년..\"머신러닝·빅데이터 기술력 발판으로 ...\n",
      "http://v.media.daum.net/v/20210208172033725?f=o \"극강의 청취 경험 제공\"..스포티파이, 자신만만 韓 론칭\n"
     ]
    }
   ],
   "source": [
    "# 1-3페이지까지 머신러닝 뉴스 검색결과의 제목, URL 출력\n",
    "for page in range(1,4):\n",
    "    print(f'--- page {page} ---')\n",
    "    url=f'https://search.daum.net/search?w=news&DA=PGD&enc=utf8&cluster=y&cluster_page=1'\n",
    "    params={'q':'머신러닝', 'p':page} #> querystring parameter\n",
    "    response=requests.get(url, params)\n",
    "    \n",
    "    html=response.text.strip()\n",
    "    soup=BeautifulSoup(markup=html, features='html5lib')\n",
    "    selector='#clusterResultUL > li > div > div > div > a.f_link_b'\n",
    "    search_results=soup.select(selector)\n",
    "    for link in search_results:\n",
    "        print(link['href'], link.text)"
   ]
  },
  {
   "cell_type": "code",
   "execution_count": null,
   "metadata": {},
   "outputs": [],
   "source": []
  }
 ],
 "metadata": {
  "kernelspec": {
   "display_name": "Python 3",
   "language": "python",
   "name": "python3"
  },
  "language_info": {
   "codemirror_mode": {
    "name": "ipython",
    "version": 3
   },
   "file_extension": ".py",
   "mimetype": "text/x-python",
   "name": "python",
   "nbconvert_exporter": "python",
   "pygments_lexer": "ipython3",
   "version": "3.8.5"
  }
 },
 "nbformat": 4,
 "nbformat_minor": 4
}
