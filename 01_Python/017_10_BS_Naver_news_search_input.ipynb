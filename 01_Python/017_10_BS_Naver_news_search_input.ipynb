{
 "cells": [
  {
   "cell_type": "markdown",
   "metadata": {},
   "source": [
    "# NAVER 뉴스 검색"
   ]
  },
  {
   "cell_type": "code",
   "execution_count": 1,
   "metadata": {},
   "outputs": [],
   "source": [
    "import requests\n",
    "from bs4 import BeautifulSoup"
   ]
  },
  {
   "cell_type": "code",
   "execution_count": 2,
   "metadata": {},
   "outputs": [
    {
     "name": "stdout",
     "output_type": "stream",
     "text": [
      "<Response [200]>\n"
     ]
    }
   ],
   "source": [
    "url='https://search.naver.com/search.naver?where=news'\n",
    "params={'query':'머신러닝', 'start':1} #> 요청 파라미터(request parameter)\n",
    "response=requests.get(url, params)\n",
    "print(response)"
   ]
  },
  {
   "cell_type": "code",
   "execution_count": 3,
   "metadata": {},
   "outputs": [],
   "source": [
    "html=response.text.strip()\n",
    "soup=BeautifulSoup(markup=html, features='html5lib')"
   ]
  },
  {
   "cell_type": "code",
   "execution_count": 6,
   "metadata": {},
   "outputs": [
    {
     "data": {
      "text/plain": [
       "[<a class=\"news_tit\" href=\"http://www.etnews.com/20210208000052\" onclick=\"return goOtherCR(this, 'a=nws*e.tit&amp;r=1&amp;i=880000EA_000000000000000002927640&amp;g=030.0002927640&amp;u='+urlencode(this.href));\" target=\"_blank\" title=\"성안당, '엑셀로 배우는 머신러닝 초(超)입문' 발간\">성안당, '엑셀로 배우는 <mark>머신러닝</mark> 초(超)입문' 발간</a>,\n",
       " <a class=\"news_tit\" href=\"https://www.hankyung.com/life/article/2021020497321\" onclick=\"return goOtherCR(this, 'a=nws*j.tit&amp;r=2&amp;i=88000107_000000000000000004495049&amp;g=015.0004495049&amp;u='+urlencode(this.href));\" target=\"_blank\" title=\"전시장서 러닝머신 타고 요가 수업…'갤러리가 美쳤어요'\">전시장서 <mark>러닝</mark><mark>머신</mark> 타고 요가 수업…'갤러리가 美쳤어요'</a>,\n",
       " <a class=\"news_tit\" href=\"http://www.osen.co.kr/article/G1111517777\" onclick=\"return goOtherCR(this, 'a=nws*e.tit&amp;r=3&amp;i=8800011B_000000000000000004349397&amp;g=109.0004349397&amp;u='+urlencode(this.href));\" target=\"_blank\" title=\"'32kg감량' 홍지민, 공복유산소로 완성되는 V라인 &quot;오늘은 러닝머신&quot;\">'32kg감량' 홍지민, 공복유산소로 완성되는 V라인 \"오늘은 <mark>러닝</mark><mark>머신</mark>\"</a>,\n",
       " <a class=\"news_tit\" href=\"http://www.ciokorea.com/news/182014\" onclick=\"return goOtherCR(this, 'a=nws*f.tit&amp;r=4&amp;i=88122F96_000000000000000000028957&amp;g=5177.0000028957&amp;u='+urlencode(this.href));\" target=\"_blank\" title='\"머신러닝 번역, 원문보다 어휘 다양성 떨어져\"'>\"<mark>머신러닝</mark> 번역, 원문보다 어휘 다양성 떨어져\"</a>,\n",
       " <a class=\"news_tit\" href=\"http://www.ddaily.co.kr/news/article.html?no=208443\" onclick=\"return goOtherCR(this, 'a=nws*a.tit&amp;r=5&amp;i=880000AC_000000000000000002097993&amp;g=138.0002097993&amp;u='+urlencode(this.href));\" target=\"_blank\" title=\"몰로코, 머신러닝 기반 광고 자동화 플랫폼 출시\">몰로코, <mark>머신러닝</mark> 기반 광고 자동화 플랫폼 출시</a>,\n",
       " <a class=\"news_tit\" href=\"http://www.lecturernews.com/news/articleView.html?idxno=60727\" onclick=\"return goOtherCR(this, 'a=nws*f.tit&amp;r=10&amp;i=881830f6_000000000000000000044277&amp;g=5566.0000044277&amp;u='+urlencode(this.href));\" target=\"_blank\" title=\"성균관대학교, '머신러닝과 사회과학적 상상력' 제1회 소셜이노베이션 취·창업 비교과프로그램 개최\">성균관대학교, '<mark>머신러닝</mark>과 사회과학적 상상력' 제1회 소셜이노베이션 취·창...</a>,\n",
       " <a class=\"news_tit\" href=\"https://www.sedaily.com/NewsView/22HCS9BT5D\" onclick=\"return goOtherCR(this, 'a=nws*h.tit&amp;r=11&amp;i=88000108_000000000000000003860767&amp;g=011.0003860767&amp;u='+urlencode(this.href));\" target=\"_blank\" title=\"홈트에도 층간 소음 걱정 뚝···GS샵, '나인닷 러닝패드' 단독 론칭\">홈트에도 층간 소음 걱정 뚝···GS샵, '나인닷 <mark>러닝</mark>패드' 단독 론칭</a>,\n",
       " <a class=\"news_tit\" href=\"http://www.epnc.co.kr/news/articleView.html?idxno=114928\" onclick=\"return goOtherCR(this, 'a=nws*f.tit&amp;r=16&amp;i=8819cr4r_000000000000000000019400&amp;g=5752.0000019400&amp;u='+urlencode(this.href));\" target=\"_blank\" title=\"스마트 공장에서 머신비전의 중요성\">스마트 공장에서 <mark>머신</mark>비전의 중요성</a>,\n",
       " <a class=\"news_tit\" href=\"http://www.itworld.co.kr/techlibrary/180724\" onclick=\"return goOtherCR(this, 'a=nws*f.tit&amp;r=17&amp;i=88000629_000000000000000000049140&amp;g=5110.0000049140&amp;u='+urlencode(this.href));\" target=\"_blank\" title=\"Workday의 머신러닝 혁신 : IT 리더를 위한 가이드\">Workday의 <mark>머신러닝</mark> 혁신 : IT 리더를 위한 가이드</a>,\n",
       " <a class=\"news_tit\" href=\"http://news.mk.co.kr/newsRead.php?no=100880&amp;year=2021\" onclick=\"return goOtherCR(this, 'a=nws*e.tit&amp;r=18&amp;i=880000BC_000000000000000004741980&amp;g=009.0004741980&amp;u='+urlencode(this.href));\" target=\"_blank\" title='지멘스 CEO \"머신러닝이 향후 5년 제조업 키워드\"'>지멘스 CEO \"<mark>머신러닝</mark>이 향후 5년 제조업 키워드\"</a>]"
      ]
     },
     "execution_count": 6,
     "metadata": {},
     "output_type": "execute_result"
    }
   ],
   "source": [
    "selector='ul.list_news > li > div > div > a.news_tit'\n",
    "soup.select(selector)"
   ]
  },
  {
   "cell_type": "code",
   "execution_count": 7,
   "metadata": {},
   "outputs": [],
   "source": [
    "def naver_news_search(keyword:str, total_pages:int) -> None:\n",
    "    url='https://search.naver.com/search.naver?where=news'\n",
    "    \n",
    "    for page in range(total_pages):\n",
    "        print(f'--- page {page+1} ---')\n",
    "        params={'query':keyword, 'start':page*10+1} #> request parameters\n",
    "        response=requests.get(url,params)\n",
    "        html=response.text.strip() #> HTML 추출\n",
    "        soup=BeautifulSoup(markup=html, features='html5lib') #> BS 객체\n",
    "        selector='ul.list_news > li > div > div > a.news_tit'\n",
    "        for news in soup.select(selector):\n",
    "            print(news['href'], news.text)\n",
    "        print()"
   ]
  },
  {
   "cell_type": "code",
   "execution_count": 8,
   "metadata": {},
   "outputs": [
    {
     "name": "stdin",
     "output_type": "stream",
     "text": [
      "검색어:  윤미향\n",
      "검색할 페이지 개수 입력:  2\n"
     ]
    },
    {
     "name": "stdout",
     "output_type": "stream",
     "text": [
      "--- page 1 ---\n",
      "http://www.newsis.com/view/?id=NISX20210203_0001328474&cID=10301&pID=10300 野 의원, 중기부 장관 후보자에 \"윤미향·유시민·조국 고발 의향 없나\"\n",
      "https://news.joins.com/article/olink/23579800 정의연 \"보조금 안 받고, 정대협 청산\"···윤미향 언급 없었다\n",
      "https://hankookilbo.com/News/Read/A2021020516220005293?did=NA 이용수 할머니, 설 쇠고 30년 살던 아파트 떠난다\n",
      "http://www.fnnews.com/news/202102041702107798 김근식 \"김명수 뻔뻔해..조국·윤미향·남인순 진보 유전자인가\"\n",
      "https://biz.chosun.com/site/data/html_dir/2021/02/01/2021020102876.html?utm_source=naver&utm_medium=original&utm_campaign=biz 161명 서명한 판사탄핵안에 與윤미향·無이상직은 불참…김홍걸은 서명\n",
      "http://news.tvchosun.com/site/data/html_dir/2021/01/23/2021012390045.html [단독] '위안부 합의 전날 통보 받았다'던 윤미향…외교부 \"4번 비공개 면담했...\n",
      "https://www.chosun.com/national/incident/2021/01/20/XU35TZMLZFE75NTDCIPWBN5WHA/?utm_source=naver&utm_medium=referral&utm_campaign=naver-news 윤미향 서면조사만하고...위안부쉼터 소장 사망 내사종결\n",
      "https://news.imaeil.com/InnerColumn/2021012816194011259 [석민의News픽] 한국 좌파의 '치떨리는' 뻔뻔함, 그 끝은?\n",
      "http://www.hani.co.kr/arti/society/media/981948.html [열린편집위원회] 팩트 전달 넘어…‘질문하고, 파고드는 기사’ 더 보고 싶다\n",
      "http://yna.kr/AKR20210111142700004?did=1195m '정의연 의혹' 윤미향 측 \"검찰, 수사기록 비공개…방어권 차질\"\n",
      "\n",
      "--- page 2 ---\n",
      "http://www.inews24.com/view/1337821 김근식, 문재인 정부 직격…\"조국·윤미향·추미애 보유국도 자랑스럽나\"\n",
      "http://yna.kr/AKR20201213038100001?did=1195m 윤미향, 코로나 속 '노마스크 와인 모임'…논란 일자 사과\n",
      "http://yna.kr/AKR20201216090351001?did=1195m 與, '노마스크 와인 모임' 윤미향에 \"엄중 경고\"(종합)\n",
      "http://yna.kr/AKR20201214069000001?did=1195m \"토착 매국노\" \"할머니 앵벌이\"…野, 윤미향 원색비난\n",
      "http://yna.kr/AKR20210108145100001?did=1195m 윤미향 \"한파 속에 수요시위 안해도 되는 세상 오길\"\n",
      "https://news.joins.com/article/olink/23540572 \"또 어머니 팔았다\" 길 할머니 측, 윤미향 와인파티에 불쾌\n",
      "https://imnews.imbc.com/replay/2020/nwdesk/article/6029467_32524.html \"국민에게 실망줬다\"…'와인 파티' 윤미향 엄중 경고\n",
      "https://news.joins.com/article/olink/23539315 94번째 생신 '와인파티' 연 윤미향...野 \"길원옥 할머니 92세\"\n",
      "http://news.tvchosun.com/site/data/html_dir/2020/11/30/2020113090104.html '후원금 횡령 의혹' 윤미향, 첫 재판서 혐의 전면 부인\n",
      "http://www.newsis.com/view/?id=NISX20201216_0001272312&cID=10301&pID=10300 與, '와인 모임' 윤미향에 \"부적절한 행위…엄중히 경고\"\n",
      "\n"
     ]
    }
   ],
   "source": [
    "keyword=input('검색어: ')\n",
    "pages=int(input('검색할 페이지 개수 입력: '))\n",
    "naver_news_search(keyword, pages)"
   ]
  },
  {
   "cell_type": "code",
   "execution_count": null,
   "metadata": {},
   "outputs": [],
   "source": []
  }
 ],
 "metadata": {
  "kernelspec": {
   "display_name": "Python 3",
   "language": "python",
   "name": "python3"
  },
  "language_info": {
   "codemirror_mode": {
    "name": "ipython",
    "version": 3
   },
   "file_extension": ".py",
   "mimetype": "text/x-python",
   "name": "python",
   "nbconvert_exporter": "python",
   "pygments_lexer": "ipython3",
   "version": "3.8.5"
  }
 },
 "nbformat": 4,
 "nbformat_minor": 4
}
