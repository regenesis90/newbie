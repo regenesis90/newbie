{
 "cells": [
  {
   "cell_type": "markdown",
   "metadata": {},
   "source": [
    "# Data Analysis with Python"
   ]
  },
  {
   "cell_type": "markdown",
   "metadata": {},
   "source": [
    "* NumPy : n차원 배열(ndarray)을 다루는 패키지\n",
    "* pandas : DataFrame을 다루는 패키지\n",
    "* matplotlib : 데이터 시각화(그래프)"
   ]
  },
  {
   "cell_type": "markdown",
   "metadata": {},
   "source": [
    "# Python List"
   ]
  },
  {
   "cell_type": "markdown",
   "metadata": {
    "execution": {
     "iopub.execute_input": "2021-03-29T07:24:36.016840Z",
     "iopub.status.busy": "2021-03-29T07:24:36.015841Z",
     "iopub.status.idle": "2021-03-29T07:24:36.022863Z",
     "shell.execute_reply": "2021-03-29T07:24:36.021896Z",
     "shell.execute_reply.started": "2021-03-29T07:24:36.015841Z"
    }
   },
   "source": [
    "* 여러개의 값들을 저장할 수 있는 데이터 타입\n",
    "* 여러가지 데이터 타입의 값들이 저장될 수 있음\n",
    "* 각각의 원소(값)을 접근할 때 인덱스(index)를 사용함"
   ]
  },
  {
   "cell_type": "code",
   "execution_count": 2,
   "metadata": {
    "execution": {
     "iopub.execute_input": "2021-03-29T07:25:09.101081Z",
     "iopub.status.busy": "2021-03-29T07:25:09.101081Z",
     "iopub.status.idle": "2021-03-29T07:25:09.122026Z",
     "shell.execute_reply": "2021-03-29T07:25:09.121028Z",
     "shell.execute_reply.started": "2021-03-29T07:25:09.101081Z"
    }
   },
   "outputs": [
    {
     "data": {
      "text/plain": [
       "list"
      ]
     },
     "execution_count": 2,
     "metadata": {},
     "output_type": "execute_result"
    }
   ],
   "source": [
    "data=[1,3.14, 'abc', [1,2,3], {'a':1, 'b':2}]\n",
    "type(data)"
   ]
  },
  {
   "cell_type": "markdown",
   "metadata": {
    "execution": {
     "iopub.execute_input": "2021-03-29T07:25:28.473483Z",
     "iopub.status.busy": "2021-03-29T07:25:28.473483Z",
     "iopub.status.idle": "2021-03-29T07:25:28.481655Z",
     "shell.execute_reply": "2021-03-29T07:25:28.480466Z",
     "shell.execute_reply.started": "2021-03-29T07:25:28.473483Z"
    }
   },
   "source": [
    "* list의 산술 연산은 **+만 가능하다**\n",
    "`list + list`"
   ]
  },
  {
   "cell_type": "code",
   "execution_count": 4,
   "metadata": {
    "execution": {
     "iopub.execute_input": "2021-03-29T07:26:09.981980Z",
     "iopub.status.busy": "2021-03-29T07:26:09.981980Z",
     "iopub.status.idle": "2021-03-29T07:26:09.990955Z",
     "shell.execute_reply": "2021-03-29T07:26:09.989957Z",
     "shell.execute_reply.started": "2021-03-29T07:26:09.981980Z"
    }
   },
   "outputs": [
    {
     "data": {
      "text/plain": [
       "[1, 2, 3, 4, 5, 6, 7, 8]"
      ]
     },
     "execution_count": 4,
     "metadata": {},
     "output_type": "execute_result"
    }
   ],
   "source": [
    "#> numbers1에 numbers2를 확장한 새로운 리스트 리턴\n",
    "numbers1=[1,2,3,4]\n",
    "numbers2=[5,6,7,8]\n",
    "numbers1+numbers2"
   ]
  },
  {
   "cell_type": "code",
   "execution_count": 5,
   "metadata": {
    "execution": {
     "iopub.execute_input": "2021-03-29T07:26:44.168047Z",
     "iopub.status.busy": "2021-03-29T07:26:44.167049Z",
     "iopub.status.idle": "2021-03-29T07:26:44.179014Z",
     "shell.execute_reply": "2021-03-29T07:26:44.178017Z",
     "shell.execute_reply.started": "2021-03-29T07:26:44.168047Z"
    }
   },
   "outputs": [
    {
     "data": {
      "text/plain": [
       "[1, 2, 3, 4, 5, 6, 7, 8]"
      ]
     },
     "execution_count": 5,
     "metadata": {},
     "output_type": "execute_result"
    }
   ],
   "source": [
    "# numbers1에 numbers2 추가 : numbers1이 변경\n",
    "numbers1.extend(numbers2)\n",
    "numbers1"
   ]
  },
  {
   "cell_type": "markdown",
   "metadata": {},
   "source": [
    "* list와 숫자 타입 사이에는 * 연산은 가능하다.\n",
    "\n",
    "`list * number, number * list`"
   ]
  },
  {
   "cell_type": "code",
   "execution_count": 6,
   "metadata": {
    "execution": {
     "iopub.execute_input": "2021-03-29T07:27:23.370232Z",
     "iopub.status.busy": "2021-03-29T07:27:23.369237Z",
     "iopub.status.idle": "2021-03-29T07:27:23.379207Z",
     "shell.execute_reply": "2021-03-29T07:27:23.378210Z",
     "shell.execute_reply.started": "2021-03-29T07:27:23.370232Z"
    }
   },
   "outputs": [
    {
     "data": {
      "text/plain": [
       "[1, 2, 3, 4, 1, 2, 3, 4]"
      ]
     },
     "execution_count": 6,
     "metadata": {},
     "output_type": "execute_result"
    }
   ],
   "source": [
    "[1,2,3,4]*2"
   ]
  },
  {
   "cell_type": "code",
   "execution_count": 7,
   "metadata": {
    "execution": {
     "iopub.execute_input": "2021-03-29T07:27:29.454158Z",
     "iopub.status.busy": "2021-03-29T07:27:29.454158Z",
     "iopub.status.idle": "2021-03-29T07:27:29.462137Z",
     "shell.execute_reply": "2021-03-29T07:27:29.461140Z",
     "shell.execute_reply.started": "2021-03-29T07:27:29.454158Z"
    }
   },
   "outputs": [
    {
     "data": {
      "text/plain": [
       "[1, 2, 3, 4, 1, 2, 3, 4, 1, 2, 3, 4]"
      ]
     },
     "execution_count": 7,
     "metadata": {},
     "output_type": "execute_result"
    }
   ],
   "source": [
    "3*[1,2,3,4]"
   ]
  },
  {
   "cell_type": "markdown",
   "metadata": {},
   "source": [
    "# list 를 활용한 Vector 연산"
   ]
  },
  {
   "cell_type": "code",
   "execution_count": 8,
   "metadata": {
    "execution": {
     "iopub.execute_input": "2021-03-29T07:30:38.189151Z",
     "iopub.status.busy": "2021-03-29T07:30:38.189151Z",
     "iopub.status.idle": "2021-03-29T07:30:38.203113Z",
     "shell.execute_reply": "2021-03-29T07:30:38.201121Z",
     "shell.execute_reply.started": "2021-03-29T07:30:38.189151Z"
    }
   },
   "outputs": [],
   "source": [
    "def add_vector(vl:list, v2:list) -> list:\n",
    "    \"\"\"\n",
    "    원소의 개수가 같은 list 2개를 argument로 전달받아서,\n",
    "    같은 인덱스의 원소들끼리(element_wise) 더한 값들로 이루어진 list를 생성해서 리턴하는 함수.\n",
    "    \n",
    "    :param v1: 숫자들을 원소로 갖는 1차원 list\n",
    "    :param v2: 숫자들을 원소로 갖는 1차원 list\n",
    "    :return: 1-dimension list\n",
    "    \"\"\"\n",
    "    # 만약 리스트 v1과 v2의 원소 개수가 다를 경우\n",
    "    if len(v1)!=len(v2):\n",
    "        raise ValueError('리스트 v1과 v2는 길이가 같아야 합니다.')\n",
    "    return [x+y for x,y in zip(v1,v2)] #return [v1[i]+v2[i] for i in range(len(v1))]"
   ]
  },
  {
   "cell_type": "code",
   "execution_count": 9,
   "metadata": {
    "execution": {
     "iopub.execute_input": "2021-03-29T07:30:52.316235Z",
     "iopub.status.busy": "2021-03-29T07:30:52.316235Z",
     "iopub.status.idle": "2021-03-29T07:30:52.322550Z",
     "shell.execute_reply": "2021-03-29T07:30:52.322550Z",
     "shell.execute_reply.started": "2021-03-29T07:30:52.316235Z"
    }
   },
   "outputs": [
    {
     "data": {
      "text/plain": [
       "[5, 7, 9]"
      ]
     },
     "execution_count": 9,
     "metadata": {},
     "output_type": "execute_result"
    }
   ],
   "source": [
    "# 리스트 값끼리의 벡터 연산\n",
    "v1=[1,2,3]\n",
    "v2=[4,5,6]\n",
    "add_vector(v1,v2)"
   ]
  },
  {
   "cell_type": "code",
   "execution_count": 10,
   "metadata": {
    "execution": {
     "iopub.execute_input": "2021-03-29T07:31:34.171405Z",
     "iopub.status.busy": "2021-03-29T07:31:34.171405Z",
     "iopub.status.idle": "2021-03-29T07:31:35.155999Z",
     "shell.execute_reply": "2021-03-29T07:31:35.155006Z",
     "shell.execute_reply.started": "2021-03-29T07:31:34.171405Z"
    }
   },
   "outputs": [],
   "source": [
    "# matplotlib 패키지의 pyplot 모듈을 plt라는 별명으로 import 합니다.\n",
    "import matplotlib.pyplot as plt"
   ]
  },
  {
   "cell_type": "code",
   "execution_count": 31,
   "metadata": {
    "execution": {
     "iopub.execute_input": "2021-03-29T07:51:52.045860Z",
     "iopub.status.busy": "2021-03-29T07:51:52.044860Z",
     "iopub.status.idle": "2021-03-29T07:51:52.361187Z",
     "shell.execute_reply": "2021-03-29T07:51:52.360191Z",
     "shell.execute_reply.started": "2021-03-29T07:51:52.045860Z"
    }
   },
   "outputs": [
    {
     "data": {
      "image/png": "[encoded data removed]",
      "text/plain": [
       "<Figure size 432x288 with 1 Axes>"
      ]
     },
     "metadata": {
      "needs_background": "light"
     },
     "output_type": "display_data"
    }
   ],
   "source": [
    "plt.plot([0,1], 'r') #(0,0)에서 (1,1)까지 벡터\n",
    "plt.plot([0,2], 'b') #(0,0)에서 (1,2)까지 선\n",
    "plt.plot([0,3], 'g') #(0,0)에서 (1,3)까지 선\n",
    "\n",
    "plt.plot([1,5], 'k') #(0,1)에서 (0,5)까지의 선\n",
    "plt.plot([1,5], [2,2], 'k') #(1,2)에서 (5,2)까지의 선\n",
    "plt.plot([1,5], [1,2], 'pink') #(1,1)에서 (5,2)까지의 선\n",
    "\n",
    "plt.xlabel('X')\n",
    "plt.ylabel('Y')\n",
    "plt.show()"
   ]
  },
  {
   "cell_type": "code",
   "execution_count": 32,
   "metadata": {
    "execution": {
     "iopub.execute_input": "2021-03-29T07:53:18.284879Z",
     "iopub.status.busy": "2021-03-29T07:53:18.284879Z",
     "iopub.status.idle": "2021-03-29T07:53:18.291858Z",
     "shell.execute_reply": "2021-03-29T07:53:18.290860Z",
     "shell.execute_reply.started": "2021-03-29T07:53:18.284879Z"
    }
   },
   "outputs": [],
   "source": [
    "def scalar_multiply(v:list, n:float) -> list:\n",
    "    \"\"\"\n",
    "    숫자들의 리스트 v와 숫자 n을 argument로 전달받아서,\n",
    "    리스트의 각 원소들에 n을 곱한 값들로 이루어진 리스트를 반환\n",
    "    :param v: 숫자들의 list\n",
    "    :param n: 숫자\n",
    "    :return: list\n",
    "    \"\"\"\n",
    "    return [x*n for x in v]"
   ]
  },
  {
   "cell_type": "code",
   "execution_count": 33,
   "metadata": {
    "execution": {
     "iopub.execute_input": "2021-03-29T07:53:38.250672Z",
     "iopub.status.busy": "2021-03-29T07:53:38.250672Z",
     "iopub.status.idle": "2021-03-29T07:53:38.260700Z",
     "shell.execute_reply": "2021-03-29T07:53:38.258741Z",
     "shell.execute_reply.started": "2021-03-29T07:53:38.250672Z"
    }
   },
   "outputs": [
    {
     "data": {
      "text/plain": [
       "[30, 60, 90, 120, 150, 180, 150]"
      ]
     },
     "execution_count": 33,
     "metadata": {},
     "output_type": "execute_result"
    }
   ],
   "source": [
    "vec=[1,2,3,4,5,6,5]\n",
    "scalar_multiply(vec, 30)"
   ]
  },
  {
   "cell_type": "code",
   "execution_count": 34,
   "metadata": {
    "execution": {
     "iopub.execute_input": "2021-03-29T07:54:12.434643Z",
     "iopub.status.busy": "2021-03-29T07:54:12.433610Z",
     "iopub.status.idle": "2021-03-29T07:54:12.654019Z",
     "shell.execute_reply": "2021-03-29T07:54:12.653022Z",
     "shell.execute_reply.started": "2021-03-29T07:54:12.434643Z"
    }
   },
   "outputs": [
    {
     "data": {
      "image/png": "[encoded data removed]",
      "text/plain": [
       "<Figure size 432x288 with 1 Axes>"
      ]
     },
     "metadata": {
      "needs_background": "light"
     },
     "output_type": "display_data"
    }
   ],
   "source": [
    "plt.plot([0,10], [0,20], 'k') #(0,0)에서 (10,20)까지 긋는 선\n",
    "plt.plot([0,20], [0,50], 'r--') #(0,0)에서 (20,50)까지 긋는 빨간색 점선\n",
    "plt.xlabel('X')\n",
    "plt.ylabel('Y')\n",
    "plt.show()"
   ]
  },
  {
   "cell_type": "code",
   "execution_count": 45,
   "metadata": {
    "execution": {
     "iopub.execute_input": "2021-03-29T07:59:34.661454Z",
     "iopub.status.busy": "2021-03-29T07:59:34.661454Z",
     "iopub.status.idle": "2021-03-29T07:59:34.668435Z",
     "shell.execute_reply": "2021-03-29T07:59:34.667493Z",
     "shell.execute_reply.started": "2021-03-29T07:59:34.661454Z"
    }
   },
   "outputs": [],
   "source": [
    "def vector_multiply(v1:list, v2:list) -> list:\n",
    "    \"\"\"\n",
    "    v1=[x1, x2, x3, ..., xn], v2=[y1, y2, y3, ..., yn] 일 때,\n",
    "    [x1*y1, x2*y2, x3*y3, ..., xn*yn] 을 리턴하는 함수\n",
    "    \n",
    "    :param v1: 숫자들의 list\n",
    "    :param v2: 숫자들의 list\n",
    "    :return: list\n",
    "    \"\"\"\n",
    "    if len(v1)!=len(v2):\n",
    "        raise ValueError('v1과 v2는 길이가 서로 같아야 합니다.')\n",
    "    return [x*y for x,y in zip(v1,v2)]"
   ]
  },
  {
   "cell_type": "code",
   "execution_count": 36,
   "metadata": {
    "execution": {
     "iopub.execute_input": "2021-03-29T07:56:51.156152Z",
     "iopub.status.busy": "2021-03-29T07:56:51.155115Z",
     "iopub.status.idle": "2021-03-29T07:56:51.164096Z",
     "shell.execute_reply": "2021-03-29T07:56:51.162099Z",
     "shell.execute_reply.started": "2021-03-29T07:56:51.156152Z"
    }
   },
   "outputs": [
    {
     "data": {
      "text/plain": [
       "[10, 22, 36]"
      ]
     },
     "execution_count": 36,
     "metadata": {},
     "output_type": "execute_result"
    }
   ],
   "source": [
    "# vector_multiply 테스트\n",
    "v1, v2=[1,2,3], [10,11,12]\n",
    "vector_multiply(v1,v2)"
   ]
  },
  {
   "cell_type": "code",
   "execution_count": 38,
   "metadata": {
    "execution": {
     "iopub.execute_input": "2021-03-29T07:57:10.840460Z",
     "iopub.status.busy": "2021-03-29T07:57:10.839440Z",
     "iopub.status.idle": "2021-03-29T07:57:10.844428Z",
     "shell.execute_reply": "2021-03-29T07:57:10.843085Z",
     "shell.execute_reply.started": "2021-03-29T07:57:10.840460Z"
    }
   },
   "outputs": [],
   "source": [
    "import math #math.sqrt() 모듈 사용 위해"
   ]
  },
  {
   "cell_type": "code",
   "execution_count": 46,
   "metadata": {
    "execution": {
     "iopub.execute_input": "2021-03-29T08:02:11.964425Z",
     "iopub.status.busy": "2021-03-29T08:02:11.964425Z",
     "iopub.status.idle": "2021-03-29T08:02:11.970408Z",
     "shell.execute_reply": "2021-03-29T08:02:11.969412Z",
     "shell.execute_reply.started": "2021-03-29T08:02:11.964425Z"
    }
   },
   "outputs": [],
   "source": [
    "def vector_dot(v1:list, v2:list) -> float:\n",
    "    \"\"\"\n",
    "    v1=[x1, x2, x3, ..., xn], v2=[y1, y2, y3, ..., yn] 일 때,\n",
    "    x1*y1+x2*y2+x3*y3+...+xn*yn을 리턴하는 함수\n",
    "    :param v1: 숫자들의 list\n",
    "    :param v2: 숫자들의 list\n",
    "    :return: number\n",
    "    \"\"\"\n",
    "    # if len(v1) !=len(v2):\n",
    "    #   raise ValueError('v1과 v2는 길이가 같아야 함')\n",
    "    # return sum([x*y for x,y in zip(v1, v2)])\n",
    "    return sum(vector_multiply(v1,v2))"
   ]
  },
  {
   "cell_type": "code",
   "execution_count": 48,
   "metadata": {
    "execution": {
     "iopub.execute_input": "2021-03-29T08:02:45.423984Z",
     "iopub.status.busy": "2021-03-29T08:02:45.422985Z",
     "iopub.status.idle": "2021-03-29T08:02:45.431961Z",
     "shell.execute_reply": "2021-03-29T08:02:45.430963Z",
     "shell.execute_reply.started": "2021-03-29T08:02:45.422985Z"
    }
   },
   "outputs": [
    {
     "data": {
      "text/plain": [
       "32"
      ]
     },
     "execution_count": 48,
     "metadata": {},
     "output_type": "execute_result"
    }
   ],
   "source": [
    "# vector_dot test\n",
    "v1, v2=[1,2,3], [4,5,6]\n",
    "vector_dot(v1,v2)"
   ]
  },
  {
   "cell_type": "code",
   "execution_count": 47,
   "metadata": {
    "execution": {
     "iopub.execute_input": "2021-03-29T08:02:17.493168Z",
     "iopub.status.busy": "2021-03-29T08:02:17.493168Z",
     "iopub.status.idle": "2021-03-29T08:02:17.498153Z",
     "shell.execute_reply": "2021-03-29T08:02:17.497155Z",
     "shell.execute_reply.started": "2021-03-29T08:02:17.493168Z"
    }
   },
   "outputs": [],
   "source": [
    "def vector_norm(v:list) -> float:\n",
    "    \"\"\"\n",
    "    vector=[x1, x2, x3, ..., xn]일 때, sqrt(x1**2+x2**2+x3**2+...+xn**2) 리턴하는 함수\n",
    "    :param v: 숫자들을 원소로 갖는 list\n",
    "    :return: 숫자\n",
    "    \"\"\"\n",
    "    return math.sqrt(vector_dot(v,v)) #math.sqrt(sum([x**2 for x in v]))"
   ]
  },
  {
   "cell_type": "code",
   "execution_count": 49,
   "metadata": {
    "execution": {
     "iopub.execute_input": "2021-03-29T08:02:49.653902Z",
     "iopub.status.busy": "2021-03-29T08:02:49.652903Z",
     "iopub.status.idle": "2021-03-29T08:02:49.662969Z",
     "shell.execute_reply": "2021-03-29T08:02:49.661972Z",
     "shell.execute_reply.started": "2021-03-29T08:02:49.653902Z"
    }
   },
   "outputs": [
    {
     "data": {
      "text/plain": [
       "14.142135623730951"
      ]
     },
     "execution_count": 49,
     "metadata": {},
     "output_type": "execute_result"
    }
   ],
   "source": [
    "vector_norm([10,10])"
   ]
  },
  {
   "cell_type": "markdown",
   "metadata": {},
   "source": [
    "# NumPy (Numerical Python)"
   ]
  },
  {
   "cell_type": "markdown",
   "metadata": {
    "execution": {
     "iopub.execute_input": "2021-03-29T08:04:15.360952Z",
     "iopub.status.busy": "2021-03-29T08:04:15.360952Z",
     "iopub.status.idle": "2021-03-29T08:04:15.368934Z",
     "shell.execute_reply": "2021-03-29T08:04:15.367934Z",
     "shell.execute_reply.started": "2021-03-29T08:04:15.360952Z"
    }
   },
   "source": [
    "* 배열(array: 숫자들의 리스트)을 쉽고 빠르게 연산(+, -, *, /, ...)하기 위한 라이브러리\n",
    "* NumPy 패키지의 대부분의 기능(함수, 메서드)들은 반복문의 기능을 가지고 있음\n",
    "* NumPy 패키지의 대부분의 기능(함수, 메서드)들은 같은 인덱스의 원소들끼리(element-wise) 연산을 수행하는 경우가 많음\n",
    "* np.ndarray 클래스 : NumPy 패키지의 기본 데이터 타입. n-dimensional array(n차원 배열)"
   ]
  },
  {
   "cell_type": "code",
   "execution_count": 51,
   "metadata": {
    "execution": {
     "iopub.execute_input": "2021-03-29T08:04:38.719560Z",
     "iopub.status.busy": "2021-03-29T08:04:38.718563Z",
     "iopub.status.idle": "2021-03-29T08:04:38.724545Z",
     "shell.execute_reply": "2021-03-29T08:04:38.723549Z",
     "shell.execute_reply.started": "2021-03-29T08:04:38.719560Z"
    }
   },
   "outputs": [],
   "source": [
    "# numpy 패키지를 np라는 별명으로 import 하기\n",
    "import numpy as np"
   ]
  },
  {
   "cell_type": "code",
   "execution_count": 52,
   "metadata": {
    "execution": {
     "iopub.execute_input": "2021-03-29T08:04:58.137821Z",
     "iopub.status.busy": "2021-03-29T08:04:58.136826Z",
     "iopub.status.idle": "2021-03-29T08:04:58.144804Z",
     "shell.execute_reply": "2021-03-29T08:04:58.143806Z",
     "shell.execute_reply.started": "2021-03-29T08:04:58.137821Z"
    }
   },
   "outputs": [
    {
     "data": {
      "text/plain": [
       "'1.19.2'"
      ]
     },
     "execution_count": 52,
     "metadata": {},
     "output_type": "execute_result"
    }
   ],
   "source": [
    "np.__version__ #numpy 버전 확인"
   ]
  },
  {
   "cell_type": "markdown",
   "metadata": {},
   "source": [
    "## np.ndarray 클래스"
   ]
  },
  {
   "cell_type": "code",
   "execution_count": 54,
   "metadata": {
    "execution": {
     "iopub.execute_input": "2021-03-29T08:05:36.404786Z",
     "iopub.status.busy": "2021-03-29T08:05:36.404786Z",
     "iopub.status.idle": "2021-03-29T08:05:36.412767Z",
     "shell.execute_reply": "2021-03-29T08:05:36.411807Z",
     "shell.execute_reply.started": "2021-03-29T08:05:36.404786Z"
    }
   },
   "outputs": [
    {
     "name": "stdout",
     "output_type": "stream",
     "text": [
      "[1, 2, 3] <class 'list'>\n"
     ]
    }
   ],
   "source": [
    "# python 기본 list 클래스\n",
    "l=[1,2,3] \n",
    "print(l, type(l))"
   ]
  },
  {
   "cell_type": "code",
   "execution_count": 55,
   "metadata": {
    "execution": {
     "iopub.execute_input": "2021-03-29T08:06:02.719556Z",
     "iopub.status.busy": "2021-03-29T08:06:02.719556Z",
     "iopub.status.idle": "2021-03-29T08:06:02.730526Z",
     "shell.execute_reply": "2021-03-29T08:06:02.728532Z",
     "shell.execute_reply.started": "2021-03-29T08:06:02.719556Z"
    }
   },
   "outputs": [
    {
     "name": "stdout",
     "output_type": "stream",
     "text": [
      "[1 2 3] <class 'numpy.ndarray'>\n"
     ]
    }
   ],
   "source": [
    "# numpy 패키지의 np.ndarray 클래스\n",
    "arr1=np.array([1,2,3])\n",
    "print(arr1, type(arr1))\n",
    "# numpy 배열은 리스트와 달리 쉼표가 없다. 또한, 클래스가 numpy.ndarray 이다."
   ]
  },
  {
   "cell_type": "code",
   "execution_count": 56,
   "metadata": {
    "execution": {
     "iopub.execute_input": "2021-03-29T08:06:32.270702Z",
     "iopub.status.busy": "2021-03-29T08:06:32.270702Z",
     "iopub.status.idle": "2021-03-29T08:06:32.278685Z",
     "shell.execute_reply": "2021-03-29T08:06:32.277683Z",
     "shell.execute_reply.started": "2021-03-29T08:06:32.270702Z"
    }
   },
   "outputs": [
    {
     "name": "stdout",
     "output_type": "stream",
     "text": [
      "[3 4 5]\n"
     ]
    }
   ],
   "source": [
    "arr2=np.array([3,4,5])\n",
    "print(arr2)"
   ]
  },
  {
   "cell_type": "markdown",
   "metadata": {},
   "source": [
    "## numpy.ndarray 클래스의 연산"
   ]
  },
  {
   "cell_type": "code",
   "execution_count": 57,
   "metadata": {
    "execution": {
     "iopub.execute_input": "2021-03-29T08:06:40.106926Z",
     "iopub.status.busy": "2021-03-29T08:06:40.106926Z",
     "iopub.status.idle": "2021-03-29T08:06:40.114885Z",
     "shell.execute_reply": "2021-03-29T08:06:40.113887Z",
     "shell.execute_reply.started": "2021-03-29T08:06:40.106926Z"
    }
   },
   "outputs": [
    {
     "data": {
      "text/plain": [
       "array([4, 6, 8])"
      ]
     },
     "execution_count": 57,
     "metadata": {},
     "output_type": "execute_result"
    }
   ],
   "source": [
    "arr1+arr2"
   ]
  },
  {
   "cell_type": "code",
   "execution_count": 58,
   "metadata": {
    "execution": {
     "iopub.execute_input": "2021-03-29T08:06:43.226020Z",
     "iopub.status.busy": "2021-03-29T08:06:43.226020Z",
     "iopub.status.idle": "2021-03-29T08:06:43.235991Z",
     "shell.execute_reply": "2021-03-29T08:06:43.234994Z",
     "shell.execute_reply.started": "2021-03-29T08:06:43.226020Z"
    }
   },
   "outputs": [
    {
     "data": {
      "text/plain": [
       "array([ 3,  8, 15])"
      ]
     },
     "execution_count": 58,
     "metadata": {},
     "output_type": "execute_result"
    }
   ],
   "source": [
    "arr1*arr2"
   ]
  },
  {
   "cell_type": "code",
   "execution_count": 59,
   "metadata": {
    "execution": {
     "iopub.execute_input": "2021-03-29T08:06:45.803038Z",
     "iopub.status.busy": "2021-03-29T08:06:45.802005Z",
     "iopub.status.idle": "2021-03-29T08:06:45.811638Z",
     "shell.execute_reply": "2021-03-29T08:06:45.809673Z",
     "shell.execute_reply.started": "2021-03-29T08:06:45.803038Z"
    }
   },
   "outputs": [
    {
     "data": {
      "text/plain": [
       "array([-2, -2, -2])"
      ]
     },
     "execution_count": 59,
     "metadata": {},
     "output_type": "execute_result"
    }
   ],
   "source": [
    "arr1-arr2"
   ]
  },
  {
   "cell_type": "code",
   "execution_count": 60,
   "metadata": {
    "execution": {
     "iopub.execute_input": "2021-03-29T08:06:49.854362Z",
     "iopub.status.busy": "2021-03-29T08:06:49.854362Z",
     "iopub.status.idle": "2021-03-29T08:06:49.862340Z",
     "shell.execute_reply": "2021-03-29T08:06:49.861342Z",
     "shell.execute_reply.started": "2021-03-29T08:06:49.854362Z"
    }
   },
   "outputs": [
    {
     "data": {
      "text/plain": [
       "array([0.33333333, 0.5       , 0.6       ])"
      ]
     },
     "execution_count": 60,
     "metadata": {},
     "output_type": "execute_result"
    }
   ],
   "source": [
    "arr1/arr2"
   ]
  },
  {
   "cell_type": "code",
   "execution_count": 61,
   "metadata": {
    "execution": {
     "iopub.execute_input": "2021-03-29T08:06:59.352591Z",
     "iopub.status.busy": "2021-03-29T08:06:59.352591Z",
     "iopub.status.idle": "2021-03-29T08:06:59.359574Z",
     "shell.execute_reply": "2021-03-29T08:06:59.358574Z",
     "shell.execute_reply.started": "2021-03-29T08:06:59.352591Z"
    }
   },
   "outputs": [
    {
     "data": {
      "text/plain": [
       "array([10, 20, 30])"
      ]
     },
     "execution_count": 61,
     "metadata": {},
     "output_type": "execute_result"
    }
   ],
   "source": [
    "arr1*10"
   ]
  },
  {
   "cell_type": "markdown",
   "metadata": {},
   "source": [
    "## np.dot(a,b) 함수, .dot 메서드, @ 연산"
   ]
  },
  {
   "cell_type": "code",
   "execution_count": 62,
   "metadata": {
    "execution": {
     "iopub.execute_input": "2021-03-29T08:09:42.585583Z",
     "iopub.status.busy": "2021-03-29T08:09:42.584586Z",
     "iopub.status.idle": "2021-03-29T08:09:42.595574Z",
     "shell.execute_reply": "2021-03-29T08:09:42.594601Z",
     "shell.execute_reply.started": "2021-03-29T08:09:42.585583Z"
    }
   },
   "outputs": [
    {
     "data": {
      "text/plain": [
       "26"
      ]
     },
     "execution_count": 62,
     "metadata": {},
     "output_type": "execute_result"
    }
   ],
   "source": [
    "np.dot(arr1, arr2) #np.dot(a,b) 함수"
   ]
  },
  {
   "cell_type": "code",
   "execution_count": 63,
   "metadata": {
    "execution": {
     "iopub.execute_input": "2021-03-29T08:09:54.062782Z",
     "iopub.status.busy": "2021-03-29T08:09:54.061785Z",
     "iopub.status.idle": "2021-03-29T08:09:54.072755Z",
     "shell.execute_reply": "2021-03-29T08:09:54.072755Z",
     "shell.execute_reply.started": "2021-03-29T08:09:54.062782Z"
    }
   },
   "outputs": [
    {
     "data": {
      "text/plain": [
       "26"
      ]
     },
     "execution_count": 63,
     "metadata": {},
     "output_type": "execute_result"
    }
   ],
   "source": [
    "arr1.dot(arr2) #a.dot(b) 메서드"
   ]
  },
  {
   "cell_type": "code",
   "execution_count": 64,
   "metadata": {
    "execution": {
     "iopub.execute_input": "2021-03-29T08:09:58.208357Z",
     "iopub.status.busy": "2021-03-29T08:09:58.208357Z",
     "iopub.status.idle": "2021-03-29T08:09:58.221323Z",
     "shell.execute_reply": "2021-03-29T08:09:58.220323Z",
     "shell.execute_reply.started": "2021-03-29T08:09:58.208357Z"
    }
   },
   "outputs": [
    {
     "data": {
      "text/plain": [
       "26"
      ]
     },
     "execution_count": 64,
     "metadata": {},
     "output_type": "execute_result"
    }
   ],
   "source": [
    "arr1@arr2"
   ]
  },
  {
   "cell_type": "markdown",
   "metadata": {},
   "source": [
    "## numpy.ndarray의 속성들(attribute) : 차원, 모양, 크기, 데이터타입"
   ]
  },
  {
   "cell_type": "code",
   "execution_count": 65,
   "metadata": {
    "execution": {
     "iopub.execute_input": "2021-03-29T08:10:47.409660Z",
     "iopub.status.busy": "2021-03-29T08:10:47.409660Z",
     "iopub.status.idle": "2021-03-29T08:10:47.419637Z",
     "shell.execute_reply": "2021-03-29T08:10:47.418642Z",
     "shell.execute_reply.started": "2021-03-29T08:10:47.409660Z"
    }
   },
   "outputs": [
    {
     "name": "stdout",
     "output_type": "stream",
     "text": [
      "[1 2 3]\n",
      "dimension(차원): 1\n",
      "shape(모양): (3,)\n",
      "size(크기): 3\n",
      "data type: int32\n"
     ]
    }
   ],
   "source": [
    "print(arr1)\n",
    "print('dimension(차원):', arr1.ndim)\n",
    "print('shape(모양):', arr1.shape)\n",
    "print('size(크기):', arr1.size)\n",
    "print('data type:', arr1.dtype)"
   ]
  },
  {
   "cell_type": "markdown",
   "metadata": {},
   "source": [
    "# 2차원 numpy.ndarray 배열"
   ]
  },
  {
   "cell_type": "code",
   "execution_count": 66,
   "metadata": {
    "execution": {
     "iopub.execute_input": "2021-03-29T08:12:10.463731Z",
     "iopub.status.busy": "2021-03-29T08:12:10.463731Z",
     "iopub.status.idle": "2021-03-29T08:12:10.470467Z",
     "shell.execute_reply": "2021-03-29T08:12:10.469675Z",
     "shell.execute_reply.started": "2021-03-29T08:12:10.463731Z"
    }
   },
   "outputs": [
    {
     "name": "stdout",
     "output_type": "stream",
     "text": [
      "[[1, 2, 3], [3, 4, 5]]\n"
     ]
    }
   ],
   "source": [
    "# 파이썬의 기본 2차원 리스트\n",
    "list_2d=[[1,2,3],\n",
    "       [3,4,5]]\n",
    "print(list_2d)"
   ]
  },
  {
   "cell_type": "code",
   "execution_count": 67,
   "metadata": {
    "execution": {
     "iopub.execute_input": "2021-03-29T08:12:52.667257Z",
     "iopub.status.busy": "2021-03-29T08:12:52.666259Z",
     "iopub.status.idle": "2021-03-29T08:12:52.673242Z",
     "shell.execute_reply": "2021-03-29T08:12:52.672283Z",
     "shell.execute_reply.started": "2021-03-29T08:12:52.666259Z"
    }
   },
   "outputs": [
    {
     "name": "stdout",
     "output_type": "stream",
     "text": [
      "[[1 2 3]\n",
      " [4 5 6]]\n"
     ]
    }
   ],
   "source": [
    "# numpy의 2차원 배열(numpy.ndarray)\n",
    "arr_2d=np.array([[1,2,3],\n",
    "                [4,5,6]])\n",
    "print(arr_2d)"
   ]
  },
  {
   "cell_type": "code",
   "execution_count": 69,
   "metadata": {
    "execution": {
     "iopub.execute_input": "2021-03-29T08:14:03.442628Z",
     "iopub.status.busy": "2021-03-29T08:14:03.441630Z",
     "iopub.status.idle": "2021-03-29T08:14:03.447615Z",
     "shell.execute_reply": "2021-03-29T08:14:03.446617Z",
     "shell.execute_reply.started": "2021-03-29T08:14:03.442628Z"
    }
   },
   "outputs": [
    {
     "name": "stdout",
     "output_type": "stream",
     "text": [
      "ndim: 2\n",
      "shape: (2, 3)\n",
      "size: 6\n",
      "dtype: int32\n"
     ]
    }
   ],
   "source": [
    "print('ndim:', arr_2d.ndim) #2차원\n",
    "print('shape:', arr_2d.shape) #(2,3). 2행 3열\n",
    "print('size:', arr_2d.size) # 2행 x 3열 = 크기 6\n",
    "print('dtype:', arr_2d.dtype) # type : int64"
   ]
  },
  {
   "cell_type": "code",
   "execution_count": 70,
   "metadata": {
    "execution": {
     "iopub.execute_input": "2021-03-29T08:14:25.537188Z",
     "iopub.status.busy": "2021-03-29T08:14:25.537188Z",
     "iopub.status.idle": "2021-03-29T08:14:25.546163Z",
     "shell.execute_reply": "2021-03-29T08:14:25.545168Z",
     "shell.execute_reply.started": "2021-03-29T08:14:25.537188Z"
    }
   },
   "outputs": [
    {
     "data": {
      "text/plain": [
       "array([[1, 2],\n",
       "       [3, 4]])"
      ]
     },
     "execution_count": 70,
     "metadata": {},
     "output_type": "execute_result"
    }
   ],
   "source": [
    "arr1=np.array([[1,2],\n",
    "              [3,4]])\n",
    "arr1"
   ]
  },
  {
   "cell_type": "code",
   "execution_count": 71,
   "metadata": {
    "execution": {
     "iopub.execute_input": "2021-03-29T08:14:38.601410Z",
     "iopub.status.busy": "2021-03-29T08:14:38.601410Z",
     "iopub.status.idle": "2021-03-29T08:14:38.609353Z",
     "shell.execute_reply": "2021-03-29T08:14:38.608355Z",
     "shell.execute_reply.started": "2021-03-29T08:14:38.601410Z"
    }
   },
   "outputs": [
    {
     "data": {
      "text/plain": [
       "array([[10, 30],\n",
       "       [50, 90]])"
      ]
     },
     "execution_count": 71,
     "metadata": {},
     "output_type": "execute_result"
    }
   ],
   "source": [
    "arr2=np.array([[10,30],\n",
    "              [50,90]])\n",
    "arr2"
   ]
  },
  {
   "cell_type": "code",
   "execution_count": 73,
   "metadata": {
    "execution": {
     "iopub.execute_input": "2021-03-29T08:15:27.540928Z",
     "iopub.status.busy": "2021-03-29T08:15:27.539925Z",
     "iopub.status.idle": "2021-03-29T08:15:27.550509Z",
     "shell.execute_reply": "2021-03-29T08:15:27.549540Z",
     "shell.execute_reply.started": "2021-03-29T08:15:27.540928Z"
    }
   },
   "outputs": [
    {
     "name": "stdout",
     "output_type": "stream",
     "text": [
      "[[11 32]\n",
      " [53 94]]\n",
      "[[ -9 -28]\n",
      " [-47 -86]]\n",
      "[[ 10  60]\n",
      " [150 360]]\n",
      "[[0.1        0.06666667]\n",
      " [0.06       0.04444444]]\n",
      "[[0 0]\n",
      " [0 0]]\n",
      "[[1 2]\n",
      " [3 4]]\n"
     ]
    }
   ],
   "source": [
    "# 같은 shape끼리의 ndarray끼리는 서로 연산이 가능하다. +, -, *, /, //, % 등\n",
    "print(arr1+arr2)\n",
    "print(arr1-arr2)\n",
    "print(arr1*arr2)\n",
    "print(arr1/arr2)\n",
    "print(arr1//arr2)\n",
    "print(arr1%arr2)"
   ]
  },
  {
   "cell_type": "code",
   "execution_count": 74,
   "metadata": {
    "execution": {
     "iopub.execute_input": "2021-03-29T08:16:50.143320Z",
     "iopub.status.busy": "2021-03-29T08:16:50.142324Z",
     "iopub.status.idle": "2021-03-29T08:16:50.151651Z",
     "shell.execute_reply": "2021-03-29T08:16:50.150653Z",
     "shell.execute_reply.started": "2021-03-29T08:16:50.142324Z"
    }
   },
   "outputs": [
    {
     "data": {
      "text/plain": [
       "array([[110, 210],\n",
       "       [230, 450]])"
      ]
     },
     "execution_count": 74,
     "metadata": {},
     "output_type": "execute_result"
    }
   ],
   "source": [
    "# X@Y  연산 : 행렬의 곱. X의 column(열) 개수와 Y의 row(행) 개수가 같아야 이 연산을 할 수 있다.\n",
    "# (n, m) @ (m, k) = (n, k)\n",
    "# @ 연산은 교환법칙이 성립하지 않음 : X@Y!=Y@X\n",
    "np.dot(arr1, arr2) "
   ]
  },
  {
   "cell_type": "code",
   "execution_count": 75,
   "metadata": {
    "execution": {
     "iopub.execute_input": "2021-03-29T08:16:56.205534Z",
     "iopub.status.busy": "2021-03-29T08:16:56.205534Z",
     "iopub.status.idle": "2021-03-29T08:16:56.212477Z",
     "shell.execute_reply": "2021-03-29T08:16:56.211480Z",
     "shell.execute_reply.started": "2021-03-29T08:16:56.205534Z"
    }
   },
   "outputs": [
    {
     "data": {
      "text/plain": [
       "array([[100, 140],\n",
       "       [320, 460]])"
      ]
     },
     "execution_count": 75,
     "metadata": {},
     "output_type": "execute_result"
    }
   ],
   "source": [
    "np.dot(arr2, arr1)"
   ]
  }
 ],
 "metadata": {
  "kernelspec": {
   "display_name": "Python 3",
   "language": "python",
   "name": "python3"
  },
  "language_info": {
   "codemirror_mode": {
    "name": "ipython",
    "version": 3
   },
   "file_extension": ".py",
   "mimetype": "text/x-python",
   "name": "python",
   "nbconvert_exporter": "python",
   "pygments_lexer": "ipython3",
   "version": "3.8.5"
  }
 },
 "nbformat": 4,
 "nbformat_minor": 4
}
