{
 "cells": [
  {
   "cell_type": "code",
   "execution_count": 1,
   "metadata": {
    "execution": {
     "iopub.execute_input": "2021-03-29T10:21:37.838321Z",
     "iopub.status.busy": "2021-03-29T10:21:37.837323Z",
     "iopub.status.idle": "2021-03-29T10:21:38.226152Z",
     "shell.execute_reply": "2021-03-29T10:21:38.225213Z",
     "shell.execute_reply.started": "2021-03-29T10:21:37.838321Z"
    }
   },
   "outputs": [],
   "source": [
    "import numpy as np"
   ]
  },
  {
   "cell_type": "markdown",
   "metadata": {},
   "source": [
    "# 함수, 클래스 정의 방법(복습)"
   ]
  },
  {
   "cell_type": "markdown",
   "metadata": {},
   "source": [
    "## 함수 정의 및 호출"
   ]
  },
  {
   "cell_type": "code",
   "execution_count": 2,
   "metadata": {
    "execution": {
     "iopub.execute_input": "2021-03-29T10:24:00.052216Z",
     "iopub.status.busy": "2021-03-29T10:24:00.052216Z",
     "iopub.status.idle": "2021-03-29T10:24:00.072163Z",
     "shell.execute_reply": "2021-03-29T10:24:00.071205Z",
     "shell.execute_reply.started": "2021-03-29T10:24:00.052216Z"
    }
   },
   "outputs": [],
   "source": [
    "# 함수 정의\n",
    "def test_fn(arg):\n",
    "    print(f'Hello, {arg}!')"
   ]
  },
  {
   "cell_type": "code",
   "execution_count": 3,
   "metadata": {
    "execution": {
     "iopub.execute_input": "2021-03-29T10:24:10.587591Z",
     "iopub.status.busy": "2021-03-29T10:24:10.587591Z",
     "iopub.status.idle": "2021-03-29T10:24:10.603548Z",
     "shell.execute_reply": "2021-03-29T10:24:10.602551Z",
     "shell.execute_reply.started": "2021-03-29T10:24:10.587591Z"
    }
   },
   "outputs": [
    {
     "name": "stdout",
     "output_type": "stream",
     "text": [
      "Hello, FUNCTION!\n"
     ]
    }
   ],
   "source": [
    "# 함수 호출\n",
    "test_fn('FUNCTION')"
   ]
  },
  {
   "cell_type": "markdown",
   "metadata": {},
   "source": [
    "## 클래스 정의 및 메서드 호출"
   ]
  },
  {
   "cell_type": "code",
   "execution_count": 5,
   "metadata": {
    "execution": {
     "iopub.execute_input": "2021-03-29T10:25:03.741828Z",
     "iopub.status.busy": "2021-03-29T10:25:03.741828Z",
     "iopub.status.idle": "2021-03-29T10:25:03.760774Z",
     "shell.execute_reply": "2021-03-29T10:25:03.759778Z",
     "shell.execute_reply.started": "2021-03-29T10:25:03.741828Z"
    }
   },
   "outputs": [],
   "source": [
    "# 클래스 정의\n",
    "class Myclass:\n",
    "    # 메서드 정의\n",
    "    def test_method(self, arg):\n",
    "        print(f'Hello, {arg}!')"
   ]
  },
  {
   "cell_type": "code",
   "execution_count": 6,
   "metadata": {
    "execution": {
     "iopub.execute_input": "2021-03-29T10:25:19.569119Z",
     "iopub.status.busy": "2021-03-29T10:25:19.569119Z",
     "iopub.status.idle": "2021-03-29T10:25:19.574106Z",
     "shell.execute_reply": "2021-03-29T10:25:19.573256Z",
     "shell.execute_reply.started": "2021-03-29T10:25:19.569119Z"
    }
   },
   "outputs": [],
   "source": [
    "# Myclass 클래스의 인스턴스 생성\n",
    "cls=Myclass()"
   ]
  },
  {
   "cell_type": "code",
   "execution_count": 7,
   "metadata": {
    "execution": {
     "iopub.execute_input": "2021-03-29T10:25:31.472252Z",
     "iopub.status.busy": "2021-03-29T10:25:31.471254Z",
     "iopub.status.idle": "2021-03-29T10:25:31.480232Z",
     "shell.execute_reply": "2021-03-29T10:25:31.479233Z",
     "shell.execute_reply.started": "2021-03-29T10:25:31.472252Z"
    }
   },
   "outputs": [
    {
     "name": "stdout",
     "output_type": "stream",
     "text": [
      "Hello, METHOD!\n"
     ]
    }
   ],
   "source": [
    "# 인스턴스가 메서드를 호출\n",
    "cls.test_method('METHOD')"
   ]
  },
  {
   "cell_type": "markdown",
   "metadata": {},
   "source": [
    "# Numpy의 함수와 ndarray 클래스의 메서드\n",
    "**Numpy의 많은 기능들(합계, 평균, 표준편차, ...)은 함수와 ndarray 클래스의 메서드로 구현되어 있다.**\n",
    "\n",
    "* **`np.function_name(ndarray, arg, ...)`**\n",
    "* **`ndarray.method_name(arg, ...`**"
   ]
  },
  {
   "cell_type": "markdown",
   "metadata": {},
   "source": [
    "## numpy 패키지의 함수 호출 및 ndarray 객체 메서드 호출 방법"
   ]
  },
  {
   "cell_type": "code",
   "execution_count": 8,
   "metadata": {
    "execution": {
     "iopub.execute_input": "2021-03-29T10:26:47.122281Z",
     "iopub.status.busy": "2021-03-29T10:26:47.121321Z",
     "iopub.status.idle": "2021-03-29T10:26:47.138237Z",
     "shell.execute_reply": "2021-03-29T10:26:47.137239Z",
     "shell.execute_reply.started": "2021-03-29T10:26:47.122281Z"
    }
   },
   "outputs": [
    {
     "name": "stdout",
     "output_type": "stream",
     "text": [
      "[0 1 2 3 4 5 6 7 8 9]\n"
     ]
    }
   ],
   "source": [
    "arr = np.arange(10)\n",
    "print(arr)"
   ]
  },
  {
   "cell_type": "code",
   "execution_count": 9,
   "metadata": {
    "execution": {
     "iopub.execute_input": "2021-03-29T10:26:56.604506Z",
     "iopub.status.busy": "2021-03-29T10:26:56.604506Z",
     "iopub.status.idle": "2021-03-29T10:26:56.629440Z",
     "shell.execute_reply": "2021-03-29T10:26:56.628443Z",
     "shell.execute_reply.started": "2021-03-29T10:26:56.604506Z"
    }
   },
   "outputs": [
    {
     "data": {
      "text/plain": [
       "45"
      ]
     },
     "execution_count": 9,
     "metadata": {},
     "output_type": "execute_result"
    }
   ],
   "source": [
    "# 함수 호출\n",
    "np.sum(arr)"
   ]
  },
  {
   "cell_type": "code",
   "execution_count": 10,
   "metadata": {
    "execution": {
     "iopub.execute_input": "2021-03-29T10:27:23.998598Z",
     "iopub.status.busy": "2021-03-29T10:27:23.998598Z",
     "iopub.status.idle": "2021-03-29T10:27:24.019505Z",
     "shell.execute_reply": "2021-03-29T10:27:24.018507Z",
     "shell.execute_reply.started": "2021-03-29T10:27:23.998598Z"
    }
   },
   "outputs": [
    {
     "data": {
      "text/plain": [
       "45"
      ]
     },
     "execution_count": 10,
     "metadata": {},
     "output_type": "execute_result"
    }
   ],
   "source": [
    "# ndarray 객체 arr에 대하여, ndarray 클래스 메서드 호출\n",
    "arr.sum()"
   ]
  },
  {
   "cell_type": "markdown",
   "metadata": {},
   "source": [
    "## numpy의 통계관련 함수/메서드"
   ]
  },
  {
   "cell_type": "code",
   "execution_count": 12,
   "metadata": {
    "execution": {
     "iopub.execute_input": "2021-03-29T12:51:23.689737Z",
     "iopub.status.busy": "2021-03-29T12:51:23.689737Z",
     "iopub.status.idle": "2021-03-29T12:51:23.700706Z",
     "shell.execute_reply": "2021-03-29T12:51:23.699708Z",
     "shell.execute_reply.started": "2021-03-29T12:51:23.689737Z"
    }
   },
   "outputs": [
    {
     "name": "stdout",
     "output_type": "stream",
     "text": [
      "[0 1 2 3 4 5 6 7 8 9]\n"
     ]
    }
   ],
   "source": [
    "print(arr)"
   ]
  },
  {
   "cell_type": "markdown",
   "metadata": {},
   "source": [
    "### 합계(sum)"
   ]
  },
  {
   "cell_type": "code",
   "execution_count": 13,
   "metadata": {
    "execution": {
     "iopub.execute_input": "2021-03-29T12:51:48.060067Z",
     "iopub.status.busy": "2021-03-29T12:51:48.059106Z",
     "iopub.status.idle": "2021-03-29T12:51:48.076025Z",
     "shell.execute_reply": "2021-03-29T12:51:48.075025Z",
     "shell.execute_reply.started": "2021-03-29T12:51:48.059106Z"
    }
   },
   "outputs": [
    {
     "data": {
      "text/plain": [
       "45"
      ]
     },
     "execution_count": 13,
     "metadata": {},
     "output_type": "execute_result"
    }
   ],
   "source": [
    "# numpy 패키지 함수\n",
    "np.sum(arr)"
   ]
  },
  {
   "cell_type": "code",
   "execution_count": 14,
   "metadata": {
    "execution": {
     "iopub.execute_input": "2021-03-29T12:51:54.248445Z",
     "iopub.status.busy": "2021-03-29T12:51:54.248445Z",
     "iopub.status.idle": "2021-03-29T12:51:54.262368Z",
     "shell.execute_reply": "2021-03-29T12:51:54.261411Z",
     "shell.execute_reply.started": "2021-03-29T12:51:54.248445Z"
    }
   },
   "outputs": [
    {
     "data": {
      "text/plain": [
       "45"
      ]
     },
     "execution_count": 14,
     "metadata": {},
     "output_type": "execute_result"
    }
   ],
   "source": [
    "# ndarray 인스턴스에 메서드 호출\n",
    "arr.sum()"
   ]
  },
  {
   "cell_type": "markdown",
   "metadata": {},
   "source": [
    "### 평균(mean)"
   ]
  },
  {
   "cell_type": "code",
   "execution_count": 15,
   "metadata": {
    "execution": {
     "iopub.execute_input": "2021-03-29T12:52:34.038939Z",
     "iopub.status.busy": "2021-03-29T12:52:34.038939Z",
     "iopub.status.idle": "2021-03-29T12:52:34.053899Z",
     "shell.execute_reply": "2021-03-29T12:52:34.052901Z",
     "shell.execute_reply.started": "2021-03-29T12:52:34.038939Z"
    }
   },
   "outputs": [
    {
     "data": {
      "text/plain": [
       "4.5"
      ]
     },
     "execution_count": 15,
     "metadata": {},
     "output_type": "execute_result"
    }
   ],
   "source": [
    "# numpy 패키지 함수\n",
    "np.mean(arr)"
   ]
  },
  {
   "cell_type": "code",
   "execution_count": 16,
   "metadata": {
    "execution": {
     "iopub.execute_input": "2021-03-29T12:52:43.338944Z",
     "iopub.status.busy": "2021-03-29T12:52:43.337948Z",
     "iopub.status.idle": "2021-03-29T12:52:43.354903Z",
     "shell.execute_reply": "2021-03-29T12:52:43.353905Z",
     "shell.execute_reply.started": "2021-03-29T12:52:43.338944Z"
    }
   },
   "outputs": [
    {
     "data": {
      "text/plain": [
       "4.5"
      ]
     },
     "execution_count": 16,
     "metadata": {},
     "output_type": "execute_result"
    }
   ],
   "source": [
    "# ndarray 인스턴스에 메서드 호출\n",
    "arr.mean()"
   ]
  },
  {
   "cell_type": "markdown",
   "metadata": {},
   "source": [
    "### 분산(variance)"
   ]
  },
  {
   "cell_type": "code",
   "execution_count": 17,
   "metadata": {
    "execution": {
     "iopub.execute_input": "2021-03-29T12:53:00.814197Z",
     "iopub.status.busy": "2021-03-29T12:53:00.814197Z",
     "iopub.status.idle": "2021-03-29T12:53:00.823172Z",
     "shell.execute_reply": "2021-03-29T12:53:00.822175Z",
     "shell.execute_reply.started": "2021-03-29T12:53:00.814197Z"
    }
   },
   "outputs": [
    {
     "data": {
      "text/plain": [
       "8.25"
      ]
     },
     "execution_count": 17,
     "metadata": {},
     "output_type": "execute_result"
    }
   ],
   "source": [
    "# numpy 패키지 함수\n",
    "np.var(arr)"
   ]
  },
  {
   "cell_type": "code",
   "execution_count": 18,
   "metadata": {
    "execution": {
     "iopub.execute_input": "2021-03-29T12:53:11.833988Z",
     "iopub.status.busy": "2021-03-29T12:53:11.833988Z",
     "iopub.status.idle": "2021-03-29T12:53:11.851897Z",
     "shell.execute_reply": "2021-03-29T12:53:11.850937Z",
     "shell.execute_reply.started": "2021-03-29T12:53:11.833988Z"
    }
   },
   "outputs": [
    {
     "data": {
      "text/plain": [
       "8.25"
      ]
     },
     "execution_count": 18,
     "metadata": {},
     "output_type": "execute_result"
    }
   ],
   "source": [
    "# ndarray 인스턴스에 메서드 호출\n",
    "arr.var()"
   ]
  },
  {
   "cell_type": "markdown",
   "metadata": {},
   "source": [
    "### 표준편차(standard deviation)"
   ]
  },
  {
   "cell_type": "code",
   "execution_count": 19,
   "metadata": {
    "execution": {
     "iopub.execute_input": "2021-03-29T12:53:39.460880Z",
     "iopub.status.busy": "2021-03-29T12:53:39.459886Z",
     "iopub.status.idle": "2021-03-29T12:53:39.476385Z",
     "shell.execute_reply": "2021-03-29T12:53:39.475348Z",
     "shell.execute_reply.started": "2021-03-29T12:53:39.459886Z"
    }
   },
   "outputs": [
    {
     "data": {
      "text/plain": [
       "2.8722813232690143"
      ]
     },
     "execution_count": 19,
     "metadata": {},
     "output_type": "execute_result"
    }
   ],
   "source": [
    "# numpy 패키지 함수\n",
    "np.std(arr)"
   ]
  },
  {
   "cell_type": "code",
   "execution_count": 20,
   "metadata": {
    "execution": {
     "iopub.execute_input": "2021-03-29T12:53:49.083115Z",
     "iopub.status.busy": "2021-03-29T12:53:49.083115Z",
     "iopub.status.idle": "2021-03-29T12:53:49.092089Z",
     "shell.execute_reply": "2021-03-29T12:53:49.091092Z",
     "shell.execute_reply.started": "2021-03-29T12:53:49.083115Z"
    }
   },
   "outputs": [
    {
     "data": {
      "text/plain": [
       "2.8722813232690143"
      ]
     },
     "execution_count": 20,
     "metadata": {},
     "output_type": "execute_result"
    }
   ],
   "source": [
    "# ndarray 인스턴스에 메서드 호출\n",
    "arr.std()"
   ]
  },
  {
   "cell_type": "markdown",
   "metadata": {},
   "source": [
    "### 최대값(max)"
   ]
  },
  {
   "cell_type": "code",
   "execution_count": 21,
   "metadata": {
    "execution": {
     "iopub.execute_input": "2021-03-29T12:54:09.395883Z",
     "iopub.status.busy": "2021-03-29T12:54:09.395883Z",
     "iopub.status.idle": "2021-03-29T12:54:09.407851Z",
     "shell.execute_reply": "2021-03-29T12:54:09.406853Z",
     "shell.execute_reply.started": "2021-03-29T12:54:09.395883Z"
    }
   },
   "outputs": [
    {
     "data": {
      "text/plain": [
       "9"
      ]
     },
     "execution_count": 21,
     "metadata": {},
     "output_type": "execute_result"
    }
   ],
   "source": [
    "# numpy 패키지의 함수\n",
    "np.max(arr)"
   ]
  },
  {
   "cell_type": "code",
   "execution_count": 22,
   "metadata": {
    "execution": {
     "iopub.execute_input": "2021-03-29T12:54:25.324564Z",
     "iopub.status.busy": "2021-03-29T12:54:25.324564Z",
     "iopub.status.idle": "2021-03-29T12:54:25.333540Z",
     "shell.execute_reply": "2021-03-29T12:54:25.332541Z",
     "shell.execute_reply.started": "2021-03-29T12:54:25.324564Z"
    }
   },
   "outputs": [
    {
     "data": {
      "text/plain": [
       "9"
      ]
     },
     "execution_count": 22,
     "metadata": {},
     "output_type": "execute_result"
    }
   ],
   "source": [
    "# ndarray 인스턴스의 메서드 호출\n",
    "arr.max()"
   ]
  },
  {
   "cell_type": "markdown",
   "metadata": {},
   "source": [
    "### 최소값(min)"
   ]
  },
  {
   "cell_type": "code",
   "execution_count": 23,
   "metadata": {
    "execution": {
     "iopub.execute_input": "2021-03-29T12:54:40.012556Z",
     "iopub.status.busy": "2021-03-29T12:54:40.012556Z",
     "iopub.status.idle": "2021-03-29T12:54:40.029510Z",
     "shell.execute_reply": "2021-03-29T12:54:40.028513Z",
     "shell.execute_reply.started": "2021-03-29T12:54:40.012556Z"
    }
   },
   "outputs": [
    {
     "data": {
      "text/plain": [
       "0"
      ]
     },
     "execution_count": 23,
     "metadata": {},
     "output_type": "execute_result"
    }
   ],
   "source": [
    "# numpy 패키지의 함수\n",
    "np.min(arr)"
   ]
  },
  {
   "cell_type": "code",
   "execution_count": 24,
   "metadata": {
    "execution": {
     "iopub.execute_input": "2021-03-29T12:54:48.796977Z",
     "iopub.status.busy": "2021-03-29T12:54:48.796977Z",
     "iopub.status.idle": "2021-03-29T12:54:48.805466Z",
     "shell.execute_reply": "2021-03-29T12:54:48.804466Z",
     "shell.execute_reply.started": "2021-03-29T12:54:48.796977Z"
    }
   },
   "outputs": [
    {
     "data": {
      "text/plain": [
       "0"
      ]
     },
     "execution_count": 24,
     "metadata": {},
     "output_type": "execute_result"
    }
   ],
   "source": [
    "# ndarray 인스턴스의 메서드 호출\n",
    "arr.min()"
   ]
  },
  {
   "cell_type": "markdown",
   "metadata": {},
   "source": [
    "### 중앙값(median)\n",
    "* numpy.median(인스턴스) 함수는 있지만, numpy.ndarray.median() 메서드는 없다."
   ]
  },
  {
   "cell_type": "code",
   "execution_count": 25,
   "metadata": {
    "execution": {
     "iopub.execute_input": "2021-03-29T12:55:06.365941Z",
     "iopub.status.busy": "2021-03-29T12:55:06.365941Z",
     "iopub.status.idle": "2021-03-29T12:55:06.381896Z",
     "shell.execute_reply": "2021-03-29T12:55:06.380935Z",
     "shell.execute_reply.started": "2021-03-29T12:55:06.365941Z"
    }
   },
   "outputs": [
    {
     "data": {
      "text/plain": [
       "4.5"
      ]
     },
     "execution_count": 25,
     "metadata": {},
     "output_type": "execute_result"
    }
   ],
   "source": [
    "# numpy 패키지의 함수\n",
    "np.median(arr)"
   ]
  },
  {
   "cell_type": "markdown",
   "metadata": {},
   "source": [
    "## numpy.max(), numpy.min() 함수와 numpy.maximum(), numpy.minimum() 함수의 차이\n",
    "* **`numpy.max(array)`** : array의 최대값을 리턴\n",
    "* **`numpy.maximum(a1, a2)`** : 배열(과 비슷한 객체)인 a1, a2의 같은 인덱스 원소들 중 **최대값들로 이루어진 배열**"
   ]
  },
  {
   "cell_type": "code",
   "execution_count": 27,
   "metadata": {
    "execution": {
     "iopub.execute_input": "2021-03-29T12:58:08.422367Z",
     "iopub.status.busy": "2021-03-29T12:58:08.421369Z",
     "iopub.status.idle": "2021-03-29T12:58:08.439356Z",
     "shell.execute_reply": "2021-03-29T12:58:08.438362Z",
     "shell.execute_reply.started": "2021-03-29T12:58:08.422367Z"
    }
   },
   "outputs": [
    {
     "name": "stdout",
     "output_type": "stream",
     "text": [
      "a1: [ 5 17 10  1  6 18 12 16 14 13]\n",
      "a2: [ 6 10  2 18  6  1  7  9 13 12]\n"
     ]
    }
   ],
   "source": [
    "a1 = np.random.randint(0, 20, size = 10)\n",
    "a2 = np.random.randint(0, 20, size = 10)\n",
    "print('a1:', a1)\n",
    "print('a2:', a2)"
   ]
  },
  {
   "cell_type": "code",
   "execution_count": 29,
   "metadata": {
    "execution": {
     "iopub.execute_input": "2021-03-29T12:59:06.300555Z",
     "iopub.status.busy": "2021-03-29T12:59:06.299556Z",
     "iopub.status.idle": "2021-03-29T12:59:06.315514Z",
     "shell.execute_reply": "2021-03-29T12:59:06.314515Z",
     "shell.execute_reply.started": "2021-03-29T12:59:06.300555Z"
    }
   },
   "outputs": [
    {
     "name": "stdout",
     "output_type": "stream",
     "text": [
      "18\n",
      "18\n"
     ]
    }
   ],
   "source": [
    "# ndarray 객체 a1의 원소들 중 가장 큰 값 1개를 출력하기\n",
    "print(np.max(a1))\n",
    "print(a1.max())"
   ]
  },
  {
   "cell_type": "code",
   "execution_count": 30,
   "metadata": {
    "execution": {
     "iopub.execute_input": "2021-03-29T12:59:30.856880Z",
     "iopub.status.busy": "2021-03-29T12:59:30.856880Z",
     "iopub.status.idle": "2021-03-29T12:59:30.870843Z",
     "shell.execute_reply": "2021-03-29T12:59:30.869845Z",
     "shell.execute_reply.started": "2021-03-29T12:59:30.856880Z"
    }
   },
   "outputs": [
    {
     "name": "stdout",
     "output_type": "stream",
     "text": [
      "1\n",
      "1\n"
     ]
    }
   ],
   "source": [
    "# ndarray 객체 a2의 원소들 중 가장 작은 값 1개를 출력하기\n",
    "print(np.min(a2))\n",
    "print(a2.min())"
   ]
  },
  {
   "cell_type": "code",
   "execution_count": 32,
   "metadata": {
    "execution": {
     "iopub.execute_input": "2021-03-29T13:00:25.351402Z",
     "iopub.status.busy": "2021-03-29T13:00:25.350406Z",
     "iopub.status.idle": "2021-03-29T13:00:25.362374Z",
     "shell.execute_reply": "2021-03-29T13:00:25.361374Z",
     "shell.execute_reply.started": "2021-03-29T13:00:25.351402Z"
    }
   },
   "outputs": [
    {
     "name": "stdout",
     "output_type": "stream",
     "text": [
      "[ 5 17 10  1  6 18 12 16 14 13]\n",
      "[ 6 10  2 18  6  1  7  9 13 12]\n",
      "[ 6 17 10 18  6 18 12 16 14 13]\n"
     ]
    }
   ],
   "source": [
    "# ndarray 객체 a1, a2의 같은 인덱스의 원소들 중 큰 값들로만 이루어진 새로운 리스트 리턴하기\n",
    "print(a1)\n",
    "print(a2)\n",
    "print(np.maximum(a1, a2))"
   ]
  },
  {
   "cell_type": "markdown",
   "metadata": {},
   "source": [
    "## np.argmax(array) 함수, ndarray.argmax() 메서드\n",
    "* 배열의 **최대값의 위치(인덱스) 리턴**"
   ]
  },
  {
   "cell_type": "code",
   "execution_count": 33,
   "metadata": {
    "execution": {
     "iopub.execute_input": "2021-03-29T13:01:54.578155Z",
     "iopub.status.busy": "2021-03-29T13:01:54.578155Z",
     "iopub.status.idle": "2021-03-29T13:01:54.592624Z",
     "shell.execute_reply": "2021-03-29T13:01:54.592624Z",
     "shell.execute_reply.started": "2021-03-29T13:01:54.578155Z"
    }
   },
   "outputs": [
    {
     "data": {
      "text/plain": [
       "3"
      ]
     },
     "execution_count": 33,
     "metadata": {},
     "output_type": "execute_result"
    }
   ],
   "source": [
    "np.argmax(a2)"
   ]
  },
  {
   "cell_type": "code",
   "execution_count": 34,
   "metadata": {
    "execution": {
     "iopub.execute_input": "2021-03-29T13:01:57.975951Z",
     "iopub.status.busy": "2021-03-29T13:01:57.975951Z",
     "iopub.status.idle": "2021-03-29T13:01:57.994900Z",
     "shell.execute_reply": "2021-03-29T13:01:57.993904Z",
     "shell.execute_reply.started": "2021-03-29T13:01:57.975951Z"
    }
   },
   "outputs": [
    {
     "data": {
      "text/plain": [
       "3"
      ]
     },
     "execution_count": 34,
     "metadata": {},
     "output_type": "execute_result"
    }
   ],
   "source": [
    "a2.argmax()"
   ]
  },
  {
   "cell_type": "markdown",
   "metadata": {},
   "source": [
    "## np.argmin(array) 함수, ndarray.argmin() 메서드\n",
    "* **배열의 최소값의 위치(인덱스) 리턴**"
   ]
  },
  {
   "cell_type": "code",
   "execution_count": 35,
   "metadata": {
    "execution": {
     "iopub.execute_input": "2021-03-29T13:02:07.332191Z",
     "iopub.status.busy": "2021-03-29T13:02:07.331157Z",
     "iopub.status.idle": "2021-03-29T13:02:07.338644Z",
     "shell.execute_reply": "2021-03-29T13:02:07.338138Z",
     "shell.execute_reply.started": "2021-03-29T13:02:07.332191Z"
    }
   },
   "outputs": [
    {
     "data": {
      "text/plain": [
       "3"
      ]
     },
     "execution_count": 35,
     "metadata": {},
     "output_type": "execute_result"
    }
   ],
   "source": [
    "np.argmin(a1)"
   ]
  },
  {
   "cell_type": "code",
   "execution_count": 36,
   "metadata": {
    "execution": {
     "iopub.execute_input": "2021-03-29T13:02:11.795251Z",
     "iopub.status.busy": "2021-03-29T13:02:11.795251Z",
     "iopub.status.idle": "2021-03-29T13:02:11.811210Z",
     "shell.execute_reply": "2021-03-29T13:02:11.810211Z",
     "shell.execute_reply.started": "2021-03-29T13:02:11.795251Z"
    }
   },
   "outputs": [
    {
     "data": {
      "text/plain": [
       "3"
      ]
     },
     "execution_count": 36,
     "metadata": {},
     "output_type": "execute_result"
    }
   ],
   "source": [
    "a1.argmin()"
   ]
  },
  {
   "cell_type": "code",
   "execution_count": 38,
   "metadata": {
    "execution": {
     "iopub.execute_input": "2021-03-29T13:03:15.943432Z",
     "iopub.status.busy": "2021-03-29T13:03:15.942393Z",
     "iopub.status.idle": "2021-03-29T13:03:15.962341Z",
     "shell.execute_reply": "2021-03-29T13:03:15.961344Z",
     "shell.execute_reply.started": "2021-03-29T13:03:15.943432Z"
    }
   },
   "outputs": [
    {
     "data": {
      "text/plain": [
       "array([17, 18, 12, 16, 14, 13])"
      ]
     },
     "execution_count": 38,
     "metadata": {},
     "output_type": "execute_result"
    }
   ],
   "source": [
    "# a1에서 원소들의 평균보다 큰 값으로 이루어진 1-d ndarray 찾기\n",
    "# 원소들의 평균 : array.mean() 또는 np.mean(array)\n",
    "a1[a1 > np.mean(a1)]"
   ]
  },
  {
   "cell_type": "markdown",
   "metadata": {},
   "source": [
    "## 2-d ndarray(2차원 배열)의 통계관련 함수/메서드"
   ]
  },
  {
   "cell_type": "code",
   "execution_count": 39,
   "metadata": {
    "execution": {
     "iopub.execute_input": "2021-03-29T13:03:59.894041Z",
     "iopub.status.busy": "2021-03-29T13:03:59.893044Z",
     "iopub.status.idle": "2021-03-29T13:03:59.909001Z",
     "shell.execute_reply": "2021-03-29T13:03:59.908039Z",
     "shell.execute_reply.started": "2021-03-29T13:03:59.894041Z"
    }
   },
   "outputs": [
    {
     "name": "stdout",
     "output_type": "stream",
     "text": [
      "[[4 5 3 6 6]\n",
      " [4 4 4 7 1]\n",
      " [0 2 5 2 4]\n",
      " [4 2 2 0 5]]\n"
     ]
    }
   ],
   "source": [
    "array = np.random.randint(0, 10, size = (4, 5))\n",
    "print(array)"
   ]
  },
  {
   "cell_type": "markdown",
   "metadata": {},
   "source": [
    "### 합계(sum)"
   ]
  },
  {
   "cell_type": "code",
   "execution_count": 40,
   "metadata": {
    "execution": {
     "iopub.execute_input": "2021-03-29T13:04:34.707095Z",
     "iopub.status.busy": "2021-03-29T13:04:34.707095Z",
     "iopub.status.idle": "2021-03-29T13:04:34.716070Z",
     "shell.execute_reply": "2021-03-29T13:04:34.715074Z",
     "shell.execute_reply.started": "2021-03-29T13:04:34.707095Z"
    }
   },
   "outputs": [
    {
     "data": {
      "text/plain": [
       "70"
      ]
     },
     "execution_count": 40,
     "metadata": {},
     "output_type": "execute_result"
    }
   ],
   "source": [
    "# numpy 패키지의 sum 함수\n",
    "np.sum(array)"
   ]
  },
  {
   "cell_type": "code",
   "execution_count": 41,
   "metadata": {
    "execution": {
     "iopub.execute_input": "2021-03-29T13:04:48.096979Z",
     "iopub.status.busy": "2021-03-29T13:04:48.095981Z",
     "iopub.status.idle": "2021-03-29T13:04:48.117923Z",
     "shell.execute_reply": "2021-03-29T13:04:48.116926Z",
     "shell.execute_reply.started": "2021-03-29T13:04:48.096979Z"
    }
   },
   "outputs": [
    {
     "data": {
      "text/plain": [
       "70"
      ]
     },
     "execution_count": 41,
     "metadata": {},
     "output_type": "execute_result"
    }
   ],
   "source": [
    "# ndarray 인스턴스의 메서드 호출\n",
    "array.sum()"
   ]
  },
  {
   "cell_type": "code",
   "execution_count": 42,
   "metadata": {
    "execution": {
     "iopub.execute_input": "2021-03-29T13:05:01.574240Z",
     "iopub.status.busy": "2021-03-29T13:05:01.574240Z",
     "iopub.status.idle": "2021-03-29T13:05:01.594188Z",
     "shell.execute_reply": "2021-03-29T13:05:01.593190Z",
     "shell.execute_reply.started": "2021-03-29T13:05:01.574240Z"
    }
   },
   "outputs": [
    {
     "data": {
      "text/plain": [
       "array([12, 13, 14, 15, 16])"
      ]
     },
     "execution_count": 42,
     "metadata": {},
     "output_type": "execute_result"
    }
   ],
   "source": [
    "np.sum(array, axis = 0) # 원소가 5개인 1차원 배열(1-d array). 축 방향이 0(세로 방향)인 쪽으로의 합계"
   ]
  },
  {
   "cell_type": "code",
   "execution_count": 44,
   "metadata": {
    "execution": {
     "iopub.execute_input": "2021-03-29T13:06:01.748408Z",
     "iopub.status.busy": "2021-03-29T13:06:01.748408Z",
     "iopub.status.idle": "2021-03-29T13:06:01.766320Z",
     "shell.execute_reply": "2021-03-29T13:06:01.765322Z",
     "shell.execute_reply.started": "2021-03-29T13:06:01.748408Z"
    }
   },
   "outputs": [
    {
     "data": {
      "text/plain": [
       "array([24, 20, 13, 13])"
      ]
     },
     "execution_count": 44,
     "metadata": {},
     "output_type": "execute_result"
    }
   ],
   "source": [
    "np.sum(array, axis = 1) # 원소가 4개인 1차원 배열(1-d array). 축 방향이 1(가로 방향)인 쪽으로의 합계"
   ]
  },
  {
   "cell_type": "code",
   "execution_count": 45,
   "metadata": {
    "execution": {
     "iopub.execute_input": "2021-03-29T13:06:13.292625Z",
     "iopub.status.busy": "2021-03-29T13:06:13.292625Z",
     "iopub.status.idle": "2021-03-29T13:06:13.301593Z",
     "shell.execute_reply": "2021-03-29T13:06:13.300598Z",
     "shell.execute_reply.started": "2021-03-29T13:06:13.292625Z"
    }
   },
   "outputs": [
    {
     "data": {
      "text/plain": [
       "array([[12, 13, 14, 15, 16]])"
      ]
     },
     "execution_count": 45,
     "metadata": {},
     "output_type": "execute_result"
    }
   ],
   "source": [
    "np.sum(array, axis = 0, keepdims = True)"
   ]
  },
  {
   "cell_type": "code",
   "execution_count": 46,
   "metadata": {
    "execution": {
     "iopub.execute_input": "2021-03-29T13:06:33.775306Z",
     "iopub.status.busy": "2021-03-29T13:06:33.775306Z",
     "iopub.status.idle": "2021-03-29T13:06:33.785241Z",
     "shell.execute_reply": "2021-03-29T13:06:33.784244Z",
     "shell.execute_reply.started": "2021-03-29T13:06:33.775306Z"
    }
   },
   "outputs": [
    {
     "data": {
      "text/plain": [
       "array([[24],\n",
       "       [20],\n",
       "       [13],\n",
       "       [13]])"
      ]
     },
     "execution_count": 46,
     "metadata": {},
     "output_type": "execute_result"
    }
   ],
   "source": [
    "np.sum(array, axis = 1, keepdims = True)"
   ]
  }
 ],
 "metadata": {
  "kernelspec": {
   "display_name": "Python 3",
   "language": "python",
   "name": "python3"
  },
  "language_info": {
   "codemirror_mode": {
    "name": "ipython",
    "version": 3
   },
   "file_extension": ".py",
   "mimetype": "text/x-python",
   "name": "python",
   "nbconvert_exporter": "python",
   "pygments_lexer": "ipython3",
   "version": "3.8.8"
  }
 },
 "nbformat": 4,
 "nbformat_minor": 4
}
