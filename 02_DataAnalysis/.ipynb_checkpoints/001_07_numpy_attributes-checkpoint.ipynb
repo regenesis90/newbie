{
 "cells": [
  {
   "cell_type": "code",
   "execution_count": 1,
   "metadata": {
    "execution": {
     "iopub.execute_input": "2021-04-01T01:10:51.677770Z",
     "iopub.status.busy": "2021-04-01T01:10:51.677770Z",
     "iopub.status.idle": "2021-04-01T01:10:51.870288Z",
     "shell.execute_reply": "2021-04-01T01:10:51.869291Z",
     "shell.execute_reply.started": "2021-04-01T01:10:51.677770Z"
    }
   },
   "outputs": [],
   "source": [
    "import numpy as np"
   ]
  },
  {
   "cell_type": "markdown",
   "metadata": {},
   "source": [
    "# Attribute of ndarray"
   ]
  },
  {
   "cell_type": "code",
   "execution_count": 4,
   "metadata": {
    "execution": {
     "iopub.execute_input": "2021-04-01T01:11:43.324695Z",
     "iopub.status.busy": "2021-04-01T01:11:43.324695Z",
     "iopub.status.idle": "2021-04-01T01:11:43.347633Z",
     "shell.execute_reply": "2021-04-01T01:11:43.346681Z",
     "shell.execute_reply.started": "2021-04-01T01:11:43.324695Z"
    }
   },
   "outputs": [
    {
     "data": {
      "text/plain": [
       "array([[1, 1, 1],\n",
       "       [1, 1, 1],\n",
       "       [1, 1, 1],\n",
       "       [1, 1, 1],\n",
       "       [1, 1, 1],\n",
       "       [1, 1, 1],\n",
       "       [1, 1, 1],\n",
       "       [1, 1, 1],\n",
       "       [1, 1, 1],\n",
       "       [1, 1, 1]])"
      ]
     },
     "execution_count": 4,
     "metadata": {},
     "output_type": "execute_result"
    }
   ],
   "source": [
    "a=np.ones((10,3), dtype=np.int_)\n",
    "a"
   ]
  },
  {
   "cell_type": "markdown",
   "metadata": {},
   "source": [
    "## .dtype : Data Type"
   ]
  },
  {
   "cell_type": "code",
   "execution_count": 5,
   "metadata": {
    "execution": {
     "iopub.execute_input": "2021-04-01T01:11:46.704836Z",
     "iopub.status.busy": "2021-04-01T01:11:46.704836Z",
     "iopub.status.idle": "2021-04-01T01:11:46.715807Z",
     "shell.execute_reply": "2021-04-01T01:11:46.713815Z",
     "shell.execute_reply.started": "2021-04-01T01:11:46.704836Z"
    }
   },
   "outputs": [
    {
     "data": {
      "text/plain": [
       "dtype('int32')"
      ]
     },
     "execution_count": 5,
     "metadata": {},
     "output_type": "execute_result"
    }
   ],
   "source": [
    "a.dtype"
   ]
  },
  {
   "cell_type": "markdown",
   "metadata": {},
   "source": [
    "## .shape : Dimension\n",
    "* Shape : *Tuple of array dimensions*\n",
    "* Count of elements along with each axis in ndarray.\n",
    "* Tuple"
   ]
  },
  {
   "cell_type": "code",
   "execution_count": 6,
   "metadata": {
    "execution": {
     "iopub.execute_input": "2021-04-01T01:12:56.888735Z",
     "iopub.status.busy": "2021-04-01T01:12:56.887712Z",
     "iopub.status.idle": "2021-04-01T01:12:56.908006Z",
     "shell.execute_reply": "2021-04-01T01:12:56.907007Z",
     "shell.execute_reply.started": "2021-04-01T01:12:56.888735Z"
    }
   },
   "outputs": [
    {
     "data": {
      "text/plain": [
       "(10, 3)"
      ]
     },
     "execution_count": 6,
     "metadata": {},
     "output_type": "execute_result"
    }
   ],
   "source": [
    "a.shape"
   ]
  },
  {
   "cell_type": "markdown",
   "metadata": {},
   "source": [
    "## .dim : Count of Axis"
   ]
  },
  {
   "cell_type": "code",
   "execution_count": 8,
   "metadata": {
    "execution": {
     "iopub.execute_input": "2021-04-01T01:13:27.608322Z",
     "iopub.status.busy": "2021-04-01T01:13:27.607325Z",
     "iopub.status.idle": "2021-04-01T01:13:27.619294Z",
     "shell.execute_reply": "2021-04-01T01:13:27.617297Z",
     "shell.execute_reply.started": "2021-04-01T01:13:27.607325Z"
    }
   },
   "outputs": [
    {
     "data": {
      "text/plain": [
       "2"
      ]
     },
     "execution_count": 8,
     "metadata": {},
     "output_type": "execute_result"
    }
   ],
   "source": [
    "a.ndim"
   ]
  },
  {
   "cell_type": "markdown",
   "metadata": {},
   "source": [
    "# .strides : byte gap\n",
    "* 배열의 각 축을 따라 다음 원소를 찾아가기 위해 몇 byte 이동해야 하는지"
   ]
  },
  {
   "cell_type": "code",
   "execution_count": 9,
   "metadata": {
    "execution": {
     "iopub.execute_input": "2021-04-01T01:14:04.661979Z",
     "iopub.status.busy": "2021-04-01T01:14:04.661979Z",
     "iopub.status.idle": "2021-04-01T01:14:04.681293Z",
     "shell.execute_reply": "2021-04-01T01:14:04.680294Z",
     "shell.execute_reply.started": "2021-04-01T01:14:04.661979Z"
    }
   },
   "outputs": [
    {
     "data": {
      "text/plain": [
       "(12, 4)"
      ]
     },
     "execution_count": 9,
     "metadata": {},
     "output_type": "execute_result"
    }
   ],
   "source": [
    "a.strides"
   ]
  },
  {
   "cell_type": "markdown",
   "metadata": {},
   "source": [
    "# example : 3-d ndarray"
   ]
  },
  {
   "cell_type": "code",
   "execution_count": 10,
   "metadata": {
    "execution": {
     "iopub.execute_input": "2021-04-01T01:14:42.994291Z",
     "iopub.status.busy": "2021-04-01T01:14:42.994291Z",
     "iopub.status.idle": "2021-04-01T01:14:43.013201Z",
     "shell.execute_reply": "2021-04-01T01:14:43.012201Z",
     "shell.execute_reply.started": "2021-04-01T01:14:42.994291Z"
    }
   },
   "outputs": [
    {
     "data": {
      "text/plain": [
       "array([[[1, 1, 1, 1],\n",
       "        [1, 1, 1, 1],\n",
       "        [1, 1, 1, 1]],\n",
       "\n",
       "       [[1, 1, 1, 1],\n",
       "        [1, 1, 1, 1],\n",
       "        [1, 1, 1, 1]]], dtype=int16)"
      ]
     },
     "execution_count": 10,
     "metadata": {},
     "output_type": "execute_result"
    }
   ],
   "source": [
    "a=np.ones((2,3,4), dtype=np.int16)\n",
    "a"
   ]
  },
  {
   "cell_type": "code",
   "execution_count": 11,
   "metadata": {
    "execution": {
     "iopub.execute_input": "2021-04-01T01:14:45.710552Z",
     "iopub.status.busy": "2021-04-01T01:14:45.710552Z",
     "iopub.status.idle": "2021-04-01T01:14:45.722518Z",
     "shell.execute_reply": "2021-04-01T01:14:45.721522Z",
     "shell.execute_reply.started": "2021-04-01T01:14:45.710552Z"
    }
   },
   "outputs": [
    {
     "data": {
      "text/plain": [
       "3"
      ]
     },
     "execution_count": 11,
     "metadata": {},
     "output_type": "execute_result"
    }
   ],
   "source": [
    "a.ndim"
   ]
  },
  {
   "cell_type": "code",
   "execution_count": 12,
   "metadata": {
    "execution": {
     "iopub.execute_input": "2021-04-01T01:14:49.266478Z",
     "iopub.status.busy": "2021-04-01T01:14:49.265482Z",
     "iopub.status.idle": "2021-04-01T01:14:49.283438Z",
     "shell.execute_reply": "2021-04-01T01:14:49.282451Z",
     "shell.execute_reply.started": "2021-04-01T01:14:49.266478Z"
    }
   },
   "outputs": [
    {
     "data": {
      "text/plain": [
       "(2, 3, 4)"
      ]
     },
     "execution_count": 12,
     "metadata": {},
     "output_type": "execute_result"
    }
   ],
   "source": [
    "a.shape"
   ]
  },
  {
   "cell_type": "code",
   "execution_count": 13,
   "metadata": {
    "execution": {
     "iopub.execute_input": "2021-04-01T01:15:23.934226Z",
     "iopub.status.busy": "2021-04-01T01:15:23.933194Z",
     "iopub.status.idle": "2021-04-01T01:15:23.941169Z",
     "shell.execute_reply": "2021-04-01T01:15:23.940171Z",
     "shell.execute_reply.started": "2021-04-01T01:15:23.934226Z"
    }
   },
   "outputs": [
    {
     "data": {
      "text/plain": [
       "(24, 8, 2)"
      ]
     },
     "execution_count": 13,
     "metadata": {},
     "output_type": "execute_result"
    }
   ],
   "source": [
    "a.strides # (3*4*2 bytes, 4*2 bytes, 2 bytes)"
   ]
  }
 ],
 "metadata": {
  "kernelspec": {
   "display_name": "Python 3",
   "language": "python",
   "name": "python3"
  },
  "language_info": {
   "codemirror_mode": {
    "name": "ipython",
    "version": 3
   },
   "file_extension": ".py",
   "mimetype": "text/x-python",
   "name": "python",
   "nbconvert_exporter": "python",
   "pygments_lexer": "ipython3",
   "version": "3.8.5"
  }
 },
 "nbformat": 4,
 "nbformat_minor": 4
}
