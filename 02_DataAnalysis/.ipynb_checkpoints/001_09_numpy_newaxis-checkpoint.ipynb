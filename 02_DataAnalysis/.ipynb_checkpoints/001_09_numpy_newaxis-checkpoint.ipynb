{
 "cells": [
  {
   "cell_type": "code",
   "execution_count": 1,
   "metadata": {
    "execution": {
     "iopub.execute_input": "2021-04-01T01:38:00.528943Z",
     "iopub.status.busy": "2021-04-01T01:38:00.527948Z",
     "iopub.status.idle": "2021-04-01T01:38:00.760366Z",
     "shell.execute_reply": "2021-04-01T01:38:00.759326Z",
     "shell.execute_reply.started": "2021-04-01T01:38:00.528943Z"
    }
   },
   "outputs": [],
   "source": [
    "import numpy as np"
   ]
  },
  {
   "cell_type": "markdown",
   "metadata": {},
   "source": [
    "# np.newaxis Attribute : Expanding Dimension"
   ]
  },
  {
   "cell_type": "code",
   "execution_count": 2,
   "metadata": {
    "execution": {
     "iopub.execute_input": "2021-04-01T01:38:27.722727Z",
     "iopub.status.busy": "2021-04-01T01:38:27.722727Z",
     "iopub.status.idle": "2021-04-01T01:38:27.744671Z",
     "shell.execute_reply": "2021-04-01T01:38:27.743671Z",
     "shell.execute_reply.started": "2021-04-01T01:38:27.722727Z"
    }
   },
   "outputs": [
    {
     "name": "stdout",
     "output_type": "stream",
     "text": [
      "[0 1 2 3 4]\n",
      "(5,)\n"
     ]
    }
   ],
   "source": [
    "a=np.arange(5)\n",
    "print(a)\n",
    "print(a.shape)"
   ]
  },
  {
   "cell_type": "code",
   "execution_count": 4,
   "metadata": {
    "execution": {
     "iopub.execute_input": "2021-04-01T01:38:50.379711Z",
     "iopub.status.busy": "2021-04-01T01:38:50.379711Z",
     "iopub.status.idle": "2021-04-01T01:38:50.399658Z",
     "shell.execute_reply": "2021-04-01T01:38:50.398660Z",
     "shell.execute_reply.started": "2021-04-01T01:38:50.379711Z"
    }
   },
   "outputs": [
    {
     "name": "stdout",
     "output_type": "stream",
     "text": [
      "[[0 1 2 3 4]]\n",
      "(1, 5)\n"
     ]
    }
   ],
   "source": [
    "row_vector=a.reshape((1,-1)) #> a.reshape((1,5))\n",
    "print(row_vector)\n",
    "print(row_vector.shape)"
   ]
  },
  {
   "cell_type": "code",
   "execution_count": 6,
   "metadata": {
    "execution": {
     "iopub.execute_input": "2021-04-01T01:39:20.215419Z",
     "iopub.status.busy": "2021-04-01T01:39:20.215419Z",
     "iopub.status.idle": "2021-04-01T01:39:20.221404Z",
     "shell.execute_reply": "2021-04-01T01:39:20.220412Z",
     "shell.execute_reply.started": "2021-04-01T01:39:20.215419Z"
    }
   },
   "outputs": [
    {
     "name": "stdout",
     "output_type": "stream",
     "text": [
      "[[0]\n",
      " [1]\n",
      " [2]\n",
      " [3]\n",
      " [4]]\n",
      "(5, 1)\n"
     ]
    }
   ],
   "source": [
    "column_vector=a.reshape((-1,1)) #> a.reshape((5,1))\n",
    "print(column_vector)\n",
    "print(column_vector.shape)"
   ]
  },
  {
   "cell_type": "code",
   "execution_count": 7,
   "metadata": {
    "execution": {
     "iopub.execute_input": "2021-04-01T01:39:25.510402Z",
     "iopub.status.busy": "2021-04-01T01:39:25.510402Z",
     "iopub.status.idle": "2021-04-01T01:39:25.525362Z",
     "shell.execute_reply": "2021-04-01T01:39:25.524365Z",
     "shell.execute_reply.started": "2021-04-01T01:39:25.510402Z"
    }
   },
   "outputs": [
    {
     "data": {
      "text/plain": [
       "array([0, 1, 2, 3, 4])"
      ]
     },
     "execution_count": 7,
     "metadata": {},
     "output_type": "execute_result"
    }
   ],
   "source": [
    "a[:]"
   ]
  },
  {
   "cell_type": "code",
   "execution_count": 8,
   "metadata": {
    "execution": {
     "iopub.execute_input": "2021-04-01T01:39:42.567517Z",
     "iopub.status.busy": "2021-04-01T01:39:42.566520Z",
     "iopub.status.idle": "2021-04-01T01:39:42.587463Z",
     "shell.execute_reply": "2021-04-01T01:39:42.586466Z",
     "shell.execute_reply.started": "2021-04-01T01:39:42.567517Z"
    }
   },
   "outputs": [
    {
     "data": {
      "text/plain": [
       "array([[0],\n",
       "       [1],\n",
       "       [2],\n",
       "       [3],\n",
       "       [4]])"
      ]
     },
     "execution_count": 8,
     "metadata": {},
     "output_type": "execute_result"
    }
   ],
   "source": [
    "a[:, np.newaxis] #> column vector"
   ]
  },
  {
   "cell_type": "code",
   "execution_count": 9,
   "metadata": {
    "execution": {
     "iopub.execute_input": "2021-04-01T01:39:53.551837Z",
     "iopub.status.busy": "2021-04-01T01:39:53.551837Z",
     "iopub.status.idle": "2021-04-01T01:39:53.556823Z",
     "shell.execute_reply": "2021-04-01T01:39:53.556823Z",
     "shell.execute_reply.started": "2021-04-01T01:39:53.551837Z"
    }
   },
   "outputs": [
    {
     "data": {
      "text/plain": [
       "array([[0, 1, 2, 3, 4]])"
      ]
     },
     "execution_count": 9,
     "metadata": {},
     "output_type": "execute_result"
    }
   ],
   "source": [
    "a[np.newaxis, :] #> row vector"
   ]
  },
  {
   "cell_type": "code",
   "execution_count": 10,
   "metadata": {
    "execution": {
     "iopub.execute_input": "2021-04-01T01:40:10.607340Z",
     "iopub.status.busy": "2021-04-01T01:40:10.606342Z",
     "iopub.status.idle": "2021-04-01T01:40:10.628283Z",
     "shell.execute_reply": "2021-04-01T01:40:10.627286Z",
     "shell.execute_reply.started": "2021-04-01T01:40:10.607340Z"
    }
   },
   "outputs": [
    {
     "data": {
      "text/plain": [
       "array([[0, 1, 2],\n",
       "       [3, 4, 5]])"
      ]
     },
     "execution_count": 10,
     "metadata": {},
     "output_type": "execute_result"
    }
   ],
   "source": [
    "a=np.arange(6).reshape((2,3))\n",
    "a"
   ]
  },
  {
   "cell_type": "code",
   "execution_count": 11,
   "metadata": {
    "execution": {
     "iopub.execute_input": "2021-04-01T01:40:13.145095Z",
     "iopub.status.busy": "2021-04-01T01:40:13.144098Z",
     "iopub.status.idle": "2021-04-01T01:40:13.169031Z",
     "shell.execute_reply": "2021-04-01T01:40:13.168034Z",
     "shell.execute_reply.started": "2021-04-01T01:40:13.145095Z"
    }
   },
   "outputs": [
    {
     "data": {
      "text/plain": [
       "array([[0, 1, 2],\n",
       "       [3, 4, 5]])"
      ]
     },
     "execution_count": 11,
     "metadata": {},
     "output_type": "execute_result"
    }
   ],
   "source": [
    "a[:,:] # (2,3) shape"
   ]
  },
  {
   "cell_type": "code",
   "execution_count": 12,
   "metadata": {
    "execution": {
     "iopub.execute_input": "2021-04-01T01:40:26.561199Z",
     "iopub.status.busy": "2021-04-01T01:40:26.560202Z",
     "iopub.status.idle": "2021-04-01T01:40:26.574166Z",
     "shell.execute_reply": "2021-04-01T01:40:26.573167Z",
     "shell.execute_reply.started": "2021-04-01T01:40:26.561199Z"
    }
   },
   "outputs": [
    {
     "data": {
      "text/plain": [
       "array([[[0, 1, 2],\n",
       "        [3, 4, 5]]])"
      ]
     },
     "execution_count": 12,
     "metadata": {},
     "output_type": "execute_result"
    }
   ],
   "source": [
    "a[np.newaxis, :, :] # (1,2,3) shape"
   ]
  },
  {
   "cell_type": "code",
   "execution_count": 13,
   "metadata": {
    "execution": {
     "iopub.execute_input": "2021-04-01T01:42:12.301356Z",
     "iopub.status.busy": "2021-04-01T01:42:12.301356Z",
     "iopub.status.idle": "2021-04-01T01:42:12.310331Z",
     "shell.execute_reply": "2021-04-01T01:42:12.309334Z",
     "shell.execute_reply.started": "2021-04-01T01:42:12.301356Z"
    }
   },
   "outputs": [
    {
     "data": {
      "text/plain": [
       "array([[[0],\n",
       "        [1],\n",
       "        [2]],\n",
       "\n",
       "       [[3],\n",
       "        [4],\n",
       "        [5]]])"
      ]
     },
     "execution_count": 13,
     "metadata": {},
     "output_type": "execute_result"
    }
   ],
   "source": [
    "a[:, :, np.newaxis] # (2,3,1) shape"
   ]
  },
  {
   "cell_type": "code",
   "execution_count": 14,
   "metadata": {
    "execution": {
     "iopub.execute_input": "2021-04-01T01:42:46.479652Z",
     "iopub.status.busy": "2021-04-01T01:42:46.479652Z",
     "iopub.status.idle": "2021-04-01T01:42:46.491617Z",
     "shell.execute_reply": "2021-04-01T01:42:46.490620Z",
     "shell.execute_reply.started": "2021-04-01T01:42:46.479652Z"
    }
   },
   "outputs": [
    {
     "data": {
      "text/plain": [
       "array([[[0, 1, 2]],\n",
       "\n",
       "       [[3, 4, 5]]])"
      ]
     },
     "execution_count": 14,
     "metadata": {},
     "output_type": "execute_result"
    }
   ],
   "source": [
    "a[:, np.newaxis, :] # (2,1,3) shape"
   ]
  }
 ],
 "metadata": {
  "kernelspec": {
   "display_name": "Python 3",
   "language": "python",
   "name": "python3"
  },
  "language_info": {
   "codemirror_mode": {
    "name": "ipython",
    "version": 3
   },
   "file_extension": ".py",
   "mimetype": "text/x-python",
   "name": "python",
   "nbconvert_exporter": "python",
   "pygments_lexer": "ipython3",
   "version": "3.8.5"
  }
 },
 "nbformat": 4,
 "nbformat_minor": 4
}
