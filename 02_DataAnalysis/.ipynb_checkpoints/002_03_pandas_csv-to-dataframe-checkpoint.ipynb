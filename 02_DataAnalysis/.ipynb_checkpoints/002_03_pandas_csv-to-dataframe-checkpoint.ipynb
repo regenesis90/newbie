{
 "cells": [
  {
   "cell_type": "code",
   "execution_count": 2,
   "metadata": {
    "execution": {
     "iopub.execute_input": "2021-03-30T05:26:10.380728Z",
     "iopub.status.busy": "2021-03-30T05:26:10.379731Z",
     "iopub.status.idle": "2021-03-30T05:26:11.026065Z",
     "shell.execute_reply": "2021-03-30T05:26:11.025129Z",
     "shell.execute_reply.started": "2021-03-30T05:26:10.380728Z"
    }
   },
   "outputs": [],
   "source": [
    "import pandas as pd"
   ]
  },
  {
   "cell_type": "markdown",
   "metadata": {},
   "source": [
    "# CSV 파일을 불러와 pd.DataFrame으로 만들기"
   ]
  },
  {
   "cell_type": "code",
   "execution_count": 3,
   "metadata": {
    "execution": {
     "iopub.execute_input": "2021-03-30T05:26:11.027044Z",
     "iopub.status.busy": "2021-03-30T05:26:11.027044Z",
     "iopub.status.idle": "2021-03-30T05:26:11.756683Z",
     "shell.execute_reply": "2021-03-30T05:26:11.755963Z",
     "shell.execute_reply.started": "2021-03-30T05:26:11.027044Z"
    }
   },
   "outputs": [],
   "source": [
    "file_path='https://github.com/wesm/pydata-book/raw/2nd-edition/examples/ex1.csv'\n",
    "ex1_df=pd.read_csv(file_path)"
   ]
  },
  {
   "cell_type": "code",
   "execution_count": 4,
   "metadata": {
    "execution": {
     "iopub.execute_input": "2021-03-30T05:26:11.757682Z",
     "iopub.status.busy": "2021-03-30T05:26:11.757682Z",
     "iopub.status.idle": "2021-03-30T05:26:11.778145Z",
     "shell.execute_reply": "2021-03-30T05:26:11.777147Z",
     "shell.execute_reply.started": "2021-03-30T05:26:11.757682Z"
    }
   },
   "outputs": [
    {
     "data": {
      "text/html": [
       "<div>\n",
       "<style scoped>\n",
       "    .dataframe tbody tr th:only-of-type {\n",
       "        vertical-align: middle;\n",
       "    }\n",
       "\n",
       "    .dataframe tbody tr th {\n",
       "        vertical-align: top;\n",
       "    }\n",
       "\n",
       "    .dataframe thead th {\n",
       "        text-align: right;\n",
       "    }\n",
       "</style>\n",
       "<table border=\"1\" class=\"dataframe\">\n",
       "  <thead>\n",
       "    <tr style=\"text-align: right;\">\n",
       "      <th></th>\n",
       "      <th>a</th>\n",
       "      <th>b</th>\n",
       "      <th>c</th>\n",
       "      <th>d</th>\n",
       "      <th>message</th>\n",
       "    </tr>\n",
       "  </thead>\n",
       "  <tbody>\n",
       "    <tr>\n",
       "      <th>0</th>\n",
       "      <td>1</td>\n",
       "      <td>2</td>\n",
       "      <td>3</td>\n",
       "      <td>4</td>\n",
       "      <td>hello</td>\n",
       "    </tr>\n",
       "    <tr>\n",
       "      <th>1</th>\n",
       "      <td>5</td>\n",
       "      <td>6</td>\n",
       "      <td>7</td>\n",
       "      <td>8</td>\n",
       "      <td>world</td>\n",
       "    </tr>\n",
       "    <tr>\n",
       "      <th>2</th>\n",
       "      <td>9</td>\n",
       "      <td>10</td>\n",
       "      <td>11</td>\n",
       "      <td>12</td>\n",
       "      <td>foo</td>\n",
       "    </tr>\n",
       "  </tbody>\n",
       "</table>\n",
       "</div>"
      ],
      "text/plain": [
       "   a   b   c   d message\n",
       "0  1   2   3   4   hello\n",
       "1  5   6   7   8   world\n",
       "2  9  10  11  12     foo"
      ]
     },
     "execution_count": 4,
     "metadata": {},
     "output_type": "execute_result"
    }
   ],
   "source": [
    "ex1_df"
   ]
  },
  {
   "cell_type": "markdown",
   "metadata": {},
   "source": [
    "# DataFrame의 구조 파악하기"
   ]
  },
  {
   "cell_type": "code",
   "execution_count": 5,
   "metadata": {
    "execution": {
     "iopub.execute_input": "2021-03-30T05:26:11.781140Z",
     "iopub.status.busy": "2021-03-30T05:26:11.780142Z",
     "iopub.status.idle": "2021-03-30T05:26:11.790117Z",
     "shell.execute_reply": "2021-03-30T05:26:11.788118Z",
     "shell.execute_reply.started": "2021-03-30T05:26:11.781140Z"
    }
   },
   "outputs": [
    {
     "data": {
      "text/plain": [
       "pandas.core.frame.DataFrame"
      ]
     },
     "execution_count": 5,
     "metadata": {},
     "output_type": "execute_result"
    }
   ],
   "source": [
    "type(ex1_df)"
   ]
  },
  {
   "cell_type": "code",
   "execution_count": 6,
   "metadata": {
    "execution": {
     "iopub.execute_input": "2021-03-30T05:26:11.792113Z",
     "iopub.status.busy": "2021-03-30T05:26:11.792113Z",
     "iopub.status.idle": "2021-03-30T05:26:11.813050Z",
     "shell.execute_reply": "2021-03-30T05:26:11.812052Z",
     "shell.execute_reply.started": "2021-03-30T05:26:11.792113Z"
    }
   },
   "outputs": [
    {
     "data": {
      "text/plain": [
       "(3, 5)"
      ]
     },
     "execution_count": 6,
     "metadata": {},
     "output_type": "execute_result"
    }
   ],
   "source": [
    "ex1_df.shape"
   ]
  },
  {
   "cell_type": "code",
   "execution_count": 7,
   "metadata": {
    "execution": {
     "iopub.execute_input": "2021-03-30T05:26:11.814047Z",
     "iopub.status.busy": "2021-03-30T05:26:11.814047Z",
     "iopub.status.idle": "2021-03-30T05:26:11.854939Z",
     "shell.execute_reply": "2021-03-30T05:26:11.851947Z",
     "shell.execute_reply.started": "2021-03-30T05:26:11.814047Z"
    }
   },
   "outputs": [
    {
     "data": {
      "text/plain": [
       "Index(['a', 'b', 'c', 'd', 'message'], dtype='object')"
      ]
     },
     "execution_count": 7,
     "metadata": {},
     "output_type": "execute_result"
    }
   ],
   "source": [
    "ex1_df.columns"
   ]
  },
  {
   "cell_type": "code",
   "execution_count": 8,
   "metadata": {
    "execution": {
     "iopub.execute_input": "2021-03-30T05:26:11.858928Z",
     "iopub.status.busy": "2021-03-30T05:26:11.858928Z",
     "iopub.status.idle": "2021-03-30T05:26:11.875888Z",
     "shell.execute_reply": "2021-03-30T05:26:11.871901Z",
     "shell.execute_reply.started": "2021-03-30T05:26:11.858928Z"
    }
   },
   "outputs": [
    {
     "data": {
      "text/plain": [
       "RangeIndex(start=0, stop=3, step=1)"
      ]
     },
     "execution_count": 8,
     "metadata": {},
     "output_type": "execute_result"
    }
   ],
   "source": [
    "ex1_df.index"
   ]
  },
  {
   "cell_type": "code",
   "execution_count": 9,
   "metadata": {
    "execution": {
     "iopub.execute_input": "2021-03-30T05:26:11.877877Z",
     "iopub.status.busy": "2021-03-30T05:26:11.877877Z",
     "iopub.status.idle": "2021-03-30T05:26:11.906803Z",
     "shell.execute_reply": "2021-03-30T05:26:11.901815Z",
     "shell.execute_reply.started": "2021-03-30T05:26:11.877877Z"
    }
   },
   "outputs": [
    {
     "data": {
      "text/plain": [
       "a           int64\n",
       "b           int64\n",
       "c           int64\n",
       "d           int64\n",
       "message    object\n",
       "dtype: object"
      ]
     },
     "execution_count": 9,
     "metadata": {},
     "output_type": "execute_result"
    }
   ],
   "source": [
    "# pd.read_csv()가 파일의 데이터들을 스스로 적절한 데이터 타입으로 변환했음을 알 수 있다.\n",
    "ex1_df.dtypes"
   ]
  },
  {
   "cell_type": "markdown",
   "metadata": {},
   "source": [
    "# 컬럼 이름이 없는 CSV 파일을 불러오는 경우\n",
    "* `pd.read_csv()` 함수는 csv 파일의 첫째 행을 컬럼 이름으로 생각함\n",
    "* 만약 컬럼 이름이 없는 csv 파일인 경우, **header=None** 인수를 추가해 주어야 함\n",
    "* **header=None** 인수 추가 시 : 임의의 컬럼 이름이 생겨나게 됨"
   ]
  },
  {
   "cell_type": "markdown",
   "metadata": {},
   "source": [
    "## header=None"
   ]
  },
  {
   "cell_type": "code",
   "execution_count": 10,
   "metadata": {
    "execution": {
     "iopub.execute_input": "2021-03-30T05:37:55.280552Z",
     "iopub.status.busy": "2021-03-30T05:37:55.280552Z",
     "iopub.status.idle": "2021-03-30T05:37:56.000535Z",
     "shell.execute_reply": "2021-03-30T05:37:55.999538Z",
     "shell.execute_reply.started": "2021-03-30T05:37:55.280552Z"
    }
   },
   "outputs": [
    {
     "data": {
      "text/html": [
       "<div>\n",
       "<style scoped>\n",
       "    .dataframe tbody tr th:only-of-type {\n",
       "        vertical-align: middle;\n",
       "    }\n",
       "\n",
       "    .dataframe tbody tr th {\n",
       "        vertical-align: top;\n",
       "    }\n",
       "\n",
       "    .dataframe thead th {\n",
       "        text-align: right;\n",
       "    }\n",
       "</style>\n",
       "<table border=\"1\" class=\"dataframe\">\n",
       "  <thead>\n",
       "    <tr style=\"text-align: right;\">\n",
       "      <th></th>\n",
       "      <th>0</th>\n",
       "      <th>1</th>\n",
       "      <th>2</th>\n",
       "      <th>3</th>\n",
       "      <th>4</th>\n",
       "    </tr>\n",
       "  </thead>\n",
       "  <tbody>\n",
       "    <tr>\n",
       "      <th>0</th>\n",
       "      <td>1</td>\n",
       "      <td>2</td>\n",
       "      <td>3</td>\n",
       "      <td>4</td>\n",
       "      <td>hello</td>\n",
       "    </tr>\n",
       "    <tr>\n",
       "      <th>1</th>\n",
       "      <td>5</td>\n",
       "      <td>6</td>\n",
       "      <td>7</td>\n",
       "      <td>8</td>\n",
       "      <td>world</td>\n",
       "    </tr>\n",
       "    <tr>\n",
       "      <th>2</th>\n",
       "      <td>9</td>\n",
       "      <td>10</td>\n",
       "      <td>11</td>\n",
       "      <td>12</td>\n",
       "      <td>foo</td>\n",
       "    </tr>\n",
       "  </tbody>\n",
       "</table>\n",
       "</div>"
      ],
      "text/plain": [
       "   0   1   2   3      4\n",
       "0  1   2   3   4  hello\n",
       "1  5   6   7   8  world\n",
       "2  9  10  11  12    foo"
      ]
     },
     "execution_count": 10,
     "metadata": {},
     "output_type": "execute_result"
    }
   ],
   "source": [
    "file_path='https://github.com/wesm/pydata-book/raw/2nd-edition/examples/ex2.csv'\n",
    "ex2=pd.read_csv(file_path, header=None)\n",
    "ex2"
   ]
  },
  {
   "cell_type": "markdown",
   "metadata": {},
   "source": [
    "## header=None으로 만든 컬럼이름을 개별 지정"
   ]
  },
  {
   "cell_type": "code",
   "execution_count": 11,
   "metadata": {
    "execution": {
     "iopub.execute_input": "2021-03-30T05:39:20.596986Z",
     "iopub.status.busy": "2021-03-30T05:39:20.595988Z",
     "iopub.status.idle": "2021-03-30T05:39:21.133522Z",
     "shell.execute_reply": "2021-03-30T05:39:21.131744Z",
     "shell.execute_reply.started": "2021-03-30T05:39:20.596986Z"
    }
   },
   "outputs": [
    {
     "data": {
      "text/html": [
       "<div>\n",
       "<style scoped>\n",
       "    .dataframe tbody tr th:only-of-type {\n",
       "        vertical-align: middle;\n",
       "    }\n",
       "\n",
       "    .dataframe tbody tr th {\n",
       "        vertical-align: top;\n",
       "    }\n",
       "\n",
       "    .dataframe thead th {\n",
       "        text-align: right;\n",
       "    }\n",
       "</style>\n",
       "<table border=\"1\" class=\"dataframe\">\n",
       "  <thead>\n",
       "    <tr style=\"text-align: right;\">\n",
       "      <th></th>\n",
       "      <th>a</th>\n",
       "      <th>b</th>\n",
       "      <th>c</th>\n",
       "      <th>d</th>\n",
       "      <th>msg</th>\n",
       "    </tr>\n",
       "  </thead>\n",
       "  <tbody>\n",
       "    <tr>\n",
       "      <th>0</th>\n",
       "      <td>1</td>\n",
       "      <td>2</td>\n",
       "      <td>3</td>\n",
       "      <td>4</td>\n",
       "      <td>hello</td>\n",
       "    </tr>\n",
       "    <tr>\n",
       "      <th>1</th>\n",
       "      <td>5</td>\n",
       "      <td>6</td>\n",
       "      <td>7</td>\n",
       "      <td>8</td>\n",
       "      <td>world</td>\n",
       "    </tr>\n",
       "    <tr>\n",
       "      <th>2</th>\n",
       "      <td>9</td>\n",
       "      <td>10</td>\n",
       "      <td>11</td>\n",
       "      <td>12</td>\n",
       "      <td>foo</td>\n",
       "    </tr>\n",
       "  </tbody>\n",
       "</table>\n",
       "</div>"
      ],
      "text/plain": [
       "   a   b   c   d    msg\n",
       "0  1   2   3   4  hello\n",
       "1  5   6   7   8  world\n",
       "2  9  10  11  12    foo"
      ]
     },
     "execution_count": 11,
     "metadata": {},
     "output_type": "execute_result"
    }
   ],
   "source": [
    "ex2=pd.read_csv(file_path, header=None,\n",
    "               names=['a','b','c','d','msg'])\n",
    "ex2"
   ]
  },
  {
   "cell_type": "code",
   "execution_count": 12,
   "metadata": {
    "execution": {
     "iopub.execute_input": "2021-03-30T05:39:37.926228Z",
     "iopub.status.busy": "2021-03-30T05:39:37.926228Z",
     "iopub.status.idle": "2021-03-30T05:39:37.932853Z",
     "shell.execute_reply": "2021-03-30T05:39:37.932199Z",
     "shell.execute_reply.started": "2021-03-30T05:39:37.926228Z"
    }
   },
   "outputs": [
    {
     "data": {
      "text/plain": [
       "0    hello\n",
       "1    world\n",
       "2      foo\n",
       "Name: msg, dtype: object"
      ]
     },
     "execution_count": 12,
     "metadata": {},
     "output_type": "execute_result"
    }
   ],
   "source": [
    "# ex2 데이터프레임에서 msg 컬럼(변수)만 선택 시\n",
    "ex2['msg']"
   ]
  }
 ],
 "metadata": {
  "kernelspec": {
   "display_name": "Python 3",
   "language": "python",
   "name": "python3"
  },
  "language_info": {
   "codemirror_mode": {
    "name": "ipython",
    "version": 3
   },
   "file_extension": ".py",
   "mimetype": "text/x-python",
   "name": "python",
   "nbconvert_exporter": "python",
   "pygments_lexer": "ipython3",
   "version": "3.8.5"
  }
 },
 "nbformat": 4,
 "nbformat_minor": 4
}
