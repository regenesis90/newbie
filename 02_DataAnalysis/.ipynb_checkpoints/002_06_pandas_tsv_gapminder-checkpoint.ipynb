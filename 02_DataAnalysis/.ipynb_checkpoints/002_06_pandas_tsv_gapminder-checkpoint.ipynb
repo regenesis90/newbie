{
 "cells": [
  {
   "cell_type": "code",
   "execution_count": 1,
   "metadata": {
    "execution": {
     "iopub.execute_input": "2021-03-30T05:54:22.423878Z",
     "iopub.status.busy": "2021-03-30T05:54:22.423878Z",
     "iopub.status.idle": "2021-03-30T05:54:23.098371Z",
     "shell.execute_reply": "2021-03-30T05:54:23.097403Z",
     "shell.execute_reply.started": "2021-03-30T05:54:22.423878Z"
    }
   },
   "outputs": [],
   "source": [
    "import pandas as pd"
   ]
  },
  {
   "cell_type": "markdown",
   "metadata": {},
   "source": [
    "# gapminder data"
   ]
  },
  {
   "cell_type": "code",
   "execution_count": 2,
   "metadata": {
    "execution": {
     "iopub.execute_input": "2021-03-30T05:54:31.764659Z",
     "iopub.status.busy": "2021-03-30T05:54:31.764659Z",
     "iopub.status.idle": "2021-03-30T05:54:32.405334Z",
     "shell.execute_reply": "2021-03-30T05:54:32.404384Z",
     "shell.execute_reply.started": "2021-03-30T05:54:31.764659Z"
    }
   },
   "outputs": [
    {
     "data": {
      "text/html": [
       "<div>\n",
       "<style scoped>\n",
       "    .dataframe tbody tr th:only-of-type {\n",
       "        vertical-align: middle;\n",
       "    }\n",
       "\n",
       "    .dataframe tbody tr th {\n",
       "        vertical-align: top;\n",
       "    }\n",
       "\n",
       "    .dataframe thead th {\n",
       "        text-align: right;\n",
       "    }\n",
       "</style>\n",
       "<table border=\"1\" class=\"dataframe\">\n",
       "  <thead>\n",
       "    <tr style=\"text-align: right;\">\n",
       "      <th></th>\n",
       "      <th>country</th>\n",
       "      <th>continent</th>\n",
       "      <th>year</th>\n",
       "      <th>lifeExp</th>\n",
       "      <th>pop</th>\n",
       "      <th>gdpPercap</th>\n",
       "    </tr>\n",
       "  </thead>\n",
       "  <tbody>\n",
       "    <tr>\n",
       "      <th>0</th>\n",
       "      <td>Afghanistan</td>\n",
       "      <td>Asia</td>\n",
       "      <td>1952</td>\n",
       "      <td>28.801</td>\n",
       "      <td>8425333</td>\n",
       "      <td>779.445314</td>\n",
       "    </tr>\n",
       "    <tr>\n",
       "      <th>1</th>\n",
       "      <td>Afghanistan</td>\n",
       "      <td>Asia</td>\n",
       "      <td>1957</td>\n",
       "      <td>30.332</td>\n",
       "      <td>9240934</td>\n",
       "      <td>820.853030</td>\n",
       "    </tr>\n",
       "    <tr>\n",
       "      <th>2</th>\n",
       "      <td>Afghanistan</td>\n",
       "      <td>Asia</td>\n",
       "      <td>1962</td>\n",
       "      <td>31.997</td>\n",
       "      <td>10267083</td>\n",
       "      <td>853.100710</td>\n",
       "    </tr>\n",
       "    <tr>\n",
       "      <th>3</th>\n",
       "      <td>Afghanistan</td>\n",
       "      <td>Asia</td>\n",
       "      <td>1967</td>\n",
       "      <td>34.020</td>\n",
       "      <td>11537966</td>\n",
       "      <td>836.197138</td>\n",
       "    </tr>\n",
       "    <tr>\n",
       "      <th>4</th>\n",
       "      <td>Afghanistan</td>\n",
       "      <td>Asia</td>\n",
       "      <td>1972</td>\n",
       "      <td>36.088</td>\n",
       "      <td>13079460</td>\n",
       "      <td>739.981106</td>\n",
       "    </tr>\n",
       "    <tr>\n",
       "      <th>...</th>\n",
       "      <td>...</td>\n",
       "      <td>...</td>\n",
       "      <td>...</td>\n",
       "      <td>...</td>\n",
       "      <td>...</td>\n",
       "      <td>...</td>\n",
       "    </tr>\n",
       "    <tr>\n",
       "      <th>1699</th>\n",
       "      <td>Zimbabwe</td>\n",
       "      <td>Africa</td>\n",
       "      <td>1987</td>\n",
       "      <td>62.351</td>\n",
       "      <td>9216418</td>\n",
       "      <td>706.157306</td>\n",
       "    </tr>\n",
       "    <tr>\n",
       "      <th>1700</th>\n",
       "      <td>Zimbabwe</td>\n",
       "      <td>Africa</td>\n",
       "      <td>1992</td>\n",
       "      <td>60.377</td>\n",
       "      <td>10704340</td>\n",
       "      <td>693.420786</td>\n",
       "    </tr>\n",
       "    <tr>\n",
       "      <th>1701</th>\n",
       "      <td>Zimbabwe</td>\n",
       "      <td>Africa</td>\n",
       "      <td>1997</td>\n",
       "      <td>46.809</td>\n",
       "      <td>11404948</td>\n",
       "      <td>792.449960</td>\n",
       "    </tr>\n",
       "    <tr>\n",
       "      <th>1702</th>\n",
       "      <td>Zimbabwe</td>\n",
       "      <td>Africa</td>\n",
       "      <td>2002</td>\n",
       "      <td>39.989</td>\n",
       "      <td>11926563</td>\n",
       "      <td>672.038623</td>\n",
       "    </tr>\n",
       "    <tr>\n",
       "      <th>1703</th>\n",
       "      <td>Zimbabwe</td>\n",
       "      <td>Africa</td>\n",
       "      <td>2007</td>\n",
       "      <td>43.487</td>\n",
       "      <td>12311143</td>\n",
       "      <td>469.709298</td>\n",
       "    </tr>\n",
       "  </tbody>\n",
       "</table>\n",
       "<p>1704 rows × 6 columns</p>\n",
       "</div>"
      ],
      "text/plain": [
       "          country continent  year  lifeExp       pop   gdpPercap\n",
       "0     Afghanistan      Asia  1952   28.801   8425333  779.445314\n",
       "1     Afghanistan      Asia  1957   30.332   9240934  820.853030\n",
       "2     Afghanistan      Asia  1962   31.997  10267083  853.100710\n",
       "3     Afghanistan      Asia  1967   34.020  11537966  836.197138\n",
       "4     Afghanistan      Asia  1972   36.088  13079460  739.981106\n",
       "...           ...       ...   ...      ...       ...         ...\n",
       "1699     Zimbabwe    Africa  1987   62.351   9216418  706.157306\n",
       "1700     Zimbabwe    Africa  1992   60.377  10704340  693.420786\n",
       "1701     Zimbabwe    Africa  1997   46.809  11404948  792.449960\n",
       "1702     Zimbabwe    Africa  2002   39.989  11926563  672.038623\n",
       "1703     Zimbabwe    Africa  2007   43.487  12311143  469.709298\n",
       "\n",
       "[1704 rows x 6 columns]"
      ]
     },
     "execution_count": 2,
     "metadata": {},
     "output_type": "execute_result"
    }
   ],
   "source": [
    "file_path='https://github.com/JakeOh/202011_itw_bd21/raw/main/datasets/gapminder.tsv'\n",
    "gapminder=pd.read_csv(file_path, sep='\\t')\n",
    "gapminder"
   ]
  },
  {
   "cell_type": "markdown",
   "metadata": {},
   "source": [
    "# Data Structure"
   ]
  },
  {
   "cell_type": "code",
   "execution_count": 3,
   "metadata": {
    "execution": {
     "iopub.execute_input": "2021-03-30T05:54:47.870667Z",
     "iopub.status.busy": "2021-03-30T05:54:47.870667Z",
     "iopub.status.idle": "2021-03-30T05:54:47.877648Z",
     "shell.execute_reply": "2021-03-30T05:54:47.876651Z",
     "shell.execute_reply.started": "2021-03-30T05:54:47.870667Z"
    }
   },
   "outputs": [
    {
     "data": {
      "text/plain": [
       "(1704, 6)"
      ]
     },
     "execution_count": 3,
     "metadata": {},
     "output_type": "execute_result"
    }
   ],
   "source": [
    "gapminder.shape"
   ]
  },
  {
   "cell_type": "code",
   "execution_count": 4,
   "metadata": {
    "execution": {
     "iopub.execute_input": "2021-03-30T05:54:50.237033Z",
     "iopub.status.busy": "2021-03-30T05:54:50.236037Z",
     "iopub.status.idle": "2021-03-30T05:54:50.249517Z",
     "shell.execute_reply": "2021-03-30T05:54:50.248007Z",
     "shell.execute_reply.started": "2021-03-30T05:54:50.237033Z"
    }
   },
   "outputs": [
    {
     "data": {
      "text/plain": [
       "country       object\n",
       "continent     object\n",
       "year           int64\n",
       "lifeExp      float64\n",
       "pop            int64\n",
       "gdpPercap    float64\n",
       "dtype: object"
      ]
     },
     "execution_count": 4,
     "metadata": {},
     "output_type": "execute_result"
    }
   ],
   "source": [
    "gapminder.dtypes"
   ]
  },
  {
   "cell_type": "code",
   "execution_count": 5,
   "metadata": {
    "execution": {
     "iopub.execute_input": "2021-03-30T05:54:53.424916Z",
     "iopub.status.busy": "2021-03-30T05:54:53.424916Z",
     "iopub.status.idle": "2021-03-30T05:54:53.434398Z",
     "shell.execute_reply": "2021-03-30T05:54:53.433441Z",
     "shell.execute_reply.started": "2021-03-30T05:54:53.424916Z"
    }
   },
   "outputs": [
    {
     "data": {
      "text/plain": [
       "Index(['country', 'continent', 'year', 'lifeExp', 'pop', 'gdpPercap'], dtype='object')"
      ]
     },
     "execution_count": 5,
     "metadata": {},
     "output_type": "execute_result"
    }
   ],
   "source": [
    "gapminder.columns"
   ]
  },
  {
   "cell_type": "code",
   "execution_count": 6,
   "metadata": {
    "execution": {
     "iopub.execute_input": "2021-03-30T05:54:56.705561Z",
     "iopub.status.busy": "2021-03-30T05:54:56.705561Z",
     "iopub.status.idle": "2021-03-30T05:54:56.727500Z",
     "shell.execute_reply": "2021-03-30T05:54:56.726554Z",
     "shell.execute_reply.started": "2021-03-30T05:54:56.705561Z"
    }
   },
   "outputs": [
    {
     "data": {
      "text/html": [
       "<div>\n",
       "<style scoped>\n",
       "    .dataframe tbody tr th:only-of-type {\n",
       "        vertical-align: middle;\n",
       "    }\n",
       "\n",
       "    .dataframe tbody tr th {\n",
       "        vertical-align: top;\n",
       "    }\n",
       "\n",
       "    .dataframe thead th {\n",
       "        text-align: right;\n",
       "    }\n",
       "</style>\n",
       "<table border=\"1\" class=\"dataframe\">\n",
       "  <thead>\n",
       "    <tr style=\"text-align: right;\">\n",
       "      <th></th>\n",
       "      <th>year</th>\n",
       "      <th>lifeExp</th>\n",
       "      <th>pop</th>\n",
       "      <th>gdpPercap</th>\n",
       "    </tr>\n",
       "  </thead>\n",
       "  <tbody>\n",
       "    <tr>\n",
       "      <th>count</th>\n",
       "      <td>1704.00000</td>\n",
       "      <td>1704.000000</td>\n",
       "      <td>1.704000e+03</td>\n",
       "      <td>1704.000000</td>\n",
       "    </tr>\n",
       "    <tr>\n",
       "      <th>mean</th>\n",
       "      <td>1979.50000</td>\n",
       "      <td>59.474439</td>\n",
       "      <td>2.960121e+07</td>\n",
       "      <td>7215.327081</td>\n",
       "    </tr>\n",
       "    <tr>\n",
       "      <th>std</th>\n",
       "      <td>17.26533</td>\n",
       "      <td>12.917107</td>\n",
       "      <td>1.061579e+08</td>\n",
       "      <td>9857.454543</td>\n",
       "    </tr>\n",
       "    <tr>\n",
       "      <th>min</th>\n",
       "      <td>1952.00000</td>\n",
       "      <td>23.599000</td>\n",
       "      <td>6.001100e+04</td>\n",
       "      <td>241.165877</td>\n",
       "    </tr>\n",
       "    <tr>\n",
       "      <th>25%</th>\n",
       "      <td>1965.75000</td>\n",
       "      <td>48.198000</td>\n",
       "      <td>2.793664e+06</td>\n",
       "      <td>1202.060309</td>\n",
       "    </tr>\n",
       "    <tr>\n",
       "      <th>50%</th>\n",
       "      <td>1979.50000</td>\n",
       "      <td>60.712500</td>\n",
       "      <td>7.023596e+06</td>\n",
       "      <td>3531.846989</td>\n",
       "    </tr>\n",
       "    <tr>\n",
       "      <th>75%</th>\n",
       "      <td>1993.25000</td>\n",
       "      <td>70.845500</td>\n",
       "      <td>1.958522e+07</td>\n",
       "      <td>9325.462346</td>\n",
       "    </tr>\n",
       "    <tr>\n",
       "      <th>max</th>\n",
       "      <td>2007.00000</td>\n",
       "      <td>82.603000</td>\n",
       "      <td>1.318683e+09</td>\n",
       "      <td>113523.132900</td>\n",
       "    </tr>\n",
       "  </tbody>\n",
       "</table>\n",
       "</div>"
      ],
      "text/plain": [
       "             year      lifeExp           pop      gdpPercap\n",
       "count  1704.00000  1704.000000  1.704000e+03    1704.000000\n",
       "mean   1979.50000    59.474439  2.960121e+07    7215.327081\n",
       "std      17.26533    12.917107  1.061579e+08    9857.454543\n",
       "min    1952.00000    23.599000  6.001100e+04     241.165877\n",
       "25%    1965.75000    48.198000  2.793664e+06    1202.060309\n",
       "50%    1979.50000    60.712500  7.023596e+06    3531.846989\n",
       "75%    1993.25000    70.845500  1.958522e+07    9325.462346\n",
       "max    2007.00000    82.603000  1.318683e+09  113523.132900"
      ]
     },
     "execution_count": 6,
     "metadata": {},
     "output_type": "execute_result"
    }
   ],
   "source": [
    "gapminder.describe()"
   ]
  },
  {
   "cell_type": "code",
   "execution_count": 7,
   "metadata": {
    "execution": {
     "iopub.execute_input": "2021-03-30T05:55:38.566659Z",
     "iopub.status.busy": "2021-03-30T05:55:38.565662Z",
     "iopub.status.idle": "2021-03-30T05:55:38.572644Z",
     "shell.execute_reply": "2021-03-30T05:55:38.571647Z",
     "shell.execute_reply.started": "2021-03-30T05:55:38.565662Z"
    }
   },
   "outputs": [
    {
     "data": {
      "text/plain": [
       "142"
      ]
     },
     "execution_count": 7,
     "metadata": {},
     "output_type": "execute_result"
    }
   ],
   "source": [
    "# gapminder DF의 (중복되지 않는) 국가이름 개수\n",
    "countries=gapminder['country'].unique()\n",
    "len(countries)"
   ]
  },
  {
   "cell_type": "code",
   "execution_count": 8,
   "metadata": {
    "execution": {
     "iopub.execute_input": "2021-03-30T05:56:25.297900Z",
     "iopub.status.busy": "2021-03-30T05:56:25.297900Z",
     "iopub.status.idle": "2021-03-30T05:56:25.308392Z",
     "shell.execute_reply": "2021-03-30T05:56:25.306880Z",
     "shell.execute_reply.started": "2021-03-30T05:56:25.297900Z"
    }
   },
   "outputs": [
    {
     "data": {
      "text/plain": [
       "Ireland                12\n",
       "Guatemala              12\n",
       "Netherlands            12\n",
       "Puerto Rico            12\n",
       "Trinidad and Tobago    12\n",
       "                       ..\n",
       "Serbia                 12\n",
       "Korea, Dem. Rep.       12\n",
       "Spain                  12\n",
       "Sierra Leone           12\n",
       "Jamaica                12\n",
       "Name: country, Length: 142, dtype: int64"
      ]
     },
     "execution_count": 8,
     "metadata": {},
     "output_type": "execute_result"
    }
   ],
   "source": [
    "gapminder['country'].value_counts()"
   ]
  },
  {
   "cell_type": "code",
   "execution_count": 12,
   "metadata": {
    "execution": {
     "iopub.execute_input": "2021-03-30T05:57:10.117676Z",
     "iopub.status.busy": "2021-03-30T05:57:10.117676Z",
     "iopub.status.idle": "2021-03-30T05:57:10.123860Z",
     "shell.execute_reply": "2021-03-30T05:57:10.123860Z",
     "shell.execute_reply.started": "2021-03-30T05:57:10.117676Z"
    }
   },
   "outputs": [
    {
     "data": {
      "text/plain": [
       "5"
      ]
     },
     "execution_count": 12,
     "metadata": {},
     "output_type": "execute_result"
    }
   ],
   "source": [
    "# gampinder DF의 (중복되지 않는) 대륙 이름 개수\n",
    "continents=gapminder['continent'].unique()\n",
    "len(continents)"
   ]
  },
  {
   "cell_type": "code",
   "execution_count": 13,
   "metadata": {
    "execution": {
     "iopub.execute_input": "2021-03-30T05:57:12.413447Z",
     "iopub.status.busy": "2021-03-30T05:57:12.413447Z",
     "iopub.status.idle": "2021-03-30T05:57:12.423421Z",
     "shell.execute_reply": "2021-03-30T05:57:12.421431Z",
     "shell.execute_reply.started": "2021-03-30T05:57:12.413447Z"
    }
   },
   "outputs": [
    {
     "data": {
      "text/plain": [
       "12"
      ]
     },
     "execution_count": 13,
     "metadata": {},
     "output_type": "execute_result"
    }
   ],
   "source": [
    "# 중복되지 않는 모든 연도\n",
    "years=gapminder['year'].unique()\n",
    "len(years)"
   ]
  },
  {
   "cell_type": "markdown",
   "metadata": {},
   "source": [
    "# 특정 row, column 선택하기 : 데이터 필터링"
   ]
  },
  {
   "cell_type": "code",
   "execution_count": 14,
   "metadata": {
    "execution": {
     "iopub.execute_input": "2021-03-30T05:58:09.582826Z",
     "iopub.status.busy": "2021-03-30T05:58:09.582826Z",
     "iopub.status.idle": "2021-03-30T05:58:09.598784Z",
     "shell.execute_reply": "2021-03-30T05:58:09.597785Z",
     "shell.execute_reply.started": "2021-03-30T05:58:09.582826Z"
    }
   },
   "outputs": [
    {
     "data": {
      "text/html": [
       "<div>\n",
       "<style scoped>\n",
       "    .dataframe tbody tr th:only-of-type {\n",
       "        vertical-align: middle;\n",
       "    }\n",
       "\n",
       "    .dataframe tbody tr th {\n",
       "        vertical-align: top;\n",
       "    }\n",
       "\n",
       "    .dataframe thead th {\n",
       "        text-align: right;\n",
       "    }\n",
       "</style>\n",
       "<table border=\"1\" class=\"dataframe\">\n",
       "  <thead>\n",
       "    <tr style=\"text-align: right;\">\n",
       "      <th></th>\n",
       "      <th>country</th>\n",
       "      <th>year</th>\n",
       "      <th>gdpPercap</th>\n",
       "    </tr>\n",
       "  </thead>\n",
       "  <tbody>\n",
       "    <tr>\n",
       "      <th>0</th>\n",
       "      <td>Afghanistan</td>\n",
       "      <td>1952</td>\n",
       "      <td>779.445314</td>\n",
       "    </tr>\n",
       "    <tr>\n",
       "      <th>1</th>\n",
       "      <td>Afghanistan</td>\n",
       "      <td>1957</td>\n",
       "      <td>820.853030</td>\n",
       "    </tr>\n",
       "    <tr>\n",
       "      <th>2</th>\n",
       "      <td>Afghanistan</td>\n",
       "      <td>1962</td>\n",
       "      <td>853.100710</td>\n",
       "    </tr>\n",
       "    <tr>\n",
       "      <th>3</th>\n",
       "      <td>Afghanistan</td>\n",
       "      <td>1967</td>\n",
       "      <td>836.197138</td>\n",
       "    </tr>\n",
       "    <tr>\n",
       "      <th>4</th>\n",
       "      <td>Afghanistan</td>\n",
       "      <td>1972</td>\n",
       "      <td>739.981106</td>\n",
       "    </tr>\n",
       "    <tr>\n",
       "      <th>...</th>\n",
       "      <td>...</td>\n",
       "      <td>...</td>\n",
       "      <td>...</td>\n",
       "    </tr>\n",
       "    <tr>\n",
       "      <th>1699</th>\n",
       "      <td>Zimbabwe</td>\n",
       "      <td>1987</td>\n",
       "      <td>706.157306</td>\n",
       "    </tr>\n",
       "    <tr>\n",
       "      <th>1700</th>\n",
       "      <td>Zimbabwe</td>\n",
       "      <td>1992</td>\n",
       "      <td>693.420786</td>\n",
       "    </tr>\n",
       "    <tr>\n",
       "      <th>1701</th>\n",
       "      <td>Zimbabwe</td>\n",
       "      <td>1997</td>\n",
       "      <td>792.449960</td>\n",
       "    </tr>\n",
       "    <tr>\n",
       "      <th>1702</th>\n",
       "      <td>Zimbabwe</td>\n",
       "      <td>2002</td>\n",
       "      <td>672.038623</td>\n",
       "    </tr>\n",
       "    <tr>\n",
       "      <th>1703</th>\n",
       "      <td>Zimbabwe</td>\n",
       "      <td>2007</td>\n",
       "      <td>469.709298</td>\n",
       "    </tr>\n",
       "  </tbody>\n",
       "</table>\n",
       "<p>1704 rows × 3 columns</p>\n",
       "</div>"
      ],
      "text/plain": [
       "          country  year   gdpPercap\n",
       "0     Afghanistan  1952  779.445314\n",
       "1     Afghanistan  1957  820.853030\n",
       "2     Afghanistan  1962  853.100710\n",
       "3     Afghanistan  1967  836.197138\n",
       "4     Afghanistan  1972  739.981106\n",
       "...           ...   ...         ...\n",
       "1699     Zimbabwe  1987  706.157306\n",
       "1700     Zimbabwe  1992  693.420786\n",
       "1701     Zimbabwe  1997  792.449960\n",
       "1702     Zimbabwe  2002  672.038623\n",
       "1703     Zimbabwe  2007  469.709298\n",
       "\n",
       "[1704 rows x 3 columns]"
      ]
     },
     "execution_count": 14,
     "metadata": {},
     "output_type": "execute_result"
    }
   ],
   "source": [
    "# gapminder DF에서 국가, 연도, 1인당 GDP 컬럼 선택\n",
    "gapminder[['country', 'year', 'gdpPercap']]"
   ]
  },
  {
   "cell_type": "code",
   "execution_count": 15,
   "metadata": {
    "execution": {
     "iopub.execute_input": "2021-03-30T05:58:41.161094Z",
     "iopub.status.busy": "2021-03-30T05:58:41.161094Z",
     "iopub.status.idle": "2021-03-30T05:58:41.174658Z",
     "shell.execute_reply": "2021-03-30T05:58:41.173661Z",
     "shell.execute_reply.started": "2021-03-30T05:58:41.161094Z"
    }
   },
   "outputs": [
    {
     "data": {
      "text/html": [
       "<div>\n",
       "<style scoped>\n",
       "    .dataframe tbody tr th:only-of-type {\n",
       "        vertical-align: middle;\n",
       "    }\n",
       "\n",
       "    .dataframe tbody tr th {\n",
       "        vertical-align: top;\n",
       "    }\n",
       "\n",
       "    .dataframe thead th {\n",
       "        text-align: right;\n",
       "    }\n",
       "</style>\n",
       "<table border=\"1\" class=\"dataframe\">\n",
       "  <thead>\n",
       "    <tr style=\"text-align: right;\">\n",
       "      <th></th>\n",
       "      <th>country</th>\n",
       "      <th>year</th>\n",
       "      <th>gdpPercap</th>\n",
       "    </tr>\n",
       "  </thead>\n",
       "  <tbody>\n",
       "    <tr>\n",
       "      <th>0</th>\n",
       "      <td>Afghanistan</td>\n",
       "      <td>1952</td>\n",
       "      <td>779.445314</td>\n",
       "    </tr>\n",
       "    <tr>\n",
       "      <th>1</th>\n",
       "      <td>Afghanistan</td>\n",
       "      <td>1957</td>\n",
       "      <td>820.853030</td>\n",
       "    </tr>\n",
       "    <tr>\n",
       "      <th>2</th>\n",
       "      <td>Afghanistan</td>\n",
       "      <td>1962</td>\n",
       "      <td>853.100710</td>\n",
       "    </tr>\n",
       "    <tr>\n",
       "      <th>3</th>\n",
       "      <td>Afghanistan</td>\n",
       "      <td>1967</td>\n",
       "      <td>836.197138</td>\n",
       "    </tr>\n",
       "    <tr>\n",
       "      <th>4</th>\n",
       "      <td>Afghanistan</td>\n",
       "      <td>1972</td>\n",
       "      <td>739.981106</td>\n",
       "    </tr>\n",
       "    <tr>\n",
       "      <th>...</th>\n",
       "      <td>...</td>\n",
       "      <td>...</td>\n",
       "      <td>...</td>\n",
       "    </tr>\n",
       "    <tr>\n",
       "      <th>1699</th>\n",
       "      <td>Zimbabwe</td>\n",
       "      <td>1987</td>\n",
       "      <td>706.157306</td>\n",
       "    </tr>\n",
       "    <tr>\n",
       "      <th>1700</th>\n",
       "      <td>Zimbabwe</td>\n",
       "      <td>1992</td>\n",
       "      <td>693.420786</td>\n",
       "    </tr>\n",
       "    <tr>\n",
       "      <th>1701</th>\n",
       "      <td>Zimbabwe</td>\n",
       "      <td>1997</td>\n",
       "      <td>792.449960</td>\n",
       "    </tr>\n",
       "    <tr>\n",
       "      <th>1702</th>\n",
       "      <td>Zimbabwe</td>\n",
       "      <td>2002</td>\n",
       "      <td>672.038623</td>\n",
       "    </tr>\n",
       "    <tr>\n",
       "      <th>1703</th>\n",
       "      <td>Zimbabwe</td>\n",
       "      <td>2007</td>\n",
       "      <td>469.709298</td>\n",
       "    </tr>\n",
       "  </tbody>\n",
       "</table>\n",
       "<p>1704 rows × 3 columns</p>\n",
       "</div>"
      ],
      "text/plain": [
       "          country  year   gdpPercap\n",
       "0     Afghanistan  1952  779.445314\n",
       "1     Afghanistan  1957  820.853030\n",
       "2     Afghanistan  1962  853.100710\n",
       "3     Afghanistan  1967  836.197138\n",
       "4     Afghanistan  1972  739.981106\n",
       "...           ...   ...         ...\n",
       "1699     Zimbabwe  1987  706.157306\n",
       "1700     Zimbabwe  1992  693.420786\n",
       "1701     Zimbabwe  1997  792.449960\n",
       "1702     Zimbabwe  2002  672.038623\n",
       "1703     Zimbabwe  2007  469.709298\n",
       "\n",
       "[1704 rows x 3 columns]"
      ]
     },
     "execution_count": 15,
     "metadata": {},
     "output_type": "execute_result"
    }
   ],
   "source": [
    "# gapminder DF에서 국가, 연도, 1인당 GDP 컬럼 선택\n",
    "gapminder.loc[:, ['country', 'year', 'gdpPercap']]"
   ]
  },
  {
   "cell_type": "code",
   "execution_count": 16,
   "metadata": {
    "execution": {
     "iopub.execute_input": "2021-03-30T05:58:52.278052Z",
     "iopub.status.busy": "2021-03-30T05:58:52.278052Z",
     "iopub.status.idle": "2021-03-30T05:58:52.292523Z",
     "shell.execute_reply": "2021-03-30T05:58:52.292523Z",
     "shell.execute_reply.started": "2021-03-30T05:58:52.278052Z"
    }
   },
   "outputs": [
    {
     "data": {
      "text/html": [
       "<div>\n",
       "<style scoped>\n",
       "    .dataframe tbody tr th:only-of-type {\n",
       "        vertical-align: middle;\n",
       "    }\n",
       "\n",
       "    .dataframe tbody tr th {\n",
       "        vertical-align: top;\n",
       "    }\n",
       "\n",
       "    .dataframe thead th {\n",
       "        text-align: right;\n",
       "    }\n",
       "</style>\n",
       "<table border=\"1\" class=\"dataframe\">\n",
       "  <thead>\n",
       "    <tr style=\"text-align: right;\">\n",
       "      <th></th>\n",
       "      <th>country</th>\n",
       "      <th>year</th>\n",
       "      <th>gdpPercap</th>\n",
       "    </tr>\n",
       "  </thead>\n",
       "  <tbody>\n",
       "    <tr>\n",
       "      <th>0</th>\n",
       "      <td>Afghanistan</td>\n",
       "      <td>1952</td>\n",
       "      <td>779.445314</td>\n",
       "    </tr>\n",
       "    <tr>\n",
       "      <th>1</th>\n",
       "      <td>Afghanistan</td>\n",
       "      <td>1957</td>\n",
       "      <td>820.853030</td>\n",
       "    </tr>\n",
       "    <tr>\n",
       "      <th>2</th>\n",
       "      <td>Afghanistan</td>\n",
       "      <td>1962</td>\n",
       "      <td>853.100710</td>\n",
       "    </tr>\n",
       "    <tr>\n",
       "      <th>3</th>\n",
       "      <td>Afghanistan</td>\n",
       "      <td>1967</td>\n",
       "      <td>836.197138</td>\n",
       "    </tr>\n",
       "    <tr>\n",
       "      <th>4</th>\n",
       "      <td>Afghanistan</td>\n",
       "      <td>1972</td>\n",
       "      <td>739.981106</td>\n",
       "    </tr>\n",
       "    <tr>\n",
       "      <th>...</th>\n",
       "      <td>...</td>\n",
       "      <td>...</td>\n",
       "      <td>...</td>\n",
       "    </tr>\n",
       "    <tr>\n",
       "      <th>1699</th>\n",
       "      <td>Zimbabwe</td>\n",
       "      <td>1987</td>\n",
       "      <td>706.157306</td>\n",
       "    </tr>\n",
       "    <tr>\n",
       "      <th>1700</th>\n",
       "      <td>Zimbabwe</td>\n",
       "      <td>1992</td>\n",
       "      <td>693.420786</td>\n",
       "    </tr>\n",
       "    <tr>\n",
       "      <th>1701</th>\n",
       "      <td>Zimbabwe</td>\n",
       "      <td>1997</td>\n",
       "      <td>792.449960</td>\n",
       "    </tr>\n",
       "    <tr>\n",
       "      <th>1702</th>\n",
       "      <td>Zimbabwe</td>\n",
       "      <td>2002</td>\n",
       "      <td>672.038623</td>\n",
       "    </tr>\n",
       "    <tr>\n",
       "      <th>1703</th>\n",
       "      <td>Zimbabwe</td>\n",
       "      <td>2007</td>\n",
       "      <td>469.709298</td>\n",
       "    </tr>\n",
       "  </tbody>\n",
       "</table>\n",
       "<p>1704 rows × 3 columns</p>\n",
       "</div>"
      ],
      "text/plain": [
       "          country  year   gdpPercap\n",
       "0     Afghanistan  1952  779.445314\n",
       "1     Afghanistan  1957  820.853030\n",
       "2     Afghanistan  1962  853.100710\n",
       "3     Afghanistan  1967  836.197138\n",
       "4     Afghanistan  1972  739.981106\n",
       "...           ...   ...         ...\n",
       "1699     Zimbabwe  1987  706.157306\n",
       "1700     Zimbabwe  1992  693.420786\n",
       "1701     Zimbabwe  1997  792.449960\n",
       "1702     Zimbabwe  2002  672.038623\n",
       "1703     Zimbabwe  2007  469.709298\n",
       "\n",
       "[1704 rows x 3 columns]"
      ]
     },
     "execution_count": 16,
     "metadata": {},
     "output_type": "execute_result"
    }
   ],
   "source": [
    "gapminder.iloc[:, [0,2,5]]"
   ]
  },
  {
   "cell_type": "markdown",
   "metadata": {},
   "source": [
    "# 최대, 최소값의 index 찾기\n",
    "* **`df.argmin(), df.argmax()`** 메서드 사용"
   ]
  },
  {
   "cell_type": "code",
   "execution_count": 21,
   "metadata": {
    "execution": {
     "iopub.execute_input": "2021-03-30T06:05:50.425178Z",
     "iopub.status.busy": "2021-03-30T06:05:50.425178Z",
     "iopub.status.idle": "2021-03-30T06:05:50.434158Z",
     "shell.execute_reply": "2021-03-30T06:05:50.432160Z",
     "shell.execute_reply.started": "2021-03-30T06:05:50.425178Z"
    }
   },
   "outputs": [
    {
     "name": "stdout",
     "output_type": "stream",
     "text": [
      "334 853\n"
     ]
    }
   ],
   "source": [
    "gdp_min_idx=gapminder['gdpPercap'].argmin()\n",
    "gdp_max_idx=gapminder['gdpPercap'].argmax()\n",
    "print(gdp_min_idx, gdp_max_idx)"
   ]
  },
  {
   "cell_type": "markdown",
   "metadata": {},
   "source": [
    "# 최대, 최소값 찾기\n",
    "* 메서드 사용 시 : **`df.min(), df.max()`**"
   ]
  },
  {
   "cell_type": "code",
   "execution_count": 17,
   "metadata": {
    "execution": {
     "iopub.execute_input": "2021-03-30T06:02:22.186210Z",
     "iopub.status.busy": "2021-03-30T06:02:22.186210Z",
     "iopub.status.idle": "2021-03-30T06:02:22.195187Z",
     "shell.execute_reply": "2021-03-30T06:02:22.195187Z",
     "shell.execute_reply.started": "2021-03-30T06:02:22.186210Z"
    }
   },
   "outputs": [
    {
     "name": "stdout",
     "output_type": "stream",
     "text": [
      "gdpPercap min: 241.16587650000002\n",
      "gdpPercap max: 113523.1329\n"
     ]
    }
   ],
   "source": [
    "# gapminder DF의 1인당 GDP 최소값, 최대값 찾기\n",
    "gdp_min=gapminder['gdpPercap'].min()\n",
    "gdp_max=gapminder['gdpPercap'].max()\n",
    "print('gdpPercap min:', gdp_min)\n",
    "print('gdpPercap max:', gdp_max)"
   ]
  },
  {
   "cell_type": "code",
   "execution_count": 24,
   "metadata": {
    "execution": {
     "iopub.execute_input": "2021-03-30T06:09:30.210318Z",
     "iopub.status.busy": "2021-03-30T06:09:30.209321Z",
     "iopub.status.idle": "2021-03-30T06:09:30.219295Z",
     "shell.execute_reply": "2021-03-30T06:09:30.218297Z",
     "shell.execute_reply.started": "2021-03-30T06:09:30.210318Z"
    }
   },
   "outputs": [
    {
     "data": {
      "text/plain": [
       "(23.599, 82.603)"
      ]
     },
     "execution_count": 24,
     "metadata": {},
     "output_type": "execute_result"
    }
   ],
   "source": [
    "# 평균기대수명의 최대값, 최소값\n",
    "lifeExp_min=gapminder['lifeExp'].min()\n",
    "lifeExp_max=gapminder['lifeExp'].max()\n",
    "lifeExp_min, lifeExp_max"
   ]
  },
  {
   "cell_type": "markdown",
   "metadata": {},
   "source": [
    "# 최대, 최소값인 row 찾기"
   ]
  },
  {
   "cell_type": "code",
   "execution_count": 23,
   "metadata": {
    "execution": {
     "iopub.execute_input": "2021-03-30T06:08:07.496579Z",
     "iopub.status.busy": "2021-03-30T06:08:07.496579Z",
     "iopub.status.idle": "2021-03-30T06:08:07.508548Z",
     "shell.execute_reply": "2021-03-30T06:08:07.507550Z",
     "shell.execute_reply.started": "2021-03-30T06:08:07.496579Z"
    }
   },
   "outputs": [
    {
     "data": {
      "text/html": [
       "<div>\n",
       "<style scoped>\n",
       "    .dataframe tbody tr th:only-of-type {\n",
       "        vertical-align: middle;\n",
       "    }\n",
       "\n",
       "    .dataframe tbody tr th {\n",
       "        vertical-align: top;\n",
       "    }\n",
       "\n",
       "    .dataframe thead th {\n",
       "        text-align: right;\n",
       "    }\n",
       "</style>\n",
       "<table border=\"1\" class=\"dataframe\">\n",
       "  <thead>\n",
       "    <tr style=\"text-align: right;\">\n",
       "      <th></th>\n",
       "      <th>country</th>\n",
       "      <th>continent</th>\n",
       "      <th>year</th>\n",
       "      <th>lifeExp</th>\n",
       "      <th>pop</th>\n",
       "      <th>gdpPercap</th>\n",
       "    </tr>\n",
       "  </thead>\n",
       "  <tbody>\n",
       "    <tr>\n",
       "      <th>334</th>\n",
       "      <td>Congo, Dem. Rep.</td>\n",
       "      <td>Africa</td>\n",
       "      <td>2002</td>\n",
       "      <td>44.966</td>\n",
       "      <td>55379852</td>\n",
       "      <td>241.165877</td>\n",
       "    </tr>\n",
       "    <tr>\n",
       "      <th>853</th>\n",
       "      <td>Kuwait</td>\n",
       "      <td>Asia</td>\n",
       "      <td>1957</td>\n",
       "      <td>58.033</td>\n",
       "      <td>212846</td>\n",
       "      <td>113523.132900</td>\n",
       "    </tr>\n",
       "  </tbody>\n",
       "</table>\n",
       "</div>"
      ],
      "text/plain": [
       "              country continent  year  lifeExp       pop      gdpPercap\n",
       "334  Congo, Dem. Rep.    Africa  2002   44.966  55379852     241.165877\n",
       "853            Kuwait      Asia  1957   58.033    212846  113523.132900"
      ]
     },
     "execution_count": 23,
     "metadata": {},
     "output_type": "execute_result"
    }
   ],
   "source": [
    "# 1d인당 gdp가 최소/최대인 row 찾기\n",
    "gapminder[(gapminder['gdpPercap']==gdp_max)|(gapminder['gdpPercap']==gdp_min)]"
   ]
  },
  {
   "cell_type": "code",
   "execution_count": 22,
   "metadata": {
    "execution": {
     "iopub.execute_input": "2021-03-30T06:06:13.690126Z",
     "iopub.status.busy": "2021-03-30T06:06:13.690126Z",
     "iopub.status.idle": "2021-03-30T06:06:13.702093Z",
     "shell.execute_reply": "2021-03-30T06:06:13.701097Z",
     "shell.execute_reply.started": "2021-03-30T06:06:13.690126Z"
    }
   },
   "outputs": [
    {
     "data": {
      "text/html": [
       "<div>\n",
       "<style scoped>\n",
       "    .dataframe tbody tr th:only-of-type {\n",
       "        vertical-align: middle;\n",
       "    }\n",
       "\n",
       "    .dataframe tbody tr th {\n",
       "        vertical-align: top;\n",
       "    }\n",
       "\n",
       "    .dataframe thead th {\n",
       "        text-align: right;\n",
       "    }\n",
       "</style>\n",
       "<table border=\"1\" class=\"dataframe\">\n",
       "  <thead>\n",
       "    <tr style=\"text-align: right;\">\n",
       "      <th></th>\n",
       "      <th>country</th>\n",
       "      <th>continent</th>\n",
       "      <th>year</th>\n",
       "      <th>lifeExp</th>\n",
       "      <th>pop</th>\n",
       "      <th>gdpPercap</th>\n",
       "    </tr>\n",
       "  </thead>\n",
       "  <tbody>\n",
       "    <tr>\n",
       "      <th>334</th>\n",
       "      <td>Congo, Dem. Rep.</td>\n",
       "      <td>Africa</td>\n",
       "      <td>2002</td>\n",
       "      <td>44.966</td>\n",
       "      <td>55379852</td>\n",
       "      <td>241.165877</td>\n",
       "    </tr>\n",
       "    <tr>\n",
       "      <th>853</th>\n",
       "      <td>Kuwait</td>\n",
       "      <td>Asia</td>\n",
       "      <td>1957</td>\n",
       "      <td>58.033</td>\n",
       "      <td>212846</td>\n",
       "      <td>113523.132900</td>\n",
       "    </tr>\n",
       "  </tbody>\n",
       "</table>\n",
       "</div>"
      ],
      "text/plain": [
       "              country continent  year  lifeExp       pop      gdpPercap\n",
       "334  Congo, Dem. Rep.    Africa  2002   44.966  55379852     241.165877\n",
       "853            Kuwait      Asia  1957   58.033    212846  113523.132900"
      ]
     },
     "execution_count": 22,
     "metadata": {},
     "output_type": "execute_result"
    }
   ],
   "source": [
    "# .argmin(), .argmax() 메서드로 얻은 인덱스를 사용할 시\n",
    "gapminder.iloc[[gdp_min_idx, gdp_max_idx], :]"
   ]
  },
  {
   "cell_type": "code",
   "execution_count": 25,
   "metadata": {
    "execution": {
     "iopub.execute_input": "2021-03-30T06:10:02.474129Z",
     "iopub.status.busy": "2021-03-30T06:10:02.474129Z",
     "iopub.status.idle": "2021-03-30T06:10:02.484659Z",
     "shell.execute_reply": "2021-03-30T06:10:02.484659Z",
     "shell.execute_reply.started": "2021-03-30T06:10:02.474129Z"
    }
   },
   "outputs": [
    {
     "data": {
      "text/html": [
       "<div>\n",
       "<style scoped>\n",
       "    .dataframe tbody tr th:only-of-type {\n",
       "        vertical-align: middle;\n",
       "    }\n",
       "\n",
       "    .dataframe tbody tr th {\n",
       "        vertical-align: top;\n",
       "    }\n",
       "\n",
       "    .dataframe thead th {\n",
       "        text-align: right;\n",
       "    }\n",
       "</style>\n",
       "<table border=\"1\" class=\"dataframe\">\n",
       "  <thead>\n",
       "    <tr style=\"text-align: right;\">\n",
       "      <th></th>\n",
       "      <th>country</th>\n",
       "      <th>continent</th>\n",
       "      <th>year</th>\n",
       "      <th>lifeExp</th>\n",
       "      <th>pop</th>\n",
       "      <th>gdpPercap</th>\n",
       "    </tr>\n",
       "  </thead>\n",
       "  <tbody>\n",
       "    <tr>\n",
       "      <th>803</th>\n",
       "      <td>Japan</td>\n",
       "      <td>Asia</td>\n",
       "      <td>2007</td>\n",
       "      <td>82.603</td>\n",
       "      <td>127467972</td>\n",
       "      <td>31656.068060</td>\n",
       "    </tr>\n",
       "    <tr>\n",
       "      <th>1292</th>\n",
       "      <td>Rwanda</td>\n",
       "      <td>Africa</td>\n",
       "      <td>1992</td>\n",
       "      <td>23.599</td>\n",
       "      <td>7290203</td>\n",
       "      <td>737.068595</td>\n",
       "    </tr>\n",
       "  </tbody>\n",
       "</table>\n",
       "</div>"
      ],
      "text/plain": [
       "     country continent  year  lifeExp        pop     gdpPercap\n",
       "803    Japan      Asia  2007   82.603  127467972  31656.068060\n",
       "1292  Rwanda    Africa  1992   23.599    7290203    737.068595"
      ]
     },
     "execution_count": 25,
     "metadata": {},
     "output_type": "execute_result"
    }
   ],
   "source": [
    "# 평균기대수명이 최대/최소인 row 찾기\n",
    "gapminder[(gapminder['lifeExp']==lifeExp_min)|(gapminder['lifeExp']==lifeExp_max)]"
   ]
  },
  {
   "cell_type": "markdown",
   "metadata": {},
   "source": [
    "# 그룹별 기술통계량 출력"
   ]
  },
  {
   "cell_type": "markdown",
   "metadata": {},
   "source": [
    "## 연도별 lifeExp 평균"
   ]
  },
  {
   "cell_type": "code",
   "execution_count": 26,
   "metadata": {
    "execution": {
     "iopub.execute_input": "2021-03-30T06:11:43.975366Z",
     "iopub.status.busy": "2021-03-30T06:11:43.974369Z",
     "iopub.status.idle": "2021-03-30T06:11:44.003292Z",
     "shell.execute_reply": "2021-03-30T06:11:44.002294Z",
     "shell.execute_reply.started": "2021-03-30T06:11:43.975366Z"
    }
   },
   "outputs": [
    {
     "data": {
      "text/plain": [
       "[49.05761971830987,\n",
       " 51.50740112676054,\n",
       " 53.60924901408449,\n",
       " 55.67828957746479,\n",
       " 57.64738647887325,\n",
       " 59.57015746478873,\n",
       " 61.53319718309858,\n",
       " 63.21261267605636,\n",
       " 64.16033802816901,\n",
       " 65.01467605633805,\n",
       " 65.69492253521126,\n",
       " 67.00742253521126]"
      ]
     },
     "execution_count": 26,
     "metadata": {},
     "output_type": "execute_result"
    }
   ],
   "source": [
    "# 연도별 lifeExp 평균 출력하기\n",
    "lifeExp_by_year=[] #연도별 기대수명을 저장할 리스트\n",
    "\n",
    "years=gapminder['year'].unique() #중복되지 않는 year 값들\n",
    "\n",
    "for y in years:\n",
    "    subset=gapminder[gapminder['year']==y] #각 연도 부분집합\n",
    "    avg=subset['lifeExp'].mean()\n",
    "    lifeExp_by_year.append(avg)\n",
    "\n",
    "lifeExp_by_year"
   ]
  },
  {
   "cell_type": "code",
   "execution_count": 27,
   "metadata": {
    "execution": {
     "iopub.execute_input": "2021-03-30T06:12:09.770902Z",
     "iopub.status.busy": "2021-03-30T06:12:09.769905Z",
     "iopub.status.idle": "2021-03-30T06:12:09.779880Z",
     "shell.execute_reply": "2021-03-30T06:12:09.778881Z",
     "shell.execute_reply.started": "2021-03-30T06:12:09.770902Z"
    }
   },
   "outputs": [
    {
     "data": {
      "text/plain": [
       "1952    49.057620\n",
       "1957    51.507401\n",
       "1962    53.609249\n",
       "1967    55.678290\n",
       "1972    57.647386\n",
       "1977    59.570157\n",
       "1982    61.533197\n",
       "1987    63.212613\n",
       "1992    64.160338\n",
       "1997    65.014676\n",
       "2002    65.694923\n",
       "2007    67.007423\n",
       "dtype: float64"
      ]
     },
     "execution_count": 27,
     "metadata": {},
     "output_type": "execute_result"
    }
   ],
   "source": [
    "s=pd.Series(data=lifeExp_by_year, index=years)\n",
    "s"
   ]
  },
  {
   "cell_type": "markdown",
   "metadata": {},
   "source": [
    "## 연도별 gdpPercap 평균"
   ]
  },
  {
   "cell_type": "code",
   "execution_count": 31,
   "metadata": {
    "execution": {
     "iopub.execute_input": "2021-03-30T06:16:14.133628Z",
     "iopub.status.busy": "2021-03-30T06:16:14.133628Z",
     "iopub.status.idle": "2021-03-30T06:16:14.154381Z",
     "shell.execute_reply": "2021-03-30T06:16:14.152387Z",
     "shell.execute_reply.started": "2021-03-30T06:16:14.133628Z"
    }
   },
   "outputs": [
    {
     "data": {
      "text/plain": [
       "1952     3725.276046\n",
       "1957     4299.408345\n",
       "1962     4725.812342\n",
       "1967     5483.653047\n",
       "1972     6770.082815\n",
       "1977     7313.166421\n",
       "1982     7518.901673\n",
       "1987     7900.920218\n",
       "1992     8158.608521\n",
       "1997     9090.175363\n",
       "2002     9917.848365\n",
       "2007    11680.071820\n",
       "dtype: float64"
      ]
     },
     "execution_count": 31,
     "metadata": {},
     "output_type": "execute_result"
    }
   ],
   "source": [
    "gdp_by_year=[] #연도별 gdpPercap 평균을 저장할 리스트\n",
    "years=gapminder['year'].unique()\n",
    "for y in years:\n",
    "    subset=gapminder[gapminder['year']==y] #연도별 부분집합\n",
    "    avg=subset['gdpPercap'].mean()\n",
    "    gdp_by_year.append(avg)\n",
    "\n",
    "g=pd.Series(data=gdp_by_year, index=years)\n",
    "g"
   ]
  },
  {
   "cell_type": "markdown",
   "metadata": {},
   "source": [
    "## 연도별 전세계 인구 출력"
   ]
  },
  {
   "cell_type": "code",
   "execution_count": 35,
   "metadata": {
    "execution": {
     "iopub.execute_input": "2021-03-30T06:20:04.452251Z",
     "iopub.status.busy": "2021-03-30T06:20:04.452251Z",
     "iopub.status.idle": "2021-03-30T06:20:04.475797Z",
     "shell.execute_reply": "2021-03-30T06:20:04.474799Z",
     "shell.execute_reply.started": "2021-03-30T06:20:04.452251Z"
    }
   },
   "outputs": [
    {
     "data": {
      "text/plain": [
       "1952    2406957150\n",
       "1957    2664404580\n",
       "1962    2899782974\n",
       "1967    3217478384\n",
       "1972    3576977158\n",
       "1977    3930045807\n",
       "1982    4289436840\n",
       "1987    4691477418\n",
       "1992    5110710260\n",
       "1997    5515204472\n",
       "2002    5886977579\n",
       "2007    6251013179\n",
       "dtype: int64"
      ]
     },
     "execution_count": 35,
     "metadata": {},
     "output_type": "execute_result"
    }
   ],
   "source": [
    "# 연도별 전세계 인구\n",
    "pop_by_year=[] #연도별 전세계 인구를 저장할 리스트\n",
    "for y in years:\n",
    "    subset=gapminder[gapminder['year']==y]\n",
    "    pop=subset['pop'].sum()\n",
    "    pop_by_year.append(pop)\n",
    "\n",
    "p=pd.Series(data=pop_by_year, index=years)\n",
    "p"
   ]
  },
  {
   "cell_type": "markdown",
   "metadata": {},
   "source": [
    "# 시각화 : 선 그래프"
   ]
  },
  {
   "cell_type": "code",
   "execution_count": 28,
   "metadata": {
    "execution": {
     "iopub.execute_input": "2021-03-30T06:12:48.135836Z",
     "iopub.status.busy": "2021-03-30T06:12:48.134838Z",
     "iopub.status.idle": "2021-03-30T06:12:48.998300Z",
     "shell.execute_reply": "2021-03-30T06:12:48.997307Z",
     "shell.execute_reply.started": "2021-03-30T06:12:48.135836Z"
    }
   },
   "outputs": [],
   "source": [
    "import matplotlib.pyplot as plt\n",
    "import seaborn as sns"
   ]
  },
  {
   "cell_type": "markdown",
   "metadata": {},
   "source": [
    "## matplotlib 사용 시"
   ]
  },
  {
   "cell_type": "code",
   "execution_count": 29,
   "metadata": {
    "execution": {
     "iopub.execute_input": "2021-03-30T06:13:26.421548Z",
     "iopub.status.busy": "2021-03-30T06:13:26.420551Z",
     "iopub.status.idle": "2021-03-30T06:13:26.762636Z",
     "shell.execute_reply": "2021-03-30T06:13:26.761651Z",
     "shell.execute_reply.started": "2021-03-30T06:13:26.421548Z"
    }
   },
   "outputs": [
    {
     "data": {
      "image/png": "[encoded data removed]",
      "text/plain": [
       "<Figure size 432x288 with 1 Axes>"
      ]
     },
     "metadata": {
      "needs_background": "light"
     },
     "output_type": "display_data"
    }
   ],
   "source": [
    "# 연도별 lifeExp 평균 시각화\n",
    "plt.plot(s.index, s.values, 'o-')\n",
    "plt.grid()\n",
    "plt.xlabel('year')\n",
    "plt.ylabel('lifeExp')\n",
    "plt.show()"
   ]
  },
  {
   "cell_type": "code",
   "execution_count": 32,
   "metadata": {
    "execution": {
     "iopub.execute_input": "2021-03-30T06:17:11.397665Z",
     "iopub.status.busy": "2021-03-30T06:17:11.396667Z",
     "iopub.status.idle": "2021-03-30T06:17:11.609099Z",
     "shell.execute_reply": "2021-03-30T06:17:11.609099Z",
     "shell.execute_reply.started": "2021-03-30T06:17:11.396667Z"
    }
   },
   "outputs": [
    {
     "data": {
      "image/png": "[encoded data removed]",
      "text/plain": [
       "<Figure size 432x288 with 1 Axes>"
      ]
     },
     "metadata": {
      "needs_background": "light"
     },
     "output_type": "display_data"
    }
   ],
   "source": [
    "# 연도별 gdpPercap 평균 시각화\n",
    "plt.plot(g.index, g.values, 'o-')\n",
    "plt.grid()\n",
    "plt.xlabel('year')\n",
    "plt.ylabel('GDP per capita')\n",
    "plt.show()"
   ]
  },
  {
   "cell_type": "code",
   "execution_count": 36,
   "metadata": {
    "execution": {
     "iopub.execute_input": "2021-03-30T06:20:44.732766Z",
     "iopub.status.busy": "2021-03-30T06:20:44.731769Z",
     "iopub.status.idle": "2021-03-30T06:20:44.985481Z",
     "shell.execute_reply": "2021-03-30T06:20:44.984484Z",
     "shell.execute_reply.started": "2021-03-30T06:20:44.732766Z"
    }
   },
   "outputs": [
    {
     "data": {
      "image/png": "[encoded data removed]",
      "text/plain": [
       "<Figure size 432x288 with 1 Axes>"
      ]
     },
     "metadata": {
      "needs_background": "light"
     },
     "output_type": "display_data"
    }
   ],
   "source": [
    "# 연도별 전세계 인구 시각화\n",
    "plt.plot(p.index, p.values, 'ro-')\n",
    "plt.grid()\n",
    "plt.xlabel('year')\n",
    "plt.ylabel('population')\n",
    "plt.show()"
   ]
  },
  {
   "cell_type": "code",
   "execution_count": 39,
   "metadata": {
    "execution": {
     "iopub.execute_input": "2021-03-30T06:27:09.609989Z",
     "iopub.status.busy": "2021-03-30T06:27:09.608995Z",
     "iopub.status.idle": "2021-03-30T06:27:09.941102Z",
     "shell.execute_reply": "2021-03-30T06:27:09.940104Z",
     "shell.execute_reply.started": "2021-03-30T06:27:09.609989Z"
    }
   },
   "outputs": [
    {
     "data": {
      "image/png": "[encoded data removed]",
      "text/plain": [
       "<Figure size 432x288 with 1 Axes>"
      ]
     },
     "metadata": {
      "needs_background": "light"
     },
     "output_type": "display_data"
    }
   ],
   "source": [
    "# 연도별, 대륙별 전세계 인구 출력\n",
    "continents=gapminder['continent'].unique()\n",
    "years=gapminder['year'].unique()\n",
    "\n",
    "for c in continents:\n",
    "    gapminder_by_continent=gapminder[gapminder['continent']==c] # 대륙별 부분집합 생성\n",
    "    total_pop=[] #해당 대륙의 인구 저장 리스트\n",
    "    for y in years:\n",
    "        subset=gapminder_by_continent[gapminder_by_continent['year']==y] #해당 대륙의 연도별 부분집합\n",
    "        sumpop=subset['pop'].sum()\n",
    "        total_pop.append(sumpop)\n",
    "    s=pd.Series(data=total_pop, index=years)\n",
    "    plt.plot(s.index, s.values, 'o-', label=c)\n",
    "\n",
    "plt.legend()\n",
    "plt.xlabel('year')\n",
    "plt.ylabel('population')\n",
    "plt.show()"
   ]
  },
  {
   "cell_type": "markdown",
   "metadata": {},
   "source": [
    "## seaborn 사용 시"
   ]
  },
  {
   "cell_type": "code",
   "execution_count": 30,
   "metadata": {
    "execution": {
     "iopub.execute_input": "2021-03-30T06:14:00.957782Z",
     "iopub.status.busy": "2021-03-30T06:14:00.957782Z",
     "iopub.status.idle": "2021-03-30T06:14:01.696452Z",
     "shell.execute_reply": "2021-03-30T06:14:01.695453Z",
     "shell.execute_reply.started": "2021-03-30T06:14:00.957782Z"
    }
   },
   "outputs": [
    {
     "data": {
      "image/png": "[encoded data removed]",
      "text/plain": [
       "<Figure size 432x288 with 1 Axes>"
      ]
     },
     "metadata": {
      "needs_background": "light"
     },
     "output_type": "display_data"
    }
   ],
   "source": [
    "# 평균 기대수명의 시각화\n",
    "sns.lineplot(data=gapminder, x='year', y='lifeExp',\n",
    "            marker='o', err_style=None)\n",
    "plt.grid()\n",
    "plt.show()"
   ]
  },
  {
   "cell_type": "code",
   "execution_count": 37,
   "metadata": {
    "execution": {
     "iopub.execute_input": "2021-03-30T06:20:50.144036Z",
     "iopub.status.busy": "2021-03-30T06:20:50.144036Z",
     "iopub.status.idle": "2021-03-30T06:20:50.783842Z",
     "shell.execute_reply": "2021-03-30T06:20:50.783842Z",
     "shell.execute_reply.started": "2021-03-30T06:20:50.144036Z"
    }
   },
   "outputs": [
    {
     "data": {
      "image/png": "[encoded data removed]",
      "text/plain": [
       "<Figure size 432x288 with 1 Axes>"
      ]
     },
     "metadata": {
      "needs_background": "light"
     },
     "output_type": "display_data"
    }
   ],
   "source": [
    "# 평균 gdpPercap 시각화\n",
    "sns.lineplot(data=gapminder, x='year', y='gdpPercap',\n",
    "            marker='o', err_style=None)\n",
    "plt.grid()\n",
    "plt.show()"
   ]
  },
  {
   "cell_type": "code",
   "execution_count": 38,
   "metadata": {
    "execution": {
     "iopub.execute_input": "2021-03-30T06:21:32.538379Z",
     "iopub.status.busy": "2021-03-30T06:21:32.537382Z",
     "iopub.status.idle": "2021-03-30T06:21:33.080969Z",
     "shell.execute_reply": "2021-03-30T06:21:33.079970Z",
     "shell.execute_reply.started": "2021-03-30T06:21:32.538379Z"
    }
   },
   "outputs": [
    {
     "data": {
      "image/png": "[encoded data removed]",
      "text/plain": [
       "<Figure size 432x288 with 1 Axes>"
      ]
     },
     "metadata": {
      "needs_background": "light"
     },
     "output_type": "display_data"
    }
   ],
   "source": [
    "# 연도별 인구 시각화\n",
    "sns.lineplot(data=gapminder, x='year', y='pop',\n",
    "            estimator='sum', marker='o', color='red', err_style=None)\n",
    "plt.grid()\n",
    "plt.show()"
   ]
  },
  {
   "cell_type": "code",
   "execution_count": 40,
   "metadata": {
    "execution": {
     "iopub.execute_input": "2021-03-30T06:27:52.380798Z",
     "iopub.status.busy": "2021-03-30T06:27:52.380798Z",
     "iopub.status.idle": "2021-03-30T06:27:53.819471Z",
     "shell.execute_reply": "2021-03-30T06:27:53.819471Z",
     "shell.execute_reply.started": "2021-03-30T06:27:52.380798Z"
    }
   },
   "outputs": [
    {
     "data": {
      "image/png": "[encoded data removed]",
      "text/plain": [
       "<Figure size 432x288 with 1 Axes>"
      ]
     },
     "metadata": {
      "needs_background": "light"
     },
     "output_type": "display_data"
    }
   ],
   "source": [
    "# 연도별 대륙별 전세계 인구 시각화\n",
    "sns.lineplot(data=gapminder, x='year', y='pop', hue='continent',\n",
    "            estimator='sum', marker='o', err_style=None)\n",
    "plt.show()"
   ]
  },
  {
   "cell_type": "markdown",
   "metadata": {},
   "source": [
    "# 대한민국 레코드만 선택하기"
   ]
  },
  {
   "cell_type": "code",
   "execution_count": 42,
   "metadata": {
    "execution": {
     "iopub.execute_input": "2021-03-30T06:29:11.309662Z",
     "iopub.status.busy": "2021-03-30T06:29:11.309662Z",
     "iopub.status.idle": "2021-03-30T06:29:11.322102Z",
     "shell.execute_reply": "2021-03-30T06:29:11.321590Z",
     "shell.execute_reply.started": "2021-03-30T06:29:11.309662Z"
    }
   },
   "outputs": [
    {
     "data": {
      "text/html": [
       "<div>\n",
       "<style scoped>\n",
       "    .dataframe tbody tr th:only-of-type {\n",
       "        vertical-align: middle;\n",
       "    }\n",
       "\n",
       "    .dataframe tbody tr th {\n",
       "        vertical-align: top;\n",
       "    }\n",
       "\n",
       "    .dataframe thead th {\n",
       "        text-align: right;\n",
       "    }\n",
       "</style>\n",
       "<table border=\"1\" class=\"dataframe\">\n",
       "  <thead>\n",
       "    <tr style=\"text-align: right;\">\n",
       "      <th></th>\n",
       "      <th>country</th>\n",
       "      <th>continent</th>\n",
       "      <th>year</th>\n",
       "      <th>lifeExp</th>\n",
       "      <th>pop</th>\n",
       "      <th>gdpPercap</th>\n",
       "    </tr>\n",
       "  </thead>\n",
       "  <tbody>\n",
       "    <tr>\n",
       "      <th>840</th>\n",
       "      <td>Korea, Rep.</td>\n",
       "      <td>Asia</td>\n",
       "      <td>1952</td>\n",
       "      <td>47.453</td>\n",
       "      <td>20947571</td>\n",
       "      <td>1030.592226</td>\n",
       "    </tr>\n",
       "    <tr>\n",
       "      <th>841</th>\n",
       "      <td>Korea, Rep.</td>\n",
       "      <td>Asia</td>\n",
       "      <td>1957</td>\n",
       "      <td>52.681</td>\n",
       "      <td>22611552</td>\n",
       "      <td>1487.593537</td>\n",
       "    </tr>\n",
       "    <tr>\n",
       "      <th>842</th>\n",
       "      <td>Korea, Rep.</td>\n",
       "      <td>Asia</td>\n",
       "      <td>1962</td>\n",
       "      <td>55.292</td>\n",
       "      <td>26420307</td>\n",
       "      <td>1536.344387</td>\n",
       "    </tr>\n",
       "    <tr>\n",
       "      <th>843</th>\n",
       "      <td>Korea, Rep.</td>\n",
       "      <td>Asia</td>\n",
       "      <td>1967</td>\n",
       "      <td>57.716</td>\n",
       "      <td>30131000</td>\n",
       "      <td>2029.228142</td>\n",
       "    </tr>\n",
       "    <tr>\n",
       "      <th>844</th>\n",
       "      <td>Korea, Rep.</td>\n",
       "      <td>Asia</td>\n",
       "      <td>1972</td>\n",
       "      <td>62.612</td>\n",
       "      <td>33505000</td>\n",
       "      <td>3030.876650</td>\n",
       "    </tr>\n",
       "    <tr>\n",
       "      <th>845</th>\n",
       "      <td>Korea, Rep.</td>\n",
       "      <td>Asia</td>\n",
       "      <td>1977</td>\n",
       "      <td>64.766</td>\n",
       "      <td>36436000</td>\n",
       "      <td>4657.221020</td>\n",
       "    </tr>\n",
       "    <tr>\n",
       "      <th>846</th>\n",
       "      <td>Korea, Rep.</td>\n",
       "      <td>Asia</td>\n",
       "      <td>1982</td>\n",
       "      <td>67.123</td>\n",
       "      <td>39326000</td>\n",
       "      <td>5622.942464</td>\n",
       "    </tr>\n",
       "    <tr>\n",
       "      <th>847</th>\n",
       "      <td>Korea, Rep.</td>\n",
       "      <td>Asia</td>\n",
       "      <td>1987</td>\n",
       "      <td>69.810</td>\n",
       "      <td>41622000</td>\n",
       "      <td>8533.088805</td>\n",
       "    </tr>\n",
       "    <tr>\n",
       "      <th>848</th>\n",
       "      <td>Korea, Rep.</td>\n",
       "      <td>Asia</td>\n",
       "      <td>1992</td>\n",
       "      <td>72.244</td>\n",
       "      <td>43805450</td>\n",
       "      <td>12104.278720</td>\n",
       "    </tr>\n",
       "    <tr>\n",
       "      <th>849</th>\n",
       "      <td>Korea, Rep.</td>\n",
       "      <td>Asia</td>\n",
       "      <td>1997</td>\n",
       "      <td>74.647</td>\n",
       "      <td>46173816</td>\n",
       "      <td>15993.527960</td>\n",
       "    </tr>\n",
       "    <tr>\n",
       "      <th>850</th>\n",
       "      <td>Korea, Rep.</td>\n",
       "      <td>Asia</td>\n",
       "      <td>2002</td>\n",
       "      <td>77.045</td>\n",
       "      <td>47969150</td>\n",
       "      <td>19233.988180</td>\n",
       "    </tr>\n",
       "    <tr>\n",
       "      <th>851</th>\n",
       "      <td>Korea, Rep.</td>\n",
       "      <td>Asia</td>\n",
       "      <td>2007</td>\n",
       "      <td>78.623</td>\n",
       "      <td>49044790</td>\n",
       "      <td>23348.139730</td>\n",
       "    </tr>\n",
       "  </tbody>\n",
       "</table>\n",
       "</div>"
      ],
      "text/plain": [
       "         country continent  year  lifeExp       pop     gdpPercap\n",
       "840  Korea, Rep.      Asia  1952   47.453  20947571   1030.592226\n",
       "841  Korea, Rep.      Asia  1957   52.681  22611552   1487.593537\n",
       "842  Korea, Rep.      Asia  1962   55.292  26420307   1536.344387\n",
       "843  Korea, Rep.      Asia  1967   57.716  30131000   2029.228142\n",
       "844  Korea, Rep.      Asia  1972   62.612  33505000   3030.876650\n",
       "845  Korea, Rep.      Asia  1977   64.766  36436000   4657.221020\n",
       "846  Korea, Rep.      Asia  1982   67.123  39326000   5622.942464\n",
       "847  Korea, Rep.      Asia  1987   69.810  41622000   8533.088805\n",
       "848  Korea, Rep.      Asia  1992   72.244  43805450  12104.278720\n",
       "849  Korea, Rep.      Asia  1997   74.647  46173816  15993.527960\n",
       "850  Korea, Rep.      Asia  2002   77.045  47969150  19233.988180\n",
       "851  Korea, Rep.      Asia  2007   78.623  49044790  23348.139730"
      ]
     },
     "execution_count": 42,
     "metadata": {},
     "output_type": "execute_result"
    }
   ],
   "source": [
    "gapminder[gapminder['country']=='Korea, Rep.']"
   ]
  },
  {
   "cell_type": "markdown",
   "metadata": {},
   "source": [
    "## 문자열을 원소로 갖는 pd.Series 객체에 문자열 메서드를 각 원소에 모두 적용하기"
   ]
  },
  {
   "cell_type": "code",
   "execution_count": 43,
   "metadata": {
    "execution": {
     "iopub.execute_input": "2021-03-30T06:30:05.062780Z",
     "iopub.status.busy": "2021-03-30T06:30:05.062780Z",
     "iopub.status.idle": "2021-03-30T06:30:05.075745Z",
     "shell.execute_reply": "2021-03-30T06:30:05.074747Z",
     "shell.execute_reply.started": "2021-03-30T06:30:05.062780Z"
    }
   },
   "outputs": [
    {
     "data": {
      "text/plain": [
       "0       afghanistan\n",
       "1       afghanistan\n",
       "2       afghanistan\n",
       "3       afghanistan\n",
       "4       afghanistan\n",
       "           ...     \n",
       "1699       zimbabwe\n",
       "1700       zimbabwe\n",
       "1701       zimbabwe\n",
       "1702       zimbabwe\n",
       "1703       zimbabwe\n",
       "Name: country, Length: 1704, dtype: object"
      ]
     },
     "execution_count": 43,
     "metadata": {},
     "output_type": "execute_result"
    }
   ],
   "source": [
    "# 모든 원소를 소문자로 만들기\n",
    "gapminder['country'].str.lower() "
   ]
  },
  {
   "cell_type": "code",
   "execution_count": 44,
   "metadata": {
    "execution": {
     "iopub.execute_input": "2021-03-30T06:30:33.742923Z",
     "iopub.status.busy": "2021-03-30T06:30:33.742923Z",
     "iopub.status.idle": "2021-03-30T06:30:33.770847Z",
     "shell.execute_reply": "2021-03-30T06:30:33.768866Z",
     "shell.execute_reply.started": "2021-03-30T06:30:33.742923Z"
    }
   },
   "outputs": [
    {
     "data": {
      "text/html": [
       "<div>\n",
       "<style scoped>\n",
       "    .dataframe tbody tr th:only-of-type {\n",
       "        vertical-align: middle;\n",
       "    }\n",
       "\n",
       "    .dataframe tbody tr th {\n",
       "        vertical-align: top;\n",
       "    }\n",
       "\n",
       "    .dataframe thead th {\n",
       "        text-align: right;\n",
       "    }\n",
       "</style>\n",
       "<table border=\"1\" class=\"dataframe\">\n",
       "  <thead>\n",
       "    <tr style=\"text-align: right;\">\n",
       "      <th></th>\n",
       "      <th>country</th>\n",
       "      <th>continent</th>\n",
       "      <th>year</th>\n",
       "      <th>lifeExp</th>\n",
       "      <th>pop</th>\n",
       "      <th>gdpPercap</th>\n",
       "    </tr>\n",
       "  </thead>\n",
       "  <tbody>\n",
       "    <tr>\n",
       "      <th>840</th>\n",
       "      <td>Korea, Rep.</td>\n",
       "      <td>Asia</td>\n",
       "      <td>1952</td>\n",
       "      <td>47.453</td>\n",
       "      <td>20947571</td>\n",
       "      <td>1030.592226</td>\n",
       "    </tr>\n",
       "    <tr>\n",
       "      <th>841</th>\n",
       "      <td>Korea, Rep.</td>\n",
       "      <td>Asia</td>\n",
       "      <td>1957</td>\n",
       "      <td>52.681</td>\n",
       "      <td>22611552</td>\n",
       "      <td>1487.593537</td>\n",
       "    </tr>\n",
       "    <tr>\n",
       "      <th>842</th>\n",
       "      <td>Korea, Rep.</td>\n",
       "      <td>Asia</td>\n",
       "      <td>1962</td>\n",
       "      <td>55.292</td>\n",
       "      <td>26420307</td>\n",
       "      <td>1536.344387</td>\n",
       "    </tr>\n",
       "    <tr>\n",
       "      <th>843</th>\n",
       "      <td>Korea, Rep.</td>\n",
       "      <td>Asia</td>\n",
       "      <td>1967</td>\n",
       "      <td>57.716</td>\n",
       "      <td>30131000</td>\n",
       "      <td>2029.228142</td>\n",
       "    </tr>\n",
       "    <tr>\n",
       "      <th>844</th>\n",
       "      <td>Korea, Rep.</td>\n",
       "      <td>Asia</td>\n",
       "      <td>1972</td>\n",
       "      <td>62.612</td>\n",
       "      <td>33505000</td>\n",
       "      <td>3030.876650</td>\n",
       "    </tr>\n",
       "    <tr>\n",
       "      <th>845</th>\n",
       "      <td>Korea, Rep.</td>\n",
       "      <td>Asia</td>\n",
       "      <td>1977</td>\n",
       "      <td>64.766</td>\n",
       "      <td>36436000</td>\n",
       "      <td>4657.221020</td>\n",
       "    </tr>\n",
       "    <tr>\n",
       "      <th>846</th>\n",
       "      <td>Korea, Rep.</td>\n",
       "      <td>Asia</td>\n",
       "      <td>1982</td>\n",
       "      <td>67.123</td>\n",
       "      <td>39326000</td>\n",
       "      <td>5622.942464</td>\n",
       "    </tr>\n",
       "    <tr>\n",
       "      <th>847</th>\n",
       "      <td>Korea, Rep.</td>\n",
       "      <td>Asia</td>\n",
       "      <td>1987</td>\n",
       "      <td>69.810</td>\n",
       "      <td>41622000</td>\n",
       "      <td>8533.088805</td>\n",
       "    </tr>\n",
       "    <tr>\n",
       "      <th>848</th>\n",
       "      <td>Korea, Rep.</td>\n",
       "      <td>Asia</td>\n",
       "      <td>1992</td>\n",
       "      <td>72.244</td>\n",
       "      <td>43805450</td>\n",
       "      <td>12104.278720</td>\n",
       "    </tr>\n",
       "    <tr>\n",
       "      <th>849</th>\n",
       "      <td>Korea, Rep.</td>\n",
       "      <td>Asia</td>\n",
       "      <td>1997</td>\n",
       "      <td>74.647</td>\n",
       "      <td>46173816</td>\n",
       "      <td>15993.527960</td>\n",
       "    </tr>\n",
       "    <tr>\n",
       "      <th>850</th>\n",
       "      <td>Korea, Rep.</td>\n",
       "      <td>Asia</td>\n",
       "      <td>2002</td>\n",
       "      <td>77.045</td>\n",
       "      <td>47969150</td>\n",
       "      <td>19233.988180</td>\n",
       "    </tr>\n",
       "    <tr>\n",
       "      <th>851</th>\n",
       "      <td>Korea, Rep.</td>\n",
       "      <td>Asia</td>\n",
       "      <td>2007</td>\n",
       "      <td>78.623</td>\n",
       "      <td>49044790</td>\n",
       "      <td>23348.139730</td>\n",
       "    </tr>\n",
       "  </tbody>\n",
       "</table>\n",
       "</div>"
      ],
      "text/plain": [
       "         country continent  year  lifeExp       pop     gdpPercap\n",
       "840  Korea, Rep.      Asia  1952   47.453  20947571   1030.592226\n",
       "841  Korea, Rep.      Asia  1957   52.681  22611552   1487.593537\n",
       "842  Korea, Rep.      Asia  1962   55.292  26420307   1536.344387\n",
       "843  Korea, Rep.      Asia  1967   57.716  30131000   2029.228142\n",
       "844  Korea, Rep.      Asia  1972   62.612  33505000   3030.876650\n",
       "845  Korea, Rep.      Asia  1977   64.766  36436000   4657.221020\n",
       "846  Korea, Rep.      Asia  1982   67.123  39326000   5622.942464\n",
       "847  Korea, Rep.      Asia  1987   69.810  41622000   8533.088805\n",
       "848  Korea, Rep.      Asia  1992   72.244  43805450  12104.278720\n",
       "849  Korea, Rep.      Asia  1997   74.647  46173816  15993.527960\n",
       "850  Korea, Rep.      Asia  2002   77.045  47969150  19233.988180\n",
       "851  Korea, Rep.      Asia  2007   78.623  49044790  23348.139730"
      ]
     },
     "execution_count": 44,
     "metadata": {},
     "output_type": "execute_result"
    }
   ],
   "source": [
    "gapminder[gapminder['country'].str.lower()=='korea, rep.']"
   ]
  },
  {
   "cell_type": "code",
   "execution_count": 48,
   "metadata": {
    "execution": {
     "iopub.execute_input": "2021-03-30T06:32:16.273148Z",
     "iopub.status.busy": "2021-03-30T06:32:16.273148Z",
     "iopub.status.idle": "2021-03-30T06:32:16.292147Z",
     "shell.execute_reply": "2021-03-30T06:32:16.291167Z",
     "shell.execute_reply.started": "2021-03-30T06:32:16.273148Z"
    }
   },
   "outputs": [
    {
     "data": {
      "text/html": [
       "<div>\n",
       "<style scoped>\n",
       "    .dataframe tbody tr th:only-of-type {\n",
       "        vertical-align: middle;\n",
       "    }\n",
       "\n",
       "    .dataframe tbody tr th {\n",
       "        vertical-align: top;\n",
       "    }\n",
       "\n",
       "    .dataframe thead th {\n",
       "        text-align: right;\n",
       "    }\n",
       "</style>\n",
       "<table border=\"1\" class=\"dataframe\">\n",
       "  <thead>\n",
       "    <tr style=\"text-align: right;\">\n",
       "      <th></th>\n",
       "      <th>country</th>\n",
       "      <th>continent</th>\n",
       "      <th>year</th>\n",
       "      <th>lifeExp</th>\n",
       "      <th>pop</th>\n",
       "      <th>gdpPercap</th>\n",
       "    </tr>\n",
       "  </thead>\n",
       "  <tbody>\n",
       "    <tr>\n",
       "      <th>828</th>\n",
       "      <td>Korea, Dem. Rep.</td>\n",
       "      <td>Asia</td>\n",
       "      <td>1952</td>\n",
       "      <td>50.056</td>\n",
       "      <td>8865488</td>\n",
       "      <td>1088.277758</td>\n",
       "    </tr>\n",
       "    <tr>\n",
       "      <th>829</th>\n",
       "      <td>Korea, Dem. Rep.</td>\n",
       "      <td>Asia</td>\n",
       "      <td>1957</td>\n",
       "      <td>54.081</td>\n",
       "      <td>9411381</td>\n",
       "      <td>1571.134655</td>\n",
       "    </tr>\n",
       "    <tr>\n",
       "      <th>830</th>\n",
       "      <td>Korea, Dem. Rep.</td>\n",
       "      <td>Asia</td>\n",
       "      <td>1962</td>\n",
       "      <td>56.656</td>\n",
       "      <td>10917494</td>\n",
       "      <td>1621.693598</td>\n",
       "    </tr>\n",
       "    <tr>\n",
       "      <th>831</th>\n",
       "      <td>Korea, Dem. Rep.</td>\n",
       "      <td>Asia</td>\n",
       "      <td>1967</td>\n",
       "      <td>59.942</td>\n",
       "      <td>12617009</td>\n",
       "      <td>2143.540609</td>\n",
       "    </tr>\n",
       "    <tr>\n",
       "      <th>832</th>\n",
       "      <td>Korea, Dem. Rep.</td>\n",
       "      <td>Asia</td>\n",
       "      <td>1972</td>\n",
       "      <td>63.983</td>\n",
       "      <td>14781241</td>\n",
       "      <td>3701.621503</td>\n",
       "    </tr>\n",
       "    <tr>\n",
       "      <th>833</th>\n",
       "      <td>Korea, Dem. Rep.</td>\n",
       "      <td>Asia</td>\n",
       "      <td>1977</td>\n",
       "      <td>67.159</td>\n",
       "      <td>16325320</td>\n",
       "      <td>4106.301249</td>\n",
       "    </tr>\n",
       "    <tr>\n",
       "      <th>834</th>\n",
       "      <td>Korea, Dem. Rep.</td>\n",
       "      <td>Asia</td>\n",
       "      <td>1982</td>\n",
       "      <td>69.100</td>\n",
       "      <td>17647518</td>\n",
       "      <td>4106.525293</td>\n",
       "    </tr>\n",
       "    <tr>\n",
       "      <th>835</th>\n",
       "      <td>Korea, Dem. Rep.</td>\n",
       "      <td>Asia</td>\n",
       "      <td>1987</td>\n",
       "      <td>70.647</td>\n",
       "      <td>19067554</td>\n",
       "      <td>4106.492315</td>\n",
       "    </tr>\n",
       "    <tr>\n",
       "      <th>836</th>\n",
       "      <td>Korea, Dem. Rep.</td>\n",
       "      <td>Asia</td>\n",
       "      <td>1992</td>\n",
       "      <td>69.978</td>\n",
       "      <td>20711375</td>\n",
       "      <td>3726.063507</td>\n",
       "    </tr>\n",
       "    <tr>\n",
       "      <th>837</th>\n",
       "      <td>Korea, Dem. Rep.</td>\n",
       "      <td>Asia</td>\n",
       "      <td>1997</td>\n",
       "      <td>67.727</td>\n",
       "      <td>21585105</td>\n",
       "      <td>1690.756814</td>\n",
       "    </tr>\n",
       "    <tr>\n",
       "      <th>838</th>\n",
       "      <td>Korea, Dem. Rep.</td>\n",
       "      <td>Asia</td>\n",
       "      <td>2002</td>\n",
       "      <td>66.662</td>\n",
       "      <td>22215365</td>\n",
       "      <td>1646.758151</td>\n",
       "    </tr>\n",
       "    <tr>\n",
       "      <th>839</th>\n",
       "      <td>Korea, Dem. Rep.</td>\n",
       "      <td>Asia</td>\n",
       "      <td>2007</td>\n",
       "      <td>67.297</td>\n",
       "      <td>23301725</td>\n",
       "      <td>1593.065480</td>\n",
       "    </tr>\n",
       "    <tr>\n",
       "      <th>840</th>\n",
       "      <td>Korea, Rep.</td>\n",
       "      <td>Asia</td>\n",
       "      <td>1952</td>\n",
       "      <td>47.453</td>\n",
       "      <td>20947571</td>\n",
       "      <td>1030.592226</td>\n",
       "    </tr>\n",
       "    <tr>\n",
       "      <th>841</th>\n",
       "      <td>Korea, Rep.</td>\n",
       "      <td>Asia</td>\n",
       "      <td>1957</td>\n",
       "      <td>52.681</td>\n",
       "      <td>22611552</td>\n",
       "      <td>1487.593537</td>\n",
       "    </tr>\n",
       "    <tr>\n",
       "      <th>842</th>\n",
       "      <td>Korea, Rep.</td>\n",
       "      <td>Asia</td>\n",
       "      <td>1962</td>\n",
       "      <td>55.292</td>\n",
       "      <td>26420307</td>\n",
       "      <td>1536.344387</td>\n",
       "    </tr>\n",
       "    <tr>\n",
       "      <th>843</th>\n",
       "      <td>Korea, Rep.</td>\n",
       "      <td>Asia</td>\n",
       "      <td>1967</td>\n",
       "      <td>57.716</td>\n",
       "      <td>30131000</td>\n",
       "      <td>2029.228142</td>\n",
       "    </tr>\n",
       "    <tr>\n",
       "      <th>844</th>\n",
       "      <td>Korea, Rep.</td>\n",
       "      <td>Asia</td>\n",
       "      <td>1972</td>\n",
       "      <td>62.612</td>\n",
       "      <td>33505000</td>\n",
       "      <td>3030.876650</td>\n",
       "    </tr>\n",
       "    <tr>\n",
       "      <th>845</th>\n",
       "      <td>Korea, Rep.</td>\n",
       "      <td>Asia</td>\n",
       "      <td>1977</td>\n",
       "      <td>64.766</td>\n",
       "      <td>36436000</td>\n",
       "      <td>4657.221020</td>\n",
       "    </tr>\n",
       "    <tr>\n",
       "      <th>846</th>\n",
       "      <td>Korea, Rep.</td>\n",
       "      <td>Asia</td>\n",
       "      <td>1982</td>\n",
       "      <td>67.123</td>\n",
       "      <td>39326000</td>\n",
       "      <td>5622.942464</td>\n",
       "    </tr>\n",
       "    <tr>\n",
       "      <th>847</th>\n",
       "      <td>Korea, Rep.</td>\n",
       "      <td>Asia</td>\n",
       "      <td>1987</td>\n",
       "      <td>69.810</td>\n",
       "      <td>41622000</td>\n",
       "      <td>8533.088805</td>\n",
       "    </tr>\n",
       "    <tr>\n",
       "      <th>848</th>\n",
       "      <td>Korea, Rep.</td>\n",
       "      <td>Asia</td>\n",
       "      <td>1992</td>\n",
       "      <td>72.244</td>\n",
       "      <td>43805450</td>\n",
       "      <td>12104.278720</td>\n",
       "    </tr>\n",
       "    <tr>\n",
       "      <th>849</th>\n",
       "      <td>Korea, Rep.</td>\n",
       "      <td>Asia</td>\n",
       "      <td>1997</td>\n",
       "      <td>74.647</td>\n",
       "      <td>46173816</td>\n",
       "      <td>15993.527960</td>\n",
       "    </tr>\n",
       "    <tr>\n",
       "      <th>850</th>\n",
       "      <td>Korea, Rep.</td>\n",
       "      <td>Asia</td>\n",
       "      <td>2002</td>\n",
       "      <td>77.045</td>\n",
       "      <td>47969150</td>\n",
       "      <td>19233.988180</td>\n",
       "    </tr>\n",
       "    <tr>\n",
       "      <th>851</th>\n",
       "      <td>Korea, Rep.</td>\n",
       "      <td>Asia</td>\n",
       "      <td>2007</td>\n",
       "      <td>78.623</td>\n",
       "      <td>49044790</td>\n",
       "      <td>23348.139730</td>\n",
       "    </tr>\n",
       "  </tbody>\n",
       "</table>\n",
       "</div>"
      ],
      "text/plain": [
       "              country continent  year  lifeExp       pop     gdpPercap\n",
       "828  Korea, Dem. Rep.      Asia  1952   50.056   8865488   1088.277758\n",
       "829  Korea, Dem. Rep.      Asia  1957   54.081   9411381   1571.134655\n",
       "830  Korea, Dem. Rep.      Asia  1962   56.656  10917494   1621.693598\n",
       "831  Korea, Dem. Rep.      Asia  1967   59.942  12617009   2143.540609\n",
       "832  Korea, Dem. Rep.      Asia  1972   63.983  14781241   3701.621503\n",
       "833  Korea, Dem. Rep.      Asia  1977   67.159  16325320   4106.301249\n",
       "834  Korea, Dem. Rep.      Asia  1982   69.100  17647518   4106.525293\n",
       "835  Korea, Dem. Rep.      Asia  1987   70.647  19067554   4106.492315\n",
       "836  Korea, Dem. Rep.      Asia  1992   69.978  20711375   3726.063507\n",
       "837  Korea, Dem. Rep.      Asia  1997   67.727  21585105   1690.756814\n",
       "838  Korea, Dem. Rep.      Asia  2002   66.662  22215365   1646.758151\n",
       "839  Korea, Dem. Rep.      Asia  2007   67.297  23301725   1593.065480\n",
       "840       Korea, Rep.      Asia  1952   47.453  20947571   1030.592226\n",
       "841       Korea, Rep.      Asia  1957   52.681  22611552   1487.593537\n",
       "842       Korea, Rep.      Asia  1962   55.292  26420307   1536.344387\n",
       "843       Korea, Rep.      Asia  1967   57.716  30131000   2029.228142\n",
       "844       Korea, Rep.      Asia  1972   62.612  33505000   3030.876650\n",
       "845       Korea, Rep.      Asia  1977   64.766  36436000   4657.221020\n",
       "846       Korea, Rep.      Asia  1982   67.123  39326000   5622.942464\n",
       "847       Korea, Rep.      Asia  1987   69.810  41622000   8533.088805\n",
       "848       Korea, Rep.      Asia  1992   72.244  43805450  12104.278720\n",
       "849       Korea, Rep.      Asia  1997   74.647  46173816  15993.527960\n",
       "850       Korea, Rep.      Asia  2002   77.045  47969150  19233.988180\n",
       "851       Korea, Rep.      Asia  2007   78.623  49044790  23348.139730"
      ]
     },
     "execution_count": 48,
     "metadata": {},
     "output_type": "execute_result"
    }
   ],
   "source": [
    "gapminder[gapminder['country'].str.contains('Korea')]"
   ]
  },
  {
   "cell_type": "code",
   "execution_count": null,
   "metadata": {
    "execution": {
     "iopub.status.busy": "2021-03-30T06:32:00.677416Z",
     "iopub.status.idle": "2021-03-30T06:32:00.678411Z",
     "shell.execute_reply": "2021-03-30T06:32:00.678411Z"
    }
   },
   "outputs": [],
   "source": [
    "# 대한민국의 연도, 인구, 1인당 gdp 출력\n",
    "korea=gapminder[gapminder['country'].str.lower()=='korea, rep.'] # row 선택\n",
    "korea[['year', 'pop', 'gdpPercap']] # column 선택"
   ]
  }
 ],
 "metadata": {
  "kernelspec": {
   "display_name": "Python 3",
   "language": "python",
   "name": "python3"
  },
  "language_info": {
   "codemirror_mode": {
    "name": "ipython",
    "version": 3
   },
   "file_extension": ".py",
   "mimetype": "text/x-python",
   "name": "python",
   "nbconvert_exporter": "python",
   "pygments_lexer": "ipython3",
   "version": "3.8.5"
  }
 },
 "nbformat": 4,
 "nbformat_minor": 4
}
