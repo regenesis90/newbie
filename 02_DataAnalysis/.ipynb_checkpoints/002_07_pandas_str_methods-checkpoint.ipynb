{
 "cells": [
  {
   "cell_type": "markdown",
   "metadata": {},
   "source": [
    "# DataFrame의 문자열 데이터 컬럼을 다루기"
   ]
  },
  {
   "cell_type": "code",
   "execution_count": 1,
   "metadata": {
    "execution": {
     "iopub.execute_input": "2021-03-30T06:54:58.597637Z",
     "iopub.status.busy": "2021-03-30T06:54:58.596641Z",
     "iopub.status.idle": "2021-03-30T06:54:59.302506Z",
     "shell.execute_reply": "2021-03-30T06:54:59.301519Z",
     "shell.execute_reply.started": "2021-03-30T06:54:58.596641Z"
    }
   },
   "outputs": [],
   "source": [
    "import pandas as pd"
   ]
  },
  {
   "cell_type": "markdown",
   "metadata": {},
   "source": [
    "# Data 불러오기"
   ]
  },
  {
   "cell_type": "code",
   "execution_count": 2,
   "metadata": {
    "execution": {
     "iopub.execute_input": "2021-03-30T06:57:21.330231Z",
     "iopub.status.busy": "2021-03-30T06:57:21.330231Z",
     "iopub.status.idle": "2021-03-30T06:57:21.335218Z",
     "shell.execute_reply": "2021-03-30T06:57:21.334221Z",
     "shell.execute_reply.started": "2021-03-30T06:57:21.330231Z"
    }
   },
   "outputs": [],
   "source": [
    "file_path = 'https://github.com/wesm/pydata-book/raw/2nd-edition/datasets/movielens/movies.dat'"
   ]
  },
  {
   "cell_type": "code",
   "execution_count": 3,
   "metadata": {
    "execution": {
     "iopub.execute_input": "2021-03-30T06:58:52.428532Z",
     "iopub.status.busy": "2021-03-30T06:58:52.428532Z",
     "iopub.status.idle": "2021-03-30T06:58:53.286971Z",
     "shell.execute_reply": "2021-03-30T06:58:53.285972Z",
     "shell.execute_reply.started": "2021-03-30T06:58:52.428532Z"
    }
   },
   "outputs": [],
   "source": [
    "movies = pd.read_csv(file_path,\n",
    "                  sep = '::', #구분자\n",
    "                  encoding = 'cp1252', #영문 MS Windows에서 작성된 텍스트파일 인코딩 타입\n",
    "                  header = None, #파일의 첫번째 라인부터 데이터. 헤더 정보가 없음.\n",
    "                  names = ['movie_id', 'title', 'genres'], #컬럼 이름을 지정하여 투입\n",
    "                  engine = 'python') #ParserWarning 제거\n",
    "# 참고 : 한글 MS Windows의 기본 인코딩은 cp949 이다."
   ]
  },
  {
   "cell_type": "markdown",
   "metadata": {},
   "source": [
    "# Data Structure"
   ]
  },
  {
   "cell_type": "code",
   "execution_count": 4,
   "metadata": {
    "execution": {
     "iopub.execute_input": "2021-03-30T06:59:05.205219Z",
     "iopub.status.busy": "2021-03-30T06:59:05.205219Z",
     "iopub.status.idle": "2021-03-30T06:59:05.221177Z",
     "shell.execute_reply": "2021-03-30T06:59:05.220220Z",
     "shell.execute_reply.started": "2021-03-30T06:59:05.205219Z"
    }
   },
   "outputs": [
    {
     "data": {
      "text/html": [
       "<div>\n",
       "<style scoped>\n",
       "    .dataframe tbody tr th:only-of-type {\n",
       "        vertical-align: middle;\n",
       "    }\n",
       "\n",
       "    .dataframe tbody tr th {\n",
       "        vertical-align: top;\n",
       "    }\n",
       "\n",
       "    .dataframe thead th {\n",
       "        text-align: right;\n",
       "    }\n",
       "</style>\n",
       "<table border=\"1\" class=\"dataframe\">\n",
       "  <thead>\n",
       "    <tr style=\"text-align: right;\">\n",
       "      <th></th>\n",
       "      <th>movie_id</th>\n",
       "      <th>title</th>\n",
       "      <th>genres</th>\n",
       "    </tr>\n",
       "  </thead>\n",
       "  <tbody>\n",
       "    <tr>\n",
       "      <th>0</th>\n",
       "      <td>1</td>\n",
       "      <td>Toy Story (1995)</td>\n",
       "      <td>Animation|Children's|Comedy</td>\n",
       "    </tr>\n",
       "    <tr>\n",
       "      <th>1</th>\n",
       "      <td>2</td>\n",
       "      <td>Jumanji (1995)</td>\n",
       "      <td>Adventure|Children's|Fantasy</td>\n",
       "    </tr>\n",
       "    <tr>\n",
       "      <th>2</th>\n",
       "      <td>3</td>\n",
       "      <td>Grumpier Old Men (1995)</td>\n",
       "      <td>Comedy|Romance</td>\n",
       "    </tr>\n",
       "    <tr>\n",
       "      <th>3</th>\n",
       "      <td>4</td>\n",
       "      <td>Waiting to Exhale (1995)</td>\n",
       "      <td>Comedy|Drama</td>\n",
       "    </tr>\n",
       "    <tr>\n",
       "      <th>4</th>\n",
       "      <td>5</td>\n",
       "      <td>Father of the Bride Part II (1995)</td>\n",
       "      <td>Comedy</td>\n",
       "    </tr>\n",
       "  </tbody>\n",
       "</table>\n",
       "</div>"
      ],
      "text/plain": [
       "   movie_id                               title                        genres\n",
       "0         1                    Toy Story (1995)   Animation|Children's|Comedy\n",
       "1         2                      Jumanji (1995)  Adventure|Children's|Fantasy\n",
       "2         3             Grumpier Old Men (1995)                Comedy|Romance\n",
       "3         4            Waiting to Exhale (1995)                  Comedy|Drama\n",
       "4         5  Father of the Bride Part II (1995)                        Comedy"
      ]
     },
     "execution_count": 4,
     "metadata": {},
     "output_type": "execute_result"
    }
   ],
   "source": [
    "movies.head()"
   ]
  },
  {
   "cell_type": "code",
   "execution_count": 5,
   "metadata": {
    "execution": {
     "iopub.execute_input": "2021-03-30T06:59:12.575877Z",
     "iopub.status.busy": "2021-03-30T06:59:12.575877Z",
     "iopub.status.idle": "2021-03-30T06:59:12.587844Z",
     "shell.execute_reply": "2021-03-30T06:59:12.586847Z",
     "shell.execute_reply.started": "2021-03-30T06:59:12.575877Z"
    }
   },
   "outputs": [
    {
     "data": {
      "text/html": [
       "<div>\n",
       "<style scoped>\n",
       "    .dataframe tbody tr th:only-of-type {\n",
       "        vertical-align: middle;\n",
       "    }\n",
       "\n",
       "    .dataframe tbody tr th {\n",
       "        vertical-align: top;\n",
       "    }\n",
       "\n",
       "    .dataframe thead th {\n",
       "        text-align: right;\n",
       "    }\n",
       "</style>\n",
       "<table border=\"1\" class=\"dataframe\">\n",
       "  <thead>\n",
       "    <tr style=\"text-align: right;\">\n",
       "      <th></th>\n",
       "      <th>movie_id</th>\n",
       "      <th>title</th>\n",
       "      <th>genres</th>\n",
       "    </tr>\n",
       "  </thead>\n",
       "  <tbody>\n",
       "    <tr>\n",
       "      <th>3878</th>\n",
       "      <td>3948</td>\n",
       "      <td>Meet the Parents (2000)</td>\n",
       "      <td>Comedy</td>\n",
       "    </tr>\n",
       "    <tr>\n",
       "      <th>3879</th>\n",
       "      <td>3949</td>\n",
       "      <td>Requiem for a Dream (2000)</td>\n",
       "      <td>Drama</td>\n",
       "    </tr>\n",
       "    <tr>\n",
       "      <th>3880</th>\n",
       "      <td>3950</td>\n",
       "      <td>Tigerland (2000)</td>\n",
       "      <td>Drama</td>\n",
       "    </tr>\n",
       "    <tr>\n",
       "      <th>3881</th>\n",
       "      <td>3951</td>\n",
       "      <td>Two Family House (2000)</td>\n",
       "      <td>Drama</td>\n",
       "    </tr>\n",
       "    <tr>\n",
       "      <th>3882</th>\n",
       "      <td>3952</td>\n",
       "      <td>Contender, The (2000)</td>\n",
       "      <td>Drama|Thriller</td>\n",
       "    </tr>\n",
       "  </tbody>\n",
       "</table>\n",
       "</div>"
      ],
      "text/plain": [
       "      movie_id                       title          genres\n",
       "3878      3948     Meet the Parents (2000)          Comedy\n",
       "3879      3949  Requiem for a Dream (2000)           Drama\n",
       "3880      3950            Tigerland (2000)           Drama\n",
       "3881      3951     Two Family House (2000)           Drama\n",
       "3882      3952       Contender, The (2000)  Drama|Thriller"
      ]
     },
     "execution_count": 5,
     "metadata": {},
     "output_type": "execute_result"
    }
   ],
   "source": [
    "movies.tail()"
   ]
  },
  {
   "cell_type": "code",
   "execution_count": 6,
   "metadata": {
    "execution": {
     "iopub.execute_input": "2021-03-30T06:59:14.761932Z",
     "iopub.status.busy": "2021-03-30T06:59:14.761932Z",
     "iopub.status.idle": "2021-03-30T06:59:14.767915Z",
     "shell.execute_reply": "2021-03-30T06:59:14.766917Z",
     "shell.execute_reply.started": "2021-03-30T06:59:14.761932Z"
    }
   },
   "outputs": [
    {
     "data": {
      "text/plain": [
       "(3883, 3)"
      ]
     },
     "execution_count": 6,
     "metadata": {},
     "output_type": "execute_result"
    }
   ],
   "source": [
    "movies.shape"
   ]
  },
  {
   "cell_type": "markdown",
   "metadata": {},
   "source": [
    "# str.contains()"
   ]
  },
  {
   "cell_type": "code",
   "execution_count": 8,
   "metadata": {
    "execution": {
     "iopub.execute_input": "2021-03-30T07:02:59.062491Z",
     "iopub.status.busy": "2021-03-30T07:02:59.062491Z",
     "iopub.status.idle": "2021-03-30T07:02:59.073462Z",
     "shell.execute_reply": "2021-03-30T07:02:59.072464Z",
     "shell.execute_reply.started": "2021-03-30T07:02:59.062491Z"
    }
   },
   "outputs": [
    {
     "data": {
      "text/plain": [
       "105"
      ]
     },
     "execution_count": 8,
     "metadata": {},
     "output_type": "execute_result"
    }
   ],
   "source": [
    "# 장르가 Animation인 영화는 몇 개인가?\n",
    "animations = movies[movies['genres'].str.contains('Animation')]\n",
    "len(animations)"
   ]
  },
  {
   "cell_type": "code",
   "execution_count": 9,
   "metadata": {
    "execution": {
     "iopub.execute_input": "2021-03-30T07:03:01.263723Z",
     "iopub.status.busy": "2021-03-30T07:03:01.263723Z",
     "iopub.status.idle": "2021-03-30T07:03:01.288659Z",
     "shell.execute_reply": "2021-03-30T07:03:01.285666Z",
     "shell.execute_reply.started": "2021-03-30T07:03:01.263723Z"
    }
   },
   "outputs": [
    {
     "data": {
      "text/html": [
       "<div>\n",
       "<style scoped>\n",
       "    .dataframe tbody tr th:only-of-type {\n",
       "        vertical-align: middle;\n",
       "    }\n",
       "\n",
       "    .dataframe tbody tr th {\n",
       "        vertical-align: top;\n",
       "    }\n",
       "\n",
       "    .dataframe thead th {\n",
       "        text-align: right;\n",
       "    }\n",
       "</style>\n",
       "<table border=\"1\" class=\"dataframe\">\n",
       "  <thead>\n",
       "    <tr style=\"text-align: right;\">\n",
       "      <th></th>\n",
       "      <th>movie_id</th>\n",
       "      <th>title</th>\n",
       "      <th>genres</th>\n",
       "    </tr>\n",
       "  </thead>\n",
       "  <tbody>\n",
       "    <tr>\n",
       "      <th>0</th>\n",
       "      <td>1</td>\n",
       "      <td>Toy Story (1995)</td>\n",
       "      <td>Animation|Children's|Comedy</td>\n",
       "    </tr>\n",
       "    <tr>\n",
       "      <th>12</th>\n",
       "      <td>13</td>\n",
       "      <td>Balto (1995)</td>\n",
       "      <td>Animation|Children's</td>\n",
       "    </tr>\n",
       "    <tr>\n",
       "      <th>47</th>\n",
       "      <td>48</td>\n",
       "      <td>Pocahontas (1995)</td>\n",
       "      <td>Animation|Children's|Musical|Romance</td>\n",
       "    </tr>\n",
       "    <tr>\n",
       "      <th>236</th>\n",
       "      <td>239</td>\n",
       "      <td>Goofy Movie, A (1995)</td>\n",
       "      <td>Animation|Children's|Comedy|Romance</td>\n",
       "    </tr>\n",
       "    <tr>\n",
       "      <th>241</th>\n",
       "      <td>244</td>\n",
       "      <td>Gumby: The Movie (1995)</td>\n",
       "      <td>Animation|Children's</td>\n",
       "    </tr>\n",
       "    <tr>\n",
       "      <th>...</th>\n",
       "      <td>...</td>\n",
       "      <td>...</td>\n",
       "      <td>...</td>\n",
       "    </tr>\n",
       "    <tr>\n",
       "      <th>3690</th>\n",
       "      <td>3759</td>\n",
       "      <td>Fun and Fancy Free (1947)</td>\n",
       "      <td>Animation|Children's|Musical</td>\n",
       "    </tr>\n",
       "    <tr>\n",
       "      <th>3706</th>\n",
       "      <td>3775</td>\n",
       "      <td>Make Mine Music (1946)</td>\n",
       "      <td>Animation|Children's|Musical</td>\n",
       "    </tr>\n",
       "    <tr>\n",
       "      <th>3707</th>\n",
       "      <td>3776</td>\n",
       "      <td>Melody Time (1948)</td>\n",
       "      <td>Animation|Children's|Musical</td>\n",
       "    </tr>\n",
       "    <tr>\n",
       "      <th>3730</th>\n",
       "      <td>3799</td>\n",
       "      <td>Pokémon the Movie 2000 (2000)</td>\n",
       "      <td>Animation|Children's</td>\n",
       "    </tr>\n",
       "    <tr>\n",
       "      <th>3875</th>\n",
       "      <td>3945</td>\n",
       "      <td>Digimon: The Movie (2000)</td>\n",
       "      <td>Adventure|Animation|Children's</td>\n",
       "    </tr>\n",
       "  </tbody>\n",
       "</table>\n",
       "<p>105 rows × 3 columns</p>\n",
       "</div>"
      ],
      "text/plain": [
       "      movie_id                          title  \\\n",
       "0            1               Toy Story (1995)   \n",
       "12          13                   Balto (1995)   \n",
       "47          48              Pocahontas (1995)   \n",
       "236        239          Goofy Movie, A (1995)   \n",
       "241        244        Gumby: The Movie (1995)   \n",
       "...        ...                            ...   \n",
       "3690      3759      Fun and Fancy Free (1947)   \n",
       "3706      3775         Make Mine Music (1946)   \n",
       "3707      3776             Melody Time (1948)   \n",
       "3730      3799  Pokémon the Movie 2000 (2000)   \n",
       "3875      3945      Digimon: The Movie (2000)   \n",
       "\n",
       "                                    genres  \n",
       "0              Animation|Children's|Comedy  \n",
       "12                    Animation|Children's  \n",
       "47    Animation|Children's|Musical|Romance  \n",
       "236    Animation|Children's|Comedy|Romance  \n",
       "241                   Animation|Children's  \n",
       "...                                    ...  \n",
       "3690          Animation|Children's|Musical  \n",
       "3706          Animation|Children's|Musical  \n",
       "3707          Animation|Children's|Musical  \n",
       "3730                  Animation|Children's  \n",
       "3875        Adventure|Animation|Children's  \n",
       "\n",
       "[105 rows x 3 columns]"
      ]
     },
     "execution_count": 9,
     "metadata": {},
     "output_type": "execute_result"
    }
   ],
   "source": [
    "animations"
   ]
  },
  {
   "cell_type": "code",
   "execution_count": 10,
   "metadata": {
    "execution": {
     "iopub.execute_input": "2021-03-30T07:04:13.429276Z",
     "iopub.status.busy": "2021-03-30T07:04:13.428268Z",
     "iopub.status.idle": "2021-03-30T07:04:13.444223Z",
     "shell.execute_reply": "2021-03-30T07:04:13.443226Z",
     "shell.execute_reply.started": "2021-03-30T07:04:13.429276Z"
    }
   },
   "outputs": [
    {
     "data": {
      "text/plain": [
       "204"
      ]
     },
     "execution_count": 10,
     "metadata": {},
     "output_type": "execute_result"
    }
   ],
   "source": [
    "# 장르가 로맨틱 코미디(Romance & Comedy)인 영화의 개수\n",
    "romance_comedy = movies[movies['genres'].str.contains('Romance') &\n",
    "                        movies['genres'].str.contains('Comedy')]\n",
    "len(romance_comedy)"
   ]
  },
  {
   "cell_type": "code",
   "execution_count": 11,
   "metadata": {
    "execution": {
     "iopub.execute_input": "2021-03-30T07:04:14.288501Z",
     "iopub.status.busy": "2021-03-30T07:04:14.288501Z",
     "iopub.status.idle": "2021-03-30T07:04:14.309461Z",
     "shell.execute_reply": "2021-03-30T07:04:14.305456Z",
     "shell.execute_reply.started": "2021-03-30T07:04:14.288501Z"
    }
   },
   "outputs": [
    {
     "data": {
      "text/html": [
       "<div>\n",
       "<style scoped>\n",
       "    .dataframe tbody tr th:only-of-type {\n",
       "        vertical-align: middle;\n",
       "    }\n",
       "\n",
       "    .dataframe tbody tr th {\n",
       "        vertical-align: top;\n",
       "    }\n",
       "\n",
       "    .dataframe thead th {\n",
       "        text-align: right;\n",
       "    }\n",
       "</style>\n",
       "<table border=\"1\" class=\"dataframe\">\n",
       "  <thead>\n",
       "    <tr style=\"text-align: right;\">\n",
       "      <th></th>\n",
       "      <th>movie_id</th>\n",
       "      <th>title</th>\n",
       "      <th>genres</th>\n",
       "    </tr>\n",
       "  </thead>\n",
       "  <tbody>\n",
       "    <tr>\n",
       "      <th>2</th>\n",
       "      <td>3</td>\n",
       "      <td>Grumpier Old Men (1995)</td>\n",
       "      <td>Comedy|Romance</td>\n",
       "    </tr>\n",
       "    <tr>\n",
       "      <th>6</th>\n",
       "      <td>7</td>\n",
       "      <td>Sabrina (1995)</td>\n",
       "      <td>Comedy|Romance</td>\n",
       "    </tr>\n",
       "    <tr>\n",
       "      <th>10</th>\n",
       "      <td>11</td>\n",
       "      <td>American President, The (1995)</td>\n",
       "      <td>Comedy|Drama|Romance</td>\n",
       "    </tr>\n",
       "    <tr>\n",
       "      <th>38</th>\n",
       "      <td>39</td>\n",
       "      <td>Clueless (1995)</td>\n",
       "      <td>Comedy|Romance</td>\n",
       "    </tr>\n",
       "    <tr>\n",
       "      <th>63</th>\n",
       "      <td>64</td>\n",
       "      <td>Two if by Sea (1996)</td>\n",
       "      <td>Comedy|Romance</td>\n",
       "    </tr>\n",
       "    <tr>\n",
       "      <th>...</th>\n",
       "      <td>...</td>\n",
       "      <td>...</td>\n",
       "      <td>...</td>\n",
       "    </tr>\n",
       "    <tr>\n",
       "      <th>3679</th>\n",
       "      <td>3748</td>\n",
       "      <td>Match, The (1999)</td>\n",
       "      <td>Comedy|Romance</td>\n",
       "    </tr>\n",
       "    <tr>\n",
       "      <th>3759</th>\n",
       "      <td>3829</td>\n",
       "      <td>Mad About Mambo (2000)</td>\n",
       "      <td>Comedy|Romance</td>\n",
       "    </tr>\n",
       "    <tr>\n",
       "      <th>3804</th>\n",
       "      <td>3874</td>\n",
       "      <td>Couch in New York, A (1996)</td>\n",
       "      <td>Comedy|Romance</td>\n",
       "    </tr>\n",
       "    <tr>\n",
       "      <th>3815</th>\n",
       "      <td>3885</td>\n",
       "      <td>Love &amp; Sex (2000)</td>\n",
       "      <td>Comedy|Romance</td>\n",
       "    </tr>\n",
       "    <tr>\n",
       "      <th>3839</th>\n",
       "      <td>3909</td>\n",
       "      <td>Woman on Top (2000)</td>\n",
       "      <td>Comedy|Romance</td>\n",
       "    </tr>\n",
       "  </tbody>\n",
       "</table>\n",
       "<p>204 rows × 3 columns</p>\n",
       "</div>"
      ],
      "text/plain": [
       "      movie_id                           title                genres\n",
       "2            3         Grumpier Old Men (1995)        Comedy|Romance\n",
       "6            7                  Sabrina (1995)        Comedy|Romance\n",
       "10          11  American President, The (1995)  Comedy|Drama|Romance\n",
       "38          39                 Clueless (1995)        Comedy|Romance\n",
       "63          64            Two if by Sea (1996)        Comedy|Romance\n",
       "...        ...                             ...                   ...\n",
       "3679      3748               Match, The (1999)        Comedy|Romance\n",
       "3759      3829          Mad About Mambo (2000)        Comedy|Romance\n",
       "3804      3874     Couch in New York, A (1996)        Comedy|Romance\n",
       "3815      3885               Love & Sex (2000)        Comedy|Romance\n",
       "3839      3909             Woman on Top (2000)        Comedy|Romance\n",
       "\n",
       "[204 rows x 3 columns]"
      ]
     },
     "execution_count": 11,
     "metadata": {},
     "output_type": "execute_result"
    }
   ],
   "source": [
    "romance_comedy"
   ]
  },
  {
   "cell_type": "markdown",
   "metadata": {},
   "source": [
    "# 문자열 Slicing을 통한 파생변수 만들기"
   ]
  },
  {
   "cell_type": "markdown",
   "metadata": {},
   "source": [
    "## 문자열 slicing"
   ]
  },
  {
   "cell_type": "code",
   "execution_count": 12,
   "metadata": {
    "execution": {
     "iopub.execute_input": "2021-03-30T07:05:45.752578Z",
     "iopub.status.busy": "2021-03-30T07:05:45.752578Z",
     "iopub.status.idle": "2021-03-30T07:05:45.758561Z",
     "shell.execute_reply": "2021-03-30T07:05:45.758561Z",
     "shell.execute_reply.started": "2021-03-30T07:05:45.752578Z"
    }
   },
   "outputs": [
    {
     "data": {
      "text/plain": [
       "'2000'"
      ]
     },
     "execution_count": 12,
     "metadata": {},
     "output_type": "execute_result"
    }
   ],
   "source": [
    "# 문자열 slicing의 예\n",
    "title = 'Meet the Parents (2000)'\n",
    "title[-5:-1] #문자열 slicing"
   ]
  },
  {
   "cell_type": "markdown",
   "metadata": {},
   "source": [
    "## 파생변수 만들기"
   ]
  },
  {
   "cell_type": "code",
   "execution_count": 13,
   "metadata": {
    "execution": {
     "iopub.execute_input": "2021-03-30T07:07:02.887146Z",
     "iopub.status.busy": "2021-03-30T07:07:02.886150Z",
     "iopub.status.idle": "2021-03-30T07:07:02.910595Z",
     "shell.execute_reply": "2021-03-30T07:07:02.908607Z",
     "shell.execute_reply.started": "2021-03-30T07:07:02.887146Z"
    }
   },
   "outputs": [
    {
     "data": {
      "text/html": [
       "<div>\n",
       "<style scoped>\n",
       "    .dataframe tbody tr th:only-of-type {\n",
       "        vertical-align: middle;\n",
       "    }\n",
       "\n",
       "    .dataframe tbody tr th {\n",
       "        vertical-align: top;\n",
       "    }\n",
       "\n",
       "    .dataframe thead th {\n",
       "        text-align: right;\n",
       "    }\n",
       "</style>\n",
       "<table border=\"1\" class=\"dataframe\">\n",
       "  <thead>\n",
       "    <tr style=\"text-align: right;\">\n",
       "      <th></th>\n",
       "      <th>movie_id</th>\n",
       "      <th>title</th>\n",
       "      <th>genres</th>\n",
       "      <th>year</th>\n",
       "    </tr>\n",
       "  </thead>\n",
       "  <tbody>\n",
       "    <tr>\n",
       "      <th>0</th>\n",
       "      <td>1</td>\n",
       "      <td>Toy Story (1995)</td>\n",
       "      <td>Animation|Children's|Comedy</td>\n",
       "      <td>1995</td>\n",
       "    </tr>\n",
       "    <tr>\n",
       "      <th>1</th>\n",
       "      <td>2</td>\n",
       "      <td>Jumanji (1995)</td>\n",
       "      <td>Adventure|Children's|Fantasy</td>\n",
       "      <td>1995</td>\n",
       "    </tr>\n",
       "    <tr>\n",
       "      <th>2</th>\n",
       "      <td>3</td>\n",
       "      <td>Grumpier Old Men (1995)</td>\n",
       "      <td>Comedy|Romance</td>\n",
       "      <td>1995</td>\n",
       "    </tr>\n",
       "    <tr>\n",
       "      <th>3</th>\n",
       "      <td>4</td>\n",
       "      <td>Waiting to Exhale (1995)</td>\n",
       "      <td>Comedy|Drama</td>\n",
       "      <td>1995</td>\n",
       "    </tr>\n",
       "    <tr>\n",
       "      <th>4</th>\n",
       "      <td>5</td>\n",
       "      <td>Father of the Bride Part II (1995)</td>\n",
       "      <td>Comedy</td>\n",
       "      <td>1995</td>\n",
       "    </tr>\n",
       "    <tr>\n",
       "      <th>...</th>\n",
       "      <td>...</td>\n",
       "      <td>...</td>\n",
       "      <td>...</td>\n",
       "      <td>...</td>\n",
       "    </tr>\n",
       "    <tr>\n",
       "      <th>3878</th>\n",
       "      <td>3948</td>\n",
       "      <td>Meet the Parents (2000)</td>\n",
       "      <td>Comedy</td>\n",
       "      <td>2000</td>\n",
       "    </tr>\n",
       "    <tr>\n",
       "      <th>3879</th>\n",
       "      <td>3949</td>\n",
       "      <td>Requiem for a Dream (2000)</td>\n",
       "      <td>Drama</td>\n",
       "      <td>2000</td>\n",
       "    </tr>\n",
       "    <tr>\n",
       "      <th>3880</th>\n",
       "      <td>3950</td>\n",
       "      <td>Tigerland (2000)</td>\n",
       "      <td>Drama</td>\n",
       "      <td>2000</td>\n",
       "    </tr>\n",
       "    <tr>\n",
       "      <th>3881</th>\n",
       "      <td>3951</td>\n",
       "      <td>Two Family House (2000)</td>\n",
       "      <td>Drama</td>\n",
       "      <td>2000</td>\n",
       "    </tr>\n",
       "    <tr>\n",
       "      <th>3882</th>\n",
       "      <td>3952</td>\n",
       "      <td>Contender, The (2000)</td>\n",
       "      <td>Drama|Thriller</td>\n",
       "      <td>2000</td>\n",
       "    </tr>\n",
       "  </tbody>\n",
       "</table>\n",
       "<p>3883 rows × 4 columns</p>\n",
       "</div>"
      ],
      "text/plain": [
       "      movie_id                               title  \\\n",
       "0            1                    Toy Story (1995)   \n",
       "1            2                      Jumanji (1995)   \n",
       "2            3             Grumpier Old Men (1995)   \n",
       "3            4            Waiting to Exhale (1995)   \n",
       "4            5  Father of the Bride Part II (1995)   \n",
       "...        ...                                 ...   \n",
       "3878      3948             Meet the Parents (2000)   \n",
       "3879      3949          Requiem for a Dream (2000)   \n",
       "3880      3950                    Tigerland (2000)   \n",
       "3881      3951             Two Family House (2000)   \n",
       "3882      3952               Contender, The (2000)   \n",
       "\n",
       "                            genres  year  \n",
       "0      Animation|Children's|Comedy  1995  \n",
       "1     Adventure|Children's|Fantasy  1995  \n",
       "2                   Comedy|Romance  1995  \n",
       "3                     Comedy|Drama  1995  \n",
       "4                           Comedy  1995  \n",
       "...                            ...   ...  \n",
       "3878                        Comedy  2000  \n",
       "3879                         Drama  2000  \n",
       "3880                         Drama  2000  \n",
       "3881                         Drama  2000  \n",
       "3882                Drama|Thriller  2000  \n",
       "\n",
       "[3883 rows x 4 columns]"
      ]
     },
     "execution_count": 13,
     "metadata": {},
     "output_type": "execute_result"
    }
   ],
   "source": [
    "movies['year'] = movies['title'].str[-5:-1]\n",
    "movies"
   ]
  },
  {
   "cell_type": "code",
   "execution_count": 14,
   "metadata": {
    "execution": {
     "iopub.execute_input": "2021-03-30T07:07:21.812439Z",
     "iopub.status.busy": "2021-03-30T07:07:21.812439Z",
     "iopub.status.idle": "2021-03-30T07:07:21.824410Z",
     "shell.execute_reply": "2021-03-30T07:07:21.823411Z",
     "shell.execute_reply.started": "2021-03-30T07:07:21.812439Z"
    }
   },
   "outputs": [
    {
     "data": {
      "text/plain": [
       "movie_id     int64\n",
       "title       object\n",
       "genres      object\n",
       "year        object\n",
       "dtype: object"
      ]
     },
     "execution_count": 14,
     "metadata": {},
     "output_type": "execute_result"
    }
   ],
   "source": [
    "movies.dtypes"
   ]
  },
  {
   "cell_type": "markdown",
   "metadata": {},
   "source": [
    "# .astype() : 데이터프레임의 컬럼(pd.Series)의 데이터타입 변경\n",
    "* **`Series.astype()` 메서드 사용**"
   ]
  },
  {
   "cell_type": "code",
   "execution_count": 15,
   "metadata": {
    "execution": {
     "iopub.execute_input": "2021-03-30T07:08:30.203234Z",
     "iopub.status.busy": "2021-03-30T07:08:30.201232Z",
     "iopub.status.idle": "2021-03-30T07:08:30.233656Z",
     "shell.execute_reply": "2021-03-30T07:08:30.232660Z",
     "shell.execute_reply.started": "2021-03-30T07:08:30.203234Z"
    }
   },
   "outputs": [
    {
     "data": {
      "text/plain": [
       "movie_id     int64\n",
       "title       object\n",
       "genres      object\n",
       "year         int32\n",
       "dtype: object"
      ]
     },
     "execution_count": 15,
     "metadata": {},
     "output_type": "execute_result"
    }
   ],
   "source": [
    "movies['year'] = movies['year'].astype(int)\n",
    "movies.dtypes"
   ]
  },
  {
   "cell_type": "markdown",
   "metadata": {},
   "source": [
    "# .sort_index() : pd.Series 정렬하기(오름차순/내림차순)\n",
    "* **`sort_index(), sort_values()` 메서드 사용하기**"
   ]
  },
  {
   "cell_type": "code",
   "execution_count": 16,
   "metadata": {
    "execution": {
     "iopub.execute_input": "2021-03-30T07:11:23.460401Z",
     "iopub.status.busy": "2021-03-30T07:11:23.460401Z",
     "iopub.status.idle": "2021-03-30T07:11:23.471375Z",
     "shell.execute_reply": "2021-03-30T07:11:23.470388Z",
     "shell.execute_reply.started": "2021-03-30T07:11:23.460401Z"
    }
   },
   "outputs": [
    {
     "data": {
      "text/plain": [
       "1996    345\n",
       "1995    342\n",
       "1998    337\n",
       "1997    315\n",
       "1999    283\n",
       "       ... \n",
       "1923      3\n",
       "1929      3\n",
       "1922      2\n",
       "1920      2\n",
       "1921      1\n",
       "Name: year, Length: 81, dtype: int64"
      ]
     },
     "execution_count": 16,
     "metadata": {},
     "output_type": "execute_result"
    }
   ],
   "source": [
    "# 연도별 개봉 영화 숫자\n",
    "movies['year'].value_counts()"
   ]
  },
  {
   "cell_type": "code",
   "execution_count": 17,
   "metadata": {
    "execution": {
     "iopub.execute_input": "2021-03-30T07:13:15.287986Z",
     "iopub.status.busy": "2021-03-30T07:13:15.287986Z",
     "iopub.status.idle": "2021-03-30T07:13:15.306937Z",
     "shell.execute_reply": "2021-03-30T07:13:15.301955Z",
     "shell.execute_reply.started": "2021-03-30T07:13:15.287986Z"
    }
   },
   "outputs": [
    {
     "data": {
      "text/plain": [
       "1919      3\n",
       "1920      2\n",
       "1921      1\n",
       "1922      2\n",
       "1923      3\n",
       "       ... \n",
       "1996    345\n",
       "1997    315\n",
       "1998    337\n",
       "1999    283\n",
       "2000    156\n",
       "Name: year, Length: 81, dtype: int64"
      ]
     },
     "execution_count": 17,
     "metadata": {},
     "output_type": "execute_result"
    }
   ],
   "source": [
    "# 연도별 개봉 영화 숫자를 오름차순으로 정렬하기\n",
    "movies['year'].value_counts().sort_index(ascending = True)"
   ]
  },
  {
   "cell_type": "markdown",
   "metadata": {},
   "source": [
    "# 시각화"
   ]
  },
  {
   "cell_type": "code",
   "execution_count": 18,
   "metadata": {
    "execution": {
     "iopub.execute_input": "2021-03-30T07:13:20.672165Z",
     "iopub.status.busy": "2021-03-30T07:13:20.672165Z",
     "iopub.status.idle": "2021-03-30T07:13:21.496881Z",
     "shell.execute_reply": "2021-03-30T07:13:21.495883Z",
     "shell.execute_reply.started": "2021-03-30T07:13:20.672165Z"
    }
   },
   "outputs": [],
   "source": [
    "import matplotlib.pyplot as plt\n",
    "import seaborn as sns"
   ]
  },
  {
   "cell_type": "code",
   "execution_count": 20,
   "metadata": {
    "execution": {
     "iopub.execute_input": "2021-03-30T07:14:39.440665Z",
     "iopub.status.busy": "2021-03-30T07:14:39.439667Z",
     "iopub.status.idle": "2021-03-30T07:14:39.774776Z",
     "shell.execute_reply": "2021-03-30T07:14:39.773778Z",
     "shell.execute_reply.started": "2021-03-30T07:14:39.440665Z"
    }
   },
   "outputs": [
    {
     "data": {
      "image/png": "[encoded data removed]",
      "text/plain": [
       "<Figure size 432x288 with 1 Axes>"
      ]
     },
     "metadata": {
      "needs_background": "light"
     },
     "output_type": "display_data"
    }
   ],
   "source": [
    "# 선 그래프 : 연도별 영화 숫자\n",
    "s = movies['year'].value_counts().sort_index()\n",
    "plt.plot(s.index, s.values)\n",
    "plt.show()"
   ]
  },
  {
   "cell_type": "markdown",
   "metadata": {},
   "source": [
    "# .str.split()을 사용한 카테고리 분할"
   ]
  },
  {
   "cell_type": "markdown",
   "metadata": {},
   "source": [
    "## 카테고리별 원소 개수 찾기 : dict 사용 시"
   ]
  },
  {
   "cell_type": "code",
   "execution_count": 21,
   "metadata": {
    "execution": {
     "iopub.execute_input": "2021-03-30T07:19:46.212020Z",
     "iopub.status.busy": "2021-03-30T07:19:46.212020Z",
     "iopub.status.idle": "2021-03-30T07:19:46.234478Z",
     "shell.execute_reply": "2021-03-30T07:19:46.233524Z",
     "shell.execute_reply.started": "2021-03-30T07:19:46.212020Z"
    }
   },
   "outputs": [
    {
     "data": {
      "text/plain": [
       "0        [Animation, Children's, Comedy]\n",
       "1       [Adventure, Children's, Fantasy]\n",
       "2                      [Comedy, Romance]\n",
       "3                        [Comedy, Drama]\n",
       "4                               [Comedy]\n",
       "                      ...               \n",
       "3878                            [Comedy]\n",
       "3879                             [Drama]\n",
       "3880                             [Drama]\n",
       "3881                             [Drama]\n",
       "3882                   [Drama, Thriller]\n",
       "Name: genres, Length: 3883, dtype: object"
      ]
     },
     "execution_count": 21,
     "metadata": {},
     "output_type": "execute_result"
    }
   ],
   "source": [
    "# 장르별 영화 수 : (1) str.split(), (2) dict 또는 defaultdict\n",
    "movies['genres'].str.split('|')"
   ]
  },
  {
   "cell_type": "code",
   "execution_count": 23,
   "metadata": {
    "execution": {
     "iopub.execute_input": "2021-03-30T07:25:01.213640Z",
     "iopub.status.busy": "2021-03-30T07:25:01.213640Z",
     "iopub.status.idle": "2021-03-30T07:25:01.223613Z",
     "shell.execute_reply": "2021-03-30T07:25:01.222616Z",
     "shell.execute_reply.started": "2021-03-30T07:25:01.213640Z"
    }
   },
   "outputs": [
    {
     "data": {
      "text/plain": [
       "{'animation': 1, 'comedy': 3, 'drama': 2}"
      ]
     },
     "execution_count": 23,
     "metadata": {},
     "output_type": "execute_result"
    }
   ],
   "source": [
    "# 리스트의 원소 개수를 찾는 원리의 예\n",
    "arr = ['animation', 'comedy', 'drama', 'drama', 'comedy', 'comedy']\n",
    "arr_cnt = {} #empty dict\n",
    "\n",
    "for x in arr:\n",
    "    if x in arr_cnt.keys(): #리스트의 원소가 dict의 key로 존재하면\n",
    "        arr_cnt[x] += 1\n",
    "        \n",
    "    else: #리스트의 원소가 dict 의 키로 존재하지 않으면\n",
    "        arr_cnt[x] = 1\n",
    "\n",
    "arr_cnt"
   ]
  },
  {
   "cell_type": "markdown",
   "metadata": {},
   "source": [
    "## 카테고리별 원소 개수 찾기 : defaultdict 사용 시"
   ]
  },
  {
   "cell_type": "code",
   "execution_count": 24,
   "metadata": {
    "execution": {
     "iopub.execute_input": "2021-03-30T07:26:10.718214Z",
     "iopub.status.busy": "2021-03-30T07:26:10.718214Z",
     "iopub.status.idle": "2021-03-30T07:26:10.724198Z",
     "shell.execute_reply": "2021-03-30T07:26:10.723247Z",
     "shell.execute_reply.started": "2021-03-30T07:26:10.718214Z"
    }
   },
   "outputs": [],
   "source": [
    "from collections import defaultdict"
   ]
  },
  {
   "cell_type": "code",
   "execution_count": 25,
   "metadata": {
    "execution": {
     "iopub.execute_input": "2021-03-30T07:28:21.804584Z",
     "iopub.status.busy": "2021-03-30T07:28:21.804584Z",
     "iopub.status.idle": "2021-03-30T07:28:21.812563Z",
     "shell.execute_reply": "2021-03-30T07:28:21.812563Z",
     "shell.execute_reply.started": "2021-03-30T07:28:21.804584Z"
    }
   },
   "outputs": [
    {
     "data": {
      "text/plain": [
       "animation    1\n",
       "comedy       3\n",
       "drama        2\n",
       "dtype: int64"
      ]
     },
     "execution_count": 25,
     "metadata": {},
     "output_type": "execute_result"
    }
   ],
   "source": [
    "arr_cnt2=defaultdict(int) #empty defaultdict, value들의 데이터타입은 int\n",
    "for x in arr:\n",
    "    arr_cnt2[x]+=1\n",
    "arr_cnt2\n",
    "pd.Series(arr_cnt2)"
   ]
  },
  {
   "cell_type": "code",
   "execution_count": 26,
   "metadata": {
    "execution": {
     "iopub.execute_input": "2021-03-30T07:30:00.187286Z",
     "iopub.status.busy": "2021-03-30T07:30:00.187286Z",
     "iopub.status.idle": "2021-03-30T07:30:00.203634Z",
     "shell.execute_reply": "2021-03-30T07:30:00.202636Z",
     "shell.execute_reply.started": "2021-03-30T07:30:00.187286Z"
    }
   },
   "outputs": [
    {
     "data": {
      "text/plain": [
       "Animation       105\n",
       "Children's      251\n",
       "Comedy         1200\n",
       "Adventure       283\n",
       "Fantasy          68\n",
       "Romance         471\n",
       "Drama          1603\n",
       "Action          503\n",
       "Crime           211\n",
       "Thriller        492\n",
       "Horror          343\n",
       "Sci-Fi          276\n",
       "Documentary     127\n",
       "War             143\n",
       "Musical         114\n",
       "Mystery         106\n",
       "Film-Noir        44\n",
       "Western          68\n",
       "dtype: int64"
      ]
     },
     "execution_count": 26,
     "metadata": {},
     "output_type": "execute_result"
    }
   ],
   "source": [
    "genre_counts = defaultdict(int)\n",
    "\n",
    "for genres in movies['genres'].str.split('|'):\n",
    "    for g in genres:\n",
    "        genre_counts[g] += 1\n",
    "\n",
    "genre_counts = pd.Series(genre_counts) #defaultdict 타입을 Series 타입으로 변환\n",
    "genre_counts"
   ]
  },
  {
   "cell_type": "code",
   "execution_count": 27,
   "metadata": {
    "execution": {
     "iopub.execute_input": "2021-03-30T07:30:30.911141Z",
     "iopub.status.busy": "2021-03-30T07:30:30.910143Z",
     "iopub.status.idle": "2021-03-30T07:30:30.918564Z",
     "shell.execute_reply": "2021-03-30T07:30:30.917618Z",
     "shell.execute_reply.started": "2021-03-30T07:30:30.911141Z"
    }
   },
   "outputs": [
    {
     "data": {
      "text/plain": [
       "1603"
      ]
     },
     "execution_count": 27,
     "metadata": {},
     "output_type": "execute_result"
    }
   ],
   "source": [
    "# 장르가 Drama인 영화 개수\n",
    "genre_counts.loc['Drama']"
   ]
  },
  {
   "cell_type": "code",
   "execution_count": 28,
   "metadata": {
    "execution": {
     "iopub.execute_input": "2021-03-30T07:30:47.257411Z",
     "iopub.status.busy": "2021-03-30T07:30:47.256380Z",
     "iopub.status.idle": "2021-03-30T07:30:47.265355Z",
     "shell.execute_reply": "2021-03-30T07:30:47.264356Z",
     "shell.execute_reply.started": "2021-03-30T07:30:47.257411Z"
    }
   },
   "outputs": [
    {
     "data": {
      "text/plain": [
       "Action          503\n",
       "Adventure       283\n",
       "Animation       105\n",
       "Children's      251\n",
       "Comedy         1200\n",
       "Crime           211\n",
       "Documentary     127\n",
       "Drama          1603\n",
       "Fantasy          68\n",
       "Film-Noir        44\n",
       "Horror          343\n",
       "Musical         114\n",
       "Mystery         106\n",
       "Romance         471\n",
       "Sci-Fi          276\n",
       "Thriller        492\n",
       "War             143\n",
       "Western          68\n",
       "dtype: int64"
      ]
     },
     "execution_count": 28,
     "metadata": {},
     "output_type": "execute_result"
    }
   ],
   "source": [
    "# 인덱스 알파벳 순 정렬\n",
    "genre_counts.sort_index() "
   ]
  },
  {
   "cell_type": "code",
   "execution_count": 29,
   "metadata": {
    "execution": {
     "iopub.execute_input": "2021-03-30T07:31:22.926144Z",
     "iopub.status.busy": "2021-03-30T07:31:22.925145Z",
     "iopub.status.idle": "2021-03-30T07:31:22.940105Z",
     "shell.execute_reply": "2021-03-30T07:31:22.938123Z",
     "shell.execute_reply.started": "2021-03-30T07:31:22.926144Z"
    }
   },
   "outputs": [
    {
     "data": {
      "text/plain": [
       "Film-Noir        44\n",
       "Western          68\n",
       "Fantasy          68\n",
       "Animation       105\n",
       "Mystery         106\n",
       "Musical         114\n",
       "Documentary     127\n",
       "War             143\n",
       "Crime           211\n",
       "Children's      251\n",
       "Sci-Fi          276\n",
       "Adventure       283\n",
       "Horror          343\n",
       "Romance         471\n",
       "Thriller        492\n",
       "Action          503\n",
       "Comedy         1200\n",
       "Drama          1603\n",
       "dtype: int64"
      ]
     },
     "execution_count": 29,
     "metadata": {},
     "output_type": "execute_result"
    }
   ],
   "source": [
    "s=genre_counts.sort_values()\n",
    "s"
   ]
  },
  {
   "cell_type": "code",
   "execution_count": 30,
   "metadata": {
    "execution": {
     "iopub.execute_input": "2021-03-30T07:31:38.602389Z",
     "iopub.status.busy": "2021-03-30T07:31:38.601392Z",
     "iopub.status.idle": "2021-03-30T07:31:39.184516Z",
     "shell.execute_reply": "2021-03-30T07:31:39.183520Z",
     "shell.execute_reply.started": "2021-03-30T07:31:38.601392Z"
    }
   },
   "outputs": [
    {
     "data": {
      "image/png": "[encoded data removed]",
      "text/plain": [
       "<Figure size 432x288 with 1 Axes>"
      ]
     },
     "metadata": {
      "needs_background": "light"
     },
     "output_type": "display_data"
    }
   ],
   "source": [
    "plt.barh(y = s.index, width = s.values)\n",
    "plt.show()"
   ]
  },
  {
   "cell_type": "code",
   "execution_count": 31,
   "metadata": {
    "execution": {
     "iopub.execute_input": "2021-03-30T07:31:55.561238Z",
     "iopub.status.busy": "2021-03-30T07:31:55.561238Z",
     "iopub.status.idle": "2021-03-30T07:31:56.423263Z",
     "shell.execute_reply": "2021-03-30T07:31:56.422267Z",
     "shell.execute_reply.started": "2021-03-30T07:31:55.561238Z"
    }
   },
   "outputs": [
    {
     "data": {
      "image/png": "[encoded data removed]",
      "text/plain": [
       "<Figure size 432x288 with 1 Axes>"
      ]
     },
     "metadata": {
      "needs_background": "light"
     },
     "output_type": "display_data"
    }
   ],
   "source": [
    "sns.barplot(x = s.values, y = s.index)\n",
    "plt.show()"
   ]
  }
 ],
 "metadata": {
  "kernelspec": {
   "display_name": "Python 3",
   "language": "python",
   "name": "python3"
  },
  "language_info": {
   "codemirror_mode": {
    "name": "ipython",
    "version": 3
   },
   "file_extension": ".py",
   "mimetype": "text/x-python",
   "name": "python",
   "nbconvert_exporter": "python",
   "pygments_lexer": "ipython3",
   "version": "3.8.8"
  }
 },
 "nbformat": 4,
 "nbformat_minor": 4
}
