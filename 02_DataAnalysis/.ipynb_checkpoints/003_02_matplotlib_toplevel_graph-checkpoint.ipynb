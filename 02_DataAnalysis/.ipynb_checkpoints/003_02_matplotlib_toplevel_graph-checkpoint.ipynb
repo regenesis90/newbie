{
 "cells": [
  {
   "cell_type": "code",
   "execution_count": 2,
   "metadata": {
    "execution": {
     "iopub.execute_input": "2021-03-30T01:11:47.156474Z",
     "iopub.status.busy": "2021-03-30T01:11:47.156474Z",
     "iopub.status.idle": "2021-03-30T01:11:49.028818Z",
     "shell.execute_reply": "2021-03-30T01:11:49.027904Z",
     "shell.execute_reply.started": "2021-03-30T01:11:47.156474Z"
    }
   },
   "outputs": [],
   "source": [
    "import matplotlib.pyplot as plt #matplotlib 패키지(디렉토리)의 pyplot 모듈(파일)을 plt라는 별명으로 import\n",
    "import seaborn as sns #예제 데이터셋"
   ]
  },
  {
   "cell_type": "markdown",
   "metadata": {},
   "source": [
    "# Data"
   ]
  },
  {
   "cell_type": "code",
   "execution_count": 3,
   "metadata": {
    "execution": {
     "iopub.execute_input": "2021-03-30T01:11:49.029815Z",
     "iopub.status.busy": "2021-03-30T01:11:49.029815Z",
     "iopub.status.idle": "2021-03-30T01:11:49.084672Z",
     "shell.execute_reply": "2021-03-30T01:11:49.083677Z",
     "shell.execute_reply.started": "2021-03-30T01:11:49.029815Z"
    }
   },
   "outputs": [
    {
     "data": {
      "text/html": [
       "<div>\n",
       "<style scoped>\n",
       "    .dataframe tbody tr th:only-of-type {\n",
       "        vertical-align: middle;\n",
       "    }\n",
       "\n",
       "    .dataframe tbody tr th {\n",
       "        vertical-align: top;\n",
       "    }\n",
       "\n",
       "    .dataframe thead th {\n",
       "        text-align: right;\n",
       "    }\n",
       "</style>\n",
       "<table border=\"1\" class=\"dataframe\">\n",
       "  <thead>\n",
       "    <tr style=\"text-align: right;\">\n",
       "      <th></th>\n",
       "      <th>total_bill</th>\n",
       "      <th>tip</th>\n",
       "      <th>sex</th>\n",
       "      <th>smoker</th>\n",
       "      <th>day</th>\n",
       "      <th>time</th>\n",
       "      <th>size</th>\n",
       "    </tr>\n",
       "  </thead>\n",
       "  <tbody>\n",
       "    <tr>\n",
       "      <th>0</th>\n",
       "      <td>16.99</td>\n",
       "      <td>1.01</td>\n",
       "      <td>Female</td>\n",
       "      <td>No</td>\n",
       "      <td>Sun</td>\n",
       "      <td>Dinner</td>\n",
       "      <td>2</td>\n",
       "    </tr>\n",
       "    <tr>\n",
       "      <th>1</th>\n",
       "      <td>10.34</td>\n",
       "      <td>1.66</td>\n",
       "      <td>Male</td>\n",
       "      <td>No</td>\n",
       "      <td>Sun</td>\n",
       "      <td>Dinner</td>\n",
       "      <td>3</td>\n",
       "    </tr>\n",
       "    <tr>\n",
       "      <th>2</th>\n",
       "      <td>21.01</td>\n",
       "      <td>3.50</td>\n",
       "      <td>Male</td>\n",
       "      <td>No</td>\n",
       "      <td>Sun</td>\n",
       "      <td>Dinner</td>\n",
       "      <td>3</td>\n",
       "    </tr>\n",
       "    <tr>\n",
       "      <th>3</th>\n",
       "      <td>23.68</td>\n",
       "      <td>3.31</td>\n",
       "      <td>Male</td>\n",
       "      <td>No</td>\n",
       "      <td>Sun</td>\n",
       "      <td>Dinner</td>\n",
       "      <td>2</td>\n",
       "    </tr>\n",
       "    <tr>\n",
       "      <th>4</th>\n",
       "      <td>24.59</td>\n",
       "      <td>3.61</td>\n",
       "      <td>Female</td>\n",
       "      <td>No</td>\n",
       "      <td>Sun</td>\n",
       "      <td>Dinner</td>\n",
       "      <td>4</td>\n",
       "    </tr>\n",
       "    <tr>\n",
       "      <th>...</th>\n",
       "      <td>...</td>\n",
       "      <td>...</td>\n",
       "      <td>...</td>\n",
       "      <td>...</td>\n",
       "      <td>...</td>\n",
       "      <td>...</td>\n",
       "      <td>...</td>\n",
       "    </tr>\n",
       "    <tr>\n",
       "      <th>239</th>\n",
       "      <td>29.03</td>\n",
       "      <td>5.92</td>\n",
       "      <td>Male</td>\n",
       "      <td>No</td>\n",
       "      <td>Sat</td>\n",
       "      <td>Dinner</td>\n",
       "      <td>3</td>\n",
       "    </tr>\n",
       "    <tr>\n",
       "      <th>240</th>\n",
       "      <td>27.18</td>\n",
       "      <td>2.00</td>\n",
       "      <td>Female</td>\n",
       "      <td>Yes</td>\n",
       "      <td>Sat</td>\n",
       "      <td>Dinner</td>\n",
       "      <td>2</td>\n",
       "    </tr>\n",
       "    <tr>\n",
       "      <th>241</th>\n",
       "      <td>22.67</td>\n",
       "      <td>2.00</td>\n",
       "      <td>Male</td>\n",
       "      <td>Yes</td>\n",
       "      <td>Sat</td>\n",
       "      <td>Dinner</td>\n",
       "      <td>2</td>\n",
       "    </tr>\n",
       "    <tr>\n",
       "      <th>242</th>\n",
       "      <td>17.82</td>\n",
       "      <td>1.75</td>\n",
       "      <td>Male</td>\n",
       "      <td>No</td>\n",
       "      <td>Sat</td>\n",
       "      <td>Dinner</td>\n",
       "      <td>2</td>\n",
       "    </tr>\n",
       "    <tr>\n",
       "      <th>243</th>\n",
       "      <td>18.78</td>\n",
       "      <td>3.00</td>\n",
       "      <td>Female</td>\n",
       "      <td>No</td>\n",
       "      <td>Thur</td>\n",
       "      <td>Dinner</td>\n",
       "      <td>2</td>\n",
       "    </tr>\n",
       "  </tbody>\n",
       "</table>\n",
       "<p>244 rows × 7 columns</p>\n",
       "</div>"
      ],
      "text/plain": [
       "     total_bill   tip     sex smoker   day    time  size\n",
       "0         16.99  1.01  Female     No   Sun  Dinner     2\n",
       "1         10.34  1.66    Male     No   Sun  Dinner     3\n",
       "2         21.01  3.50    Male     No   Sun  Dinner     3\n",
       "3         23.68  3.31    Male     No   Sun  Dinner     2\n",
       "4         24.59  3.61  Female     No   Sun  Dinner     4\n",
       "..          ...   ...     ...    ...   ...     ...   ...\n",
       "239       29.03  5.92    Male     No   Sat  Dinner     3\n",
       "240       27.18  2.00  Female    Yes   Sat  Dinner     2\n",
       "241       22.67  2.00    Male    Yes   Sat  Dinner     2\n",
       "242       17.82  1.75    Male     No   Sat  Dinner     2\n",
       "243       18.78  3.00  Female     No  Thur  Dinner     2\n",
       "\n",
       "[244 rows x 7 columns]"
      ]
     },
     "execution_count": 3,
     "metadata": {},
     "output_type": "execute_result"
    }
   ],
   "source": [
    "# seaborn 패키지의 tips 예제 데이터셋 로드\n",
    "tips=sns.load_dataset('tips')\n",
    "tips"
   ]
  },
  {
   "cell_type": "code",
   "execution_count": 4,
   "metadata": {
    "execution": {
     "iopub.execute_input": "2021-03-30T01:11:49.087662Z",
     "iopub.status.busy": "2021-03-30T01:11:49.086667Z",
     "iopub.status.idle": "2021-03-30T01:11:49.105615Z",
     "shell.execute_reply": "2021-03-30T01:11:49.104616Z",
     "shell.execute_reply.started": "2021-03-30T01:11:49.087662Z"
    }
   },
   "outputs": [
    {
     "data": {
      "text/html": [
       "<div>\n",
       "<style scoped>\n",
       "    .dataframe tbody tr th:only-of-type {\n",
       "        vertical-align: middle;\n",
       "    }\n",
       "\n",
       "    .dataframe tbody tr th {\n",
       "        vertical-align: top;\n",
       "    }\n",
       "\n",
       "    .dataframe thead th {\n",
       "        text-align: right;\n",
       "    }\n",
       "</style>\n",
       "<table border=\"1\" class=\"dataframe\">\n",
       "  <thead>\n",
       "    <tr style=\"text-align: right;\">\n",
       "      <th></th>\n",
       "      <th>total_bill</th>\n",
       "      <th>tip</th>\n",
       "      <th>sex</th>\n",
       "      <th>smoker</th>\n",
       "      <th>day</th>\n",
       "      <th>time</th>\n",
       "      <th>size</th>\n",
       "    </tr>\n",
       "  </thead>\n",
       "  <tbody>\n",
       "    <tr>\n",
       "      <th>0</th>\n",
       "      <td>16.99</td>\n",
       "      <td>1.01</td>\n",
       "      <td>Female</td>\n",
       "      <td>No</td>\n",
       "      <td>Sun</td>\n",
       "      <td>Dinner</td>\n",
       "      <td>2</td>\n",
       "    </tr>\n",
       "    <tr>\n",
       "      <th>1</th>\n",
       "      <td>10.34</td>\n",
       "      <td>1.66</td>\n",
       "      <td>Male</td>\n",
       "      <td>No</td>\n",
       "      <td>Sun</td>\n",
       "      <td>Dinner</td>\n",
       "      <td>3</td>\n",
       "    </tr>\n",
       "    <tr>\n",
       "      <th>2</th>\n",
       "      <td>21.01</td>\n",
       "      <td>3.50</td>\n",
       "      <td>Male</td>\n",
       "      <td>No</td>\n",
       "      <td>Sun</td>\n",
       "      <td>Dinner</td>\n",
       "      <td>3</td>\n",
       "    </tr>\n",
       "    <tr>\n",
       "      <th>3</th>\n",
       "      <td>23.68</td>\n",
       "      <td>3.31</td>\n",
       "      <td>Male</td>\n",
       "      <td>No</td>\n",
       "      <td>Sun</td>\n",
       "      <td>Dinner</td>\n",
       "      <td>2</td>\n",
       "    </tr>\n",
       "    <tr>\n",
       "      <th>4</th>\n",
       "      <td>24.59</td>\n",
       "      <td>3.61</td>\n",
       "      <td>Female</td>\n",
       "      <td>No</td>\n",
       "      <td>Sun</td>\n",
       "      <td>Dinner</td>\n",
       "      <td>4</td>\n",
       "    </tr>\n",
       "  </tbody>\n",
       "</table>\n",
       "</div>"
      ],
      "text/plain": [
       "   total_bill   tip     sex smoker  day    time  size\n",
       "0       16.99  1.01  Female     No  Sun  Dinner     2\n",
       "1       10.34  1.66    Male     No  Sun  Dinner     3\n",
       "2       21.01  3.50    Male     No  Sun  Dinner     3\n",
       "3       23.68  3.31    Male     No  Sun  Dinner     2\n",
       "4       24.59  3.61  Female     No  Sun  Dinner     4"
      ]
     },
     "execution_count": 4,
     "metadata": {},
     "output_type": "execute_result"
    }
   ],
   "source": [
    "tips.head()"
   ]
  },
  {
   "cell_type": "code",
   "execution_count": 5,
   "metadata": {
    "execution": {
     "iopub.execute_input": "2021-03-30T01:11:49.107609Z",
     "iopub.status.busy": "2021-03-30T01:11:49.107609Z",
     "iopub.status.idle": "2021-03-30T01:11:49.135535Z",
     "shell.execute_reply": "2021-03-30T01:11:49.134536Z",
     "shell.execute_reply.started": "2021-03-30T01:11:49.107609Z"
    }
   },
   "outputs": [
    {
     "data": {
      "text/html": [
       "<div>\n",
       "<style scoped>\n",
       "    .dataframe tbody tr th:only-of-type {\n",
       "        vertical-align: middle;\n",
       "    }\n",
       "\n",
       "    .dataframe tbody tr th {\n",
       "        vertical-align: top;\n",
       "    }\n",
       "\n",
       "    .dataframe thead th {\n",
       "        text-align: right;\n",
       "    }\n",
       "</style>\n",
       "<table border=\"1\" class=\"dataframe\">\n",
       "  <thead>\n",
       "    <tr style=\"text-align: right;\">\n",
       "      <th></th>\n",
       "      <th>total_bill</th>\n",
       "      <th>tip</th>\n",
       "      <th>sex</th>\n",
       "      <th>smoker</th>\n",
       "      <th>day</th>\n",
       "      <th>time</th>\n",
       "      <th>size</th>\n",
       "    </tr>\n",
       "  </thead>\n",
       "  <tbody>\n",
       "    <tr>\n",
       "      <th>239</th>\n",
       "      <td>29.03</td>\n",
       "      <td>5.92</td>\n",
       "      <td>Male</td>\n",
       "      <td>No</td>\n",
       "      <td>Sat</td>\n",
       "      <td>Dinner</td>\n",
       "      <td>3</td>\n",
       "    </tr>\n",
       "    <tr>\n",
       "      <th>240</th>\n",
       "      <td>27.18</td>\n",
       "      <td>2.00</td>\n",
       "      <td>Female</td>\n",
       "      <td>Yes</td>\n",
       "      <td>Sat</td>\n",
       "      <td>Dinner</td>\n",
       "      <td>2</td>\n",
       "    </tr>\n",
       "    <tr>\n",
       "      <th>241</th>\n",
       "      <td>22.67</td>\n",
       "      <td>2.00</td>\n",
       "      <td>Male</td>\n",
       "      <td>Yes</td>\n",
       "      <td>Sat</td>\n",
       "      <td>Dinner</td>\n",
       "      <td>2</td>\n",
       "    </tr>\n",
       "    <tr>\n",
       "      <th>242</th>\n",
       "      <td>17.82</td>\n",
       "      <td>1.75</td>\n",
       "      <td>Male</td>\n",
       "      <td>No</td>\n",
       "      <td>Sat</td>\n",
       "      <td>Dinner</td>\n",
       "      <td>2</td>\n",
       "    </tr>\n",
       "    <tr>\n",
       "      <th>243</th>\n",
       "      <td>18.78</td>\n",
       "      <td>3.00</td>\n",
       "      <td>Female</td>\n",
       "      <td>No</td>\n",
       "      <td>Thur</td>\n",
       "      <td>Dinner</td>\n",
       "      <td>2</td>\n",
       "    </tr>\n",
       "  </tbody>\n",
       "</table>\n",
       "</div>"
      ],
      "text/plain": [
       "     total_bill   tip     sex smoker   day    time  size\n",
       "239       29.03  5.92    Male     No   Sat  Dinner     3\n",
       "240       27.18  2.00  Female    Yes   Sat  Dinner     2\n",
       "241       22.67  2.00    Male    Yes   Sat  Dinner     2\n",
       "242       17.82  1.75    Male     No   Sat  Dinner     2\n",
       "243       18.78  3.00  Female     No  Thur  Dinner     2"
      ]
     },
     "execution_count": 5,
     "metadata": {},
     "output_type": "execute_result"
    }
   ],
   "source": [
    "tips.tail()"
   ]
  },
  {
   "cell_type": "markdown",
   "metadata": {},
   "source": [
    "# matplotlib.pyplot 모듈을 사용한 시각화(visualization)\n",
    "\n",
    "1. figure 객체 생성\n",
    "2. figure 객체에 subplot 생성해서 추가\n",
    "3. subplot에 그래프를 그림\n",
    "4. 그래프 옵션 설정\n",
    "5. 그래프 보여주기"
   ]
  },
  {
   "cell_type": "markdown",
   "metadata": {},
   "source": [
    "## 히스토그램 그리기"
   ]
  },
  {
   "cell_type": "code",
   "execution_count": 12,
   "metadata": {
    "execution": {
     "iopub.execute_input": "2021-03-30T01:14:06.865284Z",
     "iopub.status.busy": "2021-03-30T01:14:06.864287Z",
     "iopub.status.idle": "2021-03-30T01:14:07.130186Z",
     "shell.execute_reply": "2021-03-30T01:14:07.129230Z",
     "shell.execute_reply.started": "2021-03-30T01:14:06.865284Z"
    }
   },
   "outputs": [
    {
     "data": {
      "image/png": "[encoded data removed]",
      "text/plain": [
       "<Figure size 432x288 with 1 Axes>"
      ]
     },
     "metadata": {
      "needs_background": "light"
     },
     "output_type": "display_data"
    }
   ],
   "source": [
    "#1. figure 객체 생성\n",
    "fig=plt.figure()\n",
    "\n",
    "#2. figure 객체에 subplot을 생성해서 추가\n",
    "# nrows=1(subplot의 row 개수), ncols=1(subplot의 column 개수), index=1(subplot 번호)\n",
    "axis=fig.add_subplot(1,1,1) # 비어있는 subplot이 나타난다.\n",
    "\n",
    "#3. subplot에 그림을 그림\n",
    "axis.hist(x=tips['total_bill'])\n",
    "\n",
    "#4. 그래프 옵션 설정\n",
    "axis.set_title('Histogram of Total Bill') #제목 붙이기\n",
    "axis.set_xlabel('Total Bill') #x축 레이블 붙이기\n",
    "axis.set_ylabel('Counts') #y축 레벨 붙이기\n",
    "\n",
    "#5. 그래프 보여주기\n",
    "plt.show()"
   ]
  },
  {
   "cell_type": "markdown",
   "metadata": {},
   "source": [
    "## 1개의 Figure에 histogram과 scatterplot 그리기"
   ]
  },
  {
   "cell_type": "code",
   "execution_count": 15,
   "metadata": {
    "execution": {
     "iopub.execute_input": "2021-03-30T01:21:03.306603Z",
     "iopub.status.busy": "2021-03-30T01:21:03.306603Z",
     "iopub.status.idle": "2021-03-30T01:21:04.003474Z",
     "shell.execute_reply": "2021-03-30T01:21:04.003474Z",
     "shell.execute_reply.started": "2021-03-30T01:21:03.306603Z"
    }
   },
   "outputs": [
    {
     "data": {
      "image/png": "[encoded data removed]",
      "text/plain": [
       "<Figure size 432x288 with 2 Axes>"
      ]
     },
     "metadata": {
      "needs_background": "light"
     },
     "output_type": "display_data"
    }
   ],
   "source": [
    "#1. figure 생성\n",
    "fig=plt.figure()\n",
    "\n",
    "#2. subplot 추가 : 2개의 subplot(ax1, ax2)이 필요하다.\n",
    "ax1=fig.add_subplot(1,2,1) # 1행 2열의 subplot 중 1번째 \n",
    "ax2=fig.add_subplot(1,2,2) # 1행 2열의 subplot 중 2번째\n",
    "\n",
    "#3. subplot에 그래프 그리기\n",
    "# ax1에 히스토그램, ax2에 산점도 그리기\n",
    "ax1.hist(x=tips['total_bill'])\n",
    "ax2.scatter(x=tips['total_bill'], y=tips['tip'])\n",
    "\n",
    "#4. 그래프 옵션\n",
    "ax1.set_title('Histogram of Total Bill')\n",
    "ax2.set_title('Total Bill vs Tip')\n",
    "\n",
    "#5. 그래프 보여주기\n",
    "plt.show()"
   ]
  },
  {
   "cell_type": "code",
   "execution_count": 19,
   "metadata": {
    "execution": {
     "iopub.execute_input": "2021-03-30T01:22:05.380538Z",
     "iopub.status.busy": "2021-03-30T01:22:05.380538Z",
     "iopub.status.idle": "2021-03-30T01:22:05.615907Z",
     "shell.execute_reply": "2021-03-30T01:22:05.614939Z",
     "shell.execute_reply.started": "2021-03-30T01:22:05.380538Z"
    }
   },
   "outputs": [
    {
     "data": {
      "image/png": "[encoded data removed]",
      "text/plain": [
       "<Figure size 432x288 with 2 Axes>"
      ]
     },
     "metadata": {
      "needs_background": "light"
     },
     "output_type": "display_data"
    }
   ],
   "source": [
    "#1. figure 생성\n",
    "fig=plt.figure()\n",
    "\n",
    "#2. subplot 추가 : 2개의 subplot(ax1, ax2)이 필요하다.\n",
    "ax1=fig.add_subplot(2,1,1) # 2행 1열의 subplot 중 1번째 \n",
    "ax2=fig.add_subplot(2,1,2) # 2행 1열의 subplot 중 2번째\n",
    "\n",
    "#3. subplot에 그래프 그리기\n",
    "# ax1에 히스토그램, ax2에 산점도 그리기\n",
    "ax1.hist(x=tips['total_bill'])\n",
    "ax2.scatter(x=tips['total_bill'], y=tips['tip'])\n",
    "\n",
    "#4. 그래프 보여주기\n",
    "plt.show()"
   ]
  },
  {
   "cell_type": "markdown",
   "metadata": {},
   "source": [
    "## Figure와 Subplot을 한번에 생성/추가하기"
   ]
  },
  {
   "cell_type": "code",
   "execution_count": 20,
   "metadata": {
    "execution": {
     "iopub.execute_input": "2021-03-30T01:22:39.559092Z",
     "iopub.status.busy": "2021-03-30T01:22:39.558096Z",
     "iopub.status.idle": "2021-03-30T01:22:39.844329Z",
     "shell.execute_reply": "2021-03-30T01:22:39.843365Z",
     "shell.execute_reply.started": "2021-03-30T01:22:39.559092Z"
    }
   },
   "outputs": [
    {
     "data": {
      "text/plain": [
       "(<Figure size 432x288 with 2 Axes>,\n",
       " array([<AxesSubplot:>, <AxesSubplot:>], dtype=object))"
      ]
     },
     "execution_count": 20,
     "metadata": {},
     "output_type": "execute_result"
    },
    {
     "data": {
      "image/png": "[encoded data removed]",
      "text/plain": [
       "<Figure size 432x288 with 2 Axes>"
      ]
     },
     "metadata": {
      "needs_background": "light"
     },
     "output_type": "display_data"
    }
   ],
   "source": [
    "fig, axes=plt.subplots(nrows=2, ncols=1)\n",
    "fig, axes\n",
    "#> matplotlib.pyplot.subplots() 함수의 리턴:\n",
    "#> (1) Figure 객체\n",
    "#> (2) Subplot들의 배열"
   ]
  },
  {
   "cell_type": "code",
   "execution_count": 21,
   "metadata": {
    "execution": {
     "iopub.execute_input": "2021-03-30T01:23:44.495727Z",
     "iopub.status.busy": "2021-03-30T01:23:44.495727Z",
     "iopub.status.idle": "2021-03-30T01:23:44.759022Z",
     "shell.execute_reply": "2021-03-30T01:23:44.759022Z",
     "shell.execute_reply.started": "2021-03-30T01:23:44.495727Z"
    }
   },
   "outputs": [
    {
     "data": {
      "image/png": "[encoded data removed]",
      "text/plain": [
       "<Figure size 432x288 with 2 Axes>"
      ]
     },
     "metadata": {
      "needs_background": "light"
     },
     "output_type": "display_data"
    }
   ],
   "source": [
    "fig, axes=plt.subplots(nrows=2, ncols=1)\n",
    "axes[0].hist(x=tips['total_bill'])\n",
    "axes[1].hist(x=tips['tip'])\n",
    "plt.show()"
   ]
  },
  {
   "cell_type": "code",
   "execution_count": 23,
   "metadata": {
    "execution": {
     "iopub.execute_input": "2021-03-30T01:24:19.657315Z",
     "iopub.status.busy": "2021-03-30T01:24:19.657315Z",
     "iopub.status.idle": "2021-03-30T01:24:19.955082Z",
     "shell.execute_reply": "2021-03-30T01:24:19.954084Z",
     "shell.execute_reply.started": "2021-03-30T01:24:19.657315Z"
    }
   },
   "outputs": [
    {
     "data": {
      "image/png": "[encoded data removed]",
      "text/plain": [
       "<Figure size 432x288 with 2 Axes>"
      ]
     },
     "metadata": {
      "needs_background": "light"
     },
     "output_type": "display_data"
    }
   ],
   "source": [
    "fig, axes=plt.subplots(nrows=1, ncols=2)\n",
    "axes[0].hist(x=tips['total_bill'])\n",
    "axes[1].hist(x=tips['tip'])\n",
    "plt.show()"
   ]
  },
  {
   "cell_type": "markdown",
   "metadata": {},
   "source": [
    "## Figure, Subplot 생성/추가 과정 생략이 가능한 경우"
   ]
  },
  {
   "cell_type": "code",
   "execution_count": 24,
   "metadata": {
    "execution": {
     "iopub.execute_input": "2021-03-30T01:25:22.735487Z",
     "iopub.status.busy": "2021-03-30T01:25:22.735487Z",
     "iopub.status.idle": "2021-03-30T01:25:23.007562Z",
     "shell.execute_reply": "2021-03-30T01:25:23.006583Z",
     "shell.execute_reply.started": "2021-03-30T01:25:22.735487Z"
    }
   },
   "outputs": [
    {
     "data": {
      "image/png": "[encoded data removed]",
      "text/plain": [
       "<Figure size 432x288 with 1 Axes>"
      ]
     },
     "metadata": {
      "needs_background": "light"
     },
     "output_type": "display_data"
    }
   ],
   "source": [
    "# 1개의 figure에 subplot이 1개만 있는 경우,\n",
    "# figure와 subplot 생성 과정을 생략하고,\n",
    "# matplotlib.pyplot 모듈의 top-level 함수(plot, hist, scatter, boxplot, ...) 들만 사용헤도 된다.\n",
    "plt.hist(x=tips['total_bill'])\n",
    "plt.show()"
   ]
  },
  {
   "cell_type": "markdown",
   "metadata": {},
   "source": [
    "# matplotlib.pyplot의 top-level 함수"
   ]
  },
  {
   "cell_type": "code",
   "execution_count": 25,
   "metadata": {
    "execution": {
     "iopub.execute_input": "2021-03-30T01:26:50.244141Z",
     "iopub.status.busy": "2021-03-30T01:26:50.243144Z",
     "iopub.status.idle": "2021-03-30T01:26:50.249128Z",
     "shell.execute_reply": "2021-03-30T01:26:50.248131Z",
     "shell.execute_reply.started": "2021-03-30T01:26:50.244141Z"
    }
   },
   "outputs": [],
   "source": [
    "# 먼저, np.random 모듈 사용을 위해 numpy 패키지를 import 한다.\n",
    "import numpy as np"
   ]
  },
  {
   "cell_type": "markdown",
   "metadata": {},
   "source": [
    "## 선 그래프(plot)"
   ]
  },
  {
   "cell_type": "code",
   "execution_count": 26,
   "metadata": {
    "execution": {
     "iopub.execute_input": "2021-03-30T01:27:00.127002Z",
     "iopub.status.busy": "2021-03-30T01:27:00.126003Z",
     "iopub.status.idle": "2021-03-30T01:27:00.138966Z",
     "shell.execute_reply": "2021-03-30T01:27:00.137968Z",
     "shell.execute_reply.started": "2021-03-30T01:27:00.127002Z"
    }
   },
   "outputs": [
    {
     "name": "stdout",
     "output_type": "stream",
     "text": [
      "[0.52692166 0.78254256 0.62263364 0.10682615 0.94545019 0.00486788\n",
      " 0.01210229 0.8926276  0.76346324 0.83431418]\n"
     ]
    }
   ],
   "source": [
    "data=np.random.rand(10)\n",
    "print(data)"
   ]
  },
  {
   "cell_type": "markdown",
   "metadata": {},
   "source": [
    "### 선 그래프 기본형"
   ]
  },
  {
   "cell_type": "code",
   "execution_count": 27,
   "metadata": {
    "execution": {
     "iopub.execute_input": "2021-03-30T01:27:11.322841Z",
     "iopub.status.busy": "2021-03-30T01:27:11.322841Z",
     "iopub.status.idle": "2021-03-30T01:27:11.495683Z",
     "shell.execute_reply": "2021-03-30T01:27:11.495683Z",
     "shell.execute_reply.started": "2021-03-30T01:27:11.322841Z"
    }
   },
   "outputs": [
    {
     "data": {
      "image/png": "[encoded data removed]",
      "text/plain": [
       "<Figure size 432x288 with 1 Axes>"
      ]
     },
     "metadata": {
      "needs_background": "light"
     },
     "output_type": "display_data"
    }
   ],
   "source": [
    "plt.plot(data)\n",
    "plt.grid()\n",
    "plt.show()"
   ]
  },
  {
   "cell_type": "markdown",
   "metadata": {},
   "source": [
    "### 선 그래프의 색상, 선 스타일 바꾸기"
   ]
  },
  {
   "cell_type": "code",
   "execution_count": 28,
   "metadata": {
    "execution": {
     "iopub.execute_input": "2021-03-30T01:28:23.360953Z",
     "iopub.status.busy": "2021-03-30T01:28:23.360953Z",
     "iopub.status.idle": "2021-03-30T01:28:23.531496Z",
     "shell.execute_reply": "2021-03-30T01:28:23.531496Z",
     "shell.execute_reply.started": "2021-03-30T01:28:23.360953Z"
    }
   },
   "outputs": [
    {
     "data": {
      "image/png": "[encoded data removed]",
      "text/plain": [
       "<Figure size 432x288 with 1 Axes>"
      ]
     },
     "metadata": {
      "needs_background": "light"
     },
     "output_type": "display_data"
    }
   ],
   "source": [
    "# 파란색 선, 동그란 점이 찍힌 선 그래프\n",
    "plt.plot(data, 'bo-')\n",
    "plt.show()"
   ]
  },
  {
   "cell_type": "code",
   "execution_count": 29,
   "metadata": {
    "execution": {
     "iopub.execute_input": "2021-03-30T01:28:54.756422Z",
     "iopub.status.busy": "2021-03-30T01:28:54.756422Z",
     "iopub.status.idle": "2021-03-30T01:28:54.942923Z",
     "shell.execute_reply": "2021-03-30T01:28:54.941926Z",
     "shell.execute_reply.started": "2021-03-30T01:28:54.756422Z"
    }
   },
   "outputs": [
    {
     "data": {
      "image/png": "[encoded data removed]",
      "text/plain": [
       "<Figure size 432x288 with 1 Axes>"
      ]
     },
     "metadata": {
      "needs_background": "light"
     },
     "output_type": "display_data"
    }
   ],
   "source": [
    "# 빨간 점선, 네모 점이 찍힌 선 그래프\n",
    "# color=red, marker=square, linestyle=dashed line\n",
    "plt.plot(data, 'rs--')\n",
    "plt.show()"
   ]
  },
  {
   "cell_type": "code",
   "execution_count": 31,
   "metadata": {
    "execution": {
     "iopub.execute_input": "2021-03-30T01:30:20.780127Z",
     "iopub.status.busy": "2021-03-30T01:30:20.780127Z",
     "iopub.status.idle": "2021-03-30T01:30:20.935724Z",
     "shell.execute_reply": "2021-03-30T01:30:20.934715Z",
     "shell.execute_reply.started": "2021-03-30T01:30:20.780127Z"
    }
   },
   "outputs": [
    {
     "data": {
      "image/png": "[encoded data removed]",
      "text/plain": [
       "<Figure size 432x288 with 1 Axes>"
      ]
     },
     "metadata": {
      "needs_background": "light"
     },
     "output_type": "display_data"
    }
   ],
   "source": [
    "# line color=green, line style=dot, marker color=red, marker style=triangle\n",
    "plt.plot(data, color='green', linestyle=':',\n",
    "        marker='^', mfc='red', mec='red')\n",
    "plt.show()"
   ]
  },
  {
   "cell_type": "markdown",
   "metadata": {},
   "source": [
    "### 1개 plot에 여러개의 선 그래프 그리기"
   ]
  },
  {
   "cell_type": "code",
   "execution_count": 32,
   "metadata": {
    "execution": {
     "iopub.execute_input": "2021-03-30T01:36:18.180740Z",
     "iopub.status.busy": "2021-03-30T01:36:18.179745Z",
     "iopub.status.idle": "2021-03-30T01:36:18.455759Z",
     "shell.execute_reply": "2021-03-30T01:36:18.455759Z",
     "shell.execute_reply.started": "2021-03-30T01:36:18.180740Z"
    }
   },
   "outputs": [
    {
     "data": {
      "image/png": "[encoded data removed]",
      "text/plain": [
       "<Figure size 432x288 with 1 Axes>"
      ]
     },
     "metadata": {
      "needs_background": "light"
     },
     "output_type": "display_data"
    }
   ],
   "source": [
    "y1=np.random.rand(10)\n",
    "y2=np.random.rand(10)\n",
    "y3=np.random.rand(10)\n",
    "\n",
    "plt.plot(y1, 'r-', label='Data I') #red solid line\n",
    "plt.plot(y2, 'g:', label='Data II') # green dotted line\n",
    "plt.plot(y3, 'b--', label='Data III') #blue dashed line\n",
    "\n",
    "plt.legend() # 각각의 plot에 설정된 label들을 범례로 보여주기\n",
    "plt.show()"
   ]
  },
  {
   "cell_type": "markdown",
   "metadata": {},
   "source": [
    "## 상자그림(Box plot)"
   ]
  },
  {
   "cell_type": "code",
   "execution_count": 33,
   "metadata": {
    "execution": {
     "iopub.execute_input": "2021-03-30T01:36:33.667038Z",
     "iopub.status.busy": "2021-03-30T01:36:33.666040Z",
     "iopub.status.idle": "2021-03-30T01:36:33.683023Z",
     "shell.execute_reply": "2021-03-30T01:36:33.681996Z",
     "shell.execute_reply.started": "2021-03-30T01:36:33.667038Z"
    }
   },
   "outputs": [
    {
     "data": {
      "text/html": [
       "<div>\n",
       "<style scoped>\n",
       "    .dataframe tbody tr th:only-of-type {\n",
       "        vertical-align: middle;\n",
       "    }\n",
       "\n",
       "    .dataframe tbody tr th {\n",
       "        vertical-align: top;\n",
       "    }\n",
       "\n",
       "    .dataframe thead th {\n",
       "        text-align: right;\n",
       "    }\n",
       "</style>\n",
       "<table border=\"1\" class=\"dataframe\">\n",
       "  <thead>\n",
       "    <tr style=\"text-align: right;\">\n",
       "      <th></th>\n",
       "      <th>total_bill</th>\n",
       "      <th>tip</th>\n",
       "      <th>sex</th>\n",
       "      <th>smoker</th>\n",
       "      <th>day</th>\n",
       "      <th>time</th>\n",
       "      <th>size</th>\n",
       "    </tr>\n",
       "  </thead>\n",
       "  <tbody>\n",
       "    <tr>\n",
       "      <th>0</th>\n",
       "      <td>16.99</td>\n",
       "      <td>1.01</td>\n",
       "      <td>Female</td>\n",
       "      <td>No</td>\n",
       "      <td>Sun</td>\n",
       "      <td>Dinner</td>\n",
       "      <td>2</td>\n",
       "    </tr>\n",
       "    <tr>\n",
       "      <th>1</th>\n",
       "      <td>10.34</td>\n",
       "      <td>1.66</td>\n",
       "      <td>Male</td>\n",
       "      <td>No</td>\n",
       "      <td>Sun</td>\n",
       "      <td>Dinner</td>\n",
       "      <td>3</td>\n",
       "    </tr>\n",
       "    <tr>\n",
       "      <th>2</th>\n",
       "      <td>21.01</td>\n",
       "      <td>3.50</td>\n",
       "      <td>Male</td>\n",
       "      <td>No</td>\n",
       "      <td>Sun</td>\n",
       "      <td>Dinner</td>\n",
       "      <td>3</td>\n",
       "    </tr>\n",
       "    <tr>\n",
       "      <th>3</th>\n",
       "      <td>23.68</td>\n",
       "      <td>3.31</td>\n",
       "      <td>Male</td>\n",
       "      <td>No</td>\n",
       "      <td>Sun</td>\n",
       "      <td>Dinner</td>\n",
       "      <td>2</td>\n",
       "    </tr>\n",
       "    <tr>\n",
       "      <th>4</th>\n",
       "      <td>24.59</td>\n",
       "      <td>3.61</td>\n",
       "      <td>Female</td>\n",
       "      <td>No</td>\n",
       "      <td>Sun</td>\n",
       "      <td>Dinner</td>\n",
       "      <td>4</td>\n",
       "    </tr>\n",
       "  </tbody>\n",
       "</table>\n",
       "</div>"
      ],
      "text/plain": [
       "   total_bill   tip     sex smoker  day    time  size\n",
       "0       16.99  1.01  Female     No  Sun  Dinner     2\n",
       "1       10.34  1.66    Male     No  Sun  Dinner     3\n",
       "2       21.01  3.50    Male     No  Sun  Dinner     3\n",
       "3       23.68  3.31    Male     No  Sun  Dinner     2\n",
       "4       24.59  3.61  Female     No  Sun  Dinner     4"
      ]
     },
     "execution_count": 33,
     "metadata": {},
     "output_type": "execute_result"
    }
   ],
   "source": [
    "tips.head()"
   ]
  },
  {
   "cell_type": "code",
   "execution_count": 34,
   "metadata": {
    "execution": {
     "iopub.execute_input": "2021-03-30T01:36:44.703205Z",
     "iopub.status.busy": "2021-03-30T01:36:44.703205Z",
     "iopub.status.idle": "2021-03-30T01:36:44.743056Z",
     "shell.execute_reply": "2021-03-30T01:36:44.743056Z",
     "shell.execute_reply.started": "2021-03-30T01:36:44.703205Z"
    }
   },
   "outputs": [
    {
     "data": {
      "text/html": [
       "<div>\n",
       "<style scoped>\n",
       "    .dataframe tbody tr th:only-of-type {\n",
       "        vertical-align: middle;\n",
       "    }\n",
       "\n",
       "    .dataframe tbody tr th {\n",
       "        vertical-align: top;\n",
       "    }\n",
       "\n",
       "    .dataframe thead th {\n",
       "        text-align: right;\n",
       "    }\n",
       "</style>\n",
       "<table border=\"1\" class=\"dataframe\">\n",
       "  <thead>\n",
       "    <tr style=\"text-align: right;\">\n",
       "      <th></th>\n",
       "      <th>total_bill</th>\n",
       "      <th>tip</th>\n",
       "      <th>size</th>\n",
       "    </tr>\n",
       "  </thead>\n",
       "  <tbody>\n",
       "    <tr>\n",
       "      <th>count</th>\n",
       "      <td>244.000000</td>\n",
       "      <td>244.000000</td>\n",
       "      <td>244.000000</td>\n",
       "    </tr>\n",
       "    <tr>\n",
       "      <th>mean</th>\n",
       "      <td>19.785943</td>\n",
       "      <td>2.998279</td>\n",
       "      <td>2.569672</td>\n",
       "    </tr>\n",
       "    <tr>\n",
       "      <th>std</th>\n",
       "      <td>8.902412</td>\n",
       "      <td>1.383638</td>\n",
       "      <td>0.951100</td>\n",
       "    </tr>\n",
       "    <tr>\n",
       "      <th>min</th>\n",
       "      <td>3.070000</td>\n",
       "      <td>1.000000</td>\n",
       "      <td>1.000000</td>\n",
       "    </tr>\n",
       "    <tr>\n",
       "      <th>25%</th>\n",
       "      <td>13.347500</td>\n",
       "      <td>2.000000</td>\n",
       "      <td>2.000000</td>\n",
       "    </tr>\n",
       "    <tr>\n",
       "      <th>50%</th>\n",
       "      <td>17.795000</td>\n",
       "      <td>2.900000</td>\n",
       "      <td>2.000000</td>\n",
       "    </tr>\n",
       "    <tr>\n",
       "      <th>75%</th>\n",
       "      <td>24.127500</td>\n",
       "      <td>3.562500</td>\n",
       "      <td>3.000000</td>\n",
       "    </tr>\n",
       "    <tr>\n",
       "      <th>max</th>\n",
       "      <td>50.810000</td>\n",
       "      <td>10.000000</td>\n",
       "      <td>6.000000</td>\n",
       "    </tr>\n",
       "  </tbody>\n",
       "</table>\n",
       "</div>"
      ],
      "text/plain": [
       "       total_bill         tip        size\n",
       "count  244.000000  244.000000  244.000000\n",
       "mean    19.785943    2.998279    2.569672\n",
       "std      8.902412    1.383638    0.951100\n",
       "min      3.070000    1.000000    1.000000\n",
       "25%     13.347500    2.000000    2.000000\n",
       "50%     17.795000    2.900000    2.000000\n",
       "75%     24.127500    3.562500    3.000000\n",
       "max     50.810000   10.000000    6.000000"
      ]
     },
     "execution_count": 34,
     "metadata": {},
     "output_type": "execute_result"
    }
   ],
   "source": [
    "# tips 데이터프레임의 기술통계량 보기\n",
    "tips.describe()"
   ]
  },
  {
   "cell_type": "markdown",
   "metadata": {},
   "source": [
    "### 박스플롯 기본형"
   ]
  },
  {
   "cell_type": "code",
   "execution_count": 35,
   "metadata": {
    "execution": {
     "iopub.execute_input": "2021-03-30T01:37:05.045343Z",
     "iopub.status.busy": "2021-03-30T01:37:05.045343Z",
     "iopub.status.idle": "2021-03-30T01:37:05.203918Z",
     "shell.execute_reply": "2021-03-30T01:37:05.202931Z",
     "shell.execute_reply.started": "2021-03-30T01:37:05.045343Z"
    }
   },
   "outputs": [
    {
     "data": {
      "image/png": "[encoded data removed]",
      "text/plain": [
       "<Figure size 432x288 with 1 Axes>"
      ]
     },
     "metadata": {
      "needs_background": "light"
     },
     "output_type": "display_data"
    }
   ],
   "source": [
    "# tips 데이터프레임의 total_bill 변수에 대한 기술통계량을 박스플롯으로 나타내기\n",
    "plt.boxplot(x=tips['total_bill'], labels=['total bill'])\n",
    "plt.show()"
   ]
  },
  {
   "cell_type": "markdown",
   "metadata": {},
   "source": [
    "### 1개의 plot에 여러개의 boxplot 그리기"
   ]
  },
  {
   "cell_type": "code",
   "execution_count": 37,
   "metadata": {
    "execution": {
     "iopub.execute_input": "2021-03-30T01:42:26.728992Z",
     "iopub.status.busy": "2021-03-30T01:42:26.727993Z",
     "iopub.status.idle": "2021-03-30T01:42:26.869863Z",
     "shell.execute_reply": "2021-03-30T01:42:26.868890Z",
     "shell.execute_reply.started": "2021-03-30T01:42:26.728992Z"
    }
   },
   "outputs": [
    {
     "data": {
      "image/png": "[encoded data removed]",
      "text/plain": [
       "<Figure size 432x288 with 1 Axes>"
      ]
     },
     "metadata": {
      "needs_background": "light"
     },
     "output_type": "display_data"
    }
   ],
   "source": [
    "plt.boxplot(x=[tips.total_bill,\n",
    "               tips.tip],\n",
    "           labels=['Total_bill',\n",
    "                  'Tip'])\n",
    "plt.show()"
   ]
  },
  {
   "cell_type": "markdown",
   "metadata": {},
   "source": [
    "### 그룹별 기술통계량을 1개 plot에 나타내기"
   ]
  },
  {
   "cell_type": "markdown",
   "metadata": {},
   "source": [
    "#### 성별 tips 비교"
   ]
  },
  {
   "cell_type": "code",
   "execution_count": 38,
   "metadata": {
    "execution": {
     "iopub.execute_input": "2021-03-30T01:45:03.137431Z",
     "iopub.status.busy": "2021-03-30T01:45:03.137431Z",
     "iopub.status.idle": "2021-03-30T01:45:03.159373Z",
     "shell.execute_reply": "2021-03-30T01:45:03.157382Z",
     "shell.execute_reply.started": "2021-03-30T01:45:03.137431Z"
    }
   },
   "outputs": [],
   "source": [
    "# 성별 tip 기술통계량을 요약하여 boxplot으로 나타내려면,\n",
    "# 먼저 tip 데이터프레임을 쪼개어 그룹으로 나누어야 한다.\n",
    "# 즉, male_tip, female_tip을 만들어야 한다.\n",
    "\n",
    "# boolean indexing을 사용하여, 성별이 남성인 row들에 대하여 tip 변수만 골라낸 pd.Series를 만들자\n",
    "male_tip=tips[tips['sex']=='Male']['tip']\n",
    "female_tip=tips[tips['sex']=='Female']['tip']"
   ]
  },
  {
   "cell_type": "code",
   "execution_count": 43,
   "metadata": {
    "execution": {
     "iopub.execute_input": "2021-03-30T01:52:40.455796Z",
     "iopub.status.busy": "2021-03-30T01:52:40.454796Z",
     "iopub.status.idle": "2021-03-30T01:52:40.463290Z",
     "shell.execute_reply": "2021-03-30T01:52:40.461777Z",
     "shell.execute_reply.started": "2021-03-30T01:52:40.455796Z"
    }
   },
   "outputs": [
    {
     "data": {
      "text/plain": [
       "dtype('float64')"
      ]
     },
     "execution_count": 43,
     "metadata": {},
     "output_type": "execute_result"
    }
   ],
   "source": [
    "male_tip.dtype"
   ]
  },
  {
   "cell_type": "code",
   "execution_count": 45,
   "metadata": {
    "execution": {
     "iopub.execute_input": "2021-03-30T01:53:02.099015Z",
     "iopub.status.busy": "2021-03-30T01:53:02.099015Z",
     "iopub.status.idle": "2021-03-30T01:53:02.108969Z",
     "shell.execute_reply": "2021-03-30T01:53:02.107974Z",
     "shell.execute_reply.started": "2021-03-30T01:53:02.099015Z"
    }
   },
   "outputs": [
    {
     "data": {
      "text/plain": [
       "count    157.000000\n",
       "mean       3.089618\n",
       "std        1.489102\n",
       "min        1.000000\n",
       "25%        2.000000\n",
       "50%        3.000000\n",
       "75%        3.760000\n",
       "max       10.000000\n",
       "Name: tip, dtype: float64"
      ]
     },
     "execution_count": 45,
     "metadata": {},
     "output_type": "execute_result"
    }
   ],
   "source": [
    "male_tip.describe()"
   ]
  },
  {
   "cell_type": "code",
   "execution_count": 46,
   "metadata": {
    "execution": {
     "iopub.execute_input": "2021-03-30T01:53:04.276893Z",
     "iopub.status.busy": "2021-03-30T01:53:04.275890Z",
     "iopub.status.idle": "2021-03-30T01:53:04.286860Z",
     "shell.execute_reply": "2021-03-30T01:53:04.286860Z",
     "shell.execute_reply.started": "2021-03-30T01:53:04.276893Z"
    }
   },
   "outputs": [
    {
     "data": {
      "text/plain": [
       "count    87.000000\n",
       "mean      2.833448\n",
       "std       1.159495\n",
       "min       1.000000\n",
       "25%       2.000000\n",
       "50%       2.750000\n",
       "75%       3.500000\n",
       "max       6.500000\n",
       "Name: tip, dtype: float64"
      ]
     },
     "execution_count": 46,
     "metadata": {},
     "output_type": "execute_result"
    }
   ],
   "source": [
    "female_tip.describe()"
   ]
  },
  {
   "cell_type": "code",
   "execution_count": 47,
   "metadata": {
    "execution": {
     "iopub.execute_input": "2021-03-30T01:53:17.905358Z",
     "iopub.status.busy": "2021-03-30T01:53:17.905358Z",
     "iopub.status.idle": "2021-03-30T01:53:17.909311Z",
     "shell.execute_reply": "2021-03-30T01:53:17.908311Z",
     "shell.execute_reply.started": "2021-03-30T01:53:17.905358Z"
    }
   },
   "outputs": [],
   "source": [
    "import numpy as np"
   ]
  },
  {
   "cell_type": "code",
   "execution_count": 48,
   "metadata": {
    "execution": {
     "iopub.execute_input": "2021-03-30T01:53:48.947871Z",
     "iopub.status.busy": "2021-03-30T01:53:48.946873Z",
     "iopub.status.idle": "2021-03-30T01:53:49.095477Z",
     "shell.execute_reply": "2021-03-30T01:53:49.094480Z",
     "shell.execute_reply.started": "2021-03-30T01:53:48.947871Z"
    }
   },
   "outputs": [
    {
     "data": {
      "image/png": "[encoded data removed]",
      "text/plain": [
       "<Figure size 432x288 with 1 Axes>"
      ]
     },
     "metadata": {
      "needs_background": "light"
     },
     "output_type": "display_data"
    }
   ],
   "source": [
    "plt.boxplot(x=np.array([male_tip, female_tip], dtype='object'),\n",
    "           labels=['Male', 'Female'])\n",
    "plt.show()"
   ]
  },
  {
   "cell_type": "markdown",
   "metadata": {},
   "source": [
    "#### 요일별 tip 기술통계량 boxplot"
   ]
  },
  {
   "cell_type": "code",
   "execution_count": 49,
   "metadata": {
    "execution": {
     "iopub.execute_input": "2021-03-30T01:55:07.538386Z",
     "iopub.status.busy": "2021-03-30T01:55:07.538386Z",
     "iopub.status.idle": "2021-03-30T01:55:07.546328Z",
     "shell.execute_reply": "2021-03-30T01:55:07.545328Z",
     "shell.execute_reply.started": "2021-03-30T01:55:07.538386Z"
    }
   },
   "outputs": [
    {
     "data": {
      "text/plain": [
       "['Sun', 'Sat', 'Thur', 'Fri']\n",
       "Categories (4, object): ['Sun', 'Sat', 'Thur', 'Fri']"
      ]
     },
     "execution_count": 49,
     "metadata": {},
     "output_type": "execute_result"
    }
   ],
   "source": [
    "#어떤 요일이 있는가?\n",
    "tips.day.unique()"
   ]
  },
  {
   "cell_type": "code",
   "execution_count": 52,
   "metadata": {
    "execution": {
     "iopub.execute_input": "2021-03-30T01:59:22.930645Z",
     "iopub.status.busy": "2021-03-30T01:59:22.930645Z",
     "iopub.status.idle": "2021-03-30T01:59:23.122706Z",
     "shell.execute_reply": "2021-03-30T01:59:23.121642Z",
     "shell.execute_reply.started": "2021-03-30T01:59:22.930645Z"
    }
   },
   "outputs": [
    {
     "data": {
      "image/png": "[encoded data removed]",
      "text/plain": [
       "<Figure size 432x288 with 1 Axes>"
      ]
     },
     "metadata": {
      "needs_background": "light"
     },
     "output_type": "display_data"
    }
   ],
   "source": [
    "# 각 요일별 tips를 다른 객체의 pd.Series로 만들기\n",
    "days=tips.day.unique()\n",
    "tip_by_day=[]\n",
    "for d in days:\n",
    "    tip_by_day.append(tips[tips['day']==d]['tip'])\n",
    "plt.boxplot(x=tip_by_day, labels=days)\n",
    "plt.show()"
   ]
  },
  {
   "cell_type": "markdown",
   "metadata": {},
   "source": [
    "### 여러개의 그룹별 기술통계량을 여러개 plot에 나타내기"
   ]
  },
  {
   "cell_type": "code",
   "execution_count": 54,
   "metadata": {
    "execution": {
     "iopub.execute_input": "2021-03-30T02:02:21.668420Z",
     "iopub.status.busy": "2021-03-30T02:02:21.668420Z",
     "iopub.status.idle": "2021-03-30T02:02:21.678395Z",
     "shell.execute_reply": "2021-03-30T02:02:21.677398Z",
     "shell.execute_reply.started": "2021-03-30T02:02:21.668420Z"
    }
   },
   "outputs": [],
   "source": [
    "# subplot 4개를 2x2 형태로 배치\n",
    "# 각 subplot에 성별 tip, 흡연여부별 tip, 요일별 tip, 시간별 tip boxplot 그리기\n",
    "smoker_tip=tips[tips['smoker']=='Yes']['tip']\n",
    "nonsmoker_tip=tips[tips['smoker']=='No']['tip']\n",
    "lunch_tip=tips[tips['time']=='Lunch']['tip']\n",
    "dinner_tip=tips[tips['time']=='Dinner']['tip']"
   ]
  },
  {
   "cell_type": "code",
   "execution_count": 55,
   "metadata": {
    "execution": {
     "iopub.execute_input": "2021-03-30T02:04:01.565319Z",
     "iopub.status.busy": "2021-03-30T02:04:01.565319Z",
     "iopub.status.idle": "2021-03-30T02:04:01.969892Z",
     "shell.execute_reply": "2021-03-30T02:04:01.968896Z",
     "shell.execute_reply.started": "2021-03-30T02:04:01.565319Z"
    }
   },
   "outputs": [
    {
     "data": {
      "image/png": "[encoded data removed]",
      "text/plain": [
       "<Figure size 432x288 with 4 Axes>"
      ]
     },
     "metadata": {
      "needs_background": "light"
     },
     "output_type": "display_data"
    }
   ],
   "source": [
    "fig, axes=plt.subplots(nrows=2, ncols=2)\n",
    "\n",
    "axes[0,0].boxplot(x=[male_tip, female_tip],\n",
    "                 labels=['Male', 'Female'])\n",
    "axes[0,1].boxplot(x=[smoker_tip, nonsmoker_tip],\n",
    "                 labels=['Smoker', 'Nonsmoker'])\n",
    "axes[1,0].boxplot(x=tip_by_day, labels=days)\n",
    "axes[1,1].boxplot(x=[lunch_tip, dinner_tip],\n",
    "                 labels=['Lunch', 'Dinner'])\n",
    "\n",
    "plt.show()"
   ]
  },
  {
   "cell_type": "markdown",
   "metadata": {},
   "source": [
    "## 히스토그램(Histogram)"
   ]
  },
  {
   "cell_type": "code",
   "execution_count": 56,
   "metadata": {
    "execution": {
     "iopub.execute_input": "2021-03-30T02:04:24.031582Z",
     "iopub.status.busy": "2021-03-30T02:04:24.030583Z",
     "iopub.status.idle": "2021-03-30T02:04:24.047538Z",
     "shell.execute_reply": "2021-03-30T02:04:24.046541Z",
     "shell.execute_reply.started": "2021-03-30T02:04:24.030583Z"
    }
   },
   "outputs": [
    {
     "data": {
      "text/html": [
       "<div>\n",
       "<style scoped>\n",
       "    .dataframe tbody tr th:only-of-type {\n",
       "        vertical-align: middle;\n",
       "    }\n",
       "\n",
       "    .dataframe tbody tr th {\n",
       "        vertical-align: top;\n",
       "    }\n",
       "\n",
       "    .dataframe thead th {\n",
       "        text-align: right;\n",
       "    }\n",
       "</style>\n",
       "<table border=\"1\" class=\"dataframe\">\n",
       "  <thead>\n",
       "    <tr style=\"text-align: right;\">\n",
       "      <th></th>\n",
       "      <th>total_bill</th>\n",
       "      <th>tip</th>\n",
       "      <th>sex</th>\n",
       "      <th>smoker</th>\n",
       "      <th>day</th>\n",
       "      <th>time</th>\n",
       "      <th>size</th>\n",
       "    </tr>\n",
       "  </thead>\n",
       "  <tbody>\n",
       "    <tr>\n",
       "      <th>0</th>\n",
       "      <td>16.99</td>\n",
       "      <td>1.01</td>\n",
       "      <td>Female</td>\n",
       "      <td>No</td>\n",
       "      <td>Sun</td>\n",
       "      <td>Dinner</td>\n",
       "      <td>2</td>\n",
       "    </tr>\n",
       "    <tr>\n",
       "      <th>1</th>\n",
       "      <td>10.34</td>\n",
       "      <td>1.66</td>\n",
       "      <td>Male</td>\n",
       "      <td>No</td>\n",
       "      <td>Sun</td>\n",
       "      <td>Dinner</td>\n",
       "      <td>3</td>\n",
       "    </tr>\n",
       "    <tr>\n",
       "      <th>2</th>\n",
       "      <td>21.01</td>\n",
       "      <td>3.50</td>\n",
       "      <td>Male</td>\n",
       "      <td>No</td>\n",
       "      <td>Sun</td>\n",
       "      <td>Dinner</td>\n",
       "      <td>3</td>\n",
       "    </tr>\n",
       "    <tr>\n",
       "      <th>3</th>\n",
       "      <td>23.68</td>\n",
       "      <td>3.31</td>\n",
       "      <td>Male</td>\n",
       "      <td>No</td>\n",
       "      <td>Sun</td>\n",
       "      <td>Dinner</td>\n",
       "      <td>2</td>\n",
       "    </tr>\n",
       "    <tr>\n",
       "      <th>4</th>\n",
       "      <td>24.59</td>\n",
       "      <td>3.61</td>\n",
       "      <td>Female</td>\n",
       "      <td>No</td>\n",
       "      <td>Sun</td>\n",
       "      <td>Dinner</td>\n",
       "      <td>4</td>\n",
       "    </tr>\n",
       "  </tbody>\n",
       "</table>\n",
       "</div>"
      ],
      "text/plain": [
       "   total_bill   tip     sex smoker  day    time  size\n",
       "0       16.99  1.01  Female     No  Sun  Dinner     2\n",
       "1       10.34  1.66    Male     No  Sun  Dinner     3\n",
       "2       21.01  3.50    Male     No  Sun  Dinner     3\n",
       "3       23.68  3.31    Male     No  Sun  Dinner     2\n",
       "4       24.59  3.61  Female     No  Sun  Dinner     4"
      ]
     },
     "execution_count": 56,
     "metadata": {},
     "output_type": "execute_result"
    }
   ],
   "source": [
    "tips.head()"
   ]
  },
  {
   "cell_type": "markdown",
   "metadata": {},
   "source": [
    "### 히스토그램 기본형"
   ]
  },
  {
   "cell_type": "code",
   "execution_count": 57,
   "metadata": {
    "execution": {
     "iopub.execute_input": "2021-03-30T02:04:40.103204Z",
     "iopub.status.busy": "2021-03-30T02:04:40.102207Z",
     "iopub.status.idle": "2021-03-30T02:04:40.307610Z",
     "shell.execute_reply": "2021-03-30T02:04:40.307610Z",
     "shell.execute_reply.started": "2021-03-30T02:04:40.103204Z"
    }
   },
   "outputs": [
    {
     "data": {
      "image/png": "[encoded data removed]",
      "text/plain": [
       "<Figure size 432x288 with 1 Axes>"
      ]
     },
     "metadata": {
      "needs_background": "light"
     },
     "output_type": "display_data"
    }
   ],
   "source": [
    "plt.hist(x=tips['total_bill'], bins=10)\n",
    "plt.grid()\n",
    "plt.show()"
   ]
  },
  {
   "cell_type": "markdown",
   "metadata": {},
   "source": [
    "### density를 히스토그램으로 나타내기"
   ]
  },
  {
   "cell_type": "code",
   "execution_count": 58,
   "metadata": {
    "execution": {
     "iopub.execute_input": "2021-03-30T02:05:19.524786Z",
     "iopub.status.busy": "2021-03-30T02:05:19.523789Z",
     "iopub.status.idle": "2021-03-30T02:05:19.724216Z",
     "shell.execute_reply": "2021-03-30T02:05:19.721230Z",
     "shell.execute_reply.started": "2021-03-30T02:05:19.524786Z"
    }
   },
   "outputs": [
    {
     "data": {
      "image/png": "[encoded data removed]",
      "text/plain": [
       "<Figure size 432x288 with 1 Axes>"
      ]
     },
     "metadata": {
      "needs_background": "light"
     },
     "output_type": "display_data"
    }
   ],
   "source": [
    "# Count가 아닌 Density로 히스토그램을 나타내고 싶을 경우\n",
    "plt.hist(x=tips['total_bill'], density=True)\n",
    "plt.grid()\n",
    "plt.show()"
   ]
  },
  {
   "cell_type": "markdown",
   "metadata": {},
   "source": [
    "### 히스토그램 색상, 테두리 변경"
   ]
  },
  {
   "cell_type": "code",
   "execution_count": 59,
   "metadata": {
    "execution": {
     "iopub.execute_input": "2021-03-30T02:06:18.339650Z",
     "iopub.status.busy": "2021-03-30T02:06:18.338963Z",
     "iopub.status.idle": "2021-03-30T02:06:18.554763Z",
     "shell.execute_reply": "2021-03-30T02:06:18.553767Z",
     "shell.execute_reply.started": "2021-03-30T02:06:18.339650Z"
    }
   },
   "outputs": [
    {
     "data": {
      "image/png": "[encoded data removed]",
      "text/plain": [
       "<Figure size 432x288 with 1 Axes>"
      ]
     },
     "metadata": {
      "needs_background": "light"
     },
     "output_type": "display_data"
    }
   ],
   "source": [
    "plt.hist(x=tips['tip'], color='pink', edgecolor='white')\n",
    "plt.show()"
   ]
  },
  {
   "cell_type": "markdown",
   "metadata": {},
   "source": [
    "## 산점도 그래프(Scatter Plot)"
   ]
  },
  {
   "cell_type": "markdown",
   "metadata": {},
   "source": [
    "### plot() 함수를 사용 시\n",
    "* linestyle='', marker='o' 사용"
   ]
  },
  {
   "cell_type": "code",
   "execution_count": 60,
   "metadata": {
    "execution": {
     "iopub.execute_input": "2021-03-30T02:07:58.178249Z",
     "iopub.status.busy": "2021-03-30T02:07:58.177215Z",
     "iopub.status.idle": "2021-03-30T02:07:58.358966Z",
     "shell.execute_reply": "2021-03-30T02:07:58.357984Z",
     "shell.execute_reply.started": "2021-03-30T02:07:58.178249Z"
    }
   },
   "outputs": [
    {
     "data": {
      "image/png": "[encoded data removed]",
      "text/plain": [
       "<Figure size 432x288 with 1 Axes>"
      ]
     },
     "metadata": {
      "needs_background": "light"
     },
     "output_type": "display_data"
    }
   ],
   "source": [
    "# tip-total bipp 변수 사이의 산점도 나타내기\n",
    "plt.plot(tips['total_bill'], tips['tip'], marker='o', linestyle='')\n",
    "plt.xlabel('Total Bill')\n",
    "plt.ylabel('Tip')\n",
    "plt.show()"
   ]
  },
  {
   "cell_type": "markdown",
   "metadata": {},
   "source": [
    "### scatter() 함수를 사용 시"
   ]
  },
  {
   "cell_type": "code",
   "execution_count": 61,
   "metadata": {
    "execution": {
     "iopub.execute_input": "2021-03-30T02:10:02.969748Z",
     "iopub.status.busy": "2021-03-30T02:10:02.968751Z",
     "iopub.status.idle": "2021-03-30T02:10:03.144315Z",
     "shell.execute_reply": "2021-03-30T02:10:03.144315Z",
     "shell.execute_reply.started": "2021-03-30T02:10:02.969748Z"
    }
   },
   "outputs": [
    {
     "data": {
      "image/png": "[encoded data removed]",
      "text/plain": [
       "<Figure size 432x288 with 1 Axes>"
      ]
     },
     "metadata": {
      "needs_background": "light"
     },
     "output_type": "display_data"
    }
   ],
   "source": [
    "plt.scatter(x=tips['total_bill'], y=tips['tip'],\n",
    "            s=50, #marker 크기\n",
    "            c='#c93829', #marker 색상\n",
    "            marker='^', #marker 종류\n",
    "            alpha=0.5) #불투명도\n",
    "plt.show()"
   ]
  },
  {
   "cell_type": "markdown",
   "metadata": {},
   "source": [
    "## 막대그래프(bar plot)"
   ]
  },
  {
   "cell_type": "code",
   "execution_count": 62,
   "metadata": {
    "execution": {
     "iopub.execute_input": "2021-03-30T02:10:17.268405Z",
     "iopub.status.busy": "2021-03-30T02:10:17.267367Z",
     "iopub.status.idle": "2021-03-30T02:10:17.281331Z",
     "shell.execute_reply": "2021-03-30T02:10:17.280332Z",
     "shell.execute_reply.started": "2021-03-30T02:10:17.268405Z"
    }
   },
   "outputs": [
    {
     "data": {
      "text/html": [
       "<div>\n",
       "<style scoped>\n",
       "    .dataframe tbody tr th:only-of-type {\n",
       "        vertical-align: middle;\n",
       "    }\n",
       "\n",
       "    .dataframe tbody tr th {\n",
       "        vertical-align: top;\n",
       "    }\n",
       "\n",
       "    .dataframe thead th {\n",
       "        text-align: right;\n",
       "    }\n",
       "</style>\n",
       "<table border=\"1\" class=\"dataframe\">\n",
       "  <thead>\n",
       "    <tr style=\"text-align: right;\">\n",
       "      <th></th>\n",
       "      <th>total_bill</th>\n",
       "      <th>tip</th>\n",
       "      <th>sex</th>\n",
       "      <th>smoker</th>\n",
       "      <th>day</th>\n",
       "      <th>time</th>\n",
       "      <th>size</th>\n",
       "    </tr>\n",
       "  </thead>\n",
       "  <tbody>\n",
       "    <tr>\n",
       "      <th>0</th>\n",
       "      <td>16.99</td>\n",
       "      <td>1.01</td>\n",
       "      <td>Female</td>\n",
       "      <td>No</td>\n",
       "      <td>Sun</td>\n",
       "      <td>Dinner</td>\n",
       "      <td>2</td>\n",
       "    </tr>\n",
       "    <tr>\n",
       "      <th>1</th>\n",
       "      <td>10.34</td>\n",
       "      <td>1.66</td>\n",
       "      <td>Male</td>\n",
       "      <td>No</td>\n",
       "      <td>Sun</td>\n",
       "      <td>Dinner</td>\n",
       "      <td>3</td>\n",
       "    </tr>\n",
       "    <tr>\n",
       "      <th>2</th>\n",
       "      <td>21.01</td>\n",
       "      <td>3.50</td>\n",
       "      <td>Male</td>\n",
       "      <td>No</td>\n",
       "      <td>Sun</td>\n",
       "      <td>Dinner</td>\n",
       "      <td>3</td>\n",
       "    </tr>\n",
       "    <tr>\n",
       "      <th>3</th>\n",
       "      <td>23.68</td>\n",
       "      <td>3.31</td>\n",
       "      <td>Male</td>\n",
       "      <td>No</td>\n",
       "      <td>Sun</td>\n",
       "      <td>Dinner</td>\n",
       "      <td>2</td>\n",
       "    </tr>\n",
       "    <tr>\n",
       "      <th>4</th>\n",
       "      <td>24.59</td>\n",
       "      <td>3.61</td>\n",
       "      <td>Female</td>\n",
       "      <td>No</td>\n",
       "      <td>Sun</td>\n",
       "      <td>Dinner</td>\n",
       "      <td>4</td>\n",
       "    </tr>\n",
       "  </tbody>\n",
       "</table>\n",
       "</div>"
      ],
      "text/plain": [
       "   total_bill   tip     sex smoker  day    time  size\n",
       "0       16.99  1.01  Female     No  Sun  Dinner     2\n",
       "1       10.34  1.66    Male     No  Sun  Dinner     3\n",
       "2       21.01  3.50    Male     No  Sun  Dinner     3\n",
       "3       23.68  3.31    Male     No  Sun  Dinner     2\n",
       "4       24.59  3.61  Female     No  Sun  Dinner     4"
      ]
     },
     "execution_count": 62,
     "metadata": {},
     "output_type": "execute_result"
    }
   ],
   "source": [
    "tips.head()"
   ]
  },
  {
   "cell_type": "code",
   "execution_count": 63,
   "metadata": {
    "execution": {
     "iopub.execute_input": "2021-03-30T02:11:26.557860Z",
     "iopub.status.busy": "2021-03-30T02:11:26.557860Z",
     "iopub.status.idle": "2021-03-30T02:11:26.573804Z",
     "shell.execute_reply": "2021-03-30T02:11:26.571812Z",
     "shell.execute_reply.started": "2021-03-30T02:11:26.557860Z"
    }
   },
   "outputs": [
    {
     "data": {
      "text/plain": [
       "Male      157\n",
       "Female     87\n",
       "Name: sex, dtype: int64"
      ]
     },
     "execution_count": 63,
     "metadata": {},
     "output_type": "execute_result"
    }
   ],
   "source": [
    "#카테고리 타입 변수들의 빈도 찾기\n",
    "gender_count=tips['sex'].value_counts()\n",
    "gender_count"
   ]
  },
  {
   "cell_type": "code",
   "execution_count": 64,
   "metadata": {
    "execution": {
     "iopub.execute_input": "2021-03-30T02:11:32.319957Z",
     "iopub.status.busy": "2021-03-30T02:11:32.319957Z",
     "iopub.status.idle": "2021-03-30T02:11:32.327902Z",
     "shell.execute_reply": "2021-03-30T02:11:32.326906Z",
     "shell.execute_reply.started": "2021-03-30T02:11:32.319957Z"
    }
   },
   "outputs": [
    {
     "data": {
      "text/plain": [
       "pandas.core.series.Series"
      ]
     },
     "execution_count": 64,
     "metadata": {},
     "output_type": "execute_result"
    }
   ],
   "source": [
    "type(gender_count)"
   ]
  },
  {
   "cell_type": "code",
   "execution_count": 65,
   "metadata": {
    "execution": {
     "iopub.execute_input": "2021-03-30T02:11:42.444079Z",
     "iopub.status.busy": "2021-03-30T02:11:42.444079Z",
     "iopub.status.idle": "2021-03-30T02:11:42.455048Z",
     "shell.execute_reply": "2021-03-30T02:11:42.454050Z",
     "shell.execute_reply.started": "2021-03-30T02:11:42.444079Z"
    }
   },
   "outputs": [
    {
     "data": {
      "text/plain": [
       "CategoricalIndex(['Male', 'Female'], categories=['Male', 'Female'], ordered=False, dtype='category')"
      ]
     },
     "execution_count": 65,
     "metadata": {},
     "output_type": "execute_result"
    }
   ],
   "source": [
    "gender_count.index"
   ]
  },
  {
   "cell_type": "code",
   "execution_count": 66,
   "metadata": {
    "execution": {
     "iopub.execute_input": "2021-03-30T02:11:47.845392Z",
     "iopub.status.busy": "2021-03-30T02:11:47.844392Z",
     "iopub.status.idle": "2021-03-30T02:11:47.851930Z",
     "shell.execute_reply": "2021-03-30T02:11:47.851413Z",
     "shell.execute_reply.started": "2021-03-30T02:11:47.845392Z"
    }
   },
   "outputs": [
    {
     "data": {
      "text/plain": [
       "array([157,  87], dtype=int64)"
      ]
     },
     "execution_count": 66,
     "metadata": {},
     "output_type": "execute_result"
    }
   ],
   "source": [
    "gender_count.values"
   ]
  },
  {
   "cell_type": "markdown",
   "metadata": {},
   "source": [
    "### 세로 막대그래프 그리기"
   ]
  },
  {
   "cell_type": "code",
   "execution_count": 67,
   "metadata": {
    "execution": {
     "iopub.execute_input": "2021-03-30T02:12:41.972366Z",
     "iopub.status.busy": "2021-03-30T02:12:41.971367Z",
     "iopub.status.idle": "2021-03-30T02:12:42.127948Z",
     "shell.execute_reply": "2021-03-30T02:12:42.126956Z",
     "shell.execute_reply.started": "2021-03-30T02:12:41.972366Z"
    }
   },
   "outputs": [
    {
     "data": {
      "image/png": "[encoded data removed]",
      "text/plain": [
       "<Figure size 432x288 with 1 Axes>"
      ]
     },
     "metadata": {
      "needs_background": "light"
     },
     "output_type": "display_data"
    }
   ],
   "source": [
    "# value_counts() 메서드가 리턴해준 Series의 index, values를 사용해서 막대그래프 그리기\n",
    "plt.bar(x=gender_count.index,\n",
    "       height=gender_count.values,\n",
    "       width=0.5)\n",
    "plt.show()"
   ]
  },
  {
   "cell_type": "markdown",
   "metadata": {},
   "source": [
    "### 가로 막대그래프 그리기"
   ]
  },
  {
   "cell_type": "code",
   "execution_count": 68,
   "metadata": {
    "execution": {
     "iopub.execute_input": "2021-03-30T02:13:15.065663Z",
     "iopub.status.busy": "2021-03-30T02:13:15.064663Z",
     "iopub.status.idle": "2021-03-30T02:13:15.223258Z",
     "shell.execute_reply": "2021-03-30T02:13:15.222248Z",
     "shell.execute_reply.started": "2021-03-30T02:13:15.065663Z"
    }
   },
   "outputs": [
    {
     "data": {
      "image/png": "[encoded data removed]",
      "text/plain": [
       "<Figure size 432x288 with 1 Axes>"
      ]
     },
     "metadata": {
      "needs_background": "light"
     },
     "output_type": "display_data"
    }
   ],
   "source": [
    "plt.barh(y=gender_count.index,\n",
    "        width=gender_count.values)\n",
    "plt.show()"
   ]
  },
  {
   "cell_type": "markdown",
   "metadata": {},
   "source": [
    "### 1개의 plot에 여러개의 subplot을 추가하여 각각에 막대그래프 그리기"
   ]
  },
  {
   "cell_type": "code",
   "execution_count": 70,
   "metadata": {
    "execution": {
     "iopub.execute_input": "2021-03-30T02:15:43.794222Z",
     "iopub.status.busy": "2021-03-30T02:15:43.793225Z",
     "iopub.status.idle": "2021-03-30T02:15:43.808189Z",
     "shell.execute_reply": "2021-03-30T02:15:43.807189Z",
     "shell.execute_reply.started": "2021-03-30T02:15:43.794222Z"
    }
   },
   "outputs": [],
   "source": [
    "# figure에 2x2 모양으로 subplot을 추가하고, 각 subplot에 smoker, day, time, size 막대그래프 그리기\n",
    "smoker_count=tips.smoker.value_counts()\n",
    "day_count=tips.day.value_counts()\n",
    "time_count=tips.time.value_counts()\n",
    "size_count=tips['size'].value_counts()"
   ]
  },
  {
   "cell_type": "code",
   "execution_count": 73,
   "metadata": {
    "execution": {
     "iopub.execute_input": "2021-03-30T02:17:28.962320Z",
     "iopub.status.busy": "2021-03-30T02:17:28.961323Z",
     "iopub.status.idle": "2021-03-30T02:17:29.770900Z",
     "shell.execute_reply": "2021-03-30T02:17:29.769903Z",
     "shell.execute_reply.started": "2021-03-30T02:17:28.962320Z"
    }
   },
   "outputs": [
    {
     "data": {
      "image/png": "[encoded data removed]",
      "text/plain": [
       "<Figure size 432x288 with 4 Axes>"
      ]
     },
     "metadata": {
      "needs_background": "light"
     },
     "output_type": "display_data"
    }
   ],
   "source": [
    "fig, axes=plt.subplots(nrows=2, ncols=2)\n",
    "axes[0,0].bar(smoker_count.index, smoker_count.values)\n",
    "axes[0,1].bar(day_count.index, day_count.values)\n",
    "axes[1,0].bar(time_count.index, time_count.values)\n",
    "axes[1,1].bar(size_count.index, size_count.values)\n",
    "\n",
    "axes[0,0].set_title('Smoker')\n",
    "\n",
    "plt.show()"
   ]
  },
  {
   "cell_type": "code",
   "execution_count": 74,
   "metadata": {
    "execution": {
     "iopub.execute_input": "2021-03-30T02:21:39.425729Z",
     "iopub.status.busy": "2021-03-30T02:21:39.424723Z",
     "iopub.status.idle": "2021-03-30T02:21:39.908665Z",
     "shell.execute_reply": "2021-03-30T02:21:39.907669Z",
     "shell.execute_reply.started": "2021-03-30T02:21:39.425729Z"
    }
   },
   "outputs": [
    {
     "data": {
      "image/png": "[encoded data removed]",
      "text/plain": [
       "<Figure size 432x288 with 4 Axes>"
      ]
     },
     "metadata": {
      "needs_background": "light"
     },
     "output_type": "display_data"
    }
   ],
   "source": [
    "category_counts=[\n",
    "    tips['smoker'].value_counts(),\n",
    "    tips['day'].value_counts(),\n",
    "    tips['time'].value_counts(),\n",
    "    tips['size'].value_counts()\n",
    "]\n",
    "\n",
    "fig, axes=plt.subplots(nrows=2, ncols=2)\n",
    "\n",
    "for row in range(2):\n",
    "    for col in range(2):\n",
    "        data=category_counts[row*2+col]\n",
    "        axes[row,col].bar(data.index, data.values)\n",
    "\n",
    "plt.show()"
   ]
  },
  {
   "cell_type": "code",
   "execution_count": null,
   "metadata": {},
   "outputs": [],
   "source": []
  }
 ],
 "metadata": {
  "kernelspec": {
   "display_name": "Python 3",
   "language": "python",
   "name": "python3"
  },
  "language_info": {
   "codemirror_mode": {
    "name": "ipython",
    "version": 3
   },
   "file_extension": ".py",
   "mimetype": "text/x-python",
   "name": "python",
   "nbconvert_exporter": "python",
   "pygments_lexer": "ipython3",
   "version": "3.8.5"
  }
 },
 "nbformat": 4,
 "nbformat_minor": 4
}
