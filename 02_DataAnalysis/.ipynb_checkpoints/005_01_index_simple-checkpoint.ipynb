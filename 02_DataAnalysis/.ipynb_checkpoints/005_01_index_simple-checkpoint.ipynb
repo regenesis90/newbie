{
 "cells": [
  {
   "cell_type": "markdown",
   "metadata": {},
   "source": [
    "# 단일 계층 인덱스"
   ]
  },
  {
   "cell_type": "code",
   "execution_count": 1,
   "metadata": {
    "execution": {
     "iopub.execute_input": "2021-03-31T01:46:54.291176Z",
     "iopub.status.busy": "2021-03-31T01:46:54.291176Z",
     "iopub.status.idle": "2021-03-31T01:46:54.995162Z",
     "shell.execute_reply": "2021-03-31T01:46:54.994164Z",
     "shell.execute_reply.started": "2021-03-31T01:46:54.291176Z"
    }
   },
   "outputs": [],
   "source": [
    "import numpy as np\n",
    "import pandas as pd"
   ]
  },
  {
   "cell_type": "code",
   "execution_count": 2,
   "metadata": {
    "execution": {
     "iopub.execute_input": "2021-03-31T01:47:09.497846Z",
     "iopub.status.busy": "2021-03-31T01:47:09.497846Z",
     "iopub.status.idle": "2021-03-31T01:47:09.511804Z",
     "shell.execute_reply": "2021-03-31T01:47:09.510809Z",
     "shell.execute_reply.started": "2021-03-31T01:47:09.497846Z"
    }
   },
   "outputs": [
    {
     "data": {
      "text/plain": [
       "a    1\n",
       "b    2\n",
       "c    3\n",
       "a    4\n",
       "b    5\n",
       "c    6\n",
       "dtype: int32"
      ]
     },
     "execution_count": 2,
     "metadata": {},
     "output_type": "execute_result"
    }
   ],
   "source": [
    "s = pd.Series(data = np.arange(1, 7),\n",
    "              index = ['a','b','c'] * 2)\n",
    "s"
   ]
  },
  {
   "cell_type": "code",
   "execution_count": 3,
   "metadata": {
    "execution": {
     "iopub.execute_input": "2021-03-31T01:47:21.937631Z",
     "iopub.status.busy": "2021-03-31T01:47:21.937631Z",
     "iopub.status.idle": "2021-03-31T01:47:21.953590Z",
     "shell.execute_reply": "2021-03-31T01:47:21.952591Z",
     "shell.execute_reply.started": "2021-03-31T01:47:21.937631Z"
    }
   },
   "outputs": [
    {
     "data": {
      "text/plain": [
       "Index(['a', 'b', 'c', 'a', 'b', 'c'], dtype='object')"
      ]
     },
     "execution_count": 3,
     "metadata": {},
     "output_type": "execute_result"
    }
   ],
   "source": [
    "# pd.Series 객체의 index 속성 보기\n",
    "s.index"
   ]
  },
  {
   "cell_type": "code",
   "execution_count": 4,
   "metadata": {
    "execution": {
     "iopub.execute_input": "2021-03-31T01:47:33.629733Z",
     "iopub.status.busy": "2021-03-31T01:47:33.628737Z",
     "iopub.status.idle": "2021-03-31T01:47:33.640705Z",
     "shell.execute_reply": "2021-03-31T01:47:33.639706Z",
     "shell.execute_reply.started": "2021-03-31T01:47:33.629733Z"
    }
   },
   "outputs": [
    {
     "data": {
      "text/plain": [
       "1"
      ]
     },
     "execution_count": 4,
     "metadata": {},
     "output_type": "execute_result"
    }
   ],
   "source": [
    "# pd.index 객체의 nlevels 속성\n",
    "s.index.nlevels"
   ]
  },
  {
   "cell_type": "code",
   "execution_count": 5,
   "metadata": {
    "execution": {
     "iopub.execute_input": "2021-03-31T01:47:51.090925Z",
     "iopub.status.busy": "2021-03-31T01:47:51.089929Z",
     "iopub.status.idle": "2021-03-31T01:47:51.107879Z",
     "shell.execute_reply": "2021-03-31T01:47:51.106881Z",
     "shell.execute_reply.started": "2021-03-31T01:47:51.089929Z"
    }
   },
   "outputs": [
    {
     "data": {
      "text/plain": [
       "a    1\n",
       "a    4\n",
       "dtype: int32"
      ]
     },
     "execution_count": 5,
     "metadata": {},
     "output_type": "execute_result"
    }
   ],
   "source": [
    "# pd.Series 또는 pd.DataFrame의 index는 중복된 값이 있을 수 있음.\n",
    "s.loc['a']"
   ]
  }
 ],
 "metadata": {
  "kernelspec": {
   "display_name": "Python 3",
   "language": "python",
   "name": "python3"
  },
  "language_info": {
   "codemirror_mode": {
    "name": "ipython",
    "version": 3
   },
   "file_extension": ".py",
   "mimetype": "text/x-python",
   "name": "python",
   "nbconvert_exporter": "python",
   "pygments_lexer": "ipython3",
   "version": "3.8.8"
  }
 },
 "nbformat": 4,
 "nbformat_minor": 4
}
