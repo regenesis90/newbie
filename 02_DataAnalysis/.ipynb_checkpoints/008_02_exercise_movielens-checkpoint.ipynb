{
 "cells": [
  {
   "cell_type": "markdown",
   "metadata": {},
   "source": [
    "# MovieLens Rating Analysis"
   ]
  },
  {
   "cell_type": "code",
   "execution_count": 1,
   "metadata": {
    "execution": {
     "iopub.execute_input": "2021-03-31T06:18:53.567888Z",
     "iopub.status.busy": "2021-03-31T06:18:53.566891Z",
     "iopub.status.idle": "2021-03-31T06:18:54.928598Z",
     "shell.execute_reply": "2021-03-31T06:18:54.927599Z",
     "shell.execute_reply.started": "2021-03-31T06:18:53.567888Z"
    }
   },
   "outputs": [],
   "source": [
    "import numpy as np\n",
    "import pandas as pd\n",
    "import matplotlib.pyplot as plt\n",
    "import seaborn as sns"
   ]
  },
  {
   "cell_type": "markdown",
   "metadata": {},
   "source": [
    "# Create DataFrame\n",
    "1. Read CSV and Create DataFrame\n",
    "2. Merge ratings df and movies df\n",
    "3. Merge 2 and users"
   ]
  },
  {
   "cell_type": "markdown",
   "metadata": {},
   "source": [
    "## File URL"
   ]
  },
  {
   "cell_type": "code",
   "execution_count": 2,
   "metadata": {
    "execution": {
     "iopub.execute_input": "2021-03-31T06:20:44.095252Z",
     "iopub.status.busy": "2021-03-31T06:20:44.094256Z",
     "iopub.status.idle": "2021-03-31T06:20:44.102231Z",
     "shell.execute_reply": "2021-03-31T06:20:44.101233Z",
     "shell.execute_reply.started": "2021-03-31T06:20:44.095252Z"
    }
   },
   "outputs": [],
   "source": [
    "movies_data = 'https://github.com/wesm/pydata-book/raw/2nd-edition/datasets/movielens/movies.dat'\n",
    "ratings_data = 'https://github.com/wesm/pydata-book/raw/2nd-edition/datasets/movielens/ratings.dat'\n",
    "users_data = 'https://github.com/wesm/pydata-book/raw/2nd-edition/datasets/movielens/users.dat'"
   ]
  },
  {
   "cell_type": "code",
   "execution_count": 3,
   "metadata": {
    "execution": {
     "iopub.execute_input": "2021-03-31T06:21:33.560761Z",
     "iopub.status.busy": "2021-03-31T06:21:33.559764Z",
     "iopub.status.idle": "2021-03-31T06:21:33.567743Z",
     "shell.execute_reply": "2021-03-31T06:21:33.566746Z",
     "shell.execute_reply.started": "2021-03-31T06:21:33.560761Z"
    }
   },
   "outputs": [],
   "source": [
    "# feature / variables / column names\n",
    "movie_cols = ['movie_id', 'title', 'genres']\n",
    "rating_cols = ['user_id', 'movie_id', 'rating', 'timestamp']\n",
    "user_cols = ['user_id', 'gender', 'age', 'occupation', 'zip_code']"
   ]
  },
  {
   "cell_type": "code",
   "execution_count": 4,
   "metadata": {
    "execution": {
     "iopub.execute_input": "2021-03-31T06:22:11.377293Z",
     "iopub.status.busy": "2021-03-31T06:22:11.377293Z",
     "iopub.status.idle": "2021-03-31T06:22:12.494258Z",
     "shell.execute_reply": "2021-03-31T06:22:12.493302Z",
     "shell.execute_reply.started": "2021-03-31T06:22:11.377293Z"
    }
   },
   "outputs": [],
   "source": [
    "movies = pd.read_csv(movies_data, sep = '::', encoding = 'cp1252',\n",
    "                     header = None, names = movie_cols, engine = 'python')"
   ]
  },
  {
   "cell_type": "code",
   "execution_count": 5,
   "metadata": {
    "execution": {
     "iopub.execute_input": "2021-03-31T06:22:43.288563Z",
     "iopub.status.busy": "2021-03-31T06:22:43.288563Z",
     "iopub.status.idle": "2021-03-31T06:23:08.094966Z",
     "shell.execute_reply": "2021-03-31T06:23:08.092965Z",
     "shell.execute_reply.started": "2021-03-31T06:22:43.288563Z"
    }
   },
   "outputs": [],
   "source": [
    "ratings = pd.read_csv(ratings_data, sep = '::', encoding = 'cp1252',\n",
    "                      header = None, names = rating_cols, engine = 'python')"
   ]
  },
  {
   "cell_type": "code",
   "execution_count": 6,
   "metadata": {
    "execution": {
     "iopub.execute_input": "2021-03-31T06:23:21.363381Z",
     "iopub.status.busy": "2021-03-31T06:23:21.363381Z",
     "iopub.status.idle": "2021-03-31T06:23:22.624138Z",
     "shell.execute_reply": "2021-03-31T06:23:22.623177Z",
     "shell.execute_reply.started": "2021-03-31T06:23:21.363381Z"
    }
   },
   "outputs": [],
   "source": [
    "users = pd.read_csv(users_data, sep = '::', encoding = 'cp1252',\n",
    "                    header = None, names = user_cols, engine = 'python')"
   ]
  },
  {
   "cell_type": "markdown",
   "metadata": {},
   "source": [
    "# Figure out Data Structure"
   ]
  },
  {
   "cell_type": "code",
   "execution_count": 7,
   "metadata": {
    "execution": {
     "iopub.execute_input": "2021-03-31T06:23:50.036177Z",
     "iopub.status.busy": "2021-03-31T06:23:50.036177Z",
     "iopub.status.idle": "2021-03-31T06:23:50.067095Z",
     "shell.execute_reply": "2021-03-31T06:23:50.066096Z",
     "shell.execute_reply.started": "2021-03-31T06:23:50.036177Z"
    }
   },
   "outputs": [
    {
     "data": {
      "text/html": [
       "<div>\n",
       "<style scoped>\n",
       "    .dataframe tbody tr th:only-of-type {\n",
       "        vertical-align: middle;\n",
       "    }\n",
       "\n",
       "    .dataframe tbody tr th {\n",
       "        vertical-align: top;\n",
       "    }\n",
       "\n",
       "    .dataframe thead th {\n",
       "        text-align: right;\n",
       "    }\n",
       "</style>\n",
       "<table border=\"1\" class=\"dataframe\">\n",
       "  <thead>\n",
       "    <tr style=\"text-align: right;\">\n",
       "      <th></th>\n",
       "      <th>movie_id</th>\n",
       "      <th>title</th>\n",
       "      <th>genres</th>\n",
       "    </tr>\n",
       "  </thead>\n",
       "  <tbody>\n",
       "    <tr>\n",
       "      <th>0</th>\n",
       "      <td>1</td>\n",
       "      <td>Toy Story (1995)</td>\n",
       "      <td>Animation|Children's|Comedy</td>\n",
       "    </tr>\n",
       "    <tr>\n",
       "      <th>1</th>\n",
       "      <td>2</td>\n",
       "      <td>Jumanji (1995)</td>\n",
       "      <td>Adventure|Children's|Fantasy</td>\n",
       "    </tr>\n",
       "    <tr>\n",
       "      <th>2</th>\n",
       "      <td>3</td>\n",
       "      <td>Grumpier Old Men (1995)</td>\n",
       "      <td>Comedy|Romance</td>\n",
       "    </tr>\n",
       "    <tr>\n",
       "      <th>3</th>\n",
       "      <td>4</td>\n",
       "      <td>Waiting to Exhale (1995)</td>\n",
       "      <td>Comedy|Drama</td>\n",
       "    </tr>\n",
       "    <tr>\n",
       "      <th>4</th>\n",
       "      <td>5</td>\n",
       "      <td>Father of the Bride Part II (1995)</td>\n",
       "      <td>Comedy</td>\n",
       "    </tr>\n",
       "  </tbody>\n",
       "</table>\n",
       "</div>"
      ],
      "text/plain": [
       "   movie_id                               title                        genres\n",
       "0         1                    Toy Story (1995)   Animation|Children's|Comedy\n",
       "1         2                      Jumanji (1995)  Adventure|Children's|Fantasy\n",
       "2         3             Grumpier Old Men (1995)                Comedy|Romance\n",
       "3         4            Waiting to Exhale (1995)                  Comedy|Drama\n",
       "4         5  Father of the Bride Part II (1995)                        Comedy"
      ]
     },
     "execution_count": 7,
     "metadata": {},
     "output_type": "execute_result"
    }
   ],
   "source": [
    "movies.head()"
   ]
  },
  {
   "cell_type": "code",
   "execution_count": 8,
   "metadata": {
    "execution": {
     "iopub.execute_input": "2021-03-31T06:23:53.073841Z",
     "iopub.status.busy": "2021-03-31T06:23:53.072844Z",
     "iopub.status.idle": "2021-03-31T06:23:53.096777Z",
     "shell.execute_reply": "2021-03-31T06:23:53.095782Z",
     "shell.execute_reply.started": "2021-03-31T06:23:53.073841Z"
    }
   },
   "outputs": [
    {
     "data": {
      "text/html": [
       "<div>\n",
       "<style scoped>\n",
       "    .dataframe tbody tr th:only-of-type {\n",
       "        vertical-align: middle;\n",
       "    }\n",
       "\n",
       "    .dataframe tbody tr th {\n",
       "        vertical-align: top;\n",
       "    }\n",
       "\n",
       "    .dataframe thead th {\n",
       "        text-align: right;\n",
       "    }\n",
       "</style>\n",
       "<table border=\"1\" class=\"dataframe\">\n",
       "  <thead>\n",
       "    <tr style=\"text-align: right;\">\n",
       "      <th></th>\n",
       "      <th>user_id</th>\n",
       "      <th>movie_id</th>\n",
       "      <th>rating</th>\n",
       "      <th>timestamp</th>\n",
       "    </tr>\n",
       "  </thead>\n",
       "  <tbody>\n",
       "    <tr>\n",
       "      <th>0</th>\n",
       "      <td>1</td>\n",
       "      <td>1193</td>\n",
       "      <td>5</td>\n",
       "      <td>978300760</td>\n",
       "    </tr>\n",
       "    <tr>\n",
       "      <th>1</th>\n",
       "      <td>1</td>\n",
       "      <td>661</td>\n",
       "      <td>3</td>\n",
       "      <td>978302109</td>\n",
       "    </tr>\n",
       "    <tr>\n",
       "      <th>2</th>\n",
       "      <td>1</td>\n",
       "      <td>914</td>\n",
       "      <td>3</td>\n",
       "      <td>978301968</td>\n",
       "    </tr>\n",
       "    <tr>\n",
       "      <th>3</th>\n",
       "      <td>1</td>\n",
       "      <td>3408</td>\n",
       "      <td>4</td>\n",
       "      <td>978300275</td>\n",
       "    </tr>\n",
       "    <tr>\n",
       "      <th>4</th>\n",
       "      <td>1</td>\n",
       "      <td>2355</td>\n",
       "      <td>5</td>\n",
       "      <td>978824291</td>\n",
       "    </tr>\n",
       "  </tbody>\n",
       "</table>\n",
       "</div>"
      ],
      "text/plain": [
       "   user_id  movie_id  rating  timestamp\n",
       "0        1      1193       5  978300760\n",
       "1        1       661       3  978302109\n",
       "2        1       914       3  978301968\n",
       "3        1      3408       4  978300275\n",
       "4        1      2355       5  978824291"
      ]
     },
     "execution_count": 8,
     "metadata": {},
     "output_type": "execute_result"
    }
   ],
   "source": [
    "ratings.head()"
   ]
  },
  {
   "cell_type": "code",
   "execution_count": 9,
   "metadata": {
    "execution": {
     "iopub.execute_input": "2021-03-31T06:23:56.824604Z",
     "iopub.status.busy": "2021-03-31T06:23:56.823609Z",
     "iopub.status.idle": "2021-03-31T06:23:56.851496Z",
     "shell.execute_reply": "2021-03-31T06:23:56.850498Z",
     "shell.execute_reply.started": "2021-03-31T06:23:56.824604Z"
    }
   },
   "outputs": [
    {
     "data": {
      "text/html": [
       "<div>\n",
       "<style scoped>\n",
       "    .dataframe tbody tr th:only-of-type {\n",
       "        vertical-align: middle;\n",
       "    }\n",
       "\n",
       "    .dataframe tbody tr th {\n",
       "        vertical-align: top;\n",
       "    }\n",
       "\n",
       "    .dataframe thead th {\n",
       "        text-align: right;\n",
       "    }\n",
       "</style>\n",
       "<table border=\"1\" class=\"dataframe\">\n",
       "  <thead>\n",
       "    <tr style=\"text-align: right;\">\n",
       "      <th></th>\n",
       "      <th>user_id</th>\n",
       "      <th>gender</th>\n",
       "      <th>age</th>\n",
       "      <th>occupation</th>\n",
       "      <th>zip_code</th>\n",
       "    </tr>\n",
       "  </thead>\n",
       "  <tbody>\n",
       "    <tr>\n",
       "      <th>0</th>\n",
       "      <td>1</td>\n",
       "      <td>F</td>\n",
       "      <td>1</td>\n",
       "      <td>10</td>\n",
       "      <td>48067</td>\n",
       "    </tr>\n",
       "    <tr>\n",
       "      <th>1</th>\n",
       "      <td>2</td>\n",
       "      <td>M</td>\n",
       "      <td>56</td>\n",
       "      <td>16</td>\n",
       "      <td>70072</td>\n",
       "    </tr>\n",
       "    <tr>\n",
       "      <th>2</th>\n",
       "      <td>3</td>\n",
       "      <td>M</td>\n",
       "      <td>25</td>\n",
       "      <td>15</td>\n",
       "      <td>55117</td>\n",
       "    </tr>\n",
       "    <tr>\n",
       "      <th>3</th>\n",
       "      <td>4</td>\n",
       "      <td>M</td>\n",
       "      <td>45</td>\n",
       "      <td>7</td>\n",
       "      <td>02460</td>\n",
       "    </tr>\n",
       "    <tr>\n",
       "      <th>4</th>\n",
       "      <td>5</td>\n",
       "      <td>M</td>\n",
       "      <td>25</td>\n",
       "      <td>20</td>\n",
       "      <td>55455</td>\n",
       "    </tr>\n",
       "  </tbody>\n",
       "</table>\n",
       "</div>"
      ],
      "text/plain": [
       "   user_id gender  age  occupation zip_code\n",
       "0        1      F    1          10    48067\n",
       "1        2      M   56          16    70072\n",
       "2        3      M   25          15    55117\n",
       "3        4      M   45           7    02460\n",
       "4        5      M   25          20    55455"
      ]
     },
     "execution_count": 9,
     "metadata": {},
     "output_type": "execute_result"
    }
   ],
   "source": [
    "users.head()"
   ]
  },
  {
   "cell_type": "code",
   "execution_count": 10,
   "metadata": {
    "execution": {
     "iopub.execute_input": "2021-03-31T06:23:59.076857Z",
     "iopub.status.busy": "2021-03-31T06:23:59.076857Z",
     "iopub.status.idle": "2021-03-31T06:23:59.092815Z",
     "shell.execute_reply": "2021-03-31T06:23:59.091834Z",
     "shell.execute_reply.started": "2021-03-31T06:23:59.076857Z"
    }
   },
   "outputs": [
    {
     "name": "stdout",
     "output_type": "stream",
     "text": [
      "<class 'pandas.core.frame.DataFrame'>\n",
      "RangeIndex: 6040 entries, 0 to 6039\n",
      "Data columns (total 5 columns):\n",
      " #   Column      Non-Null Count  Dtype \n",
      "---  ------      --------------  ----- \n",
      " 0   user_id     6040 non-null   int64 \n",
      " 1   gender      6040 non-null   object\n",
      " 2   age         6040 non-null   int64 \n",
      " 3   occupation  6040 non-null   int64 \n",
      " 4   zip_code    6040 non-null   object\n",
      "dtypes: int64(3), object(2)\n",
      "memory usage: 236.1+ KB\n"
     ]
    }
   ],
   "source": [
    "users.info()"
   ]
  },
  {
   "cell_type": "markdown",
   "metadata": {},
   "source": [
    "# Merge ratings df, movies df, users df"
   ]
  },
  {
   "cell_type": "code",
   "execution_count": 11,
   "metadata": {
    "execution": {
     "iopub.execute_input": "2021-03-31T06:24:57.525348Z",
     "iopub.status.busy": "2021-03-31T06:24:57.525348Z",
     "iopub.status.idle": "2021-03-31T06:24:58.024687Z",
     "shell.execute_reply": "2021-03-31T06:24:58.023686Z",
     "shell.execute_reply.started": "2021-03-31T06:24:57.525348Z"
    }
   },
   "outputs": [],
   "source": [
    "# inner join\n",
    "df = pd.merge(left = pd.merge(left = ratings, right = movies), right = users)"
   ]
  },
  {
   "cell_type": "code",
   "execution_count": 12,
   "metadata": {
    "execution": {
     "iopub.execute_input": "2021-03-31T06:25:30.346093Z",
     "iopub.status.busy": "2021-03-31T06:25:30.345097Z",
     "iopub.status.idle": "2021-03-31T06:25:30.358073Z",
     "shell.execute_reply": "2021-03-31T06:25:30.357064Z",
     "shell.execute_reply.started": "2021-03-31T06:25:30.345097Z"
    }
   },
   "outputs": [
    {
     "data": {
      "text/html": [
       "<div>\n",
       "<style scoped>\n",
       "    .dataframe tbody tr th:only-of-type {\n",
       "        vertical-align: middle;\n",
       "    }\n",
       "\n",
       "    .dataframe tbody tr th {\n",
       "        vertical-align: top;\n",
       "    }\n",
       "\n",
       "    .dataframe thead th {\n",
       "        text-align: right;\n",
       "    }\n",
       "</style>\n",
       "<table border=\"1\" class=\"dataframe\">\n",
       "  <thead>\n",
       "    <tr style=\"text-align: right;\">\n",
       "      <th></th>\n",
       "      <th>user_id</th>\n",
       "      <th>movie_id</th>\n",
       "      <th>rating</th>\n",
       "      <th>timestamp</th>\n",
       "      <th>title</th>\n",
       "      <th>genres</th>\n",
       "      <th>gender</th>\n",
       "      <th>age</th>\n",
       "      <th>occupation</th>\n",
       "      <th>zip_code</th>\n",
       "    </tr>\n",
       "  </thead>\n",
       "  <tbody>\n",
       "    <tr>\n",
       "      <th>0</th>\n",
       "      <td>1</td>\n",
       "      <td>1193</td>\n",
       "      <td>5</td>\n",
       "      <td>978300760</td>\n",
       "      <td>One Flew Over the Cuckoo's Nest (1975)</td>\n",
       "      <td>Drama</td>\n",
       "      <td>F</td>\n",
       "      <td>1</td>\n",
       "      <td>10</td>\n",
       "      <td>48067</td>\n",
       "    </tr>\n",
       "    <tr>\n",
       "      <th>1</th>\n",
       "      <td>1</td>\n",
       "      <td>661</td>\n",
       "      <td>3</td>\n",
       "      <td>978302109</td>\n",
       "      <td>James and the Giant Peach (1996)</td>\n",
       "      <td>Animation|Children's|Musical</td>\n",
       "      <td>F</td>\n",
       "      <td>1</td>\n",
       "      <td>10</td>\n",
       "      <td>48067</td>\n",
       "    </tr>\n",
       "    <tr>\n",
       "      <th>2</th>\n",
       "      <td>1</td>\n",
       "      <td>914</td>\n",
       "      <td>3</td>\n",
       "      <td>978301968</td>\n",
       "      <td>My Fair Lady (1964)</td>\n",
       "      <td>Musical|Romance</td>\n",
       "      <td>F</td>\n",
       "      <td>1</td>\n",
       "      <td>10</td>\n",
       "      <td>48067</td>\n",
       "    </tr>\n",
       "    <tr>\n",
       "      <th>3</th>\n",
       "      <td>1</td>\n",
       "      <td>3408</td>\n",
       "      <td>4</td>\n",
       "      <td>978300275</td>\n",
       "      <td>Erin Brockovich (2000)</td>\n",
       "      <td>Drama</td>\n",
       "      <td>F</td>\n",
       "      <td>1</td>\n",
       "      <td>10</td>\n",
       "      <td>48067</td>\n",
       "    </tr>\n",
       "    <tr>\n",
       "      <th>4</th>\n",
       "      <td>1</td>\n",
       "      <td>2355</td>\n",
       "      <td>5</td>\n",
       "      <td>978824291</td>\n",
       "      <td>Bug's Life, A (1998)</td>\n",
       "      <td>Animation|Children's|Comedy</td>\n",
       "      <td>F</td>\n",
       "      <td>1</td>\n",
       "      <td>10</td>\n",
       "      <td>48067</td>\n",
       "    </tr>\n",
       "  </tbody>\n",
       "</table>\n",
       "</div>"
      ],
      "text/plain": [
       "   user_id  movie_id  rating  timestamp  \\\n",
       "0        1      1193       5  978300760   \n",
       "1        1       661       3  978302109   \n",
       "2        1       914       3  978301968   \n",
       "3        1      3408       4  978300275   \n",
       "4        1      2355       5  978824291   \n",
       "\n",
       "                                    title                        genres  \\\n",
       "0  One Flew Over the Cuckoo's Nest (1975)                         Drama   \n",
       "1        James and the Giant Peach (1996)  Animation|Children's|Musical   \n",
       "2                     My Fair Lady (1964)               Musical|Romance   \n",
       "3                  Erin Brockovich (2000)                         Drama   \n",
       "4                    Bug's Life, A (1998)   Animation|Children's|Comedy   \n",
       "\n",
       "  gender  age  occupation zip_code  \n",
       "0      F    1          10    48067  \n",
       "1      F    1          10    48067  \n",
       "2      F    1          10    48067  \n",
       "3      F    1          10    48067  \n",
       "4      F    1          10    48067  "
      ]
     },
     "execution_count": 12,
     "metadata": {},
     "output_type": "execute_result"
    }
   ],
   "source": [
    "df.head()"
   ]
  },
  {
   "cell_type": "code",
   "execution_count": 13,
   "metadata": {
    "execution": {
     "iopub.execute_input": "2021-03-31T06:26:02.663367Z",
     "iopub.status.busy": "2021-03-31T06:26:02.662370Z",
     "iopub.status.idle": "2021-03-31T06:26:02.857968Z",
     "shell.execute_reply": "2021-03-31T06:26:02.856924Z",
     "shell.execute_reply.started": "2021-03-31T06:26:02.663367Z"
    }
   },
   "outputs": [
    {
     "name": "stdout",
     "output_type": "stream",
     "text": [
      "<class 'pandas.core.frame.DataFrame'>\n",
      "Int64Index: 1000209 entries, 0 to 1000208\n",
      "Data columns (total 10 columns):\n",
      " #   Column      Non-Null Count    Dtype \n",
      "---  ------      --------------    ----- \n",
      " 0   user_id     1000209 non-null  int64 \n",
      " 1   movie_id    1000209 non-null  int64 \n",
      " 2   rating      1000209 non-null  int64 \n",
      " 3   timestamp   1000209 non-null  int64 \n",
      " 4   title       1000209 non-null  object\n",
      " 5   genres      1000209 non-null  object\n",
      " 6   gender      1000209 non-null  object\n",
      " 7   age         1000209 non-null  int64 \n",
      " 8   occupation  1000209 non-null  int64 \n",
      " 9   zip_code    1000209 non-null  object\n",
      "dtypes: int64(6), object(4)\n",
      "memory usage: 116.2+ MB\n"
     ]
    }
   ],
   "source": [
    "df.info()"
   ]
  },
  {
   "cell_type": "code",
   "execution_count": 14,
   "metadata": {
    "execution": {
     "iopub.execute_input": "2021-03-31T06:27:05.765215Z",
     "iopub.status.busy": "2021-03-31T06:27:05.765215Z",
     "iopub.status.idle": "2021-03-31T06:27:05.812387Z",
     "shell.execute_reply": "2021-03-31T06:27:05.811329Z",
     "shell.execute_reply.started": "2021-03-31T06:27:05.765215Z"
    }
   },
   "outputs": [
    {
     "data": {
      "text/plain": [
       "count    1.000209e+06\n",
       "mean     3.581564e+00\n",
       "std      1.117102e+00\n",
       "min      1.000000e+00\n",
       "25%      3.000000e+00\n",
       "50%      4.000000e+00\n",
       "75%      4.000000e+00\n",
       "max      5.000000e+00\n",
       "Name: rating, dtype: float64"
      ]
     },
     "execution_count": 14,
     "metadata": {},
     "output_type": "execute_result"
    }
   ],
   "source": [
    "df['rating'].describe()"
   ]
  },
  {
   "cell_type": "markdown",
   "metadata": {},
   "source": [
    "# Find Top 10"
   ]
  },
  {
   "cell_type": "markdown",
   "metadata": {},
   "source": [
    "## Top 10 ratings movie title"
   ]
  },
  {
   "cell_type": "code",
   "execution_count": 15,
   "metadata": {
    "execution": {
     "iopub.execute_input": "2021-03-31T06:27:49.903526Z",
     "iopub.status.busy": "2021-03-31T06:27:49.903526Z",
     "iopub.status.idle": "2021-03-31T06:27:50.089129Z",
     "shell.execute_reply": "2021-03-31T06:27:50.088178Z",
     "shell.execute_reply.started": "2021-03-31T06:27:49.903526Z"
    }
   },
   "outputs": [
    {
     "data": {
      "text/plain": [
       "title\n",
       "$1,000,000 Duck (1971)                        3.027027\n",
       "'Night Mother (1986)                          3.371429\n",
       "'Til There Was You (1997)                     2.692308\n",
       "'burbs, The (1989)                            2.910891\n",
       "...And Justice for All (1979)                 3.713568\n",
       "                                                ...   \n",
       "Zed & Two Noughts, A (1985)                   3.413793\n",
       "Zero Effect (1998)                            3.750831\n",
       "Zero Kelvin (Kjærlighetens kjøtere) (1995)    3.500000\n",
       "Zeus and Roxanne (1997)                       2.521739\n",
       "eXistenZ (1999)                               3.256098\n",
       "Name: rating, Length: 3706, dtype: float64"
      ]
     },
     "execution_count": 15,
     "metadata": {},
     "output_type": "execute_result"
    }
   ],
   "source": [
    "# mean ratings by movies > sort by descending > top 10\n",
    "rating_by_title = df.groupby('title')['rating'].mean()\n",
    "rating_by_title #> pd.Series"
   ]
  },
  {
   "cell_type": "code",
   "execution_count": 16,
   "metadata": {
    "execution": {
     "iopub.execute_input": "2021-03-31T06:27:54.210435Z",
     "iopub.status.busy": "2021-03-31T06:27:54.209440Z",
     "iopub.status.idle": "2021-03-31T06:27:54.228387Z",
     "shell.execute_reply": "2021-03-31T06:27:54.226453Z",
     "shell.execute_reply.started": "2021-03-31T06:27:54.210435Z"
    }
   },
   "outputs": [
    {
     "data": {
      "text/plain": [
       "title\n",
       "Ulysses (Ulisse) (1954)                      5.0\n",
       "Lured (1947)                                 5.0\n",
       "Follow the Bitch (1998)                      5.0\n",
       "Bittersweet Motel (2000)                     5.0\n",
       "Song of Freedom (1936)                       5.0\n",
       "One Little Indian (1973)                     5.0\n",
       "Smashing Time (1967)                         5.0\n",
       "Schlafes Bruder (Brother of Sleep) (1995)    5.0\n",
       "Gate of Heavenly Peace, The (1995)           5.0\n",
       "Baby, The (1973)                             5.0\n",
       "Name: rating, dtype: float64"
      ]
     },
     "execution_count": 16,
     "metadata": {},
     "output_type": "execute_result"
    }
   ],
   "source": [
    "rating_by_title.sort_values(ascending = False).head(10)"
   ]
  },
  {
   "cell_type": "markdown",
   "metadata": {},
   "source": [
    "## Bottom 10 ratings movie title"
   ]
  },
  {
   "cell_type": "code",
   "execution_count": 17,
   "metadata": {
    "execution": {
     "iopub.execute_input": "2021-03-31T06:28:00.675679Z",
     "iopub.status.busy": "2021-03-31T06:28:00.675679Z",
     "iopub.status.idle": "2021-03-31T06:28:00.695624Z",
     "shell.execute_reply": "2021-03-31T06:28:00.694628Z",
     "shell.execute_reply.started": "2021-03-31T06:28:00.675679Z"
    }
   },
   "outputs": [
    {
     "data": {
      "text/plain": [
       "title\n",
       "Elstree Calling (1930)                                        1.0\n",
       "Get Over It (1996)                                            1.0\n",
       "Venice/Venice (1992)                                          1.0\n",
       "Windows (1980)                                                1.0\n",
       "Kestrel's Eye (Falkens öga) (1998)                            1.0\n",
       "McCullochs, The (1975)                                        1.0\n",
       "Sleepover (1995)                                              1.0\n",
       "Torso (Corpi Presentano Tracce di Violenza Carnale) (1973)    1.0\n",
       "Spring Fever USA (a.k.a. Lauderdale) (1989)                   1.0\n",
       "Santa with Muscles (1996)                                     1.0\n",
       "Name: rating, dtype: float64"
      ]
     },
     "execution_count": 17,
     "metadata": {},
     "output_type": "execute_result"
    }
   ],
   "source": [
    "rating_by_title.sort_values().head(10)"
   ]
  },
  {
   "cell_type": "code",
   "execution_count": 18,
   "metadata": {
    "execution": {
     "iopub.execute_input": "2021-03-31T06:28:45.151756Z",
     "iopub.status.busy": "2021-03-31T06:28:45.151756Z",
     "iopub.status.idle": "2021-03-31T06:28:45.349227Z",
     "shell.execute_reply": "2021-03-31T06:28:45.348263Z",
     "shell.execute_reply.started": "2021-03-31T06:28:45.151756Z"
    }
   },
   "outputs": [
    {
     "data": {
      "text/html": [
       "<div>\n",
       "<style scoped>\n",
       "    .dataframe tbody tr th:only-of-type {\n",
       "        vertical-align: middle;\n",
       "    }\n",
       "\n",
       "    .dataframe tbody tr th {\n",
       "        vertical-align: top;\n",
       "    }\n",
       "\n",
       "    .dataframe thead th {\n",
       "        text-align: right;\n",
       "    }\n",
       "</style>\n",
       "<table border=\"1\" class=\"dataframe\">\n",
       "  <thead>\n",
       "    <tr style=\"text-align: right;\">\n",
       "      <th></th>\n",
       "      <th>count</th>\n",
       "      <th>mean</th>\n",
       "    </tr>\n",
       "    <tr>\n",
       "      <th>title</th>\n",
       "      <th></th>\n",
       "      <th></th>\n",
       "    </tr>\n",
       "  </thead>\n",
       "  <tbody>\n",
       "    <tr>\n",
       "      <th>Ulysses (Ulisse) (1954)</th>\n",
       "      <td>1</td>\n",
       "      <td>5.0</td>\n",
       "    </tr>\n",
       "    <tr>\n",
       "      <th>Lured (1947)</th>\n",
       "      <td>1</td>\n",
       "      <td>5.0</td>\n",
       "    </tr>\n",
       "    <tr>\n",
       "      <th>Follow the Bitch (1998)</th>\n",
       "      <td>1</td>\n",
       "      <td>5.0</td>\n",
       "    </tr>\n",
       "    <tr>\n",
       "      <th>Bittersweet Motel (2000)</th>\n",
       "      <td>1</td>\n",
       "      <td>5.0</td>\n",
       "    </tr>\n",
       "    <tr>\n",
       "      <th>Song of Freedom (1936)</th>\n",
       "      <td>1</td>\n",
       "      <td>5.0</td>\n",
       "    </tr>\n",
       "    <tr>\n",
       "      <th>One Little Indian (1973)</th>\n",
       "      <td>1</td>\n",
       "      <td>5.0</td>\n",
       "    </tr>\n",
       "    <tr>\n",
       "      <th>Smashing Time (1967)</th>\n",
       "      <td>2</td>\n",
       "      <td>5.0</td>\n",
       "    </tr>\n",
       "    <tr>\n",
       "      <th>Schlafes Bruder (Brother of Sleep) (1995)</th>\n",
       "      <td>1</td>\n",
       "      <td>5.0</td>\n",
       "    </tr>\n",
       "    <tr>\n",
       "      <th>Gate of Heavenly Peace, The (1995)</th>\n",
       "      <td>3</td>\n",
       "      <td>5.0</td>\n",
       "    </tr>\n",
       "    <tr>\n",
       "      <th>Baby, The (1973)</th>\n",
       "      <td>1</td>\n",
       "      <td>5.0</td>\n",
       "    </tr>\n",
       "  </tbody>\n",
       "</table>\n",
       "</div>"
      ],
      "text/plain": [
       "                                           count  mean\n",
       "title                                                 \n",
       "Ulysses (Ulisse) (1954)                        1   5.0\n",
       "Lured (1947)                                   1   5.0\n",
       "Follow the Bitch (1998)                        1   5.0\n",
       "Bittersweet Motel (2000)                       1   5.0\n",
       "Song of Freedom (1936)                         1   5.0\n",
       "One Little Indian (1973)                       1   5.0\n",
       "Smashing Time (1967)                           2   5.0\n",
       "Schlafes Bruder (Brother of Sleep) (1995)      1   5.0\n",
       "Gate of Heavenly Peace, The (1995)             3   5.0\n",
       "Baby, The (1973)                               1   5.0"
      ]
     },
     "execution_count": 18,
     "metadata": {},
     "output_type": "execute_result"
    }
   ],
   "source": [
    "df.groupby('title')['rating'].agg(['count', 'mean']).sort_values(by = 'mean', ascending = False).head(10)"
   ]
  },
  {
   "cell_type": "markdown",
   "metadata": {},
   "source": [
    "## Top 10 ratings movie title by gender"
   ]
  },
  {
   "cell_type": "markdown",
   "metadata": {},
   "source": [
    "### using groupby() method"
   ]
  },
  {
   "cell_type": "code",
   "execution_count": 19,
   "metadata": {
    "execution": {
     "iopub.execute_input": "2021-03-31T06:29:37.871938Z",
     "iopub.status.busy": "2021-03-31T06:29:37.871938Z",
     "iopub.status.idle": "2021-03-31T06:29:38.210627Z",
     "shell.execute_reply": "2021-03-31T06:29:38.209668Z",
     "shell.execute_reply.started": "2021-03-31T06:29:37.871938Z"
    }
   },
   "outputs": [
    {
     "data": {
      "text/plain": [
       "title                                       gender\n",
       "$1,000,000 Duck (1971)                      F         3.375000\n",
       "                                            M         2.761905\n",
       "'Night Mother (1986)                        F         3.388889\n",
       "                                            M         3.352941\n",
       "'Til There Was You (1997)                   F         2.675676\n",
       "                                                        ...   \n",
       "Zero Kelvin (Kjærlighetens kjøtere) (1995)  M         3.500000\n",
       "Zeus and Roxanne (1997)                     F         2.777778\n",
       "                                            M         2.357143\n",
       "eXistenZ (1999)                             F         3.098592\n",
       "                                            M         3.289086\n",
       "Name: rating, Length: 7152, dtype: float64"
      ]
     },
     "execution_count": 19,
     "metadata": {},
     "output_type": "execute_result"
    }
   ],
   "source": [
    "rating_by_title_gender = df.groupby(['title', 'gender'])['rating'].mean()\n",
    "rating_by_title_gender"
   ]
  },
  {
   "cell_type": "code",
   "execution_count": 20,
   "metadata": {
    "execution": {
     "iopub.execute_input": "2021-03-31T06:29:40.020701Z",
     "iopub.status.busy": "2021-03-31T06:29:40.020701Z",
     "iopub.status.idle": "2021-03-31T06:29:40.047631Z",
     "shell.execute_reply": "2021-03-31T06:29:40.046632Z",
     "shell.execute_reply.started": "2021-03-31T06:29:40.020701Z"
    }
   },
   "outputs": [
    {
     "data": {
      "text/html": [
       "<div>\n",
       "<style scoped>\n",
       "    .dataframe tbody tr th:only-of-type {\n",
       "        vertical-align: middle;\n",
       "    }\n",
       "\n",
       "    .dataframe tbody tr th {\n",
       "        vertical-align: top;\n",
       "    }\n",
       "\n",
       "    .dataframe thead th {\n",
       "        text-align: right;\n",
       "    }\n",
       "</style>\n",
       "<table border=\"1\" class=\"dataframe\">\n",
       "  <thead>\n",
       "    <tr style=\"text-align: right;\">\n",
       "      <th>gender</th>\n",
       "      <th>F</th>\n",
       "      <th>M</th>\n",
       "    </tr>\n",
       "    <tr>\n",
       "      <th>title</th>\n",
       "      <th></th>\n",
       "      <th></th>\n",
       "    </tr>\n",
       "  </thead>\n",
       "  <tbody>\n",
       "    <tr>\n",
       "      <th>$1,000,000 Duck (1971)</th>\n",
       "      <td>3.375000</td>\n",
       "      <td>2.761905</td>\n",
       "    </tr>\n",
       "    <tr>\n",
       "      <th>'Night Mother (1986)</th>\n",
       "      <td>3.388889</td>\n",
       "      <td>3.352941</td>\n",
       "    </tr>\n",
       "    <tr>\n",
       "      <th>'Til There Was You (1997)</th>\n",
       "      <td>2.675676</td>\n",
       "      <td>2.733333</td>\n",
       "    </tr>\n",
       "    <tr>\n",
       "      <th>'burbs, The (1989)</th>\n",
       "      <td>2.793478</td>\n",
       "      <td>2.962085</td>\n",
       "    </tr>\n",
       "    <tr>\n",
       "      <th>...And Justice for All (1979)</th>\n",
       "      <td>3.828571</td>\n",
       "      <td>3.689024</td>\n",
       "    </tr>\n",
       "    <tr>\n",
       "      <th>...</th>\n",
       "      <td>...</td>\n",
       "      <td>...</td>\n",
       "    </tr>\n",
       "    <tr>\n",
       "      <th>Zed &amp; Two Noughts, A (1985)</th>\n",
       "      <td>3.500000</td>\n",
       "      <td>3.380952</td>\n",
       "    </tr>\n",
       "    <tr>\n",
       "      <th>Zero Effect (1998)</th>\n",
       "      <td>3.864407</td>\n",
       "      <td>3.723140</td>\n",
       "    </tr>\n",
       "    <tr>\n",
       "      <th>Zero Kelvin (Kjærlighetens kjøtere) (1995)</th>\n",
       "      <td>NaN</td>\n",
       "      <td>3.500000</td>\n",
       "    </tr>\n",
       "    <tr>\n",
       "      <th>Zeus and Roxanne (1997)</th>\n",
       "      <td>2.777778</td>\n",
       "      <td>2.357143</td>\n",
       "    </tr>\n",
       "    <tr>\n",
       "      <th>eXistenZ (1999)</th>\n",
       "      <td>3.098592</td>\n",
       "      <td>3.289086</td>\n",
       "    </tr>\n",
       "  </tbody>\n",
       "</table>\n",
       "<p>3706 rows × 2 columns</p>\n",
       "</div>"
      ],
      "text/plain": [
       "gender                                             F         M\n",
       "title                                                         \n",
       "$1,000,000 Duck (1971)                      3.375000  2.761905\n",
       "'Night Mother (1986)                        3.388889  3.352941\n",
       "'Til There Was You (1997)                   2.675676  2.733333\n",
       "'burbs, The (1989)                          2.793478  2.962085\n",
       "...And Justice for All (1979)               3.828571  3.689024\n",
       "...                                              ...       ...\n",
       "Zed & Two Noughts, A (1985)                 3.500000  3.380952\n",
       "Zero Effect (1998)                          3.864407  3.723140\n",
       "Zero Kelvin (Kjærlighetens kjøtere) (1995)       NaN  3.500000\n",
       "Zeus and Roxanne (1997)                     2.777778  2.357143\n",
       "eXistenZ (1999)                             3.098592  3.289086\n",
       "\n",
       "[3706 rows x 2 columns]"
      ]
     },
     "execution_count": 20,
     "metadata": {},
     "output_type": "execute_result"
    }
   ],
   "source": [
    "# unstack() : change multi-index to columns\n",
    "rating_by_title_gender.unstack()"
   ]
  },
  {
   "cell_type": "markdown",
   "metadata": {},
   "source": [
    "### using pivot_table() method"
   ]
  },
  {
   "cell_type": "code",
   "execution_count": 21,
   "metadata": {
    "execution": {
     "iopub.execute_input": "2021-03-31T06:30:38.184180Z",
     "iopub.status.busy": "2021-03-31T06:30:38.183215Z",
     "iopub.status.idle": "2021-03-31T06:30:38.576362Z",
     "shell.execute_reply": "2021-03-31T06:30:38.575401Z",
     "shell.execute_reply.started": "2021-03-31T06:30:38.184180Z"
    }
   },
   "outputs": [
    {
     "data": {
      "text/html": [
       "<div>\n",
       "<style scoped>\n",
       "    .dataframe tbody tr th:only-of-type {\n",
       "        vertical-align: middle;\n",
       "    }\n",
       "\n",
       "    .dataframe tbody tr th {\n",
       "        vertical-align: top;\n",
       "    }\n",
       "\n",
       "    .dataframe thead th {\n",
       "        text-align: right;\n",
       "    }\n",
       "</style>\n",
       "<table border=\"1\" class=\"dataframe\">\n",
       "  <thead>\n",
       "    <tr style=\"text-align: right;\">\n",
       "      <th>gender</th>\n",
       "      <th>F</th>\n",
       "      <th>M</th>\n",
       "    </tr>\n",
       "    <tr>\n",
       "      <th>title</th>\n",
       "      <th></th>\n",
       "      <th></th>\n",
       "    </tr>\n",
       "  </thead>\n",
       "  <tbody>\n",
       "    <tr>\n",
       "      <th>$1,000,000 Duck (1971)</th>\n",
       "      <td>3.375000</td>\n",
       "      <td>2.761905</td>\n",
       "    </tr>\n",
       "    <tr>\n",
       "      <th>'Night Mother (1986)</th>\n",
       "      <td>3.388889</td>\n",
       "      <td>3.352941</td>\n",
       "    </tr>\n",
       "    <tr>\n",
       "      <th>'Til There Was You (1997)</th>\n",
       "      <td>2.675676</td>\n",
       "      <td>2.733333</td>\n",
       "    </tr>\n",
       "    <tr>\n",
       "      <th>'burbs, The (1989)</th>\n",
       "      <td>2.793478</td>\n",
       "      <td>2.962085</td>\n",
       "    </tr>\n",
       "    <tr>\n",
       "      <th>...And Justice for All (1979)</th>\n",
       "      <td>3.828571</td>\n",
       "      <td>3.689024</td>\n",
       "    </tr>\n",
       "    <tr>\n",
       "      <th>...</th>\n",
       "      <td>...</td>\n",
       "      <td>...</td>\n",
       "    </tr>\n",
       "    <tr>\n",
       "      <th>Zed &amp; Two Noughts, A (1985)</th>\n",
       "      <td>3.500000</td>\n",
       "      <td>3.380952</td>\n",
       "    </tr>\n",
       "    <tr>\n",
       "      <th>Zero Effect (1998)</th>\n",
       "      <td>3.864407</td>\n",
       "      <td>3.723140</td>\n",
       "    </tr>\n",
       "    <tr>\n",
       "      <th>Zero Kelvin (Kjærlighetens kjøtere) (1995)</th>\n",
       "      <td>NaN</td>\n",
       "      <td>3.500000</td>\n",
       "    </tr>\n",
       "    <tr>\n",
       "      <th>Zeus and Roxanne (1997)</th>\n",
       "      <td>2.777778</td>\n",
       "      <td>2.357143</td>\n",
       "    </tr>\n",
       "    <tr>\n",
       "      <th>eXistenZ (1999)</th>\n",
       "      <td>3.098592</td>\n",
       "      <td>3.289086</td>\n",
       "    </tr>\n",
       "  </tbody>\n",
       "</table>\n",
       "<p>3706 rows × 2 columns</p>\n",
       "</div>"
      ],
      "text/plain": [
       "gender                                             F         M\n",
       "title                                                         \n",
       "$1,000,000 Duck (1971)                      3.375000  2.761905\n",
       "'Night Mother (1986)                        3.388889  3.352941\n",
       "'Til There Was You (1997)                   2.675676  2.733333\n",
       "'burbs, The (1989)                          2.793478  2.962085\n",
       "...And Justice for All (1979)               3.828571  3.689024\n",
       "...                                              ...       ...\n",
       "Zed & Two Noughts, A (1985)                 3.500000  3.380952\n",
       "Zero Effect (1998)                          3.864407  3.723140\n",
       "Zero Kelvin (Kjærlighetens kjøtere) (1995)       NaN  3.500000\n",
       "Zeus and Roxanne (1997)                     2.777778  2.357143\n",
       "eXistenZ (1999)                             3.098592  3.289086\n",
       "\n",
       "[3706 rows x 2 columns]"
      ]
     },
     "execution_count": 21,
     "metadata": {},
     "output_type": "execute_result"
    }
   ],
   "source": [
    "rating_by_title_gender = df.pivot_table(values = 'rating', index = 'title', columns = 'gender')\n",
    "rating_by_title_gender"
   ]
  },
  {
   "cell_type": "markdown",
   "metadata": {},
   "source": [
    "### Top 10 ratings movie title for female / for male"
   ]
  },
  {
   "cell_type": "code",
   "execution_count": 23,
   "metadata": {
    "execution": {
     "iopub.execute_input": "2021-03-31T06:31:41.194132Z",
     "iopub.status.busy": "2021-03-31T06:31:41.193139Z",
     "iopub.status.idle": "2021-03-31T06:31:41.207140Z",
     "shell.execute_reply": "2021-03-31T06:31:41.206143Z",
     "shell.execute_reply.started": "2021-03-31T06:31:41.194132Z"
    }
   },
   "outputs": [
    {
     "data": {
      "text/html": [
       "<div>\n",
       "<style scoped>\n",
       "    .dataframe tbody tr th:only-of-type {\n",
       "        vertical-align: middle;\n",
       "    }\n",
       "\n",
       "    .dataframe tbody tr th {\n",
       "        vertical-align: top;\n",
       "    }\n",
       "\n",
       "    .dataframe thead th {\n",
       "        text-align: right;\n",
       "    }\n",
       "</style>\n",
       "<table border=\"1\" class=\"dataframe\">\n",
       "  <thead>\n",
       "    <tr style=\"text-align: right;\">\n",
       "      <th>gender</th>\n",
       "      <th>F</th>\n",
       "      <th>M</th>\n",
       "    </tr>\n",
       "    <tr>\n",
       "      <th>title</th>\n",
       "      <th></th>\n",
       "      <th></th>\n",
       "    </tr>\n",
       "  </thead>\n",
       "  <tbody>\n",
       "    <tr>\n",
       "      <th>Clean Slate (Coup de Torchon) (1981)</th>\n",
       "      <td>5.0</td>\n",
       "      <td>3.857143</td>\n",
       "    </tr>\n",
       "    <tr>\n",
       "      <th>Ballad of Narayama, The (Narayama Bushiko) (1958)</th>\n",
       "      <td>5.0</td>\n",
       "      <td>3.428571</td>\n",
       "    </tr>\n",
       "    <tr>\n",
       "      <th>Raw Deal (1948)</th>\n",
       "      <td>5.0</td>\n",
       "      <td>3.307692</td>\n",
       "    </tr>\n",
       "    <tr>\n",
       "      <th>Bittersweet Motel (2000)</th>\n",
       "      <td>5.0</td>\n",
       "      <td>NaN</td>\n",
       "    </tr>\n",
       "    <tr>\n",
       "      <th>Skipped Parts (2000)</th>\n",
       "      <td>5.0</td>\n",
       "      <td>4.000000</td>\n",
       "    </tr>\n",
       "    <tr>\n",
       "      <th>Lamerica (1994)</th>\n",
       "      <td>5.0</td>\n",
       "      <td>4.666667</td>\n",
       "    </tr>\n",
       "    <tr>\n",
       "      <th>Gambler, The (A Játékos) (1997)</th>\n",
       "      <td>5.0</td>\n",
       "      <td>3.166667</td>\n",
       "    </tr>\n",
       "    <tr>\n",
       "      <th>Brother, Can You Spare a Dime? (1975)</th>\n",
       "      <td>5.0</td>\n",
       "      <td>3.642857</td>\n",
       "    </tr>\n",
       "    <tr>\n",
       "      <th>Ayn Rand: A Sense of Life (1997)</th>\n",
       "      <td>5.0</td>\n",
       "      <td>4.000000</td>\n",
       "    </tr>\n",
       "    <tr>\n",
       "      <th>24 7: Twenty Four Seven (1997)</th>\n",
       "      <td>5.0</td>\n",
       "      <td>3.750000</td>\n",
       "    </tr>\n",
       "  </tbody>\n",
       "</table>\n",
       "</div>"
      ],
      "text/plain": [
       "gender                                               F         M\n",
       "title                                                           \n",
       "Clean Slate (Coup de Torchon) (1981)               5.0  3.857143\n",
       "Ballad of Narayama, The (Narayama Bushiko) (1958)  5.0  3.428571\n",
       "Raw Deal (1948)                                    5.0  3.307692\n",
       "Bittersweet Motel (2000)                           5.0       NaN\n",
       "Skipped Parts (2000)                               5.0  4.000000\n",
       "Lamerica (1994)                                    5.0  4.666667\n",
       "Gambler, The (A Játékos) (1997)                    5.0  3.166667\n",
       "Brother, Can You Spare a Dime? (1975)              5.0  3.642857\n",
       "Ayn Rand: A Sense of Life (1997)                   5.0  4.000000\n",
       "24 7: Twenty Four Seven (1997)                     5.0  3.750000"
      ]
     },
     "execution_count": 23,
     "metadata": {},
     "output_type": "execute_result"
    }
   ],
   "source": [
    "rating_by_title_gender.sort_values(by = 'F', ascending = False).head(10)"
   ]
  },
  {
   "cell_type": "code",
   "execution_count": 24,
   "metadata": {
    "execution": {
     "iopub.execute_input": "2021-03-31T06:31:59.479930Z",
     "iopub.status.busy": "2021-03-31T06:31:59.478933Z",
     "iopub.status.idle": "2021-03-31T06:31:59.507855Z",
     "shell.execute_reply": "2021-03-31T06:31:59.506856Z",
     "shell.execute_reply.started": "2021-03-31T06:31:59.478933Z"
    }
   },
   "outputs": [
    {
     "data": {
      "text/html": [
       "<div>\n",
       "<style scoped>\n",
       "    .dataframe tbody tr th:only-of-type {\n",
       "        vertical-align: middle;\n",
       "    }\n",
       "\n",
       "    .dataframe tbody tr th {\n",
       "        vertical-align: top;\n",
       "    }\n",
       "\n",
       "    .dataframe thead th {\n",
       "        text-align: right;\n",
       "    }\n",
       "</style>\n",
       "<table border=\"1\" class=\"dataframe\">\n",
       "  <thead>\n",
       "    <tr style=\"text-align: right;\">\n",
       "      <th>gender</th>\n",
       "      <th>F</th>\n",
       "      <th>M</th>\n",
       "    </tr>\n",
       "    <tr>\n",
       "      <th>title</th>\n",
       "      <th></th>\n",
       "      <th></th>\n",
       "    </tr>\n",
       "  </thead>\n",
       "  <tbody>\n",
       "    <tr>\n",
       "      <th>Schlafes Bruder (Brother of Sleep) (1995)</th>\n",
       "      <td>NaN</td>\n",
       "      <td>5.0</td>\n",
       "    </tr>\n",
       "    <tr>\n",
       "      <th>Small Wonders (1996)</th>\n",
       "      <td>3.333333</td>\n",
       "      <td>5.0</td>\n",
       "    </tr>\n",
       "    <tr>\n",
       "      <th>Gate of Heavenly Peace, The (1995)</th>\n",
       "      <td>5.000000</td>\n",
       "      <td>5.0</td>\n",
       "    </tr>\n",
       "    <tr>\n",
       "      <th>Baby, The (1973)</th>\n",
       "      <td>NaN</td>\n",
       "      <td>5.0</td>\n",
       "    </tr>\n",
       "    <tr>\n",
       "      <th>Ulysses (Ulisse) (1954)</th>\n",
       "      <td>NaN</td>\n",
       "      <td>5.0</td>\n",
       "    </tr>\n",
       "    <tr>\n",
       "      <th>Dangerous Game (1993)</th>\n",
       "      <td>4.000000</td>\n",
       "      <td>5.0</td>\n",
       "    </tr>\n",
       "    <tr>\n",
       "      <th>Angela (1995)</th>\n",
       "      <td>3.000000</td>\n",
       "      <td>5.0</td>\n",
       "    </tr>\n",
       "    <tr>\n",
       "      <th>Bells, The (1926)</th>\n",
       "      <td>4.000000</td>\n",
       "      <td>5.0</td>\n",
       "    </tr>\n",
       "    <tr>\n",
       "      <th>Smashing Time (1967)</th>\n",
       "      <td>NaN</td>\n",
       "      <td>5.0</td>\n",
       "    </tr>\n",
       "    <tr>\n",
       "      <th>Follow the Bitch (1998)</th>\n",
       "      <td>NaN</td>\n",
       "      <td>5.0</td>\n",
       "    </tr>\n",
       "  </tbody>\n",
       "</table>\n",
       "</div>"
      ],
      "text/plain": [
       "gender                                            F    M\n",
       "title                                                   \n",
       "Schlafes Bruder (Brother of Sleep) (1995)       NaN  5.0\n",
       "Small Wonders (1996)                       3.333333  5.0\n",
       "Gate of Heavenly Peace, The (1995)         5.000000  5.0\n",
       "Baby, The (1973)                                NaN  5.0\n",
       "Ulysses (Ulisse) (1954)                         NaN  5.0\n",
       "Dangerous Game (1993)                      4.000000  5.0\n",
       "Angela (1995)                              3.000000  5.0\n",
       "Bells, The (1926)                          4.000000  5.0\n",
       "Smashing Time (1967)                            NaN  5.0\n",
       "Follow the Bitch (1998)                         NaN  5.0"
      ]
     },
     "execution_count": 24,
     "metadata": {},
     "output_type": "execute_result"
    }
   ],
   "source": [
    "rating_by_title_gender.sort_values(by = 'M', ascending = False).head(10)"
   ]
  },
  {
   "cell_type": "markdown",
   "metadata": {},
   "source": [
    "# Remove low evaluation count\n",
    "* evaluation count by movie\n",
    "* many evaluation"
   ]
  },
  {
   "cell_type": "code",
   "execution_count": 25,
   "metadata": {
    "execution": {
     "iopub.execute_input": "2021-03-31T06:33:26.001583Z",
     "iopub.status.busy": "2021-03-31T06:33:26.000584Z",
     "iopub.status.idle": "2021-03-31T06:33:26.106655Z",
     "shell.execute_reply": "2021-03-31T06:33:26.106655Z",
     "shell.execute_reply.started": "2021-03-31T06:33:26.001583Z"
    }
   },
   "outputs": [
    {
     "data": {
      "text/plain": [
       "American Beauty (1999)                                   3428\n",
       "Star Wars: Episode IV - A New Hope (1977)                2991\n",
       "Star Wars: Episode V - The Empire Strikes Back (1980)    2990\n",
       "Star Wars: Episode VI - Return of the Jedi (1983)        2883\n",
       "Jurassic Park (1993)                                     2672\n",
       "                                                         ... \n",
       "Waltzes from Vienna (1933)                                  1\n",
       "Happy Weekend (1996)                                        1\n",
       "Trois (2000)                                                1\n",
       "Beloved/Friend (Amigo/Amado) (1999)                         1\n",
       "Terror in a Texas Town (1958)                               1\n",
       "Name: title, Length: 3706, dtype: int64"
      ]
     },
     "execution_count": 25,
     "metadata": {},
     "output_type": "execute_result"
    }
   ],
   "source": [
    "title_counts = df['title'].value_counts()\n",
    "title_counts"
   ]
  },
  {
   "cell_type": "code",
   "execution_count": 26,
   "metadata": {
    "execution": {
     "iopub.execute_input": "2021-03-31T06:33:27.433955Z",
     "iopub.status.busy": "2021-03-31T06:33:27.432956Z",
     "iopub.status.idle": "2021-03-31T06:33:27.459887Z",
     "shell.execute_reply": "2021-03-31T06:33:27.458889Z",
     "shell.execute_reply.started": "2021-03-31T06:33:27.433955Z"
    }
   },
   "outputs": [
    {
     "data": {
      "text/plain": [
       "count    3706.000000\n",
       "mean      269.889099\n",
       "std       384.047838\n",
       "min         1.000000\n",
       "25%        33.000000\n",
       "50%       123.500000\n",
       "75%       350.000000\n",
       "max      3428.000000\n",
       "Name: title, dtype: float64"
      ]
     },
     "execution_count": 26,
     "metadata": {},
     "output_type": "execute_result"
    }
   ],
   "source": [
    "title_counts.describe()"
   ]
  },
  {
   "cell_type": "code",
   "execution_count": 27,
   "metadata": {
    "execution": {
     "iopub.execute_input": "2021-03-31T06:34:02.179244Z",
     "iopub.status.busy": "2021-03-31T06:34:02.178246Z",
     "iopub.status.idle": "2021-03-31T06:34:02.191207Z",
     "shell.execute_reply": "2021-03-31T06:34:02.190250Z",
     "shell.execute_reply.started": "2021-03-31T06:34:02.179244Z"
    }
   },
   "outputs": [
    {
     "data": {
      "text/plain": [
       "American Beauty (1999)                                   3428\n",
       "Star Wars: Episode IV - A New Hope (1977)                2991\n",
       "Star Wars: Episode V - The Empire Strikes Back (1980)    2990\n",
       "Star Wars: Episode VI - Return of the Jedi (1983)        2883\n",
       "Jurassic Park (1993)                                     2672\n",
       "Saving Private Ryan (1998)                               2653\n",
       "Terminator 2: Judgment Day (1991)                        2649\n",
       "Matrix, The (1999)                                       2590\n",
       "Back to the Future (1985)                                2583\n",
       "Silence of the Lambs, The (1991)                         2578\n",
       "Men in Black (1997)                                      2538\n",
       "Raiders of the Lost Ark (1981)                           2514\n",
       "Fargo (1996)                                             2513\n",
       "Sixth Sense, The (1999)                                  2459\n",
       "Braveheart (1995)                                        2443\n",
       "Shakespeare in Love (1998)                               2369\n",
       "Princess Bride, The (1987)                               2318\n",
       "Schindler's List (1993)                                  2304\n",
       "L.A. Confidential (1997)                                 2288\n",
       "Groundhog Day (1993)                                     2278\n",
       "Name: title, dtype: int64"
      ]
     },
     "execution_count": 27,
     "metadata": {},
     "output_type": "execute_result"
    }
   ],
   "source": [
    "# top 20 movie : most evaluated by users\n",
    "title_counts.head(n = 20)"
   ]
  },
  {
   "cell_type": "code",
   "execution_count": 28,
   "metadata": {
    "execution": {
     "iopub.execute_input": "2021-03-31T06:34:39.393378Z",
     "iopub.status.busy": "2021-03-31T06:34:39.393378Z",
     "iopub.status.idle": "2021-03-31T06:34:39.412327Z",
     "shell.execute_reply": "2021-03-31T06:34:39.410334Z",
     "shell.execute_reply.started": "2021-03-31T06:34:39.393378Z"
    }
   },
   "outputs": [
    {
     "data": {
      "text/plain": [
       "Index(['American Beauty (1999)', 'Star Wars: Episode IV - A New Hope (1977)',\n",
       "       'Star Wars: Episode V - The Empire Strikes Back (1980)',\n",
       "       'Star Wars: Episode VI - Return of the Jedi (1983)',\n",
       "       'Jurassic Park (1993)', 'Saving Private Ryan (1998)',\n",
       "       'Terminator 2: Judgment Day (1991)', 'Matrix, The (1999)',\n",
       "       'Back to the Future (1985)', 'Silence of the Lambs, The (1991)',\n",
       "       ...\n",
       "       'Alligator (1980)', 'Twelfth Night (1996)', 'Program, The (1993)',\n",
       "       'Cowboy Way, The (1994)', 'Golden Voyage of Sinbad, The (1974)',\n",
       "       'Tales from the Crypt Presents: Bordello of Blood (1996)',\n",
       "       'In the Army Now (1994)', 'Love and Death on Long Island (1997)',\n",
       "       'Asphalt Jungle, The (1950)',\n",
       "       'Police Academy 5: Assignment: Miami Beach (1988)'],\n",
       "      dtype='object', length=1683)"
      ]
     },
     "execution_count": 28,
     "metadata": {},
     "output_type": "execute_result"
    }
   ],
   "source": [
    "# movies that evaluated by more than 150 users\n",
    "indexer = title_counts[title_counts >= 150].index\n",
    "indexer"
   ]
  },
  {
   "cell_type": "code",
   "execution_count": 29,
   "metadata": {
    "execution": {
     "iopub.execute_input": "2021-03-31T06:35:01.000733Z",
     "iopub.status.busy": "2021-03-31T06:35:00.999735Z",
     "iopub.status.idle": "2021-03-31T06:35:01.023672Z",
     "shell.execute_reply": "2021-03-31T06:35:01.022675Z",
     "shell.execute_reply.started": "2021-03-31T06:35:01.000733Z"
    }
   },
   "outputs": [
    {
     "data": {
      "text/plain": [
       "American Beauty (1999)                                     4.317386\n",
       "Star Wars: Episode IV - A New Hope (1977)                  4.453694\n",
       "Star Wars: Episode V - The Empire Strikes Back (1980)      4.292977\n",
       "Star Wars: Episode VI - Return of the Jedi (1983)          4.022893\n",
       "Jurassic Park (1993)                                       3.763847\n",
       "                                                             ...   \n",
       "Tales from the Crypt Presents: Bordello of Blood (1996)    2.589404\n",
       "In the Army Now (1994)                                     2.225166\n",
       "Love and Death on Long Island (1997)                       3.430464\n",
       "Asphalt Jungle, The (1950)                                 3.927152\n",
       "Police Academy 5: Assignment: Miami Beach (1988)           1.766667\n",
       "Name: rating, Length: 1683, dtype: float64"
      ]
     },
     "execution_count": 29,
     "metadata": {},
     "output_type": "execute_result"
    }
   ],
   "source": [
    "# ratings of movies evaluated by more than 150 users\n",
    "rating_by_title.loc[indexer]"
   ]
  },
  {
   "cell_type": "code",
   "execution_count": 30,
   "metadata": {
    "execution": {
     "iopub.execute_input": "2021-03-31T06:38:15.636492Z",
     "iopub.status.busy": "2021-03-31T06:38:15.636492Z",
     "iopub.status.idle": "2021-03-31T06:38:15.660427Z",
     "shell.execute_reply": "2021-03-31T06:38:15.659429Z",
     "shell.execute_reply.started": "2021-03-31T06:38:15.636492Z"
    }
   },
   "outputs": [
    {
     "data": {
      "text/plain": [
       "Seven Samurai (The Magnificent Seven) (Shichinin no samurai) (1954)            4.560510\n",
       "Shawshank Redemption, The (1994)                                               4.554558\n",
       "Godfather, The (1972)                                                          4.524966\n",
       "Close Shave, A (1995)                                                          4.520548\n",
       "Usual Suspects, The (1995)                                                     4.517106\n",
       "Schindler's List (1993)                                                        4.510417\n",
       "Wrong Trousers, The (1993)                                                     4.507937\n",
       "Sunset Blvd. (a.k.a. Sunset Boulevard) (1950)                                  4.491489\n",
       "Raiders of the Lost Ark (1981)                                                 4.477725\n",
       "Rear Window (1954)                                                             4.476190\n",
       "Paths of Glory (1957)                                                          4.473913\n",
       "Star Wars: Episode IV - A New Hope (1977)                                      4.453694\n",
       "Third Man, The (1949)                                                          4.452083\n",
       "Dr. Strangelove or: How I Learned to Stop Worrying and Love the Bomb (1963)    4.449890\n",
       "Wallace & Gromit: The Best of Aardman Animation (1996)                         4.426941\n",
       "To Kill a Mockingbird (1962)                                                   4.425647\n",
       "Double Indemnity (1944)                                                        4.415608\n",
       "Casablanca (1942)                                                              4.412822\n",
       "Sixth Sense, The (1999)                                                        4.406263\n",
       "Yojimbo (1961)                                                                 4.404651\n",
       "Name: rating, dtype: float64"
      ]
     },
     "execution_count": 30,
     "metadata": {},
     "output_type": "execute_result"
    }
   ],
   "source": [
    "# Top 20 of ratings of movies evaluated by more than 150 users\n",
    "rating_by_title.loc[indexer].sort_values(ascending = False).head(20)"
   ]
  },
  {
   "cell_type": "code",
   "execution_count": 32,
   "metadata": {
    "execution": {
     "iopub.execute_input": "2021-03-31T06:38:51.090368Z",
     "iopub.status.busy": "2021-03-31T06:38:51.090368Z",
     "iopub.status.idle": "2021-03-31T06:38:51.103335Z",
     "shell.execute_reply": "2021-03-31T06:38:51.102336Z",
     "shell.execute_reply.started": "2021-03-31T06:38:51.090368Z"
    }
   },
   "outputs": [
    {
     "data": {
      "text/plain": [
       "Battlefield Earth (2000)                            1.611111\n",
       "Baby Geniuses (1999)                                1.701220\n",
       "Police Academy 5: Assignment: Miami Beach (1988)    1.766667\n",
       "Stop! Or My Mom Will Shoot (1992)                   1.782123\n",
       "Jaws 3-D (1983)                                     1.852381\n",
       "Speed 2: Cruise Control (1997)                      1.871935\n",
       "Spice World (1997)                                  1.873684\n",
       "Super Mario Bros. (1993)                            1.874286\n",
       "Home Alone 3 (1997)                                 1.876623\n",
       "Superman IV: The Quest for Peace (1987)             1.888554\n",
       "Name: rating, dtype: float64"
      ]
     },
     "execution_count": 32,
     "metadata": {},
     "output_type": "execute_result"
    }
   ],
   "source": [
    "# bottom 10 of ratings of movies evaluated by more than 150 users\n",
    "rating_by_title.loc[indexer].sort_values().head(10)"
   ]
  },
  {
   "cell_type": "code",
   "execution_count": 33,
   "metadata": {
    "execution": {
     "iopub.execute_input": "2021-03-31T06:39:05.635771Z",
     "iopub.status.busy": "2021-03-31T06:39:05.635771Z",
     "iopub.status.idle": "2021-03-31T06:39:05.666690Z",
     "shell.execute_reply": "2021-03-31T06:39:05.665692Z",
     "shell.execute_reply.started": "2021-03-31T06:39:05.635771Z"
    }
   },
   "outputs": [
    {
     "data": {
      "text/html": [
       "<div>\n",
       "<style scoped>\n",
       "    .dataframe tbody tr th:only-of-type {\n",
       "        vertical-align: middle;\n",
       "    }\n",
       "\n",
       "    .dataframe tbody tr th {\n",
       "        vertical-align: top;\n",
       "    }\n",
       "\n",
       "    .dataframe thead th {\n",
       "        text-align: right;\n",
       "    }\n",
       "</style>\n",
       "<table border=\"1\" class=\"dataframe\">\n",
       "  <thead>\n",
       "    <tr style=\"text-align: right;\">\n",
       "      <th>gender</th>\n",
       "      <th>F</th>\n",
       "      <th>M</th>\n",
       "    </tr>\n",
       "  </thead>\n",
       "  <tbody>\n",
       "    <tr>\n",
       "      <th>American Beauty (1999)</th>\n",
       "      <td>4.238901</td>\n",
       "      <td>4.347301</td>\n",
       "    </tr>\n",
       "    <tr>\n",
       "      <th>Star Wars: Episode IV - A New Hope (1977)</th>\n",
       "      <td>4.302937</td>\n",
       "      <td>4.495307</td>\n",
       "    </tr>\n",
       "    <tr>\n",
       "      <th>Star Wars: Episode V - The Empire Strikes Back (1980)</th>\n",
       "      <td>4.106481</td>\n",
       "      <td>4.344577</td>\n",
       "    </tr>\n",
       "    <tr>\n",
       "      <th>Star Wars: Episode VI - Return of the Jedi (1983)</th>\n",
       "      <td>3.865237</td>\n",
       "      <td>4.069058</td>\n",
       "    </tr>\n",
       "    <tr>\n",
       "      <th>Jurassic Park (1993)</th>\n",
       "      <td>3.579407</td>\n",
       "      <td>3.814197</td>\n",
       "    </tr>\n",
       "    <tr>\n",
       "      <th>...</th>\n",
       "      <td>...</td>\n",
       "      <td>...</td>\n",
       "    </tr>\n",
       "    <tr>\n",
       "      <th>Tales from the Crypt Presents: Bordello of Blood (1996)</th>\n",
       "      <td>2.727273</td>\n",
       "      <td>2.565891</td>\n",
       "    </tr>\n",
       "    <tr>\n",
       "      <th>In the Army Now (1994)</th>\n",
       "      <td>2.384615</td>\n",
       "      <td>2.192000</td>\n",
       "    </tr>\n",
       "    <tr>\n",
       "      <th>Love and Death on Long Island (1997)</th>\n",
       "      <td>3.116279</td>\n",
       "      <td>3.555556</td>\n",
       "    </tr>\n",
       "    <tr>\n",
       "      <th>Asphalt Jungle, The (1950)</th>\n",
       "      <td>3.571429</td>\n",
       "      <td>4.008130</td>\n",
       "    </tr>\n",
       "    <tr>\n",
       "      <th>Police Academy 5: Assignment: Miami Beach (1988)</th>\n",
       "      <td>1.935484</td>\n",
       "      <td>1.722689</td>\n",
       "    </tr>\n",
       "  </tbody>\n",
       "</table>\n",
       "<p>1683 rows × 2 columns</p>\n",
       "</div>"
      ],
      "text/plain": [
       "gender                                                     F         M\n",
       "American Beauty (1999)                              4.238901  4.347301\n",
       "Star Wars: Episode IV - A New Hope (1977)           4.302937  4.495307\n",
       "Star Wars: Episode V - The Empire Strikes Back ...  4.106481  4.344577\n",
       "Star Wars: Episode VI - Return of the Jedi (1983)   3.865237  4.069058\n",
       "Jurassic Park (1993)                                3.579407  3.814197\n",
       "...                                                      ...       ...\n",
       "Tales from the Crypt Presents: Bordello of Bloo...  2.727273  2.565891\n",
       "In the Army Now (1994)                              2.384615  2.192000\n",
       "Love and Death on Long Island (1997)                3.116279  3.555556\n",
       "Asphalt Jungle, The (1950)                          3.571429  4.008130\n",
       "Police Academy 5: Assignment: Miami Beach (1988)    1.935484  1.722689\n",
       "\n",
       "[1683 rows x 2 columns]"
      ]
     },
     "execution_count": 33,
     "metadata": {},
     "output_type": "execute_result"
    }
   ],
   "source": [
    "rating_by_title_gender.loc[indexer]"
   ]
  },
  {
   "cell_type": "code",
   "execution_count": 35,
   "metadata": {
    "execution": {
     "iopub.execute_input": "2021-03-31T06:40:11.679912Z",
     "iopub.status.busy": "2021-03-31T06:40:11.678915Z",
     "iopub.status.idle": "2021-03-31T06:40:11.707838Z",
     "shell.execute_reply": "2021-03-31T06:40:11.706841Z",
     "shell.execute_reply.started": "2021-03-31T06:40:11.679912Z"
    }
   },
   "outputs": [
    {
     "data": {
      "text/html": [
       "<div>\n",
       "<style scoped>\n",
       "    .dataframe tbody tr th:only-of-type {\n",
       "        vertical-align: middle;\n",
       "    }\n",
       "\n",
       "    .dataframe tbody tr th {\n",
       "        vertical-align: top;\n",
       "    }\n",
       "\n",
       "    .dataframe thead th {\n",
       "        text-align: right;\n",
       "    }\n",
       "</style>\n",
       "<table border=\"1\" class=\"dataframe\">\n",
       "  <thead>\n",
       "    <tr style=\"text-align: right;\">\n",
       "      <th>gender</th>\n",
       "      <th>F</th>\n",
       "      <th>M</th>\n",
       "    </tr>\n",
       "  </thead>\n",
       "  <tbody>\n",
       "    <tr>\n",
       "      <th>Close Shave, A (1995)</th>\n",
       "      <td>4.644444</td>\n",
       "      <td>4.473795</td>\n",
       "    </tr>\n",
       "    <tr>\n",
       "      <th>Wrong Trousers, The (1993)</th>\n",
       "      <td>4.588235</td>\n",
       "      <td>4.478261</td>\n",
       "    </tr>\n",
       "    <tr>\n",
       "      <th>General, The (1927)</th>\n",
       "      <td>4.575758</td>\n",
       "      <td>4.329480</td>\n",
       "    </tr>\n",
       "    <tr>\n",
       "      <th>Sunset Blvd. (a.k.a. Sunset Boulevard) (1950)</th>\n",
       "      <td>4.572650</td>\n",
       "      <td>4.464589</td>\n",
       "    </tr>\n",
       "    <tr>\n",
       "      <th>Wallace &amp; Gromit: The Best of Aardman Animation (1996)</th>\n",
       "      <td>4.563107</td>\n",
       "      <td>4.385075</td>\n",
       "    </tr>\n",
       "    <tr>\n",
       "      <th>Schindler's List (1993)</th>\n",
       "      <td>4.562602</td>\n",
       "      <td>4.491415</td>\n",
       "    </tr>\n",
       "    <tr>\n",
       "      <th>Grand Illusion (Grande illusion, La) (1937)</th>\n",
       "      <td>4.560976</td>\n",
       "      <td>4.266129</td>\n",
       "    </tr>\n",
       "    <tr>\n",
       "      <th>Shawshank Redemption, The (1994)</th>\n",
       "      <td>4.539075</td>\n",
       "      <td>4.560625</td>\n",
       "    </tr>\n",
       "    <tr>\n",
       "      <th>Grand Day Out, A (1992)</th>\n",
       "      <td>4.537879</td>\n",
       "      <td>4.293255</td>\n",
       "    </tr>\n",
       "    <tr>\n",
       "      <th>To Kill a Mockingbird (1962)</th>\n",
       "      <td>4.536667</td>\n",
       "      <td>4.372611</td>\n",
       "    </tr>\n",
       "  </tbody>\n",
       "</table>\n",
       "</div>"
      ],
      "text/plain": [
       "gender                                                     F         M\n",
       "Close Shave, A (1995)                               4.644444  4.473795\n",
       "Wrong Trousers, The (1993)                          4.588235  4.478261\n",
       "General, The (1927)                                 4.575758  4.329480\n",
       "Sunset Blvd. (a.k.a. Sunset Boulevard) (1950)       4.572650  4.464589\n",
       "Wallace & Gromit: The Best of Aardman Animation...  4.563107  4.385075\n",
       "Schindler's List (1993)                             4.562602  4.491415\n",
       "Grand Illusion (Grande illusion, La) (1937)         4.560976  4.266129\n",
       "Shawshank Redemption, The (1994)                    4.539075  4.560625\n",
       "Grand Day Out, A (1992)                             4.537879  4.293255\n",
       "To Kill a Mockingbird (1962)                        4.536667  4.372611"
      ]
     },
     "execution_count": 35,
     "metadata": {},
     "output_type": "execute_result"
    }
   ],
   "source": [
    "# Top 10 of ratings of movies evaluated by more than 150 users : for Female\n",
    "rating_by_title_gender.loc[indexer].sort_values(by = 'F', ascending = False).head(10)"
   ]
  },
  {
   "cell_type": "code",
   "execution_count": 36,
   "metadata": {
    "execution": {
     "iopub.execute_input": "2021-03-31T06:40:37.979813Z",
     "iopub.status.busy": "2021-03-31T06:40:37.978814Z",
     "iopub.status.idle": "2021-03-31T06:40:38.004256Z",
     "shell.execute_reply": "2021-03-31T06:40:38.003259Z",
     "shell.execute_reply.started": "2021-03-31T06:40:37.979813Z"
    }
   },
   "outputs": [
    {
     "data": {
      "text/html": [
       "<div>\n",
       "<style scoped>\n",
       "    .dataframe tbody tr th:only-of-type {\n",
       "        vertical-align: middle;\n",
       "    }\n",
       "\n",
       "    .dataframe tbody tr th {\n",
       "        vertical-align: top;\n",
       "    }\n",
       "\n",
       "    .dataframe thead th {\n",
       "        text-align: right;\n",
       "    }\n",
       "</style>\n",
       "<table border=\"1\" class=\"dataframe\">\n",
       "  <thead>\n",
       "    <tr style=\"text-align: right;\">\n",
       "      <th>gender</th>\n",
       "      <th>F</th>\n",
       "      <th>M</th>\n",
       "    </tr>\n",
       "  </thead>\n",
       "  <tbody>\n",
       "    <tr>\n",
       "      <th>Godfather, The (1972)</th>\n",
       "      <td>4.314700</td>\n",
       "      <td>4.583333</td>\n",
       "    </tr>\n",
       "    <tr>\n",
       "      <th>Seven Samurai (The Magnificent Seven) (Shichinin no samurai) (1954)</th>\n",
       "      <td>4.481132</td>\n",
       "      <td>4.576628</td>\n",
       "    </tr>\n",
       "    <tr>\n",
       "      <th>Shawshank Redemption, The (1994)</th>\n",
       "      <td>4.539075</td>\n",
       "      <td>4.560625</td>\n",
       "    </tr>\n",
       "    <tr>\n",
       "      <th>Raiders of the Lost Ark (1981)</th>\n",
       "      <td>4.332168</td>\n",
       "      <td>4.520597</td>\n",
       "    </tr>\n",
       "    <tr>\n",
       "      <th>Usual Suspects, The (1995)</th>\n",
       "      <td>4.513317</td>\n",
       "      <td>4.518248</td>\n",
       "    </tr>\n",
       "    <tr>\n",
       "      <th>Star Wars: Episode IV - A New Hope (1977)</th>\n",
       "      <td>4.302937</td>\n",
       "      <td>4.495307</td>\n",
       "    </tr>\n",
       "    <tr>\n",
       "      <th>Schindler's List (1993)</th>\n",
       "      <td>4.562602</td>\n",
       "      <td>4.491415</td>\n",
       "    </tr>\n",
       "    <tr>\n",
       "      <th>Paths of Glory (1957)</th>\n",
       "      <td>4.392857</td>\n",
       "      <td>4.485149</td>\n",
       "    </tr>\n",
       "    <tr>\n",
       "      <th>Wrong Trousers, The (1993)</th>\n",
       "      <td>4.588235</td>\n",
       "      <td>4.478261</td>\n",
       "    </tr>\n",
       "    <tr>\n",
       "      <th>Close Shave, A (1995)</th>\n",
       "      <td>4.644444</td>\n",
       "      <td>4.473795</td>\n",
       "    </tr>\n",
       "  </tbody>\n",
       "</table>\n",
       "</div>"
      ],
      "text/plain": [
       "gender                                                     F         M\n",
       "Godfather, The (1972)                               4.314700  4.583333\n",
       "Seven Samurai (The Magnificent Seven) (Shichini...  4.481132  4.576628\n",
       "Shawshank Redemption, The (1994)                    4.539075  4.560625\n",
       "Raiders of the Lost Ark (1981)                      4.332168  4.520597\n",
       "Usual Suspects, The (1995)                          4.513317  4.518248\n",
       "Star Wars: Episode IV - A New Hope (1977)           4.302937  4.495307\n",
       "Schindler's List (1993)                             4.562602  4.491415\n",
       "Paths of Glory (1957)                               4.392857  4.485149\n",
       "Wrong Trousers, The (1993)                          4.588235  4.478261\n",
       "Close Shave, A (1995)                               4.644444  4.473795"
      ]
     },
     "execution_count": 36,
     "metadata": {},
     "output_type": "execute_result"
    }
   ],
   "source": [
    "# Top 10 of ratings of movies evaluated by more than 150 users : for Male\n",
    "rating_by_title_gender.loc[indexer].sort_values(by = 'M', ascending = False).head(10)"
   ]
  },
  {
   "cell_type": "markdown",
   "metadata": {},
   "source": [
    "## preference difference by gender"
   ]
  },
  {
   "cell_type": "code",
   "execution_count": 38,
   "metadata": {
    "execution": {
     "iopub.execute_input": "2021-03-31T06:41:58.784611Z",
     "iopub.status.busy": "2021-03-31T06:41:58.784611Z",
     "iopub.status.idle": "2021-03-31T06:41:58.804557Z",
     "shell.execute_reply": "2021-03-31T06:41:58.803560Z",
     "shell.execute_reply.started": "2021-03-31T06:41:58.784611Z"
    }
   },
   "outputs": [],
   "source": [
    "# diff : F-M derived variable\n",
    "rating_by_title_gender['diff'] = rating_by_title_gender['F'] - rating_by_title_gender['M']"
   ]
  },
  {
   "cell_type": "code",
   "execution_count": 39,
   "metadata": {
    "execution": {
     "iopub.execute_input": "2021-03-31T06:42:04.265191Z",
     "iopub.status.busy": "2021-03-31T06:42:04.265191Z",
     "iopub.status.idle": "2021-03-31T06:42:04.289127Z",
     "shell.execute_reply": "2021-03-31T06:42:04.288129Z",
     "shell.execute_reply.started": "2021-03-31T06:42:04.265191Z"
    }
   },
   "outputs": [
    {
     "data": {
      "text/html": [
       "<div>\n",
       "<style scoped>\n",
       "    .dataframe tbody tr th:only-of-type {\n",
       "        vertical-align: middle;\n",
       "    }\n",
       "\n",
       "    .dataframe tbody tr th {\n",
       "        vertical-align: top;\n",
       "    }\n",
       "\n",
       "    .dataframe thead th {\n",
       "        text-align: right;\n",
       "    }\n",
       "</style>\n",
       "<table border=\"1\" class=\"dataframe\">\n",
       "  <thead>\n",
       "    <tr style=\"text-align: right;\">\n",
       "      <th>gender</th>\n",
       "      <th>F</th>\n",
       "      <th>M</th>\n",
       "      <th>diff</th>\n",
       "    </tr>\n",
       "    <tr>\n",
       "      <th>title</th>\n",
       "      <th></th>\n",
       "      <th></th>\n",
       "      <th></th>\n",
       "    </tr>\n",
       "  </thead>\n",
       "  <tbody>\n",
       "    <tr>\n",
       "      <th>$1,000,000 Duck (1971)</th>\n",
       "      <td>3.375000</td>\n",
       "      <td>2.761905</td>\n",
       "      <td>0.613095</td>\n",
       "    </tr>\n",
       "    <tr>\n",
       "      <th>'Night Mother (1986)</th>\n",
       "      <td>3.388889</td>\n",
       "      <td>3.352941</td>\n",
       "      <td>0.035948</td>\n",
       "    </tr>\n",
       "    <tr>\n",
       "      <th>'Til There Was You (1997)</th>\n",
       "      <td>2.675676</td>\n",
       "      <td>2.733333</td>\n",
       "      <td>-0.057658</td>\n",
       "    </tr>\n",
       "    <tr>\n",
       "      <th>'burbs, The (1989)</th>\n",
       "      <td>2.793478</td>\n",
       "      <td>2.962085</td>\n",
       "      <td>-0.168607</td>\n",
       "    </tr>\n",
       "    <tr>\n",
       "      <th>...And Justice for All (1979)</th>\n",
       "      <td>3.828571</td>\n",
       "      <td>3.689024</td>\n",
       "      <td>0.139547</td>\n",
       "    </tr>\n",
       "    <tr>\n",
       "      <th>...</th>\n",
       "      <td>...</td>\n",
       "      <td>...</td>\n",
       "      <td>...</td>\n",
       "    </tr>\n",
       "    <tr>\n",
       "      <th>Zed &amp; Two Noughts, A (1985)</th>\n",
       "      <td>3.500000</td>\n",
       "      <td>3.380952</td>\n",
       "      <td>0.119048</td>\n",
       "    </tr>\n",
       "    <tr>\n",
       "      <th>Zero Effect (1998)</th>\n",
       "      <td>3.864407</td>\n",
       "      <td>3.723140</td>\n",
       "      <td>0.141266</td>\n",
       "    </tr>\n",
       "    <tr>\n",
       "      <th>Zero Kelvin (Kjærlighetens kjøtere) (1995)</th>\n",
       "      <td>NaN</td>\n",
       "      <td>3.500000</td>\n",
       "      <td>NaN</td>\n",
       "    </tr>\n",
       "    <tr>\n",
       "      <th>Zeus and Roxanne (1997)</th>\n",
       "      <td>2.777778</td>\n",
       "      <td>2.357143</td>\n",
       "      <td>0.420635</td>\n",
       "    </tr>\n",
       "    <tr>\n",
       "      <th>eXistenZ (1999)</th>\n",
       "      <td>3.098592</td>\n",
       "      <td>3.289086</td>\n",
       "      <td>-0.190494</td>\n",
       "    </tr>\n",
       "  </tbody>\n",
       "</table>\n",
       "<p>3706 rows × 3 columns</p>\n",
       "</div>"
      ],
      "text/plain": [
       "gender                                             F         M      diff\n",
       "title                                                                   \n",
       "$1,000,000 Duck (1971)                      3.375000  2.761905  0.613095\n",
       "'Night Mother (1986)                        3.388889  3.352941  0.035948\n",
       "'Til There Was You (1997)                   2.675676  2.733333 -0.057658\n",
       "'burbs, The (1989)                          2.793478  2.962085 -0.168607\n",
       "...And Justice for All (1979)               3.828571  3.689024  0.139547\n",
       "...                                              ...       ...       ...\n",
       "Zed & Two Noughts, A (1985)                 3.500000  3.380952  0.119048\n",
       "Zero Effect (1998)                          3.864407  3.723140  0.141266\n",
       "Zero Kelvin (Kjærlighetens kjøtere) (1995)       NaN  3.500000       NaN\n",
       "Zeus and Roxanne (1997)                     2.777778  2.357143  0.420635\n",
       "eXistenZ (1999)                             3.098592  3.289086 -0.190494\n",
       "\n",
       "[3706 rows x 3 columns]"
      ]
     },
     "execution_count": 39,
     "metadata": {},
     "output_type": "execute_result"
    }
   ],
   "source": [
    "rating_by_title_gender"
   ]
  },
  {
   "cell_type": "code",
   "execution_count": 41,
   "metadata": {
    "execution": {
     "iopub.execute_input": "2021-03-31T06:43:35.690477Z",
     "iopub.status.busy": "2021-03-31T06:43:35.690477Z",
     "iopub.status.idle": "2021-03-31T06:43:35.711800Z",
     "shell.execute_reply": "2021-03-31T06:43:35.710800Z",
     "shell.execute_reply.started": "2021-03-31T06:43:35.690477Z"
    }
   },
   "outputs": [
    {
     "data": {
      "text/html": [
       "<div>\n",
       "<style scoped>\n",
       "    .dataframe tbody tr th:only-of-type {\n",
       "        vertical-align: middle;\n",
       "    }\n",
       "\n",
       "    .dataframe tbody tr th {\n",
       "        vertical-align: top;\n",
       "    }\n",
       "\n",
       "    .dataframe thead th {\n",
       "        text-align: right;\n",
       "    }\n",
       "</style>\n",
       "<table border=\"1\" class=\"dataframe\">\n",
       "  <thead>\n",
       "    <tr style=\"text-align: right;\">\n",
       "      <th>gender</th>\n",
       "      <th>F</th>\n",
       "      <th>M</th>\n",
       "      <th>diff</th>\n",
       "    </tr>\n",
       "  </thead>\n",
       "  <tbody>\n",
       "    <tr>\n",
       "      <th>Dirty Dancing (1987)</th>\n",
       "      <td>3.790378</td>\n",
       "      <td>2.959596</td>\n",
       "      <td>0.830782</td>\n",
       "    </tr>\n",
       "    <tr>\n",
       "      <th>Home Alone 3 (1997)</th>\n",
       "      <td>2.486486</td>\n",
       "      <td>1.683761</td>\n",
       "      <td>0.802726</td>\n",
       "    </tr>\n",
       "    <tr>\n",
       "      <th>To Wong Foo, Thanks for Everything! Julie Newmar (1995)</th>\n",
       "      <td>3.486842</td>\n",
       "      <td>2.795276</td>\n",
       "      <td>0.691567</td>\n",
       "    </tr>\n",
       "    <tr>\n",
       "      <th>Jumpin' Jack Flash (1986)</th>\n",
       "      <td>3.254717</td>\n",
       "      <td>2.578358</td>\n",
       "      <td>0.676359</td>\n",
       "    </tr>\n",
       "    <tr>\n",
       "      <th>Dracula: Dead and Loving It (1995)</th>\n",
       "      <td>2.892857</td>\n",
       "      <td>2.250000</td>\n",
       "      <td>0.642857</td>\n",
       "    </tr>\n",
       "    <tr>\n",
       "      <th>Grease (1978)</th>\n",
       "      <td>3.975265</td>\n",
       "      <td>3.367041</td>\n",
       "      <td>0.608224</td>\n",
       "    </tr>\n",
       "    <tr>\n",
       "      <th>Police Academy 4: Citizens on Patrol (1987)</th>\n",
       "      <td>2.406250</td>\n",
       "      <td>1.802817</td>\n",
       "      <td>0.603433</td>\n",
       "    </tr>\n",
       "    <tr>\n",
       "      <th>Brokedown Palace (1999)</th>\n",
       "      <td>3.312500</td>\n",
       "      <td>2.723577</td>\n",
       "      <td>0.588923</td>\n",
       "    </tr>\n",
       "    <tr>\n",
       "      <th>Relic, The (1997)</th>\n",
       "      <td>3.309524</td>\n",
       "      <td>2.723077</td>\n",
       "      <td>0.586447</td>\n",
       "    </tr>\n",
       "    <tr>\n",
       "      <th>Angels in the Outfield (1994)</th>\n",
       "      <td>3.162500</td>\n",
       "      <td>2.580838</td>\n",
       "      <td>0.581662</td>\n",
       "    </tr>\n",
       "  </tbody>\n",
       "</table>\n",
       "</div>"
      ],
      "text/plain": [
       "gender                                                     F         M  \\\n",
       "Dirty Dancing (1987)                                3.790378  2.959596   \n",
       "Home Alone 3 (1997)                                 2.486486  1.683761   \n",
       "To Wong Foo, Thanks for Everything! Julie Newma...  3.486842  2.795276   \n",
       "Jumpin' Jack Flash (1986)                           3.254717  2.578358   \n",
       "Dracula: Dead and Loving It (1995)                  2.892857  2.250000   \n",
       "Grease (1978)                                       3.975265  3.367041   \n",
       "Police Academy 4: Citizens on Patrol (1987)         2.406250  1.802817   \n",
       "Brokedown Palace (1999)                             3.312500  2.723577   \n",
       "Relic, The (1997)                                   3.309524  2.723077   \n",
       "Angels in the Outfield (1994)                       3.162500  2.580838   \n",
       "\n",
       "gender                                                  diff  \n",
       "Dirty Dancing (1987)                                0.830782  \n",
       "Home Alone 3 (1997)                                 0.802726  \n",
       "To Wong Foo, Thanks for Everything! Julie Newma...  0.691567  \n",
       "Jumpin' Jack Flash (1986)                           0.676359  \n",
       "Dracula: Dead and Loving It (1995)                  0.642857  \n",
       "Grease (1978)                                       0.608224  \n",
       "Police Academy 4: Citizens on Patrol (1987)         0.603433  \n",
       "Brokedown Palace (1999)                             0.588923  \n",
       "Relic, The (1997)                                   0.586447  \n",
       "Angels in the Outfield (1994)                       0.581662  "
      ]
     },
     "execution_count": 41,
     "metadata": {},
     "output_type": "execute_result"
    }
   ],
   "source": [
    "# in movies evaluated by more than 150 users, Top 10 movies that more preferred by female\n",
    "rating_by_title_gender.loc[indexer].sort_values(by = 'diff', ascending = False).head(10)"
   ]
  },
  {
   "cell_type": "code",
   "execution_count": 42,
   "metadata": {
    "execution": {
     "iopub.execute_input": "2021-03-31T06:43:50.599120Z",
     "iopub.status.busy": "2021-03-31T06:43:50.598123Z",
     "iopub.status.idle": "2021-03-31T06:43:50.612086Z",
     "shell.execute_reply": "2021-03-31T06:43:50.611088Z",
     "shell.execute_reply.started": "2021-03-31T06:43:50.598123Z"
    }
   },
   "outputs": [
    {
     "data": {
      "text/html": [
       "<div>\n",
       "<style scoped>\n",
       "    .dataframe tbody tr th:only-of-type {\n",
       "        vertical-align: middle;\n",
       "    }\n",
       "\n",
       "    .dataframe tbody tr th {\n",
       "        vertical-align: top;\n",
       "    }\n",
       "\n",
       "    .dataframe thead th {\n",
       "        text-align: right;\n",
       "    }\n",
       "</style>\n",
       "<table border=\"1\" class=\"dataframe\">\n",
       "  <thead>\n",
       "    <tr style=\"text-align: right;\">\n",
       "      <th>gender</th>\n",
       "      <th>F</th>\n",
       "      <th>M</th>\n",
       "      <th>diff</th>\n",
       "    </tr>\n",
       "  </thead>\n",
       "  <tbody>\n",
       "    <tr>\n",
       "      <th>Lifeforce (1985)</th>\n",
       "      <td>2.250000</td>\n",
       "      <td>2.994152</td>\n",
       "      <td>-0.744152</td>\n",
       "    </tr>\n",
       "    <tr>\n",
       "      <th>Quest for Fire (1981)</th>\n",
       "      <td>2.578947</td>\n",
       "      <td>3.309677</td>\n",
       "      <td>-0.730730</td>\n",
       "    </tr>\n",
       "    <tr>\n",
       "      <th>Good, The Bad and The Ugly, The (1966)</th>\n",
       "      <td>3.494949</td>\n",
       "      <td>4.221300</td>\n",
       "      <td>-0.726351</td>\n",
       "    </tr>\n",
       "    <tr>\n",
       "      <th>No Escape (1994)</th>\n",
       "      <td>2.300000</td>\n",
       "      <td>2.994048</td>\n",
       "      <td>-0.694048</td>\n",
       "    </tr>\n",
       "    <tr>\n",
       "      <th>Kentucky Fried Movie, The (1977)</th>\n",
       "      <td>2.878788</td>\n",
       "      <td>3.555147</td>\n",
       "      <td>-0.676359</td>\n",
       "    </tr>\n",
       "    <tr>\n",
       "      <th>Tora! Tora! Tora! (1970)</th>\n",
       "      <td>3.090909</td>\n",
       "      <td>3.737705</td>\n",
       "      <td>-0.646796</td>\n",
       "    </tr>\n",
       "    <tr>\n",
       "      <th>Up in Smoke (1978)</th>\n",
       "      <td>2.944444</td>\n",
       "      <td>3.585227</td>\n",
       "      <td>-0.640783</td>\n",
       "    </tr>\n",
       "    <tr>\n",
       "      <th>Dumb &amp; Dumber (1994)</th>\n",
       "      <td>2.697987</td>\n",
       "      <td>3.336595</td>\n",
       "      <td>-0.638608</td>\n",
       "    </tr>\n",
       "    <tr>\n",
       "      <th>Friday the 13th: The Final Chapter (1984)</th>\n",
       "      <td>1.636364</td>\n",
       "      <td>2.258503</td>\n",
       "      <td>-0.622140</td>\n",
       "    </tr>\n",
       "    <tr>\n",
       "      <th>Longest Day, The (1962)</th>\n",
       "      <td>3.411765</td>\n",
       "      <td>4.031447</td>\n",
       "      <td>-0.619682</td>\n",
       "    </tr>\n",
       "  </tbody>\n",
       "</table>\n",
       "</div>"
      ],
      "text/plain": [
       "gender                                            F         M      diff\n",
       "Lifeforce (1985)                           2.250000  2.994152 -0.744152\n",
       "Quest for Fire (1981)                      2.578947  3.309677 -0.730730\n",
       "Good, The Bad and The Ugly, The (1966)     3.494949  4.221300 -0.726351\n",
       "No Escape (1994)                           2.300000  2.994048 -0.694048\n",
       "Kentucky Fried Movie, The (1977)           2.878788  3.555147 -0.676359\n",
       "Tora! Tora! Tora! (1970)                   3.090909  3.737705 -0.646796\n",
       "Up in Smoke (1978)                         2.944444  3.585227 -0.640783\n",
       "Dumb & Dumber (1994)                       2.697987  3.336595 -0.638608\n",
       "Friday the 13th: The Final Chapter (1984)  1.636364  2.258503 -0.622140\n",
       "Longest Day, The (1962)                    3.411765  4.031447 -0.619682"
      ]
     },
     "execution_count": 42,
     "metadata": {},
     "output_type": "execute_result"
    }
   ],
   "source": [
    "# in movies evaluated by more than 150 users, Top 10 movies that more preferred by male\n",
    "rating_by_title_gender.loc[indexer].sort_values(by = 'diff').head(10)"
   ]
  },
  {
   "cell_type": "code",
   "execution_count": 43,
   "metadata": {
    "execution": {
     "iopub.execute_input": "2021-03-31T06:51:03.913925Z",
     "iopub.status.busy": "2021-03-31T06:51:03.913925Z",
     "iopub.status.idle": "2021-03-31T06:51:03.931838Z",
     "shell.execute_reply": "2021-03-31T06:51:03.930886Z",
     "shell.execute_reply.started": "2021-03-31T06:51:03.913925Z"
    }
   },
   "outputs": [
    {
     "data": {
      "text/plain": [
       "Index(['Dirty Dancing (1987)', 'Home Alone 3 (1997)',\n",
       "       'To Wong Foo, Thanks for Everything! Julie Newmar (1995)',\n",
       "       'Jumpin' Jack Flash (1986)', 'Dracula: Dead and Loving It (1995)',\n",
       "       'Grease (1978)', 'Police Academy 4: Citizens on Patrol (1987)',\n",
       "       'Brokedown Palace (1999)', 'Relic, The (1997)',\n",
       "       'Angels in the Outfield (1994)', 'Little Women (1994)',\n",
       "       'Son in Law (1993)', 'Other Sister, The (1999)',\n",
       "       'Steel Magnolias (1989)', 'Mirror Has Two Faces, The (1996)',\n",
       "       'Anastasia (1997)', 'Rocky Horror Picture Show, The (1975)',\n",
       "       'Santa Claus: The Movie (1985)', 'Color Purple, The (1985)',\n",
       "       'Nell (1994)', 'Waiting to Exhale (1995)', 'Suspicion (1941)',\n",
       "       'Baby Geniuses (1999)', 'Wing Commander (1999)',\n",
       "       'Age of Innocence, The (1993)', 'Free Willy (1993)',\n",
       "       'French Kiss (1995)', 'Gigi (1958)', 'Affair to Remember, An (1957)',\n",
       "       'Little Shop of Horrors, The (1960)', '200 Cigarettes (1999)',\n",
       "       'Guys and Dolls (1955)', 'Mary Poppins (1964)', 'Gaslight (1944)',\n",
       "       'Patch Adams (1998)', 'Swing Kids (1993)', 'Trekkies (1997)',\n",
       "       'Grease 2 (1982)', 'Sound of Music, The (1965)',\n",
       "       'Never Been Kissed (1999)', 'Casper (1995)',\n",
       "       'Jewel of the Nile, The (1985)', 'South Pacific (1958)',\n",
       "       'Gone with the Wind (1939)', 'Jack Frost (1998)', 'Sommersby (1993)',\n",
       "       'Nighthawks (1981)', 'Skulls, The (2000)', 'Spellbound (1945)',\n",
       "       'Corrina, Corrina (1994)'],\n",
       "      dtype='object')"
      ]
     },
     "execution_count": 43,
     "metadata": {},
     "output_type": "execute_result"
    }
   ],
   "source": [
    "# in movies evaluated by more than 150 users,\n",
    "# in movies that has big diff,\n",
    "# more preferred by female\n",
    "# Find top 5 genre in top 50 movies\n",
    "diff_female_top50 = rating_by_title_gender.loc[indexer].sort_values(by = 'diff', ascending = False).head(50)\n",
    "diff_female_top50.index"
   ]
  },
  {
   "cell_type": "code",
   "execution_count": 44,
   "metadata": {
    "execution": {
     "iopub.execute_input": "2021-03-31T06:51:35.878976Z",
     "iopub.status.busy": "2021-03-31T06:51:35.878976Z",
     "iopub.status.idle": "2021-03-31T06:51:35.892899Z",
     "shell.execute_reply": "2021-03-31T06:51:35.891902Z",
     "shell.execute_reply.started": "2021-03-31T06:51:35.878976Z"
    }
   },
   "outputs": [
    {
     "data": {
      "text/html": [
       "<div>\n",
       "<style scoped>\n",
       "    .dataframe tbody tr th:only-of-type {\n",
       "        vertical-align: middle;\n",
       "    }\n",
       "\n",
       "    .dataframe tbody tr th {\n",
       "        vertical-align: top;\n",
       "    }\n",
       "\n",
       "    .dataframe thead th {\n",
       "        text-align: right;\n",
       "    }\n",
       "</style>\n",
       "<table border=\"1\" class=\"dataframe\">\n",
       "  <thead>\n",
       "    <tr style=\"text-align: right;\">\n",
       "      <th></th>\n",
       "      <th>movie_id</th>\n",
       "      <th>genres</th>\n",
       "    </tr>\n",
       "    <tr>\n",
       "      <th>title</th>\n",
       "      <th></th>\n",
       "      <th></th>\n",
       "    </tr>\n",
       "  </thead>\n",
       "  <tbody>\n",
       "    <tr>\n",
       "      <th>Toy Story (1995)</th>\n",
       "      <td>1</td>\n",
       "      <td>Animation|Children's|Comedy</td>\n",
       "    </tr>\n",
       "    <tr>\n",
       "      <th>Jumanji (1995)</th>\n",
       "      <td>2</td>\n",
       "      <td>Adventure|Children's|Fantasy</td>\n",
       "    </tr>\n",
       "    <tr>\n",
       "      <th>Grumpier Old Men (1995)</th>\n",
       "      <td>3</td>\n",
       "      <td>Comedy|Romance</td>\n",
       "    </tr>\n",
       "    <tr>\n",
       "      <th>Waiting to Exhale (1995)</th>\n",
       "      <td>4</td>\n",
       "      <td>Comedy|Drama</td>\n",
       "    </tr>\n",
       "    <tr>\n",
       "      <th>Father of the Bride Part II (1995)</th>\n",
       "      <td>5</td>\n",
       "      <td>Comedy</td>\n",
       "    </tr>\n",
       "    <tr>\n",
       "      <th>...</th>\n",
       "      <td>...</td>\n",
       "      <td>...</td>\n",
       "    </tr>\n",
       "    <tr>\n",
       "      <th>Meet the Parents (2000)</th>\n",
       "      <td>3948</td>\n",
       "      <td>Comedy</td>\n",
       "    </tr>\n",
       "    <tr>\n",
       "      <th>Requiem for a Dream (2000)</th>\n",
       "      <td>3949</td>\n",
       "      <td>Drama</td>\n",
       "    </tr>\n",
       "    <tr>\n",
       "      <th>Tigerland (2000)</th>\n",
       "      <td>3950</td>\n",
       "      <td>Drama</td>\n",
       "    </tr>\n",
       "    <tr>\n",
       "      <th>Two Family House (2000)</th>\n",
       "      <td>3951</td>\n",
       "      <td>Drama</td>\n",
       "    </tr>\n",
       "    <tr>\n",
       "      <th>Contender, The (2000)</th>\n",
       "      <td>3952</td>\n",
       "      <td>Drama|Thriller</td>\n",
       "    </tr>\n",
       "  </tbody>\n",
       "</table>\n",
       "<p>3883 rows × 2 columns</p>\n",
       "</div>"
      ],
      "text/plain": [
       "                                    movie_id                        genres\n",
       "title                                                                     \n",
       "Toy Story (1995)                           1   Animation|Children's|Comedy\n",
       "Jumanji (1995)                             2  Adventure|Children's|Fantasy\n",
       "Grumpier Old Men (1995)                    3                Comedy|Romance\n",
       "Waiting to Exhale (1995)                   4                  Comedy|Drama\n",
       "Father of the Bride Part II (1995)         5                        Comedy\n",
       "...                                      ...                           ...\n",
       "Meet the Parents (2000)                 3948                        Comedy\n",
       "Requiem for a Dream (2000)              3949                         Drama\n",
       "Tigerland (2000)                        3950                         Drama\n",
       "Two Family House (2000)                 3951                         Drama\n",
       "Contender, The (2000)                   3952                Drama|Thriller\n",
       "\n",
       "[3883 rows x 2 columns]"
      ]
     },
     "execution_count": 44,
     "metadata": {},
     "output_type": "execute_result"
    }
   ],
   "source": [
    "# in movies df, change title column to index.\n",
    "movies_with_index = movies.set_index(keys = 'title')\n",
    "movies_with_index"
   ]
  },
  {
   "cell_type": "code",
   "execution_count": 45,
   "metadata": {
    "execution": {
     "iopub.execute_input": "2021-03-31T06:51:55.125277Z",
     "iopub.status.busy": "2021-03-31T06:51:55.125277Z",
     "iopub.status.idle": "2021-03-31T06:51:55.130263Z",
     "shell.execute_reply": "2021-03-31T06:51:55.129263Z",
     "shell.execute_reply.started": "2021-03-31T06:51:55.125277Z"
    }
   },
   "outputs": [],
   "source": [
    "diff_female_movies = movies_with_index.loc[diff_female_top50.index]"
   ]
  },
  {
   "cell_type": "code",
   "execution_count": 46,
   "metadata": {
    "execution": {
     "iopub.execute_input": "2021-03-31T06:52:00.263630Z",
     "iopub.status.busy": "2021-03-31T06:52:00.263630Z",
     "iopub.status.idle": "2021-03-31T06:52:00.275596Z",
     "shell.execute_reply": "2021-03-31T06:52:00.274600Z",
     "shell.execute_reply.started": "2021-03-31T06:52:00.263630Z"
    }
   },
   "outputs": [
    {
     "data": {
      "text/html": [
       "<div>\n",
       "<style scoped>\n",
       "    .dataframe tbody tr th:only-of-type {\n",
       "        vertical-align: middle;\n",
       "    }\n",
       "\n",
       "    .dataframe tbody tr th {\n",
       "        vertical-align: top;\n",
       "    }\n",
       "\n",
       "    .dataframe thead th {\n",
       "        text-align: right;\n",
       "    }\n",
       "</style>\n",
       "<table border=\"1\" class=\"dataframe\">\n",
       "  <thead>\n",
       "    <tr style=\"text-align: right;\">\n",
       "      <th></th>\n",
       "      <th>movie_id</th>\n",
       "      <th>genres</th>\n",
       "    </tr>\n",
       "  </thead>\n",
       "  <tbody>\n",
       "    <tr>\n",
       "      <th>Dirty Dancing (1987)</th>\n",
       "      <td>1088</td>\n",
       "      <td>Musical|Romance</td>\n",
       "    </tr>\n",
       "    <tr>\n",
       "      <th>Home Alone 3 (1997)</th>\n",
       "      <td>1707</td>\n",
       "      <td>Children's|Comedy</td>\n",
       "    </tr>\n",
       "    <tr>\n",
       "      <th>To Wong Foo, Thanks for Everything! Julie Newmar (1995)</th>\n",
       "      <td>203</td>\n",
       "      <td>Comedy</td>\n",
       "    </tr>\n",
       "    <tr>\n",
       "      <th>Jumpin' Jack Flash (1986)</th>\n",
       "      <td>2468</td>\n",
       "      <td>Action|Comedy|Romance|Thriller</td>\n",
       "    </tr>\n",
       "    <tr>\n",
       "      <th>Dracula: Dead and Loving It (1995)</th>\n",
       "      <td>12</td>\n",
       "      <td>Comedy|Horror</td>\n",
       "    </tr>\n",
       "  </tbody>\n",
       "</table>\n",
       "</div>"
      ],
      "text/plain": [
       "                                                    movie_id  \\\n",
       "Dirty Dancing (1987)                                    1088   \n",
       "Home Alone 3 (1997)                                     1707   \n",
       "To Wong Foo, Thanks for Everything! Julie Newma...       203   \n",
       "Jumpin' Jack Flash (1986)                               2468   \n",
       "Dracula: Dead and Loving It (1995)                        12   \n",
       "\n",
       "                                                                            genres  \n",
       "Dirty Dancing (1987)                                               Musical|Romance  \n",
       "Home Alone 3 (1997)                                              Children's|Comedy  \n",
       "To Wong Foo, Thanks for Everything! Julie Newma...                          Comedy  \n",
       "Jumpin' Jack Flash (1986)                           Action|Comedy|Romance|Thriller  \n",
       "Dracula: Dead and Loving It (1995)                                   Comedy|Horror  "
      ]
     },
     "execution_count": 46,
     "metadata": {},
     "output_type": "execute_result"
    }
   ],
   "source": [
    "diff_female_movies.head()"
   ]
  },
  {
   "cell_type": "code",
   "execution_count": 47,
   "metadata": {
    "execution": {
     "iopub.execute_input": "2021-03-31T06:53:00.251206Z",
     "iopub.status.busy": "2021-03-31T06:53:00.251206Z",
     "iopub.status.idle": "2021-03-31T06:53:00.262176Z",
     "shell.execute_reply": "2021-03-31T06:53:00.261180Z",
     "shell.execute_reply.started": "2021-03-31T06:53:00.251206Z"
    }
   },
   "outputs": [
    {
     "data": {
      "text/plain": [
       "Comedy        23\n",
       "Drama         17\n",
       "Romance       15\n",
       "Musical       10\n",
       "Children's     7\n",
       "dtype: int64"
      ]
     },
     "execution_count": 47,
     "metadata": {},
     "output_type": "execute_result"
    }
   ],
   "source": [
    "diff_female_genres = []\n",
    "\n",
    "for genres in diff_female_movies['genres']:\n",
    "    diff_female_genres.extend(genres.split(sep = '|'))\n",
    "\n",
    "diff_female_genres = pd.Series(diff_female_genres)\n",
    "diff_female_genres.value_counts().head()"
   ]
  },
  {
   "cell_type": "code",
   "execution_count": null,
   "metadata": {},
   "outputs": [],
   "source": []
  }
 ],
 "metadata": {
  "kernelspec": {
   "display_name": "Python 3",
   "language": "python",
   "name": "python3"
  },
  "language_info": {
   "codemirror_mode": {
    "name": "ipython",
    "version": 3
   },
   "file_extension": ".py",
   "mimetype": "text/x-python",
   "name": "python",
   "nbconvert_exporter": "python",
   "pygments_lexer": "ipython3",
   "version": "3.8.8"
  }
 },
 "nbformat": 4,
 "nbformat_minor": 4
}
