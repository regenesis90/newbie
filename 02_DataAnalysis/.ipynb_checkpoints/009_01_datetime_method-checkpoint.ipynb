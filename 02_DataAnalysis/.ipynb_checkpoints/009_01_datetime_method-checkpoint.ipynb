{
 "cells": [
  {
   "cell_type": "markdown",
   "metadata": {},
   "source": [
    "# datetime Module of Python\n",
    "* class *datetime* : contains methods that save or express information related to date, time.\n",
    "* https://docs.python.org/3/library/datetime.html?highlight=datetime#module-datetime"
   ]
  },
  {
   "cell_type": "markdown",
   "metadata": {},
   "source": [
    "# Import Module"
   ]
  },
  {
   "cell_type": "code",
   "execution_count": 10,
   "metadata": {
    "execution": {
     "iopub.execute_input": "2021-03-31T07:01:39.587556Z",
     "iopub.status.busy": "2021-03-31T07:01:39.586558Z",
     "iopub.status.idle": "2021-03-31T07:01:39.600521Z",
     "shell.execute_reply": "2021-03-31T07:01:39.599524Z",
     "shell.execute_reply.started": "2021-03-31T07:01:39.586558Z"
    }
   },
   "outputs": [],
   "source": [
    "#import datetime # import datetime module\n",
    "from datetime import datetime # import datetime class from datetime module\n",
    "from datetime import timedelta #import timedelta class from datetime module"
   ]
  },
  {
   "cell_type": "markdown",
   "metadata": {},
   "source": [
    "# Method of datetime class"
   ]
  },
  {
   "cell_type": "code",
   "execution_count": 3,
   "metadata": {
    "execution": {
     "iopub.execute_input": "2021-03-31T06:57:50.256510Z",
     "iopub.status.busy": "2021-03-31T06:57:50.255513Z",
     "iopub.status.idle": "2021-03-31T06:57:50.281446Z",
     "shell.execute_reply": "2021-03-31T06:57:50.280445Z",
     "shell.execute_reply.started": "2021-03-31T06:57:50.256510Z"
    }
   },
   "outputs": [
    {
     "data": {
      "text/plain": [
       "datetime.datetime(2021, 3, 31, 15, 57, 50, 257509)"
      ]
     },
     "execution_count": 3,
     "metadata": {},
     "output_type": "execute_result"
    }
   ],
   "source": [
    "# this time : year, month, hour, minute, second, milisecond?\n",
    "datetime.now() # call : Module datetime > Class datetime > Method now"
   ]
  },
  {
   "cell_type": "markdown",
   "metadata": {},
   "source": [
    "## datetime.now()\n",
    "* in timezone of OS, return current time"
   ]
  },
  {
   "cell_type": "code",
   "execution_count": 5,
   "metadata": {
    "execution": {
     "iopub.execute_input": "2021-03-31T06:59:28.909380Z",
     "iopub.status.busy": "2021-03-31T06:59:28.909380Z",
     "iopub.status.idle": "2021-03-31T06:59:28.929327Z",
     "shell.execute_reply": "2021-03-31T06:59:28.929327Z",
     "shell.execute_reply.started": "2021-03-31T06:59:28.909380Z"
    }
   },
   "outputs": [
    {
     "name": "stdout",
     "output_type": "stream",
     "text": [
      "2021-03-31 15:59:28.910378\n"
     ]
    }
   ],
   "source": [
    "now = datetime.now()\n",
    "print(now)"
   ]
  },
  {
   "cell_type": "code",
   "execution_count": 6,
   "metadata": {
    "execution": {
     "iopub.execute_input": "2021-03-31T06:59:33.409030Z",
     "iopub.status.busy": "2021-03-31T06:59:33.408033Z",
     "iopub.status.idle": "2021-03-31T06:59:33.423990Z",
     "shell.execute_reply": "2021-03-31T06:59:33.422992Z",
     "shell.execute_reply.started": "2021-03-31T06:59:33.409030Z"
    }
   },
   "outputs": [
    {
     "data": {
      "text/plain": [
       "datetime.datetime"
      ]
     },
     "execution_count": 6,
     "metadata": {},
     "output_type": "execute_result"
    }
   ],
   "source": [
    "#> Module datetime > Class datetime\n",
    "type(now)"
   ]
  },
  {
   "cell_type": "code",
   "execution_count": 7,
   "metadata": {
    "execution": {
     "iopub.execute_input": "2021-03-31T07:00:32.108370Z",
     "iopub.status.busy": "2021-03-31T07:00:32.108370Z",
     "iopub.status.idle": "2021-03-31T07:00:32.115347Z",
     "shell.execute_reply": "2021-03-31T07:00:32.114349Z",
     "shell.execute_reply.started": "2021-03-31T07:00:32.108370Z"
    }
   },
   "outputs": [
    {
     "name": "stdout",
     "output_type": "stream",
     "text": [
      "2021\n",
      "3\n",
      "31\n"
     ]
    }
   ],
   "source": [
    "# properties of datetime.datetime object\n",
    "print(now.year)\n",
    "print(now.month)\n",
    "print(now.day)"
   ]
  },
  {
   "cell_type": "code",
   "execution_count": 9,
   "metadata": {
    "execution": {
     "iopub.execute_input": "2021-03-31T07:00:56.069073Z",
     "iopub.status.busy": "2021-03-31T07:00:56.069073Z",
     "iopub.status.idle": "2021-03-31T07:00:56.080496Z",
     "shell.execute_reply": "2021-03-31T07:00:56.078504Z",
     "shell.execute_reply.started": "2021-03-31T07:00:56.069073Z"
    }
   },
   "outputs": [
    {
     "name": "stdout",
     "output_type": "stream",
     "text": [
      "15:59:28\n"
     ]
    }
   ],
   "source": [
    "print(f'{now.hour}:{now.minute}:{now.second}')"
   ]
  },
  {
   "cell_type": "markdown",
   "metadata": {},
   "source": [
    "# datetime generator function(constructor)\n",
    "* generate datetime object in specific date/time"
   ]
  },
  {
   "cell_type": "code",
   "execution_count": 11,
   "metadata": {
    "execution": {
     "iopub.execute_input": "2021-03-31T07:02:49.766492Z",
     "iopub.status.busy": "2021-03-31T07:02:49.766492Z",
     "iopub.status.idle": "2021-03-31T07:02:49.782449Z",
     "shell.execute_reply": "2021-03-31T07:02:49.781451Z",
     "shell.execute_reply.started": "2021-03-31T07:02:49.766492Z"
    }
   },
   "outputs": [
    {
     "name": "stdout",
     "output_type": "stream",
     "text": [
      "2021-03-01 00:00:00\n"
     ]
    }
   ],
   "source": [
    "yesterday = datetime(2021, 3, 1)\n",
    "print(yesterday)"
   ]
  },
  {
   "cell_type": "code",
   "execution_count": 12,
   "metadata": {
    "execution": {
     "iopub.execute_input": "2021-03-31T07:03:03.689979Z",
     "iopub.status.busy": "2021-03-31T07:03:03.688981Z",
     "iopub.status.idle": "2021-03-31T07:03:03.707929Z",
     "shell.execute_reply": "2021-03-31T07:03:03.706931Z",
     "shell.execute_reply.started": "2021-03-31T07:03:03.689979Z"
    }
   },
   "outputs": [
    {
     "name": "stdout",
     "output_type": "stream",
     "text": [
      "2020-03-03 14:13:00\n"
     ]
    }
   ],
   "source": [
    "tomorrow = datetime(2020, 3, 3, 14, 13)\n",
    "print(tomorrow)"
   ]
  },
  {
   "cell_type": "code",
   "execution_count": 13,
   "metadata": {
    "execution": {
     "iopub.execute_input": "2021-03-31T07:03:21.203683Z",
     "iopub.status.busy": "2021-03-31T07:03:21.203683Z",
     "iopub.status.idle": "2021-03-31T07:03:21.210664Z",
     "shell.execute_reply": "2021-03-31T07:03:21.210664Z",
     "shell.execute_reply.started": "2021-03-31T07:03:21.203683Z"
    }
   },
   "outputs": [
    {
     "name": "stdout",
     "output_type": "stream",
     "text": [
      "-363 days, 14:13:00\n"
     ]
    }
   ],
   "source": [
    "# difference between two date/time\n",
    "print(tomorrow - yesterday)"
   ]
  },
  {
   "cell_type": "code",
   "execution_count": 14,
   "metadata": {
    "execution": {
     "iopub.execute_input": "2021-03-31T07:03:42.228936Z",
     "iopub.status.busy": "2021-03-31T07:03:42.228936Z",
     "iopub.status.idle": "2021-03-31T07:03:42.238908Z",
     "shell.execute_reply": "2021-03-31T07:03:42.237951Z",
     "shell.execute_reply.started": "2021-03-31T07:03:42.228936Z"
    }
   },
   "outputs": [
    {
     "name": "stdout",
     "output_type": "stream",
     "text": [
      "2021-03-31 16:03:42.229934\n"
     ]
    }
   ],
   "source": [
    "current_time = datetime.now()\n",
    "print(current_time)"
   ]
  },
  {
   "cell_type": "markdown",
   "metadata": {},
   "source": [
    "# timedelta() function\n",
    "* generate object have specific time gap(timedelta)"
   ]
  },
  {
   "cell_type": "code",
   "execution_count": 15,
   "metadata": {
    "execution": {
     "iopub.execute_input": "2021-03-31T07:05:08.721558Z",
     "iopub.status.busy": "2021-03-31T07:05:08.720521Z",
     "iopub.status.idle": "2021-03-31T07:05:08.731490Z",
     "shell.execute_reply": "2021-03-31T07:05:08.730530Z",
     "shell.execute_reply.started": "2021-03-31T07:05:08.721558Z"
    }
   },
   "outputs": [
    {
     "name": "stdout",
     "output_type": "stream",
     "text": [
      "2021-03-31 16:03:42.229934\n",
      "2021-03-24 16:03:42.229934\n",
      "2021-04-07 16:03:42.229934\n"
     ]
    }
   ],
   "source": [
    "one_week = timedelta(weeks = 1)\n",
    "print(current_time)\n",
    "print(current_time-one_week)\n",
    "print(current_time+one_week)"
   ]
  },
  {
   "cell_type": "code",
   "execution_count": 16,
   "metadata": {
    "execution": {
     "iopub.execute_input": "2021-03-31T07:05:31.548421Z",
     "iopub.status.busy": "2021-03-31T07:05:31.547421Z",
     "iopub.status.idle": "2021-03-31T07:05:31.566881Z",
     "shell.execute_reply": "2021-03-31T07:05:31.565882Z",
     "shell.execute_reply.started": "2021-03-31T07:05:31.548421Z"
    }
   },
   "outputs": [
    {
     "name": "stdout",
     "output_type": "stream",
     "text": [
      "2021-03-31 16:03:42.229934\n",
      "2021-03-30 16:03:42.229934\n",
      "2021-04-01 16:03:42.229934\n"
     ]
    }
   ],
   "source": [
    "one_day = timedelta(days = 1)\n",
    "print(current_time)\n",
    "print(current_time - one_day)\n",
    "print(current_time + one_day)"
   ]
  },
  {
   "cell_type": "markdown",
   "metadata": {},
   "source": [
    "# datetime object <-> str object\n",
    "* **`datetime.strptime`(문자열, 포맷문자열)** : parsing str to datetime object\n",
    "* **`datetime.strftime`(포맷문자열)** : formatting datetime object to str object"
   ]
  },
  {
   "cell_type": "code",
   "execution_count": 19,
   "metadata": {
    "execution": {
     "iopub.execute_input": "2021-03-31T07:08:37.370134Z",
     "iopub.status.busy": "2021-03-31T07:08:37.370134Z",
     "iopub.status.idle": "2021-03-31T07:08:37.376117Z",
     "shell.execute_reply": "2021-03-31T07:08:37.375149Z",
     "shell.execute_reply.started": "2021-03-31T07:08:37.370134Z"
    }
   },
   "outputs": [
    {
     "name": "stdout",
     "output_type": "stream",
     "text": [
      "2021-03-31 16:08:37.371131\n",
      "2021/03/31\n",
      "2021--03--31\n"
     ]
    }
   ],
   "source": [
    "current_time = datetime.now() # generate datetime object that saved current date/time\n",
    "print(current_time)\n",
    "print(current_time.strftime('%Y/%m/%d')) # datetime -> str\n",
    "print(current_time.strftime('%Y--%m--%d')) "
   ]
  },
  {
   "cell_type": "markdown",
   "metadata": {},
   "source": [
    "# Date format String\n",
    "* **year** : **`%Y`**(4 digit year), **`%y`**(2 digit year)\n",
    "* **month** : **`%m`**(2 digit number), **`%B`**(month name), **`%b`**(abbreviation of month name)\n",
    "* **day** : **`%d`**(2 digit number)\n",
    "* **hour** : **`%H`**(24 hour format, 0~23), **`%I`**(12 hour format, 1~12)\n",
    "* **minute** : **`%M`**(2 digit number, 0~59)\n",
    "* **second** : **`%S`**(2 digit number, 0~59"
   ]
  },
  {
   "cell_type": "code",
   "execution_count": 20,
   "metadata": {
    "execution": {
     "iopub.execute_input": "2021-03-31T07:13:26.957373Z",
     "iopub.status.busy": "2021-03-31T07:13:26.956376Z",
     "iopub.status.idle": "2021-03-31T07:13:26.971337Z",
     "shell.execute_reply": "2021-03-31T07:13:26.970341Z",
     "shell.execute_reply.started": "2021-03-31T07:13:26.957373Z"
    }
   },
   "outputs": [
    {
     "name": "stdout",
     "output_type": "stream",
     "text": [
      "Mar. 31, 21\n",
      "March 31 2021\n"
     ]
    }
   ],
   "source": [
    "print(current_time.strftime('%b. %d, %y'))\n",
    "print(current_time.strftime('%B %d %Y'))"
   ]
  },
  {
   "cell_type": "code",
   "execution_count": 23,
   "metadata": {
    "execution": {
     "iopub.execute_input": "2021-03-31T07:14:16.162293Z",
     "iopub.status.busy": "2021-03-31T07:14:16.161297Z",
     "iopub.status.idle": "2021-03-31T07:14:16.178251Z",
     "shell.execute_reply": "2021-03-31T07:14:16.177253Z",
     "shell.execute_reply.started": "2021-03-31T07:14:16.162293Z"
    }
   },
   "outputs": [
    {
     "name": "stdout",
     "output_type": "stream",
     "text": [
      "15:01:30\n",
      "03:01:30 PM\n"
     ]
    }
   ],
   "source": [
    "current_time = datetime(2021, 3, 2, 15, 1, 30)\n",
    "print(current_time.strftime('%H:%M:%S'))\n",
    "print(current_time.strftime('%I:%M:%S %p'))"
   ]
  },
  {
   "cell_type": "markdown",
   "metadata": {},
   "source": [
    "## str -> datetime"
   ]
  },
  {
   "cell_type": "code",
   "execution_count": 24,
   "metadata": {
    "execution": {
     "iopub.execute_input": "2021-03-31T07:15:51.600557Z",
     "iopub.status.busy": "2021-03-31T07:15:51.599552Z",
     "iopub.status.idle": "2021-03-31T07:15:51.608470Z",
     "shell.execute_reply": "2021-03-31T07:15:51.607544Z",
     "shell.execute_reply.started": "2021-03-31T07:15:51.600557Z"
    }
   },
   "outputs": [
    {
     "name": "stdout",
     "output_type": "stream",
     "text": [
      "2021-03-02 00:00:00\n",
      "2021-03-02 00:00:00\n",
      "2002-03-21 00:00:00\n"
     ]
    }
   ],
   "source": [
    "print(datetime.strptime('2021-3-2', '%Y-%m-%d'))\n",
    "print(datetime.strptime('21-03-02', '%y-%m-%d'))\n",
    "print(datetime.strptime('21-03-02', '%d-%m-%y'))"
   ]
  },
  {
   "cell_type": "markdown",
   "metadata": {},
   "source": [
    "# timestamp(UNIX time, POSIX time, epoch time, ...)\n",
    "* start at 1970.1.1 00:00:00, increase 1 by 1 second\n",
    "\n",
    "* **`datetime.timestamp()`** : datetime object -> timestamp(numeric)\n",
    "* **`datetime.fromtimestamp()`** : timestamp(numeric) -> datetime object"
   ]
  },
  {
   "cell_type": "markdown",
   "metadata": {},
   "source": [
    "## timestamp()"
   ]
  },
  {
   "cell_type": "code",
   "execution_count": 26,
   "metadata": {
    "execution": {
     "iopub.execute_input": "2021-03-31T07:18:36.746175Z",
     "iopub.status.busy": "2021-03-31T07:18:36.745177Z",
     "iopub.status.idle": "2021-03-31T07:18:36.766121Z",
     "shell.execute_reply": "2021-03-31T07:18:36.765162Z",
     "shell.execute_reply.started": "2021-03-31T07:18:36.746175Z"
    }
   },
   "outputs": [
    {
     "name": "stdout",
     "output_type": "stream",
     "text": [
      "2021-03-31 16:18:36.747174\n",
      "1617175116.747174\n"
     ]
    }
   ],
   "source": [
    "# datetime > numeric\n",
    "current_time = datetime.now()\n",
    "print(current_time)\n",
    "print(current_time.timestamp())"
   ]
  },
  {
   "cell_type": "markdown",
   "metadata": {},
   "source": [
    "# fromtimestamp()"
   ]
  },
  {
   "cell_type": "code",
   "execution_count": 27,
   "metadata": {
    "execution": {
     "iopub.execute_input": "2021-03-31T07:18:58.747750Z",
     "iopub.status.busy": "2021-03-31T07:18:58.746752Z",
     "iopub.status.idle": "2021-03-31T07:18:58.758723Z",
     "shell.execute_reply": "2021-03-31T07:18:58.757723Z",
     "shell.execute_reply.started": "2021-03-31T07:18:58.747750Z"
    }
   },
   "outputs": [
    {
     "name": "stdout",
     "output_type": "stream",
     "text": [
      "1975-02-13 04:55:00\n"
     ]
    }
   ],
   "source": [
    "# numeric > datetime\n",
    "print(datetime.fromtimestamp(161466900))"
   ]
  }
 ],
 "metadata": {
  "kernelspec": {
   "display_name": "Python 3",
   "language": "python",
   "name": "python3"
  },
  "language_info": {
   "codemirror_mode": {
    "name": "ipython",
    "version": 3
   },
   "file_extension": ".py",
   "mimetype": "text/x-python",
   "name": "python",
   "nbconvert_exporter": "python",
   "pygments_lexer": "ipython3",
   "version": "3.8.8"
  }
 },
 "nbformat": 4,
 "nbformat_minor": 4
}
