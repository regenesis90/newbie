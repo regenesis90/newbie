{
 "cells": [
  {
   "cell_type": "markdown",
   "metadata": {},
   "source": [
    "# import"
   ]
  },
  {
   "cell_type": "code",
   "execution_count": 1,
   "metadata": {
    "execution": {
     "iopub.execute_input": "2021-03-31T07:37:05.668283Z",
     "iopub.status.busy": "2021-03-31T07:37:05.668283Z",
     "iopub.status.idle": "2021-03-31T07:37:06.961003Z",
     "shell.execute_reply": "2021-03-31T07:37:06.959300Z",
     "shell.execute_reply.started": "2021-03-31T07:37:05.668283Z"
    }
   },
   "outputs": [],
   "source": [
    "import pandas as pd\n",
    "import numpy as np\n",
    "import matplotlib.pyplot as plt\n",
    "import seaborn as sns\n",
    "\n",
    "from datetime import datetime\n",
    "from datetime import timedelta"
   ]
  },
  {
   "cell_type": "markdown",
   "metadata": {},
   "source": [
    "# Load Data"
   ]
  },
  {
   "cell_type": "markdown",
   "metadata": {},
   "source": [
    "## Basic"
   ]
  },
  {
   "cell_type": "code",
   "execution_count": 2,
   "metadata": {
    "execution": {
     "iopub.execute_input": "2021-03-31T07:38:44.906745Z",
     "iopub.status.busy": "2021-03-31T07:38:44.905748Z",
     "iopub.status.idle": "2021-03-31T07:38:46.029181Z",
     "shell.execute_reply": "2021-03-31T07:38:46.026244Z",
     "shell.execute_reply.started": "2021-03-31T07:38:44.906745Z"
    }
   },
   "outputs": [],
   "source": [
    "file_path = 'https://github.com/wesm/pydata-book/raw/2nd-edition/examples/spx.csv'\n",
    "spx = pd.read_csv(file_path, header = 0, names = ['Date', 'SPX'])\n",
    "# header=0 : the first line of csv file is header(column name).\n",
    "# names=[...] : setting column name of DF"
   ]
  },
  {
   "cell_type": "code",
   "execution_count": 3,
   "metadata": {
    "execution": {
     "iopub.execute_input": "2021-03-31T07:38:48.194232Z",
     "iopub.status.busy": "2021-03-31T07:38:48.193261Z",
     "iopub.status.idle": "2021-03-31T07:38:48.218167Z",
     "shell.execute_reply": "2021-03-31T07:38:48.217169Z",
     "shell.execute_reply.started": "2021-03-31T07:38:48.193261Z"
    }
   },
   "outputs": [
    {
     "data": {
      "text/html": [
       "<div>\n",
       "<style scoped>\n",
       "    .dataframe tbody tr th:only-of-type {\n",
       "        vertical-align: middle;\n",
       "    }\n",
       "\n",
       "    .dataframe tbody tr th {\n",
       "        vertical-align: top;\n",
       "    }\n",
       "\n",
       "    .dataframe thead th {\n",
       "        text-align: right;\n",
       "    }\n",
       "</style>\n",
       "<table border=\"1\" class=\"dataframe\">\n",
       "  <thead>\n",
       "    <tr style=\"text-align: right;\">\n",
       "      <th></th>\n",
       "      <th>Date</th>\n",
       "      <th>SPX</th>\n",
       "    </tr>\n",
       "  </thead>\n",
       "  <tbody>\n",
       "    <tr>\n",
       "      <th>0</th>\n",
       "      <td>1990-02-01 00:00:00</td>\n",
       "      <td>328.79</td>\n",
       "    </tr>\n",
       "    <tr>\n",
       "      <th>1</th>\n",
       "      <td>1990-02-02 00:00:00</td>\n",
       "      <td>330.92</td>\n",
       "    </tr>\n",
       "    <tr>\n",
       "      <th>2</th>\n",
       "      <td>1990-02-05 00:00:00</td>\n",
       "      <td>331.85</td>\n",
       "    </tr>\n",
       "    <tr>\n",
       "      <th>3</th>\n",
       "      <td>1990-02-06 00:00:00</td>\n",
       "      <td>329.66</td>\n",
       "    </tr>\n",
       "    <tr>\n",
       "      <th>4</th>\n",
       "      <td>1990-02-07 00:00:00</td>\n",
       "      <td>333.75</td>\n",
       "    </tr>\n",
       "  </tbody>\n",
       "</table>\n",
       "</div>"
      ],
      "text/plain": [
       "                  Date     SPX\n",
       "0  1990-02-01 00:00:00  328.79\n",
       "1  1990-02-02 00:00:00  330.92\n",
       "2  1990-02-05 00:00:00  331.85\n",
       "3  1990-02-06 00:00:00  329.66\n",
       "4  1990-02-07 00:00:00  333.75"
      ]
     },
     "execution_count": 3,
     "metadata": {},
     "output_type": "execute_result"
    }
   ],
   "source": [
    "spx.head()"
   ]
  },
  {
   "cell_type": "code",
   "execution_count": 4,
   "metadata": {
    "execution": {
     "iopub.execute_input": "2021-03-31T07:38:54.740811Z",
     "iopub.status.busy": "2021-03-31T07:38:54.739814Z",
     "iopub.status.idle": "2021-03-31T07:38:54.761755Z",
     "shell.execute_reply": "2021-03-31T07:38:54.760757Z",
     "shell.execute_reply.started": "2021-03-31T07:38:54.740811Z"
    }
   },
   "outputs": [
    {
     "name": "stdout",
     "output_type": "stream",
     "text": [
      "<class 'pandas.core.frame.DataFrame'>\n",
      "RangeIndex: 5472 entries, 0 to 5471\n",
      "Data columns (total 2 columns):\n",
      " #   Column  Non-Null Count  Dtype  \n",
      "---  ------  --------------  -----  \n",
      " 0   Date    5472 non-null   object \n",
      " 1   SPX     5472 non-null   float64\n",
      "dtypes: float64(1), object(1)\n",
      "memory usage: 85.6+ KB\n"
     ]
    }
   ],
   "source": [
    "spx.info()"
   ]
  },
  {
   "cell_type": "markdown",
   "metadata": {},
   "source": [
    "## parse_dates parameter"
   ]
  },
  {
   "cell_type": "code",
   "execution_count": 8,
   "metadata": {
    "execution": {
     "iopub.execute_input": "2021-03-31T07:42:05.754194Z",
     "iopub.status.busy": "2021-03-31T07:42:05.753163Z",
     "iopub.status.idle": "2021-03-31T07:42:06.589769Z",
     "shell.execute_reply": "2021-03-31T07:42:06.588808Z",
     "shell.execute_reply.started": "2021-03-31T07:42:05.754194Z"
    }
   },
   "outputs": [],
   "source": [
    "# if you want, when using pd.read_csv(), you can appoint column to use datetime.\n",
    "# parse_date parameter : list of columns to change datetime type.\n",
    "spx2 = pd.read_csv(file_path, header = 0, names = ['date', 'spx'],\n",
    "                   parse_dates = ['date'])"
   ]
  },
  {
   "cell_type": "code",
   "execution_count": 9,
   "metadata": {
    "execution": {
     "iopub.execute_input": "2021-03-31T07:42:09.920565Z",
     "iopub.status.busy": "2021-03-31T07:42:09.920565Z",
     "iopub.status.idle": "2021-03-31T07:42:09.934491Z",
     "shell.execute_reply": "2021-03-31T07:42:09.933493Z",
     "shell.execute_reply.started": "2021-03-31T07:42:09.920565Z"
    }
   },
   "outputs": [
    {
     "name": "stdout",
     "output_type": "stream",
     "text": [
      "<class 'pandas.core.frame.DataFrame'>\n",
      "RangeIndex: 5472 entries, 0 to 5471\n",
      "Data columns (total 2 columns):\n",
      " #   Column  Non-Null Count  Dtype         \n",
      "---  ------  --------------  -----         \n",
      " 0   date    5472 non-null   datetime64[ns]\n",
      " 1   spx     5472 non-null   float64       \n",
      "dtypes: datetime64[ns](1), float64(1)\n",
      "memory usage: 85.6 KB\n"
     ]
    }
   ],
   "source": [
    "spx2.info()"
   ]
  },
  {
   "cell_type": "markdown",
   "metadata": {},
   "source": [
    "## Change type : from str to datetime"
   ]
  },
  {
   "cell_type": "code",
   "execution_count": 5,
   "metadata": {
    "execution": {
     "iopub.execute_input": "2021-03-31T07:39:34.066711Z",
     "iopub.status.busy": "2021-03-31T07:39:34.065714Z",
     "iopub.status.idle": "2021-03-31T07:39:34.087654Z",
     "shell.execute_reply": "2021-03-31T07:39:34.086657Z",
     "shell.execute_reply.started": "2021-03-31T07:39:34.065714Z"
    }
   },
   "outputs": [],
   "source": [
    "spx['Date'] = pd.to_datetime(spx['Date'])"
   ]
  },
  {
   "cell_type": "code",
   "execution_count": 6,
   "metadata": {
    "execution": {
     "iopub.execute_input": "2021-03-31T07:39:36.816419Z",
     "iopub.status.busy": "2021-03-31T07:39:36.816419Z",
     "iopub.status.idle": "2021-03-31T07:39:36.831344Z",
     "shell.execute_reply": "2021-03-31T07:39:36.830380Z",
     "shell.execute_reply.started": "2021-03-31T07:39:36.816419Z"
    }
   },
   "outputs": [
    {
     "name": "stdout",
     "output_type": "stream",
     "text": [
      "<class 'pandas.core.frame.DataFrame'>\n",
      "RangeIndex: 5472 entries, 0 to 5471\n",
      "Data columns (total 2 columns):\n",
      " #   Column  Non-Null Count  Dtype         \n",
      "---  ------  --------------  -----         \n",
      " 0   Date    5472 non-null   datetime64[ns]\n",
      " 1   SPX     5472 non-null   float64       \n",
      "dtypes: datetime64[ns](1), float64(1)\n",
      "memory usage: 85.6 KB\n"
     ]
    }
   ],
   "source": [
    "spx.info()"
   ]
  },
  {
   "cell_type": "code",
   "execution_count": 7,
   "metadata": {
    "execution": {
     "iopub.execute_input": "2021-03-31T07:39:47.905867Z",
     "iopub.status.busy": "2021-03-31T07:39:47.904870Z",
     "iopub.status.idle": "2021-03-31T07:39:47.925814Z",
     "shell.execute_reply": "2021-03-31T07:39:47.924816Z",
     "shell.execute_reply.started": "2021-03-31T07:39:47.905867Z"
    }
   },
   "outputs": [
    {
     "data": {
      "text/html": [
       "<div>\n",
       "<style scoped>\n",
       "    .dataframe tbody tr th:only-of-type {\n",
       "        vertical-align: middle;\n",
       "    }\n",
       "\n",
       "    .dataframe tbody tr th {\n",
       "        vertical-align: top;\n",
       "    }\n",
       "\n",
       "    .dataframe thead th {\n",
       "        text-align: right;\n",
       "    }\n",
       "</style>\n",
       "<table border=\"1\" class=\"dataframe\">\n",
       "  <thead>\n",
       "    <tr style=\"text-align: right;\">\n",
       "      <th></th>\n",
       "      <th>Date</th>\n",
       "      <th>SPX</th>\n",
       "    </tr>\n",
       "  </thead>\n",
       "  <tbody>\n",
       "    <tr>\n",
       "      <th>0</th>\n",
       "      <td>1990-02-01</td>\n",
       "      <td>328.79</td>\n",
       "    </tr>\n",
       "    <tr>\n",
       "      <th>1</th>\n",
       "      <td>1990-02-02</td>\n",
       "      <td>330.92</td>\n",
       "    </tr>\n",
       "    <tr>\n",
       "      <th>2</th>\n",
       "      <td>1990-02-05</td>\n",
       "      <td>331.85</td>\n",
       "    </tr>\n",
       "    <tr>\n",
       "      <th>3</th>\n",
       "      <td>1990-02-06</td>\n",
       "      <td>329.66</td>\n",
       "    </tr>\n",
       "    <tr>\n",
       "      <th>4</th>\n",
       "      <td>1990-02-07</td>\n",
       "      <td>333.75</td>\n",
       "    </tr>\n",
       "  </tbody>\n",
       "</table>\n",
       "</div>"
      ],
      "text/plain": [
       "        Date     SPX\n",
       "0 1990-02-01  328.79\n",
       "1 1990-02-02  330.92\n",
       "2 1990-02-05  331.85\n",
       "3 1990-02-06  329.66\n",
       "4 1990-02-07  333.75"
      ]
     },
     "execution_count": 7,
     "metadata": {},
     "output_type": "execute_result"
    }
   ],
   "source": [
    "spx.head()"
   ]
  },
  {
   "cell_type": "markdown",
   "metadata": {},
   "source": [
    "# Visualization"
   ]
  },
  {
   "cell_type": "markdown",
   "metadata": {},
   "source": [
    "## whole Data"
   ]
  },
  {
   "cell_type": "code",
   "execution_count": 10,
   "metadata": {
    "execution": {
     "iopub.execute_input": "2021-03-31T07:43:23.112967Z",
     "iopub.status.busy": "2021-03-31T07:43:23.111970Z",
     "iopub.status.idle": "2021-03-31T07:43:23.294456Z",
     "shell.execute_reply": "2021-03-31T07:43:23.293451Z",
     "shell.execute_reply.started": "2021-03-31T07:43:23.112967Z"
    }
   },
   "outputs": [
    {
     "data": {
      "image/png": "[encoded data removed]",
      "text/plain": [
       "<Figure size 432x288 with 1 Axes>"
      ]
     },
     "metadata": {
      "needs_background": "light"
     },
     "output_type": "display_data"
    }
   ],
   "source": [
    "plt.plot(spx2['date'], spx2['spx'])\n",
    "plt.show()"
   ]
  },
  {
   "cell_type": "code",
   "execution_count": 11,
   "metadata": {
    "execution": {
     "iopub.execute_input": "2021-03-31T07:44:03.698241Z",
     "iopub.status.busy": "2021-03-31T07:44:03.698241Z",
     "iopub.status.idle": "2021-03-31T07:44:03.728166Z",
     "shell.execute_reply": "2021-03-31T07:44:03.726166Z",
     "shell.execute_reply.started": "2021-03-31T07:44:03.698241Z"
    }
   },
   "outputs": [
    {
     "data": {
      "text/html": [
       "<div>\n",
       "<style scoped>\n",
       "    .dataframe tbody tr th:only-of-type {\n",
       "        vertical-align: middle;\n",
       "    }\n",
       "\n",
       "    .dataframe tbody tr th {\n",
       "        vertical-align: top;\n",
       "    }\n",
       "\n",
       "    .dataframe thead th {\n",
       "        text-align: right;\n",
       "    }\n",
       "</style>\n",
       "<table border=\"1\" class=\"dataframe\">\n",
       "  <thead>\n",
       "    <tr style=\"text-align: right;\">\n",
       "      <th></th>\n",
       "      <th>date</th>\n",
       "      <th>spx</th>\n",
       "      <th>year</th>\n",
       "    </tr>\n",
       "  </thead>\n",
       "  <tbody>\n",
       "    <tr>\n",
       "      <th>0</th>\n",
       "      <td>1990-02-01</td>\n",
       "      <td>328.79</td>\n",
       "      <td>1990</td>\n",
       "    </tr>\n",
       "    <tr>\n",
       "      <th>1</th>\n",
       "      <td>1990-02-02</td>\n",
       "      <td>330.92</td>\n",
       "      <td>1990</td>\n",
       "    </tr>\n",
       "    <tr>\n",
       "      <th>2</th>\n",
       "      <td>1990-02-05</td>\n",
       "      <td>331.85</td>\n",
       "      <td>1990</td>\n",
       "    </tr>\n",
       "    <tr>\n",
       "      <th>3</th>\n",
       "      <td>1990-02-06</td>\n",
       "      <td>329.66</td>\n",
       "      <td>1990</td>\n",
       "    </tr>\n",
       "    <tr>\n",
       "      <th>4</th>\n",
       "      <td>1990-02-07</td>\n",
       "      <td>333.75</td>\n",
       "      <td>1990</td>\n",
       "    </tr>\n",
       "  </tbody>\n",
       "</table>\n",
       "</div>"
      ],
      "text/plain": [
       "        date     spx  year\n",
       "0 1990-02-01  328.79  1990\n",
       "1 1990-02-02  330.92  1990\n",
       "2 1990-02-05  331.85  1990\n",
       "3 1990-02-06  329.66  1990\n",
       "4 1990-02-07  333.75  1990"
      ]
     },
     "execution_count": 11,
     "metadata": {},
     "output_type": "execute_result"
    }
   ],
   "source": [
    "# Add derived variable 'year' to spx2 DF.\n",
    "spx2['year'] = spx2['date'].dt.year\n",
    "spx2.head()"
   ]
  },
  {
   "cell_type": "code",
   "execution_count": 12,
   "metadata": {
    "execution": {
     "iopub.execute_input": "2021-03-31T07:44:04.541443Z",
     "iopub.status.busy": "2021-03-31T07:44:04.541443Z",
     "iopub.status.idle": "2021-03-31T07:44:04.561397Z",
     "shell.execute_reply": "2021-03-31T07:44:04.558398Z",
     "shell.execute_reply.started": "2021-03-31T07:44:04.541443Z"
    }
   },
   "outputs": [
    {
     "data": {
      "text/html": [
       "<div>\n",
       "<style scoped>\n",
       "    .dataframe tbody tr th:only-of-type {\n",
       "        vertical-align: middle;\n",
       "    }\n",
       "\n",
       "    .dataframe tbody tr th {\n",
       "        vertical-align: top;\n",
       "    }\n",
       "\n",
       "    .dataframe thead th {\n",
       "        text-align: right;\n",
       "    }\n",
       "</style>\n",
       "<table border=\"1\" class=\"dataframe\">\n",
       "  <thead>\n",
       "    <tr style=\"text-align: right;\">\n",
       "      <th></th>\n",
       "      <th>date</th>\n",
       "      <th>spx</th>\n",
       "      <th>year</th>\n",
       "    </tr>\n",
       "  </thead>\n",
       "  <tbody>\n",
       "    <tr>\n",
       "      <th>5467</th>\n",
       "      <td>2011-10-10</td>\n",
       "      <td>1194.89</td>\n",
       "      <td>2011</td>\n",
       "    </tr>\n",
       "    <tr>\n",
       "      <th>5468</th>\n",
       "      <td>2011-10-11</td>\n",
       "      <td>1195.54</td>\n",
       "      <td>2011</td>\n",
       "    </tr>\n",
       "    <tr>\n",
       "      <th>5469</th>\n",
       "      <td>2011-10-12</td>\n",
       "      <td>1207.25</td>\n",
       "      <td>2011</td>\n",
       "    </tr>\n",
       "    <tr>\n",
       "      <th>5470</th>\n",
       "      <td>2011-10-13</td>\n",
       "      <td>1203.66</td>\n",
       "      <td>2011</td>\n",
       "    </tr>\n",
       "    <tr>\n",
       "      <th>5471</th>\n",
       "      <td>2011-10-14</td>\n",
       "      <td>1224.58</td>\n",
       "      <td>2011</td>\n",
       "    </tr>\n",
       "  </tbody>\n",
       "</table>\n",
       "</div>"
      ],
      "text/plain": [
       "           date      spx  year\n",
       "5467 2011-10-10  1194.89  2011\n",
       "5468 2011-10-11  1195.54  2011\n",
       "5469 2011-10-12  1207.25  2011\n",
       "5470 2011-10-13  1203.66  2011\n",
       "5471 2011-10-14  1224.58  2011"
      ]
     },
     "execution_count": 12,
     "metadata": {},
     "output_type": "execute_result"
    }
   ],
   "source": [
    "spx2.tail()"
   ]
  },
  {
   "cell_type": "code",
   "execution_count": 13,
   "metadata": {
    "execution": {
     "iopub.execute_input": "2021-03-31T07:44:36.715841Z",
     "iopub.status.busy": "2021-03-31T07:44:36.714828Z",
     "iopub.status.idle": "2021-03-31T07:44:36.736716Z",
     "shell.execute_reply": "2021-03-31T07:44:36.735719Z",
     "shell.execute_reply.started": "2021-03-31T07:44:36.715841Z"
    }
   },
   "outputs": [
    {
     "data": {
      "text/plain": [
       "year\n",
       "1990     334.123506\n",
       "1991     376.186324\n",
       "1992     415.747008\n",
       "1993     451.614822\n",
       "1994     460.416508\n",
       "1995     541.719087\n",
       "1996     670.494843\n",
       "1997     873.427787\n",
       "1998    1085.503254\n",
       "1999    1327.329563\n",
       "2000    1427.221071\n",
       "2001    1194.178992\n",
       "2002     993.934802\n",
       "2003     965.227540\n",
       "2004    1130.649444\n",
       "2005    1207.229444\n",
       "2006    1310.461633\n",
       "2007    1477.184343\n",
       "2008    1220.042055\n",
       "2009     948.046389\n",
       "2010    1139.965516\n",
       "2011    1276.093015\n",
       "Name: spx, dtype: float64"
      ]
     },
     "execution_count": 13,
     "metadata": {},
     "output_type": "execute_result"
    }
   ],
   "source": [
    "# mean value of spx by year, in spx2 DF\n",
    "spx_by_year = spx2.groupby(by = 'year')['spx'].mean()\n",
    "spx_by_year"
   ]
  },
  {
   "cell_type": "markdown",
   "metadata": {},
   "source": [
    "## mean by year"
   ]
  },
  {
   "cell_type": "code",
   "execution_count": 14,
   "metadata": {
    "execution": {
     "iopub.execute_input": "2021-03-31T07:45:03.400241Z",
     "iopub.status.busy": "2021-03-31T07:45:03.399212Z",
     "iopub.status.idle": "2021-03-31T07:45:03.540834Z",
     "shell.execute_reply": "2021-03-31T07:45:03.539836Z",
     "shell.execute_reply.started": "2021-03-31T07:45:03.400241Z"
    }
   },
   "outputs": [
    {
     "data": {
      "image/png": "[encoded data removed]",
      "text/plain": [
       "<Figure size 432x288 with 1 Axes>"
      ]
     },
     "metadata": {
      "needs_background": "light"
     },
     "output_type": "display_data"
    }
   ],
   "source": [
    "# visualize mean of spx by year\n",
    "plt.plot(spx_by_year, 'bo-')\n",
    "plt.show()"
   ]
  },
  {
   "cell_type": "markdown",
   "metadata": {},
   "source": [
    "## only 2011"
   ]
  },
  {
   "cell_type": "code",
   "execution_count": 15,
   "metadata": {
    "execution": {
     "iopub.execute_input": "2021-03-31T07:45:36.759680Z",
     "iopub.status.busy": "2021-03-31T07:45:36.759680Z",
     "iopub.status.idle": "2021-03-31T07:45:36.952372Z",
     "shell.execute_reply": "2021-03-31T07:45:36.950853Z",
     "shell.execute_reply.started": "2021-03-31T07:45:36.759680Z"
    }
   },
   "outputs": [
    {
     "data": {
      "image/png": "[encoded data removed]",
      "text/plain": [
       "<Figure size 432x288 with 1 Axes>"
      ]
     },
     "metadata": {
      "needs_background": "light"
     },
     "output_type": "display_data"
    }
   ],
   "source": [
    "# visualize mean of spx in 2011\n",
    "spx2_2011 = spx2[spx2['year'] == 2011]\n",
    "plt.plot(spx2_2011['date'], spx2_2011['spx'])\n",
    "plt.show()"
   ]
  },
  {
   "cell_type": "markdown",
   "metadata": {},
   "source": [
    "## mean by year, mean by quarter"
   ]
  },
  {
   "cell_type": "code",
   "execution_count": 16,
   "metadata": {
    "execution": {
     "iopub.execute_input": "2021-03-31T07:47:22.176199Z",
     "iopub.status.busy": "2021-03-31T07:47:22.176199Z",
     "iopub.status.idle": "2021-03-31T07:47:22.195148Z",
     "shell.execute_reply": "2021-03-31T07:47:22.194152Z",
     "shell.execute_reply.started": "2021-03-31T07:47:22.176199Z"
    }
   },
   "outputs": [],
   "source": [
    "# add derived variable 'quarter'\n",
    "spx2['quarter'] = spx2['date'].dt.quarter"
   ]
  },
  {
   "cell_type": "code",
   "execution_count": 17,
   "metadata": {
    "execution": {
     "iopub.execute_input": "2021-03-31T07:48:02.545652Z",
     "iopub.status.busy": "2021-03-31T07:48:02.545652Z",
     "iopub.status.idle": "2021-03-31T07:48:02.566596Z",
     "shell.execute_reply": "2021-03-31T07:48:02.565599Z",
     "shell.execute_reply.started": "2021-03-31T07:48:02.545652Z"
    }
   },
   "outputs": [
    {
     "data": {
      "text/plain": [
       "year  quarter\n",
       "1990  1           334.751951\n",
       "      2           349.796508\n",
       "      3           335.881746\n",
       "      4           316.562031\n",
       "1991  1           352.282951\n",
       "                    ...     \n",
       "2010  4          1204.585625\n",
       "2011  1          1302.529032\n",
       "      2          1318.332857\n",
       "      3          1225.268437\n",
       "      4          1171.356000\n",
       "Name: spx, Length: 88, dtype: float64"
      ]
     },
     "execution_count": 17,
     "metadata": {},
     "output_type": "execute_result"
    }
   ],
   "source": [
    "# calculate mean of spx by year, by quarter.\n",
    "spx_by_year_quarter = spx2.groupby(by = ['year', 'quarter'])['spx'].mean()\n",
    "spx_by_year_quarter"
   ]
  },
  {
   "cell_type": "code",
   "execution_count": 21,
   "metadata": {
    "execution": {
     "iopub.execute_input": "2021-03-31T07:49:11.060829Z",
     "iopub.status.busy": "2021-03-31T07:49:11.059835Z",
     "iopub.status.idle": "2021-03-31T07:49:11.775792Z",
     "shell.execute_reply": "2021-03-31T07:49:11.774836Z",
     "shell.execute_reply.started": "2021-03-31T07:49:11.060829Z"
    }
   },
   "outputs": [
    {
     "data": {
      "image/png": "[encoded data removed]",
      "text/plain": [
       "<Figure size 432x288 with 1 Axes>"
      ]
     },
     "metadata": {
      "needs_background": "light"
     },
     "output_type": "display_data"
    }
   ],
   "source": [
    "# visualize mean of spx by quarter\n",
    "year_q = [str(y) + 'Q' + str(q) for y, q in spx_by_year_quarter.index]\n",
    "plt.plot(year_q, spx_by_year_quarter)\n",
    "plt.show()"
   ]
  },
  {
   "cell_type": "markdown",
   "metadata": {},
   "source": [
    "# datetime column to index : easy sampling(like groupby)"
   ]
  },
  {
   "cell_type": "code",
   "execution_count": 22,
   "metadata": {
    "execution": {
     "iopub.execute_input": "2021-03-31T07:49:53.556745Z",
     "iopub.status.busy": "2021-03-31T07:49:53.556745Z",
     "iopub.status.idle": "2021-03-31T07:49:53.579680Z",
     "shell.execute_reply": "2021-03-31T07:49:53.578684Z",
     "shell.execute_reply.started": "2021-03-31T07:49:53.556745Z"
    }
   },
   "outputs": [
    {
     "data": {
      "text/html": [
       "<div>\n",
       "<style scoped>\n",
       "    .dataframe tbody tr th:only-of-type {\n",
       "        vertical-align: middle;\n",
       "    }\n",
       "\n",
       "    .dataframe tbody tr th {\n",
       "        vertical-align: top;\n",
       "    }\n",
       "\n",
       "    .dataframe thead th {\n",
       "        text-align: right;\n",
       "    }\n",
       "</style>\n",
       "<table border=\"1\" class=\"dataframe\">\n",
       "  <thead>\n",
       "    <tr style=\"text-align: right;\">\n",
       "      <th></th>\n",
       "      <th>spx</th>\n",
       "      <th>year</th>\n",
       "      <th>quarter</th>\n",
       "    </tr>\n",
       "    <tr>\n",
       "      <th>date</th>\n",
       "      <th></th>\n",
       "      <th></th>\n",
       "      <th></th>\n",
       "    </tr>\n",
       "  </thead>\n",
       "  <tbody>\n",
       "    <tr>\n",
       "      <th>1990-02-01</th>\n",
       "      <td>328.79</td>\n",
       "      <td>1990</td>\n",
       "      <td>1</td>\n",
       "    </tr>\n",
       "    <tr>\n",
       "      <th>1990-02-02</th>\n",
       "      <td>330.92</td>\n",
       "      <td>1990</td>\n",
       "      <td>1</td>\n",
       "    </tr>\n",
       "    <tr>\n",
       "      <th>1990-02-05</th>\n",
       "      <td>331.85</td>\n",
       "      <td>1990</td>\n",
       "      <td>1</td>\n",
       "    </tr>\n",
       "    <tr>\n",
       "      <th>1990-02-06</th>\n",
       "      <td>329.66</td>\n",
       "      <td>1990</td>\n",
       "      <td>1</td>\n",
       "    </tr>\n",
       "    <tr>\n",
       "      <th>1990-02-07</th>\n",
       "      <td>333.75</td>\n",
       "      <td>1990</td>\n",
       "      <td>1</td>\n",
       "    </tr>\n",
       "    <tr>\n",
       "      <th>...</th>\n",
       "      <td>...</td>\n",
       "      <td>...</td>\n",
       "      <td>...</td>\n",
       "    </tr>\n",
       "    <tr>\n",
       "      <th>2011-10-10</th>\n",
       "      <td>1194.89</td>\n",
       "      <td>2011</td>\n",
       "      <td>4</td>\n",
       "    </tr>\n",
       "    <tr>\n",
       "      <th>2011-10-11</th>\n",
       "      <td>1195.54</td>\n",
       "      <td>2011</td>\n",
       "      <td>4</td>\n",
       "    </tr>\n",
       "    <tr>\n",
       "      <th>2011-10-12</th>\n",
       "      <td>1207.25</td>\n",
       "      <td>2011</td>\n",
       "      <td>4</td>\n",
       "    </tr>\n",
       "    <tr>\n",
       "      <th>2011-10-13</th>\n",
       "      <td>1203.66</td>\n",
       "      <td>2011</td>\n",
       "      <td>4</td>\n",
       "    </tr>\n",
       "    <tr>\n",
       "      <th>2011-10-14</th>\n",
       "      <td>1224.58</td>\n",
       "      <td>2011</td>\n",
       "      <td>4</td>\n",
       "    </tr>\n",
       "  </tbody>\n",
       "</table>\n",
       "<p>5472 rows × 3 columns</p>\n",
       "</div>"
      ],
      "text/plain": [
       "                spx  year  quarter\n",
       "date                              \n",
       "1990-02-01   328.79  1990        1\n",
       "1990-02-02   330.92  1990        1\n",
       "1990-02-05   331.85  1990        1\n",
       "1990-02-06   329.66  1990        1\n",
       "1990-02-07   333.75  1990        1\n",
       "...             ...   ...      ...\n",
       "2011-10-10  1194.89  2011        4\n",
       "2011-10-11  1195.54  2011        4\n",
       "2011-10-12  1207.25  2011        4\n",
       "2011-10-13  1203.66  2011        4\n",
       "2011-10-14  1224.58  2011        4\n",
       "\n",
       "[5472 rows x 3 columns]"
      ]
     },
     "execution_count": 22,
     "metadata": {},
     "output_type": "execute_result"
    }
   ],
   "source": [
    "spx3 = spx2.set_index(keys = 'date')\n",
    "spx3"
   ]
  },
  {
   "cell_type": "code",
   "execution_count": 23,
   "metadata": {
    "execution": {
     "iopub.execute_input": "2021-03-31T07:49:58.634803Z",
     "iopub.status.busy": "2021-03-31T07:49:58.633806Z",
     "iopub.status.idle": "2021-03-31T07:49:58.666719Z",
     "shell.execute_reply": "2021-03-31T07:49:58.665720Z",
     "shell.execute_reply.started": "2021-03-31T07:49:58.633806Z"
    }
   },
   "outputs": [
    {
     "name": "stdout",
     "output_type": "stream",
     "text": [
      "<class 'pandas.core.frame.DataFrame'>\n",
      "DatetimeIndex: 5472 entries, 1990-02-01 to 2011-10-14\n",
      "Data columns (total 3 columns):\n",
      " #   Column   Non-Null Count  Dtype  \n",
      "---  ------   --------------  -----  \n",
      " 0   spx      5472 non-null   float64\n",
      " 1   year     5472 non-null   int64  \n",
      " 2   quarter  5472 non-null   int64  \n",
      "dtypes: float64(1), int64(2)\n",
      "memory usage: 300.0 KB\n"
     ]
    }
   ],
   "source": [
    "spx3.info()"
   ]
  },
  {
   "cell_type": "code",
   "execution_count": 24,
   "metadata": {
    "execution": {
     "iopub.execute_input": "2021-03-31T07:50:01.083747Z",
     "iopub.status.busy": "2021-03-31T07:50:01.083747Z",
     "iopub.status.idle": "2021-03-31T07:50:01.092724Z",
     "shell.execute_reply": "2021-03-31T07:50:01.091759Z",
     "shell.execute_reply.started": "2021-03-31T07:50:01.083747Z"
    }
   },
   "outputs": [
    {
     "data": {
      "text/plain": [
       "DatetimeIndex(['1990-02-01', '1990-02-02', '1990-02-05', '1990-02-06',\n",
       "               '1990-02-07', '1990-02-08', '1990-02-09', '1990-02-12',\n",
       "               '1990-02-13', '1990-02-14',\n",
       "               ...\n",
       "               '2011-10-03', '2011-10-04', '2011-10-05', '2011-10-06',\n",
       "               '2011-10-07', '2011-10-10', '2011-10-11', '2011-10-12',\n",
       "               '2011-10-13', '2011-10-14'],\n",
       "              dtype='datetime64[ns]', name='date', length=5472, freq=None)"
      ]
     },
     "execution_count": 24,
     "metadata": {},
     "output_type": "execute_result"
    }
   ],
   "source": [
    "spx3.index"
   ]
  },
  {
   "cell_type": "code",
   "execution_count": 25,
   "metadata": {
    "execution": {
     "iopub.execute_input": "2021-03-31T07:50:12.591089Z",
     "iopub.status.busy": "2021-03-31T07:50:12.590092Z",
     "iopub.status.idle": "2021-03-31T07:50:12.609042Z",
     "shell.execute_reply": "2021-03-31T07:50:12.608044Z",
     "shell.execute_reply.started": "2021-03-31T07:50:12.590092Z"
    }
   },
   "outputs": [
    {
     "data": {
      "text/plain": [
       "year\n",
       "1990     334.123506\n",
       "1991     376.186324\n",
       "1992     415.747008\n",
       "1993     451.614822\n",
       "1994     460.416508\n",
       "1995     541.719087\n",
       "1996     670.494843\n",
       "1997     873.427787\n",
       "1998    1085.503254\n",
       "1999    1327.329563\n",
       "2000    1427.221071\n",
       "2001    1194.178992\n",
       "2002     993.934802\n",
       "2003     965.227540\n",
       "2004    1130.649444\n",
       "2005    1207.229444\n",
       "2006    1310.461633\n",
       "2007    1477.184343\n",
       "2008    1220.042055\n",
       "2009     948.046389\n",
       "2010    1139.965516\n",
       "2011    1276.093015\n",
       "Name: spx, dtype: float64"
      ]
     },
     "execution_count": 25,
     "metadata": {},
     "output_type": "execute_result"
    }
   ],
   "source": [
    "spx2.groupby(by = 'year')['spx'].mean()"
   ]
  },
  {
   "cell_type": "code",
   "execution_count": 26,
   "metadata": {
    "execution": {
     "iopub.execute_input": "2021-03-31T07:50:31.819595Z",
     "iopub.status.busy": "2021-03-31T07:50:31.819595Z",
     "iopub.status.idle": "2021-03-31T07:50:31.849514Z",
     "shell.execute_reply": "2021-03-31T07:50:31.848517Z",
     "shell.execute_reply.started": "2021-03-31T07:50:31.819595Z"
    }
   },
   "outputs": [
    {
     "data": {
      "text/plain": [
       "date\n",
       "1990     334.123506\n",
       "1991     376.186324\n",
       "1992     415.747008\n",
       "1993     451.614822\n",
       "1994     460.416508\n",
       "1995     541.719087\n",
       "1996     670.494843\n",
       "1997     873.427787\n",
       "1998    1085.503254\n",
       "1999    1327.329563\n",
       "2000    1427.221071\n",
       "2001    1194.178992\n",
       "2002     993.934802\n",
       "2003     965.227540\n",
       "2004    1130.649444\n",
       "2005    1207.229444\n",
       "2006    1310.461633\n",
       "2007    1477.184343\n",
       "2008    1220.042055\n",
       "2009     948.046389\n",
       "2010    1139.965516\n",
       "2011    1276.093015\n",
       "Freq: A-DEC, Name: spx, dtype: float64"
      ]
     },
     "execution_count": 26,
     "metadata": {},
     "output_type": "execute_result"
    }
   ],
   "source": [
    "# mean spx by year\n",
    "spx3.resample('Y', kind = 'period')['spx'].mean()"
   ]
  },
  {
   "cell_type": "code",
   "execution_count": 27,
   "metadata": {
    "execution": {
     "iopub.execute_input": "2021-03-31T07:50:48.172965Z",
     "iopub.status.busy": "2021-03-31T07:50:48.171968Z",
     "iopub.status.idle": "2021-03-31T07:50:48.197902Z",
     "shell.execute_reply": "2021-03-31T07:50:48.196901Z",
     "shell.execute_reply.started": "2021-03-31T07:50:48.171968Z"
    }
   },
   "outputs": [
    {
     "data": {
      "text/plain": [
       "year  quarter\n",
       "1990  1           334.751951\n",
       "      2           349.796508\n",
       "      3           335.881746\n",
       "      4           316.562031\n",
       "1991  1           352.282951\n",
       "                    ...     \n",
       "2010  4          1204.585625\n",
       "2011  1          1302.529032\n",
       "      2          1318.332857\n",
       "      3          1225.268437\n",
       "      4          1171.356000\n",
       "Name: spx, Length: 88, dtype: float64"
      ]
     },
     "execution_count": 27,
     "metadata": {},
     "output_type": "execute_result"
    }
   ],
   "source": [
    "spx2.groupby(by = ['year', 'quarter'])['spx'].mean()"
   ]
  },
  {
   "cell_type": "code",
   "execution_count": 28,
   "metadata": {
    "execution": {
     "iopub.execute_input": "2021-03-31T07:51:06.866931Z",
     "iopub.status.busy": "2021-03-31T07:51:06.866931Z",
     "iopub.status.idle": "2021-03-31T07:51:06.891864Z",
     "shell.execute_reply": "2021-03-31T07:51:06.890867Z",
     "shell.execute_reply.started": "2021-03-31T07:51:06.866931Z"
    }
   },
   "outputs": [
    {
     "data": {
      "text/plain": [
       "date\n",
       "1990-03-31     334.751951\n",
       "1990-06-30     349.796508\n",
       "1990-09-30     335.881746\n",
       "1990-12-31     316.562031\n",
       "1991-03-31     352.282951\n",
       "                 ...     \n",
       "2010-12-31    1204.585625\n",
       "2011-03-31    1302.529032\n",
       "2011-06-30    1318.332857\n",
       "2011-09-30    1225.268437\n",
       "2011-12-31    1171.356000\n",
       "Freq: Q-DEC, Name: spx, Length: 88, dtype: float64"
      ]
     },
     "execution_count": 28,
     "metadata": {},
     "output_type": "execute_result"
    }
   ],
   "source": [
    "# mean spx by quarter\n",
    "s = spx3.resample('Q')['spx'].mean()\n",
    "s"
   ]
  },
  {
   "cell_type": "code",
   "execution_count": 29,
   "metadata": {
    "execution": {
     "iopub.execute_input": "2021-03-31T07:51:19.235883Z",
     "iopub.status.busy": "2021-03-31T07:51:19.235883Z",
     "iopub.status.idle": "2021-03-31T07:51:19.388476Z",
     "shell.execute_reply": "2021-03-31T07:51:19.387476Z",
     "shell.execute_reply.started": "2021-03-31T07:51:19.235883Z"
    }
   },
   "outputs": [
    {
     "data": {
      "image/png": "[encoded data removed]",
      "text/plain": [
       "<Figure size 432x288 with 1 Axes>"
      ]
     },
     "metadata": {
      "needs_background": "light"
     },
     "output_type": "display_data"
    }
   ],
   "source": [
    "plt.plot(s)\n",
    "plt.grid()\n",
    "plt.show()"
   ]
  }
 ],
 "metadata": {
  "kernelspec": {
   "display_name": "Python 3",
   "language": "python",
   "name": "python3"
  },
  "language_info": {
   "codemirror_mode": {
    "name": "ipython",
    "version": 3
   },
   "file_extension": ".py",
   "mimetype": "text/x-python",
   "name": "python",
   "nbconvert_exporter": "python",
   "pygments_lexer": "ipython3",
   "version": "3.8.8"
  }
 },
 "nbformat": 4,
 "nbformat_minor": 4
}
