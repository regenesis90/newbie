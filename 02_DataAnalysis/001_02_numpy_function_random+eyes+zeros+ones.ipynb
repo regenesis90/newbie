{
 "cells": [
  {
   "cell_type": "markdown",
   "metadata": {},
   "source": [
    "# np.ndarray 객체 생성 함수들"
   ]
  },
  {
   "cell_type": "code",
   "execution_count": 1,
   "metadata": {
    "execution": {
     "iopub.execute_input": "2021-03-29T08:23:21.098269Z",
     "iopub.status.busy": "2021-03-29T08:23:21.098269Z",
     "iopub.status.idle": "2021-03-29T08:23:21.505630Z",
     "shell.execute_reply": "2021-03-29T08:23:21.504806Z",
     "shell.execute_reply.started": "2021-03-29T08:23:21.098269Z"
    }
   },
   "outputs": [],
   "source": [
    "import numpy as np"
   ]
  },
  {
   "cell_type": "markdown",
   "metadata": {},
   "source": [
    "## np.array(array-like object) 함수"
   ]
  },
  {
   "cell_type": "markdown",
   "metadata": {},
   "source": [
    "* array-like object: list, tuple, ndarray"
   ]
  },
  {
   "cell_type": "code",
   "execution_count": 3,
   "metadata": {
    "execution": {
     "iopub.execute_input": "2021-03-29T08:29:43.315753Z",
     "iopub.status.busy": "2021-03-29T08:29:43.314753Z",
     "iopub.status.idle": "2021-03-29T08:29:43.327720Z",
     "shell.execute_reply": "2021-03-29T08:29:43.324733Z",
     "shell.execute_reply.started": "2021-03-29T08:29:43.314753Z"
    }
   },
   "outputs": [
    {
     "name": "stdout",
     "output_type": "stream",
     "text": [
      "[1 2 3]\n"
     ]
    }
   ],
   "source": [
    "# numpy.ndarray 클래스의 객체 생성하기(NumPy 배열)\n",
    "arr=np.array([1,2,3])\n",
    "print(arr)"
   ]
  },
  {
   "cell_type": "code",
   "execution_count": 4,
   "metadata": {
    "execution": {
     "iopub.execute_input": "2021-03-29T08:29:59.927438Z",
     "iopub.status.busy": "2021-03-29T08:29:59.927438Z",
     "iopub.status.idle": "2021-03-29T08:29:59.935418Z",
     "shell.execute_reply": "2021-03-29T08:29:59.934462Z",
     "shell.execute_reply.started": "2021-03-29T08:29:59.927438Z"
    }
   },
   "outputs": [
    {
     "name": "stdout",
     "output_type": "stream",
     "text": [
      "[0 2 4 6 8]\n"
     ]
    }
   ],
   "source": [
    "arr=np.array([2*x for x in range(5)])\n",
    "print(arr)"
   ]
  },
  {
   "cell_type": "markdown",
   "metadata": {},
   "source": [
    "## np.arange(start, end, step) 함수\n",
    "* 범위(range)를 사용하여 numpy.ndarray 클래스 객체 생성\n",
    "* 1차원 배열(1-d array) 생성\n",
    "\n",
    "* **np.range(end)** : 0이상 end 미만, 공차가 1인 1차원 배열 생성\n",
    "* **np.range(start, end)** : start 이상 end 미만, 공차가 1인 1차원 배열 생성\n",
    "* **np.range(start, end, step)** : start이상 end 미만, 공차가 step인 1차원 배열 생성"
   ]
  },
  {
   "cell_type": "code",
   "execution_count": 7,
   "metadata": {
    "execution": {
     "iopub.execute_input": "2021-03-29T08:33:05.716406Z",
     "iopub.status.busy": "2021-03-29T08:33:05.716406Z",
     "iopub.status.idle": "2021-03-29T08:33:05.724386Z",
     "shell.execute_reply": "2021-03-29T08:33:05.723387Z",
     "shell.execute_reply.started": "2021-03-29T08:33:05.716406Z"
    }
   },
   "outputs": [
    {
     "name": "stdout",
     "output_type": "stream",
     "text": [
      "[0 1 2 3 4]\n",
      "[1 2 3 4 5]\n",
      "[0 2 4 6 8]\n"
     ]
    }
   ],
   "source": [
    "print(np.arange(5))\n",
    "print(np.arange(1,6))\n",
    "print(np.arange(0,10,2))"
   ]
  },
  {
   "cell_type": "markdown",
   "metadata": {},
   "source": [
    "## ndarray.reshape(shape) 메서드\n",
    "* **배열의 모양(shape)을 바꿔 줌**\n",
    "* **ndarray.reshape(tuple)**\n",
    "* **ndarray.reshape(x, y, ...)**"
   ]
  },
  {
   "cell_type": "code",
   "execution_count": 8,
   "metadata": {
    "execution": {
     "iopub.execute_input": "2021-03-29T08:35:02.351672Z",
     "iopub.status.busy": "2021-03-29T08:35:02.351672Z",
     "iopub.status.idle": "2021-03-29T08:35:02.358653Z",
     "shell.execute_reply": "2021-03-29T08:35:02.357656Z",
     "shell.execute_reply.started": "2021-03-29T08:35:02.351672Z"
    }
   },
   "outputs": [
    {
     "name": "stdout",
     "output_type": "stream",
     "text": [
      "[0 1 2 3 4 5 6 7 8 9]\n"
     ]
    }
   ],
   "source": [
    "# 1행 10열 사이즈의 1차원 배열(numpy.ndarray 클래스 객체) 생성하기\n",
    "arr_1d=np.arange(10)\n",
    "print(arr_1d)"
   ]
  },
  {
   "cell_type": "code",
   "execution_count": 9,
   "metadata": {
    "execution": {
     "iopub.execute_input": "2021-03-29T08:36:08.019155Z",
     "iopub.status.busy": "2021-03-29T08:36:08.019155Z",
     "iopub.status.idle": "2021-03-29T08:36:08.025122Z",
     "shell.execute_reply": "2021-03-29T08:36:08.025122Z",
     "shell.execute_reply.started": "2021-03-29T08:36:08.019155Z"
    }
   },
   "outputs": [
    {
     "name": "stdout",
     "output_type": "stream",
     "text": [
      "[[0 1 2 3 4]\n",
      " [5 6 7 8 9]]\n"
     ]
    }
   ],
   "source": [
    "# 1차원 배열을 2차원 배열로 reshape하기\n",
    "arr_2d=arr_1d.reshape((2,5)) #2행 5열로 reshape\n",
    "print(arr_2d)"
   ]
  },
  {
   "cell_type": "code",
   "execution_count": 10,
   "metadata": {
    "execution": {
     "iopub.execute_input": "2021-03-29T08:36:30.731819Z",
     "iopub.status.busy": "2021-03-29T08:36:30.730822Z",
     "iopub.status.idle": "2021-03-29T08:36:30.737805Z",
     "shell.execute_reply": "2021-03-29T08:36:30.736808Z",
     "shell.execute_reply.started": "2021-03-29T08:36:30.731819Z"
    }
   },
   "outputs": [
    {
     "name": "stdout",
     "output_type": "stream",
     "text": [
      "[[0 1 2 3]\n",
      " [4 5 6 7]]\n"
     ]
    }
   ],
   "source": [
    "print(np.arange(8).reshape((2,4)))"
   ]
  },
  {
   "cell_type": "markdown",
   "metadata": {},
   "source": [
    "## np.zeros(shape) 함수\n",
    "* 모든 원소가 0인 ndarray 생성"
   ]
  },
  {
   "cell_type": "code",
   "execution_count": 12,
   "metadata": {
    "execution": {
     "iopub.execute_input": "2021-03-29T08:37:31.606198Z",
     "iopub.status.busy": "2021-03-29T08:37:31.605201Z",
     "iopub.status.idle": "2021-03-29T08:37:31.611185Z",
     "shell.execute_reply": "2021-03-29T08:37:31.610195Z",
     "shell.execute_reply.started": "2021-03-29T08:37:31.606198Z"
    }
   },
   "outputs": [
    {
     "name": "stdout",
     "output_type": "stream",
     "text": [
      "[[0. 0. 0. 0.]\n",
      " [0. 0. 0. 0.]\n",
      " [0. 0. 0. 0.]]\n"
     ]
    }
   ],
   "source": [
    "arr=np.zeros((3,4))\n",
    "print(arr)"
   ]
  },
  {
   "cell_type": "markdown",
   "metadata": {},
   "source": [
    "## .dtype 메서드\n",
    "* ndarray 배열의 원소 타입을 조회"
   ]
  },
  {
   "cell_type": "code",
   "execution_count": 13,
   "metadata": {
    "execution": {
     "iopub.execute_input": "2021-03-29T08:38:36.316863Z",
     "iopub.status.busy": "2021-03-29T08:38:36.316863Z",
     "iopub.status.idle": "2021-03-29T08:38:36.324843Z",
     "shell.execute_reply": "2021-03-29T08:38:36.324843Z",
     "shell.execute_reply.started": "2021-03-29T08:38:36.316863Z"
    }
   },
   "outputs": [
    {
     "data": {
      "text/plain": [
       "dtype('float64')"
      ]
     },
     "execution_count": 13,
     "metadata": {},
     "output_type": "execute_result"
    }
   ],
   "source": [
    "arr.dtype"
   ]
  },
  {
   "cell_type": "code",
   "execution_count": 15,
   "metadata": {
    "execution": {
     "iopub.execute_input": "2021-03-29T08:39:11.825992Z",
     "iopub.status.busy": "2021-03-29T08:39:11.824966Z",
     "iopub.status.idle": "2021-03-29T08:39:11.830950Z",
     "shell.execute_reply": "2021-03-29T08:39:11.829952Z",
     "shell.execute_reply.started": "2021-03-29T08:39:11.825992Z"
    }
   },
   "outputs": [
    {
     "name": "stdout",
     "output_type": "stream",
     "text": [
      "[[0 0 0]\n",
      " [0 0 0]]\n"
     ]
    }
   ],
   "source": [
    "print(np.zeros((2,3), dtype=int))"
   ]
  },
  {
   "cell_type": "markdown",
   "metadata": {
    "execution": {
     "iopub.execute_input": "2021-03-29T08:39:20.837746Z",
     "iopub.status.busy": "2021-03-29T08:39:20.837746Z",
     "iopub.status.idle": "2021-03-29T08:39:20.851441Z",
     "shell.execute_reply": "2021-03-29T08:39:20.850482Z",
     "shell.execute_reply.started": "2021-03-29T08:39:20.837746Z"
    }
   },
   "source": [
    "## np.ones(shape) 함수\n",
    "* 모든 원소가 1로 이루어진 ndarray 생성"
   ]
  },
  {
   "cell_type": "code",
   "execution_count": 17,
   "metadata": {
    "execution": {
     "iopub.execute_input": "2021-03-29T08:40:02.576522Z",
     "iopub.status.busy": "2021-03-29T08:40:02.576522Z",
     "iopub.status.idle": "2021-03-29T08:40:02.584501Z",
     "shell.execute_reply": "2021-03-29T08:40:02.583509Z",
     "shell.execute_reply.started": "2021-03-29T08:40:02.576522Z"
    }
   },
   "outputs": [
    {
     "name": "stdout",
     "output_type": "stream",
     "text": [
      "[[1. 1. 1. 1.]\n",
      " [1. 1. 1. 1.]\n",
      " [1. 1. 1. 1.]]\n"
     ]
    }
   ],
   "source": [
    "arr=np.ones((3,4))\n",
    "print(arr)"
   ]
  },
  {
   "cell_type": "code",
   "execution_count": 18,
   "metadata": {
    "execution": {
     "iopub.execute_input": "2021-03-29T08:40:11.314738Z",
     "iopub.status.busy": "2021-03-29T08:40:11.314738Z",
     "iopub.status.idle": "2021-03-29T08:40:11.321194Z",
     "shell.execute_reply": "2021-03-29T08:40:11.319684Z",
     "shell.execute_reply.started": "2021-03-29T08:40:11.314738Z"
    }
   },
   "outputs": [
    {
     "name": "stdout",
     "output_type": "stream",
     "text": [
      "[[1 1 1 1]\n",
      " [1 1 1 1]\n",
      " [1 1 1 1]]\n"
     ]
    }
   ],
   "source": [
    "arr=np.ones((3,4), dtype=int)\n",
    "print(arr)"
   ]
  },
  {
   "cell_type": "markdown",
   "metadata": {},
   "source": [
    "## np.eye() 함수 : 단위행렬 생성\n",
    "* 대각선에는 1, 그 외에는 0으로 채워진 2차원 배열(2-d ndarray) 생성"
   ]
  },
  {
   "cell_type": "code",
   "execution_count": 20,
   "metadata": {
    "execution": {
     "iopub.execute_input": "2021-03-29T08:41:56.133853Z",
     "iopub.status.busy": "2021-03-29T08:41:56.133853Z",
     "iopub.status.idle": "2021-03-29T08:41:56.140842Z",
     "shell.execute_reply": "2021-03-29T08:41:56.139844Z",
     "shell.execute_reply.started": "2021-03-29T08:41:56.133853Z"
    }
   },
   "outputs": [
    {
     "name": "stdout",
     "output_type": "stream",
     "text": [
      "[[1 0 0]\n",
      " [0 1 0]\n",
      " [0 0 1]]\n"
     ]
    }
   ],
   "source": [
    "print(np.eye(3, dtype=int))"
   ]
  },
  {
   "cell_type": "code",
   "execution_count": 21,
   "metadata": {
    "execution": {
     "iopub.execute_input": "2021-03-29T08:42:15.647043Z",
     "iopub.status.busy": "2021-03-29T08:42:15.646046Z",
     "iopub.status.idle": "2021-03-29T08:42:15.653027Z",
     "shell.execute_reply": "2021-03-29T08:42:15.652030Z",
     "shell.execute_reply.started": "2021-03-29T08:42:15.647043Z"
    }
   },
   "outputs": [
    {
     "name": "stdout",
     "output_type": "stream",
     "text": [
      "[[1 0 0 0]\n",
      " [0 1 0 0]\n",
      " [0 0 1 0]]\n"
     ]
    }
   ],
   "source": [
    "print(np.eye(3, 4, dtype=int)) #> (3,4) 크기의 단위행렬? 생성"
   ]
  },
  {
   "cell_type": "code",
   "execution_count": 22,
   "metadata": {
    "execution": {
     "iopub.execute_input": "2021-03-29T08:42:52.128972Z",
     "iopub.status.busy": "2021-03-29T08:42:52.128972Z",
     "iopub.status.idle": "2021-03-29T08:42:52.136956Z",
     "shell.execute_reply": "2021-03-29T08:42:52.135955Z",
     "shell.execute_reply.started": "2021-03-29T08:42:52.128972Z"
    }
   },
   "outputs": [
    {
     "name": "stdout",
     "output_type": "stream",
     "text": [
      "[[0 1 0 0]\n",
      " [0 0 1 0]\n",
      " [0 0 0 1]\n",
      " [0 0 0 0]]\n"
     ]
    }
   ],
   "source": [
    "print(np.eye(4, k=1, dtype=int)) #> (4,4) 크기에 인덱스 1번 컬럼부터 1의 대각선 생성"
   ]
  },
  {
   "cell_type": "markdown",
   "metadata": {},
   "source": [
    "## np.random.rand(do, d1, ...) 함수\n",
    "* 0이상 1미만의 난수들로 이루어진 ndarray 생성"
   ]
  },
  {
   "cell_type": "code",
   "execution_count": 23,
   "metadata": {
    "execution": {
     "iopub.execute_input": "2021-03-29T08:43:47.157307Z",
     "iopub.status.busy": "2021-03-29T08:43:47.157307Z",
     "iopub.status.idle": "2021-03-29T08:43:47.163291Z",
     "shell.execute_reply": "2021-03-29T08:43:47.162293Z",
     "shell.execute_reply.started": "2021-03-29T08:43:47.157307Z"
    }
   },
   "outputs": [
    {
     "name": "stdout",
     "output_type": "stream",
     "text": [
      "[0.3007449  0.3086737  0.18304229 0.24855515 0.53520612 0.87668264\n",
      " 0.71278027 0.86965021 0.35998596 0.44006403]\n"
     ]
    }
   ],
   "source": [
    "# 원소의 개수가 10개인, 0이상 1미만 난수들로 구성된 1차원 배열 생성\n",
    "arr=np.random.rand(10)\n",
    "print(arr)"
   ]
  },
  {
   "cell_type": "code",
   "execution_count": 24,
   "metadata": {
    "execution": {
     "iopub.execute_input": "2021-03-29T08:44:19.553458Z",
     "iopub.status.busy": "2021-03-29T08:44:19.553458Z",
     "iopub.status.idle": "2021-03-29T08:44:19.561140Z",
     "shell.execute_reply": "2021-03-29T08:44:19.560179Z",
     "shell.execute_reply.started": "2021-03-29T08:44:19.553458Z"
    }
   },
   "outputs": [
    {
     "name": "stdout",
     "output_type": "stream",
     "text": [
      "[[0.20192503 0.53629706 0.97267145]\n",
      " [0.31692097 0.88823115 0.41816284]\n",
      " [0.10170646 0.84104746 0.77689414]\n",
      " [0.27619088 0.21802543 0.17153289]]\n"
     ]
    }
   ],
   "source": [
    "# (4,3) 사이즈의, 0이상 1미만 난수 12개로 구성된 2차원 배열 생성\n",
    "arr=np.random.rand(4,3) \n",
    "print(arr)"
   ]
  },
  {
   "cell_type": "markdown",
   "metadata": {},
   "source": [
    "## np.random.randn(do, d1, ..., dn) 함수\n",
    "* 평균이 0, 표준편차가 1인 표준정규분포(standard normal distribution)를 따르는 난수들의 배열을 생성"
   ]
  },
  {
   "cell_type": "code",
   "execution_count": 25,
   "metadata": {
    "execution": {
     "iopub.execute_input": "2021-03-29T08:45:28.062455Z",
     "iopub.status.busy": "2021-03-29T08:45:28.062455Z",
     "iopub.status.idle": "2021-03-29T08:45:28.068440Z",
     "shell.execute_reply": "2021-03-29T08:45:28.067441Z",
     "shell.execute_reply.started": "2021-03-29T08:45:28.062455Z"
    }
   },
   "outputs": [
    {
     "name": "stdout",
     "output_type": "stream",
     "text": [
      "[ 1.003842   -0.33948793  0.99879654  0.71938506  0.0190655   1.32254716\n",
      "  0.40616684  0.26742996  0.71739576 -0.19201299]\n"
     ]
    }
   ],
   "source": [
    "# 10개의 표준정규분포를 따르는 난수들로 이루어진 1차원 배열 생성하기\n",
    "arr=np.random.randn(10)\n",
    "print(arr)"
   ]
  },
  {
   "cell_type": "code",
   "execution_count": 26,
   "metadata": {
    "execution": {
     "iopub.execute_input": "2021-03-29T08:45:38.576018Z",
     "iopub.status.busy": "2021-03-29T08:45:38.576018Z",
     "iopub.status.idle": "2021-03-29T08:45:38.584001Z",
     "shell.execute_reply": "2021-03-29T08:45:38.583023Z",
     "shell.execute_reply.started": "2021-03-29T08:45:38.576018Z"
    }
   },
   "outputs": [
    {
     "name": "stdout",
     "output_type": "stream",
     "text": [
      "[[ 1.56628545 -0.54639635 -0.40682456]\n",
      " [-0.31127451  0.14844981 -1.78239601]\n",
      " [-0.45094804 -2.0813945   0.28083068]\n",
      " [-0.80631626 -0.57236918  1.26343753]]\n"
     ]
    }
   ],
   "source": [
    "arr=np.random.randn(4,3)\n",
    "print(arr)"
   ]
  },
  {
   "cell_type": "markdown",
   "metadata": {},
   "source": [
    "## np.random.randint(low, high, size, dtype) 함수\n",
    "* **low <= r < high 범위의 정수 난수들로 이루어진 배열 생성**\n",
    "* **size** : ndarray의 **shape**를 argument로 전달해야 함"
   ]
  },
  {
   "cell_type": "code",
   "execution_count": 27,
   "metadata": {
    "execution": {
     "iopub.execute_input": "2021-03-29T08:46:50.052933Z",
     "iopub.status.busy": "2021-03-29T08:46:50.052933Z",
     "iopub.status.idle": "2021-03-29T08:46:50.058947Z",
     "shell.execute_reply": "2021-03-29T08:46:50.058947Z",
     "shell.execute_reply.started": "2021-03-29T08:46:50.052933Z"
    }
   },
   "outputs": [
    {
     "name": "stdout",
     "output_type": "stream",
     "text": [
      "[3 3 3 1 3 2 1 2 3 1]\n"
     ]
    }
   ],
   "source": [
    "# 1이상 4미만 범위의 정수 난수 10개로 구성된 1차원 배열 생성\n",
    "arr=np.random.randint(1,4, size=10)\n",
    "print(arr)"
   ]
  },
  {
   "cell_type": "code",
   "execution_count": 28,
   "metadata": {
    "execution": {
     "iopub.execute_input": "2021-03-29T08:47:24.251476Z",
     "iopub.status.busy": "2021-03-29T08:47:24.250479Z",
     "iopub.status.idle": "2021-03-29T08:47:24.261450Z",
     "shell.execute_reply": "2021-03-29T08:47:24.260452Z",
     "shell.execute_reply.started": "2021-03-29T08:47:24.251476Z"
    }
   },
   "outputs": [
    {
     "name": "stdout",
     "output_type": "stream",
     "text": [
      "[[4 7 7 2 2]\n",
      " [9 8 3 8 7]\n",
      " [5 6 9 7 7]\n",
      " [6 0 8 2 5]]\n"
     ]
    }
   ],
   "source": [
    "# 0이상 10미만의 정수들로 구성된 (4,5) 크기의 2차원 배열 생성\n",
    "arr=np.random.randint(0, 10, size=(4,5))\n",
    "print(arr)"
   ]
  }
 ],
 "metadata": {
  "kernelspec": {
   "display_name": "Python 3",
   "language": "python",
   "name": "python3"
  },
  "language_info": {
   "codemirror_mode": {
    "name": "ipython",
    "version": 3
   },
   "file_extension": ".py",
   "mimetype": "text/x-python",
   "name": "python",
   "nbconvert_exporter": "python",
   "pygments_lexer": "ipython3",
   "version": "3.8.5"
  }
 },
 "nbformat": 4,
 "nbformat_minor": 4
}
