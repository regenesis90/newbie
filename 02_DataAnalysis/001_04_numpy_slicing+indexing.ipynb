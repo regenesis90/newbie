{
 "cells": [
  {
   "cell_type": "markdown",
   "metadata": {},
   "source": [
    "# Python 기본 list 객체의 slicing, indexing"
   ]
  },
  {
   "cell_type": "code",
   "execution_count": 2,
   "metadata": {
    "execution": {
     "iopub.execute_input": "2021-03-29T09:01:37.045566Z",
     "iopub.status.busy": "2021-03-29T09:01:37.044569Z",
     "iopub.status.idle": "2021-03-29T09:01:37.056538Z",
     "shell.execute_reply": "2021-03-29T09:01:37.055541Z",
     "shell.execute_reply.started": "2021-03-29T09:01:37.045566Z"
    }
   },
   "outputs": [
    {
     "name": "stdout",
     "output_type": "stream",
     "text": [
      "[1, 2, 3, 4, 5, 6, 7, 8, 9, 10]\n",
      "1\n",
      "10\n"
     ]
    }
   ],
   "source": [
    "# python 기본 list 클래스 객체의 경우\n",
    "l=[x for x in range(1, 11)]\n",
    "print(l) #리스트 전체 출력\n",
    "print(l[0]) #리스트의 첫번째 원소 출력\n",
    "print(l[-1]) #리스트의 가장 마지막 원소(끝에서 첫번째 원소) 출력"
   ]
  },
  {
   "cell_type": "code",
   "execution_count": 4,
   "metadata": {
    "execution": {
     "iopub.execute_input": "2021-03-29T09:02:17.039155Z",
     "iopub.status.busy": "2021-03-29T09:02:17.039155Z",
     "iopub.status.idle": "2021-03-29T09:02:17.042152Z",
     "shell.execute_reply": "2021-03-29T09:02:17.042152Z",
     "shell.execute_reply.started": "2021-03-29T09:02:17.039155Z"
    }
   },
   "outputs": [
    {
     "name": "stdout",
     "output_type": "stream",
     "text": [
      "[1, 2, 3, 4, 5]\n"
     ]
    }
   ],
   "source": [
    "# index 0이상 5미만의 원소들만 slicing : 출력 결과도 리스트\n",
    "print(l[0:5])"
   ]
  },
  {
   "cell_type": "code",
   "execution_count": 5,
   "metadata": {
    "execution": {
     "iopub.execute_input": "2021-03-29T09:02:37.933801Z",
     "iopub.status.busy": "2021-03-29T09:02:37.932804Z",
     "iopub.status.idle": "2021-03-29T09:02:37.939321Z",
     "shell.execute_reply": "2021-03-29T09:02:37.937793Z",
     "shell.execute_reply.started": "2021-03-29T09:02:37.933801Z"
    }
   },
   "outputs": [
    {
     "name": "stdout",
     "output_type": "stream",
     "text": [
      "[1, 2, 3, 4, 5]\n",
      "[6, 7, 8, 9, 10]\n"
     ]
    }
   ],
   "source": [
    "print(l[:5])\n",
    "print(l[-5:])"
   ]
  },
  {
   "cell_type": "markdown",
   "metadata": {},
   "source": [
    "# numpy.ndarray의 slicing, indexing"
   ]
  },
  {
   "cell_type": "code",
   "execution_count": 1,
   "metadata": {
    "execution": {
     "iopub.execute_input": "2021-03-29T09:00:32.412850Z",
     "iopub.status.busy": "2021-03-29T09:00:32.412850Z",
     "iopub.status.idle": "2021-03-29T09:00:32.628364Z",
     "shell.execute_reply": "2021-03-29T09:00:32.627362Z",
     "shell.execute_reply.started": "2021-03-29T09:00:32.412850Z"
    }
   },
   "outputs": [],
   "source": [
    "import numpy as np"
   ]
  },
  {
   "cell_type": "code",
   "execution_count": 6,
   "metadata": {
    "execution": {
     "iopub.execute_input": "2021-03-29T09:03:33.672975Z",
     "iopub.status.busy": "2021-03-29T09:03:33.672975Z",
     "iopub.status.idle": "2021-03-29T09:03:33.676964Z",
     "shell.execute_reply": "2021-03-29T09:03:33.676964Z",
     "shell.execute_reply.started": "2021-03-29T09:03:33.672975Z"
    }
   },
   "outputs": [
    {
     "name": "stdout",
     "output_type": "stream",
     "text": [
      "[ 1  2  3  4  5  6  7  8  9 10]\n"
     ]
    }
   ],
   "source": [
    "array=np.arange(1,11)\n",
    "print(array)"
   ]
  },
  {
   "cell_type": "code",
   "execution_count": 7,
   "metadata": {
    "execution": {
     "iopub.execute_input": "2021-03-29T09:03:59.666452Z",
     "iopub.status.busy": "2021-03-29T09:03:59.665454Z",
     "iopub.status.idle": "2021-03-29T09:03:59.673859Z",
     "shell.execute_reply": "2021-03-29T09:03:59.672875Z",
     "shell.execute_reply.started": "2021-03-29T09:03:59.666452Z"
    }
   },
   "outputs": [
    {
     "name": "stdout",
     "output_type": "stream",
     "text": [
      "1\n",
      "10\n",
      "10 9\n"
     ]
    }
   ],
   "source": [
    "print(array[0])\n",
    "print(array[9])\n",
    "print(array[-1], array[-2])"
   ]
  },
  {
   "cell_type": "code",
   "execution_count": 8,
   "metadata": {
    "execution": {
     "iopub.execute_input": "2021-03-29T09:04:40.459407Z",
     "iopub.status.busy": "2021-03-29T09:04:40.459407Z",
     "iopub.status.idle": "2021-03-29T09:04:40.468679Z",
     "shell.execute_reply": "2021-03-29T09:04:40.467387Z",
     "shell.execute_reply.started": "2021-03-29T09:04:40.459407Z"
    }
   },
   "outputs": [
    {
     "name": "stdout",
     "output_type": "stream",
     "text": [
      "[2 3 4 5]\n",
      "[1 2 3]\n",
      "[ 8  9 10]\n",
      "[ 8  9 10]\n"
     ]
    }
   ],
   "source": [
    "# numpy.ndarray 클래스 객체의 slicing\n",
    "print(array[1:5])\n",
    "print(array[:3])\n",
    "print(array[7:])\n",
    "print(array[-3:])"
   ]
  },
  {
   "cell_type": "markdown",
   "metadata": {},
   "source": [
    "## fancy indexing\n",
    "* **배열과 비슷한 객체(array-like object: ndarray, list, tuple, ...)를 사용한 indexing 방법**"
   ]
  },
  {
   "cell_type": "code",
   "execution_count": 9,
   "metadata": {
    "execution": {
     "iopub.execute_input": "2021-03-29T09:05:41.790414Z",
     "iopub.status.busy": "2021-03-29T09:05:41.790414Z",
     "iopub.status.idle": "2021-03-29T09:05:41.798430Z",
     "shell.execute_reply": "2021-03-29T09:05:41.797464Z",
     "shell.execute_reply.started": "2021-03-29T09:05:41.790414Z"
    }
   },
   "outputs": [
    {
     "name": "stdout",
     "output_type": "stream",
     "text": [
      "[ 1  2  3  4  5  6  7  8  9 10]\n"
     ]
    }
   ],
   "source": [
    "array=np.arange(1,11)\n",
    "print(array)"
   ]
  },
  {
   "cell_type": "code",
   "execution_count": 10,
   "metadata": {
    "execution": {
     "iopub.execute_input": "2021-03-29T09:06:08.427643Z",
     "iopub.status.busy": "2021-03-29T09:06:08.427643Z",
     "iopub.status.idle": "2021-03-29T09:06:08.435621Z",
     "shell.execute_reply": "2021-03-29T09:06:08.435621Z",
     "shell.execute_reply.started": "2021-03-29T09:06:08.427643Z"
    }
   },
   "outputs": [
    {
     "name": "stdout",
     "output_type": "stream",
     "text": [
      "[1 3 5]\n",
      "[ 1  2  9 10]\n"
     ]
    }
   ],
   "source": [
    "print(array[[0,2,4]]) #> 0, 2, 4번째 index만 슬라이싱\n",
    "print(array[[0,1,8,9]])"
   ]
  },
  {
   "cell_type": "markdown",
   "metadata": {},
   "source": [
    "## boolean indexing\n",
    "* **논리값(True, False)들의 리스트(튜플, 배열 등)을 사용한 indexing 방법**\n",
    "* numpy.ndarray의 원소들 중에서 **조건을 만족하는 원소들로 이루어진 부분집합 배열을 찾을 떄 사용**할 수 있음"
   ]
  },
  {
   "cell_type": "code",
   "execution_count": 11,
   "metadata": {
    "execution": {
     "iopub.execute_input": "2021-03-29T09:39:11.468280Z",
     "iopub.status.busy": "2021-03-29T09:39:11.467283Z",
     "iopub.status.idle": "2021-03-29T09:39:11.479250Z",
     "shell.execute_reply": "2021-03-29T09:39:11.478252Z",
     "shell.execute_reply.started": "2021-03-29T09:39:11.468280Z"
    }
   },
   "outputs": [
    {
     "name": "stdout",
     "output_type": "stream",
     "text": [
      "[  1  10 100  99  88]\n"
     ]
    }
   ],
   "source": [
    "array=np.array([1,10,100,99,88])\n",
    "print(array)"
   ]
  },
  {
   "cell_type": "code",
   "execution_count": 12,
   "metadata": {
    "execution": {
     "iopub.execute_input": "2021-03-29T09:39:22.368434Z",
     "iopub.status.busy": "2021-03-29T09:39:22.368434Z",
     "iopub.status.idle": "2021-03-29T09:39:22.374381Z",
     "shell.execute_reply": "2021-03-29T09:39:22.373383Z",
     "shell.execute_reply.started": "2021-03-29T09:39:22.368434Z"
    }
   },
   "outputs": [
    {
     "name": "stdout",
     "output_type": "stream",
     "text": [
      "[True, False, True, False, False]\n"
     ]
    }
   ],
   "source": [
    "indexer=[True, False, True, False, False]\n",
    "print(indexer)"
   ]
  },
  {
   "cell_type": "code",
   "execution_count": 13,
   "metadata": {
    "execution": {
     "iopub.execute_input": "2021-03-29T09:39:26.729778Z",
     "iopub.status.busy": "2021-03-29T09:39:26.729778Z",
     "iopub.status.idle": "2021-03-29T09:39:26.750722Z",
     "shell.execute_reply": "2021-03-29T09:39:26.749725Z",
     "shell.execute_reply.started": "2021-03-29T09:39:26.729778Z"
    }
   },
   "outputs": [
    {
     "name": "stdout",
     "output_type": "stream",
     "text": [
      "[  1 100]\n"
     ]
    }
   ],
   "source": [
    "# indexer의 원소가 True인 위치(인덱스)의 array 원소만이 출력된다.\n",
    "print(array[indexer])"
   ]
  },
  {
   "cell_type": "code",
   "execution_count": 14,
   "metadata": {
    "execution": {
     "iopub.execute_input": "2021-03-29T09:40:28.696608Z",
     "iopub.status.busy": "2021-03-29T09:40:28.696608Z",
     "iopub.status.idle": "2021-03-29T09:40:28.720543Z",
     "shell.execute_reply": "2021-03-29T09:40:28.719544Z",
     "shell.execute_reply.started": "2021-03-29T09:40:28.696608Z"
    }
   },
   "outputs": [
    {
     "name": "stdout",
     "output_type": "stream",
     "text": [
      "[9 7 2 7 8 8 8 1 1 7]\n"
     ]
    }
   ],
   "source": [
    "# 0이상 10미만 정수 난수 10개를 갖는 1차원 배열(1-d ndarray) 생성\n",
    "array=np.random.randint(0, 10, size=10)\n",
    "print(array)"
   ]
  },
  {
   "cell_type": "code",
   "execution_count": 16,
   "metadata": {
    "execution": {
     "iopub.execute_input": "2021-03-29T09:41:16.000237Z",
     "iopub.status.busy": "2021-03-29T09:41:16.000237Z",
     "iopub.status.idle": "2021-03-29T09:41:16.020184Z",
     "shell.execute_reply": "2021-03-29T09:41:16.019186Z",
     "shell.execute_reply.started": "2021-03-29T09:41:16.000237Z"
    }
   },
   "outputs": [
    {
     "name": "stdout",
     "output_type": "stream",
     "text": [
      "[False False  True False  True  True  True False False False]\n",
      "[2 8 8 8]\n"
     ]
    }
   ],
   "source": [
    "# array에서 짝수들만 선택하기\n",
    "print(array%2==0) #> [False False True False True True True False False False]\n",
    "print(array[array%2==0]) #> [2 8 8 8]"
   ]
  },
  {
   "cell_type": "code",
   "execution_count": 17,
   "metadata": {
    "execution": {
     "iopub.execute_input": "2021-03-29T09:41:33.323604Z",
     "iopub.status.busy": "2021-03-29T09:41:33.322605Z",
     "iopub.status.idle": "2021-03-29T09:41:33.338563Z",
     "shell.execute_reply": "2021-03-29T09:41:33.337591Z",
     "shell.execute_reply.started": "2021-03-29T09:41:33.323604Z"
    }
   },
   "outputs": [
    {
     "name": "stdout",
     "output_type": "stream",
     "text": [
      "[9 7 7 1 1 7]\n"
     ]
    }
   ],
   "source": [
    "# array에서 홀수만 선택하기\n",
    "print(array[array%2==1])"
   ]
  },
  {
   "cell_type": "markdown",
   "metadata": {},
   "source": [
    "## boolean indexing의 유의사항\n",
    "* boolean indexing에서는 Python 논리연산자(and, or, not) 사용 불가\n",
    "* boolean indexing에서는 &, |, ~ 연산자를 사용\n",
    "* boolean indexing에서는 &, |, ~ 연산자를 사용 시, 연산 순서를 명시하기 위해 **반드시 괄호()를 사용해야 함**"
   ]
  },
  {
   "cell_type": "code",
   "execution_count": 18,
   "metadata": {
    "execution": {
     "iopub.execute_input": "2021-03-29T09:43:24.869118Z",
     "iopub.status.busy": "2021-03-29T09:43:24.869118Z",
     "iopub.status.idle": "2021-03-29T09:43:24.877604Z",
     "shell.execute_reply": "2021-03-29T09:43:24.876607Z",
     "shell.execute_reply.started": "2021-03-29T09:43:24.869118Z"
    }
   },
   "outputs": [
    {
     "name": "stdout",
     "output_type": "stream",
     "text": [
      "[13 14  4  3  6 10  1  7  5 16]\n"
     ]
    }
   ],
   "source": [
    "# 0 이상 20 미만 정수 난수 10개를 갖는 1-d ndarray 생성\n",
    "array=np.random.randint(0, 20, size=10)\n",
    "print(array)"
   ]
  },
  {
   "cell_type": "code",
   "execution_count": 19,
   "metadata": {
    "execution": {
     "iopub.execute_input": "2021-03-29T10:05:06.741977Z",
     "iopub.status.busy": "2021-03-29T10:05:06.740980Z",
     "iopub.status.idle": "2021-03-29T10:05:06.760927Z",
     "shell.execute_reply": "2021-03-29T10:05:06.759929Z",
     "shell.execute_reply.started": "2021-03-29T10:05:06.741977Z"
    }
   },
   "outputs": [
    {
     "name": "stdout",
     "output_type": "stream",
     "text": [
      "[13 14  6 10  7  5]\n"
     ]
    }
   ],
   "source": [
    "# array의 원소들 중에서 5이상 15미만의 숫자들로 이루어진 배열\n",
    "print(array[(array>=5)&(array<15)])"
   ]
  },
  {
   "cell_type": "code",
   "execution_count": 20,
   "metadata": {
    "execution": {
     "iopub.execute_input": "2021-03-29T10:05:44.677494Z",
     "iopub.status.busy": "2021-03-29T10:05:44.676493Z",
     "iopub.status.idle": "2021-03-29T10:05:44.691417Z",
     "shell.execute_reply": "2021-03-29T10:05:44.690419Z",
     "shell.execute_reply.started": "2021-03-29T10:05:44.677494Z"
    }
   },
   "outputs": [
    {
     "name": "stdout",
     "output_type": "stream",
     "text": [
      "[ 4  3  1 16]\n"
     ]
    }
   ],
   "source": [
    "# array 원소들 중에서 5미만 \"또는\" 15이상 숫자들로 이루어진 배열\n",
    "print(array[(array<5)|(array>=15)])"
   ]
  },
  {
   "cell_type": "markdown",
   "metadata": {},
   "source": [
    "# Python 2차원 list vs NumPy 2-d ndarray"
   ]
  },
  {
   "cell_type": "markdown",
   "metadata": {},
   "source": [
    "## 원소의 선택(indexing)"
   ]
  },
  {
   "cell_type": "markdown",
   "metadata": {},
   "source": [
    "* list[i][j]\n",
    "* array[i][j], array[i,j] 둘 다 가능"
   ]
  },
  {
   "cell_type": "code",
   "execution_count": 21,
   "metadata": {
    "execution": {
     "iopub.execute_input": "2021-03-29T10:07:31.892260Z",
     "iopub.status.busy": "2021-03-29T10:07:31.892260Z",
     "iopub.status.idle": "2021-03-29T10:07:31.898245Z",
     "shell.execute_reply": "2021-03-29T10:07:31.897246Z",
     "shell.execute_reply.started": "2021-03-29T10:07:31.892260Z"
    }
   },
   "outputs": [
    {
     "name": "stdout",
     "output_type": "stream",
     "text": [
      "[[ 0  1  2  3]\n",
      " [ 4  5  6  7]\n",
      " [ 8  9 10 11]]\n"
     ]
    }
   ],
   "source": [
    "# 0이상 12미만의 숫자 12개로 구성된 (3,4) 크기의 2차원 배열(2-d ndarray) 객체 array 생성\n",
    "array=np.arange(12).reshape((3,4))\n",
    "print(array)"
   ]
  },
  {
   "cell_type": "code",
   "execution_count": 22,
   "metadata": {
    "execution": {
     "iopub.execute_input": "2021-03-29T10:07:57.111802Z",
     "iopub.status.busy": "2021-03-29T10:07:57.111802Z",
     "iopub.status.idle": "2021-03-29T10:07:57.127759Z",
     "shell.execute_reply": "2021-03-29T10:07:57.126761Z",
     "shell.execute_reply.started": "2021-03-29T10:07:57.111802Z"
    }
   },
   "outputs": [
    {
     "name": "stdout",
     "output_type": "stream",
     "text": [
      "6\n",
      "6\n"
     ]
    }
   ],
   "source": [
    "# array의 1행 2열의 원소 선택하기 : 두 가지 방법 모두가 가능하다\n",
    "print(array[1][2])\n",
    "print(array[1,2])"
   ]
  },
  {
   "cell_type": "markdown",
   "metadata": {},
   "source": [
    "## slicing"
   ]
  },
  {
   "cell_type": "markdown",
   "metadata": {},
   "source": [
    "### 2-d ndarray에서 범위 연산자(:)를 사용한 slicing"
   ]
  },
  {
   "cell_type": "code",
   "execution_count": 24,
   "metadata": {
    "execution": {
     "iopub.execute_input": "2021-03-29T10:09:33.338388Z",
     "iopub.status.busy": "2021-03-29T10:09:33.337350Z",
     "iopub.status.idle": "2021-03-29T10:09:33.350394Z",
     "shell.execute_reply": "2021-03-29T10:09:33.349394Z",
     "shell.execute_reply.started": "2021-03-29T10:09:33.337350Z"
    }
   },
   "outputs": [
    {
     "name": "stdout",
     "output_type": "stream",
     "text": [
      "[[ 0  1  2  3]\n",
      " [ 4  5  6  7]\n",
      " [ 8  9 10 11]]\n",
      "[[0 1 2]\n",
      " [4 5 6]]\n"
     ]
    }
   ],
   "source": [
    "print(array)\n",
    "print(array[0:2, 0:3]) # 0이상 2미만 행(0,1), 0이상 3미만 열(0,1,2) 출력하기"
   ]
  },
  {
   "cell_type": "markdown",
   "metadata": {},
   "source": [
    "### row 선택"
   ]
  },
  {
   "cell_type": "code",
   "execution_count": 25,
   "metadata": {
    "execution": {
     "iopub.execute_input": "2021-03-29T10:10:39.200093Z",
     "iopub.status.busy": "2021-03-29T10:10:39.200093Z",
     "iopub.status.idle": "2021-03-29T10:10:39.218552Z",
     "shell.execute_reply": "2021-03-29T10:10:39.217554Z",
     "shell.execute_reply.started": "2021-03-29T10:10:39.200093Z"
    }
   },
   "outputs": [
    {
     "name": "stdout",
     "output_type": "stream",
     "text": [
      "[[ 0  1  2  3]\n",
      " [ 4  5  6  7]\n",
      " [ 8  9 10 11]]\n",
      "[[0 1 2 3]\n",
      " [4 5 6 7]]\n"
     ]
    }
   ],
   "source": [
    "print(array)\n",
    "# 0,1번째 행, 모든 열 출력\n",
    "print(array[:2, :])"
   ]
  },
  {
   "cell_type": "markdown",
   "metadata": {},
   "source": [
    "### column 선택"
   ]
  },
  {
   "cell_type": "code",
   "execution_count": 26,
   "metadata": {
    "execution": {
     "iopub.execute_input": "2021-03-29T10:11:10.724418Z",
     "iopub.status.busy": "2021-03-29T10:11:10.724418Z",
     "iopub.status.idle": "2021-03-29T10:11:10.739378Z",
     "shell.execute_reply": "2021-03-29T10:11:10.738425Z",
     "shell.execute_reply.started": "2021-03-29T10:11:10.724418Z"
    }
   },
   "outputs": [
    {
     "name": "stdout",
     "output_type": "stream",
     "text": [
      "[[ 0  1  2  3]\n",
      " [ 4  5  6  7]\n",
      " [ 8  9 10 11]]\n",
      "[[ 2  3]\n",
      " [ 6  7]\n",
      " [10 11]]\n"
     ]
    }
   ],
   "source": [
    "print(array)\n",
    "# 모든 행, 마지막 2개 열 선택(-2, -1)\n",
    "print(array[:, -2:])"
   ]
  },
  {
   "cell_type": "markdown",
   "metadata": {},
   "source": [
    "### 2-d ndarray에서 fancy indexing"
   ]
  },
  {
   "cell_type": "code",
   "execution_count": 27,
   "metadata": {
    "execution": {
     "iopub.execute_input": "2021-03-29T10:12:19.387890Z",
     "iopub.status.busy": "2021-03-29T10:12:19.386891Z",
     "iopub.status.idle": "2021-03-29T10:12:19.398858Z",
     "shell.execute_reply": "2021-03-29T10:12:19.397861Z",
     "shell.execute_reply.started": "2021-03-29T10:12:19.387890Z"
    }
   },
   "outputs": [
    {
     "name": "stdout",
     "output_type": "stream",
     "text": [
      "[[ 0  1  2  3]\n",
      " [ 4  5  6  7]\n",
      " [ 8  9 10 11]]\n",
      "[[ 0  1  2  3]\n",
      " [ 8  9 10 11]]\n"
     ]
    }
   ],
   "source": [
    "# row 선택\n",
    "print(array)\n",
    "print(array[[0,2], :])"
   ]
  },
  {
   "cell_type": "code",
   "execution_count": 28,
   "metadata": {
    "execution": {
     "iopub.execute_input": "2021-03-29T10:12:51.385040Z",
     "iopub.status.busy": "2021-03-29T10:12:51.385040Z",
     "iopub.status.idle": "2021-03-29T10:12:51.403990Z",
     "shell.execute_reply": "2021-03-29T10:12:51.402992Z",
     "shell.execute_reply.started": "2021-03-29T10:12:51.385040Z"
    }
   },
   "outputs": [
    {
     "name": "stdout",
     "output_type": "stream",
     "text": [
      "[[ 0  1  2  3]\n",
      " [ 4  5  6  7]\n",
      " [ 8  9 10 11]]\n",
      "[[ 1  3]\n",
      " [ 5  7]\n",
      " [ 9 11]]\n"
     ]
    }
   ],
   "source": [
    "# column 선택\n",
    "print(array)\n",
    "print(array[:, [1,3]]) # 모든 row, 1,3 column 선택"
   ]
  },
  {
   "cell_type": "code",
   "execution_count": 30,
   "metadata": {
    "execution": {
     "iopub.execute_input": "2021-03-29T10:14:23.901320Z",
     "iopub.status.busy": "2021-03-29T10:14:23.901320Z",
     "iopub.status.idle": "2021-03-29T10:14:23.913286Z",
     "shell.execute_reply": "2021-03-29T10:14:23.912289Z",
     "shell.execute_reply.started": "2021-03-29T10:14:23.901320Z"
    }
   },
   "outputs": [
    {
     "name": "stdout",
     "output_type": "stream",
     "text": [
      "[[ 0  1  2  3]\n",
      " [ 4  5  6  7]\n",
      " [ 8  9 10 11]]\n",
      "[[ 0  1  2  3]\n",
      " [ 8  9 10 11]]\n",
      "[ 1 11]\n"
     ]
    }
   ],
   "source": [
    "#인덱스 [0,1], [2,3] 위치에 있는 원소들로 이루어진 1차원 배열 출력\n",
    "print(array)\n",
    "print(array[[0,2]])\n",
    "print(array[[0,2], [1,3]]) #> 0행 1열 원소, 2행 3열 원소"
   ]
  },
  {
   "cell_type": "markdown",
   "metadata": {},
   "source": [
    "### 2-d ndarray에서 boolean indexing"
   ]
  },
  {
   "cell_type": "code",
   "execution_count": 31,
   "metadata": {
    "execution": {
     "iopub.execute_input": "2021-03-29T10:15:47.054468Z",
     "iopub.status.busy": "2021-03-29T10:15:47.054468Z",
     "iopub.status.idle": "2021-03-29T10:15:47.066403Z",
     "shell.execute_reply": "2021-03-29T10:15:47.065407Z",
     "shell.execute_reply.started": "2021-03-29T10:15:47.054468Z"
    }
   },
   "outputs": [
    {
     "name": "stdout",
     "output_type": "stream",
     "text": [
      "[[ 0  1  2  3]\n",
      " [ 4  5  6  7]\n",
      " [ 8  9 10 11]]\n",
      "[ 0  2  4  6  8 10]\n"
     ]
    }
   ],
   "source": [
    "print(array)\n",
    "print(array[array%2==0]) #> 1차원 배열의 결과가 나타난다."
   ]
  }
 ],
 "metadata": {
  "kernelspec": {
   "display_name": "Python 3",
   "language": "python",
   "name": "python3"
  },
  "language_info": {
   "codemirror_mode": {
    "name": "ipython",
    "version": 3
   },
   "file_extension": ".py",
   "mimetype": "text/x-python",
   "name": "python",
   "nbconvert_exporter": "python",
   "pygments_lexer": "ipython3",
   "version": "3.8.5"
  }
 },
 "nbformat": 4,
 "nbformat_minor": 4
}
