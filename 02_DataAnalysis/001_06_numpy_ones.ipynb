{
 "cells": [
  {
   "cell_type": "code",
   "execution_count": 1,
   "metadata": {
    "execution": {
     "iopub.execute_input": "2021-04-01T01:05:27.970527Z",
     "iopub.status.busy": "2021-04-01T01:05:27.970527Z",
     "iopub.status.idle": "2021-04-01T01:05:28.244793Z",
     "shell.execute_reply": "2021-04-01T01:05:28.243795Z",
     "shell.execute_reply.started": "2021-04-01T01:05:27.970527Z"
    }
   },
   "outputs": [],
   "source": [
    "import numpy as np"
   ]
  },
  {
   "cell_type": "markdown",
   "metadata": {},
   "source": [
    "# numpy.ones()  function\n",
    "* default dtype : np.float64(floating type, 64 bits)"
   ]
  },
  {
   "cell_type": "code",
   "execution_count": 2,
   "metadata": {
    "execution": {
     "iopub.execute_input": "2021-04-01T01:06:17.802180Z",
     "iopub.status.busy": "2021-04-01T01:06:17.802180Z",
     "iopub.status.idle": "2021-04-01T01:06:17.966158Z",
     "shell.execute_reply": "2021-04-01T01:06:17.965021Z",
     "shell.execute_reply.started": "2021-04-01T01:06:17.802180Z"
    }
   },
   "outputs": [
    {
     "data": {
      "text/plain": [
       "array([[1., 1., 1., 1.],\n",
       "       [1., 1., 1., 1.],\n",
       "       [1., 1., 1., 1.]])"
      ]
     },
     "execution_count": 2,
     "metadata": {},
     "output_type": "execute_result"
    }
   ],
   "source": [
    "a=np.ones((3,4))\n",
    "a"
   ]
  },
  {
   "cell_type": "code",
   "execution_count": 3,
   "metadata": {
    "execution": {
     "iopub.execute_input": "2021-04-01T01:06:31.055489Z",
     "iopub.status.busy": "2021-04-01T01:06:31.055489Z",
     "iopub.status.idle": "2021-04-01T01:06:31.071447Z",
     "shell.execute_reply": "2021-04-01T01:06:31.070449Z",
     "shell.execute_reply.started": "2021-04-01T01:06:31.055489Z"
    }
   },
   "outputs": [
    {
     "data": {
      "text/plain": [
       "array([[1, 1, 1, 1],\n",
       "       [1, 1, 1, 1],\n",
       "       [1, 1, 1, 1]])"
      ]
     },
     "execution_count": 3,
     "metadata": {},
     "output_type": "execute_result"
    }
   ],
   "source": [
    "a=np.ones((3,4), dtype=np.int_)\n",
    "a"
   ]
  },
  {
   "cell_type": "code",
   "execution_count": null,
   "metadata": {},
   "outputs": [],
   "source": [
    "a.dtype #> .dtype : Data type of ndarray"
   ]
  }
 ],
 "metadata": {
  "kernelspec": {
   "display_name": "Python 3",
   "language": "python",
   "name": "python3"
  },
  "language_info": {
   "codemirror_mode": {
    "name": "ipython",
    "version": 3
   },
   "file_extension": ".py",
   "mimetype": "text/x-python",
   "name": "python",
   "nbconvert_exporter": "python",
   "pygments_lexer": "ipython3",
   "version": "3.8.5"
  }
 },
 "nbformat": 4,
 "nbformat_minor": 4
}
