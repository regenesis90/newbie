{
 "cells": [
  {
   "cell_type": "code",
   "execution_count": 1,
   "metadata": {
    "execution": {
     "iopub.execute_input": "2021-04-01T01:16:28.704117Z",
     "iopub.status.busy": "2021-04-01T01:16:28.704117Z",
     "iopub.status.idle": "2021-04-01T01:16:28.889884Z",
     "shell.execute_reply": "2021-04-01T01:16:28.886876Z",
     "shell.execute_reply.started": "2021-04-01T01:16:28.704117Z"
    }
   },
   "outputs": [],
   "source": [
    "import numpy as np"
   ]
  },
  {
   "cell_type": "markdown",
   "metadata": {},
   "source": [
    "# ndarray Reshape\n",
    "* **`reshape()`**\n",
    "* **`ravel()`**\n",
    "* **`flatten()`**\n",
    "* **`np.newaxis`**"
   ]
  },
  {
   "cell_type": "markdown",
   "metadata": {},
   "source": [
    "## np.reshape()"
   ]
  },
  {
   "cell_type": "code",
   "execution_count": 2,
   "metadata": {
    "execution": {
     "iopub.execute_input": "2021-04-01T01:18:04.295701Z",
     "iopub.status.busy": "2021-04-01T01:18:04.295701Z",
     "iopub.status.idle": "2021-04-01T01:18:04.315647Z",
     "shell.execute_reply": "2021-04-01T01:18:04.314689Z",
     "shell.execute_reply.started": "2021-04-01T01:18:04.295701Z"
    }
   },
   "outputs": [
    {
     "data": {
      "text/plain": [
       "array([ 0,  1,  2,  3,  4,  5,  6,  7,  8,  9, 10, 11])"
      ]
     },
     "execution_count": 2,
     "metadata": {},
     "output_type": "execute_result"
    }
   ],
   "source": [
    "np.arange(12)"
   ]
  },
  {
   "cell_type": "code",
   "execution_count": 3,
   "metadata": {
    "execution": {
     "iopub.execute_input": "2021-04-01T01:18:22.443386Z",
     "iopub.status.busy": "2021-04-01T01:18:22.443386Z",
     "iopub.status.idle": "2021-04-01T01:18:22.458346Z",
     "shell.execute_reply": "2021-04-01T01:18:22.457348Z",
     "shell.execute_reply.started": "2021-04-01T01:18:22.443386Z"
    }
   },
   "outputs": [
    {
     "data": {
      "text/plain": [
       "array([[ 0,  1,  2,  3],\n",
       "       [ 4,  5,  6,  7],\n",
       "       [ 8,  9, 10, 11]])"
      ]
     },
     "execution_count": 3,
     "metadata": {},
     "output_type": "execute_result"
    }
   ],
   "source": [
    "a=np.arange(12).reshape((3,4)) # 1-d ndarray -> 2-d ndarray\n",
    "a"
   ]
  },
  {
   "cell_type": "code",
   "execution_count": 4,
   "metadata": {
    "execution": {
     "iopub.execute_input": "2021-04-01T01:18:38.714415Z",
     "iopub.status.busy": "2021-04-01T01:18:38.713419Z",
     "iopub.status.idle": "2021-04-01T01:18:38.728378Z",
     "shell.execute_reply": "2021-04-01T01:18:38.727382Z",
     "shell.execute_reply.started": "2021-04-01T01:18:38.714415Z"
    }
   },
   "outputs": [
    {
     "data": {
      "text/plain": [
       "array([[[ 0,  1,  2,  3],\n",
       "        [ 4,  5,  6,  7],\n",
       "        [ 8,  9, 10, 11]],\n",
       "\n",
       "       [[12, 13, 14, 15],\n",
       "        [16, 17, 18, 19],\n",
       "        [20, 21, 22, 23]]])"
      ]
     },
     "execution_count": 4,
     "metadata": {},
     "output_type": "execute_result"
    }
   ],
   "source": [
    "a=np.arange(24).reshape((2,3,4)) # 1-d ndarray -> 3-d ndarray\n",
    "a"
   ]
  },
  {
   "cell_type": "code",
   "execution_count": 5,
   "metadata": {
    "execution": {
     "iopub.execute_input": "2021-04-01T01:19:35.531735Z",
     "iopub.status.busy": "2021-04-01T01:19:35.530738Z",
     "iopub.status.idle": "2021-04-01T01:19:35.548689Z",
     "shell.execute_reply": "2021-04-01T01:19:35.547693Z",
     "shell.execute_reply.started": "2021-04-01T01:19:35.530738Z"
    }
   },
   "outputs": [
    {
     "data": {
      "text/plain": [
       "array([[0, 1],\n",
       "       [2, 3],\n",
       "       [4, 5]])"
      ]
     },
     "execution_count": 5,
     "metadata": {},
     "output_type": "execute_result"
    }
   ],
   "source": [
    "# 1-d ndarray -> 2-d ndarray, row=3. (column : Autocalculated)\n",
    "a=np.arange(6).reshape((3,-1))\n",
    "a"
   ]
  },
  {
   "cell_type": "code",
   "execution_count": 7,
   "metadata": {
    "execution": {
     "iopub.execute_input": "2021-04-01T01:19:50.631226Z",
     "iopub.status.busy": "2021-04-01T01:19:50.630227Z",
     "iopub.status.idle": "2021-04-01T01:19:50.649177Z",
     "shell.execute_reply": "2021-04-01T01:19:50.648181Z",
     "shell.execute_reply.started": "2021-04-01T01:19:50.631226Z"
    }
   },
   "outputs": [
    {
     "data": {
      "text/plain": [
       "array([[ 0,  1,  2,  3],\n",
       "       [ 4,  5,  6,  7],\n",
       "       [ 8,  9, 10, 11]])"
      ]
     },
     "execution_count": 7,
     "metadata": {},
     "output_type": "execute_result"
    }
   ],
   "source": [
    "a=np.arange(12).reshape((3,-1))\n",
    "a"
   ]
  },
  {
   "cell_type": "code",
   "execution_count": 8,
   "metadata": {
    "execution": {
     "iopub.execute_input": "2021-04-01T01:20:04.599300Z",
     "iopub.status.busy": "2021-04-01T01:20:04.598303Z",
     "iopub.status.idle": "2021-04-01T01:20:04.615302Z",
     "shell.execute_reply": "2021-04-01T01:20:04.614337Z",
     "shell.execute_reply.started": "2021-04-01T01:20:04.599300Z"
    }
   },
   "outputs": [
    {
     "data": {
      "text/plain": [
       "array([[ 0,  1,  2],\n",
       "       [ 3,  4,  5],\n",
       "       [ 6,  7,  8],\n",
       "       [ 9, 10, 11]])"
      ]
     },
     "execution_count": 8,
     "metadata": {},
     "output_type": "execute_result"
    }
   ],
   "source": [
    "a.reshape((-1,3))"
   ]
  },
  {
   "cell_type": "code",
   "execution_count": 9,
   "metadata": {
    "execution": {
     "iopub.execute_input": "2021-04-01T01:20:14.692835Z",
     "iopub.status.busy": "2021-04-01T01:20:14.692835Z",
     "iopub.status.idle": "2021-04-01T01:20:14.708298Z",
     "shell.execute_reply": "2021-04-01T01:20:14.707301Z",
     "shell.execute_reply.started": "2021-04-01T01:20:14.692835Z"
    }
   },
   "outputs": [
    {
     "data": {
      "text/plain": [
       "array([ 0,  1,  2,  3,  4,  5,  6,  7,  8,  9, 10, 11, 12, 13, 14, 15, 16,\n",
       "       17, 18, 19, 20, 21, 22, 23])"
      ]
     },
     "execution_count": 9,
     "metadata": {},
     "output_type": "execute_result"
    }
   ],
   "source": [
    "a=np.arange(24)\n",
    "a"
   ]
  },
  {
   "cell_type": "code",
   "execution_count": 10,
   "metadata": {
    "execution": {
     "iopub.execute_input": "2021-04-01T01:20:20.342222Z",
     "iopub.status.busy": "2021-04-01T01:20:20.341221Z",
     "iopub.status.idle": "2021-04-01T01:20:20.365158Z",
     "shell.execute_reply": "2021-04-01T01:20:20.364160Z",
     "shell.execute_reply.started": "2021-04-01T01:20:20.342222Z"
    }
   },
   "outputs": [
    {
     "data": {
      "text/plain": [
       "array([[[ 0,  1],\n",
       "        [ 2,  3],\n",
       "        [ 4,  5],\n",
       "        [ 6,  7]],\n",
       "\n",
       "       [[ 8,  9],\n",
       "        [10, 11],\n",
       "        [12, 13],\n",
       "        [14, 15]],\n",
       "\n",
       "       [[16, 17],\n",
       "        [18, 19],\n",
       "        [20, 21],\n",
       "        [22, 23]]])"
      ]
     },
     "execution_count": 10,
     "metadata": {},
     "output_type": "execute_result"
    }
   ],
   "source": [
    "a.reshape((3,4,-1))"
   ]
  },
  {
   "cell_type": "markdown",
   "metadata": {},
   "source": [
    "# reshape method, reshape function\n",
    "* method : **`np.ndarray.reshape(shape)`**\n",
    "* function : **`np.reshape(array, shape)`**"
   ]
  },
  {
   "cell_type": "code",
   "execution_count": 11,
   "metadata": {
    "execution": {
     "iopub.execute_input": "2021-04-01T01:25:14.043035Z",
     "iopub.status.busy": "2021-04-01T01:25:14.043035Z",
     "iopub.status.idle": "2021-04-01T01:25:14.063983Z",
     "shell.execute_reply": "2021-04-01T01:25:14.062982Z",
     "shell.execute_reply.started": "2021-04-01T01:25:14.043035Z"
    }
   },
   "outputs": [
    {
     "data": {
      "text/plain": [
       "array([[ 0,  1,  2,  3,  4,  5],\n",
       "       [ 6,  7,  8,  9, 10, 11],\n",
       "       [12, 13, 14, 15, 16, 17],\n",
       "       [18, 19, 20, 21, 22, 23]])"
      ]
     },
     "execution_count": 11,
     "metadata": {},
     "output_type": "execute_result"
    }
   ],
   "source": [
    "np.reshape(a, (4,-1))"
   ]
  },
  {
   "cell_type": "code",
   "execution_count": 12,
   "metadata": {
    "execution": {
     "iopub.execute_input": "2021-04-01T01:25:19.522732Z",
     "iopub.status.busy": "2021-04-01T01:25:19.521736Z",
     "iopub.status.idle": "2021-04-01T01:25:19.540686Z",
     "shell.execute_reply": "2021-04-01T01:25:19.539721Z",
     "shell.execute_reply.started": "2021-04-01T01:25:19.522732Z"
    }
   },
   "outputs": [
    {
     "data": {
      "text/plain": [
       "array([[ 0,  1,  2,  3,  4,  5],\n",
       "       [ 6,  7,  8,  9, 10, 11],\n",
       "       [12, 13, 14, 15, 16, 17],\n",
       "       [18, 19, 20, 21, 22, 23]])"
      ]
     },
     "execution_count": 12,
     "metadata": {},
     "output_type": "execute_result"
    }
   ],
   "source": [
    "a.reshape((4,-1))"
   ]
  },
  {
   "cell_type": "markdown",
   "metadata": {},
   "source": [
    "# transform 2-d to 1-d ndarray"
   ]
  },
  {
   "cell_type": "markdown",
   "metadata": {},
   "source": [
    "## using reshape"
   ]
  },
  {
   "cell_type": "code",
   "execution_count": 13,
   "metadata": {
    "execution": {
     "iopub.execute_input": "2021-04-01T01:25:45.236537Z",
     "iopub.status.busy": "2021-04-01T01:25:45.236537Z",
     "iopub.status.idle": "2021-04-01T01:25:45.243518Z",
     "shell.execute_reply": "2021-04-01T01:25:45.242523Z",
     "shell.execute_reply.started": "2021-04-01T01:25:45.236537Z"
    }
   },
   "outputs": [
    {
     "data": {
      "text/plain": [
       "array([[ 0,  1,  2,  3],\n",
       "       [ 4,  5,  6,  7],\n",
       "       [ 8,  9, 10, 11]])"
      ]
     },
     "execution_count": 13,
     "metadata": {},
     "output_type": "execute_result"
    }
   ],
   "source": [
    "a=np.arange(12).reshape((3,4))\n",
    "a"
   ]
  },
  {
   "cell_type": "code",
   "execution_count": 14,
   "metadata": {
    "execution": {
     "iopub.execute_input": "2021-04-01T01:26:04.554328Z",
     "iopub.status.busy": "2021-04-01T01:26:04.553291Z",
     "iopub.status.idle": "2021-04-01T01:26:04.574237Z",
     "shell.execute_reply": "2021-04-01T01:26:04.573237Z",
     "shell.execute_reply.started": "2021-04-01T01:26:04.554328Z"
    }
   },
   "outputs": [
    {
     "data": {
      "text/plain": [
       "array([ 0,  1,  2,  3,  4,  5,  6,  7,  8,  9, 10, 11])"
      ]
     },
     "execution_count": 14,
     "metadata": {},
     "output_type": "execute_result"
    }
   ],
   "source": [
    "np.reshape(a, (12,)) #> np.reshape(a,12)"
   ]
  },
  {
   "cell_type": "code",
   "execution_count": 15,
   "metadata": {
    "execution": {
     "iopub.execute_input": "2021-04-01T01:26:09.567166Z",
     "iopub.status.busy": "2021-04-01T01:26:09.567166Z",
     "iopub.status.idle": "2021-04-01T01:26:09.580104Z",
     "shell.execute_reply": "2021-04-01T01:26:09.579104Z",
     "shell.execute_reply.started": "2021-04-01T01:26:09.567166Z"
    }
   },
   "outputs": [
    {
     "data": {
      "text/plain": [
       "array([ 0,  1,  2,  3,  4,  5,  6,  7,  8,  9, 10, 11])"
      ]
     },
     "execution_count": 15,
     "metadata": {},
     "output_type": "execute_result"
    }
   ],
   "source": [
    "a.reshape((12,))"
   ]
  },
  {
   "cell_type": "markdown",
   "metadata": {},
   "source": [
    "## using ravel\n",
    "* method : **`ndarray.ravel()`**\n",
    "* function : **`np.ravel(ndarray)`**"
   ]
  },
  {
   "cell_type": "code",
   "execution_count": 16,
   "metadata": {
    "execution": {
     "iopub.execute_input": "2021-04-01T01:26:17.078108Z",
     "iopub.status.busy": "2021-04-01T01:26:17.078108Z",
     "iopub.status.idle": "2021-04-01T01:26:17.100047Z",
     "shell.execute_reply": "2021-04-01T01:26:17.099050Z",
     "shell.execute_reply.started": "2021-04-01T01:26:17.078108Z"
    }
   },
   "outputs": [
    {
     "data": {
      "text/plain": [
       "array([ 0,  1,  2,  3,  4,  5,  6,  7,  8,  9, 10, 11])"
      ]
     },
     "execution_count": 16,
     "metadata": {},
     "output_type": "execute_result"
    }
   ],
   "source": [
    "np.ravel(a)"
   ]
  },
  {
   "cell_type": "code",
   "execution_count": 17,
   "metadata": {
    "execution": {
     "iopub.execute_input": "2021-04-01T01:26:23.410870Z",
     "iopub.status.busy": "2021-04-01T01:26:23.409872Z",
     "iopub.status.idle": "2021-04-01T01:26:23.430817Z",
     "shell.execute_reply": "2021-04-01T01:26:23.429820Z",
     "shell.execute_reply.started": "2021-04-01T01:26:23.410870Z"
    }
   },
   "outputs": [
    {
     "data": {
      "text/plain": [
       "array([ 0,  1,  2,  3,  4,  5,  6,  7,  8,  9, 10, 11])"
      ]
     },
     "execution_count": 17,
     "metadata": {},
     "output_type": "execute_result"
    }
   ],
   "source": [
    "a.ravel()"
   ]
  },
  {
   "cell_type": "markdown",
   "metadata": {},
   "source": [
    "## using flatten\n",
    "* **only method**. there isn't `np.flatten()` function."
   ]
  },
  {
   "cell_type": "code",
   "execution_count": 18,
   "metadata": {
    "execution": {
     "iopub.execute_input": "2021-04-01T01:34:32.524974Z",
     "iopub.status.busy": "2021-04-01T01:34:32.523935Z",
     "iopub.status.idle": "2021-04-01T01:34:32.539894Z",
     "shell.execute_reply": "2021-04-01T01:34:32.538895Z",
     "shell.execute_reply.started": "2021-04-01T01:34:32.524974Z"
    }
   },
   "outputs": [
    {
     "data": {
      "text/plain": [
       "array([ 0,  1,  2,  3,  4,  5,  6,  7,  8,  9, 10, 11])"
      ]
     },
     "execution_count": 18,
     "metadata": {},
     "output_type": "execute_result"
    }
   ],
   "source": [
    "a.flatten()"
   ]
  },
  {
   "cell_type": "code",
   "execution_count": 19,
   "metadata": {
    "execution": {
     "iopub.execute_input": "2021-04-01T01:34:41.500180Z",
     "iopub.status.busy": "2021-04-01T01:34:41.500180Z",
     "iopub.status.idle": "2021-04-01T01:34:41.511657Z",
     "shell.execute_reply": "2021-04-01T01:34:41.510659Z",
     "shell.execute_reply.started": "2021-04-01T01:34:41.500180Z"
    }
   },
   "outputs": [
    {
     "data": {
      "text/plain": [
       "array([ 0,  1,  2,  3,  4,  5,  6,  7,  8,  9, 10, 11])"
      ]
     },
     "execution_count": 19,
     "metadata": {},
     "output_type": "execute_result"
    }
   ],
   "source": [
    "a.flatten()[0:12]"
   ]
  },
  {
   "cell_type": "markdown",
   "metadata": {},
   "source": [
    "# Attribute 'flat'\n",
    "* **`np.ndarray.flat`** : object that saved 1-d flattend ndarray"
   ]
  },
  {
   "cell_type": "code",
   "execution_count": 20,
   "metadata": {
    "execution": {
     "iopub.execute_input": "2021-04-01T01:36:12.410852Z",
     "iopub.status.busy": "2021-04-01T01:36:12.409818Z",
     "iopub.status.idle": "2021-04-01T01:36:12.429762Z",
     "shell.execute_reply": "2021-04-01T01:36:12.428764Z",
     "shell.execute_reply.started": "2021-04-01T01:36:12.409818Z"
    }
   },
   "outputs": [
    {
     "data": {
      "text/plain": [
       "<numpy.flatiter at 0x1f412fedaf0>"
      ]
     },
     "execution_count": 20,
     "metadata": {},
     "output_type": "execute_result"
    }
   ],
   "source": [
    "a.flat"
   ]
  },
  {
   "cell_type": "code",
   "execution_count": 21,
   "metadata": {
    "execution": {
     "iopub.execute_input": "2021-04-01T01:36:17.048975Z",
     "iopub.status.busy": "2021-04-01T01:36:17.048975Z",
     "iopub.status.idle": "2021-04-01T01:36:17.067925Z",
     "shell.execute_reply": "2021-04-01T01:36:17.066928Z",
     "shell.execute_reply.started": "2021-04-01T01:36:17.048975Z"
    }
   },
   "outputs": [
    {
     "data": {
      "text/plain": [
       "0"
      ]
     },
     "execution_count": 21,
     "metadata": {},
     "output_type": "execute_result"
    }
   ],
   "source": [
    "a.flat[0]"
   ]
  },
  {
   "cell_type": "code",
   "execution_count": 22,
   "metadata": {
    "execution": {
     "iopub.execute_input": "2021-04-01T01:36:23.756983Z",
     "iopub.status.busy": "2021-04-01T01:36:23.756983Z",
     "iopub.status.idle": "2021-04-01T01:36:23.763966Z",
     "shell.execute_reply": "2021-04-01T01:36:23.762967Z",
     "shell.execute_reply.started": "2021-04-01T01:36:23.756983Z"
    }
   },
   "outputs": [
    {
     "data": {
      "text/plain": [
       "array([ 0,  1,  2,  3,  4,  5,  6,  7,  8,  9, 10, 11])"
      ]
     },
     "execution_count": 22,
     "metadata": {},
     "output_type": "execute_result"
    }
   ],
   "source": [
    "a.flat[:] #> ndarray slicing"
   ]
  },
  {
   "cell_type": "code",
   "execution_count": 23,
   "metadata": {
    "execution": {
     "iopub.execute_input": "2021-04-01T01:36:28.392481Z",
     "iopub.status.busy": "2021-04-01T01:36:28.392481Z",
     "iopub.status.idle": "2021-04-01T01:36:28.409436Z",
     "shell.execute_reply": "2021-04-01T01:36:28.408438Z",
     "shell.execute_reply.started": "2021-04-01T01:36:28.392481Z"
    }
   },
   "outputs": [
    {
     "data": {
      "text/plain": [
       "array([[ 0,  1,  2,  3],\n",
       "       [ 4,  5,  6,  7],\n",
       "       [ 8,  9, 10, 11]])"
      ]
     },
     "execution_count": 23,
     "metadata": {},
     "output_type": "execute_result"
    }
   ],
   "source": [
    "a"
   ]
  },
  {
   "cell_type": "markdown",
   "metadata": {},
   "source": [
    "# example"
   ]
  },
  {
   "cell_type": "code",
   "execution_count": 24,
   "metadata": {
    "execution": {
     "iopub.execute_input": "2021-04-01T01:36:50.720286Z",
     "iopub.status.busy": "2021-04-01T01:36:50.719289Z",
     "iopub.status.idle": "2021-04-01T01:36:50.732762Z",
     "shell.execute_reply": "2021-04-01T01:36:50.731765Z",
     "shell.execute_reply.started": "2021-04-01T01:36:50.720286Z"
    }
   },
   "outputs": [
    {
     "data": {
      "text/plain": [
       "array([[[ 0,  1,  2,  3],\n",
       "        [ 4,  5,  6,  7],\n",
       "        [ 8,  9, 10, 11]],\n",
       "\n",
       "       [[12, 13, 14, 15],\n",
       "        [16, 17, 18, 19],\n",
       "        [20, 21, 22, 23]]])"
      ]
     },
     "execution_count": 24,
     "metadata": {},
     "output_type": "execute_result"
    }
   ],
   "source": [
    "a=np.arange(24).reshape((2,3,4))\n",
    "a"
   ]
  },
  {
   "cell_type": "code",
   "execution_count": 25,
   "metadata": {
    "execution": {
     "iopub.execute_input": "2021-04-01T01:36:55.469763Z",
     "iopub.status.busy": "2021-04-01T01:36:55.468762Z",
     "iopub.status.idle": "2021-04-01T01:36:55.482724Z",
     "shell.execute_reply": "2021-04-01T01:36:55.481726Z",
     "shell.execute_reply.started": "2021-04-01T01:36:55.469763Z"
    }
   },
   "outputs": [
    {
     "data": {
      "text/plain": [
       "array([ 0,  1,  2,  3,  4,  5,  6,  7,  8,  9, 10, 11, 12, 13, 14, 15, 16,\n",
       "       17, 18, 19, 20, 21, 22, 23])"
      ]
     },
     "execution_count": 25,
     "metadata": {},
     "output_type": "execute_result"
    }
   ],
   "source": [
    "a.ravel()"
   ]
  },
  {
   "cell_type": "code",
   "execution_count": 26,
   "metadata": {
    "execution": {
     "iopub.execute_input": "2021-04-01T01:36:57.979406Z",
     "iopub.status.busy": "2021-04-01T01:36:57.979406Z",
     "iopub.status.idle": "2021-04-01T01:36:57.997352Z",
     "shell.execute_reply": "2021-04-01T01:36:57.996356Z",
     "shell.execute_reply.started": "2021-04-01T01:36:57.979406Z"
    }
   },
   "outputs": [
    {
     "data": {
      "text/plain": [
       "array([ 0,  1,  2,  3,  4,  5,  6,  7,  8,  9, 10, 11, 12, 13, 14, 15, 16,\n",
       "       17, 18, 19, 20, 21, 22, 23])"
      ]
     },
     "execution_count": 26,
     "metadata": {},
     "output_type": "execute_result"
    }
   ],
   "source": [
    "a.flatten()"
   ]
  },
  {
   "cell_type": "code",
   "execution_count": 27,
   "metadata": {
    "execution": {
     "iopub.execute_input": "2021-04-01T01:37:05.575935Z",
     "iopub.status.busy": "2021-04-01T01:37:05.575935Z",
     "iopub.status.idle": "2021-04-01T01:37:05.583913Z",
     "shell.execute_reply": "2021-04-01T01:37:05.582957Z",
     "shell.execute_reply.started": "2021-04-01T01:37:05.575935Z"
    }
   },
   "outputs": [
    {
     "data": {
      "text/plain": [
       "array([ 0,  1,  2,  3,  4,  5,  6,  7,  8,  9, 10, 11, 12, 13, 14, 15, 16,\n",
       "       17, 18, 19, 20, 21, 22, 23])"
      ]
     },
     "execution_count": 27,
     "metadata": {},
     "output_type": "execute_result"
    }
   ],
   "source": [
    "a.reshape((2*3*4,))"
   ]
  }
 ],
 "metadata": {
  "kernelspec": {
   "display_name": "Python 3",
   "language": "python",
   "name": "python3"
  },
  "language_info": {
   "codemirror_mode": {
    "name": "ipython",
    "version": 3
   },
   "file_extension": ".py",
   "mimetype": "text/x-python",
   "name": "python",
   "nbconvert_exporter": "python",
   "pygments_lexer": "ipython3",
   "version": "3.8.5"
  }
 },
 "nbformat": 4,
 "nbformat_minor": 4
}
