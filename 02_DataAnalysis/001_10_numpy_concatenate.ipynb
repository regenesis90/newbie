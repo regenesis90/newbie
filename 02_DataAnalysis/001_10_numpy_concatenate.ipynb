{
 "cells": [
  {
   "cell_type": "code",
   "execution_count": 1,
   "metadata": {
    "execution": {
     "iopub.execute_input": "2021-04-01T01:43:12.499756Z",
     "iopub.status.busy": "2021-04-01T01:43:12.498754Z",
     "iopub.status.idle": "2021-04-01T01:43:12.701870Z",
     "shell.execute_reply": "2021-04-01T01:43:12.698824Z",
     "shell.execute_reply.started": "2021-04-01T01:43:12.499756Z"
    }
   },
   "outputs": [],
   "source": [
    "import numpy as np"
   ]
  },
  {
   "cell_type": "markdown",
   "metadata": {},
   "source": [
    "# ndarray concatenate(이어붙이기)\n",
    "* **`np.concatenate([a1, a2, ...], axis)`**\n",
    "* **`np.r_[a1,a2]`** : row concatenation(행 이어붙이기)\n",
    "* **`np.c_[a1,a2]`** : column concatenation(열 이어붙이기)"
   ]
  },
  {
   "cell_type": "code",
   "execution_count": 2,
   "metadata": {
    "execution": {
     "iopub.execute_input": "2021-04-01T01:44:25.515752Z",
     "iopub.status.busy": "2021-04-01T01:44:25.515752Z",
     "iopub.status.idle": "2021-04-01T01:44:25.535701Z",
     "shell.execute_reply": "2021-04-01T01:44:25.534703Z",
     "shell.execute_reply.started": "2021-04-01T01:44:25.515752Z"
    }
   },
   "outputs": [
    {
     "data": {
      "text/plain": [
       "array([[0, 1, 2],\n",
       "       [3, 4, 5]])"
      ]
     },
     "execution_count": 2,
     "metadata": {},
     "output_type": "execute_result"
    }
   ],
   "source": [
    "a1 = np.arange(6).reshape((2, 3))\n",
    "a1"
   ]
  },
  {
   "cell_type": "code",
   "execution_count": 3,
   "metadata": {
    "execution": {
     "iopub.execute_input": "2021-04-01T01:44:34.185754Z",
     "iopub.status.busy": "2021-04-01T01:44:34.184717Z",
     "iopub.status.idle": "2021-04-01T01:44:34.195687Z",
     "shell.execute_reply": "2021-04-01T01:44:34.194690Z",
     "shell.execute_reply.started": "2021-04-01T01:44:34.185754Z"
    }
   },
   "outputs": [
    {
     "data": {
      "text/plain": [
       "array([[ 6,  7,  8],\n",
       "       [ 9, 10, 11]])"
      ]
     },
     "execution_count": 3,
     "metadata": {},
     "output_type": "execute_result"
    }
   ],
   "source": [
    "a2 = np.arange(6, 12).reshape((2, 3))\n",
    "a2"
   ]
  },
  {
   "cell_type": "markdown",
   "metadata": {},
   "source": [
    "## np.concatenate(axis=0)"
   ]
  },
  {
   "cell_type": "code",
   "execution_count": 4,
   "metadata": {
    "execution": {
     "iopub.execute_input": "2021-04-01T01:44:58.311445Z",
     "iopub.status.busy": "2021-04-01T01:44:58.310445Z",
     "iopub.status.idle": "2021-04-01T01:44:58.326366Z",
     "shell.execute_reply": "2021-04-01T01:44:58.325368Z",
     "shell.execute_reply.started": "2021-04-01T01:44:58.311445Z"
    }
   },
   "outputs": [
    {
     "data": {
      "text/plain": [
       "array([[ 0,  1,  2],\n",
       "       [ 3,  4,  5],\n",
       "       [ 6,  7,  8],\n",
       "       [ 9, 10, 11]])"
      ]
     },
     "execution_count": 4,
     "metadata": {},
     "output_type": "execute_result"
    }
   ],
   "source": [
    "np.concatenate([a1, a2]) #axis=0 (default). row-direction concatenation"
   ]
  },
  {
   "cell_type": "markdown",
   "metadata": {},
   "source": [
    "## np.concatenate(axis=1)"
   ]
  },
  {
   "cell_type": "code",
   "execution_count": 5,
   "metadata": {
    "execution": {
     "iopub.execute_input": "2021-04-01T01:45:45.220471Z",
     "iopub.status.busy": "2021-04-01T01:45:45.220471Z",
     "iopub.status.idle": "2021-04-01T01:45:45.245404Z",
     "shell.execute_reply": "2021-04-01T01:45:45.244446Z",
     "shell.execute_reply.started": "2021-04-01T01:45:45.220471Z"
    }
   },
   "outputs": [
    {
     "data": {
      "text/plain": [
       "array([[ 0,  1,  2,  6,  7,  8],\n",
       "       [ 3,  4,  5,  9, 10, 11]])"
      ]
     },
     "execution_count": 5,
     "metadata": {},
     "output_type": "execute_result"
    }
   ],
   "source": [
    "np.concatenate([a1, a2], axis = 1) #axis=1. column-direction concatenation"
   ]
  },
  {
   "cell_type": "markdown",
   "metadata": {},
   "source": [
    "## np.r_ = np.concatenate(axis=0)"
   ]
  },
  {
   "cell_type": "code",
   "execution_count": 6,
   "metadata": {
    "execution": {
     "iopub.execute_input": "2021-04-01T01:46:22.714939Z",
     "iopub.status.busy": "2021-04-01T01:46:22.714939Z",
     "iopub.status.idle": "2021-04-01T01:46:22.729415Z",
     "shell.execute_reply": "2021-04-01T01:46:22.728417Z",
     "shell.execute_reply.started": "2021-04-01T01:46:22.714939Z"
    }
   },
   "outputs": [
    {
     "data": {
      "text/plain": [
       "array([[ 0,  1,  2],\n",
       "       [ 3,  4,  5],\n",
       "       [ 6,  7,  8],\n",
       "       [ 9, 10, 11]])"
      ]
     },
     "execution_count": 6,
     "metadata": {},
     "output_type": "execute_result"
    }
   ],
   "source": [
    "np.r_[a1, a2]"
   ]
  },
  {
   "cell_type": "markdown",
   "metadata": {},
   "source": [
    "## np.c_=np.concatenate(axis=1)"
   ]
  },
  {
   "cell_type": "code",
   "execution_count": 7,
   "metadata": {
    "execution": {
     "iopub.execute_input": "2021-04-01T01:46:35.015732Z",
     "iopub.status.busy": "2021-04-01T01:46:35.015732Z",
     "iopub.status.idle": "2021-04-01T01:46:35.034685Z",
     "shell.execute_reply": "2021-04-01T01:46:35.033684Z",
     "shell.execute_reply.started": "2021-04-01T01:46:35.015732Z"
    }
   },
   "outputs": [
    {
     "data": {
      "text/plain": [
       "array([[ 0,  1,  2,  6,  7,  8],\n",
       "       [ 3,  4,  5,  9, 10, 11]])"
      ]
     },
     "execution_count": 7,
     "metadata": {},
     "output_type": "execute_result"
    }
   ],
   "source": [
    "np.c_[a1, a2]"
   ]
  },
  {
   "cell_type": "markdown",
   "metadata": {},
   "source": [
    "# example"
   ]
  },
  {
   "cell_type": "code",
   "execution_count": 8,
   "metadata": {
    "execution": {
     "iopub.execute_input": "2021-04-01T01:47:04.132006Z",
     "iopub.status.busy": "2021-04-01T01:47:04.132006Z",
     "iopub.status.idle": "2021-04-01T01:47:04.146964Z",
     "shell.execute_reply": "2021-04-01T01:47:04.145966Z",
     "shell.execute_reply.started": "2021-04-01T01:47:04.132006Z"
    }
   },
   "outputs": [
    {
     "data": {
      "text/plain": [
       "array([[1, 1],\n",
       "       [2, 2],\n",
       "       [3, 3]])"
      ]
     },
     "execution_count": 8,
     "metadata": {},
     "output_type": "execute_result"
    }
   ],
   "source": [
    "X = np.array([[1,1],\n",
    "              [2,2],\n",
    "              [3,3]])\n",
    "X"
   ]
  },
  {
   "cell_type": "code",
   "execution_count": 9,
   "metadata": {
    "execution": {
     "iopub.execute_input": "2021-04-01T01:47:15.079386Z",
     "iopub.status.busy": "2021-04-01T01:47:15.079386Z",
     "iopub.status.idle": "2021-04-01T01:47:15.094347Z",
     "shell.execute_reply": "2021-04-01T01:47:15.093348Z",
     "shell.execute_reply.started": "2021-04-01T01:47:15.079386Z"
    }
   },
   "outputs": [
    {
     "data": {
      "text/plain": [
       "array([[2],\n",
       "       [2],\n",
       "       [2]])"
      ]
     },
     "execution_count": 9,
     "metadata": {},
     "output_type": "execute_result"
    }
   ],
   "source": [
    "W = np.array([[2],\n",
    "              [2],\n",
    "              [2]])\n",
    "W"
   ]
  },
  {
   "cell_type": "code",
   "execution_count": 10,
   "metadata": {
    "execution": {
     "iopub.execute_input": "2021-04-01T01:47:41.016224Z",
     "iopub.status.busy": "2021-04-01T01:47:41.016224Z",
     "iopub.status.idle": "2021-04-01T01:47:41.027194Z",
     "shell.execute_reply": "2021-04-01T01:47:41.026195Z",
     "shell.execute_reply.started": "2021-04-01T01:47:41.016224Z"
    }
   },
   "outputs": [
    {
     "data": {
      "text/plain": [
       "array([[1, 1, 1],\n",
       "       [1, 2, 2],\n",
       "       [1, 3, 3]])"
      ]
     },
     "execution_count": 10,
     "metadata": {},
     "output_type": "execute_result"
    }
   ],
   "source": [
    "# X@W Error\n",
    "X_bias = np.c_[np.ones((3, 1), dtype = np.int_), X]\n",
    "X_bias"
   ]
  },
  {
   "cell_type": "code",
   "execution_count": 11,
   "metadata": {
    "execution": {
     "iopub.execute_input": "2021-04-01T01:47:58.705653Z",
     "iopub.status.busy": "2021-04-01T01:47:58.704625Z",
     "iopub.status.idle": "2021-04-01T01:47:58.718581Z",
     "shell.execute_reply": "2021-04-01T01:47:58.717582Z",
     "shell.execute_reply.started": "2021-04-01T01:47:58.705653Z"
    }
   },
   "outputs": [
    {
     "data": {
      "text/plain": [
       "array([[ 6],\n",
       "       [10],\n",
       "       [14]])"
      ]
     },
     "execution_count": 11,
     "metadata": {},
     "output_type": "execute_result"
    }
   ],
   "source": [
    "X_bias@W"
   ]
  }
 ],
 "metadata": {
  "kernelspec": {
   "display_name": "Python 3",
   "language": "python",
   "name": "python3"
  },
  "language_info": {
   "codemirror_mode": {
    "name": "ipython",
    "version": 3
   },
   "file_extension": ".py",
   "mimetype": "text/x-python",
   "name": "python",
   "nbconvert_exporter": "python",
   "pygments_lexer": "ipython3",
   "version": "3.8.8"
  }
 },
 "nbformat": 4,
 "nbformat_minor": 4
}
