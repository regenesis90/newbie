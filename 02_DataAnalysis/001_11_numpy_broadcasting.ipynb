{
 "cells": [
  {
   "cell_type": "code",
   "execution_count": 15,
   "metadata": {
    "execution": {
     "iopub.execute_input": "2021-04-01T01:53:03.433135Z",
     "iopub.status.busy": "2021-04-01T01:53:03.433135Z",
     "iopub.status.idle": "2021-04-01T01:53:03.695584Z",
     "shell.execute_reply": "2021-04-01T01:53:03.692586Z",
     "shell.execute_reply.started": "2021-04-01T01:53:03.433135Z"
    }
   },
   "outputs": [],
   "source": [
    "import numpy as np\n",
    "import matplotlib.pyplot as plt"
   ]
  },
  {
   "cell_type": "markdown",
   "metadata": {},
   "source": [
    "# BroadCasting\n",
    "* ndarray's arithmetric operation : element-wise calculation. (*based on same index*)\n",
    "* **Broadcasting** : arithmetric operation between different shaped ndarray"
   ]
  },
  {
   "cell_type": "code",
   "execution_count": 2,
   "metadata": {
    "execution": {
     "iopub.execute_input": "2021-04-01T01:51:05.484980Z",
     "iopub.status.busy": "2021-04-01T01:51:05.484980Z",
     "iopub.status.idle": "2021-04-01T01:51:05.503929Z",
     "shell.execute_reply": "2021-04-01T01:51:05.502931Z",
     "shell.execute_reply.started": "2021-04-01T01:51:05.484980Z"
    }
   },
   "outputs": [
    {
     "data": {
      "text/plain": [
       "(array([0, 1, 2, 3, 4]), array([0, 1, 2, 3]))"
      ]
     },
     "execution_count": 2,
     "metadata": {},
     "output_type": "execute_result"
    }
   ],
   "source": [
    "a = np.arange(5)\n",
    "b = np.arange(4)\n",
    "# a+b : ValueError\n",
    "a, b"
   ]
  },
  {
   "cell_type": "code",
   "execution_count": 3,
   "metadata": {
    "execution": {
     "iopub.execute_input": "2021-04-01T01:51:18.645790Z",
     "iopub.status.busy": "2021-04-01T01:51:18.644793Z",
     "iopub.status.idle": "2021-04-01T01:51:18.659753Z",
     "shell.execute_reply": "2021-04-01T01:51:18.658756Z",
     "shell.execute_reply.started": "2021-04-01T01:51:18.645790Z"
    }
   },
   "outputs": [
    {
     "data": {
      "text/plain": [
       "array([0, 1, 2, 3, 4])"
      ]
     },
     "execution_count": 3,
     "metadata": {},
     "output_type": "execute_result"
    }
   ],
   "source": [
    "a"
   ]
  },
  {
   "cell_type": "code",
   "execution_count": 4,
   "metadata": {
    "execution": {
     "iopub.execute_input": "2021-04-01T01:51:20.323125Z",
     "iopub.status.busy": "2021-04-01T01:51:20.323125Z",
     "iopub.status.idle": "2021-04-01T01:51:20.339631Z",
     "shell.execute_reply": "2021-04-01T01:51:20.338673Z",
     "shell.execute_reply.started": "2021-04-01T01:51:20.323125Z"
    }
   },
   "outputs": [
    {
     "data": {
      "text/plain": [
       "array([1, 2, 3, 4, 5])"
      ]
     },
     "execution_count": 4,
     "metadata": {},
     "output_type": "execute_result"
    }
   ],
   "source": [
    "a + 1"
   ]
  },
  {
   "cell_type": "code",
   "execution_count": 5,
   "metadata": {
    "execution": {
     "iopub.execute_input": "2021-04-01T01:51:21.559853Z",
     "iopub.status.busy": "2021-04-01T01:51:21.558858Z",
     "iopub.status.idle": "2021-04-01T01:51:21.582792Z",
     "shell.execute_reply": "2021-04-01T01:51:21.581794Z",
     "shell.execute_reply.started": "2021-04-01T01:51:21.559853Z"
    }
   },
   "outputs": [
    {
     "data": {
      "text/plain": [
       "array([1, 2, 3, 4, 5])"
      ]
     },
     "execution_count": 5,
     "metadata": {},
     "output_type": "execute_result"
    }
   ],
   "source": [
    "1 + a"
   ]
  },
  {
   "cell_type": "code",
   "execution_count": 6,
   "metadata": {
    "execution": {
     "iopub.execute_input": "2021-04-01T01:51:32.586321Z",
     "iopub.status.busy": "2021-04-01T01:51:32.585323Z",
     "iopub.status.idle": "2021-04-01T01:51:32.593302Z",
     "shell.execute_reply": "2021-04-01T01:51:32.592304Z",
     "shell.execute_reply.started": "2021-04-01T01:51:32.586321Z"
    }
   },
   "outputs": [
    {
     "data": {
      "text/plain": [
       "array([[0, 1, 2],\n",
       "       [3, 4, 5]])"
      ]
     },
     "execution_count": 6,
     "metadata": {},
     "output_type": "execute_result"
    }
   ],
   "source": [
    "a = np.arange(6).reshape((2, 3))\n",
    "a"
   ]
  },
  {
   "cell_type": "code",
   "execution_count": 7,
   "metadata": {
    "execution": {
     "iopub.execute_input": "2021-04-01T01:51:46.005545Z",
     "iopub.status.busy": "2021-04-01T01:51:46.005545Z",
     "iopub.status.idle": "2021-04-01T01:51:46.025492Z",
     "shell.execute_reply": "2021-04-01T01:51:46.024494Z",
     "shell.execute_reply.started": "2021-04-01T01:51:46.005545Z"
    }
   },
   "outputs": [
    {
     "data": {
      "text/plain": [
       "array([1, 2, 3])"
      ]
     },
     "execution_count": 7,
     "metadata": {},
     "output_type": "execute_result"
    }
   ],
   "source": [
    "b = np.array([1, 2, 3])\n",
    "b"
   ]
  },
  {
   "cell_type": "code",
   "execution_count": 8,
   "metadata": {
    "execution": {
     "iopub.execute_input": "2021-04-01T01:51:48.690383Z",
     "iopub.status.busy": "2021-04-01T01:51:48.690383Z",
     "iopub.status.idle": "2021-04-01T01:51:48.709332Z",
     "shell.execute_reply": "2021-04-01T01:51:48.708335Z",
     "shell.execute_reply.started": "2021-04-01T01:51:48.690383Z"
    }
   },
   "outputs": [
    {
     "data": {
      "text/plain": [
       "array([[1, 3, 5],\n",
       "       [4, 6, 8]])"
      ]
     },
     "execution_count": 8,
     "metadata": {},
     "output_type": "execute_result"
    }
   ],
   "source": [
    "a + b"
   ]
  },
  {
   "cell_type": "code",
   "execution_count": 9,
   "metadata": {
    "execution": {
     "iopub.execute_input": "2021-04-01T01:52:04.639569Z",
     "iopub.status.busy": "2021-04-01T01:52:04.638571Z",
     "iopub.status.idle": "2021-04-01T01:52:04.659515Z",
     "shell.execute_reply": "2021-04-01T01:52:04.658518Z",
     "shell.execute_reply.started": "2021-04-01T01:52:04.639569Z"
    }
   },
   "outputs": [
    {
     "data": {
      "text/plain": [
       "array([[1, 1, 1],\n",
       "       [1, 1, 1]])"
      ]
     },
     "execution_count": 9,
     "metadata": {},
     "output_type": "execute_result"
    }
   ],
   "source": [
    "a = np.ones((2, 3), dtype = np.int_)\n",
    "a"
   ]
  },
  {
   "cell_type": "code",
   "execution_count": 10,
   "metadata": {
    "execution": {
     "iopub.execute_input": "2021-04-01T01:52:21.216959Z",
     "iopub.status.busy": "2021-04-01T01:52:21.216959Z",
     "iopub.status.idle": "2021-04-01T01:52:21.228927Z",
     "shell.execute_reply": "2021-04-01T01:52:21.227971Z",
     "shell.execute_reply.started": "2021-04-01T01:52:21.216959Z"
    }
   },
   "outputs": [
    {
     "data": {
      "text/plain": [
       "array([[1],\n",
       "       [2]])"
      ]
     },
     "execution_count": 10,
     "metadata": {},
     "output_type": "execute_result"
    }
   ],
   "source": [
    "b = np.array([[1],\n",
    "              [2]])\n",
    "b"
   ]
  },
  {
   "cell_type": "code",
   "execution_count": 11,
   "metadata": {
    "execution": {
     "iopub.execute_input": "2021-04-01T01:52:25.199974Z",
     "iopub.status.busy": "2021-04-01T01:52:25.198983Z",
     "iopub.status.idle": "2021-04-01T01:52:25.207915Z",
     "shell.execute_reply": "2021-04-01T01:52:25.206918Z",
     "shell.execute_reply.started": "2021-04-01T01:52:25.199974Z"
    }
   },
   "outputs": [
    {
     "data": {
      "text/plain": [
       "array([[2, 2, 2],\n",
       "       [3, 3, 3]])"
      ]
     },
     "execution_count": 11,
     "metadata": {},
     "output_type": "execute_result"
    }
   ],
   "source": [
    "a + b"
   ]
  },
  {
   "cell_type": "code",
   "execution_count": 12,
   "metadata": {
    "execution": {
     "iopub.execute_input": "2021-04-01T01:52:34.061923Z",
     "iopub.status.busy": "2021-04-01T01:52:34.061923Z",
     "iopub.status.idle": "2021-04-01T01:52:34.074885Z",
     "shell.execute_reply": "2021-04-01T01:52:34.073888Z",
     "shell.execute_reply.started": "2021-04-01T01:52:34.061923Z"
    }
   },
   "outputs": [
    {
     "data": {
      "text/plain": [
       "array([3, 8, 9, 8, 8])"
      ]
     },
     "execution_count": 12,
     "metadata": {},
     "output_type": "execute_result"
    }
   ],
   "source": [
    "x = np.random.randint(1, 10, 5)\n",
    "x"
   ]
  },
  {
   "cell_type": "code",
   "execution_count": 13,
   "metadata": {
    "execution": {
     "iopub.execute_input": "2021-04-01T01:52:40.016878Z",
     "iopub.status.busy": "2021-04-01T01:52:40.016878Z",
     "iopub.status.idle": "2021-04-01T01:52:40.026849Z",
     "shell.execute_reply": "2021-04-01T01:52:40.025853Z",
     "shell.execute_reply.started": "2021-04-01T01:52:40.016878Z"
    }
   },
   "outputs": [
    {
     "data": {
      "text/plain": [
       "array([ 7, 17, 19, 17, 17])"
      ]
     },
     "execution_count": 13,
     "metadata": {},
     "output_type": "execute_result"
    }
   ],
   "source": [
    "y = 2 * x + 1\n",
    "y"
   ]
  },
  {
   "cell_type": "code",
   "execution_count": 16,
   "metadata": {
    "execution": {
     "iopub.execute_input": "2021-04-01T01:53:06.491121Z",
     "iopub.status.busy": "2021-04-01T01:53:06.490124Z",
     "iopub.status.idle": "2021-04-01T01:53:06.635492Z",
     "shell.execute_reply": "2021-04-01T01:53:06.634479Z",
     "shell.execute_reply.started": "2021-04-01T01:53:06.491121Z"
    }
   },
   "outputs": [
    {
     "data": {
      "image/png": "[encoded data removed]",
      "text/plain": [
       "<Figure size 432x288 with 1 Axes>"
      ]
     },
     "metadata": {
      "needs_background": "light"
     },
     "output_type": "display_data"
    }
   ],
   "source": [
    "plt.plot(x, y, 'o-')\n",
    "plt.show()"
   ]
  },
  {
   "cell_type": "code",
   "execution_count": 17,
   "metadata": {
    "execution": {
     "iopub.execute_input": "2021-04-01T01:53:30.187529Z",
     "iopub.status.busy": "2021-04-01T01:53:30.186531Z",
     "iopub.status.idle": "2021-04-01T01:53:30.209442Z",
     "shell.execute_reply": "2021-04-01T01:53:30.208444Z",
     "shell.execute_reply.started": "2021-04-01T01:53:30.187529Z"
    }
   },
   "outputs": [
    {
     "data": {
      "text/plain": [
       "array([3, 8, 9, 8, 8])"
      ]
     },
     "execution_count": 17,
     "metadata": {},
     "output_type": "execute_result"
    }
   ],
   "source": [
    "x"
   ]
  },
  {
   "cell_type": "code",
   "execution_count": 18,
   "metadata": {
    "execution": {
     "iopub.execute_input": "2021-04-01T01:53:37.619001Z",
     "iopub.status.busy": "2021-04-01T01:53:37.618005Z",
     "iopub.status.idle": "2021-04-01T01:53:37.640944Z",
     "shell.execute_reply": "2021-04-01T01:53:37.639945Z",
     "shell.execute_reply.started": "2021-04-01T01:53:37.619001Z"
    }
   },
   "outputs": [
    {
     "data": {
      "text/plain": [
       "(36, 36)"
      ]
     },
     "execution_count": 18,
     "metadata": {},
     "output_type": "execute_result"
    }
   ],
   "source": [
    "np.sum(x), x.sum()"
   ]
  },
  {
   "cell_type": "code",
   "execution_count": 19,
   "metadata": {
    "execution": {
     "iopub.execute_input": "2021-04-01T01:53:42.478292Z",
     "iopub.status.busy": "2021-04-01T01:53:42.478292Z",
     "iopub.status.idle": "2021-04-01T01:53:42.501193Z",
     "shell.execute_reply": "2021-04-01T01:53:42.500198Z",
     "shell.execute_reply.started": "2021-04-01T01:53:42.478292Z"
    }
   },
   "outputs": [
    {
     "data": {
      "text/plain": [
       "7.2"
      ]
     },
     "execution_count": 19,
     "metadata": {},
     "output_type": "execute_result"
    }
   ],
   "source": [
    "np.mean(x)"
   ]
  },
  {
   "cell_type": "code",
   "execution_count": 20,
   "metadata": {
    "execution": {
     "iopub.execute_input": "2021-04-01T01:53:45.241969Z",
     "iopub.status.busy": "2021-04-01T01:53:45.241969Z",
     "iopub.status.idle": "2021-04-01T01:53:45.251943Z",
     "shell.execute_reply": "2021-04-01T01:53:45.250944Z",
     "shell.execute_reply.started": "2021-04-01T01:53:45.241969Z"
    }
   },
   "outputs": [
    {
     "data": {
      "text/plain": [
       "2.1354156504062622"
      ]
     },
     "execution_count": 20,
     "metadata": {},
     "output_type": "execute_result"
    }
   ],
   "source": [
    "np.std(x)"
   ]
  },
  {
   "cell_type": "markdown",
   "metadata": {},
   "source": [
    "## standardization\n",
    "**$(x-mean(x))/std(x)$**"
   ]
  },
  {
   "cell_type": "code",
   "execution_count": 22,
   "metadata": {
    "execution": {
     "iopub.execute_input": "2021-04-01T01:55:19.118114Z",
     "iopub.status.busy": "2021-04-01T01:55:19.117082Z",
     "iopub.status.idle": "2021-04-01T01:55:19.126057Z",
     "shell.execute_reply": "2021-04-01T01:55:19.125059Z",
     "shell.execute_reply.started": "2021-04-01T01:55:19.118114Z"
    }
   },
   "outputs": [
    {
     "data": {
      "text/plain": [
       "array([-1.9668302 ,  0.37463432,  0.84292723,  0.37463432,  0.37463432])"
      ]
     },
     "execution_count": 22,
     "metadata": {},
     "output_type": "execute_result"
    }
   ],
   "source": [
    "z = (x - np.mean(x))/np.std(x)\n",
    "z"
   ]
  },
  {
   "cell_type": "code",
   "execution_count": 23,
   "metadata": {
    "execution": {
     "iopub.execute_input": "2021-04-01T01:55:24.479873Z",
     "iopub.status.busy": "2021-04-01T01:55:24.479873Z",
     "iopub.status.idle": "2021-04-01T01:55:24.501813Z",
     "shell.execute_reply": "2021-04-01T01:55:24.500815Z",
     "shell.execute_reply.started": "2021-04-01T01:55:24.479873Z"
    }
   },
   "outputs": [
    {
     "data": {
      "text/plain": [
       "-6.661338147750939e-17"
      ]
     },
     "execution_count": 23,
     "metadata": {},
     "output_type": "execute_result"
    }
   ],
   "source": [
    "np.mean(z) #> mean=0"
   ]
  },
  {
   "cell_type": "code",
   "execution_count": 24,
   "metadata": {
    "execution": {
     "iopub.execute_input": "2021-04-01T01:55:28.062866Z",
     "iopub.status.busy": "2021-04-01T01:55:28.062866Z",
     "iopub.status.idle": "2021-04-01T01:55:28.076829Z",
     "shell.execute_reply": "2021-04-01T01:55:28.075831Z",
     "shell.execute_reply.started": "2021-04-01T01:55:28.062866Z"
    }
   },
   "outputs": [
    {
     "data": {
      "text/plain": [
       "0.9999999999999998"
      ]
     },
     "execution_count": 24,
     "metadata": {},
     "output_type": "execute_result"
    }
   ],
   "source": [
    "np.std(z) #> stddev=1"
   ]
  },
  {
   "cell_type": "markdown",
   "metadata": {},
   "source": [
    "# example : iris dataset"
   ]
  },
  {
   "cell_type": "code",
   "execution_count": 26,
   "metadata": {
    "execution": {
     "iopub.execute_input": "2021-04-01T01:56:01.680027Z",
     "iopub.status.busy": "2021-04-01T01:56:01.680027Z",
     "iopub.status.idle": "2021-04-01T01:56:02.904283Z",
     "shell.execute_reply": "2021-04-01T01:56:02.902782Z",
     "shell.execute_reply.started": "2021-04-01T01:56:01.680027Z"
    }
   },
   "outputs": [],
   "source": [
    "import pandas as pd\n",
    "import seaborn as sns"
   ]
  },
  {
   "cell_type": "code",
   "execution_count": 27,
   "metadata": {
    "execution": {
     "iopub.execute_input": "2021-04-01T01:56:10.401780Z",
     "iopub.status.busy": "2021-04-01T01:56:10.401780Z",
     "iopub.status.idle": "2021-04-01T01:56:10.444666Z",
     "shell.execute_reply": "2021-04-01T01:56:10.443667Z",
     "shell.execute_reply.started": "2021-04-01T01:56:10.401780Z"
    }
   },
   "outputs": [
    {
     "data": {
      "text/html": [
       "<div>\n",
       "<style scoped>\n",
       "    .dataframe tbody tr th:only-of-type {\n",
       "        vertical-align: middle;\n",
       "    }\n",
       "\n",
       "    .dataframe tbody tr th {\n",
       "        vertical-align: top;\n",
       "    }\n",
       "\n",
       "    .dataframe thead th {\n",
       "        text-align: right;\n",
       "    }\n",
       "</style>\n",
       "<table border=\"1\" class=\"dataframe\">\n",
       "  <thead>\n",
       "    <tr style=\"text-align: right;\">\n",
       "      <th></th>\n",
       "      <th>sepal_length</th>\n",
       "      <th>sepal_width</th>\n",
       "      <th>petal_length</th>\n",
       "      <th>petal_width</th>\n",
       "      <th>species</th>\n",
       "    </tr>\n",
       "  </thead>\n",
       "  <tbody>\n",
       "    <tr>\n",
       "      <th>0</th>\n",
       "      <td>5.1</td>\n",
       "      <td>3.5</td>\n",
       "      <td>1.4</td>\n",
       "      <td>0.2</td>\n",
       "      <td>setosa</td>\n",
       "    </tr>\n",
       "    <tr>\n",
       "      <th>1</th>\n",
       "      <td>4.9</td>\n",
       "      <td>3.0</td>\n",
       "      <td>1.4</td>\n",
       "      <td>0.2</td>\n",
       "      <td>setosa</td>\n",
       "    </tr>\n",
       "    <tr>\n",
       "      <th>2</th>\n",
       "      <td>4.7</td>\n",
       "      <td>3.2</td>\n",
       "      <td>1.3</td>\n",
       "      <td>0.2</td>\n",
       "      <td>setosa</td>\n",
       "    </tr>\n",
       "    <tr>\n",
       "      <th>3</th>\n",
       "      <td>4.6</td>\n",
       "      <td>3.1</td>\n",
       "      <td>1.5</td>\n",
       "      <td>0.2</td>\n",
       "      <td>setosa</td>\n",
       "    </tr>\n",
       "    <tr>\n",
       "      <th>4</th>\n",
       "      <td>5.0</td>\n",
       "      <td>3.6</td>\n",
       "      <td>1.4</td>\n",
       "      <td>0.2</td>\n",
       "      <td>setosa</td>\n",
       "    </tr>\n",
       "  </tbody>\n",
       "</table>\n",
       "</div>"
      ],
      "text/plain": [
       "   sepal_length  sepal_width  petal_length  petal_width species\n",
       "0           5.1          3.5           1.4          0.2  setosa\n",
       "1           4.9          3.0           1.4          0.2  setosa\n",
       "2           4.7          3.2           1.3          0.2  setosa\n",
       "3           4.6          3.1           1.5          0.2  setosa\n",
       "4           5.0          3.6           1.4          0.2  setosa"
      ]
     },
     "execution_count": 27,
     "metadata": {},
     "output_type": "execute_result"
    }
   ],
   "source": [
    "iris = sns.load_dataset('iris')\n",
    "iris.head()"
   ]
  },
  {
   "cell_type": "code",
   "execution_count": 28,
   "metadata": {
    "execution": {
     "iopub.execute_input": "2021-04-01T01:56:17.639167Z",
     "iopub.status.busy": "2021-04-01T01:56:17.639167Z",
     "iopub.status.idle": "2021-04-01T01:56:17.670085Z",
     "shell.execute_reply": "2021-04-01T01:56:17.669087Z",
     "shell.execute_reply.started": "2021-04-01T01:56:17.639167Z"
    }
   },
   "outputs": [
    {
     "data": {
      "text/html": [
       "<div>\n",
       "<style scoped>\n",
       "    .dataframe tbody tr th:only-of-type {\n",
       "        vertical-align: middle;\n",
       "    }\n",
       "\n",
       "    .dataframe tbody tr th {\n",
       "        vertical-align: top;\n",
       "    }\n",
       "\n",
       "    .dataframe thead th {\n",
       "        text-align: right;\n",
       "    }\n",
       "</style>\n",
       "<table border=\"1\" class=\"dataframe\">\n",
       "  <thead>\n",
       "    <tr style=\"text-align: right;\">\n",
       "      <th></th>\n",
       "      <th>sepal_length</th>\n",
       "      <th>sepal_width</th>\n",
       "      <th>petal_length</th>\n",
       "      <th>petal_width</th>\n",
       "    </tr>\n",
       "  </thead>\n",
       "  <tbody>\n",
       "    <tr>\n",
       "      <th>count</th>\n",
       "      <td>150.000000</td>\n",
       "      <td>150.000000</td>\n",
       "      <td>150.000000</td>\n",
       "      <td>150.000000</td>\n",
       "    </tr>\n",
       "    <tr>\n",
       "      <th>mean</th>\n",
       "      <td>5.843333</td>\n",
       "      <td>3.057333</td>\n",
       "      <td>3.758000</td>\n",
       "      <td>1.199333</td>\n",
       "    </tr>\n",
       "    <tr>\n",
       "      <th>std</th>\n",
       "      <td>0.828066</td>\n",
       "      <td>0.435866</td>\n",
       "      <td>1.765298</td>\n",
       "      <td>0.762238</td>\n",
       "    </tr>\n",
       "    <tr>\n",
       "      <th>min</th>\n",
       "      <td>4.300000</td>\n",
       "      <td>2.000000</td>\n",
       "      <td>1.000000</td>\n",
       "      <td>0.100000</td>\n",
       "    </tr>\n",
       "    <tr>\n",
       "      <th>25%</th>\n",
       "      <td>5.100000</td>\n",
       "      <td>2.800000</td>\n",
       "      <td>1.600000</td>\n",
       "      <td>0.300000</td>\n",
       "    </tr>\n",
       "    <tr>\n",
       "      <th>50%</th>\n",
       "      <td>5.800000</td>\n",
       "      <td>3.000000</td>\n",
       "      <td>4.350000</td>\n",
       "      <td>1.300000</td>\n",
       "    </tr>\n",
       "    <tr>\n",
       "      <th>75%</th>\n",
       "      <td>6.400000</td>\n",
       "      <td>3.300000</td>\n",
       "      <td>5.100000</td>\n",
       "      <td>1.800000</td>\n",
       "    </tr>\n",
       "    <tr>\n",
       "      <th>max</th>\n",
       "      <td>7.900000</td>\n",
       "      <td>4.400000</td>\n",
       "      <td>6.900000</td>\n",
       "      <td>2.500000</td>\n",
       "    </tr>\n",
       "  </tbody>\n",
       "</table>\n",
       "</div>"
      ],
      "text/plain": [
       "       sepal_length  sepal_width  petal_length  petal_width\n",
       "count    150.000000   150.000000    150.000000   150.000000\n",
       "mean       5.843333     3.057333      3.758000     1.199333\n",
       "std        0.828066     0.435866      1.765298     0.762238\n",
       "min        4.300000     2.000000      1.000000     0.100000\n",
       "25%        5.100000     2.800000      1.600000     0.300000\n",
       "50%        5.800000     3.000000      4.350000     1.300000\n",
       "75%        6.400000     3.300000      5.100000     1.800000\n",
       "max        7.900000     4.400000      6.900000     2.500000"
      ]
     },
     "execution_count": 28,
     "metadata": {},
     "output_type": "execute_result"
    }
   ],
   "source": [
    "iris.describe()"
   ]
  },
  {
   "cell_type": "code",
   "execution_count": 29,
   "metadata": {
    "execution": {
     "iopub.execute_input": "2021-04-01T01:56:28.181699Z",
     "iopub.status.busy": "2021-04-01T01:56:28.181699Z",
     "iopub.status.idle": "2021-04-01T01:56:28.199897Z",
     "shell.execute_reply": "2021-04-01T01:56:28.198897Z",
     "shell.execute_reply.started": "2021-04-01T01:56:28.181699Z"
    }
   },
   "outputs": [
    {
     "data": {
      "text/html": [
       "<div>\n",
       "<style scoped>\n",
       "    .dataframe tbody tr th:only-of-type {\n",
       "        vertical-align: middle;\n",
       "    }\n",
       "\n",
       "    .dataframe tbody tr th {\n",
       "        vertical-align: top;\n",
       "    }\n",
       "\n",
       "    .dataframe thead th {\n",
       "        text-align: right;\n",
       "    }\n",
       "</style>\n",
       "<table border=\"1\" class=\"dataframe\">\n",
       "  <thead>\n",
       "    <tr style=\"text-align: right;\">\n",
       "      <th></th>\n",
       "      <th>sepal_length</th>\n",
       "      <th>sepal_width</th>\n",
       "      <th>petal_length</th>\n",
       "      <th>petal_width</th>\n",
       "    </tr>\n",
       "  </thead>\n",
       "  <tbody>\n",
       "    <tr>\n",
       "      <th>0</th>\n",
       "      <td>5.1</td>\n",
       "      <td>3.5</td>\n",
       "      <td>1.4</td>\n",
       "      <td>0.2</td>\n",
       "    </tr>\n",
       "    <tr>\n",
       "      <th>1</th>\n",
       "      <td>4.9</td>\n",
       "      <td>3.0</td>\n",
       "      <td>1.4</td>\n",
       "      <td>0.2</td>\n",
       "    </tr>\n",
       "    <tr>\n",
       "      <th>2</th>\n",
       "      <td>4.7</td>\n",
       "      <td>3.2</td>\n",
       "      <td>1.3</td>\n",
       "      <td>0.2</td>\n",
       "    </tr>\n",
       "    <tr>\n",
       "      <th>3</th>\n",
       "      <td>4.6</td>\n",
       "      <td>3.1</td>\n",
       "      <td>1.5</td>\n",
       "      <td>0.2</td>\n",
       "    </tr>\n",
       "    <tr>\n",
       "      <th>4</th>\n",
       "      <td>5.0</td>\n",
       "      <td>3.6</td>\n",
       "      <td>1.4</td>\n",
       "      <td>0.2</td>\n",
       "    </tr>\n",
       "  </tbody>\n",
       "</table>\n",
       "</div>"
      ],
      "text/plain": [
       "   sepal_length  sepal_width  petal_length  petal_width\n",
       "0           5.1          3.5           1.4          0.2\n",
       "1           4.9          3.0           1.4          0.2\n",
       "2           4.7          3.2           1.3          0.2\n",
       "3           4.6          3.1           1.5          0.2\n",
       "4           5.0          3.6           1.4          0.2"
      ]
     },
     "execution_count": 29,
     "metadata": {},
     "output_type": "execute_result"
    }
   ],
   "source": [
    "X = iris.iloc[:, :4]\n",
    "X.head()"
   ]
  },
  {
   "cell_type": "markdown",
   "metadata": {},
   "source": [
    "## .values \n",
    "* DataFrame 값들만 갖는 2d ndarray"
   ]
  },
  {
   "cell_type": "code",
   "execution_count": 30,
   "metadata": {
    "execution": {
     "iopub.execute_input": "2021-04-01T01:57:01.225582Z",
     "iopub.status.busy": "2021-04-01T01:57:01.225582Z",
     "iopub.status.idle": "2021-04-01T01:57:01.247525Z",
     "shell.execute_reply": "2021-04-01T01:57:01.246525Z",
     "shell.execute_reply.started": "2021-04-01T01:57:01.225582Z"
    }
   },
   "outputs": [
    {
     "data": {
      "text/plain": [
       "array([[5.1, 3.5, 1.4, 0.2],\n",
       "       [4.9, 3. , 1.4, 0.2],\n",
       "       [4.7, 3.2, 1.3, 0.2],\n",
       "       [4.6, 3.1, 1.5, 0.2],\n",
       "       [5. , 3.6, 1.4, 0.2]])"
      ]
     },
     "execution_count": 30,
     "metadata": {},
     "output_type": "execute_result"
    }
   ],
   "source": [
    "X = X.values\n",
    "X[:5]"
   ]
  },
  {
   "cell_type": "code",
   "execution_count": 31,
   "metadata": {
    "execution": {
     "iopub.execute_input": "2021-04-01T01:57:04.583155Z",
     "iopub.status.busy": "2021-04-01T01:57:04.583155Z",
     "iopub.status.idle": "2021-04-01T01:57:04.591134Z",
     "shell.execute_reply": "2021-04-01T01:57:04.590137Z",
     "shell.execute_reply.started": "2021-04-01T01:57:04.583155Z"
    }
   },
   "outputs": [
    {
     "data": {
      "text/plain": [
       "(150, 4)"
      ]
     },
     "execution_count": 31,
     "metadata": {},
     "output_type": "execute_result"
    }
   ],
   "source": [
    "X.shape"
   ]
  },
  {
   "cell_type": "code",
   "execution_count": 32,
   "metadata": {
    "execution": {
     "iopub.execute_input": "2021-04-01T01:57:08.212252Z",
     "iopub.status.busy": "2021-04-01T01:57:08.212252Z",
     "iopub.status.idle": "2021-04-01T01:57:08.217249Z",
     "shell.execute_reply": "2021-04-01T01:57:08.217249Z",
     "shell.execute_reply.started": "2021-04-01T01:57:08.212252Z"
    }
   },
   "outputs": [
    {
     "data": {
      "text/plain": [
       "2078.7"
      ]
     },
     "execution_count": 32,
     "metadata": {},
     "output_type": "execute_result"
    }
   ],
   "source": [
    "np.sum(X)"
   ]
  },
  {
   "cell_type": "code",
   "execution_count": 33,
   "metadata": {
    "execution": {
     "iopub.execute_input": "2021-04-01T01:57:12.124740Z",
     "iopub.status.busy": "2021-04-01T01:57:12.124740Z",
     "iopub.status.idle": "2021-04-01T01:57:12.145680Z",
     "shell.execute_reply": "2021-04-01T01:57:12.144685Z",
     "shell.execute_reply.started": "2021-04-01T01:57:12.124740Z"
    }
   },
   "outputs": [
    {
     "data": {
      "text/plain": [
       "array([876.5, 458.6, 563.7, 179.9])"
      ]
     },
     "execution_count": 33,
     "metadata": {},
     "output_type": "execute_result"
    }
   ],
   "source": [
    "np.sum(X, axis = 0)"
   ]
  },
  {
   "cell_type": "code",
   "execution_count": 35,
   "metadata": {
    "execution": {
     "iopub.execute_input": "2021-04-01T01:57:31.511976Z",
     "iopub.status.busy": "2021-04-01T01:57:31.510979Z",
     "iopub.status.idle": "2021-04-01T01:57:31.531984Z",
     "shell.execute_reply": "2021-04-01T01:57:31.530988Z",
     "shell.execute_reply.started": "2021-04-01T01:57:31.511976Z"
    }
   },
   "outputs": [
    {
     "data": {
      "text/plain": [
       "array([[876.5, 458.6, 563.7, 179.9]])"
      ]
     },
     "execution_count": 35,
     "metadata": {},
     "output_type": "execute_result"
    }
   ],
   "source": [
    "np.sum(X, axis = 0, keepdims = True) #> (1,4)"
   ]
  },
  {
   "cell_type": "code",
   "execution_count": 36,
   "metadata": {
    "execution": {
     "iopub.execute_input": "2021-04-01T01:57:35.368571Z",
     "iopub.status.busy": "2021-04-01T01:57:35.368571Z",
     "iopub.status.idle": "2021-04-01T01:57:35.388517Z",
     "shell.execute_reply": "2021-04-01T01:57:35.387520Z",
     "shell.execute_reply.started": "2021-04-01T01:57:35.368571Z"
    }
   },
   "outputs": [
    {
     "data": {
      "text/plain": [
       "array([10.2,  9.5,  9.4,  9.4, 10.2, 11.4,  9.7, 10.1,  8.9,  9.6, 10.8,\n",
       "       10. ,  9.3,  8.5, 11.2, 12. , 11. , 10.3, 11.5, 10.7, 10.7, 10.7,\n",
       "        9.4, 10.6, 10.3,  9.8, 10.4, 10.4, 10.2,  9.7,  9.7, 10.7, 10.9,\n",
       "       11.3,  9.7,  9.6, 10.5, 10. ,  8.9, 10.2, 10.1,  8.4,  9.1, 10.7,\n",
       "       11.2,  9.5, 10.7,  9.4, 10.7,  9.9, 16.3, 15.6, 16.4, 13.1, 15.4,\n",
       "       14.3, 15.9, 11.6, 15.4, 13.2, 11.5, 14.6, 13.2, 15.1, 13.4, 15.6,\n",
       "       14.6, 13.6, 14.4, 13.1, 15.7, 14.2, 15.2, 14.8, 14.9, 15.4, 15.8,\n",
       "       16.4, 14.9, 12.8, 12.8, 12.6, 13.6, 15.4, 14.4, 15.5, 16. , 14.3,\n",
       "       14. , 13.3, 13.7, 15.1, 13.6, 11.6, 13.8, 14.1, 14.1, 14.7, 11.7,\n",
       "       13.9, 18.1, 15.5, 18.1, 16.6, 17.5, 19.3, 13.6, 18.3, 16.8, 19.4,\n",
       "       16.8, 16.3, 17.4, 15.2, 16.1, 17.2, 16.8, 20.4, 19.5, 14.7, 18.1,\n",
       "       15.3, 19.2, 15.7, 17.8, 18.2, 15.6, 15.8, 16.9, 17.6, 18.2, 20.1,\n",
       "       17. , 15.7, 15.7, 19.1, 17.7, 16.8, 15.6, 17.5, 17.8, 17.4, 15.5,\n",
       "       18.2, 18.2, 17.2, 15.7, 16.7, 17.3, 15.8])"
      ]
     },
     "execution_count": 36,
     "metadata": {},
     "output_type": "execute_result"
    }
   ],
   "source": [
    "np.sum(X, axis = 1)"
   ]
  },
  {
   "cell_type": "code",
   "execution_count": 37,
   "metadata": {
    "execution": {
     "iopub.execute_input": "2021-04-01T01:57:46.960374Z",
     "iopub.status.busy": "2021-04-01T01:57:46.960374Z",
     "iopub.status.idle": "2021-04-01T01:57:46.976330Z",
     "shell.execute_reply": "2021-04-01T01:57:46.975332Z",
     "shell.execute_reply.started": "2021-04-01T01:57:46.960374Z"
    }
   },
   "outputs": [
    {
     "data": {
      "text/plain": [
       "array([[10.2],\n",
       "       [ 9.5],\n",
       "       [ 9.4],\n",
       "       [ 9.4],\n",
       "       [10.2],\n",
       "       [11.4],\n",
       "       [ 9.7],\n",
       "       [10.1],\n",
       "       [ 8.9],\n",
       "       [ 9.6],\n",
       "       [10.8],\n",
       "       [10. ],\n",
       "       [ 9.3],\n",
       "       [ 8.5],\n",
       "       [11.2],\n",
       "       [12. ],\n",
       "       [11. ],\n",
       "       [10.3],\n",
       "       [11.5],\n",
       "       [10.7],\n",
       "       [10.7],\n",
       "       [10.7],\n",
       "       [ 9.4],\n",
       "       [10.6],\n",
       "       [10.3],\n",
       "       [ 9.8],\n",
       "       [10.4],\n",
       "       [10.4],\n",
       "       [10.2],\n",
       "       [ 9.7],\n",
       "       [ 9.7],\n",
       "       [10.7],\n",
       "       [10.9],\n",
       "       [11.3],\n",
       "       [ 9.7],\n",
       "       [ 9.6],\n",
       "       [10.5],\n",
       "       [10. ],\n",
       "       [ 8.9],\n",
       "       [10.2],\n",
       "       [10.1],\n",
       "       [ 8.4],\n",
       "       [ 9.1],\n",
       "       [10.7],\n",
       "       [11.2],\n",
       "       [ 9.5],\n",
       "       [10.7],\n",
       "       [ 9.4],\n",
       "       [10.7],\n",
       "       [ 9.9],\n",
       "       [16.3],\n",
       "       [15.6],\n",
       "       [16.4],\n",
       "       [13.1],\n",
       "       [15.4],\n",
       "       [14.3],\n",
       "       [15.9],\n",
       "       [11.6],\n",
       "       [15.4],\n",
       "       [13.2],\n",
       "       [11.5],\n",
       "       [14.6],\n",
       "       [13.2],\n",
       "       [15.1],\n",
       "       [13.4],\n",
       "       [15.6],\n",
       "       [14.6],\n",
       "       [13.6],\n",
       "       [14.4],\n",
       "       [13.1],\n",
       "       [15.7],\n",
       "       [14.2],\n",
       "       [15.2],\n",
       "       [14.8],\n",
       "       [14.9],\n",
       "       [15.4],\n",
       "       [15.8],\n",
       "       [16.4],\n",
       "       [14.9],\n",
       "       [12.8],\n",
       "       [12.8],\n",
       "       [12.6],\n",
       "       [13.6],\n",
       "       [15.4],\n",
       "       [14.4],\n",
       "       [15.5],\n",
       "       [16. ],\n",
       "       [14.3],\n",
       "       [14. ],\n",
       "       [13.3],\n",
       "       [13.7],\n",
       "       [15.1],\n",
       "       [13.6],\n",
       "       [11.6],\n",
       "       [13.8],\n",
       "       [14.1],\n",
       "       [14.1],\n",
       "       [14.7],\n",
       "       [11.7],\n",
       "       [13.9],\n",
       "       [18.1],\n",
       "       [15.5],\n",
       "       [18.1],\n",
       "       [16.6],\n",
       "       [17.5],\n",
       "       [19.3],\n",
       "       [13.6],\n",
       "       [18.3],\n",
       "       [16.8],\n",
       "       [19.4],\n",
       "       [16.8],\n",
       "       [16.3],\n",
       "       [17.4],\n",
       "       [15.2],\n",
       "       [16.1],\n",
       "       [17.2],\n",
       "       [16.8],\n",
       "       [20.4],\n",
       "       [19.5],\n",
       "       [14.7],\n",
       "       [18.1],\n",
       "       [15.3],\n",
       "       [19.2],\n",
       "       [15.7],\n",
       "       [17.8],\n",
       "       [18.2],\n",
       "       [15.6],\n",
       "       [15.8],\n",
       "       [16.9],\n",
       "       [17.6],\n",
       "       [18.2],\n",
       "       [20.1],\n",
       "       [17. ],\n",
       "       [15.7],\n",
       "       [15.7],\n",
       "       [19.1],\n",
       "       [17.7],\n",
       "       [16.8],\n",
       "       [15.6],\n",
       "       [17.5],\n",
       "       [17.8],\n",
       "       [17.4],\n",
       "       [15.5],\n",
       "       [18.2],\n",
       "       [18.2],\n",
       "       [17.2],\n",
       "       [15.7],\n",
       "       [16.7],\n",
       "       [17.3],\n",
       "       [15.8]])"
      ]
     },
     "execution_count": 37,
     "metadata": {},
     "output_type": "execute_result"
    }
   ],
   "source": [
    "np.sum(X, axis = 1, keepdims = True)"
   ]
  },
  {
   "cell_type": "markdown",
   "metadata": {},
   "source": [
    "## standardization"
   ]
  },
  {
   "cell_type": "code",
   "execution_count": 38,
   "metadata": {
    "execution": {
     "iopub.execute_input": "2021-04-01T01:58:24.606386Z",
     "iopub.status.busy": "2021-04-01T01:58:24.605357Z",
     "iopub.status.idle": "2021-04-01T01:58:24.628295Z",
     "shell.execute_reply": "2021-04-01T01:58:24.627338Z",
     "shell.execute_reply.started": "2021-04-01T01:58:24.605357Z"
    }
   },
   "outputs": [
    {
     "data": {
      "text/plain": [
       "(150, 4)"
      ]
     },
     "execution_count": 38,
     "metadata": {},
     "output_type": "execute_result"
    }
   ],
   "source": [
    "Z = (X - np.mean(X, axis = 0, keepdims = True))/np.std(X, axis = 0, keepdims = True)\n",
    "Z.shape"
   ]
  },
  {
   "cell_type": "code",
   "execution_count": 39,
   "metadata": {
    "execution": {
     "iopub.execute_input": "2021-04-01T01:58:27.140235Z",
     "iopub.status.busy": "2021-04-01T01:58:27.140235Z",
     "iopub.status.idle": "2021-04-01T01:58:27.150208Z",
     "shell.execute_reply": "2021-04-01T01:58:27.150208Z",
     "shell.execute_reply.started": "2021-04-01T01:58:27.140235Z"
    }
   },
   "outputs": [
    {
     "data": {
      "text/plain": [
       "array([[-0.90068117,  1.01900435, -1.34022653, -1.3154443 ],\n",
       "       [-1.14301691, -0.13197948, -1.34022653, -1.3154443 ],\n",
       "       [-1.38535265,  0.32841405, -1.39706395, -1.3154443 ],\n",
       "       [-1.50652052,  0.09821729, -1.2833891 , -1.3154443 ],\n",
       "       [-1.02184904,  1.24920112, -1.34022653, -1.3154443 ]])"
      ]
     },
     "execution_count": 39,
     "metadata": {},
     "output_type": "execute_result"
    }
   ],
   "source": [
    "Z[:5]"
   ]
  },
  {
   "cell_type": "code",
   "execution_count": 40,
   "metadata": {
    "execution": {
     "iopub.execute_input": "2021-04-01T01:58:32.418474Z",
     "iopub.status.busy": "2021-04-01T01:58:32.418474Z",
     "iopub.status.idle": "2021-04-01T01:58:32.429445Z",
     "shell.execute_reply": "2021-04-01T01:58:32.428446Z",
     "shell.execute_reply.started": "2021-04-01T01:58:32.418474Z"
    }
   },
   "outputs": [
    {
     "data": {
      "text/plain": [
       "array([-4.73695157e-16, -7.81597009e-16, -4.26325641e-16, -4.73695157e-16])"
      ]
     },
     "execution_count": 40,
     "metadata": {},
     "output_type": "execute_result"
    }
   ],
   "source": [
    "np.mean(Z, axis = 0)"
   ]
  },
  {
   "cell_type": "code",
   "execution_count": 41,
   "metadata": {
    "execution": {
     "iopub.execute_input": "2021-04-01T01:58:40.030993Z",
     "iopub.status.busy": "2021-04-01T01:58:40.030993Z",
     "iopub.status.idle": "2021-04-01T01:58:40.050937Z",
     "shell.execute_reply": "2021-04-01T01:58:40.049939Z",
     "shell.execute_reply.started": "2021-04-01T01:58:40.030993Z"
    }
   },
   "outputs": [
    {
     "data": {
      "text/plain": [
       "array([1., 1., 1., 1.])"
      ]
     },
     "execution_count": 41,
     "metadata": {},
     "output_type": "execute_result"
    }
   ],
   "source": [
    "np.std(Z, axis = 0)"
   ]
  },
  {
   "cell_type": "markdown",
   "metadata": {},
   "source": [
    "## min-max normalization\n",
    "**$(X-min(X))/(max(X)-min(X))$**\n",
    "* min=0, max=1\n",
    "* other values : between 0 and 1"
   ]
  },
  {
   "cell_type": "code",
   "execution_count": 42,
   "metadata": {
    "execution": {
     "iopub.execute_input": "2021-04-01T01:59:55.397609Z",
     "iopub.status.busy": "2021-04-01T01:59:55.397609Z",
     "iopub.status.idle": "2021-04-01T01:59:55.408576Z",
     "shell.execute_reply": "2021-04-01T01:59:55.407579Z",
     "shell.execute_reply.started": "2021-04-01T01:59:55.397609Z"
    }
   },
   "outputs": [
    {
     "data": {
      "text/plain": [
       "array([2, 7, 9, 1, 5, 8, 4, 7, 5, 6])"
      ]
     },
     "execution_count": 42,
     "metadata": {},
     "output_type": "execute_result"
    }
   ],
   "source": [
    "x = np.random.randint(1, 10, 10)\n",
    "x"
   ]
  },
  {
   "cell_type": "code",
   "execution_count": 43,
   "metadata": {
    "execution": {
     "iopub.execute_input": "2021-04-01T02:00:23.354616Z",
     "iopub.status.busy": "2021-04-01T02:00:23.353619Z",
     "iopub.status.idle": "2021-04-01T02:00:23.365603Z",
     "shell.execute_reply": "2021-04-01T02:00:23.365603Z",
     "shell.execute_reply.started": "2021-04-01T02:00:23.354616Z"
    }
   },
   "outputs": [
    {
     "data": {
      "text/plain": [
       "array([0.125, 0.75 , 1.   , 0.   , 0.5  , 0.875, 0.375, 0.75 , 0.5  ,\n",
       "       0.625])"
      ]
     },
     "execution_count": 43,
     "metadata": {},
     "output_type": "execute_result"
    }
   ],
   "source": [
    "# min-max normalization\n",
    "n = (x - np.min(x))/(np.max(x) - np.min(x))\n",
    "n"
   ]
  },
  {
   "cell_type": "markdown",
   "metadata": {},
   "source": [
    "## Apply min-max normalization to iris data X"
   ]
  },
  {
   "cell_type": "code",
   "execution_count": 44,
   "metadata": {
    "execution": {
     "iopub.execute_input": "2021-04-01T02:00:46.559695Z",
     "iopub.status.busy": "2021-04-01T02:00:46.558698Z",
     "iopub.status.idle": "2021-04-01T02:00:46.576649Z",
     "shell.execute_reply": "2021-04-01T02:00:46.575692Z",
     "shell.execute_reply.started": "2021-04-01T02:00:46.559695Z"
    }
   },
   "outputs": [
    {
     "data": {
      "text/plain": [
       "array([7.9, 4.4, 6.9, 2.5])"
      ]
     },
     "execution_count": 44,
     "metadata": {},
     "output_type": "execute_result"
    }
   ],
   "source": [
    "np.max(X, axis = 0)"
   ]
  },
  {
   "cell_type": "code",
   "execution_count": 45,
   "metadata": {
    "execution": {
     "iopub.execute_input": "2021-04-01T02:00:50.891059Z",
     "iopub.status.busy": "2021-04-01T02:00:50.890062Z",
     "iopub.status.idle": "2021-04-01T02:00:50.911005Z",
     "shell.execute_reply": "2021-04-01T02:00:50.910007Z",
     "shell.execute_reply.started": "2021-04-01T02:00:50.891059Z"
    }
   },
   "outputs": [
    {
     "data": {
      "text/plain": [
       "array([4.3, 2. , 1. , 0.1])"
      ]
     },
     "execution_count": 45,
     "metadata": {},
     "output_type": "execute_result"
    }
   ],
   "source": [
    "np.min(X, axis = 0)"
   ]
  },
  {
   "cell_type": "code",
   "execution_count": 46,
   "metadata": {
    "execution": {
     "iopub.execute_input": "2021-04-01T02:01:13.819766Z",
     "iopub.status.busy": "2021-04-01T02:01:13.818782Z",
     "iopub.status.idle": "2021-04-01T02:01:13.833694Z",
     "shell.execute_reply": "2021-04-01T02:01:13.832725Z",
     "shell.execute_reply.started": "2021-04-01T02:01:13.819766Z"
    }
   },
   "outputs": [
    {
     "data": {
      "text/plain": [
       "(150, 4)"
      ]
     },
     "execution_count": 46,
     "metadata": {},
     "output_type": "execute_result"
    }
   ],
   "source": [
    "N = (X - np.min(X, axis = 0))/(np.max(X, axis = 0) - np.min(X, axis = 0))\n",
    "N.shape"
   ]
  },
  {
   "cell_type": "code",
   "execution_count": 47,
   "metadata": {
    "execution": {
     "iopub.execute_input": "2021-04-01T02:01:16.920274Z",
     "iopub.status.busy": "2021-04-01T02:01:16.920274Z",
     "iopub.status.idle": "2021-04-01T02:01:16.938226Z",
     "shell.execute_reply": "2021-04-01T02:01:16.937229Z",
     "shell.execute_reply.started": "2021-04-01T02:01:16.920274Z"
    }
   },
   "outputs": [
    {
     "data": {
      "text/plain": [
       "array([[0.22222222, 0.625     , 0.06779661, 0.04166667],\n",
       "       [0.16666667, 0.41666667, 0.06779661, 0.04166667],\n",
       "       [0.11111111, 0.5       , 0.05084746, 0.04166667],\n",
       "       [0.08333333, 0.45833333, 0.08474576, 0.04166667],\n",
       "       [0.19444444, 0.66666667, 0.06779661, 0.04166667]])"
      ]
     },
     "execution_count": 47,
     "metadata": {},
     "output_type": "execute_result"
    }
   ],
   "source": [
    "N[:5]"
   ]
  },
  {
   "cell_type": "code",
   "execution_count": 48,
   "metadata": {
    "execution": {
     "iopub.execute_input": "2021-04-01T02:01:23.107179Z",
     "iopub.status.busy": "2021-04-01T02:01:23.107179Z",
     "iopub.status.idle": "2021-04-01T02:01:23.121141Z",
     "shell.execute_reply": "2021-04-01T02:01:23.120143Z",
     "shell.execute_reply.started": "2021-04-01T02:01:23.107179Z"
    }
   },
   "outputs": [
    {
     "data": {
      "text/plain": [
       "array([1., 1., 1., 1.])"
      ]
     },
     "execution_count": 48,
     "metadata": {},
     "output_type": "execute_result"
    }
   ],
   "source": [
    "np.max(N, axis = 0)"
   ]
  },
  {
   "cell_type": "code",
   "execution_count": 49,
   "metadata": {
    "execution": {
     "iopub.execute_input": "2021-04-01T02:01:27.506022Z",
     "iopub.status.busy": "2021-04-01T02:01:27.505022Z",
     "iopub.status.idle": "2021-04-01T02:01:27.516989Z",
     "shell.execute_reply": "2021-04-01T02:01:27.516024Z",
     "shell.execute_reply.started": "2021-04-01T02:01:27.506022Z"
    }
   },
   "outputs": [
    {
     "data": {
      "text/plain": [
       "array([0., 0., 0., 0.])"
      ]
     },
     "execution_count": 49,
     "metadata": {},
     "output_type": "execute_result"
    }
   ],
   "source": [
    "np.min(N, axis = 0)"
   ]
  }
 ],
 "metadata": {
  "kernelspec": {
   "display_name": "Python 3",
   "language": "python",
   "name": "python3"
  },
  "language_info": {
   "codemirror_mode": {
    "name": "ipython",
    "version": 3
   },
   "file_extension": ".py",
   "mimetype": "text/x-python",
   "name": "python",
   "nbconvert_exporter": "python",
   "pygments_lexer": "ipython3",
   "version": "3.8.8"
  }
 },
 "nbformat": 4,
 "nbformat_minor": 4
}
