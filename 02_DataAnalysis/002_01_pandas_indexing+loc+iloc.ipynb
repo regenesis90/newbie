{
 "cells": [
  {
   "cell_type": "markdown",
   "metadata": {},
   "source": [
    "# NumPy, pandas, matplotlib 패키지 개괄\n",
    "\n",
    "* **NumPy** :\n",
    "    * 클래스 : **ndarray**(n-dimensional array)\n",
    "    * 배열(array) 또는 행렬(matrix)과 같은 숫자형 데이터들을 빠르게 연산함\n",
    "* **pandas** :\n",
    "    * 클래스 : **Series**(1차원 데이터), **DataFrame**(2차원 데이터)\n",
    "    * **표(table)** 와 같은 형태의 데이터를 분석, 정제, 조작하는 기능\n",
    "* **matplotlib** :\n",
    "    * **시각화(visualization)**"
   ]
  },
  {
   "cell_type": "code",
   "execution_count": 1,
   "metadata": {
    "execution": {
     "iopub.execute_input": "2021-03-29T13:10:25.208923Z",
     "iopub.status.busy": "2021-03-29T13:10:25.207926Z",
     "iopub.status.idle": "2021-03-29T13:10:27.230077Z",
     "shell.execute_reply": "2021-03-29T13:10:27.228514Z",
     "shell.execute_reply.started": "2021-03-29T13:10:25.208923Z"
    }
   },
   "outputs": [],
   "source": [
    "import pandas as pd"
   ]
  },
  {
   "cell_type": "code",
   "execution_count": 2,
   "metadata": {
    "execution": {
     "iopub.execute_input": "2021-03-29T13:10:34.665354Z",
     "iopub.status.busy": "2021-03-29T13:10:34.665354Z",
     "iopub.status.idle": "2021-03-29T13:10:34.681309Z",
     "shell.execute_reply": "2021-03-29T13:10:34.680313Z",
     "shell.execute_reply.started": "2021-03-29T13:10:34.665354Z"
    }
   },
   "outputs": [
    {
     "data": {
      "text/plain": [
       "'1.1.3'"
      ]
     },
     "execution_count": 2,
     "metadata": {},
     "output_type": "execute_result"
    }
   ],
   "source": [
    "# pandas 패키지 버전 확인\n",
    "pd.__version__"
   ]
  },
  {
   "cell_type": "markdown",
   "metadata": {},
   "source": [
    "# pandas.Series\n",
    "* **pandas.Series** : 1가지 타입의 값 여러개를 저장할 수 있는 1차원 모양의 데이터 타입(클래스)\n",
    "* One-dimensional ndarray with axis labels"
   ]
  },
  {
   "cell_type": "code",
   "execution_count": 3,
   "metadata": {
    "execution": {
     "iopub.execute_input": "2021-03-29T13:11:43.526472Z",
     "iopub.status.busy": "2021-03-29T13:11:43.526472Z",
     "iopub.status.idle": "2021-03-29T13:11:43.548413Z",
     "shell.execute_reply": "2021-03-29T13:11:43.547417Z",
     "shell.execute_reply.started": "2021-03-29T13:11:43.526472Z"
    }
   },
   "outputs": [
    {
     "name": "stdout",
     "output_type": "stream",
     "text": [
      "0    1\n",
      "1    3\n",
      "2   -5\n",
      "3    7\n",
      "dtype: int64\n"
     ]
    }
   ],
   "source": [
    "s = pd.Series([1, 3, -5, 7])\n",
    "print(s)"
   ]
  },
  {
   "cell_type": "code",
   "execution_count": 4,
   "metadata": {
    "execution": {
     "iopub.execute_input": "2021-03-29T13:11:49.168180Z",
     "iopub.status.busy": "2021-03-29T13:11:49.168180Z",
     "iopub.status.idle": "2021-03-29T13:11:49.187636Z",
     "shell.execute_reply": "2021-03-29T13:11:49.186679Z",
     "shell.execute_reply.started": "2021-03-29T13:11:49.168180Z"
    }
   },
   "outputs": [
    {
     "name": "stdout",
     "output_type": "stream",
     "text": [
      "<class 'pandas.core.series.Series'>\n"
     ]
    }
   ],
   "source": [
    "print(type(s)) #pd.Series의 타입(클래스) 보기"
   ]
  },
  {
   "cell_type": "code",
   "execution_count": 5,
   "metadata": {
    "execution": {
     "iopub.execute_input": "2021-03-29T13:11:56.545986Z",
     "iopub.status.busy": "2021-03-29T13:11:56.545986Z",
     "iopub.status.idle": "2021-03-29T13:11:56.557952Z",
     "shell.execute_reply": "2021-03-29T13:11:56.556955Z",
     "shell.execute_reply.started": "2021-03-29T13:11:56.545986Z"
    }
   },
   "outputs": [
    {
     "name": "stdout",
     "output_type": "stream",
     "text": [
      "RangeIndex(start=0, stop=4, step=1)\n"
     ]
    }
   ],
   "source": [
    "print(s.index) # pd.Series의 인덱스"
   ]
  },
  {
   "cell_type": "code",
   "execution_count": 6,
   "metadata": {
    "execution": {
     "iopub.execute_input": "2021-03-29T13:12:40.661840Z",
     "iopub.status.busy": "2021-03-29T13:12:40.660817Z",
     "iopub.status.idle": "2021-03-29T13:12:40.670789Z",
     "shell.execute_reply": "2021-03-29T13:12:40.669792Z",
     "shell.execute_reply.started": "2021-03-29T13:12:40.661840Z"
    }
   },
   "outputs": [
    {
     "name": "stdout",
     "output_type": "stream",
     "text": [
      "[ 1  3 -5  7]\n"
     ]
    }
   ],
   "source": [
    "# Series.values : 저장된 값들(ndarray 형식으로 나타난다)\n",
    "print(s.values)"
   ]
  },
  {
   "cell_type": "markdown",
   "metadata": {},
   "source": [
    "## indexing\n",
    "* Series의 원소 접근 : 인덱스 사용\n",
    "* indexing, slicing..."
   ]
  },
  {
   "cell_type": "code",
   "execution_count": 8,
   "metadata": {
    "execution": {
     "iopub.execute_input": "2021-03-29T13:13:48.545447Z",
     "iopub.status.busy": "2021-03-29T13:13:48.544410Z",
     "iopub.status.idle": "2021-03-29T13:13:48.563359Z",
     "shell.execute_reply": "2021-03-29T13:13:48.562361Z",
     "shell.execute_reply.started": "2021-03-29T13:13:48.545447Z"
    }
   },
   "outputs": [
    {
     "name": "stdout",
     "output_type": "stream",
     "text": [
      "0    1\n",
      "1    3\n",
      "2   -5\n",
      "3    7\n",
      "dtype: int64\n"
     ]
    }
   ],
   "source": [
    "print(s)"
   ]
  },
  {
   "cell_type": "code",
   "execution_count": 9,
   "metadata": {
    "execution": {
     "iopub.execute_input": "2021-03-29T13:13:53.045061Z",
     "iopub.status.busy": "2021-03-29T13:13:53.044066Z",
     "iopub.status.idle": "2021-03-29T13:13:53.060019Z",
     "shell.execute_reply": "2021-03-29T13:13:53.059022Z",
     "shell.execute_reply.started": "2021-03-29T13:13:53.044066Z"
    }
   },
   "outputs": [
    {
     "name": "stdout",
     "output_type": "stream",
     "text": [
      "1\n"
     ]
    }
   ],
   "source": [
    "# pd.Series 객체인 s의 0번 인덱스의 원소를 출력\n",
    "print(s[0])"
   ]
  },
  {
   "cell_type": "code",
   "execution_count": 10,
   "metadata": {
    "execution": {
     "iopub.execute_input": "2021-03-29T13:15:50.792521Z",
     "iopub.status.busy": "2021-03-29T13:15:50.792521Z",
     "iopub.status.idle": "2021-03-29T13:15:50.806483Z",
     "shell.execute_reply": "2021-03-29T13:15:50.805522Z",
     "shell.execute_reply.started": "2021-03-29T13:15:50.792521Z"
    }
   },
   "outputs": [],
   "source": [
    "# pd.Series는 마이너스 인덱싱이 불가능하다.\n",
    "# 예> s[-1]은 에러 발생함"
   ]
  },
  {
   "cell_type": "code",
   "execution_count": 11,
   "metadata": {
    "execution": {
     "iopub.execute_input": "2021-03-29T13:16:09.474116Z",
     "iopub.status.busy": "2021-03-29T13:16:09.474116Z",
     "iopub.status.idle": "2021-03-29T13:16:09.487585Z",
     "shell.execute_reply": "2021-03-29T13:16:09.486587Z",
     "shell.execute_reply.started": "2021-03-29T13:16:09.474116Z"
    }
   },
   "outputs": [
    {
     "name": "stdout",
     "output_type": "stream",
     "text": [
      "0    1\n",
      "1    3\n",
      "2   -5\n",
      "dtype: int64\n"
     ]
    }
   ],
   "source": [
    "# Slicing\n",
    "print(s[:3])"
   ]
  },
  {
   "cell_type": "code",
   "execution_count": 12,
   "metadata": {
    "execution": {
     "iopub.execute_input": "2021-03-29T13:16:19.096290Z",
     "iopub.status.busy": "2021-03-29T13:16:19.095293Z",
     "iopub.status.idle": "2021-03-29T13:16:19.108259Z",
     "shell.execute_reply": "2021-03-29T13:16:19.107287Z",
     "shell.execute_reply.started": "2021-03-29T13:16:19.096290Z"
    }
   },
   "outputs": [
    {
     "name": "stdout",
     "output_type": "stream",
     "text": [
      "2   -5\n",
      "3    7\n",
      "dtype: int64\n"
     ]
    }
   ],
   "source": [
    "print(s[2:])"
   ]
  },
  {
   "cell_type": "markdown",
   "metadata": {},
   "source": [
    "## fancy indexing\n",
    "* list, array와 같은 객체로 indexing함"
   ]
  },
  {
   "cell_type": "code",
   "execution_count": 13,
   "metadata": {
    "execution": {
     "iopub.execute_input": "2021-03-29T13:17:17.931600Z",
     "iopub.status.busy": "2021-03-29T13:17:17.930603Z",
     "iopub.status.idle": "2021-03-29T13:17:17.954542Z",
     "shell.execute_reply": "2021-03-29T13:17:17.953542Z",
     "shell.execute_reply.started": "2021-03-29T13:17:17.931600Z"
    }
   },
   "outputs": [
    {
     "name": "stdout",
     "output_type": "stream",
     "text": [
      "0    1\n",
      "2   -5\n",
      "dtype: int64\n"
     ]
    }
   ],
   "source": [
    "print(s[[0,2]])"
   ]
  },
  {
   "cell_type": "markdown",
   "metadata": {},
   "source": [
    "## boolean indexing\n",
    "* boolean들의 list(또는 array, Series)로 indexing"
   ]
  },
  {
   "cell_type": "code",
   "execution_count": 14,
   "metadata": {
    "execution": {
     "iopub.execute_input": "2021-03-29T13:17:50.303402Z",
     "iopub.status.busy": "2021-03-29T13:17:50.302367Z",
     "iopub.status.idle": "2021-03-29T13:17:50.316327Z",
     "shell.execute_reply": "2021-03-29T13:17:50.315369Z",
     "shell.execute_reply.started": "2021-03-29T13:17:50.303402Z"
    }
   },
   "outputs": [
    {
     "name": "stdout",
     "output_type": "stream",
     "text": [
      "0    1\n",
      "1    3\n",
      "dtype: int64\n"
     ]
    }
   ],
   "source": [
    "print(s[[True, True, False, False]])"
   ]
  },
  {
   "cell_type": "code",
   "execution_count": 15,
   "metadata": {
    "execution": {
     "iopub.execute_input": "2021-03-29T13:17:56.425416Z",
     "iopub.status.busy": "2021-03-29T13:17:56.424419Z",
     "iopub.status.idle": "2021-03-29T13:17:56.639844Z",
     "shell.execute_reply": "2021-03-29T13:17:56.636887Z",
     "shell.execute_reply.started": "2021-03-29T13:17:56.425416Z"
    }
   },
   "outputs": [
    {
     "name": "stdout",
     "output_type": "stream",
     "text": [
      "0     True\n",
      "1     True\n",
      "2    False\n",
      "3     True\n",
      "dtype: bool\n"
     ]
    }
   ],
   "source": [
    "print(s > 0)"
   ]
  },
  {
   "cell_type": "code",
   "execution_count": 16,
   "metadata": {
    "execution": {
     "iopub.execute_input": "2021-03-29T13:18:02.209373Z",
     "iopub.status.busy": "2021-03-29T13:18:02.209373Z",
     "iopub.status.idle": "2021-03-29T13:18:02.216861Z",
     "shell.execute_reply": "2021-03-29T13:18:02.216357Z",
     "shell.execute_reply.started": "2021-03-29T13:18:02.209373Z"
    }
   },
   "outputs": [
    {
     "name": "stdout",
     "output_type": "stream",
     "text": [
      "0    1\n",
      "1    3\n",
      "3    7\n",
      "dtype: int64\n"
     ]
    }
   ],
   "source": [
    "print(s[s > 0])"
   ]
  },
  {
   "cell_type": "markdown",
   "metadata": {},
   "source": [
    "## loc vs iloc\n",
    "* **`Series.loc[label]`** : label-base location(index)\n",
    "* **`Series.iloc[integer]`** : integer-base location(index)"
   ]
  },
  {
   "cell_type": "code",
   "execution_count": 18,
   "metadata": {
    "execution": {
     "iopub.execute_input": "2021-03-29T13:23:25.326175Z",
     "iopub.status.busy": "2021-03-29T13:23:25.326175Z",
     "iopub.status.idle": "2021-03-29T13:23:25.347118Z",
     "shell.execute_reply": "2021-03-29T13:23:25.346121Z",
     "shell.execute_reply.started": "2021-03-29T13:23:25.326175Z"
    }
   },
   "outputs": [
    {
     "name": "stdout",
     "output_type": "stream",
     "text": [
      "a    1\n",
      "b    3\n",
      "c   -5\n",
      "d    7\n",
      "dtype: int64\n"
     ]
    }
   ],
   "source": [
    "s = pd.Series(data = [1, 3, -5, 7],\n",
    "              index = ['a', 'b', 'c', 'd'])\n",
    "print(s)"
   ]
  },
  {
   "cell_type": "code",
   "execution_count": 19,
   "metadata": {
    "execution": {
     "iopub.execute_input": "2021-03-29T13:23:54.591711Z",
     "iopub.status.busy": "2021-03-29T13:23:54.591711Z",
     "iopub.status.idle": "2021-03-29T13:23:54.605673Z",
     "shell.execute_reply": "2021-03-29T13:23:54.604677Z",
     "shell.execute_reply.started": "2021-03-29T13:23:54.591711Z"
    }
   },
   "outputs": [
    {
     "name": "stdout",
     "output_type": "stream",
     "text": [
      "1 1\n"
     ]
    }
   ],
   "source": [
    "print(s['a'], s[0])"
   ]
  },
  {
   "cell_type": "code",
   "execution_count": 20,
   "metadata": {
    "execution": {
     "iopub.execute_input": "2021-03-29T13:24:04.669280Z",
     "iopub.status.busy": "2021-03-29T13:24:04.669280Z",
     "iopub.status.idle": "2021-03-29T13:24:04.678256Z",
     "shell.execute_reply": "2021-03-29T13:24:04.677259Z",
     "shell.execute_reply.started": "2021-03-29T13:24:04.669280Z"
    }
   },
   "outputs": [
    {
     "name": "stdout",
     "output_type": "stream",
     "text": [
      "3 3\n"
     ]
    }
   ],
   "source": [
    "print(s['b'], s[1])"
   ]
  },
  {
   "cell_type": "markdown",
   "metadata": {},
   "source": [
    "### .loc\n",
    "* label-base location(index)"
   ]
  },
  {
   "cell_type": "code",
   "execution_count": 21,
   "metadata": {
    "execution": {
     "iopub.execute_input": "2021-03-29T13:24:31.564304Z",
     "iopub.status.busy": "2021-03-29T13:24:31.563306Z",
     "iopub.status.idle": "2021-03-29T13:24:31.574275Z",
     "shell.execute_reply": "2021-03-29T13:24:31.573278Z",
     "shell.execute_reply.started": "2021-03-29T13:24:31.564304Z"
    }
   },
   "outputs": [
    {
     "data": {
      "text/plain": [
       "1"
      ]
     },
     "execution_count": 21,
     "metadata": {},
     "output_type": "execute_result"
    }
   ],
   "source": [
    "s.loc['a']\n",
    "# s.loc[0] : Error 발생"
   ]
  },
  {
   "cell_type": "code",
   "execution_count": 23,
   "metadata": {
    "execution": {
     "iopub.execute_input": "2021-03-29T13:24:58.821180Z",
     "iopub.status.busy": "2021-03-29T13:24:58.821180Z",
     "iopub.status.idle": "2021-03-29T13:24:58.842127Z",
     "shell.execute_reply": "2021-03-29T13:24:58.841129Z",
     "shell.execute_reply.started": "2021-03-29T13:24:58.821180Z"
    }
   },
   "outputs": [
    {
     "data": {
      "text/plain": [
       "3"
      ]
     },
     "execution_count": 23,
     "metadata": {},
     "output_type": "execute_result"
    }
   ],
   "source": [
    "s.loc['b']"
   ]
  },
  {
   "cell_type": "markdown",
   "metadata": {},
   "source": [
    "### iloc\n",
    "* integer-base location(index)"
   ]
  },
  {
   "cell_type": "code",
   "execution_count": 24,
   "metadata": {
    "execution": {
     "iopub.execute_input": "2021-03-29T13:25:27.077818Z",
     "iopub.status.busy": "2021-03-29T13:25:27.076821Z",
     "iopub.status.idle": "2021-03-29T13:25:27.096728Z",
     "shell.execute_reply": "2021-03-29T13:25:27.095730Z",
     "shell.execute_reply.started": "2021-03-29T13:25:27.077818Z"
    }
   },
   "outputs": [
    {
     "data": {
      "text/plain": [
       "1"
      ]
     },
     "execution_count": 24,
     "metadata": {},
     "output_type": "execute_result"
    }
   ],
   "source": [
    "s.iloc[0]"
   ]
  },
  {
   "cell_type": "code",
   "execution_count": 25,
   "metadata": {
    "execution": {
     "iopub.execute_input": "2021-03-29T13:25:30.785994Z",
     "iopub.status.busy": "2021-03-29T13:25:30.784995Z",
     "iopub.status.idle": "2021-03-29T13:25:30.796964Z",
     "shell.execute_reply": "2021-03-29T13:25:30.795991Z",
     "shell.execute_reply.started": "2021-03-29T13:25:30.785994Z"
    }
   },
   "outputs": [
    {
     "data": {
      "text/plain": [
       "3"
      ]
     },
     "execution_count": 25,
     "metadata": {},
     "output_type": "execute_result"
    }
   ],
   "source": [
    "s.iloc[1]"
   ]
  },
  {
   "cell_type": "markdown",
   "metadata": {},
   "source": [
    "### slicing에서 loc와 iloc의 차이"
   ]
  },
  {
   "cell_type": "code",
   "execution_count": 26,
   "metadata": {
    "execution": {
     "iopub.execute_input": "2021-03-29T13:26:32.513474Z",
     "iopub.status.busy": "2021-03-29T13:26:32.513474Z",
     "iopub.status.idle": "2021-03-29T13:26:32.535418Z",
     "shell.execute_reply": "2021-03-29T13:26:32.534418Z",
     "shell.execute_reply.started": "2021-03-29T13:26:32.513474Z"
    }
   },
   "outputs": [
    {
     "data": {
      "text/plain": [
       "a    1\n",
       "b    3\n",
       "c   -5\n",
       "dtype: int64"
      ]
     },
     "execution_count": 26,
     "metadata": {},
     "output_type": "execute_result"
    }
   ],
   "source": [
    "# label-based(loc)는 s.loc['a']와 s.loc['c']가 모두 포함됨\n",
    "s.loc['a':'c']"
   ]
  },
  {
   "cell_type": "code",
   "execution_count": 27,
   "metadata": {
    "execution": {
     "iopub.execute_input": "2021-03-29T13:27:03.199103Z",
     "iopub.status.busy": "2021-03-29T13:27:03.198103Z",
     "iopub.status.idle": "2021-03-29T13:27:03.213570Z",
     "shell.execute_reply": "2021-03-29T13:27:03.212573Z",
     "shell.execute_reply.started": "2021-03-29T13:27:03.199103Z"
    }
   },
   "outputs": [
    {
     "data": {
      "text/plain": [
       "a    1\n",
       "b    3\n",
       "dtype: int64"
      ]
     },
     "execution_count": 27,
     "metadata": {},
     "output_type": "execute_result"
    }
   ],
   "source": [
    "# integer-based(iloc)는 s.iloc[2]가 포함되지 않음\n",
    "s.iloc[0:2]"
   ]
  },
  {
   "cell_type": "code",
   "execution_count": 29,
   "metadata": {
    "execution": {
     "iopub.execute_input": "2021-03-29T13:27:33.411110Z",
     "iopub.status.busy": "2021-03-29T13:27:33.411110Z",
     "iopub.status.idle": "2021-03-29T13:27:33.417598Z",
     "shell.execute_reply": "2021-03-29T13:27:33.417094Z",
     "shell.execute_reply.started": "2021-03-29T13:27:33.411110Z"
    }
   },
   "outputs": [
    {
     "name": "stdout",
     "output_type": "stream",
     "text": [
      "0    1\n",
      "1    3\n",
      "2    5\n",
      "3    7\n",
      "4    9\n",
      "dtype: int64\n"
     ]
    }
   ],
   "source": [
    "s = pd.Series([1, 3, 5, 7, 9])\n",
    "print(s)"
   ]
  },
  {
   "cell_type": "code",
   "execution_count": 30,
   "metadata": {
    "execution": {
     "iopub.execute_input": "2021-03-29T13:27:41.357502Z",
     "iopub.status.busy": "2021-03-29T13:27:41.356506Z",
     "iopub.status.idle": "2021-03-29T13:27:41.375455Z",
     "shell.execute_reply": "2021-03-29T13:27:41.374456Z",
     "shell.execute_reply.started": "2021-03-29T13:27:41.357502Z"
    }
   },
   "outputs": [
    {
     "name": "stdout",
     "output_type": "stream",
     "text": [
      "1    3\n",
      "2    5\n",
      "3    7\n",
      "dtype: int64\n"
     ]
    }
   ],
   "source": [
    "print(s.loc[1:3])"
   ]
  },
  {
   "cell_type": "code",
   "execution_count": 31,
   "metadata": {
    "execution": {
     "iopub.execute_input": "2021-03-29T13:27:48.303426Z",
     "iopub.status.busy": "2021-03-29T13:27:48.302391Z",
     "iopub.status.idle": "2021-03-29T13:27:48.318759Z",
     "shell.execute_reply": "2021-03-29T13:27:48.317762Z",
     "shell.execute_reply.started": "2021-03-29T13:27:48.303426Z"
    }
   },
   "outputs": [
    {
     "name": "stdout",
     "output_type": "stream",
     "text": [
      "1    3\n",
      "2    5\n",
      "dtype: int64\n"
     ]
    }
   ],
   "source": [
    "print(s.iloc[1:3])"
   ]
  },
  {
   "cell_type": "code",
   "execution_count": 32,
   "metadata": {
    "execution": {
     "iopub.execute_input": "2021-03-29T13:28:12.546415Z",
     "iopub.status.busy": "2021-03-29T13:28:12.545418Z",
     "iopub.status.idle": "2021-03-29T13:28:12.555389Z",
     "shell.execute_reply": "2021-03-29T13:28:12.554392Z",
     "shell.execute_reply.started": "2021-03-29T13:28:12.545418Z"
    }
   },
   "outputs": [
    {
     "name": "stdout",
     "output_type": "stream",
     "text": [
      "9 9 9\n"
     ]
    }
   ],
   "source": [
    "print(s.loc[4], s.iloc[4], s.iloc[-1])"
   ]
  },
  {
   "cell_type": "code",
   "execution_count": 34,
   "metadata": {
    "execution": {
     "iopub.execute_input": "2021-03-29T13:29:16.071321Z",
     "iopub.status.busy": "2021-03-29T13:29:16.071321Z",
     "iopub.status.idle": "2021-03-29T13:29:16.080585Z",
     "shell.execute_reply": "2021-03-29T13:29:16.079629Z",
     "shell.execute_reply.started": "2021-03-29T13:29:16.071321Z"
    }
   },
   "outputs": [
    {
     "name": "stdout",
     "output_type": "stream",
     "text": [
      "{'서울': 10000000, '경기': 15000000, '인천': 1000000}\n"
     ]
    }
   ],
   "source": [
    "city_pop = {'서울' : 10_000_000, '경기' : 15_000_000, '인천' : 1_000_000}\n",
    "print(city_pop)"
   ]
  },
  {
   "cell_type": "code",
   "execution_count": 36,
   "metadata": {
    "execution": {
     "iopub.execute_input": "2021-03-29T13:29:40.397163Z",
     "iopub.status.busy": "2021-03-29T13:29:40.396124Z",
     "iopub.status.idle": "2021-03-29T13:29:40.402109Z",
     "shell.execute_reply": "2021-03-29T13:29:40.401111Z",
     "shell.execute_reply.started": "2021-03-29T13:29:40.397163Z"
    }
   },
   "outputs": [
    {
     "name": "stdout",
     "output_type": "stream",
     "text": [
      "서울    10000000\n",
      "경기    15000000\n",
      "인천     1000000\n",
      "dtype: int64\n"
     ]
    }
   ],
   "source": [
    "s = pd.Series(data = city_pop)\n",
    "print(s)"
   ]
  },
  {
   "cell_type": "code",
   "execution_count": 37,
   "metadata": {
    "execution": {
     "iopub.execute_input": "2021-03-29T13:29:56.649808Z",
     "iopub.status.busy": "2021-03-29T13:29:56.648810Z",
     "iopub.status.idle": "2021-03-29T13:29:56.667759Z",
     "shell.execute_reply": "2021-03-29T13:29:56.666762Z",
     "shell.execute_reply.started": "2021-03-29T13:29:56.649808Z"
    }
   },
   "outputs": [
    {
     "name": "stdout",
     "output_type": "stream",
     "text": [
      "경기    15000000\n",
      "서울    10000000\n",
      "dtype: int64\n"
     ]
    }
   ],
   "source": [
    "# loc 사용한 fancy indexing\n",
    "print(s.loc[['경기', '서울']])"
   ]
  },
  {
   "cell_type": "code",
   "execution_count": 39,
   "metadata": {
    "execution": {
     "iopub.execute_input": "2021-03-29T13:30:24.887152Z",
     "iopub.status.busy": "2021-03-29T13:30:24.887152Z",
     "iopub.status.idle": "2021-03-29T13:30:24.897118Z",
     "shell.execute_reply": "2021-03-29T13:30:24.896118Z",
     "shell.execute_reply.started": "2021-03-29T13:30:24.887152Z"
    }
   },
   "outputs": [
    {
     "name": "stdout",
     "output_type": "stream",
     "text": [
      "경기    15000000\n",
      "서울    10000000\n",
      "dtype: int64\n"
     ]
    }
   ],
   "source": [
    "# iloc 사용한 fancy indexing\n",
    "print(s.iloc[[1, 0]])"
   ]
  }
 ],
 "metadata": {
  "kernelspec": {
   "display_name": "Python 3",
   "language": "python",
   "name": "python3"
  },
  "language_info": {
   "codemirror_mode": {
    "name": "ipython",
    "version": 3
   },
   "file_extension": ".py",
   "mimetype": "text/x-python",
   "name": "python",
   "nbconvert_exporter": "python",
   "pygments_lexer": "ipython3",
   "version": "3.8.8"
  }
 },
 "nbformat": 4,
 "nbformat_minor": 4
}
