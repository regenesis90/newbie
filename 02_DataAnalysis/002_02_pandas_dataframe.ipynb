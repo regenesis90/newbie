{
 "cells": [
  {
   "cell_type": "code",
   "execution_count": 2,
   "metadata": {
    "execution": {
     "iopub.execute_input": "2021-03-30T00:38:26.865049Z",
     "iopub.status.busy": "2021-03-30T00:38:26.864522Z",
     "iopub.status.idle": "2021-03-30T00:38:30.909660Z",
     "shell.execute_reply": "2021-03-30T00:38:30.907716Z",
     "shell.execute_reply.started": "2021-03-30T00:38:26.865049Z"
    }
   },
   "outputs": [],
   "source": [
    "import numpy as np\n",
    "import pandas as pd"
   ]
  },
  {
   "cell_type": "markdown",
   "metadata": {},
   "source": [
    "# pandas.DataFrame\n",
    "* 2차원 표(table) 형태의 데이터 타입(클래스)"
   ]
  },
  {
   "cell_type": "markdown",
   "metadata": {},
   "source": [
    "## pd.DataFrame 객체 생성하기"
   ]
  },
  {
   "cell_type": "code",
   "execution_count": 3,
   "metadata": {
    "execution": {
     "iopub.execute_input": "2021-03-30T00:38:30.912651Z",
     "iopub.status.busy": "2021-03-30T00:38:30.911654Z",
     "iopub.status.idle": "2021-03-30T00:38:30.931137Z",
     "shell.execute_reply": "2021-03-30T00:38:30.929141Z",
     "shell.execute_reply.started": "2021-03-30T00:38:30.912651Z"
    }
   },
   "outputs": [
    {
     "name": "stdout",
     "output_type": "stream",
     "text": [
      "{'city': ['서울', '서울', '서울', '경기', '경기', '경기'], 'year': [2018, 2019, 2010, 2009, 2019, 2020], 'pop': [0.85, 0.9, 0.92, 1.1, 1.2, 1.5]}\n"
     ]
    }
   ],
   "source": [
    "data = {\n",
    "    'city': ['서울', '서울', '서울', '경기', '경기', '경기'],\n",
    "    'year': [2018, 2019, 2010, 2009, 2019, 2020],\n",
    "    'pop': [0.85, 0.9, 0.92, 1.1, 1.2, 1.5]\n",
    "}\n",
    "print(data)"
   ]
  },
  {
   "cell_type": "code",
   "execution_count": 4,
   "metadata": {
    "execution": {
     "iopub.execute_input": "2021-03-30T00:38:30.938118Z",
     "iopub.status.busy": "2021-03-30T00:38:30.937136Z",
     "iopub.status.idle": "2021-03-30T00:38:30.964049Z",
     "shell.execute_reply": "2021-03-30T00:38:30.962055Z",
     "shell.execute_reply.started": "2021-03-30T00:38:30.938118Z"
    }
   },
   "outputs": [
    {
     "name": "stdout",
     "output_type": "stream",
     "text": [
      "  city  year   pop\n",
      "0   서울  2018  0.85\n",
      "1   서울  2019  0.90\n",
      "2   서울  2010  0.92\n",
      "3   경기  2009  1.10\n",
      "4   경기  2019  1.20\n",
      "5   경기  2020  1.50\n"
     ]
    }
   ],
   "source": [
    "# pd.DataFrame 객체 df 생성하기\n",
    "df = pd.DataFrame(data)\n",
    "print(df)"
   ]
  },
  {
   "cell_type": "code",
   "execution_count": 5,
   "metadata": {
    "execution": {
     "iopub.execute_input": "2021-03-30T00:38:30.972026Z",
     "iopub.status.busy": "2021-03-30T00:38:30.970039Z",
     "iopub.status.idle": "2021-03-30T00:38:31.008406Z",
     "shell.execute_reply": "2021-03-30T00:38:31.006479Z",
     "shell.execute_reply.started": "2021-03-30T00:38:30.971041Z"
    }
   },
   "outputs": [
    {
     "data": {
      "text/html": [
       "<div>\n",
       "<style scoped>\n",
       "    .dataframe tbody tr th:only-of-type {\n",
       "        vertical-align: middle;\n",
       "    }\n",
       "\n",
       "    .dataframe tbody tr th {\n",
       "        vertical-align: top;\n",
       "    }\n",
       "\n",
       "    .dataframe thead th {\n",
       "        text-align: right;\n",
       "    }\n",
       "</style>\n",
       "<table border=\"1\" class=\"dataframe\">\n",
       "  <thead>\n",
       "    <tr style=\"text-align: right;\">\n",
       "      <th></th>\n",
       "      <th>city</th>\n",
       "      <th>year</th>\n",
       "      <th>pop</th>\n",
       "    </tr>\n",
       "  </thead>\n",
       "  <tbody>\n",
       "    <tr>\n",
       "      <th>0</th>\n",
       "      <td>서울</td>\n",
       "      <td>2018</td>\n",
       "      <td>0.85</td>\n",
       "    </tr>\n",
       "    <tr>\n",
       "      <th>1</th>\n",
       "      <td>서울</td>\n",
       "      <td>2019</td>\n",
       "      <td>0.90</td>\n",
       "    </tr>\n",
       "    <tr>\n",
       "      <th>2</th>\n",
       "      <td>서울</td>\n",
       "      <td>2010</td>\n",
       "      <td>0.92</td>\n",
       "    </tr>\n",
       "    <tr>\n",
       "      <th>3</th>\n",
       "      <td>경기</td>\n",
       "      <td>2009</td>\n",
       "      <td>1.10</td>\n",
       "    </tr>\n",
       "    <tr>\n",
       "      <th>4</th>\n",
       "      <td>경기</td>\n",
       "      <td>2019</td>\n",
       "      <td>1.20</td>\n",
       "    </tr>\n",
       "    <tr>\n",
       "      <th>5</th>\n",
       "      <td>경기</td>\n",
       "      <td>2020</td>\n",
       "      <td>1.50</td>\n",
       "    </tr>\n",
       "  </tbody>\n",
       "</table>\n",
       "</div>"
      ],
      "text/plain": [
       "  city  year   pop\n",
       "0   서울  2018  0.85\n",
       "1   서울  2019  0.90\n",
       "2   서울  2010  0.92\n",
       "3   경기  2009  1.10\n",
       "4   경기  2019  1.20\n",
       "5   경기  2020  1.50"
      ]
     },
     "execution_count": 5,
     "metadata": {},
     "output_type": "execute_result"
    }
   ],
   "source": [
    "# print()를 사용하지 않더라도, Jupyter Notebook은 DataFrame을 HTML table 형식으로 보여준다.\n",
    "df"
   ]
  },
  {
   "cell_type": "markdown",
   "metadata": {},
   "source": [
    "## DataFrame 객체의 속성들(attributes)\n",
    "* **`df.shape`** : row 개수, column 개수\n",
    "* **`df.index`** : row index\n",
    "* **`df.columns`** : column index, 컬럼 이름들"
   ]
  },
  {
   "cell_type": "code",
   "execution_count": 6,
   "metadata": {
    "execution": {
     "iopub.execute_input": "2021-03-30T00:38:31.011399Z",
     "iopub.status.busy": "2021-03-30T00:38:31.010400Z",
     "iopub.status.idle": "2021-03-30T00:38:31.026588Z",
     "shell.execute_reply": "2021-03-30T00:38:31.024527Z",
     "shell.execute_reply.started": "2021-03-30T00:38:31.011399Z"
    }
   },
   "outputs": [
    {
     "data": {
      "text/plain": [
       "(6, 3)"
      ]
     },
     "execution_count": 6,
     "metadata": {},
     "output_type": "execute_result"
    }
   ],
   "source": [
    "df.shape"
   ]
  },
  {
   "cell_type": "code",
   "execution_count": 7,
   "metadata": {
    "execution": {
     "iopub.execute_input": "2021-03-30T00:38:31.029581Z",
     "iopub.status.busy": "2021-03-30T00:38:31.029581Z",
     "iopub.status.idle": "2021-03-30T00:38:31.045535Z",
     "shell.execute_reply": "2021-03-30T00:38:31.043071Z",
     "shell.execute_reply.started": "2021-03-30T00:38:31.029581Z"
    }
   },
   "outputs": [
    {
     "data": {
      "text/plain": [
       "RangeIndex(start=0, stop=6, step=1)"
      ]
     },
     "execution_count": 7,
     "metadata": {},
     "output_type": "execute_result"
    }
   ],
   "source": [
    "df.index"
   ]
  },
  {
   "cell_type": "code",
   "execution_count": 8,
   "metadata": {
    "execution": {
     "iopub.execute_input": "2021-03-30T00:38:31.047529Z",
     "iopub.status.busy": "2021-03-30T00:38:31.047529Z",
     "iopub.status.idle": "2021-03-30T00:38:31.058500Z",
     "shell.execute_reply": "2021-03-30T00:38:31.057545Z",
     "shell.execute_reply.started": "2021-03-30T00:38:31.047529Z"
    }
   },
   "outputs": [
    {
     "data": {
      "text/plain": [
       "Index(['city', 'year', 'pop'], dtype='object')"
      ]
     },
     "execution_count": 8,
     "metadata": {},
     "output_type": "execute_result"
    }
   ],
   "source": [
    "df.columns"
   ]
  },
  {
   "cell_type": "markdown",
   "metadata": {},
   "source": [
    "## DataFrame column 선택 방법\n",
    "* 1) **`df['column_name']`** : dict 에서 key를 사용해서 value 값을 읽는 방법과 유사함\n",
    "* 2) **`df.column_name`** : 클래스 객체의 attribute 이름으로 값을 읽는 방법과 유사"
   ]
  },
  {
   "cell_type": "code",
   "execution_count": 9,
   "metadata": {
    "execution": {
     "iopub.execute_input": "2021-03-30T00:38:31.065482Z",
     "iopub.status.busy": "2021-03-30T00:38:31.064596Z",
     "iopub.status.idle": "2021-03-30T00:38:31.079443Z",
     "shell.execute_reply": "2021-03-30T00:38:31.077456Z",
     "shell.execute_reply.started": "2021-03-30T00:38:31.065482Z"
    }
   },
   "outputs": [
    {
     "data": {
      "text/plain": [
       "0    서울\n",
       "1    서울\n",
       "2    서울\n",
       "3    경기\n",
       "4    경기\n",
       "5    경기\n",
       "Name: city, dtype: object"
      ]
     },
     "execution_count": 9,
     "metadata": {},
     "output_type": "execute_result"
    }
   ],
   "source": [
    "df['city']"
   ]
  },
  {
   "cell_type": "code",
   "execution_count": 10,
   "metadata": {
    "execution": {
     "iopub.execute_input": "2021-03-30T00:38:31.084429Z",
     "iopub.status.busy": "2021-03-30T00:38:31.083434Z",
     "iopub.status.idle": "2021-03-30T00:38:31.097980Z",
     "shell.execute_reply": "2021-03-30T00:38:31.095987Z",
     "shell.execute_reply.started": "2021-03-30T00:38:31.084429Z"
    }
   },
   "outputs": [
    {
     "data": {
      "text/plain": [
       "0    서울\n",
       "1    서울\n",
       "2    서울\n",
       "3    경기\n",
       "4    경기\n",
       "5    경기\n",
       "Name: city, dtype: object"
      ]
     },
     "execution_count": 10,
     "metadata": {},
     "output_type": "execute_result"
    }
   ],
   "source": [
    "df.city"
   ]
  },
  {
   "cell_type": "code",
   "execution_count": 11,
   "metadata": {
    "execution": {
     "iopub.execute_input": "2021-03-30T00:38:31.101021Z",
     "iopub.status.busy": "2021-03-30T00:38:31.100007Z",
     "iopub.status.idle": "2021-03-30T00:38:31.118521Z",
     "shell.execute_reply": "2021-03-30T00:38:31.117644Z",
     "shell.execute_reply.started": "2021-03-30T00:38:31.101021Z"
    }
   },
   "outputs": [
    {
     "data": {
      "text/html": [
       "<div>\n",
       "<style scoped>\n",
       "    .dataframe tbody tr th:only-of-type {\n",
       "        vertical-align: middle;\n",
       "    }\n",
       "\n",
       "    .dataframe tbody tr th {\n",
       "        vertical-align: top;\n",
       "    }\n",
       "\n",
       "    .dataframe thead th {\n",
       "        text-align: right;\n",
       "    }\n",
       "</style>\n",
       "<table border=\"1\" class=\"dataframe\">\n",
       "  <thead>\n",
       "    <tr style=\"text-align: right;\">\n",
       "      <th></th>\n",
       "      <th>col_1</th>\n",
       "      <th>2_x</th>\n",
       "      <th>class</th>\n",
       "    </tr>\n",
       "  </thead>\n",
       "  <tbody>\n",
       "    <tr>\n",
       "      <th>0</th>\n",
       "      <td>1</td>\n",
       "      <td>4</td>\n",
       "      <td>a</td>\n",
       "    </tr>\n",
       "    <tr>\n",
       "      <th>1</th>\n",
       "      <td>2</td>\n",
       "      <td>5</td>\n",
       "      <td>a</td>\n",
       "    </tr>\n",
       "    <tr>\n",
       "      <th>2</th>\n",
       "      <td>3</td>\n",
       "      <td>6</td>\n",
       "      <td>b</td>\n",
       "    </tr>\n",
       "  </tbody>\n",
       "</table>\n",
       "</div>"
      ],
      "text/plain": [
       "   col_1  2_x class\n",
       "0      1    4     a\n",
       "1      2    5     a\n",
       "2      3    6     b"
      ]
     },
     "execution_count": 11,
     "metadata": {},
     "output_type": "execute_result"
    }
   ],
   "source": [
    "df = pd.DataFrame(data = {\n",
    "    'col_1' : [1, 2, 3],\n",
    "    '2_x' : [4, 5, 6],\n",
    "    'class' : ['a', 'a', 'b']\n",
    "})\n",
    "df"
   ]
  },
  {
   "cell_type": "code",
   "execution_count": 12,
   "metadata": {
    "execution": {
     "iopub.execute_input": "2021-03-30T00:38:31.122511Z",
     "iopub.status.busy": "2021-03-30T00:38:31.121514Z",
     "iopub.status.idle": "2021-03-30T00:38:31.135520Z",
     "shell.execute_reply": "2021-03-30T00:38:31.133524Z",
     "shell.execute_reply.started": "2021-03-30T00:38:31.122511Z"
    }
   },
   "outputs": [
    {
     "data": {
      "text/plain": [
       "0    1\n",
       "1    2\n",
       "2    3\n",
       "Name: col_1, dtype: int64"
      ]
     },
     "execution_count": 12,
     "metadata": {},
     "output_type": "execute_result"
    }
   ],
   "source": [
    "df['col_1']"
   ]
  },
  {
   "cell_type": "code",
   "execution_count": 13,
   "metadata": {
    "execution": {
     "iopub.execute_input": "2021-03-30T00:38:31.139509Z",
     "iopub.status.busy": "2021-03-30T00:38:31.138512Z",
     "iopub.status.idle": "2021-03-30T00:38:31.150360Z",
     "shell.execute_reply": "2021-03-30T00:38:31.148366Z",
     "shell.execute_reply.started": "2021-03-30T00:38:31.138764Z"
    }
   },
   "outputs": [
    {
     "data": {
      "text/plain": [
       "0    1\n",
       "1    2\n",
       "2    3\n",
       "Name: col_1, dtype: int64"
      ]
     },
     "execution_count": 13,
     "metadata": {},
     "output_type": "execute_result"
    }
   ],
   "source": [
    "df.col_1"
   ]
  },
  {
   "cell_type": "code",
   "execution_count": 14,
   "metadata": {
    "execution": {
     "iopub.execute_input": "2021-03-30T00:38:31.153350Z",
     "iopub.status.busy": "2021-03-30T00:38:31.152487Z",
     "iopub.status.idle": "2021-03-30T00:38:31.162358Z",
     "shell.execute_reply": "2021-03-30T00:38:31.161337Z",
     "shell.execute_reply.started": "2021-03-30T00:38:31.153350Z"
    }
   },
   "outputs": [
    {
     "data": {
      "text/plain": [
       "0    4\n",
       "1    5\n",
       "2    6\n",
       "Name: 2_x, dtype: int64"
      ]
     },
     "execution_count": 14,
     "metadata": {},
     "output_type": "execute_result"
    }
   ],
   "source": [
    "df['2_x']\n",
    "#> 단, 숫자로 시작하는 컬럼 이름의 경우, df.2_x는 에러가 발생한다."
   ]
  },
  {
   "cell_type": "code",
   "execution_count": 15,
   "metadata": {
    "execution": {
     "iopub.execute_input": "2021-03-30T00:38:31.165319Z",
     "iopub.status.busy": "2021-03-30T00:38:31.164370Z",
     "iopub.status.idle": "2021-03-30T00:38:31.177358Z",
     "shell.execute_reply": "2021-03-30T00:38:31.175469Z",
     "shell.execute_reply.started": "2021-03-30T00:38:31.165319Z"
    }
   },
   "outputs": [
    {
     "data": {
      "text/plain": [
       "0    a\n",
       "1    a\n",
       "2    b\n",
       "Name: class, dtype: object"
      ]
     },
     "execution_count": 15,
     "metadata": {},
     "output_type": "execute_result"
    }
   ],
   "source": [
    "df['class']\n",
    "#> df.class는 문법 오류(SytaxError)가 발생한다. class가 문제가 된다."
   ]
  },
  {
   "cell_type": "markdown",
   "metadata": {},
   "source": [
    "## DataFrame row 선택 방법\n",
    "1) df.loc[label]\n",
    "2) df.iloc[integer]"
   ]
  },
  {
   "cell_type": "code",
   "execution_count": 16,
   "metadata": {
    "execution": {
     "iopub.execute_input": "2021-03-30T00:38:31.180353Z",
     "iopub.status.busy": "2021-03-30T00:38:31.179353Z",
     "iopub.status.idle": "2021-03-30T00:38:31.204369Z",
     "shell.execute_reply": "2021-03-30T00:38:31.201365Z",
     "shell.execute_reply.started": "2021-03-30T00:38:31.180353Z"
    }
   },
   "outputs": [
    {
     "data": {
      "text/html": [
       "<div>\n",
       "<style scoped>\n",
       "    .dataframe tbody tr th:only-of-type {\n",
       "        vertical-align: middle;\n",
       "    }\n",
       "\n",
       "    .dataframe tbody tr th {\n",
       "        vertical-align: top;\n",
       "    }\n",
       "\n",
       "    .dataframe thead th {\n",
       "        text-align: right;\n",
       "    }\n",
       "</style>\n",
       "<table border=\"1\" class=\"dataframe\">\n",
       "  <thead>\n",
       "    <tr style=\"text-align: right;\">\n",
       "      <th></th>\n",
       "      <th>city</th>\n",
       "      <th>year</th>\n",
       "      <th>pop</th>\n",
       "    </tr>\n",
       "  </thead>\n",
       "  <tbody>\n",
       "    <tr>\n",
       "      <th>0</th>\n",
       "      <td>서울</td>\n",
       "      <td>2018</td>\n",
       "      <td>0.85</td>\n",
       "    </tr>\n",
       "    <tr>\n",
       "      <th>1</th>\n",
       "      <td>서울</td>\n",
       "      <td>2019</td>\n",
       "      <td>0.90</td>\n",
       "    </tr>\n",
       "    <tr>\n",
       "      <th>2</th>\n",
       "      <td>서울</td>\n",
       "      <td>2010</td>\n",
       "      <td>0.92</td>\n",
       "    </tr>\n",
       "    <tr>\n",
       "      <th>3</th>\n",
       "      <td>경기</td>\n",
       "      <td>2009</td>\n",
       "      <td>1.10</td>\n",
       "    </tr>\n",
       "    <tr>\n",
       "      <th>4</th>\n",
       "      <td>경기</td>\n",
       "      <td>2019</td>\n",
       "      <td>1.20</td>\n",
       "    </tr>\n",
       "    <tr>\n",
       "      <th>5</th>\n",
       "      <td>경기</td>\n",
       "      <td>2020</td>\n",
       "      <td>1.50</td>\n",
       "    </tr>\n",
       "  </tbody>\n",
       "</table>\n",
       "</div>"
      ],
      "text/plain": [
       "  city  year   pop\n",
       "0   서울  2018  0.85\n",
       "1   서울  2019  0.90\n",
       "2   서울  2010  0.92\n",
       "3   경기  2009  1.10\n",
       "4   경기  2019  1.20\n",
       "5   경기  2020  1.50"
      ]
     },
     "execution_count": 16,
     "metadata": {},
     "output_type": "execute_result"
    }
   ],
   "source": [
    "df = pd.DataFrame(data)\n",
    "df"
   ]
  },
  {
   "cell_type": "code",
   "execution_count": 17,
   "metadata": {
    "execution": {
     "iopub.execute_input": "2021-03-30T00:38:31.208346Z",
     "iopub.status.busy": "2021-03-30T00:38:31.207349Z",
     "iopub.status.idle": "2021-03-30T00:38:31.220346Z",
     "shell.execute_reply": "2021-03-30T00:38:31.218354Z",
     "shell.execute_reply.started": "2021-03-30T00:38:31.208346Z"
    }
   },
   "outputs": [
    {
     "data": {
      "text/plain": [
       "city      서울\n",
       "year    2010\n",
       "pop     0.92\n",
       "Name: 2, dtype: object"
      ]
     },
     "execution_count": 17,
     "metadata": {},
     "output_type": "execute_result"
    }
   ],
   "source": [
    "df.loc[2] #> 인덱스가 2인 row만 선택, Series 타입으로 출력"
   ]
  },
  {
   "cell_type": "code",
   "execution_count": 18,
   "metadata": {
    "execution": {
     "iopub.execute_input": "2021-03-30T00:38:31.223306Z",
     "iopub.status.busy": "2021-03-30T00:38:31.222309Z",
     "iopub.status.idle": "2021-03-30T00:38:31.236472Z",
     "shell.execute_reply": "2021-03-30T00:38:31.233996Z",
     "shell.execute_reply.started": "2021-03-30T00:38:31.223306Z"
    }
   },
   "outputs": [
    {
     "data": {
      "text/plain": [
       "city      서울\n",
       "year    2010\n",
       "pop     0.92\n",
       "Name: 2, dtype: object"
      ]
     },
     "execution_count": 18,
     "metadata": {},
     "output_type": "execute_result"
    }
   ],
   "source": [
    "df.iloc[2]"
   ]
  },
  {
   "cell_type": "code",
   "execution_count": 19,
   "metadata": {
    "execution": {
     "iopub.execute_input": "2021-03-30T00:38:31.239464Z",
     "iopub.status.busy": "2021-03-30T00:38:31.238467Z",
     "iopub.status.idle": "2021-03-30T00:38:31.254264Z",
     "shell.execute_reply": "2021-03-30T00:38:31.252272Z",
     "shell.execute_reply.started": "2021-03-30T00:38:31.239464Z"
    }
   },
   "outputs": [
    {
     "data": {
      "text/plain": [
       "city      경기\n",
       "year    2020\n",
       "pop      1.5\n",
       "Name: 5, dtype: object"
      ]
     },
     "execution_count": 19,
     "metadata": {},
     "output_type": "execute_result"
    }
   ],
   "source": [
    "df.iloc[-1]"
   ]
  },
  {
   "cell_type": "markdown",
   "metadata": {},
   "source": [
    "## DatFrame Slicing"
   ]
  },
  {
   "cell_type": "markdown",
   "metadata": {},
   "source": [
    "### iloc(integer-based location) 기반 Slicing"
   ]
  },
  {
   "cell_type": "code",
   "execution_count": 20,
   "metadata": {
    "execution": {
     "iopub.execute_input": "2021-03-30T00:38:31.257256Z",
     "iopub.status.busy": "2021-03-30T00:38:31.256677Z",
     "iopub.status.idle": "2021-03-30T00:38:31.274403Z",
     "shell.execute_reply": "2021-03-30T00:38:31.272298Z",
     "shell.execute_reply.started": "2021-03-30T00:38:31.257256Z"
    }
   },
   "outputs": [
    {
     "data": {
      "text/html": [
       "<div>\n",
       "<style scoped>\n",
       "    .dataframe tbody tr th:only-of-type {\n",
       "        vertical-align: middle;\n",
       "    }\n",
       "\n",
       "    .dataframe tbody tr th {\n",
       "        vertical-align: top;\n",
       "    }\n",
       "\n",
       "    .dataframe thead th {\n",
       "        text-align: right;\n",
       "    }\n",
       "</style>\n",
       "<table border=\"1\" class=\"dataframe\">\n",
       "  <thead>\n",
       "    <tr style=\"text-align: right;\">\n",
       "      <th></th>\n",
       "      <th>city</th>\n",
       "      <th>year</th>\n",
       "      <th>pop</th>\n",
       "    </tr>\n",
       "  </thead>\n",
       "  <tbody>\n",
       "    <tr>\n",
       "      <th>0</th>\n",
       "      <td>서울</td>\n",
       "      <td>2018</td>\n",
       "      <td>0.85</td>\n",
       "    </tr>\n",
       "    <tr>\n",
       "      <th>1</th>\n",
       "      <td>서울</td>\n",
       "      <td>2019</td>\n",
       "      <td>0.90</td>\n",
       "    </tr>\n",
       "    <tr>\n",
       "      <th>2</th>\n",
       "      <td>서울</td>\n",
       "      <td>2010</td>\n",
       "      <td>0.92</td>\n",
       "    </tr>\n",
       "  </tbody>\n",
       "</table>\n",
       "</div>"
      ],
      "text/plain": [
       "  city  year   pop\n",
       "0   서울  2018  0.85\n",
       "1   서울  2019  0.90\n",
       "2   서울  2010  0.92"
      ]
     },
     "execution_count": 20,
     "metadata": {},
     "output_type": "execute_result"
    }
   ],
   "source": [
    "# start <= index < end\n",
    "df.iloc[0:3]"
   ]
  },
  {
   "cell_type": "code",
   "execution_count": 21,
   "metadata": {
    "execution": {
     "iopub.execute_input": "2021-03-30T00:38:48.259522Z",
     "iopub.status.busy": "2021-03-30T00:38:48.258450Z",
     "iopub.status.idle": "2021-03-30T00:38:48.275451Z",
     "shell.execute_reply": "2021-03-30T00:38:48.273459Z",
     "shell.execute_reply.started": "2021-03-30T00:38:48.259522Z"
    }
   },
   "outputs": [
    {
     "data": {
      "text/html": [
       "<div>\n",
       "<style scoped>\n",
       "    .dataframe tbody tr th:only-of-type {\n",
       "        vertical-align: middle;\n",
       "    }\n",
       "\n",
       "    .dataframe tbody tr th {\n",
       "        vertical-align: top;\n",
       "    }\n",
       "\n",
       "    .dataframe thead th {\n",
       "        text-align: right;\n",
       "    }\n",
       "</style>\n",
       "<table border=\"1\" class=\"dataframe\">\n",
       "  <thead>\n",
       "    <tr style=\"text-align: right;\">\n",
       "      <th></th>\n",
       "      <th>city</th>\n",
       "      <th>year</th>\n",
       "      <th>pop</th>\n",
       "    </tr>\n",
       "  </thead>\n",
       "  <tbody>\n",
       "    <tr>\n",
       "      <th>0</th>\n",
       "      <td>서울</td>\n",
       "      <td>2018</td>\n",
       "      <td>0.85</td>\n",
       "    </tr>\n",
       "    <tr>\n",
       "      <th>1</th>\n",
       "      <td>서울</td>\n",
       "      <td>2019</td>\n",
       "      <td>0.90</td>\n",
       "    </tr>\n",
       "  </tbody>\n",
       "</table>\n",
       "</div>"
      ],
      "text/plain": [
       "  city  year   pop\n",
       "0   서울  2018  0.85\n",
       "1   서울  2019  0.90"
      ]
     },
     "execution_count": 21,
     "metadata": {},
     "output_type": "execute_result"
    }
   ],
   "source": [
    "df.iloc[:2]"
   ]
  },
  {
   "cell_type": "code",
   "execution_count": 22,
   "metadata": {
    "execution": {
     "iopub.execute_input": "2021-03-30T00:38:57.016297Z",
     "iopub.status.busy": "2021-03-30T00:38:57.015295Z",
     "iopub.status.idle": "2021-03-30T00:38:57.036281Z",
     "shell.execute_reply": "2021-03-30T00:38:57.034287Z",
     "shell.execute_reply.started": "2021-03-30T00:38:57.016297Z"
    }
   },
   "outputs": [
    {
     "data": {
      "text/html": [
       "<div>\n",
       "<style scoped>\n",
       "    .dataframe tbody tr th:only-of-type {\n",
       "        vertical-align: middle;\n",
       "    }\n",
       "\n",
       "    .dataframe tbody tr th {\n",
       "        vertical-align: top;\n",
       "    }\n",
       "\n",
       "    .dataframe thead th {\n",
       "        text-align: right;\n",
       "    }\n",
       "</style>\n",
       "<table border=\"1\" class=\"dataframe\">\n",
       "  <thead>\n",
       "    <tr style=\"text-align: right;\">\n",
       "      <th></th>\n",
       "      <th>city</th>\n",
       "      <th>year</th>\n",
       "      <th>pop</th>\n",
       "    </tr>\n",
       "  </thead>\n",
       "  <tbody>\n",
       "    <tr>\n",
       "      <th>4</th>\n",
       "      <td>경기</td>\n",
       "      <td>2019</td>\n",
       "      <td>1.2</td>\n",
       "    </tr>\n",
       "    <tr>\n",
       "      <th>5</th>\n",
       "      <td>경기</td>\n",
       "      <td>2020</td>\n",
       "      <td>1.5</td>\n",
       "    </tr>\n",
       "  </tbody>\n",
       "</table>\n",
       "</div>"
      ],
      "text/plain": [
       "  city  year  pop\n",
       "4   경기  2019  1.2\n",
       "5   경기  2020  1.5"
      ]
     },
     "execution_count": 22,
     "metadata": {},
     "output_type": "execute_result"
    }
   ],
   "source": [
    "df.iloc[4:]"
   ]
  },
  {
   "cell_type": "markdown",
   "metadata": {},
   "source": [
    "### loc(label-based location) 기반 Slicing"
   ]
  },
  {
   "cell_type": "code",
   "execution_count": 23,
   "metadata": {
    "execution": {
     "iopub.execute_input": "2021-03-30T00:40:07.183702Z",
     "iopub.status.busy": "2021-03-30T00:40:07.182909Z",
     "iopub.status.idle": "2021-03-30T00:40:07.203193Z",
     "shell.execute_reply": "2021-03-30T00:40:07.201198Z",
     "shell.execute_reply.started": "2021-03-30T00:40:07.183702Z"
    }
   },
   "outputs": [
    {
     "data": {
      "text/html": [
       "<div>\n",
       "<style scoped>\n",
       "    .dataframe tbody tr th:only-of-type {\n",
       "        vertical-align: middle;\n",
       "    }\n",
       "\n",
       "    .dataframe tbody tr th {\n",
       "        vertical-align: top;\n",
       "    }\n",
       "\n",
       "    .dataframe thead th {\n",
       "        text-align: right;\n",
       "    }\n",
       "</style>\n",
       "<table border=\"1\" class=\"dataframe\">\n",
       "  <thead>\n",
       "    <tr style=\"text-align: right;\">\n",
       "      <th></th>\n",
       "      <th>city</th>\n",
       "      <th>year</th>\n",
       "      <th>pop</th>\n",
       "    </tr>\n",
       "  </thead>\n",
       "  <tbody>\n",
       "    <tr>\n",
       "      <th>0</th>\n",
       "      <td>서울</td>\n",
       "      <td>2018</td>\n",
       "      <td>0.85</td>\n",
       "    </tr>\n",
       "    <tr>\n",
       "      <th>1</th>\n",
       "      <td>서울</td>\n",
       "      <td>2019</td>\n",
       "      <td>0.90</td>\n",
       "    </tr>\n",
       "  </tbody>\n",
       "</table>\n",
       "</div>"
      ],
      "text/plain": [
       "  city  year   pop\n",
       "0   서울  2018  0.85\n",
       "1   서울  2019  0.90"
      ]
     },
     "execution_count": 23,
     "metadata": {},
     "output_type": "execute_result"
    }
   ],
   "source": [
    "df.loc[:1]"
   ]
  },
  {
   "cell_type": "code",
   "execution_count": 24,
   "metadata": {
    "execution": {
     "iopub.execute_input": "2021-03-30T00:40:13.214047Z",
     "iopub.status.busy": "2021-03-30T00:40:13.213082Z",
     "iopub.status.idle": "2021-03-30T00:40:13.232761Z",
     "shell.execute_reply": "2021-03-30T00:40:13.231152Z",
     "shell.execute_reply.started": "2021-03-30T00:40:13.214047Z"
    }
   },
   "outputs": [
    {
     "data": {
      "text/html": [
       "<div>\n",
       "<style scoped>\n",
       "    .dataframe tbody tr th:only-of-type {\n",
       "        vertical-align: middle;\n",
       "    }\n",
       "\n",
       "    .dataframe tbody tr th {\n",
       "        vertical-align: top;\n",
       "    }\n",
       "\n",
       "    .dataframe thead th {\n",
       "        text-align: right;\n",
       "    }\n",
       "</style>\n",
       "<table border=\"1\" class=\"dataframe\">\n",
       "  <thead>\n",
       "    <tr style=\"text-align: right;\">\n",
       "      <th></th>\n",
       "      <th>city</th>\n",
       "      <th>year</th>\n",
       "      <th>pop</th>\n",
       "    </tr>\n",
       "  </thead>\n",
       "  <tbody>\n",
       "    <tr>\n",
       "      <th>4</th>\n",
       "      <td>경기</td>\n",
       "      <td>2019</td>\n",
       "      <td>1.2</td>\n",
       "    </tr>\n",
       "    <tr>\n",
       "      <th>5</th>\n",
       "      <td>경기</td>\n",
       "      <td>2020</td>\n",
       "      <td>1.5</td>\n",
       "    </tr>\n",
       "  </tbody>\n",
       "</table>\n",
       "</div>"
      ],
      "text/plain": [
       "  city  year  pop\n",
       "4   경기  2019  1.2\n",
       "5   경기  2020  1.5"
      ]
     },
     "execution_count": 24,
     "metadata": {},
     "output_type": "execute_result"
    }
   ],
   "source": [
    "df.loc[4:]"
   ]
  },
  {
   "cell_type": "markdown",
   "metadata": {},
   "source": [
    "## DataFrame boolean indexing\n",
    "* np.ndarray, pd.Series, pd.DataFrame의 boolean indexing 에서는 and, or, not 사용 불가\n",
    "* **|, &, ~ 연산자 사용**\n",
    "* 괄호()로 순서를 명시해야 함"
   ]
  },
  {
   "cell_type": "code",
   "execution_count": 25,
   "metadata": {
    "execution": {
     "iopub.execute_input": "2021-03-30T00:40:28.430885Z",
     "iopub.status.busy": "2021-03-30T00:40:28.430885Z",
     "iopub.status.idle": "2021-03-30T00:40:28.449217Z",
     "shell.execute_reply": "2021-03-30T00:40:28.448221Z",
     "shell.execute_reply.started": "2021-03-30T00:40:28.430885Z"
    }
   },
   "outputs": [
    {
     "data": {
      "text/html": [
       "<div>\n",
       "<style scoped>\n",
       "    .dataframe tbody tr th:only-of-type {\n",
       "        vertical-align: middle;\n",
       "    }\n",
       "\n",
       "    .dataframe tbody tr th {\n",
       "        vertical-align: top;\n",
       "    }\n",
       "\n",
       "    .dataframe thead th {\n",
       "        text-align: right;\n",
       "    }\n",
       "</style>\n",
       "<table border=\"1\" class=\"dataframe\">\n",
       "  <thead>\n",
       "    <tr style=\"text-align: right;\">\n",
       "      <th></th>\n",
       "      <th>city</th>\n",
       "      <th>year</th>\n",
       "      <th>pop</th>\n",
       "    </tr>\n",
       "  </thead>\n",
       "  <tbody>\n",
       "    <tr>\n",
       "      <th>0</th>\n",
       "      <td>서울</td>\n",
       "      <td>2018</td>\n",
       "      <td>0.85</td>\n",
       "    </tr>\n",
       "    <tr>\n",
       "      <th>1</th>\n",
       "      <td>서울</td>\n",
       "      <td>2019</td>\n",
       "      <td>0.90</td>\n",
       "    </tr>\n",
       "    <tr>\n",
       "      <th>2</th>\n",
       "      <td>서울</td>\n",
       "      <td>2010</td>\n",
       "      <td>0.92</td>\n",
       "    </tr>\n",
       "    <tr>\n",
       "      <th>3</th>\n",
       "      <td>경기</td>\n",
       "      <td>2009</td>\n",
       "      <td>1.10</td>\n",
       "    </tr>\n",
       "    <tr>\n",
       "      <th>4</th>\n",
       "      <td>경기</td>\n",
       "      <td>2019</td>\n",
       "      <td>1.20</td>\n",
       "    </tr>\n",
       "    <tr>\n",
       "      <th>5</th>\n",
       "      <td>경기</td>\n",
       "      <td>2020</td>\n",
       "      <td>1.50</td>\n",
       "    </tr>\n",
       "  </tbody>\n",
       "</table>\n",
       "</div>"
      ],
      "text/plain": [
       "  city  year   pop\n",
       "0   서울  2018  0.85\n",
       "1   서울  2019  0.90\n",
       "2   서울  2010  0.92\n",
       "3   경기  2009  1.10\n",
       "4   경기  2019  1.20\n",
       "5   경기  2020  1.50"
      ]
     },
     "execution_count": 25,
     "metadata": {},
     "output_type": "execute_result"
    }
   ],
   "source": [
    "df"
   ]
  },
  {
   "cell_type": "code",
   "execution_count": 26,
   "metadata": {
    "execution": {
     "iopub.execute_input": "2021-03-30T00:40:46.459278Z",
     "iopub.status.busy": "2021-03-30T00:40:46.459278Z",
     "iopub.status.idle": "2021-03-30T00:40:46.471540Z",
     "shell.execute_reply": "2021-03-30T00:40:46.470108Z",
     "shell.execute_reply.started": "2021-03-30T00:40:46.459278Z"
    }
   },
   "outputs": [
    {
     "data": {
      "text/plain": [
       "0    2018\n",
       "1    2019\n",
       "2    2010\n",
       "3    2009\n",
       "4    2019\n",
       "5    2020\n",
       "Name: year, dtype: int64"
      ]
     },
     "execution_count": 26,
     "metadata": {},
     "output_type": "execute_result"
    }
   ],
   "source": [
    "# 2020년 데이터 출력\n",
    "df.year"
   ]
  },
  {
   "cell_type": "code",
   "execution_count": 27,
   "metadata": {
    "execution": {
     "iopub.execute_input": "2021-03-30T00:40:53.035339Z",
     "iopub.status.busy": "2021-03-30T00:40:53.034343Z",
     "iopub.status.idle": "2021-03-30T00:40:53.128700Z",
     "shell.execute_reply": "2021-03-30T00:40:53.126424Z",
     "shell.execute_reply.started": "2021-03-30T00:40:53.035339Z"
    }
   },
   "outputs": [
    {
     "data": {
      "text/plain": [
       "0    False\n",
       "1    False\n",
       "2    False\n",
       "3    False\n",
       "4    False\n",
       "5     True\n",
       "Name: year, dtype: bool"
      ]
     },
     "execution_count": 27,
     "metadata": {},
     "output_type": "execute_result"
    }
   ],
   "source": [
    "df.year == 2020"
   ]
  },
  {
   "cell_type": "code",
   "execution_count": 28,
   "metadata": {
    "execution": {
     "iopub.execute_input": "2021-03-30T00:49:46.596421Z",
     "iopub.status.busy": "2021-03-30T00:49:46.594732Z",
     "iopub.status.idle": "2021-03-30T00:49:46.620662Z",
     "shell.execute_reply": "2021-03-30T00:49:46.618667Z",
     "shell.execute_reply.started": "2021-03-30T00:49:46.596421Z"
    }
   },
   "outputs": [
    {
     "data": {
      "text/html": [
       "<div>\n",
       "<style scoped>\n",
       "    .dataframe tbody tr th:only-of-type {\n",
       "        vertical-align: middle;\n",
       "    }\n",
       "\n",
       "    .dataframe tbody tr th {\n",
       "        vertical-align: top;\n",
       "    }\n",
       "\n",
       "    .dataframe thead th {\n",
       "        text-align: right;\n",
       "    }\n",
       "</style>\n",
       "<table border=\"1\" class=\"dataframe\">\n",
       "  <thead>\n",
       "    <tr style=\"text-align: right;\">\n",
       "      <th></th>\n",
       "      <th>city</th>\n",
       "      <th>year</th>\n",
       "      <th>pop</th>\n",
       "    </tr>\n",
       "  </thead>\n",
       "  <tbody>\n",
       "    <tr>\n",
       "      <th>5</th>\n",
       "      <td>경기</td>\n",
       "      <td>2020</td>\n",
       "      <td>1.5</td>\n",
       "    </tr>\n",
       "  </tbody>\n",
       "</table>\n",
       "</div>"
      ],
      "text/plain": [
       "  city  year  pop\n",
       "5   경기  2020  1.5"
      ]
     },
     "execution_count": 28,
     "metadata": {},
     "output_type": "execute_result"
    }
   ],
   "source": [
    "df[df.year == 2020]"
   ]
  },
  {
   "cell_type": "code",
   "execution_count": 29,
   "metadata": {
    "execution": {
     "iopub.execute_input": "2021-03-30T00:51:09.385868Z",
     "iopub.status.busy": "2021-03-30T00:51:09.384872Z",
     "iopub.status.idle": "2021-03-30T00:51:09.406744Z",
     "shell.execute_reply": "2021-03-30T00:51:09.404779Z",
     "shell.execute_reply.started": "2021-03-30T00:51:09.385868Z"
    }
   },
   "outputs": [
    {
     "data": {
      "text/html": [
       "<div>\n",
       "<style scoped>\n",
       "    .dataframe tbody tr th:only-of-type {\n",
       "        vertical-align: middle;\n",
       "    }\n",
       "\n",
       "    .dataframe tbody tr th {\n",
       "        vertical-align: top;\n",
       "    }\n",
       "\n",
       "    .dataframe thead th {\n",
       "        text-align: right;\n",
       "    }\n",
       "</style>\n",
       "<table border=\"1\" class=\"dataframe\">\n",
       "  <thead>\n",
       "    <tr style=\"text-align: right;\">\n",
       "      <th></th>\n",
       "      <th>city</th>\n",
       "      <th>year</th>\n",
       "      <th>pop</th>\n",
       "    </tr>\n",
       "  </thead>\n",
       "  <tbody>\n",
       "    <tr>\n",
       "      <th>5</th>\n",
       "      <td>경기</td>\n",
       "      <td>2020</td>\n",
       "      <td>1.5</td>\n",
       "    </tr>\n",
       "  </tbody>\n",
       "</table>\n",
       "</div>"
      ],
      "text/plain": [
       "  city  year  pop\n",
       "5   경기  2020  1.5"
      ]
     },
     "execution_count": 29,
     "metadata": {},
     "output_type": "execute_result"
    }
   ],
   "source": [
    "df[(df['year'] == 2020) & (df['pop'] >= 1.0)]"
   ]
  }
 ],
 "metadata": {
  "kernelspec": {
   "display_name": "Python 3",
   "language": "python",
   "name": "python3"
  },
  "language_info": {
   "codemirror_mode": {
    "name": "ipython",
    "version": 3
   },
   "file_extension": ".py",
   "mimetype": "text/x-python",
   "name": "python",
   "nbconvert_exporter": "python",
   "pygments_lexer": "ipython3",
   "version": "3.8.8"
  }
 },
 "nbformat": 4,
 "nbformat_minor": 4
}
