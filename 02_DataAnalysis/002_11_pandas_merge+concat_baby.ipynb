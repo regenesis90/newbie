{
 "cells": [
  {
   "cell_type": "code",
   "execution_count": 1,
   "metadata": {
    "execution": {
     "iopub.execute_input": "2021-03-31T00:57:35.342969Z",
     "iopub.status.busy": "2021-03-31T00:57:35.341970Z",
     "iopub.status.idle": "2021-03-31T00:57:37.432641Z",
     "shell.execute_reply": "2021-03-31T00:57:37.431643Z",
     "shell.execute_reply.started": "2021-03-31T00:57:35.342969Z"
    }
   },
   "outputs": [],
   "source": [
    "import pandas as pd\n",
    "import numpy as np"
   ]
  },
  {
   "cell_type": "code",
   "execution_count": 2,
   "metadata": {
    "execution": {
     "iopub.execute_input": "2021-03-31T00:57:37.433638Z",
     "iopub.status.busy": "2021-03-31T00:57:37.433638Z",
     "iopub.status.idle": "2021-03-31T00:57:40.930489Z",
     "shell.execute_reply": "2021-03-31T00:57:40.929204Z",
     "shell.execute_reply.started": "2021-03-31T00:57:37.433638Z"
    }
   },
   "outputs": [],
   "source": [
    "import matplotlib.pyplot as plt\n",
    "import seaborn as sns"
   ]
  },
  {
   "cell_type": "markdown",
   "metadata": {},
   "source": [
    "# Data\n",
    "* 텍스트 파일을 하나씩 읽어서 데이터프레임 생성\n",
    "* 각 데이터프레임에 year 컬럼 추가\n",
    "* 131개의 데이터프레임을 하나의 데이터프레임으로 병합(**concat**)"
   ]
  },
  {
   "cell_type": "code",
   "execution_count": 3,
   "metadata": {
    "execution": {
     "iopub.execute_input": "2021-03-31T00:57:40.931488Z",
     "iopub.status.busy": "2021-03-31T00:57:40.931488Z",
     "iopub.status.idle": "2021-03-31T00:57:42.700362Z",
     "shell.execute_reply": "2021-03-31T00:57:42.699403Z",
     "shell.execute_reply.started": "2021-03-31T00:57:40.931488Z"
    }
   },
   "outputs": [
    {
     "data": {
      "text/html": [
       "<div>\n",
       "<style scoped>\n",
       "    .dataframe tbody tr th:only-of-type {\n",
       "        vertical-align: middle;\n",
       "    }\n",
       "\n",
       "    .dataframe tbody tr th {\n",
       "        vertical-align: top;\n",
       "    }\n",
       "\n",
       "    .dataframe thead th {\n",
       "        text-align: right;\n",
       "    }\n",
       "</style>\n",
       "<table border=\"1\" class=\"dataframe\">\n",
       "  <thead>\n",
       "    <tr style=\"text-align: right;\">\n",
       "      <th></th>\n",
       "      <th>names</th>\n",
       "      <th>gender</th>\n",
       "      <th>count</th>\n",
       "      <th>year</th>\n",
       "    </tr>\n",
       "  </thead>\n",
       "  <tbody>\n",
       "    <tr>\n",
       "      <th>0</th>\n",
       "      <td>Isabella</td>\n",
       "      <td>F</td>\n",
       "      <td>22731</td>\n",
       "      <td>2020</td>\n",
       "    </tr>\n",
       "    <tr>\n",
       "      <th>1</th>\n",
       "      <td>Sophia</td>\n",
       "      <td>F</td>\n",
       "      <td>20477</td>\n",
       "      <td>2020</td>\n",
       "    </tr>\n",
       "    <tr>\n",
       "      <th>2</th>\n",
       "      <td>Emma</td>\n",
       "      <td>F</td>\n",
       "      <td>17179</td>\n",
       "      <td>2020</td>\n",
       "    </tr>\n",
       "    <tr>\n",
       "      <th>3</th>\n",
       "      <td>Olivia</td>\n",
       "      <td>F</td>\n",
       "      <td>16860</td>\n",
       "      <td>2020</td>\n",
       "    </tr>\n",
       "    <tr>\n",
       "      <th>4</th>\n",
       "      <td>Ava</td>\n",
       "      <td>F</td>\n",
       "      <td>15300</td>\n",
       "      <td>2020</td>\n",
       "    </tr>\n",
       "  </tbody>\n",
       "</table>\n",
       "</div>"
      ],
      "text/plain": [
       "      names gender  count  year\n",
       "0  Isabella      F  22731  2020\n",
       "1    Sophia      F  20477  2020\n",
       "2      Emma      F  17179  2020\n",
       "3    Olivia      F  16860  2020\n",
       "4       Ava      F  15300  2020"
      ]
     },
     "execution_count": 3,
     "metadata": {},
     "output_type": "execute_result"
    }
   ],
   "source": [
    "file_path = 'https://github.com/wesm/pydata-book/raw/2nd-edition/datasets/babynames/yob2010.txt'\n",
    "df = pd.read_csv(file_path, header = None, names = ['names', 'gender', 'count'])\n",
    "df['year'] = 2020\n",
    "df.head()"
   ]
  },
  {
   "cell_type": "code",
   "execution_count": 4,
   "metadata": {
    "execution": {
     "iopub.execute_input": "2021-03-31T00:57:42.701358Z",
     "iopub.status.busy": "2021-03-31T00:57:42.701358Z",
     "iopub.status.idle": "2021-03-31T01:00:22.489778Z",
     "shell.execute_reply": "2021-03-31T01:00:22.488780Z",
     "shell.execute_reply.started": "2021-03-31T00:57:42.701358Z"
    }
   },
   "outputs": [
    {
     "name": "stdout",
     "output_type": "stream",
     "text": [
      "131\n"
     ]
    }
   ],
   "source": [
    "years = range(1880, 2011) #연도\n",
    "col_names = ['name', 'gender', 'count'] #데이터프레임의 컬럼 이름들\n",
    "yobs = [] #파일을 하나씩 읽어서 데이터프레임을 생성할 때마다 생성된 DF 를 append\n",
    "\n",
    "for y in years:\n",
    "    file_path = f'https://github.com/wesm/pydata-book/raw/2nd-edition/datasets/babynames/yob{y}.txt'\n",
    "    df = pd.read_csv(file_path, header=None, names=col_names)\n",
    "    df['year'] = y #데이터프레임에 파생변수 추가\n",
    "    yobs.append(df) #완성된 데이터프레임을 리스트에 추가\n",
    "\n",
    "print(len(yobs))"
   ]
  },
  {
   "cell_type": "code",
   "execution_count": 5,
   "metadata": {
    "execution": {
     "iopub.execute_input": "2021-03-31T01:00:22.490775Z",
     "iopub.status.busy": "2021-03-31T01:00:22.490775Z",
     "iopub.status.idle": "2021-03-31T01:00:22.693109Z",
     "shell.execute_reply": "2021-03-31T01:00:22.689088Z",
     "shell.execute_reply.started": "2021-03-31T01:00:22.490775Z"
    }
   },
   "outputs": [],
   "source": [
    "yob_df = pd.concat(yobs, axis = 0, ignore_index = True)"
   ]
  },
  {
   "cell_type": "code",
   "execution_count": 6,
   "metadata": {
    "execution": {
     "iopub.execute_input": "2021-03-31T01:00:22.697098Z",
     "iopub.status.busy": "2021-03-31T01:00:22.696101Z",
     "iopub.status.idle": "2021-03-31T01:00:22.723024Z",
     "shell.execute_reply": "2021-03-31T01:00:22.721030Z",
     "shell.execute_reply.started": "2021-03-31T01:00:22.696101Z"
    }
   },
   "outputs": [
    {
     "data": {
      "text/html": [
       "<div>\n",
       "<style scoped>\n",
       "    .dataframe tbody tr th:only-of-type {\n",
       "        vertical-align: middle;\n",
       "    }\n",
       "\n",
       "    .dataframe tbody tr th {\n",
       "        vertical-align: top;\n",
       "    }\n",
       "\n",
       "    .dataframe thead th {\n",
       "        text-align: right;\n",
       "    }\n",
       "</style>\n",
       "<table border=\"1\" class=\"dataframe\">\n",
       "  <thead>\n",
       "    <tr style=\"text-align: right;\">\n",
       "      <th></th>\n",
       "      <th>name</th>\n",
       "      <th>gender</th>\n",
       "      <th>count</th>\n",
       "      <th>year</th>\n",
       "    </tr>\n",
       "  </thead>\n",
       "  <tbody>\n",
       "    <tr>\n",
       "      <th>0</th>\n",
       "      <td>Mary</td>\n",
       "      <td>F</td>\n",
       "      <td>7065</td>\n",
       "      <td>1880</td>\n",
       "    </tr>\n",
       "    <tr>\n",
       "      <th>1</th>\n",
       "      <td>Anna</td>\n",
       "      <td>F</td>\n",
       "      <td>2604</td>\n",
       "      <td>1880</td>\n",
       "    </tr>\n",
       "    <tr>\n",
       "      <th>2</th>\n",
       "      <td>Emma</td>\n",
       "      <td>F</td>\n",
       "      <td>2003</td>\n",
       "      <td>1880</td>\n",
       "    </tr>\n",
       "    <tr>\n",
       "      <th>3</th>\n",
       "      <td>Elizabeth</td>\n",
       "      <td>F</td>\n",
       "      <td>1939</td>\n",
       "      <td>1880</td>\n",
       "    </tr>\n",
       "    <tr>\n",
       "      <th>4</th>\n",
       "      <td>Minnie</td>\n",
       "      <td>F</td>\n",
       "      <td>1746</td>\n",
       "      <td>1880</td>\n",
       "    </tr>\n",
       "  </tbody>\n",
       "</table>\n",
       "</div>"
      ],
      "text/plain": [
       "        name gender  count  year\n",
       "0       Mary      F   7065  1880\n",
       "1       Anna      F   2604  1880\n",
       "2       Emma      F   2003  1880\n",
       "3  Elizabeth      F   1939  1880\n",
       "4     Minnie      F   1746  1880"
      ]
     },
     "execution_count": 6,
     "metadata": {},
     "output_type": "execute_result"
    }
   ],
   "source": [
    "yob_df.head()"
   ]
  },
  {
   "cell_type": "code",
   "execution_count": 7,
   "metadata": {
    "execution": {
     "iopub.execute_input": "2021-03-31T01:00:26.188246Z",
     "iopub.status.busy": "2021-03-31T01:00:26.188246Z",
     "iopub.status.idle": "2021-03-31T01:00:26.209192Z",
     "shell.execute_reply": "2021-03-31T01:00:26.208194Z",
     "shell.execute_reply.started": "2021-03-31T01:00:26.188246Z"
    }
   },
   "outputs": [
    {
     "data": {
      "text/plain": [
       "(1690784, 4)"
      ]
     },
     "execution_count": 7,
     "metadata": {},
     "output_type": "execute_result"
    }
   ],
   "source": [
    "yob_df.shape"
   ]
  },
  {
   "cell_type": "code",
   "execution_count": 8,
   "metadata": {
    "execution": {
     "iopub.execute_input": "2021-03-31T01:02:20.087148Z",
     "iopub.status.busy": "2021-03-31T01:02:20.086150Z",
     "iopub.status.idle": "2021-03-31T01:02:20.107095Z",
     "shell.execute_reply": "2021-03-31T01:02:20.106097Z",
     "shell.execute_reply.started": "2021-03-31T01:02:20.087148Z"
    }
   },
   "outputs": [
    {
     "data": {
      "text/plain": [
       "name      Mary\n",
       "gender       F\n",
       "count     7065\n",
       "year      1880\n",
       "Name: 0, dtype: object"
      ]
     },
     "execution_count": 8,
     "metadata": {},
     "output_type": "execute_result"
    }
   ],
   "source": [
    "# 첫번째 원소의 정보\n",
    "yob_df.loc[0]"
   ]
  },
  {
   "cell_type": "markdown",
   "metadata": {},
   "source": [
    "# 시각화"
   ]
  },
  {
   "cell_type": "markdown",
   "metadata": {},
   "source": [
    "## matplotlib 사용시"
   ]
  },
  {
   "cell_type": "markdown",
   "metadata": {},
   "source": [
    "### 연도별 신생아 숫자"
   ]
  },
  {
   "cell_type": "code",
   "execution_count": 11,
   "metadata": {
    "execution": {
     "iopub.execute_input": "2021-03-31T01:02:32.052796Z",
     "iopub.status.busy": "2021-03-31T01:02:32.051839Z",
     "iopub.status.idle": "2021-03-31T01:02:32.564604Z",
     "shell.execute_reply": "2021-03-31T01:02:32.563630Z",
     "shell.execute_reply.started": "2021-03-31T01:02:32.051839Z"
    }
   },
   "outputs": [
    {
     "data": {
      "text/plain": [
       "1880     201486\n",
       "1881     192703\n",
       "1882     221538\n",
       "1883     216954\n",
       "1884     243466\n",
       "         ...   \n",
       "2006    3946702\n",
       "2007    3986130\n",
       "2008    3915955\n",
       "2009    3801002\n",
       "2010    3657392\n",
       "Length: 131, dtype: int64"
      ]
     },
     "execution_count": 11,
     "metadata": {},
     "output_type": "execute_result"
    }
   ],
   "source": [
    "# 연도별 부분집합에서 count 컬럼의 값의 합계(sum)의 리스트\n",
    "births_by_year = []\n",
    "\n",
    "for y in years:\n",
    "    sub_df = yob_df[yob_df['year'] == y]\n",
    "    births = sub_df['count'].sum()\n",
    "    births_by_year.append(births)\n",
    "# list comprehension : births_by_year=[yob_df[yob_df['year']==y]['count'].sum() for y in years]\n",
    "\n",
    "s = pd.Series(data = births_by_year, index = years)\n",
    "s"
   ]
  },
  {
   "cell_type": "code",
   "execution_count": 13,
   "metadata": {
    "execution": {
     "iopub.execute_input": "2021-03-31T01:08:30.079874Z",
     "iopub.status.busy": "2021-03-31T01:08:30.079874Z",
     "iopub.status.idle": "2021-03-31T01:08:30.260990Z",
     "shell.execute_reply": "2021-03-31T01:08:30.257986Z",
     "shell.execute_reply.started": "2021-03-31T01:08:30.079874Z"
    }
   },
   "outputs": [
    {
     "data": {
      "image/png": "[encoded data removed]",
      "text/plain": [
       "<Figure size 432x288 with 1 Axes>"
      ]
     },
     "metadata": {
      "needs_background": "light"
     },
     "output_type": "display_data"
    }
   ],
   "source": [
    "plt.plot(s.index, s.values)\n",
    "plt.show()"
   ]
  },
  {
   "cell_type": "markdown",
   "metadata": {},
   "source": [
    "### 연도별, 성별 신생아 숫자 시각화"
   ]
  },
  {
   "cell_type": "code",
   "execution_count": 14,
   "metadata": {
    "execution": {
     "iopub.execute_input": "2021-03-31T01:10:32.617106Z",
     "iopub.status.busy": "2021-03-31T01:10:32.617106Z",
     "iopub.status.idle": "2021-03-31T01:10:57.591441Z",
     "shell.execute_reply": "2021-03-31T01:10:57.588522Z",
     "shell.execute_reply.started": "2021-03-31T01:10:32.617106Z"
    }
   },
   "outputs": [],
   "source": [
    "male_births = [yob_df[(yob_df['gender'] == 'M') & (yob_df['year'] == y)]['count'].sum() for y in years]\n",
    "female_births=[yob_df[(yob_df['gender'] == 'F') & (yob_df['year'] == y)]['count'].sum() for y in years]\n",
    "\n",
    "s1 = pd.Series(data = male_births, index = years)\n",
    "s2 = pd.Series(data = female_births, index = years)"
   ]
  },
  {
   "cell_type": "code",
   "execution_count": 15,
   "metadata": {
    "execution": {
     "iopub.execute_input": "2021-03-31T01:11:12.929849Z",
     "iopub.status.busy": "2021-03-31T01:11:12.928851Z",
     "iopub.status.idle": "2021-03-31T01:11:13.102388Z",
     "shell.execute_reply": "2021-03-31T01:11:13.099394Z",
     "shell.execute_reply.started": "2021-03-31T01:11:12.929849Z"
    }
   },
   "outputs": [
    {
     "data": {
      "image/png": "[encoded data removed]",
      "text/plain": [
       "<Figure size 432x288 with 1 Axes>"
      ]
     },
     "metadata": {
      "needs_background": "light"
     },
     "output_type": "display_data"
    }
   ],
   "source": [
    "plt.plot(s2.index, s2.values, label = 'Female')\n",
    "plt.plot(s1.index, s1.values, label = 'Male')\n",
    "\n",
    "plt.legend()\n",
    "plt.xlabel('year')\n",
    "plt.ylabel('birth')\n",
    "plt.grid()\n",
    "plt.show()"
   ]
  },
  {
   "cell_type": "markdown",
   "metadata": {},
   "source": [
    "## seaborn 사용 시"
   ]
  },
  {
   "cell_type": "code",
   "execution_count": 16,
   "metadata": {
    "execution": {
     "iopub.execute_input": "2021-03-31T01:11:54.543905Z",
     "iopub.status.busy": "2021-03-31T01:11:54.543905Z",
     "iopub.status.idle": "2021-03-31T01:12:10.375130Z",
     "shell.execute_reply": "2021-03-31T01:12:10.372139Z",
     "shell.execute_reply.started": "2021-03-31T01:11:54.543905Z"
    }
   },
   "outputs": [
    {
     "data": {
      "image/png": "[encoded data removed]",
      "text/plain": [
       "<Figure size 432x288 with 1 Axes>"
      ]
     },
     "metadata": {
      "needs_background": "light"
     },
     "output_type": "display_data"
    }
   ],
   "source": [
    "sns.lineplot(data = yob_df, x = 'year', y = 'count', hue = 'gender',\n",
    "            estimator = 'sum', err_style = None)\n",
    "plt.grid()\n",
    "plt.show()"
   ]
  },
  {
   "cell_type": "markdown",
   "metadata": {},
   "source": []
  }
 ],
 "metadata": {
  "kernelspec": {
   "display_name": "Python 3",
   "language": "python",
   "name": "python3"
  },
  "language_info": {
   "codemirror_mode": {
    "name": "ipython",
    "version": 3
   },
   "file_extension": ".py",
   "mimetype": "text/x-python",
   "name": "python",
   "nbconvert_exporter": "python",
   "pygments_lexer": "ipython3",
   "version": "3.8.8"
  }
 },
 "nbformat": 4,
 "nbformat_minor": 4
}
