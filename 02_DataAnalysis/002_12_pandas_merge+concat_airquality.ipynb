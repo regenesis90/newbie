{
 "cells": [
  {
   "cell_type": "markdown",
   "metadata": {},
   "source": [
    "# import"
   ]
  },
  {
   "cell_type": "code",
   "execution_count": 1,
   "metadata": {
    "execution": {
     "iopub.execute_input": "2021-03-31T01:13:23.292143Z",
     "iopub.status.busy": "2021-03-31T01:13:23.292143Z",
     "iopub.status.idle": "2021-03-31T01:13:25.681376Z",
     "shell.execute_reply": "2021-03-31T01:13:25.680743Z",
     "shell.execute_reply.started": "2021-03-31T01:13:23.292143Z"
    }
   },
   "outputs": [],
   "source": [
    "import pandas as pd\n",
    "import numpy as np\n",
    "import seaborn as sns\n",
    "import matplotlib.pyplot as plt"
   ]
  },
  {
   "cell_type": "markdown",
   "metadata": {},
   "source": [
    "# Instruction\n",
    "* air_quality_no2_long.csv, air_quality_pm25_long.csv 파일을 읽고, 데이터프레임을 생성하기\n",
    "* 두 개의 데이터프레임을 합치기"
   ]
  },
  {
   "cell_type": "markdown",
   "metadata": {},
   "source": [
    "# Data I"
   ]
  },
  {
   "cell_type": "markdown",
   "metadata": {},
   "source": [
    "## Load Data I"
   ]
  },
  {
   "cell_type": "code",
   "execution_count": 3,
   "metadata": {
    "execution": {
     "iopub.execute_input": "2021-03-31T01:19:40.965149Z",
     "iopub.status.busy": "2021-03-31T01:19:40.965149Z",
     "iopub.status.idle": "2021-03-31T01:19:42.016322Z",
     "shell.execute_reply": "2021-03-31T01:19:42.015105Z",
     "shell.execute_reply.started": "2021-03-31T01:19:40.965149Z"
    }
   },
   "outputs": [],
   "source": [
    "#> 공기중 NO2의 농도를 3개 도시에서 1시간 간격으로 측정한 데이터\n",
    "no2_file = 'https://github.com/pandas-dev/pandas/raw/master/doc/data/air_quality_no2_long.csv'\n",
    "no2_df = pd.read_csv(no2_file)"
   ]
  },
  {
   "cell_type": "markdown",
   "metadata": {},
   "source": [
    "## Data Structure I"
   ]
  },
  {
   "cell_type": "code",
   "execution_count": 4,
   "metadata": {
    "execution": {
     "iopub.execute_input": "2021-03-31T01:19:55.240924Z",
     "iopub.status.busy": "2021-03-31T01:19:55.240924Z",
     "iopub.status.idle": "2021-03-31T01:19:55.270841Z",
     "shell.execute_reply": "2021-03-31T01:19:55.269842Z",
     "shell.execute_reply.started": "2021-03-31T01:19:55.240924Z"
    }
   },
   "outputs": [
    {
     "data": {
      "text/html": [
       "<div>\n",
       "<style scoped>\n",
       "    .dataframe tbody tr th:only-of-type {\n",
       "        vertical-align: middle;\n",
       "    }\n",
       "\n",
       "    .dataframe tbody tr th {\n",
       "        vertical-align: top;\n",
       "    }\n",
       "\n",
       "    .dataframe thead th {\n",
       "        text-align: right;\n",
       "    }\n",
       "</style>\n",
       "<table border=\"1\" class=\"dataframe\">\n",
       "  <thead>\n",
       "    <tr style=\"text-align: right;\">\n",
       "      <th></th>\n",
       "      <th>city</th>\n",
       "      <th>country</th>\n",
       "      <th>date.utc</th>\n",
       "      <th>location</th>\n",
       "      <th>parameter</th>\n",
       "      <th>value</th>\n",
       "      <th>unit</th>\n",
       "    </tr>\n",
       "  </thead>\n",
       "  <tbody>\n",
       "    <tr>\n",
       "      <th>0</th>\n",
       "      <td>Paris</td>\n",
       "      <td>FR</td>\n",
       "      <td>2019-06-21 00:00:00+00:00</td>\n",
       "      <td>FR04014</td>\n",
       "      <td>no2</td>\n",
       "      <td>20.0</td>\n",
       "      <td>µg/m³</td>\n",
       "    </tr>\n",
       "    <tr>\n",
       "      <th>1</th>\n",
       "      <td>Paris</td>\n",
       "      <td>FR</td>\n",
       "      <td>2019-06-20 23:00:00+00:00</td>\n",
       "      <td>FR04014</td>\n",
       "      <td>no2</td>\n",
       "      <td>21.8</td>\n",
       "      <td>µg/m³</td>\n",
       "    </tr>\n",
       "    <tr>\n",
       "      <th>2</th>\n",
       "      <td>Paris</td>\n",
       "      <td>FR</td>\n",
       "      <td>2019-06-20 22:00:00+00:00</td>\n",
       "      <td>FR04014</td>\n",
       "      <td>no2</td>\n",
       "      <td>26.5</td>\n",
       "      <td>µg/m³</td>\n",
       "    </tr>\n",
       "    <tr>\n",
       "      <th>3</th>\n",
       "      <td>Paris</td>\n",
       "      <td>FR</td>\n",
       "      <td>2019-06-20 21:00:00+00:00</td>\n",
       "      <td>FR04014</td>\n",
       "      <td>no2</td>\n",
       "      <td>24.9</td>\n",
       "      <td>µg/m³</td>\n",
       "    </tr>\n",
       "    <tr>\n",
       "      <th>4</th>\n",
       "      <td>Paris</td>\n",
       "      <td>FR</td>\n",
       "      <td>2019-06-20 20:00:00+00:00</td>\n",
       "      <td>FR04014</td>\n",
       "      <td>no2</td>\n",
       "      <td>21.4</td>\n",
       "      <td>µg/m³</td>\n",
       "    </tr>\n",
       "  </tbody>\n",
       "</table>\n",
       "</div>"
      ],
      "text/plain": [
       "    city country                   date.utc location parameter  value   unit\n",
       "0  Paris      FR  2019-06-21 00:00:00+00:00  FR04014       no2   20.0  µg/m³\n",
       "1  Paris      FR  2019-06-20 23:00:00+00:00  FR04014       no2   21.8  µg/m³\n",
       "2  Paris      FR  2019-06-20 22:00:00+00:00  FR04014       no2   26.5  µg/m³\n",
       "3  Paris      FR  2019-06-20 21:00:00+00:00  FR04014       no2   24.9  µg/m³\n",
       "4  Paris      FR  2019-06-20 20:00:00+00:00  FR04014       no2   21.4  µg/m³"
      ]
     },
     "execution_count": 4,
     "metadata": {},
     "output_type": "execute_result"
    }
   ],
   "source": [
    "no2_df.head()"
   ]
  },
  {
   "cell_type": "code",
   "execution_count": 5,
   "metadata": {
    "execution": {
     "iopub.execute_input": "2021-03-31T01:20:25.270267Z",
     "iopub.status.busy": "2021-03-31T01:20:25.270267Z",
     "iopub.status.idle": "2021-03-31T01:20:25.294217Z",
     "shell.execute_reply": "2021-03-31T01:20:25.291212Z",
     "shell.execute_reply.started": "2021-03-31T01:20:25.270267Z"
    }
   },
   "outputs": [
    {
     "data": {
      "text/plain": [
       "array(['Paris', 'Antwerpen', 'London'], dtype=object)"
      ]
     },
     "execution_count": 5,
     "metadata": {},
     "output_type": "execute_result"
    }
   ],
   "source": [
    "no2_df['city'].unique()"
   ]
  },
  {
   "cell_type": "code",
   "execution_count": 6,
   "metadata": {
    "execution": {
     "iopub.execute_input": "2021-03-31T01:20:44.607571Z",
     "iopub.status.busy": "2021-03-31T01:20:44.606571Z",
     "iopub.status.idle": "2021-03-31T01:20:44.618544Z",
     "shell.execute_reply": "2021-03-31T01:20:44.616553Z",
     "shell.execute_reply.started": "2021-03-31T01:20:44.607571Z"
    }
   },
   "outputs": [
    {
     "data": {
      "text/plain": [
       "array(['FR', 'BE', 'GB'], dtype=object)"
      ]
     },
     "execution_count": 6,
     "metadata": {},
     "output_type": "execute_result"
    }
   ],
   "source": [
    "no2_df['country'].unique()"
   ]
  },
  {
   "cell_type": "code",
   "execution_count": 7,
   "metadata": {
    "execution": {
     "iopub.execute_input": "2021-03-31T01:21:05.514382Z",
     "iopub.status.busy": "2021-03-31T01:21:05.514382Z",
     "iopub.status.idle": "2021-03-31T01:21:05.523361Z",
     "shell.execute_reply": "2021-03-31T01:21:05.522363Z",
     "shell.execute_reply.started": "2021-03-31T01:21:05.514382Z"
    }
   },
   "outputs": [
    {
     "data": {
      "text/plain": [
       "array(['FR04014', 'BETR801', 'London Westminster'], dtype=object)"
      ]
     },
     "execution_count": 7,
     "metadata": {},
     "output_type": "execute_result"
    }
   ],
   "source": [
    "no2_df['location'].unique()"
   ]
  },
  {
   "cell_type": "code",
   "execution_count": 8,
   "metadata": {
    "execution": {
     "iopub.execute_input": "2021-03-31T01:21:06.463614Z",
     "iopub.status.busy": "2021-03-31T01:21:06.463614Z",
     "iopub.status.idle": "2021-03-31T01:21:06.479242Z",
     "shell.execute_reply": "2021-03-31T01:21:06.476250Z",
     "shell.execute_reply.started": "2021-03-31T01:21:06.463614Z"
    }
   },
   "outputs": [
    {
     "data": {
      "text/plain": [
       "city          object\n",
       "country       object\n",
       "date.utc      object\n",
       "location      object\n",
       "parameter     object\n",
       "value        float64\n",
       "unit          object\n",
       "dtype: object"
      ]
     },
     "execution_count": 8,
     "metadata": {},
     "output_type": "execute_result"
    }
   ],
   "source": [
    "no2_df.dtypes"
   ]
  },
  {
   "cell_type": "markdown",
   "metadata": {},
   "source": [
    "## 데이터 타입 변환 I"
   ]
  },
  {
   "cell_type": "code",
   "execution_count": 9,
   "metadata": {
    "execution": {
     "iopub.execute_input": "2021-03-31T01:21:43.453701Z",
     "iopub.status.busy": "2021-03-31T01:21:43.453701Z",
     "iopub.status.idle": "2021-03-31T01:21:43.473689Z",
     "shell.execute_reply": "2021-03-31T01:21:43.471653Z",
     "shell.execute_reply.started": "2021-03-31T01:21:43.453701Z"
    }
   },
   "outputs": [
    {
     "data": {
      "text/plain": [
       "city                 object\n",
       "country              object\n",
       "date.utc     datetime64[ns]\n",
       "location             object\n",
       "parameter            object\n",
       "value               float64\n",
       "unit                 object\n",
       "dtype: object"
      ]
     },
     "execution_count": 9,
     "metadata": {},
     "output_type": "execute_result"
    }
   ],
   "source": [
    "# data.utc 컬럼의 데이터타입을 문자열 타입에서 datetime64타입으로 변환\n",
    "no2_df['date.utc'] = no2_df['date.utc'].astype('datetime64')\n",
    "no2_df.dtypes"
   ]
  },
  {
   "cell_type": "markdown",
   "metadata": {},
   "source": [
    "## London 시간대별 No2 농도그래프 시각화"
   ]
  },
  {
   "cell_type": "code",
   "execution_count": 10,
   "metadata": {
    "execution": {
     "iopub.execute_input": "2021-03-31T01:23:16.816759Z",
     "iopub.status.busy": "2021-03-31T01:23:16.815762Z",
     "iopub.status.idle": "2021-03-31T01:23:17.000873Z",
     "shell.execute_reply": "2021-03-31T01:23:16.999877Z",
     "shell.execute_reply.started": "2021-03-31T01:23:16.816759Z"
    }
   },
   "outputs": [
    {
     "data": {
      "image/png": "[encoded data removed]",
      "text/plain": [
       "<Figure size 432x288 with 1 Axes>"
      ]
     },
     "metadata": {
      "needs_background": "light"
     },
     "output_type": "display_data"
    }
   ],
   "source": [
    "london = no2_df[no2_df['city'] == 'London']\n",
    "plt.plot('date.utc', 'value', data = london)\n",
    "plt.show()"
   ]
  },
  {
   "cell_type": "markdown",
   "metadata": {},
   "source": [
    "# Data II"
   ]
  },
  {
   "cell_type": "markdown",
   "metadata": {},
   "source": [
    "## Load Data II"
   ]
  },
  {
   "cell_type": "code",
   "execution_count": 11,
   "metadata": {
    "execution": {
     "iopub.execute_input": "2021-03-31T01:30:53.358307Z",
     "iopub.status.busy": "2021-03-31T01:30:53.358307Z",
     "iopub.status.idle": "2021-03-31T01:30:54.413995Z",
     "shell.execute_reply": "2021-03-31T01:30:54.413038Z",
     "shell.execute_reply.started": "2021-03-31T01:30:53.358307Z"
    }
   },
   "outputs": [],
   "source": [
    "#> 지름이 2.5um 이하인 미세먼지의 공기중 농도를 2개의 도시에서 1시간 간격으로 측정한 데이터프레임\n",
    "pm25_file = 'https://github.com/pandas-dev/pandas/raw/master/doc/data/air_quality_pm25_long.csv'\n",
    "pm25_df = pd.read_csv(pm25_file)"
   ]
  },
  {
   "cell_type": "markdown",
   "metadata": {},
   "source": [
    "## Data Structure II"
   ]
  },
  {
   "cell_type": "code",
   "execution_count": 12,
   "metadata": {
    "execution": {
     "iopub.execute_input": "2021-03-31T01:31:07.849464Z",
     "iopub.status.busy": "2021-03-31T01:31:07.848466Z",
     "iopub.status.idle": "2021-03-31T01:31:07.873398Z",
     "shell.execute_reply": "2021-03-31T01:31:07.872401Z",
     "shell.execute_reply.started": "2021-03-31T01:31:07.849464Z"
    }
   },
   "outputs": [
    {
     "data": {
      "text/html": [
       "<div>\n",
       "<style scoped>\n",
       "    .dataframe tbody tr th:only-of-type {\n",
       "        vertical-align: middle;\n",
       "    }\n",
       "\n",
       "    .dataframe tbody tr th {\n",
       "        vertical-align: top;\n",
       "    }\n",
       "\n",
       "    .dataframe thead th {\n",
       "        text-align: right;\n",
       "    }\n",
       "</style>\n",
       "<table border=\"1\" class=\"dataframe\">\n",
       "  <thead>\n",
       "    <tr style=\"text-align: right;\">\n",
       "      <th></th>\n",
       "      <th>city</th>\n",
       "      <th>country</th>\n",
       "      <th>date.utc</th>\n",
       "      <th>location</th>\n",
       "      <th>parameter</th>\n",
       "      <th>value</th>\n",
       "      <th>unit</th>\n",
       "    </tr>\n",
       "  </thead>\n",
       "  <tbody>\n",
       "    <tr>\n",
       "      <th>0</th>\n",
       "      <td>Antwerpen</td>\n",
       "      <td>BE</td>\n",
       "      <td>2019-06-18 06:00:00+00:00</td>\n",
       "      <td>BETR801</td>\n",
       "      <td>pm25</td>\n",
       "      <td>18.0</td>\n",
       "      <td>µg/m³</td>\n",
       "    </tr>\n",
       "    <tr>\n",
       "      <th>1</th>\n",
       "      <td>Antwerpen</td>\n",
       "      <td>BE</td>\n",
       "      <td>2019-06-17 08:00:00+00:00</td>\n",
       "      <td>BETR801</td>\n",
       "      <td>pm25</td>\n",
       "      <td>6.5</td>\n",
       "      <td>µg/m³</td>\n",
       "    </tr>\n",
       "    <tr>\n",
       "      <th>2</th>\n",
       "      <td>Antwerpen</td>\n",
       "      <td>BE</td>\n",
       "      <td>2019-06-17 07:00:00+00:00</td>\n",
       "      <td>BETR801</td>\n",
       "      <td>pm25</td>\n",
       "      <td>18.5</td>\n",
       "      <td>µg/m³</td>\n",
       "    </tr>\n",
       "    <tr>\n",
       "      <th>3</th>\n",
       "      <td>Antwerpen</td>\n",
       "      <td>BE</td>\n",
       "      <td>2019-06-17 06:00:00+00:00</td>\n",
       "      <td>BETR801</td>\n",
       "      <td>pm25</td>\n",
       "      <td>16.0</td>\n",
       "      <td>µg/m³</td>\n",
       "    </tr>\n",
       "    <tr>\n",
       "      <th>4</th>\n",
       "      <td>Antwerpen</td>\n",
       "      <td>BE</td>\n",
       "      <td>2019-06-17 05:00:00+00:00</td>\n",
       "      <td>BETR801</td>\n",
       "      <td>pm25</td>\n",
       "      <td>7.5</td>\n",
       "      <td>µg/m³</td>\n",
       "    </tr>\n",
       "  </tbody>\n",
       "</table>\n",
       "</div>"
      ],
      "text/plain": [
       "        city country                   date.utc location parameter  value  \\\n",
       "0  Antwerpen      BE  2019-06-18 06:00:00+00:00  BETR801      pm25   18.0   \n",
       "1  Antwerpen      BE  2019-06-17 08:00:00+00:00  BETR801      pm25    6.5   \n",
       "2  Antwerpen      BE  2019-06-17 07:00:00+00:00  BETR801      pm25   18.5   \n",
       "3  Antwerpen      BE  2019-06-17 06:00:00+00:00  BETR801      pm25   16.0   \n",
       "4  Antwerpen      BE  2019-06-17 05:00:00+00:00  BETR801      pm25    7.5   \n",
       "\n",
       "    unit  \n",
       "0  µg/m³  \n",
       "1  µg/m³  \n",
       "2  µg/m³  \n",
       "3  µg/m³  \n",
       "4  µg/m³  "
      ]
     },
     "execution_count": 12,
     "metadata": {},
     "output_type": "execute_result"
    }
   ],
   "source": [
    "pm25_df.head()"
   ]
  },
  {
   "cell_type": "code",
   "execution_count": 13,
   "metadata": {
    "execution": {
     "iopub.execute_input": "2021-03-31T01:31:16.251765Z",
     "iopub.status.busy": "2021-03-31T01:31:16.251765Z",
     "iopub.status.idle": "2021-03-31T01:31:16.265729Z",
     "shell.execute_reply": "2021-03-31T01:31:16.264729Z",
     "shell.execute_reply.started": "2021-03-31T01:31:16.251765Z"
    }
   },
   "outputs": [
    {
     "data": {
      "text/html": [
       "<div>\n",
       "<style scoped>\n",
       "    .dataframe tbody tr th:only-of-type {\n",
       "        vertical-align: middle;\n",
       "    }\n",
       "\n",
       "    .dataframe tbody tr th {\n",
       "        vertical-align: top;\n",
       "    }\n",
       "\n",
       "    .dataframe thead th {\n",
       "        text-align: right;\n",
       "    }\n",
       "</style>\n",
       "<table border=\"1\" class=\"dataframe\">\n",
       "  <thead>\n",
       "    <tr style=\"text-align: right;\">\n",
       "      <th></th>\n",
       "      <th>city</th>\n",
       "      <th>country</th>\n",
       "      <th>date.utc</th>\n",
       "      <th>location</th>\n",
       "      <th>parameter</th>\n",
       "      <th>value</th>\n",
       "      <th>unit</th>\n",
       "    </tr>\n",
       "  </thead>\n",
       "  <tbody>\n",
       "    <tr>\n",
       "      <th>1105</th>\n",
       "      <td>London</td>\n",
       "      <td>GB</td>\n",
       "      <td>2019-05-07 06:00:00+00:00</td>\n",
       "      <td>London Westminster</td>\n",
       "      <td>pm25</td>\n",
       "      <td>9.0</td>\n",
       "      <td>µg/m³</td>\n",
       "    </tr>\n",
       "    <tr>\n",
       "      <th>1106</th>\n",
       "      <td>London</td>\n",
       "      <td>GB</td>\n",
       "      <td>2019-05-07 04:00:00+00:00</td>\n",
       "      <td>London Westminster</td>\n",
       "      <td>pm25</td>\n",
       "      <td>8.0</td>\n",
       "      <td>µg/m³</td>\n",
       "    </tr>\n",
       "    <tr>\n",
       "      <th>1107</th>\n",
       "      <td>London</td>\n",
       "      <td>GB</td>\n",
       "      <td>2019-05-07 03:00:00+00:00</td>\n",
       "      <td>London Westminster</td>\n",
       "      <td>pm25</td>\n",
       "      <td>8.0</td>\n",
       "      <td>µg/m³</td>\n",
       "    </tr>\n",
       "    <tr>\n",
       "      <th>1108</th>\n",
       "      <td>London</td>\n",
       "      <td>GB</td>\n",
       "      <td>2019-05-07 02:00:00+00:00</td>\n",
       "      <td>London Westminster</td>\n",
       "      <td>pm25</td>\n",
       "      <td>8.0</td>\n",
       "      <td>µg/m³</td>\n",
       "    </tr>\n",
       "    <tr>\n",
       "      <th>1109</th>\n",
       "      <td>London</td>\n",
       "      <td>GB</td>\n",
       "      <td>2019-05-07 01:00:00+00:00</td>\n",
       "      <td>London Westminster</td>\n",
       "      <td>pm25</td>\n",
       "      <td>8.0</td>\n",
       "      <td>µg/m³</td>\n",
       "    </tr>\n",
       "  </tbody>\n",
       "</table>\n",
       "</div>"
      ],
      "text/plain": [
       "        city country                   date.utc            location parameter  \\\n",
       "1105  London      GB  2019-05-07 06:00:00+00:00  London Westminster      pm25   \n",
       "1106  London      GB  2019-05-07 04:00:00+00:00  London Westminster      pm25   \n",
       "1107  London      GB  2019-05-07 03:00:00+00:00  London Westminster      pm25   \n",
       "1108  London      GB  2019-05-07 02:00:00+00:00  London Westminster      pm25   \n",
       "1109  London      GB  2019-05-07 01:00:00+00:00  London Westminster      pm25   \n",
       "\n",
       "      value   unit  \n",
       "1105    9.0  µg/m³  \n",
       "1106    8.0  µg/m³  \n",
       "1107    8.0  µg/m³  \n",
       "1108    8.0  µg/m³  \n",
       "1109    8.0  µg/m³  "
      ]
     },
     "execution_count": 13,
     "metadata": {},
     "output_type": "execute_result"
    }
   ],
   "source": [
    "pm25_df.tail()"
   ]
  },
  {
   "cell_type": "code",
   "execution_count": 14,
   "metadata": {
    "execution": {
     "iopub.execute_input": "2021-03-31T01:31:21.639506Z",
     "iopub.status.busy": "2021-03-31T01:31:21.638510Z",
     "iopub.status.idle": "2021-03-31T01:31:21.651434Z",
     "shell.execute_reply": "2021-03-31T01:31:21.649439Z",
     "shell.execute_reply.started": "2021-03-31T01:31:21.639506Z"
    }
   },
   "outputs": [
    {
     "data": {
      "text/plain": [
       "(1110, 7)"
      ]
     },
     "execution_count": 14,
     "metadata": {},
     "output_type": "execute_result"
    }
   ],
   "source": [
    "pm25_df.shape"
   ]
  },
  {
   "cell_type": "code",
   "execution_count": 15,
   "metadata": {
    "execution": {
     "iopub.execute_input": "2021-03-31T01:31:48.025107Z",
     "iopub.status.busy": "2021-03-31T01:31:48.025107Z",
     "iopub.status.idle": "2021-03-31T01:31:48.042062Z",
     "shell.execute_reply": "2021-03-31T01:31:48.041065Z",
     "shell.execute_reply.started": "2021-03-31T01:31:48.025107Z"
    }
   },
   "outputs": [
    {
     "data": {
      "text/plain": [
       "array(['Antwerpen', 'London'], dtype=object)"
      ]
     },
     "execution_count": 15,
     "metadata": {},
     "output_type": "execute_result"
    }
   ],
   "source": [
    "pm25_df['city'].unique()"
   ]
  },
  {
   "cell_type": "code",
   "execution_count": 16,
   "metadata": {
    "execution": {
     "iopub.execute_input": "2021-03-31T01:32:08.721344Z",
     "iopub.status.busy": "2021-03-31T01:32:08.721344Z",
     "iopub.status.idle": "2021-03-31T01:32:08.729326Z",
     "shell.execute_reply": "2021-03-31T01:32:08.728327Z",
     "shell.execute_reply.started": "2021-03-31T01:32:08.721344Z"
    }
   },
   "outputs": [
    {
     "data": {
      "text/plain": [
       "array(['BE', 'GB'], dtype=object)"
      ]
     },
     "execution_count": 16,
     "metadata": {},
     "output_type": "execute_result"
    }
   ],
   "source": [
    "pm25_df['country'].unique()"
   ]
  },
  {
   "cell_type": "code",
   "execution_count": 17,
   "metadata": {
    "execution": {
     "iopub.execute_input": "2021-03-31T01:32:28.592852Z",
     "iopub.status.busy": "2021-03-31T01:32:28.591853Z",
     "iopub.status.idle": "2021-03-31T01:32:28.599833Z",
     "shell.execute_reply": "2021-03-31T01:32:28.598837Z",
     "shell.execute_reply.started": "2021-03-31T01:32:28.592852Z"
    }
   },
   "outputs": [
    {
     "data": {
      "text/plain": [
       "array(['BETR801', 'London Westminster'], dtype=object)"
      ]
     },
     "execution_count": 17,
     "metadata": {},
     "output_type": "execute_result"
    }
   ],
   "source": [
    "pm25_df['location'].unique()"
   ]
  },
  {
   "cell_type": "code",
   "execution_count": 18,
   "metadata": {
    "execution": {
     "iopub.execute_input": "2021-03-31T01:32:29.309925Z",
     "iopub.status.busy": "2021-03-31T01:32:29.308925Z",
     "iopub.status.idle": "2021-03-31T01:32:29.320897Z",
     "shell.execute_reply": "2021-03-31T01:32:29.319898Z",
     "shell.execute_reply.started": "2021-03-31T01:32:29.309925Z"
    }
   },
   "outputs": [
    {
     "data": {
      "text/plain": [
       "city          object\n",
       "country       object\n",
       "date.utc      object\n",
       "location      object\n",
       "parameter     object\n",
       "value        float64\n",
       "unit          object\n",
       "dtype: object"
      ]
     },
     "execution_count": 18,
     "metadata": {},
     "output_type": "execute_result"
    }
   ],
   "source": [
    "pm25_df.dtypes"
   ]
  },
  {
   "cell_type": "markdown",
   "metadata": {},
   "source": [
    "## 데이터 타입 변환 II"
   ]
  },
  {
   "cell_type": "code",
   "execution_count": 19,
   "metadata": {
    "execution": {
     "iopub.execute_input": "2021-03-31T01:36:55.546803Z",
     "iopub.status.busy": "2021-03-31T01:36:55.546803Z",
     "iopub.status.idle": "2021-03-31T01:36:55.564753Z",
     "shell.execute_reply": "2021-03-31T01:36:55.563755Z",
     "shell.execute_reply.started": "2021-03-31T01:36:55.546803Z"
    }
   },
   "outputs": [
    {
     "data": {
      "text/plain": [
       "city                 object\n",
       "country              object\n",
       "date.utc     datetime64[ns]\n",
       "location             object\n",
       "parameter            object\n",
       "value               float64\n",
       "unit                 object\n",
       "dtype: object"
      ]
     },
     "execution_count": 19,
     "metadata": {},
     "output_type": "execute_result"
    }
   ],
   "source": [
    "pm25_df['date.utc'] = pm25_df['date.utc'].astype('datetime64')\n",
    "pm25_df.dtypes"
   ]
  },
  {
   "cell_type": "markdown",
   "metadata": {},
   "source": [
    "## London의 pm2.5 농도 시각화"
   ]
  },
  {
   "cell_type": "code",
   "execution_count": 20,
   "metadata": {
    "execution": {
     "iopub.execute_input": "2021-03-31T01:37:33.406100Z",
     "iopub.status.busy": "2021-03-31T01:37:33.406100Z",
     "iopub.status.idle": "2021-03-31T01:37:33.562681Z",
     "shell.execute_reply": "2021-03-31T01:37:33.561729Z",
     "shell.execute_reply.started": "2021-03-31T01:37:33.406100Z"
    }
   },
   "outputs": [
    {
     "data": {
      "image/png": "[encoded data removed]",
      "text/plain": [
       "<Figure size 432x288 with 1 Axes>"
      ]
     },
     "metadata": {
      "needs_background": "light"
     },
     "output_type": "display_data"
    }
   ],
   "source": [
    "london = pm25_df[pm25_df['city'] == 'London']\n",
    "plt.plot('date.utc', 'value', data = london)\n",
    "plt.show()"
   ]
  },
  {
   "cell_type": "markdown",
   "metadata": {},
   "source": [
    "# Concat : Air Quality"
   ]
  },
  {
   "cell_type": "markdown",
   "metadata": {},
   "source": [
    "## Data concat & Structure"
   ]
  },
  {
   "cell_type": "code",
   "execution_count": 21,
   "metadata": {
    "execution": {
     "iopub.execute_input": "2021-03-31T01:38:09.561530Z",
     "iopub.status.busy": "2021-03-31T01:38:09.561530Z",
     "iopub.status.idle": "2021-03-31T01:38:09.568548Z",
     "shell.execute_reply": "2021-03-31T01:38:09.568548Z",
     "shell.execute_reply.started": "2021-03-31T01:38:09.561530Z"
    }
   },
   "outputs": [],
   "source": [
    "air_quality = pd.concat([no2_df, pm25_df], axis = 0, ignore_index = True)"
   ]
  },
  {
   "cell_type": "code",
   "execution_count": 22,
   "metadata": {
    "execution": {
     "iopub.execute_input": "2021-03-31T01:38:13.541351Z",
     "iopub.status.busy": "2021-03-31T01:38:13.541351Z",
     "iopub.status.idle": "2021-03-31T01:38:13.567790Z",
     "shell.execute_reply": "2021-03-31T01:38:13.566791Z",
     "shell.execute_reply.started": "2021-03-31T01:38:13.541351Z"
    }
   },
   "outputs": [
    {
     "data": {
      "text/html": [
       "<div>\n",
       "<style scoped>\n",
       "    .dataframe tbody tr th:only-of-type {\n",
       "        vertical-align: middle;\n",
       "    }\n",
       "\n",
       "    .dataframe tbody tr th {\n",
       "        vertical-align: top;\n",
       "    }\n",
       "\n",
       "    .dataframe thead th {\n",
       "        text-align: right;\n",
       "    }\n",
       "</style>\n",
       "<table border=\"1\" class=\"dataframe\">\n",
       "  <thead>\n",
       "    <tr style=\"text-align: right;\">\n",
       "      <th></th>\n",
       "      <th>city</th>\n",
       "      <th>country</th>\n",
       "      <th>date.utc</th>\n",
       "      <th>location</th>\n",
       "      <th>parameter</th>\n",
       "      <th>value</th>\n",
       "      <th>unit</th>\n",
       "    </tr>\n",
       "  </thead>\n",
       "  <tbody>\n",
       "    <tr>\n",
       "      <th>0</th>\n",
       "      <td>Paris</td>\n",
       "      <td>FR</td>\n",
       "      <td>2019-06-21 00:00:00</td>\n",
       "      <td>FR04014</td>\n",
       "      <td>no2</td>\n",
       "      <td>20.0</td>\n",
       "      <td>µg/m³</td>\n",
       "    </tr>\n",
       "    <tr>\n",
       "      <th>1</th>\n",
       "      <td>Paris</td>\n",
       "      <td>FR</td>\n",
       "      <td>2019-06-20 23:00:00</td>\n",
       "      <td>FR04014</td>\n",
       "      <td>no2</td>\n",
       "      <td>21.8</td>\n",
       "      <td>µg/m³</td>\n",
       "    </tr>\n",
       "    <tr>\n",
       "      <th>2</th>\n",
       "      <td>Paris</td>\n",
       "      <td>FR</td>\n",
       "      <td>2019-06-20 22:00:00</td>\n",
       "      <td>FR04014</td>\n",
       "      <td>no2</td>\n",
       "      <td>26.5</td>\n",
       "      <td>µg/m³</td>\n",
       "    </tr>\n",
       "    <tr>\n",
       "      <th>3</th>\n",
       "      <td>Paris</td>\n",
       "      <td>FR</td>\n",
       "      <td>2019-06-20 21:00:00</td>\n",
       "      <td>FR04014</td>\n",
       "      <td>no2</td>\n",
       "      <td>24.9</td>\n",
       "      <td>µg/m³</td>\n",
       "    </tr>\n",
       "    <tr>\n",
       "      <th>4</th>\n",
       "      <td>Paris</td>\n",
       "      <td>FR</td>\n",
       "      <td>2019-06-20 20:00:00</td>\n",
       "      <td>FR04014</td>\n",
       "      <td>no2</td>\n",
       "      <td>21.4</td>\n",
       "      <td>µg/m³</td>\n",
       "    </tr>\n",
       "  </tbody>\n",
       "</table>\n",
       "</div>"
      ],
      "text/plain": [
       "    city country            date.utc location parameter  value   unit\n",
       "0  Paris      FR 2019-06-21 00:00:00  FR04014       no2   20.0  µg/m³\n",
       "1  Paris      FR 2019-06-20 23:00:00  FR04014       no2   21.8  µg/m³\n",
       "2  Paris      FR 2019-06-20 22:00:00  FR04014       no2   26.5  µg/m³\n",
       "3  Paris      FR 2019-06-20 21:00:00  FR04014       no2   24.9  µg/m³\n",
       "4  Paris      FR 2019-06-20 20:00:00  FR04014       no2   21.4  µg/m³"
      ]
     },
     "execution_count": 22,
     "metadata": {},
     "output_type": "execute_result"
    }
   ],
   "source": [
    "air_quality.head()"
   ]
  },
  {
   "cell_type": "code",
   "execution_count": 23,
   "metadata": {
    "execution": {
     "iopub.execute_input": "2021-03-31T01:38:19.355133Z",
     "iopub.status.busy": "2021-03-31T01:38:19.354136Z",
     "iopub.status.idle": "2021-03-31T01:38:19.377075Z",
     "shell.execute_reply": "2021-03-31T01:38:19.376079Z",
     "shell.execute_reply.started": "2021-03-31T01:38:19.354136Z"
    }
   },
   "outputs": [
    {
     "data": {
      "text/html": [
       "<div>\n",
       "<style scoped>\n",
       "    .dataframe tbody tr th:only-of-type {\n",
       "        vertical-align: middle;\n",
       "    }\n",
       "\n",
       "    .dataframe tbody tr th {\n",
       "        vertical-align: top;\n",
       "    }\n",
       "\n",
       "    .dataframe thead th {\n",
       "        text-align: right;\n",
       "    }\n",
       "</style>\n",
       "<table border=\"1\" class=\"dataframe\">\n",
       "  <thead>\n",
       "    <tr style=\"text-align: right;\">\n",
       "      <th></th>\n",
       "      <th>city</th>\n",
       "      <th>country</th>\n",
       "      <th>date.utc</th>\n",
       "      <th>location</th>\n",
       "      <th>parameter</th>\n",
       "      <th>value</th>\n",
       "      <th>unit</th>\n",
       "    </tr>\n",
       "  </thead>\n",
       "  <tbody>\n",
       "    <tr>\n",
       "      <th>3173</th>\n",
       "      <td>London</td>\n",
       "      <td>GB</td>\n",
       "      <td>2019-05-07 06:00:00</td>\n",
       "      <td>London Westminster</td>\n",
       "      <td>pm25</td>\n",
       "      <td>9.0</td>\n",
       "      <td>µg/m³</td>\n",
       "    </tr>\n",
       "    <tr>\n",
       "      <th>3174</th>\n",
       "      <td>London</td>\n",
       "      <td>GB</td>\n",
       "      <td>2019-05-07 04:00:00</td>\n",
       "      <td>London Westminster</td>\n",
       "      <td>pm25</td>\n",
       "      <td>8.0</td>\n",
       "      <td>µg/m³</td>\n",
       "    </tr>\n",
       "    <tr>\n",
       "      <th>3175</th>\n",
       "      <td>London</td>\n",
       "      <td>GB</td>\n",
       "      <td>2019-05-07 03:00:00</td>\n",
       "      <td>London Westminster</td>\n",
       "      <td>pm25</td>\n",
       "      <td>8.0</td>\n",
       "      <td>µg/m³</td>\n",
       "    </tr>\n",
       "    <tr>\n",
       "      <th>3176</th>\n",
       "      <td>London</td>\n",
       "      <td>GB</td>\n",
       "      <td>2019-05-07 02:00:00</td>\n",
       "      <td>London Westminster</td>\n",
       "      <td>pm25</td>\n",
       "      <td>8.0</td>\n",
       "      <td>µg/m³</td>\n",
       "    </tr>\n",
       "    <tr>\n",
       "      <th>3177</th>\n",
       "      <td>London</td>\n",
       "      <td>GB</td>\n",
       "      <td>2019-05-07 01:00:00</td>\n",
       "      <td>London Westminster</td>\n",
       "      <td>pm25</td>\n",
       "      <td>8.0</td>\n",
       "      <td>µg/m³</td>\n",
       "    </tr>\n",
       "  </tbody>\n",
       "</table>\n",
       "</div>"
      ],
      "text/plain": [
       "        city country            date.utc            location parameter  value  \\\n",
       "3173  London      GB 2019-05-07 06:00:00  London Westminster      pm25    9.0   \n",
       "3174  London      GB 2019-05-07 04:00:00  London Westminster      pm25    8.0   \n",
       "3175  London      GB 2019-05-07 03:00:00  London Westminster      pm25    8.0   \n",
       "3176  London      GB 2019-05-07 02:00:00  London Westminster      pm25    8.0   \n",
       "3177  London      GB 2019-05-07 01:00:00  London Westminster      pm25    8.0   \n",
       "\n",
       "       unit  \n",
       "3173  µg/m³  \n",
       "3174  µg/m³  \n",
       "3175  µg/m³  \n",
       "3176  µg/m³  \n",
       "3177  µg/m³  "
      ]
     },
     "execution_count": 23,
     "metadata": {},
     "output_type": "execute_result"
    }
   ],
   "source": [
    "air_quality.tail()"
   ]
  },
  {
   "cell_type": "code",
   "execution_count": 24,
   "metadata": {
    "execution": {
     "iopub.execute_input": "2021-03-31T01:38:23.638374Z",
     "iopub.status.busy": "2021-03-31T01:38:23.637378Z",
     "iopub.status.idle": "2021-03-31T01:38:23.653335Z",
     "shell.execute_reply": "2021-03-31T01:38:23.652335Z",
     "shell.execute_reply.started": "2021-03-31T01:38:23.638374Z"
    }
   },
   "outputs": [
    {
     "data": {
      "text/plain": [
       "(3178, 7)"
      ]
     },
     "execution_count": 24,
     "metadata": {},
     "output_type": "execute_result"
    }
   ],
   "source": [
    "air_quality.shape"
   ]
  },
  {
   "cell_type": "code",
   "execution_count": 25,
   "metadata": {
    "execution": {
     "iopub.execute_input": "2021-03-31T01:38:50.891338Z",
     "iopub.status.busy": "2021-03-31T01:38:50.891338Z",
     "iopub.status.idle": "2021-03-31T01:38:50.910288Z",
     "shell.execute_reply": "2021-03-31T01:38:50.909291Z",
     "shell.execute_reply.started": "2021-03-31T01:38:50.891338Z"
    }
   },
   "outputs": [
    {
     "data": {
      "text/plain": [
       "array(['Paris', 'Antwerpen', 'London'], dtype=object)"
      ]
     },
     "execution_count": 25,
     "metadata": {},
     "output_type": "execute_result"
    }
   ],
   "source": [
    "air_quality['city'].unique()"
   ]
  },
  {
   "cell_type": "code",
   "execution_count": 26,
   "metadata": {
    "execution": {
     "iopub.execute_input": "2021-03-31T01:39:12.243199Z",
     "iopub.status.busy": "2021-03-31T01:39:12.242195Z",
     "iopub.status.idle": "2021-03-31T01:39:12.264150Z",
     "shell.execute_reply": "2021-03-31T01:39:12.262143Z",
     "shell.execute_reply.started": "2021-03-31T01:39:12.243199Z"
    }
   },
   "outputs": [
    {
     "data": {
      "text/plain": [
       "array(['FR04014', 'BETR801', 'London Westminster'], dtype=object)"
      ]
     },
     "execution_count": 26,
     "metadata": {},
     "output_type": "execute_result"
    }
   ],
   "source": [
    "air_quality['location'].unique()"
   ]
  },
  {
   "cell_type": "code",
   "execution_count": 27,
   "metadata": {
    "execution": {
     "iopub.execute_input": "2021-03-31T01:39:32.790695Z",
     "iopub.status.busy": "2021-03-31T01:39:32.790695Z",
     "iopub.status.idle": "2021-03-31T01:39:32.804171Z",
     "shell.execute_reply": "2021-03-31T01:39:32.803210Z",
     "shell.execute_reply.started": "2021-03-31T01:39:32.790695Z"
    }
   },
   "outputs": [
    {
     "data": {
      "text/plain": [
       "array(['no2', 'pm25'], dtype=object)"
      ]
     },
     "execution_count": 27,
     "metadata": {},
     "output_type": "execute_result"
    }
   ],
   "source": [
    "air_quality['parameter'].unique()"
   ]
  },
  {
   "cell_type": "markdown",
   "metadata": {},
   "source": [
    "## 시각화"
   ]
  },
  {
   "cell_type": "markdown",
   "metadata": {},
   "source": [
    "### seaborn 사용 시"
   ]
  },
  {
   "cell_type": "code",
   "execution_count": 28,
   "metadata": {
    "execution": {
     "iopub.execute_input": "2021-03-31T01:40:30.372818Z",
     "iopub.status.busy": "2021-03-31T01:40:30.372818Z",
     "iopub.status.idle": "2021-03-31T01:40:30.844556Z",
     "shell.execute_reply": "2021-03-31T01:40:30.843558Z",
     "shell.execute_reply.started": "2021-03-31T01:40:30.372818Z"
    }
   },
   "outputs": [
    {
     "data": {
      "image/png": "[encoded data removed]",
      "text/plain": [
       "<Figure size 432x288 with 1 Axes>"
      ]
     },
     "metadata": {
      "needs_background": "light"
     },
     "output_type": "display_data"
    }
   ],
   "source": [
    "# air_quality 데이터프레임에서 london의 No2 변화, pm2.5 변화 그래프\n",
    "sns.lineplot(data = air_quality[air_quality['city'] == 'London'],\n",
    "            x = 'date.utc', y = 'value', hue = 'parameter')\n",
    "plt.show()"
   ]
  },
  {
   "cell_type": "markdown",
   "metadata": {},
   "source": [
    "### matplotlib 사용 시"
   ]
  },
  {
   "cell_type": "code",
   "execution_count": 30,
   "metadata": {
    "execution": {
     "iopub.execute_input": "2021-03-31T01:42:34.464789Z",
     "iopub.status.busy": "2021-03-31T01:42:34.464789Z",
     "iopub.status.idle": "2021-03-31T01:42:34.676224Z",
     "shell.execute_reply": "2021-03-31T01:42:34.675227Z",
     "shell.execute_reply.started": "2021-03-31T01:42:34.464789Z"
    }
   },
   "outputs": [
    {
     "data": {
      "image/png": "[encoded data removed]",
      "text/plain": [
       "<Figure size 432x288 with 1 Axes>"
      ]
     },
     "metadata": {
      "needs_background": "light"
     },
     "output_type": "display_data"
    }
   ],
   "source": [
    "london_no2 = air_quality[(air_quality['city'] == 'London') & (air_quality['parameter'] == 'no2')]\n",
    "london_pm25 = air_quality[(air_quality['city'] == 'London') & (air_quality['parameter'] == 'pm25')]\n",
    "\n",
    "plt.plot('date.utc', 'value', data = london_no2, label = 'NO2')\n",
    "plt.plot('date.utc', 'value', data = london_pm25, label = 'PM2.5')\n",
    "\n",
    "plt.legend()\n",
    "plt.show()"
   ]
  },
  {
   "cell_type": "markdown",
   "metadata": {},
   "source": [
    "# Data III"
   ]
  },
  {
   "cell_type": "markdown",
   "metadata": {},
   "source": [
    "* air_quality_stations.csv 파일을 읽어 데이터프레임을 생성\n",
    "* qir_quality 데이터프레임과 합치기"
   ]
  },
  {
   "cell_type": "markdown",
   "metadata": {},
   "source": [
    "## Load Data III"
   ]
  },
  {
   "cell_type": "code",
   "execution_count": 31,
   "metadata": {
    "execution": {
     "iopub.execute_input": "2021-03-31T01:43:45.011232Z",
     "iopub.status.busy": "2021-03-31T01:43:45.011232Z",
     "iopub.status.idle": "2021-03-31T01:43:46.007713Z",
     "shell.execute_reply": "2021-03-31T01:43:46.006708Z",
     "shell.execute_reply.started": "2021-03-31T01:43:45.011232Z"
    }
   },
   "outputs": [],
   "source": [
    "stations_file = 'https://github.com/pandas-dev/pandas/raw/master/doc/data/air_quality_stations.csv'\n",
    "stations = pd.read_csv(stations_file)"
   ]
  },
  {
   "cell_type": "markdown",
   "metadata": {},
   "source": [
    "## Data Structure III"
   ]
  },
  {
   "cell_type": "code",
   "execution_count": 32,
   "metadata": {
    "execution": {
     "iopub.execute_input": "2021-03-31T01:43:57.242541Z",
     "iopub.status.busy": "2021-03-31T01:43:57.242541Z",
     "iopub.status.idle": "2021-03-31T01:43:57.253512Z",
     "shell.execute_reply": "2021-03-31T01:43:57.252516Z",
     "shell.execute_reply.started": "2021-03-31T01:43:57.242541Z"
    }
   },
   "outputs": [
    {
     "data": {
      "text/html": [
       "<div>\n",
       "<style scoped>\n",
       "    .dataframe tbody tr th:only-of-type {\n",
       "        vertical-align: middle;\n",
       "    }\n",
       "\n",
       "    .dataframe tbody tr th {\n",
       "        vertical-align: top;\n",
       "    }\n",
       "\n",
       "    .dataframe thead th {\n",
       "        text-align: right;\n",
       "    }\n",
       "</style>\n",
       "<table border=\"1\" class=\"dataframe\">\n",
       "  <thead>\n",
       "    <tr style=\"text-align: right;\">\n",
       "      <th></th>\n",
       "      <th>location</th>\n",
       "      <th>coordinates.latitude</th>\n",
       "      <th>coordinates.longitude</th>\n",
       "    </tr>\n",
       "  </thead>\n",
       "  <tbody>\n",
       "    <tr>\n",
       "      <th>0</th>\n",
       "      <td>BELAL01</td>\n",
       "      <td>51.23619</td>\n",
       "      <td>4.38522</td>\n",
       "    </tr>\n",
       "    <tr>\n",
       "      <th>1</th>\n",
       "      <td>BELHB23</td>\n",
       "      <td>51.17030</td>\n",
       "      <td>4.34100</td>\n",
       "    </tr>\n",
       "    <tr>\n",
       "      <th>2</th>\n",
       "      <td>BELLD01</td>\n",
       "      <td>51.10998</td>\n",
       "      <td>5.00486</td>\n",
       "    </tr>\n",
       "    <tr>\n",
       "      <th>3</th>\n",
       "      <td>BELLD02</td>\n",
       "      <td>51.12038</td>\n",
       "      <td>5.02155</td>\n",
       "    </tr>\n",
       "    <tr>\n",
       "      <th>4</th>\n",
       "      <td>BELR833</td>\n",
       "      <td>51.32766</td>\n",
       "      <td>4.36226</td>\n",
       "    </tr>\n",
       "  </tbody>\n",
       "</table>\n",
       "</div>"
      ],
      "text/plain": [
       "  location  coordinates.latitude  coordinates.longitude\n",
       "0  BELAL01              51.23619                4.38522\n",
       "1  BELHB23              51.17030                4.34100\n",
       "2  BELLD01              51.10998                5.00486\n",
       "3  BELLD02              51.12038                5.02155\n",
       "4  BELR833              51.32766                4.36226"
      ]
     },
     "execution_count": 32,
     "metadata": {},
     "output_type": "execute_result"
    }
   ],
   "source": [
    "stations.head()"
   ]
  },
  {
   "cell_type": "code",
   "execution_count": 33,
   "metadata": {
    "execution": {
     "iopub.execute_input": "2021-03-31T01:44:02.265769Z",
     "iopub.status.busy": "2021-03-31T01:44:02.264772Z",
     "iopub.status.idle": "2021-03-31T01:44:02.292697Z",
     "shell.execute_reply": "2021-03-31T01:44:02.291700Z",
     "shell.execute_reply.started": "2021-03-31T01:44:02.265769Z"
    }
   },
   "outputs": [
    {
     "data": {
      "text/html": [
       "<div>\n",
       "<style scoped>\n",
       "    .dataframe tbody tr th:only-of-type {\n",
       "        vertical-align: middle;\n",
       "    }\n",
       "\n",
       "    .dataframe tbody tr th {\n",
       "        vertical-align: top;\n",
       "    }\n",
       "\n",
       "    .dataframe thead th {\n",
       "        text-align: right;\n",
       "    }\n",
       "</style>\n",
       "<table border=\"1\" class=\"dataframe\">\n",
       "  <thead>\n",
       "    <tr style=\"text-align: right;\">\n",
       "      <th></th>\n",
       "      <th>location</th>\n",
       "      <th>coordinates.latitude</th>\n",
       "      <th>coordinates.longitude</th>\n",
       "    </tr>\n",
       "  </thead>\n",
       "  <tbody>\n",
       "    <tr>\n",
       "      <th>61</th>\n",
       "      <td>Southend-on-Sea</td>\n",
       "      <td>51.54420</td>\n",
       "      <td>0.67841</td>\n",
       "    </tr>\n",
       "    <tr>\n",
       "      <th>62</th>\n",
       "      <td>Southwark A2 Old Kent Road</td>\n",
       "      <td>51.48050</td>\n",
       "      <td>-0.05955</td>\n",
       "    </tr>\n",
       "    <tr>\n",
       "      <th>63</th>\n",
       "      <td>Thurrock</td>\n",
       "      <td>51.47707</td>\n",
       "      <td>0.31797</td>\n",
       "    </tr>\n",
       "    <tr>\n",
       "      <th>64</th>\n",
       "      <td>Tower Hamlets Roadside</td>\n",
       "      <td>51.52253</td>\n",
       "      <td>-0.04216</td>\n",
       "    </tr>\n",
       "    <tr>\n",
       "      <th>65</th>\n",
       "      <td>Groton Fort Griswold</td>\n",
       "      <td>41.35360</td>\n",
       "      <td>-72.07890</td>\n",
       "    </tr>\n",
       "  </tbody>\n",
       "</table>\n",
       "</div>"
      ],
      "text/plain": [
       "                      location  coordinates.latitude  coordinates.longitude\n",
       "61             Southend-on-Sea              51.54420                0.67841\n",
       "62  Southwark A2 Old Kent Road              51.48050               -0.05955\n",
       "63                    Thurrock              51.47707                0.31797\n",
       "64      Tower Hamlets Roadside              51.52253               -0.04216\n",
       "65        Groton Fort Griswold              41.35360              -72.07890"
      ]
     },
     "execution_count": 33,
     "metadata": {},
     "output_type": "execute_result"
    }
   ],
   "source": [
    "stations.tail()"
   ]
  },
  {
   "cell_type": "code",
   "execution_count": 35,
   "metadata": {
    "execution": {
     "iopub.execute_input": "2021-03-31T01:44:08.921763Z",
     "iopub.status.busy": "2021-03-31T01:44:08.921763Z",
     "iopub.status.idle": "2021-03-31T01:44:08.928712Z",
     "shell.execute_reply": "2021-03-31T01:44:08.927714Z",
     "shell.execute_reply.started": "2021-03-31T01:44:08.921763Z"
    }
   },
   "outputs": [
    {
     "data": {
      "text/plain": [
       "location                  object\n",
       "coordinates.latitude     float64\n",
       "coordinates.longitude    float64\n",
       "dtype: object"
      ]
     },
     "execution_count": 35,
     "metadata": {},
     "output_type": "execute_result"
    }
   ],
   "source": [
    "stations.dtypes"
   ]
  },
  {
   "cell_type": "code",
   "execution_count": 36,
   "metadata": {
    "execution": {
     "iopub.execute_input": "2021-03-31T01:45:01.125176Z",
     "iopub.status.busy": "2021-03-31T01:45:01.124179Z",
     "iopub.status.idle": "2021-03-31T01:45:01.147118Z",
     "shell.execute_reply": "2021-03-31T01:45:01.146121Z",
     "shell.execute_reply.started": "2021-03-31T01:45:01.125176Z"
    }
   },
   "outputs": [
    {
     "data": {
      "text/html": [
       "<div>\n",
       "<style scoped>\n",
       "    .dataframe tbody tr th:only-of-type {\n",
       "        vertical-align: middle;\n",
       "    }\n",
       "\n",
       "    .dataframe tbody tr th {\n",
       "        vertical-align: top;\n",
       "    }\n",
       "\n",
       "    .dataframe thead th {\n",
       "        text-align: right;\n",
       "    }\n",
       "</style>\n",
       "<table border=\"1\" class=\"dataframe\">\n",
       "  <thead>\n",
       "    <tr style=\"text-align: right;\">\n",
       "      <th></th>\n",
       "      <th>location</th>\n",
       "      <th>coordinates.latitude</th>\n",
       "      <th>coordinates.longitude</th>\n",
       "    </tr>\n",
       "  </thead>\n",
       "  <tbody>\n",
       "    <tr>\n",
       "      <th>24</th>\n",
       "      <td>FR04004</td>\n",
       "      <td>48.89167</td>\n",
       "      <td>2.34667</td>\n",
       "    </tr>\n",
       "    <tr>\n",
       "      <th>25</th>\n",
       "      <td>FR04012</td>\n",
       "      <td>48.82778</td>\n",
       "      <td>2.32750</td>\n",
       "    </tr>\n",
       "    <tr>\n",
       "      <th>26</th>\n",
       "      <td>FR04014</td>\n",
       "      <td>48.83724</td>\n",
       "      <td>2.39390</td>\n",
       "    </tr>\n",
       "    <tr>\n",
       "      <th>27</th>\n",
       "      <td>FR04014</td>\n",
       "      <td>48.83722</td>\n",
       "      <td>2.39390</td>\n",
       "    </tr>\n",
       "    <tr>\n",
       "      <th>28</th>\n",
       "      <td>FR04031</td>\n",
       "      <td>48.86887</td>\n",
       "      <td>2.31194</td>\n",
       "    </tr>\n",
       "    <tr>\n",
       "      <th>29</th>\n",
       "      <td>FR04031</td>\n",
       "      <td>48.86889</td>\n",
       "      <td>2.31194</td>\n",
       "    </tr>\n",
       "    <tr>\n",
       "      <th>30</th>\n",
       "      <td>FR04037</td>\n",
       "      <td>48.82861</td>\n",
       "      <td>2.36028</td>\n",
       "    </tr>\n",
       "    <tr>\n",
       "      <th>31</th>\n",
       "      <td>FR04060</td>\n",
       "      <td>48.85720</td>\n",
       "      <td>2.29330</td>\n",
       "    </tr>\n",
       "    <tr>\n",
       "      <th>32</th>\n",
       "      <td>FR04071</td>\n",
       "      <td>48.85640</td>\n",
       "      <td>2.33528</td>\n",
       "    </tr>\n",
       "    <tr>\n",
       "      <th>33</th>\n",
       "      <td>FR04071</td>\n",
       "      <td>48.85639</td>\n",
       "      <td>2.33528</td>\n",
       "    </tr>\n",
       "    <tr>\n",
       "      <th>34</th>\n",
       "      <td>FR04118</td>\n",
       "      <td>48.87027</td>\n",
       "      <td>2.33250</td>\n",
       "    </tr>\n",
       "    <tr>\n",
       "      <th>35</th>\n",
       "      <td>FR04118</td>\n",
       "      <td>48.87029</td>\n",
       "      <td>2.33250</td>\n",
       "    </tr>\n",
       "    <tr>\n",
       "      <th>36</th>\n",
       "      <td>FR04131</td>\n",
       "      <td>48.87333</td>\n",
       "      <td>2.33028</td>\n",
       "    </tr>\n",
       "    <tr>\n",
       "      <th>37</th>\n",
       "      <td>FR04135</td>\n",
       "      <td>48.83795</td>\n",
       "      <td>2.40806</td>\n",
       "    </tr>\n",
       "    <tr>\n",
       "      <th>38</th>\n",
       "      <td>FR04135</td>\n",
       "      <td>48.83796</td>\n",
       "      <td>2.40806</td>\n",
       "    </tr>\n",
       "    <tr>\n",
       "      <th>39</th>\n",
       "      <td>FR04141</td>\n",
       "      <td>48.85278</td>\n",
       "      <td>2.36056</td>\n",
       "    </tr>\n",
       "    <tr>\n",
       "      <th>40</th>\n",
       "      <td>FR04141</td>\n",
       "      <td>48.85279</td>\n",
       "      <td>2.36056</td>\n",
       "    </tr>\n",
       "    <tr>\n",
       "      <th>41</th>\n",
       "      <td>FR04143</td>\n",
       "      <td>48.85900</td>\n",
       "      <td>2.35100</td>\n",
       "    </tr>\n",
       "    <tr>\n",
       "      <th>42</th>\n",
       "      <td>FR04143</td>\n",
       "      <td>48.85944</td>\n",
       "      <td>2.35111</td>\n",
       "    </tr>\n",
       "    <tr>\n",
       "      <th>43</th>\n",
       "      <td>FR04179</td>\n",
       "      <td>48.83038</td>\n",
       "      <td>2.26989</td>\n",
       "    </tr>\n",
       "    <tr>\n",
       "      <th>44</th>\n",
       "      <td>FR04329</td>\n",
       "      <td>48.83860</td>\n",
       "      <td>2.41279</td>\n",
       "    </tr>\n",
       "    <tr>\n",
       "      <th>45</th>\n",
       "      <td>FR04329</td>\n",
       "      <td>48.83862</td>\n",
       "      <td>2.41278</td>\n",
       "    </tr>\n",
       "  </tbody>\n",
       "</table>\n",
       "</div>"
      ],
      "text/plain": [
       "   location  coordinates.latitude  coordinates.longitude\n",
       "24  FR04004              48.89167                2.34667\n",
       "25  FR04012              48.82778                2.32750\n",
       "26  FR04014              48.83724                2.39390\n",
       "27  FR04014              48.83722                2.39390\n",
       "28  FR04031              48.86887                2.31194\n",
       "29  FR04031              48.86889                2.31194\n",
       "30  FR04037              48.82861                2.36028\n",
       "31  FR04060              48.85720                2.29330\n",
       "32  FR04071              48.85640                2.33528\n",
       "33  FR04071              48.85639                2.33528\n",
       "34  FR04118              48.87027                2.33250\n",
       "35  FR04118              48.87029                2.33250\n",
       "36  FR04131              48.87333                2.33028\n",
       "37  FR04135              48.83795                2.40806\n",
       "38  FR04135              48.83796                2.40806\n",
       "39  FR04141              48.85278                2.36056\n",
       "40  FR04141              48.85279                2.36056\n",
       "41  FR04143              48.85900                2.35100\n",
       "42  FR04143              48.85944                2.35111\n",
       "43  FR04179              48.83038                2.26989\n",
       "44  FR04329              48.83860                2.41279\n",
       "45  FR04329              48.83862                2.41278"
      ]
     },
     "execution_count": 36,
     "metadata": {},
     "output_type": "execute_result"
    }
   ],
   "source": [
    "# stations 데이터프레임에서 location이 FR로 시작하는 모든 레코드 선택\n",
    "stations[stations['location'].str.startswith('FR')]"
   ]
  },
  {
   "cell_type": "markdown",
   "metadata": {},
   "source": [
    "# Merge : Air Qualith + Stations "
   ]
  },
  {
   "cell_type": "code",
   "execution_count": 37,
   "metadata": {
    "execution": {
     "iopub.execute_input": "2021-03-31T01:45:30.717322Z",
     "iopub.status.busy": "2021-03-31T01:45:30.717322Z",
     "iopub.status.idle": "2021-03-31T01:45:30.739263Z",
     "shell.execute_reply": "2021-03-31T01:45:30.738264Z",
     "shell.execute_reply.started": "2021-03-31T01:45:30.717322Z"
    }
   },
   "outputs": [],
   "source": [
    "result = pd.merge(left = air_quality, right = stations, how = 'inner', on = 'location')"
   ]
  },
  {
   "cell_type": "code",
   "execution_count": 38,
   "metadata": {
    "execution": {
     "iopub.execute_input": "2021-03-31T01:45:35.440122Z",
     "iopub.status.busy": "2021-03-31T01:45:35.440122Z",
     "iopub.status.idle": "2021-03-31T01:45:35.466053Z",
     "shell.execute_reply": "2021-03-31T01:45:35.465057Z",
     "shell.execute_reply.started": "2021-03-31T01:45:35.440122Z"
    }
   },
   "outputs": [
    {
     "data": {
      "text/html": [
       "<div>\n",
       "<style scoped>\n",
       "    .dataframe tbody tr th:only-of-type {\n",
       "        vertical-align: middle;\n",
       "    }\n",
       "\n",
       "    .dataframe tbody tr th {\n",
       "        vertical-align: top;\n",
       "    }\n",
       "\n",
       "    .dataframe thead th {\n",
       "        text-align: right;\n",
       "    }\n",
       "</style>\n",
       "<table border=\"1\" class=\"dataframe\">\n",
       "  <thead>\n",
       "    <tr style=\"text-align: right;\">\n",
       "      <th></th>\n",
       "      <th>city</th>\n",
       "      <th>country</th>\n",
       "      <th>date.utc</th>\n",
       "      <th>location</th>\n",
       "      <th>parameter</th>\n",
       "      <th>value</th>\n",
       "      <th>unit</th>\n",
       "      <th>coordinates.latitude</th>\n",
       "      <th>coordinates.longitude</th>\n",
       "    </tr>\n",
       "  </thead>\n",
       "  <tbody>\n",
       "    <tr>\n",
       "      <th>0</th>\n",
       "      <td>Paris</td>\n",
       "      <td>FR</td>\n",
       "      <td>2019-06-21 00:00:00</td>\n",
       "      <td>FR04014</td>\n",
       "      <td>no2</td>\n",
       "      <td>20.0</td>\n",
       "      <td>µg/m³</td>\n",
       "      <td>48.83724</td>\n",
       "      <td>2.3939</td>\n",
       "    </tr>\n",
       "    <tr>\n",
       "      <th>1</th>\n",
       "      <td>Paris</td>\n",
       "      <td>FR</td>\n",
       "      <td>2019-06-21 00:00:00</td>\n",
       "      <td>FR04014</td>\n",
       "      <td>no2</td>\n",
       "      <td>20.0</td>\n",
       "      <td>µg/m³</td>\n",
       "      <td>48.83722</td>\n",
       "      <td>2.3939</td>\n",
       "    </tr>\n",
       "    <tr>\n",
       "      <th>2</th>\n",
       "      <td>Paris</td>\n",
       "      <td>FR</td>\n",
       "      <td>2019-06-20 23:00:00</td>\n",
       "      <td>FR04014</td>\n",
       "      <td>no2</td>\n",
       "      <td>21.8</td>\n",
       "      <td>µg/m³</td>\n",
       "      <td>48.83724</td>\n",
       "      <td>2.3939</td>\n",
       "    </tr>\n",
       "    <tr>\n",
       "      <th>3</th>\n",
       "      <td>Paris</td>\n",
       "      <td>FR</td>\n",
       "      <td>2019-06-20 23:00:00</td>\n",
       "      <td>FR04014</td>\n",
       "      <td>no2</td>\n",
       "      <td>21.8</td>\n",
       "      <td>µg/m³</td>\n",
       "      <td>48.83722</td>\n",
       "      <td>2.3939</td>\n",
       "    </tr>\n",
       "    <tr>\n",
       "      <th>4</th>\n",
       "      <td>Paris</td>\n",
       "      <td>FR</td>\n",
       "      <td>2019-06-20 22:00:00</td>\n",
       "      <td>FR04014</td>\n",
       "      <td>no2</td>\n",
       "      <td>26.5</td>\n",
       "      <td>µg/m³</td>\n",
       "      <td>48.83724</td>\n",
       "      <td>2.3939</td>\n",
       "    </tr>\n",
       "    <tr>\n",
       "      <th>5</th>\n",
       "      <td>Paris</td>\n",
       "      <td>FR</td>\n",
       "      <td>2019-06-20 22:00:00</td>\n",
       "      <td>FR04014</td>\n",
       "      <td>no2</td>\n",
       "      <td>26.5</td>\n",
       "      <td>µg/m³</td>\n",
       "      <td>48.83722</td>\n",
       "      <td>2.3939</td>\n",
       "    </tr>\n",
       "    <tr>\n",
       "      <th>6</th>\n",
       "      <td>Paris</td>\n",
       "      <td>FR</td>\n",
       "      <td>2019-06-20 21:00:00</td>\n",
       "      <td>FR04014</td>\n",
       "      <td>no2</td>\n",
       "      <td>24.9</td>\n",
       "      <td>µg/m³</td>\n",
       "      <td>48.83724</td>\n",
       "      <td>2.3939</td>\n",
       "    </tr>\n",
       "    <tr>\n",
       "      <th>7</th>\n",
       "      <td>Paris</td>\n",
       "      <td>FR</td>\n",
       "      <td>2019-06-20 21:00:00</td>\n",
       "      <td>FR04014</td>\n",
       "      <td>no2</td>\n",
       "      <td>24.9</td>\n",
       "      <td>µg/m³</td>\n",
       "      <td>48.83722</td>\n",
       "      <td>2.3939</td>\n",
       "    </tr>\n",
       "    <tr>\n",
       "      <th>8</th>\n",
       "      <td>Paris</td>\n",
       "      <td>FR</td>\n",
       "      <td>2019-06-20 20:00:00</td>\n",
       "      <td>FR04014</td>\n",
       "      <td>no2</td>\n",
       "      <td>21.4</td>\n",
       "      <td>µg/m³</td>\n",
       "      <td>48.83724</td>\n",
       "      <td>2.3939</td>\n",
       "    </tr>\n",
       "    <tr>\n",
       "      <th>9</th>\n",
       "      <td>Paris</td>\n",
       "      <td>FR</td>\n",
       "      <td>2019-06-20 20:00:00</td>\n",
       "      <td>FR04014</td>\n",
       "      <td>no2</td>\n",
       "      <td>21.4</td>\n",
       "      <td>µg/m³</td>\n",
       "      <td>48.83722</td>\n",
       "      <td>2.3939</td>\n",
       "    </tr>\n",
       "  </tbody>\n",
       "</table>\n",
       "</div>"
      ],
      "text/plain": [
       "    city country            date.utc location parameter  value   unit  \\\n",
       "0  Paris      FR 2019-06-21 00:00:00  FR04014       no2   20.0  µg/m³   \n",
       "1  Paris      FR 2019-06-21 00:00:00  FR04014       no2   20.0  µg/m³   \n",
       "2  Paris      FR 2019-06-20 23:00:00  FR04014       no2   21.8  µg/m³   \n",
       "3  Paris      FR 2019-06-20 23:00:00  FR04014       no2   21.8  µg/m³   \n",
       "4  Paris      FR 2019-06-20 22:00:00  FR04014       no2   26.5  µg/m³   \n",
       "5  Paris      FR 2019-06-20 22:00:00  FR04014       no2   26.5  µg/m³   \n",
       "6  Paris      FR 2019-06-20 21:00:00  FR04014       no2   24.9  µg/m³   \n",
       "7  Paris      FR 2019-06-20 21:00:00  FR04014       no2   24.9  µg/m³   \n",
       "8  Paris      FR 2019-06-20 20:00:00  FR04014       no2   21.4  µg/m³   \n",
       "9  Paris      FR 2019-06-20 20:00:00  FR04014       no2   21.4  µg/m³   \n",
       "\n",
       "   coordinates.latitude  coordinates.longitude  \n",
       "0              48.83724                 2.3939  \n",
       "1              48.83722                 2.3939  \n",
       "2              48.83724                 2.3939  \n",
       "3              48.83722                 2.3939  \n",
       "4              48.83724                 2.3939  \n",
       "5              48.83722                 2.3939  \n",
       "6              48.83724                 2.3939  \n",
       "7              48.83722                 2.3939  \n",
       "8              48.83724                 2.3939  \n",
       "9              48.83722                 2.3939  "
      ]
     },
     "execution_count": 38,
     "metadata": {},
     "output_type": "execute_result"
    }
   ],
   "source": [
    "result.head(10)"
   ]
  },
  {
   "cell_type": "code",
   "execution_count": 39,
   "metadata": {
    "execution": {
     "iopub.execute_input": "2021-03-31T01:45:38.745214Z",
     "iopub.status.busy": "2021-03-31T01:45:38.745214Z",
     "iopub.status.idle": "2021-03-31T01:45:38.770104Z",
     "shell.execute_reply": "2021-03-31T01:45:38.769107Z",
     "shell.execute_reply.started": "2021-03-31T01:45:38.745214Z"
    }
   },
   "outputs": [
    {
     "data": {
      "text/html": [
       "<div>\n",
       "<style scoped>\n",
       "    .dataframe tbody tr th:only-of-type {\n",
       "        vertical-align: middle;\n",
       "    }\n",
       "\n",
       "    .dataframe tbody tr th {\n",
       "        vertical-align: top;\n",
       "    }\n",
       "\n",
       "    .dataframe thead th {\n",
       "        text-align: right;\n",
       "    }\n",
       "</style>\n",
       "<table border=\"1\" class=\"dataframe\">\n",
       "  <thead>\n",
       "    <tr style=\"text-align: right;\">\n",
       "      <th></th>\n",
       "      <th>city</th>\n",
       "      <th>country</th>\n",
       "      <th>date.utc</th>\n",
       "      <th>location</th>\n",
       "      <th>parameter</th>\n",
       "      <th>value</th>\n",
       "      <th>unit</th>\n",
       "      <th>coordinates.latitude</th>\n",
       "      <th>coordinates.longitude</th>\n",
       "    </tr>\n",
       "  </thead>\n",
       "  <tbody>\n",
       "    <tr>\n",
       "      <th>4172</th>\n",
       "      <td>London</td>\n",
       "      <td>GB</td>\n",
       "      <td>2019-05-07 11:00:00</td>\n",
       "      <td>London Westminster</td>\n",
       "      <td>pm25</td>\n",
       "      <td>10.0</td>\n",
       "      <td>µg/m³</td>\n",
       "      <td>51.49467</td>\n",
       "      <td>-0.13193</td>\n",
       "    </tr>\n",
       "    <tr>\n",
       "      <th>4173</th>\n",
       "      <td>London</td>\n",
       "      <td>GB</td>\n",
       "      <td>2019-05-07 10:00:00</td>\n",
       "      <td>London Westminster</td>\n",
       "      <td>pm25</td>\n",
       "      <td>10.0</td>\n",
       "      <td>µg/m³</td>\n",
       "      <td>51.49467</td>\n",
       "      <td>-0.13193</td>\n",
       "    </tr>\n",
       "    <tr>\n",
       "      <th>4174</th>\n",
       "      <td>London</td>\n",
       "      <td>GB</td>\n",
       "      <td>2019-05-07 09:00:00</td>\n",
       "      <td>London Westminster</td>\n",
       "      <td>pm25</td>\n",
       "      <td>10.0</td>\n",
       "      <td>µg/m³</td>\n",
       "      <td>51.49467</td>\n",
       "      <td>-0.13193</td>\n",
       "    </tr>\n",
       "    <tr>\n",
       "      <th>4175</th>\n",
       "      <td>London</td>\n",
       "      <td>GB</td>\n",
       "      <td>2019-05-07 08:00:00</td>\n",
       "      <td>London Westminster</td>\n",
       "      <td>pm25</td>\n",
       "      <td>10.0</td>\n",
       "      <td>µg/m³</td>\n",
       "      <td>51.49467</td>\n",
       "      <td>-0.13193</td>\n",
       "    </tr>\n",
       "    <tr>\n",
       "      <th>4176</th>\n",
       "      <td>London</td>\n",
       "      <td>GB</td>\n",
       "      <td>2019-05-07 07:00:00</td>\n",
       "      <td>London Westminster</td>\n",
       "      <td>pm25</td>\n",
       "      <td>9.0</td>\n",
       "      <td>µg/m³</td>\n",
       "      <td>51.49467</td>\n",
       "      <td>-0.13193</td>\n",
       "    </tr>\n",
       "    <tr>\n",
       "      <th>4177</th>\n",
       "      <td>London</td>\n",
       "      <td>GB</td>\n",
       "      <td>2019-05-07 06:00:00</td>\n",
       "      <td>London Westminster</td>\n",
       "      <td>pm25</td>\n",
       "      <td>9.0</td>\n",
       "      <td>µg/m³</td>\n",
       "      <td>51.49467</td>\n",
       "      <td>-0.13193</td>\n",
       "    </tr>\n",
       "    <tr>\n",
       "      <th>4178</th>\n",
       "      <td>London</td>\n",
       "      <td>GB</td>\n",
       "      <td>2019-05-07 04:00:00</td>\n",
       "      <td>London Westminster</td>\n",
       "      <td>pm25</td>\n",
       "      <td>8.0</td>\n",
       "      <td>µg/m³</td>\n",
       "      <td>51.49467</td>\n",
       "      <td>-0.13193</td>\n",
       "    </tr>\n",
       "    <tr>\n",
       "      <th>4179</th>\n",
       "      <td>London</td>\n",
       "      <td>GB</td>\n",
       "      <td>2019-05-07 03:00:00</td>\n",
       "      <td>London Westminster</td>\n",
       "      <td>pm25</td>\n",
       "      <td>8.0</td>\n",
       "      <td>µg/m³</td>\n",
       "      <td>51.49467</td>\n",
       "      <td>-0.13193</td>\n",
       "    </tr>\n",
       "    <tr>\n",
       "      <th>4180</th>\n",
       "      <td>London</td>\n",
       "      <td>GB</td>\n",
       "      <td>2019-05-07 02:00:00</td>\n",
       "      <td>London Westminster</td>\n",
       "      <td>pm25</td>\n",
       "      <td>8.0</td>\n",
       "      <td>µg/m³</td>\n",
       "      <td>51.49467</td>\n",
       "      <td>-0.13193</td>\n",
       "    </tr>\n",
       "    <tr>\n",
       "      <th>4181</th>\n",
       "      <td>London</td>\n",
       "      <td>GB</td>\n",
       "      <td>2019-05-07 01:00:00</td>\n",
       "      <td>London Westminster</td>\n",
       "      <td>pm25</td>\n",
       "      <td>8.0</td>\n",
       "      <td>µg/m³</td>\n",
       "      <td>51.49467</td>\n",
       "      <td>-0.13193</td>\n",
       "    </tr>\n",
       "  </tbody>\n",
       "</table>\n",
       "</div>"
      ],
      "text/plain": [
       "        city country            date.utc            location parameter  value  \\\n",
       "4172  London      GB 2019-05-07 11:00:00  London Westminster      pm25   10.0   \n",
       "4173  London      GB 2019-05-07 10:00:00  London Westminster      pm25   10.0   \n",
       "4174  London      GB 2019-05-07 09:00:00  London Westminster      pm25   10.0   \n",
       "4175  London      GB 2019-05-07 08:00:00  London Westminster      pm25   10.0   \n",
       "4176  London      GB 2019-05-07 07:00:00  London Westminster      pm25    9.0   \n",
       "4177  London      GB 2019-05-07 06:00:00  London Westminster      pm25    9.0   \n",
       "4178  London      GB 2019-05-07 04:00:00  London Westminster      pm25    8.0   \n",
       "4179  London      GB 2019-05-07 03:00:00  London Westminster      pm25    8.0   \n",
       "4180  London      GB 2019-05-07 02:00:00  London Westminster      pm25    8.0   \n",
       "4181  London      GB 2019-05-07 01:00:00  London Westminster      pm25    8.0   \n",
       "\n",
       "       unit  coordinates.latitude  coordinates.longitude  \n",
       "4172  µg/m³              51.49467               -0.13193  \n",
       "4173  µg/m³              51.49467               -0.13193  \n",
       "4174  µg/m³              51.49467               -0.13193  \n",
       "4175  µg/m³              51.49467               -0.13193  \n",
       "4176  µg/m³              51.49467               -0.13193  \n",
       "4177  µg/m³              51.49467               -0.13193  \n",
       "4178  µg/m³              51.49467               -0.13193  \n",
       "4179  µg/m³              51.49467               -0.13193  \n",
       "4180  µg/m³              51.49467               -0.13193  \n",
       "4181  µg/m³              51.49467               -0.13193  "
      ]
     },
     "execution_count": 39,
     "metadata": {},
     "output_type": "execute_result"
    }
   ],
   "source": [
    "result.tail(10)"
   ]
  }
 ],
 "metadata": {
  "kernelspec": {
   "display_name": "Python 3",
   "language": "python",
   "name": "python3"
  },
  "language_info": {
   "codemirror_mode": {
    "name": "ipython",
    "version": 3
   },
   "file_extension": ".py",
   "mimetype": "text/x-python",
   "name": "python",
   "nbconvert_exporter": "python",
   "pygments_lexer": "ipython3",
   "version": "3.8.8"
  }
 },
 "nbformat": 4,
 "nbformat_minor": 4
}
