{
 "cells": [
  {
   "cell_type": "code",
   "execution_count": 1,
   "metadata": {
    "execution": {
     "iopub.execute_input": "2021-03-31T01:48:45.329228Z",
     "iopub.status.busy": "2021-03-31T01:48:45.329228Z",
     "iopub.status.idle": "2021-03-31T01:48:45.977077Z",
     "shell.execute_reply": "2021-03-31T01:48:45.976079Z",
     "shell.execute_reply.started": "2021-03-31T01:48:45.329228Z"
    }
   },
   "outputs": [],
   "source": [
    "import numpy as np\n",
    "import pandas as pd"
   ]
  },
  {
   "cell_type": "markdown",
   "metadata": {},
   "source": [
    "# 계층적 색인(Hierarchical Index)"
   ]
  },
  {
   "cell_type": "code",
   "execution_count": 2,
   "metadata": {
    "execution": {
     "iopub.execute_input": "2021-03-31T01:49:30.320194Z",
     "iopub.status.busy": "2021-03-31T01:49:30.320194Z",
     "iopub.status.idle": "2021-03-31T01:49:30.341138Z",
     "shell.execute_reply": "2021-03-31T01:49:30.340141Z",
     "shell.execute_reply.started": "2021-03-31T01:49:30.320194Z"
    }
   },
   "outputs": [
    {
     "data": {
      "text/plain": [
       "a  1    10\n",
       "   2    20\n",
       "b  3    30\n",
       "   1    40\n",
       "c  2    50\n",
       "   3    60\n",
       "dtype: int32"
      ]
     },
     "execution_count": 2,
     "metadata": {},
     "output_type": "execute_result"
    }
   ],
   "source": [
    "s = pd.Series(data = np.arange(10, 70, 10),\n",
    "              index = [['a', 'a', 'b', 'b', 'c', 'c'],\n",
    "                 [1, 2, 3, 1, 2, 3]])\n",
    "s"
   ]
  },
  {
   "cell_type": "code",
   "execution_count": 3,
   "metadata": {
    "execution": {
     "iopub.execute_input": "2021-03-31T01:49:38.278566Z",
     "iopub.status.busy": "2021-03-31T01:49:38.278566Z",
     "iopub.status.idle": "2021-03-31T01:49:38.292042Z",
     "shell.execute_reply": "2021-03-31T01:49:38.291046Z",
     "shell.execute_reply.started": "2021-03-31T01:49:38.278566Z"
    }
   },
   "outputs": [
    {
     "data": {
      "text/plain": [
       "MultiIndex([('a', 1),\n",
       "            ('a', 2),\n",
       "            ('b', 3),\n",
       "            ('b', 1),\n",
       "            ('c', 2),\n",
       "            ('c', 3)],\n",
       "           )"
      ]
     },
     "execution_count": 3,
     "metadata": {},
     "output_type": "execute_result"
    }
   ],
   "source": [
    "s.index"
   ]
  },
  {
   "cell_type": "code",
   "execution_count": 4,
   "metadata": {
    "execution": {
     "iopub.execute_input": "2021-03-31T01:49:44.881555Z",
     "iopub.status.busy": "2021-03-31T01:49:44.881555Z",
     "iopub.status.idle": "2021-03-31T01:49:44.895045Z",
     "shell.execute_reply": "2021-03-31T01:49:44.893038Z",
     "shell.execute_reply.started": "2021-03-31T01:49:44.881555Z"
    }
   },
   "outputs": [
    {
     "data": {
      "text/plain": [
       "FrozenList([['a', 'b', 'c'], [1, 2, 3]])"
      ]
     },
     "execution_count": 4,
     "metadata": {},
     "output_type": "execute_result"
    }
   ],
   "source": [
    "s.index.levels"
   ]
  },
  {
   "cell_type": "markdown",
   "metadata": {},
   "source": [
    "## multilevel(nlevels>=2)인 경우 loc 사용법\n",
    "* 첫번째 레벨의 인덱스만 가지고 인덱싱 가능\n",
    "* **두번째 레벨의 인덱스만으로는 인덱싱 불가**\n",
    "* 다중 레벨 인덱스는 **튜플 형태로 인덱싱 사용**"
   ]
  },
  {
   "cell_type": "code",
   "execution_count": 5,
   "metadata": {
    "execution": {
     "iopub.execute_input": "2021-03-31T01:50:41.296065Z",
     "iopub.status.busy": "2021-03-31T01:50:41.295069Z",
     "iopub.status.idle": "2021-03-31T01:50:41.307037Z",
     "shell.execute_reply": "2021-03-31T01:50:41.306038Z",
     "shell.execute_reply.started": "2021-03-31T01:50:41.296065Z"
    }
   },
   "outputs": [
    {
     "data": {
      "text/plain": [
       "1    10\n",
       "2    20\n",
       "dtype: int32"
      ]
     },
     "execution_count": 5,
     "metadata": {},
     "output_type": "execute_result"
    }
   ],
   "source": [
    "s.loc['a']"
   ]
  },
  {
   "cell_type": "code",
   "execution_count": 6,
   "metadata": {
    "execution": {
     "iopub.execute_input": "2021-03-31T01:50:57.463874Z",
     "iopub.status.busy": "2021-03-31T01:50:57.463874Z",
     "iopub.status.idle": "2021-03-31T01:50:57.482818Z",
     "shell.execute_reply": "2021-03-31T01:50:57.481819Z",
     "shell.execute_reply.started": "2021-03-31T01:50:57.463874Z"
    }
   },
   "outputs": [
    {
     "data": {
      "text/plain": [
       "10"
      ]
     },
     "execution_count": 6,
     "metadata": {},
     "output_type": "execute_result"
    }
   ],
   "source": [
    "s.loc[('a', 1)]"
   ]
  },
  {
   "cell_type": "code",
   "execution_count": 7,
   "metadata": {
    "execution": {
     "iopub.execute_input": "2021-03-31T01:50:58.809377Z",
     "iopub.status.busy": "2021-03-31T01:50:58.809377Z",
     "iopub.status.idle": "2021-03-31T01:50:58.817358Z",
     "shell.execute_reply": "2021-03-31T01:50:58.816358Z",
     "shell.execute_reply.started": "2021-03-31T01:50:58.809377Z"
    }
   },
   "outputs": [
    {
     "data": {
      "text/plain": [
       "a  1    10\n",
       "   2    20\n",
       "b  3    30\n",
       "   1    40\n",
       "c  2    50\n",
       "   3    60\n",
       "dtype: int32"
      ]
     },
     "execution_count": 7,
     "metadata": {},
     "output_type": "execute_result"
    }
   ],
   "source": [
    "s"
   ]
  },
  {
   "cell_type": "markdown",
   "metadata": {},
   "source": [
    "## multilevel index slicing"
   ]
  },
  {
   "cell_type": "code",
   "execution_count": 8,
   "metadata": {
    "execution": {
     "iopub.execute_input": "2021-03-31T01:51:26.346858Z",
     "iopub.status.busy": "2021-03-31T01:51:26.345861Z",
     "iopub.status.idle": "2021-03-31T01:51:26.367804Z",
     "shell.execute_reply": "2021-03-31T01:51:26.366805Z",
     "shell.execute_reply.started": "2021-03-31T01:51:26.345861Z"
    }
   },
   "outputs": [
    {
     "data": {
      "text/plain": [
       "a  1    10\n",
       "   2    20\n",
       "b  3    30\n",
       "   1    40\n",
       "dtype: int32"
      ]
     },
     "execution_count": 8,
     "metadata": {},
     "output_type": "execute_result"
    }
   ],
   "source": [
    "s.loc['a':'b']"
   ]
  },
  {
   "cell_type": "code",
   "execution_count": 9,
   "metadata": {
    "execution": {
     "iopub.execute_input": "2021-03-31T01:51:32.385861Z",
     "iopub.status.busy": "2021-03-31T01:51:32.385861Z",
     "iopub.status.idle": "2021-03-31T01:51:32.402819Z",
     "shell.execute_reply": "2021-03-31T01:51:32.401860Z",
     "shell.execute_reply.started": "2021-03-31T01:51:32.385861Z"
    }
   },
   "outputs": [
    {
     "data": {
      "text/plain": [
       "b  3    30\n",
       "   1    40\n",
       "c  2    50\n",
       "   3    60\n",
       "dtype: int32"
      ]
     },
     "execution_count": 9,
     "metadata": {},
     "output_type": "execute_result"
    }
   ],
   "source": [
    "s.loc['b':'c']"
   ]
  },
  {
   "cell_type": "code",
   "execution_count": 15,
   "metadata": {
    "execution": {
     "iopub.execute_input": "2021-03-31T01:52:27.746221Z",
     "iopub.status.busy": "2021-03-31T01:52:27.746221Z",
     "iopub.status.idle": "2021-03-31T01:52:27.762178Z",
     "shell.execute_reply": "2021-03-31T01:52:27.761183Z",
     "shell.execute_reply.started": "2021-03-31T01:52:27.746221Z"
    }
   },
   "outputs": [
    {
     "data": {
      "text/plain": [
       "a  1    10\n",
       "b  1    40\n",
       "dtype: int32"
      ]
     },
     "execution_count": 15,
     "metadata": {},
     "output_type": "execute_result"
    }
   ],
   "source": [
    "s.loc[[('a', 1),('b', 1)]] #> fancy indexing으로 리스트를 이용한 인덱싱은 가능하다."
   ]
  },
  {
   "cell_type": "markdown",
   "metadata": {},
   "source": [
    "## swaplevel() 메서드 : 인덱스 레벨 전환\n",
    "* 인덱스의 레벨을 바꾸어 줌"
   ]
  },
  {
   "cell_type": "code",
   "execution_count": 16,
   "metadata": {
    "execution": {
     "iopub.execute_input": "2021-03-31T01:53:03.239956Z",
     "iopub.status.busy": "2021-03-31T01:53:03.239956Z",
     "iopub.status.idle": "2021-03-31T01:53:03.256912Z",
     "shell.execute_reply": "2021-03-31T01:53:03.255915Z",
     "shell.execute_reply.started": "2021-03-31T01:53:03.239956Z"
    }
   },
   "outputs": [
    {
     "data": {
      "text/plain": [
       "a  1    10\n",
       "   2    20\n",
       "b  3    30\n",
       "   1    40\n",
       "c  2    50\n",
       "   3    60\n",
       "dtype: int32"
      ]
     },
     "execution_count": 16,
     "metadata": {},
     "output_type": "execute_result"
    }
   ],
   "source": [
    "s"
   ]
  },
  {
   "cell_type": "code",
   "execution_count": 17,
   "metadata": {
    "execution": {
     "iopub.execute_input": "2021-03-31T01:53:06.969053Z",
     "iopub.status.busy": "2021-03-31T01:53:06.969053Z",
     "iopub.status.idle": "2021-03-31T01:53:06.983013Z",
     "shell.execute_reply": "2021-03-31T01:53:06.982016Z",
     "shell.execute_reply.started": "2021-03-31T01:53:06.969053Z"
    }
   },
   "outputs": [
    {
     "data": {
      "text/plain": [
       "1  a    10\n",
       "2  a    20\n",
       "3  b    30\n",
       "1  b    40\n",
       "2  c    50\n",
       "3  c    60\n",
       "dtype: int32"
      ]
     },
     "execution_count": 17,
     "metadata": {},
     "output_type": "execute_result"
    }
   ],
   "source": [
    "s.swaplevel()"
   ]
  },
  {
   "cell_type": "code",
   "execution_count": 18,
   "metadata": {
    "execution": {
     "iopub.execute_input": "2021-03-31T01:53:16.465243Z",
     "iopub.status.busy": "2021-03-31T01:53:16.465243Z",
     "iopub.status.idle": "2021-03-31T01:53:16.482705Z",
     "shell.execute_reply": "2021-03-31T01:53:16.481707Z",
     "shell.execute_reply.started": "2021-03-31T01:53:16.465243Z"
    }
   },
   "outputs": [
    {
     "data": {
      "text/plain": [
       "a    10\n",
       "b    40\n",
       "dtype: int32"
      ]
     },
     "execution_count": 18,
     "metadata": {},
     "output_type": "execute_result"
    }
   ],
   "source": [
    "s.swaplevel().loc[1]"
   ]
  },
  {
   "cell_type": "markdown",
   "metadata": {},
   "source": [
    "## sort_index() 메서드 : 인덱스 정렬"
   ]
  },
  {
   "cell_type": "code",
   "execution_count": 19,
   "metadata": {
    "execution": {
     "iopub.execute_input": "2021-03-31T01:54:04.959655Z",
     "iopub.status.busy": "2021-03-31T01:54:04.958658Z",
     "iopub.status.idle": "2021-03-31T01:54:04.970621Z",
     "shell.execute_reply": "2021-03-31T01:54:04.970621Z",
     "shell.execute_reply.started": "2021-03-31T01:54:04.958658Z"
    }
   },
   "outputs": [
    {
     "data": {
      "text/plain": [
       "1  a    10\n",
       "   b    40\n",
       "2  a    20\n",
       "   c    50\n",
       "3  b    30\n",
       "   c    60\n",
       "dtype: int32"
      ]
     },
     "execution_count": 19,
     "metadata": {},
     "output_type": "execute_result"
    }
   ],
   "source": [
    "s.swaplevel().sort_index()"
   ]
  },
  {
   "cell_type": "code",
   "execution_count": 20,
   "metadata": {
    "execution": {
     "iopub.execute_input": "2021-03-31T01:54:22.320515Z",
     "iopub.status.busy": "2021-03-31T01:54:22.320515Z",
     "iopub.status.idle": "2021-03-31T01:54:22.333478Z",
     "shell.execute_reply": "2021-03-31T01:54:22.332520Z",
     "shell.execute_reply.started": "2021-03-31T01:54:22.320515Z"
    }
   },
   "outputs": [
    {
     "data": {
      "text/plain": [
       "1  a    10\n",
       "   b    40\n",
       "2  a    20\n",
       "   c    50\n",
       "dtype: int32"
      ]
     },
     "execution_count": 20,
     "metadata": {},
     "output_type": "execute_result"
    }
   ],
   "source": [
    "# chain call(연쇄 호출)\n",
    "s.swaplevel().sort_index().loc[1:2]"
   ]
  },
  {
   "cell_type": "markdown",
   "metadata": {},
   "source": [
    "# DataFrame의 Multi-Index\n",
    "* row multi-index"
   ]
  },
  {
   "cell_type": "code",
   "execution_count": 21,
   "metadata": {
    "execution": {
     "iopub.execute_input": "2021-03-31T01:55:49.092603Z",
     "iopub.status.busy": "2021-03-31T01:55:49.092603Z",
     "iopub.status.idle": "2021-03-31T01:55:49.123517Z",
     "shell.execute_reply": "2021-03-31T01:55:49.122519Z",
     "shell.execute_reply.started": "2021-03-31T01:55:49.092603Z"
    }
   },
   "outputs": [
    {
     "data": {
      "text/html": [
       "<div>\n",
       "<style scoped>\n",
       "    .dataframe tbody tr th:only-of-type {\n",
       "        vertical-align: middle;\n",
       "    }\n",
       "\n",
       "    .dataframe tbody tr th {\n",
       "        vertical-align: top;\n",
       "    }\n",
       "\n",
       "    .dataframe thead th {\n",
       "        text-align: right;\n",
       "    }\n",
       "</style>\n",
       "<table border=\"1\" class=\"dataframe\">\n",
       "  <thead>\n",
       "    <tr style=\"text-align: right;\">\n",
       "      <th></th>\n",
       "      <th></th>\n",
       "      <th>A</th>\n",
       "      <th>B</th>\n",
       "      <th>C</th>\n",
       "    </tr>\n",
       "  </thead>\n",
       "  <tbody>\n",
       "    <tr>\n",
       "      <th rowspan=\"2\" valign=\"top\">a</th>\n",
       "      <th>a1</th>\n",
       "      <td>1</td>\n",
       "      <td>2</td>\n",
       "      <td>3</td>\n",
       "    </tr>\n",
       "    <tr>\n",
       "      <th>a2</th>\n",
       "      <td>4</td>\n",
       "      <td>5</td>\n",
       "      <td>6</td>\n",
       "    </tr>\n",
       "    <tr>\n",
       "      <th rowspan=\"2\" valign=\"top\">b</th>\n",
       "      <th>b1</th>\n",
       "      <td>7</td>\n",
       "      <td>8</td>\n",
       "      <td>9</td>\n",
       "    </tr>\n",
       "    <tr>\n",
       "      <th>b2</th>\n",
       "      <td>10</td>\n",
       "      <td>11</td>\n",
       "      <td>12</td>\n",
       "    </tr>\n",
       "    <tr>\n",
       "      <th rowspan=\"2\" valign=\"top\">c</th>\n",
       "      <th>c1</th>\n",
       "      <td>13</td>\n",
       "      <td>14</td>\n",
       "      <td>15</td>\n",
       "    </tr>\n",
       "    <tr>\n",
       "      <th>c2</th>\n",
       "      <td>16</td>\n",
       "      <td>17</td>\n",
       "      <td>18</td>\n",
       "    </tr>\n",
       "  </tbody>\n",
       "</table>\n",
       "</div>"
      ],
      "text/plain": [
       "       A   B   C\n",
       "a a1   1   2   3\n",
       "  a2   4   5   6\n",
       "b b1   7   8   9\n",
       "  b2  10  11  12\n",
       "c c1  13  14  15\n",
       "  c2  16  17  18"
      ]
     },
     "execution_count": 21,
     "metadata": {},
     "output_type": "execute_result"
    }
   ],
   "source": [
    "df = pd.DataFrame(data = np.arange(1, 19).reshape((6, 3)),\n",
    "                  columns = ['A', 'B', 'C'],\n",
    "                  index = [['a', 'a', 'b', 'b', 'c', 'c'],\n",
    "                          ['a1', 'a2', 'b1', 'b2', 'c1', 'c2']])\n",
    "df"
   ]
  },
  {
   "cell_type": "code",
   "execution_count": 22,
   "metadata": {
    "execution": {
     "iopub.execute_input": "2021-03-31T01:56:09.498779Z",
     "iopub.status.busy": "2021-03-31T01:56:09.497780Z",
     "iopub.status.idle": "2021-03-31T01:56:09.510748Z",
     "shell.execute_reply": "2021-03-31T01:56:09.509749Z",
     "shell.execute_reply.started": "2021-03-31T01:56:09.497780Z"
    }
   },
   "outputs": [
    {
     "data": {
      "text/plain": [
       "MultiIndex([('a', 'a1'),\n",
       "            ('a', 'a2'),\n",
       "            ('b', 'b1'),\n",
       "            ('b', 'b2'),\n",
       "            ('c', 'c1'),\n",
       "            ('c', 'c2')],\n",
       "           )"
      ]
     },
     "execution_count": 22,
     "metadata": {},
     "output_type": "execute_result"
    }
   ],
   "source": [
    "# pd.Dataframe객체의 index 속성 : row index\n",
    "df.index"
   ]
  },
  {
   "cell_type": "code",
   "execution_count": 23,
   "metadata": {
    "execution": {
     "iopub.execute_input": "2021-03-31T01:56:26.166154Z",
     "iopub.status.busy": "2021-03-31T01:56:26.165156Z",
     "iopub.status.idle": "2021-03-31T01:56:26.182110Z",
     "shell.execute_reply": "2021-03-31T01:56:26.181114Z",
     "shell.execute_reply.started": "2021-03-31T01:56:26.166154Z"
    }
   },
   "outputs": [
    {
     "data": {
      "text/plain": [
       "Index(['A', 'B', 'C'], dtype='object')"
      ]
     },
     "execution_count": 23,
     "metadata": {},
     "output_type": "execute_result"
    }
   ],
   "source": [
    "# pd.DataFrame 객체의 columns 속성 : column index\n",
    "df.columns"
   ]
  },
  {
   "cell_type": "code",
   "execution_count": 24,
   "metadata": {
    "execution": {
     "iopub.execute_input": "2021-03-31T01:56:45.167931Z",
     "iopub.status.busy": "2021-03-31T01:56:45.167931Z",
     "iopub.status.idle": "2021-03-31T01:56:45.185883Z",
     "shell.execute_reply": "2021-03-31T01:56:45.184884Z",
     "shell.execute_reply.started": "2021-03-31T01:56:45.167931Z"
    }
   },
   "outputs": [
    {
     "data": {
      "text/plain": [
       "2"
      ]
     },
     "execution_count": 24,
     "metadata": {},
     "output_type": "execute_result"
    }
   ],
   "source": [
    "# pd.index 객체의 nlevels 속성 : 인덱스 레벨의 개수\n",
    "df.index.nlevels"
   ]
  },
  {
   "cell_type": "code",
   "execution_count": 25,
   "metadata": {
    "execution": {
     "iopub.execute_input": "2021-03-31T01:56:51.268661Z",
     "iopub.status.busy": "2021-03-31T01:56:51.268661Z",
     "iopub.status.idle": "2021-03-31T01:56:51.288124Z",
     "shell.execute_reply": "2021-03-31T01:56:51.287124Z",
     "shell.execute_reply.started": "2021-03-31T01:56:51.268661Z"
    }
   },
   "outputs": [
    {
     "data": {
      "text/plain": [
       "1"
      ]
     },
     "execution_count": 25,
     "metadata": {},
     "output_type": "execute_result"
    }
   ],
   "source": [
    "df.columns.nlevels"
   ]
  },
  {
   "cell_type": "code",
   "execution_count": 26,
   "metadata": {
    "execution": {
     "iopub.execute_input": "2021-03-31T01:56:58.991382Z",
     "iopub.status.busy": "2021-03-31T01:56:58.991382Z",
     "iopub.status.idle": "2021-03-31T01:56:59.015320Z",
     "shell.execute_reply": "2021-03-31T01:56:59.014322Z",
     "shell.execute_reply.started": "2021-03-31T01:56:58.991382Z"
    }
   },
   "outputs": [
    {
     "data": {
      "text/html": [
       "<div>\n",
       "<style scoped>\n",
       "    .dataframe tbody tr th:only-of-type {\n",
       "        vertical-align: middle;\n",
       "    }\n",
       "\n",
       "    .dataframe tbody tr th {\n",
       "        vertical-align: top;\n",
       "    }\n",
       "\n",
       "    .dataframe thead th {\n",
       "        text-align: right;\n",
       "    }\n",
       "</style>\n",
       "<table border=\"1\" class=\"dataframe\">\n",
       "  <thead>\n",
       "    <tr style=\"text-align: right;\">\n",
       "      <th></th>\n",
       "      <th>A</th>\n",
       "      <th>B</th>\n",
       "      <th>C</th>\n",
       "    </tr>\n",
       "  </thead>\n",
       "  <tbody>\n",
       "    <tr>\n",
       "      <th>a1</th>\n",
       "      <td>1</td>\n",
       "      <td>2</td>\n",
       "      <td>3</td>\n",
       "    </tr>\n",
       "    <tr>\n",
       "      <th>a2</th>\n",
       "      <td>4</td>\n",
       "      <td>5</td>\n",
       "      <td>6</td>\n",
       "    </tr>\n",
       "  </tbody>\n",
       "</table>\n",
       "</div>"
      ],
      "text/plain": [
       "    A  B  C\n",
       "a1  1  2  3\n",
       "a2  4  5  6"
      ]
     },
     "execution_count": 26,
     "metadata": {},
     "output_type": "execute_result"
    }
   ],
   "source": [
    "# indexing : row 선택\n",
    "df.loc['a']"
   ]
  },
  {
   "cell_type": "code",
   "execution_count": 27,
   "metadata": {
    "execution": {
     "iopub.execute_input": "2021-03-31T01:57:13.385617Z",
     "iopub.status.busy": "2021-03-31T01:57:13.384620Z",
     "iopub.status.idle": "2021-03-31T01:57:13.409555Z",
     "shell.execute_reply": "2021-03-31T01:57:13.408556Z",
     "shell.execute_reply.started": "2021-03-31T01:57:13.385617Z"
    }
   },
   "outputs": [
    {
     "data": {
      "text/html": [
       "<div>\n",
       "<style scoped>\n",
       "    .dataframe tbody tr th:only-of-type {\n",
       "        vertical-align: middle;\n",
       "    }\n",
       "\n",
       "    .dataframe tbody tr th {\n",
       "        vertical-align: top;\n",
       "    }\n",
       "\n",
       "    .dataframe thead th {\n",
       "        text-align: right;\n",
       "    }\n",
       "</style>\n",
       "<table border=\"1\" class=\"dataframe\">\n",
       "  <thead>\n",
       "    <tr style=\"text-align: right;\">\n",
       "      <th></th>\n",
       "      <th></th>\n",
       "      <th>A</th>\n",
       "      <th>B</th>\n",
       "      <th>C</th>\n",
       "    </tr>\n",
       "  </thead>\n",
       "  <tbody>\n",
       "    <tr>\n",
       "      <th rowspan=\"2\" valign=\"top\">a</th>\n",
       "      <th>a1</th>\n",
       "      <td>1</td>\n",
       "      <td>2</td>\n",
       "      <td>3</td>\n",
       "    </tr>\n",
       "    <tr>\n",
       "      <th>a2</th>\n",
       "      <td>4</td>\n",
       "      <td>5</td>\n",
       "      <td>6</td>\n",
       "    </tr>\n",
       "    <tr>\n",
       "      <th rowspan=\"2\" valign=\"top\">b</th>\n",
       "      <th>b1</th>\n",
       "      <td>7</td>\n",
       "      <td>8</td>\n",
       "      <td>9</td>\n",
       "    </tr>\n",
       "    <tr>\n",
       "      <th>b2</th>\n",
       "      <td>10</td>\n",
       "      <td>11</td>\n",
       "      <td>12</td>\n",
       "    </tr>\n",
       "  </tbody>\n",
       "</table>\n",
       "</div>"
      ],
      "text/plain": [
       "       A   B   C\n",
       "a a1   1   2   3\n",
       "  a2   4   5   6\n",
       "b b1   7   8   9\n",
       "  b2  10  11  12"
      ]
     },
     "execution_count": 27,
     "metadata": {},
     "output_type": "execute_result"
    }
   ],
   "source": [
    "# slicing\n",
    "df.loc['a':'b']"
   ]
  },
  {
   "cell_type": "code",
   "execution_count": 28,
   "metadata": {
    "execution": {
     "iopub.execute_input": "2021-03-31T01:57:21.694407Z",
     "iopub.status.busy": "2021-03-31T01:57:21.694407Z",
     "iopub.status.idle": "2021-03-31T01:57:21.709366Z",
     "shell.execute_reply": "2021-03-31T01:57:21.708370Z",
     "shell.execute_reply.started": "2021-03-31T01:57:21.694407Z"
    }
   },
   "outputs": [
    {
     "data": {
      "text/plain": [
       "A    1\n",
       "B    2\n",
       "C    3\n",
       "Name: (a, a1), dtype: int32"
      ]
     },
     "execution_count": 28,
     "metadata": {},
     "output_type": "execute_result"
    }
   ],
   "source": [
    "df.loc[('a', 'a1')]"
   ]
  },
  {
   "cell_type": "code",
   "execution_count": 29,
   "metadata": {
    "execution": {
     "iopub.execute_input": "2021-03-31T01:57:26.301531Z",
     "iopub.status.busy": "2021-03-31T01:57:26.301531Z",
     "iopub.status.idle": "2021-03-31T01:57:26.317487Z",
     "shell.execute_reply": "2021-03-31T01:57:26.316492Z",
     "shell.execute_reply.started": "2021-03-31T01:57:26.301531Z"
    }
   },
   "outputs": [
    {
     "data": {
      "text/html": [
       "<div>\n",
       "<style scoped>\n",
       "    .dataframe tbody tr th:only-of-type {\n",
       "        vertical-align: middle;\n",
       "    }\n",
       "\n",
       "    .dataframe tbody tr th {\n",
       "        vertical-align: top;\n",
       "    }\n",
       "\n",
       "    .dataframe thead th {\n",
       "        text-align: right;\n",
       "    }\n",
       "</style>\n",
       "<table border=\"1\" class=\"dataframe\">\n",
       "  <thead>\n",
       "    <tr style=\"text-align: right;\">\n",
       "      <th></th>\n",
       "      <th></th>\n",
       "      <th>A</th>\n",
       "      <th>B</th>\n",
       "      <th>C</th>\n",
       "    </tr>\n",
       "  </thead>\n",
       "  <tbody>\n",
       "    <tr>\n",
       "      <th>a1</th>\n",
       "      <th>a</th>\n",
       "      <td>1</td>\n",
       "      <td>2</td>\n",
       "      <td>3</td>\n",
       "    </tr>\n",
       "    <tr>\n",
       "      <th>a2</th>\n",
       "      <th>a</th>\n",
       "      <td>4</td>\n",
       "      <td>5</td>\n",
       "      <td>6</td>\n",
       "    </tr>\n",
       "    <tr>\n",
       "      <th>b1</th>\n",
       "      <th>b</th>\n",
       "      <td>7</td>\n",
       "      <td>8</td>\n",
       "      <td>9</td>\n",
       "    </tr>\n",
       "    <tr>\n",
       "      <th>b2</th>\n",
       "      <th>b</th>\n",
       "      <td>10</td>\n",
       "      <td>11</td>\n",
       "      <td>12</td>\n",
       "    </tr>\n",
       "    <tr>\n",
       "      <th>c1</th>\n",
       "      <th>c</th>\n",
       "      <td>13</td>\n",
       "      <td>14</td>\n",
       "      <td>15</td>\n",
       "    </tr>\n",
       "    <tr>\n",
       "      <th>c2</th>\n",
       "      <th>c</th>\n",
       "      <td>16</td>\n",
       "      <td>17</td>\n",
       "      <td>18</td>\n",
       "    </tr>\n",
       "  </tbody>\n",
       "</table>\n",
       "</div>"
      ],
      "text/plain": [
       "       A   B   C\n",
       "a1 a   1   2   3\n",
       "a2 a   4   5   6\n",
       "b1 b   7   8   9\n",
       "b2 b  10  11  12\n",
       "c1 c  13  14  15\n",
       "c2 c  16  17  18"
      ]
     },
     "execution_count": 29,
     "metadata": {},
     "output_type": "execute_result"
    }
   ],
   "source": [
    "df.swaplevel()"
   ]
  },
  {
   "cell_type": "code",
   "execution_count": 30,
   "metadata": {
    "execution": {
     "iopub.execute_input": "2021-03-31T01:57:48.213487Z",
     "iopub.status.busy": "2021-03-31T01:57:48.212490Z",
     "iopub.status.idle": "2021-03-31T01:57:48.226449Z",
     "shell.execute_reply": "2021-03-31T01:57:48.225450Z",
     "shell.execute_reply.started": "2021-03-31T01:57:48.213487Z"
    }
   },
   "outputs": [
    {
     "data": {
      "text/html": [
       "<div>\n",
       "<style scoped>\n",
       "    .dataframe tbody tr th:only-of-type {\n",
       "        vertical-align: middle;\n",
       "    }\n",
       "\n",
       "    .dataframe tbody tr th {\n",
       "        vertical-align: top;\n",
       "    }\n",
       "\n",
       "    .dataframe thead th {\n",
       "        text-align: right;\n",
       "    }\n",
       "</style>\n",
       "<table border=\"1\" class=\"dataframe\">\n",
       "  <thead>\n",
       "    <tr style=\"text-align: right;\">\n",
       "      <th></th>\n",
       "      <th></th>\n",
       "      <th>A</th>\n",
       "      <th>B</th>\n",
       "      <th>C</th>\n",
       "    </tr>\n",
       "  </thead>\n",
       "  <tbody>\n",
       "    <tr>\n",
       "      <th>a1</th>\n",
       "      <th>a</th>\n",
       "      <td>1</td>\n",
       "      <td>2</td>\n",
       "      <td>3</td>\n",
       "    </tr>\n",
       "    <tr>\n",
       "      <th>a2</th>\n",
       "      <th>a</th>\n",
       "      <td>4</td>\n",
       "      <td>5</td>\n",
       "      <td>6</td>\n",
       "    </tr>\n",
       "    <tr>\n",
       "      <th>b1</th>\n",
       "      <th>b</th>\n",
       "      <td>7</td>\n",
       "      <td>8</td>\n",
       "      <td>9</td>\n",
       "    </tr>\n",
       "  </tbody>\n",
       "</table>\n",
       "</div>"
      ],
      "text/plain": [
       "      A  B  C\n",
       "a1 a  1  2  3\n",
       "a2 a  4  5  6\n",
       "b1 b  7  8  9"
      ]
     },
     "execution_count": 30,
     "metadata": {},
     "output_type": "execute_result"
    }
   ],
   "source": [
    "# swaplevel + slicing\n",
    "df.swaplevel().loc['a1':'b1']"
   ]
  },
  {
   "cell_type": "code",
   "execution_count": 31,
   "metadata": {
    "execution": {
     "iopub.execute_input": "2021-03-31T01:58:07.353782Z",
     "iopub.status.busy": "2021-03-31T01:58:07.353782Z",
     "iopub.status.idle": "2021-03-31T01:58:07.610545Z",
     "shell.execute_reply": "2021-03-31T01:58:07.609547Z",
     "shell.execute_reply.started": "2021-03-31T01:58:07.353782Z"
    }
   },
   "outputs": [
    {
     "data": {
      "text/html": [
       "<div>\n",
       "<style scoped>\n",
       "    .dataframe tbody tr th:only-of-type {\n",
       "        vertical-align: middle;\n",
       "    }\n",
       "\n",
       "    .dataframe tbody tr th {\n",
       "        vertical-align: top;\n",
       "    }\n",
       "\n",
       "    .dataframe thead th {\n",
       "        text-align: right;\n",
       "    }\n",
       "</style>\n",
       "<table border=\"1\" class=\"dataframe\">\n",
       "  <thead>\n",
       "    <tr style=\"text-align: right;\">\n",
       "      <th></th>\n",
       "      <th></th>\n",
       "      <th>A</th>\n",
       "      <th>B</th>\n",
       "      <th>C</th>\n",
       "    </tr>\n",
       "  </thead>\n",
       "  <tbody>\n",
       "    <tr>\n",
       "      <th rowspan=\"2\" valign=\"top\">a</th>\n",
       "      <th>a1</th>\n",
       "      <td>1</td>\n",
       "      <td>2</td>\n",
       "      <td>3</td>\n",
       "    </tr>\n",
       "    <tr>\n",
       "      <th>a2</th>\n",
       "      <td>4</td>\n",
       "      <td>5</td>\n",
       "      <td>6</td>\n",
       "    </tr>\n",
       "    <tr>\n",
       "      <th rowspan=\"2\" valign=\"top\">c</th>\n",
       "      <th>c1</th>\n",
       "      <td>13</td>\n",
       "      <td>14</td>\n",
       "      <td>15</td>\n",
       "    </tr>\n",
       "    <tr>\n",
       "      <th>c2</th>\n",
       "      <td>16</td>\n",
       "      <td>17</td>\n",
       "      <td>18</td>\n",
       "    </tr>\n",
       "  </tbody>\n",
       "</table>\n",
       "</div>"
      ],
      "text/plain": [
       "       A   B   C\n",
       "a a1   1   2   3\n",
       "  a2   4   5   6\n",
       "c c1  13  14  15\n",
       "  c2  16  17  18"
      ]
     },
     "execution_count": 31,
     "metadata": {},
     "output_type": "execute_result"
    }
   ],
   "source": [
    "#list indexing - fancy indexing\n",
    "df.loc[['a', 'c']]"
   ]
  },
  {
   "cell_type": "code",
   "execution_count": 32,
   "metadata": {
    "execution": {
     "iopub.execute_input": "2021-03-31T01:58:23.115731Z",
     "iopub.status.busy": "2021-03-31T01:58:23.115731Z",
     "iopub.status.idle": "2021-03-31T01:58:23.135190Z",
     "shell.execute_reply": "2021-03-31T01:58:23.134233Z",
     "shell.execute_reply.started": "2021-03-31T01:58:23.115731Z"
    }
   },
   "outputs": [
    {
     "data": {
      "text/html": [
       "<div>\n",
       "<style scoped>\n",
       "    .dataframe tbody tr th:only-of-type {\n",
       "        vertical-align: middle;\n",
       "    }\n",
       "\n",
       "    .dataframe tbody tr th {\n",
       "        vertical-align: top;\n",
       "    }\n",
       "\n",
       "    .dataframe thead th {\n",
       "        text-align: right;\n",
       "    }\n",
       "</style>\n",
       "<table border=\"1\" class=\"dataframe\">\n",
       "  <thead>\n",
       "    <tr style=\"text-align: right;\">\n",
       "      <th></th>\n",
       "      <th></th>\n",
       "      <th>A</th>\n",
       "      <th>B</th>\n",
       "      <th>C</th>\n",
       "    </tr>\n",
       "  </thead>\n",
       "  <tbody>\n",
       "    <tr>\n",
       "      <th>a1</th>\n",
       "      <th>a</th>\n",
       "      <td>1</td>\n",
       "      <td>2</td>\n",
       "      <td>3</td>\n",
       "    </tr>\n",
       "    <tr>\n",
       "      <th>b1</th>\n",
       "      <th>b</th>\n",
       "      <td>7</td>\n",
       "      <td>8</td>\n",
       "      <td>9</td>\n",
       "    </tr>\n",
       "  </tbody>\n",
       "</table>\n",
       "</div>"
      ],
      "text/plain": [
       "      A  B  C\n",
       "a1 a  1  2  3\n",
       "b1 b  7  8  9"
      ]
     },
     "execution_count": 32,
     "metadata": {},
     "output_type": "execute_result"
    }
   ],
   "source": [
    "df.swaplevel().loc[['a1', 'b1']]"
   ]
  },
  {
   "cell_type": "markdown",
   "metadata": {},
   "source": [
    "# DataFrame의 row/column Multi-Index"
   ]
  },
  {
   "cell_type": "code",
   "execution_count": 33,
   "metadata": {
    "execution": {
     "iopub.execute_input": "2021-03-31T01:59:44.435012Z",
     "iopub.status.busy": "2021-03-31T01:59:44.435012Z",
     "iopub.status.idle": "2021-03-31T01:59:44.455956Z",
     "shell.execute_reply": "2021-03-31T01:59:44.454959Z",
     "shell.execute_reply.started": "2021-03-31T01:59:44.435012Z"
    }
   },
   "outputs": [
    {
     "data": {
      "text/html": [
       "<div>\n",
       "<style scoped>\n",
       "    .dataframe tbody tr th:only-of-type {\n",
       "        vertical-align: middle;\n",
       "    }\n",
       "\n",
       "    .dataframe tbody tr th {\n",
       "        vertical-align: top;\n",
       "    }\n",
       "\n",
       "    .dataframe thead tr th {\n",
       "        text-align: left;\n",
       "    }\n",
       "</style>\n",
       "<table border=\"1\" class=\"dataframe\">\n",
       "  <thead>\n",
       "    <tr>\n",
       "      <th></th>\n",
       "      <th></th>\n",
       "      <th colspan=\"2\" halign=\"left\">a</th>\n",
       "      <th>b</th>\n",
       "    </tr>\n",
       "    <tr>\n",
       "      <th></th>\n",
       "      <th></th>\n",
       "      <th>v1</th>\n",
       "      <th>v2</th>\n",
       "      <th>v1</th>\n",
       "    </tr>\n",
       "  </thead>\n",
       "  <tbody>\n",
       "    <tr>\n",
       "      <th rowspan=\"2\" valign=\"top\">A</th>\n",
       "      <th>a1</th>\n",
       "      <td>1</td>\n",
       "      <td>2</td>\n",
       "      <td>3</td>\n",
       "    </tr>\n",
       "    <tr>\n",
       "      <th>a2</th>\n",
       "      <td>4</td>\n",
       "      <td>5</td>\n",
       "      <td>6</td>\n",
       "    </tr>\n",
       "    <tr>\n",
       "      <th rowspan=\"2\" valign=\"top\">B</th>\n",
       "      <th>a1</th>\n",
       "      <td>7</td>\n",
       "      <td>8</td>\n",
       "      <td>9</td>\n",
       "    </tr>\n",
       "    <tr>\n",
       "      <th>a2</th>\n",
       "      <td>10</td>\n",
       "      <td>11</td>\n",
       "      <td>12</td>\n",
       "    </tr>\n",
       "    <tr>\n",
       "      <th rowspan=\"2\" valign=\"top\">C</th>\n",
       "      <th>a1</th>\n",
       "      <td>13</td>\n",
       "      <td>14</td>\n",
       "      <td>15</td>\n",
       "    </tr>\n",
       "    <tr>\n",
       "      <th>a2</th>\n",
       "      <td>16</td>\n",
       "      <td>17</td>\n",
       "      <td>18</td>\n",
       "    </tr>\n",
       "  </tbody>\n",
       "</table>\n",
       "</div>"
      ],
      "text/plain": [
       "       a       b\n",
       "      v1  v2  v1\n",
       "A a1   1   2   3\n",
       "  a2   4   5   6\n",
       "B a1   7   8   9\n",
       "  a2  10  11  12\n",
       "C a1  13  14  15\n",
       "  a2  16  17  18"
      ]
     },
     "execution_count": 33,
     "metadata": {},
     "output_type": "execute_result"
    }
   ],
   "source": [
    "df = pd.DataFrame(data = np.arange(1, 19).reshape((6, 3)),\n",
    "                  columns = [['a', 'a', 'b'], ['v1', 'v2', 'v1']],\n",
    "                  index = [['A', 'A', 'B', 'B', 'C', 'C'],\n",
    "                           ['a1', 'a2'] * 3])\n",
    "df"
   ]
  },
  {
   "cell_type": "code",
   "execution_count": 34,
   "metadata": {
    "execution": {
     "iopub.execute_input": "2021-03-31T01:59:50.770771Z",
     "iopub.status.busy": "2021-03-31T01:59:50.770771Z",
     "iopub.status.idle": "2021-03-31T01:59:50.781703Z",
     "shell.execute_reply": "2021-03-31T01:59:50.780704Z",
     "shell.execute_reply.started": "2021-03-31T01:59:50.770771Z"
    }
   },
   "outputs": [
    {
     "data": {
      "text/plain": [
       "MultiIndex([('A', 'a1'),\n",
       "            ('A', 'a2'),\n",
       "            ('B', 'a1'),\n",
       "            ('B', 'a2'),\n",
       "            ('C', 'a1'),\n",
       "            ('C', 'a2')],\n",
       "           )"
      ]
     },
     "execution_count": 34,
     "metadata": {},
     "output_type": "execute_result"
    }
   ],
   "source": [
    "df.index"
   ]
  },
  {
   "cell_type": "code",
   "execution_count": 35,
   "metadata": {
    "execution": {
     "iopub.execute_input": "2021-03-31T01:59:53.277546Z",
     "iopub.status.busy": "2021-03-31T01:59:53.276549Z",
     "iopub.status.idle": "2021-03-31T01:59:53.299488Z",
     "shell.execute_reply": "2021-03-31T01:59:53.298490Z",
     "shell.execute_reply.started": "2021-03-31T01:59:53.277546Z"
    }
   },
   "outputs": [
    {
     "data": {
      "text/plain": [
       "MultiIndex([('a', 'v1'),\n",
       "            ('a', 'v2'),\n",
       "            ('b', 'v1')],\n",
       "           )"
      ]
     },
     "execution_count": 35,
     "metadata": {},
     "output_type": "execute_result"
    }
   ],
   "source": [
    "df.columns"
   ]
  },
  {
   "cell_type": "code",
   "execution_count": 36,
   "metadata": {
    "execution": {
     "iopub.execute_input": "2021-03-31T01:59:57.973517Z",
     "iopub.status.busy": "2021-03-31T01:59:57.972521Z",
     "iopub.status.idle": "2021-03-31T01:59:57.987480Z",
     "shell.execute_reply": "2021-03-31T01:59:57.986482Z",
     "shell.execute_reply.started": "2021-03-31T01:59:57.973517Z"
    }
   },
   "outputs": [
    {
     "data": {
      "text/plain": [
       "2"
      ]
     },
     "execution_count": 36,
     "metadata": {},
     "output_type": "execute_result"
    }
   ],
   "source": [
    "df.index.nlevels"
   ]
  },
  {
   "cell_type": "code",
   "execution_count": 37,
   "metadata": {
    "execution": {
     "iopub.execute_input": "2021-03-31T02:00:03.637555Z",
     "iopub.status.busy": "2021-03-31T02:00:03.636560Z",
     "iopub.status.idle": "2021-03-31T02:00:03.657502Z",
     "shell.execute_reply": "2021-03-31T02:00:03.656504Z",
     "shell.execute_reply.started": "2021-03-31T02:00:03.637555Z"
    }
   },
   "outputs": [
    {
     "data": {
      "text/plain": [
       "2"
      ]
     },
     "execution_count": 37,
     "metadata": {},
     "output_type": "execute_result"
    }
   ],
   "source": [
    "df.columns.nlevels"
   ]
  },
  {
   "cell_type": "code",
   "execution_count": 38,
   "metadata": {
    "execution": {
     "iopub.execute_input": "2021-03-31T02:00:10.433268Z",
     "iopub.status.busy": "2021-03-31T02:00:10.432235Z",
     "iopub.status.idle": "2021-03-31T02:00:10.444202Z",
     "shell.execute_reply": "2021-03-31T02:00:10.444202Z",
     "shell.execute_reply.started": "2021-03-31T02:00:10.433268Z"
    }
   },
   "outputs": [
    {
     "data": {
      "text/html": [
       "<div>\n",
       "<style scoped>\n",
       "    .dataframe tbody tr th:only-of-type {\n",
       "        vertical-align: middle;\n",
       "    }\n",
       "\n",
       "    .dataframe tbody tr th {\n",
       "        vertical-align: top;\n",
       "    }\n",
       "\n",
       "    .dataframe thead tr th {\n",
       "        text-align: left;\n",
       "    }\n",
       "</style>\n",
       "<table border=\"1\" class=\"dataframe\">\n",
       "  <thead>\n",
       "    <tr>\n",
       "      <th></th>\n",
       "      <th colspan=\"2\" halign=\"left\">a</th>\n",
       "      <th>b</th>\n",
       "    </tr>\n",
       "    <tr>\n",
       "      <th></th>\n",
       "      <th>v1</th>\n",
       "      <th>v2</th>\n",
       "      <th>v1</th>\n",
       "    </tr>\n",
       "  </thead>\n",
       "  <tbody>\n",
       "    <tr>\n",
       "      <th>a1</th>\n",
       "      <td>1</td>\n",
       "      <td>2</td>\n",
       "      <td>3</td>\n",
       "    </tr>\n",
       "    <tr>\n",
       "      <th>a2</th>\n",
       "      <td>4</td>\n",
       "      <td>5</td>\n",
       "      <td>6</td>\n",
       "    </tr>\n",
       "  </tbody>\n",
       "</table>\n",
       "</div>"
      ],
      "text/plain": [
       "    a     b\n",
       "   v1 v2 v1\n",
       "a1  1  2  3\n",
       "a2  4  5  6"
      ]
     },
     "execution_count": 38,
     "metadata": {},
     "output_type": "execute_result"
    }
   ],
   "source": [
    "df.loc['A']"
   ]
  },
  {
   "cell_type": "code",
   "execution_count": 39,
   "metadata": {
    "execution": {
     "iopub.execute_input": "2021-03-31T02:00:20.003906Z",
     "iopub.status.busy": "2021-03-31T02:00:20.003906Z",
     "iopub.status.idle": "2021-03-31T02:00:20.026817Z",
     "shell.execute_reply": "2021-03-31T02:00:20.025822Z",
     "shell.execute_reply.started": "2021-03-31T02:00:20.003906Z"
    }
   },
   "outputs": [
    {
     "data": {
      "text/html": [
       "<div>\n",
       "<style scoped>\n",
       "    .dataframe tbody tr th:only-of-type {\n",
       "        vertical-align: middle;\n",
       "    }\n",
       "\n",
       "    .dataframe tbody tr th {\n",
       "        vertical-align: top;\n",
       "    }\n",
       "\n",
       "    .dataframe thead tr th {\n",
       "        text-align: left;\n",
       "    }\n",
       "</style>\n",
       "<table border=\"1\" class=\"dataframe\">\n",
       "  <thead>\n",
       "    <tr>\n",
       "      <th></th>\n",
       "      <th colspan=\"2\" halign=\"left\">a</th>\n",
       "      <th>b</th>\n",
       "    </tr>\n",
       "    <tr>\n",
       "      <th></th>\n",
       "      <th>v1</th>\n",
       "      <th>v2</th>\n",
       "      <th>v1</th>\n",
       "    </tr>\n",
       "  </thead>\n",
       "  <tbody>\n",
       "    <tr>\n",
       "      <th>A</th>\n",
       "      <td>1</td>\n",
       "      <td>2</td>\n",
       "      <td>3</td>\n",
       "    </tr>\n",
       "    <tr>\n",
       "      <th>B</th>\n",
       "      <td>7</td>\n",
       "      <td>8</td>\n",
       "      <td>9</td>\n",
       "    </tr>\n",
       "    <tr>\n",
       "      <th>C</th>\n",
       "      <td>13</td>\n",
       "      <td>14</td>\n",
       "      <td>15</td>\n",
       "    </tr>\n",
       "  </tbody>\n",
       "</table>\n",
       "</div>"
      ],
      "text/plain": [
       "    a       b\n",
       "   v1  v2  v1\n",
       "A   1   2   3\n",
       "B   7   8   9\n",
       "C  13  14  15"
      ]
     },
     "execution_count": 39,
     "metadata": {},
     "output_type": "execute_result"
    }
   ],
   "source": [
    "df.swaplevel().loc['a1']"
   ]
  },
  {
   "cell_type": "code",
   "execution_count": 40,
   "metadata": {
    "execution": {
     "iopub.execute_input": "2021-03-31T02:00:28.945756Z",
     "iopub.status.busy": "2021-03-31T02:00:28.945756Z",
     "iopub.status.idle": "2021-03-31T02:00:28.959719Z",
     "shell.execute_reply": "2021-03-31T02:00:28.958721Z",
     "shell.execute_reply.started": "2021-03-31T02:00:28.945756Z"
    }
   },
   "outputs": [
    {
     "data": {
      "text/html": [
       "<div>\n",
       "<style scoped>\n",
       "    .dataframe tbody tr th:only-of-type {\n",
       "        vertical-align: middle;\n",
       "    }\n",
       "\n",
       "    .dataframe tbody tr th {\n",
       "        vertical-align: top;\n",
       "    }\n",
       "\n",
       "    .dataframe thead th {\n",
       "        text-align: right;\n",
       "    }\n",
       "</style>\n",
       "<table border=\"1\" class=\"dataframe\">\n",
       "  <thead>\n",
       "    <tr style=\"text-align: right;\">\n",
       "      <th></th>\n",
       "      <th></th>\n",
       "      <th>v1</th>\n",
       "      <th>v2</th>\n",
       "    </tr>\n",
       "  </thead>\n",
       "  <tbody>\n",
       "    <tr>\n",
       "      <th rowspan=\"2\" valign=\"top\">A</th>\n",
       "      <th>a1</th>\n",
       "      <td>1</td>\n",
       "      <td>2</td>\n",
       "    </tr>\n",
       "    <tr>\n",
       "      <th>a2</th>\n",
       "      <td>4</td>\n",
       "      <td>5</td>\n",
       "    </tr>\n",
       "    <tr>\n",
       "      <th rowspan=\"2\" valign=\"top\">B</th>\n",
       "      <th>a1</th>\n",
       "      <td>7</td>\n",
       "      <td>8</td>\n",
       "    </tr>\n",
       "    <tr>\n",
       "      <th>a2</th>\n",
       "      <td>10</td>\n",
       "      <td>11</td>\n",
       "    </tr>\n",
       "    <tr>\n",
       "      <th rowspan=\"2\" valign=\"top\">C</th>\n",
       "      <th>a1</th>\n",
       "      <td>13</td>\n",
       "      <td>14</td>\n",
       "    </tr>\n",
       "    <tr>\n",
       "      <th>a2</th>\n",
       "      <td>16</td>\n",
       "      <td>17</td>\n",
       "    </tr>\n",
       "  </tbody>\n",
       "</table>\n",
       "</div>"
      ],
      "text/plain": [
       "      v1  v2\n",
       "A a1   1   2\n",
       "  a2   4   5\n",
       "B a1   7   8\n",
       "  a2  10  11\n",
       "C a1  13  14\n",
       "  a2  16  17"
      ]
     },
     "execution_count": 40,
     "metadata": {},
     "output_type": "execute_result"
    }
   ],
   "source": [
    "# DataFrame에서 컬럼 선택\n",
    "df['a']"
   ]
  },
  {
   "cell_type": "code",
   "execution_count": 41,
   "metadata": {
    "execution": {
     "iopub.execute_input": "2021-03-31T02:00:58.325342Z",
     "iopub.status.busy": "2021-03-31T02:00:58.325342Z",
     "iopub.status.idle": "2021-03-31T02:00:58.344292Z",
     "shell.execute_reply": "2021-03-31T02:00:58.343335Z",
     "shell.execute_reply.started": "2021-03-31T02:00:58.325342Z"
    }
   },
   "outputs": [
    {
     "data": {
      "text/html": [
       "<div>\n",
       "<style scoped>\n",
       "    .dataframe tbody tr th:only-of-type {\n",
       "        vertical-align: middle;\n",
       "    }\n",
       "\n",
       "    .dataframe tbody tr th {\n",
       "        vertical-align: top;\n",
       "    }\n",
       "\n",
       "    .dataframe thead th {\n",
       "        text-align: right;\n",
       "    }\n",
       "</style>\n",
       "<table border=\"1\" class=\"dataframe\">\n",
       "  <thead>\n",
       "    <tr style=\"text-align: right;\">\n",
       "      <th></th>\n",
       "      <th></th>\n",
       "      <th>a</th>\n",
       "      <th>b</th>\n",
       "    </tr>\n",
       "  </thead>\n",
       "  <tbody>\n",
       "    <tr>\n",
       "      <th rowspan=\"2\" valign=\"top\">A</th>\n",
       "      <th>a1</th>\n",
       "      <td>1</td>\n",
       "      <td>3</td>\n",
       "    </tr>\n",
       "    <tr>\n",
       "      <th>a2</th>\n",
       "      <td>4</td>\n",
       "      <td>6</td>\n",
       "    </tr>\n",
       "    <tr>\n",
       "      <th rowspan=\"2\" valign=\"top\">B</th>\n",
       "      <th>a1</th>\n",
       "      <td>7</td>\n",
       "      <td>9</td>\n",
       "    </tr>\n",
       "    <tr>\n",
       "      <th>a2</th>\n",
       "      <td>10</td>\n",
       "      <td>12</td>\n",
       "    </tr>\n",
       "    <tr>\n",
       "      <th rowspan=\"2\" valign=\"top\">C</th>\n",
       "      <th>a1</th>\n",
       "      <td>13</td>\n",
       "      <td>15</td>\n",
       "    </tr>\n",
       "    <tr>\n",
       "      <th>a2</th>\n",
       "      <td>16</td>\n",
       "      <td>18</td>\n",
       "    </tr>\n",
       "  </tbody>\n",
       "</table>\n",
       "</div>"
      ],
      "text/plain": [
       "       a   b\n",
       "A a1   1   3\n",
       "  a2   4   6\n",
       "B a1   7   9\n",
       "  a2  10  12\n",
       "C a1  13  15\n",
       "  a2  16  18"
      ]
     },
     "execution_count": 41,
     "metadata": {},
     "output_type": "execute_result"
    }
   ],
   "source": [
    "# 두번째 레벨의 컬럼이름으로는 index 할 수 없으므로, swaplevel(axis=1)을 사용해야 한다.\n",
    "df.swaplevel(axis = 1)['v1']"
   ]
  }
 ],
 "metadata": {
  "kernelspec": {
   "display_name": "Python 3",
   "language": "python",
   "name": "python3"
  },
  "language_info": {
   "codemirror_mode": {
    "name": "ipython",
    "version": 3
   },
   "file_extension": ".py",
   "mimetype": "text/x-python",
   "name": "python",
   "nbconvert_exporter": "python",
   "pygments_lexer": "ipython3",
   "version": "3.8.8"
  }
 },
 "nbformat": 4,
 "nbformat_minor": 4
}
