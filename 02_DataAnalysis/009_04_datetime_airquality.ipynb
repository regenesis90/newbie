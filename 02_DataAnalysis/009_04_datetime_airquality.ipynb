{
 "cells": [
  {
   "cell_type": "markdown",
   "metadata": {},
   "source": [
    "# import "
   ]
  },
  {
   "cell_type": "code",
   "execution_count": 1,
   "metadata": {
    "execution": {
     "iopub.execute_input": "2021-03-31T07:52:19.610516Z",
     "iopub.status.busy": "2021-03-31T07:52:19.609480Z",
     "iopub.status.idle": "2021-03-31T07:52:21.046707Z",
     "shell.execute_reply": "2021-03-31T07:52:21.045757Z",
     "shell.execute_reply.started": "2021-03-31T07:52:19.609480Z"
    }
   },
   "outputs": [],
   "source": [
    "import numpy as np\n",
    "import pandas as pd\n",
    "import matplotlib.pyplot as plt\n",
    "import seaborn as sns\n",
    "\n",
    "from datetime import datetime\n",
    "from datetime import timedelta"
   ]
  },
  {
   "cell_type": "markdown",
   "metadata": {},
   "source": [
    "# Load Data"
   ]
  },
  {
   "cell_type": "code",
   "execution_count": 2,
   "metadata": {
    "execution": {
     "iopub.execute_input": "2021-03-31T07:53:10.995092Z",
     "iopub.status.busy": "2021-03-31T07:53:10.995092Z",
     "iopub.status.idle": "2021-03-31T07:53:11.010052Z",
     "shell.execute_reply": "2021-03-31T07:53:11.009080Z",
     "shell.execute_reply.started": "2021-03-31T07:53:10.995092Z"
    }
   },
   "outputs": [],
   "source": [
    "no2_file = 'https://github.com/pandas-dev/pandas/raw/master/doc/data/air_quality_no2_long.csv'"
   ]
  },
  {
   "cell_type": "markdown",
   "metadata": {},
   "source": [
    "## default process (need to change data type)"
   ]
  },
  {
   "cell_type": "code",
   "execution_count": 3,
   "metadata": {
    "execution": {
     "iopub.execute_input": "2021-03-31T07:53:18.092822Z",
     "iopub.status.busy": "2021-03-31T07:53:18.091751Z",
     "iopub.status.idle": "2021-03-31T07:53:19.466919Z",
     "shell.execute_reply": "2021-03-31T07:53:19.465451Z",
     "shell.execute_reply.started": "2021-03-31T07:53:18.092822Z"
    }
   },
   "outputs": [],
   "source": [
    "air_quality = pd.read_csv(no2_file)"
   ]
  },
  {
   "cell_type": "code",
   "execution_count": 4,
   "metadata": {
    "execution": {
     "iopub.execute_input": "2021-03-31T07:53:21.276043Z",
     "iopub.status.busy": "2021-03-31T07:53:21.276043Z",
     "iopub.status.idle": "2021-03-31T07:53:21.306960Z",
     "shell.execute_reply": "2021-03-31T07:53:21.306010Z",
     "shell.execute_reply.started": "2021-03-31T07:53:21.276043Z"
    }
   },
   "outputs": [
    {
     "data": {
      "text/html": [
       "<div>\n",
       "<style scoped>\n",
       "    .dataframe tbody tr th:only-of-type {\n",
       "        vertical-align: middle;\n",
       "    }\n",
       "\n",
       "    .dataframe tbody tr th {\n",
       "        vertical-align: top;\n",
       "    }\n",
       "\n",
       "    .dataframe thead th {\n",
       "        text-align: right;\n",
       "    }\n",
       "</style>\n",
       "<table border=\"1\" class=\"dataframe\">\n",
       "  <thead>\n",
       "    <tr style=\"text-align: right;\">\n",
       "      <th></th>\n",
       "      <th>city</th>\n",
       "      <th>country</th>\n",
       "      <th>date.utc</th>\n",
       "      <th>location</th>\n",
       "      <th>parameter</th>\n",
       "      <th>value</th>\n",
       "      <th>unit</th>\n",
       "    </tr>\n",
       "  </thead>\n",
       "  <tbody>\n",
       "    <tr>\n",
       "      <th>0</th>\n",
       "      <td>Paris</td>\n",
       "      <td>FR</td>\n",
       "      <td>2019-06-21 00:00:00+00:00</td>\n",
       "      <td>FR04014</td>\n",
       "      <td>no2</td>\n",
       "      <td>20.0</td>\n",
       "      <td>µg/m³</td>\n",
       "    </tr>\n",
       "    <tr>\n",
       "      <th>1</th>\n",
       "      <td>Paris</td>\n",
       "      <td>FR</td>\n",
       "      <td>2019-06-20 23:00:00+00:00</td>\n",
       "      <td>FR04014</td>\n",
       "      <td>no2</td>\n",
       "      <td>21.8</td>\n",
       "      <td>µg/m³</td>\n",
       "    </tr>\n",
       "    <tr>\n",
       "      <th>2</th>\n",
       "      <td>Paris</td>\n",
       "      <td>FR</td>\n",
       "      <td>2019-06-20 22:00:00+00:00</td>\n",
       "      <td>FR04014</td>\n",
       "      <td>no2</td>\n",
       "      <td>26.5</td>\n",
       "      <td>µg/m³</td>\n",
       "    </tr>\n",
       "    <tr>\n",
       "      <th>3</th>\n",
       "      <td>Paris</td>\n",
       "      <td>FR</td>\n",
       "      <td>2019-06-20 21:00:00+00:00</td>\n",
       "      <td>FR04014</td>\n",
       "      <td>no2</td>\n",
       "      <td>24.9</td>\n",
       "      <td>µg/m³</td>\n",
       "    </tr>\n",
       "    <tr>\n",
       "      <th>4</th>\n",
       "      <td>Paris</td>\n",
       "      <td>FR</td>\n",
       "      <td>2019-06-20 20:00:00+00:00</td>\n",
       "      <td>FR04014</td>\n",
       "      <td>no2</td>\n",
       "      <td>21.4</td>\n",
       "      <td>µg/m³</td>\n",
       "    </tr>\n",
       "  </tbody>\n",
       "</table>\n",
       "</div>"
      ],
      "text/plain": [
       "    city country                   date.utc location parameter  value   unit\n",
       "0  Paris      FR  2019-06-21 00:00:00+00:00  FR04014       no2   20.0  µg/m³\n",
       "1  Paris      FR  2019-06-20 23:00:00+00:00  FR04014       no2   21.8  µg/m³\n",
       "2  Paris      FR  2019-06-20 22:00:00+00:00  FR04014       no2   26.5  µg/m³\n",
       "3  Paris      FR  2019-06-20 21:00:00+00:00  FR04014       no2   24.9  µg/m³\n",
       "4  Paris      FR  2019-06-20 20:00:00+00:00  FR04014       no2   21.4  µg/m³"
      ]
     },
     "execution_count": 4,
     "metadata": {},
     "output_type": "execute_result"
    }
   ],
   "source": [
    "air_quality.head()"
   ]
  },
  {
   "cell_type": "code",
   "execution_count": 5,
   "metadata": {
    "execution": {
     "iopub.execute_input": "2021-03-31T07:53:34.809583Z",
     "iopub.status.busy": "2021-03-31T07:53:34.808585Z",
     "iopub.status.idle": "2021-03-31T07:53:34.843491Z",
     "shell.execute_reply": "2021-03-31T07:53:34.842493Z",
     "shell.execute_reply.started": "2021-03-31T07:53:34.808585Z"
    }
   },
   "outputs": [
    {
     "name": "stdout",
     "output_type": "stream",
     "text": [
      "<class 'pandas.core.frame.DataFrame'>\n",
      "RangeIndex: 2068 entries, 0 to 2067\n",
      "Data columns (total 7 columns):\n",
      " #   Column     Non-Null Count  Dtype  \n",
      "---  ------     --------------  -----  \n",
      " 0   city       2068 non-null   object \n",
      " 1   country    2068 non-null   object \n",
      " 2   date.utc   2068 non-null   object \n",
      " 3   location   2068 non-null   object \n",
      " 4   parameter  2068 non-null   object \n",
      " 5   value      2068 non-null   float64\n",
      " 6   unit       2068 non-null   object \n",
      "dtypes: float64(1), object(6)\n",
      "memory usage: 113.2+ KB\n"
     ]
    }
   ],
   "source": [
    "air_quality.info()"
   ]
  },
  {
   "cell_type": "markdown",
   "metadata": {},
   "source": [
    "## change data type : pd.to_datetime()"
   ]
  },
  {
   "cell_type": "code",
   "execution_count": 6,
   "metadata": {
    "execution": {
     "iopub.execute_input": "2021-03-31T07:55:34.349117Z",
     "iopub.status.busy": "2021-03-31T07:55:34.349117Z",
     "iopub.status.idle": "2021-03-31T07:55:34.362082Z",
     "shell.execute_reply": "2021-03-31T07:55:34.361085Z",
     "shell.execute_reply.started": "2021-03-31T07:55:34.349117Z"
    }
   },
   "outputs": [],
   "source": [
    "#> to analyze time-series data, we must change str-type object to datetime type.\n",
    "air_quality['date.utc'] = pd.to_datetime(air_quality['date.utc'])"
   ]
  },
  {
   "cell_type": "code",
   "execution_count": 7,
   "metadata": {
    "execution": {
     "iopub.execute_input": "2021-03-31T07:55:37.906354Z",
     "iopub.status.busy": "2021-03-31T07:55:37.905356Z",
     "iopub.status.idle": "2021-03-31T07:55:37.934283Z",
     "shell.execute_reply": "2021-03-31T07:55:37.933283Z",
     "shell.execute_reply.started": "2021-03-31T07:55:37.906354Z"
    }
   },
   "outputs": [
    {
     "name": "stdout",
     "output_type": "stream",
     "text": [
      "<class 'pandas.core.frame.DataFrame'>\n",
      "RangeIndex: 2068 entries, 0 to 2067\n",
      "Data columns (total 7 columns):\n",
      " #   Column     Non-Null Count  Dtype              \n",
      "---  ------     --------------  -----              \n",
      " 0   city       2068 non-null   object             \n",
      " 1   country    2068 non-null   object             \n",
      " 2   date.utc   2068 non-null   datetime64[ns, UTC]\n",
      " 3   location   2068 non-null   object             \n",
      " 4   parameter  2068 non-null   object             \n",
      " 5   value      2068 non-null   float64            \n",
      " 6   unit       2068 non-null   object             \n",
      "dtypes: datetime64[ns, UTC](1), float64(1), object(5)\n",
      "memory usage: 113.2+ KB\n"
     ]
    }
   ],
   "source": [
    "air_quality.info()"
   ]
  },
  {
   "cell_type": "code",
   "execution_count": 8,
   "metadata": {
    "execution": {
     "iopub.execute_input": "2021-03-31T07:55:49.386828Z",
     "iopub.status.busy": "2021-03-31T07:55:49.385831Z",
     "iopub.status.idle": "2021-03-31T07:55:49.405778Z",
     "shell.execute_reply": "2021-03-31T07:55:49.403802Z",
     "shell.execute_reply.started": "2021-03-31T07:55:49.386828Z"
    }
   },
   "outputs": [
    {
     "data": {
      "text/html": [
       "<div>\n",
       "<style scoped>\n",
       "    .dataframe tbody tr th:only-of-type {\n",
       "        vertical-align: middle;\n",
       "    }\n",
       "\n",
       "    .dataframe tbody tr th {\n",
       "        vertical-align: top;\n",
       "    }\n",
       "\n",
       "    .dataframe thead th {\n",
       "        text-align: right;\n",
       "    }\n",
       "</style>\n",
       "<table border=\"1\" class=\"dataframe\">\n",
       "  <thead>\n",
       "    <tr style=\"text-align: right;\">\n",
       "      <th></th>\n",
       "      <th>city</th>\n",
       "      <th>country</th>\n",
       "      <th>date.utc</th>\n",
       "      <th>location</th>\n",
       "      <th>parameter</th>\n",
       "      <th>value</th>\n",
       "      <th>unit</th>\n",
       "    </tr>\n",
       "  </thead>\n",
       "  <tbody>\n",
       "    <tr>\n",
       "      <th>0</th>\n",
       "      <td>Paris</td>\n",
       "      <td>FR</td>\n",
       "      <td>2019-06-21 00:00:00+00:00</td>\n",
       "      <td>FR04014</td>\n",
       "      <td>no2</td>\n",
       "      <td>20.0</td>\n",
       "      <td>µg/m³</td>\n",
       "    </tr>\n",
       "    <tr>\n",
       "      <th>1</th>\n",
       "      <td>Paris</td>\n",
       "      <td>FR</td>\n",
       "      <td>2019-06-20 23:00:00+00:00</td>\n",
       "      <td>FR04014</td>\n",
       "      <td>no2</td>\n",
       "      <td>21.8</td>\n",
       "      <td>µg/m³</td>\n",
       "    </tr>\n",
       "    <tr>\n",
       "      <th>2</th>\n",
       "      <td>Paris</td>\n",
       "      <td>FR</td>\n",
       "      <td>2019-06-20 22:00:00+00:00</td>\n",
       "      <td>FR04014</td>\n",
       "      <td>no2</td>\n",
       "      <td>26.5</td>\n",
       "      <td>µg/m³</td>\n",
       "    </tr>\n",
       "    <tr>\n",
       "      <th>3</th>\n",
       "      <td>Paris</td>\n",
       "      <td>FR</td>\n",
       "      <td>2019-06-20 21:00:00+00:00</td>\n",
       "      <td>FR04014</td>\n",
       "      <td>no2</td>\n",
       "      <td>24.9</td>\n",
       "      <td>µg/m³</td>\n",
       "    </tr>\n",
       "    <tr>\n",
       "      <th>4</th>\n",
       "      <td>Paris</td>\n",
       "      <td>FR</td>\n",
       "      <td>2019-06-20 20:00:00+00:00</td>\n",
       "      <td>FR04014</td>\n",
       "      <td>no2</td>\n",
       "      <td>21.4</td>\n",
       "      <td>µg/m³</td>\n",
       "    </tr>\n",
       "  </tbody>\n",
       "</table>\n",
       "</div>"
      ],
      "text/plain": [
       "    city country                  date.utc location parameter  value   unit\n",
       "0  Paris      FR 2019-06-21 00:00:00+00:00  FR04014       no2   20.0  µg/m³\n",
       "1  Paris      FR 2019-06-20 23:00:00+00:00  FR04014       no2   21.8  µg/m³\n",
       "2  Paris      FR 2019-06-20 22:00:00+00:00  FR04014       no2   26.5  µg/m³\n",
       "3  Paris      FR 2019-06-20 21:00:00+00:00  FR04014       no2   24.9  µg/m³\n",
       "4  Paris      FR 2019-06-20 20:00:00+00:00  FR04014       no2   21.4  µg/m³"
      ]
     },
     "execution_count": 8,
     "metadata": {},
     "output_type": "execute_result"
    }
   ],
   "source": [
    "air_quality.head()"
   ]
  },
  {
   "cell_type": "code",
   "execution_count": 9,
   "metadata": {
    "execution": {
     "iopub.execute_input": "2021-03-31T07:56:09.738500Z",
     "iopub.status.busy": "2021-03-31T07:56:09.737500Z",
     "iopub.status.idle": "2021-03-31T07:56:09.750468Z",
     "shell.execute_reply": "2021-03-31T07:56:09.746479Z",
     "shell.execute_reply.started": "2021-03-31T07:56:09.737500Z"
    }
   },
   "outputs": [
    {
     "data": {
      "text/plain": [
       "Timestamp('2019-05-07 01:00:00+0000', tz='UTC')"
      ]
     },
     "execution_count": 9,
     "metadata": {},
     "output_type": "execute_result"
    }
   ],
   "source": [
    "air_quality['date.utc'].min()"
   ]
  },
  {
   "cell_type": "code",
   "execution_count": 10,
   "metadata": {
    "execution": {
     "iopub.execute_input": "2021-03-31T07:56:21.798758Z",
     "iopub.status.busy": "2021-03-31T07:56:21.797733Z",
     "iopub.status.idle": "2021-03-31T07:56:21.815928Z",
     "shell.execute_reply": "2021-03-31T07:56:21.814931Z",
     "shell.execute_reply.started": "2021-03-31T07:56:21.798758Z"
    }
   },
   "outputs": [
    {
     "data": {
      "text/plain": [
       "Timestamp('2019-06-21 00:00:00+0000', tz='UTC')"
      ]
     },
     "execution_count": 10,
     "metadata": {},
     "output_type": "execute_result"
    }
   ],
   "source": [
    "air_quality['date.utc'].max()"
   ]
  },
  {
   "cell_type": "markdown",
   "metadata": {},
   "source": [
    "## parse_dates & make datetime index at once"
   ]
  },
  {
   "cell_type": "code",
   "execution_count": 11,
   "metadata": {
    "execution": {
     "iopub.execute_input": "2021-03-31T07:58:58.560878Z",
     "iopub.status.busy": "2021-03-31T07:58:58.559880Z",
     "iopub.status.idle": "2021-03-31T07:59:00.279724Z",
     "shell.execute_reply": "2021-03-31T07:59:00.277990Z",
     "shell.execute_reply.started": "2021-03-31T07:58:58.560878Z"
    }
   },
   "outputs": [],
   "source": [
    "# pd.read_csv() -> df.to_datetime() -> df.set_index()\n",
    "air_quality = pd.read_csv(no2_file, parse_dates = ['date.utc'], index_col='date.utc')"
   ]
  },
  {
   "cell_type": "code",
   "execution_count": 12,
   "metadata": {
    "execution": {
     "iopub.execute_input": "2021-03-31T07:59:03.525720Z",
     "iopub.status.busy": "2021-03-31T07:59:03.525720Z",
     "iopub.status.idle": "2021-03-31T07:59:03.539194Z",
     "shell.execute_reply": "2021-03-31T07:59:03.538193Z",
     "shell.execute_reply.started": "2021-03-31T07:59:03.525720Z"
    }
   },
   "outputs": [
    {
     "name": "stdout",
     "output_type": "stream",
     "text": [
      "<class 'pandas.core.frame.DataFrame'>\n",
      "DatetimeIndex: 2068 entries, 2019-06-21 00:00:00+00:00 to 2019-05-07 01:00:00+00:00\n",
      "Data columns (total 6 columns):\n",
      " #   Column     Non-Null Count  Dtype  \n",
      "---  ------     --------------  -----  \n",
      " 0   city       2068 non-null   object \n",
      " 1   country    2068 non-null   object \n",
      " 2   location   2068 non-null   object \n",
      " 3   parameter  2068 non-null   object \n",
      " 4   value      2068 non-null   float64\n",
      " 5   unit       2068 non-null   object \n",
      "dtypes: float64(1), object(5)\n",
      "memory usage: 177.6+ KB\n"
     ]
    }
   ],
   "source": [
    "air_quality.info()"
   ]
  },
  {
   "cell_type": "code",
   "execution_count": 13,
   "metadata": {
    "execution": {
     "iopub.execute_input": "2021-03-31T07:59:14.209803Z",
     "iopub.status.busy": "2021-03-31T07:59:14.209803Z",
     "iopub.status.idle": "2021-03-31T07:59:14.226754Z",
     "shell.execute_reply": "2021-03-31T07:59:14.225793Z",
     "shell.execute_reply.started": "2021-03-31T07:59:14.209803Z"
    }
   },
   "outputs": [
    {
     "data": {
      "text/html": [
       "<div>\n",
       "<style scoped>\n",
       "    .dataframe tbody tr th:only-of-type {\n",
       "        vertical-align: middle;\n",
       "    }\n",
       "\n",
       "    .dataframe tbody tr th {\n",
       "        vertical-align: top;\n",
       "    }\n",
       "\n",
       "    .dataframe thead th {\n",
       "        text-align: right;\n",
       "    }\n",
       "</style>\n",
       "<table border=\"1\" class=\"dataframe\">\n",
       "  <thead>\n",
       "    <tr style=\"text-align: right;\">\n",
       "      <th></th>\n",
       "      <th>city</th>\n",
       "      <th>country</th>\n",
       "      <th>location</th>\n",
       "      <th>parameter</th>\n",
       "      <th>value</th>\n",
       "      <th>unit</th>\n",
       "    </tr>\n",
       "    <tr>\n",
       "      <th>date.utc</th>\n",
       "      <th></th>\n",
       "      <th></th>\n",
       "      <th></th>\n",
       "      <th></th>\n",
       "      <th></th>\n",
       "      <th></th>\n",
       "    </tr>\n",
       "  </thead>\n",
       "  <tbody>\n",
       "    <tr>\n",
       "      <th>2019-06-21 00:00:00+00:00</th>\n",
       "      <td>Paris</td>\n",
       "      <td>FR</td>\n",
       "      <td>FR04014</td>\n",
       "      <td>no2</td>\n",
       "      <td>20.0</td>\n",
       "      <td>µg/m³</td>\n",
       "    </tr>\n",
       "    <tr>\n",
       "      <th>2019-06-20 23:00:00+00:00</th>\n",
       "      <td>Paris</td>\n",
       "      <td>FR</td>\n",
       "      <td>FR04014</td>\n",
       "      <td>no2</td>\n",
       "      <td>21.8</td>\n",
       "      <td>µg/m³</td>\n",
       "    </tr>\n",
       "    <tr>\n",
       "      <th>2019-06-20 22:00:00+00:00</th>\n",
       "      <td>Paris</td>\n",
       "      <td>FR</td>\n",
       "      <td>FR04014</td>\n",
       "      <td>no2</td>\n",
       "      <td>26.5</td>\n",
       "      <td>µg/m³</td>\n",
       "    </tr>\n",
       "    <tr>\n",
       "      <th>2019-06-20 21:00:00+00:00</th>\n",
       "      <td>Paris</td>\n",
       "      <td>FR</td>\n",
       "      <td>FR04014</td>\n",
       "      <td>no2</td>\n",
       "      <td>24.9</td>\n",
       "      <td>µg/m³</td>\n",
       "    </tr>\n",
       "    <tr>\n",
       "      <th>2019-06-20 20:00:00+00:00</th>\n",
       "      <td>Paris</td>\n",
       "      <td>FR</td>\n",
       "      <td>FR04014</td>\n",
       "      <td>no2</td>\n",
       "      <td>21.4</td>\n",
       "      <td>µg/m³</td>\n",
       "    </tr>\n",
       "  </tbody>\n",
       "</table>\n",
       "</div>"
      ],
      "text/plain": [
       "                            city country location parameter  value   unit\n",
       "date.utc                                                                 \n",
       "2019-06-21 00:00:00+00:00  Paris      FR  FR04014       no2   20.0  µg/m³\n",
       "2019-06-20 23:00:00+00:00  Paris      FR  FR04014       no2   21.8  µg/m³\n",
       "2019-06-20 22:00:00+00:00  Paris      FR  FR04014       no2   26.5  µg/m³\n",
       "2019-06-20 21:00:00+00:00  Paris      FR  FR04014       no2   24.9  µg/m³\n",
       "2019-06-20 20:00:00+00:00  Paris      FR  FR04014       no2   21.4  µg/m³"
      ]
     },
     "execution_count": 13,
     "metadata": {},
     "output_type": "execute_result"
    }
   ],
   "source": [
    "air_quality.head()"
   ]
  },
  {
   "cell_type": "markdown",
   "metadata": {},
   "source": [
    "## parsing as column VS as index"
   ]
  },
  {
   "cell_type": "code",
   "execution_count": 14,
   "metadata": {
    "execution": {
     "iopub.execute_input": "2021-03-31T08:01:14.059651Z",
     "iopub.status.busy": "2021-03-31T08:01:14.059651Z",
     "iopub.status.idle": "2021-03-31T08:01:16.066660Z",
     "shell.execute_reply": "2021-03-31T08:01:16.065648Z",
     "shell.execute_reply.started": "2021-03-31T08:01:14.059651Z"
    }
   },
   "outputs": [],
   "source": [
    "# air_quality DF : date.utc -> column(datetime type)\n",
    "air_quality = pd.read_csv(no2_file, parse_dates = ['date.utc'])\n",
    "\n",
    "# air_quality2 DF : date.utc -> index(DatetimeIndex type)\n",
    "air_quality2 = pd.read_csv(no2_file, parse_dates = ['date.utc'], index_col = 'date.utc')"
   ]
  },
  {
   "cell_type": "code",
   "execution_count": 15,
   "metadata": {
    "execution": {
     "iopub.execute_input": "2021-03-31T08:01:21.521014Z",
     "iopub.status.busy": "2021-03-31T08:01:21.521014Z",
     "iopub.status.idle": "2021-03-31T08:01:21.540963Z",
     "shell.execute_reply": "2021-03-31T08:01:21.539964Z",
     "shell.execute_reply.started": "2021-03-31T08:01:21.521014Z"
    }
   },
   "outputs": [
    {
     "data": {
      "text/html": [
       "<div>\n",
       "<style scoped>\n",
       "    .dataframe tbody tr th:only-of-type {\n",
       "        vertical-align: middle;\n",
       "    }\n",
       "\n",
       "    .dataframe tbody tr th {\n",
       "        vertical-align: top;\n",
       "    }\n",
       "\n",
       "    .dataframe thead th {\n",
       "        text-align: right;\n",
       "    }\n",
       "</style>\n",
       "<table border=\"1\" class=\"dataframe\">\n",
       "  <thead>\n",
       "    <tr style=\"text-align: right;\">\n",
       "      <th></th>\n",
       "      <th>city</th>\n",
       "      <th>country</th>\n",
       "      <th>date.utc</th>\n",
       "      <th>location</th>\n",
       "      <th>parameter</th>\n",
       "      <th>value</th>\n",
       "      <th>unit</th>\n",
       "    </tr>\n",
       "  </thead>\n",
       "  <tbody>\n",
       "    <tr>\n",
       "      <th>0</th>\n",
       "      <td>Paris</td>\n",
       "      <td>FR</td>\n",
       "      <td>2019-06-21 00:00:00+00:00</td>\n",
       "      <td>FR04014</td>\n",
       "      <td>no2</td>\n",
       "      <td>20.0</td>\n",
       "      <td>µg/m³</td>\n",
       "    </tr>\n",
       "    <tr>\n",
       "      <th>1</th>\n",
       "      <td>Paris</td>\n",
       "      <td>FR</td>\n",
       "      <td>2019-06-20 23:00:00+00:00</td>\n",
       "      <td>FR04014</td>\n",
       "      <td>no2</td>\n",
       "      <td>21.8</td>\n",
       "      <td>µg/m³</td>\n",
       "    </tr>\n",
       "    <tr>\n",
       "      <th>2</th>\n",
       "      <td>Paris</td>\n",
       "      <td>FR</td>\n",
       "      <td>2019-06-20 22:00:00+00:00</td>\n",
       "      <td>FR04014</td>\n",
       "      <td>no2</td>\n",
       "      <td>26.5</td>\n",
       "      <td>µg/m³</td>\n",
       "    </tr>\n",
       "    <tr>\n",
       "      <th>3</th>\n",
       "      <td>Paris</td>\n",
       "      <td>FR</td>\n",
       "      <td>2019-06-20 21:00:00+00:00</td>\n",
       "      <td>FR04014</td>\n",
       "      <td>no2</td>\n",
       "      <td>24.9</td>\n",
       "      <td>µg/m³</td>\n",
       "    </tr>\n",
       "    <tr>\n",
       "      <th>4</th>\n",
       "      <td>Paris</td>\n",
       "      <td>FR</td>\n",
       "      <td>2019-06-20 20:00:00+00:00</td>\n",
       "      <td>FR04014</td>\n",
       "      <td>no2</td>\n",
       "      <td>21.4</td>\n",
       "      <td>µg/m³</td>\n",
       "    </tr>\n",
       "  </tbody>\n",
       "</table>\n",
       "</div>"
      ],
      "text/plain": [
       "    city country                  date.utc location parameter  value   unit\n",
       "0  Paris      FR 2019-06-21 00:00:00+00:00  FR04014       no2   20.0  µg/m³\n",
       "1  Paris      FR 2019-06-20 23:00:00+00:00  FR04014       no2   21.8  µg/m³\n",
       "2  Paris      FR 2019-06-20 22:00:00+00:00  FR04014       no2   26.5  µg/m³\n",
       "3  Paris      FR 2019-06-20 21:00:00+00:00  FR04014       no2   24.9  µg/m³\n",
       "4  Paris      FR 2019-06-20 20:00:00+00:00  FR04014       no2   21.4  µg/m³"
      ]
     },
     "execution_count": 15,
     "metadata": {},
     "output_type": "execute_result"
    }
   ],
   "source": [
    "air_quality.head()"
   ]
  },
  {
   "cell_type": "code",
   "execution_count": 16,
   "metadata": {
    "execution": {
     "iopub.execute_input": "2021-03-31T08:01:26.935288Z",
     "iopub.status.busy": "2021-03-31T08:01:26.935288Z",
     "iopub.status.idle": "2021-03-31T08:01:26.956195Z",
     "shell.execute_reply": "2021-03-31T08:01:26.955197Z",
     "shell.execute_reply.started": "2021-03-31T08:01:26.935288Z"
    }
   },
   "outputs": [
    {
     "name": "stdout",
     "output_type": "stream",
     "text": [
      "<class 'pandas.core.frame.DataFrame'>\n",
      "RangeIndex: 2068 entries, 0 to 2067\n",
      "Data columns (total 7 columns):\n",
      " #   Column     Non-Null Count  Dtype              \n",
      "---  ------     --------------  -----              \n",
      " 0   city       2068 non-null   object             \n",
      " 1   country    2068 non-null   object             \n",
      " 2   date.utc   2068 non-null   datetime64[ns, UTC]\n",
      " 3   location   2068 non-null   object             \n",
      " 4   parameter  2068 non-null   object             \n",
      " 5   value      2068 non-null   float64            \n",
      " 6   unit       2068 non-null   object             \n",
      "dtypes: datetime64[ns, UTC](1), float64(1), object(5)\n",
      "memory usage: 113.2+ KB\n"
     ]
    }
   ],
   "source": [
    "air_quality.info()"
   ]
  },
  {
   "cell_type": "code",
   "execution_count": 17,
   "metadata": {
    "execution": {
     "iopub.execute_input": "2021-03-31T08:01:35.891500Z",
     "iopub.status.busy": "2021-03-31T08:01:35.890502Z",
     "iopub.status.idle": "2021-03-31T08:01:35.913443Z",
     "shell.execute_reply": "2021-03-31T08:01:35.912445Z",
     "shell.execute_reply.started": "2021-03-31T08:01:35.891500Z"
    }
   },
   "outputs": [
    {
     "data": {
      "text/html": [
       "<div>\n",
       "<style scoped>\n",
       "    .dataframe tbody tr th:only-of-type {\n",
       "        vertical-align: middle;\n",
       "    }\n",
       "\n",
       "    .dataframe tbody tr th {\n",
       "        vertical-align: top;\n",
       "    }\n",
       "\n",
       "    .dataframe thead th {\n",
       "        text-align: right;\n",
       "    }\n",
       "</style>\n",
       "<table border=\"1\" class=\"dataframe\">\n",
       "  <thead>\n",
       "    <tr style=\"text-align: right;\">\n",
       "      <th></th>\n",
       "      <th>city</th>\n",
       "      <th>country</th>\n",
       "      <th>location</th>\n",
       "      <th>parameter</th>\n",
       "      <th>value</th>\n",
       "      <th>unit</th>\n",
       "    </tr>\n",
       "    <tr>\n",
       "      <th>date.utc</th>\n",
       "      <th></th>\n",
       "      <th></th>\n",
       "      <th></th>\n",
       "      <th></th>\n",
       "      <th></th>\n",
       "      <th></th>\n",
       "    </tr>\n",
       "  </thead>\n",
       "  <tbody>\n",
       "    <tr>\n",
       "      <th>2019-06-21 00:00:00+00:00</th>\n",
       "      <td>Paris</td>\n",
       "      <td>FR</td>\n",
       "      <td>FR04014</td>\n",
       "      <td>no2</td>\n",
       "      <td>20.0</td>\n",
       "      <td>µg/m³</td>\n",
       "    </tr>\n",
       "    <tr>\n",
       "      <th>2019-06-20 23:00:00+00:00</th>\n",
       "      <td>Paris</td>\n",
       "      <td>FR</td>\n",
       "      <td>FR04014</td>\n",
       "      <td>no2</td>\n",
       "      <td>21.8</td>\n",
       "      <td>µg/m³</td>\n",
       "    </tr>\n",
       "    <tr>\n",
       "      <th>2019-06-20 22:00:00+00:00</th>\n",
       "      <td>Paris</td>\n",
       "      <td>FR</td>\n",
       "      <td>FR04014</td>\n",
       "      <td>no2</td>\n",
       "      <td>26.5</td>\n",
       "      <td>µg/m³</td>\n",
       "    </tr>\n",
       "    <tr>\n",
       "      <th>2019-06-20 21:00:00+00:00</th>\n",
       "      <td>Paris</td>\n",
       "      <td>FR</td>\n",
       "      <td>FR04014</td>\n",
       "      <td>no2</td>\n",
       "      <td>24.9</td>\n",
       "      <td>µg/m³</td>\n",
       "    </tr>\n",
       "    <tr>\n",
       "      <th>2019-06-20 20:00:00+00:00</th>\n",
       "      <td>Paris</td>\n",
       "      <td>FR</td>\n",
       "      <td>FR04014</td>\n",
       "      <td>no2</td>\n",
       "      <td>21.4</td>\n",
       "      <td>µg/m³</td>\n",
       "    </tr>\n",
       "  </tbody>\n",
       "</table>\n",
       "</div>"
      ],
      "text/plain": [
       "                            city country location parameter  value   unit\n",
       "date.utc                                                                 \n",
       "2019-06-21 00:00:00+00:00  Paris      FR  FR04014       no2   20.0  µg/m³\n",
       "2019-06-20 23:00:00+00:00  Paris      FR  FR04014       no2   21.8  µg/m³\n",
       "2019-06-20 22:00:00+00:00  Paris      FR  FR04014       no2   26.5  µg/m³\n",
       "2019-06-20 21:00:00+00:00  Paris      FR  FR04014       no2   24.9  µg/m³\n",
       "2019-06-20 20:00:00+00:00  Paris      FR  FR04014       no2   21.4  µg/m³"
      ]
     },
     "execution_count": 17,
     "metadata": {},
     "output_type": "execute_result"
    }
   ],
   "source": [
    "air_quality2.head()"
   ]
  },
  {
   "cell_type": "code",
   "execution_count": 18,
   "metadata": {
    "execution": {
     "iopub.execute_input": "2021-03-31T08:01:39.974327Z",
     "iopub.status.busy": "2021-03-31T08:01:39.974327Z",
     "iopub.status.idle": "2021-03-31T08:01:39.989287Z",
     "shell.execute_reply": "2021-03-31T08:01:39.988290Z",
     "shell.execute_reply.started": "2021-03-31T08:01:39.974327Z"
    }
   },
   "outputs": [
    {
     "name": "stdout",
     "output_type": "stream",
     "text": [
      "<class 'pandas.core.frame.DataFrame'>\n",
      "DatetimeIndex: 2068 entries, 2019-06-21 00:00:00+00:00 to 2019-05-07 01:00:00+00:00\n",
      "Data columns (total 6 columns):\n",
      " #   Column     Non-Null Count  Dtype  \n",
      "---  ------     --------------  -----  \n",
      " 0   city       2068 non-null   object \n",
      " 1   country    2068 non-null   object \n",
      " 2   location   2068 non-null   object \n",
      " 3   parameter  2068 non-null   object \n",
      " 4   value      2068 non-null   float64\n",
      " 5   unit       2068 non-null   object \n",
      "dtypes: float64(1), object(5)\n",
      "memory usage: 177.6+ KB\n"
     ]
    }
   ],
   "source": [
    "air_quality2.info()"
   ]
  },
  {
   "cell_type": "markdown",
   "metadata": {},
   "source": [
    "# Structure of air_quality DF"
   ]
  },
  {
   "cell_type": "code",
   "execution_count": 19,
   "metadata": {
    "execution": {
     "iopub.execute_input": "2021-03-31T08:02:44.470644Z",
     "iopub.status.busy": "2021-03-31T08:02:44.470644Z",
     "iopub.status.idle": "2021-03-31T08:02:44.492411Z",
     "shell.execute_reply": "2021-03-31T08:02:44.491452Z",
     "shell.execute_reply.started": "2021-03-31T08:02:44.470644Z"
    }
   },
   "outputs": [
    {
     "data": {
      "text/plain": [
       "Paris        1004\n",
       "London        969\n",
       "Antwerpen      95\n",
       "Name: city, dtype: int64"
      ]
     },
     "execution_count": 19,
     "metadata": {},
     "output_type": "execute_result"
    }
   ],
   "source": [
    "air_quality['city'].value_counts()"
   ]
  },
  {
   "cell_type": "code",
   "execution_count": 20,
   "metadata": {
    "execution": {
     "iopub.execute_input": "2021-03-31T08:03:20.421099Z",
     "iopub.status.busy": "2021-03-31T08:03:20.421099Z",
     "iopub.status.idle": "2021-03-31T08:03:20.444038Z",
     "shell.execute_reply": "2021-03-31T08:03:20.443040Z",
     "shell.execute_reply.started": "2021-03-31T08:03:20.421099Z"
    }
   },
   "outputs": [
    {
     "data": {
      "text/plain": [
       "FR    1004\n",
       "GB     969\n",
       "BE      95\n",
       "Name: country, dtype: int64"
      ]
     },
     "execution_count": 20,
     "metadata": {},
     "output_type": "execute_result"
    }
   ],
   "source": [
    "air_quality['country'].value_counts()"
   ]
  },
  {
   "cell_type": "code",
   "execution_count": 21,
   "metadata": {
    "execution": {
     "iopub.execute_input": "2021-03-31T08:04:03.044096Z",
     "iopub.status.busy": "2021-03-31T08:04:03.044096Z",
     "iopub.status.idle": "2021-03-31T08:04:03.060061Z",
     "shell.execute_reply": "2021-03-31T08:04:03.058062Z",
     "shell.execute_reply.started": "2021-03-31T08:04:03.044096Z"
    }
   },
   "outputs": [
    {
     "data": {
      "text/plain": [
       "FR04014               1004\n",
       "London Westminster     969\n",
       "BETR801                 95\n",
       "Name: location, dtype: int64"
      ]
     },
     "execution_count": 21,
     "metadata": {},
     "output_type": "execute_result"
    }
   ],
   "source": [
    "air_quality['location'].value_counts()"
   ]
  },
  {
   "cell_type": "code",
   "execution_count": 22,
   "metadata": {
    "execution": {
     "iopub.execute_input": "2021-03-31T08:04:39.030411Z",
     "iopub.status.busy": "2021-03-31T08:04:39.029386Z",
     "iopub.status.idle": "2021-03-31T08:04:39.048337Z",
     "shell.execute_reply": "2021-03-31T08:04:39.047340Z",
     "shell.execute_reply.started": "2021-03-31T08:04:39.030411Z"
    }
   },
   "outputs": [
    {
     "data": {
      "text/plain": [
       "no2    2068\n",
       "Name: parameter, dtype: int64"
      ]
     },
     "execution_count": 22,
     "metadata": {},
     "output_type": "execute_result"
    }
   ],
   "source": [
    "air_quality['parameter'].value_counts()"
   ]
  },
  {
   "cell_type": "code",
   "execution_count": 23,
   "metadata": {
    "execution": {
     "iopub.execute_input": "2021-03-31T08:05:12.650202Z",
     "iopub.status.busy": "2021-03-31T08:05:12.650202Z",
     "iopub.status.idle": "2021-03-31T08:05:12.659180Z",
     "shell.execute_reply": "2021-03-31T08:05:12.658184Z",
     "shell.execute_reply.started": "2021-03-31T08:05:12.650202Z"
    }
   },
   "outputs": [
    {
     "data": {
      "text/plain": [
       "µg/m³    2068\n",
       "Name: unit, dtype: int64"
      ]
     },
     "execution_count": 23,
     "metadata": {},
     "output_type": "execute_result"
    }
   ],
   "source": [
    "air_quality['unit'].value_counts()"
   ]
  },
  {
   "cell_type": "code",
   "execution_count": 24,
   "metadata": {
    "execution": {
     "iopub.execute_input": "2021-03-31T08:05:44.016875Z",
     "iopub.status.busy": "2021-03-31T08:05:44.016875Z",
     "iopub.status.idle": "2021-03-31T08:05:44.037820Z",
     "shell.execute_reply": "2021-03-31T08:05:44.036824Z",
     "shell.execute_reply.started": "2021-03-31T08:05:44.016875Z"
    }
   },
   "outputs": [
    {
     "data": {
      "text/plain": [
       "count    2068.000000\n",
       "mean       26.261847\n",
       "std        13.479451\n",
       "min         0.000000\n",
       "25%        17.000000\n",
       "50%        25.000000\n",
       "75%        33.000000\n",
       "max        97.000000\n",
       "Name: value, dtype: float64"
      ]
     },
     "execution_count": 24,
     "metadata": {},
     "output_type": "execute_result"
    }
   ],
   "source": [
    "air_quality['value'].describe()"
   ]
  },
  {
   "cell_type": "code",
   "execution_count": 25,
   "metadata": {
    "execution": {
     "iopub.execute_input": "2021-03-31T08:06:02.225557Z",
     "iopub.status.busy": "2021-03-31T08:06:02.224558Z",
     "iopub.status.idle": "2021-03-31T08:06:02.249494Z",
     "shell.execute_reply": "2021-03-31T08:06:02.247499Z",
     "shell.execute_reply.started": "2021-03-31T08:06:02.224558Z"
    }
   },
   "outputs": [
    {
     "data": {
      "text/plain": [
       "array([2019], dtype=int64)"
      ]
     },
     "execution_count": 25,
     "metadata": {},
     "output_type": "execute_result"
    }
   ],
   "source": [
    "air_quality['date.utc'].dt.year.unique()"
   ]
  },
  {
   "cell_type": "code",
   "execution_count": 27,
   "metadata": {
    "execution": {
     "iopub.execute_input": "2021-03-31T08:06:34.502568Z",
     "iopub.status.busy": "2021-03-31T08:06:34.502568Z",
     "iopub.status.idle": "2021-03-31T08:06:34.516529Z",
     "shell.execute_reply": "2021-03-31T08:06:34.515531Z",
     "shell.execute_reply.started": "2021-03-31T08:06:34.502568Z"
    }
   },
   "outputs": [
    {
     "data": {
      "text/plain": [
       "array([6, 5], dtype=int64)"
      ]
     },
     "execution_count": 27,
     "metadata": {},
     "output_type": "execute_result"
    }
   ],
   "source": [
    "air_quality['date.utc'].dt.month.unique()"
   ]
  },
  {
   "cell_type": "code",
   "execution_count": 28,
   "metadata": {
    "execution": {
     "iopub.execute_input": "2021-03-31T08:06:35.919737Z",
     "iopub.status.busy": "2021-03-31T08:06:35.919737Z",
     "iopub.status.idle": "2021-03-31T08:06:35.930733Z",
     "shell.execute_reply": "2021-03-31T08:06:35.930733Z",
     "shell.execute_reply.started": "2021-03-31T08:06:35.919737Z"
    }
   },
   "outputs": [
    {
     "data": {
      "text/plain": [
       "array([21, 20, 19, 18, 17, 16, 15, 14, 13, 12, 11, 10,  9,  8,  7,  6,  5,\n",
       "        4,  3,  2,  1, 31, 30, 29, 28, 27, 26, 25, 24, 23, 22],\n",
       "      dtype=int64)"
      ]
     },
     "execution_count": 28,
     "metadata": {},
     "output_type": "execute_result"
    }
   ],
   "source": [
    "air_quality['date.utc'].dt.day.unique()"
   ]
  },
  {
   "cell_type": "code",
   "execution_count": 29,
   "metadata": {
    "execution": {
     "iopub.execute_input": "2021-03-31T08:06:37.284541Z",
     "iopub.status.busy": "2021-03-31T08:06:37.283546Z",
     "iopub.status.idle": "2021-03-31T08:06:37.299501Z",
     "shell.execute_reply": "2021-03-31T08:06:37.298550Z",
     "shell.execute_reply.started": "2021-03-31T08:06:37.284541Z"
    }
   },
   "outputs": [
    {
     "data": {
      "text/plain": [
       "array([ 0, 23, 22, 21, 20, 19, 18, 17, 16, 15, 14, 13, 10,  9,  8,  7,  6,\n",
       "        5,  4,  3,  2,  1, 12, 11], dtype=int64)"
      ]
     },
     "execution_count": 29,
     "metadata": {},
     "output_type": "execute_result"
    }
   ],
   "source": [
    "air_quality['date.utc'].dt.hour.unique()"
   ]
  },
  {
   "cell_type": "code",
   "execution_count": 30,
   "metadata": {
    "execution": {
     "iopub.execute_input": "2021-03-31T08:06:38.776983Z",
     "iopub.status.busy": "2021-03-31T08:06:38.776983Z",
     "iopub.status.idle": "2021-03-31T08:06:38.798923Z",
     "shell.execute_reply": "2021-03-31T08:06:38.796928Z",
     "shell.execute_reply.started": "2021-03-31T08:06:38.776983Z"
    }
   },
   "outputs": [
    {
     "data": {
      "text/plain": [
       "array([4, 3, 2, 1, 0, 6, 5], dtype=int64)"
      ]
     },
     "execution_count": 30,
     "metadata": {},
     "output_type": "execute_result"
    }
   ],
   "source": [
    "#> 0(monday) ~ 6(sunday)\n",
    "air_quality['date.utc'].dt.weekday.unique()"
   ]
  },
  {
   "cell_type": "markdown",
   "metadata": {},
   "source": [
    "# Visualization"
   ]
  },
  {
   "cell_type": "markdown",
   "metadata": {},
   "source": [
    "## mean NO2 by time and city"
   ]
  },
  {
   "cell_type": "code",
   "execution_count": 31,
   "metadata": {
    "execution": {
     "iopub.execute_input": "2021-03-31T08:06:40.256221Z",
     "iopub.status.busy": "2021-03-31T08:06:40.256221Z",
     "iopub.status.idle": "2021-03-31T08:06:40.283668Z",
     "shell.execute_reply": "2021-03-31T08:06:40.281659Z",
     "shell.execute_reply.started": "2021-03-31T08:06:40.256221Z"
    }
   },
   "outputs": [
    {
     "data": {
      "text/plain": [
       "date.utc  city     \n",
       "0         Antwerpen    24.750000\n",
       "          London       24.292683\n",
       "          Paris        31.683333\n",
       "1         Antwerpen    25.838235\n",
       "          London       24.757576\n",
       "                         ...    \n",
       "22        London       28.969697\n",
       "          Paris        35.400000\n",
       "23        Antwerpen    23.000000\n",
       "          London       28.414634\n",
       "          Paris        34.288095\n",
       "Name: value, Length: 72, dtype: float64"
      ]
     },
     "execution_count": 31,
     "metadata": {},
     "output_type": "execute_result"
    }
   ],
   "source": [
    "air_quality.groupby(by = [air_quality['date.utc'].dt.hour, 'city'])['value'].mean()"
   ]
  },
  {
   "cell_type": "code",
   "execution_count": 33,
   "metadata": {
    "execution": {
     "iopub.execute_input": "2021-03-31T08:06:57.379167Z",
     "iopub.status.busy": "2021-03-31T08:06:57.378169Z",
     "iopub.status.idle": "2021-03-31T08:06:57.429567Z",
     "shell.execute_reply": "2021-03-31T08:06:57.428581Z",
     "shell.execute_reply.started": "2021-03-31T08:06:57.379167Z"
    }
   },
   "outputs": [],
   "source": [
    "no2_by_hour = air_quality.pivot_table(values = 'value',\n",
    "                                      index = air_quality['date.utc'].dt.hour,\n",
    "                                      columns = 'city')"
   ]
  },
  {
   "cell_type": "code",
   "execution_count": 34,
   "metadata": {
    "execution": {
     "iopub.execute_input": "2021-03-31T08:07:48.451761Z",
     "iopub.status.busy": "2021-03-31T08:07:48.450726Z",
     "iopub.status.idle": "2021-03-31T08:07:48.479647Z",
     "shell.execute_reply": "2021-03-31T08:07:48.478649Z",
     "shell.execute_reply.started": "2021-03-31T08:07:48.451761Z"
    }
   },
   "outputs": [
    {
     "data": {
      "text/html": [
       "<div>\n",
       "<style scoped>\n",
       "    .dataframe tbody tr th:only-of-type {\n",
       "        vertical-align: middle;\n",
       "    }\n",
       "\n",
       "    .dataframe tbody tr th {\n",
       "        vertical-align: top;\n",
       "    }\n",
       "\n",
       "    .dataframe thead th {\n",
       "        text-align: right;\n",
       "    }\n",
       "</style>\n",
       "<table border=\"1\" class=\"dataframe\">\n",
       "  <thead>\n",
       "    <tr style=\"text-align: right;\">\n",
       "      <th>city</th>\n",
       "      <th>Antwerpen</th>\n",
       "      <th>London</th>\n",
       "      <th>Paris</th>\n",
       "    </tr>\n",
       "    <tr>\n",
       "      <th>date.utc</th>\n",
       "      <th></th>\n",
       "      <th></th>\n",
       "      <th></th>\n",
       "    </tr>\n",
       "  </thead>\n",
       "  <tbody>\n",
       "    <tr>\n",
       "      <th>0</th>\n",
       "      <td>24.750000</td>\n",
       "      <td>24.292683</td>\n",
       "      <td>31.683333</td>\n",
       "    </tr>\n",
       "    <tr>\n",
       "      <th>1</th>\n",
       "      <td>25.838235</td>\n",
       "      <td>24.757576</td>\n",
       "      <td>27.433333</td>\n",
       "    </tr>\n",
       "    <tr>\n",
       "      <th>2</th>\n",
       "      <td>21.000000</td>\n",
       "      <td>21.800000</td>\n",
       "      <td>25.964286</td>\n",
       "    </tr>\n",
       "    <tr>\n",
       "      <th>3</th>\n",
       "      <td>21.333333</td>\n",
       "      <td>21.536585</td>\n",
       "      <td>25.234211</td>\n",
       "    </tr>\n",
       "    <tr>\n",
       "      <th>4</th>\n",
       "      <td>24.833333</td>\n",
       "      <td>18.976190</td>\n",
       "      <td>27.257895</td>\n",
       "    </tr>\n",
       "    <tr>\n",
       "      <th>5</th>\n",
       "      <td>29.500000</td>\n",
       "      <td>19.048780</td>\n",
       "      <td>35.534211</td>\n",
       "    </tr>\n",
       "    <tr>\n",
       "      <th>6</th>\n",
       "      <td>33.333333</td>\n",
       "      <td>20.976190</td>\n",
       "      <td>40.102381</td>\n",
       "    </tr>\n",
       "    <tr>\n",
       "      <th>7</th>\n",
       "      <td>37.666667</td>\n",
       "      <td>21.452381</td>\n",
       "      <td>40.569767</td>\n",
       "    </tr>\n",
       "    <tr>\n",
       "      <th>8</th>\n",
       "      <td>34.833333</td>\n",
       "      <td>21.238095</td>\n",
       "      <td>36.458140</td>\n",
       "    </tr>\n",
       "    <tr>\n",
       "      <th>9</th>\n",
       "      <td>27.666667</td>\n",
       "      <td>21.857143</td>\n",
       "      <td>30.076744</td>\n",
       "    </tr>\n",
       "    <tr>\n",
       "      <th>10</th>\n",
       "      <td>21.250000</td>\n",
       "      <td>21.560976</td>\n",
       "      <td>23.658140</td>\n",
       "    </tr>\n",
       "    <tr>\n",
       "      <th>11</th>\n",
       "      <td>21.000000</td>\n",
       "      <td>22.121951</td>\n",
       "      <td>20.461905</td>\n",
       "    </tr>\n",
       "    <tr>\n",
       "      <th>12</th>\n",
       "      <td>25.250000</td>\n",
       "      <td>23.400000</td>\n",
       "      <td>18.571429</td>\n",
       "    </tr>\n",
       "    <tr>\n",
       "      <th>13</th>\n",
       "      <td>23.250000</td>\n",
       "      <td>24.175000</td>\n",
       "      <td>17.958140</td>\n",
       "    </tr>\n",
       "    <tr>\n",
       "      <th>14</th>\n",
       "      <td>23.750000</td>\n",
       "      <td>25.900000</td>\n",
       "      <td>17.772093</td>\n",
       "    </tr>\n",
       "    <tr>\n",
       "      <th>15</th>\n",
       "      <td>29.250000</td>\n",
       "      <td>28.682927</td>\n",
       "      <td>18.854762</td>\n",
       "    </tr>\n",
       "    <tr>\n",
       "      <th>16</th>\n",
       "      <td>17.500000</td>\n",
       "      <td>28.951220</td>\n",
       "      <td>21.266667</td>\n",
       "    </tr>\n",
       "    <tr>\n",
       "      <th>17</th>\n",
       "      <td>18.500000</td>\n",
       "      <td>30.073171</td>\n",
       "      <td>23.585714</td>\n",
       "    </tr>\n",
       "    <tr>\n",
       "      <th>18</th>\n",
       "      <td>25.500000</td>\n",
       "      <td>30.121951</td>\n",
       "      <td>24.204762</td>\n",
       "    </tr>\n",
       "    <tr>\n",
       "      <th>19</th>\n",
       "      <td>30.750000</td>\n",
       "      <td>29.560976</td>\n",
       "      <td>26.635714</td>\n",
       "    </tr>\n",
       "    <tr>\n",
       "      <th>20</th>\n",
       "      <td>27.500000</td>\n",
       "      <td>29.121951</td>\n",
       "      <td>29.707143</td>\n",
       "    </tr>\n",
       "    <tr>\n",
       "      <th>21</th>\n",
       "      <td>25.750000</td>\n",
       "      <td>28.853659</td>\n",
       "      <td>33.237209</td>\n",
       "    </tr>\n",
       "    <tr>\n",
       "      <th>22</th>\n",
       "      <td>26.500000</td>\n",
       "      <td>28.969697</td>\n",
       "      <td>35.400000</td>\n",
       "    </tr>\n",
       "    <tr>\n",
       "      <th>23</th>\n",
       "      <td>23.000000</td>\n",
       "      <td>28.414634</td>\n",
       "      <td>34.288095</td>\n",
       "    </tr>\n",
       "  </tbody>\n",
       "</table>\n",
       "</div>"
      ],
      "text/plain": [
       "city      Antwerpen     London      Paris\n",
       "date.utc                                 \n",
       "0         24.750000  24.292683  31.683333\n",
       "1         25.838235  24.757576  27.433333\n",
       "2         21.000000  21.800000  25.964286\n",
       "3         21.333333  21.536585  25.234211\n",
       "4         24.833333  18.976190  27.257895\n",
       "5         29.500000  19.048780  35.534211\n",
       "6         33.333333  20.976190  40.102381\n",
       "7         37.666667  21.452381  40.569767\n",
       "8         34.833333  21.238095  36.458140\n",
       "9         27.666667  21.857143  30.076744\n",
       "10        21.250000  21.560976  23.658140\n",
       "11        21.000000  22.121951  20.461905\n",
       "12        25.250000  23.400000  18.571429\n",
       "13        23.250000  24.175000  17.958140\n",
       "14        23.750000  25.900000  17.772093\n",
       "15        29.250000  28.682927  18.854762\n",
       "16        17.500000  28.951220  21.266667\n",
       "17        18.500000  30.073171  23.585714\n",
       "18        25.500000  30.121951  24.204762\n",
       "19        30.750000  29.560976  26.635714\n",
       "20        27.500000  29.121951  29.707143\n",
       "21        25.750000  28.853659  33.237209\n",
       "22        26.500000  28.969697  35.400000\n",
       "23        23.000000  28.414634  34.288095"
      ]
     },
     "execution_count": 34,
     "metadata": {},
     "output_type": "execute_result"
    }
   ],
   "source": [
    "no2_by_hour"
   ]
  },
  {
   "cell_type": "code",
   "execution_count": 36,
   "metadata": {
    "execution": {
     "iopub.execute_input": "2021-03-31T08:09:08.324601Z",
     "iopub.status.busy": "2021-03-31T08:09:08.324601Z",
     "iopub.status.idle": "2021-03-31T08:09:08.507112Z",
     "shell.execute_reply": "2021-03-31T08:09:08.506115Z",
     "shell.execute_reply.started": "2021-03-31T08:09:08.324601Z"
    }
   },
   "outputs": [
    {
     "data": {
      "image/png": "[encoded data removed]",
      "text/plain": [
       "<Figure size 432x288 with 1 Axes>"
      ]
     },
     "metadata": {
      "needs_background": "light"
     },
     "output_type": "display_data"
    }
   ],
   "source": [
    "cities = ['Paris','London','Antwerpen']\n",
    "for c in cities:\n",
    "    plt.plot(no2_by_hour[c], 'o-', label = c)\n",
    "plt.legend()\n",
    "plt.show()"
   ]
  },
  {
   "cell_type": "markdown",
   "metadata": {},
   "source": [
    "## mean NO2 by day and city"
   ]
  },
  {
   "cell_type": "code",
   "execution_count": 37,
   "metadata": {
    "execution": {
     "iopub.execute_input": "2021-03-31T08:09:57.050639Z",
     "iopub.status.busy": "2021-03-31T08:09:57.050639Z",
     "iopub.status.idle": "2021-03-31T08:09:57.074576Z",
     "shell.execute_reply": "2021-03-31T08:09:57.073577Z",
     "shell.execute_reply.started": "2021-03-31T08:09:57.050639Z"
    }
   },
   "outputs": [
    {
     "data": {
      "text/html": [
       "<div>\n",
       "<style scoped>\n",
       "    .dataframe tbody tr th:only-of-type {\n",
       "        vertical-align: middle;\n",
       "    }\n",
       "\n",
       "    .dataframe tbody tr th {\n",
       "        vertical-align: top;\n",
       "    }\n",
       "\n",
       "    .dataframe thead th {\n",
       "        text-align: right;\n",
       "    }\n",
       "</style>\n",
       "<table border=\"1\" class=\"dataframe\">\n",
       "  <thead>\n",
       "    <tr style=\"text-align: right;\">\n",
       "      <th>city</th>\n",
       "      <th>Antwerpen</th>\n",
       "      <th>London</th>\n",
       "      <th>Paris</th>\n",
       "    </tr>\n",
       "    <tr>\n",
       "      <th>date.utc</th>\n",
       "      <th></th>\n",
       "      <th></th>\n",
       "      <th></th>\n",
       "    </tr>\n",
       "  </thead>\n",
       "  <tbody>\n",
       "    <tr>\n",
       "      <th>0</th>\n",
       "      <td>27.875000</td>\n",
       "      <td>23.969697</td>\n",
       "      <td>24.856250</td>\n",
       "    </tr>\n",
       "    <tr>\n",
       "      <th>1</th>\n",
       "      <td>22.214286</td>\n",
       "      <td>24.885714</td>\n",
       "      <td>30.999359</td>\n",
       "    </tr>\n",
       "    <tr>\n",
       "      <th>2</th>\n",
       "      <td>21.125000</td>\n",
       "      <td>23.460432</td>\n",
       "      <td>29.165753</td>\n",
       "    </tr>\n",
       "    <tr>\n",
       "      <th>3</th>\n",
       "      <td>27.500000</td>\n",
       "      <td>24.780142</td>\n",
       "      <td>28.600690</td>\n",
       "    </tr>\n",
       "    <tr>\n",
       "      <th>4</th>\n",
       "      <td>28.400000</td>\n",
       "      <td>26.446809</td>\n",
       "      <td>31.617986</td>\n",
       "    </tr>\n",
       "    <tr>\n",
       "      <th>5</th>\n",
       "      <td>33.500000</td>\n",
       "      <td>24.977612</td>\n",
       "      <td>25.266154</td>\n",
       "    </tr>\n",
       "    <tr>\n",
       "      <th>6</th>\n",
       "      <td>21.896552</td>\n",
       "      <td>24.859155</td>\n",
       "      <td>23.274306</td>\n",
       "    </tr>\n",
       "  </tbody>\n",
       "</table>\n",
       "</div>"
      ],
      "text/plain": [
       "city      Antwerpen     London      Paris\n",
       "date.utc                                 \n",
       "0         27.875000  23.969697  24.856250\n",
       "1         22.214286  24.885714  30.999359\n",
       "2         21.125000  23.460432  29.165753\n",
       "3         27.500000  24.780142  28.600690\n",
       "4         28.400000  26.446809  31.617986\n",
       "5         33.500000  24.977612  25.266154\n",
       "6         21.896552  24.859155  23.274306"
      ]
     },
     "execution_count": 37,
     "metadata": {},
     "output_type": "execute_result"
    }
   ],
   "source": [
    "air_quality.groupby(by = [air_quality['date.utc'].dt.weekday, 'city'])['value'].mean().unstack()"
   ]
  },
  {
   "cell_type": "code",
   "execution_count": 38,
   "metadata": {
    "execution": {
     "iopub.execute_input": "2021-03-31T08:10:35.281363Z",
     "iopub.status.busy": "2021-03-31T08:10:35.281363Z",
     "iopub.status.idle": "2021-03-31T08:10:35.314275Z",
     "shell.execute_reply": "2021-03-31T08:10:35.312280Z",
     "shell.execute_reply.started": "2021-03-31T08:10:35.281363Z"
    }
   },
   "outputs": [
    {
     "data": {
      "text/html": [
       "<div>\n",
       "<style scoped>\n",
       "    .dataframe tbody tr th:only-of-type {\n",
       "        vertical-align: middle;\n",
       "    }\n",
       "\n",
       "    .dataframe tbody tr th {\n",
       "        vertical-align: top;\n",
       "    }\n",
       "\n",
       "    .dataframe thead th {\n",
       "        text-align: right;\n",
       "    }\n",
       "</style>\n",
       "<table border=\"1\" class=\"dataframe\">\n",
       "  <thead>\n",
       "    <tr style=\"text-align: right;\">\n",
       "      <th>city</th>\n",
       "      <th>Antwerpen</th>\n",
       "      <th>London</th>\n",
       "      <th>Paris</th>\n",
       "    </tr>\n",
       "    <tr>\n",
       "      <th>date.utc</th>\n",
       "      <th></th>\n",
       "      <th></th>\n",
       "      <th></th>\n",
       "    </tr>\n",
       "  </thead>\n",
       "  <tbody>\n",
       "    <tr>\n",
       "      <th>0</th>\n",
       "      <td>27.875000</td>\n",
       "      <td>23.969697</td>\n",
       "      <td>24.856250</td>\n",
       "    </tr>\n",
       "    <tr>\n",
       "      <th>1</th>\n",
       "      <td>22.214286</td>\n",
       "      <td>24.885714</td>\n",
       "      <td>30.999359</td>\n",
       "    </tr>\n",
       "    <tr>\n",
       "      <th>2</th>\n",
       "      <td>21.125000</td>\n",
       "      <td>23.460432</td>\n",
       "      <td>29.165753</td>\n",
       "    </tr>\n",
       "    <tr>\n",
       "      <th>3</th>\n",
       "      <td>27.500000</td>\n",
       "      <td>24.780142</td>\n",
       "      <td>28.600690</td>\n",
       "    </tr>\n",
       "    <tr>\n",
       "      <th>4</th>\n",
       "      <td>28.400000</td>\n",
       "      <td>26.446809</td>\n",
       "      <td>31.617986</td>\n",
       "    </tr>\n",
       "    <tr>\n",
       "      <th>5</th>\n",
       "      <td>33.500000</td>\n",
       "      <td>24.977612</td>\n",
       "      <td>25.266154</td>\n",
       "    </tr>\n",
       "    <tr>\n",
       "      <th>6</th>\n",
       "      <td>21.896552</td>\n",
       "      <td>24.859155</td>\n",
       "      <td>23.274306</td>\n",
       "    </tr>\n",
       "  </tbody>\n",
       "</table>\n",
       "</div>"
      ],
      "text/plain": [
       "city      Antwerpen     London      Paris\n",
       "date.utc                                 \n",
       "0         27.875000  23.969697  24.856250\n",
       "1         22.214286  24.885714  30.999359\n",
       "2         21.125000  23.460432  29.165753\n",
       "3         27.500000  24.780142  28.600690\n",
       "4         28.400000  26.446809  31.617986\n",
       "5         33.500000  24.977612  25.266154\n",
       "6         21.896552  24.859155  23.274306"
      ]
     },
     "execution_count": 38,
     "metadata": {},
     "output_type": "execute_result"
    }
   ],
   "source": [
    "no2_by_weekday=air_quality.pivot_table(values = 'value',\n",
    "                                      index = air_quality['date.utc'].dt.weekday,\n",
    "                                      columns = 'city')\n",
    "no2_by_weekday"
   ]
  },
  {
   "cell_type": "code",
   "execution_count": 39,
   "metadata": {
    "execution": {
     "iopub.execute_input": "2021-03-31T08:11:04.070723Z",
     "iopub.status.busy": "2021-03-31T08:11:04.069727Z",
     "iopub.status.idle": "2021-03-31T08:11:04.264208Z",
     "shell.execute_reply": "2021-03-31T08:11:04.263208Z",
     "shell.execute_reply.started": "2021-03-31T08:11:04.069727Z"
    }
   },
   "outputs": [
    {
     "data": {
      "image/png": "[encoded data removed]",
      "text/plain": [
       "<Figure size 432x288 with 1 Axes>"
      ]
     },
     "metadata": {
      "needs_background": "light"
     },
     "output_type": "display_data"
    }
   ],
   "source": [
    "cities = ['Paris','London','Antwerpen']\n",
    "for c in cities:\n",
    "    plt.plot(no2_by_weekday[c], 'o-', label = c)\n",
    "\n",
    "plt.legend()\n",
    "plt.show()"
   ]
  },
  {
   "cell_type": "markdown",
   "metadata": {},
   "source": [
    "# slicing using DatetimeIndex"
   ]
  },
  {
   "cell_type": "code",
   "execution_count": 40,
   "metadata": {
    "execution": {
     "iopub.execute_input": "2021-03-31T08:11:32.383139Z",
     "iopub.status.busy": "2021-03-31T08:11:32.382142Z",
     "iopub.status.idle": "2021-03-31T08:11:32.392117Z",
     "shell.execute_reply": "2021-03-31T08:11:32.391119Z",
     "shell.execute_reply.started": "2021-03-31T08:11:32.383139Z"
    }
   },
   "outputs": [
    {
     "data": {
      "text/plain": [
       "DatetimeIndex(['2019-06-21 00:00:00+00:00', '2019-06-20 23:00:00+00:00',\n",
       "               '2019-06-20 22:00:00+00:00', '2019-06-20 21:00:00+00:00',\n",
       "               '2019-06-20 20:00:00+00:00', '2019-06-20 19:00:00+00:00',\n",
       "               '2019-06-20 18:00:00+00:00', '2019-06-20 17:00:00+00:00',\n",
       "               '2019-06-20 16:00:00+00:00', '2019-06-20 15:00:00+00:00',\n",
       "               ...\n",
       "               '2019-05-07 11:00:00+00:00', '2019-05-07 10:00:00+00:00',\n",
       "               '2019-05-07 09:00:00+00:00', '2019-05-07 08:00:00+00:00',\n",
       "               '2019-05-07 07:00:00+00:00', '2019-05-07 06:00:00+00:00',\n",
       "               '2019-05-07 04:00:00+00:00', '2019-05-07 03:00:00+00:00',\n",
       "               '2019-05-07 02:00:00+00:00', '2019-05-07 01:00:00+00:00'],\n",
       "              dtype='datetime64[ns, UTC]', name='date.utc', length=2068, freq=None)"
      ]
     },
     "execution_count": 40,
     "metadata": {},
     "output_type": "execute_result"
    }
   ],
   "source": [
    "air_quality2.index"
   ]
  },
  {
   "cell_type": "code",
   "execution_count": 41,
   "metadata": {
    "execution": {
     "iopub.execute_input": "2021-03-31T08:11:39.531081Z",
     "iopub.status.busy": "2021-03-31T08:11:39.530077Z",
     "iopub.status.idle": "2021-03-31T08:11:39.544040Z",
     "shell.execute_reply": "2021-03-31T08:11:39.543041Z",
     "shell.execute_reply.started": "2021-03-31T08:11:39.531081Z"
    }
   },
   "outputs": [
    {
     "data": {
      "text/plain": [
       "Timestamp('2019-06-21 00:00:00+0000', tz='UTC')"
      ]
     },
     "execution_count": 41,
     "metadata": {},
     "output_type": "execute_result"
    }
   ],
   "source": [
    "air_quality2.index.max()"
   ]
  },
  {
   "cell_type": "code",
   "execution_count": 42,
   "metadata": {
    "execution": {
     "iopub.execute_input": "2021-03-31T08:11:44.345680Z",
     "iopub.status.busy": "2021-03-31T08:11:44.345680Z",
     "iopub.status.idle": "2021-03-31T08:11:44.352660Z",
     "shell.execute_reply": "2021-03-31T08:11:44.351663Z",
     "shell.execute_reply.started": "2021-03-31T08:11:44.345680Z"
    }
   },
   "outputs": [
    {
     "data": {
      "text/plain": [
       "Timestamp('2019-05-07 01:00:00+0000', tz='UTC')"
      ]
     },
     "execution_count": 42,
     "metadata": {},
     "output_type": "execute_result"
    }
   ],
   "source": [
    "air_quality2.index.min()"
   ]
  },
  {
   "cell_type": "code",
   "execution_count": 43,
   "metadata": {
    "execution": {
     "iopub.execute_input": "2021-03-31T08:12:12.442804Z",
     "iopub.status.busy": "2021-03-31T08:12:12.442804Z",
     "iopub.status.idle": "2021-03-31T08:12:12.478299Z",
     "shell.execute_reply": "2021-03-31T08:12:12.477303Z",
     "shell.execute_reply.started": "2021-03-31T08:12:12.442804Z"
    }
   },
   "outputs": [
    {
     "data": {
      "text/html": [
       "<div>\n",
       "<style scoped>\n",
       "    .dataframe tbody tr th:only-of-type {\n",
       "        vertical-align: middle;\n",
       "    }\n",
       "\n",
       "    .dataframe tbody tr th {\n",
       "        vertical-align: top;\n",
       "    }\n",
       "\n",
       "    .dataframe thead th {\n",
       "        text-align: right;\n",
       "    }\n",
       "</style>\n",
       "<table border=\"1\" class=\"dataframe\">\n",
       "  <thead>\n",
       "    <tr style=\"text-align: right;\">\n",
       "      <th></th>\n",
       "      <th>city</th>\n",
       "      <th>country</th>\n",
       "      <th>location</th>\n",
       "      <th>parameter</th>\n",
       "      <th>value</th>\n",
       "      <th>unit</th>\n",
       "    </tr>\n",
       "    <tr>\n",
       "      <th>date.utc</th>\n",
       "      <th></th>\n",
       "      <th></th>\n",
       "      <th></th>\n",
       "      <th></th>\n",
       "      <th></th>\n",
       "      <th></th>\n",
       "    </tr>\n",
       "  </thead>\n",
       "  <tbody>\n",
       "    <tr>\n",
       "      <th>2019-05-20 23:00:00+00:00</th>\n",
       "      <td>Paris</td>\n",
       "      <td>FR</td>\n",
       "      <td>FR04014</td>\n",
       "      <td>no2</td>\n",
       "      <td>19.6</td>\n",
       "      <td>µg/m³</td>\n",
       "    </tr>\n",
       "    <tr>\n",
       "      <th>2019-05-20 22:00:00+00:00</th>\n",
       "      <td>Paris</td>\n",
       "      <td>FR</td>\n",
       "      <td>FR04014</td>\n",
       "      <td>no2</td>\n",
       "      <td>20.7</td>\n",
       "      <td>µg/m³</td>\n",
       "    </tr>\n",
       "    <tr>\n",
       "      <th>2019-05-20 21:00:00+00:00</th>\n",
       "      <td>Paris</td>\n",
       "      <td>FR</td>\n",
       "      <td>FR04014</td>\n",
       "      <td>no2</td>\n",
       "      <td>20.3</td>\n",
       "      <td>µg/m³</td>\n",
       "    </tr>\n",
       "    <tr>\n",
       "      <th>2019-05-20 20:00:00+00:00</th>\n",
       "      <td>Paris</td>\n",
       "      <td>FR</td>\n",
       "      <td>FR04014</td>\n",
       "      <td>no2</td>\n",
       "      <td>21.6</td>\n",
       "      <td>µg/m³</td>\n",
       "    </tr>\n",
       "    <tr>\n",
       "      <th>2019-05-20 19:00:00+00:00</th>\n",
       "      <td>Paris</td>\n",
       "      <td>FR</td>\n",
       "      <td>FR04014</td>\n",
       "      <td>no2</td>\n",
       "      <td>21.3</td>\n",
       "      <td>µg/m³</td>\n",
       "    </tr>\n",
       "    <tr>\n",
       "      <th>...</th>\n",
       "      <td>...</td>\n",
       "      <td>...</td>\n",
       "      <td>...</td>\n",
       "      <td>...</td>\n",
       "      <td>...</td>\n",
       "      <td>...</td>\n",
       "    </tr>\n",
       "    <tr>\n",
       "      <th>2019-05-20 04:00:00+00:00</th>\n",
       "      <td>London</td>\n",
       "      <td>GB</td>\n",
       "      <td>London Westminster</td>\n",
       "      <td>no2</td>\n",
       "      <td>26.0</td>\n",
       "      <td>µg/m³</td>\n",
       "    </tr>\n",
       "    <tr>\n",
       "      <th>2019-05-20 03:00:00+00:00</th>\n",
       "      <td>London</td>\n",
       "      <td>GB</td>\n",
       "      <td>London Westminster</td>\n",
       "      <td>no2</td>\n",
       "      <td>32.0</td>\n",
       "      <td>µg/m³</td>\n",
       "    </tr>\n",
       "    <tr>\n",
       "      <th>2019-05-20 02:00:00+00:00</th>\n",
       "      <td>London</td>\n",
       "      <td>GB</td>\n",
       "      <td>London Westminster</td>\n",
       "      <td>no2</td>\n",
       "      <td>32.0</td>\n",
       "      <td>µg/m³</td>\n",
       "    </tr>\n",
       "    <tr>\n",
       "      <th>2019-05-20 01:00:00+00:00</th>\n",
       "      <td>London</td>\n",
       "      <td>GB</td>\n",
       "      <td>London Westminster</td>\n",
       "      <td>no2</td>\n",
       "      <td>28.0</td>\n",
       "      <td>µg/m³</td>\n",
       "    </tr>\n",
       "    <tr>\n",
       "      <th>2019-05-20 00:00:00+00:00</th>\n",
       "      <td>London</td>\n",
       "      <td>GB</td>\n",
       "      <td>London Westminster</td>\n",
       "      <td>no2</td>\n",
       "      <td>28.0</td>\n",
       "      <td>µg/m³</td>\n",
       "    </tr>\n",
       "  </tbody>\n",
       "</table>\n",
       "<p>64 rows × 6 columns</p>\n",
       "</div>"
      ],
      "text/plain": [
       "                             city country            location parameter  \\\n",
       "date.utc                                                                  \n",
       "2019-05-20 23:00:00+00:00   Paris      FR             FR04014       no2   \n",
       "2019-05-20 22:00:00+00:00   Paris      FR             FR04014       no2   \n",
       "2019-05-20 21:00:00+00:00   Paris      FR             FR04014       no2   \n",
       "2019-05-20 20:00:00+00:00   Paris      FR             FR04014       no2   \n",
       "2019-05-20 19:00:00+00:00   Paris      FR             FR04014       no2   \n",
       "...                           ...     ...                 ...       ...   \n",
       "2019-05-20 04:00:00+00:00  London      GB  London Westminster       no2   \n",
       "2019-05-20 03:00:00+00:00  London      GB  London Westminster       no2   \n",
       "2019-05-20 02:00:00+00:00  London      GB  London Westminster       no2   \n",
       "2019-05-20 01:00:00+00:00  London      GB  London Westminster       no2   \n",
       "2019-05-20 00:00:00+00:00  London      GB  London Westminster       no2   \n",
       "\n",
       "                           value   unit  \n",
       "date.utc                                 \n",
       "2019-05-20 23:00:00+00:00   19.6  µg/m³  \n",
       "2019-05-20 22:00:00+00:00   20.7  µg/m³  \n",
       "2019-05-20 21:00:00+00:00   20.3  µg/m³  \n",
       "2019-05-20 20:00:00+00:00   21.6  µg/m³  \n",
       "2019-05-20 19:00:00+00:00   21.3  µg/m³  \n",
       "...                          ...    ...  \n",
       "2019-05-20 04:00:00+00:00   26.0  µg/m³  \n",
       "2019-05-20 03:00:00+00:00   32.0  µg/m³  \n",
       "2019-05-20 02:00:00+00:00   32.0  µg/m³  \n",
       "2019-05-20 01:00:00+00:00   28.0  µg/m³  \n",
       "2019-05-20 00:00:00+00:00   28.0  µg/m³  \n",
       "\n",
       "[64 rows x 6 columns]"
      ]
     },
     "execution_count": 43,
     "metadata": {},
     "output_type": "execute_result"
    }
   ],
   "source": [
    "# select one-day data\n",
    "air_quality2.loc['2019-05-20':'2019-05-20']"
   ]
  },
  {
   "cell_type": "code",
   "execution_count": 44,
   "metadata": {
    "execution": {
     "iopub.execute_input": "2021-03-31T08:12:36.069751Z",
     "iopub.status.busy": "2021-03-31T08:12:36.068755Z",
     "iopub.status.idle": "2021-03-31T08:12:36.106653Z",
     "shell.execute_reply": "2021-03-31T08:12:36.105655Z",
     "shell.execute_reply.started": "2021-03-31T08:12:36.069751Z"
    }
   },
   "outputs": [
    {
     "name": "stderr",
     "output_type": "stream",
     "text": [
      "<ipython-input-44-438bc740631c>:2: FutureWarning: Value based partial slicing on non-monotonic DatetimeIndexes with non-existing keys is deprecated and will raise a KeyError in a future Version.\n",
      "  air_quality2.loc['2019-05':'2019-05']\n"
     ]
    },
    {
     "data": {
      "text/html": [
       "<div>\n",
       "<style scoped>\n",
       "    .dataframe tbody tr th:only-of-type {\n",
       "        vertical-align: middle;\n",
       "    }\n",
       "\n",
       "    .dataframe tbody tr th {\n",
       "        vertical-align: top;\n",
       "    }\n",
       "\n",
       "    .dataframe thead th {\n",
       "        text-align: right;\n",
       "    }\n",
       "</style>\n",
       "<table border=\"1\" class=\"dataframe\">\n",
       "  <thead>\n",
       "    <tr style=\"text-align: right;\">\n",
       "      <th></th>\n",
       "      <th>city</th>\n",
       "      <th>country</th>\n",
       "      <th>location</th>\n",
       "      <th>parameter</th>\n",
       "      <th>value</th>\n",
       "      <th>unit</th>\n",
       "    </tr>\n",
       "    <tr>\n",
       "      <th>date.utc</th>\n",
       "      <th></th>\n",
       "      <th></th>\n",
       "      <th></th>\n",
       "      <th></th>\n",
       "      <th></th>\n",
       "      <th></th>\n",
       "    </tr>\n",
       "  </thead>\n",
       "  <tbody>\n",
       "    <tr>\n",
       "      <th>2019-05-31 23:00:00+00:00</th>\n",
       "      <td>Paris</td>\n",
       "      <td>FR</td>\n",
       "      <td>FR04014</td>\n",
       "      <td>no2</td>\n",
       "      <td>81.7</td>\n",
       "      <td>µg/m³</td>\n",
       "    </tr>\n",
       "    <tr>\n",
       "      <th>2019-05-31 22:00:00+00:00</th>\n",
       "      <td>Paris</td>\n",
       "      <td>FR</td>\n",
       "      <td>FR04014</td>\n",
       "      <td>no2</td>\n",
       "      <td>68.0</td>\n",
       "      <td>µg/m³</td>\n",
       "    </tr>\n",
       "    <tr>\n",
       "      <th>2019-05-31 21:00:00+00:00</th>\n",
       "      <td>Paris</td>\n",
       "      <td>FR</td>\n",
       "      <td>FR04014</td>\n",
       "      <td>no2</td>\n",
       "      <td>60.2</td>\n",
       "      <td>µg/m³</td>\n",
       "    </tr>\n",
       "    <tr>\n",
       "      <th>2019-05-31 20:00:00+00:00</th>\n",
       "      <td>Paris</td>\n",
       "      <td>FR</td>\n",
       "      <td>FR04014</td>\n",
       "      <td>no2</td>\n",
       "      <td>37.0</td>\n",
       "      <td>µg/m³</td>\n",
       "    </tr>\n",
       "    <tr>\n",
       "      <th>2019-05-31 19:00:00+00:00</th>\n",
       "      <td>Paris</td>\n",
       "      <td>FR</td>\n",
       "      <td>FR04014</td>\n",
       "      <td>no2</td>\n",
       "      <td>23.3</td>\n",
       "      <td>µg/m³</td>\n",
       "    </tr>\n",
       "    <tr>\n",
       "      <th>...</th>\n",
       "      <td>...</td>\n",
       "      <td>...</td>\n",
       "      <td>...</td>\n",
       "      <td>...</td>\n",
       "      <td>...</td>\n",
       "      <td>...</td>\n",
       "    </tr>\n",
       "    <tr>\n",
       "      <th>2019-05-07 06:00:00+00:00</th>\n",
       "      <td>London</td>\n",
       "      <td>GB</td>\n",
       "      <td>London Westminster</td>\n",
       "      <td>no2</td>\n",
       "      <td>26.0</td>\n",
       "      <td>µg/m³</td>\n",
       "    </tr>\n",
       "    <tr>\n",
       "      <th>2019-05-07 04:00:00+00:00</th>\n",
       "      <td>London</td>\n",
       "      <td>GB</td>\n",
       "      <td>London Westminster</td>\n",
       "      <td>no2</td>\n",
       "      <td>16.0</td>\n",
       "      <td>µg/m³</td>\n",
       "    </tr>\n",
       "    <tr>\n",
       "      <th>2019-05-07 03:00:00+00:00</th>\n",
       "      <td>London</td>\n",
       "      <td>GB</td>\n",
       "      <td>London Westminster</td>\n",
       "      <td>no2</td>\n",
       "      <td>19.0</td>\n",
       "      <td>µg/m³</td>\n",
       "    </tr>\n",
       "    <tr>\n",
       "      <th>2019-05-07 02:00:00+00:00</th>\n",
       "      <td>London</td>\n",
       "      <td>GB</td>\n",
       "      <td>London Westminster</td>\n",
       "      <td>no2</td>\n",
       "      <td>19.0</td>\n",
       "      <td>µg/m³</td>\n",
       "    </tr>\n",
       "    <tr>\n",
       "      <th>2019-05-07 01:00:00+00:00</th>\n",
       "      <td>London</td>\n",
       "      <td>GB</td>\n",
       "      <td>London Westminster</td>\n",
       "      <td>no2</td>\n",
       "      <td>23.0</td>\n",
       "      <td>µg/m³</td>\n",
       "    </tr>\n",
       "  </tbody>\n",
       "</table>\n",
       "<p>1256 rows × 6 columns</p>\n",
       "</div>"
      ],
      "text/plain": [
       "                             city country            location parameter  \\\n",
       "date.utc                                                                  \n",
       "2019-05-31 23:00:00+00:00   Paris      FR             FR04014       no2   \n",
       "2019-05-31 22:00:00+00:00   Paris      FR             FR04014       no2   \n",
       "2019-05-31 21:00:00+00:00   Paris      FR             FR04014       no2   \n",
       "2019-05-31 20:00:00+00:00   Paris      FR             FR04014       no2   \n",
       "2019-05-31 19:00:00+00:00   Paris      FR             FR04014       no2   \n",
       "...                           ...     ...                 ...       ...   \n",
       "2019-05-07 06:00:00+00:00  London      GB  London Westminster       no2   \n",
       "2019-05-07 04:00:00+00:00  London      GB  London Westminster       no2   \n",
       "2019-05-07 03:00:00+00:00  London      GB  London Westminster       no2   \n",
       "2019-05-07 02:00:00+00:00  London      GB  London Westminster       no2   \n",
       "2019-05-07 01:00:00+00:00  London      GB  London Westminster       no2   \n",
       "\n",
       "                           value   unit  \n",
       "date.utc                                 \n",
       "2019-05-31 23:00:00+00:00   81.7  µg/m³  \n",
       "2019-05-31 22:00:00+00:00   68.0  µg/m³  \n",
       "2019-05-31 21:00:00+00:00   60.2  µg/m³  \n",
       "2019-05-31 20:00:00+00:00   37.0  µg/m³  \n",
       "2019-05-31 19:00:00+00:00   23.3  µg/m³  \n",
       "...                          ...    ...  \n",
       "2019-05-07 06:00:00+00:00   26.0  µg/m³  \n",
       "2019-05-07 04:00:00+00:00   16.0  µg/m³  \n",
       "2019-05-07 03:00:00+00:00   19.0  µg/m³  \n",
       "2019-05-07 02:00:00+00:00   19.0  µg/m³  \n",
       "2019-05-07 01:00:00+00:00   23.0  µg/m³  \n",
       "\n",
       "[1256 rows x 6 columns]"
      ]
     },
     "execution_count": 44,
     "metadata": {},
     "output_type": "execute_result"
    }
   ],
   "source": [
    "# select May data\n",
    "air_quality2.loc['2019-05':'2019-05']"
   ]
  },
  {
   "cell_type": "code",
   "execution_count": 45,
   "metadata": {
    "execution": {
     "iopub.execute_input": "2021-03-31T08:14:27.953271Z",
     "iopub.status.busy": "2021-03-31T08:14:27.953271Z",
     "iopub.status.idle": "2021-03-31T08:14:28.143034Z",
     "shell.execute_reply": "2021-03-31T08:14:28.142091Z",
     "shell.execute_reply.started": "2021-03-31T08:14:27.953271Z"
    }
   },
   "outputs": [
    {
     "data": {
      "image/png": "[encoded data removed]",
      "text/plain": [
       "<Figure size 432x288 with 1 Axes>"
      ]
     },
     "metadata": {
      "needs_background": "light"
     },
     "output_type": "display_data"
    }
   ],
   "source": [
    "# visualize 2019.05.20 00:00:00 ~ 2019.05.21 23:00:00\n",
    "subset = air_quality2.loc['2019-05-20':'2019-05-21']\n",
    "pivoted = subset.pivot(columns = 'city', values = 'value')\n",
    "\n",
    "cities = ['Paris','London','Antwerpen']\n",
    "for c in cities:\n",
    "    plt.plot(pivoted[c], label = c)\n",
    "plt.legend()\n",
    "plt.show()"
   ]
  },
  {
   "cell_type": "code",
   "execution_count": 48,
   "metadata": {
    "execution": {
     "iopub.execute_input": "2021-03-31T08:15:39.954934Z",
     "iopub.status.busy": "2021-03-31T08:15:39.953960Z",
     "iopub.status.idle": "2021-03-31T08:15:40.183673Z",
     "shell.execute_reply": "2021-03-31T08:15:40.182676Z",
     "shell.execute_reply.started": "2021-03-31T08:15:39.954934Z"
    }
   },
   "outputs": [
    {
     "data": {
      "image/png": "[encoded data removed]",
      "text/plain": [
       "<Figure size 1296x432 with 1 Axes>"
      ]
     },
     "metadata": {
      "needs_background": "light"
     },
     "output_type": "display_data"
    }
   ],
   "source": [
    "# visualize whole period,  by city\n",
    "no2_by_city = air_quality2.pivot(columns = 'city', values = 'value')\n",
    "\n",
    "plt.figure(figsize = (18, 6))\n",
    "cities = ['Paris','London','Antwerpen']\n",
    "for c in cities:\n",
    "    plt.plot(no2_by_city[c], label = c)\n",
    "plt.legend()\n",
    "plt.show()"
   ]
  },
  {
   "cell_type": "code",
   "execution_count": null,
   "metadata": {},
   "outputs": [],
   "source": []
  }
 ],
 "metadata": {
  "kernelspec": {
   "display_name": "Python 3",
   "language": "python",
   "name": "python3"
  },
  "language_info": {
   "codemirror_mode": {
    "name": "ipython",
    "version": 3
   },
   "file_extension": ".py",
   "mimetype": "text/x-python",
   "name": "python",
   "nbconvert_exporter": "python",
   "pygments_lexer": "ipython3",
   "version": "3.8.8"
  }
 },
 "nbformat": 4,
 "nbformat_minor": 4
}
