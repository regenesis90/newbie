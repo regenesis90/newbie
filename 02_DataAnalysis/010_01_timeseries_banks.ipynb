{
 "cells": [
  {
   "cell_type": "markdown",
   "metadata": {},
   "source": [
    "# Import"
   ]
  },
  {
   "cell_type": "code",
   "execution_count": 1,
   "metadata": {
    "execution": {
     "iopub.execute_input": "2021-03-31T08:16:54.269073Z",
     "iopub.status.busy": "2021-03-31T08:16:54.269073Z",
     "iopub.status.idle": "2021-03-31T08:16:55.044965Z",
     "shell.execute_reply": "2021-03-31T08:16:55.043992Z",
     "shell.execute_reply.started": "2021-03-31T08:16:54.269073Z"
    }
   },
   "outputs": [],
   "source": [
    "import pandas as pd\n",
    "import matplotlib.pyplot as plt"
   ]
  },
  {
   "cell_type": "markdown",
   "metadata": {},
   "source": [
    "# Load data"
   ]
  },
  {
   "cell_type": "code",
   "execution_count": 2,
   "metadata": {
    "execution": {
     "iopub.execute_input": "2021-03-31T08:17:28.368039Z",
     "iopub.status.busy": "2021-03-31T08:17:28.367041Z",
     "iopub.status.idle": "2021-03-31T08:17:28.386499Z",
     "shell.execute_reply": "2021-03-31T08:17:28.385502Z",
     "shell.execute_reply.started": "2021-03-31T08:17:28.368039Z"
    }
   },
   "outputs": [],
   "source": [
    "bank_file = 'https://github.com/JakeOh/202011_itw_bd21/raw/main/datasets/banklist.csv'"
   ]
  },
  {
   "cell_type": "code",
   "execution_count": 3,
   "metadata": {
    "execution": {
     "iopub.execute_input": "2021-03-31T08:17:53.621354Z",
     "iopub.status.busy": "2021-03-31T08:17:53.621354Z",
     "iopub.status.idle": "2021-03-31T08:17:56.166244Z",
     "shell.execute_reply": "2021-03-31T08:17:56.165244Z",
     "shell.execute_reply.started": "2021-03-31T08:17:53.621354Z"
    }
   },
   "outputs": [],
   "source": [
    "banks = pd.read_csv(bank_file, parse_dates = ['Closing Date', 'Updated Date'])"
   ]
  },
  {
   "cell_type": "markdown",
   "metadata": {},
   "source": [
    "# Figure Out Data Structure"
   ]
  },
  {
   "cell_type": "code",
   "execution_count": 4,
   "metadata": {
    "execution": {
     "iopub.execute_input": "2021-03-31T08:18:08.955535Z",
     "iopub.status.busy": "2021-03-31T08:18:08.955535Z",
     "iopub.status.idle": "2021-03-31T08:18:08.977478Z",
     "shell.execute_reply": "2021-03-31T08:18:08.976479Z",
     "shell.execute_reply.started": "2021-03-31T08:18:08.955535Z"
    }
   },
   "outputs": [
    {
     "name": "stdout",
     "output_type": "stream",
     "text": [
      "<class 'pandas.core.frame.DataFrame'>\n",
      "RangeIndex: 555 entries, 0 to 554\n",
      "Data columns (total 7 columns):\n",
      " #   Column                 Non-Null Count  Dtype         \n",
      "---  ------                 --------------  -----         \n",
      " 0   Bank Name              555 non-null    object        \n",
      " 1   City                   555 non-null    object        \n",
      " 2   ST                     555 non-null    object        \n",
      " 3   CERT                   555 non-null    int64         \n",
      " 4   Acquiring Institution  555 non-null    object        \n",
      " 5   Closing Date           555 non-null    datetime64[ns]\n",
      " 6   Updated Date           555 non-null    datetime64[ns]\n",
      "dtypes: datetime64[ns](2), int64(1), object(4)\n",
      "memory usage: 30.5+ KB\n"
     ]
    }
   ],
   "source": [
    "banks.info()"
   ]
  },
  {
   "cell_type": "code",
   "execution_count": 5,
   "metadata": {
    "execution": {
     "iopub.execute_input": "2021-03-31T08:18:11.702734Z",
     "iopub.status.busy": "2021-03-31T08:18:11.702734Z",
     "iopub.status.idle": "2021-03-31T08:18:11.732656Z",
     "shell.execute_reply": "2021-03-31T08:18:11.731702Z",
     "shell.execute_reply.started": "2021-03-31T08:18:11.702734Z"
    }
   },
   "outputs": [
    {
     "data": {
      "text/html": [
       "<div>\n",
       "<style scoped>\n",
       "    .dataframe tbody tr th:only-of-type {\n",
       "        vertical-align: middle;\n",
       "    }\n",
       "\n",
       "    .dataframe tbody tr th {\n",
       "        vertical-align: top;\n",
       "    }\n",
       "\n",
       "    .dataframe thead th {\n",
       "        text-align: right;\n",
       "    }\n",
       "</style>\n",
       "<table border=\"1\" class=\"dataframe\">\n",
       "  <thead>\n",
       "    <tr style=\"text-align: right;\">\n",
       "      <th></th>\n",
       "      <th>Bank Name</th>\n",
       "      <th>City</th>\n",
       "      <th>ST</th>\n",
       "      <th>CERT</th>\n",
       "      <th>Acquiring Institution</th>\n",
       "      <th>Closing Date</th>\n",
       "      <th>Updated Date</th>\n",
       "    </tr>\n",
       "  </thead>\n",
       "  <tbody>\n",
       "    <tr>\n",
       "      <th>0</th>\n",
       "      <td>Washington Federal Bank for Savings</td>\n",
       "      <td>Chicago</td>\n",
       "      <td>IL</td>\n",
       "      <td>30570</td>\n",
       "      <td>Royal Savings Bank</td>\n",
       "      <td>2017-12-15</td>\n",
       "      <td>2017-12-20</td>\n",
       "    </tr>\n",
       "    <tr>\n",
       "      <th>1</th>\n",
       "      <td>The Farmers and Merchants State Bank of Argonia</td>\n",
       "      <td>Argonia</td>\n",
       "      <td>KS</td>\n",
       "      <td>17719</td>\n",
       "      <td>Conway Bank</td>\n",
       "      <td>2017-10-13</td>\n",
       "      <td>2017-10-20</td>\n",
       "    </tr>\n",
       "    <tr>\n",
       "      <th>2</th>\n",
       "      <td>Fayette County Bank</td>\n",
       "      <td>Saint Elmo</td>\n",
       "      <td>IL</td>\n",
       "      <td>1802</td>\n",
       "      <td>United Fidelity Bank, fsb</td>\n",
       "      <td>2017-05-26</td>\n",
       "      <td>2017-07-26</td>\n",
       "    </tr>\n",
       "    <tr>\n",
       "      <th>3</th>\n",
       "      <td>Guaranty Bank, (d/b/a BestBank in Georgia &amp; Mi...</td>\n",
       "      <td>Milwaukee</td>\n",
       "      <td>WI</td>\n",
       "      <td>30003</td>\n",
       "      <td>First-Citizens Bank &amp; Trust Company</td>\n",
       "      <td>2017-05-05</td>\n",
       "      <td>2017-07-26</td>\n",
       "    </tr>\n",
       "    <tr>\n",
       "      <th>4</th>\n",
       "      <td>First NBC Bank</td>\n",
       "      <td>New Orleans</td>\n",
       "      <td>LA</td>\n",
       "      <td>58302</td>\n",
       "      <td>Whitney Bank</td>\n",
       "      <td>2017-04-28</td>\n",
       "      <td>2017-12-05</td>\n",
       "    </tr>\n",
       "  </tbody>\n",
       "</table>\n",
       "</div>"
      ],
      "text/plain": [
       "                                           Bank Name         City  ST   CERT  \\\n",
       "0                Washington Federal Bank for Savings      Chicago  IL  30570   \n",
       "1    The Farmers and Merchants State Bank of Argonia      Argonia  KS  17719   \n",
       "2                                Fayette County Bank   Saint Elmo  IL   1802   \n",
       "3  Guaranty Bank, (d/b/a BestBank in Georgia & Mi...    Milwaukee  WI  30003   \n",
       "4                                     First NBC Bank  New Orleans  LA  58302   \n",
       "\n",
       "                 Acquiring Institution Closing Date Updated Date  \n",
       "0                   Royal Savings Bank   2017-12-15   2017-12-20  \n",
       "1                          Conway Bank   2017-10-13   2017-10-20  \n",
       "2            United Fidelity Bank, fsb   2017-05-26   2017-07-26  \n",
       "3  First-Citizens Bank & Trust Company   2017-05-05   2017-07-26  \n",
       "4                         Whitney Bank   2017-04-28   2017-12-05  "
      ]
     },
     "execution_count": 5,
     "metadata": {},
     "output_type": "execute_result"
    }
   ],
   "source": [
    "banks.head()"
   ]
  },
  {
   "cell_type": "code",
   "execution_count": 6,
   "metadata": {
    "execution": {
     "iopub.execute_input": "2021-03-31T08:18:16.911416Z",
     "iopub.status.busy": "2021-03-31T08:18:16.911416Z",
     "iopub.status.idle": "2021-03-31T08:18:16.917401Z",
     "shell.execute_reply": "2021-03-31T08:18:16.916405Z",
     "shell.execute_reply.started": "2021-03-31T08:18:16.911416Z"
    }
   },
   "outputs": [
    {
     "data": {
      "text/plain": [
       "(555, 7)"
      ]
     },
     "execution_count": 6,
     "metadata": {},
     "output_type": "execute_result"
    }
   ],
   "source": [
    "banks.shape"
   ]
  },
  {
   "cell_type": "code",
   "execution_count": 7,
   "metadata": {
    "execution": {
     "iopub.execute_input": "2021-03-31T08:18:34.665777Z",
     "iopub.status.busy": "2021-03-31T08:18:34.665777Z",
     "iopub.status.idle": "2021-03-31T08:18:34.672758Z",
     "shell.execute_reply": "2021-03-31T08:18:34.671762Z",
     "shell.execute_reply.started": "2021-03-31T08:18:34.665777Z"
    }
   },
   "outputs": [
    {
     "data": {
      "text/plain": [
       "Timestamp('2000-10-13 00:00:00')"
      ]
     },
     "execution_count": 7,
     "metadata": {},
     "output_type": "execute_result"
    }
   ],
   "source": [
    "banks['Closing Date'].min()"
   ]
  },
  {
   "cell_type": "code",
   "execution_count": 8,
   "metadata": {
    "execution": {
     "iopub.execute_input": "2021-03-31T08:18:46.180976Z",
     "iopub.status.busy": "2021-03-31T08:18:46.180976Z",
     "iopub.status.idle": "2021-03-31T08:18:46.203920Z",
     "shell.execute_reply": "2021-03-31T08:18:46.201922Z",
     "shell.execute_reply.started": "2021-03-31T08:18:46.180976Z"
    }
   },
   "outputs": [
    {
     "data": {
      "text/plain": [
       "Timestamp('2017-12-15 00:00:00')"
      ]
     },
     "execution_count": 8,
     "metadata": {},
     "output_type": "execute_result"
    }
   ],
   "source": [
    "banks['Closing Date'].max()"
   ]
  },
  {
   "cell_type": "code",
   "execution_count": 9,
   "metadata": {
    "execution": {
     "iopub.execute_input": "2021-03-31T08:19:00.259241Z",
     "iopub.status.busy": "2021-03-31T08:19:00.259241Z",
     "iopub.status.idle": "2021-03-31T08:19:00.273202Z",
     "shell.execute_reply": "2021-03-31T08:19:00.272246Z",
     "shell.execute_reply.started": "2021-03-31T08:19:00.259241Z"
    }
   },
   "outputs": [
    {
     "data": {
      "text/plain": [
       "Closing Date\n",
       "2000      2\n",
       "2001      4\n",
       "2002     11\n",
       "2003      3\n",
       "2004      4\n",
       "2007      3\n",
       "2008     25\n",
       "2009    140\n",
       "2010    157\n",
       "2011     92\n",
       "2012     51\n",
       "2013     24\n",
       "2014     18\n",
       "2015      8\n",
       "2016      5\n",
       "2017      8\n",
       "dtype: int64"
      ]
     },
     "execution_count": 9,
     "metadata": {},
     "output_type": "execute_result"
    }
   ],
   "source": [
    "# row count in each group\n",
    "s = banks.groupby(by = banks['Closing Date'].dt.year).size()\n",
    "s"
   ]
  },
  {
   "cell_type": "code",
   "execution_count": 10,
   "metadata": {
    "execution": {
     "iopub.execute_input": "2021-03-31T08:19:17.994809Z",
     "iopub.status.busy": "2021-03-31T08:19:17.993811Z",
     "iopub.status.idle": "2021-03-31T08:19:18.171633Z",
     "shell.execute_reply": "2021-03-31T08:19:18.170622Z",
     "shell.execute_reply.started": "2021-03-31T08:19:17.994809Z"
    }
   },
   "outputs": [
    {
     "data": {
      "image/png": "[encoded data removed]",
      "text/plain": [
       "<Figure size 432x288 with 1 Axes>"
      ]
     },
     "metadata": {
      "needs_background": "light"
     },
     "output_type": "display_data"
    }
   ],
   "source": [
    "plt.plot(s)\n",
    "plt.show()"
   ]
  },
  {
   "cell_type": "markdown",
   "metadata": {},
   "source": [
    "# using df.set_index() method"
   ]
  },
  {
   "cell_type": "code",
   "execution_count": 11,
   "metadata": {
    "execution": {
     "iopub.execute_input": "2021-03-31T08:20:33.726748Z",
     "iopub.status.busy": "2021-03-31T08:20:33.726748Z",
     "iopub.status.idle": "2021-03-31T08:20:33.750685Z",
     "shell.execute_reply": "2021-03-31T08:20:33.749688Z",
     "shell.execute_reply.started": "2021-03-31T08:20:33.726748Z"
    }
   },
   "outputs": [
    {
     "data": {
      "text/html": [
       "<div>\n",
       "<style scoped>\n",
       "    .dataframe tbody tr th:only-of-type {\n",
       "        vertical-align: middle;\n",
       "    }\n",
       "\n",
       "    .dataframe tbody tr th {\n",
       "        vertical-align: top;\n",
       "    }\n",
       "\n",
       "    .dataframe thead th {\n",
       "        text-align: right;\n",
       "    }\n",
       "</style>\n",
       "<table border=\"1\" class=\"dataframe\">\n",
       "  <thead>\n",
       "    <tr style=\"text-align: right;\">\n",
       "      <th></th>\n",
       "      <th>Bank Name</th>\n",
       "      <th>City</th>\n",
       "      <th>ST</th>\n",
       "      <th>CERT</th>\n",
       "      <th>Acquiring Institution</th>\n",
       "      <th>Updated Date</th>\n",
       "    </tr>\n",
       "    <tr>\n",
       "      <th>Closing Date</th>\n",
       "      <th></th>\n",
       "      <th></th>\n",
       "      <th></th>\n",
       "      <th></th>\n",
       "      <th></th>\n",
       "      <th></th>\n",
       "    </tr>\n",
       "  </thead>\n",
       "  <tbody>\n",
       "    <tr>\n",
       "      <th>2017-12-15</th>\n",
       "      <td>Washington Federal Bank for Savings</td>\n",
       "      <td>Chicago</td>\n",
       "      <td>IL</td>\n",
       "      <td>30570</td>\n",
       "      <td>Royal Savings Bank</td>\n",
       "      <td>2017-12-20</td>\n",
       "    </tr>\n",
       "    <tr>\n",
       "      <th>2017-10-13</th>\n",
       "      <td>The Farmers and Merchants State Bank of Argonia</td>\n",
       "      <td>Argonia</td>\n",
       "      <td>KS</td>\n",
       "      <td>17719</td>\n",
       "      <td>Conway Bank</td>\n",
       "      <td>2017-10-20</td>\n",
       "    </tr>\n",
       "    <tr>\n",
       "      <th>2017-05-26</th>\n",
       "      <td>Fayette County Bank</td>\n",
       "      <td>Saint Elmo</td>\n",
       "      <td>IL</td>\n",
       "      <td>1802</td>\n",
       "      <td>United Fidelity Bank, fsb</td>\n",
       "      <td>2017-07-26</td>\n",
       "    </tr>\n",
       "    <tr>\n",
       "      <th>2017-05-05</th>\n",
       "      <td>Guaranty Bank, (d/b/a BestBank in Georgia &amp; Mi...</td>\n",
       "      <td>Milwaukee</td>\n",
       "      <td>WI</td>\n",
       "      <td>30003</td>\n",
       "      <td>First-Citizens Bank &amp; Trust Company</td>\n",
       "      <td>2017-07-26</td>\n",
       "    </tr>\n",
       "    <tr>\n",
       "      <th>2017-04-28</th>\n",
       "      <td>First NBC Bank</td>\n",
       "      <td>New Orleans</td>\n",
       "      <td>LA</td>\n",
       "      <td>58302</td>\n",
       "      <td>Whitney Bank</td>\n",
       "      <td>2017-12-05</td>\n",
       "    </tr>\n",
       "  </tbody>\n",
       "</table>\n",
       "</div>"
      ],
      "text/plain": [
       "                                                      Bank Name         City  \\\n",
       "Closing Date                                                                   \n",
       "2017-12-15                  Washington Federal Bank for Savings      Chicago   \n",
       "2017-10-13      The Farmers and Merchants State Bank of Argonia      Argonia   \n",
       "2017-05-26                                  Fayette County Bank   Saint Elmo   \n",
       "2017-05-05    Guaranty Bank, (d/b/a BestBank in Georgia & Mi...    Milwaukee   \n",
       "2017-04-28                                       First NBC Bank  New Orleans   \n",
       "\n",
       "              ST   CERT                Acquiring Institution Updated Date  \n",
       "Closing Date                                                               \n",
       "2017-12-15    IL  30570                   Royal Savings Bank   2017-12-20  \n",
       "2017-10-13    KS  17719                          Conway Bank   2017-10-20  \n",
       "2017-05-26    IL   1802            United Fidelity Bank, fsb   2017-07-26  \n",
       "2017-05-05    WI  30003  First-Citizens Bank & Trust Company   2017-07-26  \n",
       "2017-04-28    LA  58302                         Whitney Bank   2017-12-05  "
      ]
     },
     "execution_count": 11,
     "metadata": {},
     "output_type": "execute_result"
    }
   ],
   "source": [
    "banks2 = banks.set_index(keys = 'Closing Date')\n",
    "banks2.head()"
   ]
  },
  {
   "cell_type": "code",
   "execution_count": 12,
   "metadata": {
    "execution": {
     "iopub.execute_input": "2021-03-31T08:20:42.177704Z",
     "iopub.status.busy": "2021-03-31T08:20:42.177704Z",
     "iopub.status.idle": "2021-03-31T08:20:42.204631Z",
     "shell.execute_reply": "2021-03-31T08:20:42.203633Z",
     "shell.execute_reply.started": "2021-03-31T08:20:42.177704Z"
    }
   },
   "outputs": [
    {
     "data": {
      "text/plain": [
       "Closing Date\n",
       "2000-12-31      2\n",
       "2001-12-31      4\n",
       "2002-12-31     11\n",
       "2003-12-31      3\n",
       "2004-12-31      4\n",
       "2005-12-31      0\n",
       "2006-12-31      0\n",
       "2007-12-31      3\n",
       "2008-12-31     25\n",
       "2009-12-31    140\n",
       "2010-12-31    157\n",
       "2011-12-31     92\n",
       "2012-12-31     51\n",
       "2013-12-31     24\n",
       "2014-12-31     18\n",
       "2015-12-31      8\n",
       "2016-12-31      5\n",
       "2017-12-31      8\n",
       "Freq: A-DEC, dtype: int64"
      ]
     },
     "execution_count": 12,
     "metadata": {},
     "output_type": "execute_result"
    }
   ],
   "source": [
    "banks2.resample('Y').size()"
   ]
  },
  {
   "cell_type": "code",
   "execution_count": 13,
   "metadata": {
    "execution": {
     "iopub.execute_input": "2021-03-31T08:21:09.347507Z",
     "iopub.status.busy": "2021-03-31T08:21:09.346475Z",
     "iopub.status.idle": "2021-03-31T08:21:09.377396Z",
     "shell.execute_reply": "2021-03-31T08:21:09.376399Z",
     "shell.execute_reply.started": "2021-03-31T08:21:09.347507Z"
    }
   },
   "outputs": [
    {
     "data": {
      "text/plain": [
       "Series([], dtype: int64)"
      ]
     },
     "execution_count": 13,
     "metadata": {},
     "output_type": "execute_result"
    }
   ],
   "source": [
    "banks2.groupby(by = banks['Closing Date'].dt.quarter).size()"
   ]
  },
  {
   "cell_type": "code",
   "execution_count": 14,
   "metadata": {
    "execution": {
     "iopub.execute_input": "2021-03-31T08:21:11.023356Z",
     "iopub.status.busy": "2021-03-31T08:21:11.023356Z",
     "iopub.status.idle": "2021-03-31T08:21:11.039291Z",
     "shell.execute_reply": "2021-03-31T08:21:11.038296Z",
     "shell.execute_reply.started": "2021-03-31T08:21:11.023356Z"
    }
   },
   "outputs": [
    {
     "data": {
      "text/plain": [
       "Closing Date\n",
       "2000-12-31    2\n",
       "2001-03-31    1\n",
       "2001-06-30    1\n",
       "2001-09-30    2\n",
       "2001-12-31    0\n",
       "             ..\n",
       "2016-12-31    0\n",
       "2017-03-31    3\n",
       "2017-06-30    3\n",
       "2017-09-30    0\n",
       "2017-12-31    2\n",
       "Freq: Q-DEC, Length: 69, dtype: int64"
      ]
     },
     "execution_count": 14,
     "metadata": {},
     "output_type": "execute_result"
    }
   ],
   "source": [
    "s2 = banks2.resample('Q').size()\n",
    "s2"
   ]
  },
  {
   "cell_type": "code",
   "execution_count": 15,
   "metadata": {
    "execution": {
     "iopub.execute_input": "2021-03-31T08:21:16.860239Z",
     "iopub.status.busy": "2021-03-31T08:21:16.859232Z",
     "iopub.status.idle": "2021-03-31T08:21:16.988755Z",
     "shell.execute_reply": "2021-03-31T08:21:16.987756Z",
     "shell.execute_reply.started": "2021-03-31T08:21:16.860239Z"
    }
   },
   "outputs": [
    {
     "data": {
      "image/png": "[encoded data removed]",
      "text/plain": [
       "<Figure size 432x288 with 1 Axes>"
      ]
     },
     "metadata": {
      "needs_background": "light"
     },
     "output_type": "display_data"
    }
   ],
   "source": [
    "plt.plot(s2)\n",
    "plt.show()"
   ]
  }
 ],
 "metadata": {
  "kernelspec": {
   "display_name": "Python 3",
   "language": "python",
   "name": "python3"
  },
  "language_info": {
   "codemirror_mode": {
    "name": "ipython",
    "version": 3
   },
   "file_extension": ".py",
   "mimetype": "text/x-python",
   "name": "python",
   "nbconvert_exporter": "python",
   "pygments_lexer": "ipython3",
   "version": "3.8.8"
  }
 },
 "nbformat": 4,
 "nbformat_minor": 4
}
