{
 "cells": [
  {
   "cell_type": "markdown",
   "metadata": {},
   "source": [
    "# Categorical Data"
   ]
  },
  {
   "cell_type": "code",
   "execution_count": 1,
   "metadata": {
    "execution": {
     "iopub.execute_input": "2021-03-31T08:29:27.821752Z",
     "iopub.status.busy": "2021-03-31T08:29:27.821752Z",
     "iopub.status.idle": "2021-03-31T08:29:28.517094Z",
     "shell.execute_reply": "2021-03-31T08:29:28.514098Z",
     "shell.execute_reply.started": "2021-03-31T08:29:27.821752Z"
    }
   },
   "outputs": [],
   "source": [
    "import numpy as np\n",
    "import pandas as pd"
   ]
  },
  {
   "cell_type": "code",
   "execution_count": 2,
   "metadata": {
    "execution": {
     "iopub.execute_input": "2021-03-31T08:30:35.009620Z",
     "iopub.status.busy": "2021-03-31T08:30:35.009620Z",
     "iopub.status.idle": "2021-03-31T08:30:35.026544Z",
     "shell.execute_reply": "2021-03-31T08:30:35.025546Z",
     "shell.execute_reply.started": "2021-03-31T08:30:35.009620Z"
    }
   },
   "outputs": [
    {
     "data": {
      "text/plain": [
       "0    M\n",
       "1    F\n",
       "2    F\n",
       "3    M\n",
       "4    F\n",
       "dtype: object"
      ]
     },
     "execution_count": 2,
     "metadata": {},
     "output_type": "execute_result"
    }
   ],
   "source": [
    "gender=pd.Series(['M', 'F', 'F', 'M', 'F'])\n",
    "gender\n",
    "#> dtype: object --- It means String type"
   ]
  },
  {
   "cell_type": "markdown",
   "metadata": {},
   "source": [
    "# astype() method\n",
    "* **`astype(newType)` method** : return new pd.Series changed datatype to *newType*."
   ]
  },
  {
   "cell_type": "code",
   "execution_count": 3,
   "metadata": {
    "execution": {
     "iopub.execute_input": "2021-03-31T08:31:43.995913Z",
     "iopub.status.busy": "2021-03-31T08:31:43.994916Z",
     "iopub.status.idle": "2021-03-31T08:31:44.011871Z",
     "shell.execute_reply": "2021-03-31T08:31:44.010872Z",
     "shell.execute_reply.started": "2021-03-31T08:31:43.995913Z"
    }
   },
   "outputs": [
    {
     "data": {
      "text/plain": [
       "0    M\n",
       "1    F\n",
       "2    F\n",
       "3    M\n",
       "4    F\n",
       "dtype: category\n",
       "Categories (2, object): ['F', 'M']"
      ]
     },
     "execution_count": 3,
     "metadata": {},
     "output_type": "execute_result"
    }
   ],
   "source": [
    "gender2=gender.astype('category')\n",
    "gender2"
   ]
  },
  {
   "cell_type": "code",
   "execution_count": 4,
   "metadata": {
    "execution": {
     "iopub.execute_input": "2021-03-31T08:31:47.706727Z",
     "iopub.status.busy": "2021-03-31T08:31:47.706727Z",
     "iopub.status.idle": "2021-03-31T08:31:47.715703Z",
     "shell.execute_reply": "2021-03-31T08:31:47.714705Z",
     "shell.execute_reply.started": "2021-03-31T08:31:47.706727Z"
    }
   },
   "outputs": [
    {
     "data": {
      "text/plain": [
       "0    M\n",
       "1    F\n",
       "2    F\n",
       "3    M\n",
       "4    F\n",
       "dtype: object"
      ]
     },
     "execution_count": 4,
     "metadata": {},
     "output_type": "execute_result"
    }
   ],
   "source": [
    "gender"
   ]
  },
  {
   "cell_type": "code",
   "execution_count": 5,
   "metadata": {
    "execution": {
     "iopub.execute_input": "2021-03-31T08:32:24.821307Z",
     "iopub.status.busy": "2021-03-31T08:32:24.820312Z",
     "iopub.status.idle": "2021-03-31T08:32:24.835776Z",
     "shell.execute_reply": "2021-03-31T08:32:24.834778Z",
     "shell.execute_reply.started": "2021-03-31T08:32:24.821307Z"
    }
   },
   "outputs": [
    {
     "data": {
      "text/plain": [
       "0     1\n",
       "1    19\n",
       "2    25\n",
       "3    45\n",
       "4    23\n",
       "5    23\n",
       "6    15\n",
       "7    25\n",
       "8    25\n",
       "9    38\n",
       "dtype: int64"
      ]
     },
     "execution_count": 5,
     "metadata": {},
     "output_type": "execute_result"
    }
   ],
   "source": [
    "age=pd.Series([1,19,25,45,23,23,15,25,25,38])\n",
    "age\n",
    "#> dtype:int 64 --- it means, 'integer'."
   ]
  },
  {
   "cell_type": "code",
   "execution_count": 6,
   "metadata": {
    "execution": {
     "iopub.execute_input": "2021-03-31T08:32:34.311788Z",
     "iopub.status.busy": "2021-03-31T08:32:34.311788Z",
     "iopub.status.idle": "2021-03-31T08:32:34.333729Z",
     "shell.execute_reply": "2021-03-31T08:32:34.332731Z",
     "shell.execute_reply.started": "2021-03-31T08:32:34.311788Z"
    }
   },
   "outputs": [
    {
     "data": {
      "text/plain": [
       "0     1\n",
       "1    19\n",
       "2    25\n",
       "3    45\n",
       "4    23\n",
       "5    23\n",
       "6    15\n",
       "7    25\n",
       "8    25\n",
       "9    38\n",
       "dtype: category\n",
       "Categories (7, int64): [1, 15, 19, 23, 25, 38, 45]"
      ]
     },
     "execution_count": 6,
     "metadata": {},
     "output_type": "execute_result"
    }
   ],
   "source": [
    "age2=age.astype('category')\n",
    "age2"
   ]
  },
  {
   "cell_type": "markdown",
   "metadata": {},
   "source": [
    "# How to Generate Categorical type Series"
   ]
  },
  {
   "cell_type": "code",
   "execution_count": 7,
   "metadata": {
    "execution": {
     "iopub.execute_input": "2021-03-31T08:33:15.631929Z",
     "iopub.status.busy": "2021-03-31T08:33:15.631929Z",
     "iopub.status.idle": "2021-03-31T08:33:15.644450Z",
     "shell.execute_reply": "2021-03-31T08:33:15.644450Z",
     "shell.execute_reply.started": "2021-03-31T08:33:15.631929Z"
    }
   },
   "outputs": [
    {
     "data": {
      "text/plain": [
       "0    a\n",
       "1    b\n",
       "2    a\n",
       "3    a\n",
       "dtype: category\n",
       "Categories (2, object): ['a', 'b']"
      ]
     },
     "execution_count": 7,
     "metadata": {},
     "output_type": "execute_result"
    }
   ],
   "source": [
    "s=pd.Series(data=['a','b','a','a'], dtype='category')\n",
    "s"
   ]
  },
  {
   "cell_type": "markdown",
   "metadata": {},
   "source": [
    "# example 1 : fruit"
   ]
  },
  {
   "cell_type": "code",
   "execution_count": 8,
   "metadata": {
    "execution": {
     "iopub.execute_input": "2021-03-31T08:34:23.117166Z",
     "iopub.status.busy": "2021-03-31T08:34:23.117166Z",
     "iopub.status.idle": "2021-03-31T08:34:23.135118Z",
     "shell.execute_reply": "2021-03-31T08:34:23.134122Z",
     "shell.execute_reply.started": "2021-03-31T08:34:23.117166Z"
    }
   },
   "outputs": [
    {
     "data": {
      "text/html": [
       "<div>\n",
       "<style scoped>\n",
       "    .dataframe tbody tr th:only-of-type {\n",
       "        vertical-align: middle;\n",
       "    }\n",
       "\n",
       "    .dataframe tbody tr th {\n",
       "        vertical-align: top;\n",
       "    }\n",
       "\n",
       "    .dataframe thead th {\n",
       "        text-align: right;\n",
       "    }\n",
       "</style>\n",
       "<table border=\"1\" class=\"dataframe\">\n",
       "  <thead>\n",
       "    <tr style=\"text-align: right;\">\n",
       "      <th></th>\n",
       "      <th>fruit</th>\n",
       "      <th>count</th>\n",
       "      <th>weight</th>\n",
       "    </tr>\n",
       "  </thead>\n",
       "  <tbody>\n",
       "    <tr>\n",
       "      <th>0</th>\n",
       "      <td>apple</td>\n",
       "      <td>9</td>\n",
       "      <td>1.926657</td>\n",
       "    </tr>\n",
       "    <tr>\n",
       "      <th>1</th>\n",
       "      <td>banana</td>\n",
       "      <td>10</td>\n",
       "      <td>4.809335</td>\n",
       "    </tr>\n",
       "    <tr>\n",
       "      <th>2</th>\n",
       "      <td>apple</td>\n",
       "      <td>13</td>\n",
       "      <td>2.712139</td>\n",
       "    </tr>\n",
       "    <tr>\n",
       "      <th>3</th>\n",
       "      <td>apple</td>\n",
       "      <td>8</td>\n",
       "      <td>1.275425</td>\n",
       "    </tr>\n",
       "    <tr>\n",
       "      <th>4</th>\n",
       "      <td>banana</td>\n",
       "      <td>13</td>\n",
       "      <td>4.515694</td>\n",
       "    </tr>\n",
       "    <tr>\n",
       "      <th>5</th>\n",
       "      <td>apple</td>\n",
       "      <td>12</td>\n",
       "      <td>2.701515</td>\n",
       "    </tr>\n",
       "  </tbody>\n",
       "</table>\n",
       "</div>"
      ],
      "text/plain": [
       "    fruit  count    weight\n",
       "0   apple      9  1.926657\n",
       "1  banana     10  4.809335\n",
       "2   apple     13  2.712139\n",
       "3   apple      8  1.275425\n",
       "4  banana     13  4.515694\n",
       "5   apple     12  2.701515"
      ]
     },
     "execution_count": 8,
     "metadata": {},
     "output_type": "execute_result"
    }
   ],
   "source": [
    "df=pd.DataFrame({'fruit':['apple','banana','apple']*2,\n",
    "                'count': np.random.randint(5,15,6),\n",
    "                'weight': np.random.uniform(1.0, 5.0, 6)})\n",
    "df"
   ]
  },
  {
   "cell_type": "code",
   "execution_count": 9,
   "metadata": {
    "execution": {
     "iopub.execute_input": "2021-03-31T08:34:28.145296Z",
     "iopub.status.busy": "2021-03-31T08:34:28.145296Z",
     "iopub.status.idle": "2021-03-31T08:34:28.166242Z",
     "shell.execute_reply": "2021-03-31T08:34:28.165243Z",
     "shell.execute_reply.started": "2021-03-31T08:34:28.145296Z"
    }
   },
   "outputs": [
    {
     "name": "stdout",
     "output_type": "stream",
     "text": [
      "<class 'pandas.core.frame.DataFrame'>\n",
      "RangeIndex: 6 entries, 0 to 5\n",
      "Data columns (total 3 columns):\n",
      " #   Column  Non-Null Count  Dtype  \n",
      "---  ------  --------------  -----  \n",
      " 0   fruit   6 non-null      object \n",
      " 1   count   6 non-null      int32  \n",
      " 2   weight  6 non-null      float64\n",
      "dtypes: float64(1), int32(1), object(1)\n",
      "memory usage: 248.0+ bytes\n"
     ]
    }
   ],
   "source": [
    "df.info()"
   ]
  },
  {
   "cell_type": "markdown",
   "metadata": {},
   "source": [
    "## .astype('category')"
   ]
  },
  {
   "cell_type": "code",
   "execution_count": 10,
   "metadata": {
    "execution": {
     "iopub.execute_input": "2021-03-31T08:35:41.414350Z",
     "iopub.status.busy": "2021-03-31T08:35:41.414350Z",
     "iopub.status.idle": "2021-03-31T08:35:41.432295Z",
     "shell.execute_reply": "2021-03-31T08:35:41.431297Z",
     "shell.execute_reply.started": "2021-03-31T08:35:41.414350Z"
    }
   },
   "outputs": [],
   "source": [
    "# Change fruit column's data type to category type.\n",
    "df['fruit']=df['fruit'].astype('category')"
   ]
  },
  {
   "cell_type": "code",
   "execution_count": 11,
   "metadata": {
    "execution": {
     "iopub.execute_input": "2021-03-31T08:35:41.991676Z",
     "iopub.status.busy": "2021-03-31T08:35:41.991676Z",
     "iopub.status.idle": "2021-03-31T08:35:42.012620Z",
     "shell.execute_reply": "2021-03-31T08:35:42.011623Z",
     "shell.execute_reply.started": "2021-03-31T08:35:41.991676Z"
    }
   },
   "outputs": [
    {
     "name": "stdout",
     "output_type": "stream",
     "text": [
      "<class 'pandas.core.frame.DataFrame'>\n",
      "RangeIndex: 6 entries, 0 to 5\n",
      "Data columns (total 3 columns):\n",
      " #   Column  Non-Null Count  Dtype   \n",
      "---  ------  --------------  -----   \n",
      " 0   fruit   6 non-null      category\n",
      " 1   count   6 non-null      int32   \n",
      " 2   weight  6 non-null      float64 \n",
      "dtypes: category(1), float64(1), int32(1)\n",
      "memory usage: 330.0 bytes\n"
     ]
    }
   ],
   "source": [
    "df.info()"
   ]
  },
  {
   "cell_type": "markdown",
   "metadata": {},
   "source": [
    "## Generate derived variable, 'weight_level'"
   ]
  },
  {
   "cell_type": "markdown",
   "metadata": {},
   "source": [
    "### by using for loop"
   ]
  },
  {
   "cell_type": "code",
   "execution_count": 12,
   "metadata": {
    "execution": {
     "iopub.execute_input": "2021-03-31T08:43:39.343681Z",
     "iopub.status.busy": "2021-03-31T08:43:39.343681Z",
     "iopub.status.idle": "2021-03-31T08:43:39.371073Z",
     "shell.execute_reply": "2021-03-31T08:43:39.370078Z",
     "shell.execute_reply.started": "2021-03-31T08:43:39.343681Z"
    }
   },
   "outputs": [
    {
     "data": {
      "text/html": [
       "<div>\n",
       "<style scoped>\n",
       "    .dataframe tbody tr th:only-of-type {\n",
       "        vertical-align: middle;\n",
       "    }\n",
       "\n",
       "    .dataframe tbody tr th {\n",
       "        vertical-align: top;\n",
       "    }\n",
       "\n",
       "    .dataframe thead th {\n",
       "        text-align: right;\n",
       "    }\n",
       "</style>\n",
       "<table border=\"1\" class=\"dataframe\">\n",
       "  <thead>\n",
       "    <tr style=\"text-align: right;\">\n",
       "      <th></th>\n",
       "      <th>fruit</th>\n",
       "      <th>count</th>\n",
       "      <th>weight</th>\n",
       "      <th>weight_level</th>\n",
       "    </tr>\n",
       "  </thead>\n",
       "  <tbody>\n",
       "    <tr>\n",
       "      <th>0</th>\n",
       "      <td>apple</td>\n",
       "      <td>9</td>\n",
       "      <td>1.926657</td>\n",
       "      <td>W2</td>\n",
       "    </tr>\n",
       "    <tr>\n",
       "      <th>1</th>\n",
       "      <td>banana</td>\n",
       "      <td>10</td>\n",
       "      <td>4.809335</td>\n",
       "      <td>W5</td>\n",
       "    </tr>\n",
       "    <tr>\n",
       "      <th>2</th>\n",
       "      <td>apple</td>\n",
       "      <td>13</td>\n",
       "      <td>2.712139</td>\n",
       "      <td>W3</td>\n",
       "    </tr>\n",
       "    <tr>\n",
       "      <th>3</th>\n",
       "      <td>apple</td>\n",
       "      <td>8</td>\n",
       "      <td>1.275425</td>\n",
       "      <td>W2</td>\n",
       "    </tr>\n",
       "    <tr>\n",
       "      <th>4</th>\n",
       "      <td>banana</td>\n",
       "      <td>13</td>\n",
       "      <td>4.515694</td>\n",
       "      <td>W5</td>\n",
       "    </tr>\n",
       "    <tr>\n",
       "      <th>5</th>\n",
       "      <td>apple</td>\n",
       "      <td>12</td>\n",
       "      <td>2.701515</td>\n",
       "      <td>W3</td>\n",
       "    </tr>\n",
       "  </tbody>\n",
       "</table>\n",
       "</div>"
      ],
      "text/plain": [
       "    fruit  count    weight weight_level\n",
       "0   apple      9  1.926657           W2\n",
       "1  banana     10  4.809335           W5\n",
       "2   apple     13  2.712139           W3\n",
       "3   apple      8  1.275425           W2\n",
       "4  banana     13  4.515694           W5\n",
       "5   apple     12  2.701515           W3"
      ]
     },
     "execution_count": 12,
     "metadata": {},
     "output_type": "execute_result"
    }
   ],
   "source": [
    "# Generate derived variable named 'weight_level'. Use values of weight column in df.\n",
    "# 0.0<=weight<1.0 : w1, ... 4.0<=weight<5.0 : w5\n",
    "wlevels=[]\n",
    "for w in df['weight']:\n",
    "    if 0.0<=w<1.0:\n",
    "        l='W1'\n",
    "    elif 1.0<=w<2.0:\n",
    "        l='W2'\n",
    "    elif 2.0<=w<3.0:\n",
    "        l='W3'\n",
    "    elif 3.0<=w<4.0:\n",
    "        l='W4'\n",
    "    else:\n",
    "        l='W5'\n",
    "    wlevels.append(l)\n",
    "    \n",
    "df['weight_level']=pd.Series(wlevels, dtype='category')\n",
    "df"
   ]
  },
  {
   "cell_type": "code",
   "execution_count": 14,
   "metadata": {
    "execution": {
     "iopub.execute_input": "2021-03-31T08:43:59.882974Z",
     "iopub.status.busy": "2021-03-31T08:43:59.881976Z",
     "iopub.status.idle": "2021-03-31T08:43:59.911900Z",
     "shell.execute_reply": "2021-03-31T08:43:59.909902Z",
     "shell.execute_reply.started": "2021-03-31T08:43:59.882974Z"
    }
   },
   "outputs": [
    {
     "name": "stdout",
     "output_type": "stream",
     "text": [
      "<class 'pandas.core.frame.DataFrame'>\n",
      "RangeIndex: 6 entries, 0 to 5\n",
      "Data columns (total 4 columns):\n",
      " #   Column        Non-Null Count  Dtype   \n",
      "---  ------        --------------  -----   \n",
      " 0   fruit         6 non-null      category\n",
      " 1   count         6 non-null      int32   \n",
      " 2   weight        6 non-null      float64 \n",
      " 3   weight_level  6 non-null      category\n",
      "dtypes: category(2), float64(1), int32(1)\n",
      "memory usage: 468.0 bytes\n"
     ]
    }
   ],
   "source": [
    "df.info()"
   ]
  },
  {
   "cell_type": "markdown",
   "metadata": {},
   "source": [
    "### by using pd.cut() function"
   ]
  },
  {
   "cell_type": "code",
   "execution_count": 15,
   "metadata": {
    "execution": {
     "iopub.execute_input": "2021-03-31T08:45:43.210407Z",
     "iopub.status.busy": "2021-03-31T08:45:43.209409Z",
     "iopub.status.idle": "2021-03-31T08:45:43.237332Z",
     "shell.execute_reply": "2021-03-31T08:45:43.236336Z",
     "shell.execute_reply.started": "2021-03-31T08:45:43.210407Z"
    }
   },
   "outputs": [
    {
     "data": {
      "text/html": [
       "<div>\n",
       "<style scoped>\n",
       "    .dataframe tbody tr th:only-of-type {\n",
       "        vertical-align: middle;\n",
       "    }\n",
       "\n",
       "    .dataframe tbody tr th {\n",
       "        vertical-align: top;\n",
       "    }\n",
       "\n",
       "    .dataframe thead th {\n",
       "        text-align: right;\n",
       "    }\n",
       "</style>\n",
       "<table border=\"1\" class=\"dataframe\">\n",
       "  <thead>\n",
       "    <tr style=\"text-align: right;\">\n",
       "      <th></th>\n",
       "      <th>fruit</th>\n",
       "      <th>count</th>\n",
       "      <th>weight</th>\n",
       "      <th>weight_level</th>\n",
       "      <th>w_1</th>\n",
       "    </tr>\n",
       "  </thead>\n",
       "  <tbody>\n",
       "    <tr>\n",
       "      <th>0</th>\n",
       "      <td>apple</td>\n",
       "      <td>9</td>\n",
       "      <td>1.926657</td>\n",
       "      <td>W2</td>\n",
       "      <td>W2</td>\n",
       "    </tr>\n",
       "    <tr>\n",
       "      <th>1</th>\n",
       "      <td>banana</td>\n",
       "      <td>10</td>\n",
       "      <td>4.809335</td>\n",
       "      <td>W5</td>\n",
       "      <td>W5</td>\n",
       "    </tr>\n",
       "    <tr>\n",
       "      <th>2</th>\n",
       "      <td>apple</td>\n",
       "      <td>13</td>\n",
       "      <td>2.712139</td>\n",
       "      <td>W3</td>\n",
       "      <td>W3</td>\n",
       "    </tr>\n",
       "    <tr>\n",
       "      <th>3</th>\n",
       "      <td>apple</td>\n",
       "      <td>8</td>\n",
       "      <td>1.275425</td>\n",
       "      <td>W2</td>\n",
       "      <td>W2</td>\n",
       "    </tr>\n",
       "    <tr>\n",
       "      <th>4</th>\n",
       "      <td>banana</td>\n",
       "      <td>13</td>\n",
       "      <td>4.515694</td>\n",
       "      <td>W5</td>\n",
       "      <td>W5</td>\n",
       "    </tr>\n",
       "    <tr>\n",
       "      <th>5</th>\n",
       "      <td>apple</td>\n",
       "      <td>12</td>\n",
       "      <td>2.701515</td>\n",
       "      <td>W3</td>\n",
       "      <td>W3</td>\n",
       "    </tr>\n",
       "  </tbody>\n",
       "</table>\n",
       "</div>"
      ],
      "text/plain": [
       "    fruit  count    weight weight_level w_1\n",
       "0   apple      9  1.926657           W2  W2\n",
       "1  banana     10  4.809335           W5  W5\n",
       "2   apple     13  2.712139           W3  W3\n",
       "3   apple      8  1.275425           W2  W2\n",
       "4  banana     13  4.515694           W5  W5\n",
       "5   apple     12  2.701515           W3  W3"
      ]
     },
     "execution_count": 15,
     "metadata": {},
     "output_type": "execute_result"
    }
   ],
   "source": [
    "df['w_1']=pd.cut(x=df['weight'],\n",
    "                bins=np.arange(0.0, 5.1, 1.0),\n",
    "                right=False,\n",
    "                labels=['W1','W2','W3','W4','W5'])\n",
    "df"
   ]
  },
  {
   "cell_type": "code",
   "execution_count": 16,
   "metadata": {
    "execution": {
     "iopub.execute_input": "2021-03-31T08:45:48.908069Z",
     "iopub.status.busy": "2021-03-31T08:45:48.907072Z",
     "iopub.status.idle": "2021-03-31T08:45:48.934002Z",
     "shell.execute_reply": "2021-03-31T08:45:48.933004Z",
     "shell.execute_reply.started": "2021-03-31T08:45:48.908069Z"
    }
   },
   "outputs": [
    {
     "name": "stdout",
     "output_type": "stream",
     "text": [
      "<class 'pandas.core.frame.DataFrame'>\n",
      "RangeIndex: 6 entries, 0 to 5\n",
      "Data columns (total 5 columns):\n",
      " #   Column        Non-Null Count  Dtype   \n",
      "---  ------        --------------  -----   \n",
      " 0   fruit         6 non-null      category\n",
      " 1   count         6 non-null      int32   \n",
      " 2   weight        6 non-null      float64 \n",
      " 3   weight_level  6 non-null      category\n",
      " 4   w_1           6 non-null      category\n",
      "dtypes: category(3), float64(1), int32(1)\n",
      "memory usage: 686.0 bytes\n"
     ]
    }
   ],
   "source": [
    "df.info()"
   ]
  },
  {
   "cell_type": "markdown",
   "metadata": {},
   "source": [
    "# example 2 : age"
   ]
  },
  {
   "cell_type": "code",
   "execution_count": 17,
   "metadata": {
    "execution": {
     "iopub.execute_input": "2021-03-31T08:46:26.221946Z",
     "iopub.status.busy": "2021-03-31T08:46:26.221946Z",
     "iopub.status.idle": "2021-03-31T08:46:26.233914Z",
     "shell.execute_reply": "2021-03-31T08:46:26.232917Z",
     "shell.execute_reply.started": "2021-03-31T08:46:26.221946Z"
    }
   },
   "outputs": [
    {
     "data": {
      "text/html": [
       "<div>\n",
       "<style scoped>\n",
       "    .dataframe tbody tr th:only-of-type {\n",
       "        vertical-align: middle;\n",
       "    }\n",
       "\n",
       "    .dataframe tbody tr th {\n",
       "        vertical-align: top;\n",
       "    }\n",
       "\n",
       "    .dataframe thead th {\n",
       "        text-align: right;\n",
       "    }\n",
       "</style>\n",
       "<table border=\"1\" class=\"dataframe\">\n",
       "  <thead>\n",
       "    <tr style=\"text-align: right;\">\n",
       "      <th></th>\n",
       "      <th>age</th>\n",
       "    </tr>\n",
       "  </thead>\n",
       "  <tbody>\n",
       "    <tr>\n",
       "      <th>0</th>\n",
       "      <td>66</td>\n",
       "    </tr>\n",
       "    <tr>\n",
       "      <th>1</th>\n",
       "      <td>83</td>\n",
       "    </tr>\n",
       "    <tr>\n",
       "      <th>2</th>\n",
       "      <td>50</td>\n",
       "    </tr>\n",
       "    <tr>\n",
       "      <th>3</th>\n",
       "      <td>1</td>\n",
       "    </tr>\n",
       "    <tr>\n",
       "      <th>4</th>\n",
       "      <td>28</td>\n",
       "    </tr>\n",
       "    <tr>\n",
       "      <th>5</th>\n",
       "      <td>69</td>\n",
       "    </tr>\n",
       "    <tr>\n",
       "      <th>6</th>\n",
       "      <td>9</td>\n",
       "    </tr>\n",
       "    <tr>\n",
       "      <th>7</th>\n",
       "      <td>64</td>\n",
       "    </tr>\n",
       "    <tr>\n",
       "      <th>8</th>\n",
       "      <td>50</td>\n",
       "    </tr>\n",
       "    <tr>\n",
       "      <th>9</th>\n",
       "      <td>37</td>\n",
       "    </tr>\n",
       "    <tr>\n",
       "      <th>10</th>\n",
       "      <td>15</td>\n",
       "    </tr>\n",
       "    <tr>\n",
       "      <th>11</th>\n",
       "      <td>77</td>\n",
       "    </tr>\n",
       "    <tr>\n",
       "      <th>12</th>\n",
       "      <td>22</td>\n",
       "    </tr>\n",
       "    <tr>\n",
       "      <th>13</th>\n",
       "      <td>98</td>\n",
       "    </tr>\n",
       "    <tr>\n",
       "      <th>14</th>\n",
       "      <td>4</td>\n",
       "    </tr>\n",
       "    <tr>\n",
       "      <th>15</th>\n",
       "      <td>73</td>\n",
       "    </tr>\n",
       "    <tr>\n",
       "      <th>16</th>\n",
       "      <td>70</td>\n",
       "    </tr>\n",
       "    <tr>\n",
       "      <th>17</th>\n",
       "      <td>4</td>\n",
       "    </tr>\n",
       "    <tr>\n",
       "      <th>18</th>\n",
       "      <td>68</td>\n",
       "    </tr>\n",
       "    <tr>\n",
       "      <th>19</th>\n",
       "      <td>89</td>\n",
       "    </tr>\n",
       "  </tbody>\n",
       "</table>\n",
       "</div>"
      ],
      "text/plain": [
       "    age\n",
       "0    66\n",
       "1    83\n",
       "2    50\n",
       "3     1\n",
       "4    28\n",
       "5    69\n",
       "6     9\n",
       "7    64\n",
       "8    50\n",
       "9    37\n",
       "10   15\n",
       "11   77\n",
       "12   22\n",
       "13   98\n",
       "14    4\n",
       "15   73\n",
       "16   70\n",
       "17    4\n",
       "18   68\n",
       "19   89"
      ]
     },
     "execution_count": 17,
     "metadata": {},
     "output_type": "execute_result"
    }
   ],
   "source": [
    "df2=pd.DataFrame({'age': np.random.randint(0,100,20)})\n",
    "df2"
   ]
  },
  {
   "cell_type": "code",
   "execution_count": 18,
   "metadata": {
    "execution": {
     "iopub.execute_input": "2021-03-31T08:48:03.047029Z",
     "iopub.status.busy": "2021-03-31T08:48:03.047029Z",
     "iopub.status.idle": "2021-03-31T08:48:03.069938Z",
     "shell.execute_reply": "2021-03-31T08:48:03.068987Z",
     "shell.execute_reply.started": "2021-03-31T08:48:03.047029Z"
    }
   },
   "outputs": [
    {
     "data": {
      "text/html": [
       "<div>\n",
       "<style scoped>\n",
       "    .dataframe tbody tr th:only-of-type {\n",
       "        vertical-align: middle;\n",
       "    }\n",
       "\n",
       "    .dataframe tbody tr th {\n",
       "        vertical-align: top;\n",
       "    }\n",
       "\n",
       "    .dataframe thead th {\n",
       "        text-align: right;\n",
       "    }\n",
       "</style>\n",
       "<table border=\"1\" class=\"dataframe\">\n",
       "  <thead>\n",
       "    <tr style=\"text-align: right;\">\n",
       "      <th></th>\n",
       "      <th>age</th>\n",
       "      <th>age_range</th>\n",
       "    </tr>\n",
       "  </thead>\n",
       "  <tbody>\n",
       "    <tr>\n",
       "      <th>0</th>\n",
       "      <td>66</td>\n",
       "      <td>age_60</td>\n",
       "    </tr>\n",
       "    <tr>\n",
       "      <th>1</th>\n",
       "      <td>83</td>\n",
       "      <td>age_80</td>\n",
       "    </tr>\n",
       "    <tr>\n",
       "      <th>2</th>\n",
       "      <td>50</td>\n",
       "      <td>age_50</td>\n",
       "    </tr>\n",
       "    <tr>\n",
       "      <th>3</th>\n",
       "      <td>1</td>\n",
       "      <td>age_0</td>\n",
       "    </tr>\n",
       "    <tr>\n",
       "      <th>4</th>\n",
       "      <td>28</td>\n",
       "      <td>age_20</td>\n",
       "    </tr>\n",
       "    <tr>\n",
       "      <th>5</th>\n",
       "      <td>69</td>\n",
       "      <td>age_60</td>\n",
       "    </tr>\n",
       "    <tr>\n",
       "      <th>6</th>\n",
       "      <td>9</td>\n",
       "      <td>age_0</td>\n",
       "    </tr>\n",
       "    <tr>\n",
       "      <th>7</th>\n",
       "      <td>64</td>\n",
       "      <td>age_60</td>\n",
       "    </tr>\n",
       "    <tr>\n",
       "      <th>8</th>\n",
       "      <td>50</td>\n",
       "      <td>age_50</td>\n",
       "    </tr>\n",
       "    <tr>\n",
       "      <th>9</th>\n",
       "      <td>37</td>\n",
       "      <td>age_30</td>\n",
       "    </tr>\n",
       "    <tr>\n",
       "      <th>10</th>\n",
       "      <td>15</td>\n",
       "      <td>age_10</td>\n",
       "    </tr>\n",
       "    <tr>\n",
       "      <th>11</th>\n",
       "      <td>77</td>\n",
       "      <td>age_70</td>\n",
       "    </tr>\n",
       "    <tr>\n",
       "      <th>12</th>\n",
       "      <td>22</td>\n",
       "      <td>age_20</td>\n",
       "    </tr>\n",
       "    <tr>\n",
       "      <th>13</th>\n",
       "      <td>98</td>\n",
       "      <td>age_90</td>\n",
       "    </tr>\n",
       "    <tr>\n",
       "      <th>14</th>\n",
       "      <td>4</td>\n",
       "      <td>age_0</td>\n",
       "    </tr>\n",
       "    <tr>\n",
       "      <th>15</th>\n",
       "      <td>73</td>\n",
       "      <td>age_70</td>\n",
       "    </tr>\n",
       "    <tr>\n",
       "      <th>16</th>\n",
       "      <td>70</td>\n",
       "      <td>age_70</td>\n",
       "    </tr>\n",
       "    <tr>\n",
       "      <th>17</th>\n",
       "      <td>4</td>\n",
       "      <td>age_0</td>\n",
       "    </tr>\n",
       "    <tr>\n",
       "      <th>18</th>\n",
       "      <td>68</td>\n",
       "      <td>age_60</td>\n",
       "    </tr>\n",
       "    <tr>\n",
       "      <th>19</th>\n",
       "      <td>89</td>\n",
       "      <td>age_80</td>\n",
       "    </tr>\n",
       "  </tbody>\n",
       "</table>\n",
       "</div>"
      ],
      "text/plain": [
       "    age age_range\n",
       "0    66    age_60\n",
       "1    83    age_80\n",
       "2    50    age_50\n",
       "3     1     age_0\n",
       "4    28    age_20\n",
       "5    69    age_60\n",
       "6     9     age_0\n",
       "7    64    age_60\n",
       "8    50    age_50\n",
       "9    37    age_30\n",
       "10   15    age_10\n",
       "11   77    age_70\n",
       "12   22    age_20\n",
       "13   98    age_90\n",
       "14    4     age_0\n",
       "15   73    age_70\n",
       "16   70    age_70\n",
       "17    4     age_0\n",
       "18   68    age_60\n",
       "19   89    age_80"
      ]
     },
     "execution_count": 18,
     "metadata": {},
     "output_type": "execute_result"
    }
   ],
   "source": [
    "# generate derived variable(categorical) : age_range\n",
    "# ['age_0', 'age_10', ..., 'age_90']\n",
    "ar_bins=np.arange(0,101,10)\n",
    "ar_labels=[f'age_{i}' for i in range(0,100,10)]\n",
    "df2['age_range']=pd.cut(x=df2['age'],\n",
    "                       bins=ar_bins,\n",
    "                       labels=ar_labels,\n",
    "                       right=False)\n",
    "df2"
   ]
  },
  {
   "cell_type": "code",
   "execution_count": 19,
   "metadata": {
    "execution": {
     "iopub.execute_input": "2021-03-31T08:49:37.789207Z",
     "iopub.status.busy": "2021-03-31T08:49:37.788210Z",
     "iopub.status.idle": "2021-03-31T08:49:37.815139Z",
     "shell.execute_reply": "2021-03-31T08:49:37.814142Z",
     "shell.execute_reply.started": "2021-03-31T08:49:37.789207Z"
    }
   },
   "outputs": [
    {
     "data": {
      "text/html": [
       "<div>\n",
       "<style scoped>\n",
       "    .dataframe tbody tr th:only-of-type {\n",
       "        vertical-align: middle;\n",
       "    }\n",
       "\n",
       "    .dataframe tbody tr th {\n",
       "        vertical-align: top;\n",
       "    }\n",
       "\n",
       "    .dataframe thead th {\n",
       "        text-align: right;\n",
       "    }\n",
       "</style>\n",
       "<table border=\"1\" class=\"dataframe\">\n",
       "  <thead>\n",
       "    <tr style=\"text-align: right;\">\n",
       "      <th></th>\n",
       "      <th>age</th>\n",
       "      <th>age_range</th>\n",
       "      <th>age_group</th>\n",
       "    </tr>\n",
       "  </thead>\n",
       "  <tbody>\n",
       "    <tr>\n",
       "      <th>0</th>\n",
       "      <td>66</td>\n",
       "      <td>age_60</td>\n",
       "      <td>old</td>\n",
       "    </tr>\n",
       "    <tr>\n",
       "      <th>1</th>\n",
       "      <td>83</td>\n",
       "      <td>age_80</td>\n",
       "      <td>old</td>\n",
       "    </tr>\n",
       "    <tr>\n",
       "      <th>2</th>\n",
       "      <td>50</td>\n",
       "      <td>age_50</td>\n",
       "      <td>middle</td>\n",
       "    </tr>\n",
       "    <tr>\n",
       "      <th>3</th>\n",
       "      <td>1</td>\n",
       "      <td>age_0</td>\n",
       "      <td>young</td>\n",
       "    </tr>\n",
       "    <tr>\n",
       "      <th>4</th>\n",
       "      <td>28</td>\n",
       "      <td>age_20</td>\n",
       "      <td>middle</td>\n",
       "    </tr>\n",
       "    <tr>\n",
       "      <th>5</th>\n",
       "      <td>69</td>\n",
       "      <td>age_60</td>\n",
       "      <td>old</td>\n",
       "    </tr>\n",
       "    <tr>\n",
       "      <th>6</th>\n",
       "      <td>9</td>\n",
       "      <td>age_0</td>\n",
       "      <td>young</td>\n",
       "    </tr>\n",
       "    <tr>\n",
       "      <th>7</th>\n",
       "      <td>64</td>\n",
       "      <td>age_60</td>\n",
       "      <td>old</td>\n",
       "    </tr>\n",
       "    <tr>\n",
       "      <th>8</th>\n",
       "      <td>50</td>\n",
       "      <td>age_50</td>\n",
       "      <td>middle</td>\n",
       "    </tr>\n",
       "    <tr>\n",
       "      <th>9</th>\n",
       "      <td>37</td>\n",
       "      <td>age_30</td>\n",
       "      <td>middle</td>\n",
       "    </tr>\n",
       "    <tr>\n",
       "      <th>10</th>\n",
       "      <td>15</td>\n",
       "      <td>age_10</td>\n",
       "      <td>young</td>\n",
       "    </tr>\n",
       "    <tr>\n",
       "      <th>11</th>\n",
       "      <td>77</td>\n",
       "      <td>age_70</td>\n",
       "      <td>old</td>\n",
       "    </tr>\n",
       "    <tr>\n",
       "      <th>12</th>\n",
       "      <td>22</td>\n",
       "      <td>age_20</td>\n",
       "      <td>middle</td>\n",
       "    </tr>\n",
       "    <tr>\n",
       "      <th>13</th>\n",
       "      <td>98</td>\n",
       "      <td>age_90</td>\n",
       "      <td>old</td>\n",
       "    </tr>\n",
       "    <tr>\n",
       "      <th>14</th>\n",
       "      <td>4</td>\n",
       "      <td>age_0</td>\n",
       "      <td>young</td>\n",
       "    </tr>\n",
       "    <tr>\n",
       "      <th>15</th>\n",
       "      <td>73</td>\n",
       "      <td>age_70</td>\n",
       "      <td>old</td>\n",
       "    </tr>\n",
       "    <tr>\n",
       "      <th>16</th>\n",
       "      <td>70</td>\n",
       "      <td>age_70</td>\n",
       "      <td>old</td>\n",
       "    </tr>\n",
       "    <tr>\n",
       "      <th>17</th>\n",
       "      <td>4</td>\n",
       "      <td>age_0</td>\n",
       "      <td>young</td>\n",
       "    </tr>\n",
       "    <tr>\n",
       "      <th>18</th>\n",
       "      <td>68</td>\n",
       "      <td>age_60</td>\n",
       "      <td>old</td>\n",
       "    </tr>\n",
       "    <tr>\n",
       "      <th>19</th>\n",
       "      <td>89</td>\n",
       "      <td>age_80</td>\n",
       "      <td>old</td>\n",
       "    </tr>\n",
       "  </tbody>\n",
       "</table>\n",
       "</div>"
      ],
      "text/plain": [
       "    age age_range age_group\n",
       "0    66    age_60       old\n",
       "1    83    age_80       old\n",
       "2    50    age_50    middle\n",
       "3     1     age_0     young\n",
       "4    28    age_20    middle\n",
       "5    69    age_60       old\n",
       "6     9     age_0     young\n",
       "7    64    age_60       old\n",
       "8    50    age_50    middle\n",
       "9    37    age_30    middle\n",
       "10   15    age_10     young\n",
       "11   77    age_70       old\n",
       "12   22    age_20    middle\n",
       "13   98    age_90       old\n",
       "14    4     age_0     young\n",
       "15   73    age_70       old\n",
       "16   70    age_70       old\n",
       "17    4     age_0     young\n",
       "18   68    age_60       old\n",
       "19   89    age_80       old"
      ]
     },
     "execution_count": 19,
     "metadata": {},
     "output_type": "execute_result"
    }
   ],
   "source": [
    "# generate derived variable(categorical) : age_group\n",
    "# ['young', 'middle', 'old']\n",
    "# young : 0 <= age <20 / middle : 20 <= age < 60 / old : 60 <= age < 100\n",
    "df2['age_group']=pd.cut(x=df2['age'],\n",
    "                       bins=[0,20,60,100],\n",
    "                       right=False,\n",
    "                       labels=['young', 'middle', 'old'])\n",
    "df2"
   ]
  },
  {
   "cell_type": "code",
   "execution_count": 20,
   "metadata": {
    "execution": {
     "iopub.execute_input": "2021-03-31T08:49:41.781652Z",
     "iopub.status.busy": "2021-03-31T08:49:41.781652Z",
     "iopub.status.idle": "2021-03-31T08:49:41.803593Z",
     "shell.execute_reply": "2021-03-31T08:49:41.802597Z",
     "shell.execute_reply.started": "2021-03-31T08:49:41.781652Z"
    }
   },
   "outputs": [
    {
     "name": "stdout",
     "output_type": "stream",
     "text": [
      "<class 'pandas.core.frame.DataFrame'>\n",
      "RangeIndex: 20 entries, 0 to 19\n",
      "Data columns (total 3 columns):\n",
      " #   Column     Non-Null Count  Dtype   \n",
      "---  ------     --------------  -----   \n",
      " 0   age        20 non-null     int32   \n",
      " 1   age_range  20 non-null     category\n",
      " 2   age_group  20 non-null     category\n",
      "dtypes: category(2), int32(1)\n",
      "memory usage: 760.0 bytes\n"
     ]
    }
   ],
   "source": [
    "df2.info()"
   ]
  }
 ],
 "metadata": {
  "kernelspec": {
   "display_name": "Python 3",
   "language": "python",
   "name": "python3"
  },
  "language_info": {
   "codemirror_mode": {
    "name": "ipython",
    "version": 3
   },
   "file_extension": ".py",
   "mimetype": "text/x-python",
   "name": "python",
   "nbconvert_exporter": "python",
   "pygments_lexer": "ipython3",
   "version": "3.8.5"
  }
 },
 "nbformat": 4,
 "nbformat_minor": 4
}
