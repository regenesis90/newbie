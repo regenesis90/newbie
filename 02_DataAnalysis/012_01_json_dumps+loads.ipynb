{
 "cells": [
  {
   "cell_type": "markdown",
   "metadata": {},
   "source": [
    "# import"
   ]
  },
  {
   "cell_type": "code",
   "execution_count": 1,
   "metadata": {
    "execution": {
     "iopub.execute_input": "2021-03-31T08:51:16.358306Z",
     "iopub.status.busy": "2021-03-31T08:51:16.358306Z",
     "iopub.status.idle": "2021-03-31T08:51:17.659770Z",
     "shell.execute_reply": "2021-03-31T08:51:17.658772Z",
     "shell.execute_reply.started": "2021-03-31T08:51:16.358306Z"
    }
   },
   "outputs": [],
   "source": [
    "import numpy as np\n",
    "import pandas as pd\n",
    "import matplotlib.pyplot as plt\n",
    "import seaborn as sns\n",
    "\n",
    "import json #basic python module. json read/write"
   ]
  },
  {
   "cell_type": "markdown",
   "metadata": {},
   "source": [
    "# JSON\n",
    "* **JSON(JavaScript Object Notation)** : Expression method of JavaScript Object\n",
    "* string like **`{key1: value1, key2: value2, ...}`**\n",
    "* it looks like *python dict class*\n",
    "* JSON module : JSON form string <-> dict-type object\n",
    "\n",
    "* **`json.dump(obj)`** : 파이썬 객체 obj를 JSON 형식 문자열로 변환(serialize) 해서 리턴\n",
    "* **`json.dump(obj,fp)`** : 파이썬 객체 obj를 JSON 형식 문자열로 변환(serialize)해서 파일 fp에 write\n",
    "\n",
    "* **`json.load(fp)`** : 파일 fp에서 문자열(JSON) 형식을 읽어 파이썬 객체로 변환(deserialize)해서 리턴\n",
    "* **`json.load(s)`** : 문자열 s(JSON 형식)를 파이썬 객체로 변환(deserialize)해서 리턴"
   ]
  },
  {
   "cell_type": "markdown",
   "metadata": {},
   "source": [
    "## json.dumps(obj)\n",
    "* **`json.dumps(obj)`** : Serialize(직렬화). Retturn JSON-form-string changed from python object"
   ]
  },
  {
   "cell_type": "code",
   "execution_count": 3,
   "metadata": {
    "execution": {
     "iopub.execute_input": "2021-03-31T08:54:52.021774Z",
     "iopub.status.busy": "2021-03-31T08:54:52.020776Z",
     "iopub.status.idle": "2021-03-31T08:54:52.034739Z",
     "shell.execute_reply": "2021-03-31T08:54:52.033741Z",
     "shell.execute_reply.started": "2021-03-31T08:54:52.021774Z"
    }
   },
   "outputs": [
    {
     "data": {
      "text/plain": [
       "{'name': 'Andrea', 'age': 16, 'height': 164.2}"
      ]
     },
     "execution_count": 3,
     "metadata": {},
     "output_type": "execute_result"
    }
   ],
   "source": [
    "person={'name':'Andrea', 'age':16, 'height':164.2}\n",
    "person #> printed at cosole. That string is return by __repr__() method of dict class."
   ]
  },
  {
   "cell_type": "code",
   "execution_count": 4,
   "metadata": {
    "execution": {
     "iopub.execute_input": "2021-03-31T08:54:56.892200Z",
     "iopub.status.busy": "2021-03-31T08:54:56.892200Z",
     "iopub.status.idle": "2021-03-31T08:54:56.902175Z",
     "shell.execute_reply": "2021-03-31T08:54:56.901177Z",
     "shell.execute_reply.started": "2021-03-31T08:54:56.892200Z"
    }
   },
   "outputs": [
    {
     "data": {
      "text/plain": [
       "dict"
      ]
     },
     "execution_count": 4,
     "metadata": {},
     "output_type": "execute_result"
    }
   ],
   "source": [
    "type(person)"
   ]
  },
  {
   "cell_type": "code",
   "execution_count": 6,
   "metadata": {
    "execution": {
     "iopub.execute_input": "2021-03-31T08:57:14.372430Z",
     "iopub.status.busy": "2021-03-31T08:57:14.372430Z",
     "iopub.status.idle": "2021-03-31T08:57:14.393374Z",
     "shell.execute_reply": "2021-03-31T08:57:14.392376Z",
     "shell.execute_reply.started": "2021-03-31T08:57:14.372430Z"
    }
   },
   "outputs": [
    {
     "data": {
      "text/plain": [
       "'{\"name\": \"Andrea\", \"age\": 16, \"height\": 164.2}'"
      ]
     },
     "execution_count": 6,
     "metadata": {},
     "output_type": "execute_result"
    }
   ],
   "source": [
    "person_json=json.dumps(person)\n",
    "person_json #> string. it is String. not dict."
   ]
  },
  {
   "cell_type": "code",
   "execution_count": 7,
   "metadata": {
    "execution": {
     "iopub.execute_input": "2021-03-31T08:57:18.620132Z",
     "iopub.status.busy": "2021-03-31T08:57:18.620132Z",
     "iopub.status.idle": "2021-03-31T08:57:18.636089Z",
     "shell.execute_reply": "2021-03-31T08:57:18.635090Z",
     "shell.execute_reply.started": "2021-03-31T08:57:18.620132Z"
    }
   },
   "outputs": [
    {
     "data": {
      "text/plain": [
       "str"
      ]
     },
     "execution_count": 7,
     "metadata": {},
     "output_type": "execute_result"
    }
   ],
   "source": [
    "type(person_json)"
   ]
  },
  {
   "cell_type": "markdown",
   "metadata": {},
   "source": [
    "## json.load(s)\n",
    "* **`json.loads(s)`** : Deserialize(역직렬화). Return python object changed from String s(JSON type string)"
   ]
  },
  {
   "cell_type": "code",
   "execution_count": 8,
   "metadata": {
    "execution": {
     "iopub.execute_input": "2021-03-31T08:57:23.618651Z",
     "iopub.status.busy": "2021-03-31T08:57:23.618651Z",
     "iopub.status.idle": "2021-03-31T08:57:23.630619Z",
     "shell.execute_reply": "2021-03-31T08:57:23.629621Z",
     "shell.execute_reply.started": "2021-03-31T08:57:23.618651Z"
    }
   },
   "outputs": [
    {
     "data": {
      "text/plain": [
       "{'name': 'Andrea', 'age': 16, 'height': 164.2}"
      ]
     },
     "execution_count": 8,
     "metadata": {},
     "output_type": "execute_result"
    }
   ],
   "source": [
    "result=json.loads(person_json)\n",
    "result"
   ]
  },
  {
   "cell_type": "code",
   "execution_count": 9,
   "metadata": {
    "execution": {
     "iopub.execute_input": "2021-03-31T08:57:30.307972Z",
     "iopub.status.busy": "2021-03-31T08:57:30.307972Z",
     "iopub.status.idle": "2021-03-31T08:57:30.327919Z",
     "shell.execute_reply": "2021-03-31T08:57:30.326921Z",
     "shell.execute_reply.started": "2021-03-31T08:57:30.307972Z"
    }
   },
   "outputs": [
    {
     "data": {
      "text/plain": [
       "dict"
      ]
     },
     "execution_count": 9,
     "metadata": {},
     "output_type": "execute_result"
    }
   ],
   "source": [
    "type(result)"
   ]
  },
  {
   "cell_type": "markdown",
   "metadata": {},
   "source": [
    "# open .json file"
   ]
  },
  {
   "cell_type": "markdown",
   "metadata": {},
   "source": [
    "## write at .json file"
   ]
  },
  {
   "cell_type": "code",
   "execution_count": 10,
   "metadata": {
    "execution": {
     "iopub.execute_input": "2021-03-31T09:05:21.871010Z",
     "iopub.status.busy": "2021-03-31T09:05:21.870013Z",
     "iopub.status.idle": "2021-03-31T09:05:21.892316Z",
     "shell.execute_reply": "2021-03-31T09:05:21.890322Z",
     "shell.execute_reply.started": "2021-03-31T09:05:21.871010Z"
    }
   },
   "outputs": [],
   "source": [
    "# open or create 'person.json', write 'person_json' object\n",
    "with open('person.json', mode='w') as f: #file open as write mode\n",
    "    f.write(person_json) # write string at file"
   ]
  },
  {
   "cell_type": "code",
   "execution_count": 13,
   "metadata": {
    "execution": {
     "iopub.execute_input": "2021-03-31T09:10:46.878111Z",
     "iopub.status.busy": "2021-03-31T09:10:46.878111Z",
     "iopub.status.idle": "2021-03-31T09:10:46.889588Z",
     "shell.execute_reply": "2021-03-31T09:10:46.888590Z",
     "shell.execute_reply.started": "2021-03-31T09:10:46.878111Z"
    }
   },
   "outputs": [],
   "source": [
    "with open('movie.json', mode='w') as f:\n",
    "    # Python dict object\n",
    "    m1={'mid':1, 'title': 'Minari', 'genre': 'Drama'}\n",
    "    m2={'mid':2, 'title': 'Victory-ho', 'genre': 'SF'}\n",
    "    m3={'mid':3, 'title': 'Intern'}\n",
    "    # JSON type string\n",
    "    m1_s=json.dumps(m1)\n",
    "    m2_s=json.dumps(m2)\n",
    "    m3_s=json.dumps(m3)\n",
    "    # write in file\n",
    "    f.write(m1_s+'\\n')\n",
    "    f.write(m2_s+'\\n')\n",
    "    f.write(m3_s+'\\n')"
   ]
  },
  {
   "cell_type": "markdown",
   "metadata": {},
   "source": [
    "## read .json file"
   ]
  },
  {
   "cell_type": "code",
   "execution_count": 12,
   "metadata": {
    "execution": {
     "iopub.execute_input": "2021-03-31T09:07:49.611143Z",
     "iopub.status.busy": "2021-03-31T09:07:49.611143Z",
     "iopub.status.idle": "2021-03-31T09:07:49.625105Z",
     "shell.execute_reply": "2021-03-31T09:07:49.624110Z",
     "shell.execute_reply.started": "2021-03-31T09:07:49.611143Z"
    }
   },
   "outputs": [
    {
     "name": "stdout",
     "output_type": "stream",
     "text": [
      "{\"name\": \"Andrea\", \"age\": 16, \"height\": 164.2}\n",
      "{'name': 'Andrea', 'age': 16, 'height': 164.2}\n"
     ]
    }
   ],
   "source": [
    "with open('person.json', mode='r') as f: # open file as read mode\n",
    "    line=f.readline()\n",
    "    print(line)\n",
    "    obj=json.loads(line) # change read string to python object\n",
    "    print(obj)"
   ]
  },
  {
   "cell_type": "code",
   "execution_count": 14,
   "metadata": {
    "execution": {
     "iopub.execute_input": "2021-03-31T09:11:42.176445Z",
     "iopub.status.busy": "2021-03-31T09:11:42.176445Z",
     "iopub.status.idle": "2021-03-31T09:11:42.186967Z",
     "shell.execute_reply": "2021-03-31T09:11:42.186047Z",
     "shell.execute_reply.started": "2021-03-31T09:11:42.176445Z"
    }
   },
   "outputs": [
    {
     "name": "stdout",
     "output_type": "stream",
     "text": [
      "{'mid': 1, 'title': 'Minari', 'genre': 'Drama'}\n",
      "{'mid': 2, 'title': 'Victory-ho', 'genre': 'SF'}\n",
      "{'mid': 3, 'title': 'Intern'}\n"
     ]
    }
   ],
   "source": [
    "with open('movie.json', mode='r') as f:\n",
    "    data=[]\n",
    "    for line in f:\n",
    "        obj=json.loads(line) #deserialize. change string to python object\n",
    "        print(obj)\n",
    "        data.append(obj)\n",
    "        # data=[json.loads(line) for line in f]"
   ]
  },
  {
   "cell_type": "code",
   "execution_count": 16,
   "metadata": {
    "execution": {
     "iopub.execute_input": "2021-03-31T09:11:52.245586Z",
     "iopub.status.busy": "2021-03-31T09:11:52.245586Z",
     "iopub.status.idle": "2021-03-31T09:11:52.250572Z",
     "shell.execute_reply": "2021-03-31T09:11:52.250572Z",
     "shell.execute_reply.started": "2021-03-31T09:11:52.245586Z"
    }
   },
   "outputs": [
    {
     "data": {
      "text/plain": [
       "[{'mid': 1, 'title': 'Minari', 'genre': 'Drama'},\n",
       " {'mid': 2, 'title': 'Victory-ho', 'genre': 'SF'},\n",
       " {'mid': 3, 'title': 'Intern'}]"
      ]
     },
     "execution_count": 16,
     "metadata": {},
     "output_type": "execute_result"
    }
   ],
   "source": [
    "data"
   ]
  },
  {
   "cell_type": "code",
   "execution_count": 17,
   "metadata": {
    "execution": {
     "iopub.execute_input": "2021-03-31T09:11:58.810094Z",
     "iopub.status.busy": "2021-03-31T09:11:58.810094Z",
     "iopub.status.idle": "2021-03-31T09:11:58.839016Z",
     "shell.execute_reply": "2021-03-31T09:11:58.838020Z",
     "shell.execute_reply.started": "2021-03-31T09:11:58.810094Z"
    }
   },
   "outputs": [
    {
     "data": {
      "text/html": [
       "<div>\n",
       "<style scoped>\n",
       "    .dataframe tbody tr th:only-of-type {\n",
       "        vertical-align: middle;\n",
       "    }\n",
       "\n",
       "    .dataframe tbody tr th {\n",
       "        vertical-align: top;\n",
       "    }\n",
       "\n",
       "    .dataframe thead th {\n",
       "        text-align: right;\n",
       "    }\n",
       "</style>\n",
       "<table border=\"1\" class=\"dataframe\">\n",
       "  <thead>\n",
       "    <tr style=\"text-align: right;\">\n",
       "      <th></th>\n",
       "      <th>mid</th>\n",
       "      <th>title</th>\n",
       "      <th>genre</th>\n",
       "    </tr>\n",
       "  </thead>\n",
       "  <tbody>\n",
       "    <tr>\n",
       "      <th>0</th>\n",
       "      <td>1</td>\n",
       "      <td>Minari</td>\n",
       "      <td>Drama</td>\n",
       "    </tr>\n",
       "    <tr>\n",
       "      <th>1</th>\n",
       "      <td>2</td>\n",
       "      <td>Victory-ho</td>\n",
       "      <td>SF</td>\n",
       "    </tr>\n",
       "    <tr>\n",
       "      <th>2</th>\n",
       "      <td>3</td>\n",
       "      <td>Intern</td>\n",
       "      <td>NaN</td>\n",
       "    </tr>\n",
       "  </tbody>\n",
       "</table>\n",
       "</div>"
      ],
      "text/plain": [
       "   mid       title  genre\n",
       "0    1      Minari  Drama\n",
       "1    2  Victory-ho     SF\n",
       "2    3      Intern    NaN"
      ]
     },
     "execution_count": 17,
     "metadata": {},
     "output_type": "execute_result"
    }
   ],
   "source": [
    "df=pd.DataFrame(data)\n",
    "df"
   ]
  }
 ],
 "metadata": {
  "kernelspec": {
   "display_name": "Python 3",
   "language": "python",
   "name": "python3"
  },
  "language_info": {
   "codemirror_mode": {
    "name": "ipython",
    "version": 3
   },
   "file_extension": ".py",
   "mimetype": "text/x-python",
   "name": "python",
   "nbconvert_exporter": "python",
   "pygments_lexer": "ipython3",
   "version": "3.8.5"
  }
 },
 "nbformat": 4,
 "nbformat_minor": 4
}
